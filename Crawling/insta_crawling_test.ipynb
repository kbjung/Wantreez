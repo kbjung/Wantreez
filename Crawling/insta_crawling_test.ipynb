{
 "cells": [
  {
   "cell_type": "code",
   "execution_count": 1,
   "metadata": {},
   "outputs": [],
   "source": [
    "from bs4 import BeautifulSoup as bs\n",
    "import time\n",
    "from selenium import webdriver\n",
    "import pandas as pd\n",
    "from datetime import datetime"
   ]
  },
  {
   "cell_type": "markdown",
   "metadata": {},
   "source": [
    "# 팔로워 수 크롤링"
   ]
  },
  {
   "cell_type": "code",
   "execution_count": 55,
   "metadata": {},
   "outputs": [
    {
     "name": "stderr",
     "output_type": "stream",
     "text": [
      "<ipython-input-55-610dd7ff59c8>:9: DeprecationWarning: find_element_by_xpath is deprecated. Please use find_element(by=By.XPATH, value=xpath) instead\n",
      "  element_id = driver.find_element_by_xpath('//*[@id=\"loginForm\"]/div/div[1]/div/label/input')\n",
      "<ipython-input-55-610dd7ff59c8>:11: DeprecationWarning: find_element_by_xpath is deprecated. Please use find_element(by=By.XPATH, value=xpath) instead\n",
      "  element_password = driver.find_element_by_xpath('//*[@id=\"loginForm\"]/div/div[2]/div/label/input')\n",
      "<ipython-input-55-610dd7ff59c8>:16: DeprecationWarning: find_element_by_css_selector is deprecated. Please use find_element(by=By.CSS_SELECTOR, value=css_selector) instead\n",
      "  driver.find_element_by_css_selector('.sqdOP.L3NKy.y3zKF').click()\n"
     ]
    }
   ],
   "source": [
    "# 로그인 페이지 접속\n",
    "driver = webdriver.Chrome('chromedriver')\n",
    "driver.get(\"https://www.instagram.com/accounts/login/\")\n",
    "time.sleep(3)\n",
    "\n",
    "# 로그인 정보\n",
    "username = 'gyeonggi_korea'\n",
    "password = 'zhsxpscm123!'\n",
    "\n",
    "element_id = driver.find_element_by_xpath('//*[@id=\"loginForm\"]/div/div[1]/div/label/input')\n",
    "element_id.send_keys(username)\n",
    "element_password = driver.find_element_by_xpath('//*[@id=\"loginForm\"]/div/div[2]/div/label/input')\n",
    "element_password.send_keys(password)\n",
    "time.sleep(1.5)\n",
    "\n",
    "##로그인버튼 클릭\n",
    "driver.find_element_by_css_selector('.sqdOP.L3NKy.y3zKF').click()\n",
    "time.sleep(3)"
   ]
  },
  {
   "cell_type": "code",
   "execution_count": 56,
   "metadata": {},
   "outputs": [
    {
     "data": {
      "text/plain": [
       "<title>gyeonggi_korea(경기도)(@gyeonggi_korea) • Instagram 사진 및 동영상</title>"
      ]
     },
     "execution_count": 56,
     "metadata": {},
     "output_type": "execute_result"
    }
   ],
   "source": [
    "url = 'https://www.instagram.com/gyeonggi_korea/'\n",
    "# webdriver 로드\n",
    "driver.get(url)\n",
    "time.sleep(3)\n",
    "\n",
    "# 페이지 크롤링\n",
    "soup = bs(driver.page_source, 'lxml')\n",
    "soup.title"
   ]
  },
  {
   "cell_type": "code",
   "execution_count": 57,
   "metadata": {},
   "outputs": [
    {
     "name": "stdout",
     "output_type": "stream",
     "text": [
      "수집한 링크의 개수 :  6\n",
      "수집한 링크 주소\n",
      "['/p/CarTSR8hpjk/', '/p/CamCGL3LSHX/', '/p/Cag862TrWuX/', '/p/CaWWan2BoZc/', '/p/CaRgX_svAjY/', '/p/CaG5pIbv7MV/']\n"
     ]
    }
   ],
   "source": [
    "post_link = []\n",
    "div = soup.find_all('div', class_=\"Nnq7C weEfm\")\n",
    "\n",
    "# 게시글 줄 순서(1번째부터 몇 번째 줄까지 가져올 것인지)\n",
    "number_of_line = 2\n",
    "# 게시글 링크 3개씩 가져오기\n",
    "for row in range(number_of_line):\n",
    "    a_tags = div[row].find_all('a')\n",
    "    for i in range(3):\n",
    "        link = a_tags[i].attrs['href']\n",
    "        post_link.append(link)\n",
    "# 수집한 링크 개수 확인\n",
    "print(\"수집한 링크의 개수 : \", len(post_link))\n",
    "print(\"수집한 링크 주소\")\n",
    "print(post_link)"
   ]
  },
  {
   "cell_type": "code",
   "execution_count": 58,
   "metadata": {},
   "outputs": [
    {
     "data": {
      "text/plain": [
       "['https://www.instagram.com/p/CarTSR8hpjk/',\n",
       " 'https://www.instagram.com/p/CamCGL3LSHX/',\n",
       " 'https://www.instagram.com/p/Cag862TrWuX/',\n",
       " 'https://www.instagram.com/p/CaWWan2BoZc/',\n",
       " 'https://www.instagram.com/p/CaRgX_svAjY/',\n",
       " 'https://www.instagram.com/p/CaG5pIbv7MV/']"
      ]
     },
     "execution_count": 58,
     "metadata": {},
     "output_type": "execute_result"
    }
   ],
   "source": [
    "link_list = []\n",
    "num_of_post = len(post_link)\n",
    "for i in (range(num_of_post)):\n",
    "    link_list.append(\"https://www.instagram.com\" + post_link[i])\n",
    "link_list"
   ]
  },
  {
   "cell_type": "code",
   "execution_count": 59,
   "metadata": {},
   "outputs": [
    {
     "name": "stdout",
     "output_type": "stream",
     "text": [
      "Instagram의 gyeonggi_korea(경기도)님: “Have you heard? (whispering)😝\n",
      "Korea’s first-ever sand museum café, \n",
      "Café 8794 is right here in Gyeonggi Province’s Yongin City\n",
      "\n",
      "It’s a…”\n"
     ]
    }
   ],
   "source": [
    "for i in range(1):\n",
    "    # 게시물 타이틀 수집\n",
    "    url = link_list[i]\n",
    "    driver.get(url)\n",
    "    driver.implicitly_wait(3)\n",
    "    soup = bs(driver.page_source, 'lxml')\n",
    "    print(soup.title.text)"
   ]
  },
  {
   "cell_type": "code",
   "execution_count": 60,
   "metadata": {},
   "outputs": [
    {
     "name": "stderr",
     "output_type": "stream",
     "text": [
      "<ipython-input-60-3f02a8013443>:2: DeprecationWarning: find_element_by_css_selector is deprecated. Please use find_element(by=By.CSS_SELECTOR, value=css_selector) instead\n",
      "  test1 = driver.find_element_by_css_selector('section.fmD5w')\n",
      "C:\\anaconda\\lib\\site-packages\\selenium\\webdriver\\remote\\webelement.py:484: UserWarning: find_element_by_css_selector is deprecated. Please use find_element(by=By.CSS_SELECTOR, value=css_selector) instead\n",
      "  warnings.warn(\"find_element_by_css_selector is deprecated. Please use find_element(by=By.CSS_SELECTOR, value=css_selector) instead\")\n"
     ]
    }
   ],
   "source": [
    "# 인사이트 버튼 클릭\n",
    "test1 = driver.find_element_by_css_selector('section.fmD5w')\n",
    "test2 = test1.find_element_by_css_selector('button.sqdOP.yWX7d.y3zKF')\n",
    "test2.click()"
   ]
  },
  {
   "cell_type": "code",
   "execution_count": 61,
   "metadata": {},
   "outputs": [
    {
     "name": "stderr",
     "output_type": "stream",
     "text": [
      "<ipython-input-61-4235352e2c89>:2: DeprecationWarning: find_elements_by_xpath is deprecated. Please use find_elements(by=By.XPATH, value=xpath) instead\n",
      "  temp = driver.find_elements_by_xpath('/html/body/div[8]/div/div/div/div[2]/div/div/div[2]/div/div/div[3]/div/div/div/div/div')\n"
     ]
    },
    {
     "data": {
      "text/plain": [
       "4"
      ]
     },
     "execution_count": 61,
     "metadata": {},
     "output_type": "execute_result"
    }
   ],
   "source": [
    "# 좋아요, 댓글, 공유 수 정보\n",
    "temp = driver.find_elements_by_xpath('/html/body/div[8]/div/div/div/div[2]/div/div/div[2]/div/div/div[3]/div/div/div/div/div')\n",
    "len(temp)"
   ]
  },
  {
   "cell_type": "code",
   "execution_count": 62,
   "metadata": {},
   "outputs": [
    {
     "data": {
      "text/plain": [
       "'21'"
      ]
     },
     "execution_count": 62,
     "metadata": {},
     "output_type": "execute_result"
    }
   ],
   "source": [
    "# 좋아요 수\n",
    "temp[0].text"
   ]
  },
  {
   "cell_type": "code",
   "execution_count": 63,
   "metadata": {},
   "outputs": [
    {
     "data": {
      "text/plain": [
       "'1'"
      ]
     },
     "execution_count": 63,
     "metadata": {},
     "output_type": "execute_result"
    }
   ],
   "source": [
    "# 댓글 수\n",
    "temp[1].text"
   ]
  },
  {
   "cell_type": "code",
   "execution_count": 64,
   "metadata": {},
   "outputs": [
    {
     "data": {
      "text/plain": [
       "'0'"
      ]
     },
     "execution_count": 64,
     "metadata": {},
     "output_type": "execute_result"
    }
   ],
   "source": [
    "# 공유 수\n",
    "temp[2].text"
   ]
  },
  {
   "cell_type": "code",
   "execution_count": 65,
   "metadata": {},
   "outputs": [
    {
     "name": "stderr",
     "output_type": "stream",
     "text": [
      "<ipython-input-65-1ee1dc9314e2>:2: DeprecationWarning: find_element_by_xpath is deprecated. Please use find_element(by=By.XPATH, value=xpath) instead\n",
      "  temp = driver.find_element_by_xpath('/html/body/div[8]/div/div/div/div[2]/div/div/div[2]/div/div/div[7]/div/div/div/div[2]/div/span[1]')\n"
     ]
    },
    {
     "data": {
      "text/plain": [
       "'145'"
      ]
     },
     "execution_count": 65,
     "metadata": {},
     "output_type": "execute_result"
    }
   ],
   "source": [
    "# 조회수\n",
    "temp = driver.find_element_by_xpath('/html/body/div[8]/div/div/div/div[2]/div/div/div[2]/div/div/div[7]/div/div/div/div[2]/div/span[1]')\n",
    "temp.text"
   ]
  },
  {
   "cell_type": "code",
   "execution_count": 66,
   "metadata": {},
   "outputs": [
    {
     "name": "stdout",
     "output_type": "stream",
     "text": [
      "Instagram의 gyeonggi_korea(경기도)님: “A complete guide to unique cafés in Yongin City of Gyeonggi Province\n",
      "\n",
      "📢Real Garden K\n",
      "Feel like having a ‘forest and phytoncide’ day?…”\n"
     ]
    }
   ],
   "source": [
    "# 2번째 페이지로 이동\n",
    "url = link_list[1]\n",
    "driver.get(url)\n",
    "driver.implicitly_wait(3)\n",
    "soup = bs(driver.page_source, 'lxml')\n",
    "print(soup.title.text)"
   ]
  },
  {
   "cell_type": "code",
   "execution_count": 77,
   "metadata": {},
   "outputs": [
    {
     "data": {
      "text/plain": [
       "'2022-03-02'"
      ]
     },
     "execution_count": 77,
     "metadata": {},
     "output_type": "execute_result"
    }
   ],
   "source": [
    "# 날짜 수집\n",
    "raw_date = soup.find('time').get('datetime')\n",
    "raw_date[:10]"
   ]
  },
  {
   "cell_type": "code",
   "execution_count": 67,
   "metadata": {},
   "outputs": [
    {
     "name": "stderr",
     "output_type": "stream",
     "text": [
      "<ipython-input-67-3f02a8013443>:2: DeprecationWarning: find_element_by_css_selector is deprecated. Please use find_element(by=By.CSS_SELECTOR, value=css_selector) instead\n",
      "  test1 = driver.find_element_by_css_selector('section.fmD5w')\n",
      "C:\\anaconda\\lib\\site-packages\\selenium\\webdriver\\remote\\webelement.py:484: UserWarning: find_element_by_css_selector is deprecated. Please use find_element(by=By.CSS_SELECTOR, value=css_selector) instead\n",
      "  warnings.warn(\"find_element_by_css_selector is deprecated. Please use find_element(by=By.CSS_SELECTOR, value=css_selector) instead\")\n"
     ]
    }
   ],
   "source": [
    "# 인사이트 버튼 클릭\n",
    "test1 = driver.find_element_by_css_selector('section.fmD5w')\n",
    "test2 = test1.find_element_by_css_selector('button.sqdOP.yWX7d.y3zKF')\n",
    "test2.click()"
   ]
  },
  {
   "cell_type": "code",
   "execution_count": 68,
   "metadata": {},
   "outputs": [
    {
     "name": "stderr",
     "output_type": "stream",
     "text": [
      "<ipython-input-68-b4ba2b4ce25d>:3: DeprecationWarning: find_elements_by_xpath is deprecated. Please use find_elements(by=By.XPATH, value=xpath) instead\n",
      "  temp = driver.find_elements_by_xpath('/html/body/div[8]/div/div/div/div[2]/div/div/div[2]/div/div/div[3]/div/div/div/div/div')\n"
     ]
    },
    {
     "data": {
      "text/plain": [
       "4"
      ]
     },
     "execution_count": 68,
     "metadata": {},
     "output_type": "execute_result"
    }
   ],
   "source": [
    "# 좋아요, 댓글, 공유 수 정보\n",
    "driver.implicitly_wait(3)\n",
    "temp = driver.find_elements_by_xpath('/html/body/div[8]/div/div/div/div[2]/div/div/div[2]/div/div/div[3]/div/div/div/div/div')\n",
    "len(temp)"
   ]
  },
  {
   "cell_type": "code",
   "execution_count": 69,
   "metadata": {},
   "outputs": [
    {
     "name": "stdout",
     "output_type": "stream",
     "text": [
      "27\n",
      "0\n",
      "0\n"
     ]
    }
   ],
   "source": [
    "print(temp[0].text)\n",
    "print(temp[1].text)\n",
    "print(temp[2].text)"
   ]
  },
  {
   "cell_type": "code",
   "execution_count": 70,
   "metadata": {},
   "outputs": [
    {
     "name": "stderr",
     "output_type": "stream",
     "text": [
      "<ipython-input-70-1ee1dc9314e2>:2: DeprecationWarning: find_element_by_xpath is deprecated. Please use find_element(by=By.XPATH, value=xpath) instead\n",
      "  temp = driver.find_element_by_xpath('/html/body/div[8]/div/div/div/div[2]/div/div/div[2]/div/div/div[7]/div/div/div/div[2]/div/span[1]')\n"
     ]
    },
    {
     "data": {
      "text/plain": [
       "'155'"
      ]
     },
     "execution_count": 70,
     "metadata": {},
     "output_type": "execute_result"
    }
   ],
   "source": [
    "# 조회수\n",
    "temp = driver.find_element_by_xpath('/html/body/div[8]/div/div/div/div[2]/div/div/div[2]/div/div/div[7]/div/div/div/div[2]/div/span[1]')\n",
    "temp.text"
   ]
  },
  {
   "cell_type": "code",
   "execution_count": 129,
   "metadata": {},
   "outputs": [
    {
     "name": "stderr",
     "output_type": "stream",
     "text": [
      "<ipython-input-129-9b5bda81f227>:10: DeprecationWarning: find_element_by_xpath is deprecated. Please use find_element(by=By.XPATH, value=xpath) instead\n",
      "  element_id = driver.find_element_by_xpath('//*[@id=\"loginForm\"]/div/div[1]/div/label/input')\n",
      "<ipython-input-129-9b5bda81f227>:12: DeprecationWarning: find_element_by_xpath is deprecated. Please use find_element(by=By.XPATH, value=xpath) instead\n",
      "  element_password = driver.find_element_by_xpath('//*[@id=\"loginForm\"]/div/div[2]/div/label/input')\n",
      "<ipython-input-129-9b5bda81f227>:17: DeprecationWarning: find_element_by_css_selector is deprecated. Please use find_element(by=By.CSS_SELECTOR, value=css_selector) instead\n",
      "  driver.find_element_by_css_selector('.sqdOP.L3NKy.y3zKF').click()\n"
     ]
    }
   ],
   "source": [
    "# 로그인 페이지 접속\n",
    "driver = webdriver.Chrome('chromedriver')\n",
    "driver.get(\"https://www.instagram.com/accounts/login/\")\n",
    "time.sleep(3)\n",
    "\n",
    "# 로그인 정보\n",
    "username = 'gyeonggi_korea'\n",
    "password = 'zhsxpscm123!'\n",
    "\n",
    "element_id = driver.find_element_by_xpath('//*[@id=\"loginForm\"]/div/div[1]/div/label/input')\n",
    "element_id.send_keys(username)\n",
    "element_password = driver.find_element_by_xpath('//*[@id=\"loginForm\"]/div/div[2]/div/label/input')\n",
    "element_password.send_keys(password)\n",
    "time.sleep(1.5)\n",
    "\n",
    "##로그인버튼 클릭\n",
    "driver.find_element_by_css_selector('.sqdOP.L3NKy.y3zKF').click()\n",
    "time.sleep(3)\n",
    "\n",
    "# 크롤링할 페이지 접속\n",
    "url = 'https://www.instagram.com/gyeonggi_korea/'\n",
    "# webdriver 로드\n",
    "driver.get(url)\n",
    "driver.implicitly_wait(5)"
   ]
  },
  {
   "cell_type": "code",
   "execution_count": 130,
   "metadata": {},
   "outputs": [
    {
     "data": {
      "text/plain": [
       "'gyeonggi_korea(경기도)(@gyeonggi_korea) • Instagram 사진 및 동영상'"
      ]
     },
     "execution_count": 130,
     "metadata": {},
     "output_type": "execute_result"
    }
   ],
   "source": [
    "# 페이지 크롤링\n",
    "driver.implicitly_wait(3)\n",
    "soup = bs(driver.page_source, 'lxml')\n",
    "soup.title.text"
   ]
  },
  {
   "cell_type": "code",
   "execution_count": 131,
   "metadata": {},
   "outputs": [
    {
     "name": "stdout",
     "output_type": "stream",
     "text": [
      "수집한 링크의 개수 :  36\n",
      "수집한 링크 주소\n",
      "['https://www.instagram.com/p/CarTSR8hpjk/', 'https://www.instagram.com/p/CamCGL3LSHX/', 'https://www.instagram.com/p/Cag862TrWuX/', 'https://www.instagram.com/p/CaWWan2BoZc/', 'https://www.instagram.com/p/CaRgX_svAjY/', 'https://www.instagram.com/p/CaG5pIbv7MV/', 'https://www.instagram.com/p/CZ9rGIHP423/', 'https://www.instagram.com/p/CZx-sLRPoq_/', 'https://www.instagram.com/p/CZs1BDAqmYF/', 'https://www.instagram.com/p/CZmf9rhPnGY/', 'https://www.instagram.com/p/CZjB2LzP7mn/', 'https://www.instagram.com/p/CZMv78CvpIk/', 'https://www.instagram.com/p/CZL99vIDzxe/', 'https://www.instagram.com/p/CZGj2IOvVIf/', 'https://www.instagram.com/p/CY8HnCJP5c1/', 'https://www.instagram.com/p/CY07xfKF0wg/', 'https://www.instagram.com/p/CYt6dZPv1vn/', 'https://www.instagram.com/p/CYqqLSpPg0L/', 'https://www.instagram.com/p/CYa1V4Yv1cp/', 'https://www.instagram.com/p/CYYeBR9v8_1/', 'https://www.instagram.com/p/CYV33FsPLHL/', 'https://www.instagram.com/p/CYK_OtcFGPW/', 'https://www.instagram.com/p/CX3LqXUP6Il/', 'https://www.instagram.com/p/CXiWaldvjZO/', 'https://www.instagram.com/p/CXc8Ky3PDJq/', 'https://www.instagram.com/p/CXYYA2MveKr/', 'https://www.instagram.com/p/CXN9NvgPmaJ/', 'https://www.instagram.com/p/CXIgSTEvLL9/', 'https://www.instagram.com/p/CXAZsFIP-gY/', 'https://www.instagram.com/p/CW2hHz7P6KR/', 'https://www.instagram.com/p/CWu4JUbvosI/', 'https://www.instagram.com/p/CWpev6vPaxH/', 'https://www.instagram.com/p/CWZ7h8Ev14H/', 'https://www.instagram.com/p/CWUtq3jvQkM/', 'https://www.instagram.com/p/CWHvcZUvpct/', 'https://www.instagram.com/p/CWC393Ovect/']\n"
     ]
    }
   ],
   "source": [
    "# 페이지 스크롤 횟수\n",
    "num_scrolldown = 4\n",
    "\n",
    "# 페이지 링크 크롤링\n",
    "raw_post_link_list = []\n",
    "for i in range(num_scrolldown):\n",
    "    # 현재 페이지 크롤링\n",
    "    driver.implicitly_wait(3)\n",
    "    soup = bs(driver.page_source, 'lxml')\n",
    "\n",
    "    # 게시물 링크 주소 수집\n",
    "    row_post = soup.find_all('div', \"Nnq7C weEfm\")\n",
    "\n",
    "    # 게시글 링크 3개씩 가져오기\n",
    "    for row in row_post:\n",
    "        # 한줄(row_post)에 3개의 게시글(a 태그) 존재\n",
    "        a_tags = row.find_all('a')\n",
    "        for one in a_tags:\n",
    "            link = one.attrs['href']\n",
    "            raw_post_link_list.append(\"https://www.instagram.com\" + link)\n",
    "\n",
    "    # 페이지 스크롤 다운\n",
    "    driver.execute_script(\"window.scrollTo(0, document.body.scrollHeight);\")\n",
    "    time.sleep(1)\n",
    "\n",
    "# 수집한 링크 중 중복 링크 제거\n",
    "post_link_list = []\n",
    "for link in raw_post_link_list:\n",
    "    if link not in post_link_list:\n",
    "        post_link_list.append(link)\n",
    "\n",
    "# 수집한 링크 개수 확인\n",
    "print(\"수집한 링크의 개수 : \", len(post_link_list))\n",
    "print(\"수집한 링크 주소\")\n",
    "print(post_link_list)"
   ]
  },
  {
   "cell_type": "code",
   "execution_count": 136,
   "metadata": {},
   "outputs": [
    {
     "name": "stderr",
     "output_type": "stream",
     "text": [
      "<ipython-input-136-ca570142c22a>:20: DeprecationWarning: find_element_by_css_selector is deprecated. Please use find_element(by=By.CSS_SELECTOR, value=css_selector) instead\n",
      "  section = driver.find_element_by_css_selector('section.fmD5w')\n",
      "C:\\anaconda\\lib\\site-packages\\selenium\\webdriver\\remote\\webelement.py:484: UserWarning: find_element_by_css_selector is deprecated. Please use find_element(by=By.CSS_SELECTOR, value=css_selector) instead\n",
      "  warnings.warn(\"find_element_by_css_selector is deprecated. Please use find_element(by=By.CSS_SELECTOR, value=css_selector) instead\")\n",
      "<ipython-input-136-ca570142c22a>:27: DeprecationWarning: find_elements_by_xpath is deprecated. Please use find_elements(by=By.XPATH, value=xpath) instead\n",
      "  temp = driver.find_elements_by_xpath('/html/body/div[8]/div/div/div/div[2]/div/div/div[2]/div/div/div[3]/div/div/div/div/div')\n",
      "<ipython-input-136-ca570142c22a>:34: DeprecationWarning: find_element_by_xpath is deprecated. Please use find_element(by=By.XPATH, value=xpath) instead\n",
      "  temp = driver.find_element_by_xpath('/html/body/div[8]/div/div/div/div[2]/div/div/div[2]/div/div/div[7]/div/div/div/div[2]/div/span[1]')\n"
     ]
    },
    {
     "name": "stdout",
     "output_type": "stream",
     "text": [
      "날짜 리스트 원소 수 :  36\n",
      "제목 리스트 원소 수 :  36\n",
      "조회수 리스트 원소 수 :  36\n",
      "좋아요 수 리스트 원소 수 :  36\n",
      "댓글 수 리스트 원소 수 :  36\n",
      "공유 수 리스트 원소 수 :  36\n"
     ]
    }
   ],
   "source": [
    "# 크롤링할 게시글 수 \n",
    "num_page = 6\n",
    "\n",
    "date_list = []\n",
    "title_list = []\n",
    "num_view_list = []\n",
    "num_like_list = []\n",
    "num_comment_list = []\n",
    "num_share_list = []\n",
    "\n",
    "for link in post_link_list[:num_page]:\n",
    "    # 게시물 타이틀 수집\n",
    "    driver.get(link)\n",
    "    time.sleep(3)\n",
    "    driver.implicitly_wait(3)\n",
    "    soup = bs(driver.page_source, 'lxml')\n",
    "    title = soup.title.text[34:]\n",
    "\n",
    "    # 날짜 수집\n",
    "    date = soup.find('time').get('datetime')[:10]\n",
    "\n",
    "    # 인사이트 보기 버튼 클릭\n",
    "    section = driver.find_element_by_css_selector('section.fmD5w')\n",
    "    button = section.find_element_by_css_selector('button.sqdOP.yWX7d.y3zKF')\n",
    "    button.click()\n",
    "    time.sleep(2)\n",
    "    driver.implicitly_wait(3)\n",
    "\n",
    "    # 좋아요, 댓글, 공유 수 정보\n",
    "    temp = driver.find_elements_by_xpath('/html/body/div[8]/div/div/div/div[2]/div/div/div[2]/div/div/div[3]/div/div/div/div/div')\n",
    "\n",
    "    num_like = int(temp[0].text)\n",
    "    num_comment = int(temp[1].text)\n",
    "    num_share = int(temp[2].text)\n",
    "\n",
    "    # 조회수\n",
    "    temp = driver.find_element_by_xpath('/html/body/div[8]/div/div/div/div[2]/div/div/div[2]/div/div/div[7]/div/div/div/div[2]/div/span[1]')\n",
    "    if ',' in temp.text:\n",
    "        temp = temp.text.replace(',','')\n",
    "        num_view = int(temp)\n",
    "    else:\n",
    "        num_view = int(temp.text)\n",
    "\n",
    "\n",
    "    # 정보를 리스트에 저장\n",
    "    date_list.append(date)\n",
    "    title_list.append(title)\n",
    "    num_view_list.append(num_view)\n",
    "    num_like_list.append(num_like)\n",
    "    num_comment_list.append(num_comment)\n",
    "    num_share_list.append(num_share)\n",
    "\n",
    "# 수집한 자료 확인\n",
    "print('날짜 리스트 원소 수 : ', len(date_list))\n",
    "print('제목 리스트 원소 수 : ', len(title_list))\n",
    "print('조회수 리스트 원소 수 : ', len(num_view_list))\n",
    "print('좋아요 수 리스트 원소 수 : ', len(num_like_list))\n",
    "print('댓글 수 리스트 원소 수 : ', len(num_comment_list))\n",
    "print('공유 수 리스트 원소 수 : ', len(num_share_list))"
   ]
  },
  {
   "cell_type": "code",
   "execution_count": 137,
   "metadata": {},
   "outputs": [
    {
     "data": {
      "text/html": [
       "<div>\n",
       "<style scoped>\n",
       "    .dataframe tbody tr th:only-of-type {\n",
       "        vertical-align: middle;\n",
       "    }\n",
       "\n",
       "    .dataframe tbody tr th {\n",
       "        vertical-align: top;\n",
       "    }\n",
       "\n",
       "    .dataframe thead th {\n",
       "        text-align: right;\n",
       "    }\n",
       "</style>\n",
       "<table border=\"1\" class=\"dataframe\">\n",
       "  <thead>\n",
       "    <tr style=\"text-align: right;\">\n",
       "      <th></th>\n",
       "      <th>날짜</th>\n",
       "      <th>제목</th>\n",
       "      <th>조회수</th>\n",
       "      <th>좋아요_수</th>\n",
       "      <th>댓글수</th>\n",
       "      <th>공유수</th>\n",
       "    </tr>\n",
       "  </thead>\n",
       "  <tbody>\n",
       "    <tr>\n",
       "      <th>0</th>\n",
       "      <td>2022-03-04</td>\n",
       "      <td>Instagram의 gyeonggi_korea(경기도)님: “Have you hea...</td>\n",
       "      <td>145</td>\n",
       "      <td>21</td>\n",
       "      <td>1</td>\n",
       "      <td>0</td>\n",
       "    </tr>\n",
       "    <tr>\n",
       "      <th>1</th>\n",
       "      <td>2022-03-02</td>\n",
       "      <td>Instagram의 gyeonggi_korea(경기도)님: “A complete g...</td>\n",
       "      <td>155</td>\n",
       "      <td>27</td>\n",
       "      <td>0</td>\n",
       "      <td>0</td>\n",
       "    </tr>\n",
       "    <tr>\n",
       "      <th>2</th>\n",
       "      <td>2022-02-28</td>\n",
       "      <td>Instagram의 gyeonggi_korea(경기도)님: “Mystical con...</td>\n",
       "      <td>124</td>\n",
       "      <td>24</td>\n",
       "      <td>0</td>\n",
       "      <td>0</td>\n",
       "    </tr>\n",
       "    <tr>\n",
       "      <th>3</th>\n",
       "      <td>2022-02-24</td>\n",
       "      <td>Instagram의 gyeonggi_korea(경기도)님: “Shall we tak...</td>\n",
       "      <td>151</td>\n",
       "      <td>26</td>\n",
       "      <td>0</td>\n",
       "      <td>0</td>\n",
       "    </tr>\n",
       "    <tr>\n",
       "      <th>4</th>\n",
       "      <td>2022-02-22</td>\n",
       "      <td>Instagram의 gyeonggi_korea(경기도)님: “Invigorating...</td>\n",
       "      <td>145</td>\n",
       "      <td>29</td>\n",
       "      <td>2</td>\n",
       "      <td>2</td>\n",
       "    </tr>\n",
       "    <tr>\n",
       "      <th>5</th>\n",
       "      <td>2022-02-18</td>\n",
       "      <td>Instagram의 gyeonggi_korea(경기도)님: “Guri City of...</td>\n",
       "      <td>176</td>\n",
       "      <td>21</td>\n",
       "      <td>0</td>\n",
       "      <td>0</td>\n",
       "    </tr>\n",
       "    <tr>\n",
       "      <th>6</th>\n",
       "      <td>2022-02-14</td>\n",
       "      <td>Instagram의 gyeonggi_korea(경기도)님: “Siheung City...</td>\n",
       "      <td>164</td>\n",
       "      <td>27</td>\n",
       "      <td>0</td>\n",
       "      <td>0</td>\n",
       "    </tr>\n",
       "    <tr>\n",
       "      <th>7</th>\n",
       "      <td>2022-02-10</td>\n",
       "      <td>Instagram의 gyeonggi_korea(경기도)님: “A sight-fill...</td>\n",
       "      <td>168</td>\n",
       "      <td>33</td>\n",
       "      <td>4</td>\n",
       "      <td>0</td>\n",
       "    </tr>\n",
       "    <tr>\n",
       "      <th>8</th>\n",
       "      <td>2022-02-08</td>\n",
       "      <td>Instagram의 gyeonggi_korea(경기도)님: “💚Information...</td>\n",
       "      <td>169</td>\n",
       "      <td>29</td>\n",
       "      <td>2</td>\n",
       "      <td>0</td>\n",
       "    </tr>\n",
       "    <tr>\n",
       "      <th>9</th>\n",
       "      <td>2022-02-05</td>\n",
       "      <td>Instagram의 gyeonggi_korea(경기도)님: “Introducing ...</td>\n",
       "      <td>218</td>\n",
       "      <td>36</td>\n",
       "      <td>0</td>\n",
       "      <td>0</td>\n",
       "    </tr>\n",
       "    <tr>\n",
       "      <th>10</th>\n",
       "      <td>2022-02-04</td>\n",
       "      <td>Instagram의 gyeonggi_korea(경기도)님: “Haven’t you ...</td>\n",
       "      <td>153</td>\n",
       "      <td>34</td>\n",
       "      <td>0</td>\n",
       "      <td>0</td>\n",
       "    </tr>\n",
       "    <tr>\n",
       "      <th>11</th>\n",
       "      <td>2022-01-26</td>\n",
       "      <td>Instagram의 gyeonggi_korea(경기도)님: “An essential...</td>\n",
       "      <td>166</td>\n",
       "      <td>34</td>\n",
       "      <td>0</td>\n",
       "      <td>0</td>\n",
       "    </tr>\n",
       "    <tr>\n",
       "      <th>12</th>\n",
       "      <td>2022-01-26</td>\n",
       "      <td>Instagram의 gyeonggi_korea(경기도)님: “Beautiful Su...</td>\n",
       "      <td>175</td>\n",
       "      <td>26</td>\n",
       "      <td>0</td>\n",
       "      <td>0</td>\n",
       "    </tr>\n",
       "    <tr>\n",
       "      <th>13</th>\n",
       "      <td>2022-01-24</td>\n",
       "      <td>Instagram의 gyeonggi_korea(경기도)님: “Are you a bi...</td>\n",
       "      <td>354</td>\n",
       "      <td>26</td>\n",
       "      <td>0</td>\n",
       "      <td>0</td>\n",
       "    </tr>\n",
       "    <tr>\n",
       "      <th>14</th>\n",
       "      <td>2022-01-20</td>\n",
       "      <td>Instagram의 gyeonggi_korea(경기도)님: “🎹 Start the ...</td>\n",
       "      <td>172</td>\n",
       "      <td>28</td>\n",
       "      <td>0</td>\n",
       "      <td>1</td>\n",
       "    </tr>\n",
       "    <tr>\n",
       "      <th>15</th>\n",
       "      <td>2022-01-17</td>\n",
       "      <td>Instagram의 gyeonggi_korea(경기도)님: “Hwadam Botan...</td>\n",
       "      <td>250</td>\n",
       "      <td>35</td>\n",
       "      <td>1</td>\n",
       "      <td>0</td>\n",
       "    </tr>\n",
       "    <tr>\n",
       "      <th>16</th>\n",
       "      <td>2022-01-14</td>\n",
       "      <td>Instagram의 gyeonggi_korea(경기도)님: “Gwanggyo Lak...</td>\n",
       "      <td>1311</td>\n",
       "      <td>25</td>\n",
       "      <td>1</td>\n",
       "      <td>0</td>\n",
       "    </tr>\n",
       "    <tr>\n",
       "      <th>17</th>\n",
       "      <td>2022-01-13</td>\n",
       "      <td>Instagram의 gyeonggi_korea(경기도)님: “Imjingak Pye...</td>\n",
       "      <td>261</td>\n",
       "      <td>27</td>\n",
       "      <td>2</td>\n",
       "      <td>0</td>\n",
       "    </tr>\n",
       "    <tr>\n",
       "      <th>18</th>\n",
       "      <td>2022-01-07</td>\n",
       "      <td>Instagram의 gyeonggi_korea(경기도)님: “Gyeonggi Win...</td>\n",
       "      <td>221</td>\n",
       "      <td>32</td>\n",
       "      <td>0</td>\n",
       "      <td>0</td>\n",
       "    </tr>\n",
       "    <tr>\n",
       "      <th>19</th>\n",
       "      <td>2022-01-06</td>\n",
       "      <td>Instagram의 gyeonggi_korea(경기도)님: “Good walking...</td>\n",
       "      <td>189</td>\n",
       "      <td>31</td>\n",
       "      <td>0</td>\n",
       "      <td>0</td>\n",
       "    </tr>\n",
       "    <tr>\n",
       "      <th>20</th>\n",
       "      <td>2022-01-05</td>\n",
       "      <td>Instagram의 gyeonggi_korea(경기도)님: “Enjoy your #...</td>\n",
       "      <td>221</td>\n",
       "      <td>41</td>\n",
       "      <td>1</td>\n",
       "      <td>1</td>\n",
       "    </tr>\n",
       "    <tr>\n",
       "      <th>21</th>\n",
       "      <td>2022-01-01</td>\n",
       "      <td>Instagram의 gyeonggi_korea(경기도)님: “🎊 Happy New ...</td>\n",
       "      <td>197</td>\n",
       "      <td>31</td>\n",
       "      <td>0</td>\n",
       "      <td>2</td>\n",
       "    </tr>\n",
       "    <tr>\n",
       "      <th>22</th>\n",
       "      <td>2021-12-24</td>\n",
       "      <td>Instagram의 gyeonggi_korea(경기도)님: “#Romantic #W...</td>\n",
       "      <td>232</td>\n",
       "      <td>27</td>\n",
       "      <td>1</td>\n",
       "      <td>0</td>\n",
       "    </tr>\n",
       "    <tr>\n",
       "      <th>23</th>\n",
       "      <td>2021-12-16</td>\n",
       "      <td>Instagram의 gyeonggi_korea(경기도)님: “Popular #Kor...</td>\n",
       "      <td>192</td>\n",
       "      <td>31</td>\n",
       "      <td>0</td>\n",
       "      <td>2</td>\n",
       "    </tr>\n",
       "    <tr>\n",
       "      <th>24</th>\n",
       "      <td>2021-12-14</td>\n",
       "      <td>Instagram의 gyeonggi_korea(경기도)님: “#Gyeonggi-do...</td>\n",
       "      <td>174</td>\n",
       "      <td>17</td>\n",
       "      <td>0</td>\n",
       "      <td>0</td>\n",
       "    </tr>\n",
       "    <tr>\n",
       "      <th>25</th>\n",
       "      <td>2021-12-12</td>\n",
       "      <td>Instagram의 gyeonggi_korea(경기도)님: “Catch this w...</td>\n",
       "      <td>203</td>\n",
       "      <td>14</td>\n",
       "      <td>0</td>\n",
       "      <td>0</td>\n",
       "    </tr>\n",
       "    <tr>\n",
       "      <th>26</th>\n",
       "      <td>2021-12-08</td>\n",
       "      <td>Instagram의 gyeonggi_korea(경기도)님: “Where to mee...</td>\n",
       "      <td>175</td>\n",
       "      <td>17</td>\n",
       "      <td>1</td>\n",
       "      <td>0</td>\n",
       "    </tr>\n",
       "    <tr>\n",
       "      <th>27</th>\n",
       "      <td>2021-12-06</td>\n",
       "      <td>Instagram의 gyeonggi_korea(경기도)님: “Catch this w...</td>\n",
       "      <td>221</td>\n",
       "      <td>21</td>\n",
       "      <td>0</td>\n",
       "      <td>0</td>\n",
       "    </tr>\n",
       "    <tr>\n",
       "      <th>28</th>\n",
       "      <td>2021-12-03</td>\n",
       "      <td>Instagram의 gyeonggi_korea(경기도)님: “#Jebudo is a...</td>\n",
       "      <td>156</td>\n",
       "      <td>25</td>\n",
       "      <td>0</td>\n",
       "      <td>0</td>\n",
       "    </tr>\n",
       "    <tr>\n",
       "      <th>29</th>\n",
       "      <td>2021-11-29</td>\n",
       "      <td>Instagram의 gyeonggi_korea(경기도)님: “Catch this w...</td>\n",
       "      <td>247</td>\n",
       "      <td>20</td>\n",
       "      <td>0</td>\n",
       "      <td>0</td>\n",
       "    </tr>\n",
       "    <tr>\n",
       "      <th>30</th>\n",
       "      <td>2021-11-26</td>\n",
       "      <td>Instagram의 gyeonggi_korea(경기도)님: “▶Read the ar...</td>\n",
       "      <td>195</td>\n",
       "      <td>23</td>\n",
       "      <td>0</td>\n",
       "      <td>0</td>\n",
       "    </tr>\n",
       "    <tr>\n",
       "      <th>31</th>\n",
       "      <td>2021-11-24</td>\n",
       "      <td>Instagram의 gyeonggi_korea(경기도)님: “▶Read the ar...</td>\n",
       "      <td>323</td>\n",
       "      <td>34</td>\n",
       "      <td>0</td>\n",
       "      <td>1</td>\n",
       "    </tr>\n",
       "    <tr>\n",
       "      <th>32</th>\n",
       "      <td>2021-11-18</td>\n",
       "      <td>Instagram의 gyeonggi_korea(경기도)님: “[2021 DMZ RU...</td>\n",
       "      <td>192</td>\n",
       "      <td>25</td>\n",
       "      <td>0</td>\n",
       "      <td>0</td>\n",
       "    </tr>\n",
       "    <tr>\n",
       "      <th>33</th>\n",
       "      <td>2021-11-16</td>\n",
       "      <td>Instagram의 gyeonggi_korea(경기도)님: “#Gyeonggi-do...</td>\n",
       "      <td>298</td>\n",
       "      <td>46</td>\n",
       "      <td>2</td>\n",
       "      <td>0</td>\n",
       "    </tr>\n",
       "    <tr>\n",
       "      <th>34</th>\n",
       "      <td>2021-11-11</td>\n",
       "      <td>Instagram의 gyeonggi_korea(경기도)님: “Have you hea...</td>\n",
       "      <td>287</td>\n",
       "      <td>42</td>\n",
       "      <td>0</td>\n",
       "      <td>0</td>\n",
       "    </tr>\n",
       "    <tr>\n",
       "      <th>35</th>\n",
       "      <td>2021-11-09</td>\n",
       "      <td>Instagram의 gyeonggi_korea(경기도)님: “We invite yo...</td>\n",
       "      <td>267</td>\n",
       "      <td>22</td>\n",
       "      <td>0</td>\n",
       "      <td>0</td>\n",
       "    </tr>\n",
       "  </tbody>\n",
       "</table>\n",
       "</div>"
      ],
      "text/plain": [
       "            날짜                                                 제목   조회수  \\\n",
       "0   2022-03-04  Instagram의 gyeonggi_korea(경기도)님: “Have you hea...   145   \n",
       "1   2022-03-02  Instagram의 gyeonggi_korea(경기도)님: “A complete g...   155   \n",
       "2   2022-02-28  Instagram의 gyeonggi_korea(경기도)님: “Mystical con...   124   \n",
       "3   2022-02-24  Instagram의 gyeonggi_korea(경기도)님: “Shall we tak...   151   \n",
       "4   2022-02-22  Instagram의 gyeonggi_korea(경기도)님: “Invigorating...   145   \n",
       "5   2022-02-18  Instagram의 gyeonggi_korea(경기도)님: “Guri City of...   176   \n",
       "6   2022-02-14  Instagram의 gyeonggi_korea(경기도)님: “Siheung City...   164   \n",
       "7   2022-02-10  Instagram의 gyeonggi_korea(경기도)님: “A sight-fill...   168   \n",
       "8   2022-02-08  Instagram의 gyeonggi_korea(경기도)님: “💚Information...   169   \n",
       "9   2022-02-05  Instagram의 gyeonggi_korea(경기도)님: “Introducing ...   218   \n",
       "10  2022-02-04  Instagram의 gyeonggi_korea(경기도)님: “Haven’t you ...   153   \n",
       "11  2022-01-26  Instagram의 gyeonggi_korea(경기도)님: “An essential...   166   \n",
       "12  2022-01-26  Instagram의 gyeonggi_korea(경기도)님: “Beautiful Su...   175   \n",
       "13  2022-01-24  Instagram의 gyeonggi_korea(경기도)님: “Are you a bi...   354   \n",
       "14  2022-01-20  Instagram의 gyeonggi_korea(경기도)님: “🎹 Start the ...   172   \n",
       "15  2022-01-17  Instagram의 gyeonggi_korea(경기도)님: “Hwadam Botan...   250   \n",
       "16  2022-01-14  Instagram의 gyeonggi_korea(경기도)님: “Gwanggyo Lak...  1311   \n",
       "17  2022-01-13  Instagram의 gyeonggi_korea(경기도)님: “Imjingak Pye...   261   \n",
       "18  2022-01-07  Instagram의 gyeonggi_korea(경기도)님: “Gyeonggi Win...   221   \n",
       "19  2022-01-06  Instagram의 gyeonggi_korea(경기도)님: “Good walking...   189   \n",
       "20  2022-01-05  Instagram의 gyeonggi_korea(경기도)님: “Enjoy your #...   221   \n",
       "21  2022-01-01  Instagram의 gyeonggi_korea(경기도)님: “🎊 Happy New ...   197   \n",
       "22  2021-12-24  Instagram의 gyeonggi_korea(경기도)님: “#Romantic #W...   232   \n",
       "23  2021-12-16  Instagram의 gyeonggi_korea(경기도)님: “Popular #Kor...   192   \n",
       "24  2021-12-14  Instagram의 gyeonggi_korea(경기도)님: “#Gyeonggi-do...   174   \n",
       "25  2021-12-12  Instagram의 gyeonggi_korea(경기도)님: “Catch this w...   203   \n",
       "26  2021-12-08  Instagram의 gyeonggi_korea(경기도)님: “Where to mee...   175   \n",
       "27  2021-12-06  Instagram의 gyeonggi_korea(경기도)님: “Catch this w...   221   \n",
       "28  2021-12-03  Instagram의 gyeonggi_korea(경기도)님: “#Jebudo is a...   156   \n",
       "29  2021-11-29  Instagram의 gyeonggi_korea(경기도)님: “Catch this w...   247   \n",
       "30  2021-11-26  Instagram의 gyeonggi_korea(경기도)님: “▶Read the ar...   195   \n",
       "31  2021-11-24  Instagram의 gyeonggi_korea(경기도)님: “▶Read the ar...   323   \n",
       "32  2021-11-18  Instagram의 gyeonggi_korea(경기도)님: “[2021 DMZ RU...   192   \n",
       "33  2021-11-16  Instagram의 gyeonggi_korea(경기도)님: “#Gyeonggi-do...   298   \n",
       "34  2021-11-11  Instagram의 gyeonggi_korea(경기도)님: “Have you hea...   287   \n",
       "35  2021-11-09  Instagram의 gyeonggi_korea(경기도)님: “We invite yo...   267   \n",
       "\n",
       "    좋아요_수  댓글수  공유수  \n",
       "0      21    1    0  \n",
       "1      27    0    0  \n",
       "2      24    0    0  \n",
       "3      26    0    0  \n",
       "4      29    2    2  \n",
       "5      21    0    0  \n",
       "6      27    0    0  \n",
       "7      33    4    0  \n",
       "8      29    2    0  \n",
       "9      36    0    0  \n",
       "10     34    0    0  \n",
       "11     34    0    0  \n",
       "12     26    0    0  \n",
       "13     26    0    0  \n",
       "14     28    0    1  \n",
       "15     35    1    0  \n",
       "16     25    1    0  \n",
       "17     27    2    0  \n",
       "18     32    0    0  \n",
       "19     31    0    0  \n",
       "20     41    1    1  \n",
       "21     31    0    2  \n",
       "22     27    1    0  \n",
       "23     31    0    2  \n",
       "24     17    0    0  \n",
       "25     14    0    0  \n",
       "26     17    1    0  \n",
       "27     21    0    0  \n",
       "28     25    0    0  \n",
       "29     20    0    0  \n",
       "30     23    0    0  \n",
       "31     34    0    1  \n",
       "32     25    0    0  \n",
       "33     46    2    0  \n",
       "34     42    0    0  \n",
       "35     22    0    0  "
      ]
     },
     "execution_count": 137,
     "metadata": {},
     "output_type": "execute_result"
    }
   ],
   "source": [
    "# 수집한 데이터를 데이터 셋으로 만들기\n",
    "df = {'날짜':date_list, '제목':title_list, '조회수':num_view_list,\n",
    "      '좋아요_수':num_like_list, '댓글수':num_comment_list, '공유수':num_share_list}\n",
    "data = pd.DataFrame(df)\n",
    "data"
   ]
  },
  {
   "cell_type": "code",
   "execution_count": null,
   "metadata": {},
   "outputs": [],
   "source": [
    "file_name = str(datetime.today().strftime(\"%Y%m%d-%H%M%S\"))\n",
    "file_name = 'instagram_' + file_name + '.xlsx'\n",
    "path = './crawling_data/instagram/'\n",
    "data.to_excel(path+file_name, index=False, encoding='utf-8')"
   ]
  },
  {
   "cell_type": "markdown",
   "metadata": {},
   "source": [
    "# insta 좋아요 수 크롤링"
   ]
  },
  {
   "cell_type": "code",
   "execution_count": 90,
   "metadata": {},
   "outputs": [],
   "source": [
    "from bs4 import BeautifulSoup as bs\n",
    "import time\n",
    "from selenium import webdriver"
   ]
  },
  {
   "cell_type": "code",
   "execution_count": 92,
   "metadata": {},
   "outputs": [
    {
     "name": "stderr",
     "output_type": "stream",
     "text": [
      "<ipython-input-92-b311796cbd22>:8: DeprecationWarning: find_element_by_xpath is deprecated. Please use find_element(by=By.XPATH, value=xpath) instead\n",
      "  element_id = driver.find_element_by_xpath('//*[@id=\"loginForm\"]/div/div[1]/div/label/input')\n",
      "<ipython-input-92-b311796cbd22>:10: DeprecationWarning: find_element_by_xpath is deprecated. Please use find_element(by=By.XPATH, value=xpath) instead\n",
      "  element_password = driver.find_element_by_xpath('//*[@id=\"loginForm\"]/div/div[2]/div/label/input')\n",
      "<ipython-input-92-b311796cbd22>:16: DeprecationWarning: find_element_by_css_selector is deprecated. Please use find_element(by=By.CSS_SELECTOR, value=css_selector) instead\n",
      "  driver.find_element_by_css_selector('.sqdOP.L3NKy.y3zKF').click()\n"
     ]
    }
   ],
   "source": [
    "driver = webdriver.Chrome('chromedriver')\n",
    "driver.get(\"https://www.instagram.com/accounts/login/\")\n",
    "driver.implicitly_wait(10)\n",
    "\n",
    "username = 'gyeonggi_korea'\n",
    "password = 'zhsxpscm123!'\n",
    "\n",
    "element_id = driver.find_element_by_xpath('//*[@id=\"loginForm\"]/div/div[1]/div/label/input')\n",
    "element_id.send_keys(username)\n",
    "time.sleep(1)\n",
    "element_password = driver.find_element_by_xpath('//*[@id=\"loginForm\"]/div/div[2]/div/label/input')\n",
    "element_password.send_keys(password)\n",
    "\n",
    "time.sleep(1.5)\n",
    "\n",
    "##로그인버튼 클릭\n",
    "driver.find_element_by_css_selector('.sqdOP.L3NKy.y3zKF').click()"
   ]
  },
  {
   "cell_type": "code",
   "execution_count": 103,
   "metadata": {},
   "outputs": [
    {
     "data": {
      "text/plain": [
       "<title>gyeonggi_korea(경기도)(@gyeonggi_korea) • Instagram 사진 및 동영상</title>"
      ]
     },
     "execution_count": 103,
     "metadata": {},
     "output_type": "execute_result"
    }
   ],
   "source": [
    "url = 'https://www.instagram.com/gyeonggi_korea/'\n",
    "# webdriver 로드\n",
    "driver.get(url)\n",
    "\n",
    "# 페이지 크롤링\n",
    "soup = bs(driver.page_source, 'lxml')\n",
    "soup.title"
   ]
  },
  {
   "cell_type": "code",
   "execution_count": 104,
   "metadata": {},
   "outputs": [],
   "source": [
    "post_link = []\n",
    "div = soup.find_all('div', class_=\"Nnq7C weEfm\")\n",
    "\n",
    "# 게시글 줄 순서(1번째부터 몇 번째 줄까지 가져올 것인지)\n",
    "number_of_line = 2\n",
    "# 게시글 링크 3개씩 가져오기\n",
    "for row in range(number_of_line):\n",
    "    a_tags = div[row].find_all('a')\n",
    "    for i in range(3):\n",
    "        link = a_tags[i].attrs['href']\n",
    "        post_link.append(link)\n",
    "# 수집한 링크 개수 확인\n",
    "print(\"수집한 링크의 개수 : \", len(post_link))\n",
    "print(\"수집한 링크 주소\")\n",
    "print(post_link)"
   ]
  },
  {
   "cell_type": "code",
   "execution_count": 105,
   "metadata": {},
   "outputs": [
    {
     "name": "stdout",
     "output_type": "stream",
     "text": [
      "A complete guide to unique cafés in Yongin City of Gyeonggi Province\n",
      "\n",
      "📢Real Garden K\n",
      "Feel like having a ‘forest and phytoncide’ day?…”\n",
      "25\n",
      "Mystical constellations and planets🌎,\n",
      "Don’t you want to see them all?\n",
      "Let’s visit the Anseong Astronomical Science Museum! 🌃\n",
      "\n",
      "Observe the…”\n",
      "24\n",
      "Shall we take a day trip\n",
      "to nature-friendly Uiwang City of Gyeonggi Province? 🚓\n",
      "\n",
      "📢Cheonggyesa🙏\n",
      "\n",
      "A Buddhist temple on picturesque…”\n",
      "26\n"
     ]
    }
   ],
   "source": [
    "title_list = []\n",
    "like_list = []\n",
    "for i in range(3):\n",
    "    url = link_list[i]\n",
    "    driver.get(url)\n",
    "    soup = bs(driver.page_source, 'lxml')\n",
    "    temp_title = soup.title.text[34:]\n",
    "    title_list.append(temp_title)\n",
    "    print(temp_title)\n",
    "    time.sleep(0.5)\n",
    "\n",
    "    a_page = bs(driver.page_source, 'lxml')\n",
    "    like_data = a_page.find('div', class_='_7UhW9 xLCgt qyrsm KV-D4 fDxYl T0kll')\n",
    "    num_of_like = int(like_data.text[4:-1])\n",
    "\n",
    "    like_list.append(num_of_like)\n",
    "    print(num_of_like)"
   ]
  },
  {
   "cell_type": "code",
   "execution_count": 106,
   "metadata": {},
   "outputs": [],
   "source": [
    "import pandas as pd\n",
    "from datetime import datetime"
   ]
  },
  {
   "cell_type": "code",
   "execution_count": 107,
   "metadata": {},
   "outputs": [
    {
     "data": {
      "text/html": [
       "<div>\n",
       "<style scoped>\n",
       "    .dataframe tbody tr th:only-of-type {\n",
       "        vertical-align: middle;\n",
       "    }\n",
       "\n",
       "    .dataframe tbody tr th {\n",
       "        vertical-align: top;\n",
       "    }\n",
       "\n",
       "    .dataframe thead th {\n",
       "        text-align: right;\n",
       "    }\n",
       "</style>\n",
       "<table border=\"1\" class=\"dataframe\">\n",
       "  <thead>\n",
       "    <tr style=\"text-align: right;\">\n",
       "      <th></th>\n",
       "      <th>좋아요_수</th>\n",
       "      <th>제목</th>\n",
       "    </tr>\n",
       "  </thead>\n",
       "  <tbody>\n",
       "    <tr>\n",
       "      <th>0</th>\n",
       "      <td>26</td>\n",
       "      <td>A complete guide to unique cafés in Yongin Cit...</td>\n",
       "    </tr>\n",
       "    <tr>\n",
       "      <th>1</th>\n",
       "      <td>26</td>\n",
       "      <td>Mystical constellations and planets🌎,\\nDon’t y...</td>\n",
       "    </tr>\n",
       "    <tr>\n",
       "      <th>2</th>\n",
       "      <td>26</td>\n",
       "      <td>Shall we take a day trip\\nto nature-friendly U...</td>\n",
       "    </tr>\n",
       "  </tbody>\n",
       "</table>\n",
       "</div>"
      ],
      "text/plain": [
       "   좋아요_수                                                 제목\n",
       "0     26  A complete guide to unique cafés in Yongin Cit...\n",
       "1     26  Mystical constellations and planets🌎,\\nDon’t y...\n",
       "2     26  Shall we take a day trip\\nto nature-friendly U..."
      ]
     },
     "execution_count": 107,
     "metadata": {},
     "output_type": "execute_result"
    }
   ],
   "source": [
    "insta_df = {'좋아요_수':num_of_like, '제목':title_list}\n",
    "data = pd.DataFrame(insta_df)\n",
    "data"
   ]
  },
  {
   "cell_type": "code",
   "execution_count": 108,
   "metadata": {},
   "outputs": [],
   "source": [
    "file_name = str(datetime.today().strftime(\"%Y%m%d-%H%M%S\"))\n",
    "file_name = 'instagram_' + file_name + '.csv'\n",
    "path = './crawling_data/instagram/'\n",
    "data.to_csv(path+file_name, index=False, encoding='utf-8')"
   ]
  },
  {
   "cell_type": "code",
   "execution_count": 109,
   "metadata": {},
   "outputs": [],
   "source": [
    "url = 'https://business.facebook.com/creatorstudio/instagram_content_posts'\n",
    "# webdriver 로드\n",
    "driver.get(url)"
   ]
  },
  {
   "cell_type": "code",
   "execution_count": null,
   "metadata": {},
   "outputs": [],
   "source": [
    "# 페이지 크롤링\n",
    "soup = bs(driver.page_source, 'lxml')"
   ]
  },
  {
   "cell_type": "markdown",
   "metadata": {},
   "source": [
    "# 인스타그램 게시물 좋아요 수 크롤링"
   ]
  },
  {
   "cell_type": "code",
   "execution_count": 79,
   "metadata": {},
   "outputs": [],
   "source": [
    "from bs4 import BeautifulSoup as bs\n",
    "import time\n",
    "from selenium import webdriver\n",
    "import pandas as pd\n",
    "import datetime"
   ]
  },
  {
   "cell_type": "code",
   "execution_count": 88,
   "metadata": {},
   "outputs": [],
   "source": [
    "def crawling(number_of_line):\n",
    "    # 사이트에 로그인하기\n",
    "    driver = webdriver.Chrome('chromedriver')\n",
    "    driver.get(\"https://www.instagram.com/accounts/login/\")\n",
    "    driver.implicitly_wait(10)\n",
    "    # 아이디, 비번\n",
    "    username = 'gyeonggi_korea'\n",
    "    password = 'zhsxpscm123!'\n",
    "    # 아이디, 비번 입력\n",
    "    element_id = driver.find_element_by_xpath('//*[@id=\"loginForm\"]/div/div[1]/div/label/input')\n",
    "    element_id.send_keys(username)\n",
    "    time.sleep(1)\n",
    "    element_password = driver.find_element_by_xpath('//*[@id=\"loginForm\"]/div/div[2]/div/label/input')\n",
    "    element_password.send_keys(password)\n",
    "    time.sleep(1.5)\n",
    "\n",
    "    ##로그인버튼 클릭\n",
    "    driver.find_element_by_css_selector('.sqdOP.L3NKy.y3zKF').click()\n",
    "    time.sleep(1.5)\n",
    "\n",
    "    # 사이트 접속\n",
    "    url = 'https://www.instagram.com/gyeonggi_korea/'\n",
    "    driver.get(url)\n",
    "    time.sleep(3)\n",
    "    # 페이지 크롤링\n",
    "    soup = bs(driver.page_source, 'lxml')\n",
    "\n",
    "    post_link = []\n",
    "    div = soup.find_all('div', class_=\"Nnq7C weEfm\")\n",
    "\n",
    "    # 게시글 줄 순서(1번째부터 몇 번째 줄까지 가져올 것인지)\n",
    "    number = number_of_line\n",
    "    # 게시글 링크 3개씩 가져오기\n",
    "    for row in range(number):\n",
    "        a_tags = div[row].find_all('a')\n",
    "        for i in range(3):\n",
    "            link = a_tags[i].attrs['href']\n",
    "            post_link.append(link)\n",
    "    # 수집한 링크 개수 확인\n",
    "    print(\"수집한 링크의 개수 : \", len(post_link))\n",
    "    print(\"수집한 링크 주소\")\n",
    "    print(post_link)\n",
    "\n",
    "    # 게시글 타이틀과 좋아요 수 수집\n",
    "    title_list = []\n",
    "    like_list = []\n",
    "    for i in range(len(link_list)):\n",
    "        # 게시글 타이틀 수집\n",
    "        url = link_list[i]\n",
    "        driver.get(url)\n",
    "        soup = bs(driver.page_source, 'lxml')\n",
    "        temp_title = soup.title.text[34:]\n",
    "        title_list.append(temp_title)\n",
    "        print(temp_title)\n",
    "        driver.implicitly_wait(1)\n",
    "\n",
    "        # 게시글 좋아요 수 수집\n",
    "        like_data = soup.find_all('div', class_='_7UhW9 xLCgt qyrsm KV-D4 fDxYl T0kll')\n",
    "        number_of_like = like_data[1].find('span')\n",
    "        number_of_like = int(number_of_like.text)\n",
    "        like_list.append(number_of_like)\n",
    "        print(\"좋아요 수 : \", number_of_like, '개')\n",
    "\n",
    "    insta_df = {'좋아요_수':like_list, '제목':title_list}\n",
    "    data = pd.DataFrame(insta_df)\n",
    "\n",
    "    # 파일로 출력\n",
    "    file_name = str(datetime.today().strftime(\"%Y%m%d-%H%M%S\"))\n",
    "    file_name = 'instagram_' + file_name + '.csv'\n",
    "    path = './crawling_data/instagram/'\n",
    "    data.to_csv(path+file_name, index=False, encoding='utf-8')\n",
    "\n",
    "    return data"
   ]
  },
  {
   "cell_type": "code",
   "execution_count": 89,
   "metadata": {},
   "outputs": [
    {
     "name": "stderr",
     "output_type": "stream",
     "text": [
      "<ipython-input-88-26a342313a75>:10: DeprecationWarning: find_element_by_xpath is deprecated. Please use find_element(by=By.XPATH, value=xpath) instead\n",
      "  element_id = driver.find_element_by_xpath('//*[@id=\"loginForm\"]/div/div[1]/div/label/input')\n",
      "<ipython-input-88-26a342313a75>:12: DeprecationWarning: find_element_by_xpath is deprecated. Please use find_element(by=By.XPATH, value=xpath) instead\n",
      "  element_password = driver.find_element_by_xpath('//*[@id=\"loginForm\"]/div/div[2]/div/label/input')\n",
      "<ipython-input-88-26a342313a75>:17: DeprecationWarning: find_element_by_css_selector is deprecated. Please use find_element(by=By.CSS_SELECTOR, value=css_selector) instead\n",
      "  driver.find_element_by_css_selector('.sqdOP.L3NKy.y3zKF').click()\n"
     ]
    },
    {
     "ename": "IndexError",
     "evalue": "list index out of range",
     "output_type": "error",
     "traceback": [
      "\u001b[1;31m---------------------------------------------------------------------------\u001b[0m",
      "\u001b[1;31mIndexError\u001b[0m                                Traceback (most recent call last)",
      "\u001b[1;32m<ipython-input-89-0f78600ba7e5>\u001b[0m in \u001b[0;36m<module>\u001b[1;34m\u001b[0m\n\u001b[0;32m      1\u001b[0m \u001b[1;31m# 수집할 게시글 줄 수\u001b[0m\u001b[1;33m\u001b[0m\u001b[1;33m\u001b[0m\u001b[1;33m\u001b[0m\u001b[0m\n\u001b[1;32m----> 2\u001b[1;33m \u001b[0mdf\u001b[0m \u001b[1;33m=\u001b[0m \u001b[0mcrawling\u001b[0m\u001b[1;33m(\u001b[0m\u001b[1;36m3\u001b[0m\u001b[1;33m)\u001b[0m\u001b[1;33m\u001b[0m\u001b[1;33m\u001b[0m\u001b[0m\n\u001b[0m\u001b[0;32m      3\u001b[0m \u001b[0mdf\u001b[0m\u001b[1;33m\u001b[0m\u001b[1;33m\u001b[0m\u001b[0m\n",
      "\u001b[1;32m<ipython-input-88-26a342313a75>\u001b[0m in \u001b[0;36mcrawling\u001b[1;34m(number_of_line)\u001b[0m\n\u001b[0;32m     32\u001b[0m     \u001b[1;31m# 게시글 링크 3개씩 가져오기\u001b[0m\u001b[1;33m\u001b[0m\u001b[1;33m\u001b[0m\u001b[1;33m\u001b[0m\u001b[0m\n\u001b[0;32m     33\u001b[0m     \u001b[1;32mfor\u001b[0m \u001b[0mrow\u001b[0m \u001b[1;32min\u001b[0m \u001b[0mrange\u001b[0m\u001b[1;33m(\u001b[0m\u001b[0mnumber\u001b[0m\u001b[1;33m)\u001b[0m\u001b[1;33m:\u001b[0m\u001b[1;33m\u001b[0m\u001b[1;33m\u001b[0m\u001b[0m\n\u001b[1;32m---> 34\u001b[1;33m         \u001b[0ma_tags\u001b[0m \u001b[1;33m=\u001b[0m \u001b[0mdiv\u001b[0m\u001b[1;33m[\u001b[0m\u001b[0mrow\u001b[0m\u001b[1;33m]\u001b[0m\u001b[1;33m.\u001b[0m\u001b[0mfind_all\u001b[0m\u001b[1;33m(\u001b[0m\u001b[1;34m'a'\u001b[0m\u001b[1;33m)\u001b[0m\u001b[1;33m\u001b[0m\u001b[1;33m\u001b[0m\u001b[0m\n\u001b[0m\u001b[0;32m     35\u001b[0m         \u001b[1;32mfor\u001b[0m \u001b[0mi\u001b[0m \u001b[1;32min\u001b[0m \u001b[0mrange\u001b[0m\u001b[1;33m(\u001b[0m\u001b[1;36m3\u001b[0m\u001b[1;33m)\u001b[0m\u001b[1;33m:\u001b[0m\u001b[1;33m\u001b[0m\u001b[1;33m\u001b[0m\u001b[0m\n\u001b[0;32m     36\u001b[0m             \u001b[0mlink\u001b[0m \u001b[1;33m=\u001b[0m \u001b[0ma_tags\u001b[0m\u001b[1;33m[\u001b[0m\u001b[0mi\u001b[0m\u001b[1;33m]\u001b[0m\u001b[1;33m.\u001b[0m\u001b[0mattrs\u001b[0m\u001b[1;33m[\u001b[0m\u001b[1;34m'href'\u001b[0m\u001b[1;33m]\u001b[0m\u001b[1;33m\u001b[0m\u001b[1;33m\u001b[0m\u001b[0m\n",
      "\u001b[1;31mIndexError\u001b[0m: list index out of range"
     ]
    }
   ],
   "source": [
    "# 수집할 게시글 줄 수\n",
    "df = crawling(3)\n",
    "df"
   ]
  },
  {
   "cell_type": "code",
   "execution_count": null,
   "metadata": {},
   "outputs": [],
   "source": []
  }
 ],
 "metadata": {
  "interpreter": {
   "hash": "513dc2e41d739bb2c947903f3c0bbf636d03aa53ab50e61c694a27481c81805e"
  },
  "kernelspec": {
   "display_name": "Python 3.8.8 ('base')",
   "language": "python",
   "name": "python3"
  },
  "language_info": {
   "codemirror_mode": {
    "name": "ipython",
    "version": 3
   },
   "file_extension": ".py",
   "mimetype": "text/x-python",
   "name": "python",
   "nbconvert_exporter": "python",
   "pygments_lexer": "ipython3",
   "version": "3.8.8"
  },
  "orig_nbformat": 4
 },
 "nbformat": 4,
 "nbformat_minor": 2
}
