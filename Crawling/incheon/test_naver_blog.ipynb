{
 "cells": [
  {
   "cell_type": "markdown",
   "metadata": {},
   "source": [
    "# Naver blog scrap"
   ]
  },
  {
   "cell_type": "code",
   "execution_count": 2,
   "metadata": {},
   "outputs": [
    {
     "data": {
      "text/plain": [
       "(10, [[], [], [], [], [], [], [], [], [], []])"
      ]
     },
     "execution_count": 2,
     "metadata": {},
     "output_type": "execute_result"
    }
   ],
   "source": [
    "first_list = [ [] ] * 10\n",
    "len(first_list), first_list"
   ]
  },
  {
   "cell_type": "code",
   "execution_count": 3,
   "metadata": {},
   "outputs": [
    {
     "data": {
      "text/plain": [
       "2191901671232"
      ]
     },
     "execution_count": 3,
     "metadata": {},
     "output_type": "execute_result"
    }
   ],
   "source": [
    "date_list = first_list[0]\n",
    "id(date_list)"
   ]
  },
  {
   "cell_type": "code",
   "execution_count": 5,
   "metadata": {},
   "outputs": [
    {
     "data": {
      "text/plain": [
       "2191901671232"
      ]
     },
     "execution_count": 5,
     "metadata": {},
     "output_type": "execute_result"
    }
   ],
   "source": [
    "rare_number_list  = first_list[1]\n",
    "id(rare_number_list )"
   ]
  },
  {
   "cell_type": "code",
   "execution_count": 6,
   "metadata": {},
   "outputs": [
    {
     "data": {
      "text/plain": [
       "([1], [1])"
      ]
     },
     "execution_count": 6,
     "metadata": {},
     "output_type": "execute_result"
    }
   ],
   "source": [
    "date_list.append(1)\n",
    "date_list, rare_number_list"
   ]
  },
  {
   "cell_type": "markdown",
   "metadata": {},
   "source": [
    "## 라이브러리"
   ]
  },
  {
   "cell_type": "code",
   "execution_count": 32,
   "metadata": {},
   "outputs": [],
   "source": [
    "import pandas as pd\n",
    "import time, os, random\n",
    "from datetime import datetime\n",
    "from numpy import nan"
   ]
  },
  {
   "cell_type": "code",
   "execution_count": 33,
   "metadata": {},
   "outputs": [],
   "source": [
    "from bs4 import BeautifulSoup as bs\n",
    "from selenium import webdriver\n",
    "import chromedriver_autoinstaller as ca"
   ]
  },
  {
   "cell_type": "markdown",
   "metadata": {},
   "source": [
    "## 현재 파일 위치 확인"
   ]
  },
  {
   "cell_type": "code",
   "execution_count": 34,
   "metadata": {},
   "outputs": [
    {
     "data": {
      "text/plain": [
       "'c:/data/Wantreez/Crawling/incheon'"
      ]
     },
     "execution_count": 34,
     "metadata": {},
     "output_type": "execute_result"
    }
   ],
   "source": [
    "# 현재 파일 위치 확인\n",
    "code_path = os.getcwd().replace('\\\\', '/')\n",
    "code_path"
   ]
  },
  {
   "cell_type": "markdown",
   "metadata": {},
   "source": [
    "## 수집한 파일 저장 폴더 생성"
   ]
  },
  {
   "cell_type": "code",
   "execution_count": 35,
   "metadata": {},
   "outputs": [],
   "source": [
    "# 수집한 파일을 저장할 폴더 생성\n",
    "crawled_folder_path = code_path + '/crawled_data/naver_blog'\n",
    "os.makedirs(crawled_folder_path, exist_ok=True)"
   ]
  },
  {
   "cell_type": "markdown",
   "metadata": {},
   "source": [
    "## 크롬 드라이버 버전 확인 및 설치"
   ]
  },
  {
   "cell_type": "code",
   "execution_count": 36,
   "metadata": {},
   "outputs": [
    {
     "data": {
      "text/plain": [
       "'100'"
      ]
     },
     "execution_count": 36,
     "metadata": {},
     "output_type": "execute_result"
    }
   ],
   "source": [
    "# 크롬 드라이버 버전 확인\n",
    "chrome_ver = ca.get_chrome_version().split('.')[0]\n",
    "chrome_ver"
   ]
  },
  {
   "cell_type": "code",
   "execution_count": 37,
   "metadata": {},
   "outputs": [
    {
     "name": "stderr",
     "output_type": "stream",
     "text": [
      "C:\\Users\\kbjung\\AppData\\Local\\Temp/ipykernel_7724/3261653714.py:3: DeprecationWarning: executable_path has been deprecated, please pass in a Service object\n",
      "  driver = webdriver.Chrome(code_path + f'/{chrome_ver}/' + 'chromedriver.exe')\n"
     ]
    }
   ],
   "source": [
    "# 크롬 드라이버 설치 확인\n",
    "try:\n",
    "    driver = webdriver.Chrome(code_path + f'/{chrome_ver}/' + 'chromedriver.exe')\n",
    "except:\n",
    "    ca.install(True)\n",
    "    driver = webdriver.Chrome(code_path + f'/{chrome_ver}/' + 'chromedriver.exe')"
   ]
  },
  {
   "cell_type": "markdown",
   "metadata": {},
   "source": [
    "## 페이지 접속"
   ]
  },
  {
   "cell_type": "code",
   "execution_count": 38,
   "metadata": {},
   "outputs": [],
   "source": [
    "# 페이지 접속\n",
    "url = 'https://blog.naver.com/PostView.naver?blogId=icouncil103&logNo=222657505998&categoryNo=9&parentCategoryNo=9&from=thumbnailList'\n",
    "driver.get(url)\n",
    "driver.implicitly_wait(3)\n",
    "driver.maximize_window()"
   ]
  },
  {
   "cell_type": "code",
   "execution_count": 39,
   "metadata": {},
   "outputs": [
    {
     "data": {
      "text/plain": [
       "'222657505998'"
      ]
     },
     "execution_count": 39,
     "metadata": {},
     "output_type": "execute_result"
    }
   ],
   "source": [
    "# page 정보\n",
    "page_info = url.split('=')[2].split('&')[0]\n",
    "page_info"
   ]
  },
  {
   "cell_type": "markdown",
   "metadata": {},
   "source": [
    "## 페이지 스크래핑"
   ]
  },
  {
   "cell_type": "markdown",
   "metadata": {},
   "source": [
    "### 댓글 버튼 클릭"
   ]
  },
  {
   "cell_type": "code",
   "execution_count": 40,
   "metadata": {},
   "outputs": [
    {
     "name": "stderr",
     "output_type": "stream",
     "text": [
      "C:\\Users\\kbjung\\AppData\\Local\\Temp/ipykernel_7724/3197372586.py:2: DeprecationWarning: find_element_by_xpath is deprecated. Please use find_element(by=By.XPATH, value=xpath) instead\n",
      "  comment_button = driver.find_element_by_xpath(f'//*[@id=\"Comi{page_info}\"]')\n"
     ]
    }
   ],
   "source": [
    "# 댓글 버튼 클릭\n",
    "comment_button = driver.find_element_by_xpath(f'//*[@id=\"Comi{page_info}\"]')\n",
    "comment_button.click()\n",
    "time.sleep(1)"
   ]
  },
  {
   "cell_type": "markdown",
   "metadata": {},
   "source": [
    "### 이전 페이지 이동"
   ]
  },
  {
   "cell_type": "code",
   "execution_count": 41,
   "metadata": {},
   "outputs": [
    {
     "name": "stderr",
     "output_type": "stream",
     "text": [
      "C:\\Users\\kbjung\\AppData\\Local\\Temp/ipykernel_7724/2309467251.py:2: DeprecationWarning: find_element_by_xpath is deprecated. Please use find_element(by=By.XPATH, value=xpath) instead\n",
      "  driver.find_element_by_xpath('//*[@id=\"naverComment_201_222657505998\"]/div/div[4]/div/a[2]').click()\n"
     ]
    }
   ],
   "source": [
    "# 이전 페이지 이동\n",
    "driver.find_element_by_xpath('//*[@id=\"naverComment_201_222657505998\"]/div/div[4]/div/a[2]').click()\n",
    "time.sleep( random.uniform(1, 1.5) )"
   ]
  },
  {
   "cell_type": "markdown",
   "metadata": {},
   "source": [
    "### 1페이지"
   ]
  },
  {
   "cell_type": "code",
   "execution_count": 42,
   "metadata": {},
   "outputs": [
    {
     "name": "stderr",
     "output_type": "stream",
     "text": [
      "C:\\Users\\kbjung\\AppData\\Local\\Temp/ipykernel_7724/593960153.py:2: DeprecationWarning: find_element_by_xpath is deprecated. Please use find_element(by=By.XPATH, value=xpath) instead\n",
      "  driver.find_element_by_xpath('//*[@id=\"naverComment_201_222657505998\"]/div/div[4]/div/a[2]').click()\n"
     ]
    }
   ],
   "source": [
    "# 1 페이지 이동\n",
    "driver.find_element_by_xpath('//*[@id=\"naverComment_201_222657505998\"]/div/div[4]/div/a[2]').click()\n",
    "time.sleep( random.uniform(1, 1.5) )"
   ]
  },
  {
   "cell_type": "code",
   "execution_count": 43,
   "metadata": {},
   "outputs": [
    {
     "data": {
      "text/plain": [
       "50"
      ]
     },
     "execution_count": 43,
     "metadata": {},
     "output_type": "execute_result"
    }
   ],
   "source": [
    "# 페이지 수프에 담기\n",
    "comment_page_soup = bs(driver.page_source, 'lxml')\n",
    "comment_areas = comment_page_soup.find_all('li', 'u_cbox_comment')\n",
    "len(comment_areas)"
   ]
  },
  {
   "cell_type": "code",
   "execution_count": 46,
   "metadata": {},
   "outputs": [],
   "source": [
    "date_list = []\n",
    "rare_number_list = []\n",
    "check_reply_list = []\n",
    "nickname_list = []\n",
    "writer_url_list = []\n",
    "like_num_list = []\n",
    "link_num_list = []\n",
    "reply_num_list = []\n",
    "img_list = []\n",
    "comment_list = []\n",
    "\n",
    "for one in comment_areas:\n",
    "# 작성일 수집\n",
    "    date = one.find('div', 'u_cbox_comment_box').find('span','u_cbox_date').attrs['data-value'].split('+')[0].replace('T',' ')\n",
    "    date_list.append(date)\n",
    "\n",
    "# 고유번호\n",
    "\n",
    "    temp = one.attrs['class'][1].split('_')[-1]\n",
    "    rare_number_list.append(temp)\n",
    "\n",
    "# 답글 구분\n",
    "\n",
    "    try:\n",
    "        one.find('span', 'u_cbox_secret_contents').text\n",
    "        temp = '비밀댓글'\n",
    "    except:\n",
    "        try:\n",
    "            temp = one.find('div', 'u_cbox_reply_area').find('li')\n",
    "            temp = nan\n",
    "        except:\n",
    "            temp = '답글'\n",
    "    check_reply_list.append(temp)\n",
    "\n",
    "# 닉네임\n",
    "\n",
    "    try:\n",
    "        temp = one.find('span', 'u_cbox_nick').text\n",
    "    except:\n",
    "        temp = '비밀댓글'\n",
    "    nickname_list.append(temp)\n",
    "\n",
    "# 작성자 url\n",
    "\n",
    "    try:\n",
    "        temp = one.find('a', 'u_cbox_name').attrs['href']\n",
    "    except:\n",
    "        temp = '비밀댓글'\n",
    "    writer_url_list.append(temp)\n",
    "\n",
    "# 공감수\n",
    "\n",
    "    try:\n",
    "        temp = int( one.find('em', 'u_cbox_cnt_recomm').text )\n",
    "    except:\n",
    "        temp = 0\n",
    "    like_num_list.append(temp)\n",
    "\n",
    "# 링크 수\n",
    "\n",
    "    try:\n",
    "        temp = one.find('span', 'u_cbox_contents').find_all('a', 'u_cbox_contents_link')\n",
    "        temp = len(temp)\n",
    "    except:\n",
    "        temp = 0\n",
    "    link_num_list.append(temp)\n",
    "\n",
    "# 답글 수\n",
    "\n",
    "    try:\n",
    "        temp = one.find('div', 'u_cbox_reply_area').find_all('li')\n",
    "        temp = len(temp)\n",
    "    except:\n",
    "        temp = 0\n",
    "    reply_num_list.append(temp)\n",
    "\n",
    "\n",
    "# 첨부이미지url\n",
    "\n",
    "    try:\n",
    "        temp = one.find('div', 'u_cbox_image_section').find('img').attrs['src']\n",
    "    except:\n",
    "        temp = nan\n",
    "    img_list.append(temp)\n",
    "\n",
    "\n",
    "# 댓글 내용 수집\n",
    "\n",
    "    try:\n",
    "        temp = one.find('span', 'u_cbox_contents').text.replace('@', ' @', 1).replace('http', ' http', 1)\n",
    "    except:\n",
    "        temp = '비밀댓글'\n",
    "    comment_list.append(temp)"
   ]
  },
  {
   "cell_type": "code",
   "execution_count": 47,
   "metadata": {},
   "outputs": [
    {
     "name": "stdout",
     "output_type": "stream",
     "text": [
      "작성일 리스트 길이 :  50\n",
      "고유번호 리스트 길이 :  50\n",
      "답글구분 리스트 길이 :  50\n",
      "닉네임 리스트 길이 :  50\n",
      "작성자URL 리스트 길이 :  50\n",
      "공감수 리스트 길이 :  50\n",
      "링크수 리스트 길이 :  50\n",
      "답글수 리스트 길이 :  50\n",
      "첨부이미지URL 리스트 길이 :  50\n",
      "내용 리스트 길이 :  50\n"
     ]
    }
   ],
   "source": [
    "print('작성일 리스트 길이 : ', len(date_list))\n",
    "print('고유번호 리스트 길이 : ', len(rare_number_list))\n",
    "print('답글구분 리스트 길이 : ', len(check_reply_list))\n",
    "print('닉네임 리스트 길이 : ', len(nickname_list))\n",
    "print('작성자URL 리스트 길이 : ', len(writer_url_list))\n",
    "print('공감수 리스트 길이 : ', len(like_num_list))\n",
    "print('링크수 리스트 길이 : ', len(link_num_list))\n",
    "print('답글수 리스트 길이 : ', len(reply_num_list))\n",
    "print('첨부이미지URL 리스트 길이 : ', len(img_list))\n",
    "print('내용 리스트 길이 : ', len(comment_list))"
   ]
  },
  {
   "cell_type": "markdown",
   "metadata": {},
   "source": [
    "### 2페이지"
   ]
  },
  {
   "cell_type": "code",
   "execution_count": 48,
   "metadata": {},
   "outputs": [
    {
     "name": "stderr",
     "output_type": "stream",
     "text": [
      "C:\\Users\\kbjung\\AppData\\Local\\Temp/ipykernel_7724/1784597422.py:2: DeprecationWarning: find_element_by_xpath is deprecated. Please use find_element(by=By.XPATH, value=xpath) instead\n",
      "  driver.find_element_by_xpath('//*[@id=\"naverComment_201_222657505998\"]/div/div[4]/div/a[1]').click()\n"
     ]
    }
   ],
   "source": [
    "# 2 페이지 이동\n",
    "driver.find_element_by_xpath('//*[@id=\"naverComment_201_222657505998\"]/div/div[4]/div/a[1]').click()\n",
    "time.sleep( random.uniform(1, 1.5) )"
   ]
  },
  {
   "cell_type": "code",
   "execution_count": 49,
   "metadata": {},
   "outputs": [
    {
     "data": {
      "text/plain": [
       "50"
      ]
     },
     "execution_count": 49,
     "metadata": {},
     "output_type": "execute_result"
    }
   ],
   "source": [
    "# 페이지 수프에 담기\n",
    "comment_page_soup = bs(driver.page_source, 'lxml')\n",
    "comment_areas = comment_page_soup.find_all('li', 'u_cbox_comment')\n",
    "len(comment_areas)"
   ]
  },
  {
   "cell_type": "code",
   "execution_count": 50,
   "metadata": {},
   "outputs": [],
   "source": [
    "# 작성일 수집\n",
    "for one in comment_areas:\n",
    "    date = one.find('div', 'u_cbox_comment_box').find('span','u_cbox_date').attrs['data-value'].split('+')[0].replace('T',' ')\n",
    "    date_list.append(date)\n",
    "\n",
    "# 고유번호\n",
    "for one in comment_areas:\n",
    "    temp = one.attrs['class'][1].split('_')[-1]\n",
    "    rare_number_list.append(temp)\n",
    "\n",
    "# 답글 구분\n",
    "for one in comment_areas:\n",
    "    try:\n",
    "        one.find('span', 'u_cbox_secret_contents').text\n",
    "        temp = '비밀댓글'\n",
    "    except:\n",
    "        try:\n",
    "            temp = one.find('div', 'u_cbox_reply_area').find('li')\n",
    "            temp = nan\n",
    "        except:\n",
    "            temp = '답글'\n",
    "    check_reply_list.append(temp)\n",
    "\n",
    "# 닉네임\n",
    "for one in comment_areas:\n",
    "    try:\n",
    "        temp = one.find('span', 'u_cbox_nick').text\n",
    "    except:\n",
    "        temp = '비밀댓글'\n",
    "    nickname_list.append(temp)\n",
    "\n",
    "# 작성자 url\n",
    "for one in comment_areas:\n",
    "    try:\n",
    "        temp = one.find('a', 'u_cbox_name').attrs['href']\n",
    "    except:\n",
    "        temp = '비밀댓글'\n",
    "    writer_url_list.append(temp)\n",
    "\n",
    "# 공감수\n",
    "for one in comment_areas:\n",
    "    try:\n",
    "        temp = int( one.find('em', 'u_cbox_cnt_recomm').text )\n",
    "    except:\n",
    "        temp = 0\n",
    "    like_num_list.append(temp)\n",
    "\n",
    "# 링크 수\n",
    "for one in comment_areas:\n",
    "    try:\n",
    "        temp = one.find('span', 'u_cbox_contents').find_all('a', 'u_cbox_contents_link')\n",
    "        temp = len(temp)\n",
    "    except:\n",
    "        temp = 0\n",
    "    link_num_list.append(temp)\n",
    "\n",
    "# 답글 수\n",
    "for one in comment_areas:\n",
    "    try:\n",
    "        temp = one.find('div', 'u_cbox_reply_area').find_all('li')\n",
    "        temp = len(temp)\n",
    "    except:\n",
    "        temp = 0\n",
    "    reply_num_list.append(temp)\n",
    "\n",
    "# 첨부이미지url\n",
    "for one in comment_areas:\n",
    "    try:\n",
    "        temp = one.find('div', 'u_cbox_image_section').find('img').attrs['src']\n",
    "    except:\n",
    "        temp = nan\n",
    "    img_list.append(temp)\n",
    "\n",
    "# 댓글 내용 수집\n",
    "for one in comment_areas:\n",
    "    try:\n",
    "        temp = one.find('span', 'u_cbox_contents').text.replace('@', ' @', 1).replace('http', ' http', 1)\n",
    "    except:\n",
    "        temp = '비밀댓글'\n",
    "    comment_list.append(temp)"
   ]
  },
  {
   "cell_type": "code",
   "execution_count": 51,
   "metadata": {},
   "outputs": [
    {
     "name": "stdout",
     "output_type": "stream",
     "text": [
      "작성일 리스트 길이 :  100\n",
      "고유번호 리스트 길이 :  100\n",
      "답글구분 리스트 길이 :  100\n",
      "닉네임 리스트 길이 :  100\n",
      "작성자URL 리스트 길이 :  100\n",
      "공감수 리스트 길이 :  100\n",
      "링크수 리스트 길이 :  100\n",
      "답글수 리스트 길이 :  100\n",
      "첨부이미지URL 리스트 길이 :  100\n",
      "내용 리스트 길이 :  100\n"
     ]
    }
   ],
   "source": [
    "print('작성일 리스트 길이 : ', len(date_list))\n",
    "print('고유번호 리스트 길이 : ', len(rare_number_list))\n",
    "print('답글구분 리스트 길이 : ', len(check_reply_list))\n",
    "print('닉네임 리스트 길이 : ', len(nickname_list))\n",
    "print('작성자URL 리스트 길이 : ', len(writer_url_list))\n",
    "print('공감수 리스트 길이 : ', len(like_num_list))\n",
    "print('링크수 리스트 길이 : ', len(link_num_list))\n",
    "print('답글수 리스트 길이 : ', len(reply_num_list))\n",
    "print('첨부이미지URL 리스트 길이 : ', len(img_list))\n",
    "print('내용 리스트 길이 : ', len(comment_list))"
   ]
  },
  {
   "cell_type": "markdown",
   "metadata": {},
   "source": [
    "### 3페이지"
   ]
  },
  {
   "cell_type": "code",
   "execution_count": 52,
   "metadata": {},
   "outputs": [
    {
     "name": "stderr",
     "output_type": "stream",
     "text": [
      "C:\\Users\\kbjung\\AppData\\Local\\Temp/ipykernel_7724/3873755998.py:2: DeprecationWarning: find_element_by_xpath is deprecated. Please use find_element(by=By.XPATH, value=xpath) instead\n",
      "  driver.find_element_by_xpath('//*[@id=\"naverComment_201_222657505998\"]/div/div[4]/div/a[3]').click()\n"
     ]
    }
   ],
   "source": [
    "# 3 페이지 이동\n",
    "driver.find_element_by_xpath('//*[@id=\"naverComment_201_222657505998\"]/div/div[4]/div/a[3]').click()\n",
    "time.sleep( random.uniform(1, 1.5) )"
   ]
  },
  {
   "cell_type": "code",
   "execution_count": 53,
   "metadata": {},
   "outputs": [
    {
     "data": {
      "text/plain": [
       "50"
      ]
     },
     "execution_count": 53,
     "metadata": {},
     "output_type": "execute_result"
    }
   ],
   "source": [
    "# 페이지 수프에 담기\n",
    "comment_page_soup = bs(driver.page_source, 'lxml')\n",
    "comment_areas = comment_page_soup.find_all('li', 'u_cbox_comment')\n",
    "len(comment_areas)"
   ]
  },
  {
   "cell_type": "code",
   "execution_count": 54,
   "metadata": {},
   "outputs": [],
   "source": [
    "# 작성일 수집\n",
    "for one in comment_areas:\n",
    "    date = one.find('div', 'u_cbox_comment_box').find('span','u_cbox_date').attrs['data-value'].split('+')[0].replace('T',' ')\n",
    "    date_list.append(date)\n",
    "\n",
    "# 고유번호\n",
    "for one in comment_areas:\n",
    "    temp = one.attrs['class'][1].split('_')[-1]\n",
    "    rare_number_list.append(temp)\n",
    "\n",
    "# 답글 구분\n",
    "for one in comment_areas:\n",
    "    try:\n",
    "        one.find('span', 'u_cbox_secret_contents').text\n",
    "        temp = '비밀댓글'\n",
    "    except:\n",
    "        try:\n",
    "            temp = one.find('div', 'u_cbox_reply_area').find('li')\n",
    "            temp = nan\n",
    "        except:\n",
    "            temp = '답글'\n",
    "    check_reply_list.append(temp)\n",
    "\n",
    "# 닉네임\n",
    "for one in comment_areas:\n",
    "    try:\n",
    "        temp = one.find('span', 'u_cbox_nick').text\n",
    "    except:\n",
    "        temp = '비밀댓글'\n",
    "    nickname_list.append(temp)\n",
    "\n",
    "# 작성자 url\n",
    "for one in comment_areas:\n",
    "    try:\n",
    "        temp = one.find('a', 'u_cbox_name').attrs['href']\n",
    "    except:\n",
    "        temp = '비밀댓글'\n",
    "    writer_url_list.append(temp)\n",
    "\n",
    "# 공감수\n",
    "for one in comment_areas:\n",
    "    try:\n",
    "        temp = int( one.find('em', 'u_cbox_cnt_recomm').text )\n",
    "    except:\n",
    "        temp = 0\n",
    "    like_num_list.append(temp)\n",
    "\n",
    "# 링크 수\n",
    "for one in comment_areas:\n",
    "    try:\n",
    "        temp = one.find('span', 'u_cbox_contents').find_all('a', 'u_cbox_contents_link')\n",
    "        temp = len(temp)\n",
    "    except:\n",
    "        temp = 0\n",
    "    link_num_list.append(temp)\n",
    "\n",
    "# 답글 수\n",
    "for one in comment_areas:\n",
    "    try:\n",
    "        temp = one.find('div', 'u_cbox_reply_area').find_all('li')\n",
    "        temp = len(temp)\n",
    "    except:\n",
    "        temp = 0\n",
    "    reply_num_list.append(temp)\n",
    "\n",
    "# 첨부이미지url\n",
    "for one in comment_areas:\n",
    "    try:\n",
    "        temp = one.find('div', 'u_cbox_image_section').find('img').attrs['src']\n",
    "    except:\n",
    "        temp = nan\n",
    "    img_list.append(temp)\n",
    "\n",
    "# 댓글 내용 수집\n",
    "for one in comment_areas:\n",
    "    try:\n",
    "        temp = one.find('span', 'u_cbox_contents').text.replace('@', ' @', 1).replace('http', ' http', 1)\n",
    "    except:\n",
    "        temp = '비밀댓글'\n",
    "    comment_list.append(temp)"
   ]
  },
  {
   "cell_type": "code",
   "execution_count": 55,
   "metadata": {},
   "outputs": [
    {
     "name": "stdout",
     "output_type": "stream",
     "text": [
      "작성일 리스트 길이 :  150\n",
      "고유번호 리스트 길이 :  150\n",
      "답글구분 리스트 길이 :  150\n",
      "닉네임 리스트 길이 :  150\n",
      "작성자URL 리스트 길이 :  150\n",
      "공감수 리스트 길이 :  150\n",
      "링크수 리스트 길이 :  150\n",
      "답글수 리스트 길이 :  150\n",
      "첨부이미지URL 리스트 길이 :  150\n",
      "내용 리스트 길이 :  150\n"
     ]
    }
   ],
   "source": [
    "print('작성일 리스트 길이 : ', len(date_list))\n",
    "print('고유번호 리스트 길이 : ', len(rare_number_list))\n",
    "print('답글구분 리스트 길이 : ', len(check_reply_list))\n",
    "print('닉네임 리스트 길이 : ', len(nickname_list))\n",
    "print('작성자URL 리스트 길이 : ', len(writer_url_list))\n",
    "print('공감수 리스트 길이 : ', len(like_num_list))\n",
    "print('링크수 리스트 길이 : ', len(link_num_list))\n",
    "print('답글수 리스트 길이 : ', len(reply_num_list))\n",
    "print('첨부이미지URL 리스트 길이 : ', len(img_list))\n",
    "print('내용 리스트 길이 : ', len(comment_list))"
   ]
  },
  {
   "cell_type": "markdown",
   "metadata": {},
   "source": [
    "### 4페이지"
   ]
  },
  {
   "cell_type": "code",
   "execution_count": 56,
   "metadata": {},
   "outputs": [
    {
     "name": "stderr",
     "output_type": "stream",
     "text": [
      "C:\\Users\\kbjung\\AppData\\Local\\Temp/ipykernel_7724/1449846845.py:2: DeprecationWarning: find_element_by_xpath is deprecated. Please use find_element(by=By.XPATH, value=xpath) instead\n",
      "  driver.find_element_by_xpath('//*[@id=\"naverComment_201_222657505998\"]/div/div[4]/div/a[4]').click()\n"
     ]
    }
   ],
   "source": [
    "# 4 페이지 이동\n",
    "driver.find_element_by_xpath('//*[@id=\"naverComment_201_222657505998\"]/div/div[4]/div/a[4]').click()\n",
    "time.sleep( random.uniform(1, 1.5) )"
   ]
  },
  {
   "cell_type": "code",
   "execution_count": 57,
   "metadata": {},
   "outputs": [
    {
     "data": {
      "text/plain": [
       "50"
      ]
     },
     "execution_count": 57,
     "metadata": {},
     "output_type": "execute_result"
    }
   ],
   "source": [
    "# 페이지 수프에 담기\n",
    "comment_page_soup = bs(driver.page_source, 'lxml')\n",
    "comment_areas = comment_page_soup.find_all('li', 'u_cbox_comment')\n",
    "len(comment_areas)"
   ]
  },
  {
   "cell_type": "code",
   "execution_count": 58,
   "metadata": {},
   "outputs": [],
   "source": [
    "# 작성일 수집\n",
    "for one in comment_areas:\n",
    "    date = one.find('div', 'u_cbox_comment_box').find('span','u_cbox_date').attrs['data-value'].split('+')[0].replace('T',' ')\n",
    "    date_list.append(date)\n",
    "\n",
    "# 고유번호\n",
    "for one in comment_areas:\n",
    "    temp = one.attrs['class'][1].split('_')[-1]\n",
    "    rare_number_list.append(temp)\n",
    "\n",
    "# 답글 구분\n",
    "for one in comment_areas:\n",
    "    try:\n",
    "        one.find('span', 'u_cbox_secret_contents').text\n",
    "        temp = '비밀댓글'\n",
    "    except:\n",
    "        try:\n",
    "            temp = one.find('div', 'u_cbox_reply_area').find('li')\n",
    "            temp = nan\n",
    "        except:\n",
    "            temp = '답글'\n",
    "    check_reply_list.append(temp)\n",
    "\n",
    "# 닉네임\n",
    "for one in comment_areas:\n",
    "    try:\n",
    "        temp = one.find('span', 'u_cbox_nick').text\n",
    "    except:\n",
    "        temp = '비밀댓글'\n",
    "    nickname_list.append(temp)\n",
    "\n",
    "# 작성자 url\n",
    "for one in comment_areas:\n",
    "    try:\n",
    "        temp = one.find('a', 'u_cbox_name').attrs['href']\n",
    "    except:\n",
    "        temp = '비밀댓글'\n",
    "    writer_url_list.append(temp)\n",
    "\n",
    "# 공감수\n",
    "for one in comment_areas:\n",
    "    try:\n",
    "        temp = int( one.find('em', 'u_cbox_cnt_recomm').text )\n",
    "    except:\n",
    "        temp = 0\n",
    "    like_num_list.append(temp)\n",
    "\n",
    "# 링크 수\n",
    "for one in comment_areas:\n",
    "    try:\n",
    "        temp = one.find('span', 'u_cbox_contents').find_all('a', 'u_cbox_contents_link')\n",
    "        temp = len(temp)\n",
    "    except:\n",
    "        temp = 0\n",
    "    link_num_list.append(temp)\n",
    "\n",
    "# 답글 수\n",
    "for one in comment_areas:\n",
    "    try:\n",
    "        temp = one.find('div', 'u_cbox_reply_area').find_all('li')\n",
    "        temp = len(temp)\n",
    "    except:\n",
    "        temp = 0\n",
    "    reply_num_list.append(temp)\n",
    "\n",
    "# 첨부이미지url\n",
    "for one in comment_areas:\n",
    "    try:\n",
    "        temp = one.find('div', 'u_cbox_image_section').find('img').attrs['src']\n",
    "    except:\n",
    "        temp = nan\n",
    "    img_list.append(temp)\n",
    "\n",
    "# 댓글 내용 수집\n",
    "for one in comment_areas:\n",
    "    try:\n",
    "        temp = one.find('span', 'u_cbox_contents').text.replace('@', ' @', 1).replace('http', ' http', 1)\n",
    "    except:\n",
    "        temp = '비밀댓글'\n",
    "    comment_list.append(temp)"
   ]
  },
  {
   "cell_type": "code",
   "execution_count": 59,
   "metadata": {},
   "outputs": [
    {
     "name": "stdout",
     "output_type": "stream",
     "text": [
      "작성일 리스트 길이 :  200\n",
      "고유번호 리스트 길이 :  200\n",
      "답글구분 리스트 길이 :  200\n",
      "닉네임 리스트 길이 :  200\n",
      "작성자URL 리스트 길이 :  200\n",
      "공감수 리스트 길이 :  200\n",
      "링크수 리스트 길이 :  200\n",
      "답글수 리스트 길이 :  200\n",
      "첨부이미지URL 리스트 길이 :  200\n",
      "내용 리스트 길이 :  200\n"
     ]
    }
   ],
   "source": [
    "print('작성일 리스트 길이 : ', len(date_list))\n",
    "print('고유번호 리스트 길이 : ', len(rare_number_list))\n",
    "print('답글구분 리스트 길이 : ', len(check_reply_list))\n",
    "print('닉네임 리스트 길이 : ', len(nickname_list))\n",
    "print('작성자URL 리스트 길이 : ', len(writer_url_list))\n",
    "print('공감수 리스트 길이 : ', len(like_num_list))\n",
    "print('링크수 리스트 길이 : ', len(link_num_list))\n",
    "print('답글수 리스트 길이 : ', len(reply_num_list))\n",
    "print('첨부이미지URL 리스트 길이 : ', len(img_list))\n",
    "print('내용 리스트 길이 : ', len(comment_list))"
   ]
  },
  {
   "cell_type": "markdown",
   "metadata": {},
   "source": [
    "### 5페이지"
   ]
  },
  {
   "cell_type": "code",
   "execution_count": 60,
   "metadata": {},
   "outputs": [
    {
     "name": "stderr",
     "output_type": "stream",
     "text": [
      "C:\\Users\\kbjung\\AppData\\Local\\Temp/ipykernel_7724/1452808398.py:2: DeprecationWarning: find_element_by_xpath is deprecated. Please use find_element(by=By.XPATH, value=xpath) instead\n",
      "  driver.find_element_by_xpath('//*[@id=\"naverComment_201_222657505998\"]/div/div[4]/div/a[5]').click()\n"
     ]
    }
   ],
   "source": [
    "# 5 페이지 이동\n",
    "driver.find_element_by_xpath('//*[@id=\"naverComment_201_222657505998\"]/div/div[4]/div/a[5]').click()\n",
    "time.sleep( random.uniform(1, 1.5) )"
   ]
  },
  {
   "cell_type": "code",
   "execution_count": 61,
   "metadata": {},
   "outputs": [
    {
     "data": {
      "text/plain": [
       "50"
      ]
     },
     "execution_count": 61,
     "metadata": {},
     "output_type": "execute_result"
    }
   ],
   "source": [
    "# 페이지 수프에 담기\n",
    "comment_page_soup = bs(driver.page_source, 'lxml')\n",
    "comment_areas = comment_page_soup.find_all('li', 'u_cbox_comment')\n",
    "len(comment_areas)"
   ]
  },
  {
   "cell_type": "code",
   "execution_count": 62,
   "metadata": {},
   "outputs": [],
   "source": [
    "# 작성일 수집\n",
    "for one in comment_areas:\n",
    "    date = one.find('div', 'u_cbox_comment_box').find('span','u_cbox_date').attrs['data-value'].split('+')[0].replace('T',' ')\n",
    "    date_list.append(date)\n",
    "\n",
    "# 고유번호\n",
    "for one in comment_areas:\n",
    "    temp = one.attrs['class'][1].split('_')[-1]\n",
    "    rare_number_list.append(temp)\n",
    "\n",
    "# 답글 구분\n",
    "for one in comment_areas:\n",
    "    try:\n",
    "        one.find('span', 'u_cbox_secret_contents').text\n",
    "        temp = '비밀댓글'\n",
    "    except:\n",
    "        try:\n",
    "            temp = one.find('div', 'u_cbox_reply_area').find('li')\n",
    "            temp = nan\n",
    "        except:\n",
    "            temp = '답글'\n",
    "    check_reply_list.append(temp)\n",
    "\n",
    "# 닉네임\n",
    "for one in comment_areas:\n",
    "    try:\n",
    "        temp = one.find('span', 'u_cbox_nick').text\n",
    "    except:\n",
    "        temp = '비밀댓글'\n",
    "    nickname_list.append(temp)\n",
    "\n",
    "# 작성자 url\n",
    "for one in comment_areas:\n",
    "    try:\n",
    "        temp = one.find('a', 'u_cbox_name').attrs['href']\n",
    "    except:\n",
    "        temp = '비밀댓글'\n",
    "    writer_url_list.append(temp)\n",
    "\n",
    "# 공감수\n",
    "for one in comment_areas:\n",
    "    try:\n",
    "        temp = int( one.find('em', 'u_cbox_cnt_recomm').text )\n",
    "    except:\n",
    "        temp = 0\n",
    "    like_num_list.append(temp)\n",
    "\n",
    "# 링크 수\n",
    "for one in comment_areas:\n",
    "    try:\n",
    "        temp = one.find('span', 'u_cbox_contents').find_all('a', 'u_cbox_contents_link')\n",
    "        temp = len(temp)\n",
    "    except:\n",
    "        temp = 0\n",
    "    link_num_list.append(temp)\n",
    "\n",
    "# 답글 수\n",
    "for one in comment_areas:\n",
    "    try:\n",
    "        temp = one.find('div', 'u_cbox_reply_area').find_all('li')\n",
    "        temp = len(temp)\n",
    "    except:\n",
    "        temp = 0\n",
    "    reply_num_list.append(temp)\n",
    "\n",
    "# 첨부이미지url\n",
    "for one in comment_areas:\n",
    "    try:\n",
    "        temp = one.find('div', 'u_cbox_image_section').find('img').attrs['src']\n",
    "    except:\n",
    "        temp = nan\n",
    "    img_list.append(temp)\n",
    "\n",
    "# 댓글 내용 수집\n",
    "for one in comment_areas:\n",
    "    try:\n",
    "        temp = one.find('span', 'u_cbox_contents').text.replace('@', ' @', 1).replace('http', ' http', 1)\n",
    "    except:\n",
    "        temp = '비밀댓글'\n",
    "    comment_list.append(temp)"
   ]
  },
  {
   "cell_type": "code",
   "execution_count": 63,
   "metadata": {},
   "outputs": [
    {
     "name": "stdout",
     "output_type": "stream",
     "text": [
      "작성일 리스트 길이 :  250\n",
      "고유번호 리스트 길이 :  250\n",
      "답글구분 리스트 길이 :  250\n",
      "닉네임 리스트 길이 :  250\n",
      "작성자URL 리스트 길이 :  250\n",
      "공감수 리스트 길이 :  250\n",
      "링크수 리스트 길이 :  250\n",
      "답글수 리스트 길이 :  250\n",
      "첨부이미지URL 리스트 길이 :  250\n",
      "내용 리스트 길이 :  250\n"
     ]
    }
   ],
   "source": [
    "print('작성일 리스트 길이 : ', len(date_list))\n",
    "print('고유번호 리스트 길이 : ', len(rare_number_list))\n",
    "print('답글구분 리스트 길이 : ', len(check_reply_list))\n",
    "print('닉네임 리스트 길이 : ', len(nickname_list))\n",
    "print('작성자URL 리스트 길이 : ', len(writer_url_list))\n",
    "print('공감수 리스트 길이 : ', len(like_num_list))\n",
    "print('링크수 리스트 길이 : ', len(link_num_list))\n",
    "print('답글수 리스트 길이 : ', len(reply_num_list))\n",
    "print('첨부이미지URL 리스트 길이 : ', len(img_list))\n",
    "print('내용 리스트 길이 : ', len(comment_list))"
   ]
  },
  {
   "cell_type": "markdown",
   "metadata": {},
   "source": [
    "### 6페이지"
   ]
  },
  {
   "cell_type": "code",
   "execution_count": 64,
   "metadata": {},
   "outputs": [
    {
     "name": "stderr",
     "output_type": "stream",
     "text": [
      "C:\\Users\\kbjung\\AppData\\Local\\Temp/ipykernel_7724/3074135804.py:2: DeprecationWarning: find_element_by_xpath is deprecated. Please use find_element(by=By.XPATH, value=xpath) instead\n",
      "  driver.find_element_by_xpath('//*[@id=\"naverComment_201_222657505998\"]/div/div[4]/div/a[6]').click()\n"
     ]
    }
   ],
   "source": [
    "# 6 페이지 이동\n",
    "driver.find_element_by_xpath('//*[@id=\"naverComment_201_222657505998\"]/div/div[4]/div/a[6]').click()\n",
    "time.sleep( random.uniform(1, 1.5) )"
   ]
  },
  {
   "cell_type": "code",
   "execution_count": 65,
   "metadata": {},
   "outputs": [
    {
     "data": {
      "text/plain": [
       "50"
      ]
     },
     "execution_count": 65,
     "metadata": {},
     "output_type": "execute_result"
    }
   ],
   "source": [
    "# 페이지 수프에 담기\n",
    "comment_page_soup = bs(driver.page_source, 'lxml')\n",
    "comment_areas = comment_page_soup.find_all('li', 'u_cbox_comment')\n",
    "len(comment_areas)"
   ]
  },
  {
   "cell_type": "code",
   "execution_count": 66,
   "metadata": {},
   "outputs": [],
   "source": [
    "# 작성일 수집\n",
    "for one in comment_areas:\n",
    "    date = one.find('div', 'u_cbox_comment_box').find('span','u_cbox_date').attrs['data-value'].split('+')[0].replace('T',' ')\n",
    "    date_list.append(date)\n",
    "\n",
    "# 고유번호\n",
    "for one in comment_areas:\n",
    "    temp = one.attrs['class'][1].split('_')[-1]\n",
    "    rare_number_list.append(temp)\n",
    "\n",
    "# 답글 구분\n",
    "for one in comment_areas:\n",
    "    try:\n",
    "        one.find('span', 'u_cbox_secret_contents').text\n",
    "        temp = '비밀댓글'\n",
    "    except:\n",
    "        try:\n",
    "            temp = one.find('div', 'u_cbox_reply_area').find('li')\n",
    "            temp = nan\n",
    "        except:\n",
    "            temp = '답글'\n",
    "    check_reply_list.append(temp)\n",
    "\n",
    "# 닉네임\n",
    "for one in comment_areas:\n",
    "    try:\n",
    "        temp = one.find('span', 'u_cbox_nick').text\n",
    "    except:\n",
    "        temp = '비밀댓글'\n",
    "    nickname_list.append(temp)\n",
    "\n",
    "# 작성자 url\n",
    "for one in comment_areas:\n",
    "    try:\n",
    "        temp = one.find('a', 'u_cbox_name').attrs['href']\n",
    "    except:\n",
    "        temp = '비밀댓글'\n",
    "    writer_url_list.append(temp)\n",
    "\n",
    "# 공감수\n",
    "for one in comment_areas:\n",
    "    try:\n",
    "        temp = int( one.find('em', 'u_cbox_cnt_recomm').text )\n",
    "    except:\n",
    "        temp = 0\n",
    "    like_num_list.append(temp)\n",
    "\n",
    "# 링크 수\n",
    "for one in comment_areas:\n",
    "    try:\n",
    "        temp = one.find('span', 'u_cbox_contents').find_all('a', 'u_cbox_contents_link')\n",
    "        temp = len(temp)\n",
    "    except:\n",
    "        temp = 0\n",
    "    link_num_list.append(temp)\n",
    "\n",
    "# 답글 수\n",
    "for one in comment_areas:\n",
    "    try:\n",
    "        temp = one.find('div', 'u_cbox_reply_area').find_all('li')\n",
    "        temp = len(temp)\n",
    "    except:\n",
    "        temp = 0\n",
    "    reply_num_list.append(temp)\n",
    "\n",
    "# 첨부이미지url\n",
    "for one in comment_areas:\n",
    "    try:\n",
    "        temp = one.find('div', 'u_cbox_image_section').find('img').attrs['src']\n",
    "    except:\n",
    "        temp = nan\n",
    "    img_list.append(temp)\n",
    "\n",
    "# 댓글 내용 수집\n",
    "for one in comment_areas:\n",
    "    try:\n",
    "        temp = one.find('span', 'u_cbox_contents').text.replace('@', ' @', 1).replace('http', ' http', 1)\n",
    "    except:\n",
    "        temp = '비밀댓글'\n",
    "    comment_list.append(temp)"
   ]
  },
  {
   "cell_type": "code",
   "execution_count": 67,
   "metadata": {},
   "outputs": [
    {
     "name": "stdout",
     "output_type": "stream",
     "text": [
      "작성일 리스트 길이 :  300\n",
      "고유번호 리스트 길이 :  300\n",
      "답글구분 리스트 길이 :  300\n",
      "닉네임 리스트 길이 :  300\n",
      "작성자URL 리스트 길이 :  300\n",
      "공감수 리스트 길이 :  300\n",
      "링크수 리스트 길이 :  300\n",
      "답글수 리스트 길이 :  300\n",
      "첨부이미지URL 리스트 길이 :  300\n",
      "내용 리스트 길이 :  300\n"
     ]
    }
   ],
   "source": [
    "print('작성일 리스트 길이 : ', len(date_list))\n",
    "print('고유번호 리스트 길이 : ', len(rare_number_list))\n",
    "print('답글구분 리스트 길이 : ', len(check_reply_list))\n",
    "print('닉네임 리스트 길이 : ', len(nickname_list))\n",
    "print('작성자URL 리스트 길이 : ', len(writer_url_list))\n",
    "print('공감수 리스트 길이 : ', len(like_num_list))\n",
    "print('링크수 리스트 길이 : ', len(link_num_list))\n",
    "print('답글수 리스트 길이 : ', len(reply_num_list))\n",
    "print('첨부이미지URL 리스트 길이 : ', len(img_list))\n",
    "print('내용 리스트 길이 : ', len(comment_list))"
   ]
  },
  {
   "cell_type": "markdown",
   "metadata": {},
   "source": [
    "### 7페이지"
   ]
  },
  {
   "cell_type": "code",
   "execution_count": 68,
   "metadata": {},
   "outputs": [
    {
     "name": "stderr",
     "output_type": "stream",
     "text": [
      "C:\\Users\\kbjung\\AppData\\Local\\Temp/ipykernel_7724/499117945.py:2: DeprecationWarning: find_element_by_xpath is deprecated. Please use find_element(by=By.XPATH, value=xpath) instead\n",
      "  driver.find_element_by_xpath('//*[@id=\"naverComment_201_222657505998\"]/div/div[4]/div/a[7]').click()\n"
     ]
    }
   ],
   "source": [
    "# 7 페이지 이동\n",
    "driver.find_element_by_xpath('//*[@id=\"naverComment_201_222657505998\"]/div/div[4]/div/a[7]').click()\n",
    "time.sleep( random.uniform(1, 1.5) )"
   ]
  },
  {
   "cell_type": "code",
   "execution_count": 69,
   "metadata": {},
   "outputs": [
    {
     "data": {
      "text/plain": [
       "51"
      ]
     },
     "execution_count": 69,
     "metadata": {},
     "output_type": "execute_result"
    }
   ],
   "source": [
    "# 페이지 수프에 담기\n",
    "comment_page_soup = bs(driver.page_source, 'lxml')\n",
    "comment_areas = comment_page_soup.find_all('li', 'u_cbox_comment')\n",
    "len(comment_areas)"
   ]
  },
  {
   "cell_type": "code",
   "execution_count": 70,
   "metadata": {},
   "outputs": [],
   "source": [
    "date_list = []\n",
    "rare_number_list = []\n",
    "check_reply_list = []\n",
    "nickname_list = []\n",
    "writer_url_list = []\n",
    "like_num_list = []\n",
    "link_num_list = []\n",
    "reply_num_list = []\n",
    "img_list = []\n",
    "comment_list = []\n",
    "\n",
    "# 작성일 수집\n",
    "for one in comment_areas:\n",
    "    date = one.find('div', 'u_cbox_comment_box').find('span','u_cbox_date').attrs['data-value'].split('+')[0].replace('T',' ')\n",
    "    date_list.append(date)\n",
    "\n",
    "# 고유번호\n",
    "for one in comment_areas:\n",
    "    temp = one.attrs['class'][1].split('_')[-1]\n",
    "    rare_number_list.append(temp)\n",
    "\n",
    "# 답글 구분\n",
    "for one in comment_areas:\n",
    "    try:\n",
    "        one.find('span', 'u_cbox_secret_contents').text\n",
    "        temp = '비밀댓글'\n",
    "    except:\n",
    "        try:\n",
    "            temp = one.find('div', 'u_cbox_reply_area').find('li')\n",
    "            temp = nan\n",
    "        except:\n",
    "            temp = '답글'\n",
    "    check_reply_list.append(temp)\n",
    "\n",
    "# 닉네임\n",
    "for one in comment_areas:\n",
    "    try:\n",
    "        temp = one.find('span', 'u_cbox_nick').text\n",
    "    except:\n",
    "        temp = '비밀댓글'\n",
    "    nickname_list.append(temp)\n",
    "\n",
    "# 작성자 url\n",
    "for one in comment_areas:\n",
    "    try:\n",
    "        temp = one.find('a', 'u_cbox_name').attrs['href']\n",
    "    except:\n",
    "        temp = '비밀댓글'\n",
    "    writer_url_list.append(temp)\n",
    "\n",
    "# 공감수\n",
    "for one in comment_areas:\n",
    "    try:\n",
    "        temp = int( one.find('em', 'u_cbox_cnt_recomm').text )\n",
    "    except:\n",
    "        temp = 0\n",
    "    like_num_list.append(temp)\n",
    "\n",
    "# 링크 수\n",
    "for one in comment_areas:\n",
    "    try:\n",
    "        temp = one.find('span', 'u_cbox_contents').find_all('a', 'u_cbox_contents_link')\n",
    "        temp = len(temp)\n",
    "    except:\n",
    "        temp = 0\n",
    "    link_num_list.append(temp)\n",
    "\n",
    "# 답글 수\n",
    "for one in comment_areas:\n",
    "    try:\n",
    "        temp = one.find('div', 'u_cbox_reply_area').find_all('li')\n",
    "        temp = len(temp)\n",
    "    except:\n",
    "        temp = 0\n",
    "    reply_num_list.append(temp)\n",
    "\n",
    "# 첨부이미지url\n",
    "for one in comment_areas:\n",
    "    try:\n",
    "        temp = one.find('div', 'u_cbox_image_section').find('img').attrs['src']\n",
    "    except:\n",
    "        temp = nan\n",
    "    img_list.append(temp)\n",
    "\n",
    "# 댓글 내용 수집\n",
    "for one in comment_areas:\n",
    "    try:\n",
    "        temp = one.find('span', 'u_cbox_contents').text.replace('@', ' @', 1).replace('http', ' http', 1)\n",
    "    except:\n",
    "        temp = '비밀댓글'\n",
    "    comment_list.append(temp)"
   ]
  },
  {
   "cell_type": "code",
   "execution_count": 71,
   "metadata": {},
   "outputs": [
    {
     "name": "stdout",
     "output_type": "stream",
     "text": [
      "작성일 리스트 길이 :  51\n",
      "고유번호 리스트 길이 :  51\n",
      "답글구분 리스트 길이 :  51\n",
      "닉네임 리스트 길이 :  51\n",
      "작성자URL 리스트 길이 :  51\n",
      "공감수 리스트 길이 :  51\n",
      "링크수 리스트 길이 :  51\n",
      "답글수 리스트 길이 :  51\n",
      "첨부이미지URL 리스트 길이 :  51\n",
      "내용 리스트 길이 :  51\n"
     ]
    }
   ],
   "source": [
    "print('작성일 리스트 길이 : ', len(date_list))\n",
    "print('고유번호 리스트 길이 : ', len(rare_number_list))\n",
    "print('답글구분 리스트 길이 : ', len(check_reply_list))\n",
    "print('닉네임 리스트 길이 : ', len(nickname_list))\n",
    "print('작성자URL 리스트 길이 : ', len(writer_url_list))\n",
    "print('공감수 리스트 길이 : ', len(like_num_list))\n",
    "print('링크수 리스트 길이 : ', len(link_num_list))\n",
    "print('답글수 리스트 길이 : ', len(reply_num_list))\n",
    "print('첨부이미지URL 리스트 길이 : ', len(img_list))\n",
    "print('내용 리스트 길이 : ', len(comment_list))"
   ]
  },
  {
   "cell_type": "markdown",
   "metadata": {},
   "source": [
    "### 7페이지 문제 확인 중...\n",
    "* undefined 발생\n",
    "    * 데이터 셋에서 제거"
   ]
  },
  {
   "cell_type": "code",
   "execution_count": 72,
   "metadata": {},
   "outputs": [
    {
     "data": {
      "text/plain": [
       "['2022-02-27 17:29:16',\n",
       " '2022-02-27 17:29:16',\n",
       " '2022-02-27 17:29:28',\n",
       " '2022-02-27 17:29:38',\n",
       " '2022-02-27 17:31:13',\n",
       " '2022-02-27 17:53:29',\n",
       " '2022-02-27 18:35:01',\n",
       " '2022-02-27 18:45:13',\n",
       " '2022-02-27 19:12:26',\n",
       " '2022-02-27 20:16:04']"
      ]
     },
     "execution_count": 72,
     "metadata": {},
     "output_type": "execute_result"
    }
   ],
   "source": [
    "date_list[:10]"
   ]
  },
  {
   "cell_type": "code",
   "execution_count": 73,
   "metadata": {},
   "outputs": [
    {
     "data": {
      "text/plain": [
       "['undefined',\n",
       " '750830888173961351',\n",
       " '750830900253556981',\n",
       " '750830912618365258',\n",
       " '750831012895785085',\n",
       " '750832448371163361',\n",
       " '750835125108867084',\n",
       " '750835781550997624',\n",
       " '750837535575376122',\n",
       " '750841634400239661']"
      ]
     },
     "execution_count": 73,
     "metadata": {},
     "output_type": "execute_result"
    }
   ],
   "source": [
    "rare_number_list[:10]"
   ]
  },
  {
   "cell_type": "code",
   "execution_count": 74,
   "metadata": {},
   "outputs": [
    {
     "data": {
      "text/plain": [
       "[nan, '답글', '답글', '답글', nan, nan, nan, nan, nan, nan]"
      ]
     },
     "execution_count": 74,
     "metadata": {},
     "output_type": "execute_result"
    }
   ],
   "source": [
    "check_reply_list[:10]"
   ]
  },
  {
   "cell_type": "markdown",
   "metadata": {},
   "source": [
    "### 8페이지"
   ]
  },
  {
   "cell_type": "code",
   "execution_count": 594,
   "metadata": {},
   "outputs": [
    {
     "name": "stderr",
     "output_type": "stream",
     "text": [
      "C:\\Users\\kbjung\\AppData\\Local\\Temp/ipykernel_5300/958989023.py:2: DeprecationWarning: find_element_by_xpath is deprecated. Please use find_element(by=By.XPATH, value=xpath) instead\n",
      "  driver.find_element_by_xpath('//*[@id=\"naverComment_201_222657505998\"]/div/div[4]/div/a[8]').click()\n"
     ]
    }
   ],
   "source": [
    "# 8 페이지 이동\n",
    "driver.find_element_by_xpath('//*[@id=\"naverComment_201_222657505998\"]/div/div[4]/div/a[8]').click()\n",
    "time.sleep( random.uniform(1, 1.5) )"
   ]
  },
  {
   "cell_type": "code",
   "execution_count": 595,
   "metadata": {},
   "outputs": [
    {
     "data": {
      "text/plain": [
       "50"
      ]
     },
     "execution_count": 595,
     "metadata": {},
     "output_type": "execute_result"
    }
   ],
   "source": [
    "# 페이지 수프에 담기\n",
    "comment_page_soup = bs(driver.page_source, 'lxml')\n",
    "comment_areas = comment_page_soup.find_all('li', 'u_cbox_comment')\n",
    "len(comment_areas)"
   ]
  },
  {
   "cell_type": "code",
   "execution_count": 596,
   "metadata": {},
   "outputs": [],
   "source": [
    "# 작성일 수집\n",
    "for one in comment_areas:\n",
    "    date = one.find('div', 'u_cbox_comment_box').find('span','u_cbox_date').attrs['data-value'].split('+')[0].replace('T',' ')\n",
    "    date_list.append(date)\n",
    "\n",
    "# 고유번호\n",
    "for one in comment_areas:\n",
    "    temp = one.attrs['class'][1].split('_')[-1]\n",
    "    rare_number_list.append(temp)\n",
    "\n",
    "# 답글 구분\n",
    "for one in comment_areas:\n",
    "    try:\n",
    "        one.find('span', 'u_cbox_secret_contents').text\n",
    "        temp = '비밀댓글'\n",
    "    except:\n",
    "        try:\n",
    "            temp = one.find('div', 'u_cbox_reply_area').find('li')\n",
    "            temp = nan\n",
    "        except:\n",
    "            temp = '답글'\n",
    "    check_reply_list.append(temp)\n",
    "\n",
    "# 닉네임\n",
    "for one in comment_areas:\n",
    "    try:\n",
    "        temp = one.find('span', 'u_cbox_nick').text\n",
    "    except:\n",
    "        temp = '비밀댓글'\n",
    "    nickname_list.append(temp)\n",
    "\n",
    "# 작성자 url\n",
    "for one in comment_areas:\n",
    "    try:\n",
    "        temp = one.find('a', 'u_cbox_name').attrs['href']\n",
    "    except:\n",
    "        temp = '비밀댓글'\n",
    "    writer_url_list.append(temp)\n",
    "\n",
    "# 공감수\n",
    "for one in comment_areas:\n",
    "    try:\n",
    "        temp = int( one.find('em', 'u_cbox_cnt_recomm').text )\n",
    "    except:\n",
    "        temp = 0\n",
    "    like_num_list.append(temp)\n",
    "\n",
    "# 링크 수\n",
    "for one in comment_areas:\n",
    "    try:\n",
    "        temp = one.find('span', 'u_cbox_contents').find_all('a', 'u_cbox_contents_link')\n",
    "        temp = len(temp)\n",
    "    except:\n",
    "        temp = 0\n",
    "    link_num_list.append(temp)\n",
    "\n",
    "# 답글 수\n",
    "for one in comment_areas:\n",
    "    try:\n",
    "        temp = one.find('div', 'u_cbox_reply_area').find_all('li')\n",
    "        temp = len(temp)\n",
    "    except:\n",
    "        temp = 0\n",
    "    reply_num_list.append(temp)\n",
    "\n",
    "# 첨부이미지url\n",
    "for one in comment_areas:\n",
    "    try:\n",
    "        temp = one.find('div', 'u_cbox_image_section').find('img').attrs['src']\n",
    "    except:\n",
    "        temp = nan\n",
    "    img_list.append(temp)\n",
    "\n",
    "# 댓글 내용 수집\n",
    "for one in comment_areas:\n",
    "    try:\n",
    "        temp = one.find('span', 'u_cbox_contents').text.replace('@', ' @', 1).replace('http', ' http', 1)\n",
    "    except:\n",
    "        temp = '비밀댓글'\n",
    "    comment_list.append(temp)"
   ]
  },
  {
   "cell_type": "code",
   "execution_count": 597,
   "metadata": {},
   "outputs": [
    {
     "name": "stdout",
     "output_type": "stream",
     "text": [
      "작성일 리스트 길이 :  401\n",
      "고유번호 리스트 길이 :  401\n",
      "답글구분 리스트 길이 :  401\n",
      "닉네임 리스트 길이 :  401\n",
      "작성자URL 리스트 길이 :  401\n",
      "공감수 리스트 길이 :  401\n",
      "링크수 리스트 길이 :  401\n",
      "답글수 리스트 길이 :  401\n",
      "첨부이미지URL 리스트 길이 :  401\n",
      "내용 리스트 길이 :  401\n"
     ]
    }
   ],
   "source": [
    "print('작성일 리스트 길이 : ', len(date_list))\n",
    "print('고유번호 리스트 길이 : ', len(rare_number_list))\n",
    "print('답글구분 리스트 길이 : ', len(check_reply_list))\n",
    "print('닉네임 리스트 길이 : ', len(nickname_list))\n",
    "print('작성자URL 리스트 길이 : ', len(writer_url_list))\n",
    "print('공감수 리스트 길이 : ', len(like_num_list))\n",
    "print('링크수 리스트 길이 : ', len(link_num_list))\n",
    "print('답글수 리스트 길이 : ', len(reply_num_list))\n",
    "print('첨부이미지URL 리스트 길이 : ', len(img_list))\n",
    "print('내용 리스트 길이 : ', len(comment_list))"
   ]
  },
  {
   "cell_type": "markdown",
   "metadata": {},
   "source": [
    "### 9페이지"
   ]
  },
  {
   "cell_type": "code",
   "execution_count": 598,
   "metadata": {},
   "outputs": [
    {
     "name": "stderr",
     "output_type": "stream",
     "text": [
      "C:\\Users\\kbjung\\AppData\\Local\\Temp/ipykernel_5300/2827278859.py:2: DeprecationWarning: find_element_by_xpath is deprecated. Please use find_element(by=By.XPATH, value=xpath) instead\n",
      "  driver.find_element_by_xpath('//*[@id=\"naverComment_201_222657505998\"]/div/div[4]/div/a[9]').click()\n"
     ]
    }
   ],
   "source": [
    "# 9 페이지 이동\n",
    "driver.find_element_by_xpath('//*[@id=\"naverComment_201_222657505998\"]/div/div[4]/div/a[9]').click()\n",
    "time.sleep( random.uniform(1, 1.5) )"
   ]
  },
  {
   "cell_type": "code",
   "execution_count": 599,
   "metadata": {},
   "outputs": [
    {
     "data": {
      "text/plain": [
       "50"
      ]
     },
     "execution_count": 599,
     "metadata": {},
     "output_type": "execute_result"
    }
   ],
   "source": [
    "# 페이지 수프에 담기\n",
    "comment_page_soup = bs(driver.page_source, 'lxml')\n",
    "comment_areas = comment_page_soup.find_all('li', 'u_cbox_comment')\n",
    "len(comment_areas)"
   ]
  },
  {
   "cell_type": "code",
   "execution_count": 600,
   "metadata": {},
   "outputs": [],
   "source": [
    "# 작성일 수집\n",
    "for one in comment_areas:\n",
    "    date = one.find('div', 'u_cbox_comment_box').find('span','u_cbox_date').attrs['data-value'].split('+')[0].replace('T',' ')\n",
    "    date_list.append(date)\n",
    "\n",
    "# 고유번호\n",
    "for one in comment_areas:\n",
    "    temp = one.attrs['class'][1].split('_')[-1]\n",
    "    rare_number_list.append(temp)\n",
    "\n",
    "# 답글 구분\n",
    "for one in comment_areas:\n",
    "    try:\n",
    "        one.find('span', 'u_cbox_secret_contents').text\n",
    "        temp = '비밀댓글'\n",
    "    except:\n",
    "        try:\n",
    "            temp = one.find('div', 'u_cbox_reply_area').find('li')\n",
    "            temp = nan\n",
    "        except:\n",
    "            temp = '답글'\n",
    "    check_reply_list.append(temp)\n",
    "\n",
    "# 닉네임\n",
    "for one in comment_areas:\n",
    "    try:\n",
    "        temp = one.find('span', 'u_cbox_nick').text\n",
    "    except:\n",
    "        temp = '비밀댓글'\n",
    "    nickname_list.append(temp)\n",
    "\n",
    "# 작성자 url\n",
    "for one in comment_areas:\n",
    "    try:\n",
    "        temp = one.find('a', 'u_cbox_name').attrs['href']\n",
    "    except:\n",
    "        temp = '비밀댓글'\n",
    "    writer_url_list.append(temp)\n",
    "\n",
    "# 공감수\n",
    "for one in comment_areas:\n",
    "    try:\n",
    "        temp = int( one.find('em', 'u_cbox_cnt_recomm').text )\n",
    "    except:\n",
    "        temp = 0\n",
    "    like_num_list.append(temp)\n",
    "\n",
    "# 링크 수\n",
    "for one in comment_areas:\n",
    "    try:\n",
    "        temp = one.find('span', 'u_cbox_contents').find_all('a', 'u_cbox_contents_link')\n",
    "        temp = len(temp)\n",
    "    except:\n",
    "        temp = 0\n",
    "    link_num_list.append(temp)\n",
    "\n",
    "# 답글 수\n",
    "for one in comment_areas:\n",
    "    try:\n",
    "        temp = one.find('div', 'u_cbox_reply_area').find_all('li')\n",
    "        temp = len(temp)\n",
    "    except:\n",
    "        temp = 0\n",
    "    reply_num_list.append(temp)\n",
    "\n",
    "# 첨부이미지url\n",
    "for one in comment_areas:\n",
    "    try:\n",
    "        temp = one.find('div', 'u_cbox_image_section').find('img').attrs['src']\n",
    "    except:\n",
    "        temp = nan\n",
    "    img_list.append(temp)\n",
    "\n",
    "# 댓글 내용 수집\n",
    "for one in comment_areas:\n",
    "    try:\n",
    "        temp = one.find('span', 'u_cbox_contents').text.replace('@', ' @', 1).replace('http', ' http', 1)\n",
    "    except:\n",
    "        temp = '비밀댓글'\n",
    "    comment_list.append(temp)"
   ]
  },
  {
   "cell_type": "code",
   "execution_count": 601,
   "metadata": {},
   "outputs": [
    {
     "name": "stdout",
     "output_type": "stream",
     "text": [
      "작성일 리스트 길이 :  451\n",
      "고유번호 리스트 길이 :  451\n",
      "답글구분 리스트 길이 :  451\n",
      "닉네임 리스트 길이 :  451\n",
      "작성자URL 리스트 길이 :  451\n",
      "공감수 리스트 길이 :  451\n",
      "링크수 리스트 길이 :  451\n",
      "답글수 리스트 길이 :  451\n",
      "첨부이미지URL 리스트 길이 :  451\n",
      "내용 리스트 길이 :  451\n"
     ]
    }
   ],
   "source": [
    "print('작성일 리스트 길이 : ', len(date_list))\n",
    "print('고유번호 리스트 길이 : ', len(rare_number_list))\n",
    "print('답글구분 리스트 길이 : ', len(check_reply_list))\n",
    "print('닉네임 리스트 길이 : ', len(nickname_list))\n",
    "print('작성자URL 리스트 길이 : ', len(writer_url_list))\n",
    "print('공감수 리스트 길이 : ', len(like_num_list))\n",
    "print('링크수 리스트 길이 : ', len(link_num_list))\n",
    "print('답글수 리스트 길이 : ', len(reply_num_list))\n",
    "print('첨부이미지URL 리스트 길이 : ', len(img_list))\n",
    "print('내용 리스트 길이 : ', len(comment_list))"
   ]
  },
  {
   "cell_type": "markdown",
   "metadata": {},
   "source": [
    "### 10페이지"
   ]
  },
  {
   "cell_type": "code",
   "execution_count": 602,
   "metadata": {},
   "outputs": [
    {
     "name": "stderr",
     "output_type": "stream",
     "text": [
      "C:\\Users\\kbjung\\AppData\\Local\\Temp/ipykernel_5300/3912001304.py:2: DeprecationWarning: find_element_by_xpath is deprecated. Please use find_element(by=By.XPATH, value=xpath) instead\n",
      "  driver.find_element_by_xpath('//*[@id=\"naverComment_201_222657505998\"]/div/div[4]/div/a[10]').click()\n"
     ]
    }
   ],
   "source": [
    "# 10 페이지 이동\n",
    "driver.find_element_by_xpath('//*[@id=\"naverComment_201_222657505998\"]/div/div[4]/div/a[10]').click()\n",
    "time.sleep( random.uniform(1, 1.5) )"
   ]
  },
  {
   "cell_type": "code",
   "execution_count": 603,
   "metadata": {},
   "outputs": [
    {
     "data": {
      "text/plain": [
       "50"
      ]
     },
     "execution_count": 603,
     "metadata": {},
     "output_type": "execute_result"
    }
   ],
   "source": [
    "# 페이지 수프에 담기\n",
    "comment_page_soup = bs(driver.page_source, 'lxml')\n",
    "comment_areas = comment_page_soup.find_all('li', 'u_cbox_comment')\n",
    "len(comment_areas)"
   ]
  },
  {
   "cell_type": "code",
   "execution_count": 604,
   "metadata": {},
   "outputs": [],
   "source": [
    "# 작성일 수집\n",
    "for one in comment_areas:\n",
    "    date = one.find('div', 'u_cbox_comment_box').find('span','u_cbox_date').attrs['data-value'].split('+')[0].replace('T',' ')\n",
    "    date_list.append(date)\n",
    "\n",
    "# 고유번호\n",
    "for one in comment_areas:\n",
    "    temp = one.attrs['class'][1].split('_')[-1]\n",
    "    rare_number_list.append(temp)\n",
    "\n",
    "# 답글 구분\n",
    "for one in comment_areas:\n",
    "    try:\n",
    "        one.find('span', 'u_cbox_secret_contents').text\n",
    "        temp = '비밀댓글'\n",
    "    except:\n",
    "        try:\n",
    "            temp = one.find('div', 'u_cbox_reply_area').find('li')\n",
    "            temp = nan\n",
    "        except:\n",
    "            temp = '답글'\n",
    "    check_reply_list.append(temp)\n",
    "\n",
    "# 닉네임\n",
    "for one in comment_areas:\n",
    "    try:\n",
    "        temp = one.find('span', 'u_cbox_nick').text\n",
    "    except:\n",
    "        temp = '비밀댓글'\n",
    "    nickname_list.append(temp)\n",
    "\n",
    "# 작성자 url\n",
    "for one in comment_areas:\n",
    "    try:\n",
    "        temp = one.find('a', 'u_cbox_name').attrs['href']\n",
    "    except:\n",
    "        temp = '비밀댓글'\n",
    "    writer_url_list.append(temp)\n",
    "\n",
    "# 공감수\n",
    "for one in comment_areas:\n",
    "    try:\n",
    "        temp = int( one.find('em', 'u_cbox_cnt_recomm').text )\n",
    "    except:\n",
    "        temp = 0\n",
    "    like_num_list.append(temp)\n",
    "\n",
    "# 링크 수\n",
    "for one in comment_areas:\n",
    "    try:\n",
    "        temp = one.find('span', 'u_cbox_contents').find_all('a', 'u_cbox_contents_link')\n",
    "        temp = len(temp)\n",
    "    except:\n",
    "        temp = 0\n",
    "    link_num_list.append(temp)\n",
    "\n",
    "# 답글 수\n",
    "for one in comment_areas:\n",
    "    try:\n",
    "        temp = one.find('div', 'u_cbox_reply_area').find_all('li')\n",
    "        temp = len(temp)\n",
    "    except:\n",
    "        temp = 0\n",
    "    reply_num_list.append(temp)\n",
    "\n",
    "# 첨부이미지url\n",
    "for one in comment_areas:\n",
    "    try:\n",
    "        temp = one.find('div', 'u_cbox_image_section').find('img').attrs['src']\n",
    "    except:\n",
    "        temp = nan\n",
    "    img_list.append(temp)\n",
    "\n",
    "# 댓글 내용 수집\n",
    "for one in comment_areas:\n",
    "    try:\n",
    "        temp = one.find('span', 'u_cbox_contents').text.replace('@', ' @', 1).replace('http', ' http', 1)\n",
    "    except:\n",
    "        temp = '비밀댓글'\n",
    "    comment_list.append(temp)"
   ]
  },
  {
   "cell_type": "code",
   "execution_count": 605,
   "metadata": {},
   "outputs": [
    {
     "name": "stdout",
     "output_type": "stream",
     "text": [
      "작성일 리스트 길이 :  501\n",
      "고유번호 리스트 길이 :  501\n",
      "답글구분 리스트 길이 :  501\n",
      "닉네임 리스트 길이 :  501\n",
      "작성자URL 리스트 길이 :  501\n",
      "공감수 리스트 길이 :  501\n",
      "링크수 리스트 길이 :  501\n",
      "답글수 리스트 길이 :  501\n",
      "첨부이미지URL 리스트 길이 :  501\n",
      "내용 리스트 길이 :  501\n"
     ]
    }
   ],
   "source": [
    "print('작성일 리스트 길이 : ', len(date_list))\n",
    "print('고유번호 리스트 길이 : ', len(rare_number_list))\n",
    "print('답글구분 리스트 길이 : ', len(check_reply_list))\n",
    "print('닉네임 리스트 길이 : ', len(nickname_list))\n",
    "print('작성자URL 리스트 길이 : ', len(writer_url_list))\n",
    "print('공감수 리스트 길이 : ', len(like_num_list))\n",
    "print('링크수 리스트 길이 : ', len(link_num_list))\n",
    "print('답글수 리스트 길이 : ', len(reply_num_list))\n",
    "print('첨부이미지URL 리스트 길이 : ', len(img_list))\n",
    "print('내용 리스트 길이 : ', len(comment_list))"
   ]
  },
  {
   "cell_type": "markdown",
   "metadata": {},
   "source": [
    "### 다음페이지(11페이지)"
   ]
  },
  {
   "cell_type": "code",
   "execution_count": 606,
   "metadata": {},
   "outputs": [
    {
     "name": "stderr",
     "output_type": "stream",
     "text": [
      "C:\\Users\\kbjung\\AppData\\Local\\Temp/ipykernel_5300/4106609553.py:2: DeprecationWarning: find_element_by_xpath is deprecated. Please use find_element(by=By.XPATH, value=xpath) instead\n",
      "  driver.find_element_by_xpath('//*[@id=\"naverComment_201_222657505998\"]/div/div[4]/div/a[11]').click()\n"
     ]
    }
   ],
   "source": [
    "# 다음(11)페이지 이동\n",
    "driver.find_element_by_xpath('//*[@id=\"naverComment_201_222657505998\"]/div/div[4]/div/a[11]').click()\n",
    "time.sleep( random.uniform(1, 1.5) )"
   ]
  },
  {
   "cell_type": "code",
   "execution_count": 607,
   "metadata": {},
   "outputs": [
    {
     "data": {
      "text/plain": [
       "50"
      ]
     },
     "execution_count": 607,
     "metadata": {},
     "output_type": "execute_result"
    }
   ],
   "source": [
    "# 페이지 수프에 담기\n",
    "comment_page_soup = bs(driver.page_source, 'lxml')\n",
    "comment_areas = comment_page_soup.find_all('li', 'u_cbox_comment')\n",
    "len(comment_areas)"
   ]
  },
  {
   "cell_type": "code",
   "execution_count": 608,
   "metadata": {},
   "outputs": [],
   "source": [
    "# 작성일 수집\n",
    "for one in comment_areas:\n",
    "    date = one.find('div', 'u_cbox_comment_box').find('span','u_cbox_date').attrs['data-value'].split('+')[0].replace('T',' ')\n",
    "    date_list.append(date)\n",
    "\n",
    "# 고유번호\n",
    "for one in comment_areas:\n",
    "    temp = one.attrs['class'][1].split('_')[-1]\n",
    "    rare_number_list.append(temp)\n",
    "\n",
    "# 답글 구분\n",
    "for one in comment_areas:\n",
    "    try:\n",
    "        one.find('span', 'u_cbox_secret_contents').text\n",
    "        temp = '비밀댓글'\n",
    "    except:\n",
    "        try:\n",
    "            temp = one.find('div', 'u_cbox_reply_area').find('li')\n",
    "            temp = nan\n",
    "        except:\n",
    "            temp = '답글'\n",
    "    check_reply_list.append(temp)\n",
    "\n",
    "# 닉네임\n",
    "for one in comment_areas:\n",
    "    try:\n",
    "        temp = one.find('span', 'u_cbox_nick').text\n",
    "    except:\n",
    "        temp = '비밀댓글'\n",
    "    nickname_list.append(temp)\n",
    "\n",
    "# 작성자 url\n",
    "for one in comment_areas:\n",
    "    try:\n",
    "        temp = one.find('a', 'u_cbox_name').attrs['href']\n",
    "    except:\n",
    "        temp = '비밀댓글'\n",
    "    writer_url_list.append(temp)\n",
    "\n",
    "# 공감수\n",
    "for one in comment_areas:\n",
    "    try:\n",
    "        temp = int( one.find('em', 'u_cbox_cnt_recomm').text )\n",
    "    except:\n",
    "        temp = 0\n",
    "    like_num_list.append(temp)\n",
    "\n",
    "# 링크 수\n",
    "for one in comment_areas:\n",
    "    try:\n",
    "        temp = one.find('span', 'u_cbox_contents').find_all('a', 'u_cbox_contents_link')\n",
    "        temp = len(temp)\n",
    "    except:\n",
    "        temp = 0\n",
    "    link_num_list.append(temp)\n",
    "\n",
    "# 답글 수\n",
    "for one in comment_areas:\n",
    "    try:\n",
    "        temp = one.find('div', 'u_cbox_reply_area').find_all('li')\n",
    "        temp = len(temp)\n",
    "    except:\n",
    "        temp = 0\n",
    "    reply_num_list.append(temp)\n",
    "\n",
    "# 첨부이미지url\n",
    "for one in comment_areas:\n",
    "    try:\n",
    "        temp = one.find('div', 'u_cbox_image_section').find('img').attrs['src']\n",
    "    except:\n",
    "        temp = nan\n",
    "    img_list.append(temp)\n",
    "\n",
    "# 댓글 내용 수집\n",
    "for one in comment_areas:\n",
    "    try:\n",
    "        temp = one.find('span', 'u_cbox_contents').text.replace('@', ' @', 1).replace('http', ' http', 1)\n",
    "    except:\n",
    "        temp = '비밀댓글'\n",
    "    comment_list.append(temp)"
   ]
  },
  {
   "cell_type": "code",
   "execution_count": 609,
   "metadata": {},
   "outputs": [
    {
     "name": "stdout",
     "output_type": "stream",
     "text": [
      "작성일 리스트 길이 :  551\n",
      "고유번호 리스트 길이 :  551\n",
      "답글구분 리스트 길이 :  551\n",
      "닉네임 리스트 길이 :  551\n",
      "작성자URL 리스트 길이 :  551\n",
      "공감수 리스트 길이 :  551\n",
      "링크수 리스트 길이 :  551\n",
      "답글수 리스트 길이 :  551\n",
      "첨부이미지URL 리스트 길이 :  551\n",
      "내용 리스트 길이 :  551\n"
     ]
    }
   ],
   "source": [
    "print('작성일 리스트 길이 : ', len(date_list))\n",
    "print('고유번호 리스트 길이 : ', len(rare_number_list))\n",
    "print('답글구분 리스트 길이 : ', len(check_reply_list))\n",
    "print('닉네임 리스트 길이 : ', len(nickname_list))\n",
    "print('작성자URL 리스트 길이 : ', len(writer_url_list))\n",
    "print('공감수 리스트 길이 : ', len(like_num_list))\n",
    "print('링크수 리스트 길이 : ', len(link_num_list))\n",
    "print('답글수 리스트 길이 : ', len(reply_num_list))\n",
    "print('첨부이미지URL 리스트 길이 : ', len(img_list))\n",
    "print('내용 리스트 길이 : ', len(comment_list))"
   ]
  },
  {
   "cell_type": "markdown",
   "metadata": {},
   "source": [
    "### 12페이지"
   ]
  },
  {
   "cell_type": "markdown",
   "metadata": {},
   "source": [
    "## 수집한 데이터 확인"
   ]
  },
  {
   "cell_type": "code",
   "execution_count": 626,
   "metadata": {},
   "outputs": [
    {
     "name": "stdout",
     "output_type": "stream",
     "text": [
      "작성일 리스트 길이 :  731\n",
      "고유번호 리스트 길이 :  731\n",
      "답글구분 리스트 길이 :  731\n",
      "닉네임 리스트 길이 :  731\n",
      "작성자URL 리스트 길이 :  731\n",
      "공감수 리스트 길이 :  731\n",
      "링크수 리스트 길이 :  731\n",
      "답글수 리스트 길이 :  731\n",
      "첨부이미지URL 리스트 길이 :  731\n",
      "내용 리스트 길이 :  731\n"
     ]
    }
   ],
   "source": [
    "print('작성일 리스트 길이 : ', len(date_list))\n",
    "print('고유번호 리스트 길이 : ', len(rare_number_list))\n",
    "print('답글구분 리스트 길이 : ', len(check_reply_list))\n",
    "print('닉네임 리스트 길이 : ', len(nickname_list))\n",
    "print('작성자URL 리스트 길이 : ', len(writer_url_list))\n",
    "print('공감수 리스트 길이 : ', len(like_num_list))\n",
    "print('링크수 리스트 길이 : ', len(link_num_list))\n",
    "print('답글수 리스트 길이 : ', len(reply_num_list))\n",
    "print('첨부이미지URL 리스트 길이 : ', len(img_list))\n",
    "print('내용 리스트 길이 : ', len(comment_list))"
   ]
  },
  {
   "cell_type": "markdown",
   "metadata": {},
   "source": [
    "## df 만들기"
   ]
  },
  {
   "cell_type": "code",
   "execution_count": 627,
   "metadata": {},
   "outputs": [],
   "source": [
    "dict = {'작성일':date_list, '고유번호':rare_number_list, \n",
    "        '답글구분':check_reply_list, '닉네임':nickname_list, \n",
    "        '작성자URL':writer_url_list, '공감수':like_num_list, \n",
    "        '링크수':link_num_list, '답글수':reply_num_list, \n",
    "        '첨부이미지URL':img_list, '내용':comment_list}\n",
    "df = pd.DataFrame(dict)"
   ]
  },
  {
   "cell_type": "code",
   "execution_count": 628,
   "metadata": {},
   "outputs": [
    {
     "data": {
      "text/html": [
       "<div>\n",
       "<style scoped>\n",
       "    .dataframe tbody tr th:only-of-type {\n",
       "        vertical-align: middle;\n",
       "    }\n",
       "\n",
       "    .dataframe tbody tr th {\n",
       "        vertical-align: top;\n",
       "    }\n",
       "\n",
       "    .dataframe thead th {\n",
       "        text-align: right;\n",
       "    }\n",
       "</style>\n",
       "<table border=\"1\" class=\"dataframe\">\n",
       "  <thead>\n",
       "    <tr style=\"text-align: right;\">\n",
       "      <th></th>\n",
       "      <th>작성일</th>\n",
       "      <th>고유번호</th>\n",
       "      <th>답글구분</th>\n",
       "      <th>닉네임</th>\n",
       "      <th>작성자URL</th>\n",
       "      <th>공감수</th>\n",
       "      <th>링크수</th>\n",
       "      <th>답글수</th>\n",
       "      <th>첨부이미지URL</th>\n",
       "      <th>내용</th>\n",
       "    </tr>\n",
       "  </thead>\n",
       "  <tbody>\n",
       "    <tr>\n",
       "      <th>0</th>\n",
       "      <td>2022-02-25 12:58:42</td>\n",
       "      <td>750627914109682094</td>\n",
       "      <td>NaN</td>\n",
       "      <td>문득</td>\n",
       "      <td>https://blog.naver.com/ekdlskdl</td>\n",
       "      <td>0</td>\n",
       "      <td>0</td>\n",
       "      <td>0</td>\n",
       "      <td>NaN</td>\n",
       "      <td>*정답: 3번 @해피쏭</td>\n",
       "    </tr>\n",
       "    <tr>\n",
       "      <th>1</th>\n",
       "      <td>2022-02-25 12:59:29</td>\n",
       "      <td>750627965884170523</td>\n",
       "      <td>NaN</td>\n",
       "      <td>푸른하늘현</td>\n",
       "      <td>https://blog.naver.com/blueday118</td>\n",
       "      <td>0</td>\n",
       "      <td>1</td>\n",
       "      <td>0</td>\n",
       "      <td>NaN</td>\n",
       "      <td>정답 : 3번 https://blog.naver.com/blueday118/2226...</td>\n",
       "    </tr>\n",
       "    <tr>\n",
       "      <th>2</th>\n",
       "      <td>2022-02-25 13:05:52</td>\n",
       "      <td>750628376070324774</td>\n",
       "      <td>NaN</td>\n",
       "      <td>란</td>\n",
       "      <td>https://blog.naver.com/cdism</td>\n",
       "      <td>0</td>\n",
       "      <td>1</td>\n",
       "      <td>0</td>\n",
       "      <td>NaN</td>\n",
       "      <td>*정답: 3번  https://blog.naver.com/cdism  @란 @cdism</td>\n",
       "    </tr>\n",
       "    <tr>\n",
       "      <th>3</th>\n",
       "      <td>2022-02-25 13:07:04</td>\n",
       "      <td>750628453866274870</td>\n",
       "      <td>NaN</td>\n",
       "      <td>saypark3824</td>\n",
       "      <td>https://blog.naver.com/saypark3824</td>\n",
       "      <td>0</td>\n",
       "      <td>0</td>\n",
       "      <td>0</td>\n",
       "      <td>https://g-cbox.pstatic.net/MjAyMjAyMjVfNTkg/MD...</td>\n",
       "      <td>정답 : 3번 입니다 @최준원 학생기자</td>\n",
       "    </tr>\n",
       "    <tr>\n",
       "      <th>4</th>\n",
       "      <td>2022-02-25 13:07:35</td>\n",
       "      <td>750628486162415983</td>\n",
       "      <td>NaN</td>\n",
       "      <td>리체</td>\n",
       "      <td>https://blog.naver.com/litvice</td>\n",
       "      <td>0</td>\n",
       "      <td>0</td>\n",
       "      <td>0</td>\n",
       "      <td>NaN</td>\n",
       "      <td>3번~~~^^</td>\n",
       "    </tr>\n",
       "  </tbody>\n",
       "</table>\n",
       "</div>"
      ],
      "text/plain": [
       "                   작성일                고유번호 답글구분          닉네임  \\\n",
       "0  2022-02-25 12:58:42  750627914109682094  NaN           문득   \n",
       "1  2022-02-25 12:59:29  750627965884170523  NaN        푸른하늘현   \n",
       "2  2022-02-25 13:05:52  750628376070324774  NaN            란   \n",
       "3  2022-02-25 13:07:04  750628453866274870  NaN  saypark3824   \n",
       "4  2022-02-25 13:07:35  750628486162415983  NaN           리체   \n",
       "\n",
       "                               작성자URL  공감수  링크수  답글수  \\\n",
       "0     https://blog.naver.com/ekdlskdl    0    0    0   \n",
       "1   https://blog.naver.com/blueday118    0    1    0   \n",
       "2        https://blog.naver.com/cdism    0    1    0   \n",
       "3  https://blog.naver.com/saypark3824    0    0    0   \n",
       "4      https://blog.naver.com/litvice    0    0    0   \n",
       "\n",
       "                                            첨부이미지URL  \\\n",
       "0                                                NaN   \n",
       "1                                                NaN   \n",
       "2                                                NaN   \n",
       "3  https://g-cbox.pstatic.net/MjAyMjAyMjVfNTkg/MD...   \n",
       "4                                                NaN   \n",
       "\n",
       "                                                  내용  \n",
       "0                                       *정답: 3번 @해피쏭  \n",
       "1  정답 : 3번 https://blog.naver.com/blueday118/2226...  \n",
       "2   *정답: 3번  https://blog.naver.com/cdism  @란 @cdism  \n",
       "3                              정답 : 3번 입니다 @최준원 학생기자  \n",
       "4                                            3번~~~^^  "
      ]
     },
     "execution_count": 628,
     "metadata": {},
     "output_type": "execute_result"
    }
   ],
   "source": [
    "df.head()"
   ]
  },
  {
   "cell_type": "markdown",
   "metadata": {},
   "source": [
    "## 파일로 출력"
   ]
  },
  {
   "cell_type": "code",
   "execution_count": 629,
   "metadata": {},
   "outputs": [
    {
     "data": {
      "text/plain": [
       "'c:/data/Wantreez/Crawling/incheon/crawled_data/naver_blog'"
      ]
     },
     "execution_count": 629,
     "metadata": {},
     "output_type": "execute_result"
    }
   ],
   "source": [
    "crawled_folder_path"
   ]
  },
  {
   "cell_type": "code",
   "execution_count": 630,
   "metadata": {},
   "outputs": [
    {
     "data": {
      "text/plain": [
       "'20220415_133755'"
      ]
     },
     "execution_count": 630,
     "metadata": {},
     "output_type": "execute_result"
    }
   ],
   "source": [
    "today_date = datetime.today().strftime('%Y%m%d_%H%M%S')\n",
    "today_date"
   ]
  },
  {
   "cell_type": "code",
   "execution_count": 631,
   "metadata": {},
   "outputs": [
    {
     "name": "stdout",
     "output_type": "stream",
     "text": [
      "naver_blog_20220415_133755.xlsx 출력완료\n"
     ]
    }
   ],
   "source": [
    "today_date = datetime.today().strftime('%Y%m%d_%H%M%S')\n",
    "file_name = f'naver_blog_{today_date}.xlsx'\n",
    "df.to_excel(crawled_folder_path + '/' + file_name, index=False, encoding='utf-8')\n",
    "print(f'{file_name} 출력완료')"
   ]
  },
  {
   "cell_type": "markdown",
   "metadata": {},
   "source": [
    "# 코드 마지막"
   ]
  }
 ],
 "metadata": {
  "interpreter": {
   "hash": "b3ba2566441a7c06988d0923437866b63cedc61552a5af99d1f4fb67d367b25f"
  },
  "kernelspec": {
   "display_name": "Python 3.9.7 ('base')",
   "language": "python",
   "name": "python3"
  },
  "language_info": {
   "codemirror_mode": {
    "name": "ipython",
    "version": 3
   },
   "file_extension": ".py",
   "mimetype": "text/x-python",
   "name": "python",
   "nbconvert_exporter": "python",
   "pygments_lexer": "ipython3",
   "version": "3.8.8"
  },
  "orig_nbformat": 4
 },
 "nbformat": 4,
 "nbformat_minor": 2
}
