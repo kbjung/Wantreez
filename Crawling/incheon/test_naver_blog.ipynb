{
 "cells": [
  {
   "cell_type": "markdown",
   "metadata": {},
   "source": [
    "# Naver blog scrap"
   ]
  },
  {
   "cell_type": "code",
   "execution_count": 2,
   "metadata": {},
   "outputs": [
    {
     "data": {
      "text/plain": [
       "(10, [[], [], [], [], [], [], [], [], [], []])"
      ]
     },
     "execution_count": 2,
     "metadata": {},
     "output_type": "execute_result"
    }
   ],
   "source": [
    "first_list = [ [] ] * 10\n",
    "len(first_list), first_list"
   ]
  },
  {
   "cell_type": "code",
   "execution_count": 3,
   "metadata": {},
   "outputs": [
    {
     "data": {
      "text/plain": [
       "2191901671232"
      ]
     },
     "execution_count": 3,
     "metadata": {},
     "output_type": "execute_result"
    }
   ],
   "source": [
    "date_list = first_list[0]\n",
    "id(date_list)"
   ]
  },
  {
   "cell_type": "code",
   "execution_count": 5,
   "metadata": {},
   "outputs": [
    {
     "data": {
      "text/plain": [
       "2191901671232"
      ]
     },
     "execution_count": 5,
     "metadata": {},
     "output_type": "execute_result"
    }
   ],
   "source": [
    "rare_number_list  = first_list[1]\n",
    "id(rare_number_list )"
   ]
  },
  {
   "cell_type": "code",
   "execution_count": 6,
   "metadata": {},
   "outputs": [
    {
     "data": {
      "text/plain": [
       "([1], [1])"
      ]
     },
     "execution_count": 6,
     "metadata": {},
     "output_type": "execute_result"
    }
   ],
   "source": [
    "date_list.append(1)\n",
    "date_list, rare_number_list"
   ]
  },
  {
   "cell_type": "markdown",
   "metadata": {},
   "source": [
    "## 라이브러리"
   ]
  },
  {
   "cell_type": "code",
   "execution_count": 75,
   "metadata": {},
   "outputs": [],
   "source": [
    "import pandas as pd\n",
    "import time, os, random\n",
    "from datetime import datetime\n",
    "from numpy import nan"
   ]
  },
  {
   "cell_type": "code",
   "execution_count": 76,
   "metadata": {},
   "outputs": [],
   "source": [
    "from bs4 import BeautifulSoup as bs\n",
    "from selenium import webdriver\n",
    "import chromedriver_autoinstaller as ca"
   ]
  },
  {
   "cell_type": "markdown",
   "metadata": {},
   "source": [
    "## 함수"
   ]
  },
  {
   "cell_type": "code",
   "execution_count": 123,
   "metadata": {},
   "outputs": [],
   "source": [
    "def crawling(comment_areas, list):\n",
    "    # 리스트 지정\n",
    "    date_list = list[0]\n",
    "    rare_number_list = list[1]\n",
    "    check_reply_list = list[2]\n",
    "    nickname_list = list[3]\n",
    "    writer_url_list = list[4]\n",
    "    like_num_list = list[5]\n",
    "    link_num_list = list[6]\n",
    "    reply_num_list = list[7]\n",
    "    img_list = list[8]\n",
    "    comment_list = list[9]\n",
    "\n",
    "    for one in comment_areas:\n",
    "        # 작성일 수집\n",
    "        date = one.find('div', 'u_cbox_comment_box').find('span','u_cbox_date').attrs['data-value'].split('+')[0].replace('T',' ')\n",
    "        date_list.append(date)\n",
    "\n",
    "        # 고유번호\n",
    "        temp = one.attrs['class'][1].split('_')[-1]\n",
    "        rare_number_list.append(temp)\n",
    "\n",
    "        # 답글 구분\n",
    "        try:\n",
    "            one.find('span', 'u_cbox_secret_contents').text\n",
    "            temp = '비밀댓글'\n",
    "        except:\n",
    "            try:\n",
    "                temp = one.find('div', 'u_cbox_reply_area').find('li')\n",
    "                temp = nan\n",
    "            except:\n",
    "                temp = '답글'\n",
    "        check_reply_list.append(temp)\n",
    "\n",
    "        # 닉네임\n",
    "        try:\n",
    "            temp = one.find('span', 'u_cbox_nick').text\n",
    "        except:\n",
    "            temp = '비밀댓글'\n",
    "        nickname_list.append(temp)\n",
    "\n",
    "        # 작성자 url\n",
    "        try:\n",
    "            temp = one.find('a', 'u_cbox_name').attrs['href']\n",
    "        except:\n",
    "            temp = '비밀댓글'\n",
    "        writer_url_list.append(temp)\n",
    "\n",
    "        # 공감수\n",
    "        try:\n",
    "            temp = int( one.find('em', 'u_cbox_cnt_recomm').text )\n",
    "        except:\n",
    "            temp = 0\n",
    "        like_num_list.append(temp)\n",
    "\n",
    "        # 링크 수\n",
    "        try:\n",
    "            temp = one.find('span', 'u_cbox_contents').find_all('a', 'u_cbox_contents_link')\n",
    "            temp = len(temp)\n",
    "        except:\n",
    "            temp = 0\n",
    "        link_num_list.append(temp)\n",
    "\n",
    "        # 답글 수\n",
    "        try:\n",
    "            temp = one.find('div', 'u_cbox_reply_area').find_all('li')\n",
    "            temp = len(temp)\n",
    "        except:\n",
    "            temp = 0\n",
    "        reply_num_list.append(temp)\n",
    "\n",
    "        # 첨부이미지url\n",
    "        try:\n",
    "            temp = one.find('div', 'u_cbox_image_section').find('img').attrs['src']\n",
    "        except:\n",
    "            temp = nan\n",
    "        img_list.append(temp)\n",
    "\n",
    "        # 댓글 내용 수집\n",
    "        try:\n",
    "            temp = one.find('span', 'u_cbox_contents').text.replace('@', ' @', 1).replace('http', ' http', 1)\n",
    "        except:\n",
    "            temp = '비밀댓글'\n",
    "        comment_list.append(temp)\n",
    "\n",
    "    # 수집한 데이터 확인\n",
    "    print('작성일 리스트 길이 : ', len(date_list))\n",
    "    print('고유번호 리스트 길이 : ', len(rare_number_list))\n",
    "    print('답글구분 리스트 길이 : ', len(check_reply_list))\n",
    "    print('닉네임 리스트 길이 : ', len(nickname_list))\n",
    "    print('작성자URL 리스트 길이 : ', len(writer_url_list))\n",
    "    print('공감수 리스트 길이 : ', len(like_num_list))\n",
    "    print('링크수 리스트 길이 : ', len(link_num_list))\n",
    "    print('답글수 리스트 길이 : ', len(reply_num_list))\n",
    "    print('첨부이미지URL 리스트 길이 : ', len(img_list))\n",
    "    print('내용 리스트 길이 : ', len(comment_list))\n",
    "\n",
    "    # 리스트에 담기\n",
    "    crawled_list = [date_list, rare_number_list, check_reply_list, nickname_list, \n",
    "            writer_url_list, like_num_list, link_num_list, reply_num_list,\n",
    "            img_list, comment_list]\n",
    "\n",
    "    return crawled_list"
   ]
  },
  {
   "cell_type": "markdown",
   "metadata": {},
   "source": [
    "## 현재 파일 위치 확인"
   ]
  },
  {
   "cell_type": "code",
   "execution_count": 77,
   "metadata": {},
   "outputs": [
    {
     "data": {
      "text/plain": [
       "'c:/data/Wantreez/Crawling/incheon'"
      ]
     },
     "execution_count": 77,
     "metadata": {},
     "output_type": "execute_result"
    }
   ],
   "source": [
    "# 현재 파일 위치 확인\n",
    "code_path = os.getcwd().replace('\\\\', '/')\n",
    "code_path"
   ]
  },
  {
   "cell_type": "markdown",
   "metadata": {},
   "source": [
    "## 수집한 파일 저장 폴더 생성"
   ]
  },
  {
   "cell_type": "code",
   "execution_count": 78,
   "metadata": {},
   "outputs": [],
   "source": [
    "# 수집한 파일을 저장할 폴더 생성\n",
    "crawled_folder_path = code_path + '/crawled_data/naver_blog'\n",
    "os.makedirs(crawled_folder_path, exist_ok=True)"
   ]
  },
  {
   "cell_type": "markdown",
   "metadata": {},
   "source": [
    "## 크롬 드라이버 버전 확인 및 설치"
   ]
  },
  {
   "cell_type": "code",
   "execution_count": 79,
   "metadata": {},
   "outputs": [
    {
     "data": {
      "text/plain": [
       "'100'"
      ]
     },
     "execution_count": 79,
     "metadata": {},
     "output_type": "execute_result"
    }
   ],
   "source": [
    "# 크롬 드라이버 버전 확인\n",
    "chrome_ver = ca.get_chrome_version().split('.')[0]\n",
    "chrome_ver"
   ]
  },
  {
   "cell_type": "code",
   "execution_count": 125,
   "metadata": {},
   "outputs": [
    {
     "name": "stderr",
     "output_type": "stream",
     "text": [
      "C:\\Users\\kbjung\\AppData\\Local\\Temp/ipykernel_7724/3261653714.py:3: DeprecationWarning: executable_path has been deprecated, please pass in a Service object\n",
      "  driver = webdriver.Chrome(code_path + f'/{chrome_ver}/' + 'chromedriver.exe')\n"
     ]
    }
   ],
   "source": [
    "# 크롬 드라이버 설치 확인\n",
    "try:\n",
    "    driver = webdriver.Chrome(code_path + f'/{chrome_ver}/' + 'chromedriver.exe')\n",
    "except:\n",
    "    ca.install(True)\n",
    "    driver = webdriver.Chrome(code_path + f'/{chrome_ver}/' + 'chromedriver.exe')"
   ]
  },
  {
   "cell_type": "markdown",
   "metadata": {},
   "source": [
    "## 페이지 접속"
   ]
  },
  {
   "cell_type": "code",
   "execution_count": null,
   "metadata": {},
   "outputs": [],
   "source": [
    "# 댓글 1페이지 : https://blog.naver.com/PostView.naver?blogId=icouncil103&logNo=222668964493&categoryNo=9&parentCategoryNo=9&from=thumbnailList\n",
    "\n",
    "# 댓글 5페이지 : https://blog.naver.com/PostView.naver?blogId=icouncil103&logNo=222579280294&categoryNo=9&parentCategoryNo=9&from=thumbnailList\n",
    "\n",
    "# 댓글 15페이지 : https://blog.naver.com/PostView.naver?blogId=icouncil103&logNo=222657505998&categoryNo=9&parentCategoryNo=9&from=thumbnailList"
   ]
  },
  {
   "cell_type": "code",
   "execution_count": 126,
   "metadata": {},
   "outputs": [],
   "source": [
    "# 페이지 접속\n",
    "url = 'https://blog.naver.com/PostView.naver?blogId=icouncil103&logNo=222657505998&categoryNo=9&parentCategoryNo=9&from=thumbnailList'\n",
    "driver.get(url)\n",
    "driver.implicitly_wait(3)\n",
    "driver.maximize_window()"
   ]
  },
  {
   "cell_type": "code",
   "execution_count": 127,
   "metadata": {},
   "outputs": [
    {
     "data": {
      "text/plain": [
       "'222657505998'"
      ]
     },
     "execution_count": 127,
     "metadata": {},
     "output_type": "execute_result"
    }
   ],
   "source": [
    "# page 정보\n",
    "page_info = url.split('=')[2].split('&')[0]\n",
    "page_info"
   ]
  },
  {
   "cell_type": "markdown",
   "metadata": {},
   "source": [
    "## 페이지 스크래핑"
   ]
  },
  {
   "cell_type": "markdown",
   "metadata": {},
   "source": [
    "### 댓글 버튼 클릭"
   ]
  },
  {
   "cell_type": "code",
   "execution_count": 128,
   "metadata": {},
   "outputs": [
    {
     "name": "stderr",
     "output_type": "stream",
     "text": [
      "C:\\Users\\kbjung\\AppData\\Local\\Temp/ipykernel_7724/3197372586.py:2: DeprecationWarning: find_element_by_xpath is deprecated. Please use find_element(by=By.XPATH, value=xpath) instead\n",
      "  comment_button = driver.find_element_by_xpath(f'//*[@id=\"Comi{page_info}\"]')\n"
     ]
    }
   ],
   "source": [
    "# 댓글 버튼 클릭\n",
    "comment_button = driver.find_element_by_xpath(f'//*[@id=\"Comi{page_info}\"]')\n",
    "comment_button.click()\n",
    "time.sleep(1)"
   ]
  },
  {
   "cell_type": "markdown",
   "metadata": {},
   "source": [
    "## 페이지 이동 규칙 찾기"
   ]
  },
  {
   "cell_type": "code",
   "execution_count": 129,
   "metadata": {},
   "outputs": [],
   "source": [
    "# 이전페이지 : //*[@id=\"naverComment_201_222657505998\"]/div/div[4]/div/a[2]\n",
    "# 1 : //*[@id=\"naverComment_201_222657505998\"]/div/div[4]/div/a[2]\n",
    "# 2 : //*[@id=\"naverComment_201_222657505998\"]/div/div[4]/div/a[1]\n",
    "# 3 : //*[@id=\"naverComment_201_222657505998\"]/div/div[4]/div/a[3]\n",
    "# 4 : //*[@id=\"naverComment_201_222657505998\"]/div/div[4]/div/a[4]\n",
    "# 5 : //*[@id=\"naverComment_201_222657505998\"]/div/div[4]/div/a[5]\n",
    "# 6 : //*[@id=\"naverComment_201_222657505998\"]/div/div[4]/div/a[6]\n",
    "# 7 : //*[@id=\"naverComment_201_222657505998\"]/div/div[4]/div/a[7]\n",
    "# 8 : //*[@id=\"naverComment_201_222657505998\"]/div/div[4]/div/a[8]\n",
    "# 9 : //*[@id=\"naverComment_201_222657505998\"]/div/div[4]/div/a[9]\n",
    "# 10 : //*[@id=\"naverComment_201_222657505998\"]/div/div[4]/div/a[10]\n",
    "# 11(다음페이지) : //*[@id=\"naverComment_201_222657505998\"]/div/div[4]/div/a[11]\n",
    "# 12 : //*[@id=\"naverComment_201_222657505998\"]/div/div[4]/div/a[3]\n",
    "# 13 : //*[@id=\"naverComment_201_222657505998\"]/div/div[4]/div/a[4]\n",
    "# 14 : //*[@id=\"naverComment_201_222657505998\"]/div/div[4]/div/a[5]\n",
    "# 15 : //*[@id=\"naverComment_201_222657505998\"]/div/div[4]/div/a[6]"
   ]
  },
  {
   "cell_type": "markdown",
   "metadata": {},
   "source": [
    "### 페이지 버튼 개수"
   ]
  },
  {
   "cell_type": "code",
   "execution_count": 130,
   "metadata": {},
   "outputs": [
    {
     "data": {
      "text/plain": [
       "15"
      ]
     },
     "execution_count": 130,
     "metadata": {},
     "output_type": "execute_result"
    }
   ],
   "source": [
    "soup = bs(driver.page_source, 'lxml')\n",
    "num_page_buttons = int(soup.find('span', '_lastPageNo').text)\n",
    "num_page_buttons"
   ]
  },
  {
   "cell_type": "code",
   "execution_count": 131,
   "metadata": {},
   "outputs": [
    {
     "data": {
      "text/plain": [
       "(10, [[], [], [], [], [], [], [], [], [], []])"
      ]
     },
     "execution_count": 131,
     "metadata": {},
     "output_type": "execute_result"
    }
   ],
   "source": [
    "list = [[], [], [], [], [], [], [], [], [], []]\n",
    "len(list), list"
   ]
  },
  {
   "cell_type": "code",
   "execution_count": 132,
   "metadata": {},
   "outputs": [
    {
     "name": "stderr",
     "output_type": "stream",
     "text": [
      "C:\\Users\\kbjung\\AppData\\Local\\Temp/ipykernel_7724/1262821627.py:2: DeprecationWarning: find_element_by_xpath is deprecated. Please use find_element(by=By.XPATH, value=xpath) instead\n",
      "  button = driver.find_element_by_xpath(f'//*[@id=\"naverComment_201_{page_info}_ct\"]/div[1]/div/div[2]/a[1]')\n"
     ]
    },
    {
     "name": "stdout",
     "output_type": "stream",
     "text": [
      "50\n",
      "작성일 리스트 길이 :  50\n",
      "고유번호 리스트 길이 :  50\n",
      "답글구분 리스트 길이 :  50\n",
      "닉네임 리스트 길이 :  50\n",
      "작성자URL 리스트 길이 :  50\n",
      "공감수 리스트 길이 :  50\n",
      "링크수 리스트 길이 :  50\n",
      "답글수 리스트 길이 :  50\n",
      "첨부이미지URL 리스트 길이 :  50\n",
      "내용 리스트 길이 :  50\n",
      "50\n",
      "작성일 리스트 길이 :  100\n",
      "고유번호 리스트 길이 :  100\n",
      "답글구분 리스트 길이 :  100\n",
      "닉네임 리스트 길이 :  100\n",
      "작성자URL 리스트 길이 :  100\n",
      "공감수 리스트 길이 :  100\n",
      "링크수 리스트 길이 :  100\n",
      "답글수 리스트 길이 :  100\n",
      "첨부이미지URL 리스트 길이 :  100\n",
      "내용 리스트 길이 :  100\n",
      "50\n",
      "작성일 리스트 길이 :  150\n",
      "고유번호 리스트 길이 :  150\n",
      "답글구분 리스트 길이 :  150\n",
      "닉네임 리스트 길이 :  150\n",
      "작성자URL 리스트 길이 :  150\n",
      "공감수 리스트 길이 :  150\n",
      "링크수 리스트 길이 :  150\n",
      "답글수 리스트 길이 :  150\n",
      "첨부이미지URL 리스트 길이 :  150\n",
      "내용 리스트 길이 :  150\n",
      "50\n",
      "작성일 리스트 길이 :  200\n",
      "고유번호 리스트 길이 :  200\n",
      "답글구분 리스트 길이 :  200\n",
      "닉네임 리스트 길이 :  200\n",
      "작성자URL 리스트 길이 :  200\n",
      "공감수 리스트 길이 :  200\n",
      "링크수 리스트 길이 :  200\n",
      "답글수 리스트 길이 :  200\n",
      "첨부이미지URL 리스트 길이 :  200\n",
      "내용 리스트 길이 :  200\n",
      "50\n",
      "작성일 리스트 길이 :  250\n",
      "고유번호 리스트 길이 :  250\n",
      "답글구분 리스트 길이 :  250\n",
      "닉네임 리스트 길이 :  250\n",
      "작성자URL 리스트 길이 :  250\n",
      "공감수 리스트 길이 :  250\n",
      "링크수 리스트 길이 :  250\n",
      "답글수 리스트 길이 :  250\n",
      "첨부이미지URL 리스트 길이 :  250\n",
      "내용 리스트 길이 :  250\n",
      "50\n",
      "작성일 리스트 길이 :  300\n",
      "고유번호 리스트 길이 :  300\n",
      "답글구분 리스트 길이 :  300\n",
      "닉네임 리스트 길이 :  300\n",
      "작성자URL 리스트 길이 :  300\n",
      "공감수 리스트 길이 :  300\n",
      "링크수 리스트 길이 :  300\n",
      "답글수 리스트 길이 :  300\n",
      "첨부이미지URL 리스트 길이 :  300\n",
      "내용 리스트 길이 :  300\n",
      "50\n",
      "작성일 리스트 길이 :  350\n",
      "고유번호 리스트 길이 :  350\n",
      "답글구분 리스트 길이 :  350\n",
      "닉네임 리스트 길이 :  350\n",
      "작성자URL 리스트 길이 :  350\n",
      "공감수 리스트 길이 :  350\n",
      "링크수 리스트 길이 :  350\n",
      "답글수 리스트 길이 :  350\n",
      "첨부이미지URL 리스트 길이 :  350\n",
      "내용 리스트 길이 :  350\n",
      "51\n",
      "작성일 리스트 길이 :  401\n",
      "고유번호 리스트 길이 :  401\n",
      "답글구분 리스트 길이 :  401\n",
      "닉네임 리스트 길이 :  401\n",
      "작성자URL 리스트 길이 :  401\n",
      "공감수 리스트 길이 :  401\n",
      "링크수 리스트 길이 :  401\n",
      "답글수 리스트 길이 :  401\n",
      "첨부이미지URL 리스트 길이 :  401\n",
      "내용 리스트 길이 :  401\n",
      "50\n",
      "작성일 리스트 길이 :  451\n",
      "고유번호 리스트 길이 :  451\n",
      "답글구분 리스트 길이 :  451\n",
      "닉네임 리스트 길이 :  451\n",
      "작성자URL 리스트 길이 :  451\n",
      "공감수 리스트 길이 :  451\n",
      "링크수 리스트 길이 :  451\n",
      "답글수 리스트 길이 :  451\n",
      "첨부이미지URL 리스트 길이 :  451\n",
      "내용 리스트 길이 :  451\n",
      "50\n",
      "작성일 리스트 길이 :  501\n",
      "고유번호 리스트 길이 :  501\n",
      "답글구분 리스트 길이 :  501\n",
      "닉네임 리스트 길이 :  501\n",
      "작성자URL 리스트 길이 :  501\n",
      "공감수 리스트 길이 :  501\n",
      "링크수 리스트 길이 :  501\n",
      "답글수 리스트 길이 :  501\n",
      "첨부이미지URL 리스트 길이 :  501\n",
      "내용 리스트 길이 :  501\n",
      "50\n",
      "작성일 리스트 길이 :  551\n",
      "고유번호 리스트 길이 :  551\n",
      "답글구분 리스트 길이 :  551\n",
      "닉네임 리스트 길이 :  551\n",
      "작성자URL 리스트 길이 :  551\n",
      "공감수 리스트 길이 :  551\n",
      "링크수 리스트 길이 :  551\n",
      "답글수 리스트 길이 :  551\n",
      "첨부이미지URL 리스트 길이 :  551\n",
      "내용 리스트 길이 :  551\n",
      "50\n",
      "작성일 리스트 길이 :  601\n",
      "고유번호 리스트 길이 :  601\n",
      "답글구분 리스트 길이 :  601\n",
      "닉네임 리스트 길이 :  601\n",
      "작성자URL 리스트 길이 :  601\n",
      "공감수 리스트 길이 :  601\n",
      "링크수 리스트 길이 :  601\n",
      "답글수 리스트 길이 :  601\n",
      "첨부이미지URL 리스트 길이 :  601\n",
      "내용 리스트 길이 :  601\n",
      "50\n",
      "작성일 리스트 길이 :  651\n",
      "고유번호 리스트 길이 :  651\n",
      "답글구분 리스트 길이 :  651\n",
      "닉네임 리스트 길이 :  651\n",
      "작성자URL 리스트 길이 :  651\n",
      "공감수 리스트 길이 :  651\n",
      "링크수 리스트 길이 :  651\n",
      "답글수 리스트 길이 :  651\n",
      "첨부이미지URL 리스트 길이 :  651\n",
      "내용 리스트 길이 :  651\n",
      "50\n",
      "작성일 리스트 길이 :  701\n",
      "고유번호 리스트 길이 :  701\n",
      "답글구분 리스트 길이 :  701\n",
      "닉네임 리스트 길이 :  701\n",
      "작성자URL 리스트 길이 :  701\n",
      "공감수 리스트 길이 :  701\n",
      "링크수 리스트 길이 :  701\n",
      "답글수 리스트 길이 :  701\n",
      "첨부이미지URL 리스트 길이 :  701\n",
      "내용 리스트 길이 :  701\n"
     ]
    }
   ],
   "source": [
    "for i in range(num_page_buttons - 1):\n",
    "    button = driver.find_element_by_xpath(f'//*[@id=\"naverComment_201_{page_info}_ct\"]/div[1]/div/div[2]/a[1]')\n",
    "    try:\n",
    "        # 페이지 이동\n",
    "        button.click()\n",
    "        driver.implicitly_wait(1)\n",
    "        time.sleep( random.uniform(0.5, 1) )\n",
    "        # 페이지 수프에 담기\n",
    "        comment_page_soup = bs(driver.page_source, 'lxml')\n",
    "        comment_areas = comment_page_soup.find_all('li', 'u_cbox_comment')\n",
    "        print( len(comment_areas) )\n",
    "        # 정보 크롤링\n",
    "        list = crawling(comment_areas, list)\n",
    "    except:\n",
    "        pass"
   ]
  },
  {
   "cell_type": "code",
   "execution_count": 133,
   "metadata": {},
   "outputs": [
    {
     "name": "stdout",
     "output_type": "stream",
     "text": [
      "작성일 리스트 길이 :  701\n",
      "고유번호 리스트 길이 :  701\n",
      "답글구분 리스트 길이 :  701\n",
      "닉네임 리스트 길이 :  701\n",
      "작성자URL 리스트 길이 :  701\n",
      "공감수 리스트 길이 :  701\n",
      "링크수 리스트 길이 :  701\n",
      "답글수 리스트 길이 :  701\n",
      "첨부이미지URL 리스트 길이 :  701\n",
      "내용 리스트 길이 :  701\n"
     ]
    }
   ],
   "source": [
    "print('작성일 리스트 길이 : ', len(list[0]))\n",
    "print('고유번호 리스트 길이 : ', len(list[1]))\n",
    "print('답글구분 리스트 길이 : ', len(list[2]))\n",
    "print('닉네임 리스트 길이 : ', len(list[3]))\n",
    "print('작성자URL 리스트 길이 : ', len(list[4]))\n",
    "print('공감수 리스트 길이 : ', len(list[5]))\n",
    "print('링크수 리스트 길이 : ', len(list[6]))\n",
    "print('답글수 리스트 길이 : ', len(list[7]))\n",
    "print('첨부이미지URL 리스트 길이 : ', len(list[8]))\n",
    "print('내용 리스트 길이 : ', len(list[9]))"
   ]
  },
  {
   "cell_type": "markdown",
   "metadata": {},
   "source": [
    "## df 만들기"
   ]
  },
  {
   "cell_type": "code",
   "execution_count": 134,
   "metadata": {},
   "outputs": [],
   "source": [
    "dict = {'작성일':date_list, '고유번호':rare_number_list, \n",
    "        '답글구분':check_reply_list, '닉네임':nickname_list, \n",
    "        '작성자URL':writer_url_list, '공감수':like_num_list, \n",
    "        '링크수':link_num_list, '답글수':reply_num_list, \n",
    "        '첨부이미지URL':img_list, '내용':comment_list}\n",
    "df = pd.DataFrame(dict)"
   ]
  },
  {
   "cell_type": "code",
   "execution_count": 135,
   "metadata": {},
   "outputs": [
    {
     "data": {
      "text/html": [
       "<div>\n",
       "<style scoped>\n",
       "    .dataframe tbody tr th:only-of-type {\n",
       "        vertical-align: middle;\n",
       "    }\n",
       "\n",
       "    .dataframe tbody tr th {\n",
       "        vertical-align: top;\n",
       "    }\n",
       "\n",
       "    .dataframe thead th {\n",
       "        text-align: right;\n",
       "    }\n",
       "</style>\n",
       "<table border=\"1\" class=\"dataframe\">\n",
       "  <thead>\n",
       "    <tr style=\"text-align: right;\">\n",
       "      <th></th>\n",
       "      <th>작성일</th>\n",
       "      <th>고유번호</th>\n",
       "      <th>답글구분</th>\n",
       "      <th>닉네임</th>\n",
       "      <th>작성자URL</th>\n",
       "      <th>공감수</th>\n",
       "      <th>링크수</th>\n",
       "      <th>답글수</th>\n",
       "      <th>첨부이미지URL</th>\n",
       "      <th>내용</th>\n",
       "    </tr>\n",
       "  </thead>\n",
       "  <tbody>\n",
       "    <tr>\n",
       "      <th>0</th>\n",
       "      <td>2022-02-27 17:29:16</td>\n",
       "      <td>undefined</td>\n",
       "      <td>NaN</td>\n",
       "      <td>란나</td>\n",
       "      <td>https://blog.naver.com/kiboda</td>\n",
       "      <td>0</td>\n",
       "      <td>0</td>\n",
       "      <td>3</td>\n",
       "      <td>https://g-cbox.pstatic.net/MjAyMjAyMjdfMTY1/MD...</td>\n",
       "      <td></td>\n",
       "    </tr>\n",
       "    <tr>\n",
       "      <th>1</th>\n",
       "      <td>2022-02-27 17:29:16</td>\n",
       "      <td>750830888173961351</td>\n",
       "      <td>답글</td>\n",
       "      <td>란나</td>\n",
       "      <td>https://blog.naver.com/kiboda</td>\n",
       "      <td>0</td>\n",
       "      <td>0</td>\n",
       "      <td>0</td>\n",
       "      <td>https://g-cbox.pstatic.net/MjAyMjAyMjdfMTY1/MD...</td>\n",
       "      <td></td>\n",
       "    </tr>\n",
       "    <tr>\n",
       "      <th>2</th>\n",
       "      <td>2022-02-27 17:29:28</td>\n",
       "      <td>750830900253556981</td>\n",
       "      <td>답글</td>\n",
       "      <td>란나</td>\n",
       "      <td>https://blog.naver.com/kiboda</td>\n",
       "      <td>0</td>\n",
       "      <td>0</td>\n",
       "      <td>0</td>\n",
       "      <td>https://g-cbox.pstatic.net/MjAyMjAyMjdfMTQ3/MD...</td>\n",
       "      <td></td>\n",
       "    </tr>\n",
       "    <tr>\n",
       "      <th>3</th>\n",
       "      <td>2022-02-27 17:29:38</td>\n",
       "      <td>750830912618365258</td>\n",
       "      <td>답글</td>\n",
       "      <td>란나</td>\n",
       "      <td>https://blog.naver.com/kiboda</td>\n",
       "      <td>0</td>\n",
       "      <td>0</td>\n",
       "      <td>0</td>\n",
       "      <td>https://g-cbox.pstatic.net/MjAyMjAyMjdfNDUg/MD...</td>\n",
       "      <td></td>\n",
       "    </tr>\n",
       "    <tr>\n",
       "      <th>4</th>\n",
       "      <td>2022-02-27 17:31:13</td>\n",
       "      <td>750831012895785085</td>\n",
       "      <td>NaN</td>\n",
       "      <td>lhj123400</td>\n",
       "      <td>https://blog.naver.com/lhj123400</td>\n",
       "      <td>0</td>\n",
       "      <td>1</td>\n",
       "      <td>0</td>\n",
       "      <td>NaN</td>\n",
       "      <td>정답 : 3번 https://blog.naver.com/lhj123400/22265...</td>\n",
       "    </tr>\n",
       "  </tbody>\n",
       "</table>\n",
       "</div>"
      ],
      "text/plain": [
       "                   작성일                고유번호 답글구분        닉네임  \\\n",
       "0  2022-02-27 17:29:16           undefined  NaN         란나   \n",
       "1  2022-02-27 17:29:16  750830888173961351   답글         란나   \n",
       "2  2022-02-27 17:29:28  750830900253556981   답글         란나   \n",
       "3  2022-02-27 17:29:38  750830912618365258   답글         란나   \n",
       "4  2022-02-27 17:31:13  750831012895785085  NaN  lhj123400   \n",
       "\n",
       "                             작성자URL  공감수  링크수  답글수  \\\n",
       "0     https://blog.naver.com/kiboda    0    0    3   \n",
       "1     https://blog.naver.com/kiboda    0    0    0   \n",
       "2     https://blog.naver.com/kiboda    0    0    0   \n",
       "3     https://blog.naver.com/kiboda    0    0    0   \n",
       "4  https://blog.naver.com/lhj123400    0    1    0   \n",
       "\n",
       "                                            첨부이미지URL  \\\n",
       "0  https://g-cbox.pstatic.net/MjAyMjAyMjdfMTY1/MD...   \n",
       "1  https://g-cbox.pstatic.net/MjAyMjAyMjdfMTY1/MD...   \n",
       "2  https://g-cbox.pstatic.net/MjAyMjAyMjdfMTQ3/MD...   \n",
       "3  https://g-cbox.pstatic.net/MjAyMjAyMjdfNDUg/MD...   \n",
       "4                                                NaN   \n",
       "\n",
       "                                                  내용  \n",
       "0                                                     \n",
       "1                                                     \n",
       "2                                                     \n",
       "3                                                     \n",
       "4  정답 : 3번 https://blog.naver.com/lhj123400/22265...  "
      ]
     },
     "execution_count": 135,
     "metadata": {},
     "output_type": "execute_result"
    }
   ],
   "source": [
    "df.head()"
   ]
  },
  {
   "cell_type": "markdown",
   "metadata": {},
   "source": [
    "## 파일로 출력"
   ]
  },
  {
   "cell_type": "code",
   "execution_count": 629,
   "metadata": {},
   "outputs": [
    {
     "data": {
      "text/plain": [
       "'c:/data/Wantreez/Crawling/incheon/crawled_data/naver_blog'"
      ]
     },
     "execution_count": 629,
     "metadata": {},
     "output_type": "execute_result"
    }
   ],
   "source": [
    "crawled_folder_path"
   ]
  },
  {
   "cell_type": "code",
   "execution_count": 630,
   "metadata": {},
   "outputs": [
    {
     "data": {
      "text/plain": [
       "'20220415_133755'"
      ]
     },
     "execution_count": 630,
     "metadata": {},
     "output_type": "execute_result"
    }
   ],
   "source": [
    "today_date = datetime.today().strftime('%Y%m%d_%H%M%S')\n",
    "today_date"
   ]
  },
  {
   "cell_type": "code",
   "execution_count": 631,
   "metadata": {},
   "outputs": [
    {
     "name": "stdout",
     "output_type": "stream",
     "text": [
      "naver_blog_20220415_133755.xlsx 출력완료\n"
     ]
    }
   ],
   "source": [
    "today_date = datetime.today().strftime('%Y%m%d_%H%M%S')\n",
    "file_name = f'naver_blog_{today_date}.xlsx'\n",
    "df.to_excel(crawled_folder_path + '/' + file_name, index=False, encoding='utf-8')\n",
    "print(f'{file_name} 출력완료')"
   ]
  },
  {
   "cell_type": "markdown",
   "metadata": {},
   "source": [
    "# 코드 마지막"
   ]
  }
 ],
 "metadata": {
  "interpreter": {
   "hash": "b3ba2566441a7c06988d0923437866b63cedc61552a5af99d1f4fb67d367b25f"
  },
  "kernelspec": {
   "display_name": "Python 3.9.7 ('base')",
   "language": "python",
   "name": "python3"
  },
  "language_info": {
   "codemirror_mode": {
    "name": "ipython",
    "version": 3
   },
   "file_extension": ".py",
   "mimetype": "text/x-python",
   "name": "python",
   "nbconvert_exporter": "python",
   "pygments_lexer": "ipython3",
   "version": "3.8.8"
  },
  "orig_nbformat": 4
 },
 "nbformat": 4,
 "nbformat_minor": 2
}
