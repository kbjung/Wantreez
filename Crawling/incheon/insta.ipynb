{
 "cells": [
  {
   "cell_type": "markdown",
   "metadata": {},
   "source": [
    "# Insta"
   ]
  },
  {
   "cell_type": "markdown",
   "metadata": {},
   "source": [
    "## 라이브러리"
   ]
  },
  {
   "cell_type": "code",
   "execution_count": 26,
   "metadata": {},
   "outputs": [],
   "source": [
    "from selenium import webdriver\n",
    "import chromedriver_autoinstaller as ca"
   ]
  },
  {
   "cell_type": "code",
   "execution_count": 27,
   "metadata": {},
   "outputs": [],
   "source": [
    "from bs4 import BeautifulSoup as bs\n",
    "import pandas as pd\n",
    "import os, time, random\n",
    "from datetime import datetime\n",
    "from numpy import nan"
   ]
  },
  {
   "cell_type": "code",
   "execution_count": 28,
   "metadata": {},
   "outputs": [],
   "source": [
    "import getpass"
   ]
  },
  {
   "cell_type": "markdown",
   "metadata": {},
   "source": [
    "## 준비"
   ]
  },
  {
   "cell_type": "markdown",
   "metadata": {},
   "source": [
    "### 폴더 생성"
   ]
  },
  {
   "cell_type": "code",
   "execution_count": 29,
   "metadata": {},
   "outputs": [
    {
     "data": {
      "text/plain": [
       "'c:/data/Wantreez/Crawling/incheon'"
      ]
     },
     "execution_count": 29,
     "metadata": {},
     "output_type": "execute_result"
    }
   ],
   "source": [
    "# 현재 파일 위치 확인\n",
    "code_path = os.getcwd().replace('\\\\', '/')\n",
    "code_path"
   ]
  },
  {
   "cell_type": "code",
   "execution_count": 30,
   "metadata": {},
   "outputs": [],
   "source": [
    "# 폴더 생성\n",
    "crawled_folder_path = code_path + '/crawled_data/insta/'\n",
    "os.makedirs(crawled_folder_path, exist_ok=True)"
   ]
  },
  {
   "cell_type": "markdown",
   "metadata": {},
   "source": [
    "### 드라이버 확인 및 설치"
   ]
  },
  {
   "cell_type": "code",
   "execution_count": 31,
   "metadata": {},
   "outputs": [
    {
     "data": {
      "text/plain": [
       "'100'"
      ]
     },
     "execution_count": 31,
     "metadata": {},
     "output_type": "execute_result"
    }
   ],
   "source": [
    "# 크롬 드라이버 버전 확인\n",
    "chrome_ver = ca.get_chrome_version().split('.')[0]\n",
    "chrome_ver"
   ]
  },
  {
   "cell_type": "code",
   "execution_count": 32,
   "metadata": {},
   "outputs": [
    {
     "name": "stderr",
     "output_type": "stream",
     "text": [
      "C:\\Users\\kbjung\\AppData\\Local\\Temp/ipykernel_20568/2482244463.py:3: DeprecationWarning: executable_path has been deprecated, please pass in a Service object\n",
      "  driver = webdriver.Chrome(code_path + f'/{chrome_ver}/' + 'chromedriver.exe')\n"
     ]
    }
   ],
   "source": [
    "# 크롬 드라이버 설치 확인 & 설치\n",
    "try:\n",
    "    driver = webdriver.Chrome(code_path + f'/{chrome_ver}/' + 'chromedriver.exe')\n",
    "except:\n",
    "    ca.install(True)\n",
    "    driver = webdriver.Chrome(code_path + f'/{chrome_ver}/' + 'chromedriver.exe')"
   ]
  },
  {
   "cell_type": "markdown",
   "metadata": {},
   "source": [
    "### 로그인"
   ]
  },
  {
   "cell_type": "code",
   "execution_count": 33,
   "metadata": {},
   "outputs": [],
   "source": [
    "# 로그인 페이지 접속\n",
    "url = 'https://www.instagram.com/'\n",
    "driver.get(url)\n",
    "driver.implicitly_wait(3)\n",
    "driver.maximize_window()"
   ]
  },
  {
   "cell_type": "code",
   "execution_count": 34,
   "metadata": {},
   "outputs": [
    {
     "name": "stderr",
     "output_type": "stream",
     "text": [
      "C:\\Users\\kbjung\\AppData\\Local\\Temp/ipykernel_20568/1163848091.py:2: DeprecationWarning: find_element_by_xpath is deprecated. Please use find_element(by=By.XPATH, value=xpath) instead\n",
      "  id_box = driver.find_element_by_xpath('//*[@id=\"loginForm\"]/div/div[1]/div/label/input')\n",
      "C:\\Users\\kbjung\\AppData\\Local\\Temp/ipykernel_20568/1163848091.py:3: DeprecationWarning: find_element_by_xpath is deprecated. Please use find_element(by=By.XPATH, value=xpath) instead\n",
      "  pw_box = driver.find_element_by_xpath('//*[@id=\"loginForm\"]/div/div[2]/div/label/input')\n",
      "C:\\Users\\kbjung\\AppData\\Local\\Temp/ipykernel_20568/1163848091.py:4: DeprecationWarning: find_element_by_xpath is deprecated. Please use find_element(by=By.XPATH, value=xpath) instead\n",
      "  login_button = driver.find_element_by_xpath('//*[@id=\"loginForm\"]/div/div[3]/button')\n"
     ]
    }
   ],
   "source": [
    "# 로그인\n",
    "id_box = driver.find_element_by_xpath('//*[@id=\"loginForm\"]/div/div[1]/div/label/input')\n",
    "pw_box = driver.find_element_by_xpath('//*[@id=\"loginForm\"]/div/div[2]/div/label/input')\n",
    "login_button = driver.find_element_by_xpath('//*[@id=\"loginForm\"]/div/div[3]/button')\n",
    "\n",
    "id = input('id를 입력하세요.')\n",
    "pw = getpass.getpass('비밀번호를 입력하세요.')"
   ]
  },
  {
   "cell_type": "code",
   "execution_count": 35,
   "metadata": {},
   "outputs": [],
   "source": [
    "id_box.send_keys(id)\n",
    "time.sleep( random.uniform(0.5, 0.8))\n",
    "\n",
    "pw_box.send_keys(pw)\n",
    "time.sleep( random.uniform(0.5, 0.8))\n",
    "\n",
    "login_button.click()\n",
    "time.sleep( random.uniform(0.5, 0.8))"
   ]
  },
  {
   "cell_type": "markdown",
   "metadata": {},
   "source": [
    "### 페이지 접속"
   ]
  },
  {
   "cell_type": "code",
   "execution_count": 36,
   "metadata": {},
   "outputs": [],
   "source": [
    "# 페이지 접속\n",
    "url = 'https://www.instagram.com/p/CaYtI8VLLeI/?utm_source=ig_web_copy_link'\n",
    "driver.get(url)\n",
    "driver.implicitly_wait(3)\n",
    "driver.maximize_window()"
   ]
  },
  {
   "cell_type": "markdown",
   "metadata": {},
   "source": [
    "### 댓글 더 보기 클릭"
   ]
  },
  {
   "cell_type": "code",
   "execution_count": 37,
   "metadata": {},
   "outputs": [
    {
     "name": "stderr",
     "output_type": "stream",
     "text": [
      "C:\\Users\\kbjung\\AppData\\Local\\Temp/ipykernel_20568/2904650419.py:5: DeprecationWarning: find_element_by_xpath is deprecated. Please use find_element(by=By.XPATH, value=xpath) instead\n",
      "  more_view_button = driver.find_element_by_xpath('//*[@id=\"react-root\"]/section/main/div/div[1]/article/div/div[2]/div/div[2]/div[1]/ul/li/div/button')\n"
     ]
    },
    {
     "name": "stdout",
     "output_type": "stream",
     "text": [
      "더 보기 클릭 횟수 : 28\n"
     ]
    }
   ],
   "source": [
    "# 댓글 더 보기 클릭\n",
    "count = 0\n",
    "while True:\n",
    "    try:\n",
    "        more_view_button = driver.find_element_by_xpath('//*[@id=\"react-root\"]/section/main/div/div[1]/article/div/div[2]/div/div[2]/div[1]/ul/li/div/button')\n",
    "        more_view_button.click()\n",
    "        driver.implicitly_wait(3)\n",
    "        time.sleep( random.uniform(0.5, 1) )\n",
    "    except:\n",
    "        break\n",
    "    count += 1\n",
    "print(f'더 보기 클릭 횟수 : {count}')"
   ]
  },
  {
   "cell_type": "markdown",
   "metadata": {},
   "source": [
    "### 답글 보기 버튼 클릭"
   ]
  },
  {
   "cell_type": "code",
   "execution_count": 38,
   "metadata": {},
   "outputs": [
    {
     "name": "stderr",
     "output_type": "stream",
     "text": [
      "C:\\Users\\kbjung\\AppData\\Local\\Temp/ipykernel_20568/3592393445.py:2: DeprecationWarning: find_elements_by_css_selector is deprecated. Please use find_elements(by=By.CSS_SELECTOR, value=css_selector) instead\n",
      "  show_reply_buttons = driver.find_elements_by_css_selector('ul > li > div > button')\n"
     ]
    },
    {
     "data": {
      "text/plain": [
       "9"
      ]
     },
     "execution_count": 38,
     "metadata": {},
     "output_type": "execute_result"
    }
   ],
   "source": [
    "# 답글 보기 버튼 개수\n",
    "show_reply_buttons = driver.find_elements_by_css_selector('ul > li > div > button')\n",
    "len(show_reply_buttons)"
   ]
  },
  {
   "cell_type": "code",
   "execution_count": 39,
   "metadata": {},
   "outputs": [],
   "source": [
    "for i in range(2):\n",
    "    for one_show_reply_button in show_reply_buttons:\n",
    "        if '보기' in one_show_reply_button.text:\n",
    "            one_show_reply_button.click()\n",
    "            driver.implicitly_wait(2)\n",
    "            time.sleep( random.uniform(0.5, 1) )\n",
    "        elif '숨기기' in one_show_reply_button.text:\n",
    "            pass"
   ]
  },
  {
   "cell_type": "markdown",
   "metadata": {},
   "source": [
    "## 수집"
   ]
  },
  {
   "cell_type": "code",
   "execution_count": 40,
   "metadata": {},
   "outputs": [
    {
     "data": {
      "text/plain": [
       "520"
      ]
     },
     "execution_count": 40,
     "metadata": {},
     "output_type": "execute_result"
    }
   ],
   "source": [
    "soup = bs(driver.page_source, 'lxml')\n",
    "div_soup = soup.find_all('div', 'ZyFrc')[2:] # 1,2 번째는 본문 내용이라 제거\n",
    "len(div_soup)"
   ]
  },
  {
   "cell_type": "code",
   "execution_count": 55,
   "metadata": {},
   "outputs": [],
   "source": [
    "id_list = []\n",
    "text_list = []\n",
    "is_reply_list = []\n",
    "date_list = []\n",
    "num_like_list = []\n",
    "num_summon_friend_list = []\n",
    "num_re_reply_list = []\n",
    "unique_num_list = []\n",
    "writer_url_list = []\n",
    "\n",
    "for one in div_soup:\n",
    "    # 작성자\n",
    "    temp = one.find('a', 'sqdOP yWX7d _8A5w5 ZIAjV').text\n",
    "    id_list.append(temp)\n",
    "\n",
    "    # 내용\n",
    "    temp = one.find('span', '_7UhW9 xLCgt MMzan KV-D4 se6yk T0kll').text.replace('\\xa0', '')\n",
    "    text_list.append(temp)\n",
    "\n",
    "    # 답글 구분\n",
    "    if one.parent['class'][0] == 'Mr508':\n",
    "        is_reply = nan\n",
    "    elif one.parent['class'][0] == 'TCSYW':\n",
    "        is_reply = '답글'\n",
    "    is_reply_list.append(is_reply)\n",
    "\n",
    "    # 날짜\n",
    "    temp = one.find('time')['datetime'].split('.')[0].replace('T', ' ')\n",
    "    date_list.append(temp)\n",
    "\n",
    "    # 좋아요 수\n",
    "    try:\n",
    "        fh_buttons = one.find('div', '_7UhW9 PIoXz MMzan _0PwGv uL8Hv').find_all('div', '_7UhW9 PIoXz qyrsm _0PwGv uL8Hv T0kll')\n",
    "        idx = 100\n",
    "        for i, one_fh_button in enumerate(fh_buttons):\n",
    "            if '좋아요' in one_fh_button.text:\n",
    "                idx = i\n",
    "            else:\n",
    "                pass\n",
    "        if idx != 100:\n",
    "            num_like = int(fh_buttons[idx].text.split(' ')[-1].replace('개', ''))\n",
    "        else:\n",
    "            num_like = 0\n",
    "    except:\n",
    "        num_like = 0\n",
    "    num_like_list.append(num_like)\n",
    "\n",
    "    # 친구소환수\n",
    "    try:\n",
    "        temp = one.find_all('a', 'notranslate')\n",
    "        num_summon_friend = len(temp)\n",
    "    except:\n",
    "        num_summon_friend = 0\n",
    "    num_summon_friend_list.append(num_summon_friend)\n",
    "\n",
    "    # 답글수\n",
    "    if one.parent['class'][0] == 'Mr508':\n",
    "        try:\n",
    "            temp = len(one.parent.find('ul', 'TCSYW').find_all('div', 'ZyFrc'))\n",
    "            num_re_reply = temp\n",
    "        except:\n",
    "            num_re_reply = 0\n",
    "    else:\n",
    "        num_re_reply = 0\n",
    "    num_re_reply_list.append(num_re_reply)\n",
    "\n",
    "    # 고유번호\n",
    "    temp = one.find('a', 'gU-I7')['href'].split('/')[-2]\n",
    "    unique_num_list.append(temp)\n",
    "\n",
    "    # 작성자URL\n",
    "    temp = one.find('a', 'sqdOP yWX7d _8A5w5 ZIAjV')['href']\n",
    "    writer_url = 'https://www.instagram.com' + temp\n",
    "    writer_url_list.append(writer_url)"
   ]
  },
  {
   "cell_type": "markdown",
   "metadata": {},
   "source": [
    "## 결과 확인"
   ]
  },
  {
   "cell_type": "code",
   "execution_count": 56,
   "metadata": {},
   "outputs": [
    {
     "name": "stdout",
     "output_type": "stream",
     "text": [
      "520\n",
      "520\n",
      "520\n",
      "520\n",
      "520\n",
      "520\n",
      "520\n",
      "520\n",
      "520\n"
     ]
    }
   ],
   "source": [
    "print(len(id_list))\n",
    "print(len(text_list))\n",
    "print(len(is_reply_list))\n",
    "print(len(date_list))\n",
    "print(len(num_like_list))\n",
    "print(len(num_summon_friend_list))\n",
    "print(len(num_re_reply_list))\n",
    "print(len(unique_num_list))\n",
    "print(len(writer_url_list))"
   ]
  },
  {
   "cell_type": "markdown",
   "metadata": {},
   "source": [
    "## df"
   ]
  },
  {
   "cell_type": "code",
   "execution_count": 57,
   "metadata": {},
   "outputs": [],
   "source": [
    "dict = {'작성일':date_list, '고유번호':unique_num_list, '답글구분':is_reply_list,\n",
    "        '작성자':id_list, '작성자URL':writer_url_list, '내용':text_list,\n",
    "        '답글수':num_re_reply_list, '친구소환수':num_summon_friend_list, '좋아요수':num_like_list}\n",
    "df = pd.DataFrame(dict)"
   ]
  },
  {
   "cell_type": "code",
   "execution_count": 58,
   "metadata": {},
   "outputs": [
    {
     "name": "stdout",
     "output_type": "stream",
     "text": [
      "<class 'pandas.core.frame.DataFrame'>\n",
      "RangeIndex: 520 entries, 0 to 519\n",
      "Data columns (total 9 columns):\n",
      " #   Column  Non-Null Count  Dtype \n",
      "---  ------  --------------  ----- \n",
      " 0   작성일     520 non-null    object\n",
      " 1   고유번호    520 non-null    object\n",
      " 2   답글구분    10 non-null     object\n",
      " 3   작성자     520 non-null    object\n",
      " 4   작성자URL  520 non-null    object\n",
      " 5   내용      520 non-null    object\n",
      " 6   답글수     520 non-null    int64 \n",
      " 7   친구소환수   520 non-null    int64 \n",
      " 8   좋아요수    520 non-null    int64 \n",
      "dtypes: int64(3), object(6)\n",
      "memory usage: 36.7+ KB\n"
     ]
    }
   ],
   "source": [
    "df.info()"
   ]
  },
  {
   "cell_type": "code",
   "execution_count": 59,
   "metadata": {},
   "outputs": [
    {
     "data": {
      "text/html": [
       "<div>\n",
       "<style scoped>\n",
       "    .dataframe tbody tr th:only-of-type {\n",
       "        vertical-align: middle;\n",
       "    }\n",
       "\n",
       "    .dataframe tbody tr th {\n",
       "        vertical-align: top;\n",
       "    }\n",
       "\n",
       "    .dataframe thead th {\n",
       "        text-align: right;\n",
       "    }\n",
       "</style>\n",
       "<table border=\"1\" class=\"dataframe\">\n",
       "  <thead>\n",
       "    <tr style=\"text-align: right;\">\n",
       "      <th></th>\n",
       "      <th>작성일</th>\n",
       "      <th>고유번호</th>\n",
       "      <th>답글구분</th>\n",
       "      <th>작성자</th>\n",
       "      <th>작성자URL</th>\n",
       "      <th>내용</th>\n",
       "      <th>답글수</th>\n",
       "      <th>친구소환수</th>\n",
       "      <th>좋아요수</th>\n",
       "    </tr>\n",
       "  </thead>\n",
       "  <tbody>\n",
       "    <tr>\n",
       "      <th>0</th>\n",
       "      <td>2022-02-25 06:49:04</td>\n",
       "      <td>17962637881573345</td>\n",
       "      <td>NaN</td>\n",
       "      <td>yulran35</td>\n",
       "      <td>https://www.instagram.com/yulran35/</td>\n",
       "      <td>정답: 3번❤️</td>\n",
       "      <td>1</td>\n",
       "      <td>0</td>\n",
       "      <td>0</td>\n",
       "    </tr>\n",
       "    <tr>\n",
       "      <th>1</th>\n",
       "      <td>2022-04-20 02:27:47</td>\n",
       "      <td>17908041362523783</td>\n",
       "      <td>답글</td>\n",
       "      <td>haereporter</td>\n",
       "      <td>https://www.instagram.com/haereporter/</td>\n",
       "      <td>@yulran35 정답 3</td>\n",
       "      <td>0</td>\n",
       "      <td>1</td>\n",
       "      <td>0</td>\n",
       "    </tr>\n",
       "    <tr>\n",
       "      <th>2</th>\n",
       "      <td>2022-02-25 07:57:21</td>\n",
       "      <td>17924805506305213</td>\n",
       "      <td>NaN</td>\n",
       "      <td>aemie17</td>\n",
       "      <td>https://www.instagram.com/aemie17/</td>\n",
       "      <td>정답닺 3번❤️</td>\n",
       "      <td>1</td>\n",
       "      <td>0</td>\n",
       "      <td>0</td>\n",
       "    </tr>\n",
       "    <tr>\n",
       "      <th>3</th>\n",
       "      <td>2022-04-20 02:28:37</td>\n",
       "      <td>17939121371057618</td>\n",
       "      <td>답글</td>\n",
       "      <td>haereporter</td>\n",
       "      <td>https://www.instagram.com/haereporter/</td>\n",
       "      <td>@aemie17 333</td>\n",
       "      <td>0</td>\n",
       "      <td>1</td>\n",
       "      <td>0</td>\n",
       "    </tr>\n",
       "    <tr>\n",
       "      <th>4</th>\n",
       "      <td>2022-02-26 14:38:49</td>\n",
       "      <td>17929323902083695</td>\n",
       "      <td>NaN</td>\n",
       "      <td>ju_ragi2</td>\n",
       "      <td>https://www.instagram.com/ju_ragi2/</td>\n",
       "      <td>정답 : 3번</td>\n",
       "      <td>0</td>\n",
       "      <td>0</td>\n",
       "      <td>0</td>\n",
       "    </tr>\n",
       "  </tbody>\n",
       "</table>\n",
       "</div>"
      ],
      "text/plain": [
       "                   작성일               고유번호 답글구분          작성자  \\\n",
       "0  2022-02-25 06:49:04  17962637881573345  NaN     yulran35   \n",
       "1  2022-04-20 02:27:47  17908041362523783   답글  haereporter   \n",
       "2  2022-02-25 07:57:21  17924805506305213  NaN      aemie17   \n",
       "3  2022-04-20 02:28:37  17939121371057618   답글  haereporter   \n",
       "4  2022-02-26 14:38:49  17929323902083695  NaN     ju_ragi2   \n",
       "\n",
       "                                   작성자URL              내용  답글수  친구소환수  좋아요수  \n",
       "0     https://www.instagram.com/yulran35/        정답: 3번❤️    1      0     0  \n",
       "1  https://www.instagram.com/haereporter/  @yulran35 정답 3    0      1     0  \n",
       "2      https://www.instagram.com/aemie17/        정답닺 3번❤️    1      0     0  \n",
       "3  https://www.instagram.com/haereporter/    @aemie17 333    0      1     0  \n",
       "4     https://www.instagram.com/ju_ragi2/         정답 : 3번    0      0     0  "
      ]
     },
     "execution_count": 59,
     "metadata": {},
     "output_type": "execute_result"
    }
   ],
   "source": [
    "df.head()"
   ]
  },
  {
   "cell_type": "code",
   "execution_count": 60,
   "metadata": {},
   "outputs": [],
   "source": [
    "# 최종 df\n",
    "final_df = df.copy()"
   ]
  },
  {
   "cell_type": "markdown",
   "metadata": {},
   "source": [
    "## 파일로 출력"
   ]
  },
  {
   "cell_type": "code",
   "execution_count": 61,
   "metadata": {},
   "outputs": [
    {
     "data": {
      "text/plain": [
       "'20220421_094802'"
      ]
     },
     "execution_count": 61,
     "metadata": {},
     "output_type": "execute_result"
    }
   ],
   "source": [
    "today_date = datetime.today().strftime('%Y%m%d_%H%M%S')\n",
    "today_date"
   ]
  },
  {
   "cell_type": "code",
   "execution_count": 62,
   "metadata": {},
   "outputs": [
    {
     "name": "stdout",
     "output_type": "stream",
     "text": [
      "insta_20220421_094803.xlsx 출력완료\n"
     ]
    }
   ],
   "source": [
    "today_date = datetime.today().strftime('%Y%m%d_%H%M%S')\n",
    "file_name = f'insta_{today_date}.xlsx'\n",
    "final_df.to_excel(crawled_folder_path + '/' + file_name, index=False, encoding='utf-8')\n",
    "print(f'{file_name} 출력완료')"
   ]
  },
  {
   "cell_type": "markdown",
   "metadata": {},
   "source": [
    "# 코드 마지막"
   ]
  }
 ],
 "metadata": {
  "interpreter": {
   "hash": "b3ba2566441a7c06988d0923437866b63cedc61552a5af99d1f4fb67d367b25f"
  },
  "kernelspec": {
   "display_name": "Python 3.9.7 ('base')",
   "language": "python",
   "name": "python3"
  },
  "language_info": {
   "codemirror_mode": {
    "name": "ipython",
    "version": 3
   },
   "file_extension": ".py",
   "mimetype": "text/x-python",
   "name": "python",
   "nbconvert_exporter": "python",
   "pygments_lexer": "ipython3",
   "version": "3.9.7"
  },
  "orig_nbformat": 4
 },
 "nbformat": 4,
 "nbformat_minor": 2
}
