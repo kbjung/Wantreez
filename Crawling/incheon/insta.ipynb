{
 "cells": [
  {
   "cell_type": "markdown",
   "metadata": {},
   "source": [
    "# Insta"
   ]
  },
  {
   "cell_type": "markdown",
   "metadata": {},
   "source": [
    "## 라이브러리"
   ]
  },
  {
   "cell_type": "code",
   "execution_count": 10,
   "metadata": {},
   "outputs": [],
   "source": [
    "from selenium import webdriver\n",
    "import chromedriver_autoinstaller as ca"
   ]
  },
  {
   "cell_type": "code",
   "execution_count": 60,
   "metadata": {},
   "outputs": [],
   "source": [
    "from bs4 import BeautifulSoup as bs\n",
    "import pandas as pd\n",
    "import os, time, random\n",
    "from datetime import datetime, timedelta\n",
    "from numpy import nan"
   ]
  },
  {
   "cell_type": "code",
   "execution_count": 12,
   "metadata": {},
   "outputs": [],
   "source": [
    "import getpass"
   ]
  },
  {
   "cell_type": "markdown",
   "metadata": {},
   "source": [
    "## 게시글 주소"
   ]
  },
  {
   "cell_type": "code",
   "execution_count": 13,
   "metadata": {},
   "outputs": [],
   "source": [
    "url = 'https://www.instagram.com/p/Cc6uJmcv-uF/'"
   ]
  },
  {
   "cell_type": "markdown",
   "metadata": {},
   "source": [
    "## 준비"
   ]
  },
  {
   "cell_type": "markdown",
   "metadata": {},
   "source": [
    "### 폴더 생성"
   ]
  },
  {
   "cell_type": "code",
   "execution_count": 14,
   "metadata": {},
   "outputs": [
    {
     "data": {
      "text/plain": [
       "'c:/data/Wantreez/Crawling/incheon'"
      ]
     },
     "execution_count": 14,
     "metadata": {},
     "output_type": "execute_result"
    }
   ],
   "source": [
    "# 현재 파일 위치 확인\n",
    "code_path = os.getcwd().replace('\\\\', '/')\n",
    "code_path"
   ]
  },
  {
   "cell_type": "code",
   "execution_count": 15,
   "metadata": {},
   "outputs": [],
   "source": [
    "# 폴더 생성\n",
    "crawled_folder_path = code_path + '/crawled_data/insta/'\n",
    "os.makedirs(crawled_folder_path, exist_ok=True)"
   ]
  },
  {
   "cell_type": "markdown",
   "metadata": {},
   "source": [
    "### 드라이버 확인 및 설치"
   ]
  },
  {
   "cell_type": "code",
   "execution_count": 33,
   "metadata": {},
   "outputs": [],
   "source": [
    "# 크롬 드라이버 설치 확인 & 설치\n",
    "ca.install(True)\n",
    "driver = webdriver.Chrome()"
   ]
  },
  {
   "cell_type": "markdown",
   "metadata": {},
   "source": [
    "### 로그인"
   ]
  },
  {
   "cell_type": "code",
   "execution_count": 34,
   "metadata": {},
   "outputs": [],
   "source": [
    "# 로그인 페이지 접속\n",
    "driver.get(url)\n",
    "driver.implicitly_wait(3)\n",
    "driver.maximize_window()"
   ]
  },
  {
   "cell_type": "code",
   "execution_count": 35,
   "metadata": {},
   "outputs": [
    {
     "name": "stderr",
     "output_type": "stream",
     "text": [
      "C:\\Users\\kbjung\\AppData\\Local\\Temp/ipykernel_8876/1078120448.py:2: DeprecationWarning: find_element_by_xpath is deprecated. Please use find_element(by=By.XPATH, value=xpath) instead\n",
      "  login_page_button = driver.find_element_by_xpath('//*[@id=\"react-root\"]/div/div/section/nav/div[2]/div/div/div[3]/div/span/a[1]/button')\n"
     ]
    }
   ],
   "source": [
    "# 로그인 버튼 클릭\n",
    "try:\n",
    "    login_page_button = driver.find_element_by_xpath('//*[@id=\"react-root\"]/div/div/section/nav/div[2]/div/div/div[3]/div/span/a[1]/button')\n",
    "    login_page_button.click()\n",
    "    time.sleep(1)\n",
    "except:\n",
    "    pass"
   ]
  },
  {
   "cell_type": "code",
   "execution_count": 36,
   "metadata": {},
   "outputs": [
    {
     "name": "stderr",
     "output_type": "stream",
     "text": [
      "C:\\Users\\kbjung\\AppData\\Local\\Temp/ipykernel_8876/1163848091.py:2: DeprecationWarning: find_element_by_xpath is deprecated. Please use find_element(by=By.XPATH, value=xpath) instead\n",
      "  id_box = driver.find_element_by_xpath('//*[@id=\"loginForm\"]/div/div[1]/div/label/input')\n",
      "C:\\Users\\kbjung\\AppData\\Local\\Temp/ipykernel_8876/1163848091.py:3: DeprecationWarning: find_element_by_xpath is deprecated. Please use find_element(by=By.XPATH, value=xpath) instead\n",
      "  pw_box = driver.find_element_by_xpath('//*[@id=\"loginForm\"]/div/div[2]/div/label/input')\n",
      "C:\\Users\\kbjung\\AppData\\Local\\Temp/ipykernel_8876/1163848091.py:4: DeprecationWarning: find_element_by_xpath is deprecated. Please use find_element(by=By.XPATH, value=xpath) instead\n",
      "  login_button = driver.find_element_by_xpath('//*[@id=\"loginForm\"]/div/div[3]/button')\n"
     ]
    }
   ],
   "source": [
    "# 로그인\n",
    "id_box = driver.find_element_by_xpath('//*[@id=\"loginForm\"]/div/div[1]/div/label/input')\n",
    "pw_box = driver.find_element_by_xpath('//*[@id=\"loginForm\"]/div/div[2]/div/label/input')\n",
    "login_button = driver.find_element_by_xpath('//*[@id=\"loginForm\"]/div/div[3]/button')\n",
    "\n",
    "id = input('id를 입력하세요.')\n",
    "pw = getpass.getpass('비밀번호를 입력하세요.')"
   ]
  },
  {
   "cell_type": "code",
   "execution_count": 37,
   "metadata": {},
   "outputs": [],
   "source": [
    "id_box.send_keys(id)\n",
    "time.sleep( random.uniform(0.5, 0.8))\n",
    "\n",
    "pw_box.send_keys(pw)\n",
    "time.sleep( random.uniform(0.5, 0.8))\n",
    "\n",
    "login_button.click()\n",
    "time.sleep( random.uniform(0.5, 0.8))"
   ]
  },
  {
   "cell_type": "markdown",
   "metadata": {},
   "source": [
    "### 페이지 접속"
   ]
  },
  {
   "cell_type": "code",
   "execution_count": 38,
   "metadata": {},
   "outputs": [],
   "source": [
    "# 페이지 접속\n",
    "driver.get(url)\n",
    "driver.implicitly_wait(3)\n",
    "driver.maximize_window()"
   ]
  },
  {
   "cell_type": "markdown",
   "metadata": {},
   "source": [
    "### 댓글 더 보기 클릭"
   ]
  },
  {
   "cell_type": "code",
   "execution_count": 39,
   "metadata": {},
   "outputs": [
    {
     "name": "stderr",
     "output_type": "stream",
     "text": [
      "C:\\Users\\kbjung\\AppData\\Local\\Temp/ipykernel_8876/2904650419.py:5: DeprecationWarning: find_element_by_xpath is deprecated. Please use find_element(by=By.XPATH, value=xpath) instead\n",
      "  more_view_button = driver.find_element_by_xpath('//*[@id=\"react-root\"]/section/main/div/div[1]/article/div/div[2]/div/div[2]/div[1]/ul/li/div/button')\n"
     ]
    },
    {
     "name": "stdout",
     "output_type": "stream",
     "text": [
      "더 보기 클릭 횟수 : 21\n"
     ]
    }
   ],
   "source": [
    "# 댓글 더 보기 클릭\n",
    "count = 0\n",
    "while True:\n",
    "    try:\n",
    "        more_view_button = driver.find_element_by_xpath('//*[@id=\"react-root\"]/section/main/div/div[1]/article/div/div[2]/div/div[2]/div[1]/ul/li/div/button')\n",
    "        more_view_button.click()\n",
    "        driver.implicitly_wait(3)\n",
    "        time.sleep( random.uniform(0.5, 1) )\n",
    "    except:\n",
    "        break\n",
    "    count += 1\n",
    "print(f'더 보기 클릭 횟수 : {count}')"
   ]
  },
  {
   "cell_type": "markdown",
   "metadata": {},
   "source": [
    "### 답글 보기 버튼 클릭"
   ]
  },
  {
   "cell_type": "code",
   "execution_count": 40,
   "metadata": {},
   "outputs": [
    {
     "name": "stderr",
     "output_type": "stream",
     "text": [
      "C:\\Users\\kbjung\\AppData\\Local\\Temp/ipykernel_8876/3592393445.py:2: DeprecationWarning: find_elements_by_css_selector is deprecated. Please use find_elements(by=By.CSS_SELECTOR, value=css_selector) instead\n",
      "  show_reply_buttons = driver.find_elements_by_css_selector('ul > li > div > button')\n"
     ]
    },
    {
     "data": {
      "text/plain": [
       "5"
      ]
     },
     "execution_count": 40,
     "metadata": {},
     "output_type": "execute_result"
    }
   ],
   "source": [
    "# 답글 보기 버튼 개수\n",
    "show_reply_buttons = driver.find_elements_by_css_selector('ul > li > div > button')\n",
    "len(show_reply_buttons)"
   ]
  },
  {
   "cell_type": "code",
   "execution_count": 41,
   "metadata": {},
   "outputs": [],
   "source": [
    "for i in range(2):\n",
    "    for one_show_reply_button in show_reply_buttons:\n",
    "        if '보기' in one_show_reply_button.text:\n",
    "            one_show_reply_button.click()\n",
    "            driver.implicitly_wait(2)\n",
    "            time.sleep( random.uniform(0.5, 1) )\n",
    "        elif '숨기기' in one_show_reply_button.text:\n",
    "            pass"
   ]
  },
  {
   "cell_type": "markdown",
   "metadata": {},
   "source": [
    "## 수집"
   ]
  },
  {
   "cell_type": "code",
   "execution_count": 42,
   "metadata": {},
   "outputs": [
    {
     "data": {
      "text/plain": [
       "417"
      ]
     },
     "execution_count": 42,
     "metadata": {},
     "output_type": "execute_result"
    }
   ],
   "source": [
    "soup = bs(driver.page_source, 'lxml')\n",
    "div_soup = soup.find_all('div', 'ZyFrc')[2:] # 1,2 번째는 본문 내용이라 제거\n",
    "len(div_soup)"
   ]
  },
  {
   "cell_type": "code",
   "execution_count": 43,
   "metadata": {},
   "outputs": [],
   "source": [
    "id_list = []\n",
    "text_list = []\n",
    "is_reply_list = []\n",
    "date_list = []\n",
    "num_like_list = []\n",
    "num_summon_friend_list = []\n",
    "num_re_reply_list = []\n",
    "unique_num_list = []\n",
    "writer_url_list = []\n",
    "\n",
    "for one in div_soup:\n",
    "    # 작성자\n",
    "    temp = one.find('a', 'sqdOP yWX7d _8A5w5 ZIAjV').text\n",
    "    id_list.append(temp)\n",
    "\n",
    "    # 내용\n",
    "    temp = one.find('span', '_7UhW9 xLCgt MMzan KV-D4 se6yk T0kll').text.replace('\\xa0', '')\n",
    "    text_list.append(temp)\n",
    "\n",
    "    # 답글 구분\n",
    "    if one.parent['class'][0] == 'Mr508':\n",
    "        is_reply = nan\n",
    "    elif one.parent['class'][0] == 'TCSYW':\n",
    "        is_reply = '답글'\n",
    "    is_reply_list.append(is_reply)\n",
    "\n",
    "    # 날짜\n",
    "    temp = one.find('time')['datetime'].split('.')[0].replace('T', ' ')\n",
    "    date_list.append(temp)\n",
    "\n",
    "    # 좋아요 수\n",
    "    try:\n",
    "        fh_buttons = one.find('div', '_7UhW9 PIoXz MMzan _0PwGv uL8Hv').find_all('div', '_7UhW9 PIoXz qyrsm _0PwGv uL8Hv T0kll')\n",
    "        idx = 100\n",
    "        for i, one_fh_button in enumerate(fh_buttons):\n",
    "            if '좋아요' in one_fh_button.text:\n",
    "                idx = i\n",
    "            else:\n",
    "                pass\n",
    "        if idx != 100:\n",
    "            num_like = int(fh_buttons[idx].text.split(' ')[-1].replace('개', ''))\n",
    "        else:\n",
    "            num_like = 0\n",
    "    except:\n",
    "        num_like = 0\n",
    "    num_like_list.append(num_like)\n",
    "\n",
    "    # 친구소환수\n",
    "    try:\n",
    "        temp = one.find_all('a', 'notranslate')\n",
    "        num_summon_friend = len(temp)\n",
    "    except:\n",
    "        num_summon_friend = 0\n",
    "    num_summon_friend_list.append(num_summon_friend)\n",
    "\n",
    "    # 답글수\n",
    "    if one.parent['class'][0] == 'Mr508':\n",
    "        try:\n",
    "            temp = len(one.parent.find('ul', 'TCSYW').find_all('div', 'ZyFrc'))\n",
    "            num_re_reply = temp\n",
    "        except:\n",
    "            num_re_reply = 0\n",
    "    else:\n",
    "        num_re_reply = 0\n",
    "    num_re_reply_list.append(num_re_reply)\n",
    "\n",
    "    # 고유번호\n",
    "    temp = one.find('a', 'gU-I7')['href'].split('/')[-2]\n",
    "    unique_num_list.append(temp)\n",
    "\n",
    "    # 작성자URL\n",
    "    temp = one.find('a', 'sqdOP yWX7d _8A5w5 ZIAjV')['href']\n",
    "    writer_url = 'https://www.instagram.com' + temp\n",
    "    writer_url_list.append(writer_url)"
   ]
  },
  {
   "cell_type": "markdown",
   "metadata": {},
   "source": [
    "## 결과 확인"
   ]
  },
  {
   "cell_type": "code",
   "execution_count": 44,
   "metadata": {},
   "outputs": [
    {
     "name": "stdout",
     "output_type": "stream",
     "text": [
      "417\n",
      "417\n",
      "417\n",
      "417\n",
      "417\n",
      "417\n",
      "417\n",
      "417\n",
      "417\n"
     ]
    }
   ],
   "source": [
    "print(len(id_list))\n",
    "print(len(text_list))\n",
    "print(len(is_reply_list))\n",
    "print(len(date_list))\n",
    "print(len(num_like_list))\n",
    "print(len(num_summon_friend_list))\n",
    "print(len(num_re_reply_list))\n",
    "print(len(unique_num_list))\n",
    "print(len(writer_url_list))"
   ]
  },
  {
   "cell_type": "markdown",
   "metadata": {},
   "source": [
    "## df"
   ]
  },
  {
   "cell_type": "code",
   "execution_count": 65,
   "metadata": {},
   "outputs": [],
   "source": [
    "dict = {'작성일':date_list, '고유번호':unique_num_list, '답글구분':is_reply_list,\n",
    "        '작성자':id_list, '작성자URL':writer_url_list, '내용':text_list,\n",
    "        '답글수':num_re_reply_list, '친구소환수':num_summon_friend_list, '좋아요수':num_like_list}\n",
    "df = pd.DataFrame(dict)"
   ]
  },
  {
   "cell_type": "code",
   "execution_count": 66,
   "metadata": {},
   "outputs": [
    {
     "name": "stdout",
     "output_type": "stream",
     "text": [
      "<class 'pandas.core.frame.DataFrame'>\n",
      "RangeIndex: 417 entries, 0 to 416\n",
      "Data columns (total 9 columns):\n",
      " #   Column  Non-Null Count  Dtype \n",
      "---  ------  --------------  ----- \n",
      " 0   작성일     417 non-null    object\n",
      " 1   고유번호    417 non-null    object\n",
      " 2   답글구분    5 non-null      object\n",
      " 3   작성자     417 non-null    object\n",
      " 4   작성자URL  417 non-null    object\n",
      " 5   내용      417 non-null    object\n",
      " 6   답글수     417 non-null    int64 \n",
      " 7   친구소환수   417 non-null    int64 \n",
      " 8   좋아요수    417 non-null    int64 \n",
      "dtypes: int64(3), object(6)\n",
      "memory usage: 29.4+ KB\n"
     ]
    }
   ],
   "source": [
    "df.info()"
   ]
  },
  {
   "cell_type": "markdown",
   "metadata": {},
   "source": [
    "### 우리나라 시간대로 변경\n",
    "* 14시 -> 23시 (+9시간) 변경"
   ]
  },
  {
   "cell_type": "code",
   "execution_count": null,
   "metadata": {},
   "outputs": [],
   "source": [
    "df['작성일'] = pd.to_datetime(df['작성일'], format='%Y-%m-%d %H:%M:%S') + timedelta(hours=9)\n",
    "df['작성일']"
   ]
  },
  {
   "cell_type": "code",
   "execution_count": 47,
   "metadata": {},
   "outputs": [
    {
     "data": {
      "text/html": [
       "<div>\n",
       "<style scoped>\n",
       "    .dataframe tbody tr th:only-of-type {\n",
       "        vertical-align: middle;\n",
       "    }\n",
       "\n",
       "    .dataframe tbody tr th {\n",
       "        vertical-align: top;\n",
       "    }\n",
       "\n",
       "    .dataframe thead th {\n",
       "        text-align: right;\n",
       "    }\n",
       "</style>\n",
       "<table border=\"1\" class=\"dataframe\">\n",
       "  <thead>\n",
       "    <tr style=\"text-align: right;\">\n",
       "      <th></th>\n",
       "      <th>작성일</th>\n",
       "      <th>고유번호</th>\n",
       "      <th>답글구분</th>\n",
       "      <th>작성자</th>\n",
       "      <th>작성자URL</th>\n",
       "      <th>내용</th>\n",
       "      <th>답글수</th>\n",
       "      <th>친구소환수</th>\n",
       "      <th>좋아요수</th>\n",
       "    </tr>\n",
       "  </thead>\n",
       "  <tbody>\n",
       "    <tr>\n",
       "      <th>0</th>\n",
       "      <td>2022-04-29 04:28:05</td>\n",
       "      <td>18164123677226707</td>\n",
       "      <td>NaN</td>\n",
       "      <td>so34811</td>\n",
       "      <td>https://www.instagram.com/so34811/</td>\n",
       "      <td>정답 : X, O, O @raiblu27 @ahdy280 @epan_ouii @jj...</td>\n",
       "      <td>0</td>\n",
       "      <td>10</td>\n",
       "      <td>1</td>\n",
       "    </tr>\n",
       "    <tr>\n",
       "      <th>1</th>\n",
       "      <td>2022-04-29 03:02:23</td>\n",
       "      <td>18235398721103238</td>\n",
       "      <td>NaN</td>\n",
       "      <td>eunjin0210</td>\n",
       "      <td>https://www.instagram.com/eunjin0210/</td>\n",
       "      <td>정답 : ❌️-⭕️-⭕️ @eongibrother @kimseonghyeog @re...</td>\n",
       "      <td>0</td>\n",
       "      <td>10</td>\n",
       "      <td>2</td>\n",
       "    </tr>\n",
       "    <tr>\n",
       "      <th>2</th>\n",
       "      <td>2022-04-29 04:42:59</td>\n",
       "      <td>17912085050521304</td>\n",
       "      <td>NaN</td>\n",
       "      <td>comely_mom.8765</td>\n",
       "      <td>https://www.instagram.com/comely_mom.8765/</td>\n",
       "      <td>정답 : X O O ❤️ 파릇파릇한 새싹이 돋아나고 봄꽃이 기지개피며 봄을 알리는 ...</td>\n",
       "      <td>0</td>\n",
       "      <td>10</td>\n",
       "      <td>0</td>\n",
       "    </tr>\n",
       "    <tr>\n",
       "      <th>3</th>\n",
       "      <td>2022-04-29 05:34:52</td>\n",
       "      <td>18029762176361963</td>\n",
       "      <td>NaN</td>\n",
       "      <td>iseunggi5161</td>\n",
       "      <td>https://www.instagram.com/iseunggi5161/</td>\n",
       "      <td>정답..X / O / O ❤️ @hyunjung_jiyu_jia @prizia86 ...</td>\n",
       "      <td>0</td>\n",
       "      <td>7</td>\n",
       "      <td>2</td>\n",
       "    </tr>\n",
       "    <tr>\n",
       "      <th>4</th>\n",
       "      <td>2022-04-29 03:53:20</td>\n",
       "      <td>17965246261573795</td>\n",
       "      <td>NaN</td>\n",
       "      <td>ezzi_3.23</td>\n",
       "      <td>https://www.instagram.com/ezzi_3.23/</td>\n",
       "      <td>XOO😝❣ @jimdong.arf @jjjddd_best @zi__kkk @kimj...</td>\n",
       "      <td>0</td>\n",
       "      <td>8</td>\n",
       "      <td>0</td>\n",
       "    </tr>\n",
       "  </tbody>\n",
       "</table>\n",
       "</div>"
      ],
      "text/plain": [
       "                   작성일               고유번호 답글구분              작성자  \\\n",
       "0  2022-04-29 04:28:05  18164123677226707  NaN          so34811   \n",
       "1  2022-04-29 03:02:23  18235398721103238  NaN       eunjin0210   \n",
       "2  2022-04-29 04:42:59  17912085050521304  NaN  comely_mom.8765   \n",
       "3  2022-04-29 05:34:52  18029762176361963  NaN     iseunggi5161   \n",
       "4  2022-04-29 03:53:20  17965246261573795  NaN        ezzi_3.23   \n",
       "\n",
       "                                       작성자URL  \\\n",
       "0          https://www.instagram.com/so34811/   \n",
       "1       https://www.instagram.com/eunjin0210/   \n",
       "2  https://www.instagram.com/comely_mom.8765/   \n",
       "3     https://www.instagram.com/iseunggi5161/   \n",
       "4        https://www.instagram.com/ezzi_3.23/   \n",
       "\n",
       "                                                  내용  답글수  친구소환수  좋아요수  \n",
       "0  정답 : X, O, O @raiblu27 @ahdy280 @epan_ouii @jj...    0     10     1  \n",
       "1  정답 : ❌️-⭕️-⭕️ @eongibrother @kimseonghyeog @re...    0     10     2  \n",
       "2  정답 : X O O ❤️ 파릇파릇한 새싹이 돋아나고 봄꽃이 기지개피며 봄을 알리는 ...    0     10     0  \n",
       "3  정답..X / O / O ❤️ @hyunjung_jiyu_jia @prizia86 ...    0      7     2  \n",
       "4  XOO😝❣ @jimdong.arf @jjjddd_best @zi__kkk @kimj...    0      8     0  "
      ]
     },
     "execution_count": 47,
     "metadata": {},
     "output_type": "execute_result"
    }
   ],
   "source": [
    "df.head()"
   ]
  },
  {
   "cell_type": "code",
   "execution_count": 68,
   "metadata": {},
   "outputs": [],
   "source": [
    "# 최종 df\n",
    "final_df = df.copy()"
   ]
  },
  {
   "cell_type": "markdown",
   "metadata": {},
   "source": [
    "## 파일로 출력"
   ]
  },
  {
   "cell_type": "code",
   "execution_count": 69,
   "metadata": {},
   "outputs": [
    {
     "data": {
      "text/plain": [
       "'20220503_100049'"
      ]
     },
     "execution_count": 69,
     "metadata": {},
     "output_type": "execute_result"
    }
   ],
   "source": [
    "today_date = datetime.today().strftime('%Y%m%d_%H%M%S')\n",
    "today_date"
   ]
  },
  {
   "cell_type": "code",
   "execution_count": 70,
   "metadata": {},
   "outputs": [
    {
     "name": "stdout",
     "output_type": "stream",
     "text": [
      "insta_20220503_100051.xlsx 출력완료\n"
     ]
    }
   ],
   "source": [
    "today_date = datetime.today().strftime('%Y%m%d_%H%M%S')\n",
    "file_name = f'insta_{today_date}.xlsx'\n",
    "final_df.to_excel(crawled_folder_path + '/' + file_name, index=False, encoding='utf-8')\n",
    "print(f'{file_name} 출력완료')"
   ]
  },
  {
   "cell_type": "markdown",
   "metadata": {},
   "source": [
    "# 코드 마지막"
   ]
  }
 ],
 "metadata": {
  "interpreter": {
   "hash": "b3ba2566441a7c06988d0923437866b63cedc61552a5af99d1f4fb67d367b25f"
  },
  "kernelspec": {
   "display_name": "Python 3.9.7 ('base')",
   "language": "python",
   "name": "python3"
  },
  "language_info": {
   "codemirror_mode": {
    "name": "ipython",
    "version": 3
   },
   "file_extension": ".py",
   "mimetype": "text/x-python",
   "name": "python",
   "nbconvert_exporter": "python",
   "pygments_lexer": "ipython3",
   "version": "3.9.7"
  },
  "orig_nbformat": 4
 },
 "nbformat": 4,
 "nbformat_minor": 2
}
