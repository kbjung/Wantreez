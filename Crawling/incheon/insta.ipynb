{
 "cells": [
  {
   "cell_type": "markdown",
   "metadata": {},
   "source": [
    "# Insta"
   ]
  },
  {
   "cell_type": "markdown",
   "metadata": {},
   "source": [
    "## 라이브러리"
   ]
  },
  {
   "cell_type": "code",
   "execution_count": 28,
   "metadata": {},
   "outputs": [],
   "source": [
    "from selenium import webdriver\n",
    "import chromedriver_autoinstaller as ca"
   ]
  },
  {
   "cell_type": "code",
   "execution_count": 29,
   "metadata": {},
   "outputs": [],
   "source": [
    "from bs4 import BeautifulSoup as bs\n",
    "import pandas as pd\n",
    "import os, time, random\n",
    "from datetime import datetime, timedelta\n",
    "from numpy import nan"
   ]
  },
  {
   "cell_type": "code",
   "execution_count": 30,
   "metadata": {},
   "outputs": [],
   "source": [
    "import getpass"
   ]
  },
  {
   "cell_type": "markdown",
   "metadata": {},
   "source": [
    "## 게시글 주소"
   ]
  },
  {
   "cell_type": "code",
   "execution_count": 31,
   "metadata": {},
   "outputs": [],
   "source": [
    "url = 'https://www.instagram.com/p/Cc6uJmcv-uF/'"
   ]
  },
  {
   "cell_type": "markdown",
   "metadata": {},
   "source": [
    "## 준비"
   ]
  },
  {
   "cell_type": "markdown",
   "metadata": {},
   "source": [
    "### 폴더 생성"
   ]
  },
  {
   "cell_type": "code",
   "execution_count": 32,
   "metadata": {},
   "outputs": [
    {
     "data": {
      "text/plain": [
       "'c:/data/Wantreez/Crawling/incheon'"
      ]
     },
     "execution_count": 32,
     "metadata": {},
     "output_type": "execute_result"
    }
   ],
   "source": [
    "# 현재 파일 위치 확인\n",
    "code_path = os.getcwd().replace('\\\\', '/')\n",
    "code_path"
   ]
  },
  {
   "cell_type": "code",
   "execution_count": 33,
   "metadata": {},
   "outputs": [],
   "source": [
    "# 폴더 생성\n",
    "crawled_folder_path = code_path + '/crawled_data/insta/'\n",
    "os.makedirs(crawled_folder_path, exist_ok=True)"
   ]
  },
  {
   "cell_type": "markdown",
   "metadata": {},
   "source": [
    "### 드라이버 확인 및 설치"
   ]
  },
  {
   "cell_type": "code",
   "execution_count": 34,
   "metadata": {},
   "outputs": [],
   "source": [
    "# 크롬 드라이버 설치 확인 & 설치\n",
    "ca.install(True)\n",
    "driver = webdriver.Chrome()"
   ]
  },
  {
   "cell_type": "markdown",
   "metadata": {},
   "source": [
    "### 로그인"
   ]
  },
  {
   "cell_type": "code",
   "execution_count": 35,
   "metadata": {},
   "outputs": [],
   "source": [
    "# 로그인 페이지 접속\n",
    "driver.get(url)\n",
    "driver.implicitly_wait(3)\n",
    "driver.maximize_window()"
   ]
  },
  {
   "cell_type": "code",
   "execution_count": 36,
   "metadata": {},
   "outputs": [
    {
     "name": "stderr",
     "output_type": "stream",
     "text": [
      "C:\\Users\\kbjung\\AppData\\Local\\Temp/ipykernel_23100/2888132031.py:3: DeprecationWarning: find_element_by_css_selector is deprecated. Please use find_element(by=By.CSS_SELECTOR, value=css_selector) instead\n",
      "  login_page_button = driver.find_element_by_css_selector('button.sqdOP.L3NKy.y3zKF')\n"
     ]
    }
   ],
   "source": [
    "# 로그인 버튼 클릭\n",
    "try:\n",
    "    login_page_button = driver.find_element_by_css_selector('button.sqdOP.L3NKy.y3zKF')\n",
    "    login_page_button.click()\n",
    "    time.sleep(1)\n",
    "except:\n",
    "    pass"
   ]
  },
  {
   "cell_type": "code",
   "execution_count": 37,
   "metadata": {},
   "outputs": [
    {
     "name": "stderr",
     "output_type": "stream",
     "text": [
      "C:\\Users\\kbjung\\AppData\\Local\\Temp/ipykernel_23100/1163848091.py:2: DeprecationWarning: find_element_by_xpath is deprecated. Please use find_element(by=By.XPATH, value=xpath) instead\n",
      "  id_box = driver.find_element_by_xpath('//*[@id=\"loginForm\"]/div/div[1]/div/label/input')\n",
      "C:\\Users\\kbjung\\AppData\\Local\\Temp/ipykernel_23100/1163848091.py:3: DeprecationWarning: find_element_by_xpath is deprecated. Please use find_element(by=By.XPATH, value=xpath) instead\n",
      "  pw_box = driver.find_element_by_xpath('//*[@id=\"loginForm\"]/div/div[2]/div/label/input')\n",
      "C:\\Users\\kbjung\\AppData\\Local\\Temp/ipykernel_23100/1163848091.py:4: DeprecationWarning: find_element_by_xpath is deprecated. Please use find_element(by=By.XPATH, value=xpath) instead\n",
      "  login_button = driver.find_element_by_xpath('//*[@id=\"loginForm\"]/div/div[3]/button')\n"
     ]
    }
   ],
   "source": [
    "# 로그인\n",
    "id_box = driver.find_element_by_xpath('//*[@id=\"loginForm\"]/div/div[1]/div/label/input')\n",
    "pw_box = driver.find_element_by_xpath('//*[@id=\"loginForm\"]/div/div[2]/div/label/input')\n",
    "login_button = driver.find_element_by_xpath('//*[@id=\"loginForm\"]/div/div[3]/button')\n",
    "\n",
    "id = input('id를 입력하세요.')\n",
    "pw = getpass.getpass('비밀번호를 입력하세요.')"
   ]
  },
  {
   "cell_type": "code",
   "execution_count": 38,
   "metadata": {},
   "outputs": [],
   "source": [
    "id_box.send_keys(id)\n",
    "time.sleep( random.uniform(0.5, 0.8))\n",
    "\n",
    "pw_box.send_keys(pw)\n",
    "time.sleep( random.uniform(0.5, 0.8))\n",
    "\n",
    "login_button.click()\n",
    "time.sleep( random.uniform(0.5, 0.8))"
   ]
  },
  {
   "cell_type": "markdown",
   "metadata": {},
   "source": [
    "### 페이지 접속"
   ]
  },
  {
   "cell_type": "code",
   "execution_count": 55,
   "metadata": {},
   "outputs": [],
   "source": [
    "# 페이지 접속\n",
    "driver.get(url)\n",
    "driver.implicitly_wait(3)\n",
    "driver.maximize_window()"
   ]
  },
  {
   "cell_type": "markdown",
   "metadata": {},
   "source": [
    "### 댓글 더 보기 클릭"
   ]
  },
  {
   "cell_type": "code",
   "execution_count": 56,
   "metadata": {},
   "outputs": [
    {
     "name": "stderr",
     "output_type": "stream",
     "text": [
      "C:\\Users\\kbjung\\AppData\\Local\\Temp/ipykernel_23100/2904650419.py:5: DeprecationWarning: find_element_by_xpath is deprecated. Please use find_element(by=By.XPATH, value=xpath) instead\n",
      "  more_view_button = driver.find_element_by_xpath('//*[@id=\"react-root\"]/section/main/div/div[1]/article/div/div[2]/div/div[2]/div[1]/ul/li/div/button')\n"
     ]
    },
    {
     "name": "stdout",
     "output_type": "stream",
     "text": [
      "더 보기 클릭 횟수 : 27\n"
     ]
    }
   ],
   "source": [
    "# 댓글 더 보기 클릭\n",
    "count = 0\n",
    "while True:\n",
    "    try:\n",
    "        more_view_button = driver.find_element_by_xpath('//*[@id=\"react-root\"]/section/main/div/div[1]/article/div/div[2]/div/div[2]/div[1]/ul/li/div/button')\n",
    "        more_view_button.click()\n",
    "        driver.implicitly_wait(3)\n",
    "        time.sleep( random.uniform(0.5, 1) )\n",
    "    except:\n",
    "        break\n",
    "    count += 1\n",
    "print(f'더 보기 클릭 횟수 : {count}')"
   ]
  },
  {
   "cell_type": "markdown",
   "metadata": {},
   "source": [
    "### 답글 보기 버튼 클릭"
   ]
  },
  {
   "cell_type": "code",
   "execution_count": 57,
   "metadata": {},
   "outputs": [
    {
     "name": "stderr",
     "output_type": "stream",
     "text": [
      "C:\\Users\\kbjung\\AppData\\Local\\Temp/ipykernel_23100/3592393445.py:2: DeprecationWarning: find_elements_by_css_selector is deprecated. Please use find_elements(by=By.CSS_SELECTOR, value=css_selector) instead\n",
      "  show_reply_buttons = driver.find_elements_by_css_selector('ul > li > div > button')\n"
     ]
    },
    {
     "data": {
      "text/plain": [
       "6"
      ]
     },
     "execution_count": 57,
     "metadata": {},
     "output_type": "execute_result"
    }
   ],
   "source": [
    "# 답글 보기 버튼 개수\n",
    "show_reply_buttons = driver.find_elements_by_css_selector('ul > li > div > button')\n",
    "len(show_reply_buttons)"
   ]
  },
  {
   "cell_type": "code",
   "execution_count": 58,
   "metadata": {},
   "outputs": [],
   "source": [
    "for i in range(2):\n",
    "    for one_show_reply_button in show_reply_buttons:\n",
    "        if '보기' in one_show_reply_button.text:\n",
    "            one_show_reply_button.click()\n",
    "            driver.implicitly_wait(2)\n",
    "            time.sleep( random.uniform(0.5, 1) )\n",
    "        elif '숨기기' in one_show_reply_button.text:\n",
    "            pass"
   ]
  },
  {
   "cell_type": "markdown",
   "metadata": {},
   "source": [
    "## 수집"
   ]
  },
  {
   "cell_type": "code",
   "execution_count": 59,
   "metadata": {},
   "outputs": [
    {
     "data": {
      "text/plain": [
       "503"
      ]
     },
     "execution_count": 59,
     "metadata": {},
     "output_type": "execute_result"
    }
   ],
   "source": [
    "soup = bs(driver.page_source, 'lxml')\n",
    "div_soup = soup.find_all('div', 'ZyFrc')[2:] # 1,2 번째는 본문 내용이라 제거\n",
    "len(div_soup)"
   ]
  },
  {
   "cell_type": "code",
   "execution_count": 60,
   "metadata": {},
   "outputs": [],
   "source": [
    "id_list = []\n",
    "text_list = []\n",
    "is_reply_list = []\n",
    "date_list = []\n",
    "num_like_list = []\n",
    "num_summon_friend_list = []\n",
    "num_re_reply_list = []\n",
    "unique_num_list = []\n",
    "writer_url_list = []\n",
    "\n",
    "for one in div_soup:\n",
    "    # 작성자\n",
    "    temp = one.find('a', 'sqdOP yWX7d _8A5w5 ZIAjV').text\n",
    "    id_list.append(temp)\n",
    "\n",
    "    # 내용\n",
    "    temp = one.find('span', '_7UhW9 xLCgt MMzan KV-D4 se6yk T0kll').text.replace('\\xa0', '')\n",
    "    text_list.append(temp)\n",
    "\n",
    "    # 답글 구분\n",
    "    if one.parent['class'][0] == 'Mr508':\n",
    "        is_reply = nan\n",
    "    elif one.parent['class'][0] == 'TCSYW':\n",
    "        is_reply = '답글'\n",
    "    is_reply_list.append(is_reply)\n",
    "\n",
    "    # 날짜\n",
    "    temp = one.find('time')['datetime'].split('.')[0].replace('T', ' ')\n",
    "    date_list.append(temp)\n",
    "\n",
    "    # 좋아요 수\n",
    "    try:\n",
    "        fh_buttons = one.find('div', '_7UhW9 PIoXz MMzan _0PwGv uL8Hv').find_all('div', '_7UhW9 PIoXz qyrsm _0PwGv uL8Hv T0kll')\n",
    "        idx = 100\n",
    "        for i, one_fh_button in enumerate(fh_buttons):\n",
    "            if '좋아요' in one_fh_button.text:\n",
    "                idx = i\n",
    "            else:\n",
    "                pass\n",
    "        if idx != 100:\n",
    "            num_like = int(fh_buttons[idx].text.split(' ')[-1].replace('개', ''))\n",
    "        else:\n",
    "            num_like = 0\n",
    "    except:\n",
    "        num_like = 0\n",
    "    num_like_list.append(num_like)\n",
    "\n",
    "    # 친구소환수\n",
    "    try:\n",
    "        temp = one.find_all('a', 'notranslate')\n",
    "        num_summon_friend = len(temp)\n",
    "    except:\n",
    "        num_summon_friend = 0\n",
    "    num_summon_friend_list.append(num_summon_friend)\n",
    "\n",
    "    # 답글수\n",
    "    if one.parent['class'][0] == 'Mr508':\n",
    "        try:\n",
    "            temp = len(one.parent.find('ul', 'TCSYW').find_all('div', 'ZyFrc'))\n",
    "            num_re_reply = temp\n",
    "        except:\n",
    "            num_re_reply = 0\n",
    "    else:\n",
    "        num_re_reply = 0\n",
    "    num_re_reply_list.append(num_re_reply)\n",
    "\n",
    "    # 고유번호\n",
    "    temp = one.find('a', 'gU-I7')['href'].split('/')[-2]\n",
    "    unique_num_list.append(temp)\n",
    "\n",
    "    # 작성자URL\n",
    "    temp = one.find('a', 'sqdOP yWX7d _8A5w5 ZIAjV')['href']\n",
    "    writer_url = 'https://www.instagram.com' + temp\n",
    "    writer_url_list.append(writer_url)"
   ]
  },
  {
   "cell_type": "code",
   "execution_count": 61,
   "metadata": {},
   "outputs": [],
   "source": [
    "# driver.quit()"
   ]
  },
  {
   "cell_type": "markdown",
   "metadata": {},
   "source": [
    "## 결과 확인"
   ]
  },
  {
   "cell_type": "code",
   "execution_count": 62,
   "metadata": {},
   "outputs": [
    {
     "name": "stdout",
     "output_type": "stream",
     "text": [
      "503\n",
      "503\n",
      "503\n",
      "503\n",
      "503\n",
      "503\n",
      "503\n",
      "503\n",
      "503\n"
     ]
    }
   ],
   "source": [
    "print(len(id_list))\n",
    "print(len(text_list))\n",
    "print(len(is_reply_list))\n",
    "print(len(date_list))\n",
    "print(len(num_like_list))\n",
    "print(len(num_summon_friend_list))\n",
    "print(len(num_re_reply_list))\n",
    "print(len(unique_num_list))\n",
    "print(len(writer_url_list))"
   ]
  },
  {
   "cell_type": "markdown",
   "metadata": {},
   "source": [
    "## df"
   ]
  },
  {
   "cell_type": "code",
   "execution_count": 63,
   "metadata": {},
   "outputs": [],
   "source": [
    "dict = {'작성일':date_list, '고유번호':unique_num_list, '답글구분':is_reply_list,\n",
    "        '작성자':id_list, '작성자URL':writer_url_list, '내용':text_list,\n",
    "        '답글수':num_re_reply_list, '친구소환수':num_summon_friend_list, '좋아요수':num_like_list}\n",
    "df = pd.DataFrame(dict)"
   ]
  },
  {
   "cell_type": "code",
   "execution_count": 64,
   "metadata": {},
   "outputs": [
    {
     "name": "stdout",
     "output_type": "stream",
     "text": [
      "<class 'pandas.core.frame.DataFrame'>\n",
      "RangeIndex: 503 entries, 0 to 502\n",
      "Data columns (total 9 columns):\n",
      " #   Column  Non-Null Count  Dtype \n",
      "---  ------  --------------  ----- \n",
      " 0   작성일     503 non-null    object\n",
      " 1   고유번호    503 non-null    object\n",
      " 2   답글구분    6 non-null      object\n",
      " 3   작성자     503 non-null    object\n",
      " 4   작성자URL  503 non-null    object\n",
      " 5   내용      503 non-null    object\n",
      " 6   답글수     503 non-null    int64 \n",
      " 7   친구소환수   503 non-null    int64 \n",
      " 8   좋아요수    503 non-null    int64 \n",
      "dtypes: int64(3), object(6)\n",
      "memory usage: 35.5+ KB\n"
     ]
    }
   ],
   "source": [
    "df.info()"
   ]
  },
  {
   "cell_type": "markdown",
   "metadata": {},
   "source": [
    "### 우리나라 시간대로 변경\n",
    "* 14시 -> 23시 (+9시간) 변경"
   ]
  },
  {
   "cell_type": "code",
   "execution_count": 65,
   "metadata": {},
   "outputs": [
    {
     "data": {
      "text/plain": [
       "0    2022-04-29 02:59:54\n",
       "1    2022-04-29 03:02:23\n",
       "2    2022-04-29 04:28:05\n",
       "3    2022-04-29 05:01:09\n",
       "4    2022-04-29 04:22:12\n",
       "Name: 작성일, dtype: object"
      ]
     },
     "execution_count": 65,
     "metadata": {},
     "output_type": "execute_result"
    }
   ],
   "source": [
    "df['작성일'].head()"
   ]
  },
  {
   "cell_type": "code",
   "execution_count": 66,
   "metadata": {},
   "outputs": [
    {
     "data": {
      "text/plain": [
       "0   2022-04-29 11:59:54\n",
       "1   2022-04-29 12:02:23\n",
       "2   2022-04-29 13:28:05\n",
       "3   2022-04-29 14:01:09\n",
       "4   2022-04-29 13:22:12\n",
       "Name: 작성일, dtype: datetime64[ns]"
      ]
     },
     "execution_count": 66,
     "metadata": {},
     "output_type": "execute_result"
    }
   ],
   "source": [
    "df['작성일'] = pd.to_datetime(df['작성일'], format='%Y-%m-%d %H:%M:%S') + timedelta(hours=9)\n",
    "df['작성일'].head()"
   ]
  },
  {
   "cell_type": "code",
   "execution_count": 67,
   "metadata": {},
   "outputs": [
    {
     "data": {
      "text/html": [
       "<div>\n",
       "<style scoped>\n",
       "    .dataframe tbody tr th:only-of-type {\n",
       "        vertical-align: middle;\n",
       "    }\n",
       "\n",
       "    .dataframe tbody tr th {\n",
       "        vertical-align: top;\n",
       "    }\n",
       "\n",
       "    .dataframe thead th {\n",
       "        text-align: right;\n",
       "    }\n",
       "</style>\n",
       "<table border=\"1\" class=\"dataframe\">\n",
       "  <thead>\n",
       "    <tr style=\"text-align: right;\">\n",
       "      <th></th>\n",
       "      <th>작성일</th>\n",
       "      <th>고유번호</th>\n",
       "      <th>답글구분</th>\n",
       "      <th>작성자</th>\n",
       "      <th>작성자URL</th>\n",
       "      <th>내용</th>\n",
       "      <th>답글수</th>\n",
       "      <th>친구소환수</th>\n",
       "      <th>좋아요수</th>\n",
       "    </tr>\n",
       "  </thead>\n",
       "  <tbody>\n",
       "    <tr>\n",
       "      <th>0</th>\n",
       "      <td>2022-04-29 11:59:54</td>\n",
       "      <td>18015468637381433</td>\n",
       "      <td>NaN</td>\n",
       "      <td>ryong_time_no_see</td>\n",
       "      <td>https://www.instagram.com/ryong_time_no_see/</td>\n",
       "      <td>정답 : Q1. X / Q2. O / Q3. O#인천광역시의회 #이벤트 #icoun...</td>\n",
       "      <td>0</td>\n",
       "      <td>0</td>\n",
       "      <td>0</td>\n",
       "    </tr>\n",
       "    <tr>\n",
       "      <th>1</th>\n",
       "      <td>2022-04-29 12:02:23</td>\n",
       "      <td>18235398721103238</td>\n",
       "      <td>NaN</td>\n",
       "      <td>eunjin0210</td>\n",
       "      <td>https://www.instagram.com/eunjin0210/</td>\n",
       "      <td>정답 : ❌️-⭕️-⭕️ @eongibrother @kimseonghyeog @re...</td>\n",
       "      <td>0</td>\n",
       "      <td>10</td>\n",
       "      <td>2</td>\n",
       "    </tr>\n",
       "    <tr>\n",
       "      <th>2</th>\n",
       "      <td>2022-04-29 13:28:05</td>\n",
       "      <td>18164123677226707</td>\n",
       "      <td>NaN</td>\n",
       "      <td>so34811</td>\n",
       "      <td>https://www.instagram.com/so34811/</td>\n",
       "      <td>정답 : X, O, O @raiblu27 @ahdy280 @epan_ouii @jj...</td>\n",
       "      <td>0</td>\n",
       "      <td>10</td>\n",
       "      <td>1</td>\n",
       "    </tr>\n",
       "    <tr>\n",
       "      <th>3</th>\n",
       "      <td>2022-04-29 14:01:09</td>\n",
       "      <td>17975610796535852</td>\n",
       "      <td>NaN</td>\n",
       "      <td>copa6023</td>\n",
       "      <td>https://www.instagram.com/copa6023/</td>\n",
       "      <td>정답 : X, O, O@kimch_goods @qqsice @you_me5425 @...</td>\n",
       "      <td>0</td>\n",
       "      <td>10</td>\n",
       "      <td>0</td>\n",
       "    </tr>\n",
       "    <tr>\n",
       "      <th>4</th>\n",
       "      <td>2022-04-29 13:22:12</td>\n",
       "      <td>17968211671600611</td>\n",
       "      <td>NaN</td>\n",
       "      <td>peach0242</td>\n",
       "      <td>https://www.instagram.com/peach0242/</td>\n",
       "      <td>🧡정답 : 1. X, 2. O, 3. O💙함께해요~🙆‍♀️@83.48 @happyo...</td>\n",
       "      <td>0</td>\n",
       "      <td>10</td>\n",
       "      <td>2</td>\n",
       "    </tr>\n",
       "  </tbody>\n",
       "</table>\n",
       "</div>"
      ],
      "text/plain": [
       "                  작성일               고유번호 답글구분                작성자  \\\n",
       "0 2022-04-29 11:59:54  18015468637381433  NaN  ryong_time_no_see   \n",
       "1 2022-04-29 12:02:23  18235398721103238  NaN         eunjin0210   \n",
       "2 2022-04-29 13:28:05  18164123677226707  NaN            so34811   \n",
       "3 2022-04-29 14:01:09  17975610796535852  NaN           copa6023   \n",
       "4 2022-04-29 13:22:12  17968211671600611  NaN          peach0242   \n",
       "\n",
       "                                         작성자URL  \\\n",
       "0  https://www.instagram.com/ryong_time_no_see/   \n",
       "1         https://www.instagram.com/eunjin0210/   \n",
       "2            https://www.instagram.com/so34811/   \n",
       "3           https://www.instagram.com/copa6023/   \n",
       "4          https://www.instagram.com/peach0242/   \n",
       "\n",
       "                                                  내용  답글수  친구소환수  좋아요수  \n",
       "0  정답 : Q1. X / Q2. O / Q3. O#인천광역시의회 #이벤트 #icoun...    0      0     0  \n",
       "1  정답 : ❌️-⭕️-⭕️ @eongibrother @kimseonghyeog @re...    0     10     2  \n",
       "2  정답 : X, O, O @raiblu27 @ahdy280 @epan_ouii @jj...    0     10     1  \n",
       "3  정답 : X, O, O@kimch_goods @qqsice @you_me5425 @...    0     10     0  \n",
       "4  🧡정답 : 1. X, 2. O, 3. O💙함께해요~🙆‍♀️@83.48 @happyo...    0     10     2  "
      ]
     },
     "execution_count": 67,
     "metadata": {},
     "output_type": "execute_result"
    }
   ],
   "source": [
    "df.head()"
   ]
  },
  {
   "cell_type": "markdown",
   "metadata": {},
   "source": [
    "### 날짜로 자르기 설정"
   ]
  },
  {
   "cell_type": "code",
   "execution_count": 72,
   "metadata": {},
   "outputs": [
    {
     "name": "stdout",
     "output_type": "stream",
     "text": [
      "<class 'pandas.core.frame.DataFrame'>\n",
      "RangeIndex: 503 entries, 0 to 502\n",
      "Data columns (total 9 columns):\n",
      " #   Column  Non-Null Count  Dtype         \n",
      "---  ------  --------------  -----         \n",
      " 0   작성일     503 non-null    datetime64[ns]\n",
      " 1   고유번호    503 non-null    object        \n",
      " 2   답글구분    6 non-null      object        \n",
      " 3   작성자     503 non-null    object        \n",
      " 4   작성자URL  503 non-null    object        \n",
      " 5   내용      503 non-null    object        \n",
      " 6   답글수     503 non-null    int64         \n",
      " 7   친구소환수   503 non-null    int64         \n",
      " 8   좋아요수    503 non-null    int64         \n",
      "dtypes: datetime64[ns](1), int64(3), object(5)\n",
      "memory usage: 35.5+ KB\n"
     ]
    }
   ],
   "source": [
    "df.info()"
   ]
  },
  {
   "cell_type": "code",
   "execution_count": 75,
   "metadata": {},
   "outputs": [
    {
     "name": "stdout",
     "output_type": "stream",
     "text": [
      "<class 'pandas.core.frame.DataFrame'>\n",
      "Int64Index: 495 entries, 0 to 502\n",
      "Data columns (total 9 columns):\n",
      " #   Column  Non-Null Count  Dtype         \n",
      "---  ------  --------------  -----         \n",
      " 0   작성일     495 non-null    datetime64[ns]\n",
      " 1   고유번호    495 non-null    object        \n",
      " 2   답글구분    6 non-null      object        \n",
      " 3   작성자     495 non-null    object        \n",
      " 4   작성자URL  495 non-null    object        \n",
      " 5   내용      495 non-null    object        \n",
      " 6   답글수     495 non-null    int64         \n",
      " 7   친구소환수   495 non-null    int64         \n",
      " 8   좋아요수    495 non-null    int64         \n",
      "dtypes: datetime64[ns](1), int64(3), object(5)\n",
      "memory usage: 38.7+ KB\n"
     ]
    }
   ],
   "source": [
    "df2 = df[df['작성일'] < '2022-05-07']\n",
    "df2.info()"
   ]
  },
  {
   "cell_type": "code",
   "execution_count": 76,
   "metadata": {},
   "outputs": [
    {
     "data": {
      "text/html": [
       "<div>\n",
       "<style scoped>\n",
       "    .dataframe tbody tr th:only-of-type {\n",
       "        vertical-align: middle;\n",
       "    }\n",
       "\n",
       "    .dataframe tbody tr th {\n",
       "        vertical-align: top;\n",
       "    }\n",
       "\n",
       "    .dataframe thead th {\n",
       "        text-align: right;\n",
       "    }\n",
       "</style>\n",
       "<table border=\"1\" class=\"dataframe\">\n",
       "  <thead>\n",
       "    <tr style=\"text-align: right;\">\n",
       "      <th></th>\n",
       "      <th>작성일</th>\n",
       "      <th>고유번호</th>\n",
       "      <th>답글구분</th>\n",
       "      <th>작성자</th>\n",
       "      <th>작성자URL</th>\n",
       "      <th>내용</th>\n",
       "      <th>답글수</th>\n",
       "      <th>친구소환수</th>\n",
       "      <th>좋아요수</th>\n",
       "    </tr>\n",
       "  </thead>\n",
       "  <tbody>\n",
       "    <tr>\n",
       "      <th>0</th>\n",
       "      <td>2022-04-29 11:59:54</td>\n",
       "      <td>18015468637381433</td>\n",
       "      <td>NaN</td>\n",
       "      <td>ryong_time_no_see</td>\n",
       "      <td>https://www.instagram.com/ryong_time_no_see/</td>\n",
       "      <td>정답 : Q1. X / Q2. O / Q3. O#인천광역시의회 #이벤트 #icoun...</td>\n",
       "      <td>0</td>\n",
       "      <td>0</td>\n",
       "      <td>0</td>\n",
       "    </tr>\n",
       "    <tr>\n",
       "      <th>1</th>\n",
       "      <td>2022-04-29 12:02:23</td>\n",
       "      <td>18235398721103238</td>\n",
       "      <td>NaN</td>\n",
       "      <td>eunjin0210</td>\n",
       "      <td>https://www.instagram.com/eunjin0210/</td>\n",
       "      <td>정답 : ❌️-⭕️-⭕️ @eongibrother @kimseonghyeog @re...</td>\n",
       "      <td>0</td>\n",
       "      <td>10</td>\n",
       "      <td>2</td>\n",
       "    </tr>\n",
       "    <tr>\n",
       "      <th>2</th>\n",
       "      <td>2022-04-29 13:28:05</td>\n",
       "      <td>18164123677226707</td>\n",
       "      <td>NaN</td>\n",
       "      <td>so34811</td>\n",
       "      <td>https://www.instagram.com/so34811/</td>\n",
       "      <td>정답 : X, O, O @raiblu27 @ahdy280 @epan_ouii @jj...</td>\n",
       "      <td>0</td>\n",
       "      <td>10</td>\n",
       "      <td>1</td>\n",
       "    </tr>\n",
       "    <tr>\n",
       "      <th>3</th>\n",
       "      <td>2022-04-29 14:01:09</td>\n",
       "      <td>17975610796535852</td>\n",
       "      <td>NaN</td>\n",
       "      <td>copa6023</td>\n",
       "      <td>https://www.instagram.com/copa6023/</td>\n",
       "      <td>정답 : X, O, O@kimch_goods @qqsice @you_me5425 @...</td>\n",
       "      <td>0</td>\n",
       "      <td>10</td>\n",
       "      <td>0</td>\n",
       "    </tr>\n",
       "    <tr>\n",
       "      <th>4</th>\n",
       "      <td>2022-04-29 13:22:12</td>\n",
       "      <td>17968211671600611</td>\n",
       "      <td>NaN</td>\n",
       "      <td>peach0242</td>\n",
       "      <td>https://www.instagram.com/peach0242/</td>\n",
       "      <td>🧡정답 : 1. X, 2. O, 3. O💙함께해요~🙆‍♀️@83.48 @happyo...</td>\n",
       "      <td>0</td>\n",
       "      <td>10</td>\n",
       "      <td>2</td>\n",
       "    </tr>\n",
       "  </tbody>\n",
       "</table>\n",
       "</div>"
      ],
      "text/plain": [
       "                  작성일               고유번호 답글구분                작성자  \\\n",
       "0 2022-04-29 11:59:54  18015468637381433  NaN  ryong_time_no_see   \n",
       "1 2022-04-29 12:02:23  18235398721103238  NaN         eunjin0210   \n",
       "2 2022-04-29 13:28:05  18164123677226707  NaN            so34811   \n",
       "3 2022-04-29 14:01:09  17975610796535852  NaN           copa6023   \n",
       "4 2022-04-29 13:22:12  17968211671600611  NaN          peach0242   \n",
       "\n",
       "                                         작성자URL  \\\n",
       "0  https://www.instagram.com/ryong_time_no_see/   \n",
       "1         https://www.instagram.com/eunjin0210/   \n",
       "2            https://www.instagram.com/so34811/   \n",
       "3           https://www.instagram.com/copa6023/   \n",
       "4          https://www.instagram.com/peach0242/   \n",
       "\n",
       "                                                  내용  답글수  친구소환수  좋아요수  \n",
       "0  정답 : Q1. X / Q2. O / Q3. O#인천광역시의회 #이벤트 #icoun...    0      0     0  \n",
       "1  정답 : ❌️-⭕️-⭕️ @eongibrother @kimseonghyeog @re...    0     10     2  \n",
       "2  정답 : X, O, O @raiblu27 @ahdy280 @epan_ouii @jj...    0     10     1  \n",
       "3  정답 : X, O, O@kimch_goods @qqsice @you_me5425 @...    0     10     0  \n",
       "4  🧡정답 : 1. X, 2. O, 3. O💙함께해요~🙆‍♀️@83.48 @happyo...    0     10     2  "
      ]
     },
     "execution_count": 76,
     "metadata": {},
     "output_type": "execute_result"
    }
   ],
   "source": [
    "df2.head()"
   ]
  },
  {
   "cell_type": "code",
   "execution_count": 74,
   "metadata": {},
   "outputs": [
    {
     "data": {
      "text/html": [
       "<div>\n",
       "<style scoped>\n",
       "    .dataframe tbody tr th:only-of-type {\n",
       "        vertical-align: middle;\n",
       "    }\n",
       "\n",
       "    .dataframe tbody tr th {\n",
       "        vertical-align: top;\n",
       "    }\n",
       "\n",
       "    .dataframe thead th {\n",
       "        text-align: right;\n",
       "    }\n",
       "</style>\n",
       "<table border=\"1\" class=\"dataframe\">\n",
       "  <thead>\n",
       "    <tr style=\"text-align: right;\">\n",
       "      <th></th>\n",
       "      <th>작성일</th>\n",
       "      <th>고유번호</th>\n",
       "      <th>답글구분</th>\n",
       "      <th>작성자</th>\n",
       "      <th>작성자URL</th>\n",
       "      <th>내용</th>\n",
       "      <th>답글수</th>\n",
       "      <th>친구소환수</th>\n",
       "      <th>좋아요수</th>\n",
       "    </tr>\n",
       "  </thead>\n",
       "  <tbody>\n",
       "    <tr>\n",
       "      <th>485</th>\n",
       "      <td>2022-05-06 23:46:40</td>\n",
       "      <td>18280897651067132</td>\n",
       "      <td>NaN</td>\n",
       "      <td>chili_cheese_fries11</td>\n",
       "      <td>https://www.instagram.com/chili_cheese_fries11/</td>\n",
       "      <td>정답: X, O, O</td>\n",
       "      <td>0</td>\n",
       "      <td>0</td>\n",
       "      <td>0</td>\n",
       "    </tr>\n",
       "    <tr>\n",
       "      <th>486</th>\n",
       "      <td>2022-05-06 23:51:52</td>\n",
       "      <td>18156807850244916</td>\n",
       "      <td>NaN</td>\n",
       "      <td>seonho6054</td>\n",
       "      <td>https://www.instagram.com/seonho6054/</td>\n",
       "      <td>정답 : 1. X / 2.O / 3. O@lx_hyeonju1004 @skyjun2...</td>\n",
       "      <td>0</td>\n",
       "      <td>3</td>\n",
       "      <td>0</td>\n",
       "    </tr>\n",
       "    <tr>\n",
       "      <th>487</th>\n",
       "      <td>2022-05-06 23:52:04</td>\n",
       "      <td>17940732788022528</td>\n",
       "      <td>NaN</td>\n",
       "      <td>sn4374237</td>\n",
       "      <td>https://www.instagram.com/sn4374237/</td>\n",
       "      <td>정답 : X, O, O</td>\n",
       "      <td>0</td>\n",
       "      <td>0</td>\n",
       "      <td>0</td>\n",
       "    </tr>\n",
       "    <tr>\n",
       "      <th>488</th>\n",
       "      <td>2022-05-06 23:55:18</td>\n",
       "      <td>18127312315277543</td>\n",
       "      <td>NaN</td>\n",
       "      <td>soojunglife24</td>\n",
       "      <td>https://www.instagram.com/soojunglife24/</td>\n",
       "      <td>정답 : X, O, O</td>\n",
       "      <td>0</td>\n",
       "      <td>0</td>\n",
       "      <td>0</td>\n",
       "    </tr>\n",
       "    <tr>\n",
       "      <th>489</th>\n",
       "      <td>2022-05-06 23:55:39</td>\n",
       "      <td>17924892656478406</td>\n",
       "      <td>NaN</td>\n",
       "      <td>chung.howard</td>\n",
       "      <td>https://www.instagram.com/chung.howard/</td>\n",
       "      <td>정답..X / O / O 인스타에서 만나서 기쁜 이 마음⭐️ ♡☆❤ 팔로우 응원합니...</td>\n",
       "      <td>0</td>\n",
       "      <td>8</td>\n",
       "      <td>0</td>\n",
       "    </tr>\n",
       "    <tr>\n",
       "      <th>490</th>\n",
       "      <td>2022-05-06 23:59:14</td>\n",
       "      <td>17956419088783537</td>\n",
       "      <td>NaN</td>\n",
       "      <td>khlove1024</td>\n",
       "      <td>https://www.instagram.com/khlove1024/</td>\n",
       "      <td>정답 : X, O, O 💗💞💖 자주 방문하고 좋은 정보 함께 나누고 싶네요~  #팔...</td>\n",
       "      <td>0</td>\n",
       "      <td>4</td>\n",
       "      <td>0</td>\n",
       "    </tr>\n",
       "    <tr>\n",
       "      <th>499</th>\n",
       "      <td>2022-05-06 22:54:57</td>\n",
       "      <td>17880212918651152</td>\n",
       "      <td>NaN</td>\n",
       "      <td>y_oonxx</td>\n",
       "      <td>https://www.instagram.com/y_oonxx/</td>\n",
       "      <td>정답은 1.X 2.O 3.O 입니다.❤️@yejinstory @eunbeee_94</td>\n",
       "      <td>0</td>\n",
       "      <td>2</td>\n",
       "      <td>0</td>\n",
       "    </tr>\n",
       "    <tr>\n",
       "      <th>500</th>\n",
       "      <td>2022-05-06 22:53:27</td>\n",
       "      <td>17909414759422877</td>\n",
       "      <td>NaN</td>\n",
       "      <td>hayhappy76</td>\n",
       "      <td>https://www.instagram.com/hayhappy76/</td>\n",
       "      <td>정답 : X, O, O@14dong @loveangel797 @soojunglife...</td>\n",
       "      <td>0</td>\n",
       "      <td>3</td>\n",
       "      <td>0</td>\n",
       "    </tr>\n",
       "    <tr>\n",
       "      <th>501</th>\n",
       "      <td>2022-05-06 22:42:56</td>\n",
       "      <td>17913139460362161</td>\n",
       "      <td>NaN</td>\n",
       "      <td>julyjina_0709</td>\n",
       "      <td>https://www.instagram.com/julyjina_0709/</td>\n",
       "      <td>정답: 1. X , 2. O , 3. O ! @nomark22233</td>\n",
       "      <td>0</td>\n",
       "      <td>1</td>\n",
       "      <td>0</td>\n",
       "    </tr>\n",
       "    <tr>\n",
       "      <th>502</th>\n",
       "      <td>2022-05-06 22:16:00</td>\n",
       "      <td>17912554586359361</td>\n",
       "      <td>NaN</td>\n",
       "      <td>panda_all_in</td>\n",
       "      <td>https://www.instagram.com/panda_all_in/</td>\n",
       "      <td>X O O ❤️ @mypra @xx__dnsjcu @fubao09 @humin_03</td>\n",
       "      <td>0</td>\n",
       "      <td>4</td>\n",
       "      <td>0</td>\n",
       "    </tr>\n",
       "  </tbody>\n",
       "</table>\n",
       "</div>"
      ],
      "text/plain": [
       "                    작성일               고유번호 답글구분                   작성자  \\\n",
       "485 2022-05-06 23:46:40  18280897651067132  NaN  chili_cheese_fries11   \n",
       "486 2022-05-06 23:51:52  18156807850244916  NaN            seonho6054   \n",
       "487 2022-05-06 23:52:04  17940732788022528  NaN             sn4374237   \n",
       "488 2022-05-06 23:55:18  18127312315277543  NaN         soojunglife24   \n",
       "489 2022-05-06 23:55:39  17924892656478406  NaN          chung.howard   \n",
       "490 2022-05-06 23:59:14  17956419088783537  NaN            khlove1024   \n",
       "499 2022-05-06 22:54:57  17880212918651152  NaN               y_oonxx   \n",
       "500 2022-05-06 22:53:27  17909414759422877  NaN            hayhappy76   \n",
       "501 2022-05-06 22:42:56  17913139460362161  NaN         julyjina_0709   \n",
       "502 2022-05-06 22:16:00  17912554586359361  NaN          panda_all_in   \n",
       "\n",
       "                                              작성자URL  \\\n",
       "485  https://www.instagram.com/chili_cheese_fries11/   \n",
       "486            https://www.instagram.com/seonho6054/   \n",
       "487             https://www.instagram.com/sn4374237/   \n",
       "488         https://www.instagram.com/soojunglife24/   \n",
       "489          https://www.instagram.com/chung.howard/   \n",
       "490            https://www.instagram.com/khlove1024/   \n",
       "499               https://www.instagram.com/y_oonxx/   \n",
       "500            https://www.instagram.com/hayhappy76/   \n",
       "501         https://www.instagram.com/julyjina_0709/   \n",
       "502          https://www.instagram.com/panda_all_in/   \n",
       "\n",
       "                                                    내용  답글수  친구소환수  좋아요수  \n",
       "485                                        정답: X, O, O    0      0     0  \n",
       "486  정답 : 1. X / 2.O / 3. O@lx_hyeonju1004 @skyjun2...    0      3     0  \n",
       "487                                       정답 : X, O, O    0      0     0  \n",
       "488                                       정답 : X, O, O    0      0     0  \n",
       "489  정답..X / O / O 인스타에서 만나서 기쁜 이 마음⭐️ ♡☆❤ 팔로우 응원합니...    0      8     0  \n",
       "490  정답 : X, O, O 💗💞💖 자주 방문하고 좋은 정보 함께 나누고 싶네요~  #팔...    0      4     0  \n",
       "499      정답은 1.X 2.O 3.O 입니다.❤️@yejinstory @eunbeee_94    0      2     0  \n",
       "500  정답 : X, O, O@14dong @loveangel797 @soojunglife...    0      3     0  \n",
       "501              정답: 1. X , 2. O , 3. O ! @nomark22233    0      1     0  \n",
       "502     X O O ❤️ @mypra @xx__dnsjcu @fubao09 @humin_03    0      4     0  "
      ]
     },
     "execution_count": 74,
     "metadata": {},
     "output_type": "execute_result"
    }
   ],
   "source": [
    "df2.tail(10)"
   ]
  },
  {
   "cell_type": "code",
   "execution_count": 77,
   "metadata": {},
   "outputs": [],
   "source": [
    "# 최종 df\n",
    "final_df = df2.copy()"
   ]
  },
  {
   "cell_type": "markdown",
   "metadata": {},
   "source": [
    "## 파일로 출력"
   ]
  },
  {
   "cell_type": "code",
   "execution_count": 78,
   "metadata": {},
   "outputs": [
    {
     "data": {
      "text/plain": [
       "'20220509_094955'"
      ]
     },
     "execution_count": 78,
     "metadata": {},
     "output_type": "execute_result"
    }
   ],
   "source": [
    "today_date = datetime.today().strftime('%Y%m%d_%H%M%S')\n",
    "today_date"
   ]
  },
  {
   "cell_type": "code",
   "execution_count": 79,
   "metadata": {},
   "outputs": [
    {
     "name": "stdout",
     "output_type": "stream",
     "text": [
      "insta_20220509_094955.xlsx 출력완료\n"
     ]
    }
   ],
   "source": [
    "today_date = datetime.today().strftime('%Y%m%d_%H%M%S')\n",
    "file_name = f'insta_{today_date}.xlsx'\n",
    "final_df.to_excel(crawled_folder_path + '/' + file_name, index=False, encoding='utf-8')\n",
    "print(f'{file_name} 출력완료')"
   ]
  },
  {
   "cell_type": "markdown",
   "metadata": {},
   "source": [
    "# 코드 마지막"
   ]
  }
 ],
 "metadata": {
  "interpreter": {
   "hash": "b3ba2566441a7c06988d0923437866b63cedc61552a5af99d1f4fb67d367b25f"
  },
  "kernelspec": {
   "display_name": "Python 3.9.7 ('base')",
   "language": "python",
   "name": "python3"
  },
  "language_info": {
   "codemirror_mode": {
    "name": "ipython",
    "version": 3
   },
   "file_extension": ".py",
   "mimetype": "text/x-python",
   "name": "python",
   "nbconvert_exporter": "python",
   "pygments_lexer": "ipython3",
   "version": "3.9.7"
  },
  "orig_nbformat": 4
 },
 "nbformat": 4,
 "nbformat_minor": 2
}
