{
 "cells": [
  {
   "cell_type": "markdown",
   "metadata": {},
   "source": [
    "# Facebook 이벤트 댓글 수집"
   ]
  },
  {
   "cell_type": "markdown",
   "metadata": {},
   "source": [
    "## 라이브러리"
   ]
  },
  {
   "cell_type": "code",
   "execution_count": 167,
   "metadata": {},
   "outputs": [],
   "source": [
    "import pandas as pd\n",
    "import time, os, random\n",
    "from datetime import datetime\n",
    "from numpy import nan"
   ]
  },
  {
   "cell_type": "code",
   "execution_count": 168,
   "metadata": {},
   "outputs": [],
   "source": [
    "from bs4 import BeautifulSoup as bs\n",
    "from selenium import webdriver\n",
    "import chromedriver_autoinstaller as ca"
   ]
  },
  {
   "cell_type": "code",
   "execution_count": 169,
   "metadata": {},
   "outputs": [],
   "source": [
    "import getpass"
   ]
  },
  {
   "cell_type": "markdown",
   "metadata": {},
   "source": [
    "## 준비"
   ]
  },
  {
   "cell_type": "markdown",
   "metadata": {},
   "source": [
    "### 현재 파일 위치 확인"
   ]
  },
  {
   "cell_type": "code",
   "execution_count": 170,
   "metadata": {},
   "outputs": [
    {
     "data": {
      "text/plain": [
       "'c:/data/Wantreez/Crawling/incheon'"
      ]
     },
     "execution_count": 170,
     "metadata": {},
     "output_type": "execute_result"
    }
   ],
   "source": [
    "# 현재 파일 위치 확인\n",
    "code_path = os.getcwd().replace('\\\\', '/')\n",
    "code_path"
   ]
  },
  {
   "cell_type": "markdown",
   "metadata": {},
   "source": [
    "### 파일 저장 폴더 생성"
   ]
  },
  {
   "cell_type": "code",
   "execution_count": 171,
   "metadata": {},
   "outputs": [],
   "source": [
    "# 수집한 파일을 저장할 폴더 생성\n",
    "crawled_folder_path = code_path + '/crawled_data/facebook'\n",
    "os.makedirs(crawled_folder_path, exist_ok=True)"
   ]
  },
  {
   "cell_type": "markdown",
   "metadata": {},
   "source": [
    "### 크롬 드라이버 확인 및 설치"
   ]
  },
  {
   "cell_type": "code",
   "execution_count": 172,
   "metadata": {},
   "outputs": [
    {
     "data": {
      "text/plain": [
       "'100'"
      ]
     },
     "execution_count": 172,
     "metadata": {},
     "output_type": "execute_result"
    }
   ],
   "source": [
    "# 크롬 드라이버 버전 확인\n",
    "chrome_ver = ca.get_chrome_version().split('.')[0]\n",
    "chrome_ver"
   ]
  },
  {
   "cell_type": "code",
   "execution_count": 173,
   "metadata": {},
   "outputs": [
    {
     "name": "stderr",
     "output_type": "stream",
     "text": [
      "C:\\Users\\kbjung\\AppData\\Local\\Temp/ipykernel_19908/3261653714.py:3: DeprecationWarning: executable_path has been deprecated, please pass in a Service object\n",
      "  driver = webdriver.Chrome(code_path + f'/{chrome_ver}/' + 'chromedriver.exe')\n"
     ]
    }
   ],
   "source": [
    "# 크롬 드라이버 설치 확인\n",
    "try:\n",
    "    driver = webdriver.Chrome(code_path + f'/{chrome_ver}/' + 'chromedriver.exe')\n",
    "except:\n",
    "    ca.install(True)\n",
    "    driver = webdriver.Chrome(code_path + f'/{chrome_ver}/' + 'chromedriver.exe')"
   ]
  },
  {
   "cell_type": "markdown",
   "metadata": {},
   "source": [
    "## 페이지 접속"
   ]
  },
  {
   "cell_type": "code",
   "execution_count": 174,
   "metadata": {},
   "outputs": [],
   "source": [
    "url = 'https://www.facebook.com/2244035899203435/posts/3196801440593538/'\n",
    "driver.get(url)\n",
    "driver.implicitly_wait(3)\n",
    "driver.maximize_window()"
   ]
  },
  {
   "cell_type": "markdown",
   "metadata": {},
   "source": [
    "### 로그인"
   ]
  },
  {
   "cell_type": "code",
   "execution_count": 175,
   "metadata": {},
   "outputs": [],
   "source": [
    "id = input('id를 입력하세요')\n",
    "pw = getpass.getpass('비밀번호를 입력하세요')"
   ]
  },
  {
   "cell_type": "code",
   "execution_count": 176,
   "metadata": {},
   "outputs": [
    {
     "name": "stderr",
     "output_type": "stream",
     "text": [
      "C:\\Users\\kbjung\\AppData\\Local\\Temp/ipykernel_19908/1636980163.py:1: DeprecationWarning: find_element_by_xpath is deprecated. Please use find_element(by=By.XPATH, value=xpath) instead\n",
      "  login_box = driver.find_element_by_xpath('//*[@id=\"email\"]')\n",
      "C:\\Users\\kbjung\\AppData\\Local\\Temp/ipykernel_19908/1636980163.py:2: DeprecationWarning: find_element_by_xpath is deprecated. Please use find_element(by=By.XPATH, value=xpath) instead\n",
      "  pw_box = driver.find_element_by_xpath('//*[@id=\"pass\"]')\n",
      "C:\\Users\\kbjung\\AppData\\Local\\Temp/ipykernel_19908/1636980163.py:4: DeprecationWarning: find_element_by_xpath is deprecated. Please use find_element(by=By.XPATH, value=xpath) instead\n",
      "  login_button = driver.find_element_by_xpath('//*[@id=\"loginbutton\"]')\n"
     ]
    }
   ],
   "source": [
    "login_box = driver.find_element_by_xpath('//*[@id=\"email\"]')\n",
    "pw_box = driver.find_element_by_xpath('//*[@id=\"pass\"]')\n",
    "try:\n",
    "    login_button = driver.find_element_by_xpath('//*[@id=\"loginbutton\"]')\n",
    "except:\n",
    "    login_button = driver.find_element_by_xpath('/html/body/div[1]/div[2]/div/div/div[1]/div/div[2]/form/table/tbody/tr[2]/td[3]/label/input')\n",
    "\n",
    "\n",
    "login_box.send_keys(id)\n",
    "time.sleep(0.5)\n",
    "pw_box.send_keys(pw)\n",
    "time.sleep(0.5)\n",
    "login_button.click()\n",
    "driver.implicitly_wait(3)\n",
    "time.sleep( random.uniform(0.5, 1))"
   ]
  },
  {
   "cell_type": "markdown",
   "metadata": {},
   "source": [
    "### 최신 댓글 순으로 보이기 버튼 클릭"
   ]
  },
  {
   "cell_type": "code",
   "execution_count": 177,
   "metadata": {},
   "outputs": [
    {
     "name": "stderr",
     "output_type": "stream",
     "text": [
      "C:\\Users\\kbjung\\AppData\\Local\\Temp/ipykernel_19908/556030466.py:1: DeprecationWarning: find_element_by_xpath is deprecated. Please use find_element(by=By.XPATH, value=xpath) instead\n",
      "  reply_sort_button = driver.find_element_by_xpath('/html/body/div[1]/div/div[1]/div/div[3]/div/div/div[1]/div[1]/div[4]/div[1]/div/div/div/div/div/div/div/div/div/div[1]/div/div[2]/div/div[5]/div/div/div[2]/div[2]/div/div/div/span').click()\n"
     ]
    }
   ],
   "source": [
    "reply_sort_button = driver.find_element_by_xpath('/html/body/div[1]/div/div[1]/div/div[3]/div/div/div[1]/div[1]/div[4]/div[1]/div/div/div/div/div/div/div/div/div/div[1]/div/div[2]/div/div[5]/div/div/div[2]/div[2]/div/div/div/span').click()\n",
    "time.sleep( random.uniform(0.5, 1) )"
   ]
  },
  {
   "cell_type": "code",
   "execution_count": 178,
   "metadata": {},
   "outputs": [
    {
     "name": "stderr",
     "output_type": "stream",
     "text": [
      "C:\\Users\\kbjung\\AppData\\Local\\Temp/ipykernel_19908/3884383911.py:1: DeprecationWarning: find_element_by_xpath is deprecated. Please use find_element(by=By.XPATH, value=xpath) instead\n",
      "  ascending_button = driver.find_element_by_xpath('/html/body/div[1]/div/div[1]/div/div[3]/div/div/div[2]/div/div/div[1]/div[1]/div/div/div[1]/div/div/div/div[1]/div/div[3]/div[1]/div/div[1]/span').click()\n"
     ]
    }
   ],
   "source": [
    "ascending_button = driver.find_element_by_xpath('/html/body/div[1]/div/div[1]/div/div[3]/div/div/div[2]/div/div/div[1]/div[1]/div/div/div[1]/div/div/div/div[1]/div/div[3]/div[1]/div/div[1]/span').click()\n",
    "time.sleep( random.uniform(0.5, 1) )"
   ]
  },
  {
   "cell_type": "markdown",
   "metadata": {},
   "source": [
    "### 페이지 더보기 버튼 클릭"
   ]
  },
  {
   "cell_type": "markdown",
   "metadata": {},
   "source": [
    "#### 7번 클릭"
   ]
  },
  {
   "cell_type": "code",
   "execution_count": 179,
   "metadata": {},
   "outputs": [
    {
     "name": "stderr",
     "output_type": "stream",
     "text": [
      "C:\\Users\\kbjung\\AppData\\Local\\Temp/ipykernel_19908/699029154.py:4: DeprecationWarning: find_element_by_xpath is deprecated. Please use find_element(by=By.XPATH, value=xpath) instead\n",
      "  more_view_button = driver.find_element_by_xpath('/html/body/div[1]/div/div[1]/div/div[3]/div/div/div[1]/div[1]/div[4]/div[1]/div/div/div/div/div/div/div/div/div/div/div/div[2]/div/div[5]/div/div/div[2]/div[4]/div[1]/div[2]/span/span')\n"
     ]
    }
   ],
   "source": [
    "count = 0\n",
    "while True:\n",
    "    try:\n",
    "        more_view_button = driver.find_element_by_xpath('/html/body/div[1]/div/div[1]/div/div[3]/div/div/div[1]/div[1]/div[4]/div[1]/div/div/div/div/div/div/div/div/div/div/div/div[2]/div/div[5]/div/div/div[2]/div[4]/div[1]/div[2]/span/span')\n",
    "        more_view_button.click()\n",
    "        driver.implicitly_wait(3)\n",
    "        time.sleep( random.uniform(1, 1.5) )\n",
    "    except:\n",
    "        break\n",
    "    count += 1"
   ]
  },
  {
   "cell_type": "code",
   "execution_count": 180,
   "metadata": {},
   "outputs": [
    {
     "data": {
      "text/plain": [
       "8"
      ]
     },
     "execution_count": 180,
     "metadata": {},
     "output_type": "execute_result"
    }
   ],
   "source": [
    "count"
   ]
  },
  {
   "cell_type": "markdown",
   "metadata": {},
   "source": [
    "## 댓글의 모든 더보기 클릭"
   ]
  },
  {
   "cell_type": "code",
   "execution_count": 181,
   "metadata": {},
   "outputs": [
    {
     "name": "stderr",
     "output_type": "stream",
     "text": [
      "C:\\Users\\kbjung\\AppData\\Local\\Temp/ipykernel_19908/3788032777.py:1: DeprecationWarning: find_elements_by_css_selector is deprecated. Please use find_elements(by=By.CSS_SELECTOR, value=css_selector) instead\n",
      "  more_view_of_reply = driver.find_elements_by_css_selector('div.oajrlxb2.g5ia77u1.qu0x051f.esr5mh6w.e9989ue4.r7d6kgcz.rq0escxv.nhd2j8a9.nc684nl6.p7hjln8o.kvgmc6g5.cxmmr5t8.oygrvhab.hcukyx3x.jb3vyjys.rz4wbd8a.qt6c0cv9.a8nywdso.i1ao9s8h.esuyzwwr.f1sip0of.lzcic4wl.gpro0wi8.oo9gr5id.lrazzd5p')\n"
     ]
    },
    {
     "data": {
      "text/plain": [
       "65"
      ]
     },
     "execution_count": 181,
     "metadata": {},
     "output_type": "execute_result"
    }
   ],
   "source": [
    "more_view_of_reply = driver.find_elements_by_css_selector('div.oajrlxb2.g5ia77u1.qu0x051f.esr5mh6w.e9989ue4.r7d6kgcz.rq0escxv.nhd2j8a9.nc684nl6.p7hjln8o.kvgmc6g5.cxmmr5t8.oygrvhab.hcukyx3x.jb3vyjys.rz4wbd8a.qt6c0cv9.a8nywdso.i1ao9s8h.esuyzwwr.f1sip0of.lzcic4wl.gpro0wi8.oo9gr5id.lrazzd5p')\n",
    "len(more_view_of_reply)"
   ]
  },
  {
   "cell_type": "code",
   "execution_count": 182,
   "metadata": {},
   "outputs": [
    {
     "ename": "ElementClickInterceptedException",
     "evalue": "Message: element click intercepted: Element <div class=\"oajrlxb2 g5ia77u1 qu0x051f esr5mh6w e9989ue4 r7d6kgcz rq0escxv nhd2j8a9 nc684nl6 p7hjln8o kvgmc6g5 cxmmr5t8 oygrvhab hcukyx3x jb3vyjys rz4wbd8a qt6c0cv9 a8nywdso i1ao9s8h esuyzwwr f1sip0of lzcic4wl gpro0wi8 oo9gr5id lrazzd5p\" role=\"button\" tabindex=\"0\">...</div> is not clickable at point (840, 10). Other element would receive the click: <a aria-label=\"친구\" class=\"oajrlxb2 g5ia77u1 qu0x051f esr5mh6w e9989ue4 r7d6kgcz rq0escxv nhd2j8a9 p7hjln8o kvgmc6g5 cxmmr5t8 oygrvhab hcukyx3x jb3vyjys rz4wbd8a qt6c0cv9 a8nywdso i1ao9s8h esuyzwwr f1sip0of n00je7tq arfg74bv qs9ysxi8 k77z8yql abiwlrkh p8dawk7l lzcic4wl bp9cbjyn j83agx80 cbu4d94t datstx6m taijpn5t l9j0dhe7 k4urcfbm\" href=\"/friends/\" role=\"link\" tabindex=\"0\">...</a>\n  (Session info: chrome=100.0.4896.88)\nStacktrace:\nBacktrace:\n\tOrdinal0 [0x007D8BD3+2395091]\n\tOrdinal0 [0x0076ACA1+1944737]\n\tOrdinal0 [0x0065D008+839688]\n\tOrdinal0 [0x006902E6+1049318]\n\tOrdinal0 [0x0068E316+1041174]\n\tOrdinal0 [0x0068C01B+1032219]\n\tOrdinal0 [0x0068AD79+1027449]\n\tOrdinal0 [0x006809C3+985539]\n\tOrdinal0 [0x006A4BBC+1133500]\n\tOrdinal0 [0x006803A4+983972]\n\tOrdinal0 [0x006A4DD4+1134036]\n\tOrdinal0 [0x006B4D62+1199458]\n\tOrdinal0 [0x006A49D6+1133014]\n\tOrdinal0 [0x0067EF76+978806]\n\tOrdinal0 [0x0067FE86+982662]\n\tGetHandleVerifier [0x0098C912+1719138]\n\tGetHandleVerifier [0x00A3B2CD+2434333]\n\tGetHandleVerifier [0x00874001+569937]\n\tGetHandleVerifier [0x00873066+565942]\n\tOrdinal0 [0x0077265B+1975899]\n\tOrdinal0 [0x007772A8+1995432]\n\tOrdinal0 [0x00777395+1995669]\n\tOrdinal0 [0x007802F1+2032369]\n\tBaseThreadInitThunk [0x74F3FA29+25]\n\tRtlGetAppContainerNamedObjectPath [0x77097A7E+286]\n\tRtlGetAppContainerNamedObjectPath [0x77097A4E+238]\n",
     "output_type": "error",
     "traceback": [
      "\u001b[1;31m---------------------------------------------------------------------------\u001b[0m",
      "\u001b[1;31mElementClickInterceptedException\u001b[0m          Traceback (most recent call last)",
      "\u001b[1;32m~\\AppData\\Local\\Temp/ipykernel_19908/1024616186.py\u001b[0m in \u001b[0;36m<module>\u001b[1;34m\u001b[0m\n\u001b[0;32m      1\u001b[0m \u001b[1;32mfor\u001b[0m \u001b[0mone\u001b[0m \u001b[1;32min\u001b[0m \u001b[0mmore_view_of_reply\u001b[0m\u001b[1;33m:\u001b[0m\u001b[1;33m\u001b[0m\u001b[1;33m\u001b[0m\u001b[0m\n\u001b[1;32m----> 2\u001b[1;33m     \u001b[0mone\u001b[0m\u001b[1;33m.\u001b[0m\u001b[0mclick\u001b[0m\u001b[1;33m(\u001b[0m\u001b[1;33m)\u001b[0m\u001b[1;33m\u001b[0m\u001b[1;33m\u001b[0m\u001b[0m\n\u001b[0m\u001b[0;32m      3\u001b[0m     \u001b[0mdriver\u001b[0m\u001b[1;33m.\u001b[0m\u001b[0mimplicitly_wait\u001b[0m\u001b[1;33m(\u001b[0m\u001b[1;36m1\u001b[0m\u001b[1;33m)\u001b[0m\u001b[1;33m\u001b[0m\u001b[1;33m\u001b[0m\u001b[0m\n\u001b[0;32m      4\u001b[0m     \u001b[0mtime\u001b[0m\u001b[1;33m.\u001b[0m\u001b[0msleep\u001b[0m\u001b[1;33m(\u001b[0m \u001b[0mrandom\u001b[0m\u001b[1;33m.\u001b[0m\u001b[0muniform\u001b[0m\u001b[1;33m(\u001b[0m\u001b[1;36m0.5\u001b[0m\u001b[1;33m,\u001b[0m \u001b[1;36m1\u001b[0m\u001b[1;33m)\u001b[0m \u001b[1;33m)\u001b[0m\u001b[1;33m\u001b[0m\u001b[1;33m\u001b[0m\u001b[0m\n",
      "\u001b[1;32mC:\\ProgramData\\Anaconda3\\lib\\site-packages\\selenium\\webdriver\\remote\\webelement.py\u001b[0m in \u001b[0;36mclick\u001b[1;34m(self)\u001b[0m\n\u001b[0;32m     79\u001b[0m     \u001b[1;32mdef\u001b[0m \u001b[0mclick\u001b[0m\u001b[1;33m(\u001b[0m\u001b[0mself\u001b[0m\u001b[1;33m)\u001b[0m \u001b[1;33m->\u001b[0m \u001b[1;32mNone\u001b[0m\u001b[1;33m:\u001b[0m\u001b[1;33m\u001b[0m\u001b[1;33m\u001b[0m\u001b[0m\n\u001b[0;32m     80\u001b[0m         \u001b[1;34m\"\"\"Clicks the element.\"\"\"\u001b[0m\u001b[1;33m\u001b[0m\u001b[1;33m\u001b[0m\u001b[0m\n\u001b[1;32m---> 81\u001b[1;33m         \u001b[0mself\u001b[0m\u001b[1;33m.\u001b[0m\u001b[0m_execute\u001b[0m\u001b[1;33m(\u001b[0m\u001b[0mCommand\u001b[0m\u001b[1;33m.\u001b[0m\u001b[0mCLICK_ELEMENT\u001b[0m\u001b[1;33m)\u001b[0m\u001b[1;33m\u001b[0m\u001b[1;33m\u001b[0m\u001b[0m\n\u001b[0m\u001b[0;32m     82\u001b[0m \u001b[1;33m\u001b[0m\u001b[0m\n\u001b[0;32m     83\u001b[0m     \u001b[1;32mdef\u001b[0m \u001b[0msubmit\u001b[0m\u001b[1;33m(\u001b[0m\u001b[0mself\u001b[0m\u001b[1;33m)\u001b[0m\u001b[1;33m:\u001b[0m\u001b[1;33m\u001b[0m\u001b[1;33m\u001b[0m\u001b[0m\n",
      "\u001b[1;32mC:\\ProgramData\\Anaconda3\\lib\\site-packages\\selenium\\webdriver\\remote\\webelement.py\u001b[0m in \u001b[0;36m_execute\u001b[1;34m(self, command, params)\u001b[0m\n\u001b[0;32m    708\u001b[0m             \u001b[0mparams\u001b[0m \u001b[1;33m=\u001b[0m \u001b[1;33m{\u001b[0m\u001b[1;33m}\u001b[0m\u001b[1;33m\u001b[0m\u001b[1;33m\u001b[0m\u001b[0m\n\u001b[0;32m    709\u001b[0m         \u001b[0mparams\u001b[0m\u001b[1;33m[\u001b[0m\u001b[1;34m'id'\u001b[0m\u001b[1;33m]\u001b[0m \u001b[1;33m=\u001b[0m \u001b[0mself\u001b[0m\u001b[1;33m.\u001b[0m\u001b[0m_id\u001b[0m\u001b[1;33m\u001b[0m\u001b[1;33m\u001b[0m\u001b[0m\n\u001b[1;32m--> 710\u001b[1;33m         \u001b[1;32mreturn\u001b[0m \u001b[0mself\u001b[0m\u001b[1;33m.\u001b[0m\u001b[0m_parent\u001b[0m\u001b[1;33m.\u001b[0m\u001b[0mexecute\u001b[0m\u001b[1;33m(\u001b[0m\u001b[0mcommand\u001b[0m\u001b[1;33m,\u001b[0m \u001b[0mparams\u001b[0m\u001b[1;33m)\u001b[0m\u001b[1;33m\u001b[0m\u001b[1;33m\u001b[0m\u001b[0m\n\u001b[0m\u001b[0;32m    711\u001b[0m \u001b[1;33m\u001b[0m\u001b[0m\n\u001b[0;32m    712\u001b[0m     \u001b[1;32mdef\u001b[0m \u001b[0mfind_element\u001b[0m\u001b[1;33m(\u001b[0m\u001b[0mself\u001b[0m\u001b[1;33m,\u001b[0m \u001b[0mby\u001b[0m\u001b[1;33m=\u001b[0m\u001b[0mBy\u001b[0m\u001b[1;33m.\u001b[0m\u001b[0mID\u001b[0m\u001b[1;33m,\u001b[0m \u001b[0mvalue\u001b[0m\u001b[1;33m=\u001b[0m\u001b[1;32mNone\u001b[0m\u001b[1;33m)\u001b[0m\u001b[1;33m:\u001b[0m\u001b[1;33m\u001b[0m\u001b[1;33m\u001b[0m\u001b[0m\n",
      "\u001b[1;32mC:\\ProgramData\\Anaconda3\\lib\\site-packages\\selenium\\webdriver\\remote\\webdriver.py\u001b[0m in \u001b[0;36mexecute\u001b[1;34m(self, driver_command, params)\u001b[0m\n\u001b[0;32m    423\u001b[0m         \u001b[0mresponse\u001b[0m \u001b[1;33m=\u001b[0m \u001b[0mself\u001b[0m\u001b[1;33m.\u001b[0m\u001b[0mcommand_executor\u001b[0m\u001b[1;33m.\u001b[0m\u001b[0mexecute\u001b[0m\u001b[1;33m(\u001b[0m\u001b[0mdriver_command\u001b[0m\u001b[1;33m,\u001b[0m \u001b[0mparams\u001b[0m\u001b[1;33m)\u001b[0m\u001b[1;33m\u001b[0m\u001b[1;33m\u001b[0m\u001b[0m\n\u001b[0;32m    424\u001b[0m         \u001b[1;32mif\u001b[0m \u001b[0mresponse\u001b[0m\u001b[1;33m:\u001b[0m\u001b[1;33m\u001b[0m\u001b[1;33m\u001b[0m\u001b[0m\n\u001b[1;32m--> 425\u001b[1;33m             \u001b[0mself\u001b[0m\u001b[1;33m.\u001b[0m\u001b[0merror_handler\u001b[0m\u001b[1;33m.\u001b[0m\u001b[0mcheck_response\u001b[0m\u001b[1;33m(\u001b[0m\u001b[0mresponse\u001b[0m\u001b[1;33m)\u001b[0m\u001b[1;33m\u001b[0m\u001b[1;33m\u001b[0m\u001b[0m\n\u001b[0m\u001b[0;32m    426\u001b[0m             response['value'] = self._unwrap_value(\n\u001b[0;32m    427\u001b[0m                 response.get('value', None))\n",
      "\u001b[1;32mC:\\ProgramData\\Anaconda3\\lib\\site-packages\\selenium\\webdriver\\remote\\errorhandler.py\u001b[0m in \u001b[0;36mcheck_response\u001b[1;34m(self, response)\u001b[0m\n\u001b[0;32m    245\u001b[0m                 \u001b[0malert_text\u001b[0m \u001b[1;33m=\u001b[0m \u001b[0mvalue\u001b[0m\u001b[1;33m[\u001b[0m\u001b[1;34m'alert'\u001b[0m\u001b[1;33m]\u001b[0m\u001b[1;33m.\u001b[0m\u001b[0mget\u001b[0m\u001b[1;33m(\u001b[0m\u001b[1;34m'text'\u001b[0m\u001b[1;33m)\u001b[0m\u001b[1;33m\u001b[0m\u001b[1;33m\u001b[0m\u001b[0m\n\u001b[0;32m    246\u001b[0m             \u001b[1;32mraise\u001b[0m \u001b[0mexception_class\u001b[0m\u001b[1;33m(\u001b[0m\u001b[0mmessage\u001b[0m\u001b[1;33m,\u001b[0m \u001b[0mscreen\u001b[0m\u001b[1;33m,\u001b[0m \u001b[0mstacktrace\u001b[0m\u001b[1;33m,\u001b[0m \u001b[0malert_text\u001b[0m\u001b[1;33m)\u001b[0m  \u001b[1;31m# type: ignore[call-arg]  # mypy is not smart enough here\u001b[0m\u001b[1;33m\u001b[0m\u001b[1;33m\u001b[0m\u001b[0m\n\u001b[1;32m--> 247\u001b[1;33m         \u001b[1;32mraise\u001b[0m \u001b[0mexception_class\u001b[0m\u001b[1;33m(\u001b[0m\u001b[0mmessage\u001b[0m\u001b[1;33m,\u001b[0m \u001b[0mscreen\u001b[0m\u001b[1;33m,\u001b[0m \u001b[0mstacktrace\u001b[0m\u001b[1;33m)\u001b[0m\u001b[1;33m\u001b[0m\u001b[1;33m\u001b[0m\u001b[0m\n\u001b[0m\u001b[0;32m    248\u001b[0m \u001b[1;33m\u001b[0m\u001b[0m\n\u001b[0;32m    249\u001b[0m     \u001b[1;32mdef\u001b[0m \u001b[0m_value_or_default\u001b[0m\u001b[1;33m(\u001b[0m\u001b[0mself\u001b[0m\u001b[1;33m,\u001b[0m \u001b[0mobj\u001b[0m\u001b[1;33m:\u001b[0m \u001b[0mMapping\u001b[0m\u001b[1;33m[\u001b[0m\u001b[0m_KT\u001b[0m\u001b[1;33m,\u001b[0m \u001b[0m_VT\u001b[0m\u001b[1;33m]\u001b[0m\u001b[1;33m,\u001b[0m \u001b[0mkey\u001b[0m\u001b[1;33m:\u001b[0m \u001b[0m_KT\u001b[0m\u001b[1;33m,\u001b[0m \u001b[0mdefault\u001b[0m\u001b[1;33m:\u001b[0m \u001b[0m_VT\u001b[0m\u001b[1;33m)\u001b[0m \u001b[1;33m->\u001b[0m \u001b[0m_VT\u001b[0m\u001b[1;33m:\u001b[0m\u001b[1;33m\u001b[0m\u001b[1;33m\u001b[0m\u001b[0m\n",
      "\u001b[1;31mElementClickInterceptedException\u001b[0m: Message: element click intercepted: Element <div class=\"oajrlxb2 g5ia77u1 qu0x051f esr5mh6w e9989ue4 r7d6kgcz rq0escxv nhd2j8a9 nc684nl6 p7hjln8o kvgmc6g5 cxmmr5t8 oygrvhab hcukyx3x jb3vyjys rz4wbd8a qt6c0cv9 a8nywdso i1ao9s8h esuyzwwr f1sip0of lzcic4wl gpro0wi8 oo9gr5id lrazzd5p\" role=\"button\" tabindex=\"0\">...</div> is not clickable at point (840, 10). Other element would receive the click: <a aria-label=\"친구\" class=\"oajrlxb2 g5ia77u1 qu0x051f esr5mh6w e9989ue4 r7d6kgcz rq0escxv nhd2j8a9 p7hjln8o kvgmc6g5 cxmmr5t8 oygrvhab hcukyx3x jb3vyjys rz4wbd8a qt6c0cv9 a8nywdso i1ao9s8h esuyzwwr f1sip0of n00je7tq arfg74bv qs9ysxi8 k77z8yql abiwlrkh p8dawk7l lzcic4wl bp9cbjyn j83agx80 cbu4d94t datstx6m taijpn5t l9j0dhe7 k4urcfbm\" href=\"/friends/\" role=\"link\" tabindex=\"0\">...</a>\n  (Session info: chrome=100.0.4896.88)\nStacktrace:\nBacktrace:\n\tOrdinal0 [0x007D8BD3+2395091]\n\tOrdinal0 [0x0076ACA1+1944737]\n\tOrdinal0 [0x0065D008+839688]\n\tOrdinal0 [0x006902E6+1049318]\n\tOrdinal0 [0x0068E316+1041174]\n\tOrdinal0 [0x0068C01B+1032219]\n\tOrdinal0 [0x0068AD79+1027449]\n\tOrdinal0 [0x006809C3+985539]\n\tOrdinal0 [0x006A4BBC+1133500]\n\tOrdinal0 [0x006803A4+983972]\n\tOrdinal0 [0x006A4DD4+1134036]\n\tOrdinal0 [0x006B4D62+1199458]\n\tOrdinal0 [0x006A49D6+1133014]\n\tOrdinal0 [0x0067EF76+978806]\n\tOrdinal0 [0x0067FE86+982662]\n\tGetHandleVerifier [0x0098C912+1719138]\n\tGetHandleVerifier [0x00A3B2CD+2434333]\n\tGetHandleVerifier [0x00874001+569937]\n\tGetHandleVerifier [0x00873066+565942]\n\tOrdinal0 [0x0077265B+1975899]\n\tOrdinal0 [0x007772A8+1995432]\n\tOrdinal0 [0x00777395+1995669]\n\tOrdinal0 [0x007802F1+2032369]\n\tBaseThreadInitThunk [0x74F3FA29+25]\n\tRtlGetAppContainerNamedObjectPath [0x77097A7E+286]\n\tRtlGetAppContainerNamedObjectPath [0x77097A4E+238]\n"
     ]
    }
   ],
   "source": [
    "for one in more_view_of_reply:\n",
    "    one.click()\n",
    "    driver.implicitly_wait(1)\n",
    "    time.sleep( random.uniform(0.5, 1) )"
   ]
  },
  {
   "cell_type": "markdown",
   "metadata": {},
   "source": [
    "### 댓글의 댓글 보기 클릭"
   ]
  },
  {
   "cell_type": "code",
   "execution_count": null,
   "metadata": {},
   "outputs": [
    {
     "name": "stderr",
     "output_type": "stream",
     "text": [
      "C:\\Users\\kbjung\\AppData\\Local\\Temp/ipykernel_18868/487263384.py:1: DeprecationWarning: find_elements_by_css_selector is deprecated. Please use find_elements(by=By.CSS_SELECTOR, value=css_selector) instead\n",
      "  re_reply_button = driver.find_elements_by_css_selector('span.j83agx80.fv0vnmcu.hpfvmrgz > span')\n"
     ]
    },
    {
     "data": {
      "text/plain": [
       "12"
      ]
     },
     "execution_count": 22,
     "metadata": {},
     "output_type": "execute_result"
    }
   ],
   "source": [
    "re_reply_button = driver.find_elements_by_css_selector('span.j83agx80.fv0vnmcu.hpfvmrgz > span')\n",
    "len(re_reply_button)"
   ]
  },
  {
   "cell_type": "code",
   "execution_count": null,
   "metadata": {},
   "outputs": [],
   "source": [
    "for one in re_reply_button:\n",
    "    time.sleep(0.5)\n",
    "    one.click()\n",
    "    driver.implicitly_wait(1)\n",
    "    time.sleep( random.uniform(0.5, 1) )"
   ]
  },
  {
   "cell_type": "markdown",
   "metadata": {},
   "source": [
    "## 글 내용 수집"
   ]
  },
  {
   "cell_type": "code",
   "execution_count": null,
   "metadata": {},
   "outputs": [
    {
     "data": {
      "text/plain": [
       "329"
      ]
     },
     "execution_count": 18,
     "metadata": {},
     "output_type": "execute_result"
    }
   ],
   "source": [
    "soup = bs(driver.page_source, 'lxml')\n",
    "div_soup = soup.find_all('div', 'rj1gh0hx buofh1pr ni8dbmo4 stjgntxs hv4rvrfc')\n",
    "len(div_soup)"
   ]
  },
  {
   "cell_type": "code",
   "execution_count": null,
   "metadata": {},
   "outputs": [
    {
     "data": {
      "text/plain": [
       "'복지영'"
      ]
     },
     "execution_count": 19,
     "metadata": {},
     "output_type": "execute_result"
    }
   ],
   "source": [
    "# 작성자\n",
    "div_soup[0].find('span', 'pq6dq46d').text"
   ]
  },
  {
   "cell_type": "code",
   "execution_count": null,
   "metadata": {},
   "outputs": [
    {
     "data": {
      "text/plain": [
       "'이가수지'"
      ]
     },
     "execution_count": 20,
     "metadata": {},
     "output_type": "execute_result"
    }
   ],
   "source": [
    "div_soup[1].find('span', 'pq6dq46d').text"
   ]
  },
  {
   "cell_type": "code",
   "execution_count": null,
   "metadata": {},
   "outputs": [
    {
     "data": {
      "text/plain": [
       "'정답 = 인천광역시 점자문화 진흥에 관한 조례 입니다진미주 윤진서 진모양 주하진 진홍섭 이가수지 함께해!'"
      ]
     },
     "execution_count": 21,
     "metadata": {},
     "output_type": "execute_result"
    }
   ],
   "source": [
    "# 전체 글 내용\n",
    "div_soup[0].find('span', 'd2edcug0 hpfvmrgz qv66sw1b c1et5uql lr9zc1uh a8c37x1j fe6kdd0r mau55g9w c8b282yb keod5gw0 nxhoafnm aigsh9s9 d3f4x2em iv3no6db jq4qci2q a3bd9o3v b1v8xokw oo9gr5id').text"
   ]
  },
  {
   "cell_type": "code",
   "execution_count": null,
   "metadata": {},
   "outputs": [
    {
     "data": {
      "text/plain": [
       "'정답 = 인천광역시 점자문화 진흥에 관한 조례 입니다'"
      ]
     },
     "execution_count": 22,
     "metadata": {},
     "output_type": "execute_result"
    }
   ],
   "source": [
    "# 글 내용\n",
    "div_soup[0].find('div', 'kvgmc6g5 cxmmr5t8 oygrvhab hcukyx3x c1et5uql').text"
   ]
  },
  {
   "cell_type": "code",
   "execution_count": null,
   "metadata": {},
   "outputs": [
    {
     "data": {
      "text/plain": [
       "'진미주 윤진서 진모양 주하진 진홍섭 이가수지 함께해!'"
      ]
     },
     "execution_count": 23,
     "metadata": {},
     "output_type": "execute_result"
    }
   ],
   "source": [
    "# 태그 내용\n",
    "div_soup[0].find('div', 'cxmmr5t8 oygrvhab hcukyx3x c1et5uql o9v6fnle').text"
   ]
  },
  {
   "cell_type": "code",
   "execution_count": null,
   "metadata": {},
   "outputs": [
    {
     "data": {
      "text/plain": [
       "6"
      ]
     },
     "execution_count": 24,
     "metadata": {},
     "output_type": "execute_result"
    }
   ],
   "source": [
    "# 태그정보\n",
    "temp_tag = div_soup[0].find_all('a', 'oajrlxb2 g5ia77u1 qu0x051f esr5mh6w e9989ue4 r7d6kgcz rq0escxv nhd2j8a9 nc684nl6 p7hjln8o kvgmc6g5 cxmmr5t8 oygrvhab hcukyx3x jb3vyjys rz4wbd8a qt6c0cv9 a8nywdso i1ao9s8h esuyzwwr f1sip0of lzcic4wl gpro0wi8 oo9gr5id lrazzd5p')\n",
    "len(temp_tag)"
   ]
  },
  {
   "cell_type": "code",
   "execution_count": null,
   "metadata": {},
   "outputs": [],
   "source": [
    "if len(temp_tag) == 0:\n",
    "        tag_info = nan\n",
    "else:\n",
    "    tag_info = ''\n",
    "    for one in temp_tag:\n",
    "        tag_info = tag_info + one.text + '\\n'\n",
    "    tag_info = tag_info.rstrip()"
   ]
  },
  {
   "cell_type": "code",
   "execution_count": null,
   "metadata": {},
   "outputs": [
    {
     "data": {
      "text/plain": [
       "'진미주\\n윤진서\\n진모양\\n주하진\\n진홍섭\\n이가수지'"
      ]
     },
     "execution_count": 26,
     "metadata": {},
     "output_type": "execute_result"
    }
   ],
   "source": [
    "tag_info"
   ]
  },
  {
   "cell_type": "markdown",
   "metadata": {},
   "source": [
    "### 대댓글 여부 확인"
   ]
  },
  {
   "cell_type": "code",
   "execution_count": null,
   "metadata": {},
   "outputs": [],
   "source": [
    "# 샘플\n",
    "# 113 이기선 : 대댓글 없음\n",
    "# 115 Nam Seol : 대댓글 1개 존재\n",
    "# 116 김금희 : 대댓글, 팔로했어요 ^^"
   ]
  },
  {
   "cell_type": "code",
   "execution_count": null,
   "metadata": {},
   "outputs": [
    {
     "name": "stdout",
     "output_type": "stream",
     "text": [
      "이기선\n",
      "Nam Seol\n",
      "김금희\n"
     ]
    }
   ],
   "source": [
    "# 작성자 확인\n",
    "print(div_soup[113].find('span', 'pq6dq46d').text)\n",
    "print(div_soup[115].find('span', 'pq6dq46d').text)\n",
    "print(div_soup[116].find('span', 'pq6dq46d').text)"
   ]
  },
  {
   "cell_type": "markdown",
   "metadata": {},
   "source": [
    "#### 115와 116 구분할 수 있는 요소 찾기"
   ]
  },
  {
   "cell_type": "markdown",
   "metadata": {},
   "source": [
    "##### 113"
   ]
  },
  {
   "cell_type": "code",
   "execution_count": null,
   "metadata": {},
   "outputs": [
    {
     "data": {
      "text/plain": [
       "'ni8dbmo4 stjgntxs l9j0dhe7'"
      ]
     },
     "execution_count": 38,
     "metadata": {},
     "output_type": "execute_result"
    }
   ],
   "source": [
    "' '.join(div_soup[113].parent.parent['class'])"
   ]
  },
  {
   "cell_type": "markdown",
   "metadata": {},
   "source": [
    "##### 115"
   ]
  },
  {
   "cell_type": "code",
   "execution_count": null,
   "metadata": {},
   "outputs": [],
   "source": [
    "# div_soup[115] 상위 태그 \n",
    "# <div class=\"ni8dbmo4 stjgntxs l9j0dhe7\">\n",
    "#     <div class=\"mmi0k12o qslakw2r b3i9ofy5 datstx6m pmk7jnqg dsl5tyj5\"></div>\n",
    "#   <div aria-label=\"2주 전에 Nam Seol님이 남긴 댓글\" role=\"article\" tabindex=\"-1\" class=\"l9j0dhe7 ecm0bbzt rz4wbd8a qt6c0cv9 dati1w0a j83agx80 btwxx1t3 lzcic4wl\">\n",
    "#     <div class=\"nqmvxvec s45kfl79 emlxlaya bkmhp75w spb7xbtv a8c37x1j fv0vnmcu rs0gx3tq l9j0dhe7\">\n",
    "#     <div class=\"rj1gh0hx buofh1pr ni8dbmo4 stjgntxs hv4rvrfc\"> !!!"
   ]
  },
  {
   "cell_type": "code",
   "execution_count": null,
   "metadata": {},
   "outputs": [
    {
     "data": {
      "text/plain": [
       "'ni8dbmo4 stjgntxs l9j0dhe7'"
      ]
     },
     "execution_count": 33,
     "metadata": {},
     "output_type": "execute_result"
    }
   ],
   "source": [
    "' '.join(div_soup[115].parent.parent['class'])"
   ]
  },
  {
   "cell_type": "markdown",
   "metadata": {},
   "source": [
    "##### 116"
   ]
  },
  {
   "cell_type": "code",
   "execution_count": null,
   "metadata": {},
   "outputs": [],
   "source": [
    "# div_soup[116] 상위 태그\n",
    "\n",
    "# <div class=\"ni8dbmo4 stjgntxs l9j0dhe7 d0szoon8\">\n",
    "#     <div class=\"ns4ygwem s44p3ltw tpcyxxvw qr6iehes pw8ppx28 k973klho kywkl1fr mk2mc5f4 k0bpgpbk pmk7jnqg mmi0k12o b73ngqbp jnigpg78\"></div>\n",
    "#     <div class=\"b3i9ofy5 datstx6m pmk7jnqg dsl5tyj5 mmi0k12o\"></div>\n",
    "#   <div aria-label=\"2주 전에 Nam Seol님의 댓글에 김금희님이 남긴 답글\" role=\"article\" tabindex=\"-1\" class=\"l9j0dhe7 ecm0bbzt rz4wbd8a qt6c0cv9 scb9dxdr j83agx80 btwxx1t3 lzcic4wl\">\n",
    "#     <div class=\"nqmvxvec s45kfl79 emlxlaya bkmhp75w spb7xbtv a8c37x1j fv0vnmcu l9j0dhe7 qjjbsfad\"><span class=\"nc684nl6\">\n",
    "#     <div class=\"rj1gh0hx buofh1pr ni8dbmo4 stjgntxs hv4rvrfc\"> !!!\n",
    "#       <div>\n",
    "#         <div class=\"bvz0fpym c1et5uql q9uorilb sf5mxxl7\">\n",
    "#           <div class=\"k4urcfbm sf5mxxl7 l9j0dhe7 pq6dq46d\">"
   ]
  },
  {
   "cell_type": "code",
   "execution_count": null,
   "metadata": {},
   "outputs": [
    {
     "data": {
      "text/plain": [
       "'ni8dbmo4 stjgntxs l9j0dhe7 d0szoon8'"
      ]
     },
     "execution_count": 36,
     "metadata": {},
     "output_type": "execute_result"
    }
   ],
   "source": [
    "' '.join(div_soup[116].parent.parent['class'])"
   ]
  },
  {
   "cell_type": "code",
   "execution_count": null,
   "metadata": {},
   "outputs": [],
   "source": [
    "# 답글여부 확인\n",
    "num = 113\n",
    "parent_class = ' '.join(div_soup[num].parent.parent['class'])\n",
    "if parent_class == 'ni8dbmo4 stjgntxs l9j0dhe7':\n",
    "    is_reply = nan\n",
    "elif parent_class == 'ni8dbmo4 stjgntxs l9j0dhe7 d0szoon8':\n",
    "    is_reply = '댓글'"
   ]
  },
  {
   "cell_type": "code",
   "execution_count": null,
   "metadata": {},
   "outputs": [
    {
     "data": {
      "text/plain": [
       "nan"
      ]
     },
     "execution_count": 40,
     "metadata": {},
     "output_type": "execute_result"
    }
   ],
   "source": [
    "is_reply"
   ]
  },
  {
   "cell_type": "code",
   "execution_count": null,
   "metadata": {},
   "outputs": [
    {
     "data": {
      "text/plain": [
       "nan"
      ]
     },
     "execution_count": 41,
     "metadata": {},
     "output_type": "execute_result"
    }
   ],
   "source": [
    "num = 115\n",
    "parent_class = ' '.join(div_soup[num].parent.parent['class'])\n",
    "if parent_class == 'ni8dbmo4 stjgntxs l9j0dhe7':\n",
    "    is_reply = nan\n",
    "elif parent_class == 'ni8dbmo4 stjgntxs l9j0dhe7 d0szoon8':\n",
    "    is_reply = '댓글'\n",
    "is_reply"
   ]
  },
  {
   "cell_type": "code",
   "execution_count": null,
   "metadata": {},
   "outputs": [
    {
     "data": {
      "text/plain": [
       "'댓글'"
      ]
     },
     "execution_count": 42,
     "metadata": {},
     "output_type": "execute_result"
    }
   ],
   "source": [
    "num = 116\n",
    "parent_class = ' '.join(div_soup[num].parent.parent['class'])\n",
    "if parent_class == 'ni8dbmo4 stjgntxs l9j0dhe7':\n",
    "    is_reply = nan\n",
    "elif parent_class == 'ni8dbmo4 stjgntxs l9j0dhe7 d0szoon8':\n",
    "    is_reply = '댓글'\n",
    "is_reply"
   ]
  },
  {
   "cell_type": "code",
   "execution_count": null,
   "metadata": {},
   "outputs": [
    {
     "data": {
      "text/plain": [
       "nan"
      ]
     },
     "execution_count": 43,
     "metadata": {},
     "output_type": "execute_result"
    }
   ],
   "source": [
    "num = 0\n",
    "parent_class = ' '.join(div_soup[num].parent.parent['class'])\n",
    "if parent_class == 'ni8dbmo4 stjgntxs l9j0dhe7':\n",
    "    is_reply = nan\n",
    "elif parent_class == 'ni8dbmo4 stjgntxs l9j0dhe7 d0szoon8':\n",
    "    is_reply = '댓글'\n",
    "is_reply"
   ]
  },
  {
   "cell_type": "code",
   "execution_count": null,
   "metadata": {},
   "outputs": [
    {
     "data": {
      "text/plain": [
       "'댓글'"
      ]
     },
     "execution_count": 44,
     "metadata": {},
     "output_type": "execute_result"
    }
   ],
   "source": [
    "num = 1\n",
    "parent_class = ' '.join(div_soup[num].parent.parent['class'])\n",
    "if parent_class == 'ni8dbmo4 stjgntxs l9j0dhe7':\n",
    "    is_reply = nan\n",
    "elif parent_class == 'ni8dbmo4 stjgntxs l9j0dhe7 d0szoon8':\n",
    "    is_reply = '댓글'\n",
    "is_reply"
   ]
  },
  {
   "cell_type": "markdown",
   "metadata": {},
   "source": [
    "### 글 내용"
   ]
  },
  {
   "cell_type": "code",
   "execution_count": null,
   "metadata": {},
   "outputs": [
    {
     "name": "stdout",
     "output_type": "stream",
     "text": [
      "이가수지\n",
      "내용없음\n",
      "태그없음\n"
     ]
    }
   ],
   "source": [
    "num = 1\n",
    "writer = div_soup[num].find('span', 'pq6dq46d').text\n",
    "try:\n",
    "    text = div_soup[num].find('div', 'kvgmc6g5 cxmmr5t8 oygrvhab hcukyx3x c1et5uql').text\n",
    "except:\n",
    "    text = '내용없음'\n",
    "try:\n",
    "    tag_text = div_soup[num].find('div', 'cxmmr5t8 oygrvhab hcukyx3x c1et5uql o9v6fnle').text\n",
    "except:\n",
    "    tag_text = '태그없음'\n",
    "\n",
    "print(writer)\n",
    "print(text)\n",
    "print(tag_text)"
   ]
  },
  {
   "cell_type": "code",
   "execution_count": null,
   "metadata": {},
   "outputs": [
    {
     "name": "stdout",
     "output_type": "stream",
     "text": [
      "이청훈\n",
      "정답: 인천광역시 점자문화 진흥에 관한 조례\n",
      "인천광역시의회\n"
     ]
    }
   ],
   "source": [
    "num = 2\n",
    "writer = div_soup[num].find('span', 'pq6dq46d').text\n",
    "text = div_soup[num].find('div', 'kvgmc6g5 cxmmr5t8 oygrvhab hcukyx3x c1et5uql').text\n",
    "tag_text = div_soup[num].find('div', 'cxmmr5t8 oygrvhab hcukyx3x c1et5uql o9v6fnle').text\n",
    "\n",
    "print(writer)\n",
    "print(text)\n",
    "print(tag_text)"
   ]
  },
  {
   "cell_type": "code",
   "execution_count": null,
   "metadata": {},
   "outputs": [
    {
     "name": "stdout",
     "output_type": "stream",
     "text": [
      "이동국\n",
      "정답: 인천광역시 점자문화 진흥에 관한 조례 힘차게 응원합니다.페이스북을 통해서 자주 소통하고 좋은 소식과 정보들 많이 알려주셔서 감사합니다  앞으로 좋은 소식과 내용 공유하고 많은 사랑 받으시길 응원합니다 많은 분들의 관심과 큰 사랑 받길 바래요! 앞으로 더욱더욱더욱 흥하세요!!  언제나 응원드릴께요 ~ 오윤정 함께해요 ~\n",
      "태그없음\n"
     ]
    }
   ],
   "source": [
    "num = 3\n",
    "writer = div_soup[num].find('span', 'pq6dq46d').text\n",
    "try:\n",
    "    text = div_soup[num].find('div', 'kvgmc6g5 cxmmr5t8 oygrvhab hcukyx3x c1et5uql').text\n",
    "except:\n",
    "    text = '내용없음'\n",
    "try:\n",
    "    tag_text = div_soup[num].find('div', 'cxmmr5t8 oygrvhab hcukyx3x c1et5uql o9v6fnle').text\n",
    "except:\n",
    "    tag_text = '태그없음'\n",
    "\n",
    "print(writer)\n",
    "print(text)\n",
    "print(tag_text)"
   ]
  },
  {
   "cell_type": "code",
   "execution_count": null,
   "metadata": {},
   "outputs": [
    {
     "data": {
      "text/plain": [
       "'1주'"
      ]
     },
     "execution_count": 165,
     "metadata": {},
     "output_type": "execute_result"
    }
   ],
   "source": [
    "# 댓글 날짜\n",
    "div_soup[0].find('ul', 'o22cckgh q9uorilb bo9p93cb oygrvhab kkf49tns l66bhrea linoseic').find_all('li')[-1].find('span').text"
   ]
  },
  {
   "cell_type": "code",
   "execution_count": null,
   "metadata": {},
   "outputs": [
    {
     "data": {
      "text/plain": [
       "'1주'"
      ]
     },
     "execution_count": 166,
     "metadata": {},
     "output_type": "execute_result"
    }
   ],
   "source": [
    "# 대댓글 날짜\n",
    "div_soup[1].find('ul', 'o22cckgh q9uorilb bo9p93cb oygrvhab kkf49tns l66bhrea linoseic').find_all('li')[-1].find('span').text"
   ]
  },
  {
   "cell_type": "code",
   "execution_count": null,
   "metadata": {},
   "outputs": [
    {
     "data": {
      "text/plain": [
       "'https://www.facebook.com/BHABHH?comment_id=Y29tbWVudDozMTk2ODAxNDQwNTkzNTM4XzMyMDI1MjM4NDY2ODc5NjQ%3D&__cft__[0]=AZUfg4PDfnKkG-f5MUgI7yPzCd_xyT1z6XVEHPyepdxxMpklIDlGeuGaQEooqPG2_w278R27iiusuuJ6oqNEorzi-D8OZNWZgs7RE1-bOafHv_HWNsQAL_hUgRIRFnAbieAkEDyu8oc7kDQ2G3n4_wj2zYKux6hemJrmu3QSFuOSh1uIrQSO9oGC4oQQ_psc2eE&__tn__=R]-R'"
      ]
     },
     "execution_count": 88,
     "metadata": {},
     "output_type": "execute_result"
    }
   ],
   "source": [
    "# 작성자 바로가기\n",
    "div_soup[0].find('a', 'oajrlxb2 g5ia77u1 qu0x051f esr5mh6w e9989ue4 r7d6kgcz rq0escxv nhd2j8a9 nc684nl6 p7hjln8o kvgmc6g5 cxmmr5t8 oygrvhab hcukyx3x jb3vyjys rz4wbd8a qt6c0cv9 a8nywdso i1ao9s8h esuyzwwr f1sip0of lzcic4wl gmql0nx0 gpro0wi8')['href']"
   ]
  },
  {
   "cell_type": "code",
   "execution_count": null,
   "metadata": {},
   "outputs": [
    {
     "data": {
      "text/plain": [
       "'https://www.facebook.com/coffee3271?comment_id=Y29tbWVudDozMTk2ODAxNDQwNTkzNTM4XzMyMDcyNzA1MDI4Nzk5NjU%3D&__cft__[0]=AZWNtSMtKrAr1oEjQOzaYbx7wnDOpWL4lOtyi9_4RAZilSHy-E-zZB8_VPKHeLGq-EJ18XIVWQTJk4PBcPlsjLcJIWkvdsGd3hJjRrup-oEua9fgqrUFD-LsTmecgi1srX4HzrIGzNLgZNVuaGwF7hR1JTLqCmA3ffXIgyXMh_UUL-WzS3g0dIsXjqn1p7hVtJA&__tn__=R]-R'"
      ]
     },
     "execution_count": 80,
     "metadata": {},
     "output_type": "execute_result"
    }
   ],
   "source": [
    "div_soup[1].find('a', 'oajrlxb2 g5ia77u1 qu0x051f esr5mh6w e9989ue4 r7d6kgcz rq0escxv nhd2j8a9 nc684nl6 p7hjln8o kvgmc6g5 cxmmr5t8 oygrvhab hcukyx3x jb3vyjys rz4wbd8a qt6c0cv9 a8nywdso i1ao9s8h esuyzwwr f1sip0of lzcic4wl gmql0nx0 gpro0wi8')['href']"
   ]
  },
  {
   "cell_type": "code",
   "execution_count": null,
   "metadata": {},
   "outputs": [
    {
     "data": {
      "text/plain": [
       "'https://www.facebook.com/xx1942?comment_id=Y29tbWVudDozMTk2ODAxNDQwNTkzNTM4XzMyMDMwOTcyMjMyOTcyOTM%3D&__cft__[0]=AZUfg4PDfnKkG-f5MUgI7yPzCd_xyT1z6XVEHPyepdxxMpklIDlGeuGaQEooqPG2_w278R27iiusuuJ6oqNEorzi-D8OZNWZgs7RE1-bOafHv_HWNsQAL_hUgRIRFnAbieAkEDyu8oc7kDQ2G3n4_wj2zYKux6hemJrmu3QSFuOSh1uIrQSO9oGC4oQQ_psc2eE&__tn__=R]-R'"
      ]
     },
     "execution_count": 89,
     "metadata": {},
     "output_type": "execute_result"
    }
   ],
   "source": [
    "div_soup[3].find('a', 'oajrlxb2 g5ia77u1 qu0x051f esr5mh6w e9989ue4 r7d6kgcz rq0escxv nhd2j8a9 nc684nl6 p7hjln8o kvgmc6g5 cxmmr5t8 oygrvhab hcukyx3x jb3vyjys rz4wbd8a qt6c0cv9 a8nywdso i1ao9s8h esuyzwwr f1sip0of lzcic4wl gmql0nx0 gpro0wi8')['href']"
   ]
  },
  {
   "cell_type": "code",
   "execution_count": null,
   "metadata": {},
   "outputs": [],
   "source": [
    "for i, one in enumerate(div_soup):\n",
    "    try:\n",
    "        writer_link = one.find('a', 'oajrlxb2 g5ia77u1 qu0x051f esr5mh6w e9989ue4 r7d6kgcz rq0escxv nhd2j8a9 nc684nl6 p7hjln8o kvgmc6g5 cxmmr5t8 oygrvhab hcukyx3x jb3vyjys rz4wbd8a qt6c0cv9 a8nywdso i1ao9s8h esuyzwwr f1sip0of lzcic4wl gmql0nx0 gpro0wi8')['href']\n",
    "    except:\n",
    "        print(i)"
   ]
  },
  {
   "cell_type": "code",
   "execution_count": null,
   "metadata": {},
   "outputs": [],
   "source": [
    "# 댓글 바로가기\n",
    "# 확인 안됨"
   ]
  },
  {
   "cell_type": "markdown",
   "metadata": {},
   "source": [
    "### 태그 정보 & 태그 개수"
   ]
  },
  {
   "cell_type": "code",
   "execution_count": null,
   "metadata": {},
   "outputs": [],
   "source": [
    "tags = div_soup[0].find_all('a', 'oajrlxb2 g5ia77u1 qu0x051f esr5mh6w e9989ue4 r7d6kgcz rq0escxv nhd2j8a9 nc684nl6 p7hjln8o kvgmc6g5 cxmmr5t8 oygrvhab hcukyx3x jb3vyjys rz4wbd8a qt6c0cv9 a8nywdso i1ao9s8h esuyzwwr f1sip0of lzcic4wl gpro0wi8 oo9gr5id lrazzd5p')\n",
    "if len(tags) == 0:\n",
    "    tag_info = nan\n",
    "    num_tag = 0\n",
    "else:\n",
    "    tag_info = ''\n",
    "    for one_tag in tags:\n",
    "        tag_info = tag_info + one_tag.text + '\\n'\n",
    "    tag_info = tag_info.rstrip()\n",
    "    num_tag = len(tags)"
   ]
  },
  {
   "cell_type": "code",
   "execution_count": null,
   "metadata": {},
   "outputs": [
    {
     "data": {
      "text/plain": [
       "6"
      ]
     },
     "execution_count": 138,
     "metadata": {},
     "output_type": "execute_result"
    }
   ],
   "source": [
    "num_tag"
   ]
  },
  {
   "cell_type": "code",
   "execution_count": null,
   "metadata": {},
   "outputs": [
    {
     "data": {
      "text/plain": [
       "7"
      ]
     },
     "execution_count": 139,
     "metadata": {},
     "output_type": "execute_result"
    }
   ],
   "source": [
    "tags = div_soup[2].find_all('a', 'oajrlxb2 g5ia77u1 qu0x051f esr5mh6w e9989ue4 r7d6kgcz rq0escxv nhd2j8a9 nc684nl6 p7hjln8o kvgmc6g5 cxmmr5t8 oygrvhab hcukyx3x jb3vyjys rz4wbd8a qt6c0cv9 a8nywdso i1ao9s8h esuyzwwr f1sip0of lzcic4wl gpro0wi8 oo9gr5id lrazzd5p')\n",
    "if len(tags) == 0:\n",
    "    tag_info = nan\n",
    "    num_tag = 0\n",
    "else:\n",
    "    tag_info = ''\n",
    "    for one_tag in tags:\n",
    "        tag_info = tag_info + one_tag.text + '\\n'\n",
    "    tag_info = tag_info.rstrip()\n",
    "    num_tag = len(tags)\n",
    "num_tag"
   ]
  },
  {
   "cell_type": "markdown",
   "metadata": {},
   "source": [
    "### 답글 링크"
   ]
  },
  {
   "cell_type": "code",
   "execution_count": null,
   "metadata": {},
   "outputs": [
    {
     "data": {
      "text/plain": [
       "'https://www.facebook.com/incheoncouncil/posts/3196801440593538?comment_id=3202523846687964&__cft__[0]=AZXdl4pLXCDzMTtAykMqP-XJAEuqwzneyCZ7jWw2_nEQZ4EBxNXlgd5gPgdROzS1OEMAqhtXsX6rXah3QekxGsWeGlt7AFV8e9b_Qgd9Icbxlekh_3fCFyecY5lOsGsgbr9bOU_0cpyyfdBXakSXbuKp9AoTRdh0ccrjP-wNjmk5eEF28WSo4mai0f2LC58iyus&__tn__=R]-R'"
      ]
     },
     "execution_count": 79,
     "metadata": {},
     "output_type": "execute_result"
    }
   ],
   "source": [
    "div_soup[0].find('ul', 'o22cckgh q9uorilb bo9p93cb oygrvhab kkf49tns l66bhrea linoseic').find_all('li')[3].a['href']"
   ]
  },
  {
   "cell_type": "code",
   "execution_count": null,
   "metadata": {},
   "outputs": [
    {
     "data": {
      "text/plain": [
       "'https://www.facebook.com/incheoncouncil/posts/3196801440593538?comment_id=3202523846687964'"
      ]
     },
     "execution_count": 41,
     "metadata": {},
     "output_type": "execute_result"
    }
   ],
   "source": [
    "# 댓글 링크\n",
    "try:\n",
    "    reply_url = div_soup[0].find('ul', 'o22cckgh q9uorilb bo9p93cb oygrvhab kkf49tns l66bhrea linoseic').find_all('li')[3].a['href'].split('&')[0]\n",
    "except:\n",
    "    reply_url = div_soup[0].find('ul', 'o22cckgh q9uorilb bo9p93cb oygrvhab kkf49tns l66bhrea linoseic').find_all('li')[4].a['href'].split('__')[0]\n",
    "reply_url"
   ]
  },
  {
   "cell_type": "code",
   "execution_count": null,
   "metadata": {},
   "outputs": [
    {
     "data": {
      "text/plain": [
       "'https://www.facebook.com/incheoncouncil/posts/3196801440593538?comment_id=3202523846687964&reply_comment_id=3207270502879965&'"
      ]
     },
     "execution_count": 40,
     "metadata": {},
     "output_type": "execute_result"
    }
   ],
   "source": [
    "# 대댓글 링크\n",
    "try:\n",
    "    reply_url = div_soup[1].find('ul', 'o22cckgh q9uorilb bo9p93cb oygrvhab kkf49tns l66bhrea linoseic').find_all('li')[3].a['href'].split('&')[0]\n",
    "except:\n",
    "    reply_url = div_soup[1].find('ul', 'o22cckgh q9uorilb bo9p93cb oygrvhab kkf49tns l66bhrea linoseic').find_all('li')[4].a['href'].split('__')[0]\n",
    "reply_url"
   ]
  },
  {
   "cell_type": "code",
   "execution_count": null,
   "metadata": {},
   "outputs": [
    {
     "data": {
      "text/plain": [
       "'공감 3개, 공감한 사람 보기'"
      ]
     },
     "execution_count": 53,
     "metadata": {},
     "output_type": "execute_result"
    }
   ],
   "source": [
    "# 좋아요 표시\n",
    "try:\n",
    "    div_like = div_soup[0].find('div', 'du4w35lb pmk7jnqg lthxh50u ox23h4wi kr9hpln1').find('div', 'oajrlxb2 g5ia77u1 qu0x051f esr5mh6w e9989ue4 r7d6kgcz rq0escxv nhd2j8a9 nc684nl6 p7hjln8o kvgmc6g5 cxmmr5t8 oygrvhab hcukyx3x jb3vyjys rz4wbd8a qt6c0cv9 a8nywdso i1ao9s8h esuyzwwr f1sip0of n00je7tq arfg74bv qs9ysxi8 k77z8yql l9j0dhe7 abiwlrkh p8dawk7l lzcic4wl')['aria-label']\n",
    "except:\n",
    "    div_like = '좋아요_없음'\n",
    "div_like"
   ]
  },
  {
   "cell_type": "code",
   "execution_count": null,
   "metadata": {},
   "outputs": [
    {
     "data": {
      "text/plain": [
       "'좋아요_없음'"
      ]
     },
     "execution_count": 56,
     "metadata": {},
     "output_type": "execute_result"
    }
   ],
   "source": [
    "try:\n",
    "    div_like = div_soup[1].find('div', 'du4w35lb pmk7jnqg lthxh50u ox23h4wi kr9hpln1').find('div', 'oajrlxb2 g5ia77u1 qu0x051f esr5mh6w e9989ue4 r7d6kgcz rq0escxv nhd2j8a9 nc684nl6 p7hjln8o kvgmc6g5 cxmmr5t8 oygrvhab hcukyx3x jb3vyjys rz4wbd8a qt6c0cv9 a8nywdso i1ao9s8h esuyzwwr f1sip0of n00je7tq arfg74bv qs9ysxi8 k77z8yql l9j0dhe7 abiwlrkh p8dawk7l lzcic4wl')['aria-label']\n",
    "except:\n",
    "    div_like = '좋아요_없음'\n",
    "div_like"
   ]
  },
  {
   "cell_type": "code",
   "execution_count": null,
   "metadata": {},
   "outputs": [
    {
     "data": {
      "text/plain": [
       "'공감 1개, 공감한 사람 보기'"
      ]
     },
     "execution_count": 57,
     "metadata": {},
     "output_type": "execute_result"
    }
   ],
   "source": [
    "try:\n",
    "    div_like = div_soup[2].find('div', 'du4w35lb pmk7jnqg lthxh50u ox23h4wi kr9hpln1').find('div', 'oajrlxb2 g5ia77u1 qu0x051f esr5mh6w e9989ue4 r7d6kgcz rq0escxv nhd2j8a9 nc684nl6 p7hjln8o kvgmc6g5 cxmmr5t8 oygrvhab hcukyx3x jb3vyjys rz4wbd8a qt6c0cv9 a8nywdso i1ao9s8h esuyzwwr f1sip0of n00je7tq arfg74bv qs9ysxi8 k77z8yql l9j0dhe7 abiwlrkh p8dawk7l lzcic4wl')['aria-label']\n",
    "except:\n",
    "    div_like = '좋아요_없음'\n",
    "div_like"
   ]
  },
  {
   "cell_type": "code",
   "execution_count": null,
   "metadata": {},
   "outputs": [
    {
     "data": {
      "text/plain": [
       "'좋아요_없음'"
      ]
     },
     "execution_count": 58,
     "metadata": {},
     "output_type": "execute_result"
    }
   ],
   "source": [
    "try:\n",
    "    div_like = div_soup[3].find('div', 'du4w35lb pmk7jnqg lthxh50u ox23h4wi kr9hpln1').find('div', 'oajrlxb2 g5ia77u1 qu0x051f esr5mh6w e9989ue4 r7d6kgcz rq0escxv nhd2j8a9 nc684nl6 p7hjln8o kvgmc6g5 cxmmr5t8 oygrvhab hcukyx3x jb3vyjys rz4wbd8a qt6c0cv9 a8nywdso i1ao9s8h esuyzwwr f1sip0of n00je7tq arfg74bv qs9ysxi8 k77z8yql l9j0dhe7 abiwlrkh p8dawk7l lzcic4wl')['aria-label']\n",
    "except:\n",
    "    div_like = '좋아요_없음'\n",
    "div_like"
   ]
  },
  {
   "cell_type": "code",
   "execution_count": null,
   "metadata": {},
   "outputs": [
    {
     "data": {
      "text/plain": [
       "'좋아요_없음'"
      ]
     },
     "execution_count": 59,
     "metadata": {},
     "output_type": "execute_result"
    }
   ],
   "source": [
    "try:\n",
    "    div_like = div_soup[4].find('div', 'du4w35lb pmk7jnqg lthxh50u ox23h4wi kr9hpln1').find('div', 'oajrlxb2 g5ia77u1 qu0x051f esr5mh6w e9989ue4 r7d6kgcz rq0escxv nhd2j8a9 nc684nl6 p7hjln8o kvgmc6g5 cxmmr5t8 oygrvhab hcukyx3x jb3vyjys rz4wbd8a qt6c0cv9 a8nywdso i1ao9s8h esuyzwwr f1sip0of n00je7tq arfg74bv qs9ysxi8 k77z8yql l9j0dhe7 abiwlrkh p8dawk7l lzcic4wl')['aria-label']\n",
    "except:\n",
    "    div_like = '좋아요_없음'\n",
    "div_like"
   ]
  },
  {
   "cell_type": "code",
   "execution_count": null,
   "metadata": {},
   "outputs": [
    {
     "data": {
      "text/plain": [
       "'공감 1개, 공감한 사람 보기'"
      ]
     },
     "execution_count": 60,
     "metadata": {},
     "output_type": "execute_result"
    }
   ],
   "source": [
    "try:\n",
    "    div_like = div_soup[5].find('div', 'du4w35lb pmk7jnqg lthxh50u ox23h4wi kr9hpln1').find('div', 'oajrlxb2 g5ia77u1 qu0x051f esr5mh6w e9989ue4 r7d6kgcz rq0escxv nhd2j8a9 nc684nl6 p7hjln8o kvgmc6g5 cxmmr5t8 oygrvhab hcukyx3x jb3vyjys rz4wbd8a qt6c0cv9 a8nywdso i1ao9s8h esuyzwwr f1sip0of n00je7tq arfg74bv qs9ysxi8 k77z8yql l9j0dhe7 abiwlrkh p8dawk7l lzcic4wl')['aria-label']\n",
    "except:\n",
    "    div_like = '좋아요_없음'\n",
    "div_like"
   ]
  },
  {
   "cell_type": "markdown",
   "metadata": {},
   "source": [
    "### 글 내부 링크"
   ]
  },
  {
   "cell_type": "code",
   "execution_count": null,
   "metadata": {},
   "outputs": [
    {
     "name": "stdout",
     "output_type": "stream",
     "text": [
      "이정미\n",
      "박성준\n",
      "임칠성\n",
      "김광훈\n",
      "주창원\n",
      "최효성\n",
      "다온\n",
      "강유라\n",
      "원서현\n",
      "장준호\n"
     ]
    }
   ],
   "source": [
    "# 작성자 확인\n",
    "for i in range(160,170):\n",
    "    print(div_soup[i].find('span', 'pq6dq46d').text)"
   ]
  },
  {
   "cell_type": "code",
   "execution_count": null,
   "metadata": {},
   "outputs": [
    {
     "data": {
      "text/plain": [
       "'임칠성'"
      ]
     },
     "execution_count": 60,
     "metadata": {},
     "output_type": "execute_result"
    }
   ],
   "source": [
    "div_soup[162].find('span', 'pq6dq46d').text"
   ]
  },
  {
   "cell_type": "code",
   "execution_count": null,
   "metadata": {},
   "outputs": [
    {
     "data": {
      "text/plain": [
       "2"
      ]
     },
     "execution_count": 115,
     "metadata": {},
     "output_type": "execute_result"
    }
   ],
   "source": [
    "temp = div_soup[162].find('div', 'kvgmc6g5 cxmmr5t8 oygrvhab hcukyx3x c1et5uql').find_all('a', 'oajrlxb2 g5ia77u1 qu0x051f esr5mh6w e9989ue4 r7d6kgcz rq0escxv nhd2j8a9 nc684nl6 p7hjln8o kvgmc6g5 cxmmr5t8 oygrvhab hcukyx3x jb3vyjys rz4wbd8a qt6c0cv9 a8nywdso i1ao9s8h esuyzwwr f1sip0of lzcic4wl gpro0wi8 oo9gr5id lrazzd5p')\n",
    "len(temp)"
   ]
  },
  {
   "cell_type": "code",
   "execution_count": null,
   "metadata": {},
   "outputs": [
    {
     "name": "stdout",
     "output_type": "stream",
     "text": [
      "임설미\n",
      "https://m.facebook.com/story.php?story_fbid=641156476976699&id=100032470566761\n"
     ]
    }
   ],
   "source": [
    "for one in temp:\n",
    "    print(one.text)"
   ]
  },
  {
   "cell_type": "code",
   "execution_count": null,
   "metadata": {},
   "outputs": [
    {
     "name": "stdout",
     "output_type": "stream",
     "text": [
      "https://m.facebook.com/story.php?story_fbid=641156476976699&id=100032470566761\n"
     ]
    }
   ],
   "source": [
    "for one in temp:\n",
    "    if 'story' in one.text:\n",
    "        print(one.text)"
   ]
  },
  {
   "cell_type": "code",
   "execution_count": null,
   "metadata": {},
   "outputs": [
    {
     "name": "stdout",
     "output_type": "stream",
     "text": [
      "https://m.facebook.com/story.php?story_fbid=641156476976699&id=100032470566761\n"
     ]
    }
   ],
   "source": [
    "added_urls = div_soup[162].find('div', 'kvgmc6g5 cxmmr5t8 oygrvhab hcukyx3x c1et5uql').find_all('a', 'oajrlxb2 g5ia77u1 qu0x051f esr5mh6w e9989ue4 r7d6kgcz rq0escxv nhd2j8a9 nc684nl6 p7hjln8o kvgmc6g5 cxmmr5t8 oygrvhab hcukyx3x jb3vyjys rz4wbd8a qt6c0cv9 a8nywdso i1ao9s8h esuyzwwr f1sip0of lzcic4wl gpro0wi8 oo9gr5id lrazzd5p')\n",
    "for one in added_urls:\n",
    "    if 'story' in one.text:\n",
    "        print(one.text)"
   ]
  },
  {
   "cell_type": "code",
   "execution_count": null,
   "metadata": {},
   "outputs": [
    {
     "data": {
      "text/plain": [
       "'https://m.facebook.com/story.php?story_fbid=641156476976699&id=100032470566761'"
      ]
     },
     "execution_count": 120,
     "metadata": {},
     "output_type": "execute_result"
    }
   ],
   "source": [
    "num = 162\n",
    "try:\n",
    "    url_in_texts = div_soup[num].find('div', 'kvgmc6g5 cxmmr5t8 oygrvhab hcukyx3x c1et5uql').find_all('a', 'oajrlxb2 g5ia77u1 qu0x051f esr5mh6w e9989ue4 r7d6kgcz rq0escxv nhd2j8a9 nc684nl6 p7hjln8o kvgmc6g5 cxmmr5t8 oygrvhab hcukyx3x jb3vyjys rz4wbd8a qt6c0cv9 a8nywdso i1ao9s8h esuyzwwr f1sip0of lzcic4wl gpro0wi8 oo9gr5id lrazzd5p')\n",
    "    for one_url in url_in_texts:\n",
    "        if 'story' in one_url.text:\n",
    "            url_in_text = one.text\n",
    "except:\n",
    "    url_in_text = nan\n",
    "url_in_text"
   ]
  },
  {
   "cell_type": "code",
   "execution_count": null,
   "metadata": {},
   "outputs": [
    {
     "data": {
      "text/plain": [
       "'https://m.facebook.com/story.php?story_fbid=641156476976699&id=100032470566761'"
      ]
     },
     "execution_count": 134,
     "metadata": {},
     "output_type": "execute_result"
    }
   ],
   "source": [
    "num = 162\n",
    "try:\n",
    "    url_in_texts = div_soup[num].find('div', 'kvgmc6g5 cxmmr5t8 oygrvhab hcukyx3x c1et5uql').find_all('a', 'oajrlxb2 g5ia77u1 qu0x051f esr5mh6w e9989ue4 r7d6kgcz rq0escxv nhd2j8a9 nc684nl6 p7hjln8o kvgmc6g5 cxmmr5t8 oygrvhab hcukyx3x jb3vyjys rz4wbd8a qt6c0cv9 a8nywdso i1ao9s8h esuyzwwr f1sip0of lzcic4wl gpro0wi8 oo9gr5id lrazzd5p')\n",
    "    i = 100\n",
    "    for i, one_url in enumerate(url_in_texts):\n",
    "        if 'story' in one_url.text:\n",
    "            idx_url = i\n",
    "    if idx_url != 100:\n",
    "        url_in_text = url_in_texts[idx_url].text\n",
    "    else:\n",
    "        url_in_text = nan\n",
    "except:\n",
    "    url_in_text = nan\n",
    "url_in_text"
   ]
  },
  {
   "cell_type": "code",
   "execution_count": null,
   "metadata": {},
   "outputs": [
    {
     "data": {
      "text/plain": [
       "nan"
      ]
     },
     "execution_count": 135,
     "metadata": {},
     "output_type": "execute_result"
    }
   ],
   "source": [
    "num = 163\n",
    "try:\n",
    "    url_in_texts = div_soup[num].find('div', 'kvgmc6g5 cxmmr5t8 oygrvhab hcukyx3x c1et5uql').find_all('a', 'oajrlxb2 g5ia77u1 qu0x051f esr5mh6w e9989ue4 r7d6kgcz rq0escxv nhd2j8a9 nc684nl6 p7hjln8o kvgmc6g5 cxmmr5t8 oygrvhab hcukyx3x jb3vyjys rz4wbd8a qt6c0cv9 a8nywdso i1ao9s8h esuyzwwr f1sip0of lzcic4wl gpro0wi8 oo9gr5id lrazzd5p')\n",
    "    i = 100\n",
    "    for i, one_url in enumerate(url_in_texts):\n",
    "        if 'story' in one_url.text:\n",
    "            idx_url = i\n",
    "    if idx_url != 100:\n",
    "        url_in_text = url_in_texts[idx_url].text\n",
    "    else:\n",
    "        url_in_text = nan\n",
    "except:\n",
    "    url_in_text = nan\n",
    "url_in_text"
   ]
  },
  {
   "cell_type": "code",
   "execution_count": null,
   "metadata": {},
   "outputs": [
    {
     "data": {
      "text/plain": [
       "nan"
      ]
     },
     "execution_count": 130,
     "metadata": {},
     "output_type": "execute_result"
    }
   ],
   "source": [
    "num = 163\n",
    "try:\n",
    "    raw_url_in_text = div_soup[num].find('div', 'kvgmc6g5 cxmmr5t8 oygrvhab hcukyx3x c1et5uql').find_all('a', 'oajrlxb2 g5ia77u1 qu0x051f esr5mh6w e9989ue4 r7d6kgcz rq0escxv nhd2j8a9 nc684nl6 p7hjln8o kvgmc6g5 cxmmr5t8 oygrvhab hcukyx3x jb3vyjys rz4wbd8a qt6c0cv9 a8nywdso i1ao9s8h esuyzwwr f1sip0of lzcic4wl gpro0wi8 oo9gr5id lrazzd5p')[-1].text\n",
    "    if 'story' in raw_url_in_text:\n",
    "        url_in_text = raw_url_in_text\n",
    "    else:\n",
    "        url_in_text = nan\n",
    "except:\n",
    "    url_in_text = nan\n",
    "url_in_text"
   ]
  },
  {
   "cell_type": "markdown",
   "metadata": {},
   "source": [
    "### 첨부 링크"
   ]
  },
  {
   "cell_type": "code",
   "execution_count": null,
   "metadata": {},
   "outputs": [
    {
     "data": {
      "text/plain": [
       "'https://scontent-ssn1-1.xx.fbcdn.net/v/t39.30808-6/277666457_1111423612972316_3817637180030089289_n.jpg?stp=dst-jpg_p100x100&_nc_cat=101&ccb=1-5&_nc_sid=dbeb18&_nc_ohc=wkU6ujXVd9EAX_bv84M&tn=zxA7WjLxSfauWLSl&_nc_ht=scontent-ssn1-1.xx&oh=00_AT8mIWCyoHedTjQ_4h6Hfkma-VD4O4m99SCwSi4vBkOqmw&oe=6262DCE7'"
      ]
     },
     "execution_count": 52,
     "metadata": {},
     "output_type": "execute_result"
    }
   ],
   "source": [
    "div_soup[8].find('a', 'oajrlxb2 g5ia77u1 qu0x051f esr5mh6w e9989ue4 r7d6kgcz rq0escxv nhd2j8a9 nc684nl6 p7hjln8o kvgmc6g5 cxmmr5t8 oygrvhab hcukyx3x jb3vyjys rz4wbd8a qt6c0cv9 a8nywdso i1ao9s8h esuyzwwr f1sip0of lzcic4wl').find('img')['src']"
   ]
  },
  {
   "cell_type": "code",
   "execution_count": null,
   "metadata": {},
   "outputs": [
    {
     "ename": "AttributeError",
     "evalue": "'NoneType' object has no attribute 'find'",
     "output_type": "error",
     "traceback": [
      "\u001b[1;31m---------------------------------------------------------------------------\u001b[0m",
      "\u001b[1;31mAttributeError\u001b[0m                            Traceback (most recent call last)",
      "\u001b[1;32m~\\AppData\\Local\\Temp/ipykernel_19908/2195473434.py\u001b[0m in \u001b[0;36m<module>\u001b[1;34m\u001b[0m\n\u001b[1;32m----> 1\u001b[1;33m \u001b[0mdiv_soup\u001b[0m\u001b[1;33m[\u001b[0m\u001b[1;36m7\u001b[0m\u001b[1;33m]\u001b[0m\u001b[1;33m.\u001b[0m\u001b[0mfind\u001b[0m\u001b[1;33m(\u001b[0m\u001b[1;34m'a'\u001b[0m\u001b[1;33m,\u001b[0m \u001b[1;34m'oajrlxb2 g5ia77u1 qu0x051f esr5mh6w e9989ue4 r7d6kgcz rq0escxv nhd2j8a9 nc684nl6 p7hjln8o kvgmc6g5 cxmmr5t8 oygrvhab hcukyx3x jb3vyjys rz4wbd8a qt6c0cv9 a8nywdso i1ao9s8h esuyzwwr f1sip0of lzcic4wl'\u001b[0m\u001b[1;33m)\u001b[0m\u001b[1;33m.\u001b[0m\u001b[0mfind\u001b[0m\u001b[1;33m(\u001b[0m\u001b[1;34m'img'\u001b[0m\u001b[1;33m)\u001b[0m\u001b[1;33m[\u001b[0m\u001b[1;34m'src'\u001b[0m\u001b[1;33m]\u001b[0m\u001b[1;33m\u001b[0m\u001b[1;33m\u001b[0m\u001b[0m\n\u001b[0m",
      "\u001b[1;31mAttributeError\u001b[0m: 'NoneType' object has no attribute 'find'"
     ]
    }
   ],
   "source": [
    "div_soup[7].find('a', 'oajrlxb2 g5ia77u1 qu0x051f esr5mh6w e9989ue4 r7d6kgcz rq0escxv nhd2j8a9 nc684nl6 p7hjln8o kvgmc6g5 cxmmr5t8 oygrvhab hcukyx3x jb3vyjys rz4wbd8a qt6c0cv9 a8nywdso i1ao9s8h esuyzwwr f1sip0of lzcic4wl').find('img')['src']"
   ]
  },
  {
   "cell_type": "markdown",
   "metadata": {},
   "source": [
    "### 댓글 번호\n",
    "* 글번호_번호"
   ]
  },
  {
   "cell_type": "code",
   "execution_count": null,
   "metadata": {},
   "outputs": [],
   "source": [
    "# <a class=\"oajrlxb2 g5ia77u1 qu0x051f esr5mh6w e9989ue4 r7d6kgcz rq0escxv nhd2j8a9 nc684nl6 p7hjln8o kvgmc6g5 cxmmr5t8 oygrvhab hcukyx3x jb3vyjys rz4wbd8a qt6c0cv9 a8nywdso i1ao9s8h esuyzwwr f1sip0of lzcic4wl gpro0wi8 m9osqain knj5qynh\" href=\"https://www.facebook.com/incheoncouncil/posts/3196801440593538?comment_id=3196803927259956&amp;__cft__[0]=AZUjq--Ksx0R_xpnNFFKvXHJyrREmJBgNQIeUlZBRy8uQfCcTFtH6nSTdst_v9p1dAxlh9LEjWQAa1I6XLh9W9rUDJp8CQU2euRSQhmBNLtBZ4_mO2xj1W9RTruBSkFfSMFBaVYlLVSTeIcguEJVILZ-J1_Rm1J7GIZvKmC0b1BLrIuJWo6J4Ul5bh4bbm0XyuY&amp;__tn__=R]-R\" role=\"link\" tabindex=\"0\">\n",
    "# href=\"https://www.facebook.com/incheoncouncil/posts/3196801440593538?comment_id=3196803927259956 : \"posts/숫자\" 여기서 숫자가 글번호, \"comment_id=숫자\" 여기서 숫자가 번호\n",
    "\n",
    "div_soup[0].find('a', 'oajrlxb2 g5ia77u1 qu0x051f esr5mh6w e9989ue4 r7d6kgcz rq0escxv nhd2j8a9 nc684nl6 p7hjln8o kvgmc6g5 cxmmr5t8 oygrvhab hcukyx3x jb3vyjys rz4wbd8a qt6c0cv9 a8nywdso i1ao9s8h esuyzwwr f1sip0of lzcic4wl gpro0wi8 m9osqain knj5qynh')['href']"
   ]
  },
  {
   "cell_type": "markdown",
   "metadata": {},
   "source": [
    "### UID ❌"
   ]
  },
  {
   "cell_type": "markdown",
   "metadata": {},
   "source": [
    "# 정리"
   ]
  },
  {
   "cell_type": "code",
   "execution_count": null,
   "metadata": {},
   "outputs": [],
   "source": [
    "import pandas as pd\n",
    "import time, os, random\n",
    "from datetime import datetime\n",
    "from numpy import nan\n",
    "from bs4 import BeautifulSoup as bs\n",
    "from selenium import webdriver\n",
    "import chromedriver_autoinstaller as ca\n",
    "import getpass"
   ]
  },
  {
   "cell_type": "markdown",
   "metadata": {},
   "source": [
    "## 준비"
   ]
  },
  {
   "cell_type": "markdown",
   "metadata": {},
   "source": [
    "### 현재 파일 위치 확인"
   ]
  },
  {
   "cell_type": "code",
   "execution_count": null,
   "metadata": {},
   "outputs": [
    {
     "data": {
      "text/plain": [
       "'c:/data/Wantreez/Crawling/incheon'"
      ]
     },
     "execution_count": 2,
     "metadata": {},
     "output_type": "execute_result"
    }
   ],
   "source": [
    "# 현재 파일 위치 확인\n",
    "code_path = os.getcwd().replace('\\\\', '/')\n",
    "code_path"
   ]
  },
  {
   "cell_type": "markdown",
   "metadata": {},
   "source": [
    "### 파일 저장 폴더 생성"
   ]
  },
  {
   "cell_type": "code",
   "execution_count": null,
   "metadata": {},
   "outputs": [],
   "source": [
    "# 수집한 파일을 저장할 폴더 생성\n",
    "crawled_folder_path = code_path + '/crawled_data/facebook'\n",
    "os.makedirs(crawled_folder_path, exist_ok=True)"
   ]
  },
  {
   "cell_type": "markdown",
   "metadata": {},
   "source": [
    "### 크롬 드라이버 확인 및 설치"
   ]
  },
  {
   "cell_type": "code",
   "execution_count": null,
   "metadata": {},
   "outputs": [
    {
     "data": {
      "text/plain": [
       "'100'"
      ]
     },
     "execution_count": 4,
     "metadata": {},
     "output_type": "execute_result"
    }
   ],
   "source": [
    "# 크롬 드라이버 버전 확인\n",
    "chrome_ver = ca.get_chrome_version().split('.')[0]\n",
    "chrome_ver"
   ]
  },
  {
   "cell_type": "code",
   "execution_count": null,
   "metadata": {},
   "outputs": [
    {
     "name": "stderr",
     "output_type": "stream",
     "text": [
      "C:\\Users\\kbjung\\AppData\\Local\\Temp/ipykernel_19908/3261653714.py:3: DeprecationWarning: executable_path has been deprecated, please pass in a Service object\n",
      "  driver = webdriver.Chrome(code_path + f'/{chrome_ver}/' + 'chromedriver.exe')\n"
     ]
    }
   ],
   "source": [
    "# 크롬 드라이버 설치 확인\n",
    "try:\n",
    "    driver = webdriver.Chrome(code_path + f'/{chrome_ver}/' + 'chromedriver.exe')\n",
    "except:\n",
    "    ca.install(True)\n",
    "    driver = webdriver.Chrome(code_path + f'/{chrome_ver}/' + 'chromedriver.exe')"
   ]
  },
  {
   "cell_type": "markdown",
   "metadata": {},
   "source": [
    "## 페이지 접속"
   ]
  },
  {
   "cell_type": "code",
   "execution_count": null,
   "metadata": {},
   "outputs": [],
   "source": [
    "url = 'https://www.facebook.com/2244035899203435/posts/3196801440593538/'\n",
    "driver.get(url)\n",
    "driver.implicitly_wait(3)\n",
    "driver.maximize_window()"
   ]
  },
  {
   "cell_type": "markdown",
   "metadata": {},
   "source": [
    "### 로그인"
   ]
  },
  {
   "cell_type": "code",
   "execution_count": null,
   "metadata": {},
   "outputs": [],
   "source": [
    "id = input('id를 입력하세요')\n",
    "pw = getpass.getpass('비밀번호를 입력하세요')"
   ]
  },
  {
   "cell_type": "code",
   "execution_count": null,
   "metadata": {},
   "outputs": [
    {
     "name": "stderr",
     "output_type": "stream",
     "text": [
      "C:\\Users\\kbjung\\AppData\\Local\\Temp/ipykernel_19908/1636980163.py:1: DeprecationWarning: find_element_by_xpath is deprecated. Please use find_element(by=By.XPATH, value=xpath) instead\n",
      "  login_box = driver.find_element_by_xpath('//*[@id=\"email\"]')\n",
      "C:\\Users\\kbjung\\AppData\\Local\\Temp/ipykernel_19908/1636980163.py:2: DeprecationWarning: find_element_by_xpath is deprecated. Please use find_element(by=By.XPATH, value=xpath) instead\n",
      "  pw_box = driver.find_element_by_xpath('//*[@id=\"pass\"]')\n",
      "C:\\Users\\kbjung\\AppData\\Local\\Temp/ipykernel_19908/1636980163.py:4: DeprecationWarning: find_element_by_xpath is deprecated. Please use find_element(by=By.XPATH, value=xpath) instead\n",
      "  login_button = driver.find_element_by_xpath('//*[@id=\"loginbutton\"]')\n"
     ]
    }
   ],
   "source": [
    "login_box = driver.find_element_by_xpath('//*[@id=\"email\"]')\n",
    "pw_box = driver.find_element_by_xpath('//*[@id=\"pass\"]')\n",
    "try:\n",
    "    login_button = driver.find_element_by_xpath('//*[@id=\"loginbutton\"]')\n",
    "except:\n",
    "    login_button = driver.find_element_by_xpath('/html/body/div[1]/div[2]/div/div/div[1]/div/div[2]/form/table/tbody/tr[2]/td[3]/label/input')\n",
    "\n",
    "\n",
    "login_box.send_keys(id)\n",
    "time.sleep(0.5)\n",
    "pw_box.send_keys(pw)\n",
    "time.sleep(0.5)\n",
    "login_button.click()\n",
    "driver.implicitly_wait(3)\n",
    "time.sleep( random.uniform(0.5, 1))"
   ]
  },
  {
   "cell_type": "markdown",
   "metadata": {},
   "source": [
    "### 최신 댓글 순으로 보이기 버튼 클릭"
   ]
  },
  {
   "cell_type": "code",
   "execution_count": null,
   "metadata": {},
   "outputs": [
    {
     "name": "stderr",
     "output_type": "stream",
     "text": [
      "C:\\Users\\kbjung\\AppData\\Local\\Temp/ipykernel_19908/556030466.py:1: DeprecationWarning: find_element_by_xpath is deprecated. Please use find_element(by=By.XPATH, value=xpath) instead\n",
      "  reply_sort_button = driver.find_element_by_xpath('/html/body/div[1]/div/div[1]/div/div[3]/div/div/div[1]/div[1]/div[4]/div[1]/div/div/div/div/div/div/div/div/div/div[1]/div/div[2]/div/div[5]/div/div/div[2]/div[2]/div/div/div/span').click()\n"
     ]
    }
   ],
   "source": [
    "reply_sort_button = driver.find_element_by_xpath('/html/body/div[1]/div/div[1]/div/div[3]/div/div/div[1]/div[1]/div[4]/div[1]/div/div/div/div/div/div/div/div/div/div[1]/div/div[2]/div/div[5]/div/div/div[2]/div[2]/div/div/div/span').click()\n",
    "time.sleep( random.uniform(0.5, 1) )"
   ]
  },
  {
   "cell_type": "code",
   "execution_count": null,
   "metadata": {},
   "outputs": [
    {
     "name": "stderr",
     "output_type": "stream",
     "text": [
      "C:\\Users\\kbjung\\AppData\\Local\\Temp/ipykernel_19908/3884383911.py:1: DeprecationWarning: find_element_by_xpath is deprecated. Please use find_element(by=By.XPATH, value=xpath) instead\n",
      "  ascending_button = driver.find_element_by_xpath('/html/body/div[1]/div/div[1]/div/div[3]/div/div/div[2]/div/div/div[1]/div[1]/div/div/div[1]/div/div/div/div[1]/div/div[3]/div[1]/div/div[1]/span').click()\n"
     ]
    }
   ],
   "source": [
    "ascending_button = driver.find_element_by_xpath('/html/body/div[1]/div/div[1]/div/div[3]/div/div/div[2]/div/div/div[1]/div[1]/div/div/div[1]/div/div/div/div[1]/div/div[3]/div[1]/div/div[1]/span').click()\n",
    "time.sleep( random.uniform(0.5, 1) )"
   ]
  },
  {
   "cell_type": "markdown",
   "metadata": {},
   "source": [
    "### 페이지 더보기 버튼 클릭"
   ]
  },
  {
   "cell_type": "code",
   "execution_count": null,
   "metadata": {},
   "outputs": [
    {
     "name": "stderr",
     "output_type": "stream",
     "text": [
      "C:\\Users\\kbjung\\AppData\\Local\\Temp/ipykernel_19908/699029154.py:4: DeprecationWarning: find_element_by_xpath is deprecated. Please use find_element(by=By.XPATH, value=xpath) instead\n",
      "  more_view_button = driver.find_element_by_xpath('/html/body/div[1]/div/div[1]/div/div[3]/div/div/div[1]/div[1]/div[4]/div[1]/div/div/div/div/div/div/div/div/div/div/div/div[2]/div/div[5]/div/div/div[2]/div[4]/div[1]/div[2]/span/span')\n"
     ]
    }
   ],
   "source": [
    "count = 0\n",
    "while True:\n",
    "    try:\n",
    "        more_view_button = driver.find_element_by_xpath('/html/body/div[1]/div/div[1]/div/div[3]/div/div/div[1]/div[1]/div[4]/div[1]/div/div/div/div/div/div/div/div/div/div/div/div[2]/div/div[5]/div/div/div[2]/div[4]/div[1]/div[2]/span/span')\n",
    "        more_view_button.click()\n",
    "        driver.implicitly_wait(3)\n",
    "        time.sleep( random.uniform(1, 1.5) )\n",
    "    except:\n",
    "        break\n",
    "    count += 1"
   ]
  },
  {
   "cell_type": "code",
   "execution_count": null,
   "metadata": {},
   "outputs": [
    {
     "name": "stdout",
     "output_type": "stream",
     "text": [
      "댓글 더보기 클릭 횟수 : 7\n"
     ]
    }
   ],
   "source": [
    "print('댓글 더보기 클릭 횟수 :', count)"
   ]
  },
  {
   "cell_type": "markdown",
   "metadata": {},
   "source": [
    "## 댓글의 모든 더보기 클릭"
   ]
  },
  {
   "cell_type": "code",
   "execution_count": null,
   "metadata": {},
   "outputs": [
    {
     "name": "stderr",
     "output_type": "stream",
     "text": [
      "C:\\Users\\kbjung\\AppData\\Local\\Temp/ipykernel_19908/3788032777.py:1: DeprecationWarning: find_elements_by_css_selector is deprecated. Please use find_elements(by=By.CSS_SELECTOR, value=css_selector) instead\n",
      "  more_view_of_reply = driver.find_elements_by_css_selector('div.oajrlxb2.g5ia77u1.qu0x051f.esr5mh6w.e9989ue4.r7d6kgcz.rq0escxv.nhd2j8a9.nc684nl6.p7hjln8o.kvgmc6g5.cxmmr5t8.oygrvhab.hcukyx3x.jb3vyjys.rz4wbd8a.qt6c0cv9.a8nywdso.i1ao9s8h.esuyzwwr.f1sip0of.lzcic4wl.gpro0wi8.oo9gr5id.lrazzd5p')\n"
     ]
    },
    {
     "data": {
      "text/plain": [
       "65"
      ]
     },
     "execution_count": 14,
     "metadata": {},
     "output_type": "execute_result"
    }
   ],
   "source": [
    "more_view_of_reply = driver.find_elements_by_css_selector('div.oajrlxb2.g5ia77u1.qu0x051f.esr5mh6w.e9989ue4.r7d6kgcz.rq0escxv.nhd2j8a9.nc684nl6.p7hjln8o.kvgmc6g5.cxmmr5t8.oygrvhab.hcukyx3x.jb3vyjys.rz4wbd8a.qt6c0cv9.a8nywdso.i1ao9s8h.esuyzwwr.f1sip0of.lzcic4wl.gpro0wi8.oo9gr5id.lrazzd5p')\n",
    "len(more_view_of_reply)"
   ]
  },
  {
   "cell_type": "code",
   "execution_count": null,
   "metadata": {},
   "outputs": [],
   "source": [
    "for one in more_view_of_reply:\n",
    "    try:\n",
    "        one.click()\n",
    "        driver.implicitly_wait(1)\n",
    "        time.sleep( random.uniform(0.5, 1) )\n",
    "    except:\n",
    "        pass"
   ]
  },
  {
   "cell_type": "markdown",
   "metadata": {},
   "source": [
    "### 댓글의 댓글 보기 클릭"
   ]
  },
  {
   "cell_type": "code",
   "execution_count": null,
   "metadata": {},
   "outputs": [
    {
     "name": "stderr",
     "output_type": "stream",
     "text": [
      "C:\\Users\\kbjung\\AppData\\Local\\Temp/ipykernel_19908/487263384.py:1: DeprecationWarning: find_elements_by_css_selector is deprecated. Please use find_elements(by=By.CSS_SELECTOR, value=css_selector) instead\n",
      "  re_reply_button = driver.find_elements_by_css_selector('span.j83agx80.fv0vnmcu.hpfvmrgz > span')\n"
     ]
    },
    {
     "data": {
      "text/plain": [
       "12"
      ]
     },
     "execution_count": 16,
     "metadata": {},
     "output_type": "execute_result"
    }
   ],
   "source": [
    "re_reply_button = driver.find_elements_by_css_selector('span.j83agx80.fv0vnmcu.hpfvmrgz > span')\n",
    "len(re_reply_button)"
   ]
  },
  {
   "cell_type": "code",
   "execution_count": null,
   "metadata": {},
   "outputs": [],
   "source": [
    "for one in re_reply_button:\n",
    "    try:\n",
    "        one.click()\n",
    "        driver.implicitly_wait(1)\n",
    "        time.sleep( random.uniform(0.5, 1) )\n",
    "    except:\n",
    "        pass"
   ]
  },
  {
   "cell_type": "markdown",
   "metadata": {},
   "source": [
    "## 글 내용 수집"
   ]
  },
  {
   "cell_type": "code",
   "execution_count": null,
   "metadata": {},
   "outputs": [
    {
     "data": {
      "text/plain": [
       "329"
      ]
     },
     "execution_count": 85,
     "metadata": {},
     "output_type": "execute_result"
    }
   ],
   "source": [
    "soup = bs(driver.page_source, 'lxml')\n",
    "div_soup = soup.find_all('div', 'rj1gh0hx buofh1pr ni8dbmo4 stjgntxs hv4rvrfc')\n",
    "len(div_soup)"
   ]
  },
  {
   "cell_type": "code",
   "execution_count": null,
   "metadata": {},
   "outputs": [],
   "source": [
    "date_list = []\n",
    "is_reply_list = []\n",
    "writer_list = []\n",
    "text_list = []\n",
    "added_url_list = []\n",
    "url_in_text_list = []\n",
    "is_like_list = []\n",
    "num_like_list = []\n",
    "tag_info_list = []\n",
    "num_tag_list = []\n",
    "writer_link_list = []\n",
    "reply_url_list = []"
   ]
  },
  {
   "cell_type": "code",
   "execution_count": null,
   "metadata": {},
   "outputs": [],
   "source": [
    "for one in div_soup:\n",
    "    # 댓글 날짜\n",
    "    date = one.find('ul', 'o22cckgh q9uorilb bo9p93cb oygrvhab kkf49tns l66bhrea linoseic').find_all('li')[-1].find('span').text\n",
    "\n",
    "    # 댓글 여부 확인\n",
    "    parent_class = ' '.join(one.parent.parent['class'])\n",
    "    if parent_class == 'ni8dbmo4 stjgntxs l9j0dhe7':\n",
    "        is_reply = nan\n",
    "    elif parent_class == 'ni8dbmo4 stjgntxs l9j0dhe7 d0szoon8':\n",
    "        is_reply = '댓글'\n",
    "\n",
    "    # 작성자\n",
    "    writer = one.find('span', 'pq6dq46d').text\n",
    "\n",
    "    # 글 내용\n",
    "    try:\n",
    "        text = one.find('div', 'kvgmc6g5 cxmmr5t8 oygrvhab hcukyx3x c1et5uql').text\n",
    "    except:\n",
    "        text = '내용없음'\n",
    "    # 태그 내용\n",
    "    try:\n",
    "        tag_text = one.find('div', 'cxmmr5t8 oygrvhab hcukyx3x c1et5uql o9v6fnle').text\n",
    "    except:\n",
    "        tag_text = '태그없음'\n",
    "    # 글 내용 + 태그 내용\n",
    "    text_plus_tag = text + '_' + tag_text\n",
    "\n",
    "    # 첨부\n",
    "    try:\n",
    "        added_url = one.find('a', 'oajrlxb2 g5ia77u1 qu0x051f esr5mh6w e9989ue4 r7d6kgcz rq0escxv nhd2j8a9 nc684nl6 p7hjln8o kvgmc6g5 cxmmr5t8 oygrvhab hcukyx3x jb3vyjys rz4wbd8a qt6c0cv9 a8nywdso i1ao9s8h esuyzwwr f1sip0of lzcic4wl').find('img')['src']\n",
    "    except:\n",
    "        added_url = nan\n",
    "    \n",
    "    # 댓글 내 url\n",
    "    try:\n",
    "        url_in_texts = one.find_all('a', 'oajrlxb2 g5ia77u1 qu0x051f esr5mh6w e9989ue4 r7d6kgcz rq0escxv nhd2j8a9 nc684nl6 p7hjln8o kvgmc6g5 cxmmr5t8 oygrvhab hcukyx3x jb3vyjys rz4wbd8a qt6c0cv9 a8nywdso i1ao9s8h esuyzwwr f1sip0of lzcic4wl gpro0wi8 oo9gr5id lrazzd5p')\n",
    "        for one_url in url_in_texts:\n",
    "            if 'story' in one_url.text:\n",
    "                url_in_text = one_url.text\n",
    "    except:\n",
    "        url_in_text = nan\n",
    "\n",
    "\n",
    "    # 댓글 링크\n",
    "    try:\n",
    "        reply_url = one.find('ul', 'o22cckgh q9uorilb bo9p93cb oygrvhab kkf49tns l66bhrea linoseic').find_all('li')[3].a['href'].split('&')[0]\n",
    "    except:\n",
    "        reply_url = one.find('ul', 'o22cckgh q9uorilb bo9p93cb oygrvhab kkf49tns l66bhrea linoseic').find_all('li')[4].a['href'].split('__')[0]\n",
    "\n",
    "    # 좋아요 표시\n",
    "    try:\n",
    "        one.find('div', 'du4w35lb pmk7jnqg lthxh50u ox23h4wi kr9hpln1').find('div', 'oajrlxb2 g5ia77u1 qu0x051f esr5mh6w e9989ue4 r7d6kgcz rq0escxv nhd2j8a9 nc684nl6 p7hjln8o kvgmc6g5 cxmmr5t8 oygrvhab hcukyx3x jb3vyjys rz4wbd8a qt6c0cv9 a8nywdso i1ao9s8h esuyzwwr f1sip0of n00je7tq arfg74bv qs9ysxi8 k77z8yql l9j0dhe7 abiwlrkh p8dawk7l lzcic4wl')['aria-label']\n",
    "        is_like = 'LIKE'\n",
    "    except:\n",
    "        is_like = nan\n",
    "\n",
    "    # 좋아요 개수\n",
    "    try:\n",
    "        num_like = int(one.find('div', 'du4w35lb pmk7jnqg lthxh50u ox23h4wi kr9hpln1').find('div', 'oajrlxb2 g5ia77u1 qu0x051f esr5mh6w e9989ue4 r7d6kgcz rq0escxv nhd2j8a9 nc684nl6 p7hjln8o kvgmc6g5 cxmmr5t8 oygrvhab hcukyx3x jb3vyjys rz4wbd8a qt6c0cv9 a8nywdso i1ao9s8h esuyzwwr f1sip0of n00je7tq arfg74bv qs9ysxi8 k77z8yql l9j0dhe7 abiwlrkh p8dawk7l lzcic4wl')['aria-label'].split('개')[0].split(' ')[-1])\n",
    "    except:\n",
    "        num_like = 0\n",
    "\n",
    "    # 태그정보 & 태그 개수\n",
    "    tags = one.find_all('a', 'oajrlxb2 g5ia77u1 qu0x051f esr5mh6w e9989ue4 r7d6kgcz rq0escxv nhd2j8a9 nc684nl6 p7hjln8o kvgmc6g5 cxmmr5t8 oygrvhab hcukyx3x jb3vyjys rz4wbd8a qt6c0cv9 a8nywdso i1ao9s8h esuyzwwr f1sip0of lzcic4wl gpro0wi8 oo9gr5id lrazzd5p')\n",
    "    if len(tags) == 0:\n",
    "        tag_info = nan\n",
    "        num_tag = 0\n",
    "    else:\n",
    "        tag_info = ''\n",
    "        for one_tag in tags:\n",
    "            tag_info = tag_info + one_tag.text + '\\n'\n",
    "        tag_info = tag_info.rstrip()\n",
    "        num_tag = len(tags)\n",
    "    \n",
    "    # 작성자 바로가기\n",
    "    writer_link = one.find('a', 'oajrlxb2 g5ia77u1 qu0x051f esr5mh6w e9989ue4 r7d6kgcz rq0escxv nhd2j8a9 nc684nl6 p7hjln8o kvgmc6g5 cxmmr5t8 oygrvhab hcukyx3x jb3vyjys rz4wbd8a qt6c0cv9 a8nywdso i1ao9s8h esuyzwwr f1sip0of lzcic4wl gmql0nx0 gpro0wi8')['href']\n",
    "\n",
    "    date_list.append(date)\n",
    "    is_reply_list.append(is_reply)\n",
    "    writer_list.append(writer)\n",
    "    text_list.append(text_plus_tag)\n",
    "    added_url_list.append(added_url)\n",
    "    url_in_text_list.append(url_in_text)\n",
    "    is_like_list.append(is_like)\n",
    "    num_like_list.append(num_like)\n",
    "    tag_info_list.append(tag_info)\n",
    "    num_tag_list.append(num_tag)\n",
    "    writer_link_list.append(writer_link)\n",
    "    reply_url_list.append(reply_url)"
   ]
  },
  {
   "cell_type": "markdown",
   "metadata": {},
   "source": [
    "### 수집 데이터 확인"
   ]
  },
  {
   "cell_type": "code",
   "execution_count": null,
   "metadata": {},
   "outputs": [
    {
     "name": "stdout",
     "output_type": "stream",
     "text": [
      "329\n",
      "329\n",
      "329\n",
      "329\n",
      "329\n",
      "329\n",
      "329\n",
      "329\n",
      "329\n",
      "329\n",
      "329\n",
      "329\n"
     ]
    }
   ],
   "source": [
    "print( len(date_list) )\n",
    "print( len(is_reply_list) )\n",
    "print( len(writer_list) )\n",
    "print( len(text_list) )\n",
    "print( len(added_url_list) )\n",
    "print( len(url_in_text_list) )\n",
    "print( len(is_like_list) )\n",
    "print( len(num_like_list) )\n",
    "print( len(tag_info_list) )\n",
    "print( len(num_tag_list) )\n",
    "print( len(writer_link_list) )\n",
    "print( len(reply_url_list) )"
   ]
  },
  {
   "cell_type": "markdown",
   "metadata": {},
   "source": [
    "## df 생성"
   ]
  },
  {
   "cell_type": "code",
   "execution_count": null,
   "metadata": {},
   "outputs": [],
   "source": [
    "dict= {'날짜':date_list, '답글여부':is_reply_list, '작성자':writer_list,\n",
    "       '내용':text_list, '첨부':added_url_list, '댓글내URL':url_in_text_list,\n",
    "       '글에좋아요':is_like_list, '좋아요수':num_like_list, '태그정보':tag_info_list,\n",
    "       '태그수':num_tag_list, '작성자_바로가기':writer_link_list, '댓글_바로가기':reply_url_list}"
   ]
  },
  {
   "cell_type": "code",
   "execution_count": null,
   "metadata": {},
   "outputs": [],
   "source": [
    "df = pd.DataFrame(dict)"
   ]
  },
  {
   "cell_type": "code",
   "execution_count": null,
   "metadata": {},
   "outputs": [
    {
     "name": "stdout",
     "output_type": "stream",
     "text": [
      "<class 'pandas.core.frame.DataFrame'>\n",
      "RangeIndex: 329 entries, 0 to 328\n",
      "Data columns (total 12 columns):\n",
      " #   Column    Non-Null Count  Dtype \n",
      "---  ------    --------------  ----- \n",
      " 0   날짜        329 non-null    object\n",
      " 1   답글여부      15 non-null     object\n",
      " 2   작성자       329 non-null    object\n",
      " 3   내용        329 non-null    object\n",
      " 4   첨부        14 non-null     object\n",
      " 5   댓글내URL    167 non-null    object\n",
      " 6   글에좋아요     115 non-null    object\n",
      " 7   좋아요수      329 non-null    int64 \n",
      " 8   태그정보      260 non-null    object\n",
      " 9   태그수       329 non-null    int64 \n",
      " 10  작성자_바로가기  329 non-null    object\n",
      " 11  댓글_바로가기   329 non-null    object\n",
      "dtypes: int64(2), object(10)\n",
      "memory usage: 31.0+ KB\n"
     ]
    }
   ],
   "source": [
    "df.info()"
   ]
  },
  {
   "cell_type": "code",
   "execution_count": null,
   "metadata": {},
   "outputs": [
    {
     "data": {
      "text/html": [
       "<div>\n",
       "<style scoped>\n",
       "    .dataframe tbody tr th:only-of-type {\n",
       "        vertical-align: middle;\n",
       "    }\n",
       "\n",
       "    .dataframe tbody tr th {\n",
       "        vertical-align: top;\n",
       "    }\n",
       "\n",
       "    .dataframe thead th {\n",
       "        text-align: right;\n",
       "    }\n",
       "</style>\n",
       "<table border=\"1\" class=\"dataframe\">\n",
       "  <thead>\n",
       "    <tr style=\"text-align: right;\">\n",
       "      <th></th>\n",
       "      <th>날짜</th>\n",
       "      <th>답글여부</th>\n",
       "      <th>작성자</th>\n",
       "      <th>내용</th>\n",
       "      <th>첨부</th>\n",
       "      <th>댓글내URL</th>\n",
       "      <th>글에좋아요</th>\n",
       "      <th>좋아요수</th>\n",
       "      <th>태그정보</th>\n",
       "      <th>태그수</th>\n",
       "      <th>작성자_바로가기</th>\n",
       "      <th>댓글_바로가기</th>\n",
       "    </tr>\n",
       "  </thead>\n",
       "  <tbody>\n",
       "    <tr>\n",
       "      <th>0</th>\n",
       "      <td>1주</td>\n",
       "      <td>NaN</td>\n",
       "      <td>복지영</td>\n",
       "      <td>정답 = 인천광역시 점자문화 진흥에 관한 조례 입니다_진미주 윤진서 진모양 주하진 ...</td>\n",
       "      <td>NaN</td>\n",
       "      <td>NaN</td>\n",
       "      <td>LIKE</td>\n",
       "      <td>3</td>\n",
       "      <td>진미주\\n윤진서\\n진모양\\n주하진\\n진홍섭\\n이가수지</td>\n",
       "      <td>6</td>\n",
       "      <td>https://www.facebook.com/BHABHH?comment_id=Y29...</td>\n",
       "      <td>https://www.facebook.com/incheoncouncil/posts/...</td>\n",
       "    </tr>\n",
       "    <tr>\n",
       "      <th>1</th>\n",
       "      <td>1주</td>\n",
       "      <td>댓글</td>\n",
       "      <td>이가수지</td>\n",
       "      <td>내용없음_태그없음</td>\n",
       "      <td>NaN</td>\n",
       "      <td>NaN</td>\n",
       "      <td>NaN</td>\n",
       "      <td>0</td>\n",
       "      <td>NaN</td>\n",
       "      <td>0</td>\n",
       "      <td>https://www.facebook.com/coffee3271?comment_id...</td>\n",
       "      <td>https://www.facebook.com/incheoncouncil/posts/...</td>\n",
       "    </tr>\n",
       "    <tr>\n",
       "      <th>2</th>\n",
       "      <td>1주</td>\n",
       "      <td>NaN</td>\n",
       "      <td>이청훈</td>\n",
       "      <td>정답: 인천광역시 점자문화 진흥에 관한 조례_인천광역시의회</td>\n",
       "      <td>NaN</td>\n",
       "      <td>NaN</td>\n",
       "      <td>LIKE</td>\n",
       "      <td>1</td>\n",
       "      <td>인천광역시의회\\n김종옥\\n허영아\\nHj Kim\\n차우경\\n이미란\\n임미지</td>\n",
       "      <td>7</td>\n",
       "      <td>https://www.facebook.com/cjdgnsdhkd?comment_id...</td>\n",
       "      <td>https://www.facebook.com/incheoncouncil/posts/...</td>\n",
       "    </tr>\n",
       "    <tr>\n",
       "      <th>3</th>\n",
       "      <td>1주</td>\n",
       "      <td>NaN</td>\n",
       "      <td>이동국</td>\n",
       "      <td>정답: 인천광역시 점자문화 진흥에 관한 조례 힘차게 응원합니다.페이스북을 통해서 자...</td>\n",
       "      <td>NaN</td>\n",
       "      <td>NaN</td>\n",
       "      <td>NaN</td>\n",
       "      <td>0</td>\n",
       "      <td>오윤정</td>\n",
       "      <td>1</td>\n",
       "      <td>https://www.facebook.com/xx1942?comment_id=Y29...</td>\n",
       "      <td>https://www.facebook.com/incheoncouncil/posts/...</td>\n",
       "    </tr>\n",
       "    <tr>\n",
       "      <th>4</th>\n",
       "      <td>1주</td>\n",
       "      <td>NaN</td>\n",
       "      <td>강혜진</td>\n",
       "      <td>정답: 인천광역시 점자문화 진흥에 관한 조례 김선희_태그없음</td>\n",
       "      <td>NaN</td>\n",
       "      <td>NaN</td>\n",
       "      <td>NaN</td>\n",
       "      <td>0</td>\n",
       "      <td>김선희</td>\n",
       "      <td>1</td>\n",
       "      <td>https://www.facebook.com/profile.php?id=100004...</td>\n",
       "      <td>https://www.facebook.com/incheoncouncil/posts/...</td>\n",
       "    </tr>\n",
       "  </tbody>\n",
       "</table>\n",
       "</div>"
      ],
      "text/plain": [
       "   날짜 답글여부   작성자                                                 내용   첨부  \\\n",
       "0  1주  NaN   복지영  정답 = 인천광역시 점자문화 진흥에 관한 조례 입니다_진미주 윤진서 진모양 주하진 ...  NaN   \n",
       "1  1주   댓글  이가수지                                          내용없음_태그없음  NaN   \n",
       "2  1주  NaN   이청훈                   정답: 인천광역시 점자문화 진흥에 관한 조례_인천광역시의회  NaN   \n",
       "3  1주  NaN   이동국  정답: 인천광역시 점자문화 진흥에 관한 조례 힘차게 응원합니다.페이스북을 통해서 자...  NaN   \n",
       "4  1주  NaN   강혜진                  정답: 인천광역시 점자문화 진흥에 관한 조례 김선희_태그없음  NaN   \n",
       "\n",
       "  댓글내URL 글에좋아요  좋아요수                                      태그정보  태그수  \\\n",
       "0    NaN  LIKE     3             진미주\\n윤진서\\n진모양\\n주하진\\n진홍섭\\n이가수지    6   \n",
       "1    NaN   NaN     0                                       NaN    0   \n",
       "2    NaN  LIKE     1  인천광역시의회\\n김종옥\\n허영아\\nHj Kim\\n차우경\\n이미란\\n임미지    7   \n",
       "3    NaN   NaN     0                                       오윤정    1   \n",
       "4    NaN   NaN     0                                       김선희    1   \n",
       "\n",
       "                                            작성자_바로가기  \\\n",
       "0  https://www.facebook.com/BHABHH?comment_id=Y29...   \n",
       "1  https://www.facebook.com/coffee3271?comment_id...   \n",
       "2  https://www.facebook.com/cjdgnsdhkd?comment_id...   \n",
       "3  https://www.facebook.com/xx1942?comment_id=Y29...   \n",
       "4  https://www.facebook.com/profile.php?id=100004...   \n",
       "\n",
       "                                             댓글_바로가기  \n",
       "0  https://www.facebook.com/incheoncouncil/posts/...  \n",
       "1  https://www.facebook.com/incheoncouncil/posts/...  \n",
       "2  https://www.facebook.com/incheoncouncil/posts/...  \n",
       "3  https://www.facebook.com/incheoncouncil/posts/...  \n",
       "4  https://www.facebook.com/incheoncouncil/posts/...  "
      ]
     },
     "execution_count": 146,
     "metadata": {},
     "output_type": "execute_result"
    }
   ],
   "source": [
    "df.head()"
   ]
  },
  {
   "cell_type": "markdown",
   "metadata": {},
   "source": [
    "### df 정리"
   ]
  },
  {
   "cell_type": "code",
   "execution_count": null,
   "metadata": {},
   "outputs": [
    {
     "name": "stdout",
     "output_type": "stream",
     "text": [
      "<class 'pandas.core.frame.DataFrame'>\n",
      "Int64Index: 13 entries, 1 to 250\n",
      "Data columns (total 12 columns):\n",
      " #   Column    Non-Null Count  Dtype \n",
      "---  ------    --------------  ----- \n",
      " 0   날짜        13 non-null     object\n",
      " 1   답글여부      13 non-null     object\n",
      " 2   작성자       13 non-null     object\n",
      " 3   내용        13 non-null     object\n",
      " 4   첨부        0 non-null      object\n",
      " 5   댓글내URL    2 non-null      object\n",
      " 6   글에좋아요     0 non-null      object\n",
      " 7   좋아요수      13 non-null     int64 \n",
      " 8   태그정보      0 non-null      object\n",
      " 9   태그수       13 non-null     int64 \n",
      " 10  작성자_바로가기  13 non-null     object\n",
      " 11  댓글_바로가기   13 non-null     object\n",
      "dtypes: int64(2), object(10)\n",
      "memory usage: 1.3+ KB\n"
     ]
    }
   ],
   "source": [
    "df[df['내용'] == '내용없음_태그없음'].info()"
   ]
  },
  {
   "cell_type": "code",
   "execution_count": null,
   "metadata": {},
   "outputs": [],
   "source": [
    "df2 = df.drop(df[df['내용'] == '내용없음_태그없음'].index).reset_index(drop=True)"
   ]
  },
  {
   "cell_type": "code",
   "execution_count": null,
   "metadata": {},
   "outputs": [
    {
     "name": "stdout",
     "output_type": "stream",
     "text": [
      "<class 'pandas.core.frame.DataFrame'>\n",
      "RangeIndex: 316 entries, 0 to 315\n",
      "Data columns (total 12 columns):\n",
      " #   Column    Non-Null Count  Dtype \n",
      "---  ------    --------------  ----- \n",
      " 0   날짜        316 non-null    object\n",
      " 1   답글여부      2 non-null      object\n",
      " 2   작성자       316 non-null    object\n",
      " 3   내용        316 non-null    object\n",
      " 4   첨부        14 non-null     object\n",
      " 5   댓글내URL    165 non-null    object\n",
      " 6   글에좋아요     115 non-null    object\n",
      " 7   좋아요수      316 non-null    int64 \n",
      " 8   태그정보      260 non-null    object\n",
      " 9   태그수       316 non-null    int64 \n",
      " 10  작성자_바로가기  316 non-null    object\n",
      " 11  댓글_바로가기   316 non-null    object\n",
      "dtypes: int64(2), object(10)\n",
      "memory usage: 29.8+ KB\n"
     ]
    }
   ],
   "source": [
    "df2.info()"
   ]
  },
  {
   "cell_type": "code",
   "execution_count": null,
   "metadata": {},
   "outputs": [
    {
     "data": {
      "text/plain": [
       "4                정답: 인천광역시 점자문화 진흥에 관한 조례_태그없음\n",
       "5    정답: 인천광역시 점자문화 진흥에 관한 조례_이지향 박미현 곽지혜 냠냠공주\n",
       "Name: 내용, dtype: object"
      ]
     },
     "execution_count": 158,
     "metadata": {},
     "output_type": "execute_result"
    }
   ],
   "source": [
    "df2['내용'][4:6]"
   ]
  },
  {
   "cell_type": "code",
   "execution_count": null,
   "metadata": {},
   "outputs": [],
   "source": [
    "df3 = df2.copy()"
   ]
  },
  {
   "cell_type": "code",
   "execution_count": null,
   "metadata": {},
   "outputs": [],
   "source": [
    "df3['내용'] = df3['내용'].str.replace('_태그없음', '')"
   ]
  },
  {
   "cell_type": "code",
   "execution_count": null,
   "metadata": {},
   "outputs": [
    {
     "data": {
      "text/plain": [
       "4                     정답: 인천광역시 점자문화 진흥에 관한 조례\n",
       "5    정답: 인천광역시 점자문화 진흥에 관한 조례_이지향 박미현 곽지혜 냠냠공주\n",
       "Name: 내용, dtype: object"
      ]
     },
     "execution_count": 161,
     "metadata": {},
     "output_type": "execute_result"
    }
   ],
   "source": [
    "df3['내용'][4:6]"
   ]
  },
  {
   "cell_type": "markdown",
   "metadata": {},
   "source": [
    "### 최종 df 생성"
   ]
  },
  {
   "cell_type": "code",
   "execution_count": null,
   "metadata": {},
   "outputs": [],
   "source": [
    "final_df = df3.copy()"
   ]
  },
  {
   "cell_type": "markdown",
   "metadata": {},
   "source": [
    "## 파일 생성"
   ]
  },
  {
   "cell_type": "code",
   "execution_count": null,
   "metadata": {},
   "outputs": [
    {
     "data": {
      "text/plain": [
       "'20220419_135005'"
      ]
     },
     "execution_count": 163,
     "metadata": {},
     "output_type": "execute_result"
    }
   ],
   "source": [
    "today_date = datetime.today().strftime('%Y%m%d_%H%M%S')\n",
    "today_date"
   ]
  },
  {
   "cell_type": "code",
   "execution_count": null,
   "metadata": {},
   "outputs": [
    {
     "name": "stdout",
     "output_type": "stream",
     "text": [
      "facebook_20220419_135005.xlsx 출력완료\n"
     ]
    }
   ],
   "source": [
    "today_date = datetime.today().strftime('%Y%m%d_%H%M%S')\n",
    "file_name = f'facebook_{today_date}.xlsx'\n",
    "final_df.to_excel(crawled_folder_path + '/' + file_name, index=False, encoding='utf-8')\n",
    "print(f'{file_name} 출력완료')"
   ]
  },
  {
   "cell_type": "markdown",
   "metadata": {},
   "source": [
    "# 코드 마지막"
   ]
  }
 ],
 "metadata": {
  "interpreter": {
   "hash": "b3ba2566441a7c06988d0923437866b63cedc61552a5af99d1f4fb67d367b25f"
  },
  "kernelspec": {
   "display_name": "Python 3.9.7 ('base')",
   "language": "python",
   "name": "python3"
  },
  "language_info": {
   "codemirror_mode": {
    "name": "ipython",
    "version": 3
   },
   "file_extension": ".py",
   "mimetype": "text/x-python",
   "name": "python",
   "nbconvert_exporter": "python",
   "pygments_lexer": "ipython3",
   "version": "3.9.7"
  },
  "orig_nbformat": 4
 },
 "nbformat": 4,
 "nbformat_minor": 2
}
