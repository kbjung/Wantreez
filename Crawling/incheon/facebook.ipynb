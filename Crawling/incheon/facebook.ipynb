{
 "cells": [
  {
   "cell_type": "markdown",
   "metadata": {},
   "source": [
    "# Facebook 스트래핑"
   ]
  },
  {
   "cell_type": "markdown",
   "metadata": {},
   "source": [
    "## 라이브러리"
   ]
  },
  {
   "cell_type": "code",
   "execution_count": 1,
   "metadata": {},
   "outputs": [],
   "source": [
    "import pandas as pd\n",
    "import time, os, random\n",
    "from datetime import datetime\n",
    "from numpy import nan\n",
    "from bs4 import BeautifulSoup as bs\n",
    "from selenium import webdriver\n",
    "import chromedriver_autoinstaller as ca\n",
    "import getpass"
   ]
  },
  {
   "cell_type": "markdown",
   "metadata": {},
   "source": [
    "## 준비"
   ]
  },
  {
   "cell_type": "markdown",
   "metadata": {},
   "source": [
    "### 현재 파일 위치 확인"
   ]
  },
  {
   "cell_type": "code",
   "execution_count": 2,
   "metadata": {},
   "outputs": [
    {
     "data": {
      "text/plain": [
       "'c:/data/Wantreez/Crawling/incheon'"
      ]
     },
     "execution_count": 2,
     "metadata": {},
     "output_type": "execute_result"
    }
   ],
   "source": [
    "# 현재 파일 위치 확인\n",
    "code_path = os.getcwd().replace('\\\\', '/')\n",
    "code_path"
   ]
  },
  {
   "cell_type": "markdown",
   "metadata": {},
   "source": [
    "### 파일 저장 폴더 생성"
   ]
  },
  {
   "cell_type": "code",
   "execution_count": 3,
   "metadata": {},
   "outputs": [],
   "source": [
    "# 수집한 파일을 저장할 폴더 생성\n",
    "crawled_folder_path = code_path + '/crawled_data/facebook'\n",
    "os.makedirs(crawled_folder_path, exist_ok=True)"
   ]
  },
  {
   "cell_type": "markdown",
   "metadata": {},
   "source": [
    "### 드라이버 확인 및 설치"
   ]
  },
  {
   "cell_type": "code",
   "execution_count": 4,
   "metadata": {},
   "outputs": [
    {
     "data": {
      "text/plain": [
       "'100'"
      ]
     },
     "execution_count": 4,
     "metadata": {},
     "output_type": "execute_result"
    }
   ],
   "source": [
    "# 크롬 드라이버 버전 확인\n",
    "chrome_ver = ca.get_chrome_version().split('.')[0]\n",
    "chrome_ver"
   ]
  },
  {
   "cell_type": "code",
   "execution_count": 5,
   "metadata": {},
   "outputs": [
    {
     "name": "stderr",
     "output_type": "stream",
     "text": [
      "C:\\Users\\kbjung\\AppData\\Local\\Temp/ipykernel_3708/3261653714.py:3: DeprecationWarning: executable_path has been deprecated, please pass in a Service object\n",
      "  driver = webdriver.Chrome(code_path + f'/{chrome_ver}/' + 'chromedriver.exe')\n"
     ]
    }
   ],
   "source": [
    "# 크롬 드라이버 설치 확인\n",
    "try:\n",
    "    driver = webdriver.Chrome(code_path + f'/{chrome_ver}/' + 'chromedriver.exe')\n",
    "except:\n",
    "    ca.install(True)\n",
    "    driver = webdriver.Chrome(code_path + f'/{chrome_ver}/' + 'chromedriver.exe')"
   ]
  },
  {
   "cell_type": "markdown",
   "metadata": {},
   "source": [
    "### 페이지 접속"
   ]
  },
  {
   "cell_type": "code",
   "execution_count": 6,
   "metadata": {},
   "outputs": [],
   "source": [
    "url = 'https://www.facebook.com/2244035899203435/posts/3196801440593538/'\n",
    "driver.get(url)\n",
    "driver.implicitly_wait(3)\n",
    "driver.maximize_window()"
   ]
  },
  {
   "cell_type": "markdown",
   "metadata": {},
   "source": [
    "#### 로그인"
   ]
  },
  {
   "cell_type": "code",
   "execution_count": 7,
   "metadata": {},
   "outputs": [],
   "source": [
    "id = input('id를 입력하세요')\n",
    "pw = getpass.getpass('비밀번호를 입력하세요')"
   ]
  },
  {
   "cell_type": "code",
   "execution_count": 8,
   "metadata": {},
   "outputs": [
    {
     "name": "stderr",
     "output_type": "stream",
     "text": [
      "C:\\Users\\kbjung\\AppData\\Local\\Temp/ipykernel_3708/1636980163.py:1: DeprecationWarning: find_element_by_xpath is deprecated. Please use find_element(by=By.XPATH, value=xpath) instead\n",
      "  login_box = driver.find_element_by_xpath('//*[@id=\"email\"]')\n",
      "C:\\Users\\kbjung\\AppData\\Local\\Temp/ipykernel_3708/1636980163.py:2: DeprecationWarning: find_element_by_xpath is deprecated. Please use find_element(by=By.XPATH, value=xpath) instead\n",
      "  pw_box = driver.find_element_by_xpath('//*[@id=\"pass\"]')\n",
      "C:\\Users\\kbjung\\AppData\\Local\\Temp/ipykernel_3708/1636980163.py:4: DeprecationWarning: find_element_by_xpath is deprecated. Please use find_element(by=By.XPATH, value=xpath) instead\n",
      "  login_button = driver.find_element_by_xpath('//*[@id=\"loginbutton\"]')\n"
     ]
    }
   ],
   "source": [
    "login_box = driver.find_element_by_xpath('//*[@id=\"email\"]')\n",
    "pw_box = driver.find_element_by_xpath('//*[@id=\"pass\"]')\n",
    "try:\n",
    "    login_button = driver.find_element_by_xpath('//*[@id=\"loginbutton\"]')\n",
    "except:\n",
    "    login_button = driver.find_element_by_xpath('/html/body/div[1]/div[2]/div/div/div[1]/div/div[2]/form/table/tbody/tr[2]/td[3]/label/input')\n",
    "\n",
    "\n",
    "login_box.send_keys(id)\n",
    "time.sleep(0.5)\n",
    "pw_box.send_keys(pw)\n",
    "time.sleep(0.5)\n",
    "login_button.click()\n",
    "driver.implicitly_wait(3)\n",
    "time.sleep( random.uniform(0.5, 1))"
   ]
  },
  {
   "cell_type": "markdown",
   "metadata": {},
   "source": [
    "#### 최신 댓글 순으로 보이기 버튼 클릭"
   ]
  },
  {
   "cell_type": "code",
   "execution_count": 9,
   "metadata": {},
   "outputs": [
    {
     "name": "stderr",
     "output_type": "stream",
     "text": [
      "C:\\Users\\kbjung\\AppData\\Local\\Temp/ipykernel_3708/556030466.py:1: DeprecationWarning: find_element_by_xpath is deprecated. Please use find_element(by=By.XPATH, value=xpath) instead\n",
      "  reply_sort_button = driver.find_element_by_xpath('/html/body/div[1]/div/div[1]/div/div[3]/div/div/div[1]/div[1]/div[4]/div[1]/div/div/div/div/div/div/div/div/div/div[1]/div/div[2]/div/div[5]/div/div/div[2]/div[2]/div/div/div/span').click()\n"
     ]
    }
   ],
   "source": [
    "reply_sort_button = driver.find_element_by_xpath('/html/body/div[1]/div/div[1]/div/div[3]/div/div/div[1]/div[1]/div[4]/div[1]/div/div/div/div/div/div/div/div/div/div[1]/div/div[2]/div/div[5]/div/div/div[2]/div[2]/div/div/div/span').click()\n",
    "time.sleep( random.uniform(0.5, 1) )"
   ]
  },
  {
   "cell_type": "code",
   "execution_count": 10,
   "metadata": {},
   "outputs": [
    {
     "name": "stderr",
     "output_type": "stream",
     "text": [
      "C:\\Users\\kbjung\\AppData\\Local\\Temp/ipykernel_3708/3884383911.py:1: DeprecationWarning: find_element_by_xpath is deprecated. Please use find_element(by=By.XPATH, value=xpath) instead\n",
      "  ascending_button = driver.find_element_by_xpath('/html/body/div[1]/div/div[1]/div/div[3]/div/div/div[2]/div/div/div[1]/div[1]/div/div/div[1]/div/div/div/div[1]/div/div[3]/div[1]/div/div[1]/span').click()\n"
     ]
    }
   ],
   "source": [
    "ascending_button = driver.find_element_by_xpath('/html/body/div[1]/div/div[1]/div/div[3]/div/div/div[2]/div/div/div[1]/div[1]/div/div/div[1]/div/div/div/div[1]/div/div[3]/div[1]/div/div[1]/span').click()\n",
    "time.sleep( random.uniform(0.5, 1) )"
   ]
  },
  {
   "cell_type": "markdown",
   "metadata": {},
   "source": [
    "#### 페이지 더보기 버튼 클릭"
   ]
  },
  {
   "cell_type": "code",
   "execution_count": 11,
   "metadata": {},
   "outputs": [
    {
     "name": "stderr",
     "output_type": "stream",
     "text": [
      "C:\\Users\\kbjung\\AppData\\Local\\Temp/ipykernel_3708/699029154.py:4: DeprecationWarning: find_element_by_xpath is deprecated. Please use find_element(by=By.XPATH, value=xpath) instead\n",
      "  more_view_button = driver.find_element_by_xpath('/html/body/div[1]/div/div[1]/div/div[3]/div/div/div[1]/div[1]/div[4]/div[1]/div/div/div/div/div/div/div/div/div/div/div/div[2]/div/div[5]/div/div/div[2]/div[4]/div[1]/div[2]/span/span')\n"
     ]
    }
   ],
   "source": [
    "count = 0\n",
    "while True:\n",
    "    try:\n",
    "        more_view_button = driver.find_element_by_xpath('/html/body/div[1]/div/div[1]/div/div[3]/div/div/div[1]/div[1]/div[4]/div[1]/div/div/div/div/div/div/div/div/div/div/div/div[2]/div/div[5]/div/div/div[2]/div[4]/div[1]/div[2]/span/span')\n",
    "        more_view_button.click()\n",
    "        driver.implicitly_wait(3)\n",
    "        time.sleep( random.uniform(1, 1.5) )\n",
    "    except:\n",
    "        break\n",
    "    count += 1"
   ]
  },
  {
   "cell_type": "code",
   "execution_count": 12,
   "metadata": {},
   "outputs": [
    {
     "name": "stdout",
     "output_type": "stream",
     "text": [
      "댓글 더보기 클릭 횟수 : 7\n"
     ]
    }
   ],
   "source": [
    "print('댓글 더보기 클릭 횟수 :', count)"
   ]
  },
  {
   "cell_type": "markdown",
   "metadata": {},
   "source": [
    "#### 페이지 스크롤"
   ]
  },
  {
   "cell_type": "code",
   "execution_count": 13,
   "metadata": {},
   "outputs": [],
   "source": [
    "# # 페이지 스크롤 다운\n",
    "# for i in range(1):\n",
    "#     driver.execute_script(\"window.scrollTo(0, document.body.scrollHeight);\")\n",
    "#     time.sleep( random.uniform(1,2) )"
   ]
  },
  {
   "cell_type": "markdown",
   "metadata": {},
   "source": [
    "#### 모든 \"더 보기\" 버튼 클릭"
   ]
  },
  {
   "cell_type": "code",
   "execution_count": 14,
   "metadata": {},
   "outputs": [
    {
     "name": "stderr",
     "output_type": "stream",
     "text": [
      "C:\\Users\\kbjung\\AppData\\Local\\Temp/ipykernel_3708/1113744974.py:1: DeprecationWarning: find_elements_by_css_selector is deprecated. Please use find_elements(by=By.CSS_SELECTOR, value=css_selector) instead\n",
      "  more_view_of_reply = driver.find_elements_by_css_selector('div.oajrlxb2.g5ia77u1.qu0x051f.esr5mh6w.e9989ue4.r7d6kgcz.rq0escxv.nhd2j8a9.nc684nl6.p7hjln8o.kvgmc6g5.cxmmr5t8.oygrvhab.hcukyx3x.jb3vyjys.rz4wbd8a.qt6c0cv9.a8nywdso.i1ao9s8h.esuyzwwr.f1sip0of.lzcic4wl.gpro0wi8.oo9gr5id.lrazzd5p')\n",
      "C:\\Users\\kbjung\\AppData\\Local\\Temp/ipykernel_3708/1113744974.py:13: DeprecationWarning: find_elements_by_css_selector is deprecated. Please use find_elements(by=By.CSS_SELECTOR, value=css_selector) instead\n",
      "  more_view_of_reply = driver.find_elements_by_css_selector('div.oajrlxb2.g5ia77u1.qu0x051f.esr5mh6w.e9989ue4.r7d6kgcz.rq0escxv.nhd2j8a9.nc684nl6.p7hjln8o.kvgmc6g5.cxmmr5t8.oygrvhab.hcukyx3x.jb3vyjys.rz4wbd8a.qt6c0cv9.a8nywdso.i1ao9s8h.esuyzwwr.f1sip0of.lzcic4wl.gpro0wi8.oo9gr5id.lrazzd5p')\n"
     ]
    }
   ],
   "source": [
    "more_view_of_reply = driver.find_elements_by_css_selector('div.oajrlxb2.g5ia77u1.qu0x051f.esr5mh6w.e9989ue4.r7d6kgcz.rq0escxv.nhd2j8a9.nc684nl6.p7hjln8o.kvgmc6g5.cxmmr5t8.oygrvhab.hcukyx3x.jb3vyjys.rz4wbd8a.qt6c0cv9.a8nywdso.i1ao9s8h.esuyzwwr.f1sip0of.lzcic4wl.gpro0wi8.oo9gr5id.lrazzd5p')\n",
    "for i in range(2):\n",
    "    for one in more_view_of_reply:\n",
    "        try:\n",
    "            one.click()\n",
    "            driver.implicitly_wait(1)\n",
    "            time.sleep( random.uniform(0.5, 1) )\n",
    "        except:\n",
    "            pass\n",
    "    more_view_of_reply = driver.find_elements_by_css_selector('div.oajrlxb2.g5ia77u1.qu0x051f.esr5mh6w.e9989ue4.r7d6kgcz.rq0escxv.nhd2j8a9.nc684nl6.p7hjln8o.kvgmc6g5.cxmmr5t8.oygrvhab.hcukyx3x.jb3vyjys.rz4wbd8a.qt6c0cv9.a8nywdso.i1ao9s8h.esuyzwwr.f1sip0of.lzcic4wl.gpro0wi8.oo9gr5id.lrazzd5p')"
   ]
  },
  {
   "cell_type": "markdown",
   "metadata": {},
   "source": [
    "#### 모든 \"대댓글\" 버튼 클릭"
   ]
  },
  {
   "cell_type": "code",
   "execution_count": 15,
   "metadata": {},
   "outputs": [
    {
     "name": "stderr",
     "output_type": "stream",
     "text": [
      "C:\\Users\\kbjung\\AppData\\Local\\Temp/ipykernel_3708/2800984876.py:1: DeprecationWarning: find_elements_by_css_selector is deprecated. Please use find_elements(by=By.CSS_SELECTOR, value=css_selector) instead\n",
      "  re_reply_button = driver.find_elements_by_css_selector('span.j83agx80.fv0vnmcu.hpfvmrgz > span')\n",
      "C:\\Users\\kbjung\\AppData\\Local\\Temp/ipykernel_3708/2800984876.py:10: DeprecationWarning: find_elements_by_css_selector is deprecated. Please use find_elements(by=By.CSS_SELECTOR, value=css_selector) instead\n",
      "  re_reply_button = driver.find_elements_by_css_selector('span.j83agx80.fv0vnmcu.hpfvmrgz > span')\n"
     ]
    }
   ],
   "source": [
    "re_reply_button = driver.find_elements_by_css_selector('span.j83agx80.fv0vnmcu.hpfvmrgz > span')\n",
    "for i in range(2):\n",
    "    for one in re_reply_button:\n",
    "        try:\n",
    "            one.click()\n",
    "            driver.implicitly_wait(1)\n",
    "            time.sleep( random.uniform(0.5, 1) )\n",
    "        except:\n",
    "            pass\n",
    "    re_reply_button = driver.find_elements_by_css_selector('span.j83agx80.fv0vnmcu.hpfvmrgz > span')"
   ]
  },
  {
   "cell_type": "markdown",
   "metadata": {},
   "source": [
    "## 글 내용 수집"
   ]
  },
  {
   "cell_type": "code",
   "execution_count": 16,
   "metadata": {},
   "outputs": [
    {
     "data": {
      "text/plain": [
       "338"
      ]
     },
     "execution_count": 16,
     "metadata": {},
     "output_type": "execute_result"
    }
   ],
   "source": [
    "soup = bs(driver.page_source, 'lxml')\n",
    "div_soup = soup.find_all('div', 'rj1gh0hx buofh1pr ni8dbmo4 stjgntxs hv4rvrfc')\n",
    "len(div_soup)"
   ]
  },
  {
   "cell_type": "code",
   "execution_count": 19,
   "metadata": {},
   "outputs": [
    {
     "data": {
      "text/plain": [
       "329"
      ]
     },
     "execution_count": 19,
     "metadata": {},
     "output_type": "execute_result"
    }
   ],
   "source": [
    "num_reply = int(soup.find('span', 'd2edcug0 hpfvmrgz qv66sw1b c1et5uql lr9zc1uh a8c37x1j fe6kdd0r mau55g9w c8b282yb keod5gw0 nxhoafnm aigsh9s9 d3f4x2em iv3no6db jq4qci2q a3bd9o3v b1v8xokw m9osqain').text.split(' ')[-1][:-1])\n",
    "num_reply"
   ]
  },
  {
   "cell_type": "code",
   "execution_count": 20,
   "metadata": {},
   "outputs": [],
   "source": [
    "is_reply_list = []\n",
    "writer_list = []\n",
    "text_list = []\n",
    "added_url_list = []\n",
    "url_in_text_list = []\n",
    "date_list = []\n",
    "is_like_list = []\n",
    "num_like_list = []\n",
    "tag_info_list = []\n",
    "num_tag_list = []\n",
    "writer_link_list = []\n",
    "reply_url_list = []\n",
    "\n",
    "for one in div_soup:\n",
    "    # 댓글 날짜\n",
    "    raw_date = one.find('ul', 'o22cckgh q9uorilb bo9p93cb oygrvhab kkf49tns l66bhrea linoseic').find_all('li')[-1].find('span').text\n",
    "    if raw_date == '수정됨':\n",
    "        date = one.find('ul', 'o22cckgh q9uorilb bo9p93cb oygrvhab kkf49tns l66bhrea linoseic').find_all('li')[-2].find('span').text\n",
    "    else:\n",
    "        date = raw_date\n",
    "\n",
    "    # 댓글 여부 확인\n",
    "    parent_class = ' '.join(one.parent.parent['class'])\n",
    "    if parent_class == 'ni8dbmo4 stjgntxs l9j0dhe7':\n",
    "        is_reply = nan\n",
    "    elif parent_class == 'ni8dbmo4 stjgntxs l9j0dhe7 d0szoon8':\n",
    "        is_reply = '댓글'\n",
    "\n",
    "    # 작성자\n",
    "    writer = one.find('span', 'pq6dq46d').text\n",
    "\n",
    "    # 글 내용\n",
    "    try:\n",
    "        text = one.find('div', 'kvgmc6g5 cxmmr5t8 oygrvhab hcukyx3x c1et5uql').text\n",
    "    except:\n",
    "        text = '내용없음'\n",
    "    # 태그 내용\n",
    "    try:\n",
    "        tag_text = one.find('div', 'cxmmr5t8 oygrvhab hcukyx3x c1et5uql o9v6fnle').text\n",
    "    except:\n",
    "        tag_text = '태그없음'\n",
    "    # 글 내용 + 태그 내용\n",
    "    text_plus_tag = text + '_' + tag_text\n",
    "\n",
    "    # 첨부\n",
    "    try:\n",
    "        added_url = one.find('a', 'oajrlxb2 g5ia77u1 qu0x051f esr5mh6w e9989ue4 r7d6kgcz rq0escxv nhd2j8a9 nc684nl6 p7hjln8o kvgmc6g5 cxmmr5t8 oygrvhab hcukyx3x jb3vyjys rz4wbd8a qt6c0cv9 a8nywdso i1ao9s8h esuyzwwr f1sip0of lzcic4wl').find('img')['src']\n",
    "    except:\n",
    "        added_url = nan\n",
    "    \n",
    "    # 댓글 내 url\n",
    "    try:\n",
    "        url_in_texts = div_soup[num].find('div', 'kvgmc6g5 cxmmr5t8 oygrvhab hcukyx3x c1et5uql').find_all('a', 'oajrlxb2 g5ia77u1 qu0x051f esr5mh6w e9989ue4 r7d6kgcz rq0escxv nhd2j8a9 nc684nl6 p7hjln8o kvgmc6g5 cxmmr5t8 oygrvhab hcukyx3x jb3vyjys rz4wbd8a qt6c0cv9 a8nywdso i1ao9s8h esuyzwwr f1sip0of lzcic4wl gpro0wi8 oo9gr5id lrazzd5p')\n",
    "        i = 100\n",
    "        for i, one_url in enumerate(url_in_texts):\n",
    "            if 'story' in one_url.text:\n",
    "                idx_url = i\n",
    "        if idx_url != 100:\n",
    "            url_in_text = url_in_texts[idx_url].text\n",
    "        else:\n",
    "            url_in_text = nan\n",
    "    except:\n",
    "        url_in_text = nan\n",
    "\n",
    "    # 댓글 링크\n",
    "    try:\n",
    "        reply_url = one.find('ul', 'o22cckgh q9uorilb bo9p93cb oygrvhab kkf49tns l66bhrea linoseic').find_all('li')[3].a['href'].split('&')[0]\n",
    "    except:\n",
    "        reply_url = one.find('ul', 'o22cckgh q9uorilb bo9p93cb oygrvhab kkf49tns l66bhrea linoseic').find_all('li')[4].a['href'].split('__')[0]\n",
    "\n",
    "    # 좋아요 표시\n",
    "    try:\n",
    "        one.find('div', 'du4w35lb pmk7jnqg lthxh50u ox23h4wi kr9hpln1').find('div', 'oajrlxb2 g5ia77u1 qu0x051f esr5mh6w e9989ue4 r7d6kgcz rq0escxv nhd2j8a9 nc684nl6 p7hjln8o kvgmc6g5 cxmmr5t8 oygrvhab hcukyx3x jb3vyjys rz4wbd8a qt6c0cv9 a8nywdso i1ao9s8h esuyzwwr f1sip0of n00je7tq arfg74bv qs9ysxi8 k77z8yql l9j0dhe7 abiwlrkh p8dawk7l lzcic4wl')['aria-label']\n",
    "        is_like = 'LIKE'\n",
    "    except:\n",
    "        is_like = nan\n",
    "\n",
    "    # 좋아요 개수\n",
    "    try:\n",
    "        num_like = int(one.find('div', 'du4w35lb pmk7jnqg lthxh50u ox23h4wi kr9hpln1').find('div', 'oajrlxb2 g5ia77u1 qu0x051f esr5mh6w e9989ue4 r7d6kgcz rq0escxv nhd2j8a9 nc684nl6 p7hjln8o kvgmc6g5 cxmmr5t8 oygrvhab hcukyx3x jb3vyjys rz4wbd8a qt6c0cv9 a8nywdso i1ao9s8h esuyzwwr f1sip0of n00je7tq arfg74bv qs9ysxi8 k77z8yql l9j0dhe7 abiwlrkh p8dawk7l lzcic4wl')['aria-label'].split('개')[0].split(' ')[-1])\n",
    "    except:\n",
    "        num_like = 0\n",
    "\n",
    "    # 태그정보 & 태그 개수\n",
    "    tags = one.find_all('a', 'oajrlxb2 g5ia77u1 qu0x051f esr5mh6w e9989ue4 r7d6kgcz rq0escxv nhd2j8a9 nc684nl6 p7hjln8o kvgmc6g5 cxmmr5t8 oygrvhab hcukyx3x jb3vyjys rz4wbd8a qt6c0cv9 a8nywdso i1ao9s8h esuyzwwr f1sip0of lzcic4wl gpro0wi8 oo9gr5id lrazzd5p')\n",
    "    if len(tags) == 0:\n",
    "        tag_info = nan\n",
    "        num_tag = 0\n",
    "    else:\n",
    "        tag_info = ''\n",
    "        for one_tag in tags:\n",
    "            tag_info = tag_info + one_tag.text + '\\n'\n",
    "        tag_info = tag_info.rstrip()\n",
    "        num_tag = len(tags)\n",
    "    \n",
    "    # 작성자 바로가기\n",
    "    writer_link = one.find('a', 'oajrlxb2 g5ia77u1 qu0x051f esr5mh6w e9989ue4 r7d6kgcz rq0escxv nhd2j8a9 nc684nl6 p7hjln8o kvgmc6g5 cxmmr5t8 oygrvhab hcukyx3x jb3vyjys rz4wbd8a qt6c0cv9 a8nywdso i1ao9s8h esuyzwwr f1sip0of lzcic4wl gmql0nx0 gpro0wi8')['href']\n",
    "\n",
    "    is_reply_list.append(is_reply)\n",
    "    writer_list.append(writer)\n",
    "    text_list.append(text_plus_tag)\n",
    "    date_list.append(date)\n",
    "    added_url_list.append(added_url)\n",
    "    url_in_text_list.append(url_in_text)\n",
    "    is_like_list.append(is_like)\n",
    "    num_like_list.append(num_like)\n",
    "    tag_info_list.append(tag_info)\n",
    "    num_tag_list.append(num_tag)\n",
    "    writer_link_list.append(writer_link)\n",
    "    reply_url_list.append(reply_url)"
   ]
  },
  {
   "cell_type": "markdown",
   "metadata": {},
   "source": [
    "### 수집 데이터 확인"
   ]
  },
  {
   "cell_type": "code",
   "execution_count": 21,
   "metadata": {},
   "outputs": [
    {
     "name": "stdout",
     "output_type": "stream",
     "text": [
      "338\n",
      "338\n",
      "338\n",
      "338\n",
      "338\n",
      "338\n",
      "338\n",
      "338\n",
      "338\n",
      "338\n",
      "338\n",
      "338\n"
     ]
    }
   ],
   "source": [
    "print( len(is_reply_list) )\n",
    "print( len(writer_list) )\n",
    "print( len(text_list) )\n",
    "print( len(date_list) )\n",
    "print( len(added_url_list) )\n",
    "print( len(url_in_text_list) )\n",
    "print( len(is_like_list) )\n",
    "print( len(num_like_list) )\n",
    "print( len(tag_info_list) )\n",
    "print( len(num_tag_list) )\n",
    "print( len(writer_link_list) )\n",
    "print( len(reply_url_list) )"
   ]
  },
  {
   "cell_type": "markdown",
   "metadata": {},
   "source": [
    "## df 생성"
   ]
  },
  {
   "cell_type": "code",
   "execution_count": 22,
   "metadata": {},
   "outputs": [],
   "source": [
    "dict= {'날짜':date_list, '답글여부':is_reply_list, '작성자':writer_list,\n",
    "       '내용':text_list, '첨부':added_url_list, '댓글내URL':url_in_text_list,\n",
    "       '글에좋아요':is_like_list, '좋아요수':num_like_list, '태그정보':tag_info_list,\n",
    "       '태그수':num_tag_list, '작성자_바로가기':writer_link_list, '댓글_바로가기':reply_url_list}"
   ]
  },
  {
   "cell_type": "code",
   "execution_count": 23,
   "metadata": {},
   "outputs": [
    {
     "name": "stdout",
     "output_type": "stream",
     "text": [
      "<class 'pandas.core.frame.DataFrame'>\n",
      "RangeIndex: 338 entries, 0 to 337\n",
      "Data columns (total 12 columns):\n",
      " #   Column    Non-Null Count  Dtype  \n",
      "---  ------    --------------  -----  \n",
      " 0   날짜        338 non-null    object \n",
      " 1   답글여부      15 non-null     object \n",
      " 2   작성자       338 non-null    object \n",
      " 3   내용        338 non-null    object \n",
      " 4   첨부        17 non-null     object \n",
      " 5   댓글내URL    0 non-null      float64\n",
      " 6   글에좋아요     118 non-null    object \n",
      " 7   좋아요수      338 non-null    int64  \n",
      " 8   태그정보      263 non-null    object \n",
      " 9   태그수       338 non-null    int64  \n",
      " 10  작성자_바로가기  338 non-null    object \n",
      " 11  댓글_바로가기   338 non-null    object \n",
      "dtypes: float64(1), int64(2), object(9)\n",
      "memory usage: 31.8+ KB\n"
     ]
    }
   ],
   "source": [
    "df = pd.DataFrame(dict)\n",
    "df.info()"
   ]
  },
  {
   "cell_type": "markdown",
   "metadata": {},
   "source": [
    "### df 수정"
   ]
  },
  {
   "cell_type": "markdown",
   "metadata": {},
   "source": [
    "#### 댓글 수 만큼만 가져오기"
   ]
  },
  {
   "cell_type": "code",
   "execution_count": 24,
   "metadata": {},
   "outputs": [
    {
     "name": "stdout",
     "output_type": "stream",
     "text": [
      "<class 'pandas.core.frame.DataFrame'>\n",
      "RangeIndex: 329 entries, 0 to 328\n",
      "Data columns (total 12 columns):\n",
      " #   Column    Non-Null Count  Dtype  \n",
      "---  ------    --------------  -----  \n",
      " 0   날짜        329 non-null    object \n",
      " 1   답글여부      15 non-null     object \n",
      " 2   작성자       329 non-null    object \n",
      " 3   내용        329 non-null    object \n",
      " 4   첨부        14 non-null     object \n",
      " 5   댓글내URL    0 non-null      float64\n",
      " 6   글에좋아요     115 non-null    object \n",
      " 7   좋아요수      329 non-null    int64  \n",
      " 8   태그정보      260 non-null    object \n",
      " 9   태그수       329 non-null    int64  \n",
      " 10  작성자_바로가기  329 non-null    object \n",
      " 11  댓글_바로가기   329 non-null    object \n",
      "dtypes: float64(1), int64(2), object(9)\n",
      "memory usage: 31.0+ KB\n"
     ]
    }
   ],
   "source": [
    "df1 = df.iloc[:num_reply, :]\n",
    "df1.info()"
   ]
  },
  {
   "cell_type": "markdown",
   "metadata": {},
   "source": [
    "#### 내용없는 데이터 제거"
   ]
  },
  {
   "cell_type": "code",
   "execution_count": 25,
   "metadata": {},
   "outputs": [
    {
     "name": "stdout",
     "output_type": "stream",
     "text": [
      "<class 'pandas.core.frame.DataFrame'>\n",
      "Int64Index: 13 entries, 1 to 250\n",
      "Data columns (total 12 columns):\n",
      " #   Column    Non-Null Count  Dtype  \n",
      "---  ------    --------------  -----  \n",
      " 0   날짜        13 non-null     object \n",
      " 1   답글여부      13 non-null     object \n",
      " 2   작성자       13 non-null     object \n",
      " 3   내용        13 non-null     object \n",
      " 4   첨부        0 non-null      object \n",
      " 5   댓글내URL    0 non-null      float64\n",
      " 6   글에좋아요     0 non-null      object \n",
      " 7   좋아요수      13 non-null     int64  \n",
      " 8   태그정보      0 non-null      object \n",
      " 9   태그수       13 non-null     int64  \n",
      " 10  작성자_바로가기  13 non-null     object \n",
      " 11  댓글_바로가기   13 non-null     object \n",
      "dtypes: float64(1), int64(2), object(9)\n",
      "memory usage: 1.3+ KB\n"
     ]
    }
   ],
   "source": [
    "df1[df1['내용'] == '내용없음_태그없음'].info()"
   ]
  },
  {
   "cell_type": "code",
   "execution_count": 26,
   "metadata": {},
   "outputs": [
    {
     "name": "stdout",
     "output_type": "stream",
     "text": [
      "<class 'pandas.core.frame.DataFrame'>\n",
      "RangeIndex: 316 entries, 0 to 315\n",
      "Data columns (total 12 columns):\n",
      " #   Column    Non-Null Count  Dtype  \n",
      "---  ------    --------------  -----  \n",
      " 0   날짜        316 non-null    object \n",
      " 1   답글여부      2 non-null      object \n",
      " 2   작성자       316 non-null    object \n",
      " 3   내용        316 non-null    object \n",
      " 4   첨부        14 non-null     object \n",
      " 5   댓글내URL    0 non-null      float64\n",
      " 6   글에좋아요     115 non-null    object \n",
      " 7   좋아요수      316 non-null    int64  \n",
      " 8   태그정보      260 non-null    object \n",
      " 9   태그수       316 non-null    int64  \n",
      " 10  작성자_바로가기  316 non-null    object \n",
      " 11  댓글_바로가기   316 non-null    object \n",
      "dtypes: float64(1), int64(2), object(9)\n",
      "memory usage: 29.8+ KB\n"
     ]
    }
   ],
   "source": [
    "df2 = df1.drop(df1[df1['내용'] == '내용없음_태그없음'].index).reset_index(drop=True)\n",
    "df2.info()"
   ]
  },
  {
   "cell_type": "markdown",
   "metadata": {},
   "source": [
    "#### 내용에 _태그없음 제거"
   ]
  },
  {
   "cell_type": "code",
   "execution_count": 27,
   "metadata": {},
   "outputs": [],
   "source": [
    "df3 = df2.copy()\n",
    "df3['내용'] = df3['내용'].str.replace('_태그없음', '')"
   ]
  },
  {
   "cell_type": "markdown",
   "metadata": {},
   "source": [
    "#### 최종 df 생성"
   ]
  },
  {
   "cell_type": "code",
   "execution_count": 28,
   "metadata": {},
   "outputs": [],
   "source": [
    "final_df = df3.copy()"
   ]
  },
  {
   "cell_type": "markdown",
   "metadata": {},
   "source": [
    "## 파일 생성"
   ]
  },
  {
   "cell_type": "code",
   "execution_count": 29,
   "metadata": {},
   "outputs": [
    {
     "data": {
      "text/plain": [
       "'20220419_143720'"
      ]
     },
     "execution_count": 29,
     "metadata": {},
     "output_type": "execute_result"
    }
   ],
   "source": [
    "today_date = datetime.today().strftime('%Y%m%d_%H%M%S')\n",
    "today_date"
   ]
  },
  {
   "cell_type": "code",
   "execution_count": 30,
   "metadata": {},
   "outputs": [
    {
     "name": "stdout",
     "output_type": "stream",
     "text": [
      "facebook_20220419_143724.xlsx 출력완료\n"
     ]
    }
   ],
   "source": [
    "today_date = datetime.today().strftime('%Y%m%d_%H%M%S')\n",
    "file_name = f'facebook_{today_date}.xlsx'\n",
    "final_df.to_excel(crawled_folder_path + '/' + file_name, index=False, encoding='utf-8')\n",
    "print(f'{file_name} 출력완료')"
   ]
  },
  {
   "cell_type": "markdown",
   "metadata": {},
   "source": [
    "# 코드 마지막"
   ]
  }
 ],
 "metadata": {
  "language_info": {
   "name": "python"
  },
  "orig_nbformat": 4
 },
 "nbformat": 4,
 "nbformat_minor": 2
}
