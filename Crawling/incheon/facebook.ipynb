{
 "cells": [
  {
   "cell_type": "markdown",
   "metadata": {},
   "source": [
    "# Facebook 스트래핑"
   ]
  },
  {
   "cell_type": "markdown",
   "metadata": {},
   "source": [
    "## 라이브러리"
   ]
  },
  {
   "cell_type": "code",
   "execution_count": 81,
   "metadata": {},
   "outputs": [],
   "source": [
    "import pandas as pd\n",
    "import time, os, random\n",
    "from datetime import datetime\n",
    "from numpy import nan\n",
    "from bs4 import BeautifulSoup as bs\n",
    "from selenium import webdriver\n",
    "from selenium.webdriver import ActionChains\n",
    "import chromedriver_autoinstaller as ca\n",
    "import getpass"
   ]
  },
  {
   "cell_type": "markdown",
   "metadata": {},
   "source": [
    "## 페이지 주소"
   ]
  },
  {
   "cell_type": "code",
   "execution_count": 82,
   "metadata": {},
   "outputs": [],
   "source": [
    "url = 'https://www.facebook.com/incheoncouncil/posts/3221016041505411'"
   ]
  },
  {
   "cell_type": "markdown",
   "metadata": {},
   "source": [
    "## 준비"
   ]
  },
  {
   "cell_type": "markdown",
   "metadata": {},
   "source": [
    "### 현재 파일 위치 확인"
   ]
  },
  {
   "cell_type": "code",
   "execution_count": 83,
   "metadata": {},
   "outputs": [
    {
     "data": {
      "text/plain": [
       "'c:/data/Wantreez/Crawling/incheon'"
      ]
     },
     "execution_count": 83,
     "metadata": {},
     "output_type": "execute_result"
    }
   ],
   "source": [
    "# 현재 파일 위치 확인\n",
    "code_path = os.getcwd().replace('\\\\', '/')\n",
    "code_path"
   ]
  },
  {
   "cell_type": "markdown",
   "metadata": {},
   "source": [
    "### 파일 저장 폴더 생성"
   ]
  },
  {
   "cell_type": "code",
   "execution_count": 84,
   "metadata": {},
   "outputs": [],
   "source": [
    "# 수집한 파일을 저장할 폴더 생성\n",
    "crawled_folder_path = code_path + '/crawled_data/facebook'\n",
    "os.makedirs(crawled_folder_path, exist_ok=True)"
   ]
  },
  {
   "cell_type": "markdown",
   "metadata": {},
   "source": [
    "### 드라이버 확인 및 설치"
   ]
  },
  {
   "cell_type": "code",
   "execution_count": 86,
   "metadata": {},
   "outputs": [],
   "source": [
    "# 크롬 드라이버 설치 확인\n",
    "ca.install(True)\n",
    "driver = webdriver.Chrome()"
   ]
  },
  {
   "cell_type": "markdown",
   "metadata": {},
   "source": [
    "### 로그인"
   ]
  },
  {
   "cell_type": "code",
   "execution_count": 87,
   "metadata": {},
   "outputs": [],
   "source": [
    "login_url = 'https://www.facebook.com/'\n",
    "driver.get(login_url)\n",
    "driver.implicitly_wait(3)\n",
    "driver.maximize_window()"
   ]
  },
  {
   "cell_type": "code",
   "execution_count": 45,
   "metadata": {},
   "outputs": [],
   "source": [
    "id = input('id를 입력하세요')\n",
    "pw = getpass.getpass('비밀번호를 입력하세요')"
   ]
  },
  {
   "cell_type": "code",
   "execution_count": 46,
   "metadata": {},
   "outputs": [
    {
     "name": "stderr",
     "output_type": "stream",
     "text": [
      "C:\\Users\\kbjung\\AppData\\Local\\Temp/ipykernel_21728/2574841667.py:1: DeprecationWarning: find_element_by_xpath is deprecated. Please use find_element(by=By.XPATH, value=xpath) instead\n",
      "  login_box = driver.find_element_by_xpath('//*[@id=\"email\"]')\n",
      "C:\\Users\\kbjung\\AppData\\Local\\Temp/ipykernel_21728/2574841667.py:2: DeprecationWarning: find_element_by_xpath is deprecated. Please use find_element(by=By.XPATH, value=xpath) instead\n",
      "  pw_box = driver.find_element_by_xpath('//*[@id=\"pass\"]')\n",
      "C:\\Users\\kbjung\\AppData\\Local\\Temp/ipykernel_21728/2574841667.py:5: DeprecationWarning: find_element_by_css_selector is deprecated. Please use find_element(by=By.CSS_SELECTOR, value=css_selector) instead\n",
      "  login_button = driver.find_element_by_css_selector('div._6ltg > button')\n"
     ]
    }
   ],
   "source": [
    "login_box = driver.find_element_by_xpath('//*[@id=\"email\"]')\n",
    "pw_box = driver.find_element_by_xpath('//*[@id=\"pass\"]')\n",
    "try:\n",
    "    # login_button = driver.find_element_by_xpath('//*[@id=\"loginbutton\"]')\n",
    "    login_button = driver.find_element_by_css_selector('div._6ltg > button')\n",
    "except:\n",
    "    login_button = driver.find_element_by_xpath('/html/body/div[1]/div[2]/div/div/div[1]/div/div[2]/form/table/tbody/tr[2]/td[3]/label/input')\n",
    "\n",
    "\n",
    "login_box.send_keys(id)\n",
    "time.sleep(0.5)\n",
    "pw_box.send_keys(pw)\n",
    "time.sleep(0.5)\n",
    "login_button.click()\n",
    "driver.implicitly_wait(3)\n",
    "time.sleep( random.uniform(0.5, 1))"
   ]
  },
  {
   "cell_type": "markdown",
   "metadata": {},
   "source": [
    "### 페이지 접속"
   ]
  },
  {
   "cell_type": "code",
   "execution_count": 88,
   "metadata": {},
   "outputs": [],
   "source": [
    "driver.get(url)\n",
    "driver.implicitly_wait(3)"
   ]
  },
  {
   "cell_type": "markdown",
   "metadata": {},
   "source": [
    "#### 최신 댓글 순으로 보이기 버튼 클릭"
   ]
  },
  {
   "cell_type": "code",
   "execution_count": 89,
   "metadata": {},
   "outputs": [
    {
     "name": "stderr",
     "output_type": "stream",
     "text": [
      "C:\\Users\\kbjung\\AppData\\Local\\Temp/ipykernel_21728/3686146956.py:1: DeprecationWarning: find_element_by_xpath is deprecated. Please use find_element(by=By.XPATH, value=xpath) instead\n",
      "  reply_sort_button = driver.find_element_by_xpath('/html/body/div[1]/div/div[1]/div/div[3]/div/div/div[1]/div[1]/div[4]/div[1]/div/div/div/div/div/div/div/div/div/div[1]/div/div[2]/div/div[5]/div/div/div[2]/div[2]/div/div/div').click()\n"
     ]
    }
   ],
   "source": [
    "reply_sort_button = driver.find_element_by_xpath('/html/body/div[1]/div/div[1]/div/div[3]/div/div/div[1]/div[1]/div[4]/div[1]/div/div/div/div/div/div/div/div/div/div[1]/div/div[2]/div/div[5]/div/div/div[2]/div[2]/div/div/div').click()\n",
    "time.sleep( random.uniform(0.5, 1) )"
   ]
  },
  {
   "cell_type": "code",
   "execution_count": 90,
   "metadata": {},
   "outputs": [
    {
     "name": "stderr",
     "output_type": "stream",
     "text": [
      "C:\\Users\\kbjung\\AppData\\Local\\Temp/ipykernel_21728/2857182334.py:1: DeprecationWarning: find_element_by_xpath is deprecated. Please use find_element(by=By.XPATH, value=xpath) instead\n",
      "  ascending_button = driver.find_element_by_xpath('/html/body/div[1]/div/div[1]/div/div[3]/div/div/div[2]/div/div/div[1]/div[1]/div/div/div[1]/div/div/div/div[1]/div/div[3]').click()\n"
     ]
    }
   ],
   "source": [
    "ascending_button = driver.find_element_by_xpath('/html/body/div[1]/div/div[1]/div/div[3]/div/div/div[2]/div/div/div[1]/div[1]/div/div/div[1]/div/div/div/div[1]/div/div[3]').click()\n",
    "time.sleep( random.uniform(0.5, 1) )"
   ]
  },
  {
   "cell_type": "markdown",
   "metadata": {},
   "source": [
    "#### 페이지 더보기 버튼 클릭"
   ]
  },
  {
   "cell_type": "code",
   "execution_count": 91,
   "metadata": {},
   "outputs": [
    {
     "name": "stderr",
     "output_type": "stream",
     "text": [
      "C:\\Users\\kbjung\\AppData\\Local\\Temp/ipykernel_21728/2468667287.py:4: DeprecationWarning: find_element_by_xpath is deprecated. Please use find_element(by=By.XPATH, value=xpath) instead\n",
      "  more_view_button = driver.find_element_by_xpath('/html/body/div[1]/div/div[1]/div/div[3]/div/div/div[1]/div[1]/div[4]/div[1]/div/div/div/div/div/div/div/div/div/div[1]/div/div[2]/div/div[5]/div/div/div[2]/div[4]/div[1]/div[2]')\n"
     ]
    }
   ],
   "source": [
    "count = 0\n",
    "while True:\n",
    "    try:\n",
    "        more_view_button = driver.find_element_by_xpath('/html/body/div[1]/div/div[1]/div/div[3]/div/div/div[1]/div[1]/div[4]/div[1]/div/div/div/div/div/div/div/div/div/div[1]/div/div[2]/div/div[5]/div/div/div[2]/div[4]/div[1]/div[2]')\n",
    "        more_view_button.click()\n",
    "        driver.implicitly_wait(3)\n",
    "        time.sleep( random.uniform(1, 1.5) )\n",
    "    except:\n",
    "        break\n",
    "    count += 1"
   ]
  },
  {
   "cell_type": "code",
   "execution_count": 92,
   "metadata": {},
   "outputs": [
    {
     "name": "stdout",
     "output_type": "stream",
     "text": [
      "댓글 더보기 클릭 횟수 : 14\n"
     ]
    }
   ],
   "source": [
    "print('댓글 더보기 클릭 횟수 :', count)"
   ]
  },
  {
   "cell_type": "markdown",
   "metadata": {},
   "source": [
    "#### 페이지 스크롤"
   ]
  },
  {
   "cell_type": "code",
   "execution_count": 93,
   "metadata": {},
   "outputs": [],
   "source": [
    "# # 페이지 스크롤 다운\n",
    "# for i in range(1):\n",
    "#     driver.execute_script(\"window.scrollTo(0, document.body.scrollHeight);\")\n",
    "#     time.sleep( random.uniform(1,2) )"
   ]
  },
  {
   "cell_type": "markdown",
   "metadata": {},
   "source": [
    "#### 모든 \"더 보기\" 버튼 클릭"
   ]
  },
  {
   "cell_type": "code",
   "execution_count": 94,
   "metadata": {},
   "outputs": [
    {
     "name": "stderr",
     "output_type": "stream",
     "text": [
      "C:\\Users\\kbjung\\AppData\\Local\\Temp/ipykernel_21728/342449379.py:1: DeprecationWarning: find_elements_by_css_selector is deprecated. Please use find_elements(by=By.CSS_SELECTOR, value=css_selector) instead\n",
      "  more_view_of_reply = driver.find_elements_by_css_selector('div.ecm0bbzt.e5nlhep0.a8c37x1j > span > div > div > div')\n"
     ]
    },
    {
     "data": {
      "text/plain": [
       "110"
      ]
     },
     "execution_count": 94,
     "metadata": {},
     "output_type": "execute_result"
    }
   ],
   "source": [
    "more_view_of_reply = driver.find_elements_by_css_selector('div.ecm0bbzt.e5nlhep0.a8c37x1j > span > div > div > div')\n",
    "len(more_view_of_reply)"
   ]
  },
  {
   "cell_type": "code",
   "execution_count": 95,
   "metadata": {},
   "outputs": [
    {
     "name": "stderr",
     "output_type": "stream",
     "text": [
      "C:\\Users\\kbjung\\AppData\\Local\\Temp/ipykernel_21728/1113683342.py:1: DeprecationWarning: find_elements_by_css_selector is deprecated. Please use find_elements(by=By.CSS_SELECTOR, value=css_selector) instead\n",
      "  more_view_of_reply = driver.find_elements_by_css_selector('div.ecm0bbzt.e5nlhep0.a8c37x1j > span > div > div > div')\n"
     ]
    },
    {
     "data": {
      "text/plain": [
       "'더 보기'"
      ]
     },
     "execution_count": 95,
     "metadata": {},
     "output_type": "execute_result"
    }
   ],
   "source": [
    "more_view_of_reply = driver.find_elements_by_css_selector('div.ecm0bbzt.e5nlhep0.a8c37x1j > span > div > div > div')\n",
    "more_view_of_reply[0].text"
   ]
  },
  {
   "cell_type": "code",
   "execution_count": 96,
   "metadata": {},
   "outputs": [
    {
     "name": "stderr",
     "output_type": "stream",
     "text": [
      "C:\\Users\\kbjung\\AppData\\Local\\Temp/ipykernel_21728/746951341.py:1: DeprecationWarning: find_elements_by_css_selector is deprecated. Please use find_elements(by=By.CSS_SELECTOR, value=css_selector) instead\n",
      "  more_view_of_reply = driver.find_elements_by_css_selector('div.ecm0bbzt.e5nlhep0.a8c37x1j > span > div > div > div')\n",
      "C:\\Users\\kbjung\\AppData\\Local\\Temp/ipykernel_21728/746951341.py:2: DeprecationWarning: find_element_by_css_selector is deprecated. Please use find_element(by=By.CSS_SELECTOR, value=css_selector) instead\n",
      "  ex = driver.find_element_by_css_selector('div.gtad4xkn > div > span')\n"
     ]
    }
   ],
   "source": [
    "more_view_of_reply = driver.find_elements_by_css_selector('div.ecm0bbzt.e5nlhep0.a8c37x1j > span > div > div > div')\n",
    "ex = driver.find_element_by_css_selector('div.gtad4xkn > div > span')\n",
    "\n",
    "ActionChains(driver).move_to_element(ex).perform()\n",
    "for one in more_view_of_reply:\n",
    "    try:\n",
    "        one.click()\n",
    "        driver.implicitly_wait(1)\n",
    "        time.sleep( random.uniform(0.5, 1) )\n",
    "    except:\n",
    "        pass"
   ]
  },
  {
   "cell_type": "markdown",
   "metadata": {},
   "source": [
    "#### 모든 \"대댓글\" 버튼 클릭"
   ]
  },
  {
   "cell_type": "code",
   "execution_count": 97,
   "metadata": {},
   "outputs": [
    {
     "name": "stderr",
     "output_type": "stream",
     "text": [
      "C:\\Users\\kbjung\\AppData\\Local\\Temp/ipykernel_21728/2107883802.py:1: DeprecationWarning: find_elements_by_css_selector is deprecated. Please use find_elements(by=By.CSS_SELECTOR, value=css_selector) instead\n",
      "  re_reply_button = driver.find_elements_by_css_selector('div.j83agx80.buofh1pr.jklb3kyz.l9j0dhe7 > div:nth-child(2)')\n"
     ]
    },
    {
     "data": {
      "text/plain": [
       "12"
      ]
     },
     "execution_count": 97,
     "metadata": {},
     "output_type": "execute_result"
    }
   ],
   "source": [
    "re_reply_button = driver.find_elements_by_css_selector('div.j83agx80.buofh1pr.jklb3kyz.l9j0dhe7 > div:nth-child(2)')\n",
    "len(re_reply_button)"
   ]
  },
  {
   "cell_type": "code",
   "execution_count": 98,
   "metadata": {},
   "outputs": [
    {
     "name": "stderr",
     "output_type": "stream",
     "text": [
      "C:\\Users\\kbjung\\AppData\\Local\\Temp/ipykernel_21728/3582893878.py:1: DeprecationWarning: find_elements_by_css_selector is deprecated. Please use find_elements(by=By.CSS_SELECTOR, value=css_selector) instead\n",
      "  re_reply_button = driver.find_elements_by_css_selector('div.j83agx80.buofh1pr.jklb3kyz.l9j0dhe7 > div:nth-child(2)')\n",
      "C:\\Users\\kbjung\\AppData\\Local\\Temp/ipykernel_21728/3582893878.py:2: DeprecationWarning: find_element_by_css_selector is deprecated. Please use find_element(by=By.CSS_SELECTOR, value=css_selector) instead\n",
      "  ex = driver.find_element_by_css_selector('div.gtad4xkn > div > span')\n"
     ]
    }
   ],
   "source": [
    "re_reply_button = driver.find_elements_by_css_selector('div.j83agx80.buofh1pr.jklb3kyz.l9j0dhe7 > div:nth-child(2)')\n",
    "ex = driver.find_element_by_css_selector('div.gtad4xkn > div > span')\n",
    "\n",
    "ActionChains(driver).move_to_element(ex).perform()\n",
    "for one in re_reply_button:\n",
    "    try:\n",
    "        one.click()\n",
    "        driver.implicitly_wait(1)\n",
    "        time.sleep( random.uniform(0.5, 1) )\n",
    "    except:\n",
    "        pass"
   ]
  },
  {
   "cell_type": "markdown",
   "metadata": {},
   "source": [
    "## 글 내용 수집"
   ]
  },
  {
   "cell_type": "code",
   "execution_count": 99,
   "metadata": {},
   "outputs": [
    {
     "data": {
      "text/plain": [
       "516"
      ]
     },
     "execution_count": 99,
     "metadata": {},
     "output_type": "execute_result"
    }
   ],
   "source": [
    "soup = bs(driver.page_source, 'lxml')\n",
    "div_soup = soup.find_all('div', 'rj1gh0hx buofh1pr ni8dbmo4 stjgntxs hv4rvrfc')\n",
    "len(div_soup)"
   ]
  },
  {
   "cell_type": "code",
   "execution_count": 100,
   "metadata": {},
   "outputs": [
    {
     "data": {
      "text/plain": [
       "517"
      ]
     },
     "execution_count": 100,
     "metadata": {},
     "output_type": "execute_result"
    }
   ],
   "source": [
    "num_reply = int(soup.find('span', 'd2edcug0 hpfvmrgz qv66sw1b c1et5uql lr9zc1uh a8c37x1j fe6kdd0r mau55g9w c8b282yb keod5gw0 nxhoafnm aigsh9s9 d3f4x2em iv3no6db jq4qci2q a3bd9o3v b1v8xokw m9osqain').text.split(' ')[-1][:-1])\n",
    "num_reply"
   ]
  },
  {
   "cell_type": "code",
   "execution_count": 101,
   "metadata": {},
   "outputs": [],
   "source": [
    "date_list = []\n",
    "text_num_list = []\n",
    "is_reply_list = []\n",
    "writer_list = []\n",
    "text_list = []\n",
    "added_url_list = []\n",
    "url_in_text_list = []\n",
    "is_like_list = []\n",
    "num_like_list = []\n",
    "tag_info_list = []\n",
    "num_tag_list = []\n",
    "writer_link_list = []\n",
    "reply_url_list = []\n",
    "\n",
    "for one in div_soup:\n",
    "    # 댓글 날짜\n",
    "    raw_date = one.find('ul', 'o22cckgh q9uorilb bo9p93cb oygrvhab kkf49tns l66bhrea linoseic').find_all('li')[-1].find('span').text\n",
    "    if raw_date == '수정됨':\n",
    "        date = one.find('ul', 'o22cckgh q9uorilb bo9p93cb oygrvhab kkf49tns l66bhrea linoseic').find_all('li')[-2].find('span').text\n",
    "    else:\n",
    "        date = raw_date\n",
    "\n",
    "    # 댓글 번호\n",
    "    text_num = one.find('a', 'oajrlxb2 g5ia77u1 qu0x051f esr5mh6w e9989ue4 r7d6kgcz rq0escxv nhd2j8a9 nc684nl6 p7hjln8o kvgmc6g5 cxmmr5t8 oygrvhab hcukyx3x jb3vyjys rz4wbd8a qt6c0cv9 a8nywdso i1ao9s8h esuyzwwr f1sip0of lzcic4wl gpro0wi8 m9osqain knj5qynh')['href'].split('&')[0].split('posts/')[-1].replace('?comment_id=', '_')\n",
    "\n",
    "    # 댓글 여부 확인\n",
    "    parent_class = ' '.join(one.parent.parent['class'])\n",
    "    if parent_class == 'ni8dbmo4 stjgntxs l9j0dhe7':\n",
    "        is_reply = nan\n",
    "    elif parent_class == 'ni8dbmo4 stjgntxs l9j0dhe7 d0szoon8':\n",
    "        is_reply = '댓글'\n",
    "\n",
    "    # 작성자\n",
    "    writer = one.find('span', 'pq6dq46d').text\n",
    "\n",
    "    # 글 내용\n",
    "    try:\n",
    "        text = one.find('div', 'kvgmc6g5 cxmmr5t8 oygrvhab hcukyx3x c1et5uql').text\n",
    "    except:\n",
    "        text = '내용없음'\n",
    "    # 태그 내용\n",
    "    try:\n",
    "        tag_text = one.find('div', 'cxmmr5t8 oygrvhab hcukyx3x c1et5uql o9v6fnle').text\n",
    "    except:\n",
    "        tag_text = '태그없음'\n",
    "    # 글 내용 + 태그 내용\n",
    "    text_plus_tag = text + '_' + tag_text\n",
    "\n",
    "    # 첨부\n",
    "    try:\n",
    "        added_url = one.find('a', 'oajrlxb2 g5ia77u1 qu0x051f esr5mh6w e9989ue4 r7d6kgcz rq0escxv nhd2j8a9 nc684nl6 p7hjln8o kvgmc6g5 cxmmr5t8 oygrvhab hcukyx3x jb3vyjys rz4wbd8a qt6c0cv9 a8nywdso i1ao9s8h esuyzwwr f1sip0of lzcic4wl').find('img')['src']\n",
    "    except:\n",
    "        added_url = nan\n",
    "    \n",
    "    # 댓글 내 url\n",
    "    try:\n",
    "        url_in_texts = one.find('div', 'kvgmc6g5 cxmmr5t8 oygrvhab hcukyx3x c1et5uql').find_all('a', 'oajrlxb2 g5ia77u1 qu0x051f esr5mh6w e9989ue4 r7d6kgcz rq0escxv nhd2j8a9 nc684nl6 p7hjln8o kvgmc6g5 cxmmr5t8 oygrvhab hcukyx3x jb3vyjys rz4wbd8a qt6c0cv9 a8nywdso i1ao9s8h esuyzwwr f1sip0of lzcic4wl gpro0wi8 oo9gr5id lrazzd5p')\n",
    "        idx_url = 100\n",
    "        for i, one_url in enumerate(url_in_texts):\n",
    "            if 'story' in one_url.text:\n",
    "                idx_url = i\n",
    "        if idx_url != 100:\n",
    "            url_in_text = url_in_texts[idx_url].text\n",
    "        else:\n",
    "            url_in_text = nan\n",
    "    except:\n",
    "        url_in_text = nan\n",
    "\n",
    "    # 댓글 링크\n",
    "    try:\n",
    "        reply_url = one.find('ul', 'o22cckgh q9uorilb bo9p93cb oygrvhab kkf49tns l66bhrea linoseic').find_all('li')[-1].a['href'].split('&')[0]\n",
    "    except:\n",
    "        reply_url = one.find('ul', 'o22cckgh q9uorilb bo9p93cb oygrvhab kkf49tns l66bhrea linoseic').find_all('li')[-2].a['href'].split('__')[0]\n",
    "\n",
    "    # 좋아요 표시\n",
    "    try:\n",
    "        one.find('div', 'du4w35lb pmk7jnqg lthxh50u ox23h4wi kr9hpln1').find('div', 'oajrlxb2 g5ia77u1 qu0x051f esr5mh6w e9989ue4 r7d6kgcz rq0escxv nhd2j8a9 nc684nl6 p7hjln8o kvgmc6g5 cxmmr5t8 oygrvhab hcukyx3x jb3vyjys rz4wbd8a qt6c0cv9 a8nywdso i1ao9s8h esuyzwwr f1sip0of n00je7tq arfg74bv qs9ysxi8 k77z8yql l9j0dhe7 abiwlrkh p8dawk7l lzcic4wl')['aria-label']\n",
    "        is_like = 'LIKE'\n",
    "    except:\n",
    "        is_like = nan\n",
    "\n",
    "    # 좋아요 개수\n",
    "    try:\n",
    "        num_like = int(one.find('div', 'du4w35lb pmk7jnqg lthxh50u ox23h4wi kr9hpln1').find('div', 'oajrlxb2 g5ia77u1 qu0x051f esr5mh6w e9989ue4 r7d6kgcz rq0escxv nhd2j8a9 nc684nl6 p7hjln8o kvgmc6g5 cxmmr5t8 oygrvhab hcukyx3x jb3vyjys rz4wbd8a qt6c0cv9 a8nywdso i1ao9s8h esuyzwwr f1sip0of n00je7tq arfg74bv qs9ysxi8 k77z8yql l9j0dhe7 abiwlrkh p8dawk7l lzcic4wl')['aria-label'].split('개')[0].split(' ')[-1])\n",
    "    except:\n",
    "        num_like = 0\n",
    "\n",
    "    # 태그정보 & 태그 개수\n",
    "    tags = one.find_all('a', 'oajrlxb2 g5ia77u1 qu0x051f esr5mh6w e9989ue4 r7d6kgcz rq0escxv nhd2j8a9 nc684nl6 p7hjln8o kvgmc6g5 cxmmr5t8 oygrvhab hcukyx3x jb3vyjys rz4wbd8a qt6c0cv9 a8nywdso i1ao9s8h esuyzwwr f1sip0of lzcic4wl gpro0wi8 oo9gr5id lrazzd5p')\n",
    "    if len(tags) == 0:\n",
    "        tag_info = nan\n",
    "        num_tag = 0\n",
    "    else:\n",
    "        tag_info = ''\n",
    "        for one_tag in tags:\n",
    "            tag_info = tag_info + one_tag.text + '\\n'\n",
    "        tag_info = tag_info.rstrip()\n",
    "        num_tag = len(tags)\n",
    "    \n",
    "    # 작성자 바로가기\n",
    "    raw_writer_link = one.find('a', 'oajrlxb2 g5ia77u1 qu0x051f esr5mh6w e9989ue4 r7d6kgcz rq0escxv nhd2j8a9 nc684nl6 p7hjln8o kvgmc6g5 cxmmr5t8 oygrvhab hcukyx3x jb3vyjys rz4wbd8a qt6c0cv9 a8nywdso i1ao9s8h esuyzwwr f1sip0of lzcic4wl gmql0nx0 gpro0wi8')['href']\n",
    "    if 'profile.php?id=' in raw_writer_link:\n",
    "        writer_link = raw_writer_link.split('&')[0].replace('profile.php?id=', '')\n",
    "    else:\n",
    "        writer_link = raw_writer_link.split('?')[0]\n",
    "        \n",
    "    date_list.append(date)\n",
    "    text_num_list.append(text_num)\n",
    "    is_reply_list.append(is_reply)\n",
    "    writer_list.append(writer)\n",
    "    text_list.append(text_plus_tag)\n",
    "    added_url_list.append(added_url)\n",
    "    url_in_text_list.append(url_in_text)\n",
    "    is_like_list.append(is_like)\n",
    "    num_like_list.append(num_like)\n",
    "    tag_info_list.append(tag_info)\n",
    "    num_tag_list.append(num_tag)\n",
    "    writer_link_list.append(writer_link)\n",
    "    reply_url_list.append(reply_url)"
   ]
  },
  {
   "cell_type": "markdown",
   "metadata": {},
   "source": [
    "### 수집 데이터 확인"
   ]
  },
  {
   "cell_type": "code",
   "execution_count": 102,
   "metadata": {},
   "outputs": [
    {
     "name": "stdout",
     "output_type": "stream",
     "text": [
      "516\n",
      "516\n",
      "516\n",
      "516\n",
      "516\n",
      "516\n",
      "516\n",
      "516\n",
      "516\n",
      "516\n",
      "516\n",
      "516\n",
      "516\n"
     ]
    }
   ],
   "source": [
    "print( len(date_list) )\n",
    "print( len(text_num_list) )\n",
    "print( len(is_reply_list) )\n",
    "print( len(writer_list) )\n",
    "print( len(text_list) )\n",
    "print( len(added_url_list) )\n",
    "print( len(url_in_text_list) )\n",
    "print( len(is_like_list) )\n",
    "print( len(num_like_list) )\n",
    "print( len(tag_info_list) )\n",
    "print( len(num_tag_list) )\n",
    "print( len(writer_link_list) )\n",
    "print( len(reply_url_list) )"
   ]
  },
  {
   "cell_type": "markdown",
   "metadata": {},
   "source": [
    "## df 생성"
   ]
  },
  {
   "cell_type": "code",
   "execution_count": 103,
   "metadata": {},
   "outputs": [],
   "source": [
    "dict= {'날짜':date_list, '댓글번호':text_num_list, '답글여부':is_reply_list, '작성자':writer_list,\n",
    "       '내용':text_list, '첨부':added_url_list, '댓글내URL':url_in_text_list,\n",
    "       '글에좋아요':is_like_list, '좋아요수':num_like_list, '태그정보':tag_info_list,\n",
    "       '태그수':num_tag_list, '작성자_바로가기':writer_link_list, '댓글_바로가기':reply_url_list}"
   ]
  },
  {
   "cell_type": "code",
   "execution_count": 104,
   "metadata": {},
   "outputs": [
    {
     "name": "stdout",
     "output_type": "stream",
     "text": [
      "<class 'pandas.core.frame.DataFrame'>\n",
      "RangeIndex: 516 entries, 0 to 515\n",
      "Data columns (total 13 columns):\n",
      " #   Column    Non-Null Count  Dtype \n",
      "---  ------    --------------  ----- \n",
      " 0   날짜        516 non-null    object\n",
      " 1   댓글번호      516 non-null    object\n",
      " 2   답글여부      20 non-null     object\n",
      " 3   작성자       516 non-null    object\n",
      " 4   내용        516 non-null    object\n",
      " 5   첨부        19 non-null     object\n",
      " 6   댓글내URL    4 non-null      object\n",
      " 7   글에좋아요     163 non-null    object\n",
      " 8   좋아요수      516 non-null    int64 \n",
      " 9   태그정보      381 non-null    object\n",
      " 10  태그수       516 non-null    int64 \n",
      " 11  작성자_바로가기  516 non-null    object\n",
      " 12  댓글_바로가기   516 non-null    object\n",
      "dtypes: int64(2), object(11)\n",
      "memory usage: 52.5+ KB\n"
     ]
    }
   ],
   "source": [
    "df = pd.DataFrame(dict)\n",
    "df.info()"
   ]
  },
  {
   "cell_type": "code",
   "execution_count": 106,
   "metadata": {},
   "outputs": [
    {
     "data": {
      "text/html": [
       "<div>\n",
       "<style scoped>\n",
       "    .dataframe tbody tr th:only-of-type {\n",
       "        vertical-align: middle;\n",
       "    }\n",
       "\n",
       "    .dataframe tbody tr th {\n",
       "        vertical-align: top;\n",
       "    }\n",
       "\n",
       "    .dataframe thead th {\n",
       "        text-align: right;\n",
       "    }\n",
       "</style>\n",
       "<table border=\"1\" class=\"dataframe\">\n",
       "  <thead>\n",
       "    <tr style=\"text-align: right;\">\n",
       "      <th></th>\n",
       "      <th>날짜</th>\n",
       "      <th>댓글번호</th>\n",
       "      <th>답글여부</th>\n",
       "      <th>작성자</th>\n",
       "      <th>내용</th>\n",
       "      <th>첨부</th>\n",
       "      <th>댓글내URL</th>\n",
       "      <th>글에좋아요</th>\n",
       "      <th>좋아요수</th>\n",
       "      <th>태그정보</th>\n",
       "      <th>태그수</th>\n",
       "      <th>작성자_바로가기</th>\n",
       "      <th>댓글_바로가기</th>\n",
       "    </tr>\n",
       "  </thead>\n",
       "  <tbody>\n",
       "    <tr>\n",
       "      <th>0</th>\n",
       "      <td>2일</td>\n",
       "      <td>3221016041505411_3167484966825122</td>\n",
       "      <td>NaN</td>\n",
       "      <td>정은송</td>\n",
       "      <td>정답: &lt;1번 X , 2번 O , 3번 O&gt;, 널리널리 공유합니다. #김지윤 함께 ...</td>\n",
       "      <td>NaN</td>\n",
       "      <td>NaN</td>\n",
       "      <td>NaN</td>\n",
       "      <td>0</td>\n",
       "      <td>#김지윤</td>\n",
       "      <td>1</td>\n",
       "      <td>https://www.facebook.com/100052242283014</td>\n",
       "      <td>https://www.facebook.com/incheoncouncil/posts/...</td>\n",
       "    </tr>\n",
       "    <tr>\n",
       "      <th>1</th>\n",
       "      <td>2일</td>\n",
       "      <td>3221016041505411_475914204221101</td>\n",
       "      <td>NaN</td>\n",
       "      <td>박동진</td>\n",
       "      <td>정답: X O O , #인천광역시의회 를 으랏차차 응원합니다._태그없음</td>\n",
       "      <td>NaN</td>\n",
       "      <td>NaN</td>\n",
       "      <td>NaN</td>\n",
       "      <td>0</td>\n",
       "      <td>#인천광역시의회</td>\n",
       "      <td>1</td>\n",
       "      <td>https://www.facebook.com/nomark22233</td>\n",
       "      <td>https://www.facebook.com/incheoncouncil/posts/...</td>\n",
       "    </tr>\n",
       "    <tr>\n",
       "      <th>2</th>\n",
       "      <td>2일</td>\n",
       "      <td>3221016041505411_501035645135249</td>\n",
       "      <td>NaN</td>\n",
       "      <td>최길아</td>\n",
       "      <td>정답 : 1번 X / 2번 O / 3번 O ! 게시물 좋아요 누르고 공유해요._태그없음</td>\n",
       "      <td>NaN</td>\n",
       "      <td>NaN</td>\n",
       "      <td>NaN</td>\n",
       "      <td>0</td>\n",
       "      <td>NaN</td>\n",
       "      <td>0</td>\n",
       "      <td>https://www.facebook.com/abcgil123</td>\n",
       "      <td>https://www.facebook.com/incheoncouncil/posts/...</td>\n",
       "    </tr>\n",
       "    <tr>\n",
       "      <th>3</th>\n",
       "      <td>2일</td>\n",
       "      <td>3221016041505411_364704162278400</td>\n",
       "      <td>NaN</td>\n",
       "      <td>박미나</td>\n",
       "      <td>정답: 1. X , 2. O , 3. O , 타임라인에 공유하고 Jina Park ...</td>\n",
       "      <td>NaN</td>\n",
       "      <td>NaN</td>\n",
       "      <td>NaN</td>\n",
       "      <td>0</td>\n",
       "      <td>Jina Park</td>\n",
       "      <td>1</td>\n",
       "      <td>https://www.facebook.com/cozy2023</td>\n",
       "      <td>https://www.facebook.com/incheoncouncil/posts/...</td>\n",
       "    </tr>\n",
       "    <tr>\n",
       "      <th>4</th>\n",
       "      <td>2일</td>\n",
       "      <td>3221016041505411_797778061627837</td>\n",
       "      <td>NaN</td>\n",
       "      <td>정하리</td>\n",
       "      <td>정답 : , ,  입니다 _항상 시민들과 함께 !하는인천광역시의회 응원합니다</td>\n",
       "      <td>NaN</td>\n",
       "      <td>NaN</td>\n",
       "      <td>LIKE</td>\n",
       "      <td>2</td>\n",
       "      <td>냠냠공주\\n송예준\\n엄광수\\n유수아\\n박신아</td>\n",
       "      <td>5</td>\n",
       "      <td>https://www.facebook.com/dltkdrl35</td>\n",
       "      <td>https://www.facebook.com/incheoncouncil/posts/...</td>\n",
       "    </tr>\n",
       "    <tr>\n",
       "      <th>5</th>\n",
       "      <td>2일</td>\n",
       "      <td>3221016041505411_797778061627837</td>\n",
       "      <td>댓글</td>\n",
       "      <td>냠냠공주</td>\n",
       "      <td>내용없음_태그없음</td>\n",
       "      <td>NaN</td>\n",
       "      <td>NaN</td>\n",
       "      <td>NaN</td>\n",
       "      <td>0</td>\n",
       "      <td>NaN</td>\n",
       "      <td>0</td>\n",
       "      <td>https://www.facebook.com/misug.seo</td>\n",
       "      <td>https://www.facebook.com/incheoncouncil/posts/...</td>\n",
       "    </tr>\n",
       "    <tr>\n",
       "      <th>6</th>\n",
       "      <td>2일</td>\n",
       "      <td>3221016041505411_320048573537345</td>\n",
       "      <td>NaN</td>\n",
       "      <td>정아름</td>\n",
       "      <td>정답 : 1. X / 2.O / 3. O_곽지혜 냠냠공주 박미현 정은남 권은빛</td>\n",
       "      <td>NaN</td>\n",
       "      <td>NaN</td>\n",
       "      <td>LIKE</td>\n",
       "      <td>4</td>\n",
       "      <td>곽지혜\\n냠냠공주\\n박미현\\n정은남\\n권은빛</td>\n",
       "      <td>5</td>\n",
       "      <td>https://www.facebook.com/hotdog1358</td>\n",
       "      <td>https://www.facebook.com/incheoncouncil/posts/...</td>\n",
       "    </tr>\n",
       "    <tr>\n",
       "      <th>7</th>\n",
       "      <td>2일</td>\n",
       "      <td>3221016041505411_320048573537345</td>\n",
       "      <td>댓글</td>\n",
       "      <td>정은남</td>\n",
       "      <td>내용없음_태그없음</td>\n",
       "      <td>NaN</td>\n",
       "      <td>NaN</td>\n",
       "      <td>NaN</td>\n",
       "      <td>0</td>\n",
       "      <td>NaN</td>\n",
       "      <td>0</td>\n",
       "      <td>https://www.facebook.com/cherish710000</td>\n",
       "      <td>https://www.facebook.com/incheoncouncil/posts/...</td>\n",
       "    </tr>\n",
       "    <tr>\n",
       "      <th>8</th>\n",
       "      <td>2일</td>\n",
       "      <td>3221016041505411_320048573537345</td>\n",
       "      <td>댓글</td>\n",
       "      <td>냠냠공주</td>\n",
       "      <td>내용없음_태그없음</td>\n",
       "      <td>NaN</td>\n",
       "      <td>NaN</td>\n",
       "      <td>NaN</td>\n",
       "      <td>0</td>\n",
       "      <td>NaN</td>\n",
       "      <td>0</td>\n",
       "      <td>https://www.facebook.com/misug.seo</td>\n",
       "      <td>https://www.facebook.com/incheoncouncil/posts/...</td>\n",
       "    </tr>\n",
       "    <tr>\n",
       "      <th>9</th>\n",
       "      <td>2일</td>\n",
       "      <td>3221016041505411_4988167147967776</td>\n",
       "      <td>NaN</td>\n",
       "      <td>신정애</td>\n",
       "      <td>정답 : 1. X / 2.O / 3. O유지희 김보라 박진숙_태그없음</td>\n",
       "      <td>NaN</td>\n",
       "      <td>NaN</td>\n",
       "      <td>NaN</td>\n",
       "      <td>0</td>\n",
       "      <td>유지희\\n김보라\\n박진숙</td>\n",
       "      <td>3</td>\n",
       "      <td>https://www.facebook.com/100009088090686</td>\n",
       "      <td>https://www.facebook.com/incheoncouncil/posts/...</td>\n",
       "    </tr>\n",
       "  </tbody>\n",
       "</table>\n",
       "</div>"
      ],
      "text/plain": [
       "   날짜                               댓글번호 답글여부   작성자  \\\n",
       "0  2일  3221016041505411_3167484966825122  NaN   정은송   \n",
       "1  2일   3221016041505411_475914204221101  NaN   박동진   \n",
       "2  2일   3221016041505411_501035645135249  NaN   최길아   \n",
       "3  2일   3221016041505411_364704162278400  NaN   박미나   \n",
       "4  2일   3221016041505411_797778061627837  NaN   정하리   \n",
       "5  2일   3221016041505411_797778061627837   댓글  냠냠공주   \n",
       "6  2일   3221016041505411_320048573537345  NaN   정아름   \n",
       "7  2일   3221016041505411_320048573537345   댓글   정은남   \n",
       "8  2일   3221016041505411_320048573537345   댓글  냠냠공주   \n",
       "9  2일  3221016041505411_4988167147967776  NaN   신정애   \n",
       "\n",
       "                                                  내용   첨부 댓글내URL 글에좋아요  좋아요수  \\\n",
       "0  정답: <1번 X , 2번 O , 3번 O>, 널리널리 공유합니다. #김지윤 함께 ...  NaN    NaN   NaN     0   \n",
       "1            정답: X O O , #인천광역시의회 를 으랏차차 응원합니다._태그없음  NaN    NaN   NaN     0   \n",
       "2   정답 : 1번 X / 2번 O / 3번 O ! 게시물 좋아요 누르고 공유해요._태그없음  NaN    NaN   NaN     0   \n",
       "3  정답: 1. X , 2. O , 3. O , 타임라인에 공유하고 Jina Park ...  NaN    NaN   NaN     0   \n",
       "4         정답 : , ,  입니다 _항상 시민들과 함께 !하는인천광역시의회 응원합니다  NaN    NaN  LIKE     2   \n",
       "5                                          내용없음_태그없음  NaN    NaN   NaN     0   \n",
       "6        정답 : 1. X / 2.O / 3. O_곽지혜 냠냠공주 박미현 정은남 권은빛  NaN    NaN  LIKE     4   \n",
       "7                                          내용없음_태그없음  NaN    NaN   NaN     0   \n",
       "8                                          내용없음_태그없음  NaN    NaN   NaN     0   \n",
       "9             정답 : 1. X / 2.O / 3. O유지희 김보라 박진숙_태그없음  NaN    NaN   NaN     0   \n",
       "\n",
       "                       태그정보  태그수                                  작성자_바로가기  \\\n",
       "0                      #김지윤    1  https://www.facebook.com/100052242283014   \n",
       "1                  #인천광역시의회    1      https://www.facebook.com/nomark22233   \n",
       "2                       NaN    0        https://www.facebook.com/abcgil123   \n",
       "3                 Jina Park    1         https://www.facebook.com/cozy2023   \n",
       "4  냠냠공주\\n송예준\\n엄광수\\n유수아\\n박신아    5        https://www.facebook.com/dltkdrl35   \n",
       "5                       NaN    0        https://www.facebook.com/misug.seo   \n",
       "6  곽지혜\\n냠냠공주\\n박미현\\n정은남\\n권은빛    5       https://www.facebook.com/hotdog1358   \n",
       "7                       NaN    0    https://www.facebook.com/cherish710000   \n",
       "8                       NaN    0        https://www.facebook.com/misug.seo   \n",
       "9             유지희\\n김보라\\n박진숙    3  https://www.facebook.com/100009088090686   \n",
       "\n",
       "                                             댓글_바로가기  \n",
       "0  https://www.facebook.com/incheoncouncil/posts/...  \n",
       "1  https://www.facebook.com/incheoncouncil/posts/...  \n",
       "2  https://www.facebook.com/incheoncouncil/posts/...  \n",
       "3  https://www.facebook.com/incheoncouncil/posts/...  \n",
       "4  https://www.facebook.com/incheoncouncil/posts/...  \n",
       "5  https://www.facebook.com/incheoncouncil/posts/...  \n",
       "6  https://www.facebook.com/incheoncouncil/posts/...  \n",
       "7  https://www.facebook.com/incheoncouncil/posts/...  \n",
       "8  https://www.facebook.com/incheoncouncil/posts/...  \n",
       "9  https://www.facebook.com/incheoncouncil/posts/...  "
      ]
     },
     "execution_count": 106,
     "metadata": {},
     "output_type": "execute_result"
    }
   ],
   "source": [
    "df.head(10)"
   ]
  },
  {
   "cell_type": "markdown",
   "metadata": {},
   "source": [
    "### df 수정"
   ]
  },
  {
   "cell_type": "markdown",
   "metadata": {},
   "source": [
    "#### 댓글 수 만큼만 가져오기"
   ]
  },
  {
   "cell_type": "code",
   "execution_count": 107,
   "metadata": {},
   "outputs": [
    {
     "name": "stdout",
     "output_type": "stream",
     "text": [
      "<class 'pandas.core.frame.DataFrame'>\n",
      "RangeIndex: 516 entries, 0 to 515\n",
      "Data columns (total 13 columns):\n",
      " #   Column    Non-Null Count  Dtype \n",
      "---  ------    --------------  ----- \n",
      " 0   날짜        516 non-null    object\n",
      " 1   댓글번호      516 non-null    object\n",
      " 2   답글여부      20 non-null     object\n",
      " 3   작성자       516 non-null    object\n",
      " 4   내용        516 non-null    object\n",
      " 5   첨부        19 non-null     object\n",
      " 6   댓글내URL    4 non-null      object\n",
      " 7   글에좋아요     163 non-null    object\n",
      " 8   좋아요수      516 non-null    int64 \n",
      " 9   태그정보      381 non-null    object\n",
      " 10  태그수       516 non-null    int64 \n",
      " 11  작성자_바로가기  516 non-null    object\n",
      " 12  댓글_바로가기   516 non-null    object\n",
      "dtypes: int64(2), object(11)\n",
      "memory usage: 52.5+ KB\n"
     ]
    }
   ],
   "source": [
    "df1 = df.iloc[:num_reply, :]\n",
    "df1.info()"
   ]
  },
  {
   "cell_type": "markdown",
   "metadata": {},
   "source": [
    "#### 내용없는 데이터 제거"
   ]
  },
  {
   "cell_type": "code",
   "execution_count": 108,
   "metadata": {},
   "outputs": [
    {
     "name": "stdout",
     "output_type": "stream",
     "text": [
      "<class 'pandas.core.frame.DataFrame'>\n",
      "Int64Index: 17 entries, 5 to 479\n",
      "Data columns (total 13 columns):\n",
      " #   Column    Non-Null Count  Dtype \n",
      "---  ------    --------------  ----- \n",
      " 0   날짜        17 non-null     object\n",
      " 1   댓글번호      17 non-null     object\n",
      " 2   답글여부      17 non-null     object\n",
      " 3   작성자       17 non-null     object\n",
      " 4   내용        17 non-null     object\n",
      " 5   첨부        0 non-null      object\n",
      " 6   댓글내URL    0 non-null      object\n",
      " 7   글에좋아요     2 non-null      object\n",
      " 8   좋아요수      17 non-null     int64 \n",
      " 9   태그정보      0 non-null      object\n",
      " 10  태그수       17 non-null     int64 \n",
      " 11  작성자_바로가기  17 non-null     object\n",
      " 12  댓글_바로가기   17 non-null     object\n",
      "dtypes: int64(2), object(11)\n",
      "memory usage: 1.9+ KB\n"
     ]
    }
   ],
   "source": [
    "df1[df1['내용'] == '내용없음_태그없음'].info()"
   ]
  },
  {
   "cell_type": "code",
   "execution_count": 109,
   "metadata": {},
   "outputs": [
    {
     "name": "stdout",
     "output_type": "stream",
     "text": [
      "<class 'pandas.core.frame.DataFrame'>\n",
      "RangeIndex: 499 entries, 0 to 498\n",
      "Data columns (total 13 columns):\n",
      " #   Column    Non-Null Count  Dtype \n",
      "---  ------    --------------  ----- \n",
      " 0   날짜        499 non-null    object\n",
      " 1   댓글번호      499 non-null    object\n",
      " 2   답글여부      3 non-null      object\n",
      " 3   작성자       499 non-null    object\n",
      " 4   내용        499 non-null    object\n",
      " 5   첨부        19 non-null     object\n",
      " 6   댓글내URL    4 non-null      object\n",
      " 7   글에좋아요     161 non-null    object\n",
      " 8   좋아요수      499 non-null    int64 \n",
      " 9   태그정보      381 non-null    object\n",
      " 10  태그수       499 non-null    int64 \n",
      " 11  작성자_바로가기  499 non-null    object\n",
      " 12  댓글_바로가기   499 non-null    object\n",
      "dtypes: int64(2), object(11)\n",
      "memory usage: 50.8+ KB\n"
     ]
    }
   ],
   "source": [
    "df2 = df1.drop(df1[df1['내용'] == '내용없음_태그없음'].index).reset_index(drop=True)\n",
    "df2.info()"
   ]
  },
  {
   "cell_type": "markdown",
   "metadata": {},
   "source": [
    "#### 내용에 _태그없음 제거"
   ]
  },
  {
   "cell_type": "code",
   "execution_count": 110,
   "metadata": {},
   "outputs": [],
   "source": [
    "df3 = df2.copy()\n",
    "df3['내용'] = df3['내용'].str.replace('_태그없음', '')"
   ]
  },
  {
   "cell_type": "markdown",
   "metadata": {},
   "source": [
    "#### 최종 df 생성"
   ]
  },
  {
   "cell_type": "code",
   "execution_count": 112,
   "metadata": {},
   "outputs": [],
   "source": [
    "final_df = df3.copy()"
   ]
  },
  {
   "cell_type": "code",
   "execution_count": 113,
   "metadata": {},
   "outputs": [
    {
     "data": {
      "text/html": [
       "<div>\n",
       "<style scoped>\n",
       "    .dataframe tbody tr th:only-of-type {\n",
       "        vertical-align: middle;\n",
       "    }\n",
       "\n",
       "    .dataframe tbody tr th {\n",
       "        vertical-align: top;\n",
       "    }\n",
       "\n",
       "    .dataframe thead th {\n",
       "        text-align: right;\n",
       "    }\n",
       "</style>\n",
       "<table border=\"1\" class=\"dataframe\">\n",
       "  <thead>\n",
       "    <tr style=\"text-align: right;\">\n",
       "      <th></th>\n",
       "      <th>날짜</th>\n",
       "      <th>댓글번호</th>\n",
       "      <th>답글여부</th>\n",
       "      <th>작성자</th>\n",
       "      <th>내용</th>\n",
       "      <th>첨부</th>\n",
       "      <th>댓글내URL</th>\n",
       "      <th>글에좋아요</th>\n",
       "      <th>좋아요수</th>\n",
       "      <th>태그정보</th>\n",
       "      <th>태그수</th>\n",
       "      <th>작성자_바로가기</th>\n",
       "      <th>댓글_바로가기</th>\n",
       "    </tr>\n",
       "  </thead>\n",
       "  <tbody>\n",
       "    <tr>\n",
       "      <th>0</th>\n",
       "      <td>2일</td>\n",
       "      <td>3221016041505411_3167484966825122</td>\n",
       "      <td>NaN</td>\n",
       "      <td>정은송</td>\n",
       "      <td>정답: &lt;1번 X , 2번 O , 3번 O&gt;, 널리널리 공유합니다. #김지윤 함께 ...</td>\n",
       "      <td>NaN</td>\n",
       "      <td>NaN</td>\n",
       "      <td>NaN</td>\n",
       "      <td>0</td>\n",
       "      <td>#김지윤</td>\n",
       "      <td>1</td>\n",
       "      <td>https://www.facebook.com/100052242283014</td>\n",
       "      <td>https://www.facebook.com/incheoncouncil/posts/...</td>\n",
       "    </tr>\n",
       "    <tr>\n",
       "      <th>1</th>\n",
       "      <td>2일</td>\n",
       "      <td>3221016041505411_475914204221101</td>\n",
       "      <td>NaN</td>\n",
       "      <td>박동진</td>\n",
       "      <td>정답: X O O , #인천광역시의회 를 으랏차차 응원합니다.</td>\n",
       "      <td>NaN</td>\n",
       "      <td>NaN</td>\n",
       "      <td>NaN</td>\n",
       "      <td>0</td>\n",
       "      <td>#인천광역시의회</td>\n",
       "      <td>1</td>\n",
       "      <td>https://www.facebook.com/nomark22233</td>\n",
       "      <td>https://www.facebook.com/incheoncouncil/posts/...</td>\n",
       "    </tr>\n",
       "    <tr>\n",
       "      <th>2</th>\n",
       "      <td>2일</td>\n",
       "      <td>3221016041505411_501035645135249</td>\n",
       "      <td>NaN</td>\n",
       "      <td>최길아</td>\n",
       "      <td>정답 : 1번 X / 2번 O / 3번 O ! 게시물 좋아요 누르고 공유해요.</td>\n",
       "      <td>NaN</td>\n",
       "      <td>NaN</td>\n",
       "      <td>NaN</td>\n",
       "      <td>0</td>\n",
       "      <td>NaN</td>\n",
       "      <td>0</td>\n",
       "      <td>https://www.facebook.com/abcgil123</td>\n",
       "      <td>https://www.facebook.com/incheoncouncil/posts/...</td>\n",
       "    </tr>\n",
       "    <tr>\n",
       "      <th>3</th>\n",
       "      <td>2일</td>\n",
       "      <td>3221016041505411_364704162278400</td>\n",
       "      <td>NaN</td>\n",
       "      <td>박미나</td>\n",
       "      <td>정답: 1. X , 2. O , 3. O , 타임라인에 공유하고 Jina Park ...</td>\n",
       "      <td>NaN</td>\n",
       "      <td>NaN</td>\n",
       "      <td>NaN</td>\n",
       "      <td>0</td>\n",
       "      <td>Jina Park</td>\n",
       "      <td>1</td>\n",
       "      <td>https://www.facebook.com/cozy2023</td>\n",
       "      <td>https://www.facebook.com/incheoncouncil/posts/...</td>\n",
       "    </tr>\n",
       "    <tr>\n",
       "      <th>4</th>\n",
       "      <td>2일</td>\n",
       "      <td>3221016041505411_797778061627837</td>\n",
       "      <td>NaN</td>\n",
       "      <td>정하리</td>\n",
       "      <td>정답 : , ,  입니다 _항상 시민들과 함께 !하는인천광역시의회 응원합니다</td>\n",
       "      <td>NaN</td>\n",
       "      <td>NaN</td>\n",
       "      <td>LIKE</td>\n",
       "      <td>2</td>\n",
       "      <td>냠냠공주\\n송예준\\n엄광수\\n유수아\\n박신아</td>\n",
       "      <td>5</td>\n",
       "      <td>https://www.facebook.com/dltkdrl35</td>\n",
       "      <td>https://www.facebook.com/incheoncouncil/posts/...</td>\n",
       "    </tr>\n",
       "  </tbody>\n",
       "</table>\n",
       "</div>"
      ],
      "text/plain": [
       "   날짜                               댓글번호 답글여부  작성자  \\\n",
       "0  2일  3221016041505411_3167484966825122  NaN  정은송   \n",
       "1  2일   3221016041505411_475914204221101  NaN  박동진   \n",
       "2  2일   3221016041505411_501035645135249  NaN  최길아   \n",
       "3  2일   3221016041505411_364704162278400  NaN  박미나   \n",
       "4  2일   3221016041505411_797778061627837  NaN  정하리   \n",
       "\n",
       "                                                  내용   첨부 댓글내URL 글에좋아요  좋아요수  \\\n",
       "0  정답: <1번 X , 2번 O , 3번 O>, 널리널리 공유합니다. #김지윤 함께 ...  NaN    NaN   NaN     0   \n",
       "1                 정답: X O O , #인천광역시의회 를 으랏차차 응원합니다.  NaN    NaN   NaN     0   \n",
       "2        정답 : 1번 X / 2번 O / 3번 O ! 게시물 좋아요 누르고 공유해요.  NaN    NaN   NaN     0   \n",
       "3  정답: 1. X , 2. O , 3. O , 타임라인에 공유하고 Jina Park ...  NaN    NaN   NaN     0   \n",
       "4         정답 : , ,  입니다 _항상 시민들과 함께 !하는인천광역시의회 응원합니다  NaN    NaN  LIKE     2   \n",
       "\n",
       "                       태그정보  태그수                                  작성자_바로가기  \\\n",
       "0                      #김지윤    1  https://www.facebook.com/100052242283014   \n",
       "1                  #인천광역시의회    1      https://www.facebook.com/nomark22233   \n",
       "2                       NaN    0        https://www.facebook.com/abcgil123   \n",
       "3                 Jina Park    1         https://www.facebook.com/cozy2023   \n",
       "4  냠냠공주\\n송예준\\n엄광수\\n유수아\\n박신아    5        https://www.facebook.com/dltkdrl35   \n",
       "\n",
       "                                             댓글_바로가기  \n",
       "0  https://www.facebook.com/incheoncouncil/posts/...  \n",
       "1  https://www.facebook.com/incheoncouncil/posts/...  \n",
       "2  https://www.facebook.com/incheoncouncil/posts/...  \n",
       "3  https://www.facebook.com/incheoncouncil/posts/...  \n",
       "4  https://www.facebook.com/incheoncouncil/posts/...  "
      ]
     },
     "execution_count": 113,
     "metadata": {},
     "output_type": "execute_result"
    }
   ],
   "source": [
    "final_df.head()"
   ]
  },
  {
   "cell_type": "markdown",
   "metadata": {},
   "source": [
    "## 파일 생성"
   ]
  },
  {
   "cell_type": "code",
   "execution_count": 114,
   "metadata": {},
   "outputs": [
    {
     "data": {
      "text/plain": [
       "'20220509_104128'"
      ]
     },
     "execution_count": 114,
     "metadata": {},
     "output_type": "execute_result"
    }
   ],
   "source": [
    "today_date = datetime.today().strftime('%Y%m%d_%H%M%S')\n",
    "today_date"
   ]
  },
  {
   "cell_type": "code",
   "execution_count": 115,
   "metadata": {},
   "outputs": [
    {
     "name": "stdout",
     "output_type": "stream",
     "text": [
      "facebook_20220509_104128.xlsx 출력완료\n"
     ]
    }
   ],
   "source": [
    "today_date = datetime.today().strftime('%Y%m%d_%H%M%S')\n",
    "file_name = f'facebook_{today_date}.xlsx'\n",
    "final_df.to_excel(crawled_folder_path + '/' + file_name, index=False, encoding='utf-8')\n",
    "print(f'{file_name} 출력완료')"
   ]
  },
  {
   "cell_type": "code",
   "execution_count": 80,
   "metadata": {},
   "outputs": [],
   "source": [
    "# driver.quit()"
   ]
  },
  {
   "cell_type": "markdown",
   "metadata": {},
   "source": [
    "# 코드 마지막"
   ]
  }
 ],
 "metadata": {
  "interpreter": {
   "hash": "b3ba2566441a7c06988d0923437866b63cedc61552a5af99d1f4fb67d367b25f"
  },
  "kernelspec": {
   "display_name": "Python 3.9.7 ('base')",
   "language": "python",
   "name": "python3"
  },
  "language_info": {
   "codemirror_mode": {
    "name": "ipython",
    "version": 3
   },
   "file_extension": ".py",
   "mimetype": "text/x-python",
   "name": "python",
   "nbconvert_exporter": "python",
   "pygments_lexer": "ipython3",
   "version": "3.9.7"
  },
  "orig_nbformat": 4
 },
 "nbformat": 4,
 "nbformat_minor": 2
}
