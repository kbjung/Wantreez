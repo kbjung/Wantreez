{
 "cells": [
  {
   "cell_type": "markdown",
   "metadata": {},
   "source": [
    "# Naver blog scrap"
   ]
  },
  {
   "cell_type": "markdown",
   "metadata": {},
   "source": [
    "## 라이브러리"
   ]
  },
  {
   "cell_type": "code",
   "execution_count": 883,
   "metadata": {},
   "outputs": [],
   "source": [
    "import pandas as pd\n",
    "import time, os, random\n",
    "from datetime import datetime\n",
    "from numpy import nan"
   ]
  },
  {
   "cell_type": "code",
   "execution_count": 884,
   "metadata": {},
   "outputs": [],
   "source": [
    "from bs4 import BeautifulSoup as bs\n",
    "from selenium import webdriver\n",
    "import chromedriver_autoinstaller as ca"
   ]
  },
  {
   "cell_type": "markdown",
   "metadata": {},
   "source": [
    "## 크롤링 함수"
   ]
  },
  {
   "cell_type": "code",
   "execution_count": 885,
   "metadata": {},
   "outputs": [],
   "source": [
    "def crawling(comment_areas, list):\n",
    "    # 리스트 지정\n",
    "    date_list = list[0]\n",
    "    rare_number_list = list[1]\n",
    "    check_reply_list = list[2]\n",
    "    nickname_list = list[3]\n",
    "    writer_url_list = list[4]\n",
    "    like_num_list = list[5]\n",
    "    link_num_list = list[6]\n",
    "    reply_num_list = list[7]\n",
    "    img_list = list[8]\n",
    "    comment_list = list[9]\n",
    "\n",
    "    for one in comment_areas:\n",
    "        # 작성일 수집\n",
    "        date = one.find('div', 'u_cbox_comment_box').find('span','u_cbox_date').attrs['data-value'].split('+')[0].replace('T',' ')\n",
    "        date_list.append(date)\n",
    "\n",
    "        # 고유번호\n",
    "        temp = one.attrs['class'][1].split('_')[-1]\n",
    "        rare_number_list.append(temp)\n",
    "\n",
    "        # 답글 구분\n",
    "        try:\n",
    "            one.find('span', 'u_cbox_secret_contents').text\n",
    "            temp = '비밀댓글'\n",
    "        except:\n",
    "            try:\n",
    "                temp = one.find('div', 'u_cbox_reply_area').find('li')\n",
    "                temp = nan\n",
    "            except:\n",
    "                temp = '답글'\n",
    "        check_reply_list.append(temp)\n",
    "\n",
    "        # 닉네임\n",
    "        try:\n",
    "            temp = one.find('span', 'u_cbox_nick').text\n",
    "        except:\n",
    "            temp = '비밀댓글'\n",
    "        nickname_list.append(temp)\n",
    "\n",
    "        # 작성자 url\n",
    "        try:\n",
    "            temp = one.find('a', 'u_cbox_name').attrs['href']\n",
    "        except:\n",
    "            temp = '비밀댓글'\n",
    "        writer_url_list.append(temp)\n",
    "\n",
    "        # 공감수\n",
    "        try:\n",
    "            temp = int( one.find('em', 'u_cbox_cnt_recomm').text )\n",
    "        except:\n",
    "            temp = 0\n",
    "        like_num_list.append(temp)\n",
    "\n",
    "        # 링크 수\n",
    "        try:\n",
    "            temp = one.find('span', 'u_cbox_contents').find_all('a', 'u_cbox_contents_link')\n",
    "            temp = len(temp)\n",
    "        except:\n",
    "            temp = 0\n",
    "        link_num_list.append(temp)\n",
    "\n",
    "        # 답글 수\n",
    "        try:\n",
    "            temp = one.find('div', 'u_cbox_reply_area').find_all('li')\n",
    "            temp = len(temp)\n",
    "        except:\n",
    "            temp = 0\n",
    "        reply_num_list.append(temp)\n",
    "\n",
    "        # 첨부이미지url\n",
    "        try:\n",
    "            temp = one.find('div', 'u_cbox_image_section').find('img').attrs['src']\n",
    "        except:\n",
    "            temp = nan\n",
    "        img_list.append(temp)\n",
    "\n",
    "        # 댓글 내용 수집\n",
    "        try:\n",
    "            temp = one.find('span', 'u_cbox_contents').text.replace('@', ' @', 1).replace('http', ' http', 1)\n",
    "        except:\n",
    "            temp = '비밀댓글'\n",
    "        comment_list.append(temp)\n",
    "\n",
    "    # 수집한 데이터 확인\n",
    "    print('작성일 리스트 길이 : ', len(date_list))\n",
    "    print('고유번호 리스트 길이 : ', len(rare_number_list))\n",
    "    print('답글구분 리스트 길이 : ', len(check_reply_list))\n",
    "    print('닉네임 리스트 길이 : ', len(nickname_list))\n",
    "    print('작성자URL 리스트 길이 : ', len(writer_url_list))\n",
    "    print('공감수 리스트 길이 : ', len(like_num_list))\n",
    "    print('링크수 리스트 길이 : ', len(link_num_list))\n",
    "    print('답글수 리스트 길이 : ', len(reply_num_list))\n",
    "    print('첨부이미지URL 리스트 길이 : ', len(img_list))\n",
    "    print('내용 리스트 길이 : ', len(comment_list))\n",
    "\n",
    "    # 리스트에 담기\n",
    "    crawled_list = [date_list, rare_number_list, check_reply_list, nickname_list, \n",
    "            writer_url_list, like_num_list, link_num_list, reply_num_list,\n",
    "            img_list, comment_list]\n",
    "\n",
    "    return crawled_list"
   ]
  },
  {
   "cell_type": "markdown",
   "metadata": {},
   "source": [
    "## 현재 파일 위치 확인"
   ]
  },
  {
   "cell_type": "code",
   "execution_count": 886,
   "metadata": {},
   "outputs": [
    {
     "data": {
      "text/plain": [
       "'c:/data/Wantreez/Crawling/incheon'"
      ]
     },
     "execution_count": 886,
     "metadata": {},
     "output_type": "execute_result"
    }
   ],
   "source": [
    "# 현재 파일 위치 확인\n",
    "code_path = os.getcwd().replace('\\\\', '/')\n",
    "code_path"
   ]
  },
  {
   "cell_type": "markdown",
   "metadata": {},
   "source": [
    "## 수집한 파일 저장 폴더 생성"
   ]
  },
  {
   "cell_type": "code",
   "execution_count": 887,
   "metadata": {},
   "outputs": [],
   "source": [
    "# 수집한 파일을 저장할 폴더 생성\n",
    "crawled_folder_path = code_path + '/crawled_data/naver_blog'\n",
    "os.makedirs(crawled_folder_path, exist_ok=True)"
   ]
  },
  {
   "cell_type": "markdown",
   "metadata": {},
   "source": [
    "## 크롬 드라이버 버전 확인 및 설치"
   ]
  },
  {
   "cell_type": "code",
   "execution_count": 888,
   "metadata": {},
   "outputs": [
    {
     "data": {
      "text/plain": [
       "'100'"
      ]
     },
     "execution_count": 888,
     "metadata": {},
     "output_type": "execute_result"
    }
   ],
   "source": [
    "# 크롬 드라이버 버전 확인\n",
    "chrome_ver = ca.get_chrome_version().split('.')[0]\n",
    "chrome_ver"
   ]
  },
  {
   "cell_type": "code",
   "execution_count": 889,
   "metadata": {},
   "outputs": [
    {
     "name": "stderr",
     "output_type": "stream",
     "text": [
      "C:\\Users\\kbjung\\AppData\\Local\\Temp/ipykernel_5300/3261653714.py:3: DeprecationWarning: executable_path has been deprecated, please pass in a Service object\n",
      "  driver = webdriver.Chrome(code_path + f'/{chrome_ver}/' + 'chromedriver.exe')\n"
     ]
    }
   ],
   "source": [
    "# 크롬 드라이버 설치 확인\n",
    "try:\n",
    "    driver = webdriver.Chrome(code_path + f'/{chrome_ver}/' + 'chromedriver.exe')\n",
    "except:\n",
    "    ca.install(True)\n",
    "    driver = webdriver.Chrome(code_path + f'/{chrome_ver}/' + 'chromedriver.exe')"
   ]
  },
  {
   "cell_type": "markdown",
   "metadata": {},
   "source": [
    "## 페이지 접속"
   ]
  },
  {
   "cell_type": "code",
   "execution_count": 890,
   "metadata": {},
   "outputs": [],
   "source": [
    "# 페이지 접속\n",
    "url = 'https://blog.naver.com/PostView.naver?blogId=icouncil103&logNo=222657505998&categoryNo=9&parentCategoryNo=9&from=thumbnailList'\n",
    "driver.get(url)\n",
    "driver.implicitly_wait(3)\n",
    "driver.maximize_window()"
   ]
  },
  {
   "cell_type": "code",
   "execution_count": 891,
   "metadata": {},
   "outputs": [
    {
     "data": {
      "text/plain": [
       "'222657505998'"
      ]
     },
     "execution_count": 891,
     "metadata": {},
     "output_type": "execute_result"
    }
   ],
   "source": [
    "# page 정보\n",
    "page_info = url.split('=')[2].split('&')[0]\n",
    "page_info"
   ]
  },
  {
   "cell_type": "markdown",
   "metadata": {},
   "source": [
    "## 페이지 스크래핑"
   ]
  },
  {
   "cell_type": "markdown",
   "metadata": {},
   "source": [
    "### 댓글 버튼 클릭"
   ]
  },
  {
   "cell_type": "code",
   "execution_count": 892,
   "metadata": {},
   "outputs": [
    {
     "name": "stderr",
     "output_type": "stream",
     "text": [
      "C:\\Users\\kbjung\\AppData\\Local\\Temp/ipykernel_5300/3197372586.py:2: DeprecationWarning: find_element_by_xpath is deprecated. Please use find_element(by=By.XPATH, value=xpath) instead\n",
      "  comment_button = driver.find_element_by_xpath(f'//*[@id=\"Comi{page_info}\"]')\n"
     ]
    }
   ],
   "source": [
    "# 댓글 버튼 클릭\n",
    "comment_button = driver.find_element_by_xpath(f'//*[@id=\"Comi{page_info}\"]')\n",
    "comment_button.click()\n",
    "time.sleep(1)"
   ]
  },
  {
   "cell_type": "markdown",
   "metadata": {},
   "source": [
    "### 이전 페이지 이동"
   ]
  },
  {
   "cell_type": "code",
   "execution_count": 893,
   "metadata": {},
   "outputs": [
    {
     "name": "stderr",
     "output_type": "stream",
     "text": [
      "C:\\Users\\kbjung\\AppData\\Local\\Temp/ipykernel_5300/2309467251.py:2: DeprecationWarning: find_element_by_xpath is deprecated. Please use find_element(by=By.XPATH, value=xpath) instead\n",
      "  driver.find_element_by_xpath('//*[@id=\"naverComment_201_222657505998\"]/div/div[4]/div/a[2]').click()\n"
     ]
    }
   ],
   "source": [
    "# 이전 페이지 이동\n",
    "driver.find_element_by_xpath('//*[@id=\"naverComment_201_222657505998\"]/div/div[4]/div/a[2]').click()\n",
    "time.sleep( random.uniform(1, 1.5) )"
   ]
  },
  {
   "cell_type": "code",
   "execution_count": 894,
   "metadata": {},
   "outputs": [
    {
     "data": {
      "text/plain": [
       "(10, [[], [], [], [], [], [], [], [], [], []])"
      ]
     },
     "execution_count": 894,
     "metadata": {},
     "output_type": "execute_result"
    }
   ],
   "source": [
    "list = [[], [], [], [], [], [], [], [], [], []]\n",
    "len(list), list"
   ]
  },
  {
   "cell_type": "markdown",
   "metadata": {},
   "source": [
    "### 1페이지"
   ]
  },
  {
   "cell_type": "code",
   "execution_count": 895,
   "metadata": {},
   "outputs": [
    {
     "name": "stderr",
     "output_type": "stream",
     "text": [
      "C:\\Users\\kbjung\\AppData\\Local\\Temp/ipykernel_5300/2965464108.py:2: DeprecationWarning: find_element_by_xpath is deprecated. Please use find_element(by=By.XPATH, value=xpath) instead\n",
      "  driver.find_element_by_xpath('//*[@id=\"naverComment_201_222657505998\"]/div/div[4]/div/a[2]').click()\n"
     ]
    },
    {
     "data": {
      "text/plain": [
       "50"
      ]
     },
     "execution_count": 895,
     "metadata": {},
     "output_type": "execute_result"
    }
   ],
   "source": [
    "# 1 페이지 이동\n",
    "driver.find_element_by_xpath('//*[@id=\"naverComment_201_222657505998\"]/div/div[4]/div/a[2]').click()\n",
    "time.sleep( random.uniform(1, 1.5) )\n",
    "\n",
    "# 페이지 수프에 담기\n",
    "comment_page_soup = bs(driver.page_source, 'lxml')\n",
    "comment_areas = comment_page_soup.find_all('li', 'u_cbox_comment')\n",
    "len(comment_areas)"
   ]
  },
  {
   "cell_type": "code",
   "execution_count": 896,
   "metadata": {},
   "outputs": [
    {
     "name": "stdout",
     "output_type": "stream",
     "text": [
      "작성일 리스트 길이 :  50\n",
      "고유번호 리스트 길이 :  50\n",
      "답글구분 리스트 길이 :  50\n",
      "닉네임 리스트 길이 :  50\n",
      "작성자URL 리스트 길이 :  50\n",
      "공감수 리스트 길이 :  50\n",
      "링크수 리스트 길이 :  50\n",
      "답글수 리스트 길이 :  50\n",
      "첨부이미지URL 리스트 길이 :  50\n",
      "내용 리스트 길이 :  50\n"
     ]
    }
   ],
   "source": [
    "list = crawling(comment_areas, list)"
   ]
  },
  {
   "cell_type": "code",
   "execution_count": 897,
   "metadata": {},
   "outputs": [
    {
     "data": {
      "text/plain": [
       "10"
      ]
     },
     "execution_count": 897,
     "metadata": {},
     "output_type": "execute_result"
    }
   ],
   "source": [
    "len(list)"
   ]
  },
  {
   "cell_type": "code",
   "execution_count": 898,
   "metadata": {},
   "outputs": [
    {
     "data": {
      "text/plain": [
       "50"
      ]
     },
     "execution_count": 898,
     "metadata": {},
     "output_type": "execute_result"
    }
   ],
   "source": [
    "len(list[0])"
   ]
  },
  {
   "cell_type": "markdown",
   "metadata": {},
   "source": [
    "### 2페이지"
   ]
  },
  {
   "cell_type": "code",
   "execution_count": 899,
   "metadata": {},
   "outputs": [
    {
     "name": "stderr",
     "output_type": "stream",
     "text": [
      "C:\\Users\\kbjung\\AppData\\Local\\Temp/ipykernel_5300/1995233836.py:2: DeprecationWarning: find_element_by_xpath is deprecated. Please use find_element(by=By.XPATH, value=xpath) instead\n",
      "  driver.find_element_by_xpath('//*[@id=\"naverComment_201_222657505998\"]/div/div[4]/div/a[1]').click()\n"
     ]
    },
    {
     "data": {
      "text/plain": [
       "50"
      ]
     },
     "execution_count": 899,
     "metadata": {},
     "output_type": "execute_result"
    }
   ],
   "source": [
    "# 2 페이지 이동\n",
    "driver.find_element_by_xpath('//*[@id=\"naverComment_201_222657505998\"]/div/div[4]/div/a[1]').click()\n",
    "time.sleep( random.uniform(1, 1.5) )\n",
    "\n",
    "# 페이지 수프에 담기\n",
    "comment_page_soup = bs(driver.page_source, 'lxml')\n",
    "comment_areas = comment_page_soup.find_all('li', 'u_cbox_comment')\n",
    "len(comment_areas)"
   ]
  },
  {
   "cell_type": "code",
   "execution_count": 900,
   "metadata": {},
   "outputs": [
    {
     "name": "stdout",
     "output_type": "stream",
     "text": [
      "작성일 리스트 길이 :  100\n",
      "고유번호 리스트 길이 :  100\n",
      "답글구분 리스트 길이 :  100\n",
      "닉네임 리스트 길이 :  100\n",
      "작성자URL 리스트 길이 :  100\n",
      "공감수 리스트 길이 :  100\n",
      "링크수 리스트 길이 :  100\n",
      "답글수 리스트 길이 :  100\n",
      "첨부이미지URL 리스트 길이 :  100\n",
      "내용 리스트 길이 :  100\n"
     ]
    }
   ],
   "source": [
    "list = crawling(comment_areas, list)"
   ]
  },
  {
   "cell_type": "markdown",
   "metadata": {},
   "source": [
    "### 3페이지"
   ]
  },
  {
   "cell_type": "code",
   "execution_count": 901,
   "metadata": {},
   "outputs": [
    {
     "name": "stderr",
     "output_type": "stream",
     "text": [
      "C:\\Users\\kbjung\\AppData\\Local\\Temp/ipykernel_5300/190575342.py:2: DeprecationWarning: find_element_by_xpath is deprecated. Please use find_element(by=By.XPATH, value=xpath) instead\n",
      "  driver.find_element_by_xpath('//*[@id=\"naverComment_201_222657505998\"]/div/div[4]/div/a[3]').click()\n"
     ]
    },
    {
     "data": {
      "text/plain": [
       "50"
      ]
     },
     "execution_count": 901,
     "metadata": {},
     "output_type": "execute_result"
    }
   ],
   "source": [
    "# 3 페이지 이동\n",
    "driver.find_element_by_xpath('//*[@id=\"naverComment_201_222657505998\"]/div/div[4]/div/a[3]').click()\n",
    "time.sleep( random.uniform(1, 1.5) )\n",
    "\n",
    "# 페이지 수프에 담기\n",
    "comment_page_soup = bs(driver.page_source, 'lxml')\n",
    "comment_areas = comment_page_soup.find_all('li', 'u_cbox_comment')\n",
    "len(comment_areas)"
   ]
  },
  {
   "cell_type": "code",
   "execution_count": 902,
   "metadata": {},
   "outputs": [
    {
     "name": "stdout",
     "output_type": "stream",
     "text": [
      "작성일 리스트 길이 :  150\n",
      "고유번호 리스트 길이 :  150\n",
      "답글구분 리스트 길이 :  150\n",
      "닉네임 리스트 길이 :  150\n",
      "작성자URL 리스트 길이 :  150\n",
      "공감수 리스트 길이 :  150\n",
      "링크수 리스트 길이 :  150\n",
      "답글수 리스트 길이 :  150\n",
      "첨부이미지URL 리스트 길이 :  150\n",
      "내용 리스트 길이 :  150\n"
     ]
    }
   ],
   "source": [
    "list = crawling(comment_areas, list)"
   ]
  },
  {
   "cell_type": "markdown",
   "metadata": {},
   "source": [
    "### 4페이지"
   ]
  },
  {
   "cell_type": "code",
   "execution_count": 903,
   "metadata": {},
   "outputs": [
    {
     "name": "stderr",
     "output_type": "stream",
     "text": [
      "C:\\Users\\kbjung\\AppData\\Local\\Temp/ipykernel_5300/960497698.py:2: DeprecationWarning: find_element_by_xpath is deprecated. Please use find_element(by=By.XPATH, value=xpath) instead\n",
      "  driver.find_element_by_xpath('//*[@id=\"naverComment_201_222657505998\"]/div/div[4]/div/a[4]').click()\n"
     ]
    },
    {
     "data": {
      "text/plain": [
       "50"
      ]
     },
     "execution_count": 903,
     "metadata": {},
     "output_type": "execute_result"
    }
   ],
   "source": [
    "# 4 페이지 이동\n",
    "driver.find_element_by_xpath('//*[@id=\"naverComment_201_222657505998\"]/div/div[4]/div/a[4]').click()\n",
    "time.sleep( random.uniform(1, 1.5) )\n",
    "\n",
    "# 페이지 수프에 담기\n",
    "comment_page_soup = bs(driver.page_source, 'lxml')\n",
    "comment_areas = comment_page_soup.find_all('li', 'u_cbox_comment')\n",
    "len(comment_areas)"
   ]
  },
  {
   "cell_type": "code",
   "execution_count": 904,
   "metadata": {},
   "outputs": [
    {
     "name": "stdout",
     "output_type": "stream",
     "text": [
      "작성일 리스트 길이 :  200\n",
      "고유번호 리스트 길이 :  200\n",
      "답글구분 리스트 길이 :  200\n",
      "닉네임 리스트 길이 :  200\n",
      "작성자URL 리스트 길이 :  200\n",
      "공감수 리스트 길이 :  200\n",
      "링크수 리스트 길이 :  200\n",
      "답글수 리스트 길이 :  200\n",
      "첨부이미지URL 리스트 길이 :  200\n",
      "내용 리스트 길이 :  200\n"
     ]
    }
   ],
   "source": [
    "list = crawling(comment_areas, list)"
   ]
  },
  {
   "cell_type": "markdown",
   "metadata": {},
   "source": [
    "### 5페이지"
   ]
  },
  {
   "cell_type": "code",
   "execution_count": 905,
   "metadata": {},
   "outputs": [
    {
     "name": "stderr",
     "output_type": "stream",
     "text": [
      "C:\\Users\\kbjung\\AppData\\Local\\Temp/ipykernel_5300/3336210854.py:2: DeprecationWarning: find_element_by_xpath is deprecated. Please use find_element(by=By.XPATH, value=xpath) instead\n",
      "  driver.find_element_by_xpath('//*[@id=\"naverComment_201_222657505998\"]/div/div[4]/div/a[5]').click()\n"
     ]
    },
    {
     "data": {
      "text/plain": [
       "50"
      ]
     },
     "execution_count": 905,
     "metadata": {},
     "output_type": "execute_result"
    }
   ],
   "source": [
    "# 5 페이지 이동\n",
    "driver.find_element_by_xpath('//*[@id=\"naverComment_201_222657505998\"]/div/div[4]/div/a[5]').click()\n",
    "time.sleep( random.uniform(1, 1.5) )\n",
    "\n",
    "# 페이지 수프에 담기\n",
    "comment_page_soup = bs(driver.page_source, 'lxml')\n",
    "comment_areas = comment_page_soup.find_all('li', 'u_cbox_comment')\n",
    "len(comment_areas)"
   ]
  },
  {
   "cell_type": "code",
   "execution_count": 906,
   "metadata": {},
   "outputs": [
    {
     "name": "stdout",
     "output_type": "stream",
     "text": [
      "작성일 리스트 길이 :  250\n",
      "고유번호 리스트 길이 :  250\n",
      "답글구분 리스트 길이 :  250\n",
      "닉네임 리스트 길이 :  250\n",
      "작성자URL 리스트 길이 :  250\n",
      "공감수 리스트 길이 :  250\n",
      "링크수 리스트 길이 :  250\n",
      "답글수 리스트 길이 :  250\n",
      "첨부이미지URL 리스트 길이 :  250\n",
      "내용 리스트 길이 :  250\n"
     ]
    }
   ],
   "source": [
    "list = crawling(comment_areas, list)"
   ]
  },
  {
   "cell_type": "markdown",
   "metadata": {},
   "source": [
    "### 6페이지"
   ]
  },
  {
   "cell_type": "code",
   "execution_count": 907,
   "metadata": {},
   "outputs": [
    {
     "name": "stderr",
     "output_type": "stream",
     "text": [
      "C:\\Users\\kbjung\\AppData\\Local\\Temp/ipykernel_5300/3755473283.py:2: DeprecationWarning: find_element_by_xpath is deprecated. Please use find_element(by=By.XPATH, value=xpath) instead\n",
      "  driver.find_element_by_xpath('//*[@id=\"naverComment_201_222657505998\"]/div/div[4]/div/a[6]').click()\n"
     ]
    },
    {
     "data": {
      "text/plain": [
       "50"
      ]
     },
     "execution_count": 907,
     "metadata": {},
     "output_type": "execute_result"
    }
   ],
   "source": [
    "# 6 페이지 이동\n",
    "driver.find_element_by_xpath('//*[@id=\"naverComment_201_222657505998\"]/div/div[4]/div/a[6]').click()\n",
    "time.sleep( random.uniform(1, 1.5) )\n",
    "\n",
    "# 페이지 수프에 담기\n",
    "comment_page_soup = bs(driver.page_source, 'lxml')\n",
    "comment_areas = comment_page_soup.find_all('li', 'u_cbox_comment')\n",
    "len(comment_areas)"
   ]
  },
  {
   "cell_type": "code",
   "execution_count": 908,
   "metadata": {},
   "outputs": [
    {
     "name": "stdout",
     "output_type": "stream",
     "text": [
      "작성일 리스트 길이 :  300\n",
      "고유번호 리스트 길이 :  300\n",
      "답글구분 리스트 길이 :  300\n",
      "닉네임 리스트 길이 :  300\n",
      "작성자URL 리스트 길이 :  300\n",
      "공감수 리스트 길이 :  300\n",
      "링크수 리스트 길이 :  300\n",
      "답글수 리스트 길이 :  300\n",
      "첨부이미지URL 리스트 길이 :  300\n",
      "내용 리스트 길이 :  300\n"
     ]
    }
   ],
   "source": [
    "list = crawling(comment_areas, list)"
   ]
  },
  {
   "cell_type": "markdown",
   "metadata": {},
   "source": [
    "### 7페이지"
   ]
  },
  {
   "cell_type": "code",
   "execution_count": 909,
   "metadata": {},
   "outputs": [
    {
     "name": "stderr",
     "output_type": "stream",
     "text": [
      "C:\\Users\\kbjung\\AppData\\Local\\Temp/ipykernel_5300/1700268311.py:2: DeprecationWarning: find_element_by_xpath is deprecated. Please use find_element(by=By.XPATH, value=xpath) instead\n",
      "  driver.find_element_by_xpath('//*[@id=\"naverComment_201_222657505998\"]/div/div[4]/div/a[7]').click()\n"
     ]
    },
    {
     "data": {
      "text/plain": [
       "51"
      ]
     },
     "execution_count": 909,
     "metadata": {},
     "output_type": "execute_result"
    }
   ],
   "source": [
    "# 7 페이지 이동\n",
    "driver.find_element_by_xpath('//*[@id=\"naverComment_201_222657505998\"]/div/div[4]/div/a[7]').click()\n",
    "time.sleep( random.uniform(1, 1.5) )\n",
    "\n",
    "# 페이지 수프에 담기\n",
    "comment_page_soup = bs(driver.page_source, 'lxml')\n",
    "comment_areas = comment_page_soup.find_all('li', 'u_cbox_comment')\n",
    "len(comment_areas)"
   ]
  },
  {
   "cell_type": "code",
   "execution_count": 910,
   "metadata": {},
   "outputs": [
    {
     "name": "stdout",
     "output_type": "stream",
     "text": [
      "작성일 리스트 길이 :  351\n",
      "고유번호 리스트 길이 :  351\n",
      "답글구분 리스트 길이 :  351\n",
      "닉네임 리스트 길이 :  351\n",
      "작성자URL 리스트 길이 :  351\n",
      "공감수 리스트 길이 :  351\n",
      "링크수 리스트 길이 :  351\n",
      "답글수 리스트 길이 :  351\n",
      "첨부이미지URL 리스트 길이 :  351\n",
      "내용 리스트 길이 :  351\n"
     ]
    }
   ],
   "source": [
    "list = crawling(comment_areas, list)"
   ]
  },
  {
   "cell_type": "markdown",
   "metadata": {},
   "source": [
    "### 8페이지"
   ]
  },
  {
   "cell_type": "code",
   "execution_count": 911,
   "metadata": {},
   "outputs": [
    {
     "name": "stderr",
     "output_type": "stream",
     "text": [
      "C:\\Users\\kbjung\\AppData\\Local\\Temp/ipykernel_5300/4232212690.py:2: DeprecationWarning: find_element_by_xpath is deprecated. Please use find_element(by=By.XPATH, value=xpath) instead\n",
      "  driver.find_element_by_xpath('//*[@id=\"naverComment_201_222657505998\"]/div/div[4]/div/a[8]').click()\n"
     ]
    },
    {
     "data": {
      "text/plain": [
       "50"
      ]
     },
     "execution_count": 911,
     "metadata": {},
     "output_type": "execute_result"
    }
   ],
   "source": [
    "# 8 페이지 이동\n",
    "driver.find_element_by_xpath('//*[@id=\"naverComment_201_222657505998\"]/div/div[4]/div/a[8]').click()\n",
    "time.sleep( random.uniform(1, 1.5) )\n",
    "\n",
    "# 페이지 수프에 담기\n",
    "comment_page_soup = bs(driver.page_source, 'lxml')\n",
    "comment_areas = comment_page_soup.find_all('li', 'u_cbox_comment')\n",
    "len(comment_areas)"
   ]
  },
  {
   "cell_type": "code",
   "execution_count": 912,
   "metadata": {},
   "outputs": [
    {
     "name": "stdout",
     "output_type": "stream",
     "text": [
      "작성일 리스트 길이 :  401\n",
      "고유번호 리스트 길이 :  401\n",
      "답글구분 리스트 길이 :  401\n",
      "닉네임 리스트 길이 :  401\n",
      "작성자URL 리스트 길이 :  401\n",
      "공감수 리스트 길이 :  401\n",
      "링크수 리스트 길이 :  401\n",
      "답글수 리스트 길이 :  401\n",
      "첨부이미지URL 리스트 길이 :  401\n",
      "내용 리스트 길이 :  401\n"
     ]
    }
   ],
   "source": [
    "list = crawling(comment_areas, list)"
   ]
  },
  {
   "cell_type": "markdown",
   "metadata": {},
   "source": [
    "### 9페이지"
   ]
  },
  {
   "cell_type": "code",
   "execution_count": 913,
   "metadata": {},
   "outputs": [
    {
     "name": "stderr",
     "output_type": "stream",
     "text": [
      "C:\\Users\\kbjung\\AppData\\Local\\Temp/ipykernel_5300/3161500032.py:2: DeprecationWarning: find_element_by_xpath is deprecated. Please use find_element(by=By.XPATH, value=xpath) instead\n",
      "  driver.find_element_by_xpath('//*[@id=\"naverComment_201_222657505998\"]/div/div[4]/div/a[9]').click()\n"
     ]
    },
    {
     "data": {
      "text/plain": [
       "50"
      ]
     },
     "execution_count": 913,
     "metadata": {},
     "output_type": "execute_result"
    }
   ],
   "source": [
    "# 9 페이지 이동\n",
    "driver.find_element_by_xpath('//*[@id=\"naverComment_201_222657505998\"]/div/div[4]/div/a[9]').click()\n",
    "time.sleep( random.uniform(1, 1.5) )\n",
    "\n",
    "# 페이지 수프에 담기\n",
    "comment_page_soup = bs(driver.page_source, 'lxml')\n",
    "comment_areas = comment_page_soup.find_all('li', 'u_cbox_comment')\n",
    "len(comment_areas)"
   ]
  },
  {
   "cell_type": "code",
   "execution_count": 914,
   "metadata": {},
   "outputs": [
    {
     "name": "stdout",
     "output_type": "stream",
     "text": [
      "작성일 리스트 길이 :  451\n",
      "고유번호 리스트 길이 :  451\n",
      "답글구분 리스트 길이 :  451\n",
      "닉네임 리스트 길이 :  451\n",
      "작성자URL 리스트 길이 :  451\n",
      "공감수 리스트 길이 :  451\n",
      "링크수 리스트 길이 :  451\n",
      "답글수 리스트 길이 :  451\n",
      "첨부이미지URL 리스트 길이 :  451\n",
      "내용 리스트 길이 :  451\n"
     ]
    }
   ],
   "source": [
    "list = crawling(comment_areas, list)"
   ]
  },
  {
   "cell_type": "markdown",
   "metadata": {},
   "source": [
    "### 10페이지"
   ]
  },
  {
   "cell_type": "code",
   "execution_count": 915,
   "metadata": {},
   "outputs": [
    {
     "name": "stderr",
     "output_type": "stream",
     "text": [
      "C:\\Users\\kbjung\\AppData\\Local\\Temp/ipykernel_5300/3994551413.py:2: DeprecationWarning: find_element_by_xpath is deprecated. Please use find_element(by=By.XPATH, value=xpath) instead\n",
      "  driver.find_element_by_xpath('//*[@id=\"naverComment_201_222657505998\"]/div/div[4]/div/a[10]').click()\n"
     ]
    },
    {
     "data": {
      "text/plain": [
       "50"
      ]
     },
     "execution_count": 915,
     "metadata": {},
     "output_type": "execute_result"
    }
   ],
   "source": [
    "# 10 페이지 이동\n",
    "driver.find_element_by_xpath('//*[@id=\"naverComment_201_222657505998\"]/div/div[4]/div/a[10]').click()\n",
    "time.sleep( random.uniform(1, 1.5) )\n",
    "\n",
    "# 페이지 수프에 담기\n",
    "comment_page_soup = bs(driver.page_source, 'lxml')\n",
    "comment_areas = comment_page_soup.find_all('li', 'u_cbox_comment')\n",
    "len(comment_areas)"
   ]
  },
  {
   "cell_type": "code",
   "execution_count": 916,
   "metadata": {},
   "outputs": [
    {
     "name": "stdout",
     "output_type": "stream",
     "text": [
      "작성일 리스트 길이 :  501\n",
      "고유번호 리스트 길이 :  501\n",
      "답글구분 리스트 길이 :  501\n",
      "닉네임 리스트 길이 :  501\n",
      "작성자URL 리스트 길이 :  501\n",
      "공감수 리스트 길이 :  501\n",
      "링크수 리스트 길이 :  501\n",
      "답글수 리스트 길이 :  501\n",
      "첨부이미지URL 리스트 길이 :  501\n",
      "내용 리스트 길이 :  501\n"
     ]
    }
   ],
   "source": [
    "list = crawling(comment_areas, list)"
   ]
  },
  {
   "cell_type": "markdown",
   "metadata": {},
   "source": [
    "### 11페이지"
   ]
  },
  {
   "cell_type": "code",
   "execution_count": 917,
   "metadata": {},
   "outputs": [
    {
     "name": "stderr",
     "output_type": "stream",
     "text": [
      "C:\\Users\\kbjung\\AppData\\Local\\Temp/ipykernel_5300/711338811.py:2: DeprecationWarning: find_element_by_xpath is deprecated. Please use find_element(by=By.XPATH, value=xpath) instead\n",
      "  driver.find_element_by_xpath('//*[@id=\"naverComment_201_222657505998\"]/div/div[4]/div/a[11]').click()\n"
     ]
    },
    {
     "data": {
      "text/plain": [
       "50"
      ]
     },
     "execution_count": 917,
     "metadata": {},
     "output_type": "execute_result"
    }
   ],
   "source": [
    "# 다음(11)페이지 이동\n",
    "driver.find_element_by_xpath('//*[@id=\"naverComment_201_222657505998\"]/div/div[4]/div/a[11]').click()\n",
    "time.sleep( random.uniform(1, 1.5) )\n",
    "\n",
    "# 페이지 수프에 담기\n",
    "comment_page_soup = bs(driver.page_source, 'lxml')\n",
    "comment_areas = comment_page_soup.find_all('li', 'u_cbox_comment')\n",
    "len(comment_areas)"
   ]
  },
  {
   "cell_type": "code",
   "execution_count": 918,
   "metadata": {},
   "outputs": [
    {
     "name": "stdout",
     "output_type": "stream",
     "text": [
      "작성일 리스트 길이 :  551\n",
      "고유번호 리스트 길이 :  551\n",
      "답글구분 리스트 길이 :  551\n",
      "닉네임 리스트 길이 :  551\n",
      "작성자URL 리스트 길이 :  551\n",
      "공감수 리스트 길이 :  551\n",
      "링크수 리스트 길이 :  551\n",
      "답글수 리스트 길이 :  551\n",
      "첨부이미지URL 리스트 길이 :  551\n",
      "내용 리스트 길이 :  551\n"
     ]
    }
   ],
   "source": [
    "list = crawling(comment_areas, list)"
   ]
  },
  {
   "cell_type": "markdown",
   "metadata": {},
   "source": [
    "### 12페이지"
   ]
  },
  {
   "cell_type": "code",
   "execution_count": 919,
   "metadata": {},
   "outputs": [
    {
     "name": "stderr",
     "output_type": "stream",
     "text": [
      "C:\\Users\\kbjung\\AppData\\Local\\Temp/ipykernel_5300/4264318083.py:2: DeprecationWarning: find_element_by_xpath is deprecated. Please use find_element(by=By.XPATH, value=xpath) instead\n",
      "  driver.find_element_by_xpath('//*[@id=\"naverComment_201_222657505998\"]/div/div[4]/div/a[3]').click()\n"
     ]
    },
    {
     "data": {
      "text/plain": [
       "50"
      ]
     },
     "execution_count": 919,
     "metadata": {},
     "output_type": "execute_result"
    }
   ],
   "source": [
    "# 12 페이지 이동\n",
    "driver.find_element_by_xpath('//*[@id=\"naverComment_201_222657505998\"]/div/div[4]/div/a[3]').click()\n",
    "time.sleep( random.uniform(1, 1.5) )\n",
    "\n",
    "# 페이지 수프에 담기\n",
    "comment_page_soup = bs(driver.page_source, 'lxml')\n",
    "comment_areas = comment_page_soup.find_all('li', 'u_cbox_comment')\n",
    "len(comment_areas)"
   ]
  },
  {
   "cell_type": "code",
   "execution_count": 920,
   "metadata": {},
   "outputs": [
    {
     "name": "stdout",
     "output_type": "stream",
     "text": [
      "작성일 리스트 길이 :  601\n",
      "고유번호 리스트 길이 :  601\n",
      "답글구분 리스트 길이 :  601\n",
      "닉네임 리스트 길이 :  601\n",
      "작성자URL 리스트 길이 :  601\n",
      "공감수 리스트 길이 :  601\n",
      "링크수 리스트 길이 :  601\n",
      "답글수 리스트 길이 :  601\n",
      "첨부이미지URL 리스트 길이 :  601\n",
      "내용 리스트 길이 :  601\n"
     ]
    }
   ],
   "source": [
    "list = crawling(comment_areas, list)"
   ]
  },
  {
   "cell_type": "markdown",
   "metadata": {},
   "source": [
    "### 13페이지"
   ]
  },
  {
   "cell_type": "code",
   "execution_count": 921,
   "metadata": {},
   "outputs": [
    {
     "name": "stderr",
     "output_type": "stream",
     "text": [
      "C:\\Users\\kbjung\\AppData\\Local\\Temp/ipykernel_5300/3413347789.py:2: DeprecationWarning: find_element_by_xpath is deprecated. Please use find_element(by=By.XPATH, value=xpath) instead\n",
      "  driver.find_element_by_xpath('//*[@id=\"naverComment_201_222657505998\"]/div/div[4]/div/a[4]').click()\n"
     ]
    },
    {
     "data": {
      "text/plain": [
       "50"
      ]
     },
     "execution_count": 921,
     "metadata": {},
     "output_type": "execute_result"
    }
   ],
   "source": [
    "# 13 페이지 이동\n",
    "driver.find_element_by_xpath('//*[@id=\"naverComment_201_222657505998\"]/div/div[4]/div/a[4]').click()\n",
    "time.sleep( random.uniform(1, 1.5) )\n",
    "\n",
    "# 페이지 수프에 담기\n",
    "comment_page_soup = bs(driver.page_source, 'lxml')\n",
    "comment_areas = comment_page_soup.find_all('li', 'u_cbox_comment')\n",
    "len(comment_areas)"
   ]
  },
  {
   "cell_type": "code",
   "execution_count": 922,
   "metadata": {},
   "outputs": [
    {
     "name": "stdout",
     "output_type": "stream",
     "text": [
      "작성일 리스트 길이 :  651\n",
      "고유번호 리스트 길이 :  651\n",
      "답글구분 리스트 길이 :  651\n",
      "닉네임 리스트 길이 :  651\n",
      "작성자URL 리스트 길이 :  651\n",
      "공감수 리스트 길이 :  651\n",
      "링크수 리스트 길이 :  651\n",
      "답글수 리스트 길이 :  651\n",
      "첨부이미지URL 리스트 길이 :  651\n",
      "내용 리스트 길이 :  651\n"
     ]
    }
   ],
   "source": [
    "list = crawling(comment_areas, list)"
   ]
  },
  {
   "cell_type": "markdown",
   "metadata": {},
   "source": [
    "### 14페이지"
   ]
  },
  {
   "cell_type": "code",
   "execution_count": 923,
   "metadata": {},
   "outputs": [
    {
     "name": "stderr",
     "output_type": "stream",
     "text": [
      "C:\\Users\\kbjung\\AppData\\Local\\Temp/ipykernel_5300/91115677.py:2: DeprecationWarning: find_element_by_xpath is deprecated. Please use find_element(by=By.XPATH, value=xpath) instead\n",
      "  driver.find_element_by_xpath('//*[@id=\"naverComment_201_222657505998\"]/div/div[4]/div/a[5]').click()\n"
     ]
    },
    {
     "data": {
      "text/plain": [
       "50"
      ]
     },
     "execution_count": 923,
     "metadata": {},
     "output_type": "execute_result"
    }
   ],
   "source": [
    "# 14 페이지 이동\n",
    "driver.find_element_by_xpath('//*[@id=\"naverComment_201_222657505998\"]/div/div[4]/div/a[5]').click()\n",
    "time.sleep( random.uniform(1, 1.5) )\n",
    "\n",
    "# 페이지 수프에 담기\n",
    "comment_page_soup = bs(driver.page_source, 'lxml')\n",
    "comment_areas = comment_page_soup.find_all('li', 'u_cbox_comment')\n",
    "len(comment_areas)"
   ]
  },
  {
   "cell_type": "code",
   "execution_count": 924,
   "metadata": {},
   "outputs": [
    {
     "name": "stdout",
     "output_type": "stream",
     "text": [
      "작성일 리스트 길이 :  701\n",
      "고유번호 리스트 길이 :  701\n",
      "답글구분 리스트 길이 :  701\n",
      "닉네임 리스트 길이 :  701\n",
      "작성자URL 리스트 길이 :  701\n",
      "공감수 리스트 길이 :  701\n",
      "링크수 리스트 길이 :  701\n",
      "답글수 리스트 길이 :  701\n",
      "첨부이미지URL 리스트 길이 :  701\n",
      "내용 리스트 길이 :  701\n"
     ]
    }
   ],
   "source": [
    "list = crawling(comment_areas, list)"
   ]
  },
  {
   "cell_type": "markdown",
   "metadata": {},
   "source": [
    "### 15페이지"
   ]
  },
  {
   "cell_type": "code",
   "execution_count": 925,
   "metadata": {},
   "outputs": [
    {
     "name": "stderr",
     "output_type": "stream",
     "text": [
      "C:\\Users\\kbjung\\AppData\\Local\\Temp/ipykernel_5300/3080943050.py:2: DeprecationWarning: find_element_by_xpath is deprecated. Please use find_element(by=By.XPATH, value=xpath) instead\n",
      "  driver.find_element_by_xpath('//*[@id=\"naverComment_201_222657505998\"]/div/div[4]/div/a[6]').click()\n"
     ]
    },
    {
     "data": {
      "text/plain": [
       "30"
      ]
     },
     "execution_count": 925,
     "metadata": {},
     "output_type": "execute_result"
    }
   ],
   "source": [
    "# 15 페이지 이동\n",
    "driver.find_element_by_xpath('//*[@id=\"naverComment_201_222657505998\"]/div/div[4]/div/a[6]').click()\n",
    "time.sleep( random.uniform(1, 1.5) )\n",
    "\n",
    "# 페이지 수프에 담기\n",
    "comment_page_soup = bs(driver.page_source, 'lxml')\n",
    "comment_areas = comment_page_soup.find_all('li', 'u_cbox_comment')\n",
    "len(comment_areas)"
   ]
  },
  {
   "cell_type": "code",
   "execution_count": 926,
   "metadata": {},
   "outputs": [
    {
     "name": "stdout",
     "output_type": "stream",
     "text": [
      "작성일 리스트 길이 :  731\n",
      "고유번호 리스트 길이 :  731\n",
      "답글구분 리스트 길이 :  731\n",
      "닉네임 리스트 길이 :  731\n",
      "작성자URL 리스트 길이 :  731\n",
      "공감수 리스트 길이 :  731\n",
      "링크수 리스트 길이 :  731\n",
      "답글수 리스트 길이 :  731\n",
      "첨부이미지URL 리스트 길이 :  731\n",
      "내용 리스트 길이 :  731\n"
     ]
    }
   ],
   "source": [
    "list = crawling(comment_areas, list)"
   ]
  },
  {
   "cell_type": "markdown",
   "metadata": {},
   "source": [
    "## 수집한 데이터 확인"
   ]
  },
  {
   "cell_type": "code",
   "execution_count": 927,
   "metadata": {},
   "outputs": [
    {
     "name": "stdout",
     "output_type": "stream",
     "text": [
      "작성일 리스트 길이 :  731\n",
      "고유번호 리스트 길이 :  731\n",
      "답글구분 리스트 길이 :  731\n",
      "닉네임 리스트 길이 :  731\n",
      "작성자URL 리스트 길이 :  731\n",
      "공감수 리스트 길이 :  731\n",
      "링크수 리스트 길이 :  731\n",
      "답글수 리스트 길이 :  731\n",
      "첨부이미지URL 리스트 길이 :  731\n",
      "내용 리스트 길이 :  731\n"
     ]
    }
   ],
   "source": [
    "print('작성일 리스트 길이 : ', len(list[0]))\n",
    "print('고유번호 리스트 길이 : ', len(list[1]))\n",
    "print('답글구분 리스트 길이 : ', len(list[2]))\n",
    "print('닉네임 리스트 길이 : ', len(list[3]))\n",
    "print('작성자URL 리스트 길이 : ', len(list[4]))\n",
    "print('공감수 리스트 길이 : ', len(list[5]))\n",
    "print('링크수 리스트 길이 : ', len(list[6]))\n",
    "print('답글수 리스트 길이 : ', len(list[7]))\n",
    "print('첨부이미지URL 리스트 길이 : ', len(list[8]))\n",
    "print('내용 리스트 길이 : ', len(list[9]))"
   ]
  },
  {
   "cell_type": "markdown",
   "metadata": {},
   "source": [
    "## df 만들기"
   ]
  },
  {
   "cell_type": "code",
   "execution_count": 928,
   "metadata": {},
   "outputs": [],
   "source": [
    "dict = {'작성일':list[0], '고유번호':list[1], \n",
    "        '답글구분':list[2], '닉네임':list[3], \n",
    "        '작성자URL':list[4], '공감수':list[5], \n",
    "        '링크수':list[6], '답글수':list[7], \n",
    "        '첨부이미지URL':list[8], '내용':list[9]}\n",
    "df = pd.DataFrame(dict)"
   ]
  },
  {
   "cell_type": "code",
   "execution_count": 929,
   "metadata": {},
   "outputs": [
    {
     "data": {
      "text/html": [
       "<div>\n",
       "<style scoped>\n",
       "    .dataframe tbody tr th:only-of-type {\n",
       "        vertical-align: middle;\n",
       "    }\n",
       "\n",
       "    .dataframe tbody tr th {\n",
       "        vertical-align: top;\n",
       "    }\n",
       "\n",
       "    .dataframe thead th {\n",
       "        text-align: right;\n",
       "    }\n",
       "</style>\n",
       "<table border=\"1\" class=\"dataframe\">\n",
       "  <thead>\n",
       "    <tr style=\"text-align: right;\">\n",
       "      <th></th>\n",
       "      <th>작성일</th>\n",
       "      <th>고유번호</th>\n",
       "      <th>답글구분</th>\n",
       "      <th>닉네임</th>\n",
       "      <th>작성자URL</th>\n",
       "      <th>공감수</th>\n",
       "      <th>링크수</th>\n",
       "      <th>답글수</th>\n",
       "      <th>첨부이미지URL</th>\n",
       "      <th>내용</th>\n",
       "    </tr>\n",
       "  </thead>\n",
       "  <tbody>\n",
       "    <tr>\n",
       "      <th>0</th>\n",
       "      <td>2022-02-25 12:58:42</td>\n",
       "      <td>750627914109682094</td>\n",
       "      <td>NaN</td>\n",
       "      <td>문득</td>\n",
       "      <td>https://blog.naver.com/ekdlskdl</td>\n",
       "      <td>0</td>\n",
       "      <td>0</td>\n",
       "      <td>0</td>\n",
       "      <td>NaN</td>\n",
       "      <td>*정답: 3번 @해피쏭</td>\n",
       "    </tr>\n",
       "    <tr>\n",
       "      <th>1</th>\n",
       "      <td>2022-02-25 12:59:29</td>\n",
       "      <td>750627965884170523</td>\n",
       "      <td>NaN</td>\n",
       "      <td>푸른하늘현</td>\n",
       "      <td>https://blog.naver.com/blueday118</td>\n",
       "      <td>0</td>\n",
       "      <td>1</td>\n",
       "      <td>0</td>\n",
       "      <td>NaN</td>\n",
       "      <td>정답 : 3번 https://blog.naver.com/blueday118/2226...</td>\n",
       "    </tr>\n",
       "    <tr>\n",
       "      <th>2</th>\n",
       "      <td>2022-02-25 13:05:52</td>\n",
       "      <td>750628376070324774</td>\n",
       "      <td>NaN</td>\n",
       "      <td>란</td>\n",
       "      <td>https://blog.naver.com/cdism</td>\n",
       "      <td>0</td>\n",
       "      <td>1</td>\n",
       "      <td>0</td>\n",
       "      <td>NaN</td>\n",
       "      <td>*정답: 3번  https://blog.naver.com/cdism  @란 @cdism</td>\n",
       "    </tr>\n",
       "    <tr>\n",
       "      <th>3</th>\n",
       "      <td>2022-02-25 13:07:04</td>\n",
       "      <td>750628453866274870</td>\n",
       "      <td>NaN</td>\n",
       "      <td>saypark3824</td>\n",
       "      <td>https://blog.naver.com/saypark3824</td>\n",
       "      <td>0</td>\n",
       "      <td>0</td>\n",
       "      <td>0</td>\n",
       "      <td>https://g-cbox.pstatic.net/MjAyMjAyMjVfNTkg/MD...</td>\n",
       "      <td>정답 : 3번 입니다 @최준원 학생기자</td>\n",
       "    </tr>\n",
       "    <tr>\n",
       "      <th>4</th>\n",
       "      <td>2022-02-25 13:07:35</td>\n",
       "      <td>750628486162415983</td>\n",
       "      <td>NaN</td>\n",
       "      <td>리체</td>\n",
       "      <td>https://blog.naver.com/litvice</td>\n",
       "      <td>0</td>\n",
       "      <td>0</td>\n",
       "      <td>0</td>\n",
       "      <td>NaN</td>\n",
       "      <td>3번~~~^^</td>\n",
       "    </tr>\n",
       "  </tbody>\n",
       "</table>\n",
       "</div>"
      ],
      "text/plain": [
       "                   작성일                고유번호 답글구분          닉네임  \\\n",
       "0  2022-02-25 12:58:42  750627914109682094  NaN           문득   \n",
       "1  2022-02-25 12:59:29  750627965884170523  NaN        푸른하늘현   \n",
       "2  2022-02-25 13:05:52  750628376070324774  NaN            란   \n",
       "3  2022-02-25 13:07:04  750628453866274870  NaN  saypark3824   \n",
       "4  2022-02-25 13:07:35  750628486162415983  NaN           리체   \n",
       "\n",
       "                               작성자URL  공감수  링크수  답글수  \\\n",
       "0     https://blog.naver.com/ekdlskdl    0    0    0   \n",
       "1   https://blog.naver.com/blueday118    0    1    0   \n",
       "2        https://blog.naver.com/cdism    0    1    0   \n",
       "3  https://blog.naver.com/saypark3824    0    0    0   \n",
       "4      https://blog.naver.com/litvice    0    0    0   \n",
       "\n",
       "                                            첨부이미지URL  \\\n",
       "0                                                NaN   \n",
       "1                                                NaN   \n",
       "2                                                NaN   \n",
       "3  https://g-cbox.pstatic.net/MjAyMjAyMjVfNTkg/MD...   \n",
       "4                                                NaN   \n",
       "\n",
       "                                                  내용  \n",
       "0                                       *정답: 3번 @해피쏭  \n",
       "1  정답 : 3번 https://blog.naver.com/blueday118/2226...  \n",
       "2   *정답: 3번  https://blog.naver.com/cdism  @란 @cdism  \n",
       "3                              정답 : 3번 입니다 @최준원 학생기자  \n",
       "4                                            3번~~~^^  "
      ]
     },
     "execution_count": 929,
     "metadata": {},
     "output_type": "execute_result"
    }
   ],
   "source": [
    "df.head()"
   ]
  },
  {
   "cell_type": "code",
   "execution_count": 946,
   "metadata": {},
   "outputs": [
    {
     "name": "stdout",
     "output_type": "stream",
     "text": [
      "<class 'pandas.core.frame.DataFrame'>\n",
      "RangeIndex: 731 entries, 0 to 730\n",
      "Data columns (total 10 columns):\n",
      " #   Column    Non-Null Count  Dtype \n",
      "---  ------    --------------  ----- \n",
      " 0   작성일       731 non-null    object\n",
      " 1   고유번호      731 non-null    object\n",
      " 2   답글구분      48 non-null     object\n",
      " 3   닉네임       731 non-null    object\n",
      " 4   작성자URL    731 non-null    object\n",
      " 5   공감수       731 non-null    int64 \n",
      " 6   링크수       731 non-null    int64 \n",
      " 7   답글수       731 non-null    int64 \n",
      " 8   첨부이미지URL  123 non-null    object\n",
      " 9   내용        731 non-null    object\n",
      "dtypes: int64(3), object(7)\n",
      "memory usage: 57.2+ KB\n"
     ]
    }
   ],
   "source": [
    "df.info()"
   ]
  },
  {
   "cell_type": "markdown",
   "metadata": {},
   "source": [
    "### df 확인\n",
    "* 고유번호 : undefined 제거\n",
    "* 닉네임 : 비밀댓글 제거\n",
    "* 답글 구분 : 비밀댓글 nan값으로 교체"
   ]
  },
  {
   "cell_type": "markdown",
   "metadata": {},
   "source": [
    "#### 고유번호에서 undefined 제거"
   ]
  },
  {
   "cell_type": "code",
   "execution_count": 991,
   "metadata": {},
   "outputs": [
    {
     "name": "stdout",
     "output_type": "stream",
     "text": [
      "<class 'pandas.core.frame.DataFrame'>\n",
      "RangeIndex: 731 entries, 0 to 730\n",
      "Data columns (total 10 columns):\n",
      " #   Column    Non-Null Count  Dtype \n",
      "---  ------    --------------  ----- \n",
      " 0   작성일       731 non-null    object\n",
      " 1   고유번호      731 non-null    object\n",
      " 2   답글구분      48 non-null     object\n",
      " 3   닉네임       731 non-null    object\n",
      " 4   작성자URL    731 non-null    object\n",
      " 5   공감수       731 non-null    int64 \n",
      " 6   링크수       731 non-null    int64 \n",
      " 7   답글수       731 non-null    int64 \n",
      " 8   첨부이미지URL  123 non-null    object\n",
      " 9   내용        731 non-null    object\n",
      "dtypes: int64(3), object(7)\n",
      "memory usage: 57.2+ KB\n"
     ]
    }
   ],
   "source": [
    "df.info()"
   ]
  },
  {
   "cell_type": "code",
   "execution_count": 992,
   "metadata": {},
   "outputs": [
    {
     "data": {
      "text/html": [
       "<div>\n",
       "<style scoped>\n",
       "    .dataframe tbody tr th:only-of-type {\n",
       "        vertical-align: middle;\n",
       "    }\n",
       "\n",
       "    .dataframe tbody tr th {\n",
       "        vertical-align: top;\n",
       "    }\n",
       "\n",
       "    .dataframe thead th {\n",
       "        text-align: right;\n",
       "    }\n",
       "</style>\n",
       "<table border=\"1\" class=\"dataframe\">\n",
       "  <thead>\n",
       "    <tr style=\"text-align: right;\">\n",
       "      <th></th>\n",
       "      <th>작성일</th>\n",
       "      <th>고유번호</th>\n",
       "      <th>답글구분</th>\n",
       "      <th>닉네임</th>\n",
       "      <th>작성자URL</th>\n",
       "      <th>공감수</th>\n",
       "      <th>링크수</th>\n",
       "      <th>답글수</th>\n",
       "      <th>첨부이미지URL</th>\n",
       "      <th>내용</th>\n",
       "    </tr>\n",
       "  </thead>\n",
       "  <tbody>\n",
       "    <tr>\n",
       "      <th>300</th>\n",
       "      <td>2022-02-27 17:29:16</td>\n",
       "      <td>undefined</td>\n",
       "      <td>NaN</td>\n",
       "      <td>란나</td>\n",
       "      <td>https://blog.naver.com/kiboda</td>\n",
       "      <td>0</td>\n",
       "      <td>0</td>\n",
       "      <td>3</td>\n",
       "      <td>https://g-cbox.pstatic.net/MjAyMjAyMjdfMTY1/MD...</td>\n",
       "      <td></td>\n",
       "    </tr>\n",
       "  </tbody>\n",
       "</table>\n",
       "</div>"
      ],
      "text/plain": [
       "                     작성일       고유번호 답글구분 닉네임                         작성자URL  \\\n",
       "300  2022-02-27 17:29:16  undefined  NaN  란나  https://blog.naver.com/kiboda   \n",
       "\n",
       "     공감수  링크수  답글수                                           첨부이미지URL 내용  \n",
       "300    0    0    3  https://g-cbox.pstatic.net/MjAyMjAyMjdfMTY1/MD...     "
      ]
     },
     "execution_count": 992,
     "metadata": {},
     "output_type": "execute_result"
    }
   ],
   "source": [
    "df[df['고유번호'] == 'undefined']"
   ]
  },
  {
   "cell_type": "code",
   "execution_count": 993,
   "metadata": {},
   "outputs": [
    {
     "data": {
      "text/plain": [
       "Int64Index([300], dtype='int64')"
      ]
     },
     "execution_count": 993,
     "metadata": {},
     "output_type": "execute_result"
    }
   ],
   "source": [
    "undefined_index = df[df['고유번호'] == 'undefined'].index\n",
    "undefined_index"
   ]
  },
  {
   "cell_type": "code",
   "execution_count": 994,
   "metadata": {},
   "outputs": [
    {
     "data": {
      "text/html": [
       "<div>\n",
       "<style scoped>\n",
       "    .dataframe tbody tr th:only-of-type {\n",
       "        vertical-align: middle;\n",
       "    }\n",
       "\n",
       "    .dataframe tbody tr th {\n",
       "        vertical-align: top;\n",
       "    }\n",
       "\n",
       "    .dataframe thead th {\n",
       "        text-align: right;\n",
       "    }\n",
       "</style>\n",
       "<table border=\"1\" class=\"dataframe\">\n",
       "  <thead>\n",
       "    <tr style=\"text-align: right;\">\n",
       "      <th></th>\n",
       "      <th>작성일</th>\n",
       "      <th>고유번호</th>\n",
       "      <th>답글구분</th>\n",
       "      <th>닉네임</th>\n",
       "      <th>작성자URL</th>\n",
       "      <th>공감수</th>\n",
       "      <th>링크수</th>\n",
       "      <th>답글수</th>\n",
       "      <th>첨부이미지URL</th>\n",
       "      <th>내용</th>\n",
       "    </tr>\n",
       "  </thead>\n",
       "  <tbody>\n",
       "    <tr>\n",
       "      <th>299</th>\n",
       "      <td>2022-02-27 17:29:02</td>\n",
       "      <td>750830872990580750</td>\n",
       "      <td>NaN</td>\n",
       "      <td>란나</td>\n",
       "      <td>https://blog.naver.com/kiboda</td>\n",
       "      <td>0</td>\n",
       "      <td>1</td>\n",
       "      <td>0</td>\n",
       "      <td>NaN</td>\n",
       "      <td>정답: 3번인천광역시의회 항상 응원합니다♡  @사랑님  https://m.blog....</td>\n",
       "    </tr>\n",
       "    <tr>\n",
       "      <th>300</th>\n",
       "      <td>2022-02-27 17:29:16</td>\n",
       "      <td>undefined</td>\n",
       "      <td>NaN</td>\n",
       "      <td>란나</td>\n",
       "      <td>https://blog.naver.com/kiboda</td>\n",
       "      <td>0</td>\n",
       "      <td>0</td>\n",
       "      <td>3</td>\n",
       "      <td>https://g-cbox.pstatic.net/MjAyMjAyMjdfMTY1/MD...</td>\n",
       "      <td></td>\n",
       "    </tr>\n",
       "    <tr>\n",
       "      <th>301</th>\n",
       "      <td>2022-02-27 17:29:16</td>\n",
       "      <td>750830888173961351</td>\n",
       "      <td>답글</td>\n",
       "      <td>란나</td>\n",
       "      <td>https://blog.naver.com/kiboda</td>\n",
       "      <td>0</td>\n",
       "      <td>0</td>\n",
       "      <td>0</td>\n",
       "      <td>https://g-cbox.pstatic.net/MjAyMjAyMjdfMTY1/MD...</td>\n",
       "      <td></td>\n",
       "    </tr>\n",
       "    <tr>\n",
       "      <th>302</th>\n",
       "      <td>2022-02-27 17:29:28</td>\n",
       "      <td>750830900253556981</td>\n",
       "      <td>답글</td>\n",
       "      <td>란나</td>\n",
       "      <td>https://blog.naver.com/kiboda</td>\n",
       "      <td>0</td>\n",
       "      <td>0</td>\n",
       "      <td>0</td>\n",
       "      <td>https://g-cbox.pstatic.net/MjAyMjAyMjdfMTQ3/MD...</td>\n",
       "      <td></td>\n",
       "    </tr>\n",
       "    <tr>\n",
       "      <th>303</th>\n",
       "      <td>2022-02-27 17:29:38</td>\n",
       "      <td>750830912618365258</td>\n",
       "      <td>답글</td>\n",
       "      <td>란나</td>\n",
       "      <td>https://blog.naver.com/kiboda</td>\n",
       "      <td>0</td>\n",
       "      <td>0</td>\n",
       "      <td>0</td>\n",
       "      <td>https://g-cbox.pstatic.net/MjAyMjAyMjdfNDUg/MD...</td>\n",
       "      <td></td>\n",
       "    </tr>\n",
       "  </tbody>\n",
       "</table>\n",
       "</div>"
      ],
      "text/plain": [
       "                     작성일                고유번호 답글구분 닉네임  \\\n",
       "299  2022-02-27 17:29:02  750830872990580750  NaN  란나   \n",
       "300  2022-02-27 17:29:16           undefined  NaN  란나   \n",
       "301  2022-02-27 17:29:16  750830888173961351   답글  란나   \n",
       "302  2022-02-27 17:29:28  750830900253556981   답글  란나   \n",
       "303  2022-02-27 17:29:38  750830912618365258   답글  란나   \n",
       "\n",
       "                            작성자URL  공감수  링크수  답글수  \\\n",
       "299  https://blog.naver.com/kiboda    0    1    0   \n",
       "300  https://blog.naver.com/kiboda    0    0    3   \n",
       "301  https://blog.naver.com/kiboda    0    0    0   \n",
       "302  https://blog.naver.com/kiboda    0    0    0   \n",
       "303  https://blog.naver.com/kiboda    0    0    0   \n",
       "\n",
       "                                              첨부이미지URL  \\\n",
       "299                                                NaN   \n",
       "300  https://g-cbox.pstatic.net/MjAyMjAyMjdfMTY1/MD...   \n",
       "301  https://g-cbox.pstatic.net/MjAyMjAyMjdfMTY1/MD...   \n",
       "302  https://g-cbox.pstatic.net/MjAyMjAyMjdfMTQ3/MD...   \n",
       "303  https://g-cbox.pstatic.net/MjAyMjAyMjdfNDUg/MD...   \n",
       "\n",
       "                                                    내용  \n",
       "299  정답: 3번인천광역시의회 항상 응원합니다♡  @사랑님  https://m.blog....  \n",
       "300                                                     \n",
       "301                                                     \n",
       "302                                                     \n",
       "303                                                     "
      ]
     },
     "execution_count": 994,
     "metadata": {},
     "output_type": "execute_result"
    }
   ],
   "source": [
    "df.iloc[299:304, :]"
   ]
  },
  {
   "cell_type": "code",
   "execution_count": 1001,
   "metadata": {},
   "outputs": [
    {
     "name": "stdout",
     "output_type": "stream",
     "text": [
      "<class 'pandas.core.frame.DataFrame'>\n",
      "RangeIndex: 730 entries, 0 to 729\n",
      "Data columns (total 10 columns):\n",
      " #   Column    Non-Null Count  Dtype \n",
      "---  ------    --------------  ----- \n",
      " 0   작성일       730 non-null    object\n",
      " 1   고유번호      730 non-null    object\n",
      " 2   답글구분      48 non-null     object\n",
      " 3   닉네임       730 non-null    object\n",
      " 4   작성자URL    730 non-null    object\n",
      " 5   공감수       730 non-null    int64 \n",
      " 6   링크수       730 non-null    int64 \n",
      " 7   답글수       730 non-null    int64 \n",
      " 8   첨부이미지URL  122 non-null    object\n",
      " 9   내용        730 non-null    object\n",
      "dtypes: int64(3), object(7)\n",
      "memory usage: 57.2+ KB\n"
     ]
    }
   ],
   "source": [
    "df2 = df.drop(index=undefined_index).reset_index(drop=True)\n",
    "df2.info()"
   ]
  },
  {
   "cell_type": "code",
   "execution_count": 1002,
   "metadata": {},
   "outputs": [
    {
     "data": {
      "text/html": [
       "<div>\n",
       "<style scoped>\n",
       "    .dataframe tbody tr th:only-of-type {\n",
       "        vertical-align: middle;\n",
       "    }\n",
       "\n",
       "    .dataframe tbody tr th {\n",
       "        vertical-align: top;\n",
       "    }\n",
       "\n",
       "    .dataframe thead th {\n",
       "        text-align: right;\n",
       "    }\n",
       "</style>\n",
       "<table border=\"1\" class=\"dataframe\">\n",
       "  <thead>\n",
       "    <tr style=\"text-align: right;\">\n",
       "      <th></th>\n",
       "      <th>작성일</th>\n",
       "      <th>고유번호</th>\n",
       "      <th>답글구분</th>\n",
       "      <th>닉네임</th>\n",
       "      <th>작성자URL</th>\n",
       "      <th>공감수</th>\n",
       "      <th>링크수</th>\n",
       "      <th>답글수</th>\n",
       "      <th>첨부이미지URL</th>\n",
       "      <th>내용</th>\n",
       "    </tr>\n",
       "  </thead>\n",
       "  <tbody>\n",
       "    <tr>\n",
       "      <th>299</th>\n",
       "      <td>2022-02-27 17:29:02</td>\n",
       "      <td>750830872990580750</td>\n",
       "      <td>NaN</td>\n",
       "      <td>란나</td>\n",
       "      <td>https://blog.naver.com/kiboda</td>\n",
       "      <td>0</td>\n",
       "      <td>1</td>\n",
       "      <td>0</td>\n",
       "      <td>NaN</td>\n",
       "      <td>정답: 3번인천광역시의회 항상 응원합니다♡  @사랑님  https://m.blog....</td>\n",
       "    </tr>\n",
       "    <tr>\n",
       "      <th>300</th>\n",
       "      <td>2022-02-27 17:29:16</td>\n",
       "      <td>750830888173961351</td>\n",
       "      <td>답글</td>\n",
       "      <td>란나</td>\n",
       "      <td>https://blog.naver.com/kiboda</td>\n",
       "      <td>0</td>\n",
       "      <td>0</td>\n",
       "      <td>0</td>\n",
       "      <td>https://g-cbox.pstatic.net/MjAyMjAyMjdfMTY1/MD...</td>\n",
       "      <td></td>\n",
       "    </tr>\n",
       "    <tr>\n",
       "      <th>301</th>\n",
       "      <td>2022-02-27 17:29:28</td>\n",
       "      <td>750830900253556981</td>\n",
       "      <td>답글</td>\n",
       "      <td>란나</td>\n",
       "      <td>https://blog.naver.com/kiboda</td>\n",
       "      <td>0</td>\n",
       "      <td>0</td>\n",
       "      <td>0</td>\n",
       "      <td>https://g-cbox.pstatic.net/MjAyMjAyMjdfMTQ3/MD...</td>\n",
       "      <td></td>\n",
       "    </tr>\n",
       "    <tr>\n",
       "      <th>302</th>\n",
       "      <td>2022-02-27 17:29:38</td>\n",
       "      <td>750830912618365258</td>\n",
       "      <td>답글</td>\n",
       "      <td>란나</td>\n",
       "      <td>https://blog.naver.com/kiboda</td>\n",
       "      <td>0</td>\n",
       "      <td>0</td>\n",
       "      <td>0</td>\n",
       "      <td>https://g-cbox.pstatic.net/MjAyMjAyMjdfNDUg/MD...</td>\n",
       "      <td></td>\n",
       "    </tr>\n",
       "    <tr>\n",
       "      <th>303</th>\n",
       "      <td>2022-02-27 17:31:13</td>\n",
       "      <td>750831012895785085</td>\n",
       "      <td>NaN</td>\n",
       "      <td>lhj123400</td>\n",
       "      <td>https://blog.naver.com/lhj123400</td>\n",
       "      <td>0</td>\n",
       "      <td>1</td>\n",
       "      <td>0</td>\n",
       "      <td>NaN</td>\n",
       "      <td>정답 : 3번 https://blog.naver.com/lhj123400/22265...</td>\n",
       "    </tr>\n",
       "  </tbody>\n",
       "</table>\n",
       "</div>"
      ],
      "text/plain": [
       "                     작성일                고유번호 답글구분        닉네임  \\\n",
       "299  2022-02-27 17:29:02  750830872990580750  NaN         란나   \n",
       "300  2022-02-27 17:29:16  750830888173961351   답글         란나   \n",
       "301  2022-02-27 17:29:28  750830900253556981   답글         란나   \n",
       "302  2022-02-27 17:29:38  750830912618365258   답글         란나   \n",
       "303  2022-02-27 17:31:13  750831012895785085  NaN  lhj123400   \n",
       "\n",
       "                               작성자URL  공감수  링크수  답글수  \\\n",
       "299     https://blog.naver.com/kiboda    0    1    0   \n",
       "300     https://blog.naver.com/kiboda    0    0    0   \n",
       "301     https://blog.naver.com/kiboda    0    0    0   \n",
       "302     https://blog.naver.com/kiboda    0    0    0   \n",
       "303  https://blog.naver.com/lhj123400    0    1    0   \n",
       "\n",
       "                                              첨부이미지URL  \\\n",
       "299                                                NaN   \n",
       "300  https://g-cbox.pstatic.net/MjAyMjAyMjdfMTY1/MD...   \n",
       "301  https://g-cbox.pstatic.net/MjAyMjAyMjdfMTQ3/MD...   \n",
       "302  https://g-cbox.pstatic.net/MjAyMjAyMjdfNDUg/MD...   \n",
       "303                                                NaN   \n",
       "\n",
       "                                                    내용  \n",
       "299  정답: 3번인천광역시의회 항상 응원합니다♡  @사랑님  https://m.blog....  \n",
       "300                                                     \n",
       "301                                                     \n",
       "302                                                     \n",
       "303  정답 : 3번 https://blog.naver.com/lhj123400/22265...  "
      ]
     },
     "execution_count": 1002,
     "metadata": {},
     "output_type": "execute_result"
    }
   ],
   "source": [
    "df2.iloc[299:304, :]"
   ]
  },
  {
   "cell_type": "markdown",
   "metadata": {},
   "source": [
    "#### 닉네임에서 비밀댓글 제거"
   ]
  },
  {
   "cell_type": "code",
   "execution_count": 1003,
   "metadata": {},
   "outputs": [
    {
     "data": {
      "text/html": [
       "<div>\n",
       "<style scoped>\n",
       "    .dataframe tbody tr th:only-of-type {\n",
       "        vertical-align: middle;\n",
       "    }\n",
       "\n",
       "    .dataframe tbody tr th {\n",
       "        vertical-align: top;\n",
       "    }\n",
       "\n",
       "    .dataframe thead th {\n",
       "        text-align: right;\n",
       "    }\n",
       "</style>\n",
       "<table border=\"1\" class=\"dataframe\">\n",
       "  <thead>\n",
       "    <tr style=\"text-align: right;\">\n",
       "      <th></th>\n",
       "      <th>작성일</th>\n",
       "      <th>고유번호</th>\n",
       "      <th>답글구분</th>\n",
       "      <th>닉네임</th>\n",
       "      <th>작성자URL</th>\n",
       "      <th>공감수</th>\n",
       "      <th>링크수</th>\n",
       "      <th>답글수</th>\n",
       "      <th>첨부이미지URL</th>\n",
       "      <th>내용</th>\n",
       "    </tr>\n",
       "  </thead>\n",
       "  <tbody>\n",
       "    <tr>\n",
       "      <th>91</th>\n",
       "      <td>2022-02-25 15:34:45</td>\n",
       "      <td>750637968544236341</td>\n",
       "      <td>비밀댓글</td>\n",
       "      <td>비밀댓글</td>\n",
       "      <td>비밀댓글</td>\n",
       "      <td>0</td>\n",
       "      <td>0</td>\n",
       "      <td>0</td>\n",
       "      <td>NaN</td>\n",
       "      <td>비밀댓글</td>\n",
       "    </tr>\n",
       "    <tr>\n",
       "      <th>124</th>\n",
       "      <td>2022-02-25 17:56:26</td>\n",
       "      <td>750647096389927242</td>\n",
       "      <td>비밀댓글</td>\n",
       "      <td>비밀댓글</td>\n",
       "      <td>비밀댓글</td>\n",
       "      <td>0</td>\n",
       "      <td>0</td>\n",
       "      <td>0</td>\n",
       "      <td>NaN</td>\n",
       "      <td>비밀댓글</td>\n",
       "    </tr>\n",
       "    <tr>\n",
       "      <th>131</th>\n",
       "      <td>2022-02-25 19:45:54</td>\n",
       "      <td>750654147266609902</td>\n",
       "      <td>비밀댓글</td>\n",
       "      <td>비밀댓글</td>\n",
       "      <td>비밀댓글</td>\n",
       "      <td>0</td>\n",
       "      <td>0</td>\n",
       "      <td>0</td>\n",
       "      <td>NaN</td>\n",
       "      <td>비밀댓글</td>\n",
       "    </tr>\n",
       "    <tr>\n",
       "      <th>140</th>\n",
       "      <td>2022-02-25 20:32:59</td>\n",
       "      <td>750657180503376843</td>\n",
       "      <td>비밀댓글</td>\n",
       "      <td>비밀댓글</td>\n",
       "      <td>비밀댓글</td>\n",
       "      <td>0</td>\n",
       "      <td>0</td>\n",
       "      <td>1</td>\n",
       "      <td>NaN</td>\n",
       "      <td>비밀댓글</td>\n",
       "    </tr>\n",
       "    <tr>\n",
       "      <th>141</th>\n",
       "      <td>2022-02-25 20:33:03</td>\n",
       "      <td>750657185435877425</td>\n",
       "      <td>비밀댓글</td>\n",
       "      <td>비밀댓글</td>\n",
       "      <td>비밀댓글</td>\n",
       "      <td>0</td>\n",
       "      <td>0</td>\n",
       "      <td>0</td>\n",
       "      <td>NaN</td>\n",
       "      <td>비밀댓글</td>\n",
       "    </tr>\n",
       "    <tr>\n",
       "      <th>156</th>\n",
       "      <td>2022-02-25 21:33:34</td>\n",
       "      <td>750661084628648583</td>\n",
       "      <td>비밀댓글</td>\n",
       "      <td>비밀댓글</td>\n",
       "      <td>비밀댓글</td>\n",
       "      <td>0</td>\n",
       "      <td>0</td>\n",
       "      <td>0</td>\n",
       "      <td>NaN</td>\n",
       "      <td>비밀댓글</td>\n",
       "    </tr>\n",
       "    <tr>\n",
       "      <th>207</th>\n",
       "      <td>2022-02-26 12:01:33</td>\n",
       "      <td>750717003223793952</td>\n",
       "      <td>비밀댓글</td>\n",
       "      <td>비밀댓글</td>\n",
       "      <td>비밀댓글</td>\n",
       "      <td>0</td>\n",
       "      <td>0</td>\n",
       "      <td>0</td>\n",
       "      <td>NaN</td>\n",
       "      <td>비밀댓글</td>\n",
       "    </tr>\n",
       "    <tr>\n",
       "      <th>309</th>\n",
       "      <td>2022-02-27 20:39:40</td>\n",
       "      <td>750843155405865456</td>\n",
       "      <td>비밀댓글</td>\n",
       "      <td>비밀댓글</td>\n",
       "      <td>비밀댓글</td>\n",
       "      <td>0</td>\n",
       "      <td>0</td>\n",
       "      <td>0</td>\n",
       "      <td>NaN</td>\n",
       "      <td>비밀댓글</td>\n",
       "    </tr>\n",
       "    <tr>\n",
       "      <th>422</th>\n",
       "      <td>2022-03-02 10:41:01</td>\n",
       "      <td>751082900396441610</td>\n",
       "      <td>비밀댓글</td>\n",
       "      <td>비밀댓글</td>\n",
       "      <td>비밀댓글</td>\n",
       "      <td>0</td>\n",
       "      <td>0</td>\n",
       "      <td>0</td>\n",
       "      <td>NaN</td>\n",
       "      <td>비밀댓글</td>\n",
       "    </tr>\n",
       "    <tr>\n",
       "      <th>635</th>\n",
       "      <td>2022-03-04 21:37:52</td>\n",
       "      <td>751310761766158964</td>\n",
       "      <td>비밀댓글</td>\n",
       "      <td>비밀댓글</td>\n",
       "      <td>비밀댓글</td>\n",
       "      <td>0</td>\n",
       "      <td>0</td>\n",
       "      <td>0</td>\n",
       "      <td>NaN</td>\n",
       "      <td>비밀댓글</td>\n",
       "    </tr>\n",
       "    <tr>\n",
       "      <th>636</th>\n",
       "      <td>2022-03-04 22:13:43</td>\n",
       "      <td>751313069723877940</td>\n",
       "      <td>비밀댓글</td>\n",
       "      <td>비밀댓글</td>\n",
       "      <td>비밀댓글</td>\n",
       "      <td>0</td>\n",
       "      <td>0</td>\n",
       "      <td>0</td>\n",
       "      <td>NaN</td>\n",
       "      <td>비밀댓글</td>\n",
       "    </tr>\n",
       "    <tr>\n",
       "      <th>637</th>\n",
       "      <td>2022-03-04 22:25:23</td>\n",
       "      <td>751313821125050669</td>\n",
       "      <td>비밀댓글</td>\n",
       "      <td>비밀댓글</td>\n",
       "      <td>비밀댓글</td>\n",
       "      <td>0</td>\n",
       "      <td>0</td>\n",
       "      <td>0</td>\n",
       "      <td>NaN</td>\n",
       "      <td>비밀댓글</td>\n",
       "    </tr>\n",
       "    <tr>\n",
       "      <th>638</th>\n",
       "      <td>2022-03-04 22:37:51</td>\n",
       "      <td>751314624720142969</td>\n",
       "      <td>비밀댓글</td>\n",
       "      <td>비밀댓글</td>\n",
       "      <td>비밀댓글</td>\n",
       "      <td>0</td>\n",
       "      <td>0</td>\n",
       "      <td>0</td>\n",
       "      <td>NaN</td>\n",
       "      <td>비밀댓글</td>\n",
       "    </tr>\n",
       "    <tr>\n",
       "      <th>639</th>\n",
       "      <td>2022-03-04 22:53:41</td>\n",
       "      <td>751315646150607409</td>\n",
       "      <td>비밀댓글</td>\n",
       "      <td>비밀댓글</td>\n",
       "      <td>비밀댓글</td>\n",
       "      <td>0</td>\n",
       "      <td>0</td>\n",
       "      <td>0</td>\n",
       "      <td>NaN</td>\n",
       "      <td>비밀댓글</td>\n",
       "    </tr>\n",
       "    <tr>\n",
       "      <th>646</th>\n",
       "      <td>2022-03-04 21:55:29</td>\n",
       "      <td>751311895335534955</td>\n",
       "      <td>비밀댓글</td>\n",
       "      <td>비밀댓글</td>\n",
       "      <td>비밀댓글</td>\n",
       "      <td>0</td>\n",
       "      <td>0</td>\n",
       "      <td>0</td>\n",
       "      <td>NaN</td>\n",
       "      <td>비밀댓글</td>\n",
       "    </tr>\n",
       "    <tr>\n",
       "      <th>692</th>\n",
       "      <td>2022-03-04 23:04:01</td>\n",
       "      <td>751316310461251592</td>\n",
       "      <td>비밀댓글</td>\n",
       "      <td>비밀댓글</td>\n",
       "      <td>비밀댓글</td>\n",
       "      <td>0</td>\n",
       "      <td>0</td>\n",
       "      <td>0</td>\n",
       "      <td>NaN</td>\n",
       "      <td>비밀댓글</td>\n",
       "    </tr>\n",
       "    <tr>\n",
       "      <th>696</th>\n",
       "      <td>2022-03-04 23:12:11</td>\n",
       "      <td>751316837819482268</td>\n",
       "      <td>비밀댓글</td>\n",
       "      <td>비밀댓글</td>\n",
       "      <td>비밀댓글</td>\n",
       "      <td>0</td>\n",
       "      <td>0</td>\n",
       "      <td>0</td>\n",
       "      <td>NaN</td>\n",
       "      <td>비밀댓글</td>\n",
       "    </tr>\n",
       "    <tr>\n",
       "      <th>729</th>\n",
       "      <td>2022-03-05 22:28:58</td>\n",
       "      <td>751406824095220447</td>\n",
       "      <td>비밀댓글</td>\n",
       "      <td>비밀댓글</td>\n",
       "      <td>비밀댓글</td>\n",
       "      <td>0</td>\n",
       "      <td>0</td>\n",
       "      <td>0</td>\n",
       "      <td>NaN</td>\n",
       "      <td>비밀댓글</td>\n",
       "    </tr>\n",
       "  </tbody>\n",
       "</table>\n",
       "</div>"
      ],
      "text/plain": [
       "                     작성일                고유번호  답글구분   닉네임 작성자URL  공감수  링크수  \\\n",
       "91   2022-02-25 15:34:45  750637968544236341  비밀댓글  비밀댓글   비밀댓글    0    0   \n",
       "124  2022-02-25 17:56:26  750647096389927242  비밀댓글  비밀댓글   비밀댓글    0    0   \n",
       "131  2022-02-25 19:45:54  750654147266609902  비밀댓글  비밀댓글   비밀댓글    0    0   \n",
       "140  2022-02-25 20:32:59  750657180503376843  비밀댓글  비밀댓글   비밀댓글    0    0   \n",
       "141  2022-02-25 20:33:03  750657185435877425  비밀댓글  비밀댓글   비밀댓글    0    0   \n",
       "156  2022-02-25 21:33:34  750661084628648583  비밀댓글  비밀댓글   비밀댓글    0    0   \n",
       "207  2022-02-26 12:01:33  750717003223793952  비밀댓글  비밀댓글   비밀댓글    0    0   \n",
       "309  2022-02-27 20:39:40  750843155405865456  비밀댓글  비밀댓글   비밀댓글    0    0   \n",
       "422  2022-03-02 10:41:01  751082900396441610  비밀댓글  비밀댓글   비밀댓글    0    0   \n",
       "635  2022-03-04 21:37:52  751310761766158964  비밀댓글  비밀댓글   비밀댓글    0    0   \n",
       "636  2022-03-04 22:13:43  751313069723877940  비밀댓글  비밀댓글   비밀댓글    0    0   \n",
       "637  2022-03-04 22:25:23  751313821125050669  비밀댓글  비밀댓글   비밀댓글    0    0   \n",
       "638  2022-03-04 22:37:51  751314624720142969  비밀댓글  비밀댓글   비밀댓글    0    0   \n",
       "639  2022-03-04 22:53:41  751315646150607409  비밀댓글  비밀댓글   비밀댓글    0    0   \n",
       "646  2022-03-04 21:55:29  751311895335534955  비밀댓글  비밀댓글   비밀댓글    0    0   \n",
       "692  2022-03-04 23:04:01  751316310461251592  비밀댓글  비밀댓글   비밀댓글    0    0   \n",
       "696  2022-03-04 23:12:11  751316837819482268  비밀댓글  비밀댓글   비밀댓글    0    0   \n",
       "729  2022-03-05 22:28:58  751406824095220447  비밀댓글  비밀댓글   비밀댓글    0    0   \n",
       "\n",
       "     답글수 첨부이미지URL    내용  \n",
       "91     0      NaN  비밀댓글  \n",
       "124    0      NaN  비밀댓글  \n",
       "131    0      NaN  비밀댓글  \n",
       "140    1      NaN  비밀댓글  \n",
       "141    0      NaN  비밀댓글  \n",
       "156    0      NaN  비밀댓글  \n",
       "207    0      NaN  비밀댓글  \n",
       "309    0      NaN  비밀댓글  \n",
       "422    0      NaN  비밀댓글  \n",
       "635    0      NaN  비밀댓글  \n",
       "636    0      NaN  비밀댓글  \n",
       "637    0      NaN  비밀댓글  \n",
       "638    0      NaN  비밀댓글  \n",
       "639    0      NaN  비밀댓글  \n",
       "646    0      NaN  비밀댓글  \n",
       "692    0      NaN  비밀댓글  \n",
       "696    0      NaN  비밀댓글  \n",
       "729    0      NaN  비밀댓글  "
      ]
     },
     "execution_count": 1003,
     "metadata": {},
     "output_type": "execute_result"
    }
   ],
   "source": [
    "df2[df2['닉네임'] == '비밀댓글']"
   ]
  },
  {
   "cell_type": "code",
   "execution_count": 1004,
   "metadata": {},
   "outputs": [
    {
     "data": {
      "text/plain": [
       "Int64Index([ 91, 124, 131, 140, 141, 156, 207, 309, 422, 635, 636, 637, 638,\n",
       "            639, 646, 692, 696, 729],\n",
       "           dtype='int64')"
      ]
     },
     "execution_count": 1004,
     "metadata": {},
     "output_type": "execute_result"
    }
   ],
   "source": [
    "secret_reply_index = df2[df2['닉네임'] == '비밀댓글'].index\n",
    "secret_reply_index"
   ]
  },
  {
   "cell_type": "code",
   "execution_count": 1017,
   "metadata": {},
   "outputs": [
    {
     "name": "stdout",
     "output_type": "stream",
     "text": [
      "<class 'pandas.core.frame.DataFrame'>\n",
      "RangeIndex: 712 entries, 0 to 711\n",
      "Data columns (total 10 columns):\n",
      " #   Column    Non-Null Count  Dtype \n",
      "---  ------    --------------  ----- \n",
      " 0   작성일       712 non-null    object\n",
      " 1   고유번호      712 non-null    object\n",
      " 2   답글구분      30 non-null     object\n",
      " 3   닉네임       712 non-null    object\n",
      " 4   작성자URL    712 non-null    object\n",
      " 5   공감수       712 non-null    int64 \n",
      " 6   링크수       712 non-null    int64 \n",
      " 7   답글수       712 non-null    int64 \n",
      " 8   첨부이미지URL  122 non-null    object\n",
      " 9   내용        712 non-null    object\n",
      "dtypes: int64(3), object(7)\n",
      "memory usage: 55.8+ KB\n"
     ]
    }
   ],
   "source": [
    "df3 = df2.drop(index=secret_reply_index).reset_index(drop=True)\n",
    "df3.info()"
   ]
  },
  {
   "cell_type": "code",
   "execution_count": 1018,
   "metadata": {},
   "outputs": [
    {
     "data": {
      "text/plain": [
       "array([nan, '답글', '비밀댓글'], dtype=object)"
      ]
     },
     "execution_count": 1018,
     "metadata": {},
     "output_type": "execute_result"
    }
   ],
   "source": [
    "df3['답글구분'].unique()"
   ]
  },
  {
   "cell_type": "markdown",
   "metadata": {},
   "source": [
    "#### 답글구분에서 비밀댓글 nan 값으로 교체"
   ]
  },
  {
   "cell_type": "code",
   "execution_count": 1019,
   "metadata": {},
   "outputs": [
    {
     "data": {
      "text/html": [
       "<div>\n",
       "<style scoped>\n",
       "    .dataframe tbody tr th:only-of-type {\n",
       "        vertical-align: middle;\n",
       "    }\n",
       "\n",
       "    .dataframe tbody tr th {\n",
       "        vertical-align: top;\n",
       "    }\n",
       "\n",
       "    .dataframe thead th {\n",
       "        text-align: right;\n",
       "    }\n",
       "</style>\n",
       "<table border=\"1\" class=\"dataframe\">\n",
       "  <thead>\n",
       "    <tr style=\"text-align: right;\">\n",
       "      <th></th>\n",
       "      <th>작성일</th>\n",
       "      <th>고유번호</th>\n",
       "      <th>답글구분</th>\n",
       "      <th>닉네임</th>\n",
       "      <th>작성자URL</th>\n",
       "      <th>공감수</th>\n",
       "      <th>링크수</th>\n",
       "      <th>답글수</th>\n",
       "      <th>첨부이미지URL</th>\n",
       "      <th>내용</th>\n",
       "    </tr>\n",
       "  </thead>\n",
       "  <tbody>\n",
       "    <tr>\n",
       "      <th>625</th>\n",
       "      <td>2022-03-04 21:24:40</td>\n",
       "      <td>751309911094198722</td>\n",
       "      <td>비밀댓글</td>\n",
       "      <td>단단해진나</td>\n",
       "      <td>https://blog.naver.com/snowdropsun</td>\n",
       "      <td>0</td>\n",
       "      <td>4</td>\n",
       "      <td>5</td>\n",
       "      <td>NaN</td>\n",
       "      <td>정답 : 3번 https://m.blog.naver.com/snowdropsun/2...</td>\n",
       "    </tr>\n",
       "    <tr>\n",
       "      <th>679</th>\n",
       "      <td>2022-03-04 23:12:05</td>\n",
       "      <td>751316830286512183</td>\n",
       "      <td>비밀댓글</td>\n",
       "      <td>금덩이</td>\n",
       "      <td>https://blog.naver.com/pinkangel9999</td>\n",
       "      <td>0</td>\n",
       "      <td>4</td>\n",
       "      <td>1</td>\n",
       "      <td>NaN</td>\n",
       "      <td>3번인천광역시의회 멋진 정책 법안을 많이 만들어 주셔서 시간가는 줄 모르고 재미나게...</td>\n",
       "    </tr>\n",
       "  </tbody>\n",
       "</table>\n",
       "</div>"
      ],
      "text/plain": [
       "                     작성일                고유번호  답글구분    닉네임  \\\n",
       "625  2022-03-04 21:24:40  751309911094198722  비밀댓글  단단해진나   \n",
       "679  2022-03-04 23:12:05  751316830286512183  비밀댓글    금덩이   \n",
       "\n",
       "                                   작성자URL  공감수  링크수  답글수 첨부이미지URL  \\\n",
       "625    https://blog.naver.com/snowdropsun    0    4    5      NaN   \n",
       "679  https://blog.naver.com/pinkangel9999    0    4    1      NaN   \n",
       "\n",
       "                                                    내용  \n",
       "625  정답 : 3번 https://m.blog.naver.com/snowdropsun/2...  \n",
       "679  3번인천광역시의회 멋진 정책 법안을 많이 만들어 주셔서 시간가는 줄 모르고 재미나게...  "
      ]
     },
     "execution_count": 1019,
     "metadata": {},
     "output_type": "execute_result"
    }
   ],
   "source": [
    "df3[df3['답글구분'] == '비밀댓글']"
   ]
  },
  {
   "cell_type": "code",
   "execution_count": 1020,
   "metadata": {},
   "outputs": [
    {
     "data": {
      "text/plain": [
       "Int64Index([625, 679], dtype='int64')"
      ]
     },
     "execution_count": 1020,
     "metadata": {},
     "output_type": "execute_result"
    }
   ],
   "source": [
    "index3 = df3[df3['답글구분'] == '비밀댓글'].index\n",
    "index3"
   ]
  },
  {
   "cell_type": "code",
   "execution_count": 1021,
   "metadata": {},
   "outputs": [],
   "source": [
    "df4 = df3.replace( {'답글구분':'비밀댓글'}, nan )"
   ]
  },
  {
   "cell_type": "code",
   "execution_count": 1022,
   "metadata": {},
   "outputs": [
    {
     "data": {
      "text/html": [
       "<div>\n",
       "<style scoped>\n",
       "    .dataframe tbody tr th:only-of-type {\n",
       "        vertical-align: middle;\n",
       "    }\n",
       "\n",
       "    .dataframe tbody tr th {\n",
       "        vertical-align: top;\n",
       "    }\n",
       "\n",
       "    .dataframe thead th {\n",
       "        text-align: right;\n",
       "    }\n",
       "</style>\n",
       "<table border=\"1\" class=\"dataframe\">\n",
       "  <thead>\n",
       "    <tr style=\"text-align: right;\">\n",
       "      <th></th>\n",
       "      <th>작성일</th>\n",
       "      <th>고유번호</th>\n",
       "      <th>답글구분</th>\n",
       "      <th>닉네임</th>\n",
       "      <th>작성자URL</th>\n",
       "      <th>공감수</th>\n",
       "      <th>링크수</th>\n",
       "      <th>답글수</th>\n",
       "      <th>첨부이미지URL</th>\n",
       "      <th>내용</th>\n",
       "    </tr>\n",
       "  </thead>\n",
       "  <tbody>\n",
       "    <tr>\n",
       "      <th>625</th>\n",
       "      <td>2022-03-04 21:24:40</td>\n",
       "      <td>751309911094198722</td>\n",
       "      <td>NaN</td>\n",
       "      <td>단단해진나</td>\n",
       "      <td>https://blog.naver.com/snowdropsun</td>\n",
       "      <td>0</td>\n",
       "      <td>4</td>\n",
       "      <td>5</td>\n",
       "      <td>NaN</td>\n",
       "      <td>정답 : 3번 https://m.blog.naver.com/snowdropsun/2...</td>\n",
       "    </tr>\n",
       "    <tr>\n",
       "      <th>626</th>\n",
       "      <td>2022-03-04 21:25:20</td>\n",
       "      <td>751309953356005600</td>\n",
       "      <td>NaN</td>\n",
       "      <td>행복한여린이</td>\n",
       "      <td>https://blog.naver.com/shiranuimai2</td>\n",
       "      <td>0</td>\n",
       "      <td>1</td>\n",
       "      <td>0</td>\n",
       "      <td>NaN</td>\n",
       "      <td>정답: 3번입니다!! https://blog.naver.com/shiranuimai...</td>\n",
       "    </tr>\n",
       "  </tbody>\n",
       "</table>\n",
       "</div>"
      ],
      "text/plain": [
       "                     작성일                고유번호 답글구분     닉네임  \\\n",
       "625  2022-03-04 21:24:40  751309911094198722  NaN   단단해진나   \n",
       "626  2022-03-04 21:25:20  751309953356005600  NaN  행복한여린이   \n",
       "\n",
       "                                  작성자URL  공감수  링크수  답글수 첨부이미지URL  \\\n",
       "625   https://blog.naver.com/snowdropsun    0    4    5      NaN   \n",
       "626  https://blog.naver.com/shiranuimai2    0    1    0      NaN   \n",
       "\n",
       "                                                    내용  \n",
       "625  정답 : 3번 https://m.blog.naver.com/snowdropsun/2...  \n",
       "626  정답: 3번입니다!! https://blog.naver.com/shiranuimai...  "
      ]
     },
     "execution_count": 1022,
     "metadata": {},
     "output_type": "execute_result"
    }
   ],
   "source": [
    "df4.iloc[625:627, :]"
   ]
  },
  {
   "cell_type": "code",
   "execution_count": 1023,
   "metadata": {},
   "outputs": [
    {
     "data": {
      "text/html": [
       "<div>\n",
       "<style scoped>\n",
       "    .dataframe tbody tr th:only-of-type {\n",
       "        vertical-align: middle;\n",
       "    }\n",
       "\n",
       "    .dataframe tbody tr th {\n",
       "        vertical-align: top;\n",
       "    }\n",
       "\n",
       "    .dataframe thead th {\n",
       "        text-align: right;\n",
       "    }\n",
       "</style>\n",
       "<table border=\"1\" class=\"dataframe\">\n",
       "  <thead>\n",
       "    <tr style=\"text-align: right;\">\n",
       "      <th></th>\n",
       "      <th>작성일</th>\n",
       "      <th>고유번호</th>\n",
       "      <th>답글구분</th>\n",
       "      <th>닉네임</th>\n",
       "      <th>작성자URL</th>\n",
       "      <th>공감수</th>\n",
       "      <th>링크수</th>\n",
       "      <th>답글수</th>\n",
       "      <th>첨부이미지URL</th>\n",
       "      <th>내용</th>\n",
       "    </tr>\n",
       "  </thead>\n",
       "  <tbody>\n",
       "    <tr>\n",
       "      <th>678</th>\n",
       "      <td>2022-03-04 23:11:09</td>\n",
       "      <td>751316770945499247</td>\n",
       "      <td>NaN</td>\n",
       "      <td>달빛림</td>\n",
       "      <td>https://blog.naver.com/outside1419</td>\n",
       "      <td>0</td>\n",
       "      <td>0</td>\n",
       "      <td>0</td>\n",
       "      <td>NaN</td>\n",
       "      <td>&lt;정답:  3번 &gt;   공감, 기존이웃! #인천광역시의 퀴즈 함께 풀어요! @내사랑만두야</td>\n",
       "    </tr>\n",
       "    <tr>\n",
       "      <th>679</th>\n",
       "      <td>2022-03-04 23:12:05</td>\n",
       "      <td>751316830286512183</td>\n",
       "      <td>NaN</td>\n",
       "      <td>금덩이</td>\n",
       "      <td>https://blog.naver.com/pinkangel9999</td>\n",
       "      <td>0</td>\n",
       "      <td>4</td>\n",
       "      <td>1</td>\n",
       "      <td>NaN</td>\n",
       "      <td>3번인천광역시의회 멋진 정책 법안을 많이 만들어 주셔서 시간가는 줄 모르고 재미나게...</td>\n",
       "    </tr>\n",
       "  </tbody>\n",
       "</table>\n",
       "</div>"
      ],
      "text/plain": [
       "                     작성일                고유번호 답글구분  닉네임  \\\n",
       "678  2022-03-04 23:11:09  751316770945499247  NaN  달빛림   \n",
       "679  2022-03-04 23:12:05  751316830286512183  NaN  금덩이   \n",
       "\n",
       "                                   작성자URL  공감수  링크수  답글수 첨부이미지URL  \\\n",
       "678    https://blog.naver.com/outside1419    0    0    0      NaN   \n",
       "679  https://blog.naver.com/pinkangel9999    0    4    1      NaN   \n",
       "\n",
       "                                                    내용  \n",
       "678  <정답:  3번 >   공감, 기존이웃! #인천광역시의 퀴즈 함께 풀어요! @내사랑만두야  \n",
       "679  3번인천광역시의회 멋진 정책 법안을 많이 만들어 주셔서 시간가는 줄 모르고 재미나게...  "
      ]
     },
     "execution_count": 1023,
     "metadata": {},
     "output_type": "execute_result"
    }
   ],
   "source": [
    "df4.iloc[678:680, :]"
   ]
  },
  {
   "cell_type": "code",
   "execution_count": 1024,
   "metadata": {},
   "outputs": [
    {
     "name": "stdout",
     "output_type": "stream",
     "text": [
      "<class 'pandas.core.frame.DataFrame'>\n",
      "RangeIndex: 712 entries, 0 to 711\n",
      "Data columns (total 10 columns):\n",
      " #   Column    Non-Null Count  Dtype \n",
      "---  ------    --------------  ----- \n",
      " 0   작성일       712 non-null    object\n",
      " 1   고유번호      712 non-null    object\n",
      " 2   답글구분      28 non-null     object\n",
      " 3   닉네임       712 non-null    object\n",
      " 4   작성자URL    712 non-null    object\n",
      " 5   공감수       712 non-null    int64 \n",
      " 6   링크수       712 non-null    int64 \n",
      " 7   답글수       712 non-null    int64 \n",
      " 8   첨부이미지URL  122 non-null    object\n",
      " 9   내용        712 non-null    object\n",
      "dtypes: int64(3), object(7)\n",
      "memory usage: 55.8+ KB\n"
     ]
    }
   ],
   "source": [
    "df4.info()"
   ]
  },
  {
   "cell_type": "code",
   "execution_count": 1013,
   "metadata": {},
   "outputs": [],
   "source": [
    "final_df = df4.copy()"
   ]
  },
  {
   "cell_type": "markdown",
   "metadata": {},
   "source": [
    "## 파일로 출력"
   ]
  },
  {
   "cell_type": "code",
   "execution_count": 1014,
   "metadata": {},
   "outputs": [
    {
     "data": {
      "text/plain": [
       "'c:/data/Wantreez/Crawling/incheon/crawled_data/naver_blog'"
      ]
     },
     "execution_count": 1014,
     "metadata": {},
     "output_type": "execute_result"
    }
   ],
   "source": [
    "crawled_folder_path"
   ]
  },
  {
   "cell_type": "code",
   "execution_count": 1015,
   "metadata": {},
   "outputs": [
    {
     "data": {
      "text/plain": [
       "'20220418_095347'"
      ]
     },
     "execution_count": 1015,
     "metadata": {},
     "output_type": "execute_result"
    }
   ],
   "source": [
    "today_date = datetime.today().strftime('%Y%m%d_%H%M%S')\n",
    "today_date"
   ]
  },
  {
   "cell_type": "code",
   "execution_count": 1016,
   "metadata": {},
   "outputs": [
    {
     "name": "stdout",
     "output_type": "stream",
     "text": [
      "naver_blog_20220418_095349.xlsx 출력완료\n"
     ]
    }
   ],
   "source": [
    "today_date = datetime.today().strftime('%Y%m%d_%H%M%S')\n",
    "file_name = f'naver_blog_{today_date}.xlsx'\n",
    "final_df.to_excel(crawled_folder_path + '/' + file_name, index=False, encoding='utf-8')\n",
    "print(f'{file_name} 출력완료')"
   ]
  },
  {
   "cell_type": "markdown",
   "metadata": {},
   "source": [
    "# 코드 마지막"
   ]
  }
 ],
 "metadata": {
  "interpreter": {
   "hash": "b3ba2566441a7c06988d0923437866b63cedc61552a5af99d1f4fb67d367b25f"
  },
  "kernelspec": {
   "display_name": "Python 3.9.7 ('base')",
   "language": "python",
   "name": "python3"
  },
  "language_info": {
   "codemirror_mode": {
    "name": "ipython",
    "version": 3
   },
   "file_extension": ".py",
   "mimetype": "text/x-python",
   "name": "python",
   "nbconvert_exporter": "python",
   "pygments_lexer": "ipython3",
   "version": "3.9.7"
  },
  "orig_nbformat": 4
 },
 "nbformat": 4,
 "nbformat_minor": 2
}
