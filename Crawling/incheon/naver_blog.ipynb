{
 "cells": [
  {
   "cell_type": "markdown",
   "metadata": {},
   "source": [
    "# Naver blog scrap"
   ]
  },
  {
   "cell_type": "markdown",
   "metadata": {},
   "source": [
    "## 라이브러리"
   ]
  },
  {
   "cell_type": "code",
   "execution_count": 1,
   "metadata": {},
   "outputs": [],
   "source": [
    "import pandas as pd\n",
    "import time, os, random\n",
    "from datetime import datetime\n",
    "from numpy import nan"
   ]
  },
  {
   "cell_type": "code",
   "execution_count": 2,
   "metadata": {},
   "outputs": [],
   "source": [
    "from bs4 import BeautifulSoup as bs\n",
    "from selenium import webdriver\n",
    "import chromedriver_autoinstaller as ca"
   ]
  },
  {
   "cell_type": "markdown",
   "metadata": {},
   "source": [
    "## 게시글 주소 입력"
   ]
  },
  {
   "cell_type": "code",
   "execution_count": 3,
   "metadata": {},
   "outputs": [],
   "source": [
    "# 게시글 주소\n",
    "url = 'https://blog.naver.com/PostView.naver?blogId=icouncil103&logNo=222715190906&categoryNo=9&parentCategoryNo=9&from=thumbnailList'"
   ]
  },
  {
   "cell_type": "markdown",
   "metadata": {},
   "source": [
    "## 크롤링 함수"
   ]
  },
  {
   "cell_type": "code",
   "execution_count": 4,
   "metadata": {},
   "outputs": [],
   "source": [
    "def crawling(comment_areas, list):\n",
    "    # 리스트 지정\n",
    "    date_list = list[0]\n",
    "    rare_number_list = list[1]\n",
    "    check_reply_list = list[2]\n",
    "    nickname_list = list[3]\n",
    "    writer_url_list = list[4]\n",
    "    like_num_list = list[5]\n",
    "    link_num_list = list[6]\n",
    "    reply_num_list = list[7]\n",
    "    img_list = list[8]\n",
    "    comment_list = list[9]\n",
    "\n",
    "    for one in comment_areas:\n",
    "        # 작성일 수집\n",
    "        date = one.find('div', 'u_cbox_comment_box').find('span','u_cbox_date').attrs['data-value'].split('+')[0].replace('T',' ')\n",
    "        date_list.append(date)\n",
    "\n",
    "        # 고유번호\n",
    "        temp = one.attrs['class'][1].split('_')[-1]\n",
    "        rare_number_list.append(temp)\n",
    "\n",
    "        # 답글 구분\n",
    "        try:\n",
    "            one.find('span', 'u_cbox_secret_contents').text\n",
    "            temp = '비밀댓글'\n",
    "        except:\n",
    "            try:\n",
    "                temp = one.find('div', 'u_cbox_reply_area').find('li')\n",
    "                temp = nan\n",
    "            except:\n",
    "                temp = '답글'\n",
    "        check_reply_list.append(temp)\n",
    "\n",
    "        # 닉네임\n",
    "        try:\n",
    "            temp = one.find('span', 'u_cbox_nick').text\n",
    "        except:\n",
    "            temp = '비밀댓글'\n",
    "        nickname_list.append(temp)\n",
    "\n",
    "        # 작성자 url\n",
    "        try:\n",
    "            temp = one.find('a', 'u_cbox_name').attrs['href']\n",
    "        except:\n",
    "            temp = '비밀댓글'\n",
    "        writer_url_list.append(temp)\n",
    "\n",
    "        # 공감수\n",
    "        try:\n",
    "            temp = int( one.find('em', 'u_cbox_cnt_recomm').text )\n",
    "        except:\n",
    "            temp = 0\n",
    "        like_num_list.append(temp)\n",
    "\n",
    "        # 링크 수\n",
    "        try:\n",
    "            temp = one.find('span', 'u_cbox_contents').find_all('a', 'u_cbox_contents_link')\n",
    "            temp = len(temp)\n",
    "        except:\n",
    "            temp = 0\n",
    "        link_num_list.append(temp)\n",
    "\n",
    "        # 답글 수\n",
    "        try:\n",
    "            temp = one.find('div', 'u_cbox_reply_area').find_all('li')\n",
    "            temp = len(temp)\n",
    "        except:\n",
    "            temp = 0\n",
    "        reply_num_list.append(temp)\n",
    "\n",
    "        # 첨부이미지url\n",
    "        try:\n",
    "            temp = one.find('div', 'u_cbox_image_section').find('img').attrs['src']\n",
    "        except:\n",
    "            temp = nan\n",
    "        img_list.append(temp)\n",
    "\n",
    "        # 댓글 내용 수집\n",
    "        try:\n",
    "            temp = one.find('span', 'u_cbox_contents').text.replace('@', ' @', 1).replace('http', ' http', 1)\n",
    "        except:\n",
    "            temp = '비밀댓글'\n",
    "        comment_list.append(temp)\n",
    "\n",
    "    # 수집한 데이터 확인\n",
    "    print('작성일 리스트 길이 : ', len(date_list))\n",
    "    print('고유번호 리스트 길이 : ', len(rare_number_list))\n",
    "    print('답글구분 리스트 길이 : ', len(check_reply_list))\n",
    "    print('닉네임 리스트 길이 : ', len(nickname_list))\n",
    "    print('작성자URL 리스트 길이 : ', len(writer_url_list))\n",
    "    print('공감수 리스트 길이 : ', len(like_num_list))\n",
    "    print('링크수 리스트 길이 : ', len(link_num_list))\n",
    "    print('답글수 리스트 길이 : ', len(reply_num_list))\n",
    "    print('첨부이미지URL 리스트 길이 : ', len(img_list))\n",
    "    print('내용 리스트 길이 : ', len(comment_list))\n",
    "\n",
    "    # 리스트에 담기\n",
    "    crawled_list = [date_list, rare_number_list, check_reply_list, nickname_list, \n",
    "            writer_url_list, like_num_list, link_num_list, reply_num_list,\n",
    "            img_list, comment_list]\n",
    "\n",
    "    return crawled_list"
   ]
  },
  {
   "cell_type": "markdown",
   "metadata": {},
   "source": [
    "## 현재 파일 위치 확인"
   ]
  },
  {
   "cell_type": "code",
   "execution_count": 5,
   "metadata": {},
   "outputs": [
    {
     "data": {
      "text/plain": [
       "'c:/data/Wantreez/Crawling/incheon'"
      ]
     },
     "execution_count": 5,
     "metadata": {},
     "output_type": "execute_result"
    }
   ],
   "source": [
    "# 현재 파일 위치 확인\n",
    "code_path = os.getcwd().replace('\\\\', '/')\n",
    "code_path"
   ]
  },
  {
   "cell_type": "markdown",
   "metadata": {},
   "source": [
    "## 수집한 파일 저장 폴더 생성"
   ]
  },
  {
   "cell_type": "code",
   "execution_count": 6,
   "metadata": {},
   "outputs": [],
   "source": [
    "# 수집한 파일을 저장할 폴더 생성\n",
    "crawled_folder_path = code_path + '/crawled_data/naver_blog'\n",
    "os.makedirs(crawled_folder_path, exist_ok=True)"
   ]
  },
  {
   "cell_type": "markdown",
   "metadata": {},
   "source": [
    "## 크롬 드라이버 버전 확인 및 설치"
   ]
  },
  {
   "cell_type": "code",
   "execution_count": 7,
   "metadata": {},
   "outputs": [
    {
     "data": {
      "text/plain": [
       "'100'"
      ]
     },
     "execution_count": 7,
     "metadata": {},
     "output_type": "execute_result"
    }
   ],
   "source": [
    "# 크롬 드라이버 버전 확인\n",
    "chrome_ver = ca.get_chrome_version().split('.')[0]\n",
    "chrome_ver"
   ]
  },
  {
   "cell_type": "code",
   "execution_count": 8,
   "metadata": {},
   "outputs": [
    {
     "name": "stderr",
     "output_type": "stream",
     "text": [
      "C:\\Users\\kbjung\\AppData\\Local\\Temp/ipykernel_12788/3261653714.py:3: DeprecationWarning: executable_path has been deprecated, please pass in a Service object\n",
      "  driver = webdriver.Chrome(code_path + f'/{chrome_ver}/' + 'chromedriver.exe')\n"
     ]
    }
   ],
   "source": [
    "# 크롬 드라이버 설치 확인\n",
    "try:\n",
    "    driver = webdriver.Chrome(code_path + f'/{chrome_ver}/' + 'chromedriver.exe')\n",
    "except:\n",
    "    ca.install(True)\n",
    "    driver = webdriver.Chrome(code_path + f'/{chrome_ver}/' + 'chromedriver.exe')"
   ]
  },
  {
   "cell_type": "markdown",
   "metadata": {},
   "source": [
    "## 페이지 접속"
   ]
  },
  {
   "cell_type": "code",
   "execution_count": 9,
   "metadata": {},
   "outputs": [],
   "source": [
    "# 페이지 접속\n",
    "driver.get(url)\n",
    "driver.implicitly_wait(3)\n",
    "driver.maximize_window()"
   ]
  },
  {
   "cell_type": "code",
   "execution_count": 10,
   "metadata": {},
   "outputs": [
    {
     "data": {
      "text/plain": [
       "'222715190906'"
      ]
     },
     "execution_count": 10,
     "metadata": {},
     "output_type": "execute_result"
    }
   ],
   "source": [
    "# page 정보\n",
    "page_info = url.split('=')[2].split('&')[0]\n",
    "page_info"
   ]
  },
  {
   "cell_type": "markdown",
   "metadata": {},
   "source": [
    "## 페이지 스크래핑"
   ]
  },
  {
   "cell_type": "markdown",
   "metadata": {},
   "source": [
    "### 댓글 페이지 개수"
   ]
  },
  {
   "cell_type": "code",
   "execution_count": 11,
   "metadata": {},
   "outputs": [
    {
     "name": "stderr",
     "output_type": "stream",
     "text": [
      "C:\\Users\\kbjung\\AppData\\Local\\Temp/ipykernel_12788/4256789063.py:2: DeprecationWarning: find_element_by_xpath is deprecated. Please use find_element(by=By.XPATH, value=xpath) instead\n",
      "  comment_button = driver.find_element_by_xpath(f'//*[@id=\"Comi{page_info}\"]')\n"
     ]
    }
   ],
   "source": [
    "# 댓글 버튼 클릭\n",
    "comment_button = driver.find_element_by_xpath(f'//*[@id=\"Comi{page_info}\"]')\n",
    "comment_button.click()\n",
    "time.sleep( random.uniform(0.5, 1) )"
   ]
  },
  {
   "cell_type": "code",
   "execution_count": 12,
   "metadata": {},
   "outputs": [
    {
     "data": {
      "text/plain": [
       "10"
      ]
     },
     "execution_count": 12,
     "metadata": {},
     "output_type": "execute_result"
    }
   ],
   "source": [
    "soup = bs(driver.page_source, 'lxml')\n",
    "num_page_buttons = int(soup.find('span', '_lastPageNo').text)\n",
    "num_page_buttons"
   ]
  },
  {
   "cell_type": "code",
   "execution_count": 13,
   "metadata": {},
   "outputs": [
    {
     "data": {
      "text/plain": [
       "'[이벤트] 인천시의회! 얼마나 알고 있나요? OX 퀴즈 : 네이버 블로그'"
      ]
     },
     "execution_count": 13,
     "metadata": {},
     "output_type": "execute_result"
    }
   ],
   "source": [
    "soup.title.text"
   ]
  },
  {
   "cell_type": "code",
   "execution_count": 14,
   "metadata": {},
   "outputs": [
    {
     "name": "stderr",
     "output_type": "stream",
     "text": [
      "C:\\Users\\kbjung\\AppData\\Local\\Temp/ipykernel_12788/1503457795.py:2: DeprecationWarning: find_element_by_xpath is deprecated. Please use find_element(by=By.XPATH, value=xpath) instead\n",
      "  prev_button = driver.find_element_by_xpath(f'//*[@id=\"naverComment_201_{page_info}\"]/div/div[4]/div/a[2]')\n"
     ]
    }
   ],
   "source": [
    "if num_page_buttons <= 10:\n",
    "    prev_button = driver.find_element_by_xpath(f'//*[@id=\"naverComment_201_{page_info}\"]/div/div[4]/div/a[2]')\n",
    "    try:\n",
    "        prev_button.click()\n",
    "        time.sleep( random.uniform(0.5, 1) )\n",
    "    except:\n",
    "        pass\n",
    "elif num_page_buttons > 10:\n",
    "    prev_button = driver.find_element_by_xpath(f'//*[@id=\"naverComment_201_{page_info}\"]/div/div[4]/div/a[2]')\n",
    "    for i in range(num_page_buttons // 10 + 1):\n",
    "        try:\n",
    "            prev_button = driver.find_element_by_xpath(f'//*[@id=\"naverComment_201_{page_info}\"]/div/div[4]/div/a[2]')\n",
    "            prev_button.click()\n",
    "            time.sleep( random.uniform(0.5, 1) )\n",
    "        except:\n",
    "            pass"
   ]
  },
  {
   "cell_type": "code",
   "execution_count": 15,
   "metadata": {},
   "outputs": [
    {
     "data": {
      "text/plain": [
       "(10, [[], [], [], [], [], [], [], [], [], []])"
      ]
     },
     "execution_count": 15,
     "metadata": {},
     "output_type": "execute_result"
    }
   ],
   "source": [
    "list = [[], [], [], [], [], [], [], [], [], []]\n",
    "len(list), list"
   ]
  },
  {
   "cell_type": "code",
   "execution_count": 16,
   "metadata": {},
   "outputs": [
    {
     "name": "stdout",
     "output_type": "stream",
     "text": [
      "1 페이지 댓글 수 : 50\n",
      "작성일 리스트 길이 :  50\n",
      "고유번호 리스트 길이 :  50\n",
      "답글구분 리스트 길이 :  50\n",
      "닉네임 리스트 길이 :  50\n",
      "작성자URL 리스트 길이 :  50\n",
      "공감수 리스트 길이 :  50\n",
      "링크수 리스트 길이 :  50\n",
      "답글수 리스트 길이 :  50\n",
      "첨부이미지URL 리스트 길이 :  50\n",
      "내용 리스트 길이 :  50\n"
     ]
    },
    {
     "name": "stderr",
     "output_type": "stream",
     "text": [
      "C:\\Users\\kbjung\\AppData\\Local\\Temp/ipykernel_12788/2623418623.py:13: DeprecationWarning: find_element_by_xpath is deprecated. Please use find_element(by=By.XPATH, value=xpath) instead\n",
      "  button = driver.find_element_by_xpath(f'//*[@id=\"naverComment_201_{page_info}_ct\"]/div[1]/div/div[2]/a[2]')\n"
     ]
    },
    {
     "name": "stdout",
     "output_type": "stream",
     "text": [
      "2 페이지 댓글 수 : 50\n",
      "작성일 리스트 길이 :  100\n",
      "고유번호 리스트 길이 :  100\n",
      "답글구분 리스트 길이 :  100\n",
      "닉네임 리스트 길이 :  100\n",
      "작성자URL 리스트 길이 :  100\n",
      "공감수 리스트 길이 :  100\n",
      "링크수 리스트 길이 :  100\n",
      "답글수 리스트 길이 :  100\n",
      "첨부이미지URL 리스트 길이 :  100\n",
      "내용 리스트 길이 :  100\n",
      "3 페이지 댓글 수 : 50\n",
      "작성일 리스트 길이 :  150\n",
      "고유번호 리스트 길이 :  150\n",
      "답글구분 리스트 길이 :  150\n",
      "닉네임 리스트 길이 :  150\n",
      "작성자URL 리스트 길이 :  150\n",
      "공감수 리스트 길이 :  150\n",
      "링크수 리스트 길이 :  150\n",
      "답글수 리스트 길이 :  150\n",
      "첨부이미지URL 리스트 길이 :  150\n",
      "내용 리스트 길이 :  150\n",
      "4 페이지 댓글 수 : 50\n",
      "작성일 리스트 길이 :  200\n",
      "고유번호 리스트 길이 :  200\n",
      "답글구분 리스트 길이 :  200\n",
      "닉네임 리스트 길이 :  200\n",
      "작성자URL 리스트 길이 :  200\n",
      "공감수 리스트 길이 :  200\n",
      "링크수 리스트 길이 :  200\n",
      "답글수 리스트 길이 :  200\n",
      "첨부이미지URL 리스트 길이 :  200\n",
      "내용 리스트 길이 :  200\n",
      "5 페이지 댓글 수 : 50\n",
      "작성일 리스트 길이 :  250\n",
      "고유번호 리스트 길이 :  250\n",
      "답글구분 리스트 길이 :  250\n",
      "닉네임 리스트 길이 :  250\n",
      "작성자URL 리스트 길이 :  250\n",
      "공감수 리스트 길이 :  250\n",
      "링크수 리스트 길이 :  250\n",
      "답글수 리스트 길이 :  250\n",
      "첨부이미지URL 리스트 길이 :  250\n",
      "내용 리스트 길이 :  250\n",
      "6 페이지 댓글 수 : 50\n",
      "작성일 리스트 길이 :  300\n",
      "고유번호 리스트 길이 :  300\n",
      "답글구분 리스트 길이 :  300\n",
      "닉네임 리스트 길이 :  300\n",
      "작성자URL 리스트 길이 :  300\n",
      "공감수 리스트 길이 :  300\n",
      "링크수 리스트 길이 :  300\n",
      "답글수 리스트 길이 :  300\n",
      "첨부이미지URL 리스트 길이 :  300\n",
      "내용 리스트 길이 :  300\n",
      "7 페이지 댓글 수 : 50\n",
      "작성일 리스트 길이 :  350\n",
      "고유번호 리스트 길이 :  350\n",
      "답글구분 리스트 길이 :  350\n",
      "닉네임 리스트 길이 :  350\n",
      "작성자URL 리스트 길이 :  350\n",
      "공감수 리스트 길이 :  350\n",
      "링크수 리스트 길이 :  350\n",
      "답글수 리스트 길이 :  350\n",
      "첨부이미지URL 리스트 길이 :  350\n",
      "내용 리스트 길이 :  350\n",
      "8 페이지 댓글 수 : 50\n",
      "작성일 리스트 길이 :  400\n",
      "고유번호 리스트 길이 :  400\n",
      "답글구분 리스트 길이 :  400\n",
      "닉네임 리스트 길이 :  400\n",
      "작성자URL 리스트 길이 :  400\n",
      "공감수 리스트 길이 :  400\n",
      "링크수 리스트 길이 :  400\n",
      "답글수 리스트 길이 :  400\n",
      "첨부이미지URL 리스트 길이 :  400\n",
      "내용 리스트 길이 :  400\n",
      "9 페이지 댓글 수 : 50\n",
      "작성일 리스트 길이 :  450\n",
      "고유번호 리스트 길이 :  450\n",
      "답글구분 리스트 길이 :  450\n",
      "닉네임 리스트 길이 :  450\n",
      "작성자URL 리스트 길이 :  450\n",
      "공감수 리스트 길이 :  450\n",
      "링크수 리스트 길이 :  450\n",
      "답글수 리스트 길이 :  450\n",
      "첨부이미지URL 리스트 길이 :  450\n",
      "내용 리스트 길이 :  450\n",
      "10 페이지 댓글 수 : 48\n",
      "작성일 리스트 길이 :  498\n",
      "고유번호 리스트 길이 :  498\n",
      "답글구분 리스트 길이 :  498\n",
      "닉네임 리스트 길이 :  498\n",
      "작성자URL 리스트 길이 :  498\n",
      "공감수 리스트 길이 :  498\n",
      "링크수 리스트 길이 :  498\n",
      "답글수 리스트 길이 :  498\n",
      "첨부이미지URL 리스트 길이 :  498\n",
      "내용 리스트 길이 :  498\n"
     ]
    }
   ],
   "source": [
    "# 페이지 이동하며 정보 크롤링\n",
    "# 1페이지 수프에 담기\n",
    "comment_page_soup = bs(driver.page_source, 'lxml')\n",
    "comment_areas = comment_page_soup.find_all('li', 'u_cbox_comment')\n",
    "num_current_page = int( comment_page_soup.find('strong', '_currentPageNo').text )\n",
    "print( f\"{num_current_page} 페이지 댓글 수 :\", len(comment_areas) )\n",
    "# 정보 크롤링\n",
    "list = crawling(comment_areas, list)\n",
    "\n",
    "for i in range(num_page_buttons - 1):\n",
    "    try:\n",
    "        # 페이지 이동\n",
    "        button = driver.find_element_by_xpath(f'//*[@id=\"naverComment_201_{page_info}_ct\"]/div[1]/div/div[2]/a[2]')\n",
    "        button.click()\n",
    "        driver.implicitly_wait(1)\n",
    "        time.sleep( random.uniform(0.5, 1) )\n",
    "\n",
    "        # 페이지 수프에 담기\n",
    "        comment_page_soup = bs(driver.page_source, 'lxml')\n",
    "        comment_areas = comment_page_soup.find_all('li', 'u_cbox_comment')\n",
    "        num_current_page = int( comment_page_soup.find('strong', '_currentPageNo').text )\n",
    "        print( f\"{num_current_page} 페이지 댓글 수 :\", len(comment_areas) )\n",
    "        # 정보 크롤링\n",
    "        list = crawling(comment_areas, list)\n",
    "    except:\n",
    "        pass"
   ]
  },
  {
   "cell_type": "markdown",
   "metadata": {},
   "source": [
    "## 수집한 데이터 확인"
   ]
  },
  {
   "cell_type": "code",
   "execution_count": 17,
   "metadata": {},
   "outputs": [
    {
     "name": "stdout",
     "output_type": "stream",
     "text": [
      "작성일 리스트 길이 :  498\n",
      "고유번호 리스트 길이 :  498\n",
      "답글구분 리스트 길이 :  498\n",
      "닉네임 리스트 길이 :  498\n",
      "작성자URL 리스트 길이 :  498\n",
      "공감수 리스트 길이 :  498\n",
      "링크수 리스트 길이 :  498\n",
      "답글수 리스트 길이 :  498\n",
      "첨부이미지URL 리스트 길이 :  498\n",
      "내용 리스트 길이 :  498\n"
     ]
    }
   ],
   "source": [
    "print('작성일 리스트 길이 : ', len(list[0]))\n",
    "print('고유번호 리스트 길이 : ', len(list[1]))\n",
    "print('답글구분 리스트 길이 : ', len(list[2]))\n",
    "print('닉네임 리스트 길이 : ', len(list[3]))\n",
    "print('작성자URL 리스트 길이 : ', len(list[4]))\n",
    "print('공감수 리스트 길이 : ', len(list[5]))\n",
    "print('링크수 리스트 길이 : ', len(list[6]))\n",
    "print('답글수 리스트 길이 : ', len(list[7]))\n",
    "print('첨부이미지URL 리스트 길이 : ', len(list[8]))\n",
    "print('내용 리스트 길이 : ', len(list[9]))"
   ]
  },
  {
   "cell_type": "markdown",
   "metadata": {},
   "source": [
    "## df 만들기"
   ]
  },
  {
   "cell_type": "code",
   "execution_count": 18,
   "metadata": {},
   "outputs": [],
   "source": [
    "dict = {'작성일':list[0], '고유번호':list[1], \n",
    "        '답글구분':list[2], '닉네임':list[3], \n",
    "        '작성자URL':list[4], '공감수':list[5], \n",
    "        '링크수':list[6], '답글수':list[7], \n",
    "        '첨부이미지URL':list[8], '내용':list[9]}\n",
    "df = pd.DataFrame(dict)"
   ]
  },
  {
   "cell_type": "code",
   "execution_count": 19,
   "metadata": {},
   "outputs": [
    {
     "data": {
      "text/html": [
       "<div>\n",
       "<style scoped>\n",
       "    .dataframe tbody tr th:only-of-type {\n",
       "        vertical-align: middle;\n",
       "    }\n",
       "\n",
       "    .dataframe tbody tr th {\n",
       "        vertical-align: top;\n",
       "    }\n",
       "\n",
       "    .dataframe thead th {\n",
       "        text-align: right;\n",
       "    }\n",
       "</style>\n",
       "<table border=\"1\" class=\"dataframe\">\n",
       "  <thead>\n",
       "    <tr style=\"text-align: right;\">\n",
       "      <th></th>\n",
       "      <th>작성일</th>\n",
       "      <th>고유번호</th>\n",
       "      <th>답글구분</th>\n",
       "      <th>닉네임</th>\n",
       "      <th>작성자URL</th>\n",
       "      <th>공감수</th>\n",
       "      <th>링크수</th>\n",
       "      <th>답글수</th>\n",
       "      <th>첨부이미지URL</th>\n",
       "      <th>내용</th>\n",
       "    </tr>\n",
       "  </thead>\n",
       "  <tbody>\n",
       "    <tr>\n",
       "      <th>0</th>\n",
       "      <td>2022-04-29 11:03:26</td>\n",
       "      <td>756465080060608740</td>\n",
       "      <td>NaN</td>\n",
       "      <td>치즈닭강정</td>\n",
       "      <td>https://blog.naver.com/junb85</td>\n",
       "      <td>0</td>\n",
       "      <td>1</td>\n",
       "      <td>0</td>\n",
       "      <td>NaN</td>\n",
       "      <td>1. X2. O3. O참여합니다! https://blog.naver.com/junb...</td>\n",
       "    </tr>\n",
       "    <tr>\n",
       "      <th>1</th>\n",
       "      <td>2022-04-29 11:06:31</td>\n",
       "      <td>756465277914317078</td>\n",
       "      <td>NaN</td>\n",
       "      <td>봄이s</td>\n",
       "      <td>https://blog.naver.com/love1004gpal</td>\n",
       "      <td>0</td>\n",
       "      <td>0</td>\n",
       "      <td>0</td>\n",
       "      <td>NaN</td>\n",
       "      <td>XOO</td>\n",
       "    </tr>\n",
       "    <tr>\n",
       "      <th>2</th>\n",
       "      <td>2022-04-29 11:07:18</td>\n",
       "      <td>756465328917053600</td>\n",
       "      <td>NaN</td>\n",
       "      <td>강냉콩</td>\n",
       "      <td>https://blog.naver.com/realpunica</td>\n",
       "      <td>0</td>\n",
       "      <td>1</td>\n",
       "      <td>1</td>\n",
       "      <td>https://g-cbox.pstatic.net/MjAyMjA0MjlfMjE0/MD...</td>\n",
       "      <td>1. X2. O3. O인천광역시의회 블로그 이웃이에요지방선거가 다가오고 있네요이번 ...</td>\n",
       "    </tr>\n",
       "    <tr>\n",
       "      <th>3</th>\n",
       "      <td>2022-04-29 11:09:10</td>\n",
       "      <td>756465450014998613</td>\n",
       "      <td>답글</td>\n",
       "      <td>강냉콩</td>\n",
       "      <td>https://blog.naver.com/realpunica</td>\n",
       "      <td>0</td>\n",
       "      <td>0</td>\n",
       "      <td>0</td>\n",
       "      <td>https://g-cbox.pstatic.net/MjAyMjA0MjlfNTkg/MD...</td>\n",
       "      <td>트위터 팔로우 완료</td>\n",
       "    </tr>\n",
       "    <tr>\n",
       "      <th>4</th>\n",
       "      <td>2022-04-29 11:09:36</td>\n",
       "      <td>756465476690772256</td>\n",
       "      <td>NaN</td>\n",
       "      <td>설향맘</td>\n",
       "      <td>https://blog.naver.com/hyss9744</td>\n",
       "      <td>0</td>\n",
       "      <td>1</td>\n",
       "      <td>3</td>\n",
       "      <td>https://g-cbox.pstatic.net/MjAyMjA0MjlfMjcx/MD...</td>\n",
       "      <td>정답 1) X2) O3) O  @작가 수연 @여인네 함께해요 https://m.bl...</td>\n",
       "    </tr>\n",
       "  </tbody>\n",
       "</table>\n",
       "</div>"
      ],
      "text/plain": [
       "                   작성일                고유번호 답글구분    닉네임  \\\n",
       "0  2022-04-29 11:03:26  756465080060608740  NaN  치즈닭강정   \n",
       "1  2022-04-29 11:06:31  756465277914317078  NaN    봄이s   \n",
       "2  2022-04-29 11:07:18  756465328917053600  NaN    강냉콩   \n",
       "3  2022-04-29 11:09:10  756465450014998613   답글    강냉콩   \n",
       "4  2022-04-29 11:09:36  756465476690772256  NaN    설향맘   \n",
       "\n",
       "                                작성자URL  공감수  링크수  답글수  \\\n",
       "0        https://blog.naver.com/junb85    0    1    0   \n",
       "1  https://blog.naver.com/love1004gpal    0    0    0   \n",
       "2    https://blog.naver.com/realpunica    0    1    1   \n",
       "3    https://blog.naver.com/realpunica    0    0    0   \n",
       "4      https://blog.naver.com/hyss9744    0    1    3   \n",
       "\n",
       "                                            첨부이미지URL  \\\n",
       "0                                                NaN   \n",
       "1                                                NaN   \n",
       "2  https://g-cbox.pstatic.net/MjAyMjA0MjlfMjE0/MD...   \n",
       "3  https://g-cbox.pstatic.net/MjAyMjA0MjlfNTkg/MD...   \n",
       "4  https://g-cbox.pstatic.net/MjAyMjA0MjlfMjcx/MD...   \n",
       "\n",
       "                                                  내용  \n",
       "0  1. X2. O3. O참여합니다! https://blog.naver.com/junb...  \n",
       "1                                                XOO  \n",
       "2  1. X2. O3. O인천광역시의회 블로그 이웃이에요지방선거가 다가오고 있네요이번 ...  \n",
       "3                                         트위터 팔로우 완료  \n",
       "4  정답 1) X2) O3) O  @작가 수연 @여인네 함께해요 https://m.bl...  "
      ]
     },
     "execution_count": 19,
     "metadata": {},
     "output_type": "execute_result"
    }
   ],
   "source": [
    "df.head()"
   ]
  },
  {
   "cell_type": "code",
   "execution_count": 20,
   "metadata": {},
   "outputs": [
    {
     "name": "stdout",
     "output_type": "stream",
     "text": [
      "<class 'pandas.core.frame.DataFrame'>\n",
      "RangeIndex: 498 entries, 0 to 497\n",
      "Data columns (total 10 columns):\n",
      " #   Column    Non-Null Count  Dtype \n",
      "---  ------    --------------  ----- \n",
      " 0   작성일       498 non-null    object\n",
      " 1   고유번호      498 non-null    object\n",
      " 2   답글구분      17 non-null     object\n",
      " 3   닉네임       498 non-null    object\n",
      " 4   작성자URL    498 non-null    object\n",
      " 5   공감수       498 non-null    int64 \n",
      " 6   링크수       498 non-null    int64 \n",
      " 7   답글수       498 non-null    int64 \n",
      " 8   첨부이미지URL  73 non-null     object\n",
      " 9   내용        498 non-null    object\n",
      "dtypes: int64(3), object(7)\n",
      "memory usage: 39.0+ KB\n"
     ]
    }
   ],
   "source": [
    "df.info()"
   ]
  },
  {
   "cell_type": "markdown",
   "metadata": {},
   "source": [
    "### df 확인\n",
    "* 고유번호 : undefined 제거\n",
    "* 닉네임 : 비밀댓글 제거\n",
    "* 답글 구분 : 비밀댓글 nan값으로 교체"
   ]
  },
  {
   "cell_type": "markdown",
   "metadata": {},
   "source": [
    "#### 고유번호에서 undefined 제거"
   ]
  },
  {
   "cell_type": "code",
   "execution_count": 21,
   "metadata": {},
   "outputs": [
    {
     "name": "stdout",
     "output_type": "stream",
     "text": [
      "<class 'pandas.core.frame.DataFrame'>\n",
      "RangeIndex: 498 entries, 0 to 497\n",
      "Data columns (total 10 columns):\n",
      " #   Column    Non-Null Count  Dtype \n",
      "---  ------    --------------  ----- \n",
      " 0   작성일       498 non-null    object\n",
      " 1   고유번호      498 non-null    object\n",
      " 2   답글구분      17 non-null     object\n",
      " 3   닉네임       498 non-null    object\n",
      " 4   작성자URL    498 non-null    object\n",
      " 5   공감수       498 non-null    int64 \n",
      " 6   링크수       498 non-null    int64 \n",
      " 7   답글수       498 non-null    int64 \n",
      " 8   첨부이미지URL  73 non-null     object\n",
      " 9   내용        498 non-null    object\n",
      "dtypes: int64(3), object(7)\n",
      "memory usage: 39.0+ KB\n"
     ]
    }
   ],
   "source": [
    "df.info()"
   ]
  },
  {
   "cell_type": "code",
   "execution_count": 22,
   "metadata": {},
   "outputs": [
    {
     "data": {
      "text/html": [
       "<div>\n",
       "<style scoped>\n",
       "    .dataframe tbody tr th:only-of-type {\n",
       "        vertical-align: middle;\n",
       "    }\n",
       "\n",
       "    .dataframe tbody tr th {\n",
       "        vertical-align: top;\n",
       "    }\n",
       "\n",
       "    .dataframe thead th {\n",
       "        text-align: right;\n",
       "    }\n",
       "</style>\n",
       "<table border=\"1\" class=\"dataframe\">\n",
       "  <thead>\n",
       "    <tr style=\"text-align: right;\">\n",
       "      <th></th>\n",
       "      <th>작성일</th>\n",
       "      <th>고유번호</th>\n",
       "      <th>답글구분</th>\n",
       "      <th>닉네임</th>\n",
       "      <th>작성자URL</th>\n",
       "      <th>공감수</th>\n",
       "      <th>링크수</th>\n",
       "      <th>답글수</th>\n",
       "      <th>첨부이미지URL</th>\n",
       "      <th>내용</th>\n",
       "    </tr>\n",
       "  </thead>\n",
       "  <tbody>\n",
       "  </tbody>\n",
       "</table>\n",
       "</div>"
      ],
      "text/plain": [
       "Empty DataFrame\n",
       "Columns: [작성일, 고유번호, 답글구분, 닉네임, 작성자URL, 공감수, 링크수, 답글수, 첨부이미지URL, 내용]\n",
       "Index: []"
      ]
     },
     "execution_count": 22,
     "metadata": {},
     "output_type": "execute_result"
    }
   ],
   "source": [
    "df[df['고유번호'] == 'undefined']"
   ]
  },
  {
   "cell_type": "code",
   "execution_count": 23,
   "metadata": {},
   "outputs": [
    {
     "data": {
      "text/plain": [
       "Int64Index([], dtype='int64')"
      ]
     },
     "execution_count": 23,
     "metadata": {},
     "output_type": "execute_result"
    }
   ],
   "source": [
    "undefined_index = df[df['고유번호'] == 'undefined'].index\n",
    "undefined_index"
   ]
  },
  {
   "cell_type": "code",
   "execution_count": 24,
   "metadata": {},
   "outputs": [
    {
     "name": "stdout",
     "output_type": "stream",
     "text": [
      "<class 'pandas.core.frame.DataFrame'>\n",
      "RangeIndex: 498 entries, 0 to 497\n",
      "Data columns (total 10 columns):\n",
      " #   Column    Non-Null Count  Dtype \n",
      "---  ------    --------------  ----- \n",
      " 0   작성일       498 non-null    object\n",
      " 1   고유번호      498 non-null    object\n",
      " 2   답글구분      17 non-null     object\n",
      " 3   닉네임       498 non-null    object\n",
      " 4   작성자URL    498 non-null    object\n",
      " 5   공감수       498 non-null    int64 \n",
      " 6   링크수       498 non-null    int64 \n",
      " 7   답글수       498 non-null    int64 \n",
      " 8   첨부이미지URL  73 non-null     object\n",
      " 9   내용        498 non-null    object\n",
      "dtypes: int64(3), object(7)\n",
      "memory usage: 39.0+ KB\n"
     ]
    }
   ],
   "source": [
    "df2 = df.drop(index=undefined_index).reset_index(drop=True)\n",
    "df2.info()"
   ]
  },
  {
   "cell_type": "markdown",
   "metadata": {},
   "source": [
    "#### 닉네임에서 비밀댓글 제거"
   ]
  },
  {
   "cell_type": "code",
   "execution_count": 25,
   "metadata": {},
   "outputs": [
    {
     "data": {
      "text/html": [
       "<div>\n",
       "<style scoped>\n",
       "    .dataframe tbody tr th:only-of-type {\n",
       "        vertical-align: middle;\n",
       "    }\n",
       "\n",
       "    .dataframe tbody tr th {\n",
       "        vertical-align: top;\n",
       "    }\n",
       "\n",
       "    .dataframe thead th {\n",
       "        text-align: right;\n",
       "    }\n",
       "</style>\n",
       "<table border=\"1\" class=\"dataframe\">\n",
       "  <thead>\n",
       "    <tr style=\"text-align: right;\">\n",
       "      <th></th>\n",
       "      <th>작성일</th>\n",
       "      <th>고유번호</th>\n",
       "      <th>답글구분</th>\n",
       "      <th>닉네임</th>\n",
       "      <th>작성자URL</th>\n",
       "      <th>공감수</th>\n",
       "      <th>링크수</th>\n",
       "      <th>답글수</th>\n",
       "      <th>첨부이미지URL</th>\n",
       "      <th>내용</th>\n",
       "    </tr>\n",
       "  </thead>\n",
       "  <tbody>\n",
       "    <tr>\n",
       "      <th>36</th>\n",
       "      <td>2022-04-29 12:03:52</td>\n",
       "      <td>756468973263913362</td>\n",
       "      <td>비밀댓글</td>\n",
       "      <td>비밀댓글</td>\n",
       "      <td>비밀댓글</td>\n",
       "      <td>0</td>\n",
       "      <td>0</td>\n",
       "      <td>0</td>\n",
       "      <td>NaN</td>\n",
       "      <td>비밀댓글</td>\n",
       "    </tr>\n",
       "    <tr>\n",
       "      <th>205</th>\n",
       "      <td>2022-04-29 17:03:04</td>\n",
       "      <td>756488248959696926</td>\n",
       "      <td>비밀댓글</td>\n",
       "      <td>비밀댓글</td>\n",
       "      <td>비밀댓글</td>\n",
       "      <td>0</td>\n",
       "      <td>0</td>\n",
       "      <td>0</td>\n",
       "      <td>NaN</td>\n",
       "      <td>비밀댓글</td>\n",
       "    </tr>\n",
       "    <tr>\n",
       "      <th>239</th>\n",
       "      <td>2022-04-29 22:56:21</td>\n",
       "      <td>756511009887224096</td>\n",
       "      <td>비밀댓글</td>\n",
       "      <td>비밀댓글</td>\n",
       "      <td>비밀댓글</td>\n",
       "      <td>0</td>\n",
       "      <td>0</td>\n",
       "      <td>0</td>\n",
       "      <td>NaN</td>\n",
       "      <td>비밀댓글</td>\n",
       "    </tr>\n",
       "    <tr>\n",
       "      <th>318</th>\n",
       "      <td>2022-04-30 16:28:38</td>\n",
       "      <td>756578802221449439</td>\n",
       "      <td>비밀댓글</td>\n",
       "      <td>비밀댓글</td>\n",
       "      <td>비밀댓글</td>\n",
       "      <td>0</td>\n",
       "      <td>0</td>\n",
       "      <td>0</td>\n",
       "      <td>NaN</td>\n",
       "      <td>비밀댓글</td>\n",
       "    </tr>\n",
       "    <tr>\n",
       "      <th>344</th>\n",
       "      <td>2022-04-30 22:37:37</td>\n",
       "      <td>756602574429225289</td>\n",
       "      <td>비밀댓글</td>\n",
       "      <td>비밀댓글</td>\n",
       "      <td>비밀댓글</td>\n",
       "      <td>0</td>\n",
       "      <td>0</td>\n",
       "      <td>0</td>\n",
       "      <td>NaN</td>\n",
       "      <td>비밀댓글</td>\n",
       "    </tr>\n",
       "    <tr>\n",
       "      <th>383</th>\n",
       "      <td>2022-05-01 21:37:56</td>\n",
       "      <td>756691499713823824</td>\n",
       "      <td>비밀댓글</td>\n",
       "      <td>비밀댓글</td>\n",
       "      <td>비밀댓글</td>\n",
       "      <td>0</td>\n",
       "      <td>0</td>\n",
       "      <td>0</td>\n",
       "      <td>NaN</td>\n",
       "      <td>비밀댓글</td>\n",
       "    </tr>\n",
       "    <tr>\n",
       "      <th>384</th>\n",
       "      <td>2022-05-01 21:37:59</td>\n",
       "      <td>756691503622915325</td>\n",
       "      <td>비밀댓글</td>\n",
       "      <td>비밀댓글</td>\n",
       "      <td>비밀댓글</td>\n",
       "      <td>0</td>\n",
       "      <td>0</td>\n",
       "      <td>0</td>\n",
       "      <td>NaN</td>\n",
       "      <td>비밀댓글</td>\n",
       "    </tr>\n",
       "  </tbody>\n",
       "</table>\n",
       "</div>"
      ],
      "text/plain": [
       "                     작성일                고유번호  답글구분   닉네임 작성자URL  공감수  링크수  \\\n",
       "36   2022-04-29 12:03:52  756468973263913362  비밀댓글  비밀댓글   비밀댓글    0    0   \n",
       "205  2022-04-29 17:03:04  756488248959696926  비밀댓글  비밀댓글   비밀댓글    0    0   \n",
       "239  2022-04-29 22:56:21  756511009887224096  비밀댓글  비밀댓글   비밀댓글    0    0   \n",
       "318  2022-04-30 16:28:38  756578802221449439  비밀댓글  비밀댓글   비밀댓글    0    0   \n",
       "344  2022-04-30 22:37:37  756602574429225289  비밀댓글  비밀댓글   비밀댓글    0    0   \n",
       "383  2022-05-01 21:37:56  756691499713823824  비밀댓글  비밀댓글   비밀댓글    0    0   \n",
       "384  2022-05-01 21:37:59  756691503622915325  비밀댓글  비밀댓글   비밀댓글    0    0   \n",
       "\n",
       "     답글수 첨부이미지URL    내용  \n",
       "36     0      NaN  비밀댓글  \n",
       "205    0      NaN  비밀댓글  \n",
       "239    0      NaN  비밀댓글  \n",
       "318    0      NaN  비밀댓글  \n",
       "344    0      NaN  비밀댓글  \n",
       "383    0      NaN  비밀댓글  \n",
       "384    0      NaN  비밀댓글  "
      ]
     },
     "execution_count": 25,
     "metadata": {},
     "output_type": "execute_result"
    }
   ],
   "source": [
    "df2[df2['닉네임'] == '비밀댓글']"
   ]
  },
  {
   "cell_type": "code",
   "execution_count": 26,
   "metadata": {},
   "outputs": [
    {
     "data": {
      "text/plain": [
       "Int64Index([36, 205, 239, 318, 344, 383, 384], dtype='int64')"
      ]
     },
     "execution_count": 26,
     "metadata": {},
     "output_type": "execute_result"
    }
   ],
   "source": [
    "secret_reply_index = df2[df2['닉네임'] == '비밀댓글'].index\n",
    "secret_reply_index"
   ]
  },
  {
   "cell_type": "code",
   "execution_count": 27,
   "metadata": {},
   "outputs": [
    {
     "name": "stdout",
     "output_type": "stream",
     "text": [
      "<class 'pandas.core.frame.DataFrame'>\n",
      "RangeIndex: 491 entries, 0 to 490\n",
      "Data columns (total 10 columns):\n",
      " #   Column    Non-Null Count  Dtype \n",
      "---  ------    --------------  ----- \n",
      " 0   작성일       491 non-null    object\n",
      " 1   고유번호      491 non-null    object\n",
      " 2   답글구분      10 non-null     object\n",
      " 3   닉네임       491 non-null    object\n",
      " 4   작성자URL    491 non-null    object\n",
      " 5   공감수       491 non-null    int64 \n",
      " 6   링크수       491 non-null    int64 \n",
      " 7   답글수       491 non-null    int64 \n",
      " 8   첨부이미지URL  73 non-null     object\n",
      " 9   내용        491 non-null    object\n",
      "dtypes: int64(3), object(7)\n",
      "memory usage: 38.5+ KB\n"
     ]
    }
   ],
   "source": [
    "df3 = df2.drop(index=secret_reply_index).reset_index(drop=True)\n",
    "df3.info()"
   ]
  },
  {
   "cell_type": "code",
   "execution_count": 28,
   "metadata": {},
   "outputs": [
    {
     "data": {
      "text/plain": [
       "array([nan, '답글'], dtype=object)"
      ]
     },
     "execution_count": 28,
     "metadata": {},
     "output_type": "execute_result"
    }
   ],
   "source": [
    "df3['답글구분'].unique()"
   ]
  },
  {
   "cell_type": "markdown",
   "metadata": {},
   "source": [
    "#### 답글구분에서 비밀댓글 nan 값으로 교체"
   ]
  },
  {
   "cell_type": "code",
   "execution_count": 29,
   "metadata": {},
   "outputs": [
    {
     "data": {
      "text/html": [
       "<div>\n",
       "<style scoped>\n",
       "    .dataframe tbody tr th:only-of-type {\n",
       "        vertical-align: middle;\n",
       "    }\n",
       "\n",
       "    .dataframe tbody tr th {\n",
       "        vertical-align: top;\n",
       "    }\n",
       "\n",
       "    .dataframe thead th {\n",
       "        text-align: right;\n",
       "    }\n",
       "</style>\n",
       "<table border=\"1\" class=\"dataframe\">\n",
       "  <thead>\n",
       "    <tr style=\"text-align: right;\">\n",
       "      <th></th>\n",
       "      <th>작성일</th>\n",
       "      <th>고유번호</th>\n",
       "      <th>답글구분</th>\n",
       "      <th>닉네임</th>\n",
       "      <th>작성자URL</th>\n",
       "      <th>공감수</th>\n",
       "      <th>링크수</th>\n",
       "      <th>답글수</th>\n",
       "      <th>첨부이미지URL</th>\n",
       "      <th>내용</th>\n",
       "    </tr>\n",
       "  </thead>\n",
       "  <tbody>\n",
       "  </tbody>\n",
       "</table>\n",
       "</div>"
      ],
      "text/plain": [
       "Empty DataFrame\n",
       "Columns: [작성일, 고유번호, 답글구분, 닉네임, 작성자URL, 공감수, 링크수, 답글수, 첨부이미지URL, 내용]\n",
       "Index: []"
      ]
     },
     "execution_count": 29,
     "metadata": {},
     "output_type": "execute_result"
    }
   ],
   "source": [
    "df3[df3['답글구분'] == '비밀댓글']"
   ]
  },
  {
   "cell_type": "code",
   "execution_count": 30,
   "metadata": {},
   "outputs": [
    {
     "data": {
      "text/plain": [
       "Int64Index([], dtype='int64')"
      ]
     },
     "execution_count": 30,
     "metadata": {},
     "output_type": "execute_result"
    }
   ],
   "source": [
    "index3 = df3[df3['답글구분'] == '비밀댓글'].index\n",
    "index3"
   ]
  },
  {
   "cell_type": "code",
   "execution_count": 31,
   "metadata": {},
   "outputs": [],
   "source": [
    "df4 = df3.replace( {'답글구분':'비밀댓글'}, nan )"
   ]
  },
  {
   "cell_type": "code",
   "execution_count": 32,
   "metadata": {},
   "outputs": [
    {
     "name": "stdout",
     "output_type": "stream",
     "text": [
      "<class 'pandas.core.frame.DataFrame'>\n",
      "RangeIndex: 491 entries, 0 to 490\n",
      "Data columns (total 10 columns):\n",
      " #   Column    Non-Null Count  Dtype \n",
      "---  ------    --------------  ----- \n",
      " 0   작성일       491 non-null    object\n",
      " 1   고유번호      491 non-null    object\n",
      " 2   답글구분      10 non-null     object\n",
      " 3   닉네임       491 non-null    object\n",
      " 4   작성자URL    491 non-null    object\n",
      " 5   공감수       491 non-null    int64 \n",
      " 6   링크수       491 non-null    int64 \n",
      " 7   답글수       491 non-null    int64 \n",
      " 8   첨부이미지URL  73 non-null     object\n",
      " 9   내용        491 non-null    object\n",
      "dtypes: int64(3), object(7)\n",
      "memory usage: 38.5+ KB\n"
     ]
    }
   ],
   "source": [
    "df4.info()"
   ]
  },
  {
   "cell_type": "code",
   "execution_count": 33,
   "metadata": {},
   "outputs": [],
   "source": [
    "final_df = df4.copy()"
   ]
  },
  {
   "cell_type": "markdown",
   "metadata": {},
   "source": [
    "## 파일로 출력"
   ]
  },
  {
   "cell_type": "code",
   "execution_count": 34,
   "metadata": {},
   "outputs": [
    {
     "data": {
      "text/plain": [
       "'c:/data/Wantreez/Crawling/incheon/crawled_data/naver_blog'"
      ]
     },
     "execution_count": 34,
     "metadata": {},
     "output_type": "execute_result"
    }
   ],
   "source": [
    "crawled_folder_path"
   ]
  },
  {
   "cell_type": "code",
   "execution_count": 35,
   "metadata": {},
   "outputs": [
    {
     "data": {
      "text/plain": [
       "'20220504_125535'"
      ]
     },
     "execution_count": 35,
     "metadata": {},
     "output_type": "execute_result"
    }
   ],
   "source": [
    "today_date = datetime.today().strftime('%Y%m%d_%H%M%S')\n",
    "today_date"
   ]
  },
  {
   "cell_type": "code",
   "execution_count": 36,
   "metadata": {},
   "outputs": [
    {
     "name": "stdout",
     "output_type": "stream",
     "text": [
      "naver_blog_20220504_125535.xlsx 출력완료\n"
     ]
    }
   ],
   "source": [
    "today_date = datetime.today().strftime('%Y%m%d_%H%M%S')\n",
    "file_name = f'naver_blog_{today_date}.xlsx'\n",
    "final_df.to_excel(crawled_folder_path + '/' + file_name, index=False, encoding='utf-8')\n",
    "print(f'{file_name} 출력완료')"
   ]
  },
  {
   "cell_type": "markdown",
   "metadata": {},
   "source": [
    "# 코드 마지막"
   ]
  }
 ],
 "metadata": {
  "interpreter": {
   "hash": "b3ba2566441a7c06988d0923437866b63cedc61552a5af99d1f4fb67d367b25f"
  },
  "kernelspec": {
   "display_name": "Python 3.9.7 ('base')",
   "language": "python",
   "name": "python3"
  },
  "language_info": {
   "codemirror_mode": {
    "name": "ipython",
    "version": 3
   },
   "file_extension": ".py",
   "mimetype": "text/x-python",
   "name": "python",
   "nbconvert_exporter": "python",
   "pygments_lexer": "ipython3",
   "version": "3.9.7"
  },
  "orig_nbformat": 4
 },
 "nbformat": 4,
 "nbformat_minor": 2
}
