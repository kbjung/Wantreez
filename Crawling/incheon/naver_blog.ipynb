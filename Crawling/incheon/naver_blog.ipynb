{
 "cells": [
  {
   "cell_type": "markdown",
   "metadata": {},
   "source": [
    "# Naver blog scrap"
   ]
  },
  {
   "cell_type": "markdown",
   "metadata": {},
   "source": [
    "## 라이브러리"
   ]
  },
  {
   "cell_type": "code",
   "execution_count": 1,
   "metadata": {},
   "outputs": [],
   "source": [
    "import pandas as pd\n",
    "import time, os, random\n",
    "from datetime import datetime\n",
    "from numpy import nan"
   ]
  },
  {
   "cell_type": "code",
   "execution_count": 2,
   "metadata": {},
   "outputs": [],
   "source": [
    "from bs4 import BeautifulSoup as bs\n",
    "from selenium import webdriver\n",
    "import chromedriver_autoinstaller as ca"
   ]
  },
  {
   "cell_type": "markdown",
   "metadata": {},
   "source": [
    "## 게시글 주소 입력"
   ]
  },
  {
   "cell_type": "code",
   "execution_count": 3,
   "metadata": {},
   "outputs": [],
   "source": [
    "# 게시글 주소\n",
    "url = 'https://blog.naver.com/PostView.naver?blogId=icouncil103&logNo=222715190906&categoryNo=9&parentCategoryNo=9&from=thumbnailList'"
   ]
  },
  {
   "cell_type": "markdown",
   "metadata": {},
   "source": [
    "## 크롤링 함수"
   ]
  },
  {
   "cell_type": "code",
   "execution_count": 4,
   "metadata": {},
   "outputs": [],
   "source": [
    "def crawling(comment_areas, list):\n",
    "    # 리스트 지정\n",
    "    date_list = list[0]\n",
    "    rare_number_list = list[1]\n",
    "    check_reply_list = list[2]\n",
    "    nickname_list = list[3]\n",
    "    writer_url_list = list[4]\n",
    "    like_num_list = list[5]\n",
    "    link_num_list = list[6]\n",
    "    reply_num_list = list[7]\n",
    "    img_list = list[8]\n",
    "    comment_list = list[9]\n",
    "\n",
    "    for one in comment_areas:\n",
    "        # 작성일 수집\n",
    "        date = one.find('div', 'u_cbox_comment_box').find('span','u_cbox_date').attrs['data-value'].split('+')[0].replace('T',' ')\n",
    "        date_list.append(date)\n",
    "\n",
    "        # 고유번호\n",
    "        temp = one.attrs['class'][1].split('_')[-1]\n",
    "        rare_number_list.append(temp)\n",
    "\n",
    "        # 답글 구분\n",
    "        try:\n",
    "            one.find('span', 'u_cbox_secret_contents').text\n",
    "            temp = '비밀댓글'\n",
    "        except:\n",
    "            try:\n",
    "                temp = one.find('div', 'u_cbox_reply_area').find('li')\n",
    "                temp = nan\n",
    "            except:\n",
    "                temp = '답글'\n",
    "        check_reply_list.append(temp)\n",
    "\n",
    "        # 닉네임\n",
    "        try:\n",
    "            temp = one.find('span', 'u_cbox_nick').text\n",
    "        except:\n",
    "            temp = '비밀댓글'\n",
    "        nickname_list.append(temp)\n",
    "\n",
    "        # 작성자 url\n",
    "        try:\n",
    "            temp = one.find('a', 'u_cbox_name').attrs['href']\n",
    "        except:\n",
    "            temp = '비밀댓글'\n",
    "        writer_url_list.append(temp)\n",
    "\n",
    "        # 공감수\n",
    "        try:\n",
    "            temp = int( one.find('em', 'u_cbox_cnt_recomm').text )\n",
    "        except:\n",
    "            temp = 0\n",
    "        like_num_list.append(temp)\n",
    "\n",
    "        # 링크 수\n",
    "        try:\n",
    "            temp = one.find('span', 'u_cbox_contents').find_all('a', 'u_cbox_contents_link')\n",
    "            temp = len(temp)\n",
    "        except:\n",
    "            temp = 0\n",
    "        link_num_list.append(temp)\n",
    "\n",
    "        # 답글 수\n",
    "        try:\n",
    "            temp = one.find('div', 'u_cbox_reply_area').find_all('li')\n",
    "            temp = len(temp)\n",
    "        except:\n",
    "            temp = 0\n",
    "        reply_num_list.append(temp)\n",
    "\n",
    "        # 첨부이미지url\n",
    "        try:\n",
    "            temp = one.find('div', 'u_cbox_image_section').find('img').attrs['src']\n",
    "        except:\n",
    "            temp = nan\n",
    "        img_list.append(temp)\n",
    "\n",
    "        # 댓글 내용 수집\n",
    "        try:\n",
    "            temp = one.find('span', 'u_cbox_contents').text.replace('@', ' @', 1).replace('http', ' http', 1)\n",
    "        except:\n",
    "            temp = '비밀댓글'\n",
    "        comment_list.append(temp)\n",
    "\n",
    "    # 수집한 데이터 확인\n",
    "    print('작성일 리스트 길이 : ', len(date_list))\n",
    "    print('고유번호 리스트 길이 : ', len(rare_number_list))\n",
    "    print('답글구분 리스트 길이 : ', len(check_reply_list))\n",
    "    print('닉네임 리스트 길이 : ', len(nickname_list))\n",
    "    print('작성자URL 리스트 길이 : ', len(writer_url_list))\n",
    "    print('공감수 리스트 길이 : ', len(like_num_list))\n",
    "    print('링크수 리스트 길이 : ', len(link_num_list))\n",
    "    print('답글수 리스트 길이 : ', len(reply_num_list))\n",
    "    print('첨부이미지URL 리스트 길이 : ', len(img_list))\n",
    "    print('내용 리스트 길이 : ', len(comment_list))\n",
    "\n",
    "    # 리스트에 담기\n",
    "    crawled_list = [date_list, rare_number_list, check_reply_list, nickname_list, \n",
    "            writer_url_list, like_num_list, link_num_list, reply_num_list,\n",
    "            img_list, comment_list]\n",
    "\n",
    "    return crawled_list"
   ]
  },
  {
   "cell_type": "markdown",
   "metadata": {},
   "source": [
    "## 현재 파일 위치 확인"
   ]
  },
  {
   "cell_type": "code",
   "execution_count": 5,
   "metadata": {},
   "outputs": [
    {
     "data": {
      "text/plain": [
       "'c:/data/Wantreez/Crawling/incheon'"
      ]
     },
     "execution_count": 5,
     "metadata": {},
     "output_type": "execute_result"
    }
   ],
   "source": [
    "# 현재 파일 위치 확인\n",
    "code_path = os.getcwd().replace('\\\\', '/')\n",
    "code_path"
   ]
  },
  {
   "cell_type": "markdown",
   "metadata": {},
   "source": [
    "## 수집한 파일 저장 폴더 생성"
   ]
  },
  {
   "cell_type": "code",
   "execution_count": 6,
   "metadata": {},
   "outputs": [],
   "source": [
    "# 수집한 파일을 저장할 폴더 생성\n",
    "crawled_folder_path = code_path + '/crawled_data/naver_blog'\n",
    "os.makedirs(crawled_folder_path, exist_ok=True)"
   ]
  },
  {
   "cell_type": "markdown",
   "metadata": {},
   "source": [
    "## 크롬 드라이버 버전 확인 및 설치"
   ]
  },
  {
   "cell_type": "code",
   "execution_count": 8,
   "metadata": {},
   "outputs": [
    {
     "name": "stderr",
     "output_type": "stream",
     "text": [
      "C:\\Users\\kbjung\\AppData\\Local\\Temp/ipykernel_22352/3261653714.py:3: DeprecationWarning: executable_path has been deprecated, please pass in a Service object\n",
      "  driver = webdriver.Chrome(code_path + f'/{chrome_ver}/' + 'chromedriver.exe')\n"
     ]
    }
   ],
   "source": [
    "# 크롬 드라이버 설치 확인\n",
    "ca.install(True)\n",
    "driver = webdriver.Chrome()"
   ]
  },
  {
   "cell_type": "markdown",
   "metadata": {},
   "source": [
    "## 페이지 접속"
   ]
  },
  {
   "cell_type": "code",
   "execution_count": 9,
   "metadata": {},
   "outputs": [],
   "source": [
    "# 페이지 접속\n",
    "driver.get(url)\n",
    "driver.implicitly_wait(3)\n",
    "driver.maximize_window()"
   ]
  },
  {
   "cell_type": "code",
   "execution_count": 10,
   "metadata": {},
   "outputs": [
    {
     "data": {
      "text/plain": [
       "'222715190906'"
      ]
     },
     "execution_count": 10,
     "metadata": {},
     "output_type": "execute_result"
    }
   ],
   "source": [
    "# page 정보\n",
    "page_info = url.split('=')[2].split('&')[0]\n",
    "page_info"
   ]
  },
  {
   "cell_type": "markdown",
   "metadata": {},
   "source": [
    "## 페이지 스크래핑"
   ]
  },
  {
   "cell_type": "markdown",
   "metadata": {},
   "source": [
    "### 댓글 페이지 개수"
   ]
  },
  {
   "cell_type": "code",
   "execution_count": 11,
   "metadata": {},
   "outputs": [
    {
     "name": "stderr",
     "output_type": "stream",
     "text": [
      "C:\\Users\\kbjung\\AppData\\Local\\Temp/ipykernel_22352/4256789063.py:2: DeprecationWarning: find_element_by_xpath is deprecated. Please use find_element(by=By.XPATH, value=xpath) instead\n",
      "  comment_button = driver.find_element_by_xpath(f'//*[@id=\"Comi{page_info}\"]')\n"
     ]
    }
   ],
   "source": [
    "# 댓글 버튼 클릭\n",
    "comment_button = driver.find_element_by_xpath(f'//*[@id=\"Comi{page_info}\"]')\n",
    "comment_button.click()\n",
    "time.sleep( random.uniform(0.5, 1) )"
   ]
  },
  {
   "cell_type": "code",
   "execution_count": 12,
   "metadata": {},
   "outputs": [
    {
     "data": {
      "text/plain": [
       "15"
      ]
     },
     "execution_count": 12,
     "metadata": {},
     "output_type": "execute_result"
    }
   ],
   "source": [
    "soup = bs(driver.page_source, 'lxml')\n",
    "num_page_buttons = int(soup.find('span', '_lastPageNo').text)\n",
    "num_page_buttons"
   ]
  },
  {
   "cell_type": "code",
   "execution_count": 13,
   "metadata": {},
   "outputs": [
    {
     "data": {
      "text/plain": [
       "'[이벤트] 인천시의회! 얼마나 알고 있나요? OX 퀴즈 : 네이버 블로그'"
      ]
     },
     "execution_count": 13,
     "metadata": {},
     "output_type": "execute_result"
    }
   ],
   "source": [
    "soup.title.text"
   ]
  },
  {
   "cell_type": "code",
   "execution_count": 14,
   "metadata": {},
   "outputs": [
    {
     "name": "stderr",
     "output_type": "stream",
     "text": [
      "C:\\Users\\kbjung\\AppData\\Local\\Temp/ipykernel_22352/1503457795.py:9: DeprecationWarning: find_element_by_xpath is deprecated. Please use find_element(by=By.XPATH, value=xpath) instead\n",
      "  prev_button = driver.find_element_by_xpath(f'//*[@id=\"naverComment_201_{page_info}\"]/div/div[4]/div/a[2]')\n",
      "C:\\Users\\kbjung\\AppData\\Local\\Temp/ipykernel_22352/1503457795.py:12: DeprecationWarning: find_element_by_xpath is deprecated. Please use find_element(by=By.XPATH, value=xpath) instead\n",
      "  prev_button = driver.find_element_by_xpath(f'//*[@id=\"naverComment_201_{page_info}\"]/div/div[4]/div/a[2]')\n"
     ]
    }
   ],
   "source": [
    "if num_page_buttons <= 10:\n",
    "    prev_button = driver.find_element_by_xpath(f'//*[@id=\"naverComment_201_{page_info}\"]/div/div[4]/div/a[2]')\n",
    "    try:\n",
    "        prev_button.click()\n",
    "        time.sleep( random.uniform(0.5, 1) )\n",
    "    except:\n",
    "        pass\n",
    "elif num_page_buttons > 10:\n",
    "    prev_button = driver.find_element_by_xpath(f'//*[@id=\"naverComment_201_{page_info}\"]/div/div[4]/div/a[2]')\n",
    "    for i in range(num_page_buttons // 10 + 1):\n",
    "        try:\n",
    "            prev_button = driver.find_element_by_xpath(f'//*[@id=\"naverComment_201_{page_info}\"]/div/div[4]/div/a[2]')\n",
    "            prev_button.click()\n",
    "            time.sleep( random.uniform(0.5, 1) )\n",
    "        except:\n",
    "            pass"
   ]
  },
  {
   "cell_type": "code",
   "execution_count": 15,
   "metadata": {},
   "outputs": [
    {
     "data": {
      "text/plain": [
       "(10, [[], [], [], [], [], [], [], [], [], []])"
      ]
     },
     "execution_count": 15,
     "metadata": {},
     "output_type": "execute_result"
    }
   ],
   "source": [
    "list = [[], [], [], [], [], [], [], [], [], []]\n",
    "len(list), list"
   ]
  },
  {
   "cell_type": "code",
   "execution_count": 16,
   "metadata": {},
   "outputs": [
    {
     "name": "stdout",
     "output_type": "stream",
     "text": [
      "1 페이지 댓글 수 : 50\n",
      "작성일 리스트 길이 :  50\n",
      "고유번호 리스트 길이 :  50\n",
      "답글구분 리스트 길이 :  50\n",
      "닉네임 리스트 길이 :  50\n",
      "작성자URL 리스트 길이 :  50\n",
      "공감수 리스트 길이 :  50\n",
      "링크수 리스트 길이 :  50\n",
      "답글수 리스트 길이 :  50\n",
      "첨부이미지URL 리스트 길이 :  50\n",
      "내용 리스트 길이 :  50\n"
     ]
    },
    {
     "name": "stderr",
     "output_type": "stream",
     "text": [
      "C:\\Users\\kbjung\\AppData\\Local\\Temp/ipykernel_22352/2623418623.py:13: DeprecationWarning: find_element_by_xpath is deprecated. Please use find_element(by=By.XPATH, value=xpath) instead\n",
      "  button = driver.find_element_by_xpath(f'//*[@id=\"naverComment_201_{page_info}_ct\"]/div[1]/div/div[2]/a[2]')\n"
     ]
    },
    {
     "name": "stdout",
     "output_type": "stream",
     "text": [
      "2 페이지 댓글 수 : 50\n",
      "작성일 리스트 길이 :  100\n",
      "고유번호 리스트 길이 :  100\n",
      "답글구분 리스트 길이 :  100\n",
      "닉네임 리스트 길이 :  100\n",
      "작성자URL 리스트 길이 :  100\n",
      "공감수 리스트 길이 :  100\n",
      "링크수 리스트 길이 :  100\n",
      "답글수 리스트 길이 :  100\n",
      "첨부이미지URL 리스트 길이 :  100\n",
      "내용 리스트 길이 :  100\n",
      "3 페이지 댓글 수 : 50\n",
      "작성일 리스트 길이 :  150\n",
      "고유번호 리스트 길이 :  150\n",
      "답글구분 리스트 길이 :  150\n",
      "닉네임 리스트 길이 :  150\n",
      "작성자URL 리스트 길이 :  150\n",
      "공감수 리스트 길이 :  150\n",
      "링크수 리스트 길이 :  150\n",
      "답글수 리스트 길이 :  150\n",
      "첨부이미지URL 리스트 길이 :  150\n",
      "내용 리스트 길이 :  150\n",
      "4 페이지 댓글 수 : 50\n",
      "작성일 리스트 길이 :  200\n",
      "고유번호 리스트 길이 :  200\n",
      "답글구분 리스트 길이 :  200\n",
      "닉네임 리스트 길이 :  200\n",
      "작성자URL 리스트 길이 :  200\n",
      "공감수 리스트 길이 :  200\n",
      "링크수 리스트 길이 :  200\n",
      "답글수 리스트 길이 :  200\n",
      "첨부이미지URL 리스트 길이 :  200\n",
      "내용 리스트 길이 :  200\n",
      "5 페이지 댓글 수 : 50\n",
      "작성일 리스트 길이 :  250\n",
      "고유번호 리스트 길이 :  250\n",
      "답글구분 리스트 길이 :  250\n",
      "닉네임 리스트 길이 :  250\n",
      "작성자URL 리스트 길이 :  250\n",
      "공감수 리스트 길이 :  250\n",
      "링크수 리스트 길이 :  250\n",
      "답글수 리스트 길이 :  250\n",
      "첨부이미지URL 리스트 길이 :  250\n",
      "내용 리스트 길이 :  250\n",
      "6 페이지 댓글 수 : 50\n",
      "작성일 리스트 길이 :  300\n",
      "고유번호 리스트 길이 :  300\n",
      "답글구분 리스트 길이 :  300\n",
      "닉네임 리스트 길이 :  300\n",
      "작성자URL 리스트 길이 :  300\n",
      "공감수 리스트 길이 :  300\n",
      "링크수 리스트 길이 :  300\n",
      "답글수 리스트 길이 :  300\n",
      "첨부이미지URL 리스트 길이 :  300\n",
      "내용 리스트 길이 :  300\n",
      "7 페이지 댓글 수 : 50\n",
      "작성일 리스트 길이 :  350\n",
      "고유번호 리스트 길이 :  350\n",
      "답글구분 리스트 길이 :  350\n",
      "닉네임 리스트 길이 :  350\n",
      "작성자URL 리스트 길이 :  350\n",
      "공감수 리스트 길이 :  350\n",
      "링크수 리스트 길이 :  350\n",
      "답글수 리스트 길이 :  350\n",
      "첨부이미지URL 리스트 길이 :  350\n",
      "내용 리스트 길이 :  350\n",
      "8 페이지 댓글 수 : 50\n",
      "작성일 리스트 길이 :  400\n",
      "고유번호 리스트 길이 :  400\n",
      "답글구분 리스트 길이 :  400\n",
      "닉네임 리스트 길이 :  400\n",
      "작성자URL 리스트 길이 :  400\n",
      "공감수 리스트 길이 :  400\n",
      "링크수 리스트 길이 :  400\n",
      "답글수 리스트 길이 :  400\n",
      "첨부이미지URL 리스트 길이 :  400\n",
      "내용 리스트 길이 :  400\n",
      "9 페이지 댓글 수 : 50\n",
      "작성일 리스트 길이 :  450\n",
      "고유번호 리스트 길이 :  450\n",
      "답글구분 리스트 길이 :  450\n",
      "닉네임 리스트 길이 :  450\n",
      "작성자URL 리스트 길이 :  450\n",
      "공감수 리스트 길이 :  450\n",
      "링크수 리스트 길이 :  450\n",
      "답글수 리스트 길이 :  450\n",
      "첨부이미지URL 리스트 길이 :  450\n",
      "내용 리스트 길이 :  450\n",
      "10 페이지 댓글 수 : 50\n",
      "작성일 리스트 길이 :  500\n",
      "고유번호 리스트 길이 :  500\n",
      "답글구분 리스트 길이 :  500\n",
      "닉네임 리스트 길이 :  500\n",
      "작성자URL 리스트 길이 :  500\n",
      "공감수 리스트 길이 :  500\n",
      "링크수 리스트 길이 :  500\n",
      "답글수 리스트 길이 :  500\n",
      "첨부이미지URL 리스트 길이 :  500\n",
      "내용 리스트 길이 :  500\n",
      "11 페이지 댓글 수 : 50\n",
      "작성일 리스트 길이 :  550\n",
      "고유번호 리스트 길이 :  550\n",
      "답글구분 리스트 길이 :  550\n",
      "닉네임 리스트 길이 :  550\n",
      "작성자URL 리스트 길이 :  550\n",
      "공감수 리스트 길이 :  550\n",
      "링크수 리스트 길이 :  550\n",
      "답글수 리스트 길이 :  550\n",
      "첨부이미지URL 리스트 길이 :  550\n",
      "내용 리스트 길이 :  550\n",
      "12 페이지 댓글 수 : 50\n",
      "작성일 리스트 길이 :  600\n",
      "고유번호 리스트 길이 :  600\n",
      "답글구분 리스트 길이 :  600\n",
      "닉네임 리스트 길이 :  600\n",
      "작성자URL 리스트 길이 :  600\n",
      "공감수 리스트 길이 :  600\n",
      "링크수 리스트 길이 :  600\n",
      "답글수 리스트 길이 :  600\n",
      "첨부이미지URL 리스트 길이 :  600\n",
      "내용 리스트 길이 :  600\n",
      "13 페이지 댓글 수 : 51\n",
      "작성일 리스트 길이 :  651\n",
      "고유번호 리스트 길이 :  651\n",
      "답글구분 리스트 길이 :  651\n",
      "닉네임 리스트 길이 :  651\n",
      "작성자URL 리스트 길이 :  651\n",
      "공감수 리스트 길이 :  651\n",
      "링크수 리스트 길이 :  651\n",
      "답글수 리스트 길이 :  651\n",
      "첨부이미지URL 리스트 길이 :  651\n",
      "내용 리스트 길이 :  651\n",
      "14 페이지 댓글 수 : 50\n",
      "작성일 리스트 길이 :  701\n",
      "고유번호 리스트 길이 :  701\n",
      "답글구분 리스트 길이 :  701\n",
      "닉네임 리스트 길이 :  701\n",
      "작성자URL 리스트 길이 :  701\n",
      "공감수 리스트 길이 :  701\n",
      "링크수 리스트 길이 :  701\n",
      "답글수 리스트 길이 :  701\n",
      "첨부이미지URL 리스트 길이 :  701\n",
      "내용 리스트 길이 :  701\n",
      "15 페이지 댓글 수 : 43\n",
      "작성일 리스트 길이 :  744\n",
      "고유번호 리스트 길이 :  744\n",
      "답글구분 리스트 길이 :  744\n",
      "닉네임 리스트 길이 :  744\n",
      "작성자URL 리스트 길이 :  744\n",
      "공감수 리스트 길이 :  744\n",
      "링크수 리스트 길이 :  744\n",
      "답글수 리스트 길이 :  744\n",
      "첨부이미지URL 리스트 길이 :  744\n",
      "내용 리스트 길이 :  744\n"
     ]
    }
   ],
   "source": [
    "# 페이지 이동하며 정보 크롤링\n",
    "# 1페이지 수프에 담기\n",
    "comment_page_soup = bs(driver.page_source, 'lxml')\n",
    "comment_areas = comment_page_soup.find_all('li', 'u_cbox_comment')\n",
    "num_current_page = int( comment_page_soup.find('strong', '_currentPageNo').text )\n",
    "print( f\"{num_current_page} 페이지 댓글 수 :\", len(comment_areas) )\n",
    "# 정보 크롤링\n",
    "list = crawling(comment_areas, list)\n",
    "\n",
    "for i in range(num_page_buttons - 1):\n",
    "    try:\n",
    "        # 페이지 이동\n",
    "        button = driver.find_element_by_xpath(f'//*[@id=\"naverComment_201_{page_info}_ct\"]/div[1]/div/div[2]/a[2]')\n",
    "        button.click()\n",
    "        driver.implicitly_wait(1)\n",
    "        time.sleep( random.uniform(0.5, 1) )\n",
    "\n",
    "        # 페이지 수프에 담기\n",
    "        comment_page_soup = bs(driver.page_source, 'lxml')\n",
    "        comment_areas = comment_page_soup.find_all('li', 'u_cbox_comment')\n",
    "        num_current_page = int( comment_page_soup.find('strong', '_currentPageNo').text )\n",
    "        print( f\"{num_current_page} 페이지 댓글 수 :\", len(comment_areas) )\n",
    "        # 정보 크롤링\n",
    "        list = crawling(comment_areas, list)\n",
    "    except:\n",
    "        pass"
   ]
  },
  {
   "cell_type": "markdown",
   "metadata": {},
   "source": [
    "## 수집한 데이터 확인"
   ]
  },
  {
   "cell_type": "code",
   "execution_count": 17,
   "metadata": {},
   "outputs": [
    {
     "name": "stdout",
     "output_type": "stream",
     "text": [
      "작성일 리스트 길이 :  744\n",
      "고유번호 리스트 길이 :  744\n",
      "답글구분 리스트 길이 :  744\n",
      "닉네임 리스트 길이 :  744\n",
      "작성자URL 리스트 길이 :  744\n",
      "공감수 리스트 길이 :  744\n",
      "링크수 리스트 길이 :  744\n",
      "답글수 리스트 길이 :  744\n",
      "첨부이미지URL 리스트 길이 :  744\n",
      "내용 리스트 길이 :  744\n"
     ]
    }
   ],
   "source": [
    "print('작성일 리스트 길이 : ', len(list[0]))\n",
    "print('고유번호 리스트 길이 : ', len(list[1]))\n",
    "print('답글구분 리스트 길이 : ', len(list[2]))\n",
    "print('닉네임 리스트 길이 : ', len(list[3]))\n",
    "print('작성자URL 리스트 길이 : ', len(list[4]))\n",
    "print('공감수 리스트 길이 : ', len(list[5]))\n",
    "print('링크수 리스트 길이 : ', len(list[6]))\n",
    "print('답글수 리스트 길이 : ', len(list[7]))\n",
    "print('첨부이미지URL 리스트 길이 : ', len(list[8]))\n",
    "print('내용 리스트 길이 : ', len(list[9]))"
   ]
  },
  {
   "cell_type": "code",
   "execution_count": 37,
   "metadata": {},
   "outputs": [],
   "source": [
    "driver.quit()"
   ]
  },
  {
   "cell_type": "markdown",
   "metadata": {},
   "source": [
    "## df 만들기"
   ]
  },
  {
   "cell_type": "code",
   "execution_count": 18,
   "metadata": {},
   "outputs": [],
   "source": [
    "dict = {'작성일':list[0], '고유번호':list[1], \n",
    "        '답글구분':list[2], '닉네임':list[3], \n",
    "        '작성자URL':list[4], '공감수':list[5], \n",
    "        '링크수':list[6], '답글수':list[7], \n",
    "        '첨부이미지URL':list[8], '내용':list[9]}\n",
    "df = pd.DataFrame(dict)"
   ]
  },
  {
   "cell_type": "code",
   "execution_count": 19,
   "metadata": {},
   "outputs": [
    {
     "data": {
      "text/html": [
       "<div>\n",
       "<style scoped>\n",
       "    .dataframe tbody tr th:only-of-type {\n",
       "        vertical-align: middle;\n",
       "    }\n",
       "\n",
       "    .dataframe tbody tr th {\n",
       "        vertical-align: top;\n",
       "    }\n",
       "\n",
       "    .dataframe thead th {\n",
       "        text-align: right;\n",
       "    }\n",
       "</style>\n",
       "<table border=\"1\" class=\"dataframe\">\n",
       "  <thead>\n",
       "    <tr style=\"text-align: right;\">\n",
       "      <th></th>\n",
       "      <th>작성일</th>\n",
       "      <th>고유번호</th>\n",
       "      <th>답글구분</th>\n",
       "      <th>닉네임</th>\n",
       "      <th>작성자URL</th>\n",
       "      <th>공감수</th>\n",
       "      <th>링크수</th>\n",
       "      <th>답글수</th>\n",
       "      <th>첨부이미지URL</th>\n",
       "      <th>내용</th>\n",
       "    </tr>\n",
       "  </thead>\n",
       "  <tbody>\n",
       "    <tr>\n",
       "      <th>0</th>\n",
       "      <td>2022-04-29 11:03:26</td>\n",
       "      <td>756465080060608740</td>\n",
       "      <td>NaN</td>\n",
       "      <td>치즈닭강정</td>\n",
       "      <td>https://blog.naver.com/junb85</td>\n",
       "      <td>0</td>\n",
       "      <td>1</td>\n",
       "      <td>0</td>\n",
       "      <td>NaN</td>\n",
       "      <td>1. X2. O3. O참여합니다! https://blog.naver.com/junb...</td>\n",
       "    </tr>\n",
       "    <tr>\n",
       "      <th>1</th>\n",
       "      <td>2022-04-29 11:06:31</td>\n",
       "      <td>756465277914317078</td>\n",
       "      <td>NaN</td>\n",
       "      <td>봄이s</td>\n",
       "      <td>https://blog.naver.com/love1004gpal</td>\n",
       "      <td>0</td>\n",
       "      <td>0</td>\n",
       "      <td>0</td>\n",
       "      <td>NaN</td>\n",
       "      <td>XOO</td>\n",
       "    </tr>\n",
       "    <tr>\n",
       "      <th>2</th>\n",
       "      <td>2022-04-29 11:07:18</td>\n",
       "      <td>756465328917053600</td>\n",
       "      <td>NaN</td>\n",
       "      <td>강냉콩</td>\n",
       "      <td>https://blog.naver.com/realpunica</td>\n",
       "      <td>0</td>\n",
       "      <td>1</td>\n",
       "      <td>1</td>\n",
       "      <td>https://g-cbox.pstatic.net/MjAyMjA0MjlfMjE0/MD...</td>\n",
       "      <td>1. X2. O3. O인천광역시의회 블로그 이웃이에요지방선거가 다가오고 있네요이번 ...</td>\n",
       "    </tr>\n",
       "    <tr>\n",
       "      <th>3</th>\n",
       "      <td>2022-04-29 11:09:10</td>\n",
       "      <td>756465450014998613</td>\n",
       "      <td>답글</td>\n",
       "      <td>강냉콩</td>\n",
       "      <td>https://blog.naver.com/realpunica</td>\n",
       "      <td>0</td>\n",
       "      <td>0</td>\n",
       "      <td>0</td>\n",
       "      <td>https://g-cbox.pstatic.net/MjAyMjA0MjlfNTkg/MD...</td>\n",
       "      <td>트위터 팔로우 완료</td>\n",
       "    </tr>\n",
       "    <tr>\n",
       "      <th>4</th>\n",
       "      <td>2022-04-29 11:09:36</td>\n",
       "      <td>756465476690772256</td>\n",
       "      <td>NaN</td>\n",
       "      <td>설향맘</td>\n",
       "      <td>https://blog.naver.com/hyss9744</td>\n",
       "      <td>0</td>\n",
       "      <td>1</td>\n",
       "      <td>3</td>\n",
       "      <td>https://g-cbox.pstatic.net/MjAyMjA0MjlfMjcx/MD...</td>\n",
       "      <td>정답 1) X2) O3) O  @작가 수연 @여인네 함께해요 https://m.bl...</td>\n",
       "    </tr>\n",
       "  </tbody>\n",
       "</table>\n",
       "</div>"
      ],
      "text/plain": [
       "                   작성일                고유번호 답글구분    닉네임  \\\n",
       "0  2022-04-29 11:03:26  756465080060608740  NaN  치즈닭강정   \n",
       "1  2022-04-29 11:06:31  756465277914317078  NaN    봄이s   \n",
       "2  2022-04-29 11:07:18  756465328917053600  NaN    강냉콩   \n",
       "3  2022-04-29 11:09:10  756465450014998613   답글    강냉콩   \n",
       "4  2022-04-29 11:09:36  756465476690772256  NaN    설향맘   \n",
       "\n",
       "                                작성자URL  공감수  링크수  답글수  \\\n",
       "0        https://blog.naver.com/junb85    0    1    0   \n",
       "1  https://blog.naver.com/love1004gpal    0    0    0   \n",
       "2    https://blog.naver.com/realpunica    0    1    1   \n",
       "3    https://blog.naver.com/realpunica    0    0    0   \n",
       "4      https://blog.naver.com/hyss9744    0    1    3   \n",
       "\n",
       "                                            첨부이미지URL  \\\n",
       "0                                                NaN   \n",
       "1                                                NaN   \n",
       "2  https://g-cbox.pstatic.net/MjAyMjA0MjlfMjE0/MD...   \n",
       "3  https://g-cbox.pstatic.net/MjAyMjA0MjlfNTkg/MD...   \n",
       "4  https://g-cbox.pstatic.net/MjAyMjA0MjlfMjcx/MD...   \n",
       "\n",
       "                                                  내용  \n",
       "0  1. X2. O3. O참여합니다! https://blog.naver.com/junb...  \n",
       "1                                                XOO  \n",
       "2  1. X2. O3. O인천광역시의회 블로그 이웃이에요지방선거가 다가오고 있네요이번 ...  \n",
       "3                                         트위터 팔로우 완료  \n",
       "4  정답 1) X2) O3) O  @작가 수연 @여인네 함께해요 https://m.bl...  "
      ]
     },
     "execution_count": 19,
     "metadata": {},
     "output_type": "execute_result"
    }
   ],
   "source": [
    "df.head()"
   ]
  },
  {
   "cell_type": "code",
   "execution_count": 20,
   "metadata": {},
   "outputs": [
    {
     "name": "stdout",
     "output_type": "stream",
     "text": [
      "<class 'pandas.core.frame.DataFrame'>\n",
      "RangeIndex: 744 entries, 0 to 743\n",
      "Data columns (total 10 columns):\n",
      " #   Column    Non-Null Count  Dtype \n",
      "---  ------    --------------  ----- \n",
      " 0   작성일       744 non-null    object\n",
      " 1   고유번호      744 non-null    object\n",
      " 2   답글구분      29 non-null     object\n",
      " 3   닉네임       744 non-null    object\n",
      " 4   작성자URL    744 non-null    object\n",
      " 5   공감수       744 non-null    int64 \n",
      " 6   링크수       744 non-null    int64 \n",
      " 7   답글수       744 non-null    int64 \n",
      " 8   첨부이미지URL  115 non-null    object\n",
      " 9   내용        744 non-null    object\n",
      "dtypes: int64(3), object(7)\n",
      "memory usage: 58.2+ KB\n"
     ]
    }
   ],
   "source": [
    "df.info()"
   ]
  },
  {
   "cell_type": "markdown",
   "metadata": {},
   "source": [
    "### df 확인\n",
    "* 고유번호 : undefined 제거\n",
    "* 닉네임 : 비밀댓글 제거\n",
    "* 답글 구분 : 비밀댓글 nan값으로 교체"
   ]
  },
  {
   "cell_type": "markdown",
   "metadata": {},
   "source": [
    "#### 고유번호에서 undefined 제거"
   ]
  },
  {
   "cell_type": "code",
   "execution_count": 21,
   "metadata": {},
   "outputs": [
    {
     "name": "stdout",
     "output_type": "stream",
     "text": [
      "<class 'pandas.core.frame.DataFrame'>\n",
      "RangeIndex: 744 entries, 0 to 743\n",
      "Data columns (total 10 columns):\n",
      " #   Column    Non-Null Count  Dtype \n",
      "---  ------    --------------  ----- \n",
      " 0   작성일       744 non-null    object\n",
      " 1   고유번호      744 non-null    object\n",
      " 2   답글구분      29 non-null     object\n",
      " 3   닉네임       744 non-null    object\n",
      " 4   작성자URL    744 non-null    object\n",
      " 5   공감수       744 non-null    int64 \n",
      " 6   링크수       744 non-null    int64 \n",
      " 7   답글수       744 non-null    int64 \n",
      " 8   첨부이미지URL  115 non-null    object\n",
      " 9   내용        744 non-null    object\n",
      "dtypes: int64(3), object(7)\n",
      "memory usage: 58.2+ KB\n"
     ]
    }
   ],
   "source": [
    "df.info()"
   ]
  },
  {
   "cell_type": "code",
   "execution_count": 22,
   "metadata": {},
   "outputs": [
    {
     "data": {
      "text/html": [
       "<div>\n",
       "<style scoped>\n",
       "    .dataframe tbody tr th:only-of-type {\n",
       "        vertical-align: middle;\n",
       "    }\n",
       "\n",
       "    .dataframe tbody tr th {\n",
       "        vertical-align: top;\n",
       "    }\n",
       "\n",
       "    .dataframe thead th {\n",
       "        text-align: right;\n",
       "    }\n",
       "</style>\n",
       "<table border=\"1\" class=\"dataframe\">\n",
       "  <thead>\n",
       "    <tr style=\"text-align: right;\">\n",
       "      <th></th>\n",
       "      <th>작성일</th>\n",
       "      <th>고유번호</th>\n",
       "      <th>답글구분</th>\n",
       "      <th>닉네임</th>\n",
       "      <th>작성자URL</th>\n",
       "      <th>공감수</th>\n",
       "      <th>링크수</th>\n",
       "      <th>답글수</th>\n",
       "      <th>첨부이미지URL</th>\n",
       "      <th>내용</th>\n",
       "    </tr>\n",
       "  </thead>\n",
       "  <tbody>\n",
       "    <tr>\n",
       "      <th>600</th>\n",
       "      <td>2022-05-06 12:46:59</td>\n",
       "      <td>undefined</td>\n",
       "      <td>NaN</td>\n",
       "      <td>알라</td>\n",
       "      <td>https://blog.naver.com/hyuntaiji</td>\n",
       "      <td>0</td>\n",
       "      <td>0</td>\n",
       "      <td>1</td>\n",
       "      <td>https://g-cbox.pstatic.net/MjAyMjA1MDZfMjA5/MD...</td>\n",
       "      <td>☝️트위터 팔로우 완료</td>\n",
       "    </tr>\n",
       "  </tbody>\n",
       "</table>\n",
       "</div>"
      ],
      "text/plain": [
       "                     작성일       고유번호 답글구분 닉네임  \\\n",
       "600  2022-05-06 12:46:59  undefined  NaN  알라   \n",
       "\n",
       "                               작성자URL  공감수  링크수  답글수  \\\n",
       "600  https://blog.naver.com/hyuntaiji    0    0    1   \n",
       "\n",
       "                                              첨부이미지URL            내용  \n",
       "600  https://g-cbox.pstatic.net/MjAyMjA1MDZfMjA5/MD...  ☝️트위터 팔로우 완료  "
      ]
     },
     "execution_count": 22,
     "metadata": {},
     "output_type": "execute_result"
    }
   ],
   "source": [
    "df[df['고유번호'] == 'undefined']"
   ]
  },
  {
   "cell_type": "code",
   "execution_count": 23,
   "metadata": {},
   "outputs": [
    {
     "data": {
      "text/plain": [
       "Int64Index([600], dtype='int64')"
      ]
     },
     "execution_count": 23,
     "metadata": {},
     "output_type": "execute_result"
    }
   ],
   "source": [
    "undefined_index = df[df['고유번호'] == 'undefined'].index\n",
    "undefined_index"
   ]
  },
  {
   "cell_type": "code",
   "execution_count": 24,
   "metadata": {},
   "outputs": [
    {
     "name": "stdout",
     "output_type": "stream",
     "text": [
      "<class 'pandas.core.frame.DataFrame'>\n",
      "RangeIndex: 743 entries, 0 to 742\n",
      "Data columns (total 10 columns):\n",
      " #   Column    Non-Null Count  Dtype \n",
      "---  ------    --------------  ----- \n",
      " 0   작성일       743 non-null    object\n",
      " 1   고유번호      743 non-null    object\n",
      " 2   답글구분      29 non-null     object\n",
      " 3   닉네임       743 non-null    object\n",
      " 4   작성자URL    743 non-null    object\n",
      " 5   공감수       743 non-null    int64 \n",
      " 6   링크수       743 non-null    int64 \n",
      " 7   답글수       743 non-null    int64 \n",
      " 8   첨부이미지URL  114 non-null    object\n",
      " 9   내용        743 non-null    object\n",
      "dtypes: int64(3), object(7)\n",
      "memory usage: 58.2+ KB\n"
     ]
    }
   ],
   "source": [
    "df2 = df.drop(index=undefined_index).reset_index(drop=True)\n",
    "df2.info()"
   ]
  },
  {
   "cell_type": "markdown",
   "metadata": {},
   "source": [
    "#### 닉네임에서 비밀댓글 제거"
   ]
  },
  {
   "cell_type": "code",
   "execution_count": 25,
   "metadata": {},
   "outputs": [
    {
     "data": {
      "text/html": [
       "<div>\n",
       "<style scoped>\n",
       "    .dataframe tbody tr th:only-of-type {\n",
       "        vertical-align: middle;\n",
       "    }\n",
       "\n",
       "    .dataframe tbody tr th {\n",
       "        vertical-align: top;\n",
       "    }\n",
       "\n",
       "    .dataframe thead th {\n",
       "        text-align: right;\n",
       "    }\n",
       "</style>\n",
       "<table border=\"1\" class=\"dataframe\">\n",
       "  <thead>\n",
       "    <tr style=\"text-align: right;\">\n",
       "      <th></th>\n",
       "      <th>작성일</th>\n",
       "      <th>고유번호</th>\n",
       "      <th>답글구분</th>\n",
       "      <th>닉네임</th>\n",
       "      <th>작성자URL</th>\n",
       "      <th>공감수</th>\n",
       "      <th>링크수</th>\n",
       "      <th>답글수</th>\n",
       "      <th>첨부이미지URL</th>\n",
       "      <th>내용</th>\n",
       "    </tr>\n",
       "  </thead>\n",
       "  <tbody>\n",
       "    <tr>\n",
       "      <th>36</th>\n",
       "      <td>2022-04-29 12:03:52</td>\n",
       "      <td>756468973263913362</td>\n",
       "      <td>비밀댓글</td>\n",
       "      <td>비밀댓글</td>\n",
       "      <td>비밀댓글</td>\n",
       "      <td>0</td>\n",
       "      <td>0</td>\n",
       "      <td>0</td>\n",
       "      <td>NaN</td>\n",
       "      <td>비밀댓글</td>\n",
       "    </tr>\n",
       "    <tr>\n",
       "      <th>205</th>\n",
       "      <td>2022-04-29 17:03:04</td>\n",
       "      <td>756488248959696926</td>\n",
       "      <td>비밀댓글</td>\n",
       "      <td>비밀댓글</td>\n",
       "      <td>비밀댓글</td>\n",
       "      <td>0</td>\n",
       "      <td>0</td>\n",
       "      <td>0</td>\n",
       "      <td>NaN</td>\n",
       "      <td>비밀댓글</td>\n",
       "    </tr>\n",
       "    <tr>\n",
       "      <th>239</th>\n",
       "      <td>2022-04-29 22:56:21</td>\n",
       "      <td>756511009887224096</td>\n",
       "      <td>비밀댓글</td>\n",
       "      <td>비밀댓글</td>\n",
       "      <td>비밀댓글</td>\n",
       "      <td>0</td>\n",
       "      <td>0</td>\n",
       "      <td>0</td>\n",
       "      <td>NaN</td>\n",
       "      <td>비밀댓글</td>\n",
       "    </tr>\n",
       "    <tr>\n",
       "      <th>318</th>\n",
       "      <td>2022-04-30 16:28:38</td>\n",
       "      <td>756578802221449439</td>\n",
       "      <td>비밀댓글</td>\n",
       "      <td>비밀댓글</td>\n",
       "      <td>비밀댓글</td>\n",
       "      <td>0</td>\n",
       "      <td>0</td>\n",
       "      <td>0</td>\n",
       "      <td>NaN</td>\n",
       "      <td>비밀댓글</td>\n",
       "    </tr>\n",
       "    <tr>\n",
       "      <th>344</th>\n",
       "      <td>2022-04-30 22:37:37</td>\n",
       "      <td>756602574429225289</td>\n",
       "      <td>비밀댓글</td>\n",
       "      <td>비밀댓글</td>\n",
       "      <td>비밀댓글</td>\n",
       "      <td>0</td>\n",
       "      <td>0</td>\n",
       "      <td>0</td>\n",
       "      <td>NaN</td>\n",
       "      <td>비밀댓글</td>\n",
       "    </tr>\n",
       "    <tr>\n",
       "      <th>383</th>\n",
       "      <td>2022-05-01 21:37:56</td>\n",
       "      <td>756691499713823824</td>\n",
       "      <td>비밀댓글</td>\n",
       "      <td>비밀댓글</td>\n",
       "      <td>비밀댓글</td>\n",
       "      <td>0</td>\n",
       "      <td>0</td>\n",
       "      <td>0</td>\n",
       "      <td>NaN</td>\n",
       "      <td>비밀댓글</td>\n",
       "    </tr>\n",
       "    <tr>\n",
       "      <th>384</th>\n",
       "      <td>2022-05-01 21:37:59</td>\n",
       "      <td>756691503622915325</td>\n",
       "      <td>비밀댓글</td>\n",
       "      <td>비밀댓글</td>\n",
       "      <td>비밀댓글</td>\n",
       "      <td>0</td>\n",
       "      <td>0</td>\n",
       "      <td>0</td>\n",
       "      <td>NaN</td>\n",
       "      <td>비밀댓글</td>\n",
       "    </tr>\n",
       "    <tr>\n",
       "      <th>541</th>\n",
       "      <td>2022-05-05 14:09:13</td>\n",
       "      <td>757033677090717913</td>\n",
       "      <td>비밀댓글</td>\n",
       "      <td>비밀댓글</td>\n",
       "      <td>비밀댓글</td>\n",
       "      <td>0</td>\n",
       "      <td>0</td>\n",
       "      <td>0</td>\n",
       "      <td>NaN</td>\n",
       "      <td>비밀댓글</td>\n",
       "    </tr>\n",
       "    <tr>\n",
       "      <th>638</th>\n",
       "      <td>2022-05-06 17:49:01</td>\n",
       "      <td>757140609042481168</td>\n",
       "      <td>비밀댓글</td>\n",
       "      <td>비밀댓글</td>\n",
       "      <td>비밀댓글</td>\n",
       "      <td>0</td>\n",
       "      <td>0</td>\n",
       "      <td>0</td>\n",
       "      <td>NaN</td>\n",
       "      <td>비밀댓글</td>\n",
       "    </tr>\n",
       "    <tr>\n",
       "      <th>727</th>\n",
       "      <td>2022-05-06 23:39:34</td>\n",
       "      <td>757163192047633270</td>\n",
       "      <td>비밀댓글</td>\n",
       "      <td>비밀댓글</td>\n",
       "      <td>비밀댓글</td>\n",
       "      <td>0</td>\n",
       "      <td>0</td>\n",
       "      <td>0</td>\n",
       "      <td>NaN</td>\n",
       "      <td>비밀댓글</td>\n",
       "    </tr>\n",
       "    <tr>\n",
       "      <th>740</th>\n",
       "      <td>2022-05-07 22:48:06</td>\n",
       "      <td>757252649136423030</td>\n",
       "      <td>비밀댓글</td>\n",
       "      <td>비밀댓글</td>\n",
       "      <td>비밀댓글</td>\n",
       "      <td>0</td>\n",
       "      <td>0</td>\n",
       "      <td>1</td>\n",
       "      <td>NaN</td>\n",
       "      <td>비밀댓글</td>\n",
       "    </tr>\n",
       "    <tr>\n",
       "      <th>741</th>\n",
       "      <td>2022-05-07 22:48:18</td>\n",
       "      <td>757252660058390869</td>\n",
       "      <td>비밀댓글</td>\n",
       "      <td>비밀댓글</td>\n",
       "      <td>비밀댓글</td>\n",
       "      <td>0</td>\n",
       "      <td>0</td>\n",
       "      <td>0</td>\n",
       "      <td>NaN</td>\n",
       "      <td>비밀댓글</td>\n",
       "    </tr>\n",
       "  </tbody>\n",
       "</table>\n",
       "</div>"
      ],
      "text/plain": [
       "                     작성일                고유번호  답글구분   닉네임 작성자URL  공감수  링크수  \\\n",
       "36   2022-04-29 12:03:52  756468973263913362  비밀댓글  비밀댓글   비밀댓글    0    0   \n",
       "205  2022-04-29 17:03:04  756488248959696926  비밀댓글  비밀댓글   비밀댓글    0    0   \n",
       "239  2022-04-29 22:56:21  756511009887224096  비밀댓글  비밀댓글   비밀댓글    0    0   \n",
       "318  2022-04-30 16:28:38  756578802221449439  비밀댓글  비밀댓글   비밀댓글    0    0   \n",
       "344  2022-04-30 22:37:37  756602574429225289  비밀댓글  비밀댓글   비밀댓글    0    0   \n",
       "383  2022-05-01 21:37:56  756691499713823824  비밀댓글  비밀댓글   비밀댓글    0    0   \n",
       "384  2022-05-01 21:37:59  756691503622915325  비밀댓글  비밀댓글   비밀댓글    0    0   \n",
       "541  2022-05-05 14:09:13  757033677090717913  비밀댓글  비밀댓글   비밀댓글    0    0   \n",
       "638  2022-05-06 17:49:01  757140609042481168  비밀댓글  비밀댓글   비밀댓글    0    0   \n",
       "727  2022-05-06 23:39:34  757163192047633270  비밀댓글  비밀댓글   비밀댓글    0    0   \n",
       "740  2022-05-07 22:48:06  757252649136423030  비밀댓글  비밀댓글   비밀댓글    0    0   \n",
       "741  2022-05-07 22:48:18  757252660058390869  비밀댓글  비밀댓글   비밀댓글    0    0   \n",
       "\n",
       "     답글수 첨부이미지URL    내용  \n",
       "36     0      NaN  비밀댓글  \n",
       "205    0      NaN  비밀댓글  \n",
       "239    0      NaN  비밀댓글  \n",
       "318    0      NaN  비밀댓글  \n",
       "344    0      NaN  비밀댓글  \n",
       "383    0      NaN  비밀댓글  \n",
       "384    0      NaN  비밀댓글  \n",
       "541    0      NaN  비밀댓글  \n",
       "638    0      NaN  비밀댓글  \n",
       "727    0      NaN  비밀댓글  \n",
       "740    1      NaN  비밀댓글  \n",
       "741    0      NaN  비밀댓글  "
      ]
     },
     "execution_count": 25,
     "metadata": {},
     "output_type": "execute_result"
    }
   ],
   "source": [
    "df2[df2['닉네임'] == '비밀댓글']"
   ]
  },
  {
   "cell_type": "code",
   "execution_count": 26,
   "metadata": {},
   "outputs": [
    {
     "data": {
      "text/plain": [
       "Int64Index([36, 205, 239, 318, 344, 383, 384, 541, 638, 727, 740, 741], dtype='int64')"
      ]
     },
     "execution_count": 26,
     "metadata": {},
     "output_type": "execute_result"
    }
   ],
   "source": [
    "secret_reply_index = df2[df2['닉네임'] == '비밀댓글'].index\n",
    "secret_reply_index"
   ]
  },
  {
   "cell_type": "code",
   "execution_count": 27,
   "metadata": {},
   "outputs": [
    {
     "name": "stdout",
     "output_type": "stream",
     "text": [
      "<class 'pandas.core.frame.DataFrame'>\n",
      "RangeIndex: 731 entries, 0 to 730\n",
      "Data columns (total 10 columns):\n",
      " #   Column    Non-Null Count  Dtype \n",
      "---  ------    --------------  ----- \n",
      " 0   작성일       731 non-null    object\n",
      " 1   고유번호      731 non-null    object\n",
      " 2   답글구분      17 non-null     object\n",
      " 3   닉네임       731 non-null    object\n",
      " 4   작성자URL    731 non-null    object\n",
      " 5   공감수       731 non-null    int64 \n",
      " 6   링크수       731 non-null    int64 \n",
      " 7   답글수       731 non-null    int64 \n",
      " 8   첨부이미지URL  114 non-null    object\n",
      " 9   내용        731 non-null    object\n",
      "dtypes: int64(3), object(7)\n",
      "memory usage: 57.2+ KB\n"
     ]
    }
   ],
   "source": [
    "df3 = df2.drop(index=secret_reply_index).reset_index(drop=True)\n",
    "df3.info()"
   ]
  },
  {
   "cell_type": "code",
   "execution_count": 28,
   "metadata": {},
   "outputs": [
    {
     "data": {
      "text/plain": [
       "array([nan, '답글'], dtype=object)"
      ]
     },
     "execution_count": 28,
     "metadata": {},
     "output_type": "execute_result"
    }
   ],
   "source": [
    "df3['답글구분'].unique()"
   ]
  },
  {
   "cell_type": "markdown",
   "metadata": {},
   "source": [
    "#### 답글구분에서 비밀댓글 nan 값으로 교체"
   ]
  },
  {
   "cell_type": "code",
   "execution_count": 29,
   "metadata": {},
   "outputs": [
    {
     "data": {
      "text/html": [
       "<div>\n",
       "<style scoped>\n",
       "    .dataframe tbody tr th:only-of-type {\n",
       "        vertical-align: middle;\n",
       "    }\n",
       "\n",
       "    .dataframe tbody tr th {\n",
       "        vertical-align: top;\n",
       "    }\n",
       "\n",
       "    .dataframe thead th {\n",
       "        text-align: right;\n",
       "    }\n",
       "</style>\n",
       "<table border=\"1\" class=\"dataframe\">\n",
       "  <thead>\n",
       "    <tr style=\"text-align: right;\">\n",
       "      <th></th>\n",
       "      <th>작성일</th>\n",
       "      <th>고유번호</th>\n",
       "      <th>답글구분</th>\n",
       "      <th>닉네임</th>\n",
       "      <th>작성자URL</th>\n",
       "      <th>공감수</th>\n",
       "      <th>링크수</th>\n",
       "      <th>답글수</th>\n",
       "      <th>첨부이미지URL</th>\n",
       "      <th>내용</th>\n",
       "    </tr>\n",
       "  </thead>\n",
       "  <tbody>\n",
       "  </tbody>\n",
       "</table>\n",
       "</div>"
      ],
      "text/plain": [
       "Empty DataFrame\n",
       "Columns: [작성일, 고유번호, 답글구분, 닉네임, 작성자URL, 공감수, 링크수, 답글수, 첨부이미지URL, 내용]\n",
       "Index: []"
      ]
     },
     "execution_count": 29,
     "metadata": {},
     "output_type": "execute_result"
    }
   ],
   "source": [
    "df3[df3['답글구분'] == '비밀댓글']"
   ]
  },
  {
   "cell_type": "code",
   "execution_count": 30,
   "metadata": {},
   "outputs": [
    {
     "data": {
      "text/plain": [
       "Int64Index([], dtype='int64')"
      ]
     },
     "execution_count": 30,
     "metadata": {},
     "output_type": "execute_result"
    }
   ],
   "source": [
    "index3 = df3[df3['답글구분'] == '비밀댓글'].index\n",
    "index3"
   ]
  },
  {
   "cell_type": "code",
   "execution_count": 31,
   "metadata": {},
   "outputs": [],
   "source": [
    "df4 = df3.replace( {'답글구분':'비밀댓글'}, nan )"
   ]
  },
  {
   "cell_type": "code",
   "execution_count": 32,
   "metadata": {},
   "outputs": [
    {
     "name": "stdout",
     "output_type": "stream",
     "text": [
      "<class 'pandas.core.frame.DataFrame'>\n",
      "RangeIndex: 731 entries, 0 to 730\n",
      "Data columns (total 10 columns):\n",
      " #   Column    Non-Null Count  Dtype \n",
      "---  ------    --------------  ----- \n",
      " 0   작성일       731 non-null    object\n",
      " 1   고유번호      731 non-null    object\n",
      " 2   답글구분      17 non-null     object\n",
      " 3   닉네임       731 non-null    object\n",
      " 4   작성자URL    731 non-null    object\n",
      " 5   공감수       731 non-null    int64 \n",
      " 6   링크수       731 non-null    int64 \n",
      " 7   답글수       731 non-null    int64 \n",
      " 8   첨부이미지URL  114 non-null    object\n",
      " 9   내용        731 non-null    object\n",
      "dtypes: int64(3), object(7)\n",
      "memory usage: 57.2+ KB\n"
     ]
    }
   ],
   "source": [
    "df4.info()"
   ]
  },
  {
   "cell_type": "code",
   "execution_count": 40,
   "metadata": {},
   "outputs": [
    {
     "data": {
      "text/html": [
       "<div>\n",
       "<style scoped>\n",
       "    .dataframe tbody tr th:only-of-type {\n",
       "        vertical-align: middle;\n",
       "    }\n",
       "\n",
       "    .dataframe tbody tr th {\n",
       "        vertical-align: top;\n",
       "    }\n",
       "\n",
       "    .dataframe thead th {\n",
       "        text-align: right;\n",
       "    }\n",
       "</style>\n",
       "<table border=\"1\" class=\"dataframe\">\n",
       "  <thead>\n",
       "    <tr style=\"text-align: right;\">\n",
       "      <th></th>\n",
       "      <th>작성일</th>\n",
       "      <th>고유번호</th>\n",
       "      <th>답글구분</th>\n",
       "      <th>닉네임</th>\n",
       "      <th>작성자URL</th>\n",
       "      <th>공감수</th>\n",
       "      <th>링크수</th>\n",
       "      <th>답글수</th>\n",
       "      <th>첨부이미지URL</th>\n",
       "      <th>내용</th>\n",
       "    </tr>\n",
       "  </thead>\n",
       "  <tbody>\n",
       "    <tr>\n",
       "      <th>721</th>\n",
       "      <td>2022-05-06 23:43:48</td>\n",
       "      <td>757163465583362971</td>\n",
       "      <td>NaN</td>\n",
       "      <td>지니World</td>\n",
       "      <td>https://blog.naver.com/j6714sj</td>\n",
       "      <td>1</td>\n",
       "      <td>0</td>\n",
       "      <td>0</td>\n",
       "      <td>NaN</td>\n",
       "      <td>정답: X, O, O :) @한별</td>\n",
       "    </tr>\n",
       "    <tr>\n",
       "      <th>722</th>\n",
       "      <td>2022-05-06 23:47:14</td>\n",
       "      <td>757163686606406127</td>\n",
       "      <td>NaN</td>\n",
       "      <td>애플민트</td>\n",
       "      <td>https://blog.naver.com/tyler_durden</td>\n",
       "      <td>0</td>\n",
       "      <td>0</td>\n",
       "      <td>0</td>\n",
       "      <td>NaN</td>\n",
       "      <td>정답: X, O, O</td>\n",
       "    </tr>\n",
       "    <tr>\n",
       "      <th>723</th>\n",
       "      <td>2022-05-06 23:48:03</td>\n",
       "      <td>757163739823734867</td>\n",
       "      <td>NaN</td>\n",
       "      <td>znwlznwl6</td>\n",
       "      <td>https://blog.naver.com/znwlznwl6</td>\n",
       "      <td>0</td>\n",
       "      <td>0</td>\n",
       "      <td>0</td>\n",
       "      <td>NaN</td>\n",
       "      <td>정답=X,O,O</td>\n",
       "    </tr>\n",
       "    <tr>\n",
       "      <th>724</th>\n",
       "      <td>2022-05-06 23:51:10</td>\n",
       "      <td>757163939791372533</td>\n",
       "      <td>NaN</td>\n",
       "      <td>크리스</td>\n",
       "      <td>https://blog.naver.com/kimsiyoul</td>\n",
       "      <td>0</td>\n",
       "      <td>1</td>\n",
       "      <td>0</td>\n",
       "      <td>NaN</td>\n",
       "      <td>정답은 X, O, O @LC Ruu @I주I 분양대행 @eeozmeneno  함께해...</td>\n",
       "    </tr>\n",
       "    <tr>\n",
       "      <th>725</th>\n",
       "      <td>2022-05-06 23:51:28</td>\n",
       "      <td>757163959370384112</td>\n",
       "      <td>NaN</td>\n",
       "      <td>휴민</td>\n",
       "      <td>https://blog.naver.com/askmind</td>\n",
       "      <td>0</td>\n",
       "      <td>0</td>\n",
       "      <td>0</td>\n",
       "      <td>NaN</td>\n",
       "      <td>정답: X, O, O</td>\n",
       "    </tr>\n",
       "    <tr>\n",
       "      <th>726</th>\n",
       "      <td>2022-05-06 23:52:45</td>\n",
       "      <td>757164042367272134</td>\n",
       "      <td>NaN</td>\n",
       "      <td>쿄쿄쿄</td>\n",
       "      <td>https://blog.naver.com/komisk2011</td>\n",
       "      <td>0</td>\n",
       "      <td>0</td>\n",
       "      <td>0</td>\n",
       "      <td>NaN</td>\n",
       "      <td>정답 : 1. X / 2.O / 3. O @러브유유 @지대유천</td>\n",
       "    </tr>\n",
       "    <tr>\n",
       "      <th>727</th>\n",
       "      <td>2022-05-06 23:54:29</td>\n",
       "      <td>757164152727798282</td>\n",
       "      <td>NaN</td>\n",
       "      <td>오오카미</td>\n",
       "      <td>https://blog.naver.com/purpwolf</td>\n",
       "      <td>0</td>\n",
       "      <td>0</td>\n",
       "      <td>0</td>\n",
       "      <td>NaN</td>\n",
       "      <td>정답 : X, O, O</td>\n",
       "    </tr>\n",
       "    <tr>\n",
       "      <th>728</th>\n",
       "      <td>2022-05-06 23:55:41</td>\n",
       "      <td>757164231580713674</td>\n",
       "      <td>NaN</td>\n",
       "      <td>롱지</td>\n",
       "      <td>https://blog.naver.com/sosskr</td>\n",
       "      <td>0</td>\n",
       "      <td>1</td>\n",
       "      <td>0</td>\n",
       "      <td>https://g-cbox.pstatic.net/MjAyMjA1MDZfNDQg/MD...</td>\n",
       "      <td>정답 1. X2. O3. O  @수딩 @와띠 함께해요😊 https://m.blog....</td>\n",
       "    </tr>\n",
       "    <tr>\n",
       "      <th>729</th>\n",
       "      <td>2022-05-07 00:36:28</td>\n",
       "      <td>757166857852551557</td>\n",
       "      <td>NaN</td>\n",
       "      <td>은하s</td>\n",
       "      <td>https://blog.naver.com/eunhas9</td>\n",
       "      <td>0</td>\n",
       "      <td>1</td>\n",
       "      <td>0</td>\n",
       "      <td>NaN</td>\n",
       "      <td>X O, O 참여합니다. https://m.blog.naver.com/eunhas9...</td>\n",
       "    </tr>\n",
       "    <tr>\n",
       "      <th>730</th>\n",
       "      <td>2022-05-07 23:19:56</td>\n",
       "      <td>757254699496768249</td>\n",
       "      <td>NaN</td>\n",
       "      <td>황블리</td>\n",
       "      <td>https://blog.naver.com/yuri_7777</td>\n",
       "      <td>0</td>\n",
       "      <td>0</td>\n",
       "      <td>0</td>\n",
       "      <td>NaN</td>\n",
       "      <td>정답: 1) X / 2) O / 3) O</td>\n",
       "    </tr>\n",
       "  </tbody>\n",
       "</table>\n",
       "</div>"
      ],
      "text/plain": [
       "                     작성일                고유번호 답글구분        닉네임  \\\n",
       "721  2022-05-06 23:43:48  757163465583362971  NaN    지니World   \n",
       "722  2022-05-06 23:47:14  757163686606406127  NaN       애플민트   \n",
       "723  2022-05-06 23:48:03  757163739823734867  NaN  znwlznwl6   \n",
       "724  2022-05-06 23:51:10  757163939791372533  NaN        크리스   \n",
       "725  2022-05-06 23:51:28  757163959370384112  NaN         휴민   \n",
       "726  2022-05-06 23:52:45  757164042367272134  NaN        쿄쿄쿄   \n",
       "727  2022-05-06 23:54:29  757164152727798282  NaN       오오카미   \n",
       "728  2022-05-06 23:55:41  757164231580713674  NaN         롱지   \n",
       "729  2022-05-07 00:36:28  757166857852551557  NaN        은하s   \n",
       "730  2022-05-07 23:19:56  757254699496768249  NaN        황블리   \n",
       "\n",
       "                                  작성자URL  공감수  링크수  답글수  \\\n",
       "721       https://blog.naver.com/j6714sj    1    0    0   \n",
       "722  https://blog.naver.com/tyler_durden    0    0    0   \n",
       "723     https://blog.naver.com/znwlznwl6    0    0    0   \n",
       "724     https://blog.naver.com/kimsiyoul    0    1    0   \n",
       "725       https://blog.naver.com/askmind    0    0    0   \n",
       "726    https://blog.naver.com/komisk2011    0    0    0   \n",
       "727      https://blog.naver.com/purpwolf    0    0    0   \n",
       "728        https://blog.naver.com/sosskr    0    1    0   \n",
       "729       https://blog.naver.com/eunhas9    0    1    0   \n",
       "730     https://blog.naver.com/yuri_7777    0    0    0   \n",
       "\n",
       "                                              첨부이미지URL  \\\n",
       "721                                                NaN   \n",
       "722                                                NaN   \n",
       "723                                                NaN   \n",
       "724                                                NaN   \n",
       "725                                                NaN   \n",
       "726                                                NaN   \n",
       "727                                                NaN   \n",
       "728  https://g-cbox.pstatic.net/MjAyMjA1MDZfNDQg/MD...   \n",
       "729                                                NaN   \n",
       "730                                                NaN   \n",
       "\n",
       "                                                    내용  \n",
       "721                                 정답: X, O, O :) @한별  \n",
       "722                                        정답: X, O, O  \n",
       "723                                           정답=X,O,O  \n",
       "724  정답은 X, O, O @LC Ruu @I주I 분양대행 @eeozmeneno  함께해...  \n",
       "725                                        정답: X, O, O  \n",
       "726                 정답 : 1. X / 2.O / 3. O @러브유유 @지대유천  \n",
       "727                                       정답 : X, O, O  \n",
       "728  정답 1. X2. O3. O  @수딩 @와띠 함께해요😊 https://m.blog....  \n",
       "729  X O, O 참여합니다. https://m.blog.naver.com/eunhas9...  \n",
       "730                             정답: 1) X / 2) O / 3) O  "
      ]
     },
     "execution_count": 40,
     "metadata": {},
     "output_type": "execute_result"
    }
   ],
   "source": [
    "df4.tail(10)"
   ]
  },
  {
   "cell_type": "markdown",
   "metadata": {},
   "source": [
    "#### 날짜로 자르기 설정"
   ]
  },
  {
   "cell_type": "code",
   "execution_count": 42,
   "metadata": {},
   "outputs": [
    {
     "name": "stdout",
     "output_type": "stream",
     "text": [
      "<class 'pandas.core.frame.DataFrame'>\n",
      "Int64Index: 729 entries, 0 to 728\n",
      "Data columns (total 10 columns):\n",
      " #   Column    Non-Null Count  Dtype \n",
      "---  ------    --------------  ----- \n",
      " 0   작성일       729 non-null    object\n",
      " 1   고유번호      729 non-null    object\n",
      " 2   답글구분      17 non-null     object\n",
      " 3   닉네임       729 non-null    object\n",
      " 4   작성자URL    729 non-null    object\n",
      " 5   공감수       729 non-null    int64 \n",
      " 6   링크수       729 non-null    int64 \n",
      " 7   답글수       729 non-null    int64 \n",
      " 8   첨부이미지URL  114 non-null    object\n",
      " 9   내용        729 non-null    object\n",
      "dtypes: int64(3), object(7)\n",
      "memory usage: 62.6+ KB\n"
     ]
    }
   ],
   "source": [
    "df5 = df4[df4['작성일'] < '2022-05-07']\n",
    "df5.info()"
   ]
  },
  {
   "cell_type": "code",
   "execution_count": 43,
   "metadata": {},
   "outputs": [],
   "source": [
    "final_df = df5.copy()"
   ]
  },
  {
   "cell_type": "markdown",
   "metadata": {},
   "source": [
    "## 파일로 출력"
   ]
  },
  {
   "cell_type": "code",
   "execution_count": 44,
   "metadata": {},
   "outputs": [
    {
     "data": {
      "text/plain": [
       "'c:/data/Wantreez/Crawling/incheon/crawled_data/naver_blog'"
      ]
     },
     "execution_count": 44,
     "metadata": {},
     "output_type": "execute_result"
    }
   ],
   "source": [
    "crawled_folder_path"
   ]
  },
  {
   "cell_type": "code",
   "execution_count": 45,
   "metadata": {},
   "outputs": [
    {
     "data": {
      "text/plain": [
       "'20220509_095604'"
      ]
     },
     "execution_count": 45,
     "metadata": {},
     "output_type": "execute_result"
    }
   ],
   "source": [
    "today_date = datetime.today().strftime('%Y%m%d_%H%M%S')\n",
    "today_date"
   ]
  },
  {
   "cell_type": "code",
   "execution_count": 46,
   "metadata": {},
   "outputs": [
    {
     "name": "stdout",
     "output_type": "stream",
     "text": [
      "naver_blog_20220509_095604.xlsx 출력완료\n"
     ]
    }
   ],
   "source": [
    "today_date = datetime.today().strftime('%Y%m%d_%H%M%S')\n",
    "file_name = f'naver_blog_{today_date}.xlsx'\n",
    "final_df.to_excel(crawled_folder_path + '/' + file_name, index=False, encoding='utf-8')\n",
    "print(f'{file_name} 출력완료')"
   ]
  },
  {
   "cell_type": "markdown",
   "metadata": {},
   "source": [
    "# 코드 마지막"
   ]
  }
 ],
 "metadata": {
  "interpreter": {
   "hash": "b3ba2566441a7c06988d0923437866b63cedc61552a5af99d1f4fb67d367b25f"
  },
  "kernelspec": {
   "display_name": "Python 3.9.7 ('base')",
   "language": "python",
   "name": "python3"
  },
  "language_info": {
   "codemirror_mode": {
    "name": "ipython",
    "version": 3
   },
   "file_extension": ".py",
   "mimetype": "text/x-python",
   "name": "python",
   "nbconvert_exporter": "python",
   "pygments_lexer": "ipython3",
   "version": "3.9.7"
  },
  "orig_nbformat": 4
 },
 "nbformat": 4,
 "nbformat_minor": 2
}
