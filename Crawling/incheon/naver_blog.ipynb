{
 "cells": [
  {
   "cell_type": "markdown",
   "metadata": {},
   "source": [
    "# Naver blog scrap"
   ]
  },
  {
   "cell_type": "markdown",
   "metadata": {},
   "source": [
    "## 라이브러리"
   ]
  },
  {
   "cell_type": "code",
   "execution_count": 196,
   "metadata": {},
   "outputs": [],
   "source": [
    "import pandas as pd\n",
    "import time, os\n",
    "from datetime import datetime\n",
    "from numpy import nan"
   ]
  },
  {
   "cell_type": "code",
   "execution_count": 197,
   "metadata": {},
   "outputs": [],
   "source": [
    "from bs4 import BeautifulSoup as bs\n",
    "from selenium import webdriver\n",
    "import chromedriver_autoinstaller as ca"
   ]
  },
  {
   "cell_type": "markdown",
   "metadata": {},
   "source": [
    "## 현재 파일 위치 확인"
   ]
  },
  {
   "cell_type": "code",
   "execution_count": 12,
   "metadata": {},
   "outputs": [
    {
     "data": {
      "text/plain": [
       "'c:/data/Wantreez/Crawling/incheon'"
      ]
     },
     "execution_count": 12,
     "metadata": {},
     "output_type": "execute_result"
    }
   ],
   "source": [
    "# 현재 파일 위치 확인\n",
    "code_path = os.getcwd().replace('\\\\', '/')\n",
    "code_path"
   ]
  },
  {
   "cell_type": "markdown",
   "metadata": {},
   "source": [
    "## 수집한 파일 저장 폴더 생성"
   ]
  },
  {
   "cell_type": "code",
   "execution_count": 13,
   "metadata": {},
   "outputs": [],
   "source": [
    "# 수집한 파일을 저장할 폴더 생성\n",
    "crawled_folder_path = code_path + '/crawled_data/naver_blog'\n",
    "os.makedirs(crawled_folder_path, exist_ok=True)"
   ]
  },
  {
   "cell_type": "markdown",
   "metadata": {},
   "source": [
    "## 크롬 드라이버 버전 확인 및 설치"
   ]
  },
  {
   "cell_type": "code",
   "execution_count": 14,
   "metadata": {},
   "outputs": [
    {
     "data": {
      "text/plain": [
       "'100'"
      ]
     },
     "execution_count": 14,
     "metadata": {},
     "output_type": "execute_result"
    }
   ],
   "source": [
    "# 크롬 드라이버 버전 확인\n",
    "chrome_ver = ca.get_chrome_version().split('.')[0]\n",
    "chrome_ver"
   ]
  },
  {
   "cell_type": "code",
   "execution_count": 217,
   "metadata": {},
   "outputs": [
    {
     "name": "stderr",
     "output_type": "stream",
     "text": [
      "C:\\Users\\kbjung\\AppData\\Local\\Temp/ipykernel_5300/3261653714.py:3: DeprecationWarning: executable_path has been deprecated, please pass in a Service object\n",
      "  driver = webdriver.Chrome(code_path + f'/{chrome_ver}/' + 'chromedriver.exe')\n"
     ]
    }
   ],
   "source": [
    "# 크롬 드라이버 설치 확인\n",
    "try:\n",
    "    driver = webdriver.Chrome(code_path + f'/{chrome_ver}/' + 'chromedriver.exe')\n",
    "except:\n",
    "    ca.install(True)\n",
    "    driver = webdriver.Chrome(code_path + f'/{chrome_ver}/' + 'chromedriver.exe')"
   ]
  },
  {
   "cell_type": "markdown",
   "metadata": {},
   "source": [
    "## 페이지 접속"
   ]
  },
  {
   "cell_type": "code",
   "execution_count": 218,
   "metadata": {},
   "outputs": [],
   "source": [
    "# 페이지 접속\n",
    "url = 'https://blog.naver.com/PostView.naver?blogId=icouncil103&logNo=222657505998&categoryNo=9&parentCategoryNo=9&from=thumbnailList'\n",
    "driver.get(url)\n",
    "driver.implicitly_wait(3)\n",
    "driver.maximize_window()"
   ]
  },
  {
   "cell_type": "code",
   "execution_count": 237,
   "metadata": {},
   "outputs": [
    {
     "data": {
      "text/plain": [
       "'222657505998'"
      ]
     },
     "execution_count": 237,
     "metadata": {},
     "output_type": "execute_result"
    }
   ],
   "source": [
    "# page 정보\n",
    "page_info = url.split('=')[2].split('&')[0]\n",
    "page_info"
   ]
  },
  {
   "cell_type": "markdown",
   "metadata": {},
   "source": [
    "## 페이지 스크래핑"
   ]
  },
  {
   "cell_type": "markdown",
   "metadata": {},
   "source": [
    "### 댓글 버튼 클릭"
   ]
  },
  {
   "cell_type": "code",
   "execution_count": 219,
   "metadata": {},
   "outputs": [
    {
     "name": "stderr",
     "output_type": "stream",
     "text": [
      "C:\\Users\\kbjung\\AppData\\Local\\Temp/ipykernel_5300/967029926.py:2: DeprecationWarning: find_element_by_xpath is deprecated. Please use find_element(by=By.XPATH, value=xpath) instead\n",
      "  comment_button = driver.find_element_by_xpath('//*[@id=\"Comi222657505998\"]')\n"
     ]
    }
   ],
   "source": [
    "# 댓글 버튼 클릭\n",
    "comment_button = driver.find_element_by_xpath('//*[@id=\"Comi222657505998\"]')\n",
    "comment_button.click()\n",
    "time.sleep(1)"
   ]
  },
  {
   "cell_type": "markdown",
   "metadata": {},
   "source": [
    "### 페이지 이동 버튼 수집"
   ]
  },
  {
   "cell_type": "code",
   "execution_count": 232,
   "metadata": {},
   "outputs": [
    {
     "name": "stderr",
     "output_type": "stream",
     "text": [
      "C:\\Users\\kbjung\\AppData\\Local\\Temp/ipykernel_5300/2431901800.py:1: DeprecationWarning: find_elements_by_css_selector is deprecated. Please use find_elements(by=By.CSS_SELECTOR, value=css_selector) instead\n",
      "  len(driver.find_elements_by_css_selector('a.u_cbox_pre'))\n"
     ]
    },
    {
     "data": {
      "text/plain": [
       "2"
      ]
     },
     "execution_count": 232,
     "metadata": {},
     "output_type": "execute_result"
    }
   ],
   "source": [
    "len(driver.find_elements_by_css_selector('a.u_cbox_pre'))"
   ]
  },
  {
   "cell_type": "code",
   "execution_count": 238,
   "metadata": {},
   "outputs": [
    {
     "name": "stderr",
     "output_type": "stream",
     "text": [
      "C:\\Users\\kbjung\\AppData\\Local\\Temp/ipykernel_5300/2501731242.py:1: DeprecationWarning: find_element_by_css_selector is deprecated. Please use find_element(by=By.CSS_SELECTOR, value=css_selector) instead\n",
      "  driver.find_element_by_css_selector(f'#naverComment_201_{page_info} > div > div.u_cbox_paginate > div > a:nth-child(2)').text\n"
     ]
    },
    {
     "data": {
      "text/plain": [
       "'이전\\n페이지 목록으로 이동하기'"
      ]
     },
     "execution_count": 238,
     "metadata": {},
     "output_type": "execute_result"
    }
   ],
   "source": [
    "driver.find_element_by_css_selector(f'#naverComment_201_{page_info} > div > div.u_cbox_paginate > div > a:nth-child(2)').text"
   ]
  },
  {
   "cell_type": "code",
   "execution_count": 241,
   "metadata": {},
   "outputs": [
    {
     "name": "stderr",
     "output_type": "stream",
     "text": [
      "C:\\Users\\kbjung\\AppData\\Local\\Temp/ipykernel_5300/3684512442.py:1: DeprecationWarning: find_elements_by_xpath is deprecated. Please use find_elements(by=By.XPATH, value=xpath) instead\n",
      "  page_buttons = driver.find_elements_by_xpath(f'//*[@id=\"naverComment_201_{page_info}\"]/div/div[4]/div/a')\n"
     ]
    },
    {
     "data": {
      "text/plain": [
       "6"
      ]
     },
     "execution_count": 241,
     "metadata": {},
     "output_type": "execute_result"
    }
   ],
   "source": [
    "page_buttons = driver.find_elements_by_xpath(f'//*[@id=\"naverComment_201_{page_info}\"]/div/div[4]/div/a')\n",
    "len(page_buttons)"
   ]
  },
  {
   "cell_type": "code",
   "execution_count": 244,
   "metadata": {},
   "outputs": [
    {
     "data": {
      "text/plain": [
       "'이전\\n페이지 목록으로 이동하기'"
      ]
     },
     "execution_count": 244,
     "metadata": {},
     "output_type": "execute_result"
    }
   ],
   "source": [
    "page_buttons[1].text"
   ]
  },
  {
   "cell_type": "code",
   "execution_count": 248,
   "metadata": {},
   "outputs": [
    {
     "data": {
      "text/plain": [
       "'이전 페이지 목록으로 이동하기'"
      ]
     },
     "execution_count": 248,
     "metadata": {},
     "output_type": "execute_result"
    }
   ],
   "source": [
    "page_buttons[1].text.replace('\\n', ' ')"
   ]
  },
  {
   "cell_type": "code",
   "execution_count": 250,
   "metadata": {},
   "outputs": [],
   "source": [
    "page_list = []\n",
    "for one in page_buttons:\n",
    "    temp = one.text.replace('\\n', ' ')\n",
    "    page_list.append(temp)"
   ]
  },
  {
   "cell_type": "code",
   "execution_count": 251,
   "metadata": {},
   "outputs": [
    {
     "data": {
      "text/plain": [
       "['', '이전 페이지 목록으로 이동하기', '11', '12', '13', '14']"
      ]
     },
     "execution_count": 251,
     "metadata": {},
     "output_type": "execute_result"
    }
   ],
   "source": [
    "page_list"
   ]
  },
  {
   "cell_type": "code",
   "execution_count": 254,
   "metadata": {},
   "outputs": [],
   "source": [
    "for i, one in enumerate(page_list):\n",
    "    if '이전' in one:\n",
    "        num = i   "
   ]
  },
  {
   "cell_type": "code",
   "execution_count": 255,
   "metadata": {},
   "outputs": [
    {
     "data": {
      "text/plain": [
       "1"
      ]
     },
     "execution_count": 255,
     "metadata": {},
     "output_type": "execute_result"
    }
   ],
   "source": [
    "num"
   ]
  },
  {
   "cell_type": "code",
   "execution_count": 256,
   "metadata": {},
   "outputs": [],
   "source": [
    "next_page = page_buttons[num]\n",
    "next_page.click()"
   ]
  },
  {
   "cell_type": "code",
   "execution_count": 257,
   "metadata": {},
   "outputs": [
    {
     "name": "stderr",
     "output_type": "stream",
     "text": [
      "C:\\Users\\kbjung\\AppData\\Local\\Temp/ipykernel_5300/3215834328.py:1: DeprecationWarning: find_elements_by_xpath is deprecated. Please use find_elements(by=By.XPATH, value=xpath) instead\n",
      "  page_buttons = driver.find_elements_by_xpath(f'//*[@id=\"naverComment_201_{page_info}\"]/div/div[4]/div/a')\n"
     ]
    }
   ],
   "source": [
    "page_buttons = driver.find_elements_by_xpath(f'//*[@id=\"naverComment_201_{page_info}\"]/div/div[4]/div/a')\n",
    "\n",
    "page_list = []\n",
    "for one in page_buttons:\n",
    "    temp = one.text.replace('\\n', ' ')\n",
    "    page_list.append(temp)"
   ]
  },
  {
   "cell_type": "code",
   "execution_count": 259,
   "metadata": {},
   "outputs": [
    {
     "data": {
      "text/plain": [
       "['', '1', '2', '3', '4', '5', '6', '7', '8', '9', '다음 페이지 목록으로 이동하기', '']"
      ]
     },
     "execution_count": 259,
     "metadata": {},
     "output_type": "execute_result"
    }
   ],
   "source": [
    "page_list"
   ]
  },
  {
   "cell_type": "markdown",
   "metadata": {},
   "source": [
    "### 댓글 페이지 수프에 담기"
   ]
  },
  {
   "cell_type": "code",
   "execution_count": 260,
   "metadata": {},
   "outputs": [],
   "source": [
    "# 첫번째 페이지로 이동\n",
    "page_buttons[1].click()\n",
    "comment_page_soup = bs(driver.page_source, 'lxml')"
   ]
  },
  {
   "cell_type": "markdown",
   "metadata": {},
   "source": [
    "### 작성일"
   ]
  },
  {
   "cell_type": "code",
   "execution_count": 261,
   "metadata": {},
   "outputs": [
    {
     "data": {
      "text/plain": [
       "50"
      ]
     },
     "execution_count": 261,
     "metadata": {},
     "output_type": "execute_result"
    }
   ],
   "source": [
    "# 작성일 수집\n",
    "comment_page_soup = bs(driver.page_source, 'lxml')\n",
    "comment_areas = comment_page_soup.find_all('li', 'u_cbox_comment')\n",
    "len(comment_areas)"
   ]
  },
  {
   "cell_type": "markdown",
   "metadata": {},
   "source": [
    "#### 날짜 수집"
   ]
  },
  {
   "cell_type": "code",
   "execution_count": 263,
   "metadata": {},
   "outputs": [],
   "source": [
    "# 날짜 수집\n",
    "date_list = []\n",
    "for one in comment_areas:\n",
    "    raw_date = one.find('span', 'u_cbox_date').attrs['data-value'].split('+')[0]\n",
    "    date = raw_date.replace('T',' ')\n",
    "    date_list.append(date)"
   ]
  },
  {
   "cell_type": "code",
   "execution_count": 264,
   "metadata": {},
   "outputs": [
    {
     "data": {
      "text/plain": [
       "50"
      ]
     },
     "execution_count": 264,
     "metadata": {},
     "output_type": "execute_result"
    }
   ],
   "source": [
    "len(date_list)"
   ]
  },
  {
   "cell_type": "code",
   "execution_count": 265,
   "metadata": {},
   "outputs": [
    {
     "data": {
      "text/plain": [
       "['2022-02-25 12:58:42',\n",
       " '2022-02-25 12:59:29',\n",
       " '2022-02-25 13:05:52',\n",
       " '2022-02-25 13:07:04',\n",
       " '2022-02-25 13:07:35']"
      ]
     },
     "execution_count": 265,
     "metadata": {},
     "output_type": "execute_result"
    }
   ],
   "source": [
    "date_list[:5]"
   ]
  },
  {
   "cell_type": "markdown",
   "metadata": {},
   "source": [
    "### 고유번호"
   ]
  },
  {
   "cell_type": "code",
   "execution_count": 266,
   "metadata": {},
   "outputs": [
    {
     "data": {
      "text/plain": [
       "50"
      ]
     },
     "execution_count": 266,
     "metadata": {},
     "output_type": "execute_result"
    }
   ],
   "source": [
    "# 고유번호\n",
    "comment_areas = comment_page_soup.find_all('li', 'u_cbox_comment')\n",
    "len(comment_areas)"
   ]
  },
  {
   "cell_type": "code",
   "execution_count": 268,
   "metadata": {},
   "outputs": [],
   "source": [
    "rare_number_list = []\n",
    "for one in comment_areas:\n",
    "    temp = one.attrs['class'][1].split('_')[-1]\n",
    "    rare_number_list.append(temp)"
   ]
  },
  {
   "cell_type": "code",
   "execution_count": 269,
   "metadata": {},
   "outputs": [
    {
     "data": {
      "text/plain": [
       "50"
      ]
     },
     "execution_count": 269,
     "metadata": {},
     "output_type": "execute_result"
    }
   ],
   "source": [
    "len(rare_number_list)"
   ]
  },
  {
   "cell_type": "code",
   "execution_count": 270,
   "metadata": {},
   "outputs": [
    {
     "data": {
      "text/plain": [
       "['750627914109682094',\n",
       " '750627965884170523',\n",
       " '750628376070324774',\n",
       " '750628453866274870',\n",
       " '750628486162415983']"
      ]
     },
     "execution_count": 270,
     "metadata": {},
     "output_type": "execute_result"
    }
   ],
   "source": [
    "rare_number_list[:5]"
   ]
  },
  {
   "cell_type": "markdown",
   "metadata": {},
   "source": [
    "### 답글 유무"
   ]
  },
  {
   "cell_type": "code",
   "execution_count": 271,
   "metadata": {},
   "outputs": [],
   "source": [
    "# 답글 구분\n",
    "check_reply_list = []\n",
    "comment_areas = comment_page_soup.find_all('li', 'u_cbox_comment')\n",
    "for one in comment_areas:\n",
    "    try:\n",
    "        temp = one.find('div', 'u_cbox_reply_area').find('li')\n",
    "        check_reply_list.append(nan)\n",
    "    except:\n",
    "        check_reply_list.append('답글')"
   ]
  },
  {
   "cell_type": "code",
   "execution_count": 272,
   "metadata": {},
   "outputs": [
    {
     "data": {
      "text/plain": [
       "50"
      ]
     },
     "execution_count": 272,
     "metadata": {},
     "output_type": "execute_result"
    }
   ],
   "source": [
    "len(check_reply_list)"
   ]
  },
  {
   "cell_type": "code",
   "execution_count": 273,
   "metadata": {},
   "outputs": [
    {
     "data": {
      "text/plain": [
       "[nan, nan, '답글', nan]"
      ]
     },
     "execution_count": 273,
     "metadata": {},
     "output_type": "execute_result"
    }
   ],
   "source": [
    "check_reply_list[42:46]"
   ]
  },
  {
   "cell_type": "markdown",
   "metadata": {},
   "source": [
    "### 닉네임"
   ]
  },
  {
   "cell_type": "code",
   "execution_count": 274,
   "metadata": {},
   "outputs": [
    {
     "data": {
      "text/plain": [
       "'문득'"
      ]
     },
     "execution_count": 274,
     "metadata": {},
     "output_type": "execute_result"
    }
   ],
   "source": [
    "# 닉네임\n",
    "comment_areas[0].find('span', 'u_cbox_nick').text"
   ]
  },
  {
   "cell_type": "code",
   "execution_count": 275,
   "metadata": {},
   "outputs": [],
   "source": [
    "# 닉네임\n",
    "nickname_list = []\n",
    "for one in comment_areas:\n",
    "    temp = one.find('span', 'u_cbox_nick').text\n",
    "    nickname_list.append(temp)"
   ]
  },
  {
   "cell_type": "code",
   "execution_count": 276,
   "metadata": {},
   "outputs": [
    {
     "data": {
      "text/plain": [
       "50"
      ]
     },
     "execution_count": 276,
     "metadata": {},
     "output_type": "execute_result"
    }
   ],
   "source": [
    "len(nickname_list)"
   ]
  },
  {
   "cell_type": "markdown",
   "metadata": {},
   "source": [
    "### 작성자 url"
   ]
  },
  {
   "cell_type": "code",
   "execution_count": 277,
   "metadata": {},
   "outputs": [
    {
     "data": {
      "text/plain": [
       "'https://blog.naver.com/ekdlskdl'"
      ]
     },
     "execution_count": 277,
     "metadata": {},
     "output_type": "execute_result"
    }
   ],
   "source": [
    "comment_areas[0].find('a', 'u_cbox_name').attrs['href']"
   ]
  },
  {
   "cell_type": "code",
   "execution_count": 278,
   "metadata": {},
   "outputs": [],
   "source": [
    "# 작성자 url\n",
    "writer_url_list = []\n",
    "for one in comment_areas:\n",
    "    temp = one.find('a', 'u_cbox_name').attrs['href']\n",
    "    writer_url_list.append(temp)"
   ]
  },
  {
   "cell_type": "code",
   "execution_count": 279,
   "metadata": {},
   "outputs": [
    {
     "data": {
      "text/plain": [
       "50"
      ]
     },
     "execution_count": 279,
     "metadata": {},
     "output_type": "execute_result"
    }
   ],
   "source": [
    "len(writer_url_list)"
   ]
  },
  {
   "cell_type": "code",
   "execution_count": 280,
   "metadata": {},
   "outputs": [
    {
     "data": {
      "text/plain": [
       "['https://blog.naver.com/ekdlskdl',\n",
       " 'https://blog.naver.com/blueday118',\n",
       " 'https://blog.naver.com/cdism',\n",
       " 'https://blog.naver.com/saypark3824',\n",
       " 'https://blog.naver.com/litvice']"
      ]
     },
     "execution_count": 280,
     "metadata": {},
     "output_type": "execute_result"
    }
   ],
   "source": [
    "writer_url_list[:5]"
   ]
  },
  {
   "cell_type": "markdown",
   "metadata": {},
   "source": [
    "### 공감수"
   ]
  },
  {
   "cell_type": "code",
   "execution_count": 281,
   "metadata": {},
   "outputs": [
    {
     "data": {
      "text/plain": [
       "<em class=\"u_cbox_cnt_recomm\">0</em>"
      ]
     },
     "execution_count": 281,
     "metadata": {},
     "output_type": "execute_result"
    }
   ],
   "source": [
    "comment_areas[0].find('em', 'u_cbox_cnt_recomm')"
   ]
  },
  {
   "cell_type": "code",
   "execution_count": 282,
   "metadata": {},
   "outputs": [
    {
     "data": {
      "text/plain": [
       "<em class=\"u_cbox_cnt_recomm\">1</em>"
      ]
     },
     "execution_count": 282,
     "metadata": {},
     "output_type": "execute_result"
    }
   ],
   "source": [
    "comment_areas[15].find('em', 'u_cbox_cnt_recomm')"
   ]
  },
  {
   "cell_type": "code",
   "execution_count": 283,
   "metadata": {},
   "outputs": [],
   "source": [
    "# 공감수\n",
    "like_num_list = []\n",
    "for one in comment_areas:\n",
    "    temp = int( one.find('em', 'u_cbox_cnt_recomm').text )\n",
    "    like_num_list.append(temp)"
   ]
  },
  {
   "cell_type": "code",
   "execution_count": 284,
   "metadata": {},
   "outputs": [
    {
     "data": {
      "text/plain": [
       "50"
      ]
     },
     "execution_count": 284,
     "metadata": {},
     "output_type": "execute_result"
    }
   ],
   "source": [
    "len(like_num_list)"
   ]
  },
  {
   "cell_type": "code",
   "execution_count": 285,
   "metadata": {},
   "outputs": [
    {
     "data": {
      "text/plain": [
       "[0, 0, 0, 0, 0, 0, 0, 0, 0, 0, 0, 0, 0, 0, 0, 1, 0]"
      ]
     },
     "execution_count": 285,
     "metadata": {},
     "output_type": "execute_result"
    }
   ],
   "source": [
    "like_num_list[:17]"
   ]
  },
  {
   "cell_type": "markdown",
   "metadata": {},
   "source": [
    "### 링크 수"
   ]
  },
  {
   "cell_type": "code",
   "execution_count": 286,
   "metadata": {},
   "outputs": [],
   "source": [
    "temp = comment_areas[1].find('span', 'u_cbox_contents').find_all('a', 'u_cbox_contents_link')"
   ]
  },
  {
   "cell_type": "code",
   "execution_count": 287,
   "metadata": {},
   "outputs": [
    {
     "data": {
      "text/plain": [
       "1"
      ]
     },
     "execution_count": 287,
     "metadata": {},
     "output_type": "execute_result"
    }
   ],
   "source": [
    "len(temp)"
   ]
  },
  {
   "cell_type": "code",
   "execution_count": 288,
   "metadata": {},
   "outputs": [],
   "source": [
    "# 링크 수\n",
    "link_num_list = []\n",
    "for one in comment_areas:\n",
    "    try:\n",
    "        temp = one.find('span', 'u_cbox_contents').find_all('a', 'u_cbox_contents_link')\n",
    "        link_num_list.append(len(temp))\n",
    "    except:\n",
    "        link_num_list.append(0)"
   ]
  },
  {
   "cell_type": "code",
   "execution_count": 289,
   "metadata": {},
   "outputs": [
    {
     "data": {
      "text/plain": [
       "50"
      ]
     },
     "execution_count": 289,
     "metadata": {},
     "output_type": "execute_result"
    }
   ],
   "source": [
    "len(link_num_list)"
   ]
  },
  {
   "cell_type": "code",
   "execution_count": 290,
   "metadata": {},
   "outputs": [
    {
     "data": {
      "text/plain": [
       "[0, 1, 1, 0, 0]"
      ]
     },
     "execution_count": 290,
     "metadata": {},
     "output_type": "execute_result"
    }
   ],
   "source": [
    "link_num_list[:5]"
   ]
  },
  {
   "cell_type": "markdown",
   "metadata": {},
   "source": [
    "### 답글 수"
   ]
  },
  {
   "cell_type": "code",
   "execution_count": 291,
   "metadata": {},
   "outputs": [],
   "source": [
    "# 답글 수\n",
    "reply_num_list = []\n",
    "comment_areas = comment_page_soup.find_all('li', 'u_cbox_comment')\n",
    "for one in comment_areas:\n",
    "    try:\n",
    "        temp = one.find('div', 'u_cbox_reply_area').find_all('li')\n",
    "        reply_num_list.append(len(temp))\n",
    "    except:\n",
    "        reply_num_list.append(0)"
   ]
  },
  {
   "cell_type": "code",
   "execution_count": 292,
   "metadata": {},
   "outputs": [
    {
     "data": {
      "text/plain": [
       "50"
      ]
     },
     "execution_count": 292,
     "metadata": {},
     "output_type": "execute_result"
    }
   ],
   "source": [
    "len(reply_num_list)"
   ]
  },
  {
   "cell_type": "code",
   "execution_count": 293,
   "metadata": {},
   "outputs": [
    {
     "data": {
      "text/plain": [
       "[0, 0, 0, 1, 0, 0, 0, 0, 0, 0]"
      ]
     },
     "execution_count": 293,
     "metadata": {},
     "output_type": "execute_result"
    }
   ],
   "source": [
    "reply_num_list[40:]"
   ]
  },
  {
   "cell_type": "markdown",
   "metadata": {},
   "source": [
    "### 첨부 이미지 url"
   ]
  },
  {
   "cell_type": "code",
   "execution_count": 295,
   "metadata": {},
   "outputs": [
    {
     "data": {
      "text/plain": [
       "'https://g-cbox.pstatic.net/MjAyMjAyMjVfMjI3/MDAxNjQ1NzY0Nzg1Nzc5.4Aik6uQJluqHVbOejCY3c0yD6ymr9-3tRXa2NKRhqj0g.rPXCcuxj9EurAnwifo4rMaH5ecqjswpDErs5aK-etpUg.JPEG/%EC%9D%B4%EC%9B%83.jpg?type=m250_375'"
      ]
     },
     "execution_count": 295,
     "metadata": {},
     "output_type": "execute_result"
    }
   ],
   "source": [
    "comment_areas[-12].find('div', 'u_cbox_image_section').find('img').attrs['src']"
   ]
  },
  {
   "cell_type": "code",
   "execution_count": 296,
   "metadata": {},
   "outputs": [],
   "source": [
    "# 첨부이미지url\n",
    "img_list = []\n",
    "for one in comment_areas:\n",
    "    try:\n",
    "        temp = one.find('div', 'u_cbox_image_section').find('img').attrs['src']\n",
    "    except:\n",
    "        temp = nan\n",
    "    img_list.append(temp)"
   ]
  },
  {
   "cell_type": "code",
   "execution_count": 297,
   "metadata": {},
   "outputs": [
    {
     "data": {
      "text/plain": [
       "50"
      ]
     },
     "execution_count": 297,
     "metadata": {},
     "output_type": "execute_result"
    }
   ],
   "source": [
    "len(img_list)"
   ]
  },
  {
   "cell_type": "code",
   "execution_count": 298,
   "metadata": {},
   "outputs": [
    {
     "data": {
      "text/plain": [
       "[nan,\n",
       " nan,\n",
       " nan,\n",
       " 'https://g-cbox.pstatic.net/MjAyMjAyMjVfNTkg/MDAxNjQ1NzYyMDIzMTAz.zYbPMIbcqg3naHrFiG08UNxF1L6pgXpcOS4pYY07e-4g.YrbJ92xB7nt_Ttro0W8o6m4m8MC7pP3u88had5wbO3og.JPEG/Screenshot_20220225-130602_NAVER.jpg?type=m250_375',\n",
       " nan,\n",
       " 'https://g-cbox.pstatic.net/MjAyMjAyMjVfMjc2/MDAxNjQ1NzYyMTc5OTQ2.k95tm-yLIwY8vDCuyRAu8DFqG1kOs13u3Oe1Chq19Mkg.jdCKRpfGR_XvgZfyozKYBv0S_hAG0Rw1wWPkk_wXtIsg.JPEG/Screenshot_20220225-130929_Naver_Blog.jpg?type=m250_375',\n",
       " nan,\n",
       " nan]"
      ]
     },
     "execution_count": 298,
     "metadata": {},
     "output_type": "execute_result"
    }
   ],
   "source": [
    "img_list[:8]"
   ]
  },
  {
   "cell_type": "markdown",
   "metadata": {},
   "source": [
    "### 내용"
   ]
  },
  {
   "cell_type": "code",
   "execution_count": 299,
   "metadata": {},
   "outputs": [
    {
     "data": {
      "text/plain": [
       "'정답 : 3번https://blog.naver.com/blueday118/222657507625@예림이야 @제임스혁'"
      ]
     },
     "execution_count": 299,
     "metadata": {},
     "output_type": "execute_result"
    }
   ],
   "source": [
    "comment_areas[1].find('span', 'u_cbox_contents').text"
   ]
  },
  {
   "cell_type": "code",
   "execution_count": 300,
   "metadata": {},
   "outputs": [
    {
     "data": {
      "text/plain": [
       "'정답 : 3번 https://blog.naver.com/blueday118/222657507625 @예림이야 @제임스혁'"
      ]
     },
     "execution_count": 300,
     "metadata": {},
     "output_type": "execute_result"
    }
   ],
   "source": [
    "comment_areas[1].find('span', 'u_cbox_contents').text.replace('@', ' @', 1).replace('http', ' http', 1)"
   ]
  },
  {
   "cell_type": "code",
   "execution_count": 301,
   "metadata": {},
   "outputs": [],
   "source": [
    "# 댓글 내용 수집\n",
    "comment_list = []\n",
    "for one in comment_areas:\n",
    "    temp = one.find('span', 'u_cbox_contents').text.replace('@', ' @', 1).replace('http', ' http', 1)\n",
    "    comment_list.append(temp)"
   ]
  },
  {
   "cell_type": "code",
   "execution_count": 302,
   "metadata": {},
   "outputs": [
    {
     "data": {
      "text/plain": [
       "50"
      ]
     },
     "execution_count": 302,
     "metadata": {},
     "output_type": "execute_result"
    }
   ],
   "source": [
    "len(comment_list)"
   ]
  },
  {
   "cell_type": "code",
   "execution_count": 303,
   "metadata": {},
   "outputs": [
    {
     "data": {
      "text/plain": [
       "['*정답: 3번 @해피쏭',\n",
       " '정답 : 3번 https://blog.naver.com/blueday118/222657507625 @예림이야 @제임스혁',\n",
       " '*정답: 3번  https://blog.naver.com/cdism  @란 @cdism',\n",
       " '정답 : 3번 입니다 @최준원 학생기자',\n",
       " '3번~~~^^']"
      ]
     },
     "execution_count": 303,
     "metadata": {},
     "output_type": "execute_result"
    }
   ],
   "source": [
    "comment_list[:5]"
   ]
  },
  {
   "cell_type": "markdown",
   "metadata": {},
   "source": [
    "### 페이지 이동 버튼 수집"
   ]
  },
  {
   "cell_type": "code",
   "execution_count": 324,
   "metadata": {},
   "outputs": [
    {
     "name": "stderr",
     "output_type": "stream",
     "text": [
      "C:\\Users\\kbjung\\AppData\\Local\\Temp/ipykernel_5300/2712388647.py:2: DeprecationWarning: find_elements_by_xpath is deprecated. Please use find_elements(by=By.XPATH, value=xpath) instead\n",
      "  page_buttons = driver.find_elements_by_xpath(f'//*[@id=\"naverComment_201_{page_info}\"]/div/div[4]/div/a')\n"
     ]
    }
   ],
   "source": [
    "# 페이지 이동 버튼 수집\n",
    "page_buttons = driver.find_elements_by_xpath(f'//*[@id=\"naverComment_201_{page_info}\"]/div/div[4]/div/a')\n",
    "\n",
    "page_list = []\n",
    "for one in page_buttons:\n",
    "    temp = one.text.replace('\\n', ' ')\n",
    "    page_list.append(temp)"
   ]
  },
  {
   "cell_type": "code",
   "execution_count": 314,
   "metadata": {},
   "outputs": [
    {
     "data": {
      "text/plain": [
       "['2', '3', '4', '5', '6', '7', '8', '9', '10', '다음 페이지 목록으로 이동하기', '']"
      ]
     },
     "execution_count": 314,
     "metadata": {},
     "output_type": "execute_result"
    }
   ],
   "source": [
    "page_list"
   ]
  },
  {
   "cell_type": "code",
   "execution_count": 315,
   "metadata": {},
   "outputs": [
    {
     "data": {
      "text/plain": [
       "['2', '3', '4', '5', '6', '7', '8', '9', '10']"
      ]
     },
     "execution_count": 315,
     "metadata": {},
     "output_type": "execute_result"
    }
   ],
   "source": [
    "page_list[:-2]"
   ]
  },
  {
   "cell_type": "code",
   "execution_count": 316,
   "metadata": {},
   "outputs": [
    {
     "data": {
      "text/plain": [
       "'2'"
      ]
     },
     "execution_count": 316,
     "metadata": {},
     "output_type": "execute_result"
    }
   ],
   "source": [
    "page_buttons[0].text"
   ]
  },
  {
   "cell_type": "code",
   "execution_count": 325,
   "metadata": {},
   "outputs": [],
   "source": [
    "page_buttons[0].click()\n",
    "driver.implicitly_wait(3)"
   ]
  },
  {
   "cell_type": "code",
   "execution_count": 326,
   "metadata": {},
   "outputs": [],
   "source": [
    "# 페이지 스크롤 다운\n",
    "for i in range(1):\n",
    "    driver.execute_script(\"window.scrollTo(0, document.body.scrollHeight);\")\n",
    "    driver.implicitly_wait(5)"
   ]
  },
  {
   "cell_type": "code",
   "execution_count": 327,
   "metadata": {},
   "outputs": [
    {
     "ename": "AttributeError",
     "evalue": "'NoneType' object has no attribute 'text'",
     "output_type": "error",
     "traceback": [
      "\u001b[1;31m---------------------------------------------------------------------------\u001b[0m",
      "\u001b[1;31mAttributeError\u001b[0m                            Traceback (most recent call last)",
      "\u001b[1;32m~\\AppData\\Local\\Temp/ipykernel_5300/2120506156.py\u001b[0m in \u001b[0;36m<module>\u001b[1;34m\u001b[0m\n\u001b[0;32m     26\u001b[0m \u001b[1;31m# 닉네임\u001b[0m\u001b[1;33m\u001b[0m\u001b[1;33m\u001b[0m\u001b[0m\n\u001b[0;32m     27\u001b[0m \u001b[1;32mfor\u001b[0m \u001b[0mone\u001b[0m \u001b[1;32min\u001b[0m \u001b[0mcomment_areas\u001b[0m\u001b[1;33m:\u001b[0m\u001b[1;33m\u001b[0m\u001b[1;33m\u001b[0m\u001b[0m\n\u001b[1;32m---> 28\u001b[1;33m     \u001b[0mtemp\u001b[0m \u001b[1;33m=\u001b[0m \u001b[0mone\u001b[0m\u001b[1;33m.\u001b[0m\u001b[0mfind\u001b[0m\u001b[1;33m(\u001b[0m\u001b[1;34m'span'\u001b[0m\u001b[1;33m,\u001b[0m \u001b[1;34m'u_cbox_nick'\u001b[0m\u001b[1;33m)\u001b[0m\u001b[1;33m.\u001b[0m\u001b[0mtext\u001b[0m\u001b[1;33m\u001b[0m\u001b[1;33m\u001b[0m\u001b[0m\n\u001b[0m\u001b[0;32m     29\u001b[0m     \u001b[0mnickname_list\u001b[0m\u001b[1;33m.\u001b[0m\u001b[0mappend\u001b[0m\u001b[1;33m(\u001b[0m\u001b[0mtemp\u001b[0m\u001b[1;33m)\u001b[0m\u001b[1;33m\u001b[0m\u001b[1;33m\u001b[0m\u001b[0m\n\u001b[0;32m     30\u001b[0m \u001b[1;33m\u001b[0m\u001b[0m\n",
      "\u001b[1;31mAttributeError\u001b[0m: 'NoneType' object has no attribute 'text'"
     ]
    }
   ],
   "source": [
    "# 페이지 수프에 담기\n",
    "comment_page_soup = bs(driver.page_source, 'lxml')\n",
    "\n",
    "# 작성일 수집\n",
    "comment_page_soup = bs(driver.page_source, 'lxml')\n",
    "comment_areas = comment_page_soup.find_all('li', 'u_cbox_comment')\n",
    "\n",
    "# 날짜 수집\n",
    "for one in comment_areas:\n",
    "    raw_date = one.find('span', 'u_cbox_date').attrs['data-value'].split('+')[0]\n",
    "    date = raw_date.replace('T',' ')\n",
    "    date_list.append(date)\n",
    "\n",
    "# 고유번호\n",
    "for one in comment_areas:\n",
    "    temp = one.attrs['class'][1].split('_')[-1]\n",
    "    rare_number_list.append(temp)\n",
    "# 답글 구분\n",
    "for one in comment_areas:\n",
    "    try:\n",
    "        temp = one.find('div', 'u_cbox_reply_area').find('li')\n",
    "        check_reply_list.append(nan)\n",
    "    except:\n",
    "        check_reply_list.append('답글')\n",
    "\n",
    "# 닉네임\n",
    "for one in comment_areas:\n",
    "    temp = one.find('span', 'u_cbox_nick').text\n",
    "    nickname_list.append(temp)\n",
    "\n",
    "# 작성자 url\n",
    "for one in comment_areas:\n",
    "    temp = one.find('a', 'u_cbox_name').attrs['href']\n",
    "    writer_url_list.append(temp)\n",
    "\n",
    "# 공감수\n",
    "for one in comment_areas:\n",
    "    temp = int( one.find('em', 'u_cbox_cnt_recomm').text )\n",
    "    like_num_list.append(temp)\n",
    "\n",
    "# 링크 수\n",
    "for one in comment_areas:\n",
    "    try:\n",
    "        temp = one.find('span', 'u_cbox_contents').find_all('a', 'u_cbox_contents_link')\n",
    "        link_num_list.append(len(temp))\n",
    "    except:\n",
    "        link_num_list.append(0)\n",
    "\n",
    "# 답글 수\n",
    "for one in comment_areas:\n",
    "    try:\n",
    "        temp = one.find('div', 'u_cbox_reply_area').find_all('li')\n",
    "        reply_num_list.append(len(temp))\n",
    "    except:\n",
    "        reply_num_list.append(0)\n",
    "\n",
    "# 첨부이미지url\n",
    "for one in comment_areas:\n",
    "    try:\n",
    "        temp = one.find('div', 'u_cbox_image_section').find('img').attrs['src']\n",
    "    except:\n",
    "        temp = nan\n",
    "    img_list.append(temp)\n",
    "\n",
    "# 댓글 내용 수집\n",
    "for one in comment_areas:\n",
    "    temp = one.find('span', 'u_cbox_contents').text.replace('@', ' @', 1).replace('http', ' http', 1)\n",
    "    comment_list.append(temp)"
   ]
  },
  {
   "cell_type": "markdown",
   "metadata": {},
   "source": [
    "## 다음 페이지 이동"
   ]
  },
  {
   "cell_type": "code",
   "execution_count": 307,
   "metadata": {},
   "outputs": [
    {
     "data": {
      "text/plain": [
       "'다음\\n페이지 목록으로 이동하기'"
      ]
     },
     "execution_count": 307,
     "metadata": {},
     "output_type": "execute_result"
    }
   ],
   "source": [
    "page_buttons[-2].click()"
   ]
  },
  {
   "cell_type": "markdown",
   "metadata": {},
   "source": [
    "## 함수화"
   ]
  },
  {
   "cell_type": "code",
   "execution_count": null,
   "metadata": {},
   "outputs": [],
   "source": []
  },
  {
   "cell_type": "markdown",
   "metadata": {},
   "source": [
    "## 수집한 데이터 확인"
   ]
  },
  {
   "cell_type": "code",
   "execution_count": 194,
   "metadata": {},
   "outputs": [
    {
     "name": "stdout",
     "output_type": "stream",
     "text": [
      "작성일 리스트 길이 :  50\n",
      "고유번호 리스트 길이 :  50\n",
      "답글구분 리스트 길이 :  50\n",
      "닉네임 리스트 길이 :  50\n",
      "작성자URL 리스트 길이 :  50\n",
      "공감수 리스트 길이 :  50\n",
      "링크수 리스트 길이 :  50\n",
      "답글수 리스트 길이 :  50\n",
      "첨부이미지URL 리스트 길이 :  50\n",
      "내용 리스트 길이 :  50\n"
     ]
    }
   ],
   "source": [
    "print('작성일 리스트 길이 : ', len(date_list))\n",
    "print('고유번호 리스트 길이 : ', len(rare_number_list))\n",
    "print('답글구분 리스트 길이 : ', len(check_reply_list))\n",
    "print('닉네임 리스트 길이 : ', len(nickname_list))\n",
    "print('작성자URL 리스트 길이 : ', len(writer_url_list))\n",
    "print('공감수 리스트 길이 : ', len(like_num_list))\n",
    "print('링크수 리스트 길이 : ', len(link_num_list))\n",
    "print('답글수 리스트 길이 : ', len(reply_num_list))\n",
    "print('첨부이미지URL 리스트 길이 : ', len(img_list))\n",
    "print('내용 리스트 길이 : ', len(comment_list))"
   ]
  },
  {
   "cell_type": "markdown",
   "metadata": {},
   "source": [
    "## df 만들기"
   ]
  },
  {
   "cell_type": "code",
   "execution_count": 192,
   "metadata": {},
   "outputs": [],
   "source": [
    "dict = {'작성일':date_list, '고유번호':rare_number_list, \n",
    "        '답글구분':check_reply_list, '닉네임':nickname_list, \n",
    "        '작성자URL':writer_url_list, '공감수':like_num_list, \n",
    "        '링크수':link_num_list, '답글수':reply_num_list, \n",
    "        '첨부이미지URL':img_list, '내용':comment_list}\n",
    "df = pd.DataFrame(dict)"
   ]
  },
  {
   "cell_type": "code",
   "execution_count": 193,
   "metadata": {},
   "outputs": [
    {
     "data": {
      "text/html": [
       "<div>\n",
       "<style scoped>\n",
       "    .dataframe tbody tr th:only-of-type {\n",
       "        vertical-align: middle;\n",
       "    }\n",
       "\n",
       "    .dataframe tbody tr th {\n",
       "        vertical-align: top;\n",
       "    }\n",
       "\n",
       "    .dataframe thead th {\n",
       "        text-align: right;\n",
       "    }\n",
       "</style>\n",
       "<table border=\"1\" class=\"dataframe\">\n",
       "  <thead>\n",
       "    <tr style=\"text-align: right;\">\n",
       "      <th></th>\n",
       "      <th>작성일</th>\n",
       "      <th>고유번호</th>\n",
       "      <th>답글구분</th>\n",
       "      <th>닉네임</th>\n",
       "      <th>작성자URL</th>\n",
       "      <th>공감수</th>\n",
       "      <th>링크수</th>\n",
       "      <th>답글수</th>\n",
       "      <th>첨부이미지URL</th>\n",
       "      <th>내용</th>\n",
       "    </tr>\n",
       "  </thead>\n",
       "  <tbody>\n",
       "    <tr>\n",
       "      <th>0</th>\n",
       "      <td>2022-02-25 오후 12:58:42</td>\n",
       "      <td>750627914109682094</td>\n",
       "      <td>NaN</td>\n",
       "      <td>문득</td>\n",
       "      <td>문득</td>\n",
       "      <td>0</td>\n",
       "      <td>0</td>\n",
       "      <td>0</td>\n",
       "      <td>NaN</td>\n",
       "      <td>*정답: 3번 @해피쏭</td>\n",
       "    </tr>\n",
       "    <tr>\n",
       "      <th>1</th>\n",
       "      <td>2022-02-25 오후 12:59:29</td>\n",
       "      <td>750627965884170523</td>\n",
       "      <td>NaN</td>\n",
       "      <td>푸른하늘현</td>\n",
       "      <td>푸른하늘현</td>\n",
       "      <td>0</td>\n",
       "      <td>1</td>\n",
       "      <td>0</td>\n",
       "      <td>NaN</td>\n",
       "      <td>정답 : 3번 https://blog.naver.com/blueday118/2226...</td>\n",
       "    </tr>\n",
       "    <tr>\n",
       "      <th>2</th>\n",
       "      <td>2022-02-25 오후 1:05:52</td>\n",
       "      <td>750628376070324774</td>\n",
       "      <td>NaN</td>\n",
       "      <td>란</td>\n",
       "      <td>란</td>\n",
       "      <td>0</td>\n",
       "      <td>1</td>\n",
       "      <td>0</td>\n",
       "      <td>NaN</td>\n",
       "      <td>*정답: 3번  https://blog.naver.com/cdism  @란 @cdism</td>\n",
       "    </tr>\n",
       "    <tr>\n",
       "      <th>3</th>\n",
       "      <td>2022-02-25 오후 1:07:04</td>\n",
       "      <td>750628453866274870</td>\n",
       "      <td>NaN</td>\n",
       "      <td>saypark3824</td>\n",
       "      <td>saypark3824</td>\n",
       "      <td>0</td>\n",
       "      <td>0</td>\n",
       "      <td>0</td>\n",
       "      <td>https://g-cbox.pstatic.net/MjAyMjAyMjVfNTkg/MD...</td>\n",
       "      <td>정답 : 3번 입니다 @최준원 학생기자</td>\n",
       "    </tr>\n",
       "    <tr>\n",
       "      <th>4</th>\n",
       "      <td>2022-02-25 오후 1:07:35</td>\n",
       "      <td>750628486162415983</td>\n",
       "      <td>NaN</td>\n",
       "      <td>리체</td>\n",
       "      <td>리체</td>\n",
       "      <td>0</td>\n",
       "      <td>0</td>\n",
       "      <td>0</td>\n",
       "      <td>NaN</td>\n",
       "      <td>3번~~~^^</td>\n",
       "    </tr>\n",
       "    <tr>\n",
       "      <th>5</th>\n",
       "      <td>2022-02-25 오후 1:08:43</td>\n",
       "      <td>750628559529181617</td>\n",
       "      <td>NaN</td>\n",
       "      <td>설향맘</td>\n",
       "      <td>설향맘</td>\n",
       "      <td>0</td>\n",
       "      <td>1</td>\n",
       "      <td>0</td>\n",
       "      <td>https://g-cbox.pstatic.net/MjAyMjAyMjVfMjc2/MD...</td>\n",
       "      <td>🔅 정답 : 3번 https://m.blog.naver.com/hyss9744/22...</td>\n",
       "    </tr>\n",
       "    <tr>\n",
       "      <th>6</th>\n",
       "      <td>2022-02-25 오후 1:09:04</td>\n",
       "      <td>750628581574443036</td>\n",
       "      <td>NaN</td>\n",
       "      <td>투르크</td>\n",
       "      <td>투르크</td>\n",
       "      <td>0</td>\n",
       "      <td>0</td>\n",
       "      <td>0</td>\n",
       "      <td>NaN</td>\n",
       "      <td>정답 3번  @soolheart @대박이유</td>\n",
       "    </tr>\n",
       "    <tr>\n",
       "      <th>7</th>\n",
       "      <td>2022-02-25 오후 1:09:16</td>\n",
       "      <td>750628594727780502</td>\n",
       "      <td>NaN</td>\n",
       "      <td>kawaii</td>\n",
       "      <td>kawaii</td>\n",
       "      <td>0</td>\n",
       "      <td>0</td>\n",
       "      <td>0</td>\n",
       "      <td>NaN</td>\n",
       "      <td>정답 3번 @청춘</td>\n",
       "    </tr>\n",
       "    <tr>\n",
       "      <th>8</th>\n",
       "      <td>2022-02-25 오후 1:11:36</td>\n",
       "      <td>750628745152299355</td>\n",
       "      <td>NaN</td>\n",
       "      <td>UD</td>\n",
       "      <td>UD</td>\n",
       "      <td>0</td>\n",
       "      <td>0</td>\n",
       "      <td>0</td>\n",
       "      <td>NaN</td>\n",
       "      <td>정답 : 3번</td>\n",
       "    </tr>\n",
       "    <tr>\n",
       "      <th>9</th>\n",
       "      <td>2022-02-25 오후 1:14:13</td>\n",
       "      <td>750628913226449023</td>\n",
       "      <td>NaN</td>\n",
       "      <td>치즈닭강정</td>\n",
       "      <td>치즈닭강정</td>\n",
       "      <td>0</td>\n",
       "      <td>0</td>\n",
       "      <td>0</td>\n",
       "      <td>NaN</td>\n",
       "      <td>정답 3번  @jjyysun @라일락홀릭 @뚱커벨</td>\n",
       "    </tr>\n",
       "    <tr>\n",
       "      <th>10</th>\n",
       "      <td>2022-02-25 오후 1:15:24</td>\n",
       "      <td>750628989579559137</td>\n",
       "      <td>NaN</td>\n",
       "      <td>여 백</td>\n",
       "      <td>여 백</td>\n",
       "      <td>0</td>\n",
       "      <td>1</td>\n",
       "      <td>0</td>\n",
       "      <td>NaN</td>\n",
       "      <td>정답 : 3번소통과 공감으로 시민과 함께 동행하는 인천광역시의회를 응원합니다~~!!...</td>\n",
       "    </tr>\n",
       "    <tr>\n",
       "      <th>11</th>\n",
       "      <td>2022-02-25 오후 1:17:13</td>\n",
       "      <td>750629106718081168</td>\n",
       "      <td>NaN</td>\n",
       "      <td>상현홀릭</td>\n",
       "      <td>상현홀릭</td>\n",
       "      <td>0</td>\n",
       "      <td>1</td>\n",
       "      <td>0</td>\n",
       "      <td>https://g-cbox.pstatic.net/MjAyMjAyMjVfMjM1/MD...</td>\n",
       "      <td>정답은 3번 입니다!인천광역시의회 블로그 이웃신청완료 @yanoxcha @bigkk...</td>\n",
       "    </tr>\n",
       "    <tr>\n",
       "      <th>12</th>\n",
       "      <td>2022-02-25 오후 1:18:12</td>\n",
       "      <td>750629170656051312</td>\n",
       "      <td>NaN</td>\n",
       "      <td>junojuno</td>\n",
       "      <td>junojuno</td>\n",
       "      <td>0</td>\n",
       "      <td>0</td>\n",
       "      <td>0</td>\n",
       "      <td>NaN</td>\n",
       "      <td>정답 3번기존 이웃입니다~ @yunayuna</td>\n",
       "    </tr>\n",
       "    <tr>\n",
       "      <th>13</th>\n",
       "      <td>2022-02-25 오후 1:18:33</td>\n",
       "      <td>750629193691169091</td>\n",
       "      <td>NaN</td>\n",
       "      <td>ghd3578</td>\n",
       "      <td>ghd3578</td>\n",
       "      <td>0</td>\n",
       "      <td>1</td>\n",
       "      <td>0</td>\n",
       "      <td>NaN</td>\n",
       "      <td>정답: 3번이웃,공유,공감 완료!  @ghdwodlf42 @wkemfh 함께 참여해...</td>\n",
       "    </tr>\n",
       "    <tr>\n",
       "      <th>14</th>\n",
       "      <td>2022-02-25 오후 1:20:37</td>\n",
       "      <td>750629326533165421</td>\n",
       "      <td>NaN</td>\n",
       "      <td>청춘</td>\n",
       "      <td>청춘</td>\n",
       "      <td>0</td>\n",
       "      <td>1</td>\n",
       "      <td>0</td>\n",
       "      <td>NaN</td>\n",
       "      <td>정답  3번 https://m.blog.naver.com/icouncil103/22...</td>\n",
       "    </tr>\n",
       "    <tr>\n",
       "      <th>15</th>\n",
       "      <td>2022-02-25 오후 1:24:48</td>\n",
       "      <td>750629596562457061</td>\n",
       "      <td>NaN</td>\n",
       "      <td>CHOICE</td>\n",
       "      <td>CHOICE</td>\n",
       "      <td>1</td>\n",
       "      <td>0</td>\n",
       "      <td>0</td>\n",
       "      <td>NaN</td>\n",
       "      <td>정답은 3번 입니다. @abcjys 함께 참여하자^_^</td>\n",
       "    </tr>\n",
       "    <tr>\n",
       "      <th>16</th>\n",
       "      <td>2022-02-25 오후 1:26:32</td>\n",
       "      <td>750629708298715440</td>\n",
       "      <td>NaN</td>\n",
       "      <td>abcjys</td>\n",
       "      <td>abcjys</td>\n",
       "      <td>0</td>\n",
       "      <td>0</td>\n",
       "      <td>0</td>\n",
       "      <td>NaN</td>\n",
       "      <td>정답: 3번 @사과쪼아 @강냉이한입 함께 참여해♡</td>\n",
       "    </tr>\n",
       "    <tr>\n",
       "      <th>17</th>\n",
       "      <td>2022-02-25 오후 1:28:58</td>\n",
       "      <td>750629863722844725</td>\n",
       "      <td>NaN</td>\n",
       "      <td>발그레솜사탕</td>\n",
       "      <td>발그레솜사탕</td>\n",
       "      <td>0</td>\n",
       "      <td>0</td>\n",
       "      <td>0</td>\n",
       "      <td>NaN</td>\n",
       "      <td>3번</td>\n",
       "    </tr>\n",
       "    <tr>\n",
       "      <th>18</th>\n",
       "      <td>2022-02-25 오후 1:29:34</td>\n",
       "      <td>750629903686172998</td>\n",
       "      <td>NaN</td>\n",
       "      <td>오니닝</td>\n",
       "      <td>오니닝</td>\n",
       "      <td>0</td>\n",
       "      <td>0</td>\n",
       "      <td>0</td>\n",
       "      <td>NaN</td>\n",
       "      <td>정답: 3번</td>\n",
       "    </tr>\n",
       "    <tr>\n",
       "      <th>19</th>\n",
       "      <td>2022-02-25 오후 1:30:07</td>\n",
       "      <td>750629937811030077</td>\n",
       "      <td>NaN</td>\n",
       "      <td>익구</td>\n",
       "      <td>익구</td>\n",
       "      <td>0</td>\n",
       "      <td>1</td>\n",
       "      <td>0</td>\n",
       "      <td>NaN</td>\n",
       "      <td>정답 : 3번 https://blog.naver.com/qlsvhf98/222657...</td>\n",
       "    </tr>\n",
       "    <tr>\n",
       "      <th>20</th>\n",
       "      <td>2022-02-25 오후 1:30:47</td>\n",
       "      <td>750629981297574315</td>\n",
       "      <td>NaN</td>\n",
       "      <td>즐라탄</td>\n",
       "      <td>즐라탄</td>\n",
       "      <td>0</td>\n",
       "      <td>0</td>\n",
       "      <td>0</td>\n",
       "      <td>NaN</td>\n",
       "      <td>3번 입니다</td>\n",
       "    </tr>\n",
       "    <tr>\n",
       "      <th>21</th>\n",
       "      <td>2022-02-25 오후 1:30:49</td>\n",
       "      <td>750629983881265650</td>\n",
       "      <td>NaN</td>\n",
       "      <td>푸른바다</td>\n",
       "      <td>푸른바다</td>\n",
       "      <td>0</td>\n",
       "      <td>1</td>\n",
       "      <td>0</td>\n",
       "      <td>NaN</td>\n",
       "      <td>정답- 3번 기존이웃, 좋아요, 공유 완료 앞으로도 응원하겠습니다  @코코아 @케이...</td>\n",
       "    </tr>\n",
       "    <tr>\n",
       "      <th>22</th>\n",
       "      <td>2022-02-25 오후 1:32:16</td>\n",
       "      <td>750630077733011647</td>\n",
       "      <td>NaN</td>\n",
       "      <td>핑크고스트</td>\n",
       "      <td>핑크고스트</td>\n",
       "      <td>0</td>\n",
       "      <td>1</td>\n",
       "      <td>0</td>\n",
       "      <td>NaN</td>\n",
       "      <td>정답:3번  https://m.blog.naver.com/choc0pick/2226...</td>\n",
       "    </tr>\n",
       "    <tr>\n",
       "      <th>23</th>\n",
       "      <td>2022-02-25 오후 1:33:02</td>\n",
       "      <td>750630125447413776</td>\n",
       "      <td>NaN</td>\n",
       "      <td>위시위스퍼</td>\n",
       "      <td>위시위스퍼</td>\n",
       "      <td>0</td>\n",
       "      <td>1</td>\n",
       "      <td>0</td>\n",
       "      <td>NaN</td>\n",
       "      <td>정답 3번다양하고 재밋는 이야기들로 많은 분들이 소통하는 곳이 되면 좋겟어요~!블로...</td>\n",
       "    </tr>\n",
       "    <tr>\n",
       "      <th>24</th>\n",
       "      <td>2022-02-25 오후 1:34:32</td>\n",
       "      <td>750630223896117546</td>\n",
       "      <td>NaN</td>\n",
       "      <td>화치</td>\n",
       "      <td>화치</td>\n",
       "      <td>0</td>\n",
       "      <td>1</td>\n",
       "      <td>0</td>\n",
       "      <td>NaN</td>\n",
       "      <td>공감 / 공유완료 https://blog.naver.com/jcw5595정답 : 3...</td>\n",
       "    </tr>\n",
       "    <tr>\n",
       "      <th>25</th>\n",
       "      <td>2022-02-25 오후 1:36:27</td>\n",
       "      <td>750630347141546238</td>\n",
       "      <td>NaN</td>\n",
       "      <td>카스텔라</td>\n",
       "      <td>카스텔라</td>\n",
       "      <td>0</td>\n",
       "      <td>0</td>\n",
       "      <td>0</td>\n",
       "      <td>NaN</td>\n",
       "      <td>정답 3번</td>\n",
       "    </tr>\n",
       "    <tr>\n",
       "      <th>26</th>\n",
       "      <td>2022-02-25 오후 1:41:16</td>\n",
       "      <td>750630657369047204</td>\n",
       "      <td>NaN</td>\n",
       "      <td>베스트초이</td>\n",
       "      <td>베스트초이</td>\n",
       "      <td>0</td>\n",
       "      <td>1</td>\n",
       "      <td>0</td>\n",
       "      <td>NaN</td>\n",
       "      <td>정답 : [ 3번 ]인천광역시의회가 앞으로도 인천시의 발전과 인천시민의 보다 나은 ...</td>\n",
       "    </tr>\n",
       "    <tr>\n",
       "      <th>27</th>\n",
       "      <td>2022-02-25 오후 1:41:27</td>\n",
       "      <td>750630669482197253</td>\n",
       "      <td>NaN</td>\n",
       "      <td>초콜릿</td>\n",
       "      <td>초콜릿</td>\n",
       "      <td>0</td>\n",
       "      <td>1</td>\n",
       "      <td>0</td>\n",
       "      <td>NaN</td>\n",
       "      <td>정답 : 3번서로이웃,공감,공유 모두 완료했습니다!! https://m.blog.n...</td>\n",
       "    </tr>\n",
       "    <tr>\n",
       "      <th>28</th>\n",
       "      <td>2022-02-25 오후 1:43:37</td>\n",
       "      <td>750630807407690092</td>\n",
       "      <td>NaN</td>\n",
       "      <td>쿠키</td>\n",
       "      <td>쿠키</td>\n",
       "      <td>0</td>\n",
       "      <td>1</td>\n",
       "      <td>0</td>\n",
       "      <td>NaN</td>\n",
       "      <td>정답 : 3번 https://m.blog.naver.com/cukimons/2226...</td>\n",
       "    </tr>\n",
       "    <tr>\n",
       "      <th>29</th>\n",
       "      <td>2022-02-25 오후 1:44:19</td>\n",
       "      <td>750630853360484535</td>\n",
       "      <td>NaN</td>\n",
       "      <td>모닝글로리</td>\n",
       "      <td>모닝글로리</td>\n",
       "      <td>0</td>\n",
       "      <td>1</td>\n",
       "      <td>0</td>\n",
       "      <td>NaN</td>\n",
       "      <td>정답:3번공감.공유합니다  https://m.blog.naver.com/ohcarr...</td>\n",
       "    </tr>\n",
       "    <tr>\n",
       "      <th>30</th>\n",
       "      <td>2022-02-25 오후 1:45:32</td>\n",
       "      <td>750630931793969466</td>\n",
       "      <td>NaN</td>\n",
       "      <td>내사랑 스쿠비두</td>\n",
       "      <td>내사랑 스쿠비두</td>\n",
       "      <td>0</td>\n",
       "      <td>1</td>\n",
       "      <td>0</td>\n",
       "      <td>NaN</td>\n",
       "      <td>정답 : 3번 https://blog.naver.com/lilyzzz/2226575...</td>\n",
       "    </tr>\n",
       "    <tr>\n",
       "      <th>31</th>\n",
       "      <td>2022-02-25 오후 1:46:18</td>\n",
       "      <td>750630980884103329</td>\n",
       "      <td>NaN</td>\n",
       "      <td>새옹지마</td>\n",
       "      <td>새옹지마</td>\n",
       "      <td>0</td>\n",
       "      <td>0</td>\n",
       "      <td>0</td>\n",
       "      <td>NaN</td>\n",
       "      <td>정답 3번 @hagija77</td>\n",
       "    </tr>\n",
       "    <tr>\n",
       "      <th>32</th>\n",
       "      <td>2022-02-25 오후 1:46:38</td>\n",
       "      <td>750631002392494454</td>\n",
       "      <td>NaN</td>\n",
       "      <td>우리다니</td>\n",
       "      <td>우리다니</td>\n",
       "      <td>0</td>\n",
       "      <td>1</td>\n",
       "      <td>0</td>\n",
       "      <td>NaN</td>\n",
       "      <td>정답 3번이요^^이웃추가 완료, 공감, 공유 완료했어요! https://m.blog...</td>\n",
       "    </tr>\n",
       "    <tr>\n",
       "      <th>33</th>\n",
       "      <td>2022-02-25 오후 1:46:47</td>\n",
       "      <td>750631012710482397</td>\n",
       "      <td>NaN</td>\n",
       "      <td>겸손한부자</td>\n",
       "      <td>겸손한부자</td>\n",
       "      <td>0</td>\n",
       "      <td>0</td>\n",
       "      <td>0</td>\n",
       "      <td>NaN</td>\n",
       "      <td>[정답] 3번 기존 서로이웃 입니다.</td>\n",
       "    </tr>\n",
       "    <tr>\n",
       "      <th>34</th>\n",
       "      <td>2022-02-25 오후 1:46:59</td>\n",
       "      <td>750631025008181838</td>\n",
       "      <td>NaN</td>\n",
       "      <td>leejotech</td>\n",
       "      <td>leejotech</td>\n",
       "      <td>0</td>\n",
       "      <td>0</td>\n",
       "      <td>0</td>\n",
       "      <td>NaN</td>\n",
       "      <td>정답3번   @IBS</td>\n",
       "    </tr>\n",
       "    <tr>\n",
       "      <th>35</th>\n",
       "      <td>2022-02-25 오후 1:48:00</td>\n",
       "      <td>750631090321883876</td>\n",
       "      <td>NaN</td>\n",
       "      <td>사과향기</td>\n",
       "      <td>사과향기</td>\n",
       "      <td>1</td>\n",
       "      <td>1</td>\n",
       "      <td>0</td>\n",
       "      <td>NaN</td>\n",
       "      <td>정답: 3번좋은 내용 감사합니다 블로그 이웃추가 공감 공유 했습니다  https:/...</td>\n",
       "    </tr>\n",
       "    <tr>\n",
       "      <th>36</th>\n",
       "      <td>2022-02-25 오후 1:49:25</td>\n",
       "      <td>750631182428799719</td>\n",
       "      <td>NaN</td>\n",
       "      <td>정그링</td>\n",
       "      <td>정그링</td>\n",
       "      <td>1</td>\n",
       "      <td>1</td>\n",
       "      <td>0</td>\n",
       "      <td>NaN</td>\n",
       "      <td>정답 : 3번 https://blog.naver.com/rlawjdrms369/22...</td>\n",
       "    </tr>\n",
       "    <tr>\n",
       "      <th>37</th>\n",
       "      <td>2022-02-25 오후 1:52:34</td>\n",
       "      <td>750631384426480480</td>\n",
       "      <td>NaN</td>\n",
       "      <td>aktoskf</td>\n",
       "      <td>aktoskf</td>\n",
       "      <td>0</td>\n",
       "      <td>1</td>\n",
       "      <td>0</td>\n",
       "      <td>NaN</td>\n",
       "      <td>정답:3번좋은내용 감사드리며 인천광역시의회 앞으로도 좋은소식과 정보로 많은사람 받길...</td>\n",
       "    </tr>\n",
       "    <tr>\n",
       "      <th>38</th>\n",
       "      <td>2022-02-25 오후 1:53:07</td>\n",
       "      <td>750631419323089057</td>\n",
       "      <td>NaN</td>\n",
       "      <td>샤샤</td>\n",
       "      <td>샤샤</td>\n",
       "      <td>0</td>\n",
       "      <td>0</td>\n",
       "      <td>0</td>\n",
       "      <td>https://g-cbox.pstatic.net/MjAyMjAyMjVfMjI3/MD...</td>\n",
       "      <td>★정답★ 3번이웃추가 완료!ㅎㅎ</td>\n",
       "    </tr>\n",
       "    <tr>\n",
       "      <th>39</th>\n",
       "      <td>2022-02-25 오후 1:55:45</td>\n",
       "      <td>750631590954009746</td>\n",
       "      <td>NaN</td>\n",
       "      <td>고래고래</td>\n",
       "      <td>고래고래</td>\n",
       "      <td>0</td>\n",
       "      <td>1</td>\n",
       "      <td>0</td>\n",
       "      <td>NaN</td>\n",
       "      <td>정답은 3번 ^^이웃추가, 공감 했습니다! https://m.blog.naver.c...</td>\n",
       "    </tr>\n",
       "    <tr>\n",
       "      <th>40</th>\n",
       "      <td>2022-02-25 오후 1:58:19</td>\n",
       "      <td>750631754666082744</td>\n",
       "      <td>NaN</td>\n",
       "      <td>gguggu35</td>\n",
       "      <td>gguggu35</td>\n",
       "      <td>0</td>\n",
       "      <td>0</td>\n",
       "      <td>0</td>\n",
       "      <td>NaN</td>\n",
       "      <td>정답은 3번입니다!이웃추가했어요</td>\n",
       "    </tr>\n",
       "    <tr>\n",
       "      <th>41</th>\n",
       "      <td>2022-02-25 오후 1:58:58</td>\n",
       "      <td>750631798035187005</td>\n",
       "      <td>NaN</td>\n",
       "      <td>네마리집사</td>\n",
       "      <td>네마리집사</td>\n",
       "      <td>0</td>\n",
       "      <td>1</td>\n",
       "      <td>0</td>\n",
       "      <td>NaN</td>\n",
       "      <td>정답 : 3번기존이웃, 공감+공유완료 https://blog.naver.com/c8...</td>\n",
       "    </tr>\n",
       "    <tr>\n",
       "      <th>42</th>\n",
       "      <td>2022-02-25 오후 1:59:12</td>\n",
       "      <td>750631812748804363</td>\n",
       "      <td>NaN</td>\n",
       "      <td>승희맘</td>\n",
       "      <td>승희맘</td>\n",
       "      <td>0</td>\n",
       "      <td>0</td>\n",
       "      <td>0</td>\n",
       "      <td>https://g-cbox.pstatic.net/MjAyMjAyMjVfMjkz/MD...</td>\n",
       "      <td>정답: 3번!</td>\n",
       "    </tr>\n",
       "    <tr>\n",
       "      <th>43</th>\n",
       "      <td>2022-02-25 오후 2:00:31</td>\n",
       "      <td>750631896383226585</td>\n",
       "      <td>NaN</td>\n",
       "      <td>요니이</td>\n",
       "      <td>요니이</td>\n",
       "      <td>0</td>\n",
       "      <td>0</td>\n",
       "      <td>1</td>\n",
       "      <td>https://g-cbox.pstatic.net/MjAyMjAyMjVfMTQ0/MD...</td>\n",
       "      <td>정답은 3번 입니다.인스타그램 팔로우하고 유익한 콘텐츠들 봐왔었는데, 인천광역시의회...</td>\n",
       "    </tr>\n",
       "    <tr>\n",
       "      <th>44</th>\n",
       "      <td>2022-02-25 오후 2:01:00</td>\n",
       "      <td>750631927655957853</td>\n",
       "      <td>답글</td>\n",
       "      <td>요니이</td>\n",
       "      <td>요니이</td>\n",
       "      <td>0</td>\n",
       "      <td>0</td>\n",
       "      <td>0</td>\n",
       "      <td>https://g-cbox.pstatic.net/MjAyMjAyMjVfMTQ0/MD...</td>\n",
       "      <td></td>\n",
       "    </tr>\n",
       "    <tr>\n",
       "      <th>45</th>\n",
       "      <td>2022-02-25 오후 2:00:39</td>\n",
       "      <td>750631905661027171</td>\n",
       "      <td>NaN</td>\n",
       "      <td>rkftorak2020</td>\n",
       "      <td>rkftorak2020</td>\n",
       "      <td>0</td>\n",
       "      <td>0</td>\n",
       "      <td>0</td>\n",
       "      <td>NaN</td>\n",
       "      <td>3번 !!!</td>\n",
       "    </tr>\n",
       "    <tr>\n",
       "      <th>46</th>\n",
       "      <td>2022-02-25 오후 2:00:49</td>\n",
       "      <td>750631916096455748</td>\n",
       "      <td>NaN</td>\n",
       "      <td>버스여행가</td>\n",
       "      <td>버스여행가</td>\n",
       "      <td>0</td>\n",
       "      <td>1</td>\n",
       "      <td>0</td>\n",
       "      <td>https://g-cbox.pstatic.net/MjAyMjAyMjVfMjcw/MD...</td>\n",
       "      <td>안녕하세요인천광역시의회를 찾아라 이벤트 참여합니다.정답은 3번입니다. 인천의 발전과...</td>\n",
       "    </tr>\n",
       "    <tr>\n",
       "      <th>47</th>\n",
       "      <td>2022-02-25 오후 2:07:31</td>\n",
       "      <td>750632347052802721</td>\n",
       "      <td>NaN</td>\n",
       "      <td>MIKA</td>\n",
       "      <td>MIKA</td>\n",
       "      <td>0</td>\n",
       "      <td>0</td>\n",
       "      <td>0</td>\n",
       "      <td>NaN</td>\n",
       "      <td>정답:3번 !!</td>\n",
       "    </tr>\n",
       "    <tr>\n",
       "      <th>48</th>\n",
       "      <td>2022-02-25 오후 2:07:58</td>\n",
       "      <td>750632377050465551</td>\n",
       "      <td>NaN</td>\n",
       "      <td>드리미</td>\n",
       "      <td>드리미</td>\n",
       "      <td>0</td>\n",
       "      <td>1</td>\n",
       "      <td>0</td>\n",
       "      <td>https://g-cbox.pstatic.net/MjAyMjAyMjVfNzkg/MD...</td>\n",
       "      <td>정답: 3번생각보다 찾기도 쉽고 교통편도 편리한 아름답고 깨끗한 인천광역시의회!시민...</td>\n",
       "    </tr>\n",
       "    <tr>\n",
       "      <th>49</th>\n",
       "      <td>2022-02-25 오후 2:08:57</td>\n",
       "      <td>750632440652891313</td>\n",
       "      <td>NaN</td>\n",
       "      <td>미니</td>\n",
       "      <td>미니</td>\n",
       "      <td>0</td>\n",
       "      <td>1</td>\n",
       "      <td>0</td>\n",
       "      <td>NaN</td>\n",
       "      <td>정답: 3번 https://blog.naver.com/minipia500/22265...</td>\n",
       "    </tr>\n",
       "  </tbody>\n",
       "</table>\n",
       "</div>"
      ],
      "text/plain": [
       "                       작성일                고유번호 답글구분           닉네임  \\\n",
       "0   2022-02-25 오후 12:58:42  750627914109682094  NaN            문득   \n",
       "1   2022-02-25 오후 12:59:29  750627965884170523  NaN         푸른하늘현   \n",
       "2    2022-02-25 오후 1:05:52  750628376070324774  NaN             란   \n",
       "3    2022-02-25 오후 1:07:04  750628453866274870  NaN   saypark3824   \n",
       "4    2022-02-25 오후 1:07:35  750628486162415983  NaN            리체   \n",
       "5    2022-02-25 오후 1:08:43  750628559529181617  NaN           설향맘   \n",
       "6    2022-02-25 오후 1:09:04  750628581574443036  NaN           투르크   \n",
       "7    2022-02-25 오후 1:09:16  750628594727780502  NaN        kawaii   \n",
       "8    2022-02-25 오후 1:11:36  750628745152299355  NaN            UD   \n",
       "9    2022-02-25 오후 1:14:13  750628913226449023  NaN         치즈닭강정   \n",
       "10   2022-02-25 오후 1:15:24  750628989579559137  NaN           여 백   \n",
       "11   2022-02-25 오후 1:17:13  750629106718081168  NaN          상현홀릭   \n",
       "12   2022-02-25 오후 1:18:12  750629170656051312  NaN      junojuno   \n",
       "13   2022-02-25 오후 1:18:33  750629193691169091  NaN       ghd3578   \n",
       "14   2022-02-25 오후 1:20:37  750629326533165421  NaN            청춘   \n",
       "15   2022-02-25 오후 1:24:48  750629596562457061  NaN        CHOICE   \n",
       "16   2022-02-25 오후 1:26:32  750629708298715440  NaN        abcjys   \n",
       "17   2022-02-25 오후 1:28:58  750629863722844725  NaN        발그레솜사탕   \n",
       "18   2022-02-25 오후 1:29:34  750629903686172998  NaN           오니닝   \n",
       "19   2022-02-25 오후 1:30:07  750629937811030077  NaN            익구   \n",
       "20   2022-02-25 오후 1:30:47  750629981297574315  NaN           즐라탄   \n",
       "21   2022-02-25 오후 1:30:49  750629983881265650  NaN          푸른바다   \n",
       "22   2022-02-25 오후 1:32:16  750630077733011647  NaN         핑크고스트   \n",
       "23   2022-02-25 오후 1:33:02  750630125447413776  NaN         위시위스퍼   \n",
       "24   2022-02-25 오후 1:34:32  750630223896117546  NaN            화치   \n",
       "25   2022-02-25 오후 1:36:27  750630347141546238  NaN          카스텔라   \n",
       "26   2022-02-25 오후 1:41:16  750630657369047204  NaN         베스트초이   \n",
       "27   2022-02-25 오후 1:41:27  750630669482197253  NaN           초콜릿   \n",
       "28   2022-02-25 오후 1:43:37  750630807407690092  NaN            쿠키   \n",
       "29   2022-02-25 오후 1:44:19  750630853360484535  NaN         모닝글로리   \n",
       "30   2022-02-25 오후 1:45:32  750630931793969466  NaN      내사랑 스쿠비두   \n",
       "31   2022-02-25 오후 1:46:18  750630980884103329  NaN          새옹지마   \n",
       "32   2022-02-25 오후 1:46:38  750631002392494454  NaN          우리다니   \n",
       "33   2022-02-25 오후 1:46:47  750631012710482397  NaN         겸손한부자   \n",
       "34   2022-02-25 오후 1:46:59  750631025008181838  NaN     leejotech   \n",
       "35   2022-02-25 오후 1:48:00  750631090321883876  NaN          사과향기   \n",
       "36   2022-02-25 오후 1:49:25  750631182428799719  NaN           정그링   \n",
       "37   2022-02-25 오후 1:52:34  750631384426480480  NaN       aktoskf   \n",
       "38   2022-02-25 오후 1:53:07  750631419323089057  NaN            샤샤   \n",
       "39   2022-02-25 오후 1:55:45  750631590954009746  NaN          고래고래   \n",
       "40   2022-02-25 오후 1:58:19  750631754666082744  NaN      gguggu35   \n",
       "41   2022-02-25 오후 1:58:58  750631798035187005  NaN         네마리집사   \n",
       "42   2022-02-25 오후 1:59:12  750631812748804363  NaN           승희맘   \n",
       "43   2022-02-25 오후 2:00:31  750631896383226585  NaN           요니이   \n",
       "44   2022-02-25 오후 2:01:00  750631927655957853   답글           요니이   \n",
       "45   2022-02-25 오후 2:00:39  750631905661027171  NaN  rkftorak2020   \n",
       "46   2022-02-25 오후 2:00:49  750631916096455748  NaN         버스여행가   \n",
       "47   2022-02-25 오후 2:07:31  750632347052802721  NaN          MIKA   \n",
       "48   2022-02-25 오후 2:07:58  750632377050465551  NaN           드리미   \n",
       "49   2022-02-25 오후 2:08:57  750632440652891313  NaN            미니   \n",
       "\n",
       "          작성자URL  공감수  링크수  답글수  \\\n",
       "0             문득    0    0    0   \n",
       "1          푸른하늘현    0    1    0   \n",
       "2              란    0    1    0   \n",
       "3    saypark3824    0    0    0   \n",
       "4             리체    0    0    0   \n",
       "5            설향맘    0    1    0   \n",
       "6            투르크    0    0    0   \n",
       "7         kawaii    0    0    0   \n",
       "8             UD    0    0    0   \n",
       "9          치즈닭강정    0    0    0   \n",
       "10           여 백    0    1    0   \n",
       "11          상현홀릭    0    1    0   \n",
       "12      junojuno    0    0    0   \n",
       "13       ghd3578    0    1    0   \n",
       "14            청춘    0    1    0   \n",
       "15        CHOICE    1    0    0   \n",
       "16        abcjys    0    0    0   \n",
       "17        발그레솜사탕    0    0    0   \n",
       "18           오니닝    0    0    0   \n",
       "19            익구    0    1    0   \n",
       "20           즐라탄    0    0    0   \n",
       "21          푸른바다    0    1    0   \n",
       "22         핑크고스트    0    1    0   \n",
       "23         위시위스퍼    0    1    0   \n",
       "24            화치    0    1    0   \n",
       "25          카스텔라    0    0    0   \n",
       "26         베스트초이    0    1    0   \n",
       "27           초콜릿    0    1    0   \n",
       "28            쿠키    0    1    0   \n",
       "29         모닝글로리    0    1    0   \n",
       "30      내사랑 스쿠비두    0    1    0   \n",
       "31          새옹지마    0    0    0   \n",
       "32          우리다니    0    1    0   \n",
       "33         겸손한부자    0    0    0   \n",
       "34     leejotech    0    0    0   \n",
       "35          사과향기    1    1    0   \n",
       "36           정그링    1    1    0   \n",
       "37       aktoskf    0    1    0   \n",
       "38            샤샤    0    0    0   \n",
       "39          고래고래    0    1    0   \n",
       "40      gguggu35    0    0    0   \n",
       "41         네마리집사    0    1    0   \n",
       "42           승희맘    0    0    0   \n",
       "43           요니이    0    0    1   \n",
       "44           요니이    0    0    0   \n",
       "45  rkftorak2020    0    0    0   \n",
       "46         버스여행가    0    1    0   \n",
       "47          MIKA    0    0    0   \n",
       "48           드리미    0    1    0   \n",
       "49            미니    0    1    0   \n",
       "\n",
       "                                             첨부이미지URL  \\\n",
       "0                                                 NaN   \n",
       "1                                                 NaN   \n",
       "2                                                 NaN   \n",
       "3   https://g-cbox.pstatic.net/MjAyMjAyMjVfNTkg/MD...   \n",
       "4                                                 NaN   \n",
       "5   https://g-cbox.pstatic.net/MjAyMjAyMjVfMjc2/MD...   \n",
       "6                                                 NaN   \n",
       "7                                                 NaN   \n",
       "8                                                 NaN   \n",
       "9                                                 NaN   \n",
       "10                                                NaN   \n",
       "11  https://g-cbox.pstatic.net/MjAyMjAyMjVfMjM1/MD...   \n",
       "12                                                NaN   \n",
       "13                                                NaN   \n",
       "14                                                NaN   \n",
       "15                                                NaN   \n",
       "16                                                NaN   \n",
       "17                                                NaN   \n",
       "18                                                NaN   \n",
       "19                                                NaN   \n",
       "20                                                NaN   \n",
       "21                                                NaN   \n",
       "22                                                NaN   \n",
       "23                                                NaN   \n",
       "24                                                NaN   \n",
       "25                                                NaN   \n",
       "26                                                NaN   \n",
       "27                                                NaN   \n",
       "28                                                NaN   \n",
       "29                                                NaN   \n",
       "30                                                NaN   \n",
       "31                                                NaN   \n",
       "32                                                NaN   \n",
       "33                                                NaN   \n",
       "34                                                NaN   \n",
       "35                                                NaN   \n",
       "36                                                NaN   \n",
       "37                                                NaN   \n",
       "38  https://g-cbox.pstatic.net/MjAyMjAyMjVfMjI3/MD...   \n",
       "39                                                NaN   \n",
       "40                                                NaN   \n",
       "41                                                NaN   \n",
       "42  https://g-cbox.pstatic.net/MjAyMjAyMjVfMjkz/MD...   \n",
       "43  https://g-cbox.pstatic.net/MjAyMjAyMjVfMTQ0/MD...   \n",
       "44  https://g-cbox.pstatic.net/MjAyMjAyMjVfMTQ0/MD...   \n",
       "45                                                NaN   \n",
       "46  https://g-cbox.pstatic.net/MjAyMjAyMjVfMjcw/MD...   \n",
       "47                                                NaN   \n",
       "48  https://g-cbox.pstatic.net/MjAyMjAyMjVfNzkg/MD...   \n",
       "49                                                NaN   \n",
       "\n",
       "                                                   내용  \n",
       "0                                        *정답: 3번 @해피쏭  \n",
       "1   정답 : 3번 https://blog.naver.com/blueday118/2226...  \n",
       "2    *정답: 3번  https://blog.naver.com/cdism  @란 @cdism  \n",
       "3                               정답 : 3번 입니다 @최준원 학생기자  \n",
       "4                                             3번~~~^^  \n",
       "5   🔅 정답 : 3번 https://m.blog.naver.com/hyss9744/22...  \n",
       "6                             정답 3번  @soolheart @대박이유  \n",
       "7                                           정답 3번 @청춘  \n",
       "8                                             정답 : 3번  \n",
       "9                         정답 3번  @jjyysun @라일락홀릭 @뚱커벨  \n",
       "10  정답 : 3번소통과 공감으로 시민과 함께 동행하는 인천광역시의회를 응원합니다~~!!...  \n",
       "11  정답은 3번 입니다!인천광역시의회 블로그 이웃신청완료 @yanoxcha @bigkk...  \n",
       "12                           정답 3번기존 이웃입니다~ @yunayuna  \n",
       "13  정답: 3번이웃,공유,공감 완료!  @ghdwodlf42 @wkemfh 함께 참여해...  \n",
       "14  정답  3번 https://m.blog.naver.com/icouncil103/22...  \n",
       "15                     정답은 3번 입니다. @abcjys 함께 참여하자^_^  \n",
       "16                        정답: 3번 @사과쪼아 @강냉이한입 함께 참여해♡  \n",
       "17                                                 3번  \n",
       "18                                             정답: 3번  \n",
       "19  정답 : 3번 https://blog.naver.com/qlsvhf98/222657...  \n",
       "20                                             3번 입니다  \n",
       "21  정답- 3번 기존이웃, 좋아요, 공유 완료 앞으로도 응원하겠습니다  @코코아 @케이...  \n",
       "22  정답:3번  https://m.blog.naver.com/choc0pick/2226...  \n",
       "23  정답 3번다양하고 재밋는 이야기들로 많은 분들이 소통하는 곳이 되면 좋겟어요~!블로...  \n",
       "24  공감 / 공유완료 https://blog.naver.com/jcw5595정답 : 3...  \n",
       "25                                              정답 3번  \n",
       "26  정답 : [ 3번 ]인천광역시의회가 앞으로도 인천시의 발전과 인천시민의 보다 나은 ...  \n",
       "27  정답 : 3번서로이웃,공감,공유 모두 완료했습니다!! https://m.blog.n...  \n",
       "28  정답 : 3번 https://m.blog.naver.com/cukimons/2226...  \n",
       "29  정답:3번공감.공유합니다  https://m.blog.naver.com/ohcarr...  \n",
       "30  정답 : 3번 https://blog.naver.com/lilyzzz/2226575...  \n",
       "31                                    정답 3번 @hagija77  \n",
       "32  정답 3번이요^^이웃추가 완료, 공감, 공유 완료했어요! https://m.blog...  \n",
       "33                               [정답] 3번 기존 서로이웃 입니다.  \n",
       "34                                        정답3번   @IBS  \n",
       "35  정답: 3번좋은 내용 감사합니다 블로그 이웃추가 공감 공유 했습니다  https:/...  \n",
       "36  정답 : 3번 https://blog.naver.com/rlawjdrms369/22...  \n",
       "37  정답:3번좋은내용 감사드리며 인천광역시의회 앞으로도 좋은소식과 정보로 많은사람 받길...  \n",
       "38                                  ★정답★ 3번이웃추가 완료!ㅎㅎ  \n",
       "39  정답은 3번 ^^이웃추가, 공감 했습니다! https://m.blog.naver.c...  \n",
       "40                                  정답은 3번입니다!이웃추가했어요  \n",
       "41  정답 : 3번기존이웃, 공감+공유완료 https://blog.naver.com/c8...  \n",
       "42                                            정답: 3번!  \n",
       "43  정답은 3번 입니다.인스타그램 팔로우하고 유익한 콘텐츠들 봐왔었는데, 인천광역시의회...  \n",
       "44                                                     \n",
       "45                                             3번 !!!  \n",
       "46  안녕하세요인천광역시의회를 찾아라 이벤트 참여합니다.정답은 3번입니다. 인천의 발전과...  \n",
       "47                                           정답:3번 !!  \n",
       "48  정답: 3번생각보다 찾기도 쉽고 교통편도 편리한 아름답고 깨끗한 인천광역시의회!시민...  \n",
       "49  정답: 3번 https://blog.naver.com/minipia500/22265...  "
      ]
     },
     "execution_count": 193,
     "metadata": {},
     "output_type": "execute_result"
    }
   ],
   "source": [
    "df"
   ]
  },
  {
   "cell_type": "code",
   "execution_count": null,
   "metadata": {},
   "outputs": [],
   "source": []
  }
 ],
 "metadata": {
  "interpreter": {
   "hash": "b3ba2566441a7c06988d0923437866b63cedc61552a5af99d1f4fb67d367b25f"
  },
  "kernelspec": {
   "display_name": "Python 3.9.7 ('base')",
   "language": "python",
   "name": "python3"
  },
  "language_info": {
   "codemirror_mode": {
    "name": "ipython",
    "version": 3
   },
   "file_extension": ".py",
   "mimetype": "text/x-python",
   "name": "python",
   "nbconvert_exporter": "python",
   "pygments_lexer": "ipython3",
   "version": "3.9.7"
  },
  "orig_nbformat": 4
 },
 "nbformat": 4,
 "nbformat_minor": 2
}
