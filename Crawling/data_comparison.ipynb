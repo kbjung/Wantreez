{
 "cells": [
  {
   "cell_type": "code",
   "execution_count": 24,
   "metadata": {},
   "outputs": [],
   "source": [
    "import pandas as pd"
   ]
  },
  {
   "cell_type": "code",
   "execution_count": 28,
   "metadata": {},
   "outputs": [],
   "source": [
    "def comp(first_file_name, second_file_name):\n",
    "    df1 = pd.read_csv(first_file_name)\n",
    "    df2 = pd.read_csv(second_file_name)\n",
    "    df = pd.merge(df1,df2, how='outer',on='글_내용')\n",
    "    mod_df = df.dropna()\n",
    "    mod_df['변동'] = mod_df.iloc[:,2] - mod_df.iloc[:,0]\n",
    "    # 막대 그래프 작성\n",
    "    plt.figure(figsize=(12,8))\n",
    "    plt.bar(range(len(mod_df)), mod_df['변동'].abs())\n",
    "\n",
    "    for i in range(len(mod_df)):\n",
    "        plt.text(i, mod_df['변동'].abs()[i], mod_df['변동'].abs()[i],                 # 좌표 (x축 = v, y축 = y[0]..y[1], 표시 = y[0]..y[1])\n",
    "                fontsize = 9, \n",
    "                color='blue',\n",
    "                horizontalalignment='center',  # horizontalalignment (left, center, right)\n",
    "                verticalalignment='bottom')    # verticalalignment (top, center, bottom)"
   ]
  },
  {
   "cell_type": "markdown",
   "metadata": {},
   "source": [
    "# 2개 파일 좋아요 수 변동 확인하기"
   ]
  },
  {
   "cell_type": "code",
   "execution_count": 29,
   "metadata": {},
   "outputs": [],
   "source": [
    "# 비교할 파일 이름 입력\n",
    "first_file_name = '20220303-134857.csv'\n",
    "second_file_name = '20220303-142648.csv'"
   ]
  },
  {
   "cell_type": "code",
   "execution_count": 30,
   "metadata": {},
   "outputs": [
    {
     "name": "stderr",
     "output_type": "stream",
     "text": [
      "<ipython-input-28-946987c27439>:6: SettingWithCopyWarning: \n",
      "A value is trying to be set on a copy of a slice from a DataFrame.\n",
      "Try using .loc[row_indexer,col_indexer] = value instead\n",
      "\n",
      "See the caveats in the documentation: https://pandas.pydata.org/pandas-docs/stable/user_guide/indexing.html#returning-a-view-versus-a-copy\n",
      "  mod_df['변동'] = mod_df.iloc[:,2] - mod_df.iloc[:,0]\n"
     ]
    },
    {
     "data": {
      "image/png": "[encoded data removed]",
      "text/plain": [
       "<Figure size 864x576 with 1 Axes>"
      ]
     },
     "metadata": {
      "needs_background": "light"
     },
     "output_type": "display_data"
    }
   ],
   "source": [
    "# 비교 시각화\n",
    "comp(first_file_name, second_file_name)"
   ]
  },
  {
   "cell_type": "markdown",
   "metadata": {},
   "source": [
    "# 코드 마지막"
   ]
  }
 ],
 "metadata": {
  "interpreter": {
   "hash": "513dc2e41d739bb2c947903f3c0bbf636d03aa53ab50e61c694a27481c81805e"
  },
  "kernelspec": {
   "display_name": "Python 3.8.8 ('base')",
   "language": "python",
   "name": "python3"
  },
  "language_info": {
   "codemirror_mode": {
    "name": "ipython",
    "version": 3
   },
   "file_extension": ".py",
   "mimetype": "text/x-python",
   "name": "python",
   "nbconvert_exporter": "python",
   "pygments_lexer": "ipython3",
   "version": "3.8.8"
  },
  "orig_nbformat": 4
 },
 "nbformat": 4,
 "nbformat_minor": 2
}
