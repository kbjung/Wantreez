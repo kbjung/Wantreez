{
 "cells": [
  {
   "cell_type": "code",
   "execution_count": 1,
   "metadata": {},
   "outputs": [],
   "source": [
    "from bs4 import BeautifulSoup as bs\n",
    "import time\n",
    "from datetime import datetime\n",
    "from selenium import webdriver\n",
    "from selenium.webdriver.common.keys import Keys"
   ]
  },
  {
   "cell_type": "code",
   "execution_count": 2,
   "metadata": {},
   "outputs": [],
   "source": [
    "import matplotlib.pyplot as plt\n",
    "import pandas as pd"
   ]
  },
  {
   "cell_type": "code",
   "execution_count": 5,
   "metadata": {},
   "outputs": [],
   "source": [
    "# 크롤링할 웹사이트 주소\n",
    "url = 'https://www.facebook.com/GyeonggiKorea.en'\n",
    "\n",
    "# webdriver 로드\n",
    "driver = webdriver.Chrome('chromedriver')\n",
    "driver.get(url)\n",
    "\n",
    "# 창 최대화\n",
    "driver.maximize_window()\n",
    "time.sleep(1)"
   ]
  },
  {
   "cell_type": "code",
   "execution_count": 6,
   "metadata": {},
   "outputs": [],
   "source": [
    "# 페이지 스크롤 다운\n",
    "num_pagedown = 3\n",
    "for i in range(num_pagedown):\n",
    "    driver.execute_script(\"window.scrollTo(0, document.body.scrollHeight);\")\n",
    "    time.sleep(1)"
   ]
  },
  {
   "cell_type": "code",
   "execution_count": 7,
   "metadata": {},
   "outputs": [
    {
     "data": {
      "text/plain": [
       "'Gyeonggi Korea | Facebook'"
      ]
     },
     "execution_count": 7,
     "metadata": {},
     "output_type": "execute_result"
    }
   ],
   "source": [
    "# 페이지 크롤링\n",
    "soup = bs(driver.page_source, 'lxml')\n",
    "soup.title.text"
   ]
  },
  {
   "cell_type": "code",
   "execution_count": 67,
   "metadata": {},
   "outputs": [
    {
     "data": {
      "text/plain": [
       "'팔로워 9.9만명'"
      ]
     },
     "execution_count": 67,
     "metadata": {},
     "output_type": "execute_result"
    }
   ],
   "source": [
    "# 팔로워 수 수집\n",
    "num_follower = soup.find('span', 'd2edcug0 hpfvmrgz qv66sw1b c1et5uql lr9zc1uh a8c37x1j fe6kdd0r mau55g9w c8b282yb keod5gw0 nxhoafnm aigsh9s9 d3f4x2em iv3no6db jq4qci2q a3bd9o3v b1v8xokw oo9gr5id hzawbc8m')\n",
    "num_follower.text"
   ]
  },
  {
   "cell_type": "code",
   "execution_count": 70,
   "metadata": {},
   "outputs": [
    {
     "data": {
      "text/plain": [
       "'9.9'"
      ]
     },
     "execution_count": 70,
     "metadata": {},
     "output_type": "execute_result"
    }
   ],
   "source": [
    "temp = num_follower.text[4:-2]\n",
    "temp"
   ]
  },
  {
   "cell_type": "code",
   "execution_count": 71,
   "metadata": {},
   "outputs": [
    {
     "data": {
      "text/plain": [
       "99000.0"
      ]
     },
     "execution_count": 71,
     "metadata": {},
     "output_type": "execute_result"
    }
   ],
   "source": [
    "temp2 = float(temp)\n",
    "temp2 * 10000"
   ]
  },
  {
   "cell_type": "code",
   "execution_count": 51,
   "metadata": {},
   "outputs": [
    {
     "data": {
      "text/plain": [
       "'3월 4일 오후 6:21'"
      ]
     },
     "execution_count": 51,
     "metadata": {},
     "output_type": "execute_result"
    }
   ],
   "source": [
    "# 글 날짜 수집\n",
    "info_dates_span = soup.find_all('a', 'oajrlxb2 g5ia77u1 qu0x051f esr5mh6w e9989ue4 r7d6kgcz rq0escxv nhd2j8a9 nc684nl6 p7hjln8o kvgmc6g5 cxmmr5t8 oygrvhab hcukyx3x jb3vyjys rz4wbd8a qt6c0cv9 a8nywdso i1ao9s8h esuyzwwr f1sip0of lzcic4wl gmql0nx0 gpro0wi8 b1v8xokw')\n",
    "info_date = info_dates_span[0].find('span')\n",
    "info_date.text"
   ]
  },
  {
   "cell_type": "code",
   "execution_count": 55,
   "metadata": {},
   "outputs": [
    {
     "data": {
      "text/plain": [
       "13"
      ]
     },
     "execution_count": 55,
     "metadata": {},
     "output_type": "execute_result"
    }
   ],
   "source": [
    "len(info_dates_span)"
   ]
  },
  {
   "cell_type": "code",
   "execution_count": 52,
   "metadata": {},
   "outputs": [
    {
     "data": {
      "text/plain": [
       "'3월 4일 오전 10:58'"
      ]
     },
     "execution_count": 52,
     "metadata": {},
     "output_type": "execute_result"
    }
   ],
   "source": [
    "info_date = info_dates_span[1].find('span')\n",
    "info_date.text"
   ]
  },
  {
   "cell_type": "code",
   "execution_count": 54,
   "metadata": {},
   "outputs": [
    {
     "data": {
      "text/plain": [
       "'3월 2일 오후 5:04'"
      ]
     },
     "execution_count": 54,
     "metadata": {},
     "output_type": "execute_result"
    }
   ],
   "source": [
    "info_date = info_dates_span[2].find('span')\n",
    "info_date.text"
   ]
  },
  {
   "cell_type": "code",
   "execution_count": 8,
   "metadata": {},
   "outputs": [
    {
     "data": {
      "text/plain": [
       "13"
      ]
     },
     "execution_count": 8,
     "metadata": {},
     "output_type": "execute_result"
    }
   ],
   "source": [
    "# 글 내용 크롤링\n",
    "content_pages = soup.find_all('div', class_='kvgmc6g5 cxmmr5t8 oygrvhab hcukyx3x c1et5uql ii04i59q')\n",
    "\n",
    "len(content_pages)"
   ]
  },
  {
   "cell_type": "code",
   "execution_count": 14,
   "metadata": {},
   "outputs": [
    {
     "data": {
      "text/plain": [
       "13"
      ]
     },
     "execution_count": 14,
     "metadata": {},
     "output_type": "execute_result"
    }
   ],
   "source": [
    "# 좋아요, 댓글, 공유 수 정보 나온 페이지 수집\n",
    "info_pages = soup.find_all('div', 'bp9cbjyn m9osqain j83agx80 jq4qci2q bkfpd7mw a3bd9o3v kvgmc6g5 wkznzc2l oygrvhab dhix69tm jktsbyx5 rz4wbd8a osnr6wyh a8nywdso s1tcr66n')\n",
    "len(info_pages)"
   ]
  },
  {
   "cell_type": "code",
   "execution_count": 56,
   "metadata": {},
   "outputs": [
    {
     "data": {
      "text/plain": [
       "17"
      ]
     },
     "execution_count": 56,
     "metadata": {},
     "output_type": "execute_result"
    }
   ],
   "source": [
    "# 좋아요 수 수집\n",
    "num_like = info_pages[0].find('span', 'pcp91wgn')\n",
    "int(num_like.text)"
   ]
  },
  {
   "cell_type": "code",
   "execution_count": 93,
   "metadata": {},
   "outputs": [
    {
     "data": {
      "text/plain": [
       "[<span class=\"d2edcug0 hpfvmrgz qv66sw1b c1et5uql lr9zc1uh a8c37x1j fe6kdd0r mau55g9w c8b282yb keod5gw0 nxhoafnm aigsh9s9 d3f4x2em iv3no6db jq4qci2q a3bd9o3v b1v8xokw m9osqain\" dir=\"auto\">댓글 5개</span>,\n",
       " <span class=\"d2edcug0 hpfvmrgz qv66sw1b c1et5uql lr9zc1uh a8c37x1j fe6kdd0r mau55g9w c8b282yb keod5gw0 nxhoafnm aigsh9s9 d3f4x2em iv3no6db jq4qci2q a3bd9o3v b1v8xokw m9osqain\" dir=\"auto\">공유 3회</span>]"
      ]
     },
     "execution_count": 93,
     "metadata": {},
     "output_type": "execute_result"
    }
   ],
   "source": [
    "# 댓글 수 크롤링\n",
    "num_comment = info_pages[9].find_all('span', 'd2edcug0 hpfvmrgz qv66sw1b c1et5uql lr9zc1uh a8c37x1j fe6kdd0r mau55g9w c8b282yb keod5gw0 nxhoafnm aigsh9s9 d3f4x2em iv3no6db jq4qci2q a3bd9o3v b1v8xokw m9osqain')\n",
    "\n",
    "num_comment"
   ]
  },
  {
   "cell_type": "code",
   "execution_count": 94,
   "metadata": {},
   "outputs": [
    {
     "data": {
      "text/plain": [
       "2"
      ]
     },
     "execution_count": 94,
     "metadata": {},
     "output_type": "execute_result"
    }
   ],
   "source": [
    "len(num_comment)"
   ]
  },
  {
   "cell_type": "code",
   "execution_count": 95,
   "metadata": {},
   "outputs": [
    {
     "data": {
      "text/plain": [
       "[]"
      ]
     },
     "execution_count": 95,
     "metadata": {},
     "output_type": "execute_result"
    }
   ],
   "source": [
    "# 댓글 수 크롤링\n",
    "num_comment = info_pages[4].find_all('span', 'd2edcug0 hpfvmrgz qv66sw1b c1et5uql lr9zc1uh a8c37x1j fe6kdd0r mau55g9w c8b282yb keod5gw0 nxhoafnm aigsh9s9 d3f4x2em iv3no6db jq4qci2q a3bd9o3v b1v8xokw m9osqain')\n",
    "\n",
    "num_comment"
   ]
  },
  {
   "cell_type": "code",
   "execution_count": 22,
   "metadata": {},
   "outputs": [
    {
     "data": {
      "text/plain": [
       "True"
      ]
     },
     "execution_count": 22,
     "metadata": {},
     "output_type": "execute_result"
    }
   ],
   "source": [
    "num_comment == None"
   ]
  },
  {
   "cell_type": "code",
   "execution_count": 87,
   "metadata": {},
   "outputs": [
    {
     "data": {
      "text/plain": [
       "<span class=\"d2edcug0 hpfvmrgz qv66sw1b c1et5uql lr9zc1uh a8c37x1j fe6kdd0r mau55g9w c8b282yb keod5gw0 nxhoafnm aigsh9s9 d3f4x2em iv3no6db jq4qci2q a3bd9o3v b1v8xokw m9osqain\" dir=\"auto\">공유 11회</span>"
      ]
     },
     "execution_count": 87,
     "metadata": {},
     "output_type": "execute_result"
    }
   ],
   "source": [
    "# 공유 수 크롤링\n",
    "num_share = info_pages[3].find('span', 'd2edcug0 hpfvmrgz qv66sw1b c1et5uql lr9zc1uh a8c37x1j fe6kdd0r mau55g9w c8b282yb keod5gw0 nxhoafnm aigsh9s9 d3f4x2em iv3no6db jq4qci2q a3bd9o3v b1v8xokw m9osqain')\n",
    "\n",
    "num_share"
   ]
  },
  {
   "cell_type": "code",
   "execution_count": 13,
   "metadata": {},
   "outputs": [
    {
     "data": {
      "text/plain": [
       "<span class=\"d2edcug0 hpfvmrgz qv66sw1b c1et5uql lr9zc1uh a8c37x1j fe6kdd0r mau55g9w c8b282yb keod5gw0 nxhoafnm aigsh9s9 d3f4x2em iv3no6db jq4qci2q a3bd9o3v b1v8xokw m9osqain\" dir=\"auto\">공유 2회</span>"
      ]
     },
     "execution_count": 13,
     "metadata": {},
     "output_type": "execute_result"
    }
   ],
   "source": [
    "info_comment[0]"
   ]
  },
  {
   "cell_type": "code",
   "execution_count": 59,
   "metadata": {},
   "outputs": [
    {
     "data": {
      "text/plain": [
       "'2'"
      ]
     },
     "execution_count": 59,
     "metadata": {},
     "output_type": "execute_result"
    }
   ],
   "source": [
    "info_comment[0].text[3:-1]"
   ]
  },
  {
   "cell_type": "code",
   "execution_count": 76,
   "metadata": {},
   "outputs": [
    {
     "name": "stdout",
     "output_type": "stream",
     "text": [
      "13 13 13\n",
      "13 13 13\n"
     ]
    }
   ],
   "source": [
    "# 팔로워수, 글 날짜, 글 내용, 좋아요 수, 댓글 수, 공유 수 리스트화\n",
    "num_follower_list = []\n",
    "num_date_list = []\n",
    "contents_list = []\n",
    "num_like_list = []\n",
    "num_comment_list = []\n",
    "num_share_list = []\n",
    "\n",
    "# 팔로워 수 수집\n",
    "num_follower = soup.find('span', 'd2edcug0 hpfvmrgz qv66sw1b c1et5uql lr9zc1uh a8c37x1j fe6kdd0r mau55g9w c8b282yb keod5gw0 nxhoafnm aigsh9s9 d3f4x2em iv3no6db jq4qci2q a3bd9o3v b1v8xokw oo9gr5id hzawbc8m')\n",
    "temp = float(num_follower.text[4:-2]) * 10000\n",
    "num_follower_list.append(temp)\n",
    "for i in range(len(info_pages)-1):\n",
    "    num_follower_list.append(0)\n",
    "\n",
    "# 날짜 수집\n",
    "for date in info_dates_span:\n",
    "    temp = date.find('span').text\n",
    "    num_date_list.append(temp)\n",
    "\n",
    "# 글 내용 수집\n",
    "for content in content_pages:\n",
    "    temp = content.text\n",
    "    contents_list.append(temp)\n",
    "\n",
    "# 좋아요 수 수집\n",
    "for like in info_pages:\n",
    "    temp = like.find('span', 'pcp91wgn')\n",
    "    temp = int(temp.text)\n",
    "    num_like_list.append(temp)\n",
    "\n",
    "# 댓글 수 수집\n",
    "for comment in info_pages:\n",
    "    temp = comment.find('span', 'd2edcug0 hpfvmrgz qv66sw1b c1et5uql lr9zc1uh a8c37x1j fe6kdd0r mau55g9w c8b282yb keod5gw0 nxhoafnm aigsh9s9 d3f4x2em iv3no6db jq4qci2q a3bd9o3v b1v8xokw m9osqain')\n",
    "    if temp == None:\n",
    "        num_comment_list.append(0)\n",
    "    else:\n",
    "        temp = int(temp.text[3:-1])\n",
    "        num_comment_list.append(temp)\n",
    "\n",
    "# 공유 수 수집\n",
    "for share in info_pages:\n",
    "    temp = share.find('span', 'd2edcug0 hpfvmrgz qv66sw1b c1et5uql lr9zc1uh a8c37x1j fe6kdd0r mau55g9w c8b282yb keod5gw0 nxhoafnm aigsh9s9 d3f4x2em iv3no6db jq4qci2q a3bd9o3v b1v8xokw m9osqain')\n",
    "    if temp == None:\n",
    "        num_share_list.append(0)\n",
    "    else:\n",
    "        temp = int(temp.text[3:-1])\n",
    "        num_share_list.append(temp)\n",
    "\n",
    "print(len(num_follower_list), len(num_date_list), len(contents_list))\n",
    "print(len(num_like_list), len(num_comment_list), len(num_share_list))"
   ]
  },
  {
   "cell_type": "code",
   "execution_count": 78,
   "metadata": {},
   "outputs": [
    {
     "data": {
      "text/html": [
       "<div>\n",
       "<style scoped>\n",
       "    .dataframe tbody tr th:only-of-type {\n",
       "        vertical-align: middle;\n",
       "    }\n",
       "\n",
       "    .dataframe tbody tr th {\n",
       "        vertical-align: top;\n",
       "    }\n",
       "\n",
       "    .dataframe thead th {\n",
       "        text-align: right;\n",
       "    }\n",
       "</style>\n",
       "<table border=\"1\" class=\"dataframe\">\n",
       "  <thead>\n",
       "    <tr style=\"text-align: right;\">\n",
       "      <th></th>\n",
       "      <th>날짜</th>\n",
       "      <th>글_내용</th>\n",
       "      <th>좋아요_수</th>\n",
       "      <th>댓글수</th>\n",
       "      <th>공유수</th>\n",
       "      <th>팔로워_수</th>\n",
       "    </tr>\n",
       "  </thead>\n",
       "  <tbody>\n",
       "    <tr>\n",
       "      <th>0</th>\n",
       "      <td>3월 4일 오후 6:21</td>\n",
       "      <td>Gyeonggi Province’s Pocheon City provides fore...</td>\n",
       "      <td>17</td>\n",
       "      <td>0</td>\n",
       "      <td>0</td>\n",
       "      <td>99000.0</td>\n",
       "    </tr>\n",
       "    <tr>\n",
       "      <th>1</th>\n",
       "      <td>3월 4일 오전 10:58</td>\n",
       "      <td>Catch this week's #GTV English #News for the l...</td>\n",
       "      <td>8</td>\n",
       "      <td>0</td>\n",
       "      <td>0</td>\n",
       "      <td>0.0</td>\n",
       "    </tr>\n",
       "    <tr>\n",
       "      <th>2</th>\n",
       "      <td>3월 2일 오후 5:04</td>\n",
       "      <td>Gyeonggi Province promotes local tourism with ...</td>\n",
       "      <td>22</td>\n",
       "      <td>2</td>\n",
       "      <td>2</td>\n",
       "      <td>0.0</td>\n",
       "    </tr>\n",
       "    <tr>\n",
       "      <th>3</th>\n",
       "      <td>2월 28일 오후 5:49</td>\n",
       "      <td>Gyeonggi Province is taking the initiative in ...</td>\n",
       "      <td>52</td>\n",
       "      <td>11</td>\n",
       "      <td>11</td>\n",
       "      <td>0.0</td>\n",
       "    </tr>\n",
       "    <tr>\n",
       "      <th>4</th>\n",
       "      <td>2월 25일 오전 10:19</td>\n",
       "      <td>Catch this week's #GTV English #News for the l...</td>\n",
       "      <td>11</td>\n",
       "      <td>0</td>\n",
       "      <td>0</td>\n",
       "      <td>0.0</td>\n",
       "    </tr>\n",
       "    <tr>\n",
       "      <th>5</th>\n",
       "      <td>2월 24일 오후 3:00</td>\n",
       "      <td>Hwaseong Fortress of Suwon City</td>\n",
       "      <td>50</td>\n",
       "      <td>10</td>\n",
       "      <td>10</td>\n",
       "      <td>0.0</td>\n",
       "    </tr>\n",
       "    <tr>\n",
       "      <th>6</th>\n",
       "      <td>2월 22일 오후 5:51</td>\n",
       "      <td>Gwacheon City of Gyeonggi Province, known as t...</td>\n",
       "      <td>17</td>\n",
       "      <td>0</td>\n",
       "      <td>0</td>\n",
       "      <td>0.0</td>\n",
       "    </tr>\n",
       "    <tr>\n",
       "      <th>7</th>\n",
       "      <td>2월 21일 오후 2:07</td>\n",
       "      <td>Catch this week's #GTV English #News for the l...</td>\n",
       "      <td>18</td>\n",
       "      <td>0</td>\n",
       "      <td>0</td>\n",
       "      <td>0.0</td>\n",
       "    </tr>\n",
       "    <tr>\n",
       "      <th>8</th>\n",
       "      <td>2월 18일 오후 3:00</td>\n",
       "      <td>Gyeonggi Province unveils Korea’s first virtua...</td>\n",
       "      <td>27</td>\n",
       "      <td>1</td>\n",
       "      <td>1</td>\n",
       "      <td>0.0</td>\n",
       "    </tr>\n",
       "    <tr>\n",
       "      <th>9</th>\n",
       "      <td>2월 15일 오전 1:00</td>\n",
       "      <td>Famous for family trips: Yangtte Farm in Gyeon...</td>\n",
       "      <td>40</td>\n",
       "      <td>5</td>\n",
       "      <td>5</td>\n",
       "      <td>0.0</td>\n",
       "    </tr>\n",
       "    <tr>\n",
       "      <th>10</th>\n",
       "      <td>2월 12일 오후 2:34</td>\n",
       "      <td>Catch this week's #GTV English #News for the l...</td>\n",
       "      <td>15</td>\n",
       "      <td>0</td>\n",
       "      <td>0</td>\n",
       "      <td>0.0</td>\n",
       "    </tr>\n",
       "    <tr>\n",
       "      <th>11</th>\n",
       "      <td>2월 10일 오후 12:00</td>\n",
       "      <td>A healing travel course in Pocheon City of Gye...</td>\n",
       "      <td>39</td>\n",
       "      <td>2</td>\n",
       "      <td>2</td>\n",
       "      <td>0.0</td>\n",
       "    </tr>\n",
       "    <tr>\n",
       "      <th>12</th>\n",
       "      <td>2월 8일 오후 12:00</td>\n",
       "      <td>Gyeonggi Province Tourism Development Plan - C...</td>\n",
       "      <td>33</td>\n",
       "      <td>1</td>\n",
       "      <td>1</td>\n",
       "      <td>0.0</td>\n",
       "    </tr>\n",
       "  </tbody>\n",
       "</table>\n",
       "</div>"
      ],
      "text/plain": [
       "                 날짜                                               글_내용  좋아요_수  \\\n",
       "0     3월 4일 오후 6:21  Gyeonggi Province’s Pocheon City provides fore...     17   \n",
       "1    3월 4일 오전 10:58  Catch this week's #GTV English #News for the l...      8   \n",
       "2     3월 2일 오후 5:04  Gyeonggi Province promotes local tourism with ...     22   \n",
       "3    2월 28일 오후 5:49  Gyeonggi Province is taking the initiative in ...     52   \n",
       "4   2월 25일 오전 10:19  Catch this week's #GTV English #News for the l...     11   \n",
       "5    2월 24일 오후 3:00                    Hwaseong Fortress of Suwon City     50   \n",
       "6    2월 22일 오후 5:51  Gwacheon City of Gyeonggi Province, known as t...     17   \n",
       "7    2월 21일 오후 2:07  Catch this week's #GTV English #News for the l...     18   \n",
       "8    2월 18일 오후 3:00  Gyeonggi Province unveils Korea’s first virtua...     27   \n",
       "9    2월 15일 오전 1:00  Famous for family trips: Yangtte Farm in Gyeon...     40   \n",
       "10   2월 12일 오후 2:34  Catch this week's #GTV English #News for the l...     15   \n",
       "11  2월 10일 오후 12:00  A healing travel course in Pocheon City of Gye...     39   \n",
       "12   2월 8일 오후 12:00  Gyeonggi Province Tourism Development Plan - C...     33   \n",
       "\n",
       "    댓글수  공유수    팔로워_수  \n",
       "0     0    0  99000.0  \n",
       "1     0    0      0.0  \n",
       "2     2    2      0.0  \n",
       "3    11   11      0.0  \n",
       "4     0    0      0.0  \n",
       "5    10   10      0.0  \n",
       "6     0    0      0.0  \n",
       "7     0    0      0.0  \n",
       "8     1    1      0.0  \n",
       "9     5    5      0.0  \n",
       "10    0    0      0.0  \n",
       "11    2    2      0.0  \n",
       "12    1    1      0.0  "
      ]
     },
     "execution_count": 78,
     "metadata": {},
     "output_type": "execute_result"
    }
   ],
   "source": [
    "# 수집 데이터를 데이터 셋으로 만들기\n",
    "df = {'날짜':num_date_list, '글_내용':contents_list, '좋아요_수':num_like_list,\n",
    "      '댓글수':num_comment_list, '공유수':num_share_list, '팔로워_수':num_follower_list}\n",
    "data = pd.DataFrame(df)\n",
    "data"
   ]
  },
  {
   "cell_type": "code",
   "execution_count": 79,
   "metadata": {},
   "outputs": [],
   "source": [
    "# 크롤링 데이터 파일로 출력\n",
    "file_name = str(datetime.today().strftime(\"%Y%m%d-%H%M%S\"))\n",
    "file_name = 'facebook_' + file_name + '.xlsx'\n",
    "path = './crawling_data/facebook/'\n",
    "data.to_excel(path+file_name, index=False, encoding='utf-8')"
   ]
  },
  {
   "cell_type": "markdown",
   "metadata": {},
   "source": [
    "# 웹페이지 크롤링"
   ]
  },
  {
   "cell_type": "code",
   "execution_count": 80,
   "metadata": {},
   "outputs": [],
   "source": [
    "from bs4 import BeautifulSoup as bs\n",
    "import time\n",
    "from datetime import datetime\n",
    "from selenium import webdriver\n",
    "from selenium.webdriver.common.keys import Keys"
   ]
  },
  {
   "cell_type": "code",
   "execution_count": 96,
   "metadata": {},
   "outputs": [],
   "source": [
    "import pandas as pd"
   ]
  },
  {
   "cell_type": "code",
   "execution_count": 103,
   "metadata": {},
   "outputs": [],
   "source": [
    "def fb_crawling(num_scrolldown):\n",
    "    \n",
    "    # 페이지 스크롤 다운\n",
    "    for i in range(num_scrolldown):\n",
    "        driver.execute_script(\"window.scrollTo(0, document.body.scrollHeight);\")\n",
    "        time.sleep(1)\n",
    "\n",
    "    # 페이지 크롤링\n",
    "    soup = bs(driver.page_source, 'lxml')\n",
    "    print(soup.title.text)\n",
    "\n",
    "    # 팔로워 수 수집\n",
    "    num_follower = soup.find('span', 'd2edcug0 hpfvmrgz qv66sw1b c1et5uql lr9zc1uh a8c37x1j fe6kdd0r mau55g9w c8b282yb keod5gw0 nxhoafnm aigsh9s9 d3f4x2em iv3no6db jq4qci2q a3bd9o3v b1v8xokw oo9gr5id hzawbc8m')\n",
    "\n",
    "    # 글 날짜 수집\n",
    "    info_dates_span = soup.find_all('a', 'oajrlxb2 g5ia77u1 qu0x051f esr5mh6w e9989ue4 r7d6kgcz rq0escxv nhd2j8a9 nc684nl6 p7hjln8o kvgmc6g5 cxmmr5t8 oygrvhab hcukyx3x jb3vyjys rz4wbd8a qt6c0cv9 a8nywdso i1ao9s8h esuyzwwr f1sip0of lzcic4wl gmql0nx0 gpro0wi8 b1v8xokw')\n",
    "\n",
    "    # 글 내용 크롤링\n",
    "    content_pages = soup.find_all('div', class_='kvgmc6g5 cxmmr5t8 oygrvhab hcukyx3x c1et5uql ii04i59q')\n",
    "\n",
    "    # 좋아요, 댓글, 공유 수 정보 나온 페이지 수집\n",
    "    info_pages = soup.find_all('div', 'bp9cbjyn m9osqain j83agx80 jq4qci2q bkfpd7mw a3bd9o3v kvgmc6g5 wkznzc2l oygrvhab dhix69tm jktsbyx5 rz4wbd8a osnr6wyh a8nywdso s1tcr66n')\n",
    "\n",
    "    # 팔로워수, 글 날짜, 글 내용, 좋아요 수, 댓글 수, 공유 수 리스트화\n",
    "    num_follower_list = []\n",
    "    num_date_list = []\n",
    "    contents_list = []\n",
    "    num_like_list = []\n",
    "    num_comment_list = []\n",
    "    num_share_list = []\n",
    "\n",
    "    # 팔로워 수 수집\n",
    "    num_follower = soup.find('span', 'd2edcug0 hpfvmrgz qv66sw1b c1et5uql lr9zc1uh a8c37x1j fe6kdd0r mau55g9w c8b282yb keod5gw0 nxhoafnm aigsh9s9 d3f4x2em iv3no6db jq4qci2q a3bd9o3v b1v8xokw oo9gr5id hzawbc8m')\n",
    "    temp = float(num_follower.text[4:-2]) * 10000\n",
    "    num_follower_list.append(temp)\n",
    "    for i in range(len(info_pages)-1):\n",
    "        num_follower_list.append(0)\n",
    "\n",
    "    # 날짜 수집\n",
    "    for date in info_dates_span:\n",
    "        temp = date.find('span').text\n",
    "        num_date_list.append(temp)\n",
    "\n",
    "    # 글 내용 수집\n",
    "    for content in content_pages:\n",
    "        temp = content.text\n",
    "        contents_list.append(temp)\n",
    "\n",
    "    # 좋아요 수 수집\n",
    "    for like in info_pages:\n",
    "        temp = like.find('span', 'pcp91wgn')\n",
    "        temp = int(temp.text)\n",
    "        num_like_list.append(temp)\n",
    "\n",
    "    # 댓글 수, 공유 수 수집\n",
    "    for comment in info_pages:\n",
    "        temp = comment.find_all('span', 'd2edcug0 hpfvmrgz qv66sw1b c1et5uql lr9zc1uh a8c37x1j fe6kdd0r mau55g9w c8b282yb keod5gw0 nxhoafnm aigsh9s9 d3f4x2em iv3no6db jq4qci2q a3bd9o3v b1v8xokw m9osqain')\n",
    "        if len(temp) == 1:\n",
    "            for one in temp:\n",
    "                if '댓글' in one.text:\n",
    "                    comment_one = int(one.text[3:-1])\n",
    "                    num_comment_list.append(comment_one)\n",
    "                    num_share_list.append(0)\n",
    "                elif '공유' in one.text:\n",
    "                    comment_share = int(one.text[3:-1])\n",
    "                    num_share_list.append(comment_share)\n",
    "                    num_comment_list.append(0)\n",
    "        elif len(temp) == 2:\n",
    "            for one in temp:\n",
    "                if '댓글' in one.text:\n",
    "                    comment_one = int(one.text[3:-1])\n",
    "                    num_comment_list.append(comment_one)\n",
    "                elif '공유' in one.text:\n",
    "                    comment_share = int(one.text[3:-1])\n",
    "                    num_share_list.append(comment_share)\n",
    "        else:\n",
    "            num_share_list.append(0)\n",
    "            num_comment_list.append(0)\n",
    "\n",
    "    print('팔로워 수 리스트 원소수 : ',len(num_follower_list))\n",
    "    print('팔로워 수 리스트 원소수 : ',len(num_date_list))\n",
    "    print('글 내용 리스트 원소수 : ',len(contents_list))\n",
    "    print('좋아요 수 리스트 원소수 : ',len(num_like_list))\n",
    "    print('댓글 수 리스트 원소수 : ',len(num_comment_list))\n",
    "    print('공유 수 리스트 원소수 : ',len(num_share_list))\n",
    "\n",
    "\n",
    "    # 수집 데이터를 데이터 셋으로 만들기\n",
    "    df = {'날짜':num_date_list, '글_내용':contents_list, '좋아요_수':num_like_list,\n",
    "        '댓글수':num_comment_list, '공유수':num_share_list, '팔로워_수':num_follower_list}\n",
    "    data = pd.DataFrame(df)\n",
    "\n",
    "    # 수집한 데이터 파일료 출력\n",
    "    file_name = str(datetime.today().strftime(\"%Y%m%d-%H%M%S\"))\n",
    "    file_name = 'facebook_' + file_name + '.xlsx'\n",
    "    path = './crawling_data/facebook/'\n",
    "    data.to_excel(path+file_name, index=False, encoding='utf-8')\n",
    "\n",
    "    return data"
   ]
  },
  {
   "cell_type": "code",
   "execution_count": 104,
   "metadata": {},
   "outputs": [],
   "source": [
    "# 크롤링할 웹사이트 주소\n",
    "url = 'https://www.facebook.com/GyeonggiKorea.en'\n",
    "\n",
    "# webdriver 로드\n",
    "driver = webdriver.Chrome('chromedriver')\n",
    "driver.get(url)\n",
    "driver.implicitly_wait(5)\n",
    "\n",
    "# 창 최대화\n",
    "driver.maximize_window()\n",
    "time.sleep(1)"
   ]
  },
  {
   "cell_type": "code",
   "execution_count": 105,
   "metadata": {},
   "outputs": [
    {
     "name": "stdout",
     "output_type": "stream",
     "text": [
      "Gyeonggi Korea | Facebook\n",
      "팔로워 수 리스트 원소수 :  13\n",
      "팔로워 수 리스트 원소수 :  13\n",
      "글 내용 리스트 원소수 :  13\n",
      "좋아요 수 리스트 원소수 :  13\n",
      "댓글 수 리스트 원소수 :  13\n",
      "공유 수 리스트 원소수 :  13\n"
     ]
    }
   ],
   "source": [
    "# fb_crawling(page_down 누르는 횟수)\n",
    "num_scrolldown = 3\n",
    "data = fb_crawling(num_scrolldown)"
   ]
  },
  {
   "cell_type": "code",
   "execution_count": 106,
   "metadata": {},
   "outputs": [
    {
     "data": {
      "text/html": [
       "<div>\n",
       "<style scoped>\n",
       "    .dataframe tbody tr th:only-of-type {\n",
       "        vertical-align: middle;\n",
       "    }\n",
       "\n",
       "    .dataframe tbody tr th {\n",
       "        vertical-align: top;\n",
       "    }\n",
       "\n",
       "    .dataframe thead th {\n",
       "        text-align: right;\n",
       "    }\n",
       "</style>\n",
       "<table border=\"1\" class=\"dataframe\">\n",
       "  <thead>\n",
       "    <tr style=\"text-align: right;\">\n",
       "      <th></th>\n",
       "      <th>날짜</th>\n",
       "      <th>글_내용</th>\n",
       "      <th>좋아요_수</th>\n",
       "      <th>댓글수</th>\n",
       "      <th>공유수</th>\n",
       "      <th>팔로워_수</th>\n",
       "    </tr>\n",
       "  </thead>\n",
       "  <tbody>\n",
       "    <tr>\n",
       "      <th>0</th>\n",
       "      <td>3월 4일 오후 6:21</td>\n",
       "      <td>Gyeonggi Province’s Pocheon City provides fore...</td>\n",
       "      <td>17</td>\n",
       "      <td>0</td>\n",
       "      <td>0</td>\n",
       "      <td>99000.0</td>\n",
       "    </tr>\n",
       "    <tr>\n",
       "      <th>1</th>\n",
       "      <td>3월 4일 오전 10:58</td>\n",
       "      <td>Catch this week's #GTV English #News for the l...</td>\n",
       "      <td>8</td>\n",
       "      <td>0</td>\n",
       "      <td>0</td>\n",
       "      <td>0.0</td>\n",
       "    </tr>\n",
       "    <tr>\n",
       "      <th>2</th>\n",
       "      <td>3월 2일 오후 5:04</td>\n",
       "      <td>Gyeonggi Province promotes local tourism with ...</td>\n",
       "      <td>22</td>\n",
       "      <td>0</td>\n",
       "      <td>2</td>\n",
       "      <td>0.0</td>\n",
       "    </tr>\n",
       "    <tr>\n",
       "      <th>3</th>\n",
       "      <td>2월 28일 오후 5:49</td>\n",
       "      <td>Gyeonggi Province is taking the initiative in ...</td>\n",
       "      <td>52</td>\n",
       "      <td>0</td>\n",
       "      <td>11</td>\n",
       "      <td>0.0</td>\n",
       "    </tr>\n",
       "    <tr>\n",
       "      <th>4</th>\n",
       "      <td>2월 25일 오전 10:19</td>\n",
       "      <td>Catch this week's #GTV English #News for the l...</td>\n",
       "      <td>11</td>\n",
       "      <td>0</td>\n",
       "      <td>0</td>\n",
       "      <td>0.0</td>\n",
       "    </tr>\n",
       "    <tr>\n",
       "      <th>5</th>\n",
       "      <td>2월 24일 오후 3:00</td>\n",
       "      <td>Hwaseong Fortress of Suwon City</td>\n",
       "      <td>50</td>\n",
       "      <td>0</td>\n",
       "      <td>10</td>\n",
       "      <td>0.0</td>\n",
       "    </tr>\n",
       "    <tr>\n",
       "      <th>6</th>\n",
       "      <td>2월 22일 오후 5:51</td>\n",
       "      <td>Gwacheon City of Gyeonggi Province, known as t...</td>\n",
       "      <td>17</td>\n",
       "      <td>0</td>\n",
       "      <td>0</td>\n",
       "      <td>0.0</td>\n",
       "    </tr>\n",
       "    <tr>\n",
       "      <th>7</th>\n",
       "      <td>2월 21일 오후 2:07</td>\n",
       "      <td>Catch this week's #GTV English #News for the l...</td>\n",
       "      <td>18</td>\n",
       "      <td>0</td>\n",
       "      <td>0</td>\n",
       "      <td>0.0</td>\n",
       "    </tr>\n",
       "    <tr>\n",
       "      <th>8</th>\n",
       "      <td>2월 18일 오후 3:00</td>\n",
       "      <td>Gyeonggi Province unveils Korea’s first virtua...</td>\n",
       "      <td>27</td>\n",
       "      <td>0</td>\n",
       "      <td>1</td>\n",
       "      <td>0.0</td>\n",
       "    </tr>\n",
       "    <tr>\n",
       "      <th>9</th>\n",
       "      <td>2월 15일 오전 1:00</td>\n",
       "      <td>Famous for family trips: Yangtte Farm in Gyeon...</td>\n",
       "      <td>40</td>\n",
       "      <td>5</td>\n",
       "      <td>3</td>\n",
       "      <td>0.0</td>\n",
       "    </tr>\n",
       "    <tr>\n",
       "      <th>10</th>\n",
       "      <td>2월 12일 오후 2:34</td>\n",
       "      <td>Catch this week's #GTV English #News for the l...</td>\n",
       "      <td>15</td>\n",
       "      <td>0</td>\n",
       "      <td>0</td>\n",
       "      <td>0.0</td>\n",
       "    </tr>\n",
       "    <tr>\n",
       "      <th>11</th>\n",
       "      <td>2월 10일 오후 12:00</td>\n",
       "      <td>A healing travel course in Pocheon City of Gye...</td>\n",
       "      <td>39</td>\n",
       "      <td>2</td>\n",
       "      <td>2</td>\n",
       "      <td>0.0</td>\n",
       "    </tr>\n",
       "    <tr>\n",
       "      <th>12</th>\n",
       "      <td>2월 8일 오후 12:00</td>\n",
       "      <td>Gyeonggi Province Tourism Development Plan - C...</td>\n",
       "      <td>33</td>\n",
       "      <td>0</td>\n",
       "      <td>1</td>\n",
       "      <td>0.0</td>\n",
       "    </tr>\n",
       "  </tbody>\n",
       "</table>\n",
       "</div>"
      ],
      "text/plain": [
       "                 날짜                                               글_내용  좋아요_수  \\\n",
       "0     3월 4일 오후 6:21  Gyeonggi Province’s Pocheon City provides fore...     17   \n",
       "1    3월 4일 오전 10:58  Catch this week's #GTV English #News for the l...      8   \n",
       "2     3월 2일 오후 5:04  Gyeonggi Province promotes local tourism with ...     22   \n",
       "3    2월 28일 오후 5:49  Gyeonggi Province is taking the initiative in ...     52   \n",
       "4   2월 25일 오전 10:19  Catch this week's #GTV English #News for the l...     11   \n",
       "5    2월 24일 오후 3:00                    Hwaseong Fortress of Suwon City     50   \n",
       "6    2월 22일 오후 5:51  Gwacheon City of Gyeonggi Province, known as t...     17   \n",
       "7    2월 21일 오후 2:07  Catch this week's #GTV English #News for the l...     18   \n",
       "8    2월 18일 오후 3:00  Gyeonggi Province unveils Korea’s first virtua...     27   \n",
       "9    2월 15일 오전 1:00  Famous for family trips: Yangtte Farm in Gyeon...     40   \n",
       "10   2월 12일 오후 2:34  Catch this week's #GTV English #News for the l...     15   \n",
       "11  2월 10일 오후 12:00  A healing travel course in Pocheon City of Gye...     39   \n",
       "12   2월 8일 오후 12:00  Gyeonggi Province Tourism Development Plan - C...     33   \n",
       "\n",
       "    댓글수  공유수    팔로워_수  \n",
       "0     0    0  99000.0  \n",
       "1     0    0      0.0  \n",
       "2     0    2      0.0  \n",
       "3     0   11      0.0  \n",
       "4     0    0      0.0  \n",
       "5     0   10      0.0  \n",
       "6     0    0      0.0  \n",
       "7     0    0      0.0  \n",
       "8     0    1      0.0  \n",
       "9     5    3      0.0  \n",
       "10    0    0      0.0  \n",
       "11    2    2      0.0  \n",
       "12    0    1      0.0  "
      ]
     },
     "execution_count": 106,
     "metadata": {},
     "output_type": "execute_result"
    }
   ],
   "source": [
    "data"
   ]
  },
  {
   "cell_type": "markdown",
   "metadata": {},
   "source": [
    "# 코드 마지막"
   ]
  },
  {
   "cell_type": "code",
   "execution_count": null,
   "metadata": {},
   "outputs": [],
   "source": []
  }
 ],
 "metadata": {
  "interpreter": {
   "hash": "513dc2e41d739bb2c947903f3c0bbf636d03aa53ab50e61c694a27481c81805e"
  },
  "kernelspec": {
   "display_name": "Python 3.8.8 ('base')",
   "language": "python",
   "name": "python3"
  },
  "language_info": {
   "codemirror_mode": {
    "name": "ipython",
    "version": 3
   },
   "file_extension": ".py",
   "mimetype": "text/x-python",
   "name": "python",
   "nbconvert_exporter": "python",
   "pygments_lexer": "ipython3",
   "version": "3.8.8"
  },
  "orig_nbformat": 4
 },
 "nbformat": 4,
 "nbformat_minor": 2
}
