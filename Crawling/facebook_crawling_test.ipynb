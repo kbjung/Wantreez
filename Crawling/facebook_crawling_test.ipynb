{
 "cells": [
  {
   "cell_type": "markdown",
   "metadata": {},
   "source": [
    "# 페이스북 크롤링"
   ]
  },
  {
   "cell_type": "code",
   "execution_count": 1,
   "metadata": {},
   "outputs": [],
   "source": [
    "# 페이지 스크롤 횟수 설정\n",
    "num_scrolldown = 1"
   ]
  },
  {
   "cell_type": "code",
   "execution_count": 2,
   "metadata": {},
   "outputs": [],
   "source": [
    "from bs4 import BeautifulSoup as bs\n",
    "import time\n",
    "import random\n",
    "from datetime import datetime\n",
    "from selenium import webdriver\n",
    "# import getpass"
   ]
  },
  {
   "cell_type": "code",
   "execution_count": 3,
   "metadata": {},
   "outputs": [],
   "source": [
    "import pandas as pd"
   ]
  },
  {
   "cell_type": "markdown",
   "metadata": {},
   "source": [
    "## 크롤링할 사이트 접속"
   ]
  },
  {
   "cell_type": "code",
   "execution_count": 34,
   "metadata": {},
   "outputs": [],
   "source": [
    "# 크롤링할 웹사이트 주소\n",
    "url = 'https://www.facebook.com/GyeonggiKorea.en'\n",
    "\n",
    "# webdriver 로드\n",
    "driver = webdriver.Chrome('chromedriver')\n",
    "driver.get(url)\n",
    "time.sleep(3)\n",
    "driver.implicitly_wait(5)\n",
    "\n",
    "# 창 최대화\n",
    "driver.maximize_window()\n",
    "time.sleep(1)"
   ]
  },
  {
   "cell_type": "markdown",
   "metadata": {},
   "source": [
    "## 로그인"
   ]
  },
  {
   "cell_type": "code",
   "execution_count": 53,
   "metadata": {},
   "outputs": [],
   "source": [
    "# account_box = driver.find_element_by_xpath('//*[@id=\"login_form\"]/div[2]/div[1]/label/input')\n",
    "# password_box = driver.find_element_by_xpath('//*[@id=\"login_form\"]/div[2]/div[2]/label/input')\n",
    "# login_button = driver.find_element_by_xpath('//*[@id=\"login_form\"]/div[2]/div[3]/div/div/div[1]/div/span/span')\n",
    "\n",
    "# # id, password 입력 받기\n",
    "\n",
    "# id = input(\"ID를 입력하세요 : \")\n",
    "# password = getpass.getpass(\"password(비밀번호)를 입력하세요 : \")\n",
    "\n",
    "# account_box.send_keys(id)\n",
    "# time.sleep( random.uniform(0.5, 1) )\n",
    "# password_box.send_keys(password)\n",
    "# time.sleep( random.uniform(0.5, 1) )\n",
    "# login_button.click()\n",
    "# driver.implicitly_wait(3)"
   ]
  },
  {
   "cell_type": "markdown",
   "metadata": {},
   "source": [
    "## 페이지 스크롤 다운"
   ]
  },
  {
   "cell_type": "code",
   "execution_count": 5,
   "metadata": {},
   "outputs": [],
   "source": [
    "# 페이지 스크롤 다운\n",
    "for i in range(num_scrolldown):\n",
    "    driver.execute_script(\"window.scrollTo(0, document.body.scrollHeight);\")\n",
    "    time.sleep( random.uniform(1,3) )"
   ]
  },
  {
   "cell_type": "markdown",
   "metadata": {},
   "source": [
    "## 크롤링"
   ]
  },
  {
   "cell_type": "code",
   "execution_count": 6,
   "metadata": {},
   "outputs": [
    {
     "name": "stdout",
     "output_type": "stream",
     "text": [
      "Gyeonggi Korea | Facebook\n"
     ]
    }
   ],
   "source": [
    "# 페이지 크롤링\n",
    "soup = bs(driver.page_source, 'lxml')\n",
    "print(soup.title.text)"
   ]
  },
  {
   "cell_type": "markdown",
   "metadata": {},
   "source": [
    "# 게시글 크롤링"
   ]
  },
  {
   "cell_type": "markdown",
   "metadata": {},
   "source": [
    "## 게시글 수집"
   ]
  },
  {
   "cell_type": "code",
   "execution_count": 33,
   "metadata": {},
   "outputs": [
    {
     "name": "stdout",
     "output_type": "stream",
     "text": [
      "수집한 게시글 수 :  7\n"
     ]
    }
   ],
   "source": [
    "# 게시글 개수\n",
    "div = soup.find_all('div', 'du4w35lb l9j0dhe7')\n",
    "print(\"수집한 게시글 수 : \", len(div) )"
   ]
  },
  {
   "cell_type": "code",
   "execution_count": 49,
   "metadata": {},
   "outputs": [
    {
     "data": {
      "text/plain": [
       "7"
      ]
     },
     "execution_count": 49,
     "metadata": {},
     "output_type": "execute_result"
    }
   ],
   "source": [
    "temp = soup.select('div.du4w35lb.l9j0dhe7 span.tojvnm2t.a6sixzi8.abs2jz4q.a8s20v7p.t1p8iaqh.k5wvi7nf.q3lfd5jv.pk4s997a.bipmatt0.cebpdrjk.qowsmv63.owwhemhu.dp1hu0rb.dhp61c6y.iyyx5f41 a')\n",
    "len(temp)"
   ]
  },
  {
   "cell_type": "code",
   "execution_count": 50,
   "metadata": {},
   "outputs": [
    {
     "data": {
      "text/plain": [
       "'어제 오후 2:00'"
      ]
     },
     "execution_count": 50,
     "metadata": {},
     "output_type": "execute_result"
    }
   ],
   "source": [
    "temp[0].attrs['aria-label']"
   ]
  },
  {
   "cell_type": "code",
   "execution_count": 51,
   "metadata": {},
   "outputs": [
    {
     "data": {
      "text/plain": [
       "'3월 28일 오후 2:00'"
      ]
     },
     "execution_count": 51,
     "metadata": {},
     "output_type": "execute_result"
    }
   ],
   "source": [
    "temp[1].attrs['aria-label']"
   ]
  },
  {
   "cell_type": "markdown",
   "metadata": {},
   "source": [
    "## 날짜 수집"
   ]
  },
  {
   "cell_type": "code",
   "execution_count": 25,
   "metadata": {},
   "outputs": [
    {
     "name": "stdout",
     "output_type": "stream",
     "text": [
      "변환한 날짜 리스트 원소수 :  7\n"
     ]
    }
   ],
   "source": [
    "# 글 날짜 수집\n",
    "num_date_list = []\n",
    "for one in div:\n",
    "    raw_date_info = one.find_all('div', 'qzhwtbm6 knvmm38d')[1]\n",
    "    raw_date = raw_date_info.find('a').attrs['aria-label']\n",
    "\n",
    "    # # 날짜 형식 변환해서 리스트로 저장\n",
    "    if ('시간' in raw_date) or ('분' in raw_date):\n",
    "        temp = datetime.today().strftime(\"%Y-%m-%d\")\n",
    "        num_date_list.append(temp)\n",
    "    elif '어제' in raw_date:\n",
    "        temp = datetime.today().strftime(\"%Y-%m-%d\")\n",
    "        temp = temp.split('-')\n",
    "        year = temp[0]\n",
    "        month = temp[1]\n",
    "        day = int( temp[2] ) - 1\n",
    "        temp_date = f'{year}-{month:0>2}-{day:0>2}'\n",
    "        num_date_list.append(temp_date)\n",
    "    else:\n",
    "        temp = raw_date.split('일')[0]\n",
    "        temp = temp.replace(' ', '')\n",
    "        temp = temp.replace('년', '-')\n",
    "        temp = temp.replace('월', '-')\n",
    "        temp_li = temp.split('-')\n",
    "        if len(temp_li) == 3 :\n",
    "            year = temp_li[0]\n",
    "            month = temp_li[1]\n",
    "            day = temp_li[2]\n",
    "            temp_date = f'{year}-{month:0>2}-{day:0>2}'\n",
    "            num_date_list.append(temp_date)\n",
    "        elif len(temp_li) == 2:\n",
    "            year = datetime.today().strftime(\"%Y\")\n",
    "            month = temp_li[0]\n",
    "            day = temp_li[1]\n",
    "            temp_date = f'{year}-{month:0>2}-{day:0>2}'\n",
    "            num_date_list.append(temp_date)\n",
    "        else:\n",
    "            temp_day = int(temp_li[0]) + 1\n",
    "            temp = datetime.today().strftime(\"%Y-%m-%d\")\n",
    "            temp = temp.split('-')\n",
    "            year = temp[0]\n",
    "            month = temp[1]\n",
    "            day = int( temp[2] ) - temp_day\n",
    "            temp_date = f'{year}-{month:0>2}-{day:0>2}'\n",
    "            num_date_list.append(temp_date)\n",
    "            \n",
    "\n",
    "print(\"변환한 날짜 리스트 원소수 : \", len(num_date_list) )"
   ]
  },
  {
   "cell_type": "code",
   "execution_count": 26,
   "metadata": {},
   "outputs": [
    {
     "data": {
      "text/plain": [
       "['2022-03-30',\n",
       " '2022-03-28',\n",
       " '2022-03-25',\n",
       " '2022-03-25',\n",
       " '2022-03-23',\n",
       " '2022-03-21',\n",
       " '2022-03-19']"
      ]
     },
     "execution_count": 26,
     "metadata": {},
     "output_type": "execute_result"
    }
   ],
   "source": [
    "num_date_list"
   ]
  },
  {
   "cell_type": "markdown",
   "metadata": {},
   "source": [
    "## 제목 수집"
   ]
  },
  {
   "cell_type": "code",
   "execution_count": 99,
   "metadata": {},
   "outputs": [
    {
     "name": "stdout",
     "output_type": "stream",
     "text": [
      "수집한 제목 수 :  7\n"
     ]
    }
   ],
   "source": [
    "# 글 제목 수집\n",
    "title_list = []\n",
    "for one in div:\n",
    "    raw_title = one.find('div', 'kvgmc6g5 cxmmr5t8 oygrvhab hcukyx3x c1et5uql ii04i59q')\n",
    "    if raw_title == None:\n",
    "        raw_title = one.find('div', 'kvgmc6g5 cxmmr5t8 oygrvhab hcukyx3x c1et5uql')\n",
    "    title = raw_title.text\n",
    "    title_list.append(title)\n",
    "\n",
    "print(\"수집한 제목 수 : \", len(title_list))"
   ]
  },
  {
   "cell_type": "code",
   "execution_count": 100,
   "metadata": {},
   "outputs": [
    {
     "data": {
      "text/plain": [
       "['어제 시험 감독관 일이 생각보다 힘들었다. 그곳에서만 1만보를 넘게 걸었다.발목도 좀 아프고 다리도 아프고 자고 일어나니 어깨도 아프다.',\n",
       " '오늘은 페이스북 날짜 크롤링 코드를 조금 손봤다.항상 수집한 날짜가 다른 데이터보다 1개씩 많아 처리를 한번 더 해야했는데, 수정해서 다른 데이터와 동일한 개수로 수집된다.',\n",
       " '오늘 처음 페이스북 계정을 만들었다.낯설지만 조금씩 작성해 보자',\n",
       " '내 페이지의 정보를 내가 수집하면 차단되나?',\n",
       " '어떻게 내 페이지를 만드는 거지?어렵다']"
      ]
     },
     "execution_count": 100,
     "metadata": {},
     "output_type": "execute_result"
    }
   ],
   "source": [
    "title_list[:5]"
   ]
  },
  {
   "cell_type": "markdown",
   "metadata": {},
   "source": [
    "## 조회수 수집"
   ]
  },
  {
   "cell_type": "code",
   "execution_count": 101,
   "metadata": {},
   "outputs": [
    {
     "name": "stdout",
     "output_type": "stream",
     "text": [
      "수집한 조회수 수 :  7\n"
     ]
    }
   ],
   "source": [
    "# 조회수\n",
    "num_view_list = []\n",
    "for one in div:\n",
    "    num_view_list.append(0)\n",
    "\n",
    "print(\"수집한 조회수 수 : \", len(num_view_list))"
   ]
  },
  {
   "cell_type": "code",
   "execution_count": 102,
   "metadata": {},
   "outputs": [
    {
     "data": {
      "text/plain": [
       "[0, 0, 0, 0, 0]"
      ]
     },
     "execution_count": 102,
     "metadata": {},
     "output_type": "execute_result"
    }
   ],
   "source": [
    "num_view_list[:5]"
   ]
  },
  {
   "cell_type": "markdown",
   "metadata": {},
   "source": [
    "# 좋아요 수 수집"
   ]
  },
  {
   "cell_type": "code",
   "execution_count": 139,
   "metadata": {},
   "outputs": [
    {
     "name": "stdout",
     "output_type": "stream",
     "text": [
      "좋아요 수 리스트 원소수 :  7\n"
     ]
    }
   ],
   "source": [
    "# 좋아요 수 수집\n",
    "num_like_list = []\n",
    "for one in div:\n",
    "    raw_lsc_info = one.find('div', 'bp9cbjyn j83agx80 buofh1pr ni8dbmo4 stjgntxs')\n",
    "    if raw_lsc_info == None:\n",
    "        num_like_list.append(0)\n",
    "    else:\n",
    "        # 좋아요 수 수집\n",
    "        raw_like_info = raw_lsc_info.find('span', 'np69z8it et4y5ytx j7g94pet b74d5cxt qw6c0r16 kb8x4rkr ed597pkb omcyoz59 goun2846 ccm00jje s44p3ltw mk2mc5f4 qxh1up0x qtyiw8t4 tpcyxxvw k0bpgpbk hm271qws rl04r1d5 l9j0dhe7 ov9facns kavbgo14')\n",
    "        if raw_like_info == None:\n",
    "            num_like = 0\n",
    "        else:\n",
    "            raw_like = raw_like_info.find('div', 'oajrlxb2 gs1a9yip g5ia77u1 mtkw9kbi tlpljxtp qensuy8j ppp5ayq2 goun2846 ccm00jje s44p3ltw mk2mc5f4 rt8b4zig n8ej3o3l agehan2d sk4xxmp2 rq0escxv nhd2j8a9 mg4g778l pfnyh3mw p7hjln8o kvgmc6g5 cxmmr5t8 oygrvhab hcukyx3x tgvbjcpo hpfvmrgz jb3vyjys rz4wbd8a qt6c0cv9 a8nywdso l9j0dhe7 i1ao9s8h esuyzwwr f1sip0of du4w35lb n00je7tq arfg74bv qs9ysxi8 k77z8yql pq6dq46d btwxx1t3 abiwlrkh p8dawk7l lzcic4wl').attrs['aria-label']\n",
    "            num_like = int(raw_like[:-1].split(' ')[-1])\n",
    "        # 최고에요 수 수집\n",
    "        raw_best_info = raw_lsc_info.find('span', 'np69z8it et4y5ytx j7g94pet b74d5cxt qw6c0r16 kb8x4rkr ed597pkb omcyoz59 goun2846 ccm00jje s44p3ltw mk2mc5f4 qxh1up0x qtyiw8t4 tpcyxxvw k0bpgpbk hm271qws rl04r1d5 l9j0dhe7 ov9facns tkr6xdv7')\n",
    "        if raw_best_info == None:\n",
    "            num_best = 0\n",
    "        else:\n",
    "            raw_best = raw_best_info.find('div', 'oajrlxb2 gs1a9yip g5ia77u1 mtkw9kbi tlpljxtp qensuy8j ppp5ayq2 goun2846 ccm00jje s44p3ltw mk2mc5f4 rt8b4zig n8ej3o3l agehan2d sk4xxmp2 rq0escxv nhd2j8a9 mg4g778l pfnyh3mw p7hjln8o kvgmc6g5 cxmmr5t8 oygrvhab hcukyx3x tgvbjcpo hpfvmrgz jb3vyjys rz4wbd8a qt6c0cv9 a8nywdso l9j0dhe7 i1ao9s8h esuyzwwr f1sip0of du4w35lb n00je7tq arfg74bv qs9ysxi8 k77z8yql pq6dq46d btwxx1t3 abiwlrkh p8dawk7l lzcic4wl').attrs['aria-label']\n",
    "            num_best = int(raw_best[:-1].split(' ')[-1])\n",
    "        # 최종 좋아요 수\n",
    "        like = num_like + num_best\n",
    "        num_like_list.append(like)\n",
    "\n",
    "print('좋아요 수 리스트 원소수 : ',len(num_like_list))"
   ]
  },
  {
   "cell_type": "code",
   "execution_count": 141,
   "metadata": {},
   "outputs": [
    {
     "data": {
      "text/plain": [
       "[0, 1, 0, 1, 0, 0, 1]"
      ]
     },
     "execution_count": 141,
     "metadata": {},
     "output_type": "execute_result"
    }
   ],
   "source": [
    "num_like_list"
   ]
  },
  {
   "cell_type": "code",
   "execution_count": 57,
   "metadata": {},
   "outputs": [],
   "source": [
    "from selenium.webdriver.common.action_chains import ActionChains"
   ]
  },
  {
   "cell_type": "code",
   "execution_count": 63,
   "metadata": {},
   "outputs": [
    {
     "name": "stderr",
     "output_type": "stream",
     "text": [
      "<ipython-input-63-1b0928f2a80e>:1: DeprecationWarning: find_element_by_xpath is deprecated. Please use find_element(by=By.XPATH, value=xpath) instead\n",
      "  like_img = driver.find_element_by_xpath('//*[@id=\"jsc_c_2b\"]/span[1]/span/span/div/img')\n"
     ]
    }
   ],
   "source": [
    "like_img = driver.find_element_by_xpath('//*[@id=\"jsc_c_2b\"]/span[1]/span/span/div/img')\n",
    "\n",
    "act = ActionChains(driver)\n",
    "\n",
    "act.move_to_element(like_img).perform()"
   ]
  },
  {
   "cell_type": "markdown",
   "metadata": {},
   "source": [
    "## 공유, 댓글 수 수집"
   ]
  },
  {
   "cell_type": "code",
   "execution_count": 177,
   "metadata": {},
   "outputs": [
    {
     "name": "stdout",
     "output_type": "stream",
     "text": [
      "공유 수의 개수 :  7\n",
      "댓글 수의 개수 :  7\n"
     ]
    }
   ],
   "source": [
    "# 공유 수, 댓글 수 수집\n",
    "num_share_list = []\n",
    "num_comment_list = []\n",
    "for one in div:\n",
    "    sc_info = one.find('div', 'bp9cbjyn j83agx80 pfnyh3mw p1ueia1e')\n",
    "    if sc_info == None:\n",
    "        num_share = 0\n",
    "        num_comment = 0\n",
    "    else:\n",
    "        sc_list = sc_info.find_all('span', 'd2edcug0 hpfvmrgz qv66sw1b c1et5uql lr9zc1uh a8c37x1j fe6kdd0r mau55g9w c8b282yb keod5gw0 nxhoafnm aigsh9s9 d3f4x2em iv3no6db jq4qci2q a3bd9o3v b1v8xokw m9osqain')\n",
    "        if (sc_list == None) or ( len(sc_list) == 0 ):\n",
    "            num_share = 0\n",
    "            num_comment = 0\n",
    "        else:\n",
    "            for two in sc_list:\n",
    "                two_str = two.text\n",
    "                if '공유' in two_str:\n",
    "                    try:\n",
    "                        num_share = int(two_str[:-1].split(' ')[-1])\n",
    "                    except:\n",
    "                        num_share = two_str\n",
    "                elif '댓글' in two_str:\n",
    "                    try:\n",
    "                        num_comment = int(two_str[:-1].split(' ')[-1])\n",
    "                    except:\n",
    "                        num_comment = two_str\n",
    "\n",
    "    num_share_list.append(num_share)\n",
    "    num_comment_list.append(num_comment)\n",
    "\n",
    "print(\"공유 수의 개수 : \", len(num_share_list))\n",
    "print(\"댓글 수의 개수 : \", len(num_comment_list))"
   ]
  },
  {
   "cell_type": "code",
   "execution_count": 178,
   "metadata": {},
   "outputs": [
    {
     "data": {
      "text/plain": [
       "[0, 0, 0, 0, 0, 0, 1]"
      ]
     },
     "execution_count": 178,
     "metadata": {},
     "output_type": "execute_result"
    }
   ],
   "source": [
    "num_share_list"
   ]
  },
  {
   "cell_type": "code",
   "execution_count": 179,
   "metadata": {},
   "outputs": [
    {
     "data": {
      "text/plain": [
       "[0, 0, 0, 0, 0, 0, 0]"
      ]
     },
     "execution_count": 179,
     "metadata": {},
     "output_type": "execute_result"
    }
   ],
   "source": [
    "num_comment_list"
   ]
  },
  {
   "cell_type": "markdown",
   "metadata": {},
   "source": [
    "## 게시글 링크 수집"
   ]
  },
  {
   "cell_type": "markdown",
   "metadata": {},
   "source": [
    "### 로그인 안했을 때"
   ]
  },
  {
   "cell_type": "code",
   "execution_count": 180,
   "metadata": {},
   "outputs": [
    {
     "name": "stdout",
     "output_type": "stream",
     "text": [
      "링크 리스트 원소수 :  7\n"
     ]
    }
   ],
   "source": [
    "# 게시글 링크 수집1(로그인❌)\n",
    "link_list = []\n",
    "for one in div:\n",
    "    raw_link_info = one.find_all('div', 'qzhwtbm6 knvmm38d')[1]\n",
    "    link = raw_link_info.find('a', 'oajrlxb2 g5ia77u1 qu0x051f esr5mh6w e9989ue4 r7d6kgcz rq0escxv nhd2j8a9 nc684nl6 p7hjln8o kvgmc6g5 cxmmr5t8 oygrvhab hcukyx3x jb3vyjys rz4wbd8a qt6c0cv9 a8nywdso i1ao9s8h esuyzwwr f1sip0of lzcic4wl gmql0nx0 gpro0wi8 b1v8xokw').attrs['href'].split('?')[0]\n",
    "    link_list.append(link)\n",
    "\n",
    "print('링크 리스트 원소수 : ',len(link_list))"
   ]
  },
  {
   "cell_type": "code",
   "execution_count": 181,
   "metadata": {},
   "outputs": [
    {
     "data": {
      "text/plain": [
       "['https://www.facebook.com/permalink.php',\n",
       " 'https://www.facebook.com/permalink.php',\n",
       " 'https://www.facebook.com/permalink.php',\n",
       " 'https://www.facebook.com/permalink.php',\n",
       " 'https://www.facebook.com/permalink.php']"
      ]
     },
     "execution_count": 181,
     "metadata": {},
     "output_type": "execute_result"
    }
   ],
   "source": [
    "link_list[:5]"
   ]
  },
  {
   "cell_type": "markdown",
   "metadata": {},
   "source": [
    "### 로그인 했을 때"
   ]
  },
  {
   "cell_type": "code",
   "execution_count": 182,
   "metadata": {},
   "outputs": [
    {
     "name": "stdout",
     "output_type": "stream",
     "text": [
      "링크 리스트 원소수 :  7\n"
     ]
    }
   ],
   "source": [
    "# 게시글 링크 수집2(로그인⭕)\n",
    "link_list = []\n",
    "for one in div:\n",
    "    raw_link_info = one.find_all('div', 'qzhwtbm6 knvmm38d')[1]\n",
    "    link = raw_link_info.find('a', 'oajrlxb2 g5ia77u1 qu0x051f esr5mh6w e9989ue4 r7d6kgcz rq0escxv nhd2j8a9 nc684nl6 p7hjln8o kvgmc6g5 cxmmr5t8 oygrvhab hcukyx3x jb3vyjys rz4wbd8a qt6c0cv9 a8nywdso i1ao9s8h esuyzwwr f1sip0of lzcic4wl gmql0nx0 gpro0wi8 b1v8xokw').attrs['href'].split('cft')[0][:-3]\n",
    "    link_list.append(link)\n",
    "    \n",
    "print('링크 리스트 원소수 : ',len(link_list))"
   ]
  },
  {
   "cell_type": "code",
   "execution_count": 183,
   "metadata": {},
   "outputs": [
    {
     "data": {
      "text/plain": [
       "['https://www.facebook.com/permalink.php?story_fbid=108624708465224&id=100079530857939',\n",
       " 'https://www.facebook.com/permalink.php?story_fbid=107093161951712&id=100079530857939',\n",
       " 'https://www.facebook.com/permalink.php?story_fbid=106191052041923&id=100079530857939',\n",
       " 'https://www.facebook.com/permalink.php?story_fbid=106171288710566&id=100079530857939',\n",
       " 'https://www.facebook.com/permalink.php?story_fbid=106170925377269&id=100079530857939']"
      ]
     },
     "execution_count": 183,
     "metadata": {},
     "output_type": "execute_result"
    }
   ],
   "source": [
    "link_list[:5]"
   ]
  },
  {
   "cell_type": "markdown",
   "metadata": {},
   "source": [
    "## 데이터 셋 만들기"
   ]
  },
  {
   "cell_type": "code",
   "execution_count": 184,
   "metadata": {},
   "outputs": [
    {
     "data": {
      "text/html": [
       "<div>\n",
       "<style scoped>\n",
       "    .dataframe tbody tr th:only-of-type {\n",
       "        vertical-align: middle;\n",
       "    }\n",
       "\n",
       "    .dataframe tbody tr th {\n",
       "        vertical-align: top;\n",
       "    }\n",
       "\n",
       "    .dataframe thead th {\n",
       "        text-align: right;\n",
       "    }\n",
       "</style>\n",
       "<table border=\"1\" class=\"dataframe\">\n",
       "  <thead>\n",
       "    <tr style=\"text-align: right;\">\n",
       "      <th></th>\n",
       "      <th>날짜</th>\n",
       "      <th>제목</th>\n",
       "      <th>조회수</th>\n",
       "      <th>좋아요_수</th>\n",
       "      <th>공유수</th>\n",
       "      <th>댓글수</th>\n",
       "      <th>링크</th>\n",
       "    </tr>\n",
       "  </thead>\n",
       "  <tbody>\n",
       "    <tr>\n",
       "      <th>0</th>\n",
       "      <td>2022-03-27</td>\n",
       "      <td>어제 시험 감독관 일이 생각보다 힘들었다. 그곳에서만 1만보를 넘게 걸었다.발목도 ...</td>\n",
       "      <td>0</td>\n",
       "      <td>0</td>\n",
       "      <td>0</td>\n",
       "      <td>0</td>\n",
       "      <td>https://www.facebook.com/permalink.php?story_f...</td>\n",
       "    </tr>\n",
       "    <tr>\n",
       "      <th>1</th>\n",
       "      <td>2022-03-25</td>\n",
       "      <td>오늘은 페이스북 날짜 크롤링 코드를 조금 손봤다.항상 수집한 날짜가 다른 데이터보다...</td>\n",
       "      <td>0</td>\n",
       "      <td>1</td>\n",
       "      <td>0</td>\n",
       "      <td>0</td>\n",
       "      <td>https://www.facebook.com/permalink.php?story_f...</td>\n",
       "    </tr>\n",
       "    <tr>\n",
       "      <th>2</th>\n",
       "      <td>2022-03-24</td>\n",
       "      <td>오늘 처음 페이스북 계정을 만들었다.낯설지만 조금씩 작성해 보자</td>\n",
       "      <td>0</td>\n",
       "      <td>0</td>\n",
       "      <td>0</td>\n",
       "      <td>0</td>\n",
       "      <td>https://www.facebook.com/permalink.php?story_f...</td>\n",
       "    </tr>\n",
       "    <tr>\n",
       "      <th>3</th>\n",
       "      <td>2022-03-24</td>\n",
       "      <td>내 페이지의 정보를 내가 수집하면 차단되나?</td>\n",
       "      <td>0</td>\n",
       "      <td>1</td>\n",
       "      <td>0</td>\n",
       "      <td>0</td>\n",
       "      <td>https://www.facebook.com/permalink.php?story_f...</td>\n",
       "    </tr>\n",
       "    <tr>\n",
       "      <th>4</th>\n",
       "      <td>2022-03-24</td>\n",
       "      <td>어떻게 내 페이지를 만드는 거지?어렵다</td>\n",
       "      <td>0</td>\n",
       "      <td>0</td>\n",
       "      <td>0</td>\n",
       "      <td>0</td>\n",
       "      <td>https://www.facebook.com/permalink.php?story_f...</td>\n",
       "    </tr>\n",
       "    <tr>\n",
       "      <th>5</th>\n",
       "      <td>2022-03-24</td>\n",
       "      <td>이렇게 하는게 맞는 건가?잘 모르겠다</td>\n",
       "      <td>0</td>\n",
       "      <td>0</td>\n",
       "      <td>0</td>\n",
       "      <td>0</td>\n",
       "      <td>https://www.facebook.com/permalink.php?story_f...</td>\n",
       "    </tr>\n",
       "    <tr>\n",
       "      <th>6</th>\n",
       "      <td>2022-03-24</td>\n",
       "      <td>오늘 처음 페이스북 계정을 만들었다.낯설지만 조금씩 작성해 보자</td>\n",
       "      <td>0</td>\n",
       "      <td>1</td>\n",
       "      <td>1</td>\n",
       "      <td>0</td>\n",
       "      <td>https://www.facebook.com/permalink.php?story_f...</td>\n",
       "    </tr>\n",
       "  </tbody>\n",
       "</table>\n",
       "</div>"
      ],
      "text/plain": [
       "           날짜                                                 제목  조회수  좋아요_수  \\\n",
       "0  2022-03-27  어제 시험 감독관 일이 생각보다 힘들었다. 그곳에서만 1만보를 넘게 걸었다.발목도 ...    0      0   \n",
       "1  2022-03-25  오늘은 페이스북 날짜 크롤링 코드를 조금 손봤다.항상 수집한 날짜가 다른 데이터보다...    0      1   \n",
       "2  2022-03-24                오늘 처음 페이스북 계정을 만들었다.낯설지만 조금씩 작성해 보자    0      0   \n",
       "3  2022-03-24                           내 페이지의 정보를 내가 수집하면 차단되나?    0      1   \n",
       "4  2022-03-24                              어떻게 내 페이지를 만드는 거지?어렵다    0      0   \n",
       "5  2022-03-24                               이렇게 하는게 맞는 건가?잘 모르겠다    0      0   \n",
       "6  2022-03-24                오늘 처음 페이스북 계정을 만들었다.낯설지만 조금씩 작성해 보자    0      1   \n",
       "\n",
       "   공유수  댓글수                                                 링크  \n",
       "0    0    0  https://www.facebook.com/permalink.php?story_f...  \n",
       "1    0    0  https://www.facebook.com/permalink.php?story_f...  \n",
       "2    0    0  https://www.facebook.com/permalink.php?story_f...  \n",
       "3    0    0  https://www.facebook.com/permalink.php?story_f...  \n",
       "4    0    0  https://www.facebook.com/permalink.php?story_f...  \n",
       "5    0    0  https://www.facebook.com/permalink.php?story_f...  \n",
       "6    1    0  https://www.facebook.com/permalink.php?story_f...  "
      ]
     },
     "execution_count": 184,
     "metadata": {},
     "output_type": "execute_result"
    }
   ],
   "source": [
    "# 수집 데이터를 데이터 셋으로 만들기\n",
    "df = {'날짜':num_date_list, '제목':title_list, '조회수':num_view_list, '좋아요_수':num_like_list, '공유수':num_share_list, '댓글수':num_comment_list, '링크':link_list}\n",
    "data = pd.DataFrame(df)\n",
    "data"
   ]
  },
  {
   "cell_type": "markdown",
   "metadata": {},
   "source": [
    "## 데이터 셋. 날짜로 슬라이싱"
   ]
  },
  {
   "cell_type": "code",
   "execution_count": 185,
   "metadata": {},
   "outputs": [
    {
     "data": {
      "text/html": [
       "<div>\n",
       "<style scoped>\n",
       "    .dataframe tbody tr th:only-of-type {\n",
       "        vertical-align: middle;\n",
       "    }\n",
       "\n",
       "    .dataframe tbody tr th {\n",
       "        vertical-align: top;\n",
       "    }\n",
       "\n",
       "    .dataframe thead th {\n",
       "        text-align: right;\n",
       "    }\n",
       "</style>\n",
       "<table border=\"1\" class=\"dataframe\">\n",
       "  <thead>\n",
       "    <tr style=\"text-align: right;\">\n",
       "      <th></th>\n",
       "      <th>날짜</th>\n",
       "      <th>제목</th>\n",
       "      <th>조회수</th>\n",
       "      <th>좋아요_수</th>\n",
       "      <th>공유수</th>\n",
       "      <th>댓글수</th>\n",
       "      <th>링크</th>\n",
       "    </tr>\n",
       "  </thead>\n",
       "  <tbody>\n",
       "    <tr>\n",
       "      <th>0</th>\n",
       "      <td>2022-03-27</td>\n",
       "      <td>어제 시험 감독관 일이 생각보다 힘들었다. 그곳에서만 1만보를 넘게 걸었다.발목도 ...</td>\n",
       "      <td>0</td>\n",
       "      <td>0</td>\n",
       "      <td>0</td>\n",
       "      <td>0</td>\n",
       "      <td>https://www.facebook.com/permalink.php?story_f...</td>\n",
       "    </tr>\n",
       "    <tr>\n",
       "      <th>1</th>\n",
       "      <td>2022-03-25</td>\n",
       "      <td>오늘은 페이스북 날짜 크롤링 코드를 조금 손봤다.항상 수집한 날짜가 다른 데이터보다...</td>\n",
       "      <td>0</td>\n",
       "      <td>1</td>\n",
       "      <td>0</td>\n",
       "      <td>0</td>\n",
       "      <td>https://www.facebook.com/permalink.php?story_f...</td>\n",
       "    </tr>\n",
       "    <tr>\n",
       "      <th>2</th>\n",
       "      <td>2022-03-24</td>\n",
       "      <td>오늘 처음 페이스북 계정을 만들었다.낯설지만 조금씩 작성해 보자</td>\n",
       "      <td>0</td>\n",
       "      <td>0</td>\n",
       "      <td>0</td>\n",
       "      <td>0</td>\n",
       "      <td>https://www.facebook.com/permalink.php?story_f...</td>\n",
       "    </tr>\n",
       "    <tr>\n",
       "      <th>3</th>\n",
       "      <td>2022-03-24</td>\n",
       "      <td>내 페이지의 정보를 내가 수집하면 차단되나?</td>\n",
       "      <td>0</td>\n",
       "      <td>1</td>\n",
       "      <td>0</td>\n",
       "      <td>0</td>\n",
       "      <td>https://www.facebook.com/permalink.php?story_f...</td>\n",
       "    </tr>\n",
       "    <tr>\n",
       "      <th>4</th>\n",
       "      <td>2022-03-24</td>\n",
       "      <td>어떻게 내 페이지를 만드는 거지?어렵다</td>\n",
       "      <td>0</td>\n",
       "      <td>0</td>\n",
       "      <td>0</td>\n",
       "      <td>0</td>\n",
       "      <td>https://www.facebook.com/permalink.php?story_f...</td>\n",
       "    </tr>\n",
       "    <tr>\n",
       "      <th>5</th>\n",
       "      <td>2022-03-24</td>\n",
       "      <td>이렇게 하는게 맞는 건가?잘 모르겠다</td>\n",
       "      <td>0</td>\n",
       "      <td>0</td>\n",
       "      <td>0</td>\n",
       "      <td>0</td>\n",
       "      <td>https://www.facebook.com/permalink.php?story_f...</td>\n",
       "    </tr>\n",
       "    <tr>\n",
       "      <th>6</th>\n",
       "      <td>2022-03-24</td>\n",
       "      <td>오늘 처음 페이스북 계정을 만들었다.낯설지만 조금씩 작성해 보자</td>\n",
       "      <td>0</td>\n",
       "      <td>1</td>\n",
       "      <td>1</td>\n",
       "      <td>0</td>\n",
       "      <td>https://www.facebook.com/permalink.php?story_f...</td>\n",
       "    </tr>\n",
       "  </tbody>\n",
       "</table>\n",
       "</div>"
      ],
      "text/plain": [
       "           날짜                                                 제목  조회수  좋아요_수  \\\n",
       "0  2022-03-27  어제 시험 감독관 일이 생각보다 힘들었다. 그곳에서만 1만보를 넘게 걸었다.발목도 ...    0      0   \n",
       "1  2022-03-25  오늘은 페이스북 날짜 크롤링 코드를 조금 손봤다.항상 수집한 날짜가 다른 데이터보다...    0      1   \n",
       "2  2022-03-24                오늘 처음 페이스북 계정을 만들었다.낯설지만 조금씩 작성해 보자    0      0   \n",
       "3  2022-03-24                           내 페이지의 정보를 내가 수집하면 차단되나?    0      1   \n",
       "4  2022-03-24                              어떻게 내 페이지를 만드는 거지?어렵다    0      0   \n",
       "5  2022-03-24                               이렇게 하는게 맞는 건가?잘 모르겠다    0      0   \n",
       "6  2022-03-24                오늘 처음 페이스북 계정을 만들었다.낯설지만 조금씩 작성해 보자    0      1   \n",
       "\n",
       "   공유수  댓글수                                                 링크  \n",
       "0    0    0  https://www.facebook.com/permalink.php?story_f...  \n",
       "1    0    0  https://www.facebook.com/permalink.php?story_f...  \n",
       "2    0    0  https://www.facebook.com/permalink.php?story_f...  \n",
       "3    0    0  https://www.facebook.com/permalink.php?story_f...  \n",
       "4    0    0  https://www.facebook.com/permalink.php?story_f...  \n",
       "5    0    0  https://www.facebook.com/permalink.php?story_f...  \n",
       "6    1    0  https://www.facebook.com/permalink.php?story_f...  "
      ]
     },
     "execution_count": 185,
     "metadata": {},
     "output_type": "execute_result"
    }
   ],
   "source": [
    "data2 = data[data['날짜'] >= '2022-01-01']\n",
    "data2"
   ]
  },
  {
   "cell_type": "markdown",
   "metadata": {},
   "source": [
    "## 필요한 데이터만 추출"
   ]
  },
  {
   "cell_type": "code",
   "execution_count": 187,
   "metadata": {},
   "outputs": [
    {
     "data": {
      "text/plain": [
       "[]"
      ]
     },
     "execution_count": 187,
     "metadata": {},
     "output_type": "execute_result"
    }
   ],
   "source": [
    "# 작성 게시글만 추출\n",
    "removed_words = [\"Catch this week's\", \"[\"]\n",
    "\n",
    "# 제거할 단어 들어있는 행 인덱스 찾기\n",
    "temp = data2['제목'].to_list()\n",
    "remove_index = []\n",
    "for i, s in enumerate(temp):\n",
    "    for one in removed_words:\n",
    "        if one in s:\n",
    "            remove_index.append(i)\n",
    "remove_index"
   ]
  },
  {
   "cell_type": "code",
   "execution_count": 188,
   "metadata": {},
   "outputs": [
    {
     "data": {
      "text/plain": [
       "[]"
      ]
     },
     "execution_count": 188,
     "metadata": {},
     "output_type": "execute_result"
    }
   ],
   "source": [
    "# 중복 인덱스 제거\n",
    "temp_idx_set = set(remove_index)\n",
    "mod_remove_index = list(temp_idx_set)\n",
    "mod_remove_index"
   ]
  },
  {
   "cell_type": "markdown",
   "metadata": {},
   "source": [
    "## 데이터 셋. 인덱스 내림차순으로 정렬"
   ]
  },
  {
   "cell_type": "code",
   "execution_count": 189,
   "metadata": {},
   "outputs": [
    {
     "data": {
      "text/html": [
       "<div>\n",
       "<style scoped>\n",
       "    .dataframe tbody tr th:only-of-type {\n",
       "        vertical-align: middle;\n",
       "    }\n",
       "\n",
       "    .dataframe tbody tr th {\n",
       "        vertical-align: top;\n",
       "    }\n",
       "\n",
       "    .dataframe thead th {\n",
       "        text-align: right;\n",
       "    }\n",
       "</style>\n",
       "<table border=\"1\" class=\"dataframe\">\n",
       "  <thead>\n",
       "    <tr style=\"text-align: right;\">\n",
       "      <th></th>\n",
       "      <th>날짜</th>\n",
       "      <th>제목</th>\n",
       "      <th>조회수</th>\n",
       "      <th>좋아요_수</th>\n",
       "      <th>공유수</th>\n",
       "      <th>댓글수</th>\n",
       "      <th>링크</th>\n",
       "    </tr>\n",
       "  </thead>\n",
       "  <tbody>\n",
       "    <tr>\n",
       "      <th>6</th>\n",
       "      <td>2022-03-24</td>\n",
       "      <td>오늘 처음 페이스북 계정을 만들었다.낯설지만 조금씩 작성해 보자</td>\n",
       "      <td>0</td>\n",
       "      <td>1</td>\n",
       "      <td>1</td>\n",
       "      <td>0</td>\n",
       "      <td>https://www.facebook.com/permalink.php?story_f...</td>\n",
       "    </tr>\n",
       "    <tr>\n",
       "      <th>5</th>\n",
       "      <td>2022-03-24</td>\n",
       "      <td>이렇게 하는게 맞는 건가?잘 모르겠다</td>\n",
       "      <td>0</td>\n",
       "      <td>0</td>\n",
       "      <td>0</td>\n",
       "      <td>0</td>\n",
       "      <td>https://www.facebook.com/permalink.php?story_f...</td>\n",
       "    </tr>\n",
       "    <tr>\n",
       "      <th>4</th>\n",
       "      <td>2022-03-24</td>\n",
       "      <td>어떻게 내 페이지를 만드는 거지?어렵다</td>\n",
       "      <td>0</td>\n",
       "      <td>0</td>\n",
       "      <td>0</td>\n",
       "      <td>0</td>\n",
       "      <td>https://www.facebook.com/permalink.php?story_f...</td>\n",
       "    </tr>\n",
       "    <tr>\n",
       "      <th>3</th>\n",
       "      <td>2022-03-24</td>\n",
       "      <td>내 페이지의 정보를 내가 수집하면 차단되나?</td>\n",
       "      <td>0</td>\n",
       "      <td>1</td>\n",
       "      <td>0</td>\n",
       "      <td>0</td>\n",
       "      <td>https://www.facebook.com/permalink.php?story_f...</td>\n",
       "    </tr>\n",
       "    <tr>\n",
       "      <th>2</th>\n",
       "      <td>2022-03-24</td>\n",
       "      <td>오늘 처음 페이스북 계정을 만들었다.낯설지만 조금씩 작성해 보자</td>\n",
       "      <td>0</td>\n",
       "      <td>0</td>\n",
       "      <td>0</td>\n",
       "      <td>0</td>\n",
       "      <td>https://www.facebook.com/permalink.php?story_f...</td>\n",
       "    </tr>\n",
       "    <tr>\n",
       "      <th>1</th>\n",
       "      <td>2022-03-25</td>\n",
       "      <td>오늘은 페이스북 날짜 크롤링 코드를 조금 손봤다.항상 수집한 날짜가 다른 데이터보다...</td>\n",
       "      <td>0</td>\n",
       "      <td>1</td>\n",
       "      <td>0</td>\n",
       "      <td>0</td>\n",
       "      <td>https://www.facebook.com/permalink.php?story_f...</td>\n",
       "    </tr>\n",
       "    <tr>\n",
       "      <th>0</th>\n",
       "      <td>2022-03-27</td>\n",
       "      <td>어제 시험 감독관 일이 생각보다 힘들었다. 그곳에서만 1만보를 넘게 걸었다.발목도 ...</td>\n",
       "      <td>0</td>\n",
       "      <td>0</td>\n",
       "      <td>0</td>\n",
       "      <td>0</td>\n",
       "      <td>https://www.facebook.com/permalink.php?story_f...</td>\n",
       "    </tr>\n",
       "  </tbody>\n",
       "</table>\n",
       "</div>"
      ],
      "text/plain": [
       "           날짜                                                 제목  조회수  좋아요_수  \\\n",
       "6  2022-03-24                오늘 처음 페이스북 계정을 만들었다.낯설지만 조금씩 작성해 보자    0      1   \n",
       "5  2022-03-24                               이렇게 하는게 맞는 건가?잘 모르겠다    0      0   \n",
       "4  2022-03-24                              어떻게 내 페이지를 만드는 거지?어렵다    0      0   \n",
       "3  2022-03-24                           내 페이지의 정보를 내가 수집하면 차단되나?    0      1   \n",
       "2  2022-03-24                오늘 처음 페이스북 계정을 만들었다.낯설지만 조금씩 작성해 보자    0      0   \n",
       "1  2022-03-25  오늘은 페이스북 날짜 크롤링 코드를 조금 손봤다.항상 수집한 날짜가 다른 데이터보다...    0      1   \n",
       "0  2022-03-27  어제 시험 감독관 일이 생각보다 힘들었다. 그곳에서만 1만보를 넘게 걸었다.발목도 ...    0      0   \n",
       "\n",
       "   공유수  댓글수                                                 링크  \n",
       "6    1    0  https://www.facebook.com/permalink.php?story_f...  \n",
       "5    0    0  https://www.facebook.com/permalink.php?story_f...  \n",
       "4    0    0  https://www.facebook.com/permalink.php?story_f...  \n",
       "3    0    0  https://www.facebook.com/permalink.php?story_f...  \n",
       "2    0    0  https://www.facebook.com/permalink.php?story_f...  \n",
       "1    0    0  https://www.facebook.com/permalink.php?story_f...  \n",
       "0    0    0  https://www.facebook.com/permalink.php?story_f...  "
      ]
     },
     "execution_count": 189,
     "metadata": {},
     "output_type": "execute_result"
    }
   ],
   "source": [
    "# 인덱스 리셋, 내림차순 정렬\n",
    "data3 = data2.drop(mod_remove_index).reset_index(drop=True)\n",
    "final_data = data3.sort_index(ascending=False)\n",
    "final_data"
   ]
  },
  {
   "cell_type": "markdown",
   "metadata": {},
   "source": [
    "## 엑셀 파일로 출력"
   ]
  },
  {
   "cell_type": "code",
   "execution_count": 190,
   "metadata": {},
   "outputs": [
    {
     "name": "stdout",
     "output_type": "stream",
     "text": [
      "facebook_20220327-110848.xlsx 파일 생성 완료\n"
     ]
    }
   ],
   "source": [
    "# 수집한 데이터 파일료 출력\n",
    "file_name = str(datetime.today().strftime(\"%Y%m%d-%H%M%S\"))\n",
    "file_name = 'facebook_' + file_name + '.xlsx'\n",
    "path = './crawling_data/facebook/'\n",
    "final_data.to_excel(path+file_name, index=False, encoding='utf-8')\n",
    "\n",
    "print(f\"{file_name} 파일 생성 완료\")"
   ]
  },
  {
   "cell_type": "code",
   "execution_count": null,
   "metadata": {},
   "outputs": [],
   "source": [
    "# chromedriver 종료\n",
    "driver.quit()"
   ]
  },
  {
   "cell_type": "markdown",
   "metadata": {},
   "source": [
    "# 코드 마지막"
   ]
  }
 ],
 "metadata": {
  "interpreter": {
   "hash": "513dc2e41d739bb2c947903f3c0bbf636d03aa53ab50e61c694a27481c81805e"
  },
  "kernelspec": {
   "display_name": "Python 3.8.8 ('base')",
   "language": "python",
   "name": "python3"
  },
  "language_info": {
   "codemirror_mode": {
    "name": "ipython",
    "version": 3
   },
   "file_extension": ".py",
   "mimetype": "text/x-python",
   "name": "python",
   "nbconvert_exporter": "python",
   "pygments_lexer": "ipython3",
   "version": "3.8.8"
  },
  "orig_nbformat": 4
 },
 "nbformat": 4,
 "nbformat_minor": 2
}
