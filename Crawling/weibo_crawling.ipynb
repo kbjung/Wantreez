{
 "cells": [
  {
   "cell_type": "code",
   "execution_count": 2,
   "metadata": {},
   "outputs": [],
   "source": [
    "from bs4 import BeautifulSoup as bs\n",
    "import time\n",
    "from selenium import webdriver\n",
    "import pandas as pd\n",
    "import datetime"
   ]
  },
  {
   "cell_type": "code",
   "execution_count": 236,
   "metadata": {},
   "outputs": [
    {
     "name": "stderr",
     "output_type": "stream",
     "text": [
      "<ipython-input-236-7107530d94fb>:13: DeprecationWarning: find_element_by_* commands are deprecated. Please use find_element() instead\n",
      "  element_id = driver.find_element_by_id('loginname')\n",
      "<ipython-input-236-7107530d94fb>:16: DeprecationWarning: find_element_by_name is deprecated. Please use find_element(by=By.NAME, value=name) instead\n",
      "  element_password = driver.find_element_by_name('password')\n",
      "<ipython-input-236-7107530d94fb>:22: DeprecationWarning: find_element_by_xpath is deprecated. Please use find_element(by=By.XPATH, value=xpath) instead\n",
      "  driver.find_element_by_xpath('//*[@id=\"pl_login_form\"]/div/div[3]/div[6]/a').click()\n"
     ]
    }
   ],
   "source": [
    "# 사이트 로그인\n",
    "driver = webdriver.Chrome('chromedriver')\n",
    "driver.get(\"https://weibo.com/login.php\")\n",
    "driver.implicitly_wait(20)\n",
    "# 창 최대화\n",
    "driver.maximize_window()\n",
    "time.sleep(1)\n",
    "\n",
    "username = 'globalgg1@gg.go.kr'\n",
    "password = 'zhsxpscm123!'\n",
    "\n",
    "# id, passward 입력하기\n",
    "element_id = driver.find_element_by_id('loginname')\n",
    "element_id.send_keys(username)\n",
    "time.sleep(1)\n",
    "element_password = driver.find_element_by_name('password')\n",
    "element_password.send_keys(password)\n",
    "\n",
    "time.sleep(1.5)\n",
    "\n",
    "##로그인버튼 클릭\n",
    "driver.find_element_by_xpath('//*[@id=\"pl_login_form\"]/div/div[3]/div[6]/a').click()"
   ]
  },
  {
   "cell_type": "code",
   "execution_count": 237,
   "metadata": {},
   "outputs": [
    {
     "data": {
      "text/plain": [
       "<title>京畿道官博的微博_微博</title>"
      ]
     },
     "execution_count": 237,
     "metadata": {},
     "output_type": "execute_result"
    }
   ],
   "source": [
    "url = 'https://weibo.com/p/1001066011831795/home?from=page_100106&mod=TAB#place'\n",
    "# webdriver 로드\n",
    "driver.get(url)\n",
    "driver.implicitly_wait(3)\n",
    "\n",
    "# 페이지 크롤링\n",
    "soup = bs(driver.page_source, 'lxml')\n",
    "soup.title"
   ]
  },
  {
   "cell_type": "code",
   "execution_count": 238,
   "metadata": {},
   "outputs": [
    {
     "data": {
      "text/plain": [
       "'京畿道东豆川市，在逍遥山相遇的历史中的雪花旅行京畿道东豆川市是 在地缘政治上具有重要意义的地方。离首都首尔的市中心的光华门有40km远，因为从地图上看，它是目前分裂的韩半岛的中心。东豆川市迎来适合旅行的季节春天，有着很多历史和故事的场所。历史上具有重要价值的名胜之一\"逍遥山\"。...展开全文c'"
      ]
     },
     "execution_count": 238,
     "metadata": {},
     "output_type": "execute_result"
    }
   ],
   "source": [
    "raw_contents = soup.find_all('div', class_='WB_text W_f14')\n",
    "raw_contents[0].text.strip()"
   ]
  },
  {
   "cell_type": "code",
   "execution_count": 239,
   "metadata": {},
   "outputs": [
    {
     "data": {
      "text/plain": [
       "15"
      ]
     },
     "execution_count": 239,
     "metadata": {},
     "output_type": "execute_result"
    }
   ],
   "source": [
    "content_list = []\n",
    "for i in range(len(raw_contents)):\n",
    "    content = raw_contents[i].text.strip()\n",
    "    content_list.append(content)\n",
    "len(content_list)"
   ]
  },
  {
   "cell_type": "code",
   "execution_count": 240,
   "metadata": {},
   "outputs": [
    {
     "data": {
      "text/plain": [
       "15"
      ]
     },
     "execution_count": 240,
     "metadata": {},
     "output_type": "execute_result"
    }
   ],
   "source": [
    "raw_number_view = soup.find_all('i', class_='S_txt2')\n",
    "len(raw_number_view)"
   ]
  },
  {
   "cell_type": "code",
   "execution_count": 241,
   "metadata": {},
   "outputs": [
    {
     "data": {
      "text/plain": [
       "'3193'"
      ]
     },
     "execution_count": 241,
     "metadata": {},
     "output_type": "execute_result"
    }
   ],
   "source": [
    "temp = raw_number_view[1].attrs['title']\n",
    "temp[9:-1]"
   ]
  },
  {
   "cell_type": "code",
   "execution_count": 242,
   "metadata": {},
   "outputs": [
    {
     "data": {
      "text/plain": [
       "10686"
      ]
     },
     "execution_count": 242,
     "metadata": {},
     "output_type": "execute_result"
    }
   ],
   "source": [
    "temp = raw_number_view[2].attrs['title']\n",
    "int(temp[9:-1])"
   ]
  },
  {
   "cell_type": "code",
   "execution_count": 243,
   "metadata": {},
   "outputs": [
    {
     "data": {
      "text/plain": [
       "(15,\n",
       " [3700,\n",
       "  3193,\n",
       "  10686,\n",
       "  5558,\n",
       "  7667,\n",
       "  11292,\n",
       "  11280,\n",
       "  12742,\n",
       "  14243,\n",
       "  14211,\n",
       "  14551,\n",
       "  18309,\n",
       "  16642,\n",
       "  17800,\n",
       "  18773])"
      ]
     },
     "execution_count": 243,
     "metadata": {},
     "output_type": "execute_result"
    }
   ],
   "source": [
    "number_view_list = []\n",
    "for i in range(len(raw_number_view)):\n",
    "    temp = raw_number_view[i].attrs['title']\n",
    "    number_view = int(temp[9:-1])\n",
    "    number_view_list.append(number_view)\n",
    "len(number_view_list), number_view_list"
   ]
  },
  {
   "cell_type": "code",
   "execution_count": 244,
   "metadata": {},
   "outputs": [
    {
     "data": {
      "text/plain": [
       "<em>1</em>"
      ]
     },
     "execution_count": 244,
     "metadata": {},
     "output_type": "execute_result"
    }
   ],
   "source": [
    "raw_info = soup.find_all('span', 'line S_line1')\n",
    "temp = raw_info[3]\n",
    "temp.find_all('em')[-1]"
   ]
  },
  {
   "cell_type": "code",
   "execution_count": 245,
   "metadata": {},
   "outputs": [
    {
     "data": {
      "text/plain": [
       "<em>1</em>"
      ]
     },
     "execution_count": 245,
     "metadata": {},
     "output_type": "execute_result"
    }
   ],
   "source": [
    "raw_info = soup.find_all('span', 'line S_line1')\n",
    "temp = raw_info[7]\n",
    "temp.find_all('em')[-1]"
   ]
  },
  {
   "cell_type": "code",
   "execution_count": 246,
   "metadata": {},
   "outputs": [
    {
     "data": {
      "text/plain": [
       "<em>3</em>"
      ]
     },
     "execution_count": 246,
     "metadata": {},
     "output_type": "execute_result"
    }
   ],
   "source": [
    "raw_info = soup.find_all('span', 'line S_line1')\n",
    "temp = raw_info[11]\n",
    "temp.find_all('em')[-1]"
   ]
  },
  {
   "cell_type": "code",
   "execution_count": 247,
   "metadata": {},
   "outputs": [
    {
     "data": {
      "text/plain": [
       "<em>2</em>"
      ]
     },
     "execution_count": 247,
     "metadata": {},
     "output_type": "execute_result"
    }
   ],
   "source": [
    "raw_info = soup.find_all('span', 'line S_line1')\n",
    "temp = raw_info[15]\n",
    "temp.find_all('em')[-1]"
   ]
  },
  {
   "cell_type": "code",
   "execution_count": 248,
   "metadata": {},
   "outputs": [
    {
     "data": {
      "text/plain": [
       "(15, [1, 1, 3, 2, 2, 2, 4, 3, 3, 3, 5, 1, 3, 2, 3])"
      ]
     },
     "execution_count": 248,
     "metadata": {},
     "output_type": "execute_result"
    }
   ],
   "source": [
    "number_like_list = []\n",
    "num_range = (len(raw_info) - 3) // 4 + 1\n",
    "raw_info = soup.find_all('span', 'line S_line1')\n",
    "for i in range(num_range):\n",
    "    num = ( i + 1 ) * 4 - 1\n",
    "    temp = raw_info[num]\n",
    "    temp = temp.find_all('em')[-1].text\n",
    "    number_like = int(temp)\n",
    "    number_like_list.append(number_like)\n",
    "len(number_like_list), number_like_list"
   ]
  },
  {
   "cell_type": "code",
   "execution_count": 249,
   "metadata": {},
   "outputs": [
    {
     "data": {
      "text/plain": [
       "<span class=\"line S_line1\" node-type=\"forward_btn_text\"><span><em class=\"W_ficon ficon_forward S_ficon\"></em><em>转发</em></span></span>"
      ]
     },
     "execution_count": 249,
     "metadata": {},
     "output_type": "execute_result"
    }
   ],
   "source": [
    "raw_number_comment = soup.find_all('span', 'line S_line1')\n",
    "raw_number_comment[1]"
   ]
  },
  {
   "cell_type": "code",
   "execution_count": 250,
   "metadata": {},
   "outputs": [
    {
     "data": {
      "text/plain": [
       "<span class=\"line S_line1\" node-type=\"forward_btn_text\"><span><em class=\"W_ficon ficon_forward S_ficon\"></em><em>转发</em></span></span>"
      ]
     },
     "execution_count": 250,
     "metadata": {},
     "output_type": "execute_result"
    }
   ],
   "source": [
    "raw_number_comment[5]"
   ]
  },
  {
   "cell_type": "code",
   "execution_count": 251,
   "metadata": {},
   "outputs": [
    {
     "data": {
      "text/plain": [
       "<span class=\"line S_line1\" node-type=\"comment_btn_text\"><span><em class=\"W_ficon ficon_repeat S_ficon\"></em><em>评论</em></span></span>"
      ]
     },
     "execution_count": 251,
     "metadata": {},
     "output_type": "execute_result"
    }
   ],
   "source": [
    "raw_number_comment[2]"
   ]
  },
  {
   "cell_type": "code",
   "execution_count": 252,
   "metadata": {},
   "outputs": [
    {
     "data": {
      "text/plain": [
       "<span class=\"line S_line1\" node-type=\"comment_btn_text\"><span><em class=\"W_ficon ficon_repeat S_ficon\"></em><em>评论</em></span></span>"
      ]
     },
     "execution_count": 252,
     "metadata": {},
     "output_type": "execute_result"
    }
   ],
   "source": [
    "raw_number_comment[6]"
   ]
  },
  {
   "cell_type": "code",
   "execution_count": 253,
   "metadata": {},
   "outputs": [
    {
     "data": {
      "text/plain": [
       "(15, [0, 0, 0, 0, 0, 1, 0, 0, 0, 0, 0, 0, 1, 0, 1])"
      ]
     },
     "execution_count": 253,
     "metadata": {},
     "output_type": "execute_result"
    }
   ],
   "source": [
    "number_share_list = []\n",
    "num_range = (len(raw_info) - 3) // 4 + 1\n",
    "raw_info = soup.find_all('span', 'line S_line1')\n",
    "for i in range(num_range):\n",
    "    num = ( i + 1 ) * 4 - 3\n",
    "    temp = raw_info[num]\n",
    "    temp = temp.find_all('em')[-1].text\n",
    "    if '转发' in temp:\n",
    "        number_share_list.append(0)\n",
    "    else:\n",
    "        number_like = int(temp)\n",
    "        number_share_list.append(number_like)\n",
    "len(number_share_list), number_share_list"
   ]
  },
  {
   "cell_type": "code",
   "execution_count": 254,
   "metadata": {},
   "outputs": [
    {
     "data": {
      "text/plain": [
       "(15, [0, 0, 0, 0, 1, 0, 0, 1, 0, 0, 1, 1, 1, 0, 0])"
      ]
     },
     "execution_count": 254,
     "metadata": {},
     "output_type": "execute_result"
    }
   ],
   "source": [
    "number_comment_list = []\n",
    "num_range_like = (len(raw_info) - 3) // 4 + 1\n",
    "raw_info = soup.find_all('span', 'line S_line1')\n",
    "for i in range(num_range_like):\n",
    "    num = ( i + 1 ) * 4 - 2\n",
    "    temp = raw_info[num]\n",
    "    temp = temp.find_all('em')[-1].text\n",
    "    if '评论' in temp:\n",
    "        number_comment_list.append(0)\n",
    "    else:\n",
    "        number_like = int(temp)\n",
    "        number_comment_list.append(number_like)\n",
    "len(number_comment_list), number_comment_list"
   ]
  },
  {
   "cell_type": "code",
   "execution_count": 267,
   "metadata": {},
   "outputs": [
    {
     "data": {
      "text/plain": [
       "'2022-03-02'"
      ]
     },
     "execution_count": 267,
     "metadata": {},
     "output_type": "execute_result"
    }
   ],
   "source": [
    "raw_date = soup.find_all('div', 'WB_from S_txt2')\n",
    "temp = raw_date[0].find('a', 'S_txt2')\n",
    "temp.attrs['title'][:10]"
   ]
  },
  {
   "cell_type": "code",
   "execution_count": 268,
   "metadata": {},
   "outputs": [
    {
     "data": {
      "text/plain": [
       "'2022-02-28'"
      ]
     },
     "execution_count": 268,
     "metadata": {},
     "output_type": "execute_result"
    }
   ],
   "source": [
    "raw_date = soup.find_all('div', 'WB_from S_txt2')\n",
    "temp = raw_date[1].find('a', 'S_txt2')\n",
    "temp.attrs['title'][:10]"
   ]
  },
  {
   "cell_type": "code",
   "execution_count": 269,
   "metadata": {},
   "outputs": [
    {
     "data": {
      "text/plain": [
       "15"
      ]
     },
     "execution_count": 269,
     "metadata": {},
     "output_type": "execute_result"
    }
   ],
   "source": [
    "len(raw_date)"
   ]
  },
  {
   "cell_type": "code",
   "execution_count": 270,
   "metadata": {},
   "outputs": [
    {
     "data": {
      "text/plain": [
       "(15,\n",
       " ['2022-03-02',\n",
       "  '2022-02-28',\n",
       "  '2022-02-24',\n",
       "  '2022-02-22',\n",
       "  '2022-02-18',\n",
       "  '2022-02-15',\n",
       "  '2022-02-10',\n",
       "  '2022-02-08',\n",
       "  '2022-02-06',\n",
       "  '2022-02-04',\n",
       "  '2022-02-01',\n",
       "  '2022-01-27',\n",
       "  '2022-01-26',\n",
       "  '2022-01-24',\n",
       "  '2022-01-20'])"
      ]
     },
     "execution_count": 270,
     "metadata": {},
     "output_type": "execute_result"
    }
   ],
   "source": [
    "date_list = []\n",
    "raw_date = soup.find_all('div', 'WB_from S_txt2')\n",
    "for i in range(len(raw_date)):\n",
    "    temp = raw_date[i].find('a', 'S_txt2')\n",
    "    date = temp.attrs['title'][:10]\n",
    "    date_list.append(date)\n",
    "len(date_list), date_list"
   ]
  },
  {
   "cell_type": "code",
   "execution_count": 274,
   "metadata": {},
   "outputs": [
    {
     "data": {
      "text/plain": [
       "'530741'"
      ]
     },
     "execution_count": 274,
     "metadata": {},
     "output_type": "execute_result"
    }
   ],
   "source": [
    "number_of_follower = soup.find_all('strong', 'W_f16')\n",
    "number_of_follower[1].text"
   ]
  },
  {
   "cell_type": "code",
   "execution_count": 275,
   "metadata": {},
   "outputs": [
    {
     "data": {
      "text/plain": [
       "(15, [530741, 0, 0, 0, 0, 0, 0, 0, 0, 0, 0, 0, 0, 0, 0])"
      ]
     },
     "execution_count": 275,
     "metadata": {},
     "output_type": "execute_result"
    }
   ],
   "source": [
    "number_follower_list = []\n",
    "number_of_follower = soup.find_all('strong', 'W_f16')\n",
    "num = int(number_of_follower[1].text)\n",
    "number_follower_list.append(num)\n",
    "for i in range(len(date_list)-1):\n",
    "    number_follower_list.append(0)\n",
    "len(number_follower_list), number_follower_list"
   ]
  },
  {
   "cell_type": "code",
   "execution_count": 276,
   "metadata": {},
   "outputs": [
    {
     "data": {
      "text/html": [
       "<div>\n",
       "<style scoped>\n",
       "    .dataframe tbody tr th:only-of-type {\n",
       "        vertical-align: middle;\n",
       "    }\n",
       "\n",
       "    .dataframe tbody tr th {\n",
       "        vertical-align: top;\n",
       "    }\n",
       "\n",
       "    .dataframe thead th {\n",
       "        text-align: right;\n",
       "    }\n",
       "</style>\n",
       "<table border=\"1\" class=\"dataframe\">\n",
       "  <thead>\n",
       "    <tr style=\"text-align: right;\">\n",
       "      <th></th>\n",
       "      <th>날짜</th>\n",
       "      <th>제목</th>\n",
       "      <th>조회수</th>\n",
       "      <th>좋아요_수</th>\n",
       "      <th>공유수</th>\n",
       "      <th>댓글수</th>\n",
       "      <th>팔로워_수</th>\n",
       "    </tr>\n",
       "  </thead>\n",
       "  <tbody>\n",
       "    <tr>\n",
       "      <th>0</th>\n",
       "      <td>2022-03-02</td>\n",
       "      <td>京畿道东豆川市，在逍遥山相遇的历史中的雪花旅行京畿道东豆川市是 在地缘政治上具有重要意义的地...</td>\n",
       "      <td>3700</td>\n",
       "      <td>1</td>\n",
       "      <td>0</td>\n",
       "      <td>0</td>\n",
       "      <td>530741</td>\n",
       "    </tr>\n",
       "    <tr>\n",
       "      <th>1</th>\n",
       "      <td>2022-02-28</td>\n",
       "      <td>京畿道杨州Hot Place，在露营餐厅享受吧！从古至今以美丽风景和新鲜空气而有名的城市，京...</td>\n",
       "      <td>3193</td>\n",
       "      <td>1</td>\n",
       "      <td>0</td>\n",
       "      <td>0</td>\n",
       "      <td>0</td>\n",
       "    </tr>\n",
       "    <tr>\n",
       "      <th>2</th>\n",
       "      <td>2022-02-24</td>\n",
       "      <td>历史遗迹和现代共存的京畿道光明市，我们家族的旅游路线。京畿道光明市是由于首尔地区变大而产生的...</td>\n",
       "      <td>10686</td>\n",
       "      <td>3</td>\n",
       "      <td>0</td>\n",
       "      <td>0</td>\n",
       "      <td>0</td>\n",
       "    </tr>\n",
       "    <tr>\n",
       "      <th>3</th>\n",
       "      <td>2022-02-22</td>\n",
       "      <td>世界文化遗产之都,京畿道广州市，自然与历史共存的旅行在京畿道里，广州市是面积比较大的城市。空...</td>\n",
       "      <td>5558</td>\n",
       "      <td>2</td>\n",
       "      <td>0</td>\n",
       "      <td>0</td>\n",
       "      <td>0</td>\n",
       "    </tr>\n",
       "    <tr>\n",
       "      <th>4</th>\n",
       "      <td>2022-02-18</td>\n",
       "      <td>京畿道北部文化与教育中心，介绍一下议政府的代表性旅游景区。议政府是位于京畿道北部，首都的关口...</td>\n",
       "      <td>7667</td>\n",
       "      <td>2</td>\n",
       "      <td>0</td>\n",
       "      <td>1</td>\n",
       "      <td>0</td>\n",
       "    </tr>\n",
       "    <tr>\n",
       "      <th>5</th>\n",
       "      <td>2022-02-15</td>\n",
       "      <td>以家人旅行出名的城市，京畿道杨平郡羊群牧场京畿道杨平郡是包括电影和电视剧中无数登场的著名景点...</td>\n",
       "      <td>11292</td>\n",
       "      <td>2</td>\n",
       "      <td>1</td>\n",
       "      <td>0</td>\n",
       "      <td>0</td>\n",
       "    </tr>\n",
       "    <tr>\n",
       "      <th>6</th>\n",
       "      <td>2022-02-10</td>\n",
       "      <td>有谁还没有去过？👀我们的孩子们更喜欢的京畿道利川市必去的旅行路线👨‍👦🌟 雪峰公园代表利川市...</td>\n",
       "      <td>11280</td>\n",
       "      <td>4</td>\n",
       "      <td>0</td>\n",
       "      <td>0</td>\n",
       "      <td>0</td>\n",
       "    </tr>\n",
       "    <tr>\n",
       "      <th>7</th>\n",
       "      <td>2022-02-08</td>\n",
       "      <td>介绍一下京畿道安山市家族旅行路线。大韩民国安山市作为外国人居住众多的城市，有着以首都圈内最好...</td>\n",
       "      <td>12742</td>\n",
       "      <td>3</td>\n",
       "      <td>0</td>\n",
       "      <td>1</td>\n",
       "      <td>0</td>\n",
       "    </tr>\n",
       "    <tr>\n",
       "      <th>8</th>\n",
       "      <td>2022-02-06</td>\n",
       "      <td>保存着历史的自豪的城市富川，大韩民国历史旅行路线京畿道富川市是具有独特个性的城市。从很早的先...</td>\n",
       "      <td>14243</td>\n",
       "      <td>3</td>\n",
       "      <td>0</td>\n",
       "      <td>0</td>\n",
       "      <td>0</td>\n",
       "    </tr>\n",
       "    <tr>\n",
       "      <th>9</th>\n",
       "      <td>2022-02-04</td>\n",
       "      <td>这里是被得天独厚的自然环境包围的美丽的城市，京畿道果川市。作为随处都可以感受到文化艺术的幸福...</td>\n",
       "      <td>14211</td>\n",
       "      <td>3</td>\n",
       "      <td>0</td>\n",
       "      <td>0</td>\n",
       "      <td>0</td>\n",
       "    </tr>\n",
       "    <tr>\n",
       "      <th>10</th>\n",
       "      <td>2022-02-01</td>\n",
       "      <td>虎年大吉大吉大利新年蒙福#京畿道##朝鲜半岛##京畿道旅游##虎年大吉##大吉大利##新年蒙...</td>\n",
       "      <td>14551</td>\n",
       "      <td>5</td>\n",
       "      <td>0</td>\n",
       "      <td>1</td>\n",
       "      <td>0</td>\n",
       "    </tr>\n",
       "    <tr>\n",
       "      <th>11</th>\n",
       "      <td>2022-01-27</td>\n",
       "      <td>介绍一下京畿道观光名地，幸州山城与历史公园。在大韩民国京畿道有一些历史悠久的山城。其中，介绍...</td>\n",
       "      <td>18309</td>\n",
       "      <td>1</td>\n",
       "      <td>0</td>\n",
       "      <td>1</td>\n",
       "      <td>0</td>\n",
       "    </tr>\n",
       "    <tr>\n",
       "      <th>12</th>\n",
       "      <td>2022-01-26</td>\n",
       "      <td>拥有很多世界文化遗产的美丽的水原华城2021年在华城举办了‘媒体艺术秀’。通过史无前例的灯光...</td>\n",
       "      <td>16642</td>\n",
       "      <td>3</td>\n",
       "      <td>1</td>\n",
       "      <td>1</td>\n",
       "      <td>0</td>\n",
       "    </tr>\n",
       "    <tr>\n",
       "      <th>13</th>\n",
       "      <td>2022-01-24</td>\n",
       "      <td>主题公园，都去过哪里呢介绍一下位于京畿道的国内最大的汽车主题公园。位于京畿道高阳市的，现代汽...</td>\n",
       "      <td>17800</td>\n",
       "      <td>2</td>\n",
       "      <td>0</td>\n",
       "      <td>0</td>\n",
       "      <td>0</td>\n",
       "    </tr>\n",
       "    <tr>\n",
       "      <th>14</th>\n",
       "      <td>2022-01-20</td>\n",
       "      <td>🎹 风乐响起来!! 🎺🎺在京畿道的博物馆都去过哪里？@@(学习历史最好的地方👍👍)👉京畿道博...</td>\n",
       "      <td>18773</td>\n",
       "      <td>3</td>\n",
       "      <td>1</td>\n",
       "      <td>0</td>\n",
       "      <td>0</td>\n",
       "    </tr>\n",
       "  </tbody>\n",
       "</table>\n",
       "</div>"
      ],
      "text/plain": [
       "            날짜                                                 제목    조회수  \\\n",
       "0   2022-03-02  京畿道东豆川市，在逍遥山相遇的历史中的雪花旅行京畿道东豆川市是 在地缘政治上具有重要意义的地...   3700   \n",
       "1   2022-02-28  京畿道杨州Hot Place，在露营餐厅享受吧！从古至今以美丽风景和新鲜空气而有名的城市，京...   3193   \n",
       "2   2022-02-24  历史遗迹和现代共存的京畿道光明市，我们家族的旅游路线。京畿道光明市是由于首尔地区变大而产生的...  10686   \n",
       "3   2022-02-22  世界文化遗产之都,京畿道广州市，自然与历史共存的旅行在京畿道里，广州市是面积比较大的城市。空...   5558   \n",
       "4   2022-02-18  京畿道北部文化与教育中心，介绍一下议政府的代表性旅游景区。议政府是位于京畿道北部，首都的关口...   7667   \n",
       "5   2022-02-15  以家人旅行出名的城市，京畿道杨平郡羊群牧场京畿道杨平郡是包括电影和电视剧中无数登场的著名景点...  11292   \n",
       "6   2022-02-10  有谁还没有去过？👀我们的孩子们更喜欢的京畿道利川市必去的旅行路线👨‍👦🌟 雪峰公园代表利川市...  11280   \n",
       "7   2022-02-08  介绍一下京畿道安山市家族旅行路线。大韩民国安山市作为外国人居住众多的城市，有着以首都圈内最好...  12742   \n",
       "8   2022-02-06  保存着历史的自豪的城市富川，大韩民国历史旅行路线京畿道富川市是具有独特个性的城市。从很早的先...  14243   \n",
       "9   2022-02-04  这里是被得天独厚的自然环境包围的美丽的城市，京畿道果川市。作为随处都可以感受到文化艺术的幸福...  14211   \n",
       "10  2022-02-01  虎年大吉大吉大利新年蒙福#京畿道##朝鲜半岛##京畿道旅游##虎年大吉##大吉大利##新年蒙...  14551   \n",
       "11  2022-01-27  介绍一下京畿道观光名地，幸州山城与历史公园。在大韩民国京畿道有一些历史悠久的山城。其中，介绍...  18309   \n",
       "12  2022-01-26  拥有很多世界文化遗产的美丽的水原华城2021年在华城举办了‘媒体艺术秀’。通过史无前例的灯光...  16642   \n",
       "13  2022-01-24  主题公园，都去过哪里呢介绍一下位于京畿道的国内最大的汽车主题公园。位于京畿道高阳市的，现代汽...  17800   \n",
       "14  2022-01-20  🎹 风乐响起来!! 🎺🎺在京畿道的博物馆都去过哪里？@@(学习历史最好的地方👍👍)👉京畿道博...  18773   \n",
       "\n",
       "    좋아요_수  공유수  댓글수   팔로워_수  \n",
       "0       1    0    0  530741  \n",
       "1       1    0    0       0  \n",
       "2       3    0    0       0  \n",
       "3       2    0    0       0  \n",
       "4       2    0    1       0  \n",
       "5       2    1    0       0  \n",
       "6       4    0    0       0  \n",
       "7       3    0    1       0  \n",
       "8       3    0    0       0  \n",
       "9       3    0    0       0  \n",
       "10      5    0    1       0  \n",
       "11      1    0    1       0  \n",
       "12      3    1    1       0  \n",
       "13      2    0    0       0  \n",
       "14      3    1    0       0  "
      ]
     },
     "execution_count": 276,
     "metadata": {},
     "output_type": "execute_result"
    }
   ],
   "source": [
    "data = {'날짜':date_list,\n",
    "        '제목':content_list,\n",
    "        '조회수':number_view_list,\n",
    "        '좋아요_수':number_like_list,\n",
    "        '공유수':number_share_list,\n",
    "        '댓글수':number_comment_list,\n",
    "        '팔로워_수':number_follower_list\n",
    "}\n",
    "df = pd.DataFrame(data)\n",
    "df"
   ]
  },
  {
   "cell_type": "code",
   "execution_count": 167,
   "metadata": {},
   "outputs": [
    {
     "data": {
      "text/html": [
       "<div>\n",
       "<style scoped>\n",
       "    .dataframe tbody tr th:only-of-type {\n",
       "        vertical-align: middle;\n",
       "    }\n",
       "\n",
       "    .dataframe tbody tr th {\n",
       "        vertical-align: top;\n",
       "    }\n",
       "\n",
       "    .dataframe thead th {\n",
       "        text-align: right;\n",
       "    }\n",
       "</style>\n",
       "<table border=\"1\" class=\"dataframe\">\n",
       "  <thead>\n",
       "    <tr style=\"text-align: right;\">\n",
       "      <th></th>\n",
       "      <th>제목</th>\n",
       "      <th>조회수</th>\n",
       "      <th>좋아요 수</th>\n",
       "      <th>공유수</th>\n",
       "      <th>댓글수</th>\n",
       "    </tr>\n",
       "  </thead>\n",
       "  <tbody>\n",
       "    <tr>\n",
       "      <th>0</th>\n",
       "      <td>京畿道东豆川市，在逍遥山相遇的历史中的雪花旅行京畿道东豆川市是 在地缘政治上具有重要意义的地...</td>\n",
       "      <td>3673.0</td>\n",
       "      <td>1</td>\n",
       "      <td>0</td>\n",
       "      <td>0</td>\n",
       "    </tr>\n",
       "    <tr>\n",
       "      <th>1</th>\n",
       "      <td>京畿道杨州Hot Place，在露营餐厅享受吧！从古至今以美丽风景和新鲜空气而有名的城市，京...</td>\n",
       "      <td>3176.0</td>\n",
       "      <td>1</td>\n",
       "      <td>0</td>\n",
       "      <td>0</td>\n",
       "    </tr>\n",
       "    <tr>\n",
       "      <th>2</th>\n",
       "      <td>历史遗迹和现代共存的京畿道光明市，我们家族的旅游路线。京畿道光明市是由于首尔地区变大而产生的...</td>\n",
       "      <td>11000.0</td>\n",
       "      <td>3</td>\n",
       "      <td>0</td>\n",
       "      <td>0</td>\n",
       "    </tr>\n",
       "  </tbody>\n",
       "</table>\n",
       "</div>"
      ],
      "text/plain": [
       "                                                  제목      조회수  좋아요 수  공유수  댓글수\n",
       "0  京畿道东豆川市，在逍遥山相遇的历史中的雪花旅行京畿道东豆川市是 在地缘政治上具有重要意义的地...   3673.0      1    0    0\n",
       "1  京畿道杨州Hot Place，在露营餐厅享受吧！从古至今以美丽风景和新鲜空气而有名的城市，京...   3176.0      1    0    0\n",
       "2  历史遗迹和现代共存的京畿道光明市，我们家族的旅游路线。京畿道光明市是由于首尔地区变大而产生的...  11000.0      3    0    0"
      ]
     },
     "execution_count": 167,
     "metadata": {},
     "output_type": "execute_result"
    }
   ],
   "source": [
    "mod_df = df.iloc[:3,:]\n",
    "mod_df"
   ]
  },
  {
   "cell_type": "markdown",
   "metadata": {},
   "source": [
    "# weibo 자료 수집"
   ]
  },
  {
   "cell_type": "code",
   "execution_count": 219,
   "metadata": {},
   "outputs": [],
   "source": [
    "from bs4 import BeautifulSoup as bs\n",
    "import time\n",
    "from selenium import webdriver\n",
    "import pandas as pd\n",
    "from datetime import datetime"
   ]
  },
  {
   "cell_type": "code",
   "execution_count": 280,
   "metadata": {},
   "outputs": [],
   "source": [
    "def crawling():\n",
    "\n",
    "    url = 'https://weibo.com/p/1001066011831795/home?from=page_100106&mod=TAB#place'\n",
    "    # webdriver 로드\n",
    "    driver.get(url)    \n",
    "    driver.implicitly_wait(3)\n",
    "\n",
    "    # 페이지 크롤링\n",
    "    soup = bs(driver.page_source, 'lxml')\n",
    "    print(\"타이틀 : \", soup.title.text)\n",
    "\n",
    "    # 타이틀 수집\n",
    "    raw_contents = soup.find_all('div', class_='WB_text W_f14')\n",
    "    content_list = []\n",
    "    num = len(raw_contents)\n",
    "    for i in range(num):\n",
    "        content = raw_contents[i].text.strip()\n",
    "        content_list.append(content)\n",
    "    print('원본 게시글 수 : ', len(raw_contents))\n",
    "    print('게시글 수 : ', len(content_list))\n",
    "\n",
    "    # 조회수 수집\n",
    "    raw_number_view = soup.find_all('i', class_='S_txt2')\n",
    "    number_view_list = []\n",
    "    for i in range(len(raw_number_view)):\n",
    "        temp = raw_number_view[i].attrs['title']\n",
    "        number_view = int(temp[9:-1])\n",
    "        number_view_list.append(number_view)\n",
    "    print('조회수 리스트 원소수 : ', len(number_view_list))\n",
    "\n",
    "    # 정보 수집\n",
    "    raw_info = soup.find_all('span', 'line S_line1')\n",
    "    # 좋아요 수 수집\n",
    "    number_like_list = []\n",
    "    num_range = (len(raw_info) - 3) // 4 + 1\n",
    "    raw_info = soup.find_all('span', 'line S_line1')\n",
    "    for i in range(num_range):\n",
    "        num = ( i + 1 ) * 4 - 1\n",
    "        temp = raw_info[num]\n",
    "        temp = temp.find_all('em')[-1].text\n",
    "        number_like = int(temp)\n",
    "        number_like_list.append(number_like)\n",
    "    print('좋아요 리스트 원소수 : ', len(number_like_list))\n",
    "\n",
    "    # 공유 수 수집\n",
    "    number_share_list = []\n",
    "    num_range = (len(raw_info) - 3) // 4 + 1\n",
    "    raw_info = soup.find_all('span', 'line S_line1')\n",
    "    for i in range(num_range):\n",
    "        num = ( i + 1 ) * 4 - 3\n",
    "        temp = raw_info[num]\n",
    "        temp = temp.find_all('em')[-1].text\n",
    "        if '转发' in temp:\n",
    "            number_share_list.append(0)\n",
    "        else:\n",
    "            number_like = int(temp)\n",
    "            number_share_list.append(number_like)\n",
    "    print('공유수 리스트 원소수 : ', len(number_share_list))\n",
    "\n",
    "    # 댓글수 수집\n",
    "    number_comment_list = []\n",
    "    num_range_like = (len(raw_info) - 3) // 4 + 1\n",
    "    raw_info = soup.find_all('span', 'line S_line1')\n",
    "    for i in range(num_range_like):\n",
    "        num = ( i + 1 ) * 4 - 2\n",
    "        temp = raw_info[num]\n",
    "        temp = temp.find_all('em')[-1].text\n",
    "        if '评论' in temp:\n",
    "            number_comment_list.append(0)\n",
    "        else:\n",
    "            number_like = int(temp)\n",
    "            number_comment_list.append(number_like)\n",
    "    print('댓글수 리스트 원소수 : ', len(number_comment_list))\n",
    "\n",
    "    # 게시글 날짜 수집\n",
    "    date_list = []\n",
    "    raw_date = soup.find_all('div', 'WB_from S_txt2')\n",
    "    for i in range(len(raw_date)):\n",
    "        temp = raw_date[i].find('a', 'S_txt2')\n",
    "        date = temp.attrs['title'][:10]\n",
    "        date_list.append(date)\n",
    "    print('날짜 리스트 원소수 : ', len(date_list))\n",
    "\n",
    "    # 팔로워 수 수집\n",
    "    number_follower_list = []\n",
    "    number_of_follower = soup.find_all('strong', 'W_f16')\n",
    "    num = int(number_of_follower[1].text)\n",
    "    number_follower_list.append(num)\n",
    "    for i in range(len(date_list)-1):\n",
    "        number_follower_list.append(0)\n",
    "    print('팔로워 수 리스트 원소수 : ', len(number_follower_list))\n",
    "\n",
    "    # 데이터 프레임 생성\n",
    "    df = {'날짜':date_list,\n",
    "        '제목':content_list,\n",
    "        '조회수':number_view_list,\n",
    "        '좋아요_수':number_like_list,\n",
    "        '공유수':number_share_list,\n",
    "        '댓글수':number_comment_list,\n",
    "        '팔로워_수':number_follower_list}\n",
    "    data = pd.DataFrame(df)\n",
    "    \n",
    "    # 파일로 출력\n",
    "    file_name = str(datetime.today().strftime(\"%Y%m%d-%H%M%S\"))\n",
    "    file_name = 'weibo_' + file_name + '.csv'\n",
    "    path = './crawling_data/'\n",
    "    data.to_csv(path+file_name, index=False, encoding='utf-8')\n",
    "\n",
    "    return data"
   ]
  },
  {
   "cell_type": "code",
   "execution_count": 281,
   "metadata": {},
   "outputs": [
    {
     "name": "stderr",
     "output_type": "stream",
     "text": [
      "<ipython-input-281-0bcb0b533b98>:2: DeprecationWarning: executable_path has been deprecated, please pass in a Service object\n",
      "  driver = webdriver.Chrome('chromedriver99')\n",
      "<ipython-input-281-0bcb0b533b98>:14: DeprecationWarning: find_element_by_xpath is deprecated. Please use find_element(by=By.XPATH, value=xpath) instead\n",
      "  element_id = driver.find_element_by_xpath('//*[@id=\"loginname\"]')\n",
      "<ipython-input-281-0bcb0b533b98>:17: DeprecationWarning: find_element_by_xpath is deprecated. Please use find_element(by=By.XPATH, value=xpath) instead\n",
      "  element_password = driver.find_element_by_xpath('//*[@id=\"pl_login_form\"]/div/div[3]/div[2]/div/input')\n",
      "<ipython-input-281-0bcb0b533b98>:23: DeprecationWarning: find_element_by_xpath is deprecated. Please use find_element(by=By.XPATH, value=xpath) instead\n",
      "  driver.find_element_by_xpath('//*[@id=\"pl_login_form\"]/div/div[3]/div[6]/a').click()\n"
     ]
    }
   ],
   "source": [
    "# 사이트 로그인\n",
    "driver = webdriver.Chrome('chromedriver99')\n",
    "driver.get(\"https://weibo.com/login.php\")\n",
    "time.sleep(5)\n",
    "driver.implicitly_wait(15)\n",
    "\n",
    "# 창 최대화\n",
    "driver.maximize_window()\n",
    "time.sleep(1)\n",
    "\n",
    "username = 'globalgg1@gg.go.kr'\n",
    "password = 'zhsxpscm123!'\n",
    "\n",
    "element_id = driver.find_element_by_xpath('//*[@id=\"loginname\"]')\n",
    "element_id.send_keys(username)\n",
    "time.sleep(1)\n",
    "element_password = driver.find_element_by_xpath('//*[@id=\"pl_login_form\"]/div/div[3]/div[2]/div/input')\n",
    "element_password.send_keys(password)\n",
    "\n",
    "time.sleep(1.5)\n",
    "\n",
    "##로그인버튼 클릭\n",
    "driver.find_element_by_xpath('//*[@id=\"pl_login_form\"]/div/div[3]/div[6]/a').click()"
   ]
  },
  {
   "cell_type": "code",
   "execution_count": 282,
   "metadata": {},
   "outputs": [
    {
     "name": "stdout",
     "output_type": "stream",
     "text": [
      "타이틀 :  京畿道官博的微博_微博\n",
      "원본 게시글 수 :  0\n",
      "게시글 수 :  0\n",
      "조회수 리스트 원소수 :  0\n",
      "좋아요 리스트 원소수 :  0\n",
      "공유수 리스트 원소수 :  0\n",
      "댓글수 리스트 원소수 :  0\n",
      "날짜 리스트 원소수 :  0\n",
      "팔로워 수 리스트 원소수 :  1\n"
     ]
    },
    {
     "ename": "ValueError",
     "evalue": "arrays must all be same length",
     "output_type": "error",
     "traceback": [
      "\u001b[1;31m---------------------------------------------------------------------------\u001b[0m",
      "\u001b[1;31mValueError\u001b[0m                                Traceback (most recent call last)",
      "\u001b[1;32m<ipython-input-282-e4a51c11f7de>\u001b[0m in \u001b[0;36m<module>\u001b[1;34m\u001b[0m\n\u001b[1;32m----> 1\u001b[1;33m \u001b[0mdf\u001b[0m \u001b[1;33m=\u001b[0m \u001b[0mcrawling\u001b[0m\u001b[1;33m(\u001b[0m\u001b[1;33m)\u001b[0m\u001b[1;33m\u001b[0m\u001b[1;33m\u001b[0m\u001b[0m\n\u001b[0m",
      "\u001b[1;32m<ipython-input-280-32e31d119c3c>\u001b[0m in \u001b[0;36mcrawling\u001b[1;34m()\u001b[0m\n\u001b[0;32m     99\u001b[0m         \u001b[1;34m'댓글수'\u001b[0m\u001b[1;33m:\u001b[0m\u001b[0mnumber_comment_list\u001b[0m\u001b[1;33m,\u001b[0m\u001b[1;33m\u001b[0m\u001b[1;33m\u001b[0m\u001b[0m\n\u001b[0;32m    100\u001b[0m         '팔로워_수':number_follower_list}\n\u001b[1;32m--> 101\u001b[1;33m     \u001b[0mdata\u001b[0m \u001b[1;33m=\u001b[0m \u001b[0mpd\u001b[0m\u001b[1;33m.\u001b[0m\u001b[0mDataFrame\u001b[0m\u001b[1;33m(\u001b[0m\u001b[0mdf\u001b[0m\u001b[1;33m)\u001b[0m\u001b[1;33m\u001b[0m\u001b[1;33m\u001b[0m\u001b[0m\n\u001b[0m\u001b[0;32m    102\u001b[0m \u001b[1;33m\u001b[0m\u001b[0m\n\u001b[0;32m    103\u001b[0m     \u001b[1;31m# 파일로 출력\u001b[0m\u001b[1;33m\u001b[0m\u001b[1;33m\u001b[0m\u001b[1;33m\u001b[0m\u001b[0m\n",
      "\u001b[1;32mC:\\anaconda\\lib\\site-packages\\pandas\\core\\frame.py\u001b[0m in \u001b[0;36m__init__\u001b[1;34m(self, data, index, columns, dtype, copy)\u001b[0m\n\u001b[0;32m    527\u001b[0m \u001b[1;33m\u001b[0m\u001b[0m\n\u001b[0;32m    528\u001b[0m         \u001b[1;32melif\u001b[0m \u001b[0misinstance\u001b[0m\u001b[1;33m(\u001b[0m\u001b[0mdata\u001b[0m\u001b[1;33m,\u001b[0m \u001b[0mdict\u001b[0m\u001b[1;33m)\u001b[0m\u001b[1;33m:\u001b[0m\u001b[1;33m\u001b[0m\u001b[1;33m\u001b[0m\u001b[0m\n\u001b[1;32m--> 529\u001b[1;33m             \u001b[0mmgr\u001b[0m \u001b[1;33m=\u001b[0m \u001b[0minit_dict\u001b[0m\u001b[1;33m(\u001b[0m\u001b[0mdata\u001b[0m\u001b[1;33m,\u001b[0m \u001b[0mindex\u001b[0m\u001b[1;33m,\u001b[0m \u001b[0mcolumns\u001b[0m\u001b[1;33m,\u001b[0m \u001b[0mdtype\u001b[0m\u001b[1;33m=\u001b[0m\u001b[0mdtype\u001b[0m\u001b[1;33m)\u001b[0m\u001b[1;33m\u001b[0m\u001b[1;33m\u001b[0m\u001b[0m\n\u001b[0m\u001b[0;32m    530\u001b[0m         \u001b[1;32melif\u001b[0m \u001b[0misinstance\u001b[0m\u001b[1;33m(\u001b[0m\u001b[0mdata\u001b[0m\u001b[1;33m,\u001b[0m \u001b[0mma\u001b[0m\u001b[1;33m.\u001b[0m\u001b[0mMaskedArray\u001b[0m\u001b[1;33m)\u001b[0m\u001b[1;33m:\u001b[0m\u001b[1;33m\u001b[0m\u001b[1;33m\u001b[0m\u001b[0m\n\u001b[0;32m    531\u001b[0m             \u001b[1;32mimport\u001b[0m \u001b[0mnumpy\u001b[0m\u001b[1;33m.\u001b[0m\u001b[0mma\u001b[0m\u001b[1;33m.\u001b[0m\u001b[0mmrecords\u001b[0m \u001b[1;32mas\u001b[0m \u001b[0mmrecords\u001b[0m\u001b[1;33m\u001b[0m\u001b[1;33m\u001b[0m\u001b[0m\n",
      "\u001b[1;32mC:\\anaconda\\lib\\site-packages\\pandas\\core\\internals\\construction.py\u001b[0m in \u001b[0;36minit_dict\u001b[1;34m(data, index, columns, dtype)\u001b[0m\n\u001b[0;32m    285\u001b[0m             \u001b[0marr\u001b[0m \u001b[1;32mif\u001b[0m \u001b[1;32mnot\u001b[0m \u001b[0mis_datetime64tz_dtype\u001b[0m\u001b[1;33m(\u001b[0m\u001b[0marr\u001b[0m\u001b[1;33m)\u001b[0m \u001b[1;32melse\u001b[0m \u001b[0marr\u001b[0m\u001b[1;33m.\u001b[0m\u001b[0mcopy\u001b[0m\u001b[1;33m(\u001b[0m\u001b[1;33m)\u001b[0m \u001b[1;32mfor\u001b[0m \u001b[0marr\u001b[0m \u001b[1;32min\u001b[0m \u001b[0marrays\u001b[0m\u001b[1;33m\u001b[0m\u001b[1;33m\u001b[0m\u001b[0m\n\u001b[0;32m    286\u001b[0m         ]\n\u001b[1;32m--> 287\u001b[1;33m     \u001b[1;32mreturn\u001b[0m \u001b[0marrays_to_mgr\u001b[0m\u001b[1;33m(\u001b[0m\u001b[0marrays\u001b[0m\u001b[1;33m,\u001b[0m \u001b[0mdata_names\u001b[0m\u001b[1;33m,\u001b[0m \u001b[0mindex\u001b[0m\u001b[1;33m,\u001b[0m \u001b[0mcolumns\u001b[0m\u001b[1;33m,\u001b[0m \u001b[0mdtype\u001b[0m\u001b[1;33m=\u001b[0m\u001b[0mdtype\u001b[0m\u001b[1;33m)\u001b[0m\u001b[1;33m\u001b[0m\u001b[1;33m\u001b[0m\u001b[0m\n\u001b[0m\u001b[0;32m    288\u001b[0m \u001b[1;33m\u001b[0m\u001b[0m\n\u001b[0;32m    289\u001b[0m \u001b[1;33m\u001b[0m\u001b[0m\n",
      "\u001b[1;32mC:\\anaconda\\lib\\site-packages\\pandas\\core\\internals\\construction.py\u001b[0m in \u001b[0;36marrays_to_mgr\u001b[1;34m(arrays, arr_names, index, columns, dtype, verify_integrity)\u001b[0m\n\u001b[0;32m     78\u001b[0m         \u001b[1;31m# figure out the index, if necessary\u001b[0m\u001b[1;33m\u001b[0m\u001b[1;33m\u001b[0m\u001b[1;33m\u001b[0m\u001b[0m\n\u001b[0;32m     79\u001b[0m         \u001b[1;32mif\u001b[0m \u001b[0mindex\u001b[0m \u001b[1;32mis\u001b[0m \u001b[1;32mNone\u001b[0m\u001b[1;33m:\u001b[0m\u001b[1;33m\u001b[0m\u001b[1;33m\u001b[0m\u001b[0m\n\u001b[1;32m---> 80\u001b[1;33m             \u001b[0mindex\u001b[0m \u001b[1;33m=\u001b[0m \u001b[0mextract_index\u001b[0m\u001b[1;33m(\u001b[0m\u001b[0marrays\u001b[0m\u001b[1;33m)\u001b[0m\u001b[1;33m\u001b[0m\u001b[1;33m\u001b[0m\u001b[0m\n\u001b[0m\u001b[0;32m     81\u001b[0m         \u001b[1;32melse\u001b[0m\u001b[1;33m:\u001b[0m\u001b[1;33m\u001b[0m\u001b[1;33m\u001b[0m\u001b[0m\n\u001b[0;32m     82\u001b[0m             \u001b[0mindex\u001b[0m \u001b[1;33m=\u001b[0m \u001b[0mensure_index\u001b[0m\u001b[1;33m(\u001b[0m\u001b[0mindex\u001b[0m\u001b[1;33m)\u001b[0m\u001b[1;33m\u001b[0m\u001b[1;33m\u001b[0m\u001b[0m\n",
      "\u001b[1;32mC:\\anaconda\\lib\\site-packages\\pandas\\core\\internals\\construction.py\u001b[0m in \u001b[0;36mextract_index\u001b[1;34m(data)\u001b[0m\n\u001b[0;32m    399\u001b[0m             \u001b[0mlengths\u001b[0m \u001b[1;33m=\u001b[0m \u001b[0mlist\u001b[0m\u001b[1;33m(\u001b[0m\u001b[0mset\u001b[0m\u001b[1;33m(\u001b[0m\u001b[0mraw_lengths\u001b[0m\u001b[1;33m)\u001b[0m\u001b[1;33m)\u001b[0m\u001b[1;33m\u001b[0m\u001b[1;33m\u001b[0m\u001b[0m\n\u001b[0;32m    400\u001b[0m             \u001b[1;32mif\u001b[0m \u001b[0mlen\u001b[0m\u001b[1;33m(\u001b[0m\u001b[0mlengths\u001b[0m\u001b[1;33m)\u001b[0m \u001b[1;33m>\u001b[0m \u001b[1;36m1\u001b[0m\u001b[1;33m:\u001b[0m\u001b[1;33m\u001b[0m\u001b[1;33m\u001b[0m\u001b[0m\n\u001b[1;32m--> 401\u001b[1;33m                 \u001b[1;32mraise\u001b[0m \u001b[0mValueError\u001b[0m\u001b[1;33m(\u001b[0m\u001b[1;34m\"arrays must all be same length\"\u001b[0m\u001b[1;33m)\u001b[0m\u001b[1;33m\u001b[0m\u001b[1;33m\u001b[0m\u001b[0m\n\u001b[0m\u001b[0;32m    402\u001b[0m \u001b[1;33m\u001b[0m\u001b[0m\n\u001b[0;32m    403\u001b[0m             \u001b[1;32mif\u001b[0m \u001b[0mhave_dicts\u001b[0m\u001b[1;33m:\u001b[0m\u001b[1;33m\u001b[0m\u001b[1;33m\u001b[0m\u001b[0m\n",
      "\u001b[1;31mValueError\u001b[0m: arrays must all be same length"
     ]
    }
   ],
   "source": [
    "df = crawling()"
   ]
  },
  {
   "cell_type": "code",
   "execution_count": 228,
   "metadata": {},
   "outputs": [
    {
     "data": {
      "text/html": [
       "<div>\n",
       "<style scoped>\n",
       "    .dataframe tbody tr th:only-of-type {\n",
       "        vertical-align: middle;\n",
       "    }\n",
       "\n",
       "    .dataframe tbody tr th {\n",
       "        vertical-align: top;\n",
       "    }\n",
       "\n",
       "    .dataframe thead th {\n",
       "        text-align: right;\n",
       "    }\n",
       "</style>\n",
       "<table border=\"1\" class=\"dataframe\">\n",
       "  <thead>\n",
       "    <tr style=\"text-align: right;\">\n",
       "      <th></th>\n",
       "      <th>제목</th>\n",
       "      <th>조회수</th>\n",
       "      <th>좋아요 수</th>\n",
       "      <th>공유수</th>\n",
       "      <th>댓글수</th>\n",
       "    </tr>\n",
       "  </thead>\n",
       "  <tbody>\n",
       "    <tr>\n",
       "      <th>0</th>\n",
       "      <td>京畿道东豆川市，在逍遥山相遇的历史中的雪花旅行京畿道东豆川市是 在地缘政治上具有重要意义的地...</td>\n",
       "      <td>3699</td>\n",
       "      <td>1</td>\n",
       "      <td>0</td>\n",
       "      <td>0</td>\n",
       "    </tr>\n",
       "    <tr>\n",
       "      <th>1</th>\n",
       "      <td>京畿道杨州Hot Place，在露营餐厅享受吧！从古至今以美丽风景和新鲜空气而有名的城市，京...</td>\n",
       "      <td>3192</td>\n",
       "      <td>1</td>\n",
       "      <td>0</td>\n",
       "      <td>0</td>\n",
       "    </tr>\n",
       "    <tr>\n",
       "      <th>2</th>\n",
       "      <td>历史遗迹和现代共存的京畿道光明市，我们家族的旅游路线。京畿道光明市是由于首尔地区变大而产生的...</td>\n",
       "      <td>10685</td>\n",
       "      <td>3</td>\n",
       "      <td>0</td>\n",
       "      <td>0</td>\n",
       "    </tr>\n",
       "    <tr>\n",
       "      <th>3</th>\n",
       "      <td>世界文化遗产之都,京畿道广州市，自然与历史共存的旅行在京畿道里，广州市是面积比较大的城市。空...</td>\n",
       "      <td>5557</td>\n",
       "      <td>2</td>\n",
       "      <td>0</td>\n",
       "      <td>0</td>\n",
       "    </tr>\n",
       "    <tr>\n",
       "      <th>4</th>\n",
       "      <td>京畿道北部文化与教育中心，介绍一下议政府的代表性旅游景区。议政府是位于京畿道北部，首都的关口...</td>\n",
       "      <td>7666</td>\n",
       "      <td>2</td>\n",
       "      <td>0</td>\n",
       "      <td>1</td>\n",
       "    </tr>\n",
       "    <tr>\n",
       "      <th>5</th>\n",
       "      <td>以家人旅行出名的城市，京畿道杨平郡羊群牧场京畿道杨平郡是包括电影和电视剧中无数登场的著名景点...</td>\n",
       "      <td>11291</td>\n",
       "      <td>2</td>\n",
       "      <td>1</td>\n",
       "      <td>0</td>\n",
       "    </tr>\n",
       "    <tr>\n",
       "      <th>6</th>\n",
       "      <td>有谁还没有去过？👀我们的孩子们更喜欢的京畿道利川市必去的旅行路线👨‍👦🌟 雪峰公园代表利川市...</td>\n",
       "      <td>11279</td>\n",
       "      <td>4</td>\n",
       "      <td>0</td>\n",
       "      <td>0</td>\n",
       "    </tr>\n",
       "    <tr>\n",
       "      <th>7</th>\n",
       "      <td>介绍一下京畿道安山市家族旅行路线。大韩民国安山市作为外国人居住众多的城市，有着以首都圈内最好...</td>\n",
       "      <td>12741</td>\n",
       "      <td>3</td>\n",
       "      <td>0</td>\n",
       "      <td>1</td>\n",
       "    </tr>\n",
       "    <tr>\n",
       "      <th>8</th>\n",
       "      <td>保存着历史的自豪的城市富川，大韩民国历史旅行路线京畿道富川市是具有独特个性的城市。从很早的先...</td>\n",
       "      <td>14242</td>\n",
       "      <td>3</td>\n",
       "      <td>0</td>\n",
       "      <td>0</td>\n",
       "    </tr>\n",
       "    <tr>\n",
       "      <th>9</th>\n",
       "      <td>这里是被得天独厚的自然环境包围的美丽的城市，京畿道果川市。作为随处都可以感受到文化艺术的幸福...</td>\n",
       "      <td>14210</td>\n",
       "      <td>3</td>\n",
       "      <td>0</td>\n",
       "      <td>0</td>\n",
       "    </tr>\n",
       "    <tr>\n",
       "      <th>10</th>\n",
       "      <td>虎年大吉大吉大利新年蒙福#京畿道##朝鲜半岛##京畿道旅游##虎年大吉##大吉大利##新年蒙...</td>\n",
       "      <td>14551</td>\n",
       "      <td>5</td>\n",
       "      <td>0</td>\n",
       "      <td>1</td>\n",
       "    </tr>\n",
       "    <tr>\n",
       "      <th>11</th>\n",
       "      <td>介绍一下京畿道观光名地，幸州山城与历史公园。在大韩民国京畿道有一些历史悠久的山城。其中，介绍...</td>\n",
       "      <td>18309</td>\n",
       "      <td>1</td>\n",
       "      <td>0</td>\n",
       "      <td>1</td>\n",
       "    </tr>\n",
       "    <tr>\n",
       "      <th>12</th>\n",
       "      <td>拥有很多世界文化遗产的美丽的水原华城2021年在华城举办了‘媒体艺术秀’。通过史无前例的灯光...</td>\n",
       "      <td>16642</td>\n",
       "      <td>3</td>\n",
       "      <td>1</td>\n",
       "      <td>1</td>\n",
       "    </tr>\n",
       "    <tr>\n",
       "      <th>13</th>\n",
       "      <td>主题公园，都去过哪里呢介绍一下位于京畿道的国内最大的汽车主题公园。位于京畿道高阳市的，现代汽...</td>\n",
       "      <td>17800</td>\n",
       "      <td>2</td>\n",
       "      <td>0</td>\n",
       "      <td>0</td>\n",
       "    </tr>\n",
       "    <tr>\n",
       "      <th>14</th>\n",
       "      <td>🎹 风乐响起来!! 🎺🎺在京畿道的博物馆都去过哪里？@@(学习历史最好的地方👍👍)👉京畿道博...</td>\n",
       "      <td>18773</td>\n",
       "      <td>3</td>\n",
       "      <td>1</td>\n",
       "      <td>0</td>\n",
       "    </tr>\n",
       "  </tbody>\n",
       "</table>\n",
       "</div>"
      ],
      "text/plain": [
       "                                                   제목    조회수  좋아요 수  공유수  댓글수\n",
       "0   京畿道东豆川市，在逍遥山相遇的历史中的雪花旅行京畿道东豆川市是 在地缘政治上具有重要意义的地...   3699      1    0    0\n",
       "1   京畿道杨州Hot Place，在露营餐厅享受吧！从古至今以美丽风景和新鲜空气而有名的城市，京...   3192      1    0    0\n",
       "2   历史遗迹和现代共存的京畿道光明市，我们家族的旅游路线。京畿道光明市是由于首尔地区变大而产生的...  10685      3    0    0\n",
       "3   世界文化遗产之都,京畿道广州市，自然与历史共存的旅行在京畿道里，广州市是面积比较大的城市。空...   5557      2    0    0\n",
       "4   京畿道北部文化与教育中心，介绍一下议政府的代表性旅游景区。议政府是位于京畿道北部，首都的关口...   7666      2    0    1\n",
       "5   以家人旅行出名的城市，京畿道杨平郡羊群牧场京畿道杨平郡是包括电影和电视剧中无数登场的著名景点...  11291      2    1    0\n",
       "6   有谁还没有去过？👀我们的孩子们更喜欢的京畿道利川市必去的旅行路线👨‍👦🌟 雪峰公园代表利川市...  11279      4    0    0\n",
       "7   介绍一下京畿道安山市家族旅行路线。大韩民国安山市作为外国人居住众多的城市，有着以首都圈内最好...  12741      3    0    1\n",
       "8   保存着历史的自豪的城市富川，大韩民国历史旅行路线京畿道富川市是具有独特个性的城市。从很早的先...  14242      3    0    0\n",
       "9   这里是被得天独厚的自然环境包围的美丽的城市，京畿道果川市。作为随处都可以感受到文化艺术的幸福...  14210      3    0    0\n",
       "10  虎年大吉大吉大利新年蒙福#京畿道##朝鲜半岛##京畿道旅游##虎年大吉##大吉大利##新年蒙...  14551      5    0    1\n",
       "11  介绍一下京畿道观光名地，幸州山城与历史公园。在大韩民国京畿道有一些历史悠久的山城。其中，介绍...  18309      1    0    1\n",
       "12  拥有很多世界文化遗产的美丽的水原华城2021年在华城举办了‘媒体艺术秀’。通过史无前例的灯光...  16642      3    1    1\n",
       "13  主题公园，都去过哪里呢介绍一下位于京畿道的国内最大的汽车主题公园。位于京畿道高阳市的，现代汽...  17800      2    0    0\n",
       "14  🎹 风乐响起来!! 🎺🎺在京畿道的博物馆都去过哪里？@@(学习历史最好的地方👍👍)👉京畿道博...  18773      3    1    0"
      ]
     },
     "execution_count": 228,
     "metadata": {},
     "output_type": "execute_result"
    }
   ],
   "source": [
    "df"
   ]
  },
  {
   "cell_type": "code",
   "execution_count": null,
   "metadata": {},
   "outputs": [],
   "source": []
  }
 ],
 "metadata": {
  "interpreter": {
   "hash": "513dc2e41d739bb2c947903f3c0bbf636d03aa53ab50e61c694a27481c81805e"
  },
  "kernelspec": {
   "display_name": "Python 3.8.8 ('base')",
   "language": "python",
   "name": "python3"
  },
  "language_info": {
   "codemirror_mode": {
    "name": "ipython",
    "version": 3
   },
   "file_extension": ".py",
   "mimetype": "text/x-python",
   "name": "python",
   "nbconvert_exporter": "python",
   "pygments_lexer": "ipython3",
   "version": "3.8.8"
  },
  "orig_nbformat": 4
 },
 "nbformat": 4,
 "nbformat_minor": 2
}
