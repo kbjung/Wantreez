{
 "cells": [
  {
   "cell_type": "markdown",
   "metadata": {},
   "source": [
    "# 페이스북 크롤링"
   ]
  },
  {
   "cell_type": "code",
   "execution_count": 32,
   "metadata": {},
   "outputs": [],
   "source": [
    "# 페이지 스크롤 횟수 설정\n",
    "num_scrolldown = 3"
   ]
  },
  {
   "cell_type": "code",
   "execution_count": 33,
   "metadata": {},
   "outputs": [],
   "source": [
    "from bs4 import BeautifulSoup as bs\n",
    "import time\n",
    "import random\n",
    "from datetime import datetime\n",
    "from selenium import webdriver\n",
    "from selenium.webdriver.common.keys import Keys"
   ]
  },
  {
   "cell_type": "code",
   "execution_count": 34,
   "metadata": {},
   "outputs": [],
   "source": [
    "import pandas as pd"
   ]
  },
  {
   "cell_type": "code",
   "execution_count": 35,
   "metadata": {},
   "outputs": [],
   "source": [
    "# # 로그인 페이지 접속(2단계 인증으로 로그인 불가능)\n",
    "\n",
    "# # 로그인 정보\n",
    "# username = 'global.gyeonggido@gmail.com'\n",
    "# password = 's80083044!'\n",
    "\n",
    "# element_id = driver.find_element_by_xpath('//*[@id=\"login_form\"]/div[2]/div[1]/label/input')\n",
    "# element_id.send_keys(username)\n",
    "# element_password = driver.find_element_by_xpath('//*[@id=\"login_form\"]/div[2]/div[2]/label/input')\n",
    "# element_password.send_keys(password)\n",
    "# time.sleep(1.5)\n",
    "\n",
    "# ##로그인버튼 클릭\n",
    "# driver.find_element_by_xpath('//*[@id=\"login_form\"]/div[2]/div[3]/div/div/div[1]/div/span/span').click()\n",
    "# time.sleep(3)"
   ]
  },
  {
   "cell_type": "code",
   "execution_count": 36,
   "metadata": {},
   "outputs": [],
   "source": [
    "# 크롤링할 웹사이트 주소\n",
    "url = 'https://www.facebook.com/GyeonggiKorea.en'\n",
    "\n",
    "# webdriver 로드\n",
    "driver = webdriver.Chrome('chromedriver')\n",
    "driver.get(url)\n",
    "time.sleep(3)\n",
    "driver.implicitly_wait(5)\n",
    "\n",
    "# 창 최대화\n",
    "driver.maximize_window()\n",
    "time.sleep(1)\n",
    "driver.implicitly_wait(5)"
   ]
  },
  {
   "cell_type": "code",
   "execution_count": 37,
   "metadata": {},
   "outputs": [],
   "source": [
    "# 페이지 스크롤 다운\n",
    "for i in range(num_scrolldown):\n",
    "    driver.execute_script(\"window.scrollTo(0, document.body.scrollHeight);\")\n",
    "    time.sleep(1)\n",
    "    driver.implicitly_wait(5)"
   ]
  },
  {
   "cell_type": "code",
   "execution_count": 38,
   "metadata": {},
   "outputs": [
    {
     "name": "stdout",
     "output_type": "stream",
     "text": [
      "Gyeonggi Korea | Facebook\n",
      "날짜 수집 개수 :  16\n",
      "글 내용 수집 개수 :  15\n",
      "각종 정보 수집 개수 :  15\n"
     ]
    }
   ],
   "source": [
    "# 페이지 크롤링\n",
    "soup = bs(driver.page_source, 'lxml')\n",
    "print(soup.title.text)\n",
    "\n",
    "# 팔로워 수 수집\n",
    "# num_follower = soup.find('span', 'd2edcug0 hpfvmrgz qv66sw1b c1et5uql lr9zc1uh a8c37x1j fe6kdd0r mau55g9w c8b282yb keod5gw0 nxhoafnm aigsh9s9 d3f4x2em iv3no6db jq4qci2q a3bd9o3v b1v8xokw oo9gr5id hzawbc8m')\n",
    "\n",
    "# 글 날짜 수집\n",
    "info_dates_span = soup.find_all('a', 'oajrlxb2 g5ia77u1 qu0x051f esr5mh6w e9989ue4 r7d6kgcz rq0escxv nhd2j8a9 nc684nl6 p7hjln8o kvgmc6g5 cxmmr5t8 oygrvhab hcukyx3x jb3vyjys rz4wbd8a qt6c0cv9 a8nywdso i1ao9s8h esuyzwwr f1sip0of lzcic4wl gmql0nx0 gpro0wi8 b1v8xokw')\n",
    "\n",
    "# 글 내용 크롤링\n",
    "content_pages = soup.find_all('div', class_='kvgmc6g5 cxmmr5t8 oygrvhab hcukyx3x c1et5uql ii04i59q')\n",
    "\n",
    "# 좋아요, 댓글, 공유 수 정보 나온 페이지 수집\n",
    "info_pages = soup.find_all('div', 'bp9cbjyn m9osqain j83agx80 jq4qci2q bkfpd7mw a3bd9o3v kvgmc6g5 wkznzc2l oygrvhab dhix69tm jktsbyx5 rz4wbd8a osnr6wyh a8nywdso s1tcr66n')\n",
    "\n",
    "print(\"날짜 수집 개수 : \", len(info_dates_span))\n",
    "print(\"글 내용 수집 개수 : \", len(content_pages))\n",
    "print(\"각종 정보 수집 개수 : \", len(info_pages))"
   ]
  },
  {
   "cell_type": "markdown",
   "metadata": {},
   "source": [
    "## 글 날짜, 글 내용, 좋아요 수, 댓글 수, 공유 수 리스트화"
   ]
  },
  {
   "cell_type": "markdown",
   "metadata": {},
   "source": [
    "### 날짜 수집"
   ]
  },
  {
   "cell_type": "code",
   "execution_count": 39,
   "metadata": {},
   "outputs": [
    {
     "name": "stdout",
     "output_type": "stream",
     "text": [
      "날짜 리스트 원소수 :  15\n"
     ]
    }
   ],
   "source": [
    "# 날짜 수집\n",
    "num_date_list = []\n",
    "for date in info_dates_span:\n",
    "    if date.span != None:\n",
    "        temp = date.span.text\n",
    "        num_date_list.append(temp)\n",
    "\n",
    "print('날짜 리스트 원소수 : ',len(num_date_list))"
   ]
  },
  {
   "cell_type": "code",
   "execution_count": 40,
   "metadata": {},
   "outputs": [
    {
     "data": {
      "text/plain": [
       "(15,\n",
       " ['3시간',\n",
       "  '어제 오후 2:58',\n",
       "  '3월 16일 오후 2:00',\n",
       "  '3월 15일 오후 4:14',\n",
       "  '3월 12일 오후 2:00',\n",
       "  '3월 11일 오후 1:19',\n",
       "  '3월 10일 오후 2:52',\n",
       "  '3월 8일 오후 6:05',\n",
       "  '3월 4일 오후 6:21',\n",
       "  '3월 4일 오전 10:58',\n",
       "  '3월 2일 오후 5:04',\n",
       "  '2월 28일 오후 5:49',\n",
       "  '2월 25일 오전 10:19',\n",
       "  '2월 24일 오후 3:00',\n",
       "  '2월 22일 오후 5:51'])"
      ]
     },
     "execution_count": 40,
     "metadata": {},
     "output_type": "execute_result"
    }
   ],
   "source": [
    "# 수집한 날짜 리스트 확인\n",
    "len(num_date_list), num_date_list"
   ]
  },
  {
   "cell_type": "code",
   "execution_count": 41,
   "metadata": {},
   "outputs": [
    {
     "data": {
      "text/plain": [
       "(15,\n",
       " ['03-18',\n",
       "  '03-17',\n",
       "  '03-16',\n",
       "  '03-15',\n",
       "  '03-12',\n",
       "  '03-11',\n",
       "  '03-10',\n",
       "  '03-08',\n",
       "  '03-04',\n",
       "  '03-04',\n",
       "  '03-02',\n",
       "  '02-28',\n",
       "  '02-25',\n",
       "  '02-24',\n",
       "  '02-22'])"
      ]
     },
     "execution_count": 41,
     "metadata": {},
     "output_type": "execute_result"
    }
   ],
   "source": [
    "# 날짜 형식 변환해서 리스트로 저장\n",
    "mode_num_date_list = []\n",
    "for date in num_date_list:\n",
    "    if '시간' in date:\n",
    "        temp = datetime.today().strftime(\"%m-%d\")\n",
    "        mode_num_date_list.append(temp)\n",
    "    elif '어제' in date:\n",
    "        temp = datetime.today().strftime(\"%m-%d\")\n",
    "        temp = temp.split('-')\n",
    "        month = temp[0]\n",
    "        day = int( temp[1] ) - 1\n",
    "        temp_date = f'{month:0>2}-{day:0>2}'\n",
    "        mode_num_date_list.append(temp_date)\n",
    "    else:\n",
    "        temp = date.split('일')[0]\n",
    "        temp = temp.replace(' ', '')\n",
    "        temp_li = temp.split('월')\n",
    "        month = temp_li[0]\n",
    "        day = temp_li[1]\n",
    "        temp_date = f'{month:0>2}-{day:0>2}'\n",
    "        mode_num_date_list.append(temp_date)\n",
    "\n",
    "len(mode_num_date_list), mode_num_date_list"
   ]
  },
  {
   "cell_type": "markdown",
   "metadata": {},
   "source": [
    "### 글 내용, 좋아요 수, 댓글 수, 공유 수 수집"
   ]
  },
  {
   "cell_type": "code",
   "execution_count": 42,
   "metadata": {},
   "outputs": [
    {
     "name": "stdout",
     "output_type": "stream",
     "text": [
      "글 내용 리스트 원소수 :  15\n",
      "좋아요 수 리스트 원소수 :  15\n",
      "공유 수 리스트 원소수 :  15\n",
      "댓글 수 리스트 원소수 :  15\n"
     ]
    }
   ],
   "source": [
    "# 글 내용 수집\n",
    "contents_list = []\n",
    "for content in content_pages:\n",
    "    temp = content.text\n",
    "    contents_list.append(temp)\n",
    "\n",
    "# 좋아요 수 수집\n",
    "num_like_list = []\n",
    "for like in info_pages:\n",
    "    temp = like.find('span', 'pcp91wgn')\n",
    "    temp = int(temp.text)\n",
    "    num_like_list.append(temp)\n",
    "\n",
    "# 댓글 수, 공유 수 수집\n",
    "num_comment_list = []\n",
    "num_share_list = []\n",
    "for comment in info_pages:\n",
    "    temp = comment.find_all('span', 'd2edcug0 hpfvmrgz qv66sw1b c1et5uql lr9zc1uh a8c37x1j fe6kdd0r mau55g9w c8b282yb keod5gw0 nxhoafnm aigsh9s9 d3f4x2em iv3no6db jq4qci2q a3bd9o3v b1v8xokw m9osqain')\n",
    "    if len(temp) == 1:\n",
    "        for one in temp:\n",
    "            if '댓글' in one.text:\n",
    "                comment_one = int(one.text[3:-1])\n",
    "                num_comment_list.append(comment_one)\n",
    "                num_share_list.append(0)\n",
    "            elif '공유' in one.text:\n",
    "                comment_share = int(one.text[3:-1])\n",
    "                num_share_list.append(comment_share)\n",
    "                num_comment_list.append(0)\n",
    "    elif len(temp) == 2:\n",
    "        for one in temp:\n",
    "            if '댓글' in one.text:\n",
    "                comment_one = int(one.text[3:-1])\n",
    "                num_comment_list.append(comment_one)\n",
    "            elif '공유' in one.text:\n",
    "                comment_share = int(one.text[3:-1])\n",
    "                num_share_list.append(comment_share)\n",
    "    else:\n",
    "        num_share_list.append(0)\n",
    "        num_comment_list.append(0)\n",
    "\n",
    "print('글 내용 리스트 원소수 : ',len(contents_list))\n",
    "print('좋아요 수 리스트 원소수 : ',len(num_like_list))\n",
    "print('공유 수 리스트 원소수 : ',len(num_share_list))\n",
    "print('댓글 수 리스트 원소수 : ',len(num_comment_list))"
   ]
  },
  {
   "cell_type": "code",
   "execution_count": 47,
   "metadata": {},
   "outputs": [
    {
     "name": "stdout",
     "output_type": "stream",
     "text": [
      "링크 리스트 원소수 :  15\n"
     ]
    }
   ],
   "source": [
    "# 게시글 링크 수집\n",
    "link_list = []\n",
    "raw_link = soup.find_all('span', class_='d2edcug0 hpfvmrgz qv66sw1b c1et5uql lr9zc1uh a8c37x1j fe6kdd0r mau55g9w c8b282yb keod5gw0 nxhoafnm aigsh9s9 d9wwppkn mdeji52x e9vueds3 j5wam9gi b1v8xokw m9osqain hzawbc8m')\n",
    "for link in raw_link:\n",
    "    temp_link = link.find('a', 'oajrlxb2 g5ia77u1 qu0x051f esr5mh6w e9989ue4 r7d6kgcz rq0escxv nhd2j8a9 nc684nl6 p7hjln8o kvgmc6g5 cxmmr5t8 oygrvhab hcukyx3x jb3vyjys rz4wbd8a qt6c0cv9 a8nywdso i1ao9s8h esuyzwwr f1sip0of lzcic4wl gmql0nx0 gpro0wi8 b1v8xokw').attrs['href']\n",
    "    link_list.append(temp_link)\n",
    "print('링크 리스트 원소수 : ',len(link_list))"
   ]
  },
  {
   "cell_type": "code",
   "execution_count": 48,
   "metadata": {},
   "outputs": [
    {
     "data": {
      "text/plain": [
       "['https://www.facebook.com/GyeonggiKorea.en/posts/pfbid0DNkYXntxsSzBaQwgc7cH3vFX5ZLugvrQtsksRrh74Gy3JJbgCbzSykTRRhhcsqD4l?__cft__[0]=AZWc22c-B26Fds9gv3zr6ED6Wka9_T9BH7Ov4w3RZPU90mBGZ1aMzr9Ka9kukjsLJg47_1xXd-yNe3xe3NP9334FXo8m0pTXGUQ9Oa7W3VZALMo5kaOjX7tIEoA4vSzT2xnUuwaXpvwNisWo9G2OOghUbpxdgmphEaToDDzfxNVoQA&__tn__=%2CO%2CP-R',\n",
       " 'https://www.facebook.com/GyeonggiKorea.en/posts/pfbid02a6Vr1VThNq9L1PnekqvrfvL8UwghL7rgDPsdyDvKPjexwhuM9uJEQ5kMppF32E3fl?__cft__[0]=AZV4R_KtakIGWsqFD7ZWS_3ohQn42oUaDzL5iS_KqIaC0sTcRPGNSHcCUnqKTyOKeqAWRKUCAm2kfDCvJpQKlYZi_FCFL7Mn4mc0Uhb0WVLPhZ6IeQnBzbk_z67of0N9pznMcAEqQTgklVZL9w0Cjq7xTKgnvvUT4PD9FFCGNY8p1Q&__tn__=%2CO%2CP-R',\n",
       " 'https://www.facebook.com/GyeonggiKorea.en/posts/pfbid0yU8D6uAWLXCsHDMUB9QvsXTuNmoQhrdqN1ftDjoLrPBCdxq9gq5ZStgGxNrMYzmEl?__cft__[0]=AZW1WcuTEaiDSsBVbTz9saV5zoVaJUxXA2VUV6jfx-LdP-F_6aCR_EXxNubLdZpfyyX6aluOlSkgchfbgRvB81aDCfkpAnX_dCq8Rlm8IcWaVbKHRhxytBr4LO94yDYNgvxT7a87OesdrCIsR9CAJWxKc5wtpVM9ROtB7if7q9STMw&__tn__=%2CO%2CP-R']"
      ]
     },
     "execution_count": 48,
     "metadata": {},
     "output_type": "execute_result"
    }
   ],
   "source": [
    "link_list[:3]"
   ]
  },
  {
   "cell_type": "code",
   "execution_count": 44,
   "metadata": {},
   "outputs": [
    {
     "data": {
      "text/plain": [
       "['https://www.facebook.com/GyeonggiKorea.en/posts/pfbid0DNkYXntxsSzBaQwgc7cH3vFX5ZLugvrQtsksRrh74Gy3JJbgCbzSykTRRhhcsqD4l?__cft__[0]=AZWc22c-B26Fds9gv3zr6ED6Wka9_T9BH7Ov4w3RZPU90mBGZ1aMzr9Ka9kukjsLJg47_1xXd-yNe3xe3NP9334FXo8m0pTXGUQ9Oa7W3VZALMo5kaOjX7tIEoA4vSzT2xnUuwaXpvwNisWo9G2OOghUbpxdgmphEaToDDzfxNVoQA&__tn__=%2CO%2CP-R',\n",
       " 'https://www.facebook.com/GyeonggiKorea.en/posts/pfbid02a6Vr1VThNq9L1PnekqvrfvL8UwghL7rgDPsdyDvKPjexwhuM9uJEQ5kMppF32E3fl?__cft__[0]=AZV4R_KtakIGWsqFD7ZWS_3ohQn42oUaDzL5iS_KqIaC0sTcRPGNSHcCUnqKTyOKeqAWRKUCAm2kfDCvJpQKlYZi_FCFL7Mn4mc0Uhb0WVLPhZ6IeQnBzbk_z67of0N9pznMcAEqQTgklVZL9w0Cjq7xTKgnvvUT4PD9FFCGNY8p1Q&__tn__=%2CO%2CP-R',\n",
       " 'https://www.facebook.com/GyeonggiKorea.en/posts/pfbid0yU8D6uAWLXCsHDMUB9QvsXTuNmoQhrdqN1ftDjoLrPBCdxq9gq5ZStgGxNrMYzmEl?__cft__[0]=AZW1WcuTEaiDSsBVbTz9saV5zoVaJUxXA2VUV6jfx-LdP-F_6aCR_EXxNubLdZpfyyX6aluOlSkgchfbgRvB81aDCfkpAnX_dCq8Rlm8IcWaVbKHRhxytBr4LO94yDYNgvxT7a87OesdrCIsR9CAJWxKc5wtpVM9ROtB7if7q9STMw&__tn__=%2CO%2CP-R',\n",
       " 'https://www.facebook.com/GyeonggiKorea.en/posts/pfbid025hq2x8r56k3EknU9KiZkyZ8v1XgkPEyfRpFVKvyrrEw9fGTcfxAav3qBVcnSaHLLl?__cft__[0]=AZWMwlSanQVmJWRWmLTf4o-ygoU2Q3SVaZ9c0NDBhkHgnIONhbtbZFGg-JrVBmq9j6TGGHkt4suvbPSml_KgTDVUCylJr7C1H11rCTb0wS3fltVE30iY5RwU04PbC2vPVKeUssPQWf1jWviB-SUdqf5vsrcxhRqr5JRB47Y746Jz1w&__tn__=%2CO%2CP-R',\n",
       " 'https://www.facebook.com/login/?next=https%3A%2F%2Fwww.facebook.com%2FGyeonggiKorea.en%2Fposts%2Fpfbid031eNRHVTcRSgYdqji84mCSx26FMm3ap2RpStphRDvH36wb11Y1iJWbPnwtmUBk22ql%3F__cft__%255B0%255D%3DAZWZ3RM-4gZMcAHcYHP-c7sJb8SurJ6PrI5yKe_r2Eu0xtoMD8sZwhsSf6qRg37U8oKJR6yTLpOVgDKeZdMVJ6ugQOoljHtcXhTlDxpBTDbbEovmbPTSQUtL_2TE3eLAutn8rnfEHc1VmJoIJjkbfE2NTyFNKfoUM3iFW3w9y8uviEaoThfnhF92jKY80hUAyfI%26__tn__%3D%252CO%252CP-R',\n",
       " 'https://www.facebook.com/login/?next=https%3A%2F%2Fwww.facebook.com%2FGyeonggiKorea.en%2Fposts%2Fpfbid02RXUzJPJUCzyECAkVCNJgqNeD7r5qW2UDQdnAbRGn3pc9wjjt9wKZ5JQyHRp6RvQyl%3F__cft__%255B0%255D%3DAZUtrrUjKdSwikbuAMjudXCALVb3QSSl191oFDsMZlaKPyjaFl80tZ8x3HGHP4_DYE3chREall7mB9pYQOto0OyjrK6bCupGpn8hI0WL1basfJwfnnrzswDabMKDtcOPYWv2l14L-SKffmJFjLPXapXeI2qQsA-4iZ8JWuLbiz1GuA%26__tn__%3D%252CO%252CP-R',\n",
       " 'https://www.facebook.com/login/?next=https%3A%2F%2Fwww.facebook.com%2FGyeonggiKorea.en%2Fposts%2Fpfbid033JFrpfkqNYsyBUwV88SaYRcWJYG3qymK83iGvLRGmiAAUf3NV44srTvrMmRvsKtBl%3F__cft__%255B0%255D%3DAZXjNfczt-SGX64G_YTIt_pEwSijIAslfVxvKvWz6ub_8eG3GbP_wmOZb1bsAh3BJHztQAwQrzYiLZ7ppGBprk8BHnIZGLOVPeps-4QCxd2A9Yy6c9UrR0faKnLYjcrYfhIl945qE4_uUeGM9jR7drNVorR_Dz2HIPEotKt1YQa2hw%26__tn__%3D%252CO%252CP-R',\n",
       " 'https://www.facebook.com/login/?next=https%3A%2F%2Fwww.facebook.com%2FGyeonggiKorea.en%2Fposts%2Fpfbid0gkmwtnVpHuty1vtKPVmAW4YBjJfmSmjhXpNA5ZXEi7GaCUJVYtsHDS8eNFgfF73El%3F__cft__%255B0%255D%3DAZVPFTU8uQJyN7lfLe-bW69bqpInreeFAfwYUab_1TvbaeP3xp6XhlZ_P8c8VCq-DZUljgrknluX3H15gjIsY4e3A79MtqXgbWl1BaJPU_JF8iHfP8urREx8Qaant_jxmUQpH4nSSocfbWn12iAG5fETguJgMvJtBpfaNFonoFjVTw%26__tn__%3D%252CO%252CP-R',\n",
       " 'https://www.facebook.com/login/?next=https%3A%2F%2Fwww.facebook.com%2FGyeonggiKorea.en%2Fposts%2Fpfbid021KhLJ4JK6yX6VBkhEHsCRWWUdqydJJ2m82okUaJmGM44Zgi4RDBFgCZmfiyPzAfWl%3F__cft__%255B0%255D%3DAZVnSVCRyQUavNR8BT3rNaVyL6z73MAO8dT1wzOMKu-jkWiVWEff1ovNWvdG7odY1VIwTCBgtt79cVt7Q_oF_OclTISy4AV3ZPhi88E9IbLtBAyXiP2qNI0XpbpItedcC741Z6pgfvaEK5_q5hKjz7H86H_t6BGeeUD9HrFxv0P7bQ%26__tn__%3D%252CO%252CP-R',\n",
       " 'https://www.facebook.com/login/?next=https%3A%2F%2Fwww.facebook.com%2FGyeonggiKorea.en%2Fposts%2Fpfbid02Cn8YiKkF9FbhUHhxJEWPWUDqWkWmT3ejGTdCKvFjieCEnTwkkg9aEWWvTpem4Us7l%3F__cft__%255B0%255D%3DAZWjnL77EXjUEaBrhbdxrzdlFud_XNnLPaUJdvA7tox36WqGw8XwQnRPt3E0CFePYGumm2_h8oU3vx1BG1a4Dy3QtheMovUgIdbv7Qs1zddcBS335zpxl-AD--b3gPzlQIS_mGoLwWBceIZntoG4FmwZMFbMFXvHcLZJDp_XINC4Pw%26__tn__%3D%252CO%252CP-R',\n",
       " 'https://www.facebook.com/login/?next=https%3A%2F%2Fwww.facebook.com%2FGyeonggiKorea.en%2Fposts%2Fpfbid0NHkcATT9cNSoa59k8hH6xarU6SVAHdVdtJCTsCAphTC9sqaUvW4kQVpLuPhigChHl%3F__cft__%255B0%255D%3DAZXJfRp1ZetQF9dY4wO80oqaej9Ai9yj6c9XoJlIpozSwbAc7cDkZDQYGu6iyRMeoyouclwPDXdSHfIyA-cbrKIb8dz3sJXnUD-lTtZkQS06Q11FHuS58V8FNwcuvkvvL11vauSZczpS81UtfSu7Yk4awkMj-WWxSMyTMOSvd40Ubg%26__tn__%3D%252CO%252CP-R',\n",
       " 'https://www.facebook.com/login/?next=https%3A%2F%2Fwww.facebook.com%2FGyeonggiKorea.en%2Fposts%2Fpfbid02G8rQFgSQRcJKwNM4iajCz4qrbvBYwqpJx8wmefoVemthNXRtJTMksj7AqtE6h2bFl%3F__cft__%255B0%255D%3DAZUwlHnh72mz7GLNzsgMM73CRK8CBUxdwau3JnfaeBBr4DKtLiBOJKoYYs6OEwwmpkLwlwO0Sa4e1rZ6E4rN4nn6rac3yHBCSRztEoM2S3_aWXL0yvzSUNBwbD_UWdczJWMwP2XlGJfxYKX7BXorl29wshmjYoxZsLEHoBJTwiuO1w%26__tn__%3D%252CO%252CP-R',\n",
       " 'https://www.facebook.com/login/?next=https%3A%2F%2Fwww.facebook.com%2FGyeonggiKorea.en%2Fposts%2Fpfbid02iFvZuHsohY6FgWogDR18NR1zvVjTdHsUFyg7xGsSkESUNE96bmPHBdv9NYi9qTkml%3F__cft__%255B0%255D%3DAZX6Qni6oBT28N7bIuxxwCICsJ-5xGZbj5bmzQD7Bjoti-BPXrvi7I7pYlfmqZSvO4ALf05FPZD1W9ipyVetNaM6vN0EjXUXqhA6Gee9OwF2137VRbP6g5W1p1sCGT5kG1A90OwMSycHimHzHWGnIJM2evuGap_742PueXMh9Lm7Eg%26__tn__%3D%252CO%252CP-R',\n",
       " 'https://www.facebook.com/login/?next=https%3A%2F%2Fwww.facebook.com%2FGyeonggiKorea.en%2Fposts%2Fpfbid02CDNHsXKrdivzZPKPNpJPyJhPKhfXXjSUvgraAnZJkeYp9VFzXjHecoVSpuoMTuSSl%3F__cft__%255B0%255D%3DAZV19zwVqLKR8ZqQfMKlfBPWuy4Gh0TKZlsnvEPZaapnVi58fgpl4wqnujSNPQYNqnSkuBCZe8ZgxxioQij1kvH4HpDu5Z0SL9rzcP72-kbjbWYhmCOQMBBf-wBXBSr-3GdHzwZcCiO4aoT2W2qpHDHYYV61bCCNEZS7TVxE8sZ2WQ%26__tn__%3D%252CO%252CP-R',\n",
       " 'https://www.facebook.com/login/?next=https%3A%2F%2Fwww.facebook.com%2FGyeonggiKorea.en%2Fposts%2Fpfbid021khtPhmoYJosgr2nE7W2qUZPMmHLDTpKo2s3wMgN6Ez8cUHeyoz2PVWrugxQv9Bpl%3F__cft__%255B0%255D%3DAZWv30nIZSZpxpWigP_gYcTqMo2zD7R1azEh_HlUPgWzjFkN5-DLjVFuFc6S-PrQleXuS-3j8TZWb799daeN3yz7JfnsLTK9sOudO6HywYx5D0JfBjOD4bGgsTwraRL4FGsz31D55gicUCFQPmXFrvLL3CPJBCGKVaoIOEWHv41Mnw%26__tn__%3D%252CO%252CP-R']"
      ]
     },
     "execution_count": 44,
     "metadata": {},
     "output_type": "execute_result"
    }
   ],
   "source": [
    "mod_link_list = []\n",
    "for link in link_list:\n",
    "    driver.get(link)\n",
    "    driver.implicitly_wait(3)\n",
    "    time.sleep( random.uniform(1,3) )\n",
    "\n",
    "    temp = driver.current_url\n",
    "    mod_link_list.append(temp)\n",
    "mod_link_list"
   ]
  },
  {
   "cell_type": "code",
   "execution_count": null,
   "metadata": {},
   "outputs": [],
   "source": [
    "# chromedriver 종료\n",
    "driver.quit()"
   ]
  },
  {
   "cell_type": "code",
   "execution_count": 12,
   "metadata": {},
   "outputs": [
    {
     "data": {
      "text/html": [
       "<div>\n",
       "<style scoped>\n",
       "    .dataframe tbody tr th:only-of-type {\n",
       "        vertical-align: middle;\n",
       "    }\n",
       "\n",
       "    .dataframe tbody tr th {\n",
       "        vertical-align: top;\n",
       "    }\n",
       "\n",
       "    .dataframe thead th {\n",
       "        text-align: right;\n",
       "    }\n",
       "</style>\n",
       "<table border=\"1\" class=\"dataframe\">\n",
       "  <thead>\n",
       "    <tr style=\"text-align: right;\">\n",
       "      <th></th>\n",
       "      <th>날짜</th>\n",
       "      <th>글_내용</th>\n",
       "      <th>좋아요_수</th>\n",
       "      <th>공유수</th>\n",
       "      <th>댓글수</th>\n",
       "      <th>링크</th>\n",
       "    </tr>\n",
       "  </thead>\n",
       "  <tbody>\n",
       "    <tr>\n",
       "      <th>0</th>\n",
       "      <td>03-18</td>\n",
       "      <td>Catch this week's #GTV English #News for the l...</td>\n",
       "      <td>4</td>\n",
       "      <td>0</td>\n",
       "      <td>0</td>\n",
       "      <td>https://www.facebook.com/GyeonggiKorea.en/post...</td>\n",
       "    </tr>\n",
       "    <tr>\n",
       "      <th>1</th>\n",
       "      <td>03-17</td>\n",
       "      <td>Successful Overseas Expansion by Local Startup...</td>\n",
       "      <td>13</td>\n",
       "      <td>1</td>\n",
       "      <td>0</td>\n",
       "      <td>https://www.facebook.com/GyeonggiKorea.en/post...</td>\n",
       "    </tr>\n",
       "    <tr>\n",
       "      <th>2</th>\n",
       "      <td>03-16</td>\n",
       "      <td>[2022 Gyeonggi Foreign Social Media Reporters ...</td>\n",
       "      <td>31</td>\n",
       "      <td>3</td>\n",
       "      <td>1</td>\n",
       "      <td>https://www.facebook.com/GyeonggiKorea.en/post...</td>\n",
       "    </tr>\n",
       "    <tr>\n",
       "      <th>3</th>\n",
       "      <td>03-15</td>\n",
       "      <td>Gyeonggi to produce and distribute tourism bro...</td>\n",
       "      <td>43</td>\n",
       "      <td>1</td>\n",
       "      <td>5</td>\n",
       "      <td>https://www.facebook.com/GyeonggiKorea.en/post...</td>\n",
       "    </tr>\n",
       "    <tr>\n",
       "      <th>4</th>\n",
       "      <td>03-12</td>\n",
       "      <td>Gyeonggi Province’s Suwon City creates “Foreig...</td>\n",
       "      <td>23</td>\n",
       "      <td>0</td>\n",
       "      <td>0</td>\n",
       "      <td>https://www.facebook.com/GyeonggiKorea.en/post...</td>\n",
       "    </tr>\n",
       "    <tr>\n",
       "      <th>5</th>\n",
       "      <td>03-11</td>\n",
       "      <td>Catch this week's #GTV English #News for the l...</td>\n",
       "      <td>11</td>\n",
       "      <td>0</td>\n",
       "      <td>0</td>\n",
       "      <td>https://www.facebook.com/GyeonggiKorea.en/post...</td>\n",
       "    </tr>\n",
       "    <tr>\n",
       "      <th>6</th>\n",
       "      <td>03-10</td>\n",
       "      <td>Gyeonggi Province's Hanam City home to new LG-...</td>\n",
       "      <td>23</td>\n",
       "      <td>1</td>\n",
       "      <td>0</td>\n",
       "      <td>https://www.facebook.com/GyeonggiKorea.en/post...</td>\n",
       "    </tr>\n",
       "    <tr>\n",
       "      <th>7</th>\n",
       "      <td>03-08</td>\n",
       "      <td>Dongducheon Rock Festival selected as an outst...</td>\n",
       "      <td>9</td>\n",
       "      <td>0</td>\n",
       "      <td>0</td>\n",
       "      <td>https://www.facebook.com/GyeonggiKorea.en/post...</td>\n",
       "    </tr>\n",
       "    <tr>\n",
       "      <th>8</th>\n",
       "      <td>03-04</td>\n",
       "      <td>Gyeonggi Province’s Pocheon City provides fore...</td>\n",
       "      <td>23</td>\n",
       "      <td>0</td>\n",
       "      <td>0</td>\n",
       "      <td>https://www.facebook.com/GyeonggiKorea.en/post...</td>\n",
       "    </tr>\n",
       "    <tr>\n",
       "      <th>9</th>\n",
       "      <td>03-04</td>\n",
       "      <td>Catch this week's #GTV English #News for the l...</td>\n",
       "      <td>12</td>\n",
       "      <td>0</td>\n",
       "      <td>0</td>\n",
       "      <td>https://www.facebook.com/GyeonggiKorea.en/post...</td>\n",
       "    </tr>\n",
       "    <tr>\n",
       "      <th>10</th>\n",
       "      <td>03-02</td>\n",
       "      <td>Gyeonggi Province promotes local tourism with ...</td>\n",
       "      <td>22</td>\n",
       "      <td>2</td>\n",
       "      <td>0</td>\n",
       "      <td>https://www.facebook.com/GyeonggiKorea.en/post...</td>\n",
       "    </tr>\n",
       "  </tbody>\n",
       "</table>\n",
       "</div>"
      ],
      "text/plain": [
       "       날짜                                               글_내용  좋아요_수  공유수  댓글수  \\\n",
       "0   03-18  Catch this week's #GTV English #News for the l...      4    0    0   \n",
       "1   03-17  Successful Overseas Expansion by Local Startup...     13    1    0   \n",
       "2   03-16  [2022 Gyeonggi Foreign Social Media Reporters ...     31    3    1   \n",
       "3   03-15  Gyeonggi to produce and distribute tourism bro...     43    1    5   \n",
       "4   03-12  Gyeonggi Province’s Suwon City creates “Foreig...     23    0    0   \n",
       "5   03-11  Catch this week's #GTV English #News for the l...     11    0    0   \n",
       "6   03-10  Gyeonggi Province's Hanam City home to new LG-...     23    1    0   \n",
       "7   03-08  Dongducheon Rock Festival selected as an outst...      9    0    0   \n",
       "8   03-04  Gyeonggi Province’s Pocheon City provides fore...     23    0    0   \n",
       "9   03-04  Catch this week's #GTV English #News for the l...     12    0    0   \n",
       "10  03-02  Gyeonggi Province promotes local tourism with ...     22    2    0   \n",
       "\n",
       "                                                   링크  \n",
       "0   https://www.facebook.com/GyeonggiKorea.en/post...  \n",
       "1   https://www.facebook.com/GyeonggiKorea.en/post...  \n",
       "2   https://www.facebook.com/GyeonggiKorea.en/post...  \n",
       "3   https://www.facebook.com/GyeonggiKorea.en/post...  \n",
       "4   https://www.facebook.com/GyeonggiKorea.en/post...  \n",
       "5   https://www.facebook.com/GyeonggiKorea.en/post...  \n",
       "6   https://www.facebook.com/GyeonggiKorea.en/post...  \n",
       "7   https://www.facebook.com/GyeonggiKorea.en/post...  \n",
       "8   https://www.facebook.com/GyeonggiKorea.en/post...  \n",
       "9   https://www.facebook.com/GyeonggiKorea.en/post...  \n",
       "10  https://www.facebook.com/GyeonggiKorea.en/post...  "
      ]
     },
     "execution_count": 12,
     "metadata": {},
     "output_type": "execute_result"
    }
   ],
   "source": [
    "# 수집 데이터를 데이터 셋으로 만들기\n",
    "df = {'날짜':mode_num_date_list, '글_내용':contents_list, '좋아요_수':num_like_list, '공유수':num_share_list, '댓글수':num_comment_list, '링크':link_list}\n",
    "data = pd.DataFrame(df)\n",
    "data"
   ]
  },
  {
   "cell_type": "code",
   "execution_count": 13,
   "metadata": {},
   "outputs": [
    {
     "data": {
      "text/html": [
       "<div>\n",
       "<style scoped>\n",
       "    .dataframe tbody tr th:only-of-type {\n",
       "        vertical-align: middle;\n",
       "    }\n",
       "\n",
       "    .dataframe tbody tr th {\n",
       "        vertical-align: top;\n",
       "    }\n",
       "\n",
       "    .dataframe thead th {\n",
       "        text-align: right;\n",
       "    }\n",
       "</style>\n",
       "<table border=\"1\" class=\"dataframe\">\n",
       "  <thead>\n",
       "    <tr style=\"text-align: right;\">\n",
       "      <th></th>\n",
       "      <th>날짜</th>\n",
       "      <th>글_내용</th>\n",
       "      <th>좋아요_수</th>\n",
       "      <th>공유수</th>\n",
       "      <th>댓글수</th>\n",
       "      <th>링크</th>\n",
       "    </tr>\n",
       "  </thead>\n",
       "  <tbody>\n",
       "    <tr>\n",
       "      <th>10</th>\n",
       "      <td>03-02</td>\n",
       "      <td>Gyeonggi Province promotes local tourism with ...</td>\n",
       "      <td>22</td>\n",
       "      <td>2</td>\n",
       "      <td>0</td>\n",
       "      <td>https://www.facebook.com/GyeonggiKorea.en/post...</td>\n",
       "    </tr>\n",
       "    <tr>\n",
       "      <th>9</th>\n",
       "      <td>03-04</td>\n",
       "      <td>Catch this week's #GTV English #News for the l...</td>\n",
       "      <td>12</td>\n",
       "      <td>0</td>\n",
       "      <td>0</td>\n",
       "      <td>https://www.facebook.com/GyeonggiKorea.en/post...</td>\n",
       "    </tr>\n",
       "    <tr>\n",
       "      <th>8</th>\n",
       "      <td>03-04</td>\n",
       "      <td>Gyeonggi Province’s Pocheon City provides fore...</td>\n",
       "      <td>23</td>\n",
       "      <td>0</td>\n",
       "      <td>0</td>\n",
       "      <td>https://www.facebook.com/GyeonggiKorea.en/post...</td>\n",
       "    </tr>\n",
       "    <tr>\n",
       "      <th>7</th>\n",
       "      <td>03-08</td>\n",
       "      <td>Dongducheon Rock Festival selected as an outst...</td>\n",
       "      <td>9</td>\n",
       "      <td>0</td>\n",
       "      <td>0</td>\n",
       "      <td>https://www.facebook.com/GyeonggiKorea.en/post...</td>\n",
       "    </tr>\n",
       "    <tr>\n",
       "      <th>6</th>\n",
       "      <td>03-10</td>\n",
       "      <td>Gyeonggi Province's Hanam City home to new LG-...</td>\n",
       "      <td>23</td>\n",
       "      <td>1</td>\n",
       "      <td>0</td>\n",
       "      <td>https://www.facebook.com/GyeonggiKorea.en/post...</td>\n",
       "    </tr>\n",
       "    <tr>\n",
       "      <th>5</th>\n",
       "      <td>03-11</td>\n",
       "      <td>Catch this week's #GTV English #News for the l...</td>\n",
       "      <td>11</td>\n",
       "      <td>0</td>\n",
       "      <td>0</td>\n",
       "      <td>https://www.facebook.com/GyeonggiKorea.en/post...</td>\n",
       "    </tr>\n",
       "    <tr>\n",
       "      <th>4</th>\n",
       "      <td>03-12</td>\n",
       "      <td>Gyeonggi Province’s Suwon City creates “Foreig...</td>\n",
       "      <td>23</td>\n",
       "      <td>0</td>\n",
       "      <td>0</td>\n",
       "      <td>https://www.facebook.com/GyeonggiKorea.en/post...</td>\n",
       "    </tr>\n",
       "    <tr>\n",
       "      <th>3</th>\n",
       "      <td>03-15</td>\n",
       "      <td>Gyeonggi to produce and distribute tourism bro...</td>\n",
       "      <td>43</td>\n",
       "      <td>1</td>\n",
       "      <td>5</td>\n",
       "      <td>https://www.facebook.com/GyeonggiKorea.en/post...</td>\n",
       "    </tr>\n",
       "    <tr>\n",
       "      <th>2</th>\n",
       "      <td>03-16</td>\n",
       "      <td>[2022 Gyeonggi Foreign Social Media Reporters ...</td>\n",
       "      <td>31</td>\n",
       "      <td>3</td>\n",
       "      <td>1</td>\n",
       "      <td>https://www.facebook.com/GyeonggiKorea.en/post...</td>\n",
       "    </tr>\n",
       "    <tr>\n",
       "      <th>1</th>\n",
       "      <td>03-17</td>\n",
       "      <td>Successful Overseas Expansion by Local Startup...</td>\n",
       "      <td>13</td>\n",
       "      <td>1</td>\n",
       "      <td>0</td>\n",
       "      <td>https://www.facebook.com/GyeonggiKorea.en/post...</td>\n",
       "    </tr>\n",
       "    <tr>\n",
       "      <th>0</th>\n",
       "      <td>03-18</td>\n",
       "      <td>Catch this week's #GTV English #News for the l...</td>\n",
       "      <td>4</td>\n",
       "      <td>0</td>\n",
       "      <td>0</td>\n",
       "      <td>https://www.facebook.com/GyeonggiKorea.en/post...</td>\n",
       "    </tr>\n",
       "  </tbody>\n",
       "</table>\n",
       "</div>"
      ],
      "text/plain": [
       "       날짜                                               글_내용  좋아요_수  공유수  댓글수  \\\n",
       "10  03-02  Gyeonggi Province promotes local tourism with ...     22    2    0   \n",
       "9   03-04  Catch this week's #GTV English #News for the l...     12    0    0   \n",
       "8   03-04  Gyeonggi Province’s Pocheon City provides fore...     23    0    0   \n",
       "7   03-08  Dongducheon Rock Festival selected as an outst...      9    0    0   \n",
       "6   03-10  Gyeonggi Province's Hanam City home to new LG-...     23    1    0   \n",
       "5   03-11  Catch this week's #GTV English #News for the l...     11    0    0   \n",
       "4   03-12  Gyeonggi Province’s Suwon City creates “Foreig...     23    0    0   \n",
       "3   03-15  Gyeonggi to produce and distribute tourism bro...     43    1    5   \n",
       "2   03-16  [2022 Gyeonggi Foreign Social Media Reporters ...     31    3    1   \n",
       "1   03-17  Successful Overseas Expansion by Local Startup...     13    1    0   \n",
       "0   03-18  Catch this week's #GTV English #News for the l...      4    0    0   \n",
       "\n",
       "                                                   링크  \n",
       "10  https://www.facebook.com/GyeonggiKorea.en/post...  \n",
       "9   https://www.facebook.com/GyeonggiKorea.en/post...  \n",
       "8   https://www.facebook.com/GyeonggiKorea.en/post...  \n",
       "7   https://www.facebook.com/GyeonggiKorea.en/post...  \n",
       "6   https://www.facebook.com/GyeonggiKorea.en/post...  \n",
       "5   https://www.facebook.com/GyeonggiKorea.en/post...  \n",
       "4   https://www.facebook.com/GyeonggiKorea.en/post...  \n",
       "3   https://www.facebook.com/GyeonggiKorea.en/post...  \n",
       "2   https://www.facebook.com/GyeonggiKorea.en/post...  \n",
       "1   https://www.facebook.com/GyeonggiKorea.en/post...  \n",
       "0   https://www.facebook.com/GyeonggiKorea.en/post...  "
      ]
     },
     "execution_count": 13,
     "metadata": {},
     "output_type": "execute_result"
    }
   ],
   "source": [
    "# 인덱스 내림차순 정렬\n",
    "final_data = data.sort_index(ascending=False)\n",
    "final_data"
   ]
  },
  {
   "cell_type": "code",
   "execution_count": 14,
   "metadata": {},
   "outputs": [
    {
     "name": "stdout",
     "output_type": "stream",
     "text": [
      "facebook_20220318-164738.xlsx 파일 생성 완료\n"
     ]
    }
   ],
   "source": [
    "# 수집한 데이터 파일료 출력\n",
    "file_name = str(datetime.today().strftime(\"%Y%m%d-%H%M%S\"))\n",
    "file_name = 'facebook_' + file_name + '.xlsx'\n",
    "path = './crawling_data/facebook/'\n",
    "final_data.to_excel(path+file_name, index=False, encoding='utf-8')\n",
    "\n",
    "print(f\"{file_name} 파일 생성 완료\")"
   ]
  },
  {
   "cell_type": "markdown",
   "metadata": {},
   "source": [
    "# 코드 마지막"
   ]
  }
 ],
 "metadata": {
  "interpreter": {
   "hash": "513dc2e41d739bb2c947903f3c0bbf636d03aa53ab50e61c694a27481c81805e"
  },
  "kernelspec": {
   "display_name": "Python 3.8.8 ('base')",
   "language": "python",
   "name": "python3"
  },
  "language_info": {
   "codemirror_mode": {
    "name": "ipython",
    "version": 3
   },
   "file_extension": ".py",
   "mimetype": "text/x-python",
   "name": "python",
   "nbconvert_exporter": "python",
   "pygments_lexer": "ipython3",
   "version": "3.8.8"
  },
  "orig_nbformat": 4
 },
 "nbformat": 4,
 "nbformat_minor": 2
}
