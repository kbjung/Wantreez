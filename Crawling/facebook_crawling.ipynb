{
 "cells": [
  {
   "cell_type": "code",
   "execution_count": 3,
   "metadata": {},
   "outputs": [
    {
     "name": "stdout",
     "output_type": "stream",
     "text": [
      "Collecting selenium\n",
      "  Downloading selenium-4.1.2-py3-none-any.whl (963 kB)\n",
      "Requirement already satisfied: urllib3[secure,socks]~=1.26 in c:\\anaconda\\lib\\site-packages (from selenium) (1.26.4)\n",
      "Collecting trio~=0.17\n",
      "  Downloading trio-0.20.0-py3-none-any.whl (359 kB)\n",
      "Collecting trio-websocket~=0.9\n",
      "  Downloading trio_websocket-0.9.2-py3-none-any.whl (16 kB)\n",
      "Requirement already satisfied: attrs>=19.2.0 in c:\\anaconda\\lib\\site-packages (from trio~=0.17->selenium) (20.3.0)\n",
      "Requirement already satisfied: sniffio in c:\\anaconda\\lib\\site-packages (from trio~=0.17->selenium) (1.2.0)\n",
      "Requirement already satisfied: idna in c:\\anaconda\\lib\\site-packages (from trio~=0.17->selenium) (2.10)\n",
      "Requirement already satisfied: cffi>=1.14 in c:\\anaconda\\lib\\site-packages (from trio~=0.17->selenium) (1.14.5)\n",
      "Requirement already satisfied: sortedcontainers in c:\\anaconda\\lib\\site-packages (from trio~=0.17->selenium) (2.3.0)\n",
      "Requirement already satisfied: async-generator>=1.9 in c:\\anaconda\\lib\\site-packages (from trio~=0.17->selenium) (1.10)\n",
      "Collecting outcome\n",
      "  Downloading outcome-1.1.0-py2.py3-none-any.whl (9.7 kB)\n",
      "Requirement already satisfied: pycparser in c:\\anaconda\\lib\\site-packages (from cffi>=1.14->trio~=0.17->selenium) (2.20)\n",
      "Collecting wsproto>=0.14\n",
      "  Downloading wsproto-1.1.0-py3-none-any.whl (24 kB)\n",
      "Requirement already satisfied: cryptography>=1.3.4 in c:\\anaconda\\lib\\site-packages (from urllib3[secure,socks]~=1.26->selenium) (3.4.7)\n",
      "Requirement already satisfied: pyOpenSSL>=0.14 in c:\\anaconda\\lib\\site-packages (from urllib3[secure,socks]~=1.26->selenium) (20.0.1)\n",
      "Requirement already satisfied: certifi in c:\\anaconda\\lib\\site-packages (from urllib3[secure,socks]~=1.26->selenium) (2020.12.5)\n",
      "Requirement already satisfied: PySocks!=1.5.7,<2.0,>=1.5.6 in c:\\anaconda\\lib\\site-packages (from urllib3[secure,socks]~=1.26->selenium) (1.7.1)\n",
      "Requirement already satisfied: six>=1.5.2 in c:\\anaconda\\lib\\site-packages (from pyOpenSSL>=0.14->urllib3[secure,socks]~=1.26->selenium) (1.15.0)\n",
      "Collecting h11<1,>=0.9.0\n",
      "  Downloading h11-0.13.0-py3-none-any.whl (58 kB)\n",
      "Installing collected packages: outcome, h11, wsproto, trio, trio-websocket, selenium\n",
      "Successfully installed h11-0.13.0 outcome-1.1.0 selenium-4.1.2 trio-0.20.0 trio-websocket-0.9.2 wsproto-1.1.0\n"
     ]
    }
   ],
   "source": [
    "!pip install selenium"
   ]
  },
  {
   "cell_type": "markdown",
   "metadata": {},
   "source": [
    "# 웹페이지 크롤링"
   ]
  },
  {
   "cell_type": "code",
   "execution_count": 1,
   "metadata": {},
   "outputs": [],
   "source": [
    "from bs4 import BeautifulSoup as bs\n",
    "import time\n",
    "from datetime import datetime\n",
    "from selenium import webdriver\n",
    "from selenium.webdriver.common.keys import Keys"
   ]
  },
  {
   "cell_type": "code",
   "execution_count": 2,
   "metadata": {},
   "outputs": [],
   "source": [
    "import matplotlib.pyplot as plt\n",
    "import pandas as pd"
   ]
  },
  {
   "cell_type": "code",
   "execution_count": 6,
   "metadata": {},
   "outputs": [],
   "source": [
    "def fb_crawling(url, page_down_num):\n",
    "    # webdriver 로드\n",
    "    driver = webdriver.Chrome('chromedriver')\n",
    "    driver.get(url)\n",
    "\n",
    "    # page_down 키 입력\n",
    "    for c in range(0, page_down_num):\n",
    "        driver.find_element_by_tag_name('body').send_keys(Keys.PAGE_DOWN)\n",
    "        time.sleep(1)\n",
    "\n",
    "    # 페이지 크롤링\n",
    "    soup = bs(driver.page_source, 'lxml')\n",
    "    # 글 내용 크롤링\n",
    "    content_pages = soup.find_all('div', class_='kvgmc6g5 cxmmr5t8 oygrvhab hcukyx3x c1et5uql ii04i59q')\n",
    "    # 글 좋아요 수 크롤링\n",
    "    info_pages = soup.find_all('span', class_='pcp91wgn')\n",
    "    # 글 내용, 좋아요 수 리스트화\n",
    "    like_num_list = []\n",
    "    contents_list = []\n",
    "    for i in range(len(content_pages[:3])):\n",
    "        like_num_list.append(int(info_pages[i].text))\n",
    "        contents_list.append(content_pages[i].text)\n",
    "\n",
    "    # 좋아요 수 막대 그래프 시각화\n",
    "    plt.figure(figsize=(12,8))\n",
    "    plt.xticks(range(len(like_num_list[:3])))\n",
    "    plt.bar(range(len(like_num_list[:3])), height=like_num_list)\n",
    "    \n",
    "    for i in range(len(content_pages[:3])):\n",
    "        plt.text(i, like_num_list[i], like_num_list[i],                 # 좌표 (x축 = v, y축 = y[0]..y[1], 표시 = y[0]..y[1])\n",
    "                fontsize = 9, \n",
    "                color='blue',\n",
    "                horizontalalignment='center',  # horizontalalignment (left, center, right)\n",
    "                verticalalignment='bottom')    # verticalalignment (top, center, bottom)\n",
    "\n",
    "\n",
    "    df = {'좋아요_수':like_num_list, '글_내용':contents_list}\n",
    "    data = pd.DataFrame(df)\n",
    "    file_name = str(datetime.today().strftime(\"%Y%m%d-%H%M%S\"))\n",
    "    file_name = 'facebook_' + file_name + '.csv'\n",
    "    path = './crawling_data/'\n",
    "    data.to_csv(path+file_name, index=False, encoding='utf-8')\n",
    "\n",
    "    return data"
   ]
  },
  {
   "cell_type": "markdown",
   "metadata": {},
   "source": [
    "# 페이지 크롤링, 크롤링한 자료 파일로 생성하기"
   ]
  },
  {
   "cell_type": "code",
   "execution_count": 7,
   "metadata": {},
   "outputs": [],
   "source": [
    "# 크롤링할 웹사이트 주소\n",
    "url = 'https://www.facebook.com/GyeonggiKorea.en'"
   ]
  },
  {
   "cell_type": "code",
   "execution_count": 8,
   "metadata": {},
   "outputs": [
    {
     "name": "stderr",
     "output_type": "stream",
     "text": [
      "<ipython-input-6-a4f08edc450f>:8: DeprecationWarning: find_element_by_tag_name is deprecated. Please use find_element(by=By.TAG_NAME, value=name) instead\n",
      "  driver.find_element_by_tag_name('body').send_keys(Keys.PAGE_DOWN)\n"
     ]
    },
    {
     "data": {
      "image/png": "[encoded data removed]",
      "text/plain": [
       "<Figure size 864x576 with 1 Axes>"
      ]
     },
     "metadata": {
      "needs_background": "light"
     },
     "output_type": "display_data"
    }
   ],
   "source": [
    "# fb_crawling(url, page_down 누르는 횟수)\n",
    "page_down = 3\n",
    "data = fb_crawling(url, page_down)"
   ]
  },
  {
   "cell_type": "code",
   "execution_count": 24,
   "metadata": {},
   "outputs": [
    {
     "data": {
      "text/html": [
       "<div>\n",
       "<style scoped>\n",
       "    .dataframe tbody tr th:only-of-type {\n",
       "        vertical-align: middle;\n",
       "    }\n",
       "\n",
       "    .dataframe tbody tr th {\n",
       "        vertical-align: top;\n",
       "    }\n",
       "\n",
       "    .dataframe thead th {\n",
       "        text-align: right;\n",
       "    }\n",
       "</style>\n",
       "<table border=\"1\" class=\"dataframe\">\n",
       "  <thead>\n",
       "    <tr style=\"text-align: right;\">\n",
       "      <th></th>\n",
       "      <th>좋아요_수</th>\n",
       "      <th>글_내용</th>\n",
       "    </tr>\n",
       "  </thead>\n",
       "  <tbody>\n",
       "    <tr>\n",
       "      <th>0</th>\n",
       "      <td>18</td>\n",
       "      <td>Gyeonggi Province promotes local tourism with ...</td>\n",
       "    </tr>\n",
       "    <tr>\n",
       "      <th>1</th>\n",
       "      <td>44</td>\n",
       "      <td>Gyeonggi Province is taking the initiative in ...</td>\n",
       "    </tr>\n",
       "    <tr>\n",
       "      <th>2</th>\n",
       "      <td>9</td>\n",
       "      <td>Catch this week's #GTV English #News for the l...</td>\n",
       "    </tr>\n",
       "    <tr>\n",
       "      <th>3</th>\n",
       "      <td>47</td>\n",
       "      <td>Hwaseong Fortress of Suwon City</td>\n",
       "    </tr>\n",
       "    <tr>\n",
       "      <th>4</th>\n",
       "      <td>14</td>\n",
       "      <td>Gwacheon City of Gyeonggi Province, known as t...</td>\n",
       "    </tr>\n",
       "    <tr>\n",
       "      <th>5</th>\n",
       "      <td>18</td>\n",
       "      <td>Catch this week's #GTV English #News for the l...</td>\n",
       "    </tr>\n",
       "    <tr>\n",
       "      <th>6</th>\n",
       "      <td>27</td>\n",
       "      <td>Gyeonggi Province unveils Korea’s first virtua...</td>\n",
       "    </tr>\n",
       "    <tr>\n",
       "      <th>7</th>\n",
       "      <td>39</td>\n",
       "      <td>Famous for family trips: Yangtte Farm in Gyeon...</td>\n",
       "    </tr>\n",
       "    <tr>\n",
       "      <th>8</th>\n",
       "      <td>14</td>\n",
       "      <td>Catch this week's #GTV English #News for the l...</td>\n",
       "    </tr>\n",
       "    <tr>\n",
       "      <th>9</th>\n",
       "      <td>38</td>\n",
       "      <td>A healing travel course in Pocheon City of Gye...</td>\n",
       "    </tr>\n",
       "    <tr>\n",
       "      <th>10</th>\n",
       "      <td>33</td>\n",
       "      <td>Gyeonggi Province Tourism Development Plan - C...</td>\n",
       "    </tr>\n",
       "    <tr>\n",
       "      <th>11</th>\n",
       "      <td>25</td>\n",
       "      <td>Gyeonggi Nambu Police Agency expands ‘Driver’s...</td>\n",
       "    </tr>\n",
       "    <tr>\n",
       "      <th>12</th>\n",
       "      <td>39</td>\n",
       "      <td>A trip for making memories with your family: O...</td>\n",
       "    </tr>\n",
       "    <tr>\n",
       "      <th>13</th>\n",
       "      <td>40</td>\n",
       "      <td>Introducing famous Gyeonggi Province tourist a...</td>\n",
       "    </tr>\n",
       "    <tr>\n",
       "      <th>14</th>\n",
       "      <td>46</td>\n",
       "      <td>Gyeonggi Happiness Shop achieves record-break...</td>\n",
       "    </tr>\n",
       "    <tr>\n",
       "      <th>15</th>\n",
       "      <td>48</td>\n",
       "      <td>Gyeonggi Peace Plaza: Filled with captivating ...</td>\n",
       "    </tr>\n",
       "    <tr>\n",
       "      <th>16</th>\n",
       "      <td>77</td>\n",
       "      <td>Abandoned wastewater treatment plant transform...</td>\n",
       "    </tr>\n",
       "    <tr>\n",
       "      <th>17</th>\n",
       "      <td>440</td>\n",
       "      <td>Gyeonggi Province publishes K-culture report</td>\n",
       "    </tr>\n",
       "    <tr>\n",
       "      <th>18</th>\n",
       "      <td>22</td>\n",
       "      <td>Catch this week's #GTV English #News for the l...</td>\n",
       "    </tr>\n",
       "  </tbody>\n",
       "</table>\n",
       "</div>"
      ],
      "text/plain": [
       "   좋아요_수                                               글_내용\n",
       "0     18  Gyeonggi Province promotes local tourism with ...\n",
       "1     44  Gyeonggi Province is taking the initiative in ...\n",
       "2      9  Catch this week's #GTV English #News for the l...\n",
       "3     47                    Hwaseong Fortress of Suwon City\n",
       "4     14  Gwacheon City of Gyeonggi Province, known as t...\n",
       "5     18  Catch this week's #GTV English #News for the l...\n",
       "6     27  Gyeonggi Province unveils Korea’s first virtua...\n",
       "7     39  Famous for family trips: Yangtte Farm in Gyeon...\n",
       "8     14  Catch this week's #GTV English #News for the l...\n",
       "9     38  A healing travel course in Pocheon City of Gye...\n",
       "10    33  Gyeonggi Province Tourism Development Plan - C...\n",
       "11    25  Gyeonggi Nambu Police Agency expands ‘Driver’s...\n",
       "12    39  A trip for making memories with your family: O...\n",
       "13    40  Introducing famous Gyeonggi Province tourist a...\n",
       "14    46   Gyeonggi Happiness Shop achieves record-break...\n",
       "15    48  Gyeonggi Peace Plaza: Filled with captivating ...\n",
       "16    77  Abandoned wastewater treatment plant transform...\n",
       "17   440       Gyeonggi Province publishes K-culture report\n",
       "18    22  Catch this week's #GTV English #News for the l..."
      ]
     },
     "execution_count": 24,
     "metadata": {},
     "output_type": "execute_result"
    }
   ],
   "source": [
    "data"
   ]
  },
  {
   "cell_type": "markdown",
   "metadata": {},
   "source": [
    "# 코드 마지막"
   ]
  },
  {
   "cell_type": "code",
   "execution_count": null,
   "metadata": {},
   "outputs": [],
   "source": []
  }
 ],
 "metadata": {
  "interpreter": {
   "hash": "513dc2e41d739bb2c947903f3c0bbf636d03aa53ab50e61c694a27481c81805e"
  },
  "kernelspec": {
   "display_name": "Python 3.8.8 ('base')",
   "language": "python",
   "name": "python3"
  },
  "language_info": {
   "codemirror_mode": {
    "name": "ipython",
    "version": 3
   },
   "file_extension": ".py",
   "mimetype": "text/x-python",
   "name": "python",
   "nbconvert_exporter": "python",
   "pygments_lexer": "ipython3",
   "version": "3.8.8"
  },
  "orig_nbformat": 4
 },
 "nbformat": 4,
 "nbformat_minor": 2
}
