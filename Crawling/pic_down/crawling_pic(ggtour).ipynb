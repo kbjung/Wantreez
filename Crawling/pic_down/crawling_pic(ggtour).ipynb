{
 "cells": [
  {
   "cell_type": "markdown",
   "metadata": {},
   "source": [
    "# 경기관광포털 포토갤러리 크롤링"
   ]
  },
  {
   "cell_type": "code",
   "execution_count": 71,
   "metadata": {},
   "outputs": [],
   "source": [
    "from selenium import webdriver\n",
    "import time\n",
    "from bs4 import BeautifulSoup as bs\n",
    "import random"
   ]
  },
  {
   "cell_type": "markdown",
   "metadata": {},
   "source": [
    "## 검색어 설정"
   ]
  },
  {
   "cell_type": "code",
   "execution_count": 73,
   "metadata": {},
   "outputs": [],
   "source": [
    "# 검색어 입력. \n",
    "# 예시) search_word = '검색어', 검색어 더블 클릭하고 입력하면 편리.\n",
    "search_word = '서삼릉'"
   ]
  },
  {
   "cell_type": "markdown",
   "metadata": {},
   "source": [
    "## 페이지 접속"
   ]
  },
  {
   "cell_type": "code",
   "execution_count": 72,
   "metadata": {},
   "outputs": [],
   "source": [
    "# 페이지 접속\n",
    "url = 'https://ggtour.or.kr/info/board_photo.php?tsort=1&msort=160'\n",
    "driver = webdriver.Chrome('chromedriver')\n",
    "driver.get(url)\n",
    "driver.implicitly_wait(5)\n",
    "driver.maximize_window()\n",
    "time.sleep(1)"
   ]
  },
  {
   "cell_type": "code",
   "execution_count": 74,
   "metadata": {},
   "outputs": [
    {
     "name": "stderr",
     "output_type": "stream",
     "text": [
      "<ipython-input-74-98bb32f8f81c>:1: DeprecationWarning: find_element_by_xpath is deprecated. Please use find_element(by=By.XPATH, value=xpath) instead\n",
      "  search_box = driver.find_element_by_xpath('//*[@id=\"key\"]')\n",
      "<ipython-input-74-98bb32f8f81c>:2: DeprecationWarning: find_element_by_xpath is deprecated. Please use find_element(by=By.XPATH, value=xpath) instead\n",
      "  search_button = driver.find_element_by_xpath('//*[@id=\"sub_form\"]/div/div[1]/div/input')\n"
     ]
    }
   ],
   "source": [
    "search_box = driver.find_element_by_xpath('//*[@id=\"key\"]')\n",
    "search_button = driver.find_element_by_xpath('//*[@id=\"sub_form\"]/div/div[1]/div/input')\n",
    "search_box.clear()\n",
    "search_box.send_keys(search_word)\n",
    "time.sleep(0.5)\n",
    "search_button.click()\n",
    "driver.implicitly_wait(5)"
   ]
  },
  {
   "cell_type": "markdown",
   "metadata": {},
   "source": [
    "## 사진 크롤링"
   ]
  },
  {
   "cell_type": "code",
   "execution_count": 75,
   "metadata": {},
   "outputs": [
    {
     "data": {
      "text/plain": [
       "'경기관광 > 포토갤러리 : 경기관광포털'"
      ]
     },
     "execution_count": 75,
     "metadata": {},
     "output_type": "execute_result"
    }
   ],
   "source": [
    "soup = bs(driver.page_source, 'lxml')\n",
    "soup.title.text"
   ]
  },
  {
   "cell_type": "code",
   "execution_count": 76,
   "metadata": {},
   "outputs": [
    {
     "data": {
      "text/plain": [
       "5"
      ]
     },
     "execution_count": 76,
     "metadata": {},
     "output_type": "execute_result"
    }
   ],
   "source": [
    "div_pages = soup.find('div', 'pageview')\n",
    "pages = div_pages.find_all('a')\n",
    "len(pages)"
   ]
  },
  {
   "cell_type": "code",
   "execution_count": 77,
   "metadata": {},
   "outputs": [],
   "source": [
    "# 1페이지 링크\n",
    "# //*[@id=\"sub_form\"]/div/div[3]/div/a[3]\n",
    "# 2페이지 링크\n",
    "# //*[@id=\"sub_form\"]/div/div[3]/div/a[4]"
   ]
  },
  {
   "cell_type": "markdown",
   "metadata": {},
   "source": [
    "## 게시글 링크 수집"
   ]
  },
  {
   "cell_type": "code",
   "execution_count": 78,
   "metadata": {},
   "outputs": [
    {
     "name": "stderr",
     "output_type": "stream",
     "text": [
      "<ipython-input-78-ef67c701d856>:4: DeprecationWarning: find_element_by_xpath is deprecated. Please use find_element(by=By.XPATH, value=xpath) instead\n",
      "  temp_number_page = driver.find_element_by_xpath(f'//*[@id=\"sub_form\"]/div/div[3]/div/a[{page+2}]')\n"
     ]
    },
    {
     "name": "stdout",
     "output_type": "stream",
     "text": [
      "1페이지 사진 개수 :  31\n",
      "수집된 링크 개수 :  31\n"
     ]
    }
   ],
   "source": [
    "number_pages = len(pages) - 4\n",
    "img_link_list = []\n",
    "for page in range(number_pages, 0, -1):\n",
    "    temp_number_page = driver.find_element_by_xpath(f'//*[@id=\"sub_form\"]/div/div[3]/div/a[{page+2}]')\n",
    "    temp_number_page.click()\n",
    "    driver.implicitly_wait(3)\n",
    "\n",
    "    contents = bs(driver.page_source, 'lxml')\n",
    "    raw_contents = contents.find_all('ul')\n",
    "    contents_li = raw_contents[16].find_all('a')\n",
    "    for link in contents_li:\n",
    "        temp = 'https://ggtour.or.kr/' + link.attrs['href']\n",
    "        img_link_list.append(temp)\n",
    "    print(f'{page}페이지 사진 개수 : ', len(contents_li))\n",
    "    print('수집된 링크 개수 : ', len(img_link_list))"
   ]
  },
  {
   "cell_type": "code",
   "execution_count": 79,
   "metadata": {},
   "outputs": [
    {
     "name": "stderr",
     "output_type": "stream",
     "text": [
      "<ipython-input-79-362387c5cc3b>:5: DeprecationWarning: find_element_by_xpath is deprecated. Please use find_element(by=By.XPATH, value=xpath) instead\n",
      "  down_button = driver.find_element_by_xpath('//*[@id=\"down_btn\"]')\n"
     ]
    }
   ],
   "source": [
    "i = 0\n",
    "for link in img_link_list:\n",
    "    driver.get(link)\n",
    "    driver.implicitly_wait(3)\n",
    "    down_button = driver.find_element_by_xpath('//*[@id=\"down_btn\"]')\n",
    "    down_button.click()\n",
    "    time.sleep( random.uniform(1,4) + i)\n",
    "    i += 0.05\n",
    "# chromedriver 종료\n",
    "driver.quit()"
   ]
  },
  {
   "cell_type": "markdown",
   "metadata": {},
   "source": [
    "# 코드 마지막"
   ]
  }
 ],
 "metadata": {
  "interpreter": {
   "hash": "513dc2e41d739bb2c947903f3c0bbf636d03aa53ab50e61c694a27481c81805e"
  },
  "kernelspec": {
   "display_name": "Python 3.8.8 ('base')",
   "language": "python",
   "name": "python3"
  },
  "language_info": {
   "codemirror_mode": {
    "name": "ipython",
    "version": 3
   },
   "file_extension": ".py",
   "mimetype": "text/x-python",
   "name": "python",
   "nbconvert_exporter": "python",
   "pygments_lexer": "ipython3",
   "version": "3.8.8"
  },
  "orig_nbformat": 4
 },
 "nbformat": 4,
 "nbformat_minor": 2
}
