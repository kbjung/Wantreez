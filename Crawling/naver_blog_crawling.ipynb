{
 "cells": [
  {
   "cell_type": "markdown",
   "metadata": {},
   "source": [
    "# naver blog 크롤링"
   ]
  },
  {
   "cell_type": "markdown",
   "metadata": {},
   "source": [
    "## 크롤링 조건 설정"
   ]
  },
  {
   "cell_type": "code",
   "execution_count": 43,
   "metadata": {},
   "outputs": [],
   "source": [
    "# 크롤링할 페이지 설정\n",
    "number_page = 4\n",
    "# 날짜 설정 : \"설정 날짜\" 포함, 이후 날짜 데이터 출력됨.\n",
    "start_date = '2022-01-01'"
   ]
  },
  {
   "cell_type": "code",
   "execution_count": 44,
   "metadata": {},
   "outputs": [],
   "source": [
    "from bs4 import BeautifulSoup as bs\n",
    "import time\n",
    "import random\n",
    "from selenium import webdriver\n",
    "import pandas as pd\n",
    "from datetime import datetime"
   ]
  },
  {
   "cell_type": "markdown",
   "metadata": {},
   "source": [
    "## 크롤링할 페이지 접속"
   ]
  },
  {
   "cell_type": "code",
   "execution_count": 45,
   "metadata": {},
   "outputs": [],
   "source": [
    "# 페이지 접속\n",
    "driver = webdriver.Chrome('chromedriver')\n",
    "url = '주소입력'\n",
    "# webdriver 로드\n",
    "driver.get(url)\n",
    "time.sleep(3)\n",
    "driver.implicitly_wait(2)\n",
    "\n",
    "# 창 최대화\n",
    "driver.maximize_window()\n",
    "time.sleep(1)"
   ]
  },
  {
   "cell_type": "code",
   "execution_count": null,
   "metadata": {},
   "outputs": [],
   "source": [
    "# iframe 변경\n",
    "driver.switch_to.frame('') # iframe name 입력"
   ]
  },
  {
   "cell_type": "code",
   "execution_count": 46,
   "metadata": {},
   "outputs": [
    {
     "name": "stdout",
     "output_type": "stream",
     "text": [
      "타이틀 :  Gyeonggido-Korea (경기도)\n"
     ]
    }
   ],
   "source": [
    "# 페이지가 스프에 담김 확인\n",
    "soup = bs(driver.page_source, 'lxml')\n",
    "print(\"타이틀 : \", soup.title.text)"
   ]
  },
  {
   "cell_type": "markdown",
   "metadata": {},
   "source": [
    "## 웹드라이버 종료"
   ]
  },
  {
   "cell_type": "code",
   "execution_count": 55,
   "metadata": {},
   "outputs": [],
   "source": [
    "# chromedriver 종료\n",
    "driver.quit()"
   ]
  },
  {
   "cell_type": "markdown",
   "metadata": {},
   "source": [
    "# 파일로 출력"
   ]
  },
  {
   "cell_type": "markdown",
   "metadata": {},
   "source": [
    "## 데이터 셋 생성"
   ]
  },
  {
   "cell_type": "code",
   "execution_count": 59,
   "metadata": {},
   "outputs": [
    {
     "data": {
      "text/html": [
       "<div>\n",
       "<style scoped>\n",
       "    .dataframe tbody tr th:only-of-type {\n",
       "        vertical-align: middle;\n",
       "    }\n",
       "\n",
       "    .dataframe tbody tr th {\n",
       "        vertical-align: top;\n",
       "    }\n",
       "\n",
       "    .dataframe thead th {\n",
       "        text-align: right;\n",
       "    }\n",
       "</style>\n",
       "<table border=\"1\" class=\"dataframe\">\n",
       "  <thead>\n",
       "    <tr style=\"text-align: right;\">\n",
       "      <th></th>\n",
       "      <th>날짜</th>\n",
       "      <th>제목</th>\n",
       "      <th>조회수</th>\n",
       "      <th>좋아요_수</th>\n",
       "      <th>공유수</th>\n",
       "      <th>댓글수</th>\n",
       "      <th>링크</th>\n",
       "    </tr>\n",
       "  </thead>\n",
       "  <tbody>\n",
       "    <tr>\n",
       "      <th>0</th>\n",
       "      <td>2022-03-28</td>\n",
       "      <td>Gyeonggi's Public Delivery App for Small Busin...</td>\n",
       "      <td>0</td>\n",
       "      <td>0</td>\n",
       "      <td>0</td>\n",
       "      <td>0</td>\n",
       "      <td>https://www.gyeonggido-korea.com/2022/03/gyeon...</td>\n",
       "    </tr>\n",
       "    <tr>\n",
       "      <th>1</th>\n",
       "      <td>2022-03-25</td>\n",
       "      <td>Gyeonggi Launches Digital Transformation (DX) ...</td>\n",
       "      <td>0</td>\n",
       "      <td>0</td>\n",
       "      <td>0</td>\n",
       "      <td>0</td>\n",
       "      <td>https://www.gyeonggido-korea.com/2022/03/gyeon...</td>\n",
       "    </tr>\n",
       "    <tr>\n",
       "      <th>2</th>\n",
       "      <td>2022-03-23</td>\n",
       "      <td>Gyeonggi Builds and Operates Korea’s First Fir...</td>\n",
       "      <td>0</td>\n",
       "      <td>0</td>\n",
       "      <td>0</td>\n",
       "      <td>0</td>\n",
       "      <td>https://www.gyeonggido-korea.com/2022/03/gyeon...</td>\n",
       "    </tr>\n",
       "    <tr>\n",
       "      <th>3</th>\n",
       "      <td>2022-03-21</td>\n",
       "      <td>A Hot Place in Gyeonggi-do, Flower Mart, Launc...</td>\n",
       "      <td>0</td>\n",
       "      <td>0</td>\n",
       "      <td>0</td>\n",
       "      <td>0</td>\n",
       "      <td>https://www.gyeonggido-korea.com/2022/03/a-hot...</td>\n",
       "    </tr>\n",
       "    <tr>\n",
       "      <th>4</th>\n",
       "      <td>2022-03-19</td>\n",
       "      <td>Gyeonggi Provides QR Codes and Foreign Languag...</td>\n",
       "      <td>0</td>\n",
       "      <td>0</td>\n",
       "      <td>0</td>\n",
       "      <td>0</td>\n",
       "      <td>https://www.gyeonggido-korea.com/2022/03/gyeon...</td>\n",
       "    </tr>\n",
       "    <tr>\n",
       "      <th>...</th>\n",
       "      <td>...</td>\n",
       "      <td>...</td>\n",
       "      <td>...</td>\n",
       "      <td>...</td>\n",
       "      <td>...</td>\n",
       "      <td>...</td>\n",
       "      <td>...</td>\n",
       "    </tr>\n",
       "    <tr>\n",
       "      <th>163</th>\n",
       "      <td>2020-09-25</td>\n",
       "      <td>Summary of DMZ Forum2020: A powerful message s...</td>\n",
       "      <td>0</td>\n",
       "      <td>0</td>\n",
       "      <td>0</td>\n",
       "      <td>0</td>\n",
       "      <td>https://www.gyeonggido-korea.com/2020/09/summa...</td>\n",
       "    </tr>\n",
       "    <tr>\n",
       "      <th>164</th>\n",
       "      <td>2020-09-15</td>\n",
       "      <td>Korea’s Symbol of Peace: DMZ – 2020 DMZ Forum</td>\n",
       "      <td>0</td>\n",
       "      <td>0</td>\n",
       "      <td>0</td>\n",
       "      <td>0</td>\n",
       "      <td>https://www.gyeonggido-korea.com/2020/09/Korea...</td>\n",
       "    </tr>\n",
       "    <tr>\n",
       "      <th>165</th>\n",
       "      <td>2020-08-20</td>\n",
       "      <td>The New Normal for Migrants in Gyeonggi-do | P...</td>\n",
       "      <td>0</td>\n",
       "      <td>0</td>\n",
       "      <td>0</td>\n",
       "      <td>0</td>\n",
       "      <td>https://www.gyeonggido-korea.com/2020/08/the-n...</td>\n",
       "    </tr>\n",
       "    <tr>\n",
       "      <th>166</th>\n",
       "      <td>2020-06-08</td>\n",
       "      <td>Gyeonggi Province in the Foreign Press (during...</td>\n",
       "      <td>0</td>\n",
       "      <td>0</td>\n",
       "      <td>0</td>\n",
       "      <td>0</td>\n",
       "      <td>https://www.gyeonggido-korea.com/2020/06/gyeon...</td>\n",
       "    </tr>\n",
       "    <tr>\n",
       "      <th>167</th>\n",
       "      <td>2020-05-18</td>\n",
       "      <td>Exemption from screening inspection fee and no...</td>\n",
       "      <td>0</td>\n",
       "      <td>0</td>\n",
       "      <td>0</td>\n",
       "      <td>0</td>\n",
       "      <td>https://www.gyeonggido-korea.com/2020/05/exemp...</td>\n",
       "    </tr>\n",
       "  </tbody>\n",
       "</table>\n",
       "<p>168 rows × 7 columns</p>\n",
       "</div>"
      ],
      "text/plain": [
       "             날짜                                                 제목  조회수  \\\n",
       "0    2022-03-28  Gyeonggi's Public Delivery App for Small Busin...    0   \n",
       "1    2022-03-25  Gyeonggi Launches Digital Transformation (DX) ...    0   \n",
       "2    2022-03-23  Gyeonggi Builds and Operates Korea’s First Fir...    0   \n",
       "3    2022-03-21  A Hot Place in Gyeonggi-do, Flower Mart, Launc...    0   \n",
       "4    2022-03-19  Gyeonggi Provides QR Codes and Foreign Languag...    0   \n",
       "..          ...                                                ...  ...   \n",
       "163  2020-09-25  Summary of DMZ Forum2020: A powerful message s...    0   \n",
       "164  2020-09-15      Korea’s Symbol of Peace: DMZ – 2020 DMZ Forum    0   \n",
       "165  2020-08-20  The New Normal for Migrants in Gyeonggi-do | P...    0   \n",
       "166  2020-06-08  Gyeonggi Province in the Foreign Press (during...    0   \n",
       "167  2020-05-18  Exemption from screening inspection fee and no...    0   \n",
       "\n",
       "     좋아요_수  공유수  댓글수                                                 링크  \n",
       "0        0    0    0  https://www.gyeonggido-korea.com/2022/03/gyeon...  \n",
       "1        0    0    0  https://www.gyeonggido-korea.com/2022/03/gyeon...  \n",
       "2        0    0    0  https://www.gyeonggido-korea.com/2022/03/gyeon...  \n",
       "3        0    0    0  https://www.gyeonggido-korea.com/2022/03/a-hot...  \n",
       "4        0    0    0  https://www.gyeonggido-korea.com/2022/03/gyeon...  \n",
       "..     ...  ...  ...                                                ...  \n",
       "163      0    0    0  https://www.gyeonggido-korea.com/2020/09/summa...  \n",
       "164      0    0    0  https://www.gyeonggido-korea.com/2020/09/Korea...  \n",
       "165      0    0    0  https://www.gyeonggido-korea.com/2020/08/the-n...  \n",
       "166      0    0    0  https://www.gyeonggido-korea.com/2020/06/gyeon...  \n",
       "167      0    0    0  https://www.gyeonggido-korea.com/2020/05/exemp...  \n",
       "\n",
       "[168 rows x 7 columns]"
      ]
     },
     "execution_count": 59,
     "metadata": {},
     "output_type": "execute_result"
    }
   ],
   "source": [
    "# 데이터 프레임 생성\n",
    "df = {'날짜':date_list, '제목':title_list, '조회수':number_view_list, '좋아요_수':number_like_list, '공유수':number_share_list, '댓글수':number_comment_list, '링크':post_link_list}\n",
    "data = pd.DataFrame(df)\n",
    "data"
   ]
  },
  {
   "cell_type": "markdown",
   "metadata": {},
   "source": [
    "## 엑셀 파일로 출력"
   ]
  },
  {
   "cell_type": "code",
   "execution_count": 63,
   "metadata": {},
   "outputs": [
    {
     "name": "stdout",
     "output_type": "stream",
     "text": [
      "blog_20220329-170823.xlsx 파일 생성 완료\n"
     ]
    }
   ],
   "source": [
    "# 파일로 출력\n",
    "file_name = str(datetime.today().strftime(\"%Y%m%d-%H%M%S\"))\n",
    "file_name = 'naver_blog_' + file_name + '.xlsx'\n",
    "path = './crawling_data/naver_blog/'\n",
    "data.to_excel(path+file_name, index=False, encoding='utf-8')\n",
    "\n",
    "print(f\"{file_name} 파일 생성 완료\")"
   ]
  },
  {
   "cell_type": "markdown",
   "metadata": {},
   "source": [
    "# 코드 마지막"
   ]
  }
 ],
 "metadata": {
  "interpreter": {
   "hash": "513dc2e41d739bb2c947903f3c0bbf636d03aa53ab50e61c694a27481c81805e"
  },
  "kernelspec": {
   "display_name": "Python 3.8.8 ('base')",
   "language": "python",
   "name": "python3"
  },
  "language_info": {
   "codemirror_mode": {
    "name": "ipython",
    "version": 3
   },
   "file_extension": ".py",
   "mimetype": "text/x-python",
   "name": "python",
   "nbconvert_exporter": "python",
   "pygments_lexer": "ipython3",
   "version": "3.8.8"
  },
  "orig_nbformat": 4
 },
 "nbformat": 4,
 "nbformat_minor": 2
}
