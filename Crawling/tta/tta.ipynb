{
 "cells": [
  {
   "cell_type": "markdown",
   "metadata": {},
   "source": [
    "# TTA 검수 작업"
   ]
  },
  {
   "cell_type": "code",
   "execution_count": 1,
   "metadata": {},
   "outputs": [],
   "source": [
    "import re"
   ]
  },
  {
   "cell_type": "markdown",
   "metadata": {},
   "source": [
    "## 잘못 전사된 텍스트 음절 수 계산"
   ]
  },
  {
   "cell_type": "code",
   "execution_count": 2,
   "metadata": {},
   "outputs": [],
   "source": [
    "def count_words1(text):\n",
    "    temp1 = text.split(':')\n",
    "    temp2 = temp1[1:]\n",
    "    big_list = []\n",
    "    for one in temp2:\n",
    "        temp = one.split(',')\n",
    "        small_list = []\n",
    "        for two in temp:\n",
    "            if '발화' in two or '텍스트' in two:\n",
    "                small_list.append(two)\n",
    "        big_list.append(small_list)\n",
    "\n",
    "    # 발화, 텍스트 둘다 있는 지 여부로 구분해서 다른 음절 수 계산 하기\n",
    "    num = 0\n",
    "    for word_li in big_list:\n",
    "        # 누락된 음절이 있는 경우\n",
    "        if len(word_li) == 1:\n",
    "            idx = []\n",
    "            for i, s in enumerate(word_li[0]):\n",
    "                if s == \"'\":\n",
    "                    idx.append(i)\n",
    "            first_index = idx[0] + 1\n",
    "            second_index = idx[1]\n",
    "            missing_word = word_li[0][first_index:second_index]\n",
    "            num += len(missing_word)\n",
    "        elif len(word_li) == 2:\n",
    "            # 발화 단어와 텍스트 단어 추출하기\n",
    "            for one in word_li:\n",
    "                if '발화' in one:\n",
    "                    idx = []\n",
    "                    for i, s in enumerate(one):\n",
    "                        if s == \"'\":\n",
    "                            idx.append(i)\n",
    "                    first_index = idx[0] + 1\n",
    "                    second_index = idx[1]\n",
    "                    speak_word = one[first_index:second_index]\n",
    "                elif '텍스트' in one:\n",
    "                    idx = []\n",
    "                    for i, s in enumerate(one):\n",
    "                        if s == \"'\":\n",
    "                            idx.append(i)\n",
    "                    first_index = idx[0] + 1\n",
    "                    second_index = idx[1]\n",
    "                    text_word = one[first_index:second_index]\n",
    "\n",
    "            # 발화, 텍스트 단어 비교\n",
    "\n",
    "            # 단어 길이 다름\n",
    "            if len(speak_word) != len(text_word):\n",
    "                if len(speak_word) > len(text_word):\n",
    "                    one = speak_word\n",
    "                    two = text_word\n",
    "                elif len(speak_word) < len(text_word):\n",
    "                    one = text_word\n",
    "                    two = speak_word\n",
    "                for i in one:\n",
    "                    if i not in two:\n",
    "                        num += 1\n",
    "            # 단어 길이 동일\n",
    "            elif len(speak_word) == len(text_word):\n",
    "                for i, one in enumerate(speak_word):\n",
    "                    if (one in text_word) and (text_word.find(one) != i):\n",
    "                        num += 1\n",
    "                    elif one not in text_word:\n",
    "                        num += 1\n",
    "    print(\"총 단어수 : \", num)"
   ]
  },
  {
   "cell_type": "markdown",
   "metadata": {},
   "source": [
    "## 잘못 전사된 외래어 음절수 새는 함수"
   ]
  },
  {
   "cell_type": "code",
   "execution_count": 3,
   "metadata": {},
   "outputs": [],
   "source": [
    "# '누락'을 제외한 문장에 들어있는 한글 단어 수 출력\n",
    "def count_words2(text):\n",
    "    han_list = re.findall('[ㄱ-힣]+', text)\n",
    "    final = ''\n",
    "    for one in han_list:\n",
    "        if '누락' not in one:\n",
    "            final += one\n",
    "\n",
    "    print(\"한글만 가져온 리스트 중 5단어 : \", han_list[:5])\n",
    "    print(\"한글 단어만 가져온 텍스트 중 일부 : \", final[:10])\n",
    "    print(\"------------\")\n",
    "    print(\"총 단어수 : \", len(final) )"
   ]
  },
  {
   "cell_type": "markdown",
   "metadata": {},
   "source": [
    "## 파일명"
   ]
  },
  {
   "cell_type": "code",
   "execution_count": 1,
   "metadata": {},
   "outputs": [],
   "source": [
    "# .wav"
   ]
  },
  {
   "cell_type": "markdown",
   "metadata": {},
   "source": [
    "## 자연스러운 발화\n",
    "* 음성이 자연스럽게 발화되었나요?(대본을 읽는 것과 같이 부자연스럽다면 반려)"
   ]
  },
  {
   "cell_type": "code",
   "execution_count": null,
   "metadata": {},
   "outputs": [],
   "source": [
    "# "
   ]
  },
  {
   "cell_type": "markdown",
   "metadata": {},
   "source": [
    "## 음성 잘림\n",
    "* 음성이 잘린 구간이 있나요?"
   ]
  },
  {
   "cell_type": "code",
   "execution_count": null,
   "metadata": {},
   "outputs": [],
   "source": [
    "# "
   ]
  },
  {
   "cell_type": "markdown",
   "metadata": {},
   "source": [
    "## 휴지구간\n",
    "* 음성구간 앞, 뒤로 휴지(Pause) 구간이 200ms~500ms 사이인가요?"
   ]
  },
  {
   "cell_type": "code",
   "execution_count": null,
   "metadata": {},
   "outputs": [],
   "source": [
    "# "
   ]
  },
  {
   "cell_type": "markdown",
   "metadata": {},
   "source": [
    "## Clipping\n",
    "* Clipping이 발생하지 않는 적절한 음성 크기인가요?"
   ]
  },
  {
   "cell_type": "code",
   "execution_count": null,
   "metadata": {},
   "outputs": [],
   "source": [
    "# "
   ]
  },
  {
   "cell_type": "markdown",
   "metadata": {},
   "source": [
    "## 전사텍스트\n",
    "* 발화 음성의 문장 전체가 정확하게 전사되었나요?\n",
    "* 잘못 전사된 음절의 수를 입력하고, 오류가 발생한 음절 위치와 내용을 오류사항에 작성해주세요"
   ]
  },
  {
   "cell_type": "code",
   "execution_count": 4,
   "metadata": {},
   "outputs": [],
   "source": [
    "text1 = \"\""
   ]
  },
  {
   "cell_type": "code",
   "execution_count": 5,
   "metadata": {},
   "outputs": [
    {
     "name": "stdout",
     "output_type": "stream",
     "text": [
      "총 단어수 :  5\n"
     ]
    }
   ],
   "source": [
    "count_words1(text1)"
   ]
  },
  {
   "cell_type": "markdown",
   "metadata": {},
   "source": [
    "## 숫자/기호\n",
    "* 숫자, 기호 등을 표준 표기로 명시하였나요?"
   ]
  },
  {
   "cell_type": "code",
   "execution_count": null,
   "metadata": {},
   "outputs": [],
   "source": [
    "# "
   ]
  },
  {
   "cell_type": "markdown",
   "metadata": {},
   "source": [
    "## 혼합발화\n",
    "* 혼합발화 부분은 한글로 작성되었나요?"
   ]
  },
  {
   "cell_type": "code",
   "execution_count": null,
   "metadata": {},
   "outputs": [],
   "source": [
    "# "
   ]
  },
  {
   "cell_type": "markdown",
   "metadata": {},
   "source": [
    "## 발화시간\n",
    "* 발화의 시작시간과 끝시간이 정확하게 라벨링 되었나요?"
   ]
  },
  {
   "cell_type": "code",
   "execution_count": null,
   "metadata": {},
   "outputs": [],
   "source": [
    "# "
   ]
  },
  {
   "cell_type": "markdown",
   "metadata": {},
   "source": [
    "## 주제\n",
    "* 발화 주제와 실제 음성 내용이 적절한가요?"
   ]
  },
  {
   "cell_type": "code",
   "execution_count": null,
   "metadata": {},
   "outputs": [],
   "source": [
    "# "
   ]
  },
  {
   "cell_type": "markdown",
   "metadata": {},
   "source": [
    "## 외래어\n",
    "* 한영 혼합 문장 부분에서 발화 전사(form), 철자 전사(baseform), 영문 전사(orginalForm)이 적절하게 되었나요?\n",
    "* 잘못 전사된 외래어 단어 수를 입력하고, 오류가 발생하 단어의 위치와 내용을 오류사항에 작성해주세요"
   ]
  },
  {
   "cell_type": "code",
   "execution_count": 6,
   "metadata": {},
   "outputs": [],
   "source": [
    "# 문장 입력. ''안에 입력\n",
    "text2 = ''"
   ]
  },
  {
   "cell_type": "code",
   "execution_count": 7,
   "metadata": {},
   "outputs": [
    {
     "name": "stdout",
     "output_type": "stream",
     "text": [
      "한글만 가져온 리스트 중 5단어 :  ['바오밥', '누락', '펫', '펫코노미', '누락']\n",
      "한글 단어만 가져온 최종 텍스트 :  바오밥펫펫코노미이코노미펫펫코노미카드펫캣타워피싱페르시안비글말티즈루비에스루비미니블루베리라떼제이엠티카페고고컴케어케어카페화이트스마트스타일시니컬액티브캣타워턱시도리액션칼로리턱시도캣휠믹스견센터치와와믹스믹스\n",
      "------------\n",
      "총 단어수 :  107\n"
     ]
    }
   ],
   "source": [
    "count_words2(text2)"
   ]
  },
  {
   "cell_type": "markdown",
   "metadata": {},
   "source": [
    "## 시간 밀림"
   ]
  },
  {
   "cell_type": "code",
   "execution_count": null,
   "metadata": {},
   "outputs": [],
   "source": [
    "# "
   ]
  },
  {
   "cell_type": "markdown",
   "metadata": {},
   "source": [
    "## 주제\n",
    "* 개체명 분류 태깅이 정확하게 되었나요?\n",
    "\n",
    "* PS(PERSON, 사람),LC(LOCATION, 장소),OG(ORGANIZATION, 조직),\n",
    "* AF(ARTIFACT, 공예품),DT(DATE, 날짜),TI(TIME, 시간),CV(CIVILIZATION, 문명),\n",
    "* AM(ANIMAL, 동물),PT(PLANT, 식물),QT(QUANTITY, 양),FD(STUDY_FIELD, 연구),\n",
    "* TR(THEORY, 이론),EV(EVENT, 사건),MT(MATERIAL, 물질,재료),TM(TERM, 용어)\n",
    "* EX(EXPRESSION, 표현)"
   ]
  },
  {
   "cell_type": "code",
   "execution_count": 1,
   "metadata": {},
   "outputs": [],
   "source": [
    "# "
   ]
  },
  {
   "cell_type": "markdown",
   "metadata": {},
   "source": [
    "# 코드 마지막"
   ]
  }
 ],
 "metadata": {
  "interpreter": {
   "hash": "513dc2e41d739bb2c947903f3c0bbf636d03aa53ab50e61c694a27481c81805e"
  },
  "kernelspec": {
   "display_name": "Python 3.8.8 ('base')",
   "language": "python",
   "name": "python3"
  },
  "language_info": {
   "codemirror_mode": {
    "name": "ipython",
    "version": 3
   },
   "file_extension": ".py",
   "mimetype": "text/x-python",
   "name": "python",
   "nbconvert_exporter": "python",
   "pygments_lexer": "ipython3",
   "version": "3.8.8"
  },
  "orig_nbformat": 4
 },
 "nbformat": 4,
 "nbformat_minor": 2
}
