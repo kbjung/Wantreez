{
 "cells": [
  {
   "cell_type": "code",
   "execution_count": 19,
   "metadata": {},
   "outputs": [],
   "source": [
    "from bs4 import BeautifulSoup as bs\n",
    "import time\n",
    "from selenium import webdriver\n",
    "from selenium.webdriver.common.keys import Keys\n",
    "import getpass"
   ]
  },
  {
   "cell_type": "code",
   "execution_count": 18,
   "metadata": {},
   "outputs": [],
   "source": [
    "from urllib.request import urlopen, Request"
   ]
  },
  {
   "cell_type": "code",
   "execution_count": 2,
   "metadata": {},
   "outputs": [],
   "source": [
    "url = 'https://www.instagram.com/gyeonggi_korea/'"
   ]
  },
  {
   "cell_type": "code",
   "execution_count": 3,
   "metadata": {},
   "outputs": [
    {
     "data": {
      "text/plain": [
       "<title>gyeonggi_korea(경기도)(@gyeonggi_korea) • Instagram 사진 및 동영상</title>"
      ]
     },
     "execution_count": 3,
     "metadata": {},
     "output_type": "execute_result"
    }
   ],
   "source": [
    "# webdriver 로드\n",
    "driver = webdriver.Chrome('chromedriver')\n",
    "driver.get(url)\n",
    "\n",
    "# 페이지 크롤링\n",
    "soup = bs(driver.page_source, 'lxml')\n",
    "soup.title"
   ]
  },
  {
   "cell_type": "code",
   "execution_count": 4,
   "metadata": {},
   "outputs": [
    {
     "data": {
      "text/plain": [
       "[<li class=\"Y8-fY\"><a href=\"/accounts/login/?next=%2Fgyeonggi_korea%2F&amp;source=profile_posts\" tabindex=\"0\"><div class=\"_7UhW9 vy6Bb MMzan KV-D4 uL8Hv T0kll\">게시물 <span class=\"g47SY\">774</span></div></a></li>,\n",
       " <li class=\"Y8-fY\"><a href=\"/accounts/login/?next=%2Fgyeonggi_korea%2Ffollowers%2F&amp;source=followed_by_list\" tabindex=\"0\"><div class=\"_7UhW9 vy6Bb MMzan KV-D4 uL8Hv T0kll\">팔로워 <span class=\"g47SY\" title=\"9,771\">9,771</span></div></a></li>,\n",
       " <li class=\"Y8-fY\"><a href=\"/accounts/login/?next=%2Fgyeonggi_korea%2Ffollowing%2F&amp;source=follows_list\" tabindex=\"0\"><div class=\"_7UhW9 vy6Bb MMzan KV-D4 uL8Hv T0kll\">팔로우 <span class=\"g47SY\">3,329</span></div></a></li>]"
      ]
     },
     "execution_count": 4,
     "metadata": {},
     "output_type": "execute_result"
    }
   ],
   "source": [
    "# 글 내용 크롤링\n",
    "page = soup.find_all('li', class_='Y8-fY')\n",
    "page"
   ]
  },
  {
   "cell_type": "code",
   "execution_count": 5,
   "metadata": {},
   "outputs": [
    {
     "data": {
      "text/plain": [
       "'팔로워 9,771'"
      ]
     },
     "execution_count": 5,
     "metadata": {},
     "output_type": "execute_result"
    }
   ],
   "source": [
    "page[1].text"
   ]
  },
  {
   "cell_type": "code",
   "execution_count": 6,
   "metadata": {},
   "outputs": [],
   "source": [
    "txt = page[1].text[4:]"
   ]
  },
  {
   "cell_type": "code",
   "execution_count": 7,
   "metadata": {},
   "outputs": [
    {
     "data": {
      "text/plain": [
       "'9,771'"
      ]
     },
     "execution_count": 7,
     "metadata": {},
     "output_type": "execute_result"
    }
   ],
   "source": [
    "txt"
   ]
  },
  {
   "cell_type": "code",
   "execution_count": 8,
   "metadata": {},
   "outputs": [
    {
     "data": {
      "text/plain": [
       "'9771'"
      ]
     },
     "execution_count": 8,
     "metadata": {},
     "output_type": "execute_result"
    }
   ],
   "source": [
    "txt = txt.replace(',', '')\n",
    "txt"
   ]
  },
  {
   "cell_type": "code",
   "execution_count": 9,
   "metadata": {},
   "outputs": [],
   "source": [
    "txt = int(txt)"
   ]
  },
  {
   "cell_type": "code",
   "execution_count": 10,
   "metadata": {},
   "outputs": [
    {
     "data": {
      "text/plain": [
       "9771"
      ]
     },
     "execution_count": 10,
     "metadata": {},
     "output_type": "execute_result"
    }
   ],
   "source": [
    "# 팔로우 수 출력\n",
    "txt"
   ]
  },
  {
   "cell_type": "code",
   "execution_count": 12,
   "metadata": {},
   "outputs": [],
   "source": [
    "post_link = []\n",
    "for postline in soup.find_all(name='div', attrs={\"class\":\"Nnq7C weEfm\"}):\n",
    "        a_len = len(postline.select('a'))\n",
    "        # 인스타그램 게시물은 행별로 최대 3개까지 확인할 수 있는데, 최근게시물이나 마지막 게시물은 1,2개가 나올 수도 있어서 len 지정\n",
    "        for post in range(a_len):   \n",
    "            item = postline.select('a')[post]\n",
    "            link = item.attrs['href']\n",
    "            post_link.append(link)"
   ]
  },
  {
   "cell_type": "code",
   "execution_count": 13,
   "metadata": {},
   "outputs": [
    {
     "data": {
      "text/plain": [
       "['/p/CamCGL3LSHX/',\n",
       " '/p/Cag862TrWuX/',\n",
       " '/p/CaWWan2BoZc/',\n",
       " '/p/CaRgX_svAjY/',\n",
       " '/p/CaG5pIbv7MV/',\n",
       " '/p/CZ9rGIHP423/',\n",
       " '/p/CZx-sLRPoq_/',\n",
       " '/p/CZs1BDAqmYF/',\n",
       " '/p/CZmf9rhPnGY/',\n",
       " '/p/CZjB2LzP7mn/',\n",
       " '/p/CZMv78CvpIk/',\n",
       " '/p/CZL99vIDzxe/']"
      ]
     },
     "execution_count": 13,
     "metadata": {},
     "output_type": "execute_result"
    }
   ],
   "source": [
    "post_link"
   ]
  },
  {
   "cell_type": "code",
   "execution_count": 15,
   "metadata": {},
   "outputs": [],
   "source": [
    "link_list = []\n",
    "num_of_post = len(post_link)\n",
    "for i in (range(num_of_post)):\n",
    "    link_list.append(\"https://www.instagram.com\" + post_link[i])"
   ]
  },
  {
   "cell_type": "code",
   "execution_count": 16,
   "metadata": {},
   "outputs": [
    {
     "data": {
      "text/plain": [
       "['https://www.instagram.com/p/CamCGL3LSHX/',\n",
       " 'https://www.instagram.com/p/Cag862TrWuX/',\n",
       " 'https://www.instagram.com/p/CaWWan2BoZc/',\n",
       " 'https://www.instagram.com/p/CaRgX_svAjY/',\n",
       " 'https://www.instagram.com/p/CaG5pIbv7MV/',\n",
       " 'https://www.instagram.com/p/CZ9rGIHP423/',\n",
       " 'https://www.instagram.com/p/CZx-sLRPoq_/',\n",
       " 'https://www.instagram.com/p/CZs1BDAqmYF/',\n",
       " 'https://www.instagram.com/p/CZmf9rhPnGY/',\n",
       " 'https://www.instagram.com/p/CZjB2LzP7mn/',\n",
       " 'https://www.instagram.com/p/CZMv78CvpIk/',\n",
       " 'https://www.instagram.com/p/CZL99vIDzxe/']"
      ]
     },
     "execution_count": 16,
     "metadata": {},
     "output_type": "execute_result"
    }
   ],
   "source": [
    "link_list"
   ]
  },
  {
   "cell_type": "code",
   "execution_count": 17,
   "metadata": {},
   "outputs": [
    {
     "name": "stdout",
     "output_type": "stream",
     "text": [
      "<title>Instagram의 gyeonggi_korea(경기도)님: “A complete guide to unique cafés in Yongin City of Gyeonggi Province\n",
      "\n",
      "📢Real Garden K\n",
      "Feel like having a ‘forest and phytoncide’ day?…”</title>\n",
      "<title>로그인 • Instagram</title>\n",
      "<title>로그인 • Instagram</title>\n"
     ]
    }
   ],
   "source": [
    "for i in range(3):\n",
    "    url = link_list[i]\n",
    "    # webdriver 로드\n",
    "    driver.get(url)\n",
    "\n",
    "    # 페이지 크롤링\n",
    "    soup = bs(driver.page_source, 'lxml')\n",
    "    print(soup.title)"
   ]
  },
  {
   "cell_type": "code",
   "execution_count": 20,
   "metadata": {},
   "outputs": [],
   "source": [
    "driver = webdriver.Chrome('chromedriver')\n",
    "driver.get(\"https://www.instagram.com/accounts/login/\")"
   ]
  },
  {
   "cell_type": "code",
   "execution_count": 21,
   "metadata": {},
   "outputs": [
    {
     "name": "stderr",
     "output_type": "stream",
     "text": [
      "<ipython-input-21-78782ca0cc97>:5: DeprecationWarning: find_element_by_name is deprecated. Please use find_element(by=By.NAME, value=name) instead\n",
      "  element_id = driver.find_element_by_name(\"username\")\n",
      "<ipython-input-21-78782ca0cc97>:7: DeprecationWarning: find_element_by_name is deprecated. Please use find_element(by=By.NAME, value=name) instead\n",
      "  element_password = driver.find_element_by_name(\"password\")\n"
     ]
    },
    {
     "ename": "NameError",
     "evalue": "name 'sleep' is not defined",
     "output_type": "error",
     "traceback": [
      "\u001b[1;31m---------------------------------------------------------------------------\u001b[0m",
      "\u001b[1;31mNameError\u001b[0m                                 Traceback (most recent call last)",
      "\u001b[1;32m<ipython-input-21-78782ca0cc97>\u001b[0m in \u001b[0;36m<module>\u001b[1;34m\u001b[0m\n\u001b[0;32m      8\u001b[0m \u001b[0melement_password\u001b[0m\u001b[1;33m.\u001b[0m\u001b[0msend_keys\u001b[0m\u001b[1;33m(\u001b[0m\u001b[0mpassword\u001b[0m\u001b[1;33m)\u001b[0m\u001b[1;33m\u001b[0m\u001b[1;33m\u001b[0m\u001b[0m\n\u001b[0;32m      9\u001b[0m \u001b[1;33m\u001b[0m\u001b[0m\n\u001b[1;32m---> 10\u001b[1;33m \u001b[0msleep\u001b[0m\u001b[1;33m(\u001b[0m\u001b[1;36m1.5\u001b[0m\u001b[1;33m)\u001b[0m\u001b[1;33m\u001b[0m\u001b[1;33m\u001b[0m\u001b[0m\n\u001b[0m",
      "\u001b[1;31mNameError\u001b[0m: name 'sleep' is not defined"
     ]
    }
   ],
   "source": [
    "username = getpass.getpass(\"Input ID : \") # User ID\n",
    "password = getpass.getpass(\"Input PWD : \") # User PWD, 특히 getpass를 통해서 비밀번호 정보를 숨김. \n",
    "hashTag = input(\"Input HashTag # : \")# Search #\n",
    " \n",
    "element_id = driver.find_element_by_name(\"username\")\n",
    "element_id.send_keys(username)\n",
    "element_password = driver.find_element_by_name(\"password\")\n",
    "element_password.send_keys(password)\n",
    " \n",
    "time.sleep(1.5)"
   ]
  },
  {
   "cell_type": "code",
   "execution_count": 22,
   "metadata": {},
   "outputs": [
    {
     "name": "stderr",
     "output_type": "stream",
     "text": [
      "<ipython-input-22-31e51f34e6fc>:2: DeprecationWarning: find_element_by_css_selector is deprecated. Please use find_element(by=By.CSS_SELECTOR, value=css_selector) instead\n",
      "  driver.find_element_by_css_selector('.sqdOP.L3NKy.y3zKF').click()\n"
     ]
    }
   ],
   "source": [
    "##로그인버튼 클릭\n",
    "driver.find_element_by_css_selector('.sqdOP.L3NKy.y3zKF').click()"
   ]
  },
  {
   "cell_type": "code",
   "execution_count": 23,
   "metadata": {},
   "outputs": [
    {
     "data": {
      "text/plain": [
       "<title>gyeonggi_korea(경기도)(@gyeonggi_korea) • Instagram 사진 및 동영상</title>"
      ]
     },
     "execution_count": 23,
     "metadata": {},
     "output_type": "execute_result"
    }
   ],
   "source": [
    "url = 'https://www.instagram.com/gyeonggi_korea/'\n",
    "# webdriver 로드\n",
    "driver.get(url)\n",
    "\n",
    "# 페이지 크롤링\n",
    "soup = bs(driver.page_source, 'lxml')\n",
    "soup.title"
   ]
  },
  {
   "cell_type": "code",
   "execution_count": 24,
   "metadata": {},
   "outputs": [
    {
     "data": {
      "text/plain": [
       "['/p/CamCGL3LSHX/',\n",
       " '/p/Cag862TrWuX/',\n",
       " '/p/CaWWan2BoZc/',\n",
       " '/p/CaRgX_svAjY/',\n",
       " '/p/CaG5pIbv7MV/',\n",
       " '/p/CZ9rGIHP423/',\n",
       " '/p/CZx-sLRPoq_/',\n",
       " '/p/CZs1BDAqmYF/',\n",
       " '/p/CZmf9rhPnGY/',\n",
       " '/p/CZjB2LzP7mn/',\n",
       " '/p/CZMv78CvpIk/',\n",
       " '/p/CZL99vIDzxe/']"
      ]
     },
     "execution_count": 24,
     "metadata": {},
     "output_type": "execute_result"
    }
   ],
   "source": [
    "post_link = []\n",
    "for postline in soup.find_all(name='div', attrs={\"class\":\"Nnq7C weEfm\"}):\n",
    "        a_len = len(postline.select('a'))\n",
    "        # 인스타그램 게시물은 행별로 최대 3개까지 확인할 수 있는데, 최근게시물이나 마지막 게시물은 1,2개가 나올 수도 있어서 len 지정\n",
    "        for post in range(a_len):   \n",
    "            item = postline.select('a')[post]\n",
    "            link = item.attrs['href']\n",
    "            post_link.append(link)\n",
    "post_link"
   ]
  },
  {
   "cell_type": "code",
   "execution_count": 26,
   "metadata": {},
   "outputs": [
    {
     "data": {
      "text/plain": [
       "['https://www.instagram.com/p/CamCGL3LSHX/',\n",
       " 'https://www.instagram.com/p/Cag862TrWuX/',\n",
       " 'https://www.instagram.com/p/CaWWan2BoZc/',\n",
       " 'https://www.instagram.com/p/CaRgX_svAjY/',\n",
       " 'https://www.instagram.com/p/CaG5pIbv7MV/',\n",
       " 'https://www.instagram.com/p/CZ9rGIHP423/',\n",
       " 'https://www.instagram.com/p/CZx-sLRPoq_/',\n",
       " 'https://www.instagram.com/p/CZs1BDAqmYF/',\n",
       " 'https://www.instagram.com/p/CZmf9rhPnGY/',\n",
       " 'https://www.instagram.com/p/CZjB2LzP7mn/',\n",
       " 'https://www.instagram.com/p/CZMv78CvpIk/',\n",
       " 'https://www.instagram.com/p/CZL99vIDzxe/']"
      ]
     },
     "execution_count": 26,
     "metadata": {},
     "output_type": "execute_result"
    }
   ],
   "source": [
    "link_list = []\n",
    "num_of_post = len(post_link)\n",
    "for i in (range(num_of_post)):\n",
    "    link_list.append(\"https://www.instagram.com\" + post_link[i])\n",
    "link_list"
   ]
  },
  {
   "cell_type": "code",
   "execution_count": 29,
   "metadata": {},
   "outputs": [
    {
     "name": "stdout",
     "output_type": "stream",
     "text": [
      "Instagram의 gyeonggi_korea(경기도)님: “A complete guide to unique cafés in Yongin City of Gyeonggi Province\n",
      "\n",
      "📢Real Garden K\n",
      "Feel like having a ‘forest and phytoncide’ day?…”\n"
     ]
    }
   ],
   "source": [
    "for i in range(1):\n",
    "    url = link_list[i]\n",
    "    driver.get(url)\n",
    "    soup = bs(driver.page_source, 'lxml')\n",
    "    print(soup.title.text)\n",
    "    time.sleep(0.5)"
   ]
  },
  {
   "cell_type": "code",
   "execution_count": 37,
   "metadata": {},
   "outputs": [
    {
     "data": {
      "text/plain": [
       "'좋아요 24개'"
      ]
     },
     "execution_count": 37,
     "metadata": {},
     "output_type": "execute_result"
    }
   ],
   "source": [
    "a_page = bs(driver.page_source, 'lxml')\n",
    "like_data = a_page.find('div', class_='_7UhW9 xLCgt qyrsm KV-D4 fDxYl T0kll')\n",
    "like_data.text"
   ]
  },
  {
   "cell_type": "code",
   "execution_count": 40,
   "metadata": {},
   "outputs": [
    {
     "data": {
      "text/plain": [
       "bs4.element.Tag"
      ]
     },
     "execution_count": 40,
     "metadata": {},
     "output_type": "execute_result"
    }
   ],
   "source": [
    "type(like_data)"
   ]
  },
  {
   "cell_type": "code",
   "execution_count": 44,
   "metadata": {},
   "outputs": [
    {
     "data": {
      "text/plain": [
       "24"
      ]
     },
     "execution_count": 44,
     "metadata": {},
     "output_type": "execute_result"
    }
   ],
   "source": [
    "num_of_like = int(like_data.text[4:-1])\n",
    "num_of_like"
   ]
  },
  {
   "cell_type": "code",
   "execution_count": 46,
   "metadata": {},
   "outputs": [
    {
     "name": "stdout",
     "output_type": "stream",
     "text": [
      "Instagram의 gyeonggi_korea(경기도)님: “Mystical constellations and planets🌎,\n",
      "Don’t you want to see them all?\n",
      "Let’s visit the Anseong Astronomical Science Museum! 🌃\n",
      "\n",
      "Observe the…”\n"
     ]
    }
   ],
   "source": [
    "for i in range(1,2):\n",
    "    url = link_list[i]\n",
    "    driver.get(url)\n",
    "    soup = bs(driver.page_source, 'lxml')\n",
    "    print(soup.title.text)\n",
    "    time.sleep(0.5)"
   ]
  },
  {
   "cell_type": "code",
   "execution_count": 47,
   "metadata": {},
   "outputs": [
    {
     "data": {
      "text/plain": [
       "'좋아요 24개'"
      ]
     },
     "execution_count": 47,
     "metadata": {},
     "output_type": "execute_result"
    }
   ],
   "source": [
    "a_page = bs(driver.page_source, 'lxml')\n",
    "like_data = a_page.find('div', class_='_7UhW9 xLCgt qyrsm KV-D4 fDxYl T0kll')\n",
    "like_data.text"
   ]
  },
  {
   "cell_type": "code",
   "execution_count": 48,
   "metadata": {},
   "outputs": [
    {
     "name": "stdout",
     "output_type": "stream",
     "text": [
      "Instagram의 gyeonggi_korea(경기도)님: “A complete guide to unique cafés in Yongin City of Gyeonggi Province\n",
      "\n",
      "📢Real Garden K\n",
      "Feel like having a ‘forest and phytoncide’ day?…”\n",
      "24\n",
      "Instagram의 gyeonggi_korea(경기도)님: “Mystical constellations and planets🌎,\n",
      "Don’t you want to see them all?\n",
      "Let’s visit the Anseong Astronomical Science Museum! 🌃\n",
      "\n",
      "Observe the…”\n",
      "24\n",
      "Instagram의 gyeonggi_korea(경기도)님: “Shall we take a day trip\n",
      "to nature-friendly Uiwang City of Gyeonggi Province? 🚓\n",
      "\n",
      "📢Cheonggyesa🙏\n",
      "\n",
      "A Buddhist temple on picturesque…”\n",
      "26\n"
     ]
    }
   ],
   "source": [
    "for i in range(3):\n",
    "    url = link_list[i]\n",
    "    driver.get(url)\n",
    "    soup = bs(driver.page_source, 'lxml')\n",
    "    print(soup.title.text)\n",
    "    time.sleep(0.5)\n",
    "\n",
    "    a_page = bs(driver.page_source, 'lxml')\n",
    "    like_data = a_page.find('div', class_='_7UhW9 xLCgt qyrsm KV-D4 fDxYl T0kll')\n",
    "    num_of_like = int(like_data.text[4:-1])\n",
    "    print(num_of_like)"
   ]
  },
  {
   "cell_type": "markdown",
   "metadata": {},
   "source": [
    "# insta 좋아요 수 크롤링"
   ]
  },
  {
   "cell_type": "code",
   "execution_count": 94,
   "metadata": {},
   "outputs": [],
   "source": [
    "from bs4 import BeautifulSoup as bs\n",
    "import time\n",
    "from selenium import webdriver\n",
    "import getpass"
   ]
  },
  {
   "cell_type": "code",
   "execution_count": 102,
   "metadata": {},
   "outputs": [
    {
     "name": "stderr",
     "output_type": "stream",
     "text": [
      "<ipython-input-102-9816f8534c9c>:7: DeprecationWarning: find_element_by_name is deprecated. Please use find_element(by=By.NAME, value=name) instead\n",
      "  element_id = driver.find_element_by_name(\"username\")\n",
      "<ipython-input-102-9816f8534c9c>:9: DeprecationWarning: find_element_by_name is deprecated. Please use find_element(by=By.NAME, value=name) instead\n",
      "  element_password = driver.find_element_by_name(\"password\")\n",
      "<ipython-input-102-9816f8534c9c>:15: DeprecationWarning: find_element_by_css_selector is deprecated. Please use find_element(by=By.CSS_SELECTOR, value=css_selector) instead\n",
      "  driver.find_element_by_css_selector('.sqdOP.L3NKy.y3zKF').click()\n"
     ]
    }
   ],
   "source": [
    "driver = webdriver.Chrome('chromedriver')\n",
    "driver.get(\"https://www.instagram.com/accounts/login/\")\n",
    "\n",
    "username = getpass.getpass(\"Input ID : \")# User ID\n",
    "password = getpass.getpass(\"Input PWD : \")# User PWD, getpass를 통해서 비밀번호 정보를 숨김\n",
    " \n",
    "element_id = driver.find_element_by_name(\"username\")\n",
    "element_id.send_keys(username)\n",
    "element_password = driver.find_element_by_name(\"password\")\n",
    "element_password.send_keys(password)\n",
    " \n",
    "time.sleep(1.5)\n",
    "\n",
    "##로그인버튼 클릭\n",
    "driver.find_element_by_css_selector('.sqdOP.L3NKy.y3zKF').click()"
   ]
  },
  {
   "cell_type": "code",
   "execution_count": 103,
   "metadata": {},
   "outputs": [
    {
     "data": {
      "text/plain": [
       "<title>gyeonggi_korea(경기도)(@gyeonggi_korea) • Instagram 사진 및 동영상</title>"
      ]
     },
     "execution_count": 103,
     "metadata": {},
     "output_type": "execute_result"
    }
   ],
   "source": [
    "url = 'https://www.instagram.com/gyeonggi_korea/'\n",
    "# webdriver 로드\n",
    "driver.get(url)\n",
    "\n",
    "# 페이지 크롤링\n",
    "soup = bs(driver.page_source, 'lxml')\n",
    "soup.title"
   ]
  },
  {
   "cell_type": "code",
   "execution_count": 104,
   "metadata": {},
   "outputs": [],
   "source": [
    "post_link = []\n",
    "for postline in soup.find_all(name='div', attrs={\"class\":\"Nnq7C weEfm\"}):\n",
    "        a_len = len(postline.select('a'))\n",
    "        # 인스타그램 게시물은 행별로 최대 3개까지 확인할 수 있는데, 최근게시물이나 마지막 게시물은 1,2개가 나올 수도 있어서 len 지정\n",
    "        for post in range(a_len):   \n",
    "            item = postline.select('a')[post]\n",
    "            link = item.attrs['href']\n",
    "            post_link.append(link)\n",
    "\n",
    "link_list = []\n",
    "num_of_post = len(post_link)\n",
    "for i in (range(num_of_post)):\n",
    "    link_list.append(\"https://www.instagram.com\" + post_link[i])"
   ]
  },
  {
   "cell_type": "code",
   "execution_count": 105,
   "metadata": {},
   "outputs": [
    {
     "name": "stdout",
     "output_type": "stream",
     "text": [
      "A complete guide to unique cafés in Yongin City of Gyeonggi Province\n",
      "\n",
      "📢Real Garden K\n",
      "Feel like having a ‘forest and phytoncide’ day?…”\n",
      "25\n",
      "Mystical constellations and planets🌎,\n",
      "Don’t you want to see them all?\n",
      "Let’s visit the Anseong Astronomical Science Museum! 🌃\n",
      "\n",
      "Observe the…”\n",
      "24\n",
      "Shall we take a day trip\n",
      "to nature-friendly Uiwang City of Gyeonggi Province? 🚓\n",
      "\n",
      "📢Cheonggyesa🙏\n",
      "\n",
      "A Buddhist temple on picturesque…”\n",
      "26\n"
     ]
    }
   ],
   "source": [
    "title_list = []\n",
    "like_list = []\n",
    "for i in range(3):\n",
    "    url = link_list[i]\n",
    "    driver.get(url)\n",
    "    soup = bs(driver.page_source, 'lxml')\n",
    "    temp_title = soup.title.text[34:]\n",
    "    title_list.append(temp_title)\n",
    "    print(temp_title)\n",
    "    time.sleep(0.5)\n",
    "\n",
    "    a_page = bs(driver.page_source, 'lxml')\n",
    "    like_data = a_page.find('div', class_='_7UhW9 xLCgt qyrsm KV-D4 fDxYl T0kll')\n",
    "    num_of_like = int(like_data.text[4:-1])\n",
    "\n",
    "    like_list.append(num_of_like)\n",
    "    print(num_of_like)"
   ]
  },
  {
   "cell_type": "code",
   "execution_count": 106,
   "metadata": {},
   "outputs": [],
   "source": [
    "import pandas as pd\n",
    "from datetime import datetime"
   ]
  },
  {
   "cell_type": "code",
   "execution_count": 107,
   "metadata": {},
   "outputs": [
    {
     "data": {
      "text/html": [
       "<div>\n",
       "<style scoped>\n",
       "    .dataframe tbody tr th:only-of-type {\n",
       "        vertical-align: middle;\n",
       "    }\n",
       "\n",
       "    .dataframe tbody tr th {\n",
       "        vertical-align: top;\n",
       "    }\n",
       "\n",
       "    .dataframe thead th {\n",
       "        text-align: right;\n",
       "    }\n",
       "</style>\n",
       "<table border=\"1\" class=\"dataframe\">\n",
       "  <thead>\n",
       "    <tr style=\"text-align: right;\">\n",
       "      <th></th>\n",
       "      <th>좋아요_수</th>\n",
       "      <th>제목</th>\n",
       "    </tr>\n",
       "  </thead>\n",
       "  <tbody>\n",
       "    <tr>\n",
       "      <th>0</th>\n",
       "      <td>26</td>\n",
       "      <td>A complete guide to unique cafés in Yongin Cit...</td>\n",
       "    </tr>\n",
       "    <tr>\n",
       "      <th>1</th>\n",
       "      <td>26</td>\n",
       "      <td>Mystical constellations and planets🌎,\\nDon’t y...</td>\n",
       "    </tr>\n",
       "    <tr>\n",
       "      <th>2</th>\n",
       "      <td>26</td>\n",
       "      <td>Shall we take a day trip\\nto nature-friendly U...</td>\n",
       "    </tr>\n",
       "  </tbody>\n",
       "</table>\n",
       "</div>"
      ],
      "text/plain": [
       "   좋아요_수                                                 제목\n",
       "0     26  A complete guide to unique cafés in Yongin Cit...\n",
       "1     26  Mystical constellations and planets🌎,\\nDon’t y...\n",
       "2     26  Shall we take a day trip\\nto nature-friendly U..."
      ]
     },
     "execution_count": 107,
     "metadata": {},
     "output_type": "execute_result"
    }
   ],
   "source": [
    "insta_df = {'좋아요_수':num_of_like, '제목':title_list}\n",
    "data = pd.DataFrame(insta_df)\n",
    "data"
   ]
  },
  {
   "cell_type": "code",
   "execution_count": 108,
   "metadata": {},
   "outputs": [],
   "source": [
    "file_name = str(datetime.today().strftime(\"%Y%m%d-%H%M%S\"))\n",
    "file_name = 'insta_' + file_name + '.csv'\n",
    "data.to_csv(file_name, index=False, encoding='utf-8')"
   ]
  },
  {
   "cell_type": "code",
   "execution_count": 109,
   "metadata": {},
   "outputs": [],
   "source": [
    "url = 'https://business.facebook.com/creatorstudio/instagram_content_posts'\n",
    "# webdriver 로드\n",
    "driver.get(url)"
   ]
  },
  {
   "cell_type": "code",
   "execution_count": null,
   "metadata": {},
   "outputs": [],
   "source": [
    "# 페이지 크롤링\n",
    "soup = bs(driver.page_source, 'lxml')"
   ]
  }
 ],
 "metadata": {
  "interpreter": {
   "hash": "513dc2e41d739bb2c947903f3c0bbf636d03aa53ab50e61c694a27481c81805e"
  },
  "kernelspec": {
   "display_name": "Python 3.8.8 ('base')",
   "language": "python",
   "name": "python3"
  },
  "language_info": {
   "codemirror_mode": {
    "name": "ipython",
    "version": 3
   },
   "file_extension": ".py",
   "mimetype": "text/x-python",
   "name": "python",
   "nbconvert_exporter": "python",
   "pygments_lexer": "ipython3",
   "version": "3.8.8"
  },
  "orig_nbformat": 4
 },
 "nbformat": 4,
 "nbformat_minor": 2
}
