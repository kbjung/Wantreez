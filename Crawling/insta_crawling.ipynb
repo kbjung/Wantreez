{
 "cells": [
  {
   "cell_type": "code",
   "execution_count": 2,
   "metadata": {},
   "outputs": [],
   "source": [
    "from bs4 import BeautifulSoup as bs\n",
    "import time\n",
    "from selenium import webdriver"
   ]
  },
  {
   "cell_type": "markdown",
   "metadata": {},
   "source": [
    "# 팔로워 수 크롤링"
   ]
  },
  {
   "cell_type": "code",
   "execution_count": 35,
   "metadata": {},
   "outputs": [
    {
     "name": "stderr",
     "output_type": "stream",
     "text": [
      "<ipython-input-35-985c6fd20ebc>:9: DeprecationWarning: find_element_by_xpath is deprecated. Please use find_element(by=By.XPATH, value=xpath) instead\n",
      "  element_id = driver.find_element_by_xpath('//*[@id=\"loginForm\"]/div/div[1]/div/label/input')\n",
      "<ipython-input-35-985c6fd20ebc>:11: DeprecationWarning: find_element_by_xpath is deprecated. Please use find_element(by=By.XPATH, value=xpath) instead\n",
      "  element_password = driver.find_element_by_xpath('//*[@id=\"loginForm\"]/div/div[2]/div/label/input')\n",
      "<ipython-input-35-985c6fd20ebc>:16: DeprecationWarning: find_element_by_css_selector is deprecated. Please use find_element(by=By.CSS_SELECTOR, value=css_selector) instead\n",
      "  driver.find_element_by_css_selector('.sqdOP.L3NKy.y3zKF').click()\n"
     ]
    }
   ],
   "source": [
    "driver = webdriver.Chrome('chromedriver')\n",
    "driver.get(\"https://www.instagram.com/accounts/login/\")\n",
    "driver.implicitly_wait(10)\n",
    "\n",
    "# 로그인\n",
    "username = 'gyeonggi_korea'\n",
    "password = 'zhsxpscm123!'\n",
    "\n",
    "element_id = driver.find_element_by_xpath('//*[@id=\"loginForm\"]/div/div[1]/div/label/input')\n",
    "element_id.send_keys(username)\n",
    "element_password = driver.find_element_by_xpath('//*[@id=\"loginForm\"]/div/div[2]/div/label/input')\n",
    "element_password.send_keys(password)\n",
    "driver.implicitly_wait(3)\n",
    "\n",
    "##로그인버튼 클릭\n",
    "driver.find_element_by_css_selector('.sqdOP.L3NKy.y3zKF').click()"
   ]
  },
  {
   "cell_type": "code",
   "execution_count": 36,
   "metadata": {},
   "outputs": [
    {
     "data": {
      "text/plain": [
       "<title>gyeonggi_korea(경기도)(@gyeonggi_korea) • Instagram 사진 및 동영상</title>"
      ]
     },
     "execution_count": 36,
     "metadata": {},
     "output_type": "execute_result"
    }
   ],
   "source": [
    "url = 'https://www.instagram.com/gyeonggi_korea/'\n",
    "# webdriver 로드\n",
    "driver.get(url)\n",
    "\n",
    "# 페이지 크롤링\n",
    "soup = bs(driver.page_source, 'lxml')\n",
    "soup.title"
   ]
  },
  {
   "cell_type": "code",
   "execution_count": 37,
   "metadata": {},
   "outputs": [
    {
     "name": "stdout",
     "output_type": "stream",
     "text": [
      "수집한 링크의 개수 :  6\n",
      "수집한 링크 주소\n",
      "['/p/CamCGL3LSHX/', '/p/Cag862TrWuX/', '/p/CaWWan2BoZc/', '/p/CaRgX_svAjY/', '/p/CaG5pIbv7MV/', '/p/CZ9rGIHP423/']\n"
     ]
    }
   ],
   "source": [
    "post_link = []\n",
    "div = soup.find_all('div', class_=\"Nnq7C weEfm\")\n",
    "\n",
    "# 게시글 줄 순서(1번째부터 몇 번째 줄까지 가져올 것인지)\n",
    "number_of_line = 2\n",
    "# 게시글 링크 3개씩 가져오기\n",
    "for row in range(number_of_line):\n",
    "    a_tags = div[row].find_all('a')\n",
    "    for i in range(3):\n",
    "        link = a_tags[i].attrs['href']\n",
    "        post_link.append(link)\n",
    "# 수집한 링크 개수 확인\n",
    "print(\"수집한 링크의 개수 : \", len(post_link))\n",
    "print(\"수집한 링크 주소\")\n",
    "print(post_link)"
   ]
  },
  {
   "cell_type": "code",
   "execution_count": 38,
   "metadata": {},
   "outputs": [
    {
     "data": {
      "text/plain": [
       "['https://www.instagram.com/p/CamCGL3LSHX/',\n",
       " 'https://www.instagram.com/p/Cag862TrWuX/',\n",
       " 'https://www.instagram.com/p/CaWWan2BoZc/',\n",
       " 'https://www.instagram.com/p/CaRgX_svAjY/',\n",
       " 'https://www.instagram.com/p/CaG5pIbv7MV/',\n",
       " 'https://www.instagram.com/p/CZ9rGIHP423/']"
      ]
     },
     "execution_count": 38,
     "metadata": {},
     "output_type": "execute_result"
    }
   ],
   "source": [
    "link_list = []\n",
    "num_of_post = len(post_link)\n",
    "for i in (range(num_of_post)):\n",
    "    link_list.append(\"https://www.instagram.com\" + post_link[i])\n",
    "link_list"
   ]
  },
  {
   "cell_type": "code",
   "execution_count": 39,
   "metadata": {},
   "outputs": [
    {
     "name": "stdout",
     "output_type": "stream",
     "text": [
      "Instagram의 gyeonggi_korea(경기도)님: “A complete guide to unique cafés in Yongin City of Gyeonggi Province\n",
      "\n",
      "📢Real Garden K\n",
      "Feel like having a ‘forest and phytoncide’ day?…”\n"
     ]
    }
   ],
   "source": [
    "for i in range(1):\n",
    "    # 게시물 타이틀 수집\n",
    "    url = link_list[i]\n",
    "    driver.get(url)\n",
    "    soup = bs(driver.page_source, 'lxml')\n",
    "    print(soup.title.text)\n",
    "    driver.implicitly_wait(3)"
   ]
  },
  {
   "cell_type": "code",
   "execution_count": 52,
   "metadata": {},
   "outputs": [
    {
     "data": {
      "text/plain": [
       "25"
      ]
     },
     "execution_count": 52,
     "metadata": {},
     "output_type": "execute_result"
    }
   ],
   "source": [
    "# 게시물 좋아요 수 수집\n",
    "a_page = bs(driver.page_source, 'lxml')\n",
    "like_data = a_page.find_all('div', class_='_7UhW9 xLCgt qyrsm KV-D4 fDxYl T0kll')\n",
    "number_of_like = like_data[1].find('span')\n",
    "number_of_like = int(number_of_like.text)\n",
    "number_of_like"
   ]
  },
  {
   "cell_type": "code",
   "execution_count": 40,
   "metadata": {},
   "outputs": [
    {
     "data": {
      "text/plain": [
       "bs4.element.Tag"
      ]
     },
     "execution_count": 40,
     "metadata": {},
     "output_type": "execute_result"
    }
   ],
   "source": [
    "type(like_data)"
   ]
  },
  {
   "cell_type": "code",
   "execution_count": 44,
   "metadata": {},
   "outputs": [
    {
     "data": {
      "text/plain": [
       "24"
      ]
     },
     "execution_count": 44,
     "metadata": {},
     "output_type": "execute_result"
    }
   ],
   "source": [
    "num_of_like = int(like_data.text[4:-1])\n",
    "num_of_like"
   ]
  },
  {
   "cell_type": "code",
   "execution_count": 46,
   "metadata": {},
   "outputs": [
    {
     "name": "stdout",
     "output_type": "stream",
     "text": [
      "Instagram의 gyeonggi_korea(경기도)님: “Mystical constellations and planets🌎,\n",
      "Don’t you want to see them all?\n",
      "Let’s visit the Anseong Astronomical Science Museum! 🌃\n",
      "\n",
      "Observe the…”\n"
     ]
    }
   ],
   "source": [
    "for i in range(1,2):\n",
    "    url = link_list[i]\n",
    "    driver.get(url)\n",
    "    soup = bs(driver.page_source, 'lxml')\n",
    "    print(soup.title.text)\n",
    "    time.sleep(0.5)"
   ]
  },
  {
   "cell_type": "code",
   "execution_count": 47,
   "metadata": {},
   "outputs": [
    {
     "data": {
      "text/plain": [
       "'좋아요 24개'"
      ]
     },
     "execution_count": 47,
     "metadata": {},
     "output_type": "execute_result"
    }
   ],
   "source": [
    "a_page = bs(driver.page_source, 'lxml')\n",
    "like_data = a_page.find('div', class_='_7UhW9 xLCgt qyrsm KV-D4 fDxYl T0kll')\n",
    "like_data.text"
   ]
  },
  {
   "cell_type": "code",
   "execution_count": 48,
   "metadata": {},
   "outputs": [
    {
     "name": "stdout",
     "output_type": "stream",
     "text": [
      "Instagram의 gyeonggi_korea(경기도)님: “A complete guide to unique cafés in Yongin City of Gyeonggi Province\n",
      "\n",
      "📢Real Garden K\n",
      "Feel like having a ‘forest and phytoncide’ day?…”\n",
      "24\n",
      "Instagram의 gyeonggi_korea(경기도)님: “Mystical constellations and planets🌎,\n",
      "Don’t you want to see them all?\n",
      "Let’s visit the Anseong Astronomical Science Museum! 🌃\n",
      "\n",
      "Observe the…”\n",
      "24\n",
      "Instagram의 gyeonggi_korea(경기도)님: “Shall we take a day trip\n",
      "to nature-friendly Uiwang City of Gyeonggi Province? 🚓\n",
      "\n",
      "📢Cheonggyesa🙏\n",
      "\n",
      "A Buddhist temple on picturesque…”\n",
      "26\n"
     ]
    }
   ],
   "source": [
    "for i in range(3):\n",
    "    url = link_list[i]\n",
    "    driver.get(url)\n",
    "    soup = bs(driver.page_source, 'lxml')\n",
    "    print(soup.title.text)\n",
    "    time.sleep(0.5)\n",
    "\n",
    "    a_page = bs(driver.page_source, 'lxml')\n",
    "    like_data = a_page.find('div', class_='_7UhW9 xLCgt qyrsm KV-D4 fDxYl T0kll')\n",
    "    num_of_like = int(like_data.text[4:-1])\n",
    "    print(num_of_like)"
   ]
  },
  {
   "cell_type": "markdown",
   "metadata": {},
   "source": [
    "# insta 좋아요 수 크롤링"
   ]
  },
  {
   "cell_type": "code",
   "execution_count": 90,
   "metadata": {},
   "outputs": [],
   "source": [
    "from bs4 import BeautifulSoup as bs\n",
    "import time\n",
    "from selenium import webdriver"
   ]
  },
  {
   "cell_type": "code",
   "execution_count": 92,
   "metadata": {},
   "outputs": [
    {
     "name": "stderr",
     "output_type": "stream",
     "text": [
      "<ipython-input-92-b311796cbd22>:8: DeprecationWarning: find_element_by_xpath is deprecated. Please use find_element(by=By.XPATH, value=xpath) instead\n",
      "  element_id = driver.find_element_by_xpath('//*[@id=\"loginForm\"]/div/div[1]/div/label/input')\n",
      "<ipython-input-92-b311796cbd22>:10: DeprecationWarning: find_element_by_xpath is deprecated. Please use find_element(by=By.XPATH, value=xpath) instead\n",
      "  element_password = driver.find_element_by_xpath('//*[@id=\"loginForm\"]/div/div[2]/div/label/input')\n",
      "<ipython-input-92-b311796cbd22>:16: DeprecationWarning: find_element_by_css_selector is deprecated. Please use find_element(by=By.CSS_SELECTOR, value=css_selector) instead\n",
      "  driver.find_element_by_css_selector('.sqdOP.L3NKy.y3zKF').click()\n"
     ]
    }
   ],
   "source": [
    "driver = webdriver.Chrome('chromedriver')\n",
    "driver.get(\"https://www.instagram.com/accounts/login/\")\n",
    "driver.implicitly_wait(10)\n",
    "\n",
    "username = 'gyeonggi_korea'\n",
    "password = 'zhsxpscm123!'\n",
    "\n",
    "element_id = driver.find_element_by_xpath('//*[@id=\"loginForm\"]/div/div[1]/div/label/input')\n",
    "element_id.send_keys(username)\n",
    "time.sleep(1)\n",
    "element_password = driver.find_element_by_xpath('//*[@id=\"loginForm\"]/div/div[2]/div/label/input')\n",
    "element_password.send_keys(password)\n",
    "\n",
    "time.sleep(1.5)\n",
    "\n",
    "##로그인버튼 클릭\n",
    "driver.find_element_by_css_selector('.sqdOP.L3NKy.y3zKF').click()"
   ]
  },
  {
   "cell_type": "code",
   "execution_count": 103,
   "metadata": {},
   "outputs": [
    {
     "data": {
      "text/plain": [
       "<title>gyeonggi_korea(경기도)(@gyeonggi_korea) • Instagram 사진 및 동영상</title>"
      ]
     },
     "execution_count": 103,
     "metadata": {},
     "output_type": "execute_result"
    }
   ],
   "source": [
    "url = 'https://www.instagram.com/gyeonggi_korea/'\n",
    "# webdriver 로드\n",
    "driver.get(url)\n",
    "\n",
    "# 페이지 크롤링\n",
    "soup = bs(driver.page_source, 'lxml')\n",
    "soup.title"
   ]
  },
  {
   "cell_type": "code",
   "execution_count": 104,
   "metadata": {},
   "outputs": [],
   "source": [
    "post_link = []\n",
    "div = soup.find_all('div', class_=\"Nnq7C weEfm\")\n",
    "\n",
    "# 게시글 줄 순서(1번째부터 몇 번째 줄까지 가져올 것인지)\n",
    "number_of_line = 2\n",
    "# 게시글 링크 3개씩 가져오기\n",
    "for row in range(number_of_line):\n",
    "    a_tags = div[row].find_all('a')\n",
    "    for i in range(3):\n",
    "        link = a_tags[i].attrs['href']\n",
    "        post_link.append(link)\n",
    "# 수집한 링크 개수 확인\n",
    "print(\"수집한 링크의 개수 : \", len(post_link))\n",
    "print(\"수집한 링크 주소\")\n",
    "print(post_link)"
   ]
  },
  {
   "cell_type": "code",
   "execution_count": 105,
   "metadata": {},
   "outputs": [
    {
     "name": "stdout",
     "output_type": "stream",
     "text": [
      "A complete guide to unique cafés in Yongin City of Gyeonggi Province\n",
      "\n",
      "📢Real Garden K\n",
      "Feel like having a ‘forest and phytoncide’ day?…”\n",
      "25\n",
      "Mystical constellations and planets🌎,\n",
      "Don’t you want to see them all?\n",
      "Let’s visit the Anseong Astronomical Science Museum! 🌃\n",
      "\n",
      "Observe the…”\n",
      "24\n",
      "Shall we take a day trip\n",
      "to nature-friendly Uiwang City of Gyeonggi Province? 🚓\n",
      "\n",
      "📢Cheonggyesa🙏\n",
      "\n",
      "A Buddhist temple on picturesque…”\n",
      "26\n"
     ]
    }
   ],
   "source": [
    "title_list = []\n",
    "like_list = []\n",
    "for i in range(3):\n",
    "    url = link_list[i]\n",
    "    driver.get(url)\n",
    "    soup = bs(driver.page_source, 'lxml')\n",
    "    temp_title = soup.title.text[34:]\n",
    "    title_list.append(temp_title)\n",
    "    print(temp_title)\n",
    "    time.sleep(0.5)\n",
    "\n",
    "    a_page = bs(driver.page_source, 'lxml')\n",
    "    like_data = a_page.find('div', class_='_7UhW9 xLCgt qyrsm KV-D4 fDxYl T0kll')\n",
    "    num_of_like = int(like_data.text[4:-1])\n",
    "\n",
    "    like_list.append(num_of_like)\n",
    "    print(num_of_like)"
   ]
  },
  {
   "cell_type": "code",
   "execution_count": 106,
   "metadata": {},
   "outputs": [],
   "source": [
    "import pandas as pd\n",
    "from datetime import datetime"
   ]
  },
  {
   "cell_type": "code",
   "execution_count": 107,
   "metadata": {},
   "outputs": [
    {
     "data": {
      "text/html": [
       "<div>\n",
       "<style scoped>\n",
       "    .dataframe tbody tr th:only-of-type {\n",
       "        vertical-align: middle;\n",
       "    }\n",
       "\n",
       "    .dataframe tbody tr th {\n",
       "        vertical-align: top;\n",
       "    }\n",
       "\n",
       "    .dataframe thead th {\n",
       "        text-align: right;\n",
       "    }\n",
       "</style>\n",
       "<table border=\"1\" class=\"dataframe\">\n",
       "  <thead>\n",
       "    <tr style=\"text-align: right;\">\n",
       "      <th></th>\n",
       "      <th>좋아요_수</th>\n",
       "      <th>제목</th>\n",
       "    </tr>\n",
       "  </thead>\n",
       "  <tbody>\n",
       "    <tr>\n",
       "      <th>0</th>\n",
       "      <td>26</td>\n",
       "      <td>A complete guide to unique cafés in Yongin Cit...</td>\n",
       "    </tr>\n",
       "    <tr>\n",
       "      <th>1</th>\n",
       "      <td>26</td>\n",
       "      <td>Mystical constellations and planets🌎,\\nDon’t y...</td>\n",
       "    </tr>\n",
       "    <tr>\n",
       "      <th>2</th>\n",
       "      <td>26</td>\n",
       "      <td>Shall we take a day trip\\nto nature-friendly U...</td>\n",
       "    </tr>\n",
       "  </tbody>\n",
       "</table>\n",
       "</div>"
      ],
      "text/plain": [
       "   좋아요_수                                                 제목\n",
       "0     26  A complete guide to unique cafés in Yongin Cit...\n",
       "1     26  Mystical constellations and planets🌎,\\nDon’t y...\n",
       "2     26  Shall we take a day trip\\nto nature-friendly U..."
      ]
     },
     "execution_count": 107,
     "metadata": {},
     "output_type": "execute_result"
    }
   ],
   "source": [
    "insta_df = {'좋아요_수':num_of_like, '제목':title_list}\n",
    "data = pd.DataFrame(insta_df)\n",
    "data"
   ]
  },
  {
   "cell_type": "code",
   "execution_count": 108,
   "metadata": {},
   "outputs": [],
   "source": [
    "file_name = str(datetime.today().strftime(\"%Y%m%d-%H%M%S\"))\n",
    "file_name = 'insta_' + file_name + '.csv'\n",
    "path = './crawling_data/'\n",
    "data.to_csv(path+file_name, index=False, encoding='utf-8')"
   ]
  },
  {
   "cell_type": "code",
   "execution_count": 109,
   "metadata": {},
   "outputs": [],
   "source": [
    "url = 'https://business.facebook.com/creatorstudio/instagram_content_posts'\n",
    "# webdriver 로드\n",
    "driver.get(url)"
   ]
  },
  {
   "cell_type": "code",
   "execution_count": null,
   "metadata": {},
   "outputs": [],
   "source": [
    "# 페이지 크롤링\n",
    "soup = bs(driver.page_source, 'lxml')"
   ]
  },
  {
   "cell_type": "markdown",
   "metadata": {},
   "source": [
    "# 인스타그램 게시물 좋아요 수 크롤링"
   ]
  },
  {
   "cell_type": "code",
   "execution_count": 79,
   "metadata": {},
   "outputs": [],
   "source": [
    "from bs4 import BeautifulSoup as bs\n",
    "import time\n",
    "from selenium import webdriver\n",
    "import pandas as pd\n",
    "import datetime"
   ]
  },
  {
   "cell_type": "code",
   "execution_count": 88,
   "metadata": {},
   "outputs": [],
   "source": [
    "def crawling(number_of_line):\n",
    "    # 사이트에 로그인하기\n",
    "    driver = webdriver.Chrome('chromedriver')\n",
    "    driver.get(\"https://www.instagram.com/accounts/login/\")\n",
    "    driver.implicitly_wait(10)\n",
    "    # 아이디, 비번\n",
    "    username = 'gyeonggi_korea'\n",
    "    password = 'zhsxpscm123!'\n",
    "    # 아이디, 비번 입력\n",
    "    element_id = driver.find_element_by_xpath('//*[@id=\"loginForm\"]/div/div[1]/div/label/input')\n",
    "    element_id.send_keys(username)\n",
    "    time.sleep(1)\n",
    "    element_password = driver.find_element_by_xpath('//*[@id=\"loginForm\"]/div/div[2]/div/label/input')\n",
    "    element_password.send_keys(password)\n",
    "    time.sleep(1.5)\n",
    "\n",
    "    ##로그인버튼 클릭\n",
    "    driver.find_element_by_css_selector('.sqdOP.L3NKy.y3zKF').click()\n",
    "    time.sleep(1.5)\n",
    "\n",
    "    # 사이트 접속\n",
    "    url = 'https://www.instagram.com/gyeonggi_korea/'\n",
    "    driver.get(url)\n",
    "    time.sleep(3)\n",
    "    # 페이지 크롤링\n",
    "    soup = bs(driver.page_source, 'lxml')\n",
    "\n",
    "    post_link = []\n",
    "    div = soup.find_all('div', class_=\"Nnq7C weEfm\")\n",
    "\n",
    "    # 게시글 줄 순서(1번째부터 몇 번째 줄까지 가져올 것인지)\n",
    "    number = number_of_line\n",
    "    # 게시글 링크 3개씩 가져오기\n",
    "    for row in range(number):\n",
    "        a_tags = div[row].find_all('a')\n",
    "        for i in range(3):\n",
    "            link = a_tags[i].attrs['href']\n",
    "            post_link.append(link)\n",
    "    # 수집한 링크 개수 확인\n",
    "    print(\"수집한 링크의 개수 : \", len(post_link))\n",
    "    print(\"수집한 링크 주소\")\n",
    "    print(post_link)\n",
    "\n",
    "    # 게시글 타이틀과 좋아요 수 수집\n",
    "    title_list = []\n",
    "    like_list = []\n",
    "    for i in range(len(link_list)):\n",
    "        # 게시글 타이틀 수집\n",
    "        url = link_list[i]\n",
    "        driver.get(url)\n",
    "        soup = bs(driver.page_source, 'lxml')\n",
    "        temp_title = soup.title.text[34:]\n",
    "        title_list.append(temp_title)\n",
    "        print(temp_title)\n",
    "        driver.implicitly_wait(1)\n",
    "\n",
    "        # 게시글 좋아요 수 수집\n",
    "        like_data = soup.find_all('div', class_='_7UhW9 xLCgt qyrsm KV-D4 fDxYl T0kll')\n",
    "        number_of_like = like_data[1].find('span')\n",
    "        number_of_like = int(number_of_like.text)\n",
    "        like_list.append(number_of_like)\n",
    "        print(\"좋아요 수 : \", number_of_like, '개')\n",
    "\n",
    "    insta_df = {'좋아요_수':like_list, '제목':title_list}\n",
    "    data = pd.DataFrame(insta_df)\n",
    "\n",
    "    # 파일로 출력\n",
    "    file_name = str(datetime.today().strftime(\"%Y%m%d-%H%M%S\"))\n",
    "    file_name = 'instagram_' + file_name + '.csv'\n",
    "    path = './crawling_data/instagram/'\n",
    "    data.to_csv(path+file_name, index=False, encoding='utf-8')\n",
    "\n",
    "    return data"
   ]
  },
  {
   "cell_type": "code",
   "execution_count": 89,
   "metadata": {},
   "outputs": [
    {
     "name": "stderr",
     "output_type": "stream",
     "text": [
      "<ipython-input-88-26a342313a75>:10: DeprecationWarning: find_element_by_xpath is deprecated. Please use find_element(by=By.XPATH, value=xpath) instead\n",
      "  element_id = driver.find_element_by_xpath('//*[@id=\"loginForm\"]/div/div[1]/div/label/input')\n",
      "<ipython-input-88-26a342313a75>:12: DeprecationWarning: find_element_by_xpath is deprecated. Please use find_element(by=By.XPATH, value=xpath) instead\n",
      "  element_password = driver.find_element_by_xpath('//*[@id=\"loginForm\"]/div/div[2]/div/label/input')\n",
      "<ipython-input-88-26a342313a75>:17: DeprecationWarning: find_element_by_css_selector is deprecated. Please use find_element(by=By.CSS_SELECTOR, value=css_selector) instead\n",
      "  driver.find_element_by_css_selector('.sqdOP.L3NKy.y3zKF').click()\n"
     ]
    },
    {
     "ename": "IndexError",
     "evalue": "list index out of range",
     "output_type": "error",
     "traceback": [
      "\u001b[1;31m---------------------------------------------------------------------------\u001b[0m",
      "\u001b[1;31mIndexError\u001b[0m                                Traceback (most recent call last)",
      "\u001b[1;32m<ipython-input-89-0f78600ba7e5>\u001b[0m in \u001b[0;36m<module>\u001b[1;34m\u001b[0m\n\u001b[0;32m      1\u001b[0m \u001b[1;31m# 수집할 게시글 줄 수\u001b[0m\u001b[1;33m\u001b[0m\u001b[1;33m\u001b[0m\u001b[1;33m\u001b[0m\u001b[0m\n\u001b[1;32m----> 2\u001b[1;33m \u001b[0mdf\u001b[0m \u001b[1;33m=\u001b[0m \u001b[0mcrawling\u001b[0m\u001b[1;33m(\u001b[0m\u001b[1;36m3\u001b[0m\u001b[1;33m)\u001b[0m\u001b[1;33m\u001b[0m\u001b[1;33m\u001b[0m\u001b[0m\n\u001b[0m\u001b[0;32m      3\u001b[0m \u001b[0mdf\u001b[0m\u001b[1;33m\u001b[0m\u001b[1;33m\u001b[0m\u001b[0m\n",
      "\u001b[1;32m<ipython-input-88-26a342313a75>\u001b[0m in \u001b[0;36mcrawling\u001b[1;34m(number_of_line)\u001b[0m\n\u001b[0;32m     32\u001b[0m     \u001b[1;31m# 게시글 링크 3개씩 가져오기\u001b[0m\u001b[1;33m\u001b[0m\u001b[1;33m\u001b[0m\u001b[1;33m\u001b[0m\u001b[0m\n\u001b[0;32m     33\u001b[0m     \u001b[1;32mfor\u001b[0m \u001b[0mrow\u001b[0m \u001b[1;32min\u001b[0m \u001b[0mrange\u001b[0m\u001b[1;33m(\u001b[0m\u001b[0mnumber\u001b[0m\u001b[1;33m)\u001b[0m\u001b[1;33m:\u001b[0m\u001b[1;33m\u001b[0m\u001b[1;33m\u001b[0m\u001b[0m\n\u001b[1;32m---> 34\u001b[1;33m         \u001b[0ma_tags\u001b[0m \u001b[1;33m=\u001b[0m \u001b[0mdiv\u001b[0m\u001b[1;33m[\u001b[0m\u001b[0mrow\u001b[0m\u001b[1;33m]\u001b[0m\u001b[1;33m.\u001b[0m\u001b[0mfind_all\u001b[0m\u001b[1;33m(\u001b[0m\u001b[1;34m'a'\u001b[0m\u001b[1;33m)\u001b[0m\u001b[1;33m\u001b[0m\u001b[1;33m\u001b[0m\u001b[0m\n\u001b[0m\u001b[0;32m     35\u001b[0m         \u001b[1;32mfor\u001b[0m \u001b[0mi\u001b[0m \u001b[1;32min\u001b[0m \u001b[0mrange\u001b[0m\u001b[1;33m(\u001b[0m\u001b[1;36m3\u001b[0m\u001b[1;33m)\u001b[0m\u001b[1;33m:\u001b[0m\u001b[1;33m\u001b[0m\u001b[1;33m\u001b[0m\u001b[0m\n\u001b[0;32m     36\u001b[0m             \u001b[0mlink\u001b[0m \u001b[1;33m=\u001b[0m \u001b[0ma_tags\u001b[0m\u001b[1;33m[\u001b[0m\u001b[0mi\u001b[0m\u001b[1;33m]\u001b[0m\u001b[1;33m.\u001b[0m\u001b[0mattrs\u001b[0m\u001b[1;33m[\u001b[0m\u001b[1;34m'href'\u001b[0m\u001b[1;33m]\u001b[0m\u001b[1;33m\u001b[0m\u001b[1;33m\u001b[0m\u001b[0m\n",
      "\u001b[1;31mIndexError\u001b[0m: list index out of range"
     ]
    }
   ],
   "source": [
    "# 수집할 게시글 줄 수\n",
    "df = crawling(3)\n",
    "df"
   ]
  },
  {
   "cell_type": "code",
   "execution_count": null,
   "metadata": {},
   "outputs": [],
   "source": []
  }
 ],
 "metadata": {
  "interpreter": {
   "hash": "513dc2e41d739bb2c947903f3c0bbf636d03aa53ab50e61c694a27481c81805e"
  },
  "kernelspec": {
   "display_name": "Python 3.8.8 ('base')",
   "language": "python",
   "name": "python3"
  },
  "language_info": {
   "codemirror_mode": {
    "name": "ipython",
    "version": 3
   },
   "file_extension": ".py",
   "mimetype": "text/x-python",
   "name": "python",
   "nbconvert_exporter": "python",
   "pygments_lexer": "ipython3",
   "version": "3.8.8"
  },
  "orig_nbformat": 4
 },
 "nbformat": 4,
 "nbformat_minor": 2
}
