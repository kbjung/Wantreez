{
 "cells": [
  {
   "cell_type": "markdown",
   "metadata": {},
   "source": [
    "# instagram 크롤링"
   ]
  },
  {
   "cell_type": "code",
   "execution_count": 1,
   "metadata": {},
   "outputs": [],
   "source": [
    "# num_scrolldown = '페이지 스크롤 횟수'\n",
    "# 예시) num_scrolldown = 2\n",
    "num_scrolldown = 2\n",
    "\n",
    "# num_page = '크롤링할 게시글 수'\n",
    "# 예시) num_page = 6\n",
    "num_page = 6"
   ]
  },
  {
   "cell_type": "code",
   "execution_count": 2,
   "metadata": {},
   "outputs": [],
   "source": [
    "from bs4 import BeautifulSoup as bs\n",
    "import time\n",
    "from selenium import webdriver\n",
    "import pandas as pd\n",
    "from datetime import datetime"
   ]
  },
  {
   "cell_type": "code",
   "execution_count": 3,
   "metadata": {},
   "outputs": [
    {
     "name": "stderr",
     "output_type": "stream",
     "text": [
      "<ipython-input-3-0a5196807dd0>:10: DeprecationWarning: find_element_by_xpath is deprecated. Please use find_element(by=By.XPATH, value=xpath) instead\n",
      "  element_id = driver.find_element_by_xpath('//*[@id=\"loginForm\"]/div/div[1]/div/label/input')\n",
      "<ipython-input-3-0a5196807dd0>:12: DeprecationWarning: find_element_by_xpath is deprecated. Please use find_element(by=By.XPATH, value=xpath) instead\n",
      "  element_password = driver.find_element_by_xpath('//*[@id=\"loginForm\"]/div/div[2]/div/label/input')\n",
      "<ipython-input-3-0a5196807dd0>:17: DeprecationWarning: find_element_by_css_selector is deprecated. Please use find_element(by=By.CSS_SELECTOR, value=css_selector) instead\n",
      "  driver.find_element_by_css_selector('.sqdOP.L3NKy.y3zKF').click()\n"
     ]
    },
    {
     "data": {
      "text/plain": [
       "'gyeonggi_korea(경기도)(@gyeonggi_korea) • Instagram 사진 및 동영상'"
      ]
     },
     "execution_count": 3,
     "metadata": {},
     "output_type": "execute_result"
    }
   ],
   "source": [
    "# 로그인 페이지 접속\n",
    "driver = webdriver.Chrome('chromedriver')\n",
    "driver.get(\"https://www.instagram.com/accounts/login/\")\n",
    "time.sleep(3)\n",
    "\n",
    "# 로그인 정보\n",
    "username = 'gyeonggi_korea'\n",
    "password = 'zhsxpscm123!'\n",
    "\n",
    "element_id = driver.find_element_by_xpath('//*[@id=\"loginForm\"]/div/div[1]/div/label/input')\n",
    "element_id.send_keys(username)\n",
    "element_password = driver.find_element_by_xpath('//*[@id=\"loginForm\"]/div/div[2]/div/label/input')\n",
    "element_password.send_keys(password)\n",
    "time.sleep(1.5)\n",
    "\n",
    "##로그인버튼 클릭\n",
    "driver.find_element_by_css_selector('.sqdOP.L3NKy.y3zKF').click()\n",
    "time.sleep(3)\n",
    "\n",
    "# 크롤링할 페이지 접속\n",
    "url = 'https://www.instagram.com/gyeonggi_korea/'\n",
    "# webdriver 로드\n",
    "driver.get(url)\n",
    "driver.implicitly_wait(5)\n",
    "\n",
    "# 페이지 크롤링\n",
    "soup = bs(driver.page_source, 'lxml')\n",
    "soup.title.text"
   ]
  },
  {
   "cell_type": "code",
   "execution_count": 4,
   "metadata": {},
   "outputs": [
    {
     "data": {
      "text/plain": [
       "9761"
      ]
     },
     "execution_count": 4,
     "metadata": {},
     "output_type": "execute_result"
    }
   ],
   "source": [
    "# 팔로워 수 수집\n",
    "raw_num_follower = soup.find_all('span', 'g47SY')\n",
    "num_follower = int(raw_num_follower[1].text.replace(',',''))\n",
    "num_follower"
   ]
  },
  {
   "cell_type": "code",
   "execution_count": 5,
   "metadata": {},
   "outputs": [
    {
     "name": "stdout",
     "output_type": "stream",
     "text": [
      "수집한 링크의 개수 :  24\n",
      "수집한 링크 주소\n",
      "['https://www.instagram.com/p/CarTSR8hpjk/', 'https://www.instagram.com/p/CamCGL3LSHX/', 'https://www.instagram.com/p/Cag862TrWuX/', 'https://www.instagram.com/p/CaWWan2BoZc/', 'https://www.instagram.com/p/CaRgX_svAjY/', 'https://www.instagram.com/p/CaG5pIbv7MV/', 'https://www.instagram.com/p/CZ9rGIHP423/', 'https://www.instagram.com/p/CZx-sLRPoq_/', 'https://www.instagram.com/p/CZs1BDAqmYF/', 'https://www.instagram.com/p/CZmf9rhPnGY/', 'https://www.instagram.com/p/CZjB2LzP7mn/', 'https://www.instagram.com/p/CZMv78CvpIk/', 'https://www.instagram.com/p/CZL99vIDzxe/', 'https://www.instagram.com/p/CZGj2IOvVIf/', 'https://www.instagram.com/p/CY8HnCJP5c1/', 'https://www.instagram.com/p/CY07xfKF0wg/', 'https://www.instagram.com/p/CYt6dZPv1vn/', 'https://www.instagram.com/p/CYqqLSpPg0L/', 'https://www.instagram.com/p/CYa1V4Yv1cp/', 'https://www.instagram.com/p/CYYeBR9v8_1/', 'https://www.instagram.com/p/CYV33FsPLHL/', 'https://www.instagram.com/p/CYK_OtcFGPW/', 'https://www.instagram.com/p/CX3LqXUP6Il/', 'https://www.instagram.com/p/CXiWaldvjZO/']\n"
     ]
    }
   ],
   "source": [
    "# 페이지 링크 크롤링\n",
    "raw_post_link_list = []\n",
    "for i in range(num_scrolldown):\n",
    "    # 현재 페이지 크롤링\n",
    "    driver.implicitly_wait(3)\n",
    "    soup = bs(driver.page_source, 'lxml')\n",
    "\n",
    "    # 게시물 링크 주소 수집\n",
    "    row_post = soup.find_all('div', \"Nnq7C weEfm\")\n",
    "\n",
    "    # 게시글 링크 3개씩 가져오기\n",
    "    for row in row_post:\n",
    "        # 한줄(row_post)에 3개의 게시글(a 태그) 존재\n",
    "        a_tags = row.find_all('a')\n",
    "        for one in a_tags:\n",
    "            link = one.attrs['href']\n",
    "            raw_post_link_list.append(\"https://www.instagram.com\" + link)\n",
    "\n",
    "    # 페이지 스크롤 다운\n",
    "    driver.execute_script(\"window.scrollTo(0, document.body.scrollHeight);\")\n",
    "    time.sleep(1)\n",
    "\n",
    "# 수집한 링크 중 중복 링크 제거\n",
    "post_link_list = []\n",
    "for link in raw_post_link_list:\n",
    "    if link not in post_link_list:\n",
    "        post_link_list.append(link)\n",
    "\n",
    "# 수집한 링크 개수 확인\n",
    "print(\"수집한 링크의 개수 : \", len(post_link_list))\n",
    "print(\"수집한 링크 주소\")\n",
    "print(post_link_list)"
   ]
  },
  {
   "cell_type": "code",
   "execution_count": 6,
   "metadata": {},
   "outputs": [
    {
     "name": "stderr",
     "output_type": "stream",
     "text": [
      "<ipython-input-6-d70a5915e228>:22: DeprecationWarning: find_element_by_css_selector is deprecated. Please use find_element(by=By.CSS_SELECTOR, value=css_selector) instead\n",
      "  section = driver.find_element_by_css_selector('section.fmD5w')\n",
      "C:\\anaconda\\lib\\site-packages\\selenium\\webdriver\\remote\\webelement.py:484: UserWarning: find_element_by_css_selector is deprecated. Please use find_element(by=By.CSS_SELECTOR, value=css_selector) instead\n",
      "  warnings.warn(\"find_element_by_css_selector is deprecated. Please use find_element(by=By.CSS_SELECTOR, value=css_selector) instead\")\n",
      "<ipython-input-6-d70a5915e228>:29: DeprecationWarning: find_elements_by_xpath is deprecated. Please use find_elements(by=By.XPATH, value=xpath) instead\n",
      "  temp = driver.find_elements_by_xpath('/html/body/div[8]/div/div/div/div[2]/div/div/div[2]/div/div/div[3]/div/div/div/div/div')\n",
      "<ipython-input-6-d70a5915e228>:48: DeprecationWarning: find_element_by_xpath is deprecated. Please use find_element(by=By.XPATH, value=xpath) instead\n",
      "  temp = driver.find_element_by_xpath('/html/body/div[8]/div/div/div/div[2]/div/div/div[2]/div/div/div[7]/div/div/div/div[2]/div/span[1]')\n"
     ]
    },
    {
     "name": "stdout",
     "output_type": "stream",
     "text": [
      "날짜 리스트 원소 수 :  6\n",
      "제목 리스트 원소 수 :  6\n",
      "조회수 리스트 원소 수 :  6\n",
      "좋아요 수 리스트 원소 수 :  6\n",
      "공유 수 리스트 원소 수 :  6\n",
      "댓글 수 리스트 원소 수 :  6\n",
      "팔로워 수 리스트 원소 수 :  6\n",
      "수집한 링크 리스트 원소 수 :  6\n"
     ]
    }
   ],
   "source": [
    "date_list = []\n",
    "title_list = []\n",
    "num_view_list = []\n",
    "num_like_list = []\n",
    "num_comment_list = []\n",
    "num_share_list = []\n",
    "num_follower_list = []\n",
    "crawled_link_list = []\n",
    "\n",
    "for link in post_link_list[:num_page]:\n",
    "    # 게시물 타이틀 수집\n",
    "    driver.get(link)\n",
    "    time.sleep(3)\n",
    "    driver.implicitly_wait(3)\n",
    "    soup = bs(driver.page_source, 'lxml')\n",
    "    title = soup.title.text[34:]\n",
    "\n",
    "    # 날짜 수집\n",
    "    date = soup.find('time').get('datetime')[:10]\n",
    "\n",
    "    # 인사이트 보기 버튼 클릭\n",
    "    section = driver.find_element_by_css_selector('section.fmD5w')\n",
    "    button = section.find_element_by_css_selector('button.sqdOP.yWX7d.y3zKF')\n",
    "    button.click()\n",
    "    time.sleep(2)\n",
    "    driver.implicitly_wait(3)\n",
    "\n",
    "    # 좋아요, 댓글, 공유 수 정보\n",
    "    temp = driver.find_elements_by_xpath('/html/body/div[8]/div/div/div/div[2]/div/div/div[2]/div/div/div[3]/div/div/div/div/div')\n",
    "\n",
    "    # 좋아요 수\n",
    "    if ',' in temp[0].text:\n",
    "        num_like = int(temp[0].text.replace(',', ''))\n",
    "    else:\n",
    "        num_like = int(temp[0].text)\n",
    "    # 댓글 수\n",
    "    if ',' in temp[1].text:\n",
    "        num_comment = int(temp[1].text.replace(',', ''))\n",
    "    else:\n",
    "        num_comment = int(temp[1].text)\n",
    "    # 공유 수\n",
    "    if ',' in temp[2].text:\n",
    "        num_share = int(temp[2].text.replace(',', ''))\n",
    "    else:\n",
    "        num_share = int(temp[2].text)\n",
    "\n",
    "    # 조회수\n",
    "    temp = driver.find_element_by_xpath('/html/body/div[8]/div/div/div/div[2]/div/div/div[2]/div/div/div[7]/div/div/div/div[2]/div/span[1]')\n",
    "    if ',' in temp.text:\n",
    "        temp = temp.text.replace(',','')\n",
    "        num_view = int(temp)\n",
    "    else:\n",
    "        num_view = int(temp.text)\n",
    "    \n",
    "    # 정보를 리스트에 저장\n",
    "    date_list.append(date)\n",
    "    title_list.append(title)\n",
    "    num_view_list.append(num_view)\n",
    "    num_like_list.append(num_like)\n",
    "    num_comment_list.append(num_comment)\n",
    "    num_share_list.append(num_share)\n",
    "    crawled_link_list.append(link)\n",
    "\n",
    "# 팔로워 수 리스트에 저장\n",
    "num_follower_list.append(num_follower)\n",
    "for i in range(num_page-1):\n",
    "    num_follower_list.append(0)\n",
    "\n",
    "# 수집한 자료 확인\n",
    "print('날짜 리스트 원소 수 : ', len(date_list))\n",
    "print('제목 리스트 원소 수 : ', len(title_list))\n",
    "print('조회수 리스트 원소 수 : ', len(num_view_list))\n",
    "print('좋아요 수 리스트 원소 수 : ', len(num_like_list))\n",
    "print('공유 수 리스트 원소 수 : ', len(num_share_list))\n",
    "print('댓글 수 리스트 원소 수 : ', len(num_comment_list))\n",
    "print('팔로워 수 리스트 원소 수 : ', len(num_follower_list))\n",
    "print('수집한 링크 리스트 원소 수 : ', len(crawled_link_list))"
   ]
  },
  {
   "cell_type": "code",
   "execution_count": 7,
   "metadata": {},
   "outputs": [
    {
     "data": {
      "text/html": [
       "<div>\n",
       "<style scoped>\n",
       "    .dataframe tbody tr th:only-of-type {\n",
       "        vertical-align: middle;\n",
       "    }\n",
       "\n",
       "    .dataframe tbody tr th {\n",
       "        vertical-align: top;\n",
       "    }\n",
       "\n",
       "    .dataframe thead th {\n",
       "        text-align: right;\n",
       "    }\n",
       "</style>\n",
       "<table border=\"1\" class=\"dataframe\">\n",
       "  <thead>\n",
       "    <tr style=\"text-align: right;\">\n",
       "      <th></th>\n",
       "      <th>날짜</th>\n",
       "      <th>제목</th>\n",
       "      <th>조회수</th>\n",
       "      <th>좋아요_수</th>\n",
       "      <th>공유수</th>\n",
       "      <th>댓글수</th>\n",
       "      <th>팔로워_수</th>\n",
       "      <th>링크</th>\n",
       "    </tr>\n",
       "  </thead>\n",
       "  <tbody>\n",
       "    <tr>\n",
       "      <th>0</th>\n",
       "      <td>2022-03-04</td>\n",
       "      <td>Have you heard? (whispering)😝\\nKorea’s first-e...</td>\n",
       "      <td>145</td>\n",
       "      <td>21</td>\n",
       "      <td>0</td>\n",
       "      <td>1</td>\n",
       "      <td>9761</td>\n",
       "      <td>https://www.instagram.com/p/CarTSR8hpjk/</td>\n",
       "    </tr>\n",
       "    <tr>\n",
       "      <th>1</th>\n",
       "      <td>2022-03-02</td>\n",
       "      <td>A complete guide to unique cafés in Yongin Cit...</td>\n",
       "      <td>155</td>\n",
       "      <td>27</td>\n",
       "      <td>0</td>\n",
       "      <td>0</td>\n",
       "      <td>0</td>\n",
       "      <td>https://www.instagram.com/p/CamCGL3LSHX/</td>\n",
       "    </tr>\n",
       "    <tr>\n",
       "      <th>2</th>\n",
       "      <td>2022-02-28</td>\n",
       "      <td>Mystical constellations and planets🌎,\\nDon’t y...</td>\n",
       "      <td>124</td>\n",
       "      <td>24</td>\n",
       "      <td>0</td>\n",
       "      <td>0</td>\n",
       "      <td>0</td>\n",
       "      <td>https://www.instagram.com/p/Cag862TrWuX/</td>\n",
       "    </tr>\n",
       "    <tr>\n",
       "      <th>3</th>\n",
       "      <td>2022-02-24</td>\n",
       "      <td>Shall we take a day trip\\nto nature-friendly U...</td>\n",
       "      <td>151</td>\n",
       "      <td>26</td>\n",
       "      <td>0</td>\n",
       "      <td>0</td>\n",
       "      <td>0</td>\n",
       "      <td>https://www.instagram.com/p/CaWWan2BoZc/</td>\n",
       "    </tr>\n",
       "    <tr>\n",
       "      <th>4</th>\n",
       "      <td>2022-02-22</td>\n",
       "      <td>Invigorating city of youth, Hanam City of Gyeo...</td>\n",
       "      <td>145</td>\n",
       "      <td>29</td>\n",
       "      <td>2</td>\n",
       "      <td>2</td>\n",
       "      <td>0</td>\n",
       "      <td>https://www.instagram.com/p/CaRgX_svAjY/</td>\n",
       "    </tr>\n",
       "    <tr>\n",
       "      <th>5</th>\n",
       "      <td>2022-02-18</td>\n",
       "      <td>Guri City of Gyeonggi Province, where history ...</td>\n",
       "      <td>176</td>\n",
       "      <td>21</td>\n",
       "      <td>0</td>\n",
       "      <td>0</td>\n",
       "      <td>0</td>\n",
       "      <td>https://www.instagram.com/p/CaG5pIbv7MV/</td>\n",
       "    </tr>\n",
       "  </tbody>\n",
       "</table>\n",
       "</div>"
      ],
      "text/plain": [
       "           날짜                                                 제목  조회수  좋아요_수  \\\n",
       "0  2022-03-04  Have you heard? (whispering)😝\\nKorea’s first-e...  145     21   \n",
       "1  2022-03-02  A complete guide to unique cafés in Yongin Cit...  155     27   \n",
       "2  2022-02-28  Mystical constellations and planets🌎,\\nDon’t y...  124     24   \n",
       "3  2022-02-24  Shall we take a day trip\\nto nature-friendly U...  151     26   \n",
       "4  2022-02-22  Invigorating city of youth, Hanam City of Gyeo...  145     29   \n",
       "5  2022-02-18  Guri City of Gyeonggi Province, where history ...  176     21   \n",
       "\n",
       "   공유수  댓글수  팔로워_수                                        링크  \n",
       "0    0    1   9761  https://www.instagram.com/p/CarTSR8hpjk/  \n",
       "1    0    0      0  https://www.instagram.com/p/CamCGL3LSHX/  \n",
       "2    0    0      0  https://www.instagram.com/p/Cag862TrWuX/  \n",
       "3    0    0      0  https://www.instagram.com/p/CaWWan2BoZc/  \n",
       "4    2    2      0  https://www.instagram.com/p/CaRgX_svAjY/  \n",
       "5    0    0      0  https://www.instagram.com/p/CaG5pIbv7MV/  "
      ]
     },
     "execution_count": 7,
     "metadata": {},
     "output_type": "execute_result"
    }
   ],
   "source": [
    "# 수집한 데이터를 데이터 셋으로 만들기\n",
    "df = {'날짜':date_list, '제목':title_list, '조회수':num_view_list,\n",
    "      '좋아요_수':num_like_list, '공유수':num_share_list, '댓글수':num_comment_list, '팔로워_수':num_follower_list, '링크':crawled_link_list}\n",
    "data = pd.DataFrame(df)\n",
    "data"
   ]
  },
  {
   "cell_type": "code",
   "execution_count": 8,
   "metadata": {},
   "outputs": [],
   "source": [
    "# 수집한 데이터 파일로 출력하기\n",
    "file_name = str(datetime.today().strftime(\"%Y%m%d-%H%M%S\"))\n",
    "file_name = 'instagram_' + file_name + '.xlsx'\n",
    "path = './crawling_data/instagram/'\n",
    "data.to_excel(path+file_name, index=False, encoding='utf-8')"
   ]
  },
  {
   "cell_type": "markdown",
   "metadata": {},
   "source": [
    "# 코드 마지막"
   ]
  }
 ],
 "metadata": {
  "interpreter": {
   "hash": "513dc2e41d739bb2c947903f3c0bbf636d03aa53ab50e61c694a27481c81805e"
  },
  "kernelspec": {
   "display_name": "Python 3.8.8 ('base')",
   "language": "python",
   "name": "python3"
  },
  "language_info": {
   "codemirror_mode": {
    "name": "ipython",
    "version": 3
   },
   "file_extension": ".py",
   "mimetype": "text/x-python",
   "name": "python",
   "nbconvert_exporter": "python",
   "pygments_lexer": "ipython3",
   "version": "3.8.8"
  },
  "orig_nbformat": 4
 },
 "nbformat": 4,
 "nbformat_minor": 2
}
