{
 "cells": [
  {
   "cell_type": "markdown",
   "metadata": {},
   "source": [
    "# 페이스북 크롤링"
   ]
  },
  {
   "cell_type": "code",
   "execution_count": 31,
   "metadata": {},
   "outputs": [],
   "source": [
    "# 페이지 스크롤 횟수 설정\n",
    "num_scrolldown = 20"
   ]
  },
  {
   "cell_type": "code",
   "execution_count": 32,
   "metadata": {},
   "outputs": [],
   "source": [
    "from bs4 import BeautifulSoup as bs\n",
    "import time\n",
    "import random\n",
    "from datetime import datetime\n",
    "from selenium import webdriver\n",
    "import chromedriver_autoinstaller as ca"
   ]
  },
  {
   "cell_type": "code",
   "execution_count": 33,
   "metadata": {},
   "outputs": [],
   "source": [
    "import pandas as pd"
   ]
  },
  {
   "cell_type": "markdown",
   "metadata": {},
   "source": [
    "## 크롤링할 사이트 접속"
   ]
  },
  {
   "cell_type": "code",
   "execution_count": 34,
   "metadata": {},
   "outputs": [],
   "source": [
    "# 크롤링할 웹사이트 주소\n",
    "url = 'https://www.facebook.com/GyeonggiKorea.en'\n",
    "\n",
    "# webdriver 로드\n",
    "ca.install(True)\n",
    "driver = webdriver.Chrome()\n",
    "driver.get(url)\n",
    "time.sleep(3)\n",
    "driver.implicitly_wait(5)\n",
    "\n",
    "# 창 최대화\n",
    "driver.maximize_window()\n",
    "time.sleep(1)"
   ]
  },
  {
   "cell_type": "markdown",
   "metadata": {},
   "source": [
    "## 페이지 스크롤 다운"
   ]
  },
  {
   "cell_type": "code",
   "execution_count": 35,
   "metadata": {},
   "outputs": [],
   "source": [
    "# 페이지 스크롤 다운\n",
    "for i in range(num_scrolldown):\n",
    "    driver.execute_script(\"window.scrollTo(0, document.body.scrollHeight);\")\n",
    "    time.sleep( random.uniform(1,3) )"
   ]
  },
  {
   "cell_type": "markdown",
   "metadata": {},
   "source": [
    "## 크롤링"
   ]
  },
  {
   "cell_type": "code",
   "execution_count": 37,
   "metadata": {},
   "outputs": [
    {
     "name": "stdout",
     "output_type": "stream",
     "text": [
      "Gyeonggi Korea | Facebook\n"
     ]
    }
   ],
   "source": [
    "# 페이지 크롤링\n",
    "soup = bs(driver.page_source, 'lxml')\n",
    "print(soup.title.text)"
   ]
  },
  {
   "cell_type": "code",
   "execution_count": 7,
   "metadata": {},
   "outputs": [],
   "source": [
    "# chromedriver 종료\n",
    "driver.quit()"
   ]
  },
  {
   "cell_type": "markdown",
   "metadata": {},
   "source": [
    "# 게시글 크롤링"
   ]
  },
  {
   "cell_type": "markdown",
   "metadata": {},
   "source": [
    "## 게시글 수집"
   ]
  },
  {
   "cell_type": "code",
   "execution_count": 38,
   "metadata": {},
   "outputs": [
    {
     "name": "stdout",
     "output_type": "stream",
     "text": [
      "수집한 게시글 수 :  67\n"
     ]
    }
   ],
   "source": [
    "# 게시글 개수\n",
    "div = soup.find_all('div', 'du4w35lb l9j0dhe7')\n",
    "print(\"수집한 게시글 수 : \", len(div) )"
   ]
  },
  {
   "cell_type": "markdown",
   "metadata": {},
   "source": [
    "## 날짜 수집"
   ]
  },
  {
   "cell_type": "code",
   "execution_count": 41,
   "metadata": {},
   "outputs": [
    {
     "name": "stdout",
     "output_type": "stream",
     "text": [
      "변환한 날짜 리스트 원소수 :  67\n"
     ]
    }
   ],
   "source": [
    "# 글 날짜 수집\n",
    "num_date_list = []\n",
    "for one in div:\n",
    "    raw_date_info = one.find_all('div', 'qzhwtbm6 knvmm38d')[1]\n",
    "    # raw_date = raw_date_info.find('a', 'oajrlxb2 g5ia77u1 qu0x051f esr5mh6w e9989ue4 r7d6kgcz rq0escxv nhd2j8a9 nc684nl6 p7hjln8o kvgmc6g5 cxmmr5t8 oygrvhab hcukyx3x jb3vyjys rz4wbd8a qt6c0cv9 a8nywdso i1ao9s8h esuyzwwr f1sip0of lzcic4wl gmql0nx0 gpro0wi8 b1v8xokw').attrs['aria-label']\n",
    "    raw_date = raw_date_info.find('a').attrs['aria-label']\n",
    "\n",
    "    # # 날짜 형식 변환해서 리스트로 저장\n",
    "    if ('시간' in raw_date) or ('분' in raw_date):\n",
    "        temp = datetime.today().strftime(\"%Y-%m-%d\")\n",
    "        num_date_list.append(temp)\n",
    "    elif '어제' in raw_date:\n",
    "        temp = datetime.today().strftime(\"%Y-%m-%d\")\n",
    "        temp = temp.split('-')\n",
    "        year = temp[0]\n",
    "        month = temp[1]\n",
    "        day = int( temp[2] ) - 1\n",
    "        temp_date = f'{year}-{month:0>2}-{day:0>2}'\n",
    "        num_date_list.append(temp_date)\n",
    "    else:\n",
    "        temp = raw_date.split('일')[0]\n",
    "        temp = temp.replace(' ', '')\n",
    "        temp = temp.replace('년', '-')\n",
    "        temp = temp.replace('월', '-')\n",
    "        temp_li = temp.split('-')\n",
    "        if len(temp_li) == 3 :\n",
    "            year = temp_li[0]\n",
    "            month = temp_li[1]\n",
    "            day = temp_li[2]\n",
    "            temp_date = f'{year}-{month:0>2}-{day:0>2}'\n",
    "            num_date_list.append(temp_date)\n",
    "        elif len(temp_li) == 2:\n",
    "            year = datetime.today().strftime(\"%Y\")\n",
    "            month = temp_li[0]\n",
    "            day = temp_li[1]\n",
    "            temp_date = f'{year}-{month:0>2}-{day:0>2}'\n",
    "            num_date_list.append(temp_date)\n",
    "        else:\n",
    "            temp_day = int(temp_li[0]) + 1\n",
    "            temp = datetime.today().strftime(\"%Y-%m-%d\")\n",
    "            temp = temp.split('-')\n",
    "            year = temp[0]\n",
    "            month = temp[1]\n",
    "            day = int( temp[2] ) - temp_day\n",
    "            temp_date = f'{year}-{month:0>2}-{day:0>2}'\n",
    "            num_date_list.append(temp_date)\n",
    "            \n",
    "\n",
    "print(\"변환한 날짜 리스트 원소수 : \", len(num_date_list) )"
   ]
  },
  {
   "cell_type": "code",
   "execution_count": 42,
   "metadata": {},
   "outputs": [
    {
     "data": {
      "text/plain": [
       "['2022-04-29', '2022-04-27', '2022-04-27', '2022-04-25', '2022-04-25']"
      ]
     },
     "execution_count": 42,
     "metadata": {},
     "output_type": "execute_result"
    }
   ],
   "source": [
    "num_date_list[:5]"
   ]
  },
  {
   "cell_type": "markdown",
   "metadata": {},
   "source": [
    "## 제목 수집"
   ]
  },
  {
   "cell_type": "code",
   "execution_count": 43,
   "metadata": {},
   "outputs": [
    {
     "name": "stdout",
     "output_type": "stream",
     "text": [
      "수집한 제목 수 :  67\n"
     ]
    }
   ],
   "source": [
    "# 글 제목 수집\n",
    "title_list = []\n",
    "for one in div:\n",
    "    raw_title = one.find('div', 'kvgmc6g5 cxmmr5t8 oygrvhab hcukyx3x c1et5uql ii04i59q')\n",
    "    if raw_title == None:\n",
    "        raw_title = one.find('div', 'kvgmc6g5 cxmmr5t8 oygrvhab hcukyx3x c1et5uql')\n",
    "    title = raw_title.text\n",
    "    title_list.append(title)\n",
    "\n",
    "print(\"수집한 제목 수 : \", len(title_list))"
   ]
  },
  {
   "cell_type": "code",
   "execution_count": 44,
   "metadata": {},
   "outputs": [
    {
     "data": {
      "text/plain": [
       "['Enjoy spring at the Everland Tulip Festival in Gyeonggi Province!',\n",
       " 'Gyeonggi Expands Non-Contact ‘Tagless’ Bus Fare Payment Service Throughout Province ',\n",
       " 'Song of Gyeonggi-do (‘Rest in Gyeonggi-do’)Lyrics: Kim Jihun / Composed by: Oh-Nong Project',\n",
       " 'Gyeonggi Korea X 마마무 Mamamoo Gyeonggi-do (ReMiFa) Solar (TiDo)',\n",
       " 'Travel via ‘Jebudo Cable Car’ in Gyeonggi’s Hwaseong City']"
      ]
     },
     "execution_count": 44,
     "metadata": {},
     "output_type": "execute_result"
    }
   ],
   "source": [
    "title_list[:5]"
   ]
  },
  {
   "cell_type": "markdown",
   "metadata": {},
   "source": [
    "## 조회수 수집"
   ]
  },
  {
   "cell_type": "code",
   "execution_count": 45,
   "metadata": {},
   "outputs": [
    {
     "name": "stdout",
     "output_type": "stream",
     "text": [
      "수집한 조회수 수 :  67\n"
     ]
    }
   ],
   "source": [
    "# 조회수\n",
    "num_view_list = []\n",
    "for one in div:\n",
    "    num_view_list.append(0)\n",
    "\n",
    "print(\"수집한 조회수 수 : \", len(num_view_list))"
   ]
  },
  {
   "cell_type": "code",
   "execution_count": 46,
   "metadata": {},
   "outputs": [
    {
     "data": {
      "text/plain": [
       "[0, 0, 0, 0, 0]"
      ]
     },
     "execution_count": 46,
     "metadata": {},
     "output_type": "execute_result"
    }
   ],
   "source": [
    "num_view_list[:5]"
   ]
  },
  {
   "cell_type": "markdown",
   "metadata": {},
   "source": [
    "# 좋아요 수 수집"
   ]
  },
  {
   "cell_type": "code",
   "execution_count": 47,
   "metadata": {},
   "outputs": [
    {
     "name": "stdout",
     "output_type": "stream",
     "text": [
      "좋아요 수 리스트 원소수 :  67\n"
     ]
    }
   ],
   "source": [
    "# 좋아요 수 수집\n",
    "num_like_list = []\n",
    "for one in div:\n",
    "    raw_lsc_info = one.find('div', 'bp9cbjyn j83agx80 buofh1pr ni8dbmo4 stjgntxs')\n",
    "    if raw_lsc_info == None:\n",
    "        num_like = 0\n",
    "        num_best = 0\n",
    "    else:\n",
    "        # 좋아요 수 수집\n",
    "        raw_like_info = raw_lsc_info.find('span', 'np69z8it et4y5ytx j7g94pet b74d5cxt qw6c0r16 kb8x4rkr ed597pkb omcyoz59 goun2846 ccm00jje s44p3ltw mk2mc5f4 qxh1up0x qtyiw8t4 tpcyxxvw k0bpgpbk hm271qws rl04r1d5 l9j0dhe7 ov9facns kavbgo14')\n",
    "        if raw_like_info == None:\n",
    "            num_like = 0\n",
    "        else:\n",
    "            raw_like = raw_like_info.find('div', 'oajrlxb2 gs1a9yip g5ia77u1 mtkw9kbi tlpljxtp qensuy8j ppp5ayq2 goun2846 ccm00jje s44p3ltw mk2mc5f4 rt8b4zig n8ej3o3l agehan2d sk4xxmp2 rq0escxv nhd2j8a9 mg4g778l pfnyh3mw p7hjln8o kvgmc6g5 cxmmr5t8 oygrvhab hcukyx3x tgvbjcpo hpfvmrgz jb3vyjys rz4wbd8a qt6c0cv9 a8nywdso l9j0dhe7 i1ao9s8h esuyzwwr f1sip0of du4w35lb n00je7tq arfg74bv qs9ysxi8 k77z8yql pq6dq46d btwxx1t3 abiwlrkh p8dawk7l lzcic4wl').attrs['aria-label']\n",
    "            if '천' in raw_like:\n",
    "                num_like = raw_like\n",
    "            else:\n",
    "                num_like = int(raw_like[:-1].split(' ')[-1])\n",
    "        # 최고에요 수 수집\n",
    "        raw_best_info = raw_lsc_info.find('span', 'np69z8it et4y5ytx j7g94pet b74d5cxt qw6c0r16 kb8x4rkr ed597pkb omcyoz59 goun2846 ccm00jje s44p3ltw mk2mc5f4 qxh1up0x qtyiw8t4 tpcyxxvw k0bpgpbk hm271qws rl04r1d5 l9j0dhe7 ov9facns tkr6xdv7')\n",
    "        if raw_best_info == None:\n",
    "            num_best = 0\n",
    "        else:\n",
    "            raw_best = raw_best_info.find('div', 'oajrlxb2 gs1a9yip g5ia77u1 mtkw9kbi tlpljxtp qensuy8j ppp5ayq2 goun2846 ccm00jje s44p3ltw mk2mc5f4 rt8b4zig n8ej3o3l agehan2d sk4xxmp2 rq0escxv nhd2j8a9 mg4g778l pfnyh3mw p7hjln8o kvgmc6g5 cxmmr5t8 oygrvhab hcukyx3x tgvbjcpo hpfvmrgz jb3vyjys rz4wbd8a qt6c0cv9 a8nywdso l9j0dhe7 i1ao9s8h esuyzwwr f1sip0of du4w35lb n00je7tq arfg74bv qs9ysxi8 k77z8yql pq6dq46d btwxx1t3 abiwlrkh p8dawk7l lzcic4wl').attrs['aria-label']\n",
    "            if '천' in raw_best:\n",
    "                num_best = raw_best\n",
    "            else:\n",
    "                num_best = int(raw_best[:-1].split(' ')[-1])\n",
    "\n",
    "    # 최종 좋아요 수\n",
    "    if type(num_like) == str and type(num_best) == int:\n",
    "        like = num_like + ' + ' + str(num_best)\n",
    "        num_like_list.append(like)\n",
    "    elif type(num_like) == int and type(num_best) == str:\n",
    "        like = str(num_like) + ' + ' + num_best\n",
    "        num_like_list.append(like)\n",
    "    else:\n",
    "        like = num_like + num_best\n",
    "        num_like_list.append(like)\n",
    "\n",
    "print('좋아요 수 리스트 원소수 : ',len(num_like_list))"
   ]
  },
  {
   "cell_type": "code",
   "execution_count": 48,
   "metadata": {},
   "outputs": [
    {
     "data": {
      "text/plain": [
       "[92, 21, 14, 304, 36]"
      ]
     },
     "execution_count": 48,
     "metadata": {},
     "output_type": "execute_result"
    }
   ],
   "source": [
    "num_like_list[:5]"
   ]
  },
  {
   "cell_type": "markdown",
   "metadata": {},
   "source": [
    "## 공유, 댓글 수 수집"
   ]
  },
  {
   "cell_type": "code",
   "execution_count": 49,
   "metadata": {},
   "outputs": [
    {
     "name": "stdout",
     "output_type": "stream",
     "text": [
      "공유 수의 개수 :  67\n",
      "댓글 수의 개수 :  67\n"
     ]
    }
   ],
   "source": [
    "# 공유 수, 댓글 수 수집\n",
    "num_share_list = []\n",
    "num_comment_list = []\n",
    "for one in div:\n",
    "    sc_info = one.find('div', 'bp9cbjyn j83agx80 pfnyh3mw p1ueia1e')\n",
    "    if sc_info == None:\n",
    "        num_share = 0\n",
    "        num_comment = 0\n",
    "    else:\n",
    "        sc_list = sc_info.find_all('span', 'd2edcug0 hpfvmrgz qv66sw1b c1et5uql lr9zc1uh a8c37x1j fe6kdd0r mau55g9w c8b282yb keod5gw0 nxhoafnm aigsh9s9 d3f4x2em iv3no6db jq4qci2q a3bd9o3v b1v8xokw m9osqain')\n",
    "        if (sc_list == None) or ( len(sc_list) == 0 ):\n",
    "            num_share = 0\n",
    "            num_comment = 0\n",
    "        elif len(sc_list) == 1:\n",
    "            for two in sc_list:\n",
    "                two_str = two.text\n",
    "                if '공유' in two_str:\n",
    "                    try:\n",
    "                        num_share = int(two_str[:-1].split(' ')[-1])\n",
    "                        num_comment = 0\n",
    "                    except:\n",
    "                        num_share = two_str\n",
    "                        num_comment = 0\n",
    "                elif '댓글' in two_str:\n",
    "                    try:\n",
    "                        num_comment = int(two_str[:-1].split(' ')[-1])\n",
    "                        num_share = 0\n",
    "                    except:\n",
    "                        num_comment = two_str\n",
    "                        num_share = 0\n",
    "        elif len(sc_list) == 2:\n",
    "            for two in sc_list:\n",
    "                two_str = two.text\n",
    "                if '공유' in two_str:\n",
    "                    try:\n",
    "                        num_share = int(two_str[:-1].split(' ')[-1])\n",
    "                    except:\n",
    "                        num_share = two_str\n",
    "                elif '댓글' in two_str:\n",
    "                    try:\n",
    "                        num_comment = int(two_str[:-1].split(' ')[-1])\n",
    "                    except:\n",
    "                        num_comment = two_str\n",
    "\n",
    "    num_share_list.append(num_share)\n",
    "    num_comment_list.append(num_comment)\n",
    "\n",
    "print(\"공유 수의 개수 : \", len(num_share_list))\n",
    "print(\"댓글 수의 개수 : \", len(num_comment_list))"
   ]
  },
  {
   "cell_type": "code",
   "execution_count": 50,
   "metadata": {},
   "outputs": [
    {
     "data": {
      "text/plain": [
       "[9, 7, 1, 0, 4]"
      ]
     },
     "execution_count": 50,
     "metadata": {},
     "output_type": "execute_result"
    }
   ],
   "source": [
    "num_share_list[:5]"
   ]
  },
  {
   "cell_type": "code",
   "execution_count": 51,
   "metadata": {},
   "outputs": [
    {
     "data": {
      "text/plain": [
       "[0, 0, 0, 0, 0]"
      ]
     },
     "execution_count": 51,
     "metadata": {},
     "output_type": "execute_result"
    }
   ],
   "source": [
    "num_comment_list[:5]"
   ]
  },
  {
   "cell_type": "markdown",
   "metadata": {},
   "source": [
    "### 로그인 안했을 때"
   ]
  },
  {
   "cell_type": "code",
   "execution_count": 52,
   "metadata": {},
   "outputs": [
    {
     "name": "stdout",
     "output_type": "stream",
     "text": [
      "링크 리스트 원소수 :  67\n"
     ]
    }
   ],
   "source": [
    "# 게시글 링크 수집1(로그인❌)\n",
    "link_list = []\n",
    "for one in div:\n",
    "    raw_link_info = one.find_all('div', 'qzhwtbm6 knvmm38d')[1]\n",
    "    link = raw_link_info.find('a', 'oajrlxb2 g5ia77u1 qu0x051f esr5mh6w e9989ue4 r7d6kgcz rq0escxv nhd2j8a9 nc684nl6 p7hjln8o kvgmc6g5 cxmmr5t8 oygrvhab hcukyx3x jb3vyjys rz4wbd8a qt6c0cv9 a8nywdso i1ao9s8h esuyzwwr f1sip0of lzcic4wl gmql0nx0 gpro0wi8 b1v8xokw').attrs['href'].split('?')[0]\n",
    "    link_list.append(link)\n",
    "\n",
    "print('링크 리스트 원소수 : ',len(link_list))"
   ]
  },
  {
   "cell_type": "code",
   "execution_count": 53,
   "metadata": {},
   "outputs": [
    {
     "data": {
      "text/plain": [
       "['https://www.facebook.com/GyeonggiKorea.en/posts/364891402333206',\n",
       " 'https://www.facebook.com/GyeonggiKorea.en/posts/363733182449028',\n",
       " 'https://www.facebook.com/GyeonggiKorea.en/posts/363607955794884',\n",
       " 'https://www.facebook.com/GyeonggiKorea.en/posts/362458182576528',\n",
       " 'https://www.facebook.com/GyeonggiKorea.en/posts/360680352754311']"
      ]
     },
     "execution_count": 53,
     "metadata": {},
     "output_type": "execute_result"
    }
   ],
   "source": [
    "link_list[:5]"
   ]
  },
  {
   "cell_type": "markdown",
   "metadata": {},
   "source": [
    "## 수집한 데이터 확인"
   ]
  },
  {
   "cell_type": "code",
   "execution_count": 54,
   "metadata": {},
   "outputs": [
    {
     "name": "stdout",
     "output_type": "stream",
     "text": [
      "수집한 게시글 수 :  67\n",
      "변환한 날짜 리스트 원소수 :  67\n",
      "수집한 제목 수 :  67\n",
      "수집한 조회수 수 :  67\n",
      "좋아요 수 리스트 원소수 :  67\n",
      "공유 수의 개수 :  67\n",
      "댓글 수의 개수 :  67\n",
      "링크 리스트 원소수 :  67\n"
     ]
    }
   ],
   "source": [
    "print(\"수집한 게시글 수 : \", len(div) )\n",
    "print(\"변환한 날짜 리스트 원소수 : \", len(num_date_list) )\n",
    "print(\"수집한 제목 수 : \", len(title_list))\n",
    "print(\"수집한 조회수 수 : \", len(num_view_list))\n",
    "print('좋아요 수 리스트 원소수 : ',len(num_like_list))\n",
    "print(\"공유 수의 개수 : \", len(num_share_list))\n",
    "print(\"댓글 수의 개수 : \", len(num_comment_list))\n",
    "print('링크 리스트 원소수 : ',len(link_list))"
   ]
  },
  {
   "cell_type": "markdown",
   "metadata": {},
   "source": [
    "## 데이터 셋 만들기"
   ]
  },
  {
   "cell_type": "code",
   "execution_count": 55,
   "metadata": {},
   "outputs": [
    {
     "data": {
      "text/html": [
       "<div>\n",
       "<style scoped>\n",
       "    .dataframe tbody tr th:only-of-type {\n",
       "        vertical-align: middle;\n",
       "    }\n",
       "\n",
       "    .dataframe tbody tr th {\n",
       "        vertical-align: top;\n",
       "    }\n",
       "\n",
       "    .dataframe thead th {\n",
       "        text-align: right;\n",
       "    }\n",
       "</style>\n",
       "<table border=\"1\" class=\"dataframe\">\n",
       "  <thead>\n",
       "    <tr style=\"text-align: right;\">\n",
       "      <th></th>\n",
       "      <th>날짜</th>\n",
       "      <th>제목</th>\n",
       "      <th>조회수</th>\n",
       "      <th>좋아요_수</th>\n",
       "      <th>공유수</th>\n",
       "      <th>댓글수</th>\n",
       "      <th>링크</th>\n",
       "    </tr>\n",
       "  </thead>\n",
       "  <tbody>\n",
       "    <tr>\n",
       "      <th>0</th>\n",
       "      <td>2022-04-29</td>\n",
       "      <td>Enjoy spring at the Everland Tulip Festival in...</td>\n",
       "      <td>0</td>\n",
       "      <td>92</td>\n",
       "      <td>9</td>\n",
       "      <td>0</td>\n",
       "      <td>https://www.facebook.com/GyeonggiKorea.en/post...</td>\n",
       "    </tr>\n",
       "    <tr>\n",
       "      <th>1</th>\n",
       "      <td>2022-04-27</td>\n",
       "      <td>Gyeonggi Expands Non-Contact ‘Tagless’ Bus Far...</td>\n",
       "      <td>0</td>\n",
       "      <td>21</td>\n",
       "      <td>7</td>\n",
       "      <td>0</td>\n",
       "      <td>https://www.facebook.com/GyeonggiKorea.en/post...</td>\n",
       "    </tr>\n",
       "    <tr>\n",
       "      <th>2</th>\n",
       "      <td>2022-04-27</td>\n",
       "      <td>Song of Gyeonggi-do (‘Rest in Gyeonggi-do’)Lyr...</td>\n",
       "      <td>0</td>\n",
       "      <td>14</td>\n",
       "      <td>1</td>\n",
       "      <td>0</td>\n",
       "      <td>https://www.facebook.com/GyeonggiKorea.en/post...</td>\n",
       "    </tr>\n",
       "    <tr>\n",
       "      <th>3</th>\n",
       "      <td>2022-04-25</td>\n",
       "      <td>Gyeonggi Korea X 마마무 Mamamoo Gyeonggi-do (ReMi...</td>\n",
       "      <td>0</td>\n",
       "      <td>304</td>\n",
       "      <td>0</td>\n",
       "      <td>0</td>\n",
       "      <td>https://www.facebook.com/GyeonggiKorea.en/post...</td>\n",
       "    </tr>\n",
       "    <tr>\n",
       "      <th>4</th>\n",
       "      <td>2022-04-25</td>\n",
       "      <td>Travel via ‘Jebudo Cable Car’ in Gyeonggi’s Hw...</td>\n",
       "      <td>0</td>\n",
       "      <td>36</td>\n",
       "      <td>4</td>\n",
       "      <td>0</td>\n",
       "      <td>https://www.facebook.com/GyeonggiKorea.en/post...</td>\n",
       "    </tr>\n",
       "    <tr>\n",
       "      <th>...</th>\n",
       "      <td>...</td>\n",
       "      <td>...</td>\n",
       "      <td>...</td>\n",
       "      <td>...</td>\n",
       "      <td>...</td>\n",
       "      <td>...</td>\n",
       "      <td>...</td>\n",
       "    </tr>\n",
       "    <tr>\n",
       "      <th>62</th>\n",
       "      <td>2022-01-01</td>\n",
       "      <td>Happy New Year! We hope you have a happy year...</td>\n",
       "      <td>0</td>\n",
       "      <td>808</td>\n",
       "      <td>20</td>\n",
       "      <td>34</td>\n",
       "      <td>https://www.facebook.com/GyeonggiKorea.en/post...</td>\n",
       "    </tr>\n",
       "    <tr>\n",
       "      <th>63</th>\n",
       "      <td>2021-12-31</td>\n",
       "      <td>Good bye, 2021 Explore the top four destinatio...</td>\n",
       "      <td>0</td>\n",
       "      <td>1031</td>\n",
       "      <td>29</td>\n",
       "      <td>14</td>\n",
       "      <td>https://www.facebook.com/GyeonggiKorea.en/post...</td>\n",
       "    </tr>\n",
       "    <tr>\n",
       "      <th>64</th>\n",
       "      <td>2021-12-29</td>\n",
       "      <td>Let's Warm Up at Hot Springs in Gyeonggi Prov...</td>\n",
       "      <td>0</td>\n",
       "      <td>좋아요: 1천명 + 97</td>\n",
       "      <td>19</td>\n",
       "      <td>6</td>\n",
       "      <td>https://www.facebook.com/GyeonggiKorea.en/post...</td>\n",
       "    </tr>\n",
       "    <tr>\n",
       "      <th>65</th>\n",
       "      <td>2021-12-24</td>\n",
       "      <td>Romantic Winter Travel Destinations for Christ...</td>\n",
       "      <td>0</td>\n",
       "      <td>좋아요: 1천명 + 111</td>\n",
       "      <td>31</td>\n",
       "      <td>10</td>\n",
       "      <td>https://www.facebook.com/GyeonggiKorea.en/post...</td>\n",
       "    </tr>\n",
       "    <tr>\n",
       "      <th>66</th>\n",
       "      <td>2021-12-24</td>\n",
       "      <td>Catch this week's #GTV English #News for the l...</td>\n",
       "      <td>0</td>\n",
       "      <td>29</td>\n",
       "      <td>0</td>\n",
       "      <td>0</td>\n",
       "      <td>https://www.facebook.com/GyeonggiKorea.en/post...</td>\n",
       "    </tr>\n",
       "  </tbody>\n",
       "</table>\n",
       "<p>67 rows × 7 columns</p>\n",
       "</div>"
      ],
      "text/plain": [
       "            날짜                                                 제목  조회수  \\\n",
       "0   2022-04-29  Enjoy spring at the Everland Tulip Festival in...    0   \n",
       "1   2022-04-27  Gyeonggi Expands Non-Contact ‘Tagless’ Bus Far...    0   \n",
       "2   2022-04-27  Song of Gyeonggi-do (‘Rest in Gyeonggi-do’)Lyr...    0   \n",
       "3   2022-04-25  Gyeonggi Korea X 마마무 Mamamoo Gyeonggi-do (ReMi...    0   \n",
       "4   2022-04-25  Travel via ‘Jebudo Cable Car’ in Gyeonggi’s Hw...    0   \n",
       "..         ...                                                ...  ...   \n",
       "62  2022-01-01   Happy New Year! We hope you have a happy year...    0   \n",
       "63  2021-12-31  Good bye, 2021 Explore the top four destinatio...    0   \n",
       "64  2021-12-29   Let's Warm Up at Hot Springs in Gyeonggi Prov...    0   \n",
       "65  2021-12-24  Romantic Winter Travel Destinations for Christ...    0   \n",
       "66  2021-12-24  Catch this week's #GTV English #News for the l...    0   \n",
       "\n",
       "             좋아요_수  공유수  댓글수  \\\n",
       "0               92    9    0   \n",
       "1               21    7    0   \n",
       "2               14    1    0   \n",
       "3              304    0    0   \n",
       "4               36    4    0   \n",
       "..             ...  ...  ...   \n",
       "62             808   20   34   \n",
       "63            1031   29   14   \n",
       "64   좋아요: 1천명 + 97   19    6   \n",
       "65  좋아요: 1천명 + 111   31   10   \n",
       "66              29    0    0   \n",
       "\n",
       "                                                   링크  \n",
       "0   https://www.facebook.com/GyeonggiKorea.en/post...  \n",
       "1   https://www.facebook.com/GyeonggiKorea.en/post...  \n",
       "2   https://www.facebook.com/GyeonggiKorea.en/post...  \n",
       "3   https://www.facebook.com/GyeonggiKorea.en/post...  \n",
       "4   https://www.facebook.com/GyeonggiKorea.en/post...  \n",
       "..                                                ...  \n",
       "62  https://www.facebook.com/GyeonggiKorea.en/post...  \n",
       "63  https://www.facebook.com/GyeonggiKorea.en/post...  \n",
       "64  https://www.facebook.com/GyeonggiKorea.en/post...  \n",
       "65  https://www.facebook.com/GyeonggiKorea.en/post...  \n",
       "66  https://www.facebook.com/GyeonggiKorea.en/post...  \n",
       "\n",
       "[67 rows x 7 columns]"
      ]
     },
     "execution_count": 55,
     "metadata": {},
     "output_type": "execute_result"
    }
   ],
   "source": [
    "# 수집 데이터를 데이터 셋으로 만들기\n",
    "df = {'날짜':num_date_list, '제목':title_list, '조회수':num_view_list, '좋아요_수':num_like_list, '공유수':num_share_list, '댓글수':num_comment_list, '링크':link_list}\n",
    "data = pd.DataFrame(df)\n",
    "data"
   ]
  },
  {
   "cell_type": "markdown",
   "metadata": {},
   "source": [
    "## 데이터 셋. 날짜로 슬라이싱"
   ]
  },
  {
   "cell_type": "code",
   "execution_count": 56,
   "metadata": {},
   "outputs": [
    {
     "data": {
      "text/html": [
       "<div>\n",
       "<style scoped>\n",
       "    .dataframe tbody tr th:only-of-type {\n",
       "        vertical-align: middle;\n",
       "    }\n",
       "\n",
       "    .dataframe tbody tr th {\n",
       "        vertical-align: top;\n",
       "    }\n",
       "\n",
       "    .dataframe thead th {\n",
       "        text-align: right;\n",
       "    }\n",
       "</style>\n",
       "<table border=\"1\" class=\"dataframe\">\n",
       "  <thead>\n",
       "    <tr style=\"text-align: right;\">\n",
       "      <th></th>\n",
       "      <th>날짜</th>\n",
       "      <th>제목</th>\n",
       "      <th>조회수</th>\n",
       "      <th>좋아요_수</th>\n",
       "      <th>공유수</th>\n",
       "      <th>댓글수</th>\n",
       "      <th>링크</th>\n",
       "    </tr>\n",
       "  </thead>\n",
       "  <tbody>\n",
       "    <tr>\n",
       "      <th>0</th>\n",
       "      <td>2022-04-29</td>\n",
       "      <td>Enjoy spring at the Everland Tulip Festival in...</td>\n",
       "      <td>0</td>\n",
       "      <td>92</td>\n",
       "      <td>9</td>\n",
       "      <td>0</td>\n",
       "      <td>https://www.facebook.com/GyeonggiKorea.en/post...</td>\n",
       "    </tr>\n",
       "    <tr>\n",
       "      <th>1</th>\n",
       "      <td>2022-04-27</td>\n",
       "      <td>Gyeonggi Expands Non-Contact ‘Tagless’ Bus Far...</td>\n",
       "      <td>0</td>\n",
       "      <td>21</td>\n",
       "      <td>7</td>\n",
       "      <td>0</td>\n",
       "      <td>https://www.facebook.com/GyeonggiKorea.en/post...</td>\n",
       "    </tr>\n",
       "    <tr>\n",
       "      <th>2</th>\n",
       "      <td>2022-04-27</td>\n",
       "      <td>Song of Gyeonggi-do (‘Rest in Gyeonggi-do’)Lyr...</td>\n",
       "      <td>0</td>\n",
       "      <td>14</td>\n",
       "      <td>1</td>\n",
       "      <td>0</td>\n",
       "      <td>https://www.facebook.com/GyeonggiKorea.en/post...</td>\n",
       "    </tr>\n",
       "    <tr>\n",
       "      <th>3</th>\n",
       "      <td>2022-04-25</td>\n",
       "      <td>Gyeonggi Korea X 마마무 Mamamoo Gyeonggi-do (ReMi...</td>\n",
       "      <td>0</td>\n",
       "      <td>304</td>\n",
       "      <td>0</td>\n",
       "      <td>0</td>\n",
       "      <td>https://www.facebook.com/GyeonggiKorea.en/post...</td>\n",
       "    </tr>\n",
       "    <tr>\n",
       "      <th>4</th>\n",
       "      <td>2022-04-25</td>\n",
       "      <td>Travel via ‘Jebudo Cable Car’ in Gyeonggi’s Hw...</td>\n",
       "      <td>0</td>\n",
       "      <td>36</td>\n",
       "      <td>4</td>\n",
       "      <td>0</td>\n",
       "      <td>https://www.facebook.com/GyeonggiKorea.en/post...</td>\n",
       "    </tr>\n",
       "    <tr>\n",
       "      <th>...</th>\n",
       "      <td>...</td>\n",
       "      <td>...</td>\n",
       "      <td>...</td>\n",
       "      <td>...</td>\n",
       "      <td>...</td>\n",
       "      <td>...</td>\n",
       "      <td>...</td>\n",
       "    </tr>\n",
       "    <tr>\n",
       "      <th>58</th>\n",
       "      <td>2022-01-08</td>\n",
       "      <td>Catch this week's #GTV English #News for the l...</td>\n",
       "      <td>0</td>\n",
       "      <td>24</td>\n",
       "      <td>0</td>\n",
       "      <td>0</td>\n",
       "      <td>https://www.facebook.com/GyeonggiKorea.en/post...</td>\n",
       "    </tr>\n",
       "    <tr>\n",
       "      <th>59</th>\n",
       "      <td>2022-01-07</td>\n",
       "      <td>Contactless payment service launched on Gyeong...</td>\n",
       "      <td>0</td>\n",
       "      <td>67</td>\n",
       "      <td>1</td>\n",
       "      <td>1</td>\n",
       "      <td>https://www.facebook.com/GyeonggiKorea.en/post...</td>\n",
       "    </tr>\n",
       "    <tr>\n",
       "      <th>60</th>\n",
       "      <td>2022-01-05</td>\n",
       "      <td>How should you take care of dry skin in the wi...</td>\n",
       "      <td>0</td>\n",
       "      <td>352</td>\n",
       "      <td>20</td>\n",
       "      <td>0</td>\n",
       "      <td>https://www.facebook.com/GyeonggiKorea.en/post...</td>\n",
       "    </tr>\n",
       "    <tr>\n",
       "      <th>61</th>\n",
       "      <td>2022-01-02</td>\n",
       "      <td>Catch this week's #GTV English #News for the l...</td>\n",
       "      <td>0</td>\n",
       "      <td>34</td>\n",
       "      <td>0</td>\n",
       "      <td>0</td>\n",
       "      <td>https://www.facebook.com/GyeonggiKorea.en/post...</td>\n",
       "    </tr>\n",
       "    <tr>\n",
       "      <th>62</th>\n",
       "      <td>2022-01-01</td>\n",
       "      <td>Happy New Year! We hope you have a happy year...</td>\n",
       "      <td>0</td>\n",
       "      <td>808</td>\n",
       "      <td>20</td>\n",
       "      <td>34</td>\n",
       "      <td>https://www.facebook.com/GyeonggiKorea.en/post...</td>\n",
       "    </tr>\n",
       "  </tbody>\n",
       "</table>\n",
       "<p>63 rows × 7 columns</p>\n",
       "</div>"
      ],
      "text/plain": [
       "            날짜                                                 제목  조회수 좋아요_수  \\\n",
       "0   2022-04-29  Enjoy spring at the Everland Tulip Festival in...    0    92   \n",
       "1   2022-04-27  Gyeonggi Expands Non-Contact ‘Tagless’ Bus Far...    0    21   \n",
       "2   2022-04-27  Song of Gyeonggi-do (‘Rest in Gyeonggi-do’)Lyr...    0    14   \n",
       "3   2022-04-25  Gyeonggi Korea X 마마무 Mamamoo Gyeonggi-do (ReMi...    0   304   \n",
       "4   2022-04-25  Travel via ‘Jebudo Cable Car’ in Gyeonggi’s Hw...    0    36   \n",
       "..         ...                                                ...  ...   ...   \n",
       "58  2022-01-08  Catch this week's #GTV English #News for the l...    0    24   \n",
       "59  2022-01-07  Contactless payment service launched on Gyeong...    0    67   \n",
       "60  2022-01-05  How should you take care of dry skin in the wi...    0   352   \n",
       "61  2022-01-02  Catch this week's #GTV English #News for the l...    0    34   \n",
       "62  2022-01-01   Happy New Year! We hope you have a happy year...    0   808   \n",
       "\n",
       "    공유수  댓글수                                                 링크  \n",
       "0     9    0  https://www.facebook.com/GyeonggiKorea.en/post...  \n",
       "1     7    0  https://www.facebook.com/GyeonggiKorea.en/post...  \n",
       "2     1    0  https://www.facebook.com/GyeonggiKorea.en/post...  \n",
       "3     0    0  https://www.facebook.com/GyeonggiKorea.en/post...  \n",
       "4     4    0  https://www.facebook.com/GyeonggiKorea.en/post...  \n",
       "..  ...  ...                                                ...  \n",
       "58    0    0  https://www.facebook.com/GyeonggiKorea.en/post...  \n",
       "59    1    1  https://www.facebook.com/GyeonggiKorea.en/post...  \n",
       "60   20    0  https://www.facebook.com/GyeonggiKorea.en/post...  \n",
       "61    0    0  https://www.facebook.com/GyeonggiKorea.en/post...  \n",
       "62   20   34  https://www.facebook.com/GyeonggiKorea.en/post...  \n",
       "\n",
       "[63 rows x 7 columns]"
      ]
     },
     "execution_count": 56,
     "metadata": {},
     "output_type": "execute_result"
    }
   ],
   "source": [
    "data2 = data[data['날짜'] >= '2022-01-01']\n",
    "data2"
   ]
  },
  {
   "cell_type": "markdown",
   "metadata": {},
   "source": [
    "## 필요한 데이터만 추출"
   ]
  },
  {
   "cell_type": "code",
   "execution_count": 57,
   "metadata": {},
   "outputs": [
    {
     "data": {
      "text/plain": [
       "(15, [6, 10, 14, 17, 22, 26, 28, 31, 35, 38, 41, 44, 54, 58, 61])"
      ]
     },
     "execution_count": 57,
     "metadata": {},
     "output_type": "execute_result"
    }
   ],
   "source": [
    "# 작성 게시글만 추출\n",
    "removed_words = [\"Catch this\", \"[\"]\n",
    "\n",
    "# 제거할 단어 들어있는 행 인덱스 찾기\n",
    "temp = data2['제목'].to_list()\n",
    "remove_index = []\n",
    "for i, s in enumerate(temp):\n",
    "    for one in removed_words:\n",
    "        if one in s:\n",
    "            remove_index.append(i)\n",
    "len(remove_index), remove_index"
   ]
  },
  {
   "cell_type": "code",
   "execution_count": 58,
   "metadata": {},
   "outputs": [
    {
     "data": {
      "text/plain": [
       "(15, [6, 10, 14, 17, 22, 26, 28, 31, 35, 38, 41, 44, 54, 58, 61])"
      ]
     },
     "execution_count": 58,
     "metadata": {},
     "output_type": "execute_result"
    }
   ],
   "source": [
    "# 중복 인덱스 제거\n",
    "mod_remove_index = []\n",
    "for i in remove_index:\n",
    "    if i not in mod_remove_index:\n",
    "        mod_remove_index.append(i)\n",
    "\n",
    "len(mod_remove_index), mod_remove_index"
   ]
  },
  {
   "cell_type": "markdown",
   "metadata": {},
   "source": [
    "## 데이터 셋. 인덱스 내림차순으로 정렬"
   ]
  },
  {
   "cell_type": "code",
   "execution_count": 59,
   "metadata": {},
   "outputs": [
    {
     "data": {
      "text/html": [
       "<div>\n",
       "<style scoped>\n",
       "    .dataframe tbody tr th:only-of-type {\n",
       "        vertical-align: middle;\n",
       "    }\n",
       "\n",
       "    .dataframe tbody tr th {\n",
       "        vertical-align: top;\n",
       "    }\n",
       "\n",
       "    .dataframe thead th {\n",
       "        text-align: right;\n",
       "    }\n",
       "</style>\n",
       "<table border=\"1\" class=\"dataframe\">\n",
       "  <thead>\n",
       "    <tr style=\"text-align: right;\">\n",
       "      <th></th>\n",
       "      <th>날짜</th>\n",
       "      <th>제목</th>\n",
       "      <th>조회수</th>\n",
       "      <th>좋아요_수</th>\n",
       "      <th>공유수</th>\n",
       "      <th>댓글수</th>\n",
       "      <th>링크</th>\n",
       "    </tr>\n",
       "  </thead>\n",
       "  <tbody>\n",
       "    <tr>\n",
       "      <th>47</th>\n",
       "      <td>2022-01-01</td>\n",
       "      <td>Happy New Year! We hope you have a happy year...</td>\n",
       "      <td>0</td>\n",
       "      <td>808</td>\n",
       "      <td>20</td>\n",
       "      <td>34</td>\n",
       "      <td>https://www.facebook.com/GyeonggiKorea.en/post...</td>\n",
       "    </tr>\n",
       "    <tr>\n",
       "      <th>46</th>\n",
       "      <td>2022-01-05</td>\n",
       "      <td>How should you take care of dry skin in the wi...</td>\n",
       "      <td>0</td>\n",
       "      <td>352</td>\n",
       "      <td>20</td>\n",
       "      <td>0</td>\n",
       "      <td>https://www.facebook.com/GyeonggiKorea.en/post...</td>\n",
       "    </tr>\n",
       "    <tr>\n",
       "      <th>45</th>\n",
       "      <td>2022-01-07</td>\n",
       "      <td>Contactless payment service launched on Gyeong...</td>\n",
       "      <td>0</td>\n",
       "      <td>67</td>\n",
       "      <td>1</td>\n",
       "      <td>1</td>\n",
       "      <td>https://www.facebook.com/GyeonggiKorea.en/post...</td>\n",
       "    </tr>\n",
       "    <tr>\n",
       "      <th>44</th>\n",
       "      <td>2022-01-08</td>\n",
       "      <td>Gyeonggi-do’s Pyeongtaek is a certified child-...</td>\n",
       "      <td>0</td>\n",
       "      <td>768</td>\n",
       "      <td>8</td>\n",
       "      <td>12</td>\n",
       "      <td>https://www.facebook.com/GyeonggiKorea.en/post...</td>\n",
       "    </tr>\n",
       "    <tr>\n",
       "      <th>43</th>\n",
       "      <td>2022-01-13</td>\n",
       "      <td>5 Metaverse Travel Spots in Siheung City, Gye...</td>\n",
       "      <td>0</td>\n",
       "      <td>548</td>\n",
       "      <td>12</td>\n",
       "      <td>7</td>\n",
       "      <td>https://www.facebook.com/GyeonggiKorea.en/post...</td>\n",
       "    </tr>\n",
       "    <tr>\n",
       "      <th>42</th>\n",
       "      <td>2022-01-15</td>\n",
       "      <td>Gyeonggi Province’s Anyang City runs Korea’s f...</td>\n",
       "      <td>0</td>\n",
       "      <td>584</td>\n",
       "      <td>16</td>\n",
       "      <td>6</td>\n",
       "      <td>https://www.facebook.com/GyeonggiKorea.en/post...</td>\n",
       "    </tr>\n",
       "    <tr>\n",
       "      <th>41</th>\n",
       "      <td>2022-01-17</td>\n",
       "      <td>Gyeonggi Province publishes K-culture report</td>\n",
       "      <td>0</td>\n",
       "      <td>433</td>\n",
       "      <td>15</td>\n",
       "      <td>8</td>\n",
       "      <td>https://www.facebook.com/GyeonggiKorea.en/post...</td>\n",
       "    </tr>\n",
       "    <tr>\n",
       "      <th>40</th>\n",
       "      <td>2022-01-20</td>\n",
       "      <td>Abandoned wastewater treatment plant transform...</td>\n",
       "      <td>0</td>\n",
       "      <td>73</td>\n",
       "      <td>3</td>\n",
       "      <td>3</td>\n",
       "      <td>https://www.facebook.com/GyeonggiKorea.en/post...</td>\n",
       "    </tr>\n",
       "    <tr>\n",
       "      <th>39</th>\n",
       "      <td>2022-01-24</td>\n",
       "      <td>Gyeonggi Peace Plaza: Filled with captivating ...</td>\n",
       "      <td>0</td>\n",
       "      <td>47</td>\n",
       "      <td>0</td>\n",
       "      <td>0</td>\n",
       "      <td>https://www.facebook.com/GyeonggiKorea.en/post...</td>\n",
       "    </tr>\n",
       "    <tr>\n",
       "      <th>38</th>\n",
       "      <td>2022-01-26</td>\n",
       "      <td>Gyeonggi Happiness Shop achieves record-break...</td>\n",
       "      <td>0</td>\n",
       "      <td>45</td>\n",
       "      <td>0</td>\n",
       "      <td>0</td>\n",
       "      <td>https://www.facebook.com/GyeonggiKorea.en/post...</td>\n",
       "    </tr>\n",
       "    <tr>\n",
       "      <th>37</th>\n",
       "      <td>2022-01-27</td>\n",
       "      <td>Introducing famous Gyeonggi Province tourist a...</td>\n",
       "      <td>0</td>\n",
       "      <td>39</td>\n",
       "      <td>0</td>\n",
       "      <td>2</td>\n",
       "      <td>https://www.facebook.com/GyeonggiKorea.en/post...</td>\n",
       "    </tr>\n",
       "    <tr>\n",
       "      <th>36</th>\n",
       "      <td>2022-02-04</td>\n",
       "      <td>A trip for making memories with your family: O...</td>\n",
       "      <td>0</td>\n",
       "      <td>38</td>\n",
       "      <td>0</td>\n",
       "      <td>2</td>\n",
       "      <td>https://www.facebook.com/GyeonggiKorea.en/post...</td>\n",
       "    </tr>\n",
       "    <tr>\n",
       "      <th>35</th>\n",
       "      <td>2022-02-06</td>\n",
       "      <td>Gyeonggi Nambu Police Agency expands ‘Driver’s...</td>\n",
       "      <td>0</td>\n",
       "      <td>24</td>\n",
       "      <td>1</td>\n",
       "      <td>0</td>\n",
       "      <td>https://www.facebook.com/GyeonggiKorea.en/post...</td>\n",
       "    </tr>\n",
       "    <tr>\n",
       "      <th>34</th>\n",
       "      <td>2022-02-08</td>\n",
       "      <td>Gyeonggi Province Tourism Development Plan - C...</td>\n",
       "      <td>0</td>\n",
       "      <td>32</td>\n",
       "      <td>1</td>\n",
       "      <td>0</td>\n",
       "      <td>https://www.facebook.com/GyeonggiKorea.en/post...</td>\n",
       "    </tr>\n",
       "    <tr>\n",
       "      <th>33</th>\n",
       "      <td>2022-02-10</td>\n",
       "      <td>A healing travel course in Pocheon City of Gye...</td>\n",
       "      <td>0</td>\n",
       "      <td>38</td>\n",
       "      <td>2</td>\n",
       "      <td>2</td>\n",
       "      <td>https://www.facebook.com/GyeonggiKorea.en/post...</td>\n",
       "    </tr>\n",
       "    <tr>\n",
       "      <th>32</th>\n",
       "      <td>2022-02-15</td>\n",
       "      <td>Famous for family trips: Yangtte Farm in Gyeon...</td>\n",
       "      <td>0</td>\n",
       "      <td>38</td>\n",
       "      <td>3</td>\n",
       "      <td>5</td>\n",
       "      <td>https://www.facebook.com/GyeonggiKorea.en/post...</td>\n",
       "    </tr>\n",
       "    <tr>\n",
       "      <th>31</th>\n",
       "      <td>2022-02-18</td>\n",
       "      <td>Gyeonggi Province unveils Korea’s first virtua...</td>\n",
       "      <td>0</td>\n",
       "      <td>26</td>\n",
       "      <td>1</td>\n",
       "      <td>0</td>\n",
       "      <td>https://www.facebook.com/GyeonggiKorea.en/post...</td>\n",
       "    </tr>\n",
       "    <tr>\n",
       "      <th>30</th>\n",
       "      <td>2022-02-22</td>\n",
       "      <td>Gwacheon City of Gyeonggi Province, known as t...</td>\n",
       "      <td>0</td>\n",
       "      <td>18</td>\n",
       "      <td>0</td>\n",
       "      <td>0</td>\n",
       "      <td>https://www.facebook.com/GyeonggiKorea.en/post...</td>\n",
       "    </tr>\n",
       "    <tr>\n",
       "      <th>29</th>\n",
       "      <td>2022-02-24</td>\n",
       "      <td>Hwaseong Fortress of Suwon City</td>\n",
       "      <td>0</td>\n",
       "      <td>47</td>\n",
       "      <td>10</td>\n",
       "      <td>0</td>\n",
       "      <td>https://www.facebook.com/GyeonggiKorea.en/post...</td>\n",
       "    </tr>\n",
       "    <tr>\n",
       "      <th>28</th>\n",
       "      <td>2022-02-28</td>\n",
       "      <td>Gyeonggi Province is taking the initiative in ...</td>\n",
       "      <td>0</td>\n",
       "      <td>51</td>\n",
       "      <td>11</td>\n",
       "      <td>0</td>\n",
       "      <td>https://www.facebook.com/GyeonggiKorea.en/post...</td>\n",
       "    </tr>\n",
       "    <tr>\n",
       "      <th>27</th>\n",
       "      <td>2022-03-02</td>\n",
       "      <td>Gyeonggi Province promotes local tourism with ...</td>\n",
       "      <td>0</td>\n",
       "      <td>22</td>\n",
       "      <td>2</td>\n",
       "      <td>0</td>\n",
       "      <td>https://www.facebook.com/GyeonggiKorea.en/post...</td>\n",
       "    </tr>\n",
       "    <tr>\n",
       "      <th>26</th>\n",
       "      <td>2022-03-04</td>\n",
       "      <td>Gyeonggi Province’s Pocheon City provides fore...</td>\n",
       "      <td>0</td>\n",
       "      <td>23</td>\n",
       "      <td>0</td>\n",
       "      <td>0</td>\n",
       "      <td>https://www.facebook.com/GyeonggiKorea.en/post...</td>\n",
       "    </tr>\n",
       "    <tr>\n",
       "      <th>25</th>\n",
       "      <td>2022-03-08</td>\n",
       "      <td>Dongducheon Rock Festival selected as an outst...</td>\n",
       "      <td>0</td>\n",
       "      <td>12</td>\n",
       "      <td>0</td>\n",
       "      <td>0</td>\n",
       "      <td>https://www.facebook.com/GyeonggiKorea.en/post...</td>\n",
       "    </tr>\n",
       "    <tr>\n",
       "      <th>24</th>\n",
       "      <td>2022-03-10</td>\n",
       "      <td>Gyeonggi Province's Hanam City home to new LG-...</td>\n",
       "      <td>0</td>\n",
       "      <td>23</td>\n",
       "      <td>1</td>\n",
       "      <td>0</td>\n",
       "      <td>https://www.facebook.com/GyeonggiKorea.en/post...</td>\n",
       "    </tr>\n",
       "    <tr>\n",
       "      <th>23</th>\n",
       "      <td>2022-03-12</td>\n",
       "      <td>Gyeonggi Province’s Suwon City creates “Foreig...</td>\n",
       "      <td>0</td>\n",
       "      <td>25</td>\n",
       "      <td>0</td>\n",
       "      <td>0</td>\n",
       "      <td>https://www.facebook.com/GyeonggiKorea.en/post...</td>\n",
       "    </tr>\n",
       "    <tr>\n",
       "      <th>22</th>\n",
       "      <td>2022-03-15</td>\n",
       "      <td>Gyeonggi to produce and distribute tourism bro...</td>\n",
       "      <td>0</td>\n",
       "      <td>50</td>\n",
       "      <td>1</td>\n",
       "      <td>6</td>\n",
       "      <td>https://www.facebook.com/GyeonggiKorea.en/post...</td>\n",
       "    </tr>\n",
       "    <tr>\n",
       "      <th>21</th>\n",
       "      <td>2022-03-17</td>\n",
       "      <td>Successful Overseas Expansion by Local Startup...</td>\n",
       "      <td>0</td>\n",
       "      <td>19</td>\n",
       "      <td>1</td>\n",
       "      <td>0</td>\n",
       "      <td>https://www.facebook.com/GyeonggiKorea.en/post...</td>\n",
       "    </tr>\n",
       "    <tr>\n",
       "      <th>20</th>\n",
       "      <td>2022-03-19</td>\n",
       "      <td>This year, Gyeonggi Province is promoting an i...</td>\n",
       "      <td>0</td>\n",
       "      <td>26</td>\n",
       "      <td>3</td>\n",
       "      <td>2</td>\n",
       "      <td>https://www.facebook.com/GyeonggiKorea.en/post...</td>\n",
       "    </tr>\n",
       "    <tr>\n",
       "      <th>19</th>\n",
       "      <td>2022-03-21</td>\n",
       "      <td>Introduction of Gyeonggi Lifestyle Apps in Var...</td>\n",
       "      <td>0</td>\n",
       "      <td>24</td>\n",
       "      <td>3</td>\n",
       "      <td>0</td>\n",
       "      <td>https://www.facebook.com/GyeonggiKorea.en/post...</td>\n",
       "    </tr>\n",
       "    <tr>\n",
       "      <th>18</th>\n",
       "      <td>2022-03-23</td>\n",
       "      <td>Gyeonggi Launches Blockchain-based Artist Vide...</td>\n",
       "      <td>0</td>\n",
       "      <td>23</td>\n",
       "      <td>0</td>\n",
       "      <td>0</td>\n",
       "      <td>https://www.facebook.com/GyeonggiKorea.en/post...</td>\n",
       "    </tr>\n",
       "    <tr>\n",
       "      <th>17</th>\n",
       "      <td>2022-03-25</td>\n",
       "      <td>Gyeonggi‘s DRT Pilot Project</td>\n",
       "      <td>0</td>\n",
       "      <td>18</td>\n",
       "      <td>2</td>\n",
       "      <td>0</td>\n",
       "      <td>https://www.facebook.com/GyeonggiKorea.en/post...</td>\n",
       "    </tr>\n",
       "    <tr>\n",
       "      <th>16</th>\n",
       "      <td>2022-03-28</td>\n",
       "      <td>Gyeonggi Expands Tourist Attraction Developmen...</td>\n",
       "      <td>0</td>\n",
       "      <td>31</td>\n",
       "      <td>2</td>\n",
       "      <td>0</td>\n",
       "      <td>https://www.facebook.com/GyeonggiKorea.en/post...</td>\n",
       "    </tr>\n",
       "    <tr>\n",
       "      <th>15</th>\n",
       "      <td>2022-03-30</td>\n",
       "      <td>Daejanggeum Theme Park: A Renowned BTS Music V...</td>\n",
       "      <td>0</td>\n",
       "      <td>37</td>\n",
       "      <td>6</td>\n",
       "      <td>0</td>\n",
       "      <td>https://www.facebook.com/GyeonggiKorea.en/post...</td>\n",
       "    </tr>\n",
       "    <tr>\n",
       "      <th>14</th>\n",
       "      <td>2022-04-01</td>\n",
       "      <td>‘Gyeonggi-do Safety Experience Center’ to Oper...</td>\n",
       "      <td>0</td>\n",
       "      <td>79</td>\n",
       "      <td>1</td>\n",
       "      <td>0</td>\n",
       "      <td>https://www.facebook.com/GyeonggiKorea.en/post...</td>\n",
       "    </tr>\n",
       "    <tr>\n",
       "      <th>13</th>\n",
       "      <td>2022-04-04</td>\n",
       "      <td>Applications for Gyeonggi’s 13th Multicultural...</td>\n",
       "      <td>0</td>\n",
       "      <td>22</td>\n",
       "      <td>6</td>\n",
       "      <td>0</td>\n",
       "      <td>https://www.facebook.com/GyeonggiKorea.en/post...</td>\n",
       "    </tr>\n",
       "    <tr>\n",
       "      <th>12</th>\n",
       "      <td>2022-04-06</td>\n",
       "      <td>Eight Gyeonggi SMEs develop US market inroads</td>\n",
       "      <td>0</td>\n",
       "      <td>84</td>\n",
       "      <td>0</td>\n",
       "      <td>0</td>\n",
       "      <td>https://www.facebook.com/GyeonggiKorea.en/post...</td>\n",
       "    </tr>\n",
       "    <tr>\n",
       "      <th>11</th>\n",
       "      <td>2022-04-08</td>\n",
       "      <td>Korea International Boat Show 2022 celebrates ...</td>\n",
       "      <td>0</td>\n",
       "      <td>21</td>\n",
       "      <td>1</td>\n",
       "      <td>0</td>\n",
       "      <td>https://www.facebook.com/GyeonggiKorea.en/post...</td>\n",
       "    </tr>\n",
       "    <tr>\n",
       "      <th>10</th>\n",
       "      <td>2022-04-11</td>\n",
       "      <td>Gyeonggi Province develops Goyang Bamridan-gil...</td>\n",
       "      <td>0</td>\n",
       "      <td>84</td>\n",
       "      <td>4</td>\n",
       "      <td>0</td>\n",
       "      <td>https://www.facebook.com/GyeonggiKorea.en/post...</td>\n",
       "    </tr>\n",
       "    <tr>\n",
       "      <th>9</th>\n",
       "      <td>2022-04-13</td>\n",
       "      <td>Guess which “Gyeonggi Province One-Person Medi...</td>\n",
       "      <td>0</td>\n",
       "      <td>36</td>\n",
       "      <td>3</td>\n",
       "      <td>7</td>\n",
       "      <td>https://www.facebook.com/GyeonggiKorea.en/post...</td>\n",
       "    </tr>\n",
       "    <tr>\n",
       "      <th>8</th>\n",
       "      <td>2022-04-15</td>\n",
       "      <td>Gyeonggi Province campsite map</td>\n",
       "      <td>0</td>\n",
       "      <td>37</td>\n",
       "      <td>5</td>\n",
       "      <td>0</td>\n",
       "      <td>https://www.facebook.com/GyeonggiKorea.en/post...</td>\n",
       "    </tr>\n",
       "    <tr>\n",
       "      <th>7</th>\n",
       "      <td>2022-04-18</td>\n",
       "      <td>A Moment Walking at a UNESCO World Heritage Site</td>\n",
       "      <td>0</td>\n",
       "      <td>162</td>\n",
       "      <td>4</td>\n",
       "      <td>1</td>\n",
       "      <td>https://www.facebook.com/GyeonggiKorea.en/post...</td>\n",
       "    </tr>\n",
       "    <tr>\n",
       "      <th>6</th>\n",
       "      <td>2022-04-20</td>\n",
       "      <td>Gyeonggi’s COVID-19 countermeasures: Support o...</td>\n",
       "      <td>0</td>\n",
       "      <td>19</td>\n",
       "      <td>1</td>\n",
       "      <td>0</td>\n",
       "      <td>https://www.facebook.com/GyeonggiKorea.en/post...</td>\n",
       "    </tr>\n",
       "    <tr>\n",
       "      <th>5</th>\n",
       "      <td>2022-04-22</td>\n",
       "      <td>Gyeonggi Arts Center Repertory Season 2022 Tic...</td>\n",
       "      <td>0</td>\n",
       "      <td>33</td>\n",
       "      <td>0</td>\n",
       "      <td>0</td>\n",
       "      <td>https://www.facebook.com/GyeonggiKorea.en/post...</td>\n",
       "    </tr>\n",
       "    <tr>\n",
       "      <th>4</th>\n",
       "      <td>2022-04-25</td>\n",
       "      <td>Travel via ‘Jebudo Cable Car’ in Gyeonggi’s Hw...</td>\n",
       "      <td>0</td>\n",
       "      <td>36</td>\n",
       "      <td>4</td>\n",
       "      <td>0</td>\n",
       "      <td>https://www.facebook.com/GyeonggiKorea.en/post...</td>\n",
       "    </tr>\n",
       "    <tr>\n",
       "      <th>3</th>\n",
       "      <td>2022-04-25</td>\n",
       "      <td>Gyeonggi Korea X 마마무 Mamamoo Gyeonggi-do (ReMi...</td>\n",
       "      <td>0</td>\n",
       "      <td>304</td>\n",
       "      <td>0</td>\n",
       "      <td>0</td>\n",
       "      <td>https://www.facebook.com/GyeonggiKorea.en/post...</td>\n",
       "    </tr>\n",
       "    <tr>\n",
       "      <th>2</th>\n",
       "      <td>2022-04-27</td>\n",
       "      <td>Song of Gyeonggi-do (‘Rest in Gyeonggi-do’)Lyr...</td>\n",
       "      <td>0</td>\n",
       "      <td>14</td>\n",
       "      <td>1</td>\n",
       "      <td>0</td>\n",
       "      <td>https://www.facebook.com/GyeonggiKorea.en/post...</td>\n",
       "    </tr>\n",
       "    <tr>\n",
       "      <th>1</th>\n",
       "      <td>2022-04-27</td>\n",
       "      <td>Gyeonggi Expands Non-Contact ‘Tagless’ Bus Far...</td>\n",
       "      <td>0</td>\n",
       "      <td>21</td>\n",
       "      <td>7</td>\n",
       "      <td>0</td>\n",
       "      <td>https://www.facebook.com/GyeonggiKorea.en/post...</td>\n",
       "    </tr>\n",
       "    <tr>\n",
       "      <th>0</th>\n",
       "      <td>2022-04-29</td>\n",
       "      <td>Enjoy spring at the Everland Tulip Festival in...</td>\n",
       "      <td>0</td>\n",
       "      <td>92</td>\n",
       "      <td>9</td>\n",
       "      <td>0</td>\n",
       "      <td>https://www.facebook.com/GyeonggiKorea.en/post...</td>\n",
       "    </tr>\n",
       "  </tbody>\n",
       "</table>\n",
       "</div>"
      ],
      "text/plain": [
       "            날짜                                                 제목  조회수 좋아요_수  \\\n",
       "47  2022-01-01   Happy New Year! We hope you have a happy year...    0   808   \n",
       "46  2022-01-05  How should you take care of dry skin in the wi...    0   352   \n",
       "45  2022-01-07  Contactless payment service launched on Gyeong...    0    67   \n",
       "44  2022-01-08  Gyeonggi-do’s Pyeongtaek is a certified child-...    0   768   \n",
       "43  2022-01-13   5 Metaverse Travel Spots in Siheung City, Gye...    0   548   \n",
       "42  2022-01-15  Gyeonggi Province’s Anyang City runs Korea’s f...    0   584   \n",
       "41  2022-01-17       Gyeonggi Province publishes K-culture report    0   433   \n",
       "40  2022-01-20  Abandoned wastewater treatment plant transform...    0    73   \n",
       "39  2022-01-24  Gyeonggi Peace Plaza: Filled with captivating ...    0    47   \n",
       "38  2022-01-26   Gyeonggi Happiness Shop achieves record-break...    0    45   \n",
       "37  2022-01-27  Introducing famous Gyeonggi Province tourist a...    0    39   \n",
       "36  2022-02-04  A trip for making memories with your family: O...    0    38   \n",
       "35  2022-02-06  Gyeonggi Nambu Police Agency expands ‘Driver’s...    0    24   \n",
       "34  2022-02-08  Gyeonggi Province Tourism Development Plan - C...    0    32   \n",
       "33  2022-02-10  A healing travel course in Pocheon City of Gye...    0    38   \n",
       "32  2022-02-15  Famous for family trips: Yangtte Farm in Gyeon...    0    38   \n",
       "31  2022-02-18  Gyeonggi Province unveils Korea’s first virtua...    0    26   \n",
       "30  2022-02-22  Gwacheon City of Gyeonggi Province, known as t...    0    18   \n",
       "29  2022-02-24                    Hwaseong Fortress of Suwon City    0    47   \n",
       "28  2022-02-28  Gyeonggi Province is taking the initiative in ...    0    51   \n",
       "27  2022-03-02  Gyeonggi Province promotes local tourism with ...    0    22   \n",
       "26  2022-03-04  Gyeonggi Province’s Pocheon City provides fore...    0    23   \n",
       "25  2022-03-08  Dongducheon Rock Festival selected as an outst...    0    12   \n",
       "24  2022-03-10  Gyeonggi Province's Hanam City home to new LG-...    0    23   \n",
       "23  2022-03-12  Gyeonggi Province’s Suwon City creates “Foreig...    0    25   \n",
       "22  2022-03-15  Gyeonggi to produce and distribute tourism bro...    0    50   \n",
       "21  2022-03-17  Successful Overseas Expansion by Local Startup...    0    19   \n",
       "20  2022-03-19  This year, Gyeonggi Province is promoting an i...    0    26   \n",
       "19  2022-03-21  Introduction of Gyeonggi Lifestyle Apps in Var...    0    24   \n",
       "18  2022-03-23  Gyeonggi Launches Blockchain-based Artist Vide...    0    23   \n",
       "17  2022-03-25                       Gyeonggi‘s DRT Pilot Project    0    18   \n",
       "16  2022-03-28  Gyeonggi Expands Tourist Attraction Developmen...    0    31   \n",
       "15  2022-03-30  Daejanggeum Theme Park: A Renowned BTS Music V...    0    37   \n",
       "14  2022-04-01  ‘Gyeonggi-do Safety Experience Center’ to Oper...    0    79   \n",
       "13  2022-04-04  Applications for Gyeonggi’s 13th Multicultural...    0    22   \n",
       "12  2022-04-06     Eight Gyeonggi SMEs develop US market inroads     0    84   \n",
       "11  2022-04-08  Korea International Boat Show 2022 celebrates ...    0    21   \n",
       "10  2022-04-11  Gyeonggi Province develops Goyang Bamridan-gil...    0    84   \n",
       "9   2022-04-13  Guess which “Gyeonggi Province One-Person Medi...    0    36   \n",
       "8   2022-04-15                     Gyeonggi Province campsite map    0    37   \n",
       "7   2022-04-18   A Moment Walking at a UNESCO World Heritage Site    0   162   \n",
       "6   2022-04-20  Gyeonggi’s COVID-19 countermeasures: Support o...    0    19   \n",
       "5   2022-04-22  Gyeonggi Arts Center Repertory Season 2022 Tic...    0    33   \n",
       "4   2022-04-25  Travel via ‘Jebudo Cable Car’ in Gyeonggi’s Hw...    0    36   \n",
       "3   2022-04-25  Gyeonggi Korea X 마마무 Mamamoo Gyeonggi-do (ReMi...    0   304   \n",
       "2   2022-04-27  Song of Gyeonggi-do (‘Rest in Gyeonggi-do’)Lyr...    0    14   \n",
       "1   2022-04-27  Gyeonggi Expands Non-Contact ‘Tagless’ Bus Far...    0    21   \n",
       "0   2022-04-29  Enjoy spring at the Everland Tulip Festival in...    0    92   \n",
       "\n",
       "    공유수  댓글수                                                 링크  \n",
       "47   20   34  https://www.facebook.com/GyeonggiKorea.en/post...  \n",
       "46   20    0  https://www.facebook.com/GyeonggiKorea.en/post...  \n",
       "45    1    1  https://www.facebook.com/GyeonggiKorea.en/post...  \n",
       "44    8   12  https://www.facebook.com/GyeonggiKorea.en/post...  \n",
       "43   12    7  https://www.facebook.com/GyeonggiKorea.en/post...  \n",
       "42   16    6  https://www.facebook.com/GyeonggiKorea.en/post...  \n",
       "41   15    8  https://www.facebook.com/GyeonggiKorea.en/post...  \n",
       "40    3    3  https://www.facebook.com/GyeonggiKorea.en/post...  \n",
       "39    0    0  https://www.facebook.com/GyeonggiKorea.en/post...  \n",
       "38    0    0  https://www.facebook.com/GyeonggiKorea.en/post...  \n",
       "37    0    2  https://www.facebook.com/GyeonggiKorea.en/post...  \n",
       "36    0    2  https://www.facebook.com/GyeonggiKorea.en/post...  \n",
       "35    1    0  https://www.facebook.com/GyeonggiKorea.en/post...  \n",
       "34    1    0  https://www.facebook.com/GyeonggiKorea.en/post...  \n",
       "33    2    2  https://www.facebook.com/GyeonggiKorea.en/post...  \n",
       "32    3    5  https://www.facebook.com/GyeonggiKorea.en/post...  \n",
       "31    1    0  https://www.facebook.com/GyeonggiKorea.en/post...  \n",
       "30    0    0  https://www.facebook.com/GyeonggiKorea.en/post...  \n",
       "29   10    0  https://www.facebook.com/GyeonggiKorea.en/post...  \n",
       "28   11    0  https://www.facebook.com/GyeonggiKorea.en/post...  \n",
       "27    2    0  https://www.facebook.com/GyeonggiKorea.en/post...  \n",
       "26    0    0  https://www.facebook.com/GyeonggiKorea.en/post...  \n",
       "25    0    0  https://www.facebook.com/GyeonggiKorea.en/post...  \n",
       "24    1    0  https://www.facebook.com/GyeonggiKorea.en/post...  \n",
       "23    0    0  https://www.facebook.com/GyeonggiKorea.en/post...  \n",
       "22    1    6  https://www.facebook.com/GyeonggiKorea.en/post...  \n",
       "21    1    0  https://www.facebook.com/GyeonggiKorea.en/post...  \n",
       "20    3    2  https://www.facebook.com/GyeonggiKorea.en/post...  \n",
       "19    3    0  https://www.facebook.com/GyeonggiKorea.en/post...  \n",
       "18    0    0  https://www.facebook.com/GyeonggiKorea.en/post...  \n",
       "17    2    0  https://www.facebook.com/GyeonggiKorea.en/post...  \n",
       "16    2    0  https://www.facebook.com/GyeonggiKorea.en/post...  \n",
       "15    6    0  https://www.facebook.com/GyeonggiKorea.en/post...  \n",
       "14    1    0  https://www.facebook.com/GyeonggiKorea.en/post...  \n",
       "13    6    0  https://www.facebook.com/GyeonggiKorea.en/post...  \n",
       "12    0    0  https://www.facebook.com/GyeonggiKorea.en/post...  \n",
       "11    1    0  https://www.facebook.com/GyeonggiKorea.en/post...  \n",
       "10    4    0  https://www.facebook.com/GyeonggiKorea.en/post...  \n",
       "9     3    7  https://www.facebook.com/GyeonggiKorea.en/post...  \n",
       "8     5    0  https://www.facebook.com/GyeonggiKorea.en/post...  \n",
       "7     4    1  https://www.facebook.com/GyeonggiKorea.en/post...  \n",
       "6     1    0  https://www.facebook.com/GyeonggiKorea.en/post...  \n",
       "5     0    0  https://www.facebook.com/GyeonggiKorea.en/post...  \n",
       "4     4    0  https://www.facebook.com/GyeonggiKorea.en/post...  \n",
       "3     0    0  https://www.facebook.com/GyeonggiKorea.en/post...  \n",
       "2     1    0  https://www.facebook.com/GyeonggiKorea.en/post...  \n",
       "1     7    0  https://www.facebook.com/GyeonggiKorea.en/post...  \n",
       "0     9    0  https://www.facebook.com/GyeonggiKorea.en/post...  "
      ]
     },
     "execution_count": 59,
     "metadata": {},
     "output_type": "execute_result"
    }
   ],
   "source": [
    "# 인덱스 리셋, 내림차순 정렬\n",
    "data3 = data2.drop(mod_remove_index).reset_index(drop=True)\n",
    "final_data = data3.sort_index(ascending=False)\n",
    "final_data"
   ]
  },
  {
   "cell_type": "markdown",
   "metadata": {},
   "source": [
    "## 엑셀 파일로 출력"
   ]
  },
  {
   "cell_type": "code",
   "execution_count": 60,
   "metadata": {},
   "outputs": [
    {
     "name": "stdout",
     "output_type": "stream",
     "text": [
      "facebook_20220502-094505.xlsx 파일 생성 완료\n"
     ]
    }
   ],
   "source": [
    "# 수집한 데이터 파일료 출력\n",
    "file_name = str(datetime.today().strftime(\"%Y%m%d-%H%M%S\"))\n",
    "file_name = 'facebook_' + file_name + '.xlsx'\n",
    "path = 'crawled_data/facebook/'\n",
    "final_data.to_excel(path+file_name, index=False, encoding='utf-8')\n",
    "\n",
    "print(f\"{file_name} 파일 생성 완료\")"
   ]
  },
  {
   "cell_type": "markdown",
   "metadata": {},
   "source": [
    "# 코드 마지막"
   ]
  }
 ],
 "metadata": {
  "interpreter": {
   "hash": "513dc2e41d739bb2c947903f3c0bbf636d03aa53ab50e61c694a27481c81805e"
  },
  "kernelspec": {
   "display_name": "Python 3",
   "language": "python",
   "name": "python3"
  },
  "language_info": {
   "codemirror_mode": {
    "name": "ipython",
    "version": 3
   },
   "file_extension": ".py",
   "mimetype": "text/x-python",
   "name": "python",
   "nbconvert_exporter": "python",
   "pygments_lexer": "ipython3",
   "version": "3.9.7"
  }
 },
 "nbformat": 4,
 "nbformat_minor": 2
}
