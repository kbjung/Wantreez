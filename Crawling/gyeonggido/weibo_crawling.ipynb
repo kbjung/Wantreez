{
 "cells": [
  {
   "cell_type": "markdown",
   "metadata": {},
   "source": [
    "# weibo 크롤링"
   ]
  },
  {
   "cell_type": "markdown",
   "metadata": {},
   "source": [
    "## 크롤링 조건 설정"
   ]
  },
  {
   "cell_type": "code",
   "execution_count": 105,
   "metadata": {},
   "outputs": [],
   "source": [
    "# 페이지 스크롤 다운 횟수 설정(숫자가 클수록 많은 페이지 크롤링)\n",
    "num_scrolldown = 4\n",
    "# 다음 페이지 클릭 횟수\n",
    "page_number = 1\n",
    "# 날짜 설정 : \"설정 날짜\" 포함, 이후 날짜 데이터 출력됨.\n",
    "start_date = '2022-01-01'"
   ]
  },
  {
   "cell_type": "code",
   "execution_count": 2,
   "metadata": {},
   "outputs": [],
   "source": [
    "from bs4 import BeautifulSoup as bs\n",
    "import time\n",
    "import random\n",
    "from selenium import webdriver\n",
    "import pandas as pd\n",
    "from datetime import datetime\n",
    "import getpass\n",
    "import chromedriver_autoinstaller as ca"
   ]
  },
  {
   "cell_type": "markdown",
   "metadata": {},
   "source": [
    "### 페이지 로그인"
   ]
  },
  {
   "cell_type": "code",
   "execution_count": 91,
   "metadata": {},
   "outputs": [],
   "source": [
    "# 사이트 로그인\n",
    "ca.install(True)\n",
    "driver = webdriver.Chrome()\n",
    "driver.get(\"https://weibo.com/login.php\")\n",
    "time.sleep(5)\n",
    "driver.implicitly_wait(15)\n",
    "\n",
    "# 창 최대화\n",
    "driver.maximize_window()\n",
    "time.sleep(1)"
   ]
  },
  {
   "cell_type": "code",
   "execution_count": 92,
   "metadata": {},
   "outputs": [
    {
     "name": "stderr",
     "output_type": "stream",
     "text": [
      "C:\\Users\\kbjung\\AppData\\Local\\Temp/ipykernel_19156/3677500735.py:5: DeprecationWarning: find_element_by_xpath is deprecated. Please use find_element(by=By.XPATH, value=xpath) instead\n",
      "  element_id = driver.find_element_by_xpath('//*[@id=\"loginname\"]')\n",
      "C:\\Users\\kbjung\\AppData\\Local\\Temp/ipykernel_19156/3677500735.py:7: DeprecationWarning: find_element_by_xpath is deprecated. Please use find_element(by=By.XPATH, value=xpath) instead\n",
      "  element_password = driver.find_element_by_xpath('//*[@id=\"pl_login_form\"]/div/div[3]/div[2]/div/input')\n",
      "C:\\Users\\kbjung\\AppData\\Local\\Temp/ipykernel_19156/3677500735.py:18: DeprecationWarning: find_element_by_xpath is deprecated. Please use find_element(by=By.XPATH, value=xpath) instead\n",
      "  driver.find_element_by_xpath('//*[@id=\"pl_login_form\"]/div/div[3]/div[6]/a').click()\n"
     ]
    }
   ],
   "source": [
    "# 로그인 정보\n",
    "id = input(\"ID를 입력하세요 : \")\n",
    "password = getpass.getpass(\"password(비밀번호)를 입력하세요 : \")\n",
    "\n",
    "element_id = driver.find_element_by_xpath('//*[@id=\"loginname\"]')\n",
    "time.sleep(1)\n",
    "element_password = driver.find_element_by_xpath('//*[@id=\"pl_login_form\"]/div/div[3]/div[2]/div/input')\n",
    "\n",
    "element_id.clear()\n",
    "element_password.clear()\n",
    "\n",
    "element_id.send_keys(id)\n",
    "time.sleep( random.uniform(0.5, 1) )\n",
    "element_password.send_keys(password)\n",
    "time.sleep( random.uniform(0.5, 1) )\n",
    "\n",
    "##로그인버튼 클릭\n",
    "driver.find_element_by_xpath('//*[@id=\"pl_login_form\"]/div/div[3]/div[6]/a').click()\n",
    "time.sleep(5)"
   ]
  },
  {
   "cell_type": "markdown",
   "metadata": {},
   "source": [
    "### 크롤링할 페이지 접속"
   ]
  },
  {
   "cell_type": "code",
   "execution_count": 97,
   "metadata": {},
   "outputs": [],
   "source": [
    "# 페이지 접속\n",
    "url = 'https://weibo.com/p/1001066011831795/home?from=page_100106&mod=TAB#place'\n",
    "# webdriver 로드\n",
    "driver.get(url)\n",
    "time.sleep(5)\n",
    "driver.implicitly_wait(5)"
   ]
  },
  {
   "cell_type": "markdown",
   "metadata": {},
   "source": [
    "## 데이터 수집"
   ]
  },
  {
   "cell_type": "code",
   "execution_count": 98,
   "metadata": {},
   "outputs": [
    {
     "name": "stderr",
     "output_type": "stream",
     "text": [
      "C:\\Users\\kbjung\\AppData\\Local\\Temp/ipykernel_19156/1438168588.py:98: DeprecationWarning: find_element_by_xpath is deprecated. Please use find_element(by=By.XPATH, value=xpath) instead\n",
      "  driver.find_element_by_xpath('/html/body/div[1]/div/div[2]/div/div[2]/div[2]/div[4]/div/div[47]/div/a').click()\n"
     ]
    }
   ],
   "source": [
    "content_list = []\n",
    "number_view_list = []\n",
    "number_like_list = []\n",
    "number_share_list = []\n",
    "number_comment_list = []\n",
    "date_list = []\n",
    "number_follower_list = []\n",
    "link_list = []\n",
    "\n",
    "for p in range(page_number + 1):\n",
    "    # 페이지 스크롤 다운\n",
    "    for i in range(num_scrolldown):\n",
    "        driver.execute_script(\"window.scrollTo(0, document.body.scrollHeight);\")\n",
    "        time.sleep( random.uniform(1,3) )\n",
    "        driver.implicitly_wait(5)\n",
    "    \n",
    "    # 페이지 크롤링\n",
    "    soup = bs(driver.page_source, 'lxml')\n",
    "    \n",
    "    # 타이틀 수집\n",
    "    # 타이틀 첫번째 마침표까지만 가져오기\n",
    "    raw_contents = soup.find_all('div', class_='WB_text W_f14')\n",
    "    num = len(raw_contents)\n",
    "    for i in range(num):\n",
    "        content = raw_contents[i].text.strip().split('。')[0]\n",
    "        content_list.append(content)\n",
    "    #\n",
    "    #  조회수 수집\n",
    "    raw_number_view = soup.find_all('i', class_='S_txt2')\n",
    "    for i in range(len(raw_number_view)):\n",
    "        temp = raw_number_view[i].attrs['title']\n",
    "        number_view = int(temp[9:-1])\n",
    "        number_view_list.append(number_view)\n",
    "    \n",
    "    # 정보 수집\n",
    "    raw_info = soup.find_all('span', 'line S_line1')\n",
    "    \n",
    "    # 좋아요 수 수집\n",
    "    num_range = (len(raw_info) - 3) // 4 + 1\n",
    "    raw_info = soup.find_all('span', 'line S_line1')\n",
    "    for i in range(num_range):\n",
    "        num = ( i + 1 ) * 4 - 1\n",
    "        temp = raw_info[num]\n",
    "        temp = temp.find_all('em')[-1].text\n",
    "        if temp == '赞':\n",
    "            number_like = 0\n",
    "        else:\n",
    "            number_like = int(temp)\n",
    "        number_like_list.append(number_like)\n",
    "    \n",
    "    # 공유 수 수집\n",
    "    num_range = (len(raw_info) - 3) // 4 + 1\n",
    "    raw_info = soup.find_all('span', 'line S_line1')\n",
    "    for i in range(num_range):\n",
    "        num = ( i + 1 ) * 4 - 3\n",
    "        temp = raw_info[num]\n",
    "        temp = temp.find_all('em')[-1].text\n",
    "        if '转发' in temp:\n",
    "            number_share_list.append(0)\n",
    "        else:\n",
    "            number_like = int(temp)\n",
    "            number_share_list.append(number_like)\n",
    "\n",
    "    # 댓글수 수집\n",
    "    num_range_like = (len(raw_info) - 3) // 4 + 1\n",
    "    raw_info = soup.find_all('span', 'line S_line1')\n",
    "    for i in range(num_range_like):\n",
    "        num = ( i + 1 ) * 4 - 2\n",
    "        temp = raw_info[num]\n",
    "        temp = temp.find_all('em')[-1].text\n",
    "        if '评论' in temp:\n",
    "            number_comment_list.append(0)\n",
    "        else:\n",
    "            number_like = int(temp)\n",
    "            number_comment_list.append(number_like)\n",
    "    \n",
    "    # 게시글 날짜 수집\n",
    "    raw_date = soup.find_all('div', 'WB_from S_txt2')\n",
    "    for i in range(len(raw_date)):\n",
    "        temp = raw_date[i].find('a', 'S_txt2')\n",
    "        date = temp.attrs['title'][:10]\n",
    "        date_list.append(date)\n",
    "\n",
    "    # 팔로워 수 수집\n",
    "    number_of_follower = soup.find_all('strong', 'W_f16')\n",
    "    num = int(number_of_follower[1].text)\n",
    "    number_follower_list.append(num)\n",
    "    for i in range(len(raw_contents)-1):\n",
    "        number_follower_list.append(0)\n",
    "    \n",
    "    # 링크 수집\n",
    "    raw_links = soup.find_all('div', 'WB_from S_txt2')\n",
    "    for link in raw_links:\n",
    "        temp = 'https://weibo.com' + link.find('a' ,'S_txt2').attrs['href']\n",
    "        link_list.append(temp)\n",
    "\n",
    "    # 다음 페이지 버튼 클릭\n",
    "    driver.find_element_by_xpath('/html/body/div[1]/div/div[2]/div/div[2]/div[2]/div[4]/div/div[47]/div/a').click()\n",
    "    time.sleep( random.uniform(1,3) )\n",
    "    driver.implicitly_wait(5)"
   ]
  },
  {
   "cell_type": "markdown",
   "metadata": {},
   "source": [
    "### 크롤링 데이터 확인"
   ]
  },
  {
   "cell_type": "code",
   "execution_count": 99,
   "metadata": {},
   "outputs": [
    {
     "name": "stdout",
     "output_type": "stream",
     "text": [
      "게시글 수 :  90\n",
      "조회수 리스트 원소수 :  90\n",
      "좋아요 리스트 원소수 :  90\n",
      "공유수 리스트 원소수 :  90\n",
      "댓글수 리스트 원소수 :  90\n",
      "날짜 리스트 원소수 :  90\n",
      "팔로워 수 리스트 원소수 :  90\n",
      "링크 리스트 원소수 :  90\n"
     ]
    }
   ],
   "source": [
    "print('게시글 수 : ', len(content_list))\n",
    "print('조회수 리스트 원소수 : ', len(number_view_list))\n",
    "print('좋아요 리스트 원소수 : ', len(number_like_list))\n",
    "print('공유수 리스트 원소수 : ', len(number_share_list))\n",
    "print('댓글수 리스트 원소수 : ', len(number_comment_list))\n",
    "print('날짜 리스트 원소수 : ', len(date_list))\n",
    "print('팔로워 수 리스트 원소수 : ', len(number_follower_list))\n",
    "print(\"링크 리스트 원소수 : \", len(link_list))"
   ]
  },
  {
   "cell_type": "code",
   "execution_count": 100,
   "metadata": {},
   "outputs": [],
   "source": [
    "# chromedriver 종료\n",
    "driver.quit()"
   ]
  },
  {
   "cell_type": "markdown",
   "metadata": {},
   "source": [
    "### 데이터 셋 생성"
   ]
  },
  {
   "cell_type": "code",
   "execution_count": 101,
   "metadata": {},
   "outputs": [
    {
     "data": {
      "text/html": [
       "<div>\n",
       "<style scoped>\n",
       "    .dataframe tbody tr th:only-of-type {\n",
       "        vertical-align: middle;\n",
       "    }\n",
       "\n",
       "    .dataframe tbody tr th {\n",
       "        vertical-align: top;\n",
       "    }\n",
       "\n",
       "    .dataframe thead th {\n",
       "        text-align: right;\n",
       "    }\n",
       "</style>\n",
       "<table border=\"1\" class=\"dataframe\">\n",
       "  <thead>\n",
       "    <tr style=\"text-align: right;\">\n",
       "      <th></th>\n",
       "      <th>날짜</th>\n",
       "      <th>제목</th>\n",
       "      <th>조회수</th>\n",
       "      <th>좋아요_수</th>\n",
       "      <th>공유수</th>\n",
       "      <th>댓글수</th>\n",
       "      <th>팔로워_수</th>\n",
       "      <th>링크</th>\n",
       "    </tr>\n",
       "  </thead>\n",
       "  <tbody>\n",
       "    <tr>\n",
       "      <th>0</th>\n",
       "      <td>2022-05-20</td>\n",
       "      <td>京畿道将举办\"全家人一起参与的游戏秀\"2022Play博览会京畿道是韩国游戏产业的圣地</td>\n",
       "      <td>1367</td>\n",
       "      <td>0</td>\n",
       "      <td>0</td>\n",
       "      <td>0</td>\n",
       "      <td>544332</td>\n",
       "      <td>https://weibo.com/6011831795/LtSxwgnLU?from=pa...</td>\n",
       "    </tr>\n",
       "    <tr>\n",
       "      <th>1</th>\n",
       "      <td>2022-05-18</td>\n",
       "      <td>京畿道杨平吉兆酒店在京畿道可以见到一个日式建筑物，具有异国风情的地方</td>\n",
       "      <td>6441</td>\n",
       "      <td>2</td>\n",
       "      <td>0</td>\n",
       "      <td>0</td>\n",
       "      <td>0</td>\n",
       "      <td>https://weibo.com/6011831795/LtAldcubF?from=pa...</td>\n",
       "    </tr>\n",
       "    <tr>\n",
       "      <th>2</th>\n",
       "      <td>2022-05-16</td>\n",
       "      <td>京畿道杨平大型户外咖啡店 JUN179京畿道杨平拥有广阔的空间并衔接着龙门川溪谷，是感受大自...</td>\n",
       "      <td>6199</td>\n",
       "      <td>3</td>\n",
       "      <td>2</td>\n",
       "      <td>0</td>\n",
       "      <td>0</td>\n",
       "      <td>https://weibo.com/6011831795/LthBqiDCm?from=pa...</td>\n",
       "    </tr>\n",
       "    <tr>\n",
       "      <th>3</th>\n",
       "      <td>2022-05-13</td>\n",
       "      <td>京畿道，举办时隔3年回归的线下游戏秀”PlayX4”📍 指南 : O网页链接#京畿道##京畿...</td>\n",
       "      <td>6723</td>\n",
       "      <td>4</td>\n",
       "      <td>0</td>\n",
       "      <td>0</td>\n",
       "      <td>0</td>\n",
       "      <td>https://weibo.com/6011831795/LsPpKv8Gi?from=pa...</td>\n",
       "    </tr>\n",
       "    <tr>\n",
       "      <th>4</th>\n",
       "      <td>2022-05-11</td>\n",
       "      <td>道，“创意科学培养体验中心” 开馆…培养无人机、宇宙产业等未来人才在京畿道坡州和杨平未来教育...</td>\n",
       "      <td>7074</td>\n",
       "      <td>3</td>\n",
       "      <td>0</td>\n",
       "      <td>0</td>\n",
       "      <td>0</td>\n",
       "      <td>https://weibo.com/6011831795/LswxZh38m?from=pa...</td>\n",
       "    </tr>\n",
       "  </tbody>\n",
       "</table>\n",
       "</div>"
      ],
      "text/plain": [
       "           날짜                                                 제목   조회수  좋아요_수  \\\n",
       "0  2022-05-20        京畿道将举办\"全家人一起参与的游戏秀\"2022Play博览会京畿道是韩国游戏产业的圣地  1367      0   \n",
       "1  2022-05-18                 京畿道杨平吉兆酒店在京畿道可以见到一个日式建筑物，具有异国风情的地方  6441      2   \n",
       "2  2022-05-16  京畿道杨平大型户外咖啡店 JUN179京畿道杨平拥有广阔的空间并衔接着龙门川溪谷，是感受大自...  6199      3   \n",
       "3  2022-05-13  京畿道，举办时隔3年回归的线下游戏秀”PlayX4”📍 指南 : O网页链接#京畿道##京畿...  6723      4   \n",
       "4  2022-05-11  道，“创意科学培养体验中心” 开馆…培养无人机、宇宙产业等未来人才在京畿道坡州和杨平未来教育...  7074      3   \n",
       "\n",
       "   공유수  댓글수   팔로워_수                                                 링크  \n",
       "0    0    0  544332  https://weibo.com/6011831795/LtSxwgnLU?from=pa...  \n",
       "1    0    0       0  https://weibo.com/6011831795/LtAldcubF?from=pa...  \n",
       "2    2    0       0  https://weibo.com/6011831795/LthBqiDCm?from=pa...  \n",
       "3    0    0       0  https://weibo.com/6011831795/LsPpKv8Gi?from=pa...  \n",
       "4    0    0       0  https://weibo.com/6011831795/LswxZh38m?from=pa...  "
      ]
     },
     "execution_count": 101,
     "metadata": {},
     "output_type": "execute_result"
    }
   ],
   "source": [
    "# 데이터 프레임 생성\n",
    "df = {'날짜':date_list, '제목':content_list, '조회수':number_view_list, '좋아요_수':number_like_list, '공유수':number_share_list, '댓글수':number_comment_list, '팔로워_수':number_follower_list, '링크':link_list}\n",
    "data = pd.DataFrame(df)\n",
    "data.head()"
   ]
  },
  {
   "cell_type": "markdown",
   "metadata": {},
   "source": [
    "### 데이터 셋. 날짜로 슬라이싱"
   ]
  },
  {
   "cell_type": "code",
   "execution_count": 102,
   "metadata": {},
   "outputs": [
    {
     "data": {
      "text/html": [
       "<div>\n",
       "<style scoped>\n",
       "    .dataframe tbody tr th:only-of-type {\n",
       "        vertical-align: middle;\n",
       "    }\n",
       "\n",
       "    .dataframe tbody tr th {\n",
       "        vertical-align: top;\n",
       "    }\n",
       "\n",
       "    .dataframe thead th {\n",
       "        text-align: right;\n",
       "    }\n",
       "</style>\n",
       "<table border=\"1\" class=\"dataframe\">\n",
       "  <thead>\n",
       "    <tr style=\"text-align: right;\">\n",
       "      <th></th>\n",
       "      <th>날짜</th>\n",
       "      <th>제목</th>\n",
       "      <th>조회수</th>\n",
       "      <th>좋아요_수</th>\n",
       "      <th>공유수</th>\n",
       "      <th>댓글수</th>\n",
       "      <th>팔로워_수</th>\n",
       "      <th>링크</th>\n",
       "    </tr>\n",
       "  </thead>\n",
       "  <tbody>\n",
       "    <tr>\n",
       "      <th>0</th>\n",
       "      <td>2022-05-20</td>\n",
       "      <td>京畿道将举办\"全家人一起参与的游戏秀\"2022Play博览会京畿道是韩国游戏产业的圣地</td>\n",
       "      <td>1367</td>\n",
       "      <td>0</td>\n",
       "      <td>0</td>\n",
       "      <td>0</td>\n",
       "      <td>544332</td>\n",
       "      <td>https://weibo.com/6011831795/LtSxwgnLU?from=pa...</td>\n",
       "    </tr>\n",
       "    <tr>\n",
       "      <th>1</th>\n",
       "      <td>2022-05-18</td>\n",
       "      <td>京畿道杨平吉兆酒店在京畿道可以见到一个日式建筑物，具有异国风情的地方</td>\n",
       "      <td>6441</td>\n",
       "      <td>2</td>\n",
       "      <td>0</td>\n",
       "      <td>0</td>\n",
       "      <td>0</td>\n",
       "      <td>https://weibo.com/6011831795/LtAldcubF?from=pa...</td>\n",
       "    </tr>\n",
       "    <tr>\n",
       "      <th>2</th>\n",
       "      <td>2022-05-16</td>\n",
       "      <td>京畿道杨平大型户外咖啡店 JUN179京畿道杨平拥有广阔的空间并衔接着龙门川溪谷，是感受大自...</td>\n",
       "      <td>6199</td>\n",
       "      <td>3</td>\n",
       "      <td>2</td>\n",
       "      <td>0</td>\n",
       "      <td>0</td>\n",
       "      <td>https://weibo.com/6011831795/LthBqiDCm?from=pa...</td>\n",
       "    </tr>\n",
       "    <tr>\n",
       "      <th>3</th>\n",
       "      <td>2022-05-13</td>\n",
       "      <td>京畿道，举办时隔3年回归的线下游戏秀”PlayX4”📍 指南 : O网页链接#京畿道##京畿...</td>\n",
       "      <td>6723</td>\n",
       "      <td>4</td>\n",
       "      <td>0</td>\n",
       "      <td>0</td>\n",
       "      <td>0</td>\n",
       "      <td>https://weibo.com/6011831795/LsPpKv8Gi?from=pa...</td>\n",
       "    </tr>\n",
       "    <tr>\n",
       "      <th>4</th>\n",
       "      <td>2022-05-11</td>\n",
       "      <td>道，“创意科学培养体验中心” 开馆…培养无人机、宇宙产业等未来人才在京畿道坡州和杨平未来教育...</td>\n",
       "      <td>7074</td>\n",
       "      <td>3</td>\n",
       "      <td>0</td>\n",
       "      <td>0</td>\n",
       "      <td>0</td>\n",
       "      <td>https://weibo.com/6011831795/LswxZh38m?from=pa...</td>\n",
       "    </tr>\n",
       "  </tbody>\n",
       "</table>\n",
       "</div>"
      ],
      "text/plain": [
       "           날짜                                                 제목   조회수  좋아요_수  \\\n",
       "0  2022-05-20        京畿道将举办\"全家人一起参与的游戏秀\"2022Play博览会京畿道是韩国游戏产业的圣地  1367      0   \n",
       "1  2022-05-18                 京畿道杨平吉兆酒店在京畿道可以见到一个日式建筑物，具有异国风情的地方  6441      2   \n",
       "2  2022-05-16  京畿道杨平大型户外咖啡店 JUN179京畿道杨平拥有广阔的空间并衔接着龙门川溪谷，是感受大自...  6199      3   \n",
       "3  2022-05-13  京畿道，举办时隔3年回归的线下游戏秀”PlayX4”📍 指南 : O网页链接#京畿道##京畿...  6723      4   \n",
       "4  2022-05-11  道，“创意科学培养体验中心” 开馆…培养无人机、宇宙产业等未来人才在京畿道坡州和杨平未来教育...  7074      3   \n",
       "\n",
       "   공유수  댓글수   팔로워_수                                                 링크  \n",
       "0    0    0  544332  https://weibo.com/6011831795/LtSxwgnLU?from=pa...  \n",
       "1    0    0       0  https://weibo.com/6011831795/LtAldcubF?from=pa...  \n",
       "2    2    0       0  https://weibo.com/6011831795/LthBqiDCm?from=pa...  \n",
       "3    0    0       0  https://weibo.com/6011831795/LsPpKv8Gi?from=pa...  \n",
       "4    0    0       0  https://weibo.com/6011831795/LswxZh38m?from=pa...  "
      ]
     },
     "execution_count": 102,
     "metadata": {},
     "output_type": "execute_result"
    }
   ],
   "source": [
    "# 데이터 셋 날짜로 슬라이싱\n",
    "slicing_data = data[data['날짜'] >= start_date]\n",
    "slicing_data.head()"
   ]
  },
  {
   "cell_type": "markdown",
   "metadata": {},
   "source": [
    "# 데이터 셋. 인덱스 내림차순 정렬"
   ]
  },
  {
   "cell_type": "code",
   "execution_count": 103,
   "metadata": {},
   "outputs": [
    {
     "data": {
      "text/html": [
       "<div>\n",
       "<style scoped>\n",
       "    .dataframe tbody tr th:only-of-type {\n",
       "        vertical-align: middle;\n",
       "    }\n",
       "\n",
       "    .dataframe tbody tr th {\n",
       "        vertical-align: top;\n",
       "    }\n",
       "\n",
       "    .dataframe thead th {\n",
       "        text-align: right;\n",
       "    }\n",
       "</style>\n",
       "<table border=\"1\" class=\"dataframe\">\n",
       "  <thead>\n",
       "    <tr style=\"text-align: right;\">\n",
       "      <th></th>\n",
       "      <th>날짜</th>\n",
       "      <th>제목</th>\n",
       "      <th>조회수</th>\n",
       "      <th>좋아요_수</th>\n",
       "      <th>공유수</th>\n",
       "      <th>댓글수</th>\n",
       "      <th>팔로워_수</th>\n",
       "      <th>링크</th>\n",
       "    </tr>\n",
       "  </thead>\n",
       "  <tbody>\n",
       "    <tr>\n",
       "      <th>56</th>\n",
       "      <td>2022-01-01</td>\n",
       "      <td>🎊 新年快乐! 🎊祝你2022年与京畿道一起度过幸福的一年</td>\n",
       "      <td>12213</td>\n",
       "      <td>11</td>\n",
       "      <td>0</td>\n",
       "      <td>4</td>\n",
       "      <td>0</td>\n",
       "      <td>https://weibo.com/6011831795/L8IJk9tQd?from=pa...</td>\n",
       "    </tr>\n",
       "    <tr>\n",
       "      <th>55</th>\n",
       "      <td>2022-01-05</td>\n",
       "      <td>京畿道支援的异色创业趋势！充分利用共享厨房的 “G-创食学院”的运营共享厨房是指多个营业者共...</td>\n",
       "      <td>14174</td>\n",
       "      <td>3</td>\n",
       "      <td>0</td>\n",
       "      <td>0</td>\n",
       "      <td>0</td>\n",
       "      <td>https://weibo.com/6011831795/L9mdF9t5G?from=pa...</td>\n",
       "    </tr>\n",
       "    <tr>\n",
       "      <th>54</th>\n",
       "      <td>2022-01-06</td>\n",
       "      <td>美味的冬季京畿道传统市场一到冬天就会想起鲫鱼饼、烤红薯、鱼糕、甜饼等很多零食吧？请来访问具有...</td>\n",
       "      <td>15865</td>\n",
       "      <td>5</td>\n",
       "      <td>0</td>\n",
       "      <td>0</td>\n",
       "      <td>0</td>\n",
       "      <td>https://weibo.com/6011831795/L9wcfEBPu?from=pa...</td>\n",
       "    </tr>\n",
       "    <tr>\n",
       "      <th>53</th>\n",
       "      <td>2022-01-07</td>\n",
       "      <td>🍅京畿道光州市代表农作物番茄的重新诞生！酸酸甜甜的番茄辣椒酱同大韩民国代表酱料辣椒酱一样受到...</td>\n",
       "      <td>16475</td>\n",
       "      <td>4</td>\n",
       "      <td>0</td>\n",
       "      <td>1</td>\n",
       "      <td>0</td>\n",
       "      <td>https://weibo.com/6011831795/L9FbKuzBl?from=pa...</td>\n",
       "    </tr>\n",
       "    <tr>\n",
       "      <th>52</th>\n",
       "      <td>2022-01-13</td>\n",
       "      <td>京畿道为外国人居民定居支援的事业募集📣京畿道，支援外国人居民与高丽人同胞支援事业🔥在大韩民国...</td>\n",
       "      <td>16246</td>\n",
       "      <td>5</td>\n",
       "      <td>1</td>\n",
       "      <td>1</td>\n",
       "      <td>0</td>\n",
       "      <td>https://weibo.com/6011831795/LaAyPh9ZV?from=pa...</td>\n",
       "    </tr>\n",
       "  </tbody>\n",
       "</table>\n",
       "</div>"
      ],
      "text/plain": [
       "            날짜                                                 제목    조회수  \\\n",
       "56  2022-01-01                      🎊 新年快乐! 🎊祝你2022年与京畿道一起度过幸福的一年  12213   \n",
       "55  2022-01-05  京畿道支援的异色创业趋势！充分利用共享厨房的 “G-创食学院”的运营共享厨房是指多个营业者共...  14174   \n",
       "54  2022-01-06  美味的冬季京畿道传统市场一到冬天就会想起鲫鱼饼、烤红薯、鱼糕、甜饼等很多零食吧？请来访问具有...  15865   \n",
       "53  2022-01-07  🍅京畿道光州市代表农作物番茄的重新诞生！酸酸甜甜的番茄辣椒酱同大韩民国代表酱料辣椒酱一样受到...  16475   \n",
       "52  2022-01-13  京畿道为外国人居民定居支援的事业募集📣京畿道，支援外国人居民与高丽人同胞支援事业🔥在大韩民国...  16246   \n",
       "\n",
       "    좋아요_수  공유수  댓글수  팔로워_수                                                 링크  \n",
       "56     11    0    4      0  https://weibo.com/6011831795/L8IJk9tQd?from=pa...  \n",
       "55      3    0    0      0  https://weibo.com/6011831795/L9mdF9t5G?from=pa...  \n",
       "54      5    0    0      0  https://weibo.com/6011831795/L9wcfEBPu?from=pa...  \n",
       "53      4    0    1      0  https://weibo.com/6011831795/L9FbKuzBl?from=pa...  \n",
       "52      5    1    1      0  https://weibo.com/6011831795/LaAyPh9ZV?from=pa...  "
      ]
     },
     "execution_count": 103,
     "metadata": {},
     "output_type": "execute_result"
    }
   ],
   "source": [
    "# 인덱스 내림차순 정렬\n",
    "final_data = slicing_data.sort_index(ascending=False)\n",
    "final_data.head()"
   ]
  },
  {
   "cell_type": "markdown",
   "metadata": {},
   "source": [
    "## 엑셀 파일로 출력"
   ]
  },
  {
   "cell_type": "code",
   "execution_count": 104,
   "metadata": {},
   "outputs": [
    {
     "name": "stdout",
     "output_type": "stream",
     "text": [
      "weibo_20220520-174306.xlsx 파일 생성 완료\n"
     ]
    }
   ],
   "source": [
    "# 파일로 출력\n",
    "file_name = str(datetime.today().strftime(\"%Y%m%d-%H%M%S\"))\n",
    "file_name = 'weibo_' + file_name + '.xlsx'\n",
    "path = 'crawled_data/weibo/'\n",
    "final_data.to_excel(path+file_name, index=False, encoding='utf-8')\n",
    "\n",
    "print(f\"{file_name} 파일 생성 완료\")"
   ]
  },
  {
   "cell_type": "markdown",
   "metadata": {},
   "source": [
    "# 코드 마지막"
   ]
  }
 ],
 "metadata": {
  "interpreter": {
   "hash": "513dc2e41d739bb2c947903f3c0bbf636d03aa53ab50e61c694a27481c81805e"
  },
  "kernelspec": {
   "display_name": "Python 3",
   "language": "python",
   "name": "python3"
  },
  "language_info": {
   "codemirror_mode": {
    "name": "ipython",
    "version": 3
   },
   "file_extension": ".py",
   "mimetype": "text/x-python",
   "name": "python",
   "nbconvert_exporter": "python",
   "pygments_lexer": "ipython3",
   "version": "3.9.7"
  }
 },
 "nbformat": 4,
 "nbformat_minor": 2
}
