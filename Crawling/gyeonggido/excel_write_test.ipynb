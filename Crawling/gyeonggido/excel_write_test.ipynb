{
 "cells": [
  {
   "cell_type": "markdown",
   "metadata": {},
   "source": [
    "# Openpyxl test"
   ]
  },
  {
   "cell_type": "code",
   "execution_count": 4,
   "metadata": {},
   "outputs": [],
   "source": [
    "from openpyxl import Workbook\n",
    "import openpyxl as op"
   ]
  },
  {
   "cell_type": "code",
   "execution_count": 2,
   "metadata": {},
   "outputs": [],
   "source": [
    "wb = Workbook()\n",
    "ws = wb.active"
   ]
  },
  {
   "cell_type": "code",
   "execution_count": 7,
   "metadata": {},
   "outputs": [
    {
     "data": {
      "text/plain": [
       "<Worksheet \"Sheet\">"
      ]
     },
     "execution_count": 7,
     "metadata": {},
     "output_type": "execute_result"
    }
   ],
   "source": [
    "ws"
   ]
  },
  {
   "cell_type": "code",
   "execution_count": 5,
   "metadata": {},
   "outputs": [],
   "source": [
    "wb.create_sheet('test01')\n",
    "wb.save('excel_test.xlsx')"
   ]
  },
  {
   "cell_type": "code",
   "execution_count": 6,
   "metadata": {},
   "outputs": [
    {
     "name": "stdout",
     "output_type": "stream",
     "text": [
      "<openpyxl.workbook.workbook.Workbook object at 0x0000019C024BB850>\n"
     ]
    }
   ],
   "source": [
    "print(wb)"
   ]
  },
  {
   "cell_type": "code",
   "execution_count": 11,
   "metadata": {},
   "outputs": [
    {
     "data": {
      "text/plain": [
       "['Sheet1']"
      ]
     },
     "execution_count": 11,
     "metadata": {},
     "output_type": "execute_result"
    }
   ],
   "source": [
    "wb = op.load_workbook('crawled_data/instagram/instagram_20220329-164006.xlsx')\n",
    "wb.sheetnames"
   ]
  },
  {
   "cell_type": "code",
   "execution_count": 12,
   "metadata": {},
   "outputs": [
    {
     "ename": "AttributeError",
     "evalue": "'Workbook' object has no attribute 'cell'",
     "output_type": "error",
     "traceback": [
      "\u001b[1;31m---------------------------------------------------------------------------\u001b[0m",
      "\u001b[1;31mAttributeError\u001b[0m                            Traceback (most recent call last)",
      "\u001b[1;32m<ipython-input-12-200765c0b5f3>\u001b[0m in \u001b[0;36m<module>\u001b[1;34m\u001b[0m\n\u001b[1;32m----> 1\u001b[1;33m \u001b[0mwb\u001b[0m\u001b[1;33m.\u001b[0m\u001b[0mcell\u001b[0m\u001b[1;33m(\u001b[0m\u001b[1;36m1\u001b[0m\u001b[1;33m,\u001b[0m\u001b[1;36m2\u001b[0m\u001b[1;33m)\u001b[0m\u001b[1;33m.\u001b[0m\u001b[0mvalue\u001b[0m\u001b[1;33m\u001b[0m\u001b[1;33m\u001b[0m\u001b[0m\n\u001b[0m",
      "\u001b[1;31mAttributeError\u001b[0m: 'Workbook' object has no attribute 'cell'"
     ]
    }
   ],
   "source": [
    "wb.cell(1,2).value"
   ]
  },
  {
   "cell_type": "code",
   "execution_count": 16,
   "metadata": {},
   "outputs": [
    {
     "data": {
      "text/plain": [
       "'제목'"
      ]
     },
     "execution_count": 16,
     "metadata": {},
     "output_type": "execute_result"
    }
   ],
   "source": [
    "ws = wb.active\n",
    "ws.cell(1, 2).value"
   ]
  },
  {
   "cell_type": "code",
   "execution_count": 18,
   "metadata": {},
   "outputs": [
    {
     "data": {
      "text/plain": [
       "'제목'"
      ]
     },
     "execution_count": 18,
     "metadata": {},
     "output_type": "execute_result"
    }
   ],
   "source": [
    "ws['B1'].value"
   ]
  },
  {
   "cell_type": "code",
   "execution_count": 20,
   "metadata": {},
   "outputs": [
    {
     "data": {
      "text/plain": [
       "'Good walking path in Yangju-si, Gyeonggi-do🌳🌲\\nFor the health of its citizens, Yangju-si, Gyeonggi-do selected 7 walking paths and installed…”'"
      ]
     },
     "execution_count": 20,
     "metadata": {},
     "output_type": "execute_result"
    }
   ],
   "source": [
    "ws.cell(2, 2).value"
   ]
  },
  {
   "cell_type": "code",
   "execution_count": 21,
   "metadata": {},
   "outputs": [
    {
     "data": {
      "text/plain": [
       "'Good walking path in Yangju-si, Gyeonggi-do🌳🌲\\nFor the health of its citizens, Yangju-si, Gyeonggi-do selected 7 walking paths and installed…”'"
      ]
     },
     "execution_count": 21,
     "metadata": {},
     "output_type": "execute_result"
    }
   ],
   "source": [
    "ws['B2'].value"
   ]
  },
  {
   "cell_type": "code",
   "execution_count": 29,
   "metadata": {},
   "outputs": [
    {
     "data": {
      "text/plain": [
       "((<Cell 'Sheet1'.B1>,), (<Cell 'Sheet1'.B2>,))"
      ]
     },
     "execution_count": 29,
     "metadata": {},
     "output_type": "execute_result"
    }
   ],
   "source": [
    "ws['B1:B2']"
   ]
  },
  {
   "cell_type": "code",
   "execution_count": 32,
   "metadata": {},
   "outputs": [
    {
     "data": {
      "text/plain": [
       "tuple"
      ]
     },
     "execution_count": 32,
     "metadata": {},
     "output_type": "execute_result"
    }
   ],
   "source": [
    "type(ws['B1:B2'])"
   ]
  },
  {
   "cell_type": "code",
   "execution_count": 28,
   "metadata": {},
   "outputs": [
    {
     "name": "stdout",
     "output_type": "stream",
     "text": [
      "제목\n",
      "Good walking path in Yangju-si, Gyeonggi-do🌳🌲\n",
      "For the health of its citizens, Yangju-si, Gyeonggi-do selected 7 walking paths and installed…”\n"
     ]
    }
   ],
   "source": [
    "for r in ws['B1:B2']:\n",
    "    for c in r:\n",
    "        print(c.value)"
   ]
  },
  {
   "cell_type": "markdown",
   "metadata": {},
   "source": [
    "# Pandas test"
   ]
  },
  {
   "cell_type": "code",
   "execution_count": 33,
   "metadata": {},
   "outputs": [],
   "source": [
    "import pandas as pd"
   ]
  },
  {
   "cell_type": "code",
   "execution_count": 65,
   "metadata": {},
   "outputs": [
    {
     "data": {
      "text/html": [
       "<div>\n",
       "<style scoped>\n",
       "    .dataframe tbody tr th:only-of-type {\n",
       "        vertical-align: middle;\n",
       "    }\n",
       "\n",
       "    .dataframe tbody tr th {\n",
       "        vertical-align: top;\n",
       "    }\n",
       "\n",
       "    .dataframe thead th {\n",
       "        text-align: right;\n",
       "    }\n",
       "</style>\n",
       "<table border=\"1\" class=\"dataframe\">\n",
       "  <thead>\n",
       "    <tr style=\"text-align: right;\">\n",
       "      <th></th>\n",
       "      <th>날짜</th>\n",
       "      <th>제목</th>\n",
       "      <th>조회수</th>\n",
       "      <th>좋아요_수</th>\n",
       "      <th>공유수</th>\n",
       "      <th>댓글수</th>\n",
       "      <th>팔로워_수</th>\n",
       "      <th>링크</th>\n",
       "    </tr>\n",
       "  </thead>\n",
       "  <tbody>\n",
       "    <tr>\n",
       "      <th>0</th>\n",
       "      <td>2022-01-06</td>\n",
       "      <td>Good walking path in Yangju-si, Gyeonggi-do🌳🌲\\...</td>\n",
       "      <td>237</td>\n",
       "      <td>31</td>\n",
       "      <td>0</td>\n",
       "      <td>0</td>\n",
       "      <td>0</td>\n",
       "      <td>https://www.instagram.com/p/CYYeBR9v8_1/</td>\n",
       "    </tr>\n",
       "    <tr>\n",
       "      <th>1</th>\n",
       "      <td>2022-01-07</td>\n",
       "      <td>Gyeonggi Winter Camping❄️\\n\\nThe best camping ...</td>\n",
       "      <td>275</td>\n",
       "      <td>32</td>\n",
       "      <td>0</td>\n",
       "      <td>0</td>\n",
       "      <td>0</td>\n",
       "      <td>https://www.instagram.com/p/CYa1V4Yv1cp/</td>\n",
       "    </tr>\n",
       "    <tr>\n",
       "      <th>2</th>\n",
       "      <td>2022-01-13</td>\n",
       "      <td>Imjingak Pyeonghwa Nuri Park in Paju\\n\\nA plac...</td>\n",
       "      <td>301</td>\n",
       "      <td>27</td>\n",
       "      <td>0</td>\n",
       "      <td>2</td>\n",
       "      <td>0</td>\n",
       "      <td>https://www.instagram.com/p/CYqqLSpPg0L/</td>\n",
       "    </tr>\n",
       "    <tr>\n",
       "      <th>3</th>\n",
       "      <td>2022-01-14</td>\n",
       "      <td>Gwanggyo Lake Park\\n\\nA warm healing space tha...</td>\n",
       "      <td>1374</td>\n",
       "      <td>25</td>\n",
       "      <td>0</td>\n",
       "      <td>1</td>\n",
       "      <td>0</td>\n",
       "      <td>https://www.instagram.com/p/CYt6dZPv1vn/</td>\n",
       "    </tr>\n",
       "    <tr>\n",
       "      <th>4</th>\n",
       "      <td>2022-01-17</td>\n",
       "      <td>Hwadam Botanic Garden\\n\\n🌷Where is the best pl...</td>\n",
       "      <td>300</td>\n",
       "      <td>36</td>\n",
       "      <td>0</td>\n",
       "      <td>1</td>\n",
       "      <td>0</td>\n",
       "      <td>https://www.instagram.com/p/CY07xfKF0wg/</td>\n",
       "    </tr>\n",
       "  </tbody>\n",
       "</table>\n",
       "</div>"
      ],
      "text/plain": [
       "           날짜                                                 제목   조회수  좋아요_수  \\\n",
       "0  2022-01-06  Good walking path in Yangju-si, Gyeonggi-do🌳🌲\\...   237     31   \n",
       "1  2022-01-07  Gyeonggi Winter Camping❄️\\n\\nThe best camping ...   275     32   \n",
       "2  2022-01-13  Imjingak Pyeonghwa Nuri Park in Paju\\n\\nA plac...   301     27   \n",
       "3  2022-01-14  Gwanggyo Lake Park\\n\\nA warm healing space tha...  1374     25   \n",
       "4  2022-01-17  Hwadam Botanic Garden\\n\\n🌷Where is the best pl...   300     36   \n",
       "\n",
       "   공유수  댓글수  팔로워_수                                        링크  \n",
       "0    0    0      0  https://www.instagram.com/p/CYYeBR9v8_1/  \n",
       "1    0    0      0  https://www.instagram.com/p/CYa1V4Yv1cp/  \n",
       "2    0    2      0  https://www.instagram.com/p/CYqqLSpPg0L/  \n",
       "3    0    1      0  https://www.instagram.com/p/CYt6dZPv1vn/  \n",
       "4    0    1      0  https://www.instagram.com/p/CY07xfKF0wg/  "
      ]
     },
     "execution_count": 65,
     "metadata": {},
     "output_type": "execute_result"
    }
   ],
   "source": [
    "df = pd.read_excel('..\\crawling_data\\instagram\\instagram_20220329-164006.xlsx')\n",
    "df.head()"
   ]
  },
  {
   "cell_type": "code",
   "execution_count": 35,
   "metadata": {},
   "outputs": [
    {
     "data": {
      "text/html": [
       "<div>\n",
       "<style scoped>\n",
       "    .dataframe tbody tr th:only-of-type {\n",
       "        vertical-align: middle;\n",
       "    }\n",
       "\n",
       "    .dataframe tbody tr th {\n",
       "        vertical-align: top;\n",
       "    }\n",
       "\n",
       "    .dataframe thead th {\n",
       "        text-align: right;\n",
       "    }\n",
       "</style>\n",
       "<table border=\"1\" class=\"dataframe\">\n",
       "  <thead>\n",
       "    <tr style=\"text-align: right;\">\n",
       "      <th></th>\n",
       "    </tr>\n",
       "  </thead>\n",
       "  <tbody>\n",
       "  </tbody>\n",
       "</table>\n",
       "</div>"
      ],
      "text/plain": [
       "Empty DataFrame\n",
       "Columns: []\n",
       "Index: []"
      ]
     },
     "execution_count": 35,
     "metadata": {},
     "output_type": "execute_result"
    }
   ],
   "source": [
    "raw = pd.read_excel('excel_test.xlsx')\n",
    "raw.head()"
   ]
  },
  {
   "cell_type": "code",
   "execution_count": 36,
   "metadata": {},
   "outputs": [],
   "source": [
    "import os"
   ]
  },
  {
   "cell_type": "code",
   "execution_count": 52,
   "metadata": {},
   "outputs": [
    {
     "data": {
      "text/plain": [
       "['instagram_20220308-140736.xlsx',\n",
       " 'instagram_20220308-143246.xlsx',\n",
       " 'instagram_20220308-145605.xlsx',\n",
       " 'instagram_20220310-173640.xlsx',\n",
       " 'instagram_20220311-161229.xlsx',\n",
       " 'instagram_20220314-113716.xlsx',\n",
       " 'instagram_20220314-120021.xlsx',\n",
       " 'instagram_20220314-140242.xlsx',\n",
       " 'instagram_20220315-153458.xlsx',\n",
       " 'instagram_20220316-174345.xlsx',\n",
       " 'instagram_20220317-163539.xlsx',\n",
       " 'instagram_20220318-164919.xlsx',\n",
       " 'instagram_20220321-111821.xlsx',\n",
       " 'instagram_20220323-172450.xlsx',\n",
       " 'instagram_20220328-102313.xlsx',\n",
       " 'instagram_20220329-164006.xlsx',\n",
       " 'insta_20220303-172036.csv',\n",
       " 'insta_20220303-173501.csv',\n",
       " 'insta_20220303-175217.csv']"
      ]
     },
     "execution_count": 52,
     "metadata": {},
     "output_type": "execute_result"
    }
   ],
   "source": [
    "file_list = os.listdir('../crawling_data/instagram')\n",
    "file_list"
   ]
  },
  {
   "cell_type": "code",
   "execution_count": 53,
   "metadata": {},
   "outputs": [
    {
     "data": {
      "text/plain": [
       "'instagram_20220329-164006.xlsx'"
      ]
     },
     "execution_count": 53,
     "metadata": {},
     "output_type": "execute_result"
    }
   ],
   "source": [
    "file_list[-4]"
   ]
  },
  {
   "cell_type": "code",
   "execution_count": 80,
   "metadata": {},
   "outputs": [
    {
     "data": {
      "text/plain": [
       "str"
      ]
     },
     "execution_count": 80,
     "metadata": {},
     "output_type": "execute_result"
    }
   ],
   "source": [
    "type(file_list[-4])"
   ]
  },
  {
   "cell_type": "code",
   "execution_count": 81,
   "metadata": {},
   "outputs": [],
   "source": [
    "with pd.ExcelWriter('excel_test.xlsx') as writer:\n",
    "    df.to_excel(writer, sheet_name = file_list[-4], index=False)"
   ]
  },
  {
   "cell_type": "code",
   "execution_count": 82,
   "metadata": {},
   "outputs": [
    {
     "data": {
      "text/html": [
       "<div>\n",
       "<style scoped>\n",
       "    .dataframe tbody tr th:only-of-type {\n",
       "        vertical-align: middle;\n",
       "    }\n",
       "\n",
       "    .dataframe tbody tr th {\n",
       "        vertical-align: top;\n",
       "    }\n",
       "\n",
       "    .dataframe thead th {\n",
       "        text-align: right;\n",
       "    }\n",
       "</style>\n",
       "<table border=\"1\" class=\"dataframe\">\n",
       "  <thead>\n",
       "    <tr style=\"text-align: right;\">\n",
       "      <th></th>\n",
       "      <th>날짜</th>\n",
       "      <th>제목</th>\n",
       "      <th>조회수</th>\n",
       "      <th>좋아요_수</th>\n",
       "      <th>공유수</th>\n",
       "      <th>댓글수</th>\n",
       "      <th>팔로워_수</th>\n",
       "      <th>링크</th>\n",
       "    </tr>\n",
       "  </thead>\n",
       "  <tbody>\n",
       "    <tr>\n",
       "      <th>0</th>\n",
       "      <td>2022-01-06</td>\n",
       "      <td>Good walking path in Yangju-si, Gyeonggi-do🌳🌲\\...</td>\n",
       "      <td>237</td>\n",
       "      <td>31</td>\n",
       "      <td>0</td>\n",
       "      <td>0</td>\n",
       "      <td>0</td>\n",
       "      <td>https://www.instagram.com/p/CYYeBR9v8_1/</td>\n",
       "    </tr>\n",
       "    <tr>\n",
       "      <th>1</th>\n",
       "      <td>2022-01-07</td>\n",
       "      <td>Gyeonggi Winter Camping❄️\\n\\nThe best camping ...</td>\n",
       "      <td>275</td>\n",
       "      <td>32</td>\n",
       "      <td>0</td>\n",
       "      <td>0</td>\n",
       "      <td>0</td>\n",
       "      <td>https://www.instagram.com/p/CYa1V4Yv1cp/</td>\n",
       "    </tr>\n",
       "    <tr>\n",
       "      <th>2</th>\n",
       "      <td>2022-01-13</td>\n",
       "      <td>Imjingak Pyeonghwa Nuri Park in Paju\\n\\nA plac...</td>\n",
       "      <td>301</td>\n",
       "      <td>27</td>\n",
       "      <td>0</td>\n",
       "      <td>2</td>\n",
       "      <td>0</td>\n",
       "      <td>https://www.instagram.com/p/CYqqLSpPg0L/</td>\n",
       "    </tr>\n",
       "    <tr>\n",
       "      <th>3</th>\n",
       "      <td>2022-01-14</td>\n",
       "      <td>Gwanggyo Lake Park\\n\\nA warm healing space tha...</td>\n",
       "      <td>1374</td>\n",
       "      <td>25</td>\n",
       "      <td>0</td>\n",
       "      <td>1</td>\n",
       "      <td>0</td>\n",
       "      <td>https://www.instagram.com/p/CYt6dZPv1vn/</td>\n",
       "    </tr>\n",
       "    <tr>\n",
       "      <th>4</th>\n",
       "      <td>2022-01-17</td>\n",
       "      <td>Hwadam Botanic Garden\\n\\n🌷Where is the best pl...</td>\n",
       "      <td>300</td>\n",
       "      <td>36</td>\n",
       "      <td>0</td>\n",
       "      <td>1</td>\n",
       "      <td>0</td>\n",
       "      <td>https://www.instagram.com/p/CY07xfKF0wg/</td>\n",
       "    </tr>\n",
       "  </tbody>\n",
       "</table>\n",
       "</div>"
      ],
      "text/plain": [
       "           날짜                                                 제목   조회수  좋아요_수  \\\n",
       "0  2022-01-06  Good walking path in Yangju-si, Gyeonggi-do🌳🌲\\...   237     31   \n",
       "1  2022-01-07  Gyeonggi Winter Camping❄️\\n\\nThe best camping ...   275     32   \n",
       "2  2022-01-13  Imjingak Pyeonghwa Nuri Park in Paju\\n\\nA plac...   301     27   \n",
       "3  2022-01-14  Gwanggyo Lake Park\\n\\nA warm healing space tha...  1374     25   \n",
       "4  2022-01-17  Hwadam Botanic Garden\\n\\n🌷Where is the best pl...   300     36   \n",
       "\n",
       "   공유수  댓글수  팔로워_수                                        링크  \n",
       "0    0    0      0  https://www.instagram.com/p/CYYeBR9v8_1/  \n",
       "1    0    0      0  https://www.instagram.com/p/CYa1V4Yv1cp/  \n",
       "2    0    2      0  https://www.instagram.com/p/CYqqLSpPg0L/  \n",
       "3    0    1      0  https://www.instagram.com/p/CYt6dZPv1vn/  \n",
       "4    0    1      0  https://www.instagram.com/p/CY07xfKF0wg/  "
      ]
     },
     "execution_count": 82,
     "metadata": {},
     "output_type": "execute_result"
    }
   ],
   "source": [
    "raw = pd.read_excel('excel_test.xlsx')\n",
    "raw.head()"
   ]
  },
  {
   "cell_type": "code",
   "execution_count": 83,
   "metadata": {},
   "outputs": [
    {
     "data": {
      "text/plain": [
       "['instagram_20220308-140736.xlsx',\n",
       " 'instagram_20220308-143246.xlsx',\n",
       " 'instagram_20220308-145605.xlsx',\n",
       " 'instagram_20220310-173640.xlsx',\n",
       " 'instagram_20220311-161229.xlsx',\n",
       " 'instagram_20220314-113716.xlsx',\n",
       " 'instagram_20220314-120021.xlsx',\n",
       " 'instagram_20220314-140242.xlsx',\n",
       " 'instagram_20220315-153458.xlsx',\n",
       " 'instagram_20220316-174345.xlsx',\n",
       " 'instagram_20220317-163539.xlsx',\n",
       " 'instagram_20220318-164919.xlsx',\n",
       " 'instagram_20220321-111821.xlsx',\n",
       " 'instagram_20220323-172450.xlsx',\n",
       " 'instagram_20220328-102313.xlsx',\n",
       " 'instagram_20220329-164006.xlsx',\n",
       " 'insta_20220303-172036.csv',\n",
       " 'insta_20220303-173501.csv',\n",
       " 'insta_20220303-175217.csv']"
      ]
     },
     "execution_count": 83,
     "metadata": {},
     "output_type": "execute_result"
    }
   ],
   "source": [
    "file_list = os.listdir('../crawling_data/instagram')\n",
    "file_list"
   ]
  },
  {
   "cell_type": "code",
   "execution_count": 84,
   "metadata": {},
   "outputs": [],
   "source": [
    "for one in file_list[:-4]:\n",
    "    df = pd.read_excel(f'..\\crawling_data\\instagram\\{one}')\n",
    "    with pd.ExcelWriter('excel_test.xlsx') as writer:\n",
    "        df.to_excel(writer, sheet_name = one, index=False)"
   ]
  },
  {
   "cell_type": "code",
   "execution_count": 87,
   "metadata": {},
   "outputs": [
    {
     "name": "stdout",
     "output_type": "stream",
     "text": [
      "instagram_20220308-140736.xlsx\n",
      "           날짜                                                 제목  조회수  좋아요_수  \\\n",
      "0  2022-03-04  Have you heard? (whispering)😝\\nKorea’s first-e...  145     21   \n",
      "1  2022-03-02  A complete guide to unique cafés in Yongin Cit...  155     27   \n",
      "2  2022-02-28  Mystical constellations and planets🌎,\\nDon’t y...  124     24   \n",
      "3  2022-02-24  Shall we take a day trip\\nto nature-friendly U...  151     26   \n",
      "4  2022-02-22  Invigorating city of youth, Hanam City of Gyeo...  145     29   \n",
      "\n",
      "   공유수  댓글수  팔로워_수  \n",
      "0    0    1   9761  \n",
      "1    0    0      0  \n",
      "2    0    0      0  \n",
      "3    0    0      0  \n",
      "4    2    2      0  \n",
      "instagram_20220308-143246.xlsx\n",
      "           날짜                                                 제목  조회수  좋아요_수  \\\n",
      "0  2022-03-04  Have you heard? (whispering)😝\\nKorea’s first-e...  145     21   \n",
      "1  2022-03-02  A complete guide to unique cafés in Yongin Cit...  155     27   \n",
      "2  2022-02-28  Mystical constellations and planets🌎,\\nDon’t y...  124     24   \n",
      "3  2022-02-24  Shall we take a day trip\\nto nature-friendly U...  151     26   \n",
      "4  2022-02-22  Invigorating city of youth, Hanam City of Gyeo...  145     29   \n",
      "\n",
      "   공유수  댓글수  팔로워_수                                        링크  \n",
      "0    0    1   9761  https://www.instagram.com/p/CarTSR8hpjk/  \n",
      "1    0    0      0  https://www.instagram.com/p/CamCGL3LSHX/  \n",
      "2    0    0      0  https://www.instagram.com/p/Cag862TrWuX/  \n",
      "3    0    0      0  https://www.instagram.com/p/CaWWan2BoZc/  \n",
      "4    2    2      0  https://www.instagram.com/p/CaRgX_svAjY/  \n",
      "instagram_20220308-145605.xlsx\n",
      "           날짜                                                 제목  조회수  좋아요_수  \\\n",
      "0  2022-03-04  Have you heard? (whispering)😝\\nKorea’s first-e...  145     21   \n",
      "1  2022-03-02  A complete guide to unique cafés in Yongin Cit...  155     27   \n",
      "2  2022-02-28  Mystical constellations and planets🌎,\\nDon’t y...  124     24   \n",
      "3  2022-02-24  Shall we take a day trip\\nto nature-friendly U...  151     26   \n",
      "4  2022-02-22  Invigorating city of youth, Hanam City of Gyeo...  145     29   \n",
      "\n",
      "   공유수  댓글수  팔로워_수                                        링크  \n",
      "0    0    1   9761  https://www.instagram.com/p/CarTSR8hpjk/  \n",
      "1    0    0      0  https://www.instagram.com/p/CamCGL3LSHX/  \n",
      "2    0    0      0  https://www.instagram.com/p/Cag862TrWuX/  \n",
      "3    0    0      0  https://www.instagram.com/p/CaWWan2BoZc/  \n",
      "4    2    2      0  https://www.instagram.com/p/CaRgX_svAjY/  \n",
      "instagram_20220310-173640.xlsx\n",
      "           날짜                                                 제목  조회수  좋아요_수  \\\n",
      "0  2022-03-10  It’s a retro throwback \\nNamchondong Mural Vil...   40     11   \n",
      "1  2022-03-08  A popular place in Seongnam City of Gyeonggi P...  178     24   \n",
      "2  2022-03-04  Have you heard? (whispering)😝\\nKorea’s first-e...  179     25   \n",
      "3  2022-03-02  A complete guide to unique cafés in Yongin Cit...  176     28   \n",
      "4  2022-02-28  Mystical constellations and planets🌎,\\nDon’t y...  134     26   \n",
      "\n",
      "   공유수  댓글수  팔로워_수                                        링크  \n",
      "0    0    1   9772  https://www.instagram.com/p/Ca6eIqfPoTV/  \n",
      "1    0    0      0  https://www.instagram.com/p/Ca1mOngPNr7/  \n",
      "2    0    1      0  https://www.instagram.com/p/CarTSR8hpjk/  \n",
      "3    0    0      0  https://www.instagram.com/p/CamCGL3LSHX/  \n",
      "4    0    0      0  https://www.instagram.com/p/Cag862TrWuX/  \n",
      "instagram_20220311-161229.xlsx\n",
      "           날짜                                                 제목  조회수  좋아요_수  \\\n",
      "0  2022-03-10  It’s a retro throwback \\nNamchondong Mural Vil...  166     27   \n",
      "1  2022-03-08  A popular place in Seongnam City of Gyeonggi P...  187     25   \n",
      "2  2022-03-04  Have you heard? (whispering)😝\\nKorea’s first-e...  179     25   \n",
      "3  2022-03-02  A complete guide to unique cafés in Yongin Cit...  176     28   \n",
      "4  2022-02-28  Mystical constellations and planets🌎,\\nDon’t y...  135     27   \n",
      "\n",
      "   공유수  댓글수  팔로워_수                                        링크  \n",
      "0    0    2   9767  https://www.instagram.com/p/Ca6eIqfPoTV/  \n",
      "1    0    0      0  https://www.instagram.com/p/Ca1mOngPNr7/  \n",
      "2    0    2      0  https://www.instagram.com/p/CarTSR8hpjk/  \n",
      "3    0    0      0  https://www.instagram.com/p/CamCGL3LSHX/  \n",
      "4    0    0      0  https://www.instagram.com/p/Cag862TrWuX/  \n",
      "instagram_20220314-113716.xlsx\n",
      "           날짜                                                 제목  조회수  좋아요_수  \\\n",
      "0  2022-03-12  Moran Station’s hottest restaurant with a stat...  168     25   \n",
      "1  2022-03-10  It’s a retro throwback \\nNamchondong Mural Vil...  200     35   \n",
      "2  2022-03-08  A popular place in Seongnam City of Gyeonggi P...  192     25   \n",
      "3  2022-03-04  Have you heard? (whispering)😝\\nKorea’s first-e...  181     25   \n",
      "4  2022-03-02  A complete guide to unique cafés in Yongin Cit...  177     28   \n",
      "\n",
      "   공유수  댓글수  팔로워_수                                        링크  \n",
      "0    0    0   9766  https://www.instagram.com/p/Ca_cN1HPMlv/  \n",
      "1    0    3      0  https://www.instagram.com/p/Ca6eIqfPoTV/  \n",
      "2    0    0      0  https://www.instagram.com/p/Ca1mOngPNr7/  \n",
      "3    0    2      0  https://www.instagram.com/p/CarTSR8hpjk/  \n",
      "4    0    0      0  https://www.instagram.com/p/CamCGL3LSHX/  \n",
      "instagram_20220314-120021.xlsx\n",
      "           날짜                                                 제목  조회수  좋아요_수  \\\n",
      "0  2022-03-12  Moran Station’s hottest restaurant with a stat...  210     25   \n",
      "1  2022-03-10  It’s a retro throwback \\nNamchondong Mural Vil...  246     35   \n",
      "2  2022-03-08  A popular place in Seongnam City of Gyeonggi P...  238     25   \n",
      "3  2022-03-04  Have you heard? (whispering)😝\\nKorea’s first-e...  228     25   \n",
      "4  2022-03-02  A complete guide to unique cafés in Yongin Cit...  212     28   \n",
      "\n",
      "   공유수  댓글수  팔로워_수                                        링크  \n",
      "0    0    0   9766  https://www.instagram.com/p/Ca_cN1HPMlv/  \n",
      "1    0    3      0  https://www.instagram.com/p/Ca6eIqfPoTV/  \n",
      "2    0    0      0  https://www.instagram.com/p/Ca1mOngPNr7/  \n",
      "3    0    2      0  https://www.instagram.com/p/CarTSR8hpjk/  \n",
      "4    0    0      0  https://www.instagram.com/p/CamCGL3LSHX/  \n",
      "instagram_20220314-140242.xlsx\n",
      "           날짜                                                 제목  조회수  좋아요_수  \\\n",
      "0  2022-02-28  Mystical constellations and planets🌎,\\nDon’t y...  166     27   \n",
      "1  2022-03-02  A complete guide to unique cafés in Yongin Cit...  212     28   \n",
      "2  2022-03-04  Have you heard? (whispering)😝\\nKorea’s first-e...  228     25   \n",
      "3  2022-03-08  A popular place in Seongnam City of Gyeonggi P...  238     25   \n",
      "4  2022-03-10  It’s a retro throwback \\nNamchondong Mural Vil...  246     35   \n",
      "\n",
      "   공유수  댓글수  팔로워_수                                        링크  \n",
      "0    0    0      0  https://www.instagram.com/p/Cag862TrWuX/  \n",
      "1    0    0      0  https://www.instagram.com/p/CamCGL3LSHX/  \n",
      "2    0    2      0  https://www.instagram.com/p/CarTSR8hpjk/  \n",
      "3    0    0      0  https://www.instagram.com/p/Ca1mOngPNr7/  \n",
      "4    0    3      0  https://www.instagram.com/p/Ca6eIqfPoTV/  \n",
      "instagram_20220315-153458.xlsx\n",
      "           날짜                                                 제목  조회수  좋아요_수  \\\n",
      "0  2022-02-28  Mystical constellations and planets🌎,\\nDon’t y...  166     27   \n",
      "1  2022-03-02  A complete guide to unique cafés in Yongin Cit...  213     28   \n",
      "2  2022-03-04  Have you heard? (whispering)😝\\nKorea’s first-e...  228     25   \n",
      "3  2022-03-08  A popular place in Seongnam City of Gyeonggi P...  242     25   \n",
      "4  2022-03-10  It’s a retro throwback \\nNamchondong Mural Vil...  246     35   \n",
      "\n",
      "   공유수  댓글수  팔로워_수                                        링크  \n",
      "0    0    0      0  https://www.instagram.com/p/Cag862TrWuX/  \n",
      "1    0    0      0  https://www.instagram.com/p/CamCGL3LSHX/  \n",
      "2    0    2      0  https://www.instagram.com/p/CarTSR8hpjk/  \n",
      "3    0    0      0  https://www.instagram.com/p/Ca1mOngPNr7/  \n",
      "4    0    4      0  https://www.instagram.com/p/Ca6eIqfPoTV/  \n",
      "instagram_20220316-174345.xlsx\n",
      "           날짜                                                 제목  조회수  좋아요_수  \\\n",
      "0  2022-03-02  A complete guide to unique cafés in Yongin Cit...  214     28   \n",
      "1  2022-03-04  Have you heard? (whispering)😝\\nKorea’s first-e...  230     25   \n",
      "2  2022-03-08  A popular place in Seongnam City of Gyeonggi P...  246     25   \n",
      "3  2022-03-10  It’s a retro throwback \\nNamchondong Mural Vil...  247     35   \n",
      "4  2022-03-12  Moran Station’s hottest restaurant with a stat...  230     26   \n",
      "\n",
      "   공유수  댓글수  팔로워_수                                        링크  \n",
      "0    0    0      0  https://www.instagram.com/p/CamCGL3LSHX/  \n",
      "1    0    2      0  https://www.instagram.com/p/CarTSR8hpjk/  \n",
      "2    0    0      0  https://www.instagram.com/p/Ca1mOngPNr7/  \n",
      "3    0    4      0  https://www.instagram.com/p/Ca6eIqfPoTV/  \n",
      "4    0    0      0  https://www.instagram.com/p/Ca_cN1HPMlv/  \n",
      "instagram_20220317-163539.xlsx\n",
      "           날짜                                                 제목  조회수  좋아요_수  \\\n",
      "0  2022-03-04  Have you heard? (whispering)😝\\nKorea’s first-e...  230     25   \n",
      "1  2022-03-08  A popular place in Seongnam City of Gyeonggi P...  247     25   \n",
      "2  2022-03-10  It’s a retro throwback \\nNamchondong Mural Vil...  247     35   \n",
      "3  2022-03-12  Moran Station’s hottest restaurant with a stat...  230     26   \n",
      "4  2022-03-15  Have you heard of Empress Myeongseong, an icon...  181     24   \n",
      "\n",
      "   공유수  댓글수  팔로워_수                                        링크  \n",
      "0    0    2      0  https://www.instagram.com/p/CarTSR8hpjk/  \n",
      "1    0    0      0  https://www.instagram.com/p/Ca1mOngPNr7/  \n",
      "2    0    4      0  https://www.instagram.com/p/Ca6eIqfPoTV/  \n",
      "3    0    0      0  https://www.instagram.com/p/Ca_cN1HPMlv/  \n",
      "4    0    0      0  https://www.instagram.com/p/CbHbw-uB5B3/  \n",
      "instagram_20220318-164919.xlsx\n",
      "           날짜                                                 제목  조회수  좋아요_수  \\\n",
      "0  2022-03-04  Have you heard? (whispering)😝\\nKorea’s first-e...  230     25   \n",
      "1  2022-03-08  A popular place in Seongnam City of Gyeonggi P...  251     25   \n",
      "2  2022-03-10  It’s a retro throwback \\nNamchondong Mural Vil...  247     35   \n",
      "3  2022-03-12  Moran Station’s hottest restaurant with a stat...  230     26   \n",
      "4  2022-03-15  Have you heard of Empress Myeongseong, an icon...  189     24   \n",
      "\n",
      "   공유수  댓글수  팔로워_수                                        링크  \n",
      "0    0    2      0  https://www.instagram.com/p/CarTSR8hpjk/  \n",
      "1    0    0      0  https://www.instagram.com/p/Ca1mOngPNr7/  \n",
      "2    0    4      0  https://www.instagram.com/p/Ca6eIqfPoTV/  \n",
      "3    0    0      0  https://www.instagram.com/p/Ca_cN1HPMlv/  \n",
      "4    0    0      0  https://www.instagram.com/p/CbHbw-uB5B3/  \n",
      "instagram_20220321-111821.xlsx\n",
      "           날짜                                                 제목  조회수  좋아요_수  \\\n",
      "0  2022-01-01  🎊 Happy New Year! 🎊\\nWe hope you have a happy ...  219     31   \n",
      "1  2022-01-05  Enjoy your #winter more in Gyeonggi-do!\\n\\n#Ya...  284     41   \n",
      "2  2022-01-06  Good walking path in Yangju-si, Gyeonggi-do🌳🌲\\...  237     31   \n",
      "3  2022-01-07  Gyeonggi Winter Camping❄️\\n\\nThe best camping ...  275     32   \n",
      "4  2022-01-13  Imjingak Pyeonghwa Nuri Park in Paju\\n\\nA plac...  301     27   \n",
      "\n",
      "   공유수  댓글수  팔로워_수                                        링크  \n",
      "0    2    0      0  https://www.instagram.com/p/CYK_OtcFGPW/  \n",
      "1    1    1      0  https://www.instagram.com/p/CYV33FsPLHL/  \n",
      "2    0    0      0  https://www.instagram.com/p/CYYeBR9v8_1/  \n",
      "3    0    0      0  https://www.instagram.com/p/CYa1V4Yv1cp/  \n",
      "4    0    2      0  https://www.instagram.com/p/CYqqLSpPg0L/  \n",
      "instagram_20220323-172450.xlsx\n",
      "           날짜                                                 제목  조회수  좋아요_수  \\\n",
      "0  2022-01-01  🎊 Happy New Year! 🎊\\nWe hope you have a happy ...  219     31   \n",
      "1  2022-01-05  Enjoy your #winter more in Gyeonggi-do!\\n\\n#Ya...  284     41   \n",
      "2  2022-01-06  Good walking path in Yangju-si, Gyeonggi-do🌳🌲\\...  237     31   \n",
      "3  2022-01-07  Gyeonggi Winter Camping❄️\\n\\nThe best camping ...  275     32   \n",
      "4  2022-01-13  Imjingak Pyeonghwa Nuri Park in Paju\\n\\nA plac...  301     27   \n",
      "\n",
      "   공유수  댓글수  팔로워_수                                        링크  \n",
      "0    2    0      0  https://www.instagram.com/p/CYK_OtcFGPW/  \n",
      "1    1    1      0  https://www.instagram.com/p/CYV33FsPLHL/  \n",
      "2    0    0      0  https://www.instagram.com/p/CYYeBR9v8_1/  \n",
      "3    0    0      0  https://www.instagram.com/p/CYa1V4Yv1cp/  \n",
      "4    0    2      0  https://www.instagram.com/p/CYqqLSpPg0L/  \n",
      "instagram_20220328-102313.xlsx\n",
      "           날짜                                                 제목   조회수  좋아요_수  \\\n",
      "0  2022-01-05  Enjoy your #winter more in Gyeonggi-do!\\n\\n#Ya...   284     41   \n",
      "1  2022-01-06  Good walking path in Yangju-si, Gyeonggi-do🌳🌲\\...   237     31   \n",
      "2  2022-01-07  Gyeonggi Winter Camping❄️\\n\\nThe best camping ...   275     32   \n",
      "3  2022-01-13  Imjingak Pyeonghwa Nuri Park in Paju\\n\\nA plac...   301     27   \n",
      "4  2022-01-14  Gwanggyo Lake Park\\n\\nA warm healing space tha...  1374     25   \n",
      "\n",
      "   공유수  댓글수  팔로워_수                                        링크  \n",
      "0    1    1      0  https://www.instagram.com/p/CYV33FsPLHL/  \n",
      "1    0    0      0  https://www.instagram.com/p/CYYeBR9v8_1/  \n",
      "2    0    0      0  https://www.instagram.com/p/CYa1V4Yv1cp/  \n",
      "3    0    2      0  https://www.instagram.com/p/CYqqLSpPg0L/  \n",
      "4    0    1      0  https://www.instagram.com/p/CYt6dZPv1vn/  \n"
     ]
    }
   ],
   "source": [
    "for one in file_list[:-4]:\n",
    "    df = pd.read_excel(f'..\\crawling_data\\instagram\\{one}')\n",
    "    print(one)\n",
    "    print(df.head())"
   ]
  },
  {
   "cell_type": "code",
   "execution_count": 86,
   "metadata": {},
   "outputs": [],
   "source": [
    "for one in file_list[:-4]:\n",
    "    df = pd.read_excel(f'.\\crawling_data\\instagram\\{one}')\n",
    "    with pd.ExcelWriter('excel_test.xlsx') as writer:\n",
    "        df.to_excel(writer, sheet_name = one, index=False)"
   ]
  },
  {
   "cell_type": "code",
   "execution_count": 1,
   "metadata": {},
   "outputs": [],
   "source": [
    "import random"
   ]
  },
  {
   "cell_type": "code",
   "execution_count": 3,
   "metadata": {},
   "outputs": [
    {
     "name": "stdout",
     "output_type": "stream",
     "text": [
      "2.6722484821888024\n"
     ]
    }
   ],
   "source": [
    "print(random.uniform(1,5))"
   ]
  },
  {
   "cell_type": "code",
   "execution_count": 5,
   "metadata": {},
   "outputs": [
    {
     "data": {
      "text/plain": [
       "1"
      ]
     },
     "execution_count": 5,
     "metadata": {},
     "output_type": "execute_result"
    }
   ],
   "source": [
    "random.choice(range(5))"
   ]
  },
  {
   "cell_type": "code",
   "execution_count": 10,
   "metadata": {},
   "outputs": [
    {
     "data": {
      "text/plain": [
       "4"
      ]
     },
     "execution_count": 10,
     "metadata": {},
     "output_type": "execute_result"
    }
   ],
   "source": [
    "random.choice([1,2,3,4,5,6,7,8,9,10])"
   ]
  },
  {
   "cell_type": "code",
   "execution_count": 11,
   "metadata": {},
   "outputs": [
    {
     "ename": "KeyError",
     "evalue": "1",
     "output_type": "error",
     "traceback": [
      "\u001b[1;31m---------------------------------------------------------------------------\u001b[0m",
      "\u001b[1;31mKeyError\u001b[0m                                  Traceback (most recent call last)",
      "\u001b[1;32m<ipython-input-11-c13211b1f7b6>\u001b[0m in \u001b[0;36m<module>\u001b[1;34m\u001b[0m\n\u001b[1;32m----> 1\u001b[1;33m \u001b[0mrandom\u001b[0m\u001b[1;33m.\u001b[0m\u001b[0mchoice\u001b[0m\u001b[1;33m(\u001b[0m\u001b[1;33m{\u001b[0m\u001b[1;34m'a'\u001b[0m\u001b[1;33m:\u001b[0m\u001b[1;36m1\u001b[0m\u001b[1;33m,\u001b[0m \u001b[1;34m'b'\u001b[0m\u001b[1;33m:\u001b[0m\u001b[1;36m2\u001b[0m\u001b[1;33m,\u001b[0m \u001b[1;34m'c'\u001b[0m\u001b[1;33m:\u001b[0m\u001b[1;36m3\u001b[0m\u001b[1;33m}\u001b[0m\u001b[1;33m)\u001b[0m\u001b[1;33m\u001b[0m\u001b[1;33m\u001b[0m\u001b[0m\n\u001b[0m",
      "\u001b[1;32mC:\\anaconda\\lib\\random.py\u001b[0m in \u001b[0;36mchoice\u001b[1;34m(self, seq)\u001b[0m\n\u001b[0;32m    289\u001b[0m         \u001b[1;32mexcept\u001b[0m \u001b[0mValueError\u001b[0m\u001b[1;33m:\u001b[0m\u001b[1;33m\u001b[0m\u001b[1;33m\u001b[0m\u001b[0m\n\u001b[0;32m    290\u001b[0m             \u001b[1;32mraise\u001b[0m \u001b[0mIndexError\u001b[0m\u001b[1;33m(\u001b[0m\u001b[1;34m'Cannot choose from an empty sequence'\u001b[0m\u001b[1;33m)\u001b[0m \u001b[1;32mfrom\u001b[0m \u001b[1;32mNone\u001b[0m\u001b[1;33m\u001b[0m\u001b[1;33m\u001b[0m\u001b[0m\n\u001b[1;32m--> 291\u001b[1;33m         \u001b[1;32mreturn\u001b[0m \u001b[0mseq\u001b[0m\u001b[1;33m[\u001b[0m\u001b[0mi\u001b[0m\u001b[1;33m]\u001b[0m\u001b[1;33m\u001b[0m\u001b[1;33m\u001b[0m\u001b[0m\n\u001b[0m\u001b[0;32m    292\u001b[0m \u001b[1;33m\u001b[0m\u001b[0m\n\u001b[0;32m    293\u001b[0m     \u001b[1;32mdef\u001b[0m \u001b[0mshuffle\u001b[0m\u001b[1;33m(\u001b[0m\u001b[0mself\u001b[0m\u001b[1;33m,\u001b[0m \u001b[0mx\u001b[0m\u001b[1;33m,\u001b[0m \u001b[0mrandom\u001b[0m\u001b[1;33m=\u001b[0m\u001b[1;32mNone\u001b[0m\u001b[1;33m)\u001b[0m\u001b[1;33m:\u001b[0m\u001b[1;33m\u001b[0m\u001b[1;33m\u001b[0m\u001b[0m\n",
      "\u001b[1;31mKeyError\u001b[0m: 1"
     ]
    }
   ],
   "source": [
    "random.choice({'a':1, 'b':2, 'c':3})"
   ]
  },
  {
   "cell_type": "code",
   "execution_count": 9,
   "metadata": {},
   "outputs": [
    {
     "data": {
      "text/plain": [
       "[0, 1, 2, 3, 4]"
      ]
     },
     "execution_count": 9,
     "metadata": {},
     "output_type": "execute_result"
    }
   ],
   "source": [
    "list( range(5) )"
   ]
  },
  {
   "cell_type": "code",
   "execution_count": 12,
   "metadata": {},
   "outputs": [
    {
     "data": {
      "text/plain": [
       "'c:\\\\data\\\\Wantreez\\\\Crawling'"
      ]
     },
     "execution_count": 12,
     "metadata": {},
     "output_type": "execute_result"
    }
   ],
   "source": [
    "os.getcwd()"
   ]
  },
  {
   "cell_type": "code",
   "execution_count": 13,
   "metadata": {},
   "outputs": [
    {
     "data": {
      "text/plain": [
       "['blog_crawling.ipynb',\n",
       " 'chromedriver.exe',\n",
       " 'crawling_data',\n",
       " 'data_comparison.ipynb',\n",
       " 'excel_test.xlsx',\n",
       " 'excel_write_test.ipynb',\n",
       " 'facebook_crawling.ipynb',\n",
       " 'facebook_crawling_test.ipynb',\n",
       " 'facebook_test_account.txt',\n",
       " 'file_merge.ipynb',\n",
       " 'insta_crawling.ipynb',\n",
       " 'naver_blog_crawling.ipynb',\n",
       " 'pic_down',\n",
       " 'test.ipynb',\n",
       " 'tta',\n",
       " 'weibo_crawling.ipynb']"
      ]
     },
     "execution_count": 13,
     "metadata": {},
     "output_type": "execute_result"
    }
   ],
   "source": [
    "os.listdir()"
   ]
  },
  {
   "cell_type": "code",
   "execution_count": 14,
   "metadata": {},
   "outputs": [
    {
     "data": {
      "text/plain": [
       "['blog_crawling.ipynb',\n",
       " 'chromedriver.exe',\n",
       " 'crawling_data',\n",
       " 'data_comparison.ipynb',\n",
       " 'excel_test.xlsx',\n",
       " 'excel_write_test.ipynb',\n",
       " 'facebook_crawling.ipynb',\n",
       " 'facebook_crawling_test.ipynb',\n",
       " 'facebook_test_account.txt',\n",
       " 'file_merge.ipynb',\n",
       " 'insta_crawling.ipynb',\n",
       " 'naver_blog_crawling.ipynb',\n",
       " 'pic_down',\n",
       " 'test.ipynb',\n",
       " 'tta',\n",
       " 'weibo_crawling.ipynb']"
      ]
     },
     "execution_count": 14,
     "metadata": {},
     "output_type": "execute_result"
    }
   ],
   "source": [
    "os.listdir(os.getcwd())"
   ]
  },
  {
   "cell_type": "code",
   "execution_count": 15,
   "metadata": {},
   "outputs": [],
   "source": [
    "import glob"
   ]
  },
  {
   "cell_type": "code",
   "execution_count": 17,
   "metadata": {},
   "outputs": [
    {
     "data": {
      "text/plain": [
       "['blog_crawling.ipynb',\n",
       " 'data_comparison.ipynb',\n",
       " 'excel_write_test.ipynb',\n",
       " 'facebook_crawling.ipynb',\n",
       " 'facebook_crawling_test.ipynb',\n",
       " 'file_merge.ipynb',\n",
       " 'insta_crawling.ipynb',\n",
       " 'naver_blog_crawling.ipynb',\n",
       " 'test.ipynb',\n",
       " 'weibo_crawling.ipynb']"
      ]
     },
     "execution_count": 17,
     "metadata": {},
     "output_type": "execute_result"
    }
   ],
   "source": [
    "glob.glob('*.ipynb')"
   ]
  },
  {
   "cell_type": "code",
   "execution_count": 18,
   "metadata": {},
   "outputs": [
    {
     "data": {
      "text/plain": [
       "list"
      ]
     },
     "execution_count": 18,
     "metadata": {},
     "output_type": "execute_result"
    }
   ],
   "source": [
    "type(glob.glob('*.ipynb'))"
   ]
  },
  {
   "cell_type": "code",
   "execution_count": 24,
   "metadata": {},
   "outputs": [
    {
     "data": {
      "text/plain": [
       "['./pic_down\\\\crawling_pic(ggtour).ipynb',\n",
       " './pic_down\\\\crawling_pic(heritage).ipynb']"
      ]
     },
     "execution_count": 24,
     "metadata": {},
     "output_type": "execute_result"
    }
   ],
   "source": [
    "glob.glob('../pic_down/*.ipynb')"
   ]
  },
  {
   "cell_type": "code",
   "execution_count": 31,
   "metadata": {},
   "outputs": [
    {
     "name": "stdout",
     "output_type": "stream",
     "text": [
      "pic_down\\crawling_pic(ggtour).ipynb\n",
      "pic_down\\crawling_pic(heritage).ipynb\n"
     ]
    }
   ],
   "source": [
    "for one in glob.glob('pic_down/*.ipynb'):\n",
    "    print(one)"
   ]
  },
  {
   "cell_type": "code",
   "execution_count": 38,
   "metadata": {},
   "outputs": [
    {
     "data": {
      "text/plain": [
       "['crawling_data/instagram\\\\insta_20220303-172036.csv',\n",
       " 'crawling_data/instagram\\\\insta_20220303-173501.csv',\n",
       " 'crawling_data/instagram\\\\insta_20220303-175217.csv']"
      ]
     },
     "execution_count": 38,
     "metadata": {},
     "output_type": "execute_result"
    }
   ],
   "source": [
    "glob.glob('../crawling_data/instagram/*.csv')"
   ]
  },
  {
   "cell_type": "code",
   "execution_count": 39,
   "metadata": {},
   "outputs": [
    {
     "data": {
      "text/plain": [
       "'c:\\\\data\\\\Wantreez\\\\Crawling\\\\crawling_data\\\\instagram'"
      ]
     },
     "execution_count": 39,
     "metadata": {},
     "output_type": "execute_result"
    }
   ],
   "source": [
    "# 작업 경로 변경\n",
    "os.chdir('../crawling_data/instagram')\n",
    "os.getcwd()"
   ]
  },
  {
   "cell_type": "code",
   "execution_count": 40,
   "metadata": {},
   "outputs": [
    {
     "data": {
      "text/plain": [
       "['instagram_20220308-140736.xlsx',\n",
       " 'instagram_20220308-143246.xlsx',\n",
       " 'instagram_20220308-145605.xlsx',\n",
       " 'instagram_20220310-173640.xlsx',\n",
       " 'instagram_20220311-161229.xlsx',\n",
       " 'instagram_20220314-113716.xlsx',\n",
       " 'instagram_20220314-120021.xlsx',\n",
       " 'instagram_20220314-140242.xlsx',\n",
       " 'instagram_20220315-153458.xlsx',\n",
       " 'instagram_20220316-174345.xlsx',\n",
       " 'instagram_20220317-163539.xlsx',\n",
       " 'instagram_20220318-164919.xlsx',\n",
       " 'instagram_20220321-111821.xlsx',\n",
       " 'instagram_20220323-172450.xlsx',\n",
       " 'instagram_20220328-102313.xlsx',\n",
       " 'instagram_20220329-164006.xlsx',\n",
       " 'insta_20220303-172036.csv',\n",
       " 'insta_20220303-173501.csv',\n",
       " 'insta_20220303-175217.csv']"
      ]
     },
     "execution_count": 40,
     "metadata": {},
     "output_type": "execute_result"
    }
   ],
   "source": [
    "# 현재 작업 위치의 파일 리스트\n",
    "os.listdir()"
   ]
  },
  {
   "cell_type": "code",
   "execution_count": 41,
   "metadata": {},
   "outputs": [
    {
     "data": {
      "text/plain": [
       "['instagram_20220308-140736.xlsx',\n",
       " 'instagram_20220308-143246.xlsx',\n",
       " 'instagram_20220308-145605.xlsx',\n",
       " 'instagram_20220310-173640.xlsx',\n",
       " 'instagram_20220311-161229.xlsx',\n",
       " 'instagram_20220314-113716.xlsx',\n",
       " 'instagram_20220314-120021.xlsx',\n",
       " 'instagram_20220314-140242.xlsx',\n",
       " 'instagram_20220315-153458.xlsx',\n",
       " 'instagram_20220316-174345.xlsx',\n",
       " 'instagram_20220317-163539.xlsx',\n",
       " 'instagram_20220318-164919.xlsx',\n",
       " 'instagram_20220321-111821.xlsx',\n",
       " 'instagram_20220323-172450.xlsx',\n",
       " 'instagram_20220328-102313.xlsx',\n",
       " 'instagram_20220329-164006.xlsx']"
      ]
     },
     "execution_count": 41,
     "metadata": {},
     "output_type": "execute_result"
    }
   ],
   "source": [
    "# 현재 작업 위치에서 확장자가 xlsx인 모든 파일 리스트\n",
    "glob.glob('*.xlsx')"
   ]
  },
  {
   "cell_type": "code",
   "execution_count": 42,
   "metadata": {},
   "outputs": [
    {
     "data": {
      "text/plain": [
       "['insta_20220303-172036.csv',\n",
       " 'insta_20220303-173501.csv',\n",
       " 'insta_20220303-175217.csv']"
      ]
     },
     "execution_count": 42,
     "metadata": {},
     "output_type": "execute_result"
    }
   ],
   "source": [
    "# 현재 작업 위치에서 확장자가 csv인 모든 파일 리스트\n",
    "glob.glob('*.csv')"
   ]
  },
  {
   "cell_type": "code",
   "execution_count": null,
   "metadata": {},
   "outputs": [],
   "source": []
  }
 ],
 "metadata": {
  "interpreter": {
   "hash": "513dc2e41d739bb2c947903f3c0bbf636d03aa53ab50e61c694a27481c81805e"
  },
  "kernelspec": {
   "display_name": "Python 3.8.8 ('base')",
   "language": "python",
   "name": "python3"
  },
  "language_info": {
   "codemirror_mode": {
    "name": "ipython",
    "version": 3
   },
   "file_extension": ".py",
   "mimetype": "text/x-python",
   "name": "python",
   "nbconvert_exporter": "python",
   "pygments_lexer": "ipython3",
   "version": "3.8.8"
  },
  "orig_nbformat": 4
 },
 "nbformat": 4,
 "nbformat_minor": 2
}
