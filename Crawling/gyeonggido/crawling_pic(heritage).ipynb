{
 "cells": [
  {
   "cell_type": "markdown",
   "metadata": {},
   "source": [
    "# 국가문화유산포털 사진 크롤링"
   ]
  },
  {
   "cell_type": "code",
   "execution_count": 1,
   "metadata": {},
   "outputs": [],
   "source": [
    "from selenium import webdriver\n",
    "import time\n",
    "from bs4 import BeautifulSoup as bs\n",
    "import random\n",
    "from tqdm import tqdm\n",
    "import chromedriver_autoinstaller as ca"
   ]
  },
  {
   "cell_type": "markdown",
   "metadata": {},
   "source": [
    "## 검색어 설정"
   ]
  },
  {
   "cell_type": "code",
   "execution_count": 29,
   "metadata": {},
   "outputs": [],
   "source": [
    "# 검색어 입력\n",
    "# 예) search_word = '서삼릉',  검색어 더블 클릭하고 입력하면 편리.\n",
    "search_word = '서삼릉'"
   ]
  },
  {
   "cell_type": "markdown",
   "metadata": {},
   "source": [
    "## 페이지 접속"
   ]
  },
  {
   "cell_type": "code",
   "execution_count": 30,
   "metadata": {},
   "outputs": [],
   "source": [
    "# 페이지 접속\n",
    "ca.install(True)\n",
    "url = 'https://www.heritage.go.kr/main/'\n",
    "driver = webdriver.Chrome()\n",
    "driver.get(url)\n",
    "driver.implicitly_wait(5)\n",
    "driver.maximize_window()\n",
    "time.sleep(1)"
   ]
  },
  {
   "cell_type": "code",
   "execution_count": 31,
   "metadata": {},
   "outputs": [
    {
     "name": "stderr",
     "output_type": "stream",
     "text": [
      "<ipython-input-31-0e848bd8d230>:2: DeprecationWarning: find_element_by_xpath is deprecated. Please use find_element(by=By.XPATH, value=xpath) instead\n",
      "  search_box = driver.find_element_by_xpath('//*[@id=\"searchWord2\"]')\n",
      "<ipython-input-31-0e848bd8d230>:3: DeprecationWarning: find_element_by_xpath is deprecated. Please use find_element(by=By.XPATH, value=xpath) instead\n",
      "  search_button = driver.find_element_by_xpath('//*[@id=\"btnSearchTop\"]')\n"
     ]
    }
   ],
   "source": [
    "# 검색\n",
    "search_box = driver.find_element_by_xpath('//*[@id=\"searchWord2\"]')\n",
    "search_button = driver.find_element_by_xpath('//*[@id=\"btnSearchTop\"]')\n",
    "\n",
    "search_box.send_keys(search_word)\n",
    "search_button.click()\n",
    "time.sleep( random.uniform(1,3) )\n",
    "driver.implicitly_wait(3)"
   ]
  },
  {
   "cell_type": "code",
   "execution_count": 32,
   "metadata": {},
   "outputs": [
    {
     "data": {
      "text/plain": [
       "'국가문화유산포탈 | 문화재 검색'"
      ]
     },
     "execution_count": 32,
     "metadata": {},
     "output_type": "execute_result"
    }
   ],
   "source": [
    "# 검색 결과에서 원하는 자료 링크 찾기\n",
    "search_result = bs(driver.page_source, 'lxml')\n",
    "search_result.title.text"
   ]
  },
  {
   "cell_type": "code",
   "execution_count": 33,
   "metadata": {},
   "outputs": [
    {
     "data": {
      "text/plain": [
       "4"
      ]
     },
     "execution_count": 33,
     "metadata": {},
     "output_type": "execute_result"
    }
   ],
   "source": [
    "raw_search_result_list = search_result.find('ul', 'search-result type-list')\n",
    "len(raw_search_result_list.find_all('li'))"
   ]
  },
  {
   "cell_type": "code",
   "execution_count": 34,
   "metadata": {},
   "outputs": [
    {
     "name": "stdout",
     "output_type": "stream",
     "text": [
      "고양 서삼릉 ( 高陽 西三陵 ) \n",
      "영천치일리인종태실 ( 永川治日里仁宗胎室 ) \n",
      "서울 효창공원 ( 서울 孝昌公園 ) \n",
      "구리 동구릉 ( 九里 東九陵 ) \n"
     ]
    }
   ],
   "source": [
    "search_result_list = raw_search_result_list.find_all('li')\n",
    "for title in search_result_list:\n",
    "    temp = title.find('h4').text\n",
    "    print(temp)"
   ]
  },
  {
   "cell_type": "code",
   "execution_count": 35,
   "metadata": {},
   "outputs": [
    {
     "name": "stdout",
     "output_type": "stream",
     "text": [
      "https://www.heritage.go.kr/heri/cul/culSelectDetail.do?pageNo=1_1_1_1&ccbaCpno=1333102000000\n"
     ]
    }
   ],
   "source": [
    "# 검색한 단어가 들어간 링크 골라내기\n",
    "search_result_list = raw_search_result_list.find_all('li')\n",
    "for i, title in enumerate(search_result_list):\n",
    "    temp = title.find('h4').text\n",
    "    if search_word in temp:\n",
    "        link = search_result_list[i].find('a').attrs['href']\n",
    "        print(link)"
   ]
  },
  {
   "cell_type": "code",
   "execution_count": 36,
   "metadata": {},
   "outputs": [],
   "source": [
    "# 검색 결과 연관 페이지로 이동\n",
    "driver.get(link)\n",
    "driver.implicitly_wait(3)"
   ]
  },
  {
   "cell_type": "markdown",
   "metadata": {},
   "source": [
    "## 사진 페이지 정보 담기"
   ]
  },
  {
   "cell_type": "code",
   "execution_count": 37,
   "metadata": {},
   "outputs": [
    {
     "data": {
      "text/plain": [
       "'사적 고양 서삼릉 (高陽 西三陵) | 국가문화유산포탈 | 문화재 검색'"
      ]
     },
     "execution_count": 37,
     "metadata": {},
     "output_type": "execute_result"
    }
   ],
   "source": [
    "# 페이지 정보 담기\n",
    "soup = bs(driver.page_source, 'lxml')\n",
    "soup.title.text"
   ]
  },
  {
   "cell_type": "code",
   "execution_count": 38,
   "metadata": {},
   "outputs": [
    {
     "name": "stderr",
     "output_type": "stream",
     "text": [
      "<ipython-input-38-800de7d0738e>:2: DeprecationWarning: find_element_by_xpath is deprecated. Please use find_element(by=By.XPATH, value=xpath) instead\n",
      "  more_button = driver.find_element_by_xpath('//*[@id=\"img_list_area\"]/a')\n"
     ]
    }
   ],
   "source": [
    "# 더보기 클릭\n",
    "more_button = driver.find_element_by_xpath('//*[@id=\"img_list_area\"]/a')\n",
    "more_button.click()"
   ]
  },
  {
   "cell_type": "code",
   "execution_count": 39,
   "metadata": {},
   "outputs": [
    {
     "data": {
      "text/plain": [
       "9"
      ]
     },
     "execution_count": 39,
     "metadata": {},
     "output_type": "execute_result"
    }
   ],
   "source": [
    "img_list_area = soup.find('div', id='img_list_area')\n",
    "len(img_list_area)"
   ]
  },
  {
   "cell_type": "code",
   "execution_count": 40,
   "metadata": {},
   "outputs": [
    {
     "data": {
      "text/plain": [
       "60"
      ]
     },
     "execution_count": 40,
     "metadata": {},
     "output_type": "execute_result"
    }
   ],
   "source": [
    "li = img_list_area.find_all('li')\n",
    "len(li)"
   ]
  },
  {
   "cell_type": "markdown",
   "metadata": {},
   "source": [
    "## 게시글 링크 수집"
   ]
  },
  {
   "cell_type": "code",
   "execution_count": 41,
   "metadata": {},
   "outputs": [
    {
     "data": {
      "text/plain": [
       "60"
      ]
     },
     "execution_count": 41,
     "metadata": {},
     "output_type": "execute_result"
    }
   ],
   "source": [
    "img_link_list = []\n",
    "for num in li:\n",
    "    temp = num.find('a').attrs['href'][-10:-3]\n",
    "    link = f'https://www.heritage.go.kr/heri/cul/imgHeritage.do?ccimId={temp}&ccbaKdcd=13&ccbaAsno=02000000&ccbaCtcd=31'\n",
    "    img_link_list.append(link)\n",
    "\n",
    "len(img_link_list)"
   ]
  },
  {
   "cell_type": "markdown",
   "metadata": {},
   "source": [
    "## 사진 다운"
   ]
  },
  {
   "cell_type": "code",
   "execution_count": 42,
   "metadata": {},
   "outputs": [
    {
     "name": "stderr",
     "output_type": "stream",
     "text": [
      "  0%|          | 0/60 [00:00<?, ?it/s]<ipython-input-42-5f7548ed76d1>:7: DeprecationWarning: find_element_by_xpath is deprecated. Please use find_element(by=By.XPATH, value=xpath) instead\n",
      "  down_button = driver.find_element_by_xpath('//*[@id=\"popup_wrap\"]/div[2]/div/ul/li[2]/a')\n",
      "100%|██████████| 60/60 [03:10<00:00,  3.18s/it]\n"
     ]
    }
   ],
   "source": [
    "i = 0\n",
    "for link in tqdm(img_link_list):\n",
    "    driver.get(link)\n",
    "    driver.implicitly_wait(3)\n",
    "\n",
    "    # 다운로드 버튼 클릭\n",
    "    down_button = driver.find_element_by_xpath('//*[@id=\"popup_wrap\"]/div[2]/div/ul/li[2]/a')\n",
    "    down_button.click()\n",
    "    # 점점 시간 늘리면서 랜덤(1~3초 사이)하게 쉬기(크롤링 차단 방지 위해 설정)\n",
    "    time.sleep( random.uniform(1,3) + i)\n",
    "    i += 0.01\n",
    "# chromedriver 종료\n",
    "driver.quit()"
   ]
  },
  {
   "cell_type": "markdown",
   "metadata": {},
   "source": [
    "# 코드 마지막"
   ]
  }
 ],
 "metadata": {
  "interpreter": {
   "hash": "513dc2e41d739bb2c947903f3c0bbf636d03aa53ab50e61c694a27481c81805e"
  },
  "kernelspec": {
   "display_name": "Python 3.8.8 ('base')",
   "language": "python",
   "name": "python3"
  },
  "language_info": {
   "codemirror_mode": {
    "name": "ipython",
    "version": 3
   },
   "file_extension": ".py",
   "mimetype": "text/x-python",
   "name": "python",
   "nbconvert_exporter": "python",
   "pygments_lexer": "ipython3",
   "version": "3.9.7"
  },
  "orig_nbformat": 4
 },
 "nbformat": 4,
 "nbformat_minor": 2
}
