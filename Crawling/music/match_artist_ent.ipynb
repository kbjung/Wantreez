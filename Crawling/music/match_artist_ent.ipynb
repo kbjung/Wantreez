{
 "cells": [
  {
   "cell_type": "markdown",
   "metadata": {},
   "source": [
    "# 가수와 소속사 매칭\n",
    "* 전 실시간 음원 파일을 가져와 곡을 확인\n",
    "* 해당일 실시간 음원 파일의 곡과 비교하여 새로 생긴 곡만 추출"
   ]
  },
  {
   "cell_type": "markdown",
   "metadata": {},
   "source": [
    "## 라이브러리"
   ]
  },
  {
   "cell_type": "code",
   "execution_count": 1,
   "metadata": {},
   "outputs": [],
   "source": [
    "import pandas as pd\n",
    "import os"
   ]
  },
  {
   "cell_type": "markdown",
   "metadata": {},
   "source": [
    "### 사이트 설정"
   ]
  },
  {
   "cell_type": "code",
   "execution_count": 53,
   "metadata": {},
   "outputs": [],
   "source": [
    "# 음원 사이트 설정\n",
    "# flo, bugs, genie, melon, vibe, soribada 중 택1.\n",
    "site_name = 'genie'"
   ]
  },
  {
   "cell_type": "markdown",
   "metadata": {},
   "source": [
    "## 기존 파일 가져오기"
   ]
  },
  {
   "cell_type": "code",
   "execution_count": 54,
   "metadata": {},
   "outputs": [],
   "source": [
    "# 현재 작업 경로\n",
    "path = 'c:/data/Wantreez/Crawling/music/'"
   ]
  },
  {
   "cell_type": "code",
   "execution_count": 55,
   "metadata": {},
   "outputs": [],
   "source": [
    "# 매칭 파일 저장 경로, 폴더 생성\n",
    "folder_path = f'/crawled_data/match_{site_name}/'\n",
    "created_folder_path = path + folder_path\n",
    "os.makedirs(created_folder_path, exist_ok=True)"
   ]
  },
  {
   "cell_type": "code",
   "execution_count": 56,
   "metadata": {},
   "outputs": [],
   "source": [
    "# 실시간 순위 파일 위치로 작업위치 이동\n",
    "file_folder_path = f'/crawled_data/live_{site_name}/'\n",
    "file_path = path + file_folder_path\n",
    "try:\n",
    "    os.chdir(file_path)\n",
    "except:\n",
    "    pass"
   ]
  },
  {
   "cell_type": "code",
   "execution_count": 57,
   "metadata": {},
   "outputs": [
    {
     "data": {
      "text/plain": [
       "['live_genie_20220405.xlsx',\n",
       " 'live_genie_20220406.xlsx',\n",
       " 'live_genie_20220407.xlsx',\n",
       " 'live_genie_20220408.xlsx',\n",
       " 'live_genie_20220412.xlsx',\n",
       " 'live_genie_20220413.xlsx',\n",
       " 'live_genie_20220413_152916.xlsx',\n",
       " 'live_genie_20220414_134752.xlsx',\n",
       " 'live_genie_20220415_180602.xlsx',\n",
       " 'live_genie_20220418_110238.xlsx',\n",
       " 'live_genie_20220419_110232.xlsx',\n",
       " 'live_genie_20220420_110217.xlsx',\n",
       " 'live_genie_20220421_110254.xlsx',\n",
       " 'live_genie_20220422_110235.xlsx',\n",
       " 'live_genie_20220425_110255.xlsx',\n",
       " 'live_genie_20220426_110231.xlsx',\n",
       " 'live_genie_20220427_110229.xlsx']"
      ]
     },
     "execution_count": 57,
     "metadata": {},
     "output_type": "execute_result"
    }
   ],
   "source": [
    "# 파일 이름들\n",
    "file_list = os.listdir()\n",
    "file_list"
   ]
  },
  {
   "cell_type": "markdown",
   "metadata": {},
   "source": [
    "### 가져올 날짜 설정"
   ]
  },
  {
   "cell_type": "code",
   "execution_count": 58,
   "metadata": {},
   "outputs": [
    {
     "data": {
      "text/plain": [
       "('20220418', '20220422')"
      ]
     },
     "execution_count": 58,
     "metadata": {},
     "output_type": "execute_result"
    }
   ],
   "source": [
    "# 가져올 날짜 설정\n",
    "start_date = '2022-04-18'\n",
    "end_date = '2022-04-22'\n",
    "mod_start_date = start_date.replace('-', '')\n",
    "mod_end_date = end_date.replace('-', '')\n",
    "mod_start_date, mod_end_date"
   ]
  },
  {
   "cell_type": "code",
   "execution_count": 59,
   "metadata": {},
   "outputs": [
    {
     "data": {
      "text/plain": [
       "['live_genie_20220418_110238.xlsx',\n",
       " 'live_genie_20220419_110232.xlsx',\n",
       " 'live_genie_20220420_110217.xlsx',\n",
       " 'live_genie_20220421_110254.xlsx',\n",
       " 'live_genie_20220422_110235.xlsx']"
      ]
     },
     "execution_count": 59,
     "metadata": {},
     "output_type": "execute_result"
    }
   ],
   "source": [
    "for i, one_file in enumerate(file_list):\n",
    "    if mod_start_date == mod_end_date:\n",
    "        start_idx = i\n",
    "        end_idx = i\n",
    "    else:\n",
    "        if mod_start_date in one_file:\n",
    "            start_idx = i\n",
    "        elif mod_end_date in one_file:\n",
    "            end_idx = i\n",
    "mod_file_list = file_list[start_idx:end_idx+1]\n",
    "mod_file_list"
   ]
  },
  {
   "cell_type": "code",
   "execution_count": 60,
   "metadata": {},
   "outputs": [
    {
     "name": "stdout",
     "output_type": "stream",
     "text": [
      "<class 'pandas.core.frame.DataFrame'>\n",
      "RangeIndex: 500 entries, 0 to 499\n",
      "Data columns (total 5 columns):\n",
      " #   Column  Non-Null Count  Dtype \n",
      "---  ------  --------------  ----- \n",
      " 0   날짜      500 non-null    object\n",
      " 1   순위      500 non-null    int64 \n",
      " 2   곡       500 non-null    object\n",
      " 3   가수      500 non-null    object\n",
      " 4   앨범      500 non-null    object\n",
      "dtypes: int64(1), object(4)\n",
      "memory usage: 19.7+ KB\n"
     ]
    }
   ],
   "source": [
    "df = pd.DataFrame()\n",
    "for one in mod_file_list:\n",
    "    temp = pd.read_excel(one)\n",
    "    df = pd.concat([df, temp], ignore_index=True)\n",
    "df.info()"
   ]
  },
  {
   "cell_type": "code",
   "execution_count": 61,
   "metadata": {},
   "outputs": [
    {
     "data": {
      "text/html": [
       "<div>\n",
       "<style scoped>\n",
       "    .dataframe tbody tr th:only-of-type {\n",
       "        vertical-align: middle;\n",
       "    }\n",
       "\n",
       "    .dataframe tbody tr th {\n",
       "        vertical-align: top;\n",
       "    }\n",
       "\n",
       "    .dataframe thead th {\n",
       "        text-align: right;\n",
       "    }\n",
       "</style>\n",
       "<table border=\"1\" class=\"dataframe\">\n",
       "  <thead>\n",
       "    <tr style=\"text-align: right;\">\n",
       "      <th></th>\n",
       "      <th>날짜</th>\n",
       "      <th>순위</th>\n",
       "      <th>곡</th>\n",
       "      <th>가수</th>\n",
       "      <th>앨범</th>\n",
       "    </tr>\n",
       "  </thead>\n",
       "  <tbody>\n",
       "    <tr>\n",
       "      <th>0</th>\n",
       "      <td>2022-04-18</td>\n",
       "      <td>1</td>\n",
       "      <td>봄여름가을겨울 (Still Life)</td>\n",
       "      <td>BIGBANG (빅뱅)</td>\n",
       "      <td>봄여름가을겨울 (Still Life)</td>\n",
       "    </tr>\n",
       "    <tr>\n",
       "      <th>1</th>\n",
       "      <td>2022-04-18</td>\n",
       "      <td>2</td>\n",
       "      <td>LOVE DIVE</td>\n",
       "      <td>IVE (아이브)</td>\n",
       "      <td>LOVE DIVE</td>\n",
       "    </tr>\n",
       "    <tr>\n",
       "      <th>2</th>\n",
       "      <td>2022-04-18</td>\n",
       "      <td>3</td>\n",
       "      <td>TOMBOY</td>\n",
       "      <td>(여자)아이들</td>\n",
       "      <td>I NEVER DIE</td>\n",
       "    </tr>\n",
       "    <tr>\n",
       "      <th>3</th>\n",
       "      <td>2022-04-18</td>\n",
       "      <td>4</td>\n",
       "      <td>Feel My Rhythm</td>\n",
       "      <td>Red Velvet (레드벨벳)</td>\n",
       "      <td>'The ReVe Festival 2022 - Feel My Rhythm'</td>\n",
       "    </tr>\n",
       "    <tr>\n",
       "      <th>4</th>\n",
       "      <td>2022-04-18</td>\n",
       "      <td>5</td>\n",
       "      <td>사랑인가 봐</td>\n",
       "      <td>멜로망스 (MeloMance)</td>\n",
       "      <td>사랑인가 봐 (사내맞선 OST 스페셜 트랙)</td>\n",
       "    </tr>\n",
       "  </tbody>\n",
       "</table>\n",
       "</div>"
      ],
      "text/plain": [
       "           날짜  순위                     곡                 가수  \\\n",
       "0  2022-04-18   1  봄여름가을겨울 (Still Life)       BIGBANG (빅뱅)   \n",
       "1  2022-04-18   2             LOVE DIVE          IVE (아이브)   \n",
       "2  2022-04-18   3                TOMBOY            (여자)아이들   \n",
       "3  2022-04-18   4        Feel My Rhythm  Red Velvet (레드벨벳)   \n",
       "4  2022-04-18   5                사랑인가 봐   멜로망스 (MeloMance)   \n",
       "\n",
       "                                          앨범  \n",
       "0                       봄여름가을겨울 (Still Life)  \n",
       "1                                  LOVE DIVE  \n",
       "2                                I NEVER DIE  \n",
       "3  'The ReVe Festival 2022 - Feel My Rhythm'  \n",
       "4                   사랑인가 봐 (사내맞선 OST 스페셜 트랙)  "
      ]
     },
     "execution_count": 61,
     "metadata": {},
     "output_type": "execute_result"
    }
   ],
   "source": [
    "df.head()"
   ]
  },
  {
   "cell_type": "code",
   "execution_count": 62,
   "metadata": {},
   "outputs": [
    {
     "data": {
      "text/plain": [
       "125"
      ]
     },
     "execution_count": 62,
     "metadata": {},
     "output_type": "execute_result"
    }
   ],
   "source": [
    "len(df['곡'].unique())"
   ]
  },
  {
   "cell_type": "code",
   "execution_count": 63,
   "metadata": {},
   "outputs": [
    {
     "data": {
      "text/plain": [
       "80"
      ]
     },
     "execution_count": 63,
     "metadata": {},
     "output_type": "execute_result"
    }
   ],
   "source": [
    "artist_list = df['가수'].unique()\n",
    "len(df['가수'].unique())"
   ]
  },
  {
   "cell_type": "code",
   "execution_count": 64,
   "metadata": {},
   "outputs": [
    {
     "data": {
      "text/plain": [
       "['BIGBANG (빅뱅)',\n",
       " 'IVE (아이브)',\n",
       " '(여자)아이들',\n",
       " 'Red Velvet (레드벨벳)',\n",
       " '멜로망스 (MeloMance)']"
      ]
     },
     "execution_count": 64,
     "metadata": {},
     "output_type": "execute_result"
    }
   ],
   "source": [
    "mod_artist_list = [x.strip() for x in artist_list]\n",
    "mod_artist_list[:5]"
   ]
  },
  {
   "cell_type": "markdown",
   "metadata": {},
   "source": [
    "### 기존 파일 가수 목록 출력"
   ]
  },
  {
   "cell_type": "code",
   "execution_count": 65,
   "metadata": {},
   "outputs": [
    {
     "name": "stdout",
     "output_type": "stream",
     "text": [
      "genie_2022-04-18_2022-04-22.xlsx 출력 완료.\n"
     ]
    }
   ],
   "source": [
    "dict = {'가수':mod_artist_list}\n",
    "artist_df = pd.DataFrame(dict)\n",
    "artist_df.to_excel(f'{created_folder_path}{site_name}_{start_date}_{end_date}.xlsx', index=False)\n",
    "print(f'{site_name}_{start_date}_{end_date}.xlsx' + ' 출력 완료.')"
   ]
  },
  {
   "cell_type": "markdown",
   "metadata": {},
   "source": [
    "## 새로운 실시간 음원 파일 불러오기"
   ]
  },
  {
   "cell_type": "markdown",
   "metadata": {},
   "source": [
    "### 가져올 날짜 설정"
   ]
  },
  {
   "cell_type": "code",
   "execution_count": 66,
   "metadata": {},
   "outputs": [
    {
     "data": {
      "text/plain": [
       "'20220425'"
      ]
     },
     "execution_count": 66,
     "metadata": {},
     "output_type": "execute_result"
    }
   ],
   "source": [
    "new_date = '2022-04-25'\n",
    "mod_new_date = new_date.replace('-', '')\n",
    "mod_new_date"
   ]
  },
  {
   "cell_type": "code",
   "execution_count": 67,
   "metadata": {},
   "outputs": [
    {
     "data": {
      "text/plain": [
       "'live_genie_20220425_110255.xlsx'"
      ]
     },
     "execution_count": 67,
     "metadata": {},
     "output_type": "execute_result"
    }
   ],
   "source": [
    "for i, one_file in enumerate(file_list):\n",
    "    if mod_new_date in one_file:\n",
    "        new_idx = i\n",
    "new_file_name = file_list[new_idx]\n",
    "new_file_name"
   ]
  },
  {
   "cell_type": "code",
   "execution_count": 68,
   "metadata": {},
   "outputs": [
    {
     "name": "stdout",
     "output_type": "stream",
     "text": [
      "<class 'pandas.core.frame.DataFrame'>\n",
      "RangeIndex: 100 entries, 0 to 99\n",
      "Data columns (total 5 columns):\n",
      " #   Column  Non-Null Count  Dtype \n",
      "---  ------  --------------  ----- \n",
      " 0   날짜      100 non-null    object\n",
      " 1   순위      100 non-null    int64 \n",
      " 2   곡       100 non-null    object\n",
      " 3   가수      100 non-null    object\n",
      " 4   앨범      100 non-null    object\n",
      "dtypes: int64(1), object(4)\n",
      "memory usage: 4.0+ KB\n"
     ]
    }
   ],
   "source": [
    "new_df = pd.read_excel(new_file_name)\n",
    "new_df.info()"
   ]
  },
  {
   "cell_type": "code",
   "execution_count": 69,
   "metadata": {},
   "outputs": [
    {
     "data": {
      "text/plain": [
       "63"
      ]
     },
     "execution_count": 69,
     "metadata": {},
     "output_type": "execute_result"
    }
   ],
   "source": [
    "new_artist_list = new_df['가수'].unique()\n",
    "len(new_artist_list)"
   ]
  },
  {
   "cell_type": "code",
   "execution_count": 70,
   "metadata": {},
   "outputs": [],
   "source": [
    "mod_new_artist_list = [x.strip() for x in new_artist_list]\n"
   ]
  },
  {
   "cell_type": "code",
   "execution_count": 71,
   "metadata": {},
   "outputs": [
    {
     "data": {
      "text/plain": [
       "5"
      ]
     },
     "execution_count": 71,
     "metadata": {},
     "output_type": "execute_result"
    }
   ],
   "source": [
    "new_pop_artist_list = []\n",
    "for one in mod_new_artist_list:\n",
    "    if one not in mod_artist_list:\n",
    "        new_pop_artist_list.append(one)\n",
    "len(new_pop_artist_list)"
   ]
  },
  {
   "cell_type": "code",
   "execution_count": 72,
   "metadata": {},
   "outputs": [
    {
     "data": {
      "text/html": [
       "<div>\n",
       "<style scoped>\n",
       "    .dataframe tbody tr th:only-of-type {\n",
       "        vertical-align: middle;\n",
       "    }\n",
       "\n",
       "    .dataframe tbody tr th {\n",
       "        vertical-align: top;\n",
       "    }\n",
       "\n",
       "    .dataframe thead th {\n",
       "        text-align: right;\n",
       "    }\n",
       "</style>\n",
       "<table border=\"1\" class=\"dataframe\">\n",
       "  <thead>\n",
       "    <tr style=\"text-align: right;\">\n",
       "      <th></th>\n",
       "      <th>새로운_가수</th>\n",
       "    </tr>\n",
       "  </thead>\n",
       "  <tbody>\n",
       "    <tr>\n",
       "      <th>0</th>\n",
       "      <td>순순희</td>\n",
       "    </tr>\n",
       "    <tr>\n",
       "      <th>1</th>\n",
       "      <td>릴러말즈 (Leellamarz) &amp; TOIL</td>\n",
       "    </tr>\n",
       "    <tr>\n",
       "      <th>2</th>\n",
       "      <td>BIG Naughty (서동현)</td>\n",
       "    </tr>\n",
       "    <tr>\n",
       "      <th>3</th>\n",
       "      <td>Mina Okabe</td>\n",
       "    </tr>\n",
       "    <tr>\n",
       "      <th>4</th>\n",
       "      <td>Charlie Puth</td>\n",
       "    </tr>\n",
       "  </tbody>\n",
       "</table>\n",
       "</div>"
      ],
      "text/plain": [
       "                     새로운_가수\n",
       "0                       순순희\n",
       "1  릴러말즈 (Leellamarz) & TOIL\n",
       "2         BIG Naughty (서동현)\n",
       "3                Mina Okabe\n",
       "4              Charlie Puth"
      ]
     },
     "execution_count": 72,
     "metadata": {},
     "output_type": "execute_result"
    }
   ],
   "source": [
    "dict = {'새로운_가수':new_pop_artist_list}\n",
    "new_in_artist = pd.DataFrame(dict)\n",
    "new_in_artist"
   ]
  },
  {
   "cell_type": "code",
   "execution_count": 73,
   "metadata": {},
   "outputs": [
    {
     "name": "stdout",
     "output_type": "stream",
     "text": [
      "genie_new_in_artists_2022-04-25.xlsx 출력 완료.\n"
     ]
    }
   ],
   "source": [
    "# 파일로 출력\n",
    "file_name = f'{site_name}_new_in_artists_{new_date}.xlsx'\n",
    "new_in_artist.to_excel(created_folder_path + file_name, index=False)\n",
    "print(f'{file_name} 출력 완료.')"
   ]
  },
  {
   "cell_type": "markdown",
   "metadata": {},
   "source": [
    "# 코드 마지막"
   ]
  }
 ],
 "metadata": {
  "interpreter": {
   "hash": "b3ba2566441a7c06988d0923437866b63cedc61552a5af99d1f4fb67d367b25f"
  },
  "kernelspec": {
   "display_name": "Python 3.9.7 ('base')",
   "language": "python",
   "name": "python3"
  },
  "language_info": {
   "codemirror_mode": {
    "name": "ipython",
    "version": 3
   },
   "file_extension": ".py",
   "mimetype": "text/x-python",
   "name": "python",
   "nbconvert_exporter": "python",
   "pygments_lexer": "ipython3",
   "version": "3.9.7"
  },
  "orig_nbformat": 4
 },
 "nbformat": 4,
 "nbformat_minor": 2
}
