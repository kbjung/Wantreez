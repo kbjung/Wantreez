{
 "cells": [
  {
   "cell_type": "code",
   "execution_count": 7,
   "metadata": {},
   "outputs": [],
   "source": [
    "import pandas as pd\n",
    "import os, glob"
   ]
  },
  {
   "cell_type": "code",
   "execution_count": 2,
   "metadata": {},
   "outputs": [],
   "source": [
    "start_date = '2022-05-02'\n",
    "end_date = '2022-05-08'\n",
    "mod_start_date = start_date.replace('-','')\n",
    "mod_end_date = end_date.replace('-','')"
   ]
  },
  {
   "cell_type": "code",
   "execution_count": 6,
   "metadata": {},
   "outputs": [
    {
     "data": {
      "text/plain": [
       "['[bugs]2022-05-02_2022-05-08_[순위]이상치1.png',\n",
       " '[bugs]2022-05-02_2022-05-08_[순위]이상치2.png',\n",
       " '[bugs]2022-05-02_2022-05-08_[순위]이상치3.png',\n",
       " '[bugs]2022-05-02_2022-05-08_[순위]이상치_음원_순위변동_평균.png',\n",
       " '[bugs]2022-05-02_2022-05-08_[순위변동]이상치1.png',\n",
       " '[bugs]2022-05-02_2022-05-08_[순위변동]이상치2.png',\n",
       " '[bugs]2022-05-02_2022-05-08_[순위변동]이상치3.png',\n",
       " '[bugs]20220502_20220508_mean_outliers.xlsx',\n",
       " '[bugs]20220502_20220508_outliers.xlsx',\n",
       " '[bugs]20220511_130633_나의_월요일-싸이_(PSY).csv',\n",
       " '[bugs]20220511_130641_마지막_너의_인사-헤이즈(Heize).csv',\n",
       " \"[bugs]20220511_130649_리무진_(Feat._MINO)_(Prod._GRAY)-BE'O_(비오).csv\",\n",
       " '[bugs]20220511_130657_LOVE-몬스타엑스(Monsta_X).csv',\n",
       " '[bugs]20220511_130704_Step_Back-GOT_the_beat.csv',\n",
       " '[bugs]20220511_130712_꽃_길-BIGBANG_(빅뱅).csv',\n",
       " '[bugs]20220511_130720_모든_날,_모든_순간_(Every_day,_Every_Moment)-폴킴(Paul_Kim).csv',\n",
       " '[bugs]20220511_130728_사랑인가_봐_(Acoustic_Ver.)-김세정.csv',\n",
       " '[bugs]20220511_130736_무지개-임영웅.csv',\n",
       " '[bugs]20220511_130744_아버지-임영웅.csv',\n",
       " '[bugs]20220511_130752_사랑해_진짜-임영웅.csv',\n",
       " '[bugs]20220511_130800_언제나_사랑해-케이시.csv',\n",
       " '[bugs]20220511_130809_Bad_Habits-Ed_Sheeran(에드_시런).csv']"
      ]
     },
     "execution_count": 6,
     "metadata": {},
     "output_type": "execute_result"
    }
   ],
   "source": [
    "os.listdir()"
   ]
  },
  {
   "cell_type": "code",
   "execution_count": 8,
   "metadata": {},
   "outputs": [
    {
     "data": {
      "text/plain": [
       "['[bugs]20220502_20220508_mean_outliers.xlsx',\n",
       " '[bugs]20220502_20220508_outliers.xlsx']"
      ]
     },
     "execution_count": 8,
     "metadata": {},
     "output_type": "execute_result"
    }
   ],
   "source": [
    "glob.glob('*.xlsx')"
   ]
  },
  {
   "cell_type": "code",
   "execution_count": 9,
   "metadata": {},
   "outputs": [
    {
     "data": {
      "text/plain": [
       "'[bugs]20220502_20220508_mean_outliers.xlsx'"
      ]
     },
     "execution_count": 9,
     "metadata": {},
     "output_type": "execute_result"
    }
   ],
   "source": [
    "file_name = glob.glob('*.xlsx')[0]\n",
    "file_name"
   ]
  },
  {
   "cell_type": "code",
   "execution_count": 10,
   "metadata": {},
   "outputs": [],
   "source": [
    "temp = pd.read_excel(file_name)"
   ]
  },
  {
   "cell_type": "code",
   "execution_count": 11,
   "metadata": {},
   "outputs": [
    {
     "data": {
      "text/html": [
       "<div>\n",
       "<style scoped>\n",
       "    .dataframe tbody tr th:only-of-type {\n",
       "        vertical-align: middle;\n",
       "    }\n",
       "\n",
       "    .dataframe tbody tr th {\n",
       "        vertical-align: top;\n",
       "    }\n",
       "\n",
       "    .dataframe thead th {\n",
       "        text-align: right;\n",
       "    }\n",
       "</style>\n",
       "<table border=\"1\" class=\"dataframe\">\n",
       "  <thead>\n",
       "    <tr style=\"text-align: right;\">\n",
       "      <th></th>\n",
       "      <th>날짜</th>\n",
       "      <th>사이트</th>\n",
       "      <th>순위</th>\n",
       "      <th>곡</th>\n",
       "      <th>가수</th>\n",
       "      <th>앨범</th>\n",
       "      <th>소속사</th>\n",
       "      <th>소속사_분류</th>\n",
       "      <th>순위변동</th>\n",
       "      <th>순위변동평균(양수)</th>\n",
       "    </tr>\n",
       "  </thead>\n",
       "  <tbody>\n",
       "    <tr>\n",
       "      <th>0</th>\n",
       "      <td>2022-05-02</td>\n",
       "      <td>bugs</td>\n",
       "      <td>26.0</td>\n",
       "      <td>나의 월요일</td>\n",
       "      <td>싸이 (PSY)</td>\n",
       "      <td>싸다9</td>\n",
       "      <td>P NATION</td>\n",
       "      <td>기타</td>\n",
       "      <td>0.0</td>\n",
       "      <td>34.000000</td>\n",
       "    </tr>\n",
       "    <tr>\n",
       "      <th>1</th>\n",
       "      <td>2022-05-02</td>\n",
       "      <td>bugs</td>\n",
       "      <td>37.0</td>\n",
       "      <td>마지막 너의 인사</td>\n",
       "      <td>헤이즈(Heize)</td>\n",
       "      <td>우리들의 블루스 OST Part 2</td>\n",
       "      <td>P NATION</td>\n",
       "      <td>기타</td>\n",
       "      <td>0.0</td>\n",
       "      <td>25.000000</td>\n",
       "    </tr>\n",
       "    <tr>\n",
       "      <th>2</th>\n",
       "      <td>2022-05-02</td>\n",
       "      <td>bugs</td>\n",
       "      <td>50.0</td>\n",
       "      <td>리무진 (Feat. MINO) (Prod. GRAY)</td>\n",
       "      <td>BE'O (비오)</td>\n",
       "      <td>쇼미더머니 10 Episode 3</td>\n",
       "      <td>스윙</td>\n",
       "      <td>스윙</td>\n",
       "      <td>0.0</td>\n",
       "      <td>41.000000</td>\n",
       "    </tr>\n",
       "    <tr>\n",
       "      <th>3</th>\n",
       "      <td>2022-05-02</td>\n",
       "      <td>bugs</td>\n",
       "      <td>68.0</td>\n",
       "      <td>LOVE</td>\n",
       "      <td>몬스타엑스(Monsta X)</td>\n",
       "      <td>SHAPE of LOVE</td>\n",
       "      <td>스타쉽</td>\n",
       "      <td>스타쉽</td>\n",
       "      <td>0.0</td>\n",
       "      <td>59.000000</td>\n",
       "    </tr>\n",
       "    <tr>\n",
       "      <th>4</th>\n",
       "      <td>2022-05-02</td>\n",
       "      <td>bugs</td>\n",
       "      <td>75.0</td>\n",
       "      <td>Step Back</td>\n",
       "      <td>GOT the beat</td>\n",
       "      <td>Step Back</td>\n",
       "      <td>SM</td>\n",
       "      <td>SM</td>\n",
       "      <td>0.0</td>\n",
       "      <td>27.000000</td>\n",
       "    </tr>\n",
       "    <tr>\n",
       "      <th>5</th>\n",
       "      <td>2022-05-02</td>\n",
       "      <td>bugs</td>\n",
       "      <td>82.0</td>\n",
       "      <td>꽃 길</td>\n",
       "      <td>BIGBANG (빅뱅)</td>\n",
       "      <td>꽃 길</td>\n",
       "      <td>YG</td>\n",
       "      <td>YG</td>\n",
       "      <td>0.0</td>\n",
       "      <td>30.500000</td>\n",
       "    </tr>\n",
       "    <tr>\n",
       "      <th>6</th>\n",
       "      <td>2022-05-02</td>\n",
       "      <td>bugs</td>\n",
       "      <td>86.0</td>\n",
       "      <td>모든 날, 모든 순간 (Every day, Every Moment)</td>\n",
       "      <td>폴킴(Paul Kim)</td>\n",
       "      <td>'키스 먼저 할까요?' OST Part.3</td>\n",
       "      <td>neuron music</td>\n",
       "      <td>기타</td>\n",
       "      <td>0.0</td>\n",
       "      <td>24.000000</td>\n",
       "    </tr>\n",
       "    <tr>\n",
       "      <th>7</th>\n",
       "      <td>2022-05-02</td>\n",
       "      <td>bugs</td>\n",
       "      <td>94.0</td>\n",
       "      <td>사랑인가 봐 (Acoustic Ver.)</td>\n",
       "      <td>김세정</td>\n",
       "      <td>사랑인가 봐 (사내맞선 OST Bonus Track)</td>\n",
       "      <td>Jellyfish</td>\n",
       "      <td>기타</td>\n",
       "      <td>0.0</td>\n",
       "      <td>23.666667</td>\n",
       "    </tr>\n",
       "    <tr>\n",
       "      <th>8</th>\n",
       "      <td>2022-05-02</td>\n",
       "      <td>bugs</td>\n",
       "      <td>NaN</td>\n",
       "      <td>무지개</td>\n",
       "      <td>임영웅</td>\n",
       "      <td>IM HERO</td>\n",
       "      <td>물고기뮤직</td>\n",
       "      <td>기타</td>\n",
       "      <td>NaN</td>\n",
       "      <td>27.500000</td>\n",
       "    </tr>\n",
       "    <tr>\n",
       "      <th>9</th>\n",
       "      <td>2022-05-02</td>\n",
       "      <td>bugs</td>\n",
       "      <td>NaN</td>\n",
       "      <td>아버지</td>\n",
       "      <td>임영웅</td>\n",
       "      <td>IM HERO</td>\n",
       "      <td>물고기뮤직</td>\n",
       "      <td>기타</td>\n",
       "      <td>NaN</td>\n",
       "      <td>40.000000</td>\n",
       "    </tr>\n",
       "    <tr>\n",
       "      <th>10</th>\n",
       "      <td>2022-05-02</td>\n",
       "      <td>bugs</td>\n",
       "      <td>NaN</td>\n",
       "      <td>사랑해 진짜</td>\n",
       "      <td>임영웅</td>\n",
       "      <td>IM HERO</td>\n",
       "      <td>물고기뮤직</td>\n",
       "      <td>기타</td>\n",
       "      <td>NaN</td>\n",
       "      <td>44.000000</td>\n",
       "    </tr>\n",
       "    <tr>\n",
       "      <th>11</th>\n",
       "      <td>2022-05-02</td>\n",
       "      <td>bugs</td>\n",
       "      <td>NaN</td>\n",
       "      <td>언제나 사랑해</td>\n",
       "      <td>케이시</td>\n",
       "      <td>조영수 리메이크 프로젝트 Part.2</td>\n",
       "      <td>NEXTAR</td>\n",
       "      <td>기타</td>\n",
       "      <td>NaN</td>\n",
       "      <td>17.000000</td>\n",
       "    </tr>\n",
       "    <tr>\n",
       "      <th>12</th>\n",
       "      <td>2022-05-02</td>\n",
       "      <td>bugs</td>\n",
       "      <td>NaN</td>\n",
       "      <td>Bad Habits</td>\n",
       "      <td>Ed Sheeran(에드 시런)</td>\n",
       "      <td>0</td>\n",
       "      <td>해외</td>\n",
       "      <td>기타</td>\n",
       "      <td>NaN</td>\n",
       "      <td>25.333333</td>\n",
       "    </tr>\n",
       "  </tbody>\n",
       "</table>\n",
       "</div>"
      ],
      "text/plain": [
       "            날짜   사이트    순위                                      곡  \\\n",
       "0   2022-05-02  bugs  26.0                                 나의 월요일   \n",
       "1   2022-05-02  bugs  37.0                              마지막 너의 인사   \n",
       "2   2022-05-02  bugs  50.0          리무진 (Feat. MINO) (Prod. GRAY)   \n",
       "3   2022-05-02  bugs  68.0                                   LOVE   \n",
       "4   2022-05-02  bugs  75.0                              Step Back   \n",
       "5   2022-05-02  bugs  82.0                                    꽃 길   \n",
       "6   2022-05-02  bugs  86.0  모든 날, 모든 순간 (Every day, Every Moment)   \n",
       "7   2022-05-02  bugs  94.0                 사랑인가 봐 (Acoustic Ver.)   \n",
       "8   2022-05-02  bugs   NaN                                    무지개   \n",
       "9   2022-05-02  bugs   NaN                                    아버지   \n",
       "10  2022-05-02  bugs   NaN                                 사랑해 진짜   \n",
       "11  2022-05-02  bugs   NaN                                언제나 사랑해   \n",
       "12  2022-05-02  bugs   NaN                             Bad Habits   \n",
       "\n",
       "                   가수                             앨범           소속사 소속사_분류  \\\n",
       "0            싸이 (PSY)                            싸다9      P NATION     기타   \n",
       "1          헤이즈(Heize)            우리들의 블루스 OST Part 2      P NATION     기타   \n",
       "2           BE'O (비오)             쇼미더머니 10 Episode 3            스윙     스윙   \n",
       "3     몬스타엑스(Monsta X)                  SHAPE of LOVE           스타쉽    스타쉽   \n",
       "4        GOT the beat                      Step Back            SM     SM   \n",
       "5        BIGBANG (빅뱅)                            꽃 길            YG     YG   \n",
       "6        폴킴(Paul Kim)        '키스 먼저 할까요?' OST Part.3  neuron music     기타   \n",
       "7                 김세정  사랑인가 봐 (사내맞선 OST Bonus Track)     Jellyfish     기타   \n",
       "8                 임영웅                        IM HERO         물고기뮤직     기타   \n",
       "9                 임영웅                        IM HERO         물고기뮤직     기타   \n",
       "10                임영웅                        IM HERO         물고기뮤직     기타   \n",
       "11                케이시           조영수 리메이크 프로젝트 Part.2        NEXTAR     기타   \n",
       "12  Ed Sheeran(에드 시런)                              0            해외     기타   \n",
       "\n",
       "    순위변동  순위변동평균(양수)  \n",
       "0    0.0   34.000000  \n",
       "1    0.0   25.000000  \n",
       "2    0.0   41.000000  \n",
       "3    0.0   59.000000  \n",
       "4    0.0   27.000000  \n",
       "5    0.0   30.500000  \n",
       "6    0.0   24.000000  \n",
       "7    0.0   23.666667  \n",
       "8    NaN   27.500000  \n",
       "9    NaN   40.000000  \n",
       "10   NaN   44.000000  \n",
       "11   NaN   17.000000  \n",
       "12   NaN   25.333333  "
      ]
     },
     "execution_count": 11,
     "metadata": {},
     "output_type": "execute_result"
    }
   ],
   "source": [
    "temp"
   ]
  },
  {
   "cell_type": "code",
   "execution_count": 15,
   "metadata": {},
   "outputs": [
    {
     "name": "stdout",
     "output_type": "stream",
     "text": [
      "(10, 10)\n",
      "(13, 10)\n",
      "(13, 10)\n",
      "(8, 10)\n",
      "(16, 10)\n"
     ]
    }
   ],
   "source": [
    "# 음원 사이트 설정\n",
    "site_list = ['flo', 'bugs', 'genie', 'melon', 'vibe']\n",
    "\n",
    "outlier_df = pd.DataFrame()\n",
    "for one_site in site_list:\n",
    "    path = f'C:/data/Wantreez/Crawling/music/crawled_data/outlier_data/{start_date}_{end_date}/{one_site}/'\n",
    "    try:\n",
    "        os.chdir(path)\n",
    "    except:\n",
    "        pass\n",
    "    file_name = glob.glob('*.xlsx')[0]\n",
    "    temp = pd.read_excel(file_name)\n",
    "    print(temp.shape)\n",
    "    outlier_df = pd.concat([outlier_df, temp], ignore_index=True)"
   ]
  },
  {
   "cell_type": "code",
   "execution_count": 17,
   "metadata": {},
   "outputs": [
    {
     "name": "stdout",
     "output_type": "stream",
     "text": [
      "<class 'pandas.core.frame.DataFrame'>\n",
      "RangeIndex: 60 entries, 0 to 59\n",
      "Data columns (total 10 columns):\n",
      " #   Column      Non-Null Count  Dtype  \n",
      "---  ------      --------------  -----  \n",
      " 0   날짜          60 non-null     object \n",
      " 1   사이트         60 non-null     object \n",
      " 2   순위          43 non-null     float64\n",
      " 3   곡           60 non-null     object \n",
      " 4   가수          60 non-null     object \n",
      " 5   앨범          60 non-null     object \n",
      " 6   소속사         60 non-null     object \n",
      " 7   소속사_분류      60 non-null     object \n",
      " 8   순위변동        43 non-null     float64\n",
      " 9   순위변동평균(양수)  60 non-null     float64\n",
      "dtypes: float64(3), object(7)\n",
      "memory usage: 4.8+ KB\n"
     ]
    }
   ],
   "source": [
    "outlier_df.info()"
   ]
  },
  {
   "cell_type": "code",
   "execution_count": 18,
   "metadata": {},
   "outputs": [],
   "source": [
    "outlier_df.to_excel(f'C:/data/Wantreez/Crawling/music/crawled_data/outlier_data/{start_date}_{end_date}/{mod_start_date}_{mod_end_date}_outliers.xlsx', index=False)"
   ]
  },
  {
   "cell_type": "code",
   "execution_count": null,
   "metadata": {},
   "outputs": [],
   "source": []
  }
 ],
 "metadata": {
  "interpreter": {
   "hash": "747a6424a7b8ad24e9f0aefffcedbd2ab794ab79d972802769ba8a34242ef8b4"
  },
  "kernelspec": {
   "display_name": "Python 3.9.7 ('base')",
   "language": "python",
   "name": "python3"
  },
  "language_info": {
   "codemirror_mode": {
    "name": "ipython",
    "version": 3
   },
   "file_extension": ".py",
   "mimetype": "text/x-python",
   "name": "python",
   "nbconvert_exporter": "python",
   "pygments_lexer": "ipython3",
   "version": "3.9.7"
  },
  "orig_nbformat": 4
 },
 "nbformat": 4,
 "nbformat_minor": 2
}
