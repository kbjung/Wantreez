{
 "cells": [
  {
   "cell_type": "markdown",
   "metadata": {},
   "source": [
    "# 가수와 소속사 매칭\n",
    "* 전 실시간 음원 파일을 가져와 곡을 확인\n",
    "* 해당일 실시간 음원 파일의 곡과 비교하여 새로 생긴 곡만 추출"
   ]
  },
  {
   "cell_type": "markdown",
   "metadata": {},
   "source": [
    "## 라이브러리"
   ]
  },
  {
   "cell_type": "code",
   "execution_count": 3,
   "metadata": {},
   "outputs": [],
   "source": [
    "import pandas as pd\n",
    "import os\n",
    "from datetime import datetime"
   ]
  },
  {
   "cell_type": "markdown",
   "metadata": {},
   "source": [
    "### 사이트 설정"
   ]
  },
  {
   "cell_type": "code",
   "execution_count": 2,
   "metadata": {},
   "outputs": [],
   "source": [
    "# 음원 사이트 설정\n",
    "# flo, bugs, genie, melon, vibe, soribada 중 택1.\n",
    "site_list = ['flo', 'bugs', 'genie', 'melon', 'vibe']"
   ]
  },
  {
   "cell_type": "markdown",
   "metadata": {},
   "source": [
    "## 기존 파일 가져오기"
   ]
  },
  {
   "cell_type": "code",
   "execution_count": 433,
   "metadata": {},
   "outputs": [],
   "source": [
    "# 현재 작업 경로\n",
    "path = 'c:/data/Wantreez/Crawling/music/'"
   ]
  },
  {
   "cell_type": "markdown",
   "metadata": {},
   "source": [
    "### 새로운 파일 날짜 입력"
   ]
  },
  {
   "cell_type": "code",
   "execution_count": null,
   "metadata": {},
   "outputs": [],
   "source": [
    "# 새 파일 날짜 설정\n",
    "new_date = '2022-04-29'\n",
    "mod_new_date = new_date.replace('-', '')"
   ]
  },
  {
   "cell_type": "markdown",
   "metadata": {},
   "source": [
    "### 기존 가수 목록 파일 날짜 입력"
   ]
  },
  {
   "cell_type": "code",
   "execution_count": null,
   "metadata": {},
   "outputs": [],
   "source": [
    "# 기존 가수 목록 불러오기\n",
    "date = '2022-04-28'\n",
    "mod_date = date.replace('-', '')\n",
    "match_path = path + 'crawled_data/match_artist_agency/'\n",
    "file_name = f'artist_agency_{mod_date}.xlsx'\n",
    "df = pd.read_excel(match_path + f'{file_name}')\n",
    "artist_list = df['가수'].unique()\n",
    "mod_artist_list = [x.strip() for x in artist_list]"
   ]
  },
  {
   "cell_type": "code",
   "execution_count": 434,
   "metadata": {},
   "outputs": [],
   "source": [
    "new_pop_artist_list = []\n",
    "for site_name in site_list:\n",
    "    # 실시간 순위 파일 위치로 작업위치 이동\n",
    "    file_folder_path = f'/crawled_data/live_{site_name}/'\n",
    "    file_path = path + file_folder_path\n",
    "    try:\n",
    "        os.chdir(file_path)\n",
    "    except:\n",
    "        pass\n",
    "    # 파일 이름들\n",
    "    file_list = os.listdir()\n",
    "    # 새 파일 불러오기\n",
    "    for i, one_file in enumerate(file_list):\n",
    "        if mod_new_date in one_file:\n",
    "            new_idx = i\n",
    "    new_file_name = file_list[new_idx]\n",
    "    new_df = pd.read_excel(new_file_name)\n",
    "    \n",
    "    new_artist_list = new_df['가수'].unique()\n",
    "    mod_new_artist_list = [x.strip() for x in new_artist_list]\n",
    "\n",
    "    # 새로운 가수\n",
    "    site_new_pop_list = []\n",
    "    for one in mod_new_artist_list:\n",
    "        if one not in mod_artist_list:\n",
    "            new_pop_artist_list.append(one)\n",
    "            site_new_pop_list.append(one)\n",
    "\n",
    "    print(f'{site_name}의 새로운 가수 수 : ', len(site_new_pop_list))\n",
    "\n",
    "# 새로운 가수 목록 중 중복 가수 제거\n",
    "final_new_pop_artist_list = []\n",
    "for one in new_pop_artist_list:\n",
    "    if one not in final_new_pop_artist_list:\n",
    "        final_new_pop_artist_list.append(one)\n",
    "\n",
    "print('총 새로 추가된 가수의 수 : ', len(final_new_pop_artist_list))"
   ]
  },
  {
   "cell_type": "code",
   "execution_count": null,
   "metadata": {},
   "outputs": [],
   "source": [
    "# df\n",
    "dict ={'새로운_가수':final_new_pop_artist_list}\n",
    "new_pop_df = pd.DataFrame(dict)\n",
    "new_pop_df"
   ]
  },
  {
   "cell_type": "code",
   "execution_count": null,
   "metadata": {},
   "outputs": [],
   "source": [
    "# 파일 생성\n",
    "today_date = datetime.today().strftime('%Y%m%d')\n",
    "new_pop_df.to_excel(match_path + f'new_pop_artist_{today_date}.xlsx')"
   ]
  },
  {
   "cell_type": "markdown",
   "metadata": {},
   "source": [
    "# 코드 마지막"
   ]
  }
 ],
 "metadata": {
  "interpreter": {
   "hash": "b3ba2566441a7c06988d0923437866b63cedc61552a5af99d1f4fb67d367b25f"
  },
  "kernelspec": {
   "display_name": "Python 3.9.7 ('base')",
   "language": "python",
   "name": "python3"
  },
  "language_info": {
   "codemirror_mode": {
    "name": "ipython",
    "version": 3
   },
   "file_extension": ".py",
   "mimetype": "text/x-python",
   "name": "python",
   "nbconvert_exporter": "python",
   "pygments_lexer": "ipython3",
   "version": "3.9.7"
  },
  "orig_nbformat": 4
 },
 "nbformat": 4,
 "nbformat_minor": 2
}
