{
 "cells": [
  {
   "cell_type": "markdown",
   "metadata": {},
   "source": [
    "# 수집한 데이터의 사이트명 수정\n",
    "* 사이트명 맨 앞글자만 대문자로 변경"
   ]
  },
  {
   "cell_type": "code",
   "execution_count": 1,
   "metadata": {},
   "outputs": [],
   "source": [
    "import pandas as pd\n",
    "import os"
   ]
  },
  {
   "cell_type": "code",
   "execution_count": 3,
   "metadata": {},
   "outputs": [
    {
     "data": {
      "text/plain": [
       "'c:/data/Wantreez/Crawling/music'"
      ]
     },
     "execution_count": 3,
     "metadata": {},
     "output_type": "execute_result"
    }
   ],
   "source": [
    "code_path = os.getcwd().replace('\\\\', '/')\n",
    "code_path"
   ]
  },
  {
   "cell_type": "code",
   "execution_count": 10,
   "metadata": {},
   "outputs": [
    {
     "name": "stdout",
     "output_type": "stream",
     "text": [
      "변환 완료\n"
     ]
    }
   ],
   "source": [
    "# 음원 사이트\n",
    "site_list = ['flo', 'bugs', 'genie', 'melon', 'vibe', 'soribada']\n",
    "for site_name in site_list:\n",
    "    folder_path = f'/crawled_data/live_{site_name}/'\n",
    "    path = code_path + folder_path\n",
    "    try:\n",
    "        os.chdir(path)\n",
    "    except:\n",
    "        pass\n",
    "\n",
    "    file_list = os.listdir()\n",
    "\n",
    "    for one in file_list:\n",
    "        temp = pd.read_excel(one)\n",
    "        temp['사이트'] = temp['사이트'].str.capitalize()\n",
    "        temp.to_excel(code_path + folder_path + one, index=False, encoding='utf-8')\n",
    "print('변환 완료')"
   ]
  },
  {
   "cell_type": "markdown",
   "metadata": {},
   "source": [
    "# 코드 마지막"
   ]
  }
 ],
 "metadata": {
  "interpreter": {
   "hash": "747a6424a7b8ad24e9f0aefffcedbd2ab794ab79d972802769ba8a34242ef8b4"
  },
  "kernelspec": {
   "display_name": "Python 3.9.7 ('base')",
   "language": "python",
   "name": "python3"
  },
  "language_info": {
   "codemirror_mode": {
    "name": "ipython",
    "version": 3
   },
   "file_extension": ".py",
   "mimetype": "text/x-python",
   "name": "python",
   "nbconvert_exporter": "python",
   "pygments_lexer": "ipython3",
   "version": "3.9.7"
  },
  "orig_nbformat": 4
 },
 "nbformat": 4,
 "nbformat_minor": 2
}
