{
 "cells": [
  {
   "cell_type": "markdown",
   "metadata": {},
   "source": [
    "# Outlier Google Trend Search\n",
    "* 3-1-2. 순위 상승대비 소셜미디어 관심도"
   ]
  },
  {
   "cell_type": "markdown",
   "metadata": {},
   "source": [
    "## 필요 라이브러리 로드"
   ]
  },
  {
   "cell_type": "code",
   "execution_count": 102,
   "metadata": {},
   "outputs": [],
   "source": [
    "import pandas as pd\n",
    "import matplotlib.pyplot as plt\n",
    "import seaborn as sns\n",
    "import os, math\n",
    "from numpy import nan"
   ]
  },
  {
   "cell_type": "code",
   "execution_count": 2,
   "metadata": {},
   "outputs": [],
   "source": [
    "import platform\n",
    "from matplotlib import font_manager, rc\n",
    "\n",
    "# 한글 폰트 지정\n",
    "path = \"C:/Windows/Fonts/malgun.ttf\"\n",
    "if platform.system() == \"Windows\":\n",
    "    font_name = font_manager.FontProperties(fname=path).get_name()\n",
    "    rc('font', family=font_name)\n",
    "elif platform.system()==\"Darwin\":\n",
    "    rc('font', family='AppleGothic')\n",
    "else:\n",
    "    print(\"Unknown System\")"
   ]
  },
  {
   "cell_type": "code",
   "execution_count": 3,
   "metadata": {},
   "outputs": [],
   "source": [
    "import matplotlib\n",
    "matplotlib.rcParams['axes.unicode_minus'] = False # 그래프에서 음수 표현 가능하도록 설정."
   ]
  },
  {
   "cell_type": "code",
   "execution_count": 4,
   "metadata": {},
   "outputs": [],
   "source": [
    "from selenium import webdriver\n",
    "from selenium.webdriver.common.keys import Keys\n",
    "import chromedriver_autoinstaller as ca\n",
    "import random, time"
   ]
  },
  {
   "cell_type": "code",
   "execution_count": 5,
   "metadata": {},
   "outputs": [],
   "source": [
    "import glob\n",
    "import shutil"
   ]
  },
  {
   "cell_type": "markdown",
   "metadata": {},
   "source": [
    "### 파일 불러오기"
   ]
  },
  {
   "cell_type": "code",
   "execution_count": 7,
   "metadata": {},
   "outputs": [],
   "source": [
    "# 기간 설정\n",
    "start_date = '2022-05-02'\n",
    "end_date = '2022-05-08'"
   ]
  },
  {
   "cell_type": "code",
   "execution_count": null,
   "metadata": {},
   "outputs": [],
   "source": [
    "f_path = 'c:/data/Wantreez/Crawling/music'\n",
    "try:\n",
    "    os.chdir(f_path)\n",
    "except:\n",
    "    pass"
   ]
  },
  {
   "cell_type": "code",
   "execution_count": 9,
   "metadata": {},
   "outputs": [
    {
     "data": {
      "text/plain": [
       "'c:/data/Wantreez/Crawling/music'"
      ]
     },
     "execution_count": 9,
     "metadata": {},
     "output_type": "execute_result"
    }
   ],
   "source": [
    "code_path = os.getcwd().replace('\\\\', '/')\n",
    "code_path"
   ]
  },
  {
   "cell_type": "code",
   "execution_count": 14,
   "metadata": {},
   "outputs": [],
   "source": [
    "# 실시간 순위 파일 폴더로 이동\n",
    "save_folder = f'/crawled_data/outlier_data/{start_date}_{end_date}/'\n",
    "try:\n",
    "    os.chdir(code_path + save_folder)\n",
    "except:\n",
    "    pass"
   ]
  },
  {
   "cell_type": "code",
   "execution_count": 17,
   "metadata": {},
   "outputs": [
    {
     "data": {
      "text/plain": [
       "['2022-05-02_2022-05-08_agency_in_chart.xlsx',\n",
       " '2022-05-02_2022-05-08_mean_outlier_agency.xlsx',\n",
       " '2022-05-02_2022-05-08_Top10_rank_change_df.xlsx',\n",
       " '2022-05-02_2022-05-08_total_outlier.xlsx',\n",
       " '20220502_20220508_outliers.xlsx',\n",
       " '20220508_음원사재기_검색비율.xlsx',\n",
       " 'bugs',\n",
       " 'flo',\n",
       " 'genie',\n",
       " 'melon',\n",
       " 'outliers_datalab_20220511',\n",
       " 'outlier_mean_rank.png',\n",
       " 'search.png',\n",
       " 'tj',\n",
       " 'vibe']"
      ]
     },
     "execution_count": 17,
     "metadata": {},
     "output_type": "execute_result"
    }
   ],
   "source": [
    "file_list = os.listdir()\n",
    "file_list"
   ]
  },
  {
   "cell_type": "code",
   "execution_count": 18,
   "metadata": {},
   "outputs": [
    {
     "data": {
      "text/plain": [
       "'2022-05-02_2022-05-08_total_outlier.xlsx'"
      ]
     },
     "execution_count": 18,
     "metadata": {},
     "output_type": "execute_result"
    }
   ],
   "source": [
    "# 이상치 음원 파일 가져오기\n",
    "for one in file_list:\n",
    "    if 'total_outlier' in one:\n",
    "        file_name = one\n",
    "file_name"
   ]
  },
  {
   "cell_type": "code",
   "execution_count": 19,
   "metadata": {},
   "outputs": [
    {
     "data": {
      "text/html": [
       "<div>\n",
       "<style scoped>\n",
       "    .dataframe tbody tr th:only-of-type {\n",
       "        vertical-align: middle;\n",
       "    }\n",
       "\n",
       "    .dataframe tbody tr th {\n",
       "        vertical-align: top;\n",
       "    }\n",
       "\n",
       "    .dataframe thead th {\n",
       "        text-align: right;\n",
       "    }\n",
       "</style>\n",
       "<table border=\"1\" class=\"dataframe\">\n",
       "  <thead>\n",
       "    <tr style=\"text-align: right;\">\n",
       "      <th></th>\n",
       "      <th>날짜</th>\n",
       "      <th>사이트</th>\n",
       "      <th>순위</th>\n",
       "      <th>곡</th>\n",
       "      <th>가수</th>\n",
       "      <th>앨범</th>\n",
       "      <th>소속사</th>\n",
       "      <th>소속사_분류</th>\n",
       "      <th>순위변동</th>\n",
       "      <th>순위변동평균(양수)</th>\n",
       "    </tr>\n",
       "  </thead>\n",
       "  <tbody>\n",
       "    <tr>\n",
       "      <th>0</th>\n",
       "      <td>2022-05-08</td>\n",
       "      <td>bugs</td>\n",
       "      <td>36</td>\n",
       "      <td>LOVE</td>\n",
       "      <td>몬스타엑스(Monsta X)</td>\n",
       "      <td>SHAPE of LOVE</td>\n",
       "      <td>스타쉽</td>\n",
       "      <td>스타쉽</td>\n",
       "      <td>59</td>\n",
       "      <td>59.0</td>\n",
       "    </tr>\n",
       "    <tr>\n",
       "      <th>1</th>\n",
       "      <td>2022-05-04</td>\n",
       "      <td>bugs</td>\n",
       "      <td>38</td>\n",
       "      <td>꽃 길</td>\n",
       "      <td>BIGBANG (빅뱅)</td>\n",
       "      <td>꽃 길</td>\n",
       "      <td>YG</td>\n",
       "      <td>YG</td>\n",
       "      <td>44</td>\n",
       "      <td>30.5</td>\n",
       "    </tr>\n",
       "    <tr>\n",
       "      <th>2</th>\n",
       "      <td>2022-05-05</td>\n",
       "      <td>bugs</td>\n",
       "      <td>66</td>\n",
       "      <td>나의 월요일</td>\n",
       "      <td>싸이 (PSY)</td>\n",
       "      <td>싸다9</td>\n",
       "      <td>P NATION</td>\n",
       "      <td>기타</td>\n",
       "      <td>28</td>\n",
       "      <td>34.0</td>\n",
       "    </tr>\n",
       "    <tr>\n",
       "      <th>3</th>\n",
       "      <td>2022-05-05</td>\n",
       "      <td>bugs</td>\n",
       "      <td>42</td>\n",
       "      <td>리무진 (Feat. MINO) (Prod. GRAY)</td>\n",
       "      <td>BE'O (비오)</td>\n",
       "      <td>쇼미더머니 10 Episode 3</td>\n",
       "      <td>스윙</td>\n",
       "      <td>스윙</td>\n",
       "      <td>54</td>\n",
       "      <td>41.0</td>\n",
       "    </tr>\n",
       "    <tr>\n",
       "      <th>4</th>\n",
       "      <td>2022-05-05</td>\n",
       "      <td>bugs</td>\n",
       "      <td>62</td>\n",
       "      <td>문득</td>\n",
       "      <td>BE'O (비오)</td>\n",
       "      <td>Bipolar</td>\n",
       "      <td>스윙</td>\n",
       "      <td>스윙</td>\n",
       "      <td>36</td>\n",
       "      <td>35.5</td>\n",
       "    </tr>\n",
       "    <tr>\n",
       "      <th>5</th>\n",
       "      <td>2022-05-05</td>\n",
       "      <td>bugs</td>\n",
       "      <td>56</td>\n",
       "      <td>사랑해 진짜</td>\n",
       "      <td>임영웅</td>\n",
       "      <td>IM HERO</td>\n",
       "      <td>물고기뮤직</td>\n",
       "      <td>기타</td>\n",
       "      <td>44</td>\n",
       "      <td>44.0</td>\n",
       "    </tr>\n",
       "    <tr>\n",
       "      <th>6</th>\n",
       "      <td>2022-05-05</td>\n",
       "      <td>bugs</td>\n",
       "      <td>52</td>\n",
       "      <td>아버지</td>\n",
       "      <td>임영웅</td>\n",
       "      <td>IM HERO</td>\n",
       "      <td>물고기뮤직</td>\n",
       "      <td>기타</td>\n",
       "      <td>43</td>\n",
       "      <td>40.0</td>\n",
       "    </tr>\n",
       "    <tr>\n",
       "      <th>7</th>\n",
       "      <td>2022-05-03</td>\n",
       "      <td>vibe</td>\n",
       "      <td>66</td>\n",
       "      <td>D-DAY</td>\n",
       "      <td>휘인(Whee In)</td>\n",
       "      <td>D-DAY</td>\n",
       "      <td>THE L1VE</td>\n",
       "      <td>기타</td>\n",
       "      <td>32</td>\n",
       "      <td>32.0</td>\n",
       "    </tr>\n",
       "  </tbody>\n",
       "</table>\n",
       "</div>"
      ],
      "text/plain": [
       "           날짜   사이트  순위                              곡               가수  \\\n",
       "0  2022-05-08  bugs  36                           LOVE  몬스타엑스(Monsta X)   \n",
       "1  2022-05-04  bugs  38                            꽃 길     BIGBANG (빅뱅)   \n",
       "2  2022-05-05  bugs  66                         나의 월요일         싸이 (PSY)   \n",
       "3  2022-05-05  bugs  42  리무진 (Feat. MINO) (Prod. GRAY)        BE'O (비오)   \n",
       "4  2022-05-05  bugs  62                             문득        BE'O (비오)   \n",
       "5  2022-05-05  bugs  56                         사랑해 진짜              임영웅   \n",
       "6  2022-05-05  bugs  52                            아버지              임영웅   \n",
       "7  2022-05-03  vibe  66                          D-DAY      휘인(Whee In)   \n",
       "\n",
       "                   앨범       소속사 소속사_분류  순위변동  순위변동평균(양수)  \n",
       "0       SHAPE of LOVE       스타쉽    스타쉽    59        59.0  \n",
       "1                 꽃 길        YG     YG    44        30.5  \n",
       "2                 싸다9  P NATION     기타    28        34.0  \n",
       "3  쇼미더머니 10 Episode 3        스윙     스윙    54        41.0  \n",
       "4             Bipolar        스윙     스윙    36        35.5  \n",
       "5             IM HERO     물고기뮤직     기타    44        44.0  \n",
       "6             IM HERO     물고기뮤직     기타    43        40.0  \n",
       "7               D-DAY  THE L1VE     기타    32        32.0  "
      ]
     },
     "execution_count": 19,
     "metadata": {},
     "output_type": "execute_result"
    }
   ],
   "source": [
    "df = pd.read_excel(file_name)\n",
    "df"
   ]
  },
  {
   "cell_type": "markdown",
   "metadata": {},
   "source": [
    "## 구글 트랜드 검색"
   ]
  },
  {
   "cell_type": "code",
   "execution_count": 131,
   "metadata": {},
   "outputs": [
    {
     "data": {
      "text/plain": [
       "'c:/data/Wantreez/Crawling/music/crawled_data/outlier_data/2022-05-02_2022-05-08/google_trend/'"
      ]
     },
     "execution_count": 131,
     "metadata": {},
     "output_type": "execute_result"
    }
   ],
   "source": [
    "# 저장 폴더 생성\n",
    "google_trend_path = f'/crawled_data/outlier_data/{start_date}_{end_date}/google_trend/'\n",
    "des = code_path + google_trend_path\n",
    "des"
   ]
  },
  {
   "cell_type": "code",
   "execution_count": 132,
   "metadata": {},
   "outputs": [],
   "source": [
    "os.makedirs(des, exist_ok=True)"
   ]
  },
  {
   "cell_type": "code",
   "execution_count": 83,
   "metadata": {},
   "outputs": [],
   "source": [
    "ca.install(True)\n",
    "driver = webdriver.Chrome()"
   ]
  },
  {
   "cell_type": "code",
   "execution_count": 84,
   "metadata": {},
   "outputs": [
    {
     "name": "stderr",
     "output_type": "stream",
     "text": [
      "C:\\Users\\kbjung\\AppData\\Local\\Temp/ipykernel_10760/3788286097.py:11: DeprecationWarning: find_element_by_xpath is deprecated. Please use find_element(by=By.XPATH, value=xpath) instead\n",
      "  search_box = driver.find_element_by_xpath('/html/body/div[3]/div[2]/div/ng-include/div/div[2]/autocomplete/md-autocomplete/md-autocomplete-wrap/input')\n",
      "C:\\Users\\kbjung\\AppData\\Local\\Temp/ipykernel_10760/3788286097.py:22: DeprecationWarning: find_element_by_xpath is deprecated. Please use find_element(by=By.XPATH, value=xpath) instead\n",
      "  time_picker = driver.find_element_by_xpath('/html/body/div[3]/div[2]/div/header/div/div[3]/ng-transclude/div[2]/div/div/custom-date-picker/ng-include/md-select').click()\n",
      "C:\\Users\\kbjung\\AppData\\Local\\Temp/ipykernel_10760/3788286097.py:25: DeprecationWarning: find_element_by_xpath is deprecated. Please use find_element(by=By.XPATH, value=xpath) instead\n",
      "  time_picker_30day = driver.find_element_by_xpath('/html/body/div[7]/md-select-menu/md-content/md-option[6]').click()\n",
      "C:\\Users\\kbjung\\AppData\\Local\\Temp/ipykernel_10760/3788286097.py:28: DeprecationWarning: find_element_by_xpath is deprecated. Please use find_element(by=By.XPATH, value=xpath) instead\n",
      "  down_button = driver.find_element_by_xpath('/html/body/div[3]/div[2]/div/md-content/div/div/div[1]/trends-widget/ng-include/widget/div/div/div/widget-actions/div/button[1]').click()\n"
     ]
    },
    {
     "name": "stdout",
     "output_type": "stream",
     "text": [
      "LOVE_몬스타엑스(Monsta X).csv 완료.\n",
      "꽃 길_BIGBANG (빅뱅).csv 완료.\n",
      "나의 월요일_싸이 (PSY).csv 완료.\n",
      "리무진 (Feat. MINO) (Prod. GRAY)_BE'O (비오).csv 완료.\n",
      "문득_BE'O (비오).csv 완료.\n",
      "사랑해 진짜_임영웅.csv 완료.\n",
      "아버지_임영웅.csv 완료.\n",
      "D-DAY_휘인(Whee In).csv 완료.\n"
     ]
    }
   ],
   "source": [
    "for i in range(df.shape[0]):\n",
    "    # 구글 트렌트 접속\n",
    "    url = 'https://trends.google.co.kr/trends/?geo=KR'\n",
    "    driver.get(url)\n",
    "    driver.implicitly_wait(3)\n",
    "    time.sleep( random.uniform(1, 1.5) )\n",
    "    driver.maximize_window()\n",
    "\n",
    "    # 검색어 입력\n",
    "    word = df['곡'][i]\n",
    "    search_box = driver.find_element_by_xpath('/html/body/div[3]/div[2]/div/ng-include/div/div[2]/autocomplete/md-autocomplete/md-autocomplete-wrap/input')\n",
    "    search_box.clear()\n",
    "    time.sleep( random.uniform(1, 1.5) )\n",
    "    search_box.send_keys(word)\n",
    "    time.sleep( random.uniform(1, 1.5) )\n",
    "    search_box.send_keys(Keys.ENTER)\n",
    "    time.sleep( random.uniform(1, 1.5) )\n",
    "    driver.implicitly_wait(3)\n",
    "\n",
    "    # 날짜 picker 클릭\n",
    "    \n",
    "    time_picker = driver.find_element_by_xpath('/html/body/div[3]/div[2]/div/header/div/div[3]/ng-transclude/div[2]/div/div/custom-date-picker/ng-include/md-select').click()\n",
    "    time.sleep( random.uniform(1, 1.5) )\n",
    "    # 30일 날짜 선택\n",
    "    time_picker_30day = driver.find_element_by_xpath('/html/body/div[7]/md-select-menu/md-content/md-option[6]').click()\n",
    "    time.sleep( random.uniform(1, 1.5) )\n",
    "    # 파일 다운 버튼 클릭\n",
    "    down_button = driver.find_element_by_xpath('/html/body/div[3]/div[2]/div/md-content/div/div/div[1]/trends-widget/ng-include/widget/div/div/div/widget-actions/div/button[1]').click()\n",
    "    time.sleep( random.uniform(1, 1.5) )\n",
    "\n",
    "    # 파일 이름 변경\n",
    "    down_folder = 'C:/Users/kbjung/Downloads/'\n",
    "    down_csv = glob.glob(down_folder + '*.csv')[0].split('\\\\')[-1]\n",
    "    title = df['곡'][i]\n",
    "    artist = df['가수'][i]\n",
    "    new_down_csv = f'{title}_{artist}.csv'\n",
    "    os.rename(down_folder + down_csv, down_folder + new_down_csv)\n",
    "\n",
    "    # 파일 이동\n",
    "    shutil.move(down_folder + new_down_csv, des + new_down_csv)\n",
    "    print(f'{new_down_csv} 완료.')"
   ]
  },
  {
   "cell_type": "code",
   "execution_count": 85,
   "metadata": {},
   "outputs": [],
   "source": [
    "driver.quit()"
   ]
  },
  {
   "cell_type": "markdown",
   "metadata": {},
   "source": [
    "## 이상치 노래 그래프"
   ]
  },
  {
   "cell_type": "code",
   "execution_count": 86,
   "metadata": {},
   "outputs": [
    {
     "data": {
      "text/plain": [
       "['D-DAY_휘인(Whee In).csv',\n",
       " 'LOVE_몬스타엑스(Monsta X).csv',\n",
       " '꽃 길_BIGBANG (빅뱅).csv',\n",
       " '나의 월요일_싸이 (PSY).csv',\n",
       " \"리무진 (Feat. MINO) (Prod. GRAY)_BE'O (비오).csv\",\n",
       " \"문득_BE'O (비오).csv\",\n",
       " '사랑해 진짜_임영웅.csv',\n",
       " '아버지_임영웅.csv']"
      ]
     },
     "execution_count": 86,
     "metadata": {},
     "output_type": "execute_result"
    }
   ],
   "source": [
    "outlier_file_list = os.listdir(des)\n",
    "outlier_file_list"
   ]
  },
  {
   "cell_type": "code",
   "execution_count": 123,
   "metadata": {},
   "outputs": [
    {
     "data": {
      "text/html": [
       "<div>\n",
       "<style scoped>\n",
       "    .dataframe tbody tr th:only-of-type {\n",
       "        vertical-align: middle;\n",
       "    }\n",
       "\n",
       "    .dataframe tbody tr th {\n",
       "        vertical-align: top;\n",
       "    }\n",
       "\n",
       "    .dataframe thead th {\n",
       "        text-align: right;\n",
       "    }\n",
       "</style>\n",
       "<table border=\"1\" class=\"dataframe\">\n",
       "  <thead>\n",
       "    <tr style=\"text-align: right;\">\n",
       "      <th></th>\n",
       "      <th>날짜</th>\n",
       "      <th>검색비율</th>\n",
       "    </tr>\n",
       "  </thead>\n",
       "  <tbody>\n",
       "  </tbody>\n",
       "</table>\n",
       "</div>"
      ],
      "text/plain": [
       "Empty DataFrame\n",
       "Columns: [날짜, 검색비율]\n",
       "Index: []"
      ]
     },
     "execution_count": 123,
     "metadata": {},
     "output_type": "execute_result"
    }
   ],
   "source": [
    "one = outlier_file_list[3]\n",
    "title = one.split('_')[0]\n",
    "artist = one.split('_')[1]\n",
    "temp = pd.read_csv(des + one).reset_index()\n",
    "temp = temp.iloc[1:, :].reset_index(drop=True)\n",
    "temp.columns = ['날짜', '검색비율']\n",
    "temp.head()"
   ]
  },
  {
   "cell_type": "code",
   "execution_count": 124,
   "metadata": {},
   "outputs": [
    {
     "name": "stdout",
     "output_type": "stream",
     "text": [
      "<class 'pandas.core.frame.DataFrame'>\n",
      "RangeIndex: 0 entries\n",
      "Data columns (total 2 columns):\n",
      " #   Column  Non-Null Count  Dtype \n",
      "---  ------  --------------  ----- \n",
      " 0   날짜      0 non-null      object\n",
      " 1   검색비율    0 non-null      object\n",
      "dtypes: object(2)\n",
      "memory usage: 124.0+ bytes\n"
     ]
    }
   ],
   "source": [
    "temp.info()"
   ]
  },
  {
   "cell_type": "code",
   "execution_count": 125,
   "metadata": {},
   "outputs": [
    {
     "data": {
      "text/html": [
       "<div>\n",
       "<style scoped>\n",
       "    .dataframe tbody tr th:only-of-type {\n",
       "        vertical-align: middle;\n",
       "    }\n",
       "\n",
       "    .dataframe tbody tr th {\n",
       "        vertical-align: top;\n",
       "    }\n",
       "\n",
       "    .dataframe thead th {\n",
       "        text-align: right;\n",
       "    }\n",
       "</style>\n",
       "<table border=\"1\" class=\"dataframe\">\n",
       "  <thead>\n",
       "    <tr style=\"text-align: right;\">\n",
       "      <th></th>\n",
       "      <th>날짜</th>\n",
       "      <th>검색비율</th>\n",
       "    </tr>\n",
       "  </thead>\n",
       "  <tbody>\n",
       "  </tbody>\n",
       "</table>\n",
       "</div>"
      ],
      "text/plain": [
       "Empty DataFrame\n",
       "Columns: [날짜, 검색비율]\n",
       "Index: []"
      ]
     },
     "execution_count": 125,
     "metadata": {},
     "output_type": "execute_result"
    }
   ],
   "source": [
    "week_temp = temp[ (temp['날짜'] >= start_date) & (temp['날짜'] <= end_date)].reset_index(drop=True)\n",
    "week_temp['검색비율'] = week_temp['검색비율'].astype(int)\n",
    "week_temp"
   ]
  },
  {
   "cell_type": "code",
   "execution_count": 129,
   "metadata": {},
   "outputs": [],
   "source": [
    "colors = sns.color_palette('RdPu', week_temp.shape[0])\n",
    "x = week_temp['날짜']\n",
    "y = week_temp['검색비율']\n",
    "try:\n",
    "        interval_ratio = math.ceil( max(y) )*0.05\n",
    "        interval_ratio2 = math.ceil( max(y) )*0.2\n",
    "        plt.figure( figsize=(12,8) )\n",
    "        plt.bar(x, y, color=colors)\n",
    "        plt.title(f\"구글 트랜드 검색 비율\\n{title}-{artist}\", fontsize=20)\n",
    "        plt.xticks(fontsize=15,rotation=45)\n",
    "        plt.yticks(fontsize=15)\n",
    "        for i in range( len(y) ):\n",
    "                if y[i] <= interval_ratio2:\n",
    "                        plt.text(x[i], y[i]+interval_ratio, round(y[i],1), fontsize=15, color='black',\n",
    "                        horizontalalignment='center',\n",
    "                        verticalalignment='bottom')\n",
    "                else:\n",
    "                        plt.text(x[i], y[i]-interval_ratio, round(y[i],1), fontsize=15, color='black',\n",
    "                        horizontalalignment='center',\n",
    "                        verticalalignment='top')\n",
    "except:\n",
    "        pass"
   ]
  },
  {
   "cell_type": "code",
   "execution_count": 130,
   "metadata": {},
   "outputs": [
    {
     "name": "stdout",
     "output_type": "stream",
     "text": [
      "D-DAY_휘인(Whee In).csv.png 저장 완료.\n",
      "LOVE_몬스타엑스(Monsta X).csv.png 저장 완료.\n",
      "꽃 길_BIGBANG (빅뱅).csv.png 저장 완료.\n",
      "문득_BE'O (비오).csv.png 저장 완료.\n",
      "사랑해 진짜_임영웅.csv.png 저장 완료.\n",
      "아버지_임영웅.csv.png 저장 완료.\n"
     ]
    },
    {
     "data": {
      "image/png": "[encoded data removed]",
      "text/plain": [
       "<Figure size 864x576 with 1 Axes>"
      ]
     },
     "metadata": {
      "needs_background": "light"
     },
     "output_type": "display_data"
    },
    {
     "data": {
      "image/png": "[encoded data removed]",
      "text/plain": [
       "<Figure size 864x576 with 1 Axes>"
      ]
     },
     "metadata": {
      "needs_background": "light"
     },
     "output_type": "display_data"
    },
    {
     "data": {
      "image/png": "[encoded data removed]",
      "text/plain": [
       "<Figure size 864x576 with 1 Axes>"
      ]
     },
     "metadata": {
      "needs_background": "light"
     },
     "output_type": "display_data"
    },
    {
     "data": {
      "image/png": "[encoded data removed]",
      "text/plain": [
       "<Figure size 864x576 with 1 Axes>"
      ]
     },
     "metadata": {
      "needs_background": "light"
     },
     "output_type": "display_data"
    },
    {
     "data": {
      "image/png": "[encoded data removed]",
      "text/plain": [
       "<Figure size 864x576 with 1 Axes>"
      ]
     },
     "metadata": {
      "needs_background": "light"
     },
     "output_type": "display_data"
    },
    {
     "data": {
      "image/png": "[encoded data removed]",
      "text/plain": [
       "<Figure size 864x576 with 1 Axes>"
      ]
     },
     "metadata": {
      "needs_background": "light"
     },
     "output_type": "display_data"
    }
   ],
   "source": [
    "for one in outlier_file_list:\n",
    "    title = one.split('_')[0]\n",
    "    artist = one.split('_')[1]\n",
    "    temp = pd.read_csv(des + one).reset_index()\n",
    "    temp = temp.iloc[1:, :].reset_index(drop=True)\n",
    "    temp.columns = ['날짜', '검색비율']\n",
    "    week_temp = temp[ (temp['날짜'] >= start_date) & (temp['날짜'] <= end_date)].reset_index(drop=True)\n",
    "    week_temp['검색비율'] = week_temp['검색비율'].astype(int)\n",
    "    colors = sns.color_palette('RdPu', week_temp.shape[0])\n",
    "    x = week_temp['날짜']\n",
    "    y = week_temp['검색비율']\n",
    "    try:\n",
    "        interval_ratio = math.ceil( max(y) )*0.05\n",
    "        interval_ratio2 = math.ceil( max(y) )*0.2\n",
    "        plt.figure( figsize=(12,8) )\n",
    "        plt.bar(x, y, color=colors)\n",
    "        plt.title(f\"구글 트랜드 검색 비율\\n{title}-{artist}\", fontsize=20)\n",
    "        plt.xticks(fontsize=15,rotation=45)\n",
    "        plt.yticks( fontsize=15)\n",
    "        for i in range( len(y) ):\n",
    "                if y[i] <= interval_ratio2:\n",
    "                    plt.text(x[i], y[i]+interval_ratio, round(y[i],1), fontsize=15, color='black',\n",
    "                            horizontalalignment='center',\n",
    "                            verticalalignment='bottom')\n",
    "                else:\n",
    "                    plt.text(x[i], y[i]-interval_ratio, round(y[i],1), fontsize=15, color='black',\n",
    "                            horizontalalignment='center',\n",
    "                            verticalalignment='top')\n",
    "        plt.savefig(des + f'{title}_{artist}.png')\n",
    "        print(f'{title}_{artist}.png 저장 완료.')\n",
    "    except:\n",
    "        pass"
   ]
  },
  {
   "cell_type": "markdown",
   "metadata": {},
   "source": [
    "# 코드 마지막"
   ]
  }
 ],
 "metadata": {
  "interpreter": {
   "hash": "9324a04c706a6b31eba7a0651aa7242016688d8fadcdb700b6e4a7f0e3e7d10a"
  },
  "kernelspec": {
   "display_name": "Python 3.9.7 ('base')",
   "language": "python",
   "name": "python3"
  },
  "language_info": {
   "codemirror_mode": {
    "name": "ipython",
    "version": 3
   },
   "file_extension": ".py",
   "mimetype": "text/x-python",
   "name": "python",
   "nbconvert_exporter": "python",
   "pygments_lexer": "ipython3",
   "version": "3.9.7"
  },
  "orig_nbformat": 4
 },
 "nbformat": 4,
 "nbformat_minor": 2
}
