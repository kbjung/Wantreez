{
 "cells": [
  {
   "cell_type": "markdown",
   "metadata": {},
   "source": [
    "# Soribada 실시간"
   ]
  },
  {
   "cell_type": "markdown",
   "metadata": {},
   "source": [
    "## 라이브러리 로드"
   ]
  },
  {
   "cell_type": "code",
   "execution_count": 6,
   "metadata": {},
   "outputs": [],
   "source": [
    "from bs4 import BeautifulSoup as bs\n",
    "import pandas as pd\n",
    "import os\n",
    "from datetime import datetime\n",
    "from selenium import webdriver\n",
    "import chromedriver_autoinstaller as ca"
   ]
  },
  {
   "cell_type": "markdown",
   "metadata": {},
   "source": [
    "## 준비"
   ]
  },
  {
   "cell_type": "markdown",
   "metadata": {},
   "source": [
    "### 현재 경로 확인"
   ]
  },
  {
   "cell_type": "code",
   "execution_count": 53,
   "metadata": {},
   "outputs": [
    {
     "data": {
      "text/plain": [
       "'c:/data/Wantreez/Crawling/music'"
      ]
     },
     "execution_count": 53,
     "metadata": {},
     "output_type": "execute_result"
    }
   ],
   "source": [
    "# 현재 경로 확인\n",
    "code_path = os.getcwd().replace('\\\\', '/')\n",
    "code_path"
   ]
  },
  {
   "cell_type": "markdown",
   "metadata": {},
   "source": [
    "### 폴더 생성"
   ]
  },
  {
   "cell_type": "code",
   "execution_count": 55,
   "metadata": {},
   "outputs": [],
   "source": [
    "# 파일 저장할 폴더 생성\n",
    "crawled_folder_path = code_path + '/crawled_data/live_soribada/'\n",
    "os.makedirs(crawled_folder_path, exist_ok=True)"
   ]
  },
  {
   "cell_type": "markdown",
   "metadata": {},
   "source": [
    "### 크롬 드라이브 버전 확인"
   ]
  },
  {
   "cell_type": "code",
   "execution_count": 10,
   "metadata": {},
   "outputs": [
    {
     "data": {
      "text/plain": [
       "'100'"
      ]
     },
     "execution_count": 10,
     "metadata": {},
     "output_type": "execute_result"
    }
   ],
   "source": [
    "# 현재 크롬 버전 확인\n",
    "chrome_ver = ca.get_chrome_version().split('.')[0]\n",
    "chrome_ver"
   ]
  },
  {
   "cell_type": "code",
   "execution_count": 11,
   "metadata": {},
   "outputs": [
    {
     "name": "stderr",
     "output_type": "stream",
     "text": [
      "C:\\Users\\kbjung\\AppData\\Local\\Temp/ipykernel_5868/231581722.py:3: DeprecationWarning: executable_path has been deprecated, please pass in a Service object\n",
      "  driver = webdriver.Chrome(code_path + f'/{chrome_ver}/' + 'chromedriver.exe')\n"
     ]
    }
   ],
   "source": [
    "# 크롬 드라이버 확인 및 설치\n",
    "try:\n",
    "    driver = webdriver.Chrome(code_path + f'/{chrome_ver}/' + 'chromedriver.exe')\n",
    "except:\n",
    "    ca.install(True)\n",
    "    driver = webdriver.Chrome(code_path + f'/{chrome_ver}/' + 'chromedriver.exe')"
   ]
  },
  {
   "cell_type": "markdown",
   "metadata": {},
   "source": [
    "## 페이지 접속"
   ]
  },
  {
   "cell_type": "code",
   "execution_count": 12,
   "metadata": {},
   "outputs": [],
   "source": [
    "# 페이지 접속\n",
    "url = 'https://www.soribada.com/music/chart'\n",
    "driver.get(url)\n",
    "driver.implicitly_wait(3)\n",
    "driver.maximize_window()"
   ]
  },
  {
   "cell_type": "markdown",
   "metadata": {},
   "source": [
    "### 수프 담기"
   ]
  },
  {
   "cell_type": "code",
   "execution_count": null,
   "metadata": {},
   "outputs": [],
   "source": [
    "# 수프 담기\n",
    "soup = bs(driver.page_source, 'lxml')\n",
    "soup.title.text"
   ]
  },
  {
   "cell_type": "code",
   "execution_count": 14,
   "metadata": {},
   "outputs": [
    {
     "data": {
      "text/plain": [
       "100"
      ]
     },
     "execution_count": 14,
     "metadata": {},
     "output_type": "execute_result"
    }
   ],
   "source": [
    "# 리스트\n",
    "li_soup = soup.find_all('li', 'listen')\n",
    "len(li_soup)"
   ]
  },
  {
   "cell_type": "markdown",
   "metadata": {},
   "source": [
    "### 날짜"
   ]
  },
  {
   "cell_type": "code",
   "execution_count": 20,
   "metadata": {},
   "outputs": [
    {
     "data": {
      "text/plain": [
       "'2022년 04월 04일 07시 10분'"
      ]
     },
     "execution_count": 20,
     "metadata": {},
     "output_type": "execute_result"
    }
   ],
   "source": [
    "# 날짜\n",
    "rank_date = soup.find('span', 'nowText').text\n",
    "rank_date"
   ]
  },
  {
   "cell_type": "code",
   "execution_count": 21,
   "metadata": {},
   "outputs": [
    {
     "data": {
      "text/plain": [
       "'2022-04-04_07:10'"
      ]
     },
     "execution_count": 21,
     "metadata": {},
     "output_type": "execute_result"
    }
   ],
   "source": [
    "rank_date = rank_date.replace('년 ', '-')\n",
    "rank_date = rank_date.replace('월 ', '-')\n",
    "rank_date = rank_date.replace('일 ', '_')\n",
    "rank_date = rank_date.replace('시 ', ':')\n",
    "rank_date = rank_date.replace('분', '')\n",
    "rank_date"
   ]
  },
  {
   "cell_type": "code",
   "execution_count": 22,
   "metadata": {},
   "outputs": [
    {
     "data": {
      "text/plain": [
       "100"
      ]
     },
     "execution_count": 22,
     "metadata": {},
     "output_type": "execute_result"
    }
   ],
   "source": [
    "# 날짜2\n",
    "repeat_rank_date_list = []\n",
    "for i in range(100):\n",
    "    repeat_rank_date_list.append(rank_date)\n",
    "len(repeat_rank_date_list)"
   ]
  },
  {
   "cell_type": "markdown",
   "metadata": {},
   "source": [
    "### 순위"
   ]
  },
  {
   "cell_type": "code",
   "execution_count": 46,
   "metadata": {},
   "outputs": [
    {
     "data": {
      "text/plain": [
       "100"
      ]
     },
     "execution_count": 46,
     "metadata": {},
     "output_type": "execute_result"
    }
   ],
   "source": [
    "# rank\n",
    "rank_list = []\n",
    "for i in range(1, 101):\n",
    "    rank_list.append(i)\n",
    "len(rank_list)"
   ]
  },
  {
   "cell_type": "markdown",
   "metadata": {},
   "source": [
    "### 노래 제목"
   ]
  },
  {
   "cell_type": "code",
   "execution_count": 23,
   "metadata": {},
   "outputs": [
    {
     "data": {
      "text/plain": [
       "'고맙소'"
      ]
     },
     "execution_count": 23,
     "metadata": {},
     "output_type": "execute_result"
    }
   ],
   "source": [
    "# song_title\n",
    "li_soup[0].find('span', 'song-title').text"
   ]
  },
  {
   "cell_type": "code",
   "execution_count": 24,
   "metadata": {},
   "outputs": [
    {
     "data": {
      "text/plain": [
       "100"
      ]
     },
     "execution_count": 24,
     "metadata": {},
     "output_type": "execute_result"
    }
   ],
   "source": [
    "song_title_list = []\n",
    "for one in li_soup:\n",
    "    song_title = one.find('span', 'song-title').text\n",
    "    song_title_list.append(song_title)\n",
    "len(song_title_list)"
   ]
  },
  {
   "cell_type": "code",
   "execution_count": 25,
   "metadata": {},
   "outputs": [
    {
     "data": {
      "text/plain": [
       "['고맙소', '나보다 더 사랑해요', '아무도 잠들지 마라 (Nessun Dorma)', '만개 (Prod. 신지후)', '할무니']"
      ]
     },
     "execution_count": 25,
     "metadata": {},
     "output_type": "execute_result"
    }
   ],
   "source": [
    "song_title_list[:5]"
   ]
  },
  {
   "cell_type": "markdown",
   "metadata": {},
   "source": [
    "### 가수"
   ]
  },
  {
   "cell_type": "code",
   "execution_count": 28,
   "metadata": {},
   "outputs": [
    {
     "data": {
      "text/plain": [
       "'김호중'"
      ]
     },
     "execution_count": 28,
     "metadata": {},
     "output_type": "execute_result"
    }
   ],
   "source": [
    "li_soup[0].find('span', 'link-type2-name artist').find('a').text.strip()"
   ]
  },
  {
   "cell_type": "code",
   "execution_count": 30,
   "metadata": {},
   "outputs": [
    {
     "data": {
      "text/plain": [
       "'야긴'"
      ]
     },
     "execution_count": 30,
     "metadata": {},
     "output_type": "execute_result"
    }
   ],
   "source": [
    "li_soup[49].find('span', 'link-type2-name artist').find('a').text.strip()"
   ]
  },
  {
   "cell_type": "code",
   "execution_count": 32,
   "metadata": {},
   "outputs": [
    {
     "name": "stdout",
     "output_type": "stream",
     "text": [
      "27\n",
      "34\n",
      "42\n",
      "43\n",
      "51\n",
      "55\n",
      "56\n",
      "87\n",
      "93\n"
     ]
    }
   ],
   "source": [
    "for i, one in enumerate(li_soup):\n",
    "    try:\n",
    "        artist = one.find('span', 'link-type2-name artist').find('a').text.strip()\n",
    "    except:\n",
    "        print(i)"
   ]
  },
  {
   "cell_type": "code",
   "execution_count": 34,
   "metadata": {},
   "outputs": [
    {
     "data": {
      "text/plain": [
       "'김호중, 오현우'"
      ]
     },
     "execution_count": 34,
     "metadata": {},
     "output_type": "execute_result"
    }
   ],
   "source": [
    "li_soup[34].find('span', 'link-type2-name artist detail_artist').text.strip()"
   ]
  },
  {
   "cell_type": "code",
   "execution_count": null,
   "metadata": {},
   "outputs": [],
   "source": [
    "for i, one in enumerate(li_soup):\n",
    "    try:\n",
    "        artist = one.find('span', 'link-type2-name artist').find('a').text.strip()\n",
    "    except:\n",
    "        artist = one.find('span', 'link-type2-name artist detail_artist').text.strip()"
   ]
  },
  {
   "cell_type": "code",
   "execution_count": 35,
   "metadata": {},
   "outputs": [
    {
     "data": {
      "text/plain": [
       "100"
      ]
     },
     "execution_count": 35,
     "metadata": {},
     "output_type": "execute_result"
    }
   ],
   "source": [
    "# artist\n",
    "artist_list = []\n",
    "for one in li_soup:\n",
    "    try:\n",
    "        artist = one.find('span', 'link-type2-name artist').find('a').text.strip()\n",
    "    except:\n",
    "        artist = one.find('span', 'link-type2-name artist detail_artist').text.strip()\n",
    "    artist_list.append(artist)\n",
    "len(artist_list)"
   ]
  },
  {
   "cell_type": "code",
   "execution_count": 37,
   "metadata": {},
   "outputs": [
    {
     "data": {
      "text/plain": [
       "'진시몬, 김호중'"
      ]
     },
     "execution_count": 37,
     "metadata": {},
     "output_type": "execute_result"
    }
   ],
   "source": [
    "artist_list[27]"
   ]
  },
  {
   "cell_type": "markdown",
   "metadata": {},
   "source": [
    "### 앨범"
   ]
  },
  {
   "cell_type": "code",
   "execution_count": 38,
   "metadata": {},
   "outputs": [
    {
     "data": {
      "text/plain": [
       "'내일은 미스터트롯 결승전 베스트'"
      ]
     },
     "execution_count": 38,
     "metadata": {},
     "output_type": "execute_result"
    }
   ],
   "source": [
    "li_soup[0].find('span', 'link-type2 album-title').text"
   ]
  },
  {
   "cell_type": "code",
   "execution_count": 42,
   "metadata": {},
   "outputs": [],
   "source": [
    "for i, one in enumerate(li_soup):\n",
    "    try:\n",
    "        album = one.find('span', 'link-type2 album-title').text\n",
    "    except:\n",
    "        print(i)"
   ]
  },
  {
   "cell_type": "code",
   "execution_count": 43,
   "metadata": {},
   "outputs": [
    {
     "data": {
      "text/plain": [
       "100"
      ]
     },
     "execution_count": 43,
     "metadata": {},
     "output_type": "execute_result"
    }
   ],
   "source": [
    "# album\n",
    "album_list = []\n",
    "for one in li_soup:\n",
    "    album = one.find('span', 'link-type2 album-title').text\n",
    "    album_list.append(album)\n",
    "len(album_list)"
   ]
  },
  {
   "cell_type": "code",
   "execution_count": 44,
   "metadata": {},
   "outputs": [
    {
     "data": {
      "text/plain": [
       "'<불후의 명곡 – 전설을 노래하다> - 여름특집 1탄-친구 특집'"
      ]
     },
     "execution_count": 44,
     "metadata": {},
     "output_type": "execute_result"
    }
   ],
   "source": [
    "album_list[27]"
   ]
  },
  {
   "cell_type": "markdown",
   "metadata": {},
   "source": [
    "## df"
   ]
  },
  {
   "cell_type": "code",
   "execution_count": 47,
   "metadata": {},
   "outputs": [],
   "source": [
    "# df\n",
    "dict = {'날짜':repeat_rank_date_list, '순위':rank_list, '곡':song_title_list, '가수':artist_list, '앨범':album_list}\n",
    "df = pd.DataFrame(dict)"
   ]
  },
  {
   "cell_type": "code",
   "execution_count": 49,
   "metadata": {},
   "outputs": [
    {
     "data": {
      "text/html": [
       "<div>\n",
       "<style scoped>\n",
       "    .dataframe tbody tr th:only-of-type {\n",
       "        vertical-align: middle;\n",
       "    }\n",
       "\n",
       "    .dataframe tbody tr th {\n",
       "        vertical-align: top;\n",
       "    }\n",
       "\n",
       "    .dataframe thead th {\n",
       "        text-align: right;\n",
       "    }\n",
       "</style>\n",
       "<table border=\"1\" class=\"dataframe\">\n",
       "  <thead>\n",
       "    <tr style=\"text-align: right;\">\n",
       "      <th></th>\n",
       "      <th>날짜</th>\n",
       "      <th>순위</th>\n",
       "      <th>곡</th>\n",
       "      <th>가수</th>\n",
       "      <th>앨범</th>\n",
       "    </tr>\n",
       "  </thead>\n",
       "  <tbody>\n",
       "    <tr>\n",
       "      <th>0</th>\n",
       "      <td>2022-04-04_07:10</td>\n",
       "      <td>1</td>\n",
       "      <td>고맙소</td>\n",
       "      <td>김호중</td>\n",
       "      <td>내일은 미스터트롯 결승전 베스트</td>\n",
       "    </tr>\n",
       "    <tr>\n",
       "      <th>1</th>\n",
       "      <td>2022-04-04_07:10</td>\n",
       "      <td>2</td>\n",
       "      <td>나보다 더 사랑해요</td>\n",
       "      <td>김호중</td>\n",
       "      <td>나보다 더 사랑해요</td>\n",
       "    </tr>\n",
       "    <tr>\n",
       "      <th>2</th>\n",
       "      <td>2022-04-04_07:10</td>\n",
       "      <td>3</td>\n",
       "      <td>아무도 잠들지 마라 (Nessun Dorma)</td>\n",
       "      <td>김호중</td>\n",
       "      <td>The Classic Album</td>\n",
       "    </tr>\n",
       "    <tr>\n",
       "      <th>3</th>\n",
       "      <td>2022-04-04_07:10</td>\n",
       "      <td>4</td>\n",
       "      <td>만개 (Prod. 신지후)</td>\n",
       "      <td>김호중</td>\n",
       "      <td>우리家</td>\n",
       "    </tr>\n",
       "    <tr>\n",
       "      <th>4</th>\n",
       "      <td>2022-04-04_07:10</td>\n",
       "      <td>5</td>\n",
       "      <td>할무니</td>\n",
       "      <td>김호중</td>\n",
       "      <td>할무니</td>\n",
       "    </tr>\n",
       "  </tbody>\n",
       "</table>\n",
       "</div>"
      ],
      "text/plain": [
       "                 날짜  순위                          곡   가수                 앨범\n",
       "0  2022-04-04_07:10   1                        고맙소  김호중  내일은 미스터트롯 결승전 베스트\n",
       "1  2022-04-04_07:10   2                 나보다 더 사랑해요  김호중         나보다 더 사랑해요\n",
       "2  2022-04-04_07:10   3  아무도 잠들지 마라 (Nessun Dorma)  김호중  The Classic Album\n",
       "3  2022-04-04_07:10   4             만개 (Prod. 신지후)  김호중                우리家\n",
       "4  2022-04-04_07:10   5                        할무니  김호중                할무니"
      ]
     },
     "execution_count": 49,
     "metadata": {},
     "output_type": "execute_result"
    }
   ],
   "source": [
    "df.head()"
   ]
  },
  {
   "cell_type": "code",
   "execution_count": 57,
   "metadata": {},
   "outputs": [
    {
     "data": {
      "text/plain": [
       "'20220404'"
      ]
     },
     "execution_count": 57,
     "metadata": {},
     "output_type": "execute_result"
    }
   ],
   "source": [
    "date = rank_date.split('_')[0].replace('-', '')\n",
    "date"
   ]
  },
  {
   "cell_type": "markdown",
   "metadata": {},
   "source": [
    "## 파일 만들기"
   ]
  },
  {
   "cell_type": "code",
   "execution_count": 58,
   "metadata": {},
   "outputs": [
    {
     "name": "stdout",
     "output_type": "stream",
     "text": [
      "live_soribada_20220404_20220422_114105.xlsx 파일 생성 완료\n"
     ]
    }
   ],
   "source": [
    "# make excel\n",
    "today_date = datetime.today().strftime(\"%Y%m%d_%H%M%S\")\n",
    "date = rank_date.split('_')[0].replace('-', '')\n",
    "file_name = f'live_soribada_{date}_{today_date}.xlsx'\n",
    "df.to_excel(crawled_folder_path + file_name, index=False)\n",
    "\n",
    "print(f\"{file_name} 파일 생성 완료\")"
   ]
  },
  {
   "cell_type": "markdown",
   "metadata": {},
   "source": [
    "# 코드 마지막"
   ]
  }
 ],
 "metadata": {
  "interpreter": {
   "hash": "513dc2e41d739bb2c947903f3c0bbf636d03aa53ab50e61c694a27481c81805e"
  },
  "kernelspec": {
   "display_name": "Python 3.8.8 ('base')",
   "language": "python",
   "name": "python3"
  },
  "language_info": {
   "codemirror_mode": {
    "name": "ipython",
    "version": 3
   },
   "file_extension": ".py",
   "mimetype": "text/x-python",
   "name": "python",
   "nbconvert_exporter": "python",
   "pygments_lexer": "ipython3",
   "version": "3.9.7"
  },
  "orig_nbformat": 4
 },
 "nbformat": 4,
 "nbformat_minor": 2
}
