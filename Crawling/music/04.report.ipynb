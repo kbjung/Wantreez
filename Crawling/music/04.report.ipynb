{
 "cells": [
  {
   "cell_type": "markdown",
   "metadata": {},
   "source": [
    "# Report\n",
    "* 2-1. 주간 음원 변동 특이사항\n",
    "    * {start_date}_{end_date}_total_outlier.xlsx\n",
    "* 3-1-1. 순위 급상승 음원\n",
    "    * {start_date}_{end_date}_total_outlier.xlsx\n",
    "    * {start_date}_{end_date}_total_outlier.png\n",
    "* 4-1-1. 기획사별 음원차트 진입 요약\n",
    "    * {start_date}_{end_date}_agency_in_chart.xlsx\n",
    "* 4-1-2. 기획사 소셜미디어 관심도 요약\n",
    "    * naver_datalab/소속사_소셜관심도.png\n",
    "    * kakao_trend/소속사_소셜관심도.png\n",
    "* 4-2-1. 소속사별 진입 음원\n",
    "    * {start_date}_{end_date}_mean_outlier_agency.xlsx\n",
    "* 6-1-1. 음원사이트별 주간 순위\n",
    "    * {날짜}_Top100_ranks.xlsx\n",
    "* 6-1-2. 음원사이트별 주간 그래프\n",
    "    * {site_name}/[{site_name}]{start_date}_{end_date}_그래프.png"
   ]
  },
  {
   "cell_type": "markdown",
   "metadata": {},
   "source": [
    "## 필요 라이브러리 로드"
   ]
  },
  {
   "cell_type": "code",
   "execution_count": 157,
   "metadata": {},
   "outputs": [],
   "source": [
    "import pandas as pd\n",
    "import matplotlib.pyplot as plt\n",
    "import os, math\n",
    "import shutil"
   ]
  },
  {
   "cell_type": "code",
   "execution_count": 158,
   "metadata": {},
   "outputs": [],
   "source": [
    "from selenium import webdriver\n",
    "import chromedriver_autoinstaller as ca\n",
    "import random, time"
   ]
  },
  {
   "cell_type": "code",
   "execution_count": 159,
   "metadata": {},
   "outputs": [],
   "source": [
    "import platform\n",
    "from matplotlib import font_manager, rc\n",
    "\n",
    "# 한글 폰트 지정\n",
    "path = \"C:/Windows/Fonts/malgun.ttf\"\n",
    "if platform.system() == \"Windows\":\n",
    "    font_name = font_manager.FontProperties(fname=path).get_name()\n",
    "    rc('font', family=font_name)\n",
    "elif platform.system()==\"Darwin\":\n",
    "    rc('font', family='AppleGothic')\n",
    "else:\n",
    "    print(\"Unknown System\")"
   ]
  },
  {
   "cell_type": "code",
   "execution_count": 160,
   "metadata": {},
   "outputs": [],
   "source": [
    "import matplotlib\n",
    "matplotlib.rcParams['axes.unicode_minus'] = False # 그래프에서 음수 표현 가능하도록 설정.\n",
    "matplotlib.rcParams['figure.max_open_warning'] = 0 # 많은 그래프 생성시 오류 메세지 숨기기."
   ]
  },
  {
   "cell_type": "code",
   "execution_count": 161,
   "metadata": {},
   "outputs": [],
   "source": [
    "import seaborn as sns"
   ]
  },
  {
   "cell_type": "markdown",
   "metadata": {},
   "source": [
    "## 이번주 날짜 설정"
   ]
  },
  {
   "cell_type": "code",
   "execution_count": 162,
   "metadata": {},
   "outputs": [],
   "source": [
    "# 전주 설정\n",
    "past_start_date = '2022-05-16'\n",
    "past_end_date = '2022-05-22'\n",
    "# 기간 설정(이번주)\n",
    "start_date = '2022-05-23'\n",
    "end_date = '2022-05-29'"
   ]
  },
  {
   "cell_type": "code",
   "execution_count": 163,
   "metadata": {},
   "outputs": [],
   "source": [
    "# 작업 위치 고정\n",
    "f_path = 'c:/data/Wantreez/Crawling/music'\n",
    "try:\n",
    "    os.chdir(f_path)\n",
    "except:\n",
    "    pass"
   ]
  },
  {
   "cell_type": "code",
   "execution_count": 164,
   "metadata": {},
   "outputs": [
    {
     "data": {
      "text/plain": [
       "'c:/data/Wantreez/Crawling/music'"
      ]
     },
     "execution_count": 164,
     "metadata": {},
     "output_type": "execute_result"
    }
   ],
   "source": [
    "# 현재 코드 위치\n",
    "code_path = os.getcwd().replace('\\\\', '/')\n",
    "code_path"
   ]
  },
  {
   "cell_type": "markdown",
   "metadata": {},
   "source": [
    "## 6-1-1. 음원사이트별 주간 순위"
   ]
  },
  {
   "cell_type": "code",
   "execution_count": 165,
   "metadata": {},
   "outputs": [
    {
     "data": {
      "text/html": [
       "<div>\n",
       "<style scoped>\n",
       "    .dataframe tbody tr th:only-of-type {\n",
       "        vertical-align: middle;\n",
       "    }\n",
       "\n",
       "    .dataframe tbody tr th {\n",
       "        vertical-align: top;\n",
       "    }\n",
       "\n",
       "    .dataframe thead th {\n",
       "        text-align: right;\n",
       "    }\n",
       "</style>\n",
       "<table border=\"1\" class=\"dataframe\">\n",
       "  <thead>\n",
       "    <tr style=\"text-align: right;\">\n",
       "      <th></th>\n",
       "      <th>날짜</th>\n",
       "    </tr>\n",
       "  </thead>\n",
       "  <tbody>\n",
       "    <tr>\n",
       "      <th>0</th>\n",
       "      <td>2022-05-23</td>\n",
       "    </tr>\n",
       "    <tr>\n",
       "      <th>1</th>\n",
       "      <td>2022-05-24</td>\n",
       "    </tr>\n",
       "    <tr>\n",
       "      <th>2</th>\n",
       "      <td>2022-05-25</td>\n",
       "    </tr>\n",
       "    <tr>\n",
       "      <th>3</th>\n",
       "      <td>2022-05-26</td>\n",
       "    </tr>\n",
       "    <tr>\n",
       "      <th>4</th>\n",
       "      <td>2022-05-27</td>\n",
       "    </tr>\n",
       "    <tr>\n",
       "      <th>5</th>\n",
       "      <td>2022-05-28</td>\n",
       "    </tr>\n",
       "    <tr>\n",
       "      <th>6</th>\n",
       "      <td>2022-05-29</td>\n",
       "    </tr>\n",
       "  </tbody>\n",
       "</table>\n",
       "</div>"
      ],
      "text/plain": [
       "           날짜\n",
       "0  2022-05-23\n",
       "1  2022-05-24\n",
       "2  2022-05-25\n",
       "3  2022-05-26\n",
       "4  2022-05-27\n",
       "5  2022-05-28\n",
       "6  2022-05-29"
      ]
     },
     "execution_count": 165,
     "metadata": {},
     "output_type": "execute_result"
    }
   ],
   "source": [
    "# 기준 날짜 생성\n",
    "dates = pd.date_range(start_date, end_date)\n",
    "basic_date_df = pd.DataFrame({'날짜':dates})\n",
    "basic_date_df['날짜'] = basic_date_df['날짜'].astype('str')\n",
    "basic_date_df"
   ]
  },
  {
   "cell_type": "code",
   "execution_count": 166,
   "metadata": {},
   "outputs": [
    {
     "name": "stdout",
     "output_type": "stream",
     "text": [
      "<class 'str'> 2022-05-23\n",
      "<class 'str'> 2022-05-24\n",
      "<class 'str'> 2022-05-25\n",
      "<class 'str'> 2022-05-26\n",
      "<class 'str'> 2022-05-27\n",
      "<class 'str'> 2022-05-28\n",
      "<class 'str'> 2022-05-29\n"
     ]
    }
   ],
   "source": [
    "for one in basic_date_df['날짜']:\n",
    "    print(type(one), one)"
   ]
  },
  {
   "cell_type": "code",
   "execution_count": 167,
   "metadata": {},
   "outputs": [
    {
     "data": {
      "text/plain": [
       "['2022-05-16', '2022-05-16', '2022-05-16', '2022-05-16', '2022-05-16']"
      ]
     },
     "execution_count": 167,
     "metadata": {},
     "output_type": "execute_result"
    }
   ],
   "source": [
    "one_date = '2022-05-16'\n",
    "one_day_list = [one_date for i in range(100)]\n",
    "one_day_list[:5]"
   ]
  },
  {
   "cell_type": "code",
   "execution_count": 168,
   "metadata": {},
   "outputs": [
    {
     "name": "stdout",
     "output_type": "stream",
     "text": [
      "2022-05-23_Top100_ranks.xlsx 출력.\n",
      "2022-05-24_Top100_ranks.xlsx 출력.\n",
      "2022-05-25_Top100_ranks.xlsx 출력.\n",
      "2022-05-26_Top100_ranks.xlsx 출력.\n",
      "2022-05-27_Top100_ranks.xlsx 출력.\n",
      "2022-05-28_Top100_ranks.xlsx 출력.\n",
      "2022-05-29_Top100_ranks.xlsx 출력.\n"
     ]
    }
   ],
   "source": [
    "# 음원 사이트\n",
    "site_list = ['bugs', 'flo', 'genie', 'melon', 'vibe']\n",
    "total_outlier_df = pd.DataFrame()\n",
    "\n",
    "# 기준 날짜 생성\n",
    "dates = pd.date_range(start_date, end_date)\n",
    "basic_date_df = pd.DataFrame({'날짜':dates})\n",
    "basic_date_df['날짜'] = basic_date_df['날짜'].astype('str')\n",
    "\n",
    "for one_date in basic_date_df['날짜']:\n",
    "    mod_one_date = one_date.replace('-', '')\n",
    "    one_day_list = [one_date for i in range(100)]\n",
    "    one_day_rank = [i for i in range(1, 101)]\n",
    "    one_day_df = pd.DataFrame({'날짜':one_day_list, '순위':one_day_rank})\n",
    "    for site_name in site_list:\n",
    "        # code_path = 'c:/data/Wantreez/Crawling/music'\n",
    "        live_folder = f'crawled_data/mod_{site_name}'\n",
    "        live_path = os.path.join(code_path, live_folder)\n",
    "        file_list = os.listdir(live_path)\n",
    "            \n",
    "        # 모든 파일 합치기\n",
    "        for one_file in file_list:\n",
    "            if mod_one_date in one_file:\n",
    "                one_path = os.path.join(live_path, one_file)\n",
    "                temp = pd.read_excel(one_path)\n",
    "                one_day_df[f'{site_name}'] = temp['곡']\n",
    "    \n",
    "    # 파일 저장\n",
    "    report_folder = f'crawled_data/outlier_data/{start_date}_{end_date}'\n",
    "    os.makedirs(report_folder, exist_ok=True)\n",
    "    ranks_save_folder = os.path.join(code_path, report_folder)\n",
    "    # ranks_save_folder = 'c:/data/Wantreez/Crawling/music/crawled_data/outlier_data/{start_date}_{end_date}'\n",
    "    ranks_file_name = f'{one_date}_Top100_ranks.xlsx'\n",
    "    ranks_save_path = os.path.join(ranks_save_folder, ranks_file_name)\n",
    "    one_day_df.to_excel(ranks_save_path, index=False, encoding='utf-8')\n",
    "    print(f'{one_date}_Top100_ranks.xlsx 출력.')"
   ]
  },
  {
   "cell_type": "markdown",
   "metadata": {},
   "source": [
    "## 6-1-2. 음원사이트별 주간 그래프\n",
    "* 음원 순위 변동 그래프 & 급등 음원 추출"
   ]
  },
  {
   "cell_type": "markdown",
   "metadata": {},
   "source": [
    "### 한 그래프에 그릴 그래프 개수 설정"
   ]
  },
  {
   "cell_type": "code",
   "execution_count": 169,
   "metadata": {},
   "outputs": [],
   "source": [
    "# 한 그래프에 몇 개의 선 그래프 그릴지 설정\n",
    "number = 10"
   ]
  },
  {
   "cell_type": "markdown",
   "metadata": {},
   "source": [
    "### 급등 음원 기준 설정"
   ]
  },
  {
   "cell_type": "code",
   "execution_count": 170,
   "metadata": {},
   "outputs": [],
   "source": [
    "# 급등 음원의 기준 설정\n",
    "u_outlier = 30\n",
    "# 급등 음원 중 상위 몇 % 추출 설정(0.1 => 10 %)\n",
    "top_outlier_rate = 0.1"
   ]
  },
  {
   "cell_type": "markdown",
   "metadata": {},
   "source": [
    "### 순위 그래프1"
   ]
  },
  {
   "cell_type": "code",
   "execution_count": 171,
   "metadata": {},
   "outputs": [],
   "source": [
    "# # 음원 사이트(순위변화 계산시 있는 순위만 계산)\n",
    "# site_list = ['bugs', 'flo', 'genie', 'melon', 'vibe']\n",
    "# total_outlier_df = pd.DataFrame()\n",
    "# for site_name in site_list:\n",
    "#     # code_path = 'c:/data/Wantreez/Crawling/music'\n",
    "#     live_folder = f'crawled_data/mod_{site_name}'\n",
    "#     live_path = os.path.join(code_path, live_folder)\n",
    "#     file_list = os.listdir(live_path)\n",
    "    \n",
    "#     # 모든 파일 합치기\n",
    "#     df = pd.DataFrame()\n",
    "#     for one in file_list:\n",
    "#         one_path = os.path.join(live_path, one)\n",
    "#         temp = pd.read_excel(one_path)\n",
    "#         df = pd.concat([df, temp], ignore_index=True)\n",
    "#     df['날짜'] = df['날짜'].astype(str)\n",
    "#     sliced_df = df[(df['날짜'] >= start_date) & (df['날짜'] <= end_date)].reset_index(drop=True)\n",
    "#     # 이번주 날짜 df\n",
    "#     dates = pd.date_range(start_date, end_date)\n",
    "#     basic_date_df = pd.DataFrame({'날짜':dates})\n",
    "#     basic_date_df['날짜'] = basic_date_df['날짜'].astype('str')\n",
    "#     # 음원의 유일한 곡, 가수 명 남기기\n",
    "#     unique_sliced_df = sliced_df.drop_duplicates(['곡', '가수']).reset_index(drop=True)\n",
    "#     print(f'{site_name}의 곡, 가수 유니크 shape : ', unique_sliced_df.shape)\n",
    "#     # 음원별 순위변동 추가 df\n",
    "#     song_df_list = []\n",
    "#     for i in range(unique_sliced_df.shape[0]):\n",
    "#         temp = unique_sliced_df.iloc[i:i+1, :].reset_index(drop=True)\n",
    "#         one_df = sliced_df[ (sliced_df['곡'] == temp['곡'][0]) & (sliced_df['가수'] == temp['가수'][0]) ].reset_index(drop=True)\n",
    "#         one_df['순위변동'] = one_df['순위'].shift(1) - one_df['순위']\n",
    "#         one_df['순위변동'] = one_df['순위변동'].fillna(0)\n",
    "#         one_df['순위변동'] = one_df['순위변동'].astype('int64')\n",
    "#         merged_df = pd.merge(basic_date_df, one_df, how='left', on='날짜')\n",
    "#         site = merged_df['사이트'].value_counts().index[0]\n",
    "#         title = merged_df['곡'].value_counts().index[0]\n",
    "#         artist = merged_df['가수'].value_counts().index[0]\n",
    "#         album = merged_df['앨범'].value_counts().index[0]\n",
    "#         agency = merged_df['소속사'].value_counts().index[0]\n",
    "#         agency_type = merged_df['소속사_분류'].value_counts().index[0]\n",
    "#         merged_df['사이트'] = merged_df['사이트'].fillna(site)\n",
    "#         merged_df['곡'] = merged_df['곡'].fillna(title)\n",
    "#         merged_df['가수'] = merged_df['가수'].fillna(artist)\n",
    "#         merged_df['앨범'] = merged_df['앨범'].fillna(album)\n",
    "#         merged_df['소속사'] = merged_df['소속사'].fillna(agency)\n",
    "#         merged_df['소속사_분류'] = merged_df['소속사_분류'].fillna(agency_type)\n",
    "#         song_df_list.append(merged_df)\n",
    "#     # 그래프 저장할 폴더\n",
    "#     # code_path = 'c:/data/Wantreez/Crawling/music'\n",
    "#     save_folder = f'crawled_data/outlier_data/{start_date}_{end_date}/{site_name}'\n",
    "#     save_folder2 = os.path.join(code_path, save_folder)\n",
    "#     os.makedirs(save_folder2, exist_ok=True)\n",
    "#     # 그래프 출력\n",
    "#     t = 0\n",
    "#     for i in range( math.ceil(len(song_df_list)/number) ):\n",
    "#         plt.figure( figsize=(15, 10) )\n",
    "#         ax = plt.axes()\n",
    "#         ax.invert_yaxis()\n",
    "#         graph_df = song_df_list[i*number:(i+1)*number]\n",
    "#         plt.grid(True)\n",
    "#         for one in graph_df:\n",
    "#             # 순위 nan 값 100으로 채우기\n",
    "#             one['순위'] = one['순위'].fillna(100)\n",
    "#             title = one['곡'].value_counts().index.values[0]\n",
    "#             artist = one['가수'].value_counts().index.values[0]\n",
    "#             song_label = title + ' - ' + artist\n",
    "#             plt.plot(one['날짜'], one['순위'], '-o', label=song_label, linewidth=3, alpha=0.7)\n",
    "#         t =  t + number\n",
    "#         plt.title(f'{t-(number-1)}~{t}번째 노래', fontdict={'size':20})\n",
    "#         plt.xticks(fontsize=15)\n",
    "#         plt.yticks(fontsize=15)\n",
    "#         plt.legend(framealpha=0.5, fontsize=20, frameon=True, edgecolor='k', shadow=True, loc='center right', bbox_to_anchor=(-0.05,0.5))\n",
    "#         # save_folder2 = 'c:/data/Wantreez/Crawling/music/crawled_data/outlier_data/{start_date}_{end_date}/{site_name}'\n",
    "#         file_name = f'[{site_name}]{start_date}_{end_date}_그래프{t:0>2}.png'\n",
    "#         save_graph_path = os.path.join(save_folder2, file_name)\n",
    "#         plt.savefig(save_graph_path, bbox_inches='tight')\n",
    "#         plt.close()\n",
    "\n",
    "#     # 이번주 모든 노래 데이터 병합\n",
    "#     total_df = pd.DataFrame()\n",
    "#     for one in song_df_list:\n",
    "#         total_df = pd.concat([total_df, one], ignore_index=True)\n",
    "#     # 음원의 유일한 곡, 가수만 남기기\n",
    "#     unique_music_df = total_df.sort_values(['곡', '가수', '날짜', '순위']).reset_index(drop=True).drop_duplicates(['곡', '가수'], ignore_index=True)\n",
    "#     # 해당 음원의 순위변동이 양수인 df 추출\n",
    "#     mean_unique_music_df = pd.DataFrame()\n",
    "#     for i in range(unique_music_df.shape[0]):\n",
    "#         title = unique_music_df['곡'][i]\n",
    "#         artist = unique_music_df['가수'][i]\n",
    "#         temp = total_df[ (total_df['곡'] == title) & (total_df['가수'] == artist) & (total_df['순위변동'] > 0)].reset_index(drop=True)\n",
    "#         # 해당 음원의 순위변동평균\n",
    "#         temp['순위변동평균(양수)'] = round( temp['순위변동'].mean(), 1 )\n",
    "#         # 해당 음원 df의 첫째 줄만 추출\n",
    "#         first_temp = temp.iloc[0:1, :]\n",
    "#         mean_unique_music_df = pd.concat([mean_unique_music_df, first_temp], ignore_index=True)\n",
    "#     # 급등 음원 추출\n",
    "#     u_outlier = 30\n",
    "#     outlier_df = mean_unique_music_df[mean_unique_music_df['순위변동평균(양수)'] > u_outlier].reset_index(drop=True)\n",
    "#     # 파일 저장할 폴더 생성\n",
    "#     mod_start_date = start_date.replace('-','')\n",
    "#     mod_end_date = end_date.replace('-','')\n",
    "#     # save_folder2 = 'c:/data/Wantreez/Crawling/music/crawled_data/outlier_data/{start_date}_{end_date}/{site_name}'\n",
    "#     # 이상치 음원 평균 df 출력\n",
    "#     file_name2 = f'[{site_name}]{mod_start_date}_{mod_end_date}_mean_outliers.xlsx'\n",
    "#     outlier_path = os.path.join(save_folder2, file_name2)\n",
    "#     outlier_df.to_excel(outlier_path , index=False)\n",
    "#     print(f'{site_name}의 이상치 df.shape :', outlier_df.shape)\n",
    "#     print(f'{file_name2} 출력')\n",
    "#     # 이상치 음원 df 종합\n",
    "#     total_outlier_df = pd.concat([total_outlier_df, outlier_df], ignore_index=True)"
   ]
  },
  {
   "cell_type": "markdown",
   "metadata": {},
   "source": [
    "### 순위 그래프2"
   ]
  },
  {
   "cell_type": "code",
   "execution_count": 172,
   "metadata": {},
   "outputs": [
    {
     "name": "stdout",
     "output_type": "stream",
     "text": [
      "bugs의 곡, 가수 유니크 shape :  (237, 8)\n",
      "bugs의 top이상치 df.shape : (7, 10)\n",
      "[bugs]20220523_20220529_mean_outliers.xlsx 출력\n",
      "\n",
      "flo의 곡, 가수 유니크 shape :  (113, 8)\n",
      "flo의 top이상치 df.shape : (0, 10)\n",
      "[flo]20220523_20220529_mean_outliers.xlsx 출력\n",
      "\n",
      "genie의 곡, 가수 유니크 shape :  (130, 8)\n",
      "genie의 top이상치 df.shape : (1, 10)\n",
      "[genie]20220523_20220529_mean_outliers.xlsx 출력\n",
      "\n",
      "melon의 곡, 가수 유니크 shape :  (112, 8)\n",
      "melon의 top이상치 df.shape : (0, 10)\n",
      "[melon]20220523_20220529_mean_outliers.xlsx 출력\n",
      "\n",
      "vibe의 곡, 가수 유니크 shape :  (107, 8)\n",
      "vibe의 top이상치 df.shape : (0, 10)\n",
      "[vibe]20220523_20220529_mean_outliers.xlsx 출력\n",
      "\n"
     ]
    }
   ],
   "source": [
    "# 음원 사이트(순위변화 계산시 nan값을 100으로 채워 계산)\n",
    "site_list = ['bugs', 'flo', 'genie', 'melon', 'vibe']\n",
    "total_outlier_df = pd.DataFrame()\n",
    "for site_name in site_list:\n",
    "    # code_path = 'c:/data/Wantreez/Crawling/music'\n",
    "    live_folder = f'crawled_data/mod_{site_name}'\n",
    "    live_path = os.path.join(code_path, live_folder)\n",
    "    file_list = os.listdir(live_path)\n",
    "    \n",
    "    # 모든 파일 합치기\n",
    "    df = pd.DataFrame()\n",
    "    for one in file_list:\n",
    "        one_path = os.path.join(live_path, one)\n",
    "        temp = pd.read_excel(one_path)\n",
    "        df = pd.concat([df, temp], ignore_index=True)\n",
    "    df['날짜'] = df['날짜'].astype(str)\n",
    "    sliced_df = df[(df['날짜'] >= start_date) & (df['날짜'] <= end_date)].reset_index(drop=True)\n",
    "    # 이번주 날짜 df\n",
    "    dates = pd.date_range(start_date, end_date)\n",
    "    basic_date_df = pd.DataFrame({'날짜':dates})\n",
    "    basic_date_df['날짜'] = basic_date_df['날짜'].astype('str')\n",
    "    # 음원의 유일한 곡, 가수 명 남기기\n",
    "    unique_sliced_df = sliced_df.drop_duplicates(['곡', '가수']).reset_index(drop=True)\n",
    "    print(f'{site_name}의 곡, 가수 유니크 shape : ', unique_sliced_df.shape)\n",
    "    # 음원별 순위변동 추가 df\n",
    "    song_df_list = []\n",
    "    for i in range(unique_sliced_df.shape[0]):\n",
    "        temp = unique_sliced_df.iloc[i:i+1, :].reset_index(drop=True)\n",
    "        one_df = sliced_df[ (sliced_df['곡'] == temp['곡'][0]) & (sliced_df['가수'] == temp['가수'][0]) ].reset_index(drop=True)\n",
    "        merged_df = pd.merge(basic_date_df, one_df, how='left', on='날짜')\n",
    "        merged_df['순위'] = merged_df['순위'].fillna(100)\n",
    "        merged_df['순위변동'] = merged_df['순위'].shift(1) - merged_df['순위']\n",
    "        site = one_df['사이트'].value_counts().index[0]\n",
    "        title = one_df['곡'].value_counts().index[0]\n",
    "        artist = one_df['가수'].value_counts().index[0]\n",
    "        album = one_df['앨범'].value_counts().index[0]\n",
    "        agency = one_df['소속사'].value_counts().index[0]\n",
    "        agency_type = one_df['소속사_분류'].value_counts().index[0]\n",
    "        merged_df['사이트'] = merged_df['사이트'].fillna(site)\n",
    "        merged_df['곡'] = merged_df['곡'].fillna(title)\n",
    "        merged_df['가수'] = merged_df['가수'].fillna(artist)\n",
    "        merged_df['앨범'] = merged_df['앨범'].fillna(album)\n",
    "        merged_df['소속사'] = merged_df['소속사'].fillna(agency)\n",
    "        merged_df['소속사_분류'] = merged_df['소속사_분류'].fillna(agency_type)\n",
    "        song_df_list.append(merged_df)\n",
    "    # 그래프 저장할 폴더\n",
    "    # code_path = 'c:/data/Wantreez/Crawling/music'\n",
    "    save_folder = f'crawled_data/outlier_data/{start_date}_{end_date}/{site_name}'\n",
    "    save_folder2 = os.path.join(code_path, save_folder)\n",
    "    os.makedirs(save_folder2, exist_ok=True)\n",
    "    # 그래프 출력\n",
    "    t = 0\n",
    "    for i in range( math.ceil(len(song_df_list)/number) ):\n",
    "        plt.figure( figsize=(15, 10) )\n",
    "        ax = plt.axes()\n",
    "        ax.invert_yaxis()\n",
    "        graph_df = song_df_list[i*number:(i+1)*number]\n",
    "        plt.grid(True)\n",
    "        for one in graph_df:\n",
    "            # 순위 nan 값 100으로 채우기\n",
    "            one['순위'] = one['순위'].fillna(100)\n",
    "            title = one['곡'].value_counts().index.values[0]\n",
    "            artist = one['가수'].value_counts().index.values[0]\n",
    "            song_label = title + ' - ' + artist\n",
    "            plt.plot(one['날짜'], one['순위'], '-o', label=song_label, linewidth=3, alpha=0.7)\n",
    "        t =  t + number\n",
    "        plt.title(f'{t-(number-1)}~{t}번째 노래', fontdict={'size':20})\n",
    "        plt.xticks(fontsize=15)\n",
    "        plt.yticks(fontsize=15)\n",
    "        plt.legend(framealpha=0.5, fontsize=20, frameon=True, edgecolor='k', shadow=True, loc='center right', bbox_to_anchor=(-0.05,0.5))\n",
    "        # save_folder2 = 'c:/data/Wantreez/Crawling/music/crawled_data/outlier_data/{start_date}_{end_date}/{site_name}'\n",
    "        file_name = f'[{site_name}]{start_date}_{end_date}_그래프{t:0>2}.png'\n",
    "        save_graph_path = os.path.join(save_folder2, file_name)\n",
    "        plt.savefig(save_graph_path, bbox_inches='tight')\n",
    "        plt.close()\n",
    "\n",
    "    # 이번주 모든 노래 데이터 병합\n",
    "    total_df = pd.DataFrame()\n",
    "    for one in song_df_list:\n",
    "        total_df = pd.concat([total_df, one], ignore_index=True)\n",
    "    # 음원의 유일한 곡, 가수만 남기기\n",
    "    unique_music_df = total_df.sort_values(['곡', '가수', '날짜', '순위']).reset_index(drop=True).drop_duplicates(['곡', '가수'], ignore_index=True)\n",
    "    # 해당 음원의 순위변동이 양수인 df 추출\n",
    "    mean_unique_music_df = pd.DataFrame()\n",
    "    for i in range(unique_music_df.shape[0]):\n",
    "        title = unique_music_df['곡'][i]\n",
    "        artist = unique_music_df['가수'][i]\n",
    "        temp = total_df[ (total_df['곡'] == title) & (total_df['가수'] == artist) & (total_df['순위변동'] > 0) ].reset_index(drop=True)\n",
    "        # 해당 음원의 순위변동평균\n",
    "        temp['순위변동평균(양수)'] = round( temp['순위변동'].mean(), 1 )\n",
    "        # 해당 음원 df의 첫째 줄만 추출\n",
    "        first_temp = temp.iloc[0:1, :]\n",
    "        mean_unique_music_df = pd.concat([mean_unique_music_df, first_temp], ignore_index=True)\n",
    "        \n",
    "    # 급등 음원 추출\n",
    "    outlier_df = mean_unique_music_df[mean_unique_music_df['순위변동평균(양수)'] > u_outlier].reset_index(drop=True)\n",
    "    num_slice_outlier = round(outlier_df.shape[0] * top_outlier_rate)\n",
    "    # 내림차순 정렬\n",
    "    sort_outlier_df = outlier_df.sort_values('순위변동평균(양수)', ascending=False).reset_index(drop=True)\n",
    "    # 상위 샘플만 추출\n",
    "    top_outlier_df = sort_outlier_df.iloc[:num_slice_outlier, :].reset_index(drop=True)\n",
    "\n",
    "    # 파일 저장할 폴더 생성\n",
    "    mod_start_date = start_date.replace('-','')\n",
    "    mod_end_date = end_date.replace('-','')\n",
    "    # save_folder2 = 'c:/data/Wantreez/Crawling/music/crawled_data/outlier_data/{start_date}_{end_date}/{site_name}'\n",
    "    # 이상치 음원 평균 df 출력\n",
    "    file_name2 = f'[{site_name}]{mod_start_date}_{mod_end_date}_mean_outliers.xlsx'\n",
    "    outlier_path = os.path.join(save_folder2, file_name2)\n",
    "    # outlier_df.to_excel(outlier_path , index=False)\n",
    "    top_outlier_df.to_excel(outlier_path , index=False)\n",
    "    # print(f'{site_name}의 이상치 df.shape :', outlier_df.shape)\n",
    "    print(f'{site_name}의 top이상치 df.shape :', top_outlier_df.shape)\n",
    "    print(f'{file_name2} 출력')\n",
    "    print()\n",
    "    # 이상치 음원 df 종합\n",
    "    # total_outlier_df = pd.concat([total_outlier_df, outlier_df], ignore_index=True)\n",
    "    total_outlier_df = pd.concat([total_outlier_df, top_outlier_df], ignore_index=True)"
   ]
  },
  {
   "cell_type": "markdown",
   "metadata": {},
   "source": [
    "## 이상치 음원 종합"
   ]
  },
  {
   "cell_type": "code",
   "execution_count": 173,
   "metadata": {},
   "outputs": [
    {
     "data": {
      "text/plain": [
       "(8, 10)"
      ]
     },
     "execution_count": 173,
     "metadata": {},
     "output_type": "execute_result"
    }
   ],
   "source": [
    "total_outlier_df.shape"
   ]
  },
  {
   "cell_type": "code",
   "execution_count": 174,
   "metadata": {},
   "outputs": [
    {
     "data": {
      "text/html": [
       "<div>\n",
       "<style scoped>\n",
       "    .dataframe tbody tr th:only-of-type {\n",
       "        vertical-align: middle;\n",
       "    }\n",
       "\n",
       "    .dataframe tbody tr th {\n",
       "        vertical-align: top;\n",
       "    }\n",
       "\n",
       "    .dataframe thead th {\n",
       "        text-align: right;\n",
       "    }\n",
       "</style>\n",
       "<table border=\"1\" class=\"dataframe\">\n",
       "  <thead>\n",
       "    <tr style=\"text-align: right;\">\n",
       "      <th></th>\n",
       "      <th>날짜</th>\n",
       "      <th>사이트</th>\n",
       "      <th>순위</th>\n",
       "      <th>곡</th>\n",
       "      <th>가수</th>\n",
       "      <th>앨범</th>\n",
       "      <th>소속사</th>\n",
       "      <th>소속사_분류</th>\n",
       "      <th>순위변동</th>\n",
       "      <th>순위변동평균(양수)</th>\n",
       "    </tr>\n",
       "  </thead>\n",
       "  <tbody>\n",
       "    <tr>\n",
       "      <th>0</th>\n",
       "      <td>2022-05-25</td>\n",
       "      <td>Bugs</td>\n",
       "      <td>1.0</td>\n",
       "      <td>물고기</td>\n",
       "      <td>백예린 (Yerin Baek)</td>\n",
       "      <td>물고기</td>\n",
       "      <td>BLUEVINYL</td>\n",
       "      <td>기타</td>\n",
       "      <td>99.0</td>\n",
       "      <td>99.0</td>\n",
       "    </tr>\n",
       "    <tr>\n",
       "      <th>1</th>\n",
       "      <td>2022-05-25</td>\n",
       "      <td>Bugs</td>\n",
       "      <td>2.0</td>\n",
       "      <td>그게 나였네</td>\n",
       "      <td>백예린 (Yerin Baek)</td>\n",
       "      <td>물고기</td>\n",
       "      <td>BLUEVINYL</td>\n",
       "      <td>기타</td>\n",
       "      <td>98.0</td>\n",
       "      <td>98.0</td>\n",
       "    </tr>\n",
       "    <tr>\n",
       "      <th>2</th>\n",
       "      <td>2022-05-25</td>\n",
       "      <td>Bugs</td>\n",
       "      <td>4.0</td>\n",
       "      <td>막내</td>\n",
       "      <td>백예린 (Yerin Baek)</td>\n",
       "      <td>물고기</td>\n",
       "      <td>BLUEVINYL</td>\n",
       "      <td>기타</td>\n",
       "      <td>96.0</td>\n",
       "      <td>96.0</td>\n",
       "    </tr>\n",
       "    <tr>\n",
       "      <th>3</th>\n",
       "      <td>2022-05-29</td>\n",
       "      <td>Bugs</td>\n",
       "      <td>8.0</td>\n",
       "      <td>Break Away</td>\n",
       "      <td>WSG워너비 조별경연 (할미봉)</td>\n",
       "      <td>WSG워너비 조별경연</td>\n",
       "      <td>MBC</td>\n",
       "      <td>기타</td>\n",
       "      <td>92.0</td>\n",
       "      <td>92.0</td>\n",
       "    </tr>\n",
       "    <tr>\n",
       "      <th>4</th>\n",
       "      <td>2022-05-26</td>\n",
       "      <td>Bugs</td>\n",
       "      <td>12.0</td>\n",
       "      <td>지금 난</td>\n",
       "      <td>오반</td>\n",
       "      <td>지금 난</td>\n",
       "      <td>로맨틱팩토리</td>\n",
       "      <td>기타</td>\n",
       "      <td>88.0</td>\n",
       "      <td>88.0</td>\n",
       "    </tr>\n",
       "  </tbody>\n",
       "</table>\n",
       "</div>"
      ],
      "text/plain": [
       "           날짜   사이트    순위           곡                 가수           앨범  \\\n",
       "0  2022-05-25  Bugs   1.0         물고기   백예린 (Yerin Baek)          물고기   \n",
       "1  2022-05-25  Bugs   2.0      그게 나였네   백예린 (Yerin Baek)          물고기   \n",
       "2  2022-05-25  Bugs   4.0          막내   백예린 (Yerin Baek)          물고기   \n",
       "3  2022-05-29  Bugs   8.0  Break Away  WSG워너비 조별경연 (할미봉)  WSG워너비 조별경연   \n",
       "4  2022-05-26  Bugs  12.0        지금 난                 오반         지금 난   \n",
       "\n",
       "         소속사 소속사_분류  순위변동  순위변동평균(양수)  \n",
       "0  BLUEVINYL     기타  99.0        99.0  \n",
       "1  BLUEVINYL     기타  98.0        98.0  \n",
       "2  BLUEVINYL     기타  96.0        96.0  \n",
       "3        MBC     기타  92.0        92.0  \n",
       "4     로맨틱팩토리     기타  88.0        88.0  "
      ]
     },
     "execution_count": 174,
     "metadata": {},
     "output_type": "execute_result"
    }
   ],
   "source": [
    "total_outlier_df.head()"
   ]
  },
  {
   "cell_type": "code",
   "execution_count": 175,
   "metadata": {},
   "outputs": [
    {
     "data": {
      "text/plain": [
       "Int64Index([], dtype='int64')"
      ]
     },
     "execution_count": 175,
     "metadata": {},
     "output_type": "execute_result"
    }
   ],
   "source": [
    "idx = total_outlier_df[total_outlier_df['소속사'] == '해외'].index\n",
    "idx"
   ]
  },
  {
   "cell_type": "code",
   "execution_count": 176,
   "metadata": {},
   "outputs": [],
   "source": [
    "mod_total_outlier_df = total_outlier_df.drop(idx).reset_index(drop=True)\n",
    "mod_total_outlier_df = mod_total_outlier_df[['날짜', '순위변동평균(양수)', '곡', '가수', '소속사', '순위', '앨범', '소속사_분류', '순위변동', '사이트']]"
   ]
  },
  {
   "cell_type": "code",
   "execution_count": 177,
   "metadata": {},
   "outputs": [
    {
     "data": {
      "text/plain": [
       "(8, 10)"
      ]
     },
     "execution_count": 177,
     "metadata": {},
     "output_type": "execute_result"
    }
   ],
   "source": [
    "mod_total_outlier_df.shape"
   ]
  },
  {
   "cell_type": "code",
   "execution_count": 178,
   "metadata": {},
   "outputs": [
    {
     "data": {
      "text/plain": [
       "Int64Index([], dtype='int64')"
      ]
     },
     "execution_count": 178,
     "metadata": {},
     "output_type": "execute_result"
    }
   ],
   "source": [
    "idx2 = mod_total_outlier_df[mod_total_outlier_df['소속사'] == '기타'].index\n",
    "idx2"
   ]
  },
  {
   "cell_type": "code",
   "execution_count": 179,
   "metadata": {},
   "outputs": [
    {
     "data": {
      "text/plain": [
       "(8, 10)"
      ]
     },
     "execution_count": 179,
     "metadata": {},
     "output_type": "execute_result"
    }
   ],
   "source": [
    "mod_total_outlier_df = mod_total_outlier_df.drop(idx2).reset_index(drop=True)\n",
    "mod_total_outlier_df.shape"
   ]
  },
  {
   "cell_type": "code",
   "execution_count": 180,
   "metadata": {},
   "outputs": [
    {
     "data": {
      "text/html": [
       "<div>\n",
       "<style scoped>\n",
       "    .dataframe tbody tr th:only-of-type {\n",
       "        vertical-align: middle;\n",
       "    }\n",
       "\n",
       "    .dataframe tbody tr th {\n",
       "        vertical-align: top;\n",
       "    }\n",
       "\n",
       "    .dataframe thead th {\n",
       "        text-align: right;\n",
       "    }\n",
       "</style>\n",
       "<table border=\"1\" class=\"dataframe\">\n",
       "  <thead>\n",
       "    <tr style=\"text-align: right;\">\n",
       "      <th></th>\n",
       "      <th>날짜</th>\n",
       "      <th>순위변동평균(양수)</th>\n",
       "      <th>곡</th>\n",
       "      <th>가수</th>\n",
       "      <th>소속사</th>\n",
       "      <th>순위</th>\n",
       "      <th>앨범</th>\n",
       "      <th>소속사_분류</th>\n",
       "      <th>순위변동</th>\n",
       "      <th>사이트</th>\n",
       "    </tr>\n",
       "  </thead>\n",
       "  <tbody>\n",
       "    <tr>\n",
       "      <th>0</th>\n",
       "      <td>2022-05-25</td>\n",
       "      <td>99.0</td>\n",
       "      <td>물고기</td>\n",
       "      <td>백예린 (Yerin Baek)</td>\n",
       "      <td>BLUEVINYL</td>\n",
       "      <td>1.0</td>\n",
       "      <td>물고기</td>\n",
       "      <td>기타</td>\n",
       "      <td>99.0</td>\n",
       "      <td>Bugs</td>\n",
       "    </tr>\n",
       "    <tr>\n",
       "      <th>1</th>\n",
       "      <td>2022-05-25</td>\n",
       "      <td>98.0</td>\n",
       "      <td>그게 나였네</td>\n",
       "      <td>백예린 (Yerin Baek)</td>\n",
       "      <td>BLUEVINYL</td>\n",
       "      <td>2.0</td>\n",
       "      <td>물고기</td>\n",
       "      <td>기타</td>\n",
       "      <td>98.0</td>\n",
       "      <td>Bugs</td>\n",
       "    </tr>\n",
       "    <tr>\n",
       "      <th>2</th>\n",
       "      <td>2022-05-25</td>\n",
       "      <td>96.0</td>\n",
       "      <td>막내</td>\n",
       "      <td>백예린 (Yerin Baek)</td>\n",
       "      <td>BLUEVINYL</td>\n",
       "      <td>4.0</td>\n",
       "      <td>물고기</td>\n",
       "      <td>기타</td>\n",
       "      <td>96.0</td>\n",
       "      <td>Bugs</td>\n",
       "    </tr>\n",
       "    <tr>\n",
       "      <th>3</th>\n",
       "      <td>2022-05-29</td>\n",
       "      <td>92.0</td>\n",
       "      <td>Break Away</td>\n",
       "      <td>WSG워너비 조별경연 (할미봉)</td>\n",
       "      <td>MBC</td>\n",
       "      <td>8.0</td>\n",
       "      <td>WSG워너비 조별경연</td>\n",
       "      <td>기타</td>\n",
       "      <td>92.0</td>\n",
       "      <td>Bugs</td>\n",
       "    </tr>\n",
       "    <tr>\n",
       "      <th>4</th>\n",
       "      <td>2022-05-26</td>\n",
       "      <td>88.0</td>\n",
       "      <td>지금 난</td>\n",
       "      <td>오반</td>\n",
       "      <td>로맨틱팩토리</td>\n",
       "      <td>12.0</td>\n",
       "      <td>지금 난</td>\n",
       "      <td>기타</td>\n",
       "      <td>88.0</td>\n",
       "      <td>Bugs</td>\n",
       "    </tr>\n",
       "    <tr>\n",
       "      <th>5</th>\n",
       "      <td>2022-05-24</td>\n",
       "      <td>83.0</td>\n",
       "      <td>새벽에 핀 별 하나</td>\n",
       "      <td>청하</td>\n",
       "      <td>MH</td>\n",
       "      <td>17.0</td>\n",
       "      <td>붉은 단심 OST Part 4</td>\n",
       "      <td>기타</td>\n",
       "      <td>83.0</td>\n",
       "      <td>Bugs</td>\n",
       "    </tr>\n",
       "    <tr>\n",
       "      <th>6</th>\n",
       "      <td>2022-05-24</td>\n",
       "      <td>81.5</td>\n",
       "      <td>사랑의 결말은 모 아니면 도 (Yes Or No)</td>\n",
       "      <td>원어스 (ONEUS)</td>\n",
       "      <td>RBW</td>\n",
       "      <td>11.0</td>\n",
       "      <td>BLOOD MOON</td>\n",
       "      <td>RBW</td>\n",
       "      <td>89.0</td>\n",
       "      <td>Bugs</td>\n",
       "    </tr>\n",
       "    <tr>\n",
       "      <th>7</th>\n",
       "      <td>2022-05-26</td>\n",
       "      <td>70.0</td>\n",
       "      <td>지금 난</td>\n",
       "      <td>오반</td>\n",
       "      <td>로맨틱팩토리</td>\n",
       "      <td>30.0</td>\n",
       "      <td>지금 난</td>\n",
       "      <td>기타</td>\n",
       "      <td>70.0</td>\n",
       "      <td>Genie</td>\n",
       "    </tr>\n",
       "  </tbody>\n",
       "</table>\n",
       "</div>"
      ],
      "text/plain": [
       "           날짜  순위변동평균(양수)                            곡                 가수  \\\n",
       "0  2022-05-25        99.0                          물고기   백예린 (Yerin Baek)   \n",
       "1  2022-05-25        98.0                       그게 나였네   백예린 (Yerin Baek)   \n",
       "2  2022-05-25        96.0                           막내   백예린 (Yerin Baek)   \n",
       "3  2022-05-29        92.0                   Break Away  WSG워너비 조별경연 (할미봉)   \n",
       "4  2022-05-26        88.0                         지금 난                 오반   \n",
       "5  2022-05-24        83.0                   새벽에 핀 별 하나                 청하   \n",
       "6  2022-05-24        81.5  사랑의 결말은 모 아니면 도 (Yes Or No)        원어스 (ONEUS)   \n",
       "7  2022-05-26        70.0                         지금 난                 오반   \n",
       "\n",
       "         소속사    순위                앨범 소속사_분류  순위변동    사이트  \n",
       "0  BLUEVINYL   1.0               물고기     기타  99.0   Bugs  \n",
       "1  BLUEVINYL   2.0               물고기     기타  98.0   Bugs  \n",
       "2  BLUEVINYL   4.0               물고기     기타  96.0   Bugs  \n",
       "3        MBC   8.0       WSG워너비 조별경연     기타  92.0   Bugs  \n",
       "4     로맨틱팩토리  12.0              지금 난     기타  88.0   Bugs  \n",
       "5         MH  17.0  붉은 단심 OST Part 4     기타  83.0   Bugs  \n",
       "6        RBW  11.0        BLOOD MOON    RBW  89.0   Bugs  \n",
       "7     로맨틱팩토리  30.0              지금 난     기타  70.0  Genie  "
      ]
     },
     "execution_count": 180,
     "metadata": {},
     "output_type": "execute_result"
    }
   ],
   "source": [
    "mod_total_outlier_df"
   ]
  },
  {
   "cell_type": "markdown",
   "metadata": {},
   "source": [
    "## 2-1 주간 음원 변동 특이사항\n",
    "* 이상치 음원 df 출력"
   ]
  },
  {
   "cell_type": "code",
   "execution_count": 181,
   "metadata": {},
   "outputs": [
    {
     "data": {
      "text/plain": [
       "'c:/data/Wantreez/Crawling/music\\\\crawled_data/outlier_data/2022-05-23_2022-05-29\\\\2022-05-23_2022-05-29_total_outlier.xlsx'"
      ]
     },
     "execution_count": 181,
     "metadata": {},
     "output_type": "execute_result"
    }
   ],
   "source": [
    "# code_path = 'c:/data/Wantreez/Crawling/music'\n",
    "save_folder3 = f'crawled_data/outlier_data/{start_date}_{end_date}'\n",
    "# save_folder4 = 'c:/data/Wantreez/Crawling/music/crawled_data/outlier_data/{start_date}_{end_date}'\n",
    "save_folder4 = os.path.join(code_path, save_folder3)\n",
    "file_name3 = f'{start_date}_{end_date}_total_outlier.xlsx'\n",
    "total_outlier_path = os.path.join(save_folder4, file_name3)\n",
    "total_outlier_path"
   ]
  },
  {
   "cell_type": "code",
   "execution_count": 182,
   "metadata": {},
   "outputs": [
    {
     "name": "stdout",
     "output_type": "stream",
     "text": [
      "2022-05-23_2022-05-29_total_outlier.xlsx 출력\n"
     ]
    }
   ],
   "source": [
    "mod_total_outlier_df.to_excel(total_outlier_path, index=False)\n",
    "print(f'{file_name3} 출력')"
   ]
  },
  {
   "cell_type": "markdown",
   "metadata": {},
   "source": [
    "## 3-1-1. 순위 급상승 음원\n",
    "* 이상치 음원 순위변동 평균 그래프"
   ]
  },
  {
   "cell_type": "code",
   "execution_count": 183,
   "metadata": {},
   "outputs": [
    {
     "name": "stdout",
     "output_type": "stream",
     "text": [
      "2022-05-23_2022-05-29_total_outlier.png 출력 완료.\n"
     ]
    },
    {
     "data": {
      "image/png": "[encoded data removed]",
      "text/plain": [
       "<Figure size 864x432 with 1 Axes>"
      ]
     },
     "metadata": {
      "needs_background": "light"
     },
     "output_type": "display_data"
    }
   ],
   "source": [
    "plt.figure(figsize=(12, 6))\n",
    "colors = sns.color_palette('YlOrBr', mod_total_outlier_df.shape[0])\n",
    "x = [i for i,s in enumerate(mod_total_outlier_df['곡'].tolist())]\n",
    "y = mod_total_outlier_df['순위변동평균(양수)'].tolist()\n",
    "plt.bar(x, y, color=colors, width=0.5)\n",
    "plt.title(f'이상치 음원 순위변동 평균', fontdict={'size':20})\n",
    "for i in range(mod_total_outlier_df.shape[0]):\n",
    "    plt.text(i, mod_total_outlier_df['순위변동평균(양수)'][i] - mod_total_outlier_df['순위변동평균(양수)'].max()*0.1, round(mod_total_outlier_df['순위변동평균(양수)'][i], 1), verticalalignment='top', horizontalalignment='center', fontsize=15)\n",
    "plt.xticks(x, mod_total_outlier_df['곡'].tolist(), fontsize=15, rotation=90)\n",
    "plt.yticks(fontsize=15);\n",
    "# save_folder4 = 'c:/data/Wantreez/Crawling/music/crawled_data/outlier_data/{start_date}_{end_date}'\n",
    "file_name4 = f'{start_date}_{end_date}_total_outlier.png'\n",
    "save_img_total_outlier_path = os.path.join(save_folder4, file_name4)\n",
    "plt.savefig(save_img_total_outlier_path, bbox_inches='tight')\n",
    "print(f'{file_name4} 출력 완료.')"
   ]
  },
  {
   "cell_type": "markdown",
   "metadata": {},
   "source": [
    "## 4-2-1. 소속사별 진입 음원\n",
    "* 이상치 음원들의 평균 순위"
   ]
  },
  {
   "cell_type": "code",
   "execution_count": 184,
   "metadata": {},
   "outputs": [],
   "source": [
    "# 음원 사이트\n",
    "site_list = ['bugs', 'flo', 'genie', 'melon', 'vibe']\n",
    "outlier_agency_df = pd.DataFrame()\n",
    "for site_name in site_list:\n",
    "    # 실시간 순위 파일 폴더로 이동\n",
    "    # code_path = 'c:/data/Wantreez/Crawling/music'\n",
    "    live_folder2 = f'crawled_data/mod_{site_name}'\n",
    "    live_path2 = os.path.join(code_path, live_folder2)\n",
    "    file_list = os.listdir(live_path2)\n",
    "\n",
    "    df = pd.DataFrame()\n",
    "    for one in file_list:\n",
    "        # live_path2 = 'c:/data/Wantreez/Crawling/music/crawled_data/mod_{site_name}'\n",
    "        one_path2 = os.path.join(live_path2, one)\n",
    "        temp = pd.read_excel(one_path2)\n",
    "        df = pd.concat([df, temp], ignore_index=True)\n",
    "    df['날짜'] = df['날짜'].astype(str)\n",
    "    sliced_df = df[(df['날짜'] >= start_date) & (df['날짜'] <= end_date)].reset_index(drop=True)\n",
    " \n",
    "    # 이상치 음원의 기획사 소속 가수 평균\n",
    "    for agency in mod_total_outlier_df['소속사'].unique():\n",
    "        temp = sliced_df[sliced_df['소속사'] == agency].reset_index(drop=True)\n",
    "        outlier_agency_df = pd.concat([outlier_agency_df, temp], ignore_index=True)"
   ]
  },
  {
   "cell_type": "code",
   "execution_count": 185,
   "metadata": {},
   "outputs": [
    {
     "name": "stdout",
     "output_type": "stream",
     "text": [
      "<class 'pandas.core.frame.DataFrame'>\n",
      "RangeIndex: 188 entries, 0 to 187\n",
      "Data columns (total 8 columns):\n",
      " #   Column  Non-Null Count  Dtype \n",
      "---  ------  --------------  ----- \n",
      " 0   사이트     188 non-null    object\n",
      " 1   날짜      188 non-null    object\n",
      " 2   순위      188 non-null    int64 \n",
      " 3   곡       188 non-null    object\n",
      " 4   가수      188 non-null    object\n",
      " 5   앨범      188 non-null    object\n",
      " 6   소속사     188 non-null    object\n",
      " 7   소속사_분류  188 non-null    object\n",
      "dtypes: int64(1), object(7)\n",
      "memory usage: 11.9+ KB\n"
     ]
    }
   ],
   "source": [
    "outlier_agency_df.info()"
   ]
  },
  {
   "cell_type": "code",
   "execution_count": 186,
   "metadata": {},
   "outputs": [],
   "source": [
    "mean_outlier_agency_df = outlier_agency_df.groupby(['소속사', '사이트', '곡', '가수']).agg({'순위':'mean'}).reset_index()"
   ]
  },
  {
   "cell_type": "code",
   "execution_count": 187,
   "metadata": {},
   "outputs": [],
   "source": [
    "mean_outlier_agency_df = mean_outlier_agency_df.rename(columns={'순위':'순위평균'})\n",
    "mean_outlier_agency_df = mean_outlier_agency_df[['소속사', '곡', '가수', '순위평균', '사이트']]\n",
    "mean_outlier_agency_df['순위평균'] = round(mean_outlier_agency_df['순위평균'], 1)"
   ]
  },
  {
   "cell_type": "code",
   "execution_count": 188,
   "metadata": {},
   "outputs": [
    {
     "name": "stdout",
     "output_type": "stream",
     "text": [
      "<class 'pandas.core.frame.DataFrame'>\n",
      "RangeIndex: 43 entries, 0 to 42\n",
      "Data columns (total 5 columns):\n",
      " #   Column  Non-Null Count  Dtype  \n",
      "---  ------  --------------  -----  \n",
      " 0   소속사     43 non-null     object \n",
      " 1   곡       43 non-null     object \n",
      " 2   가수      43 non-null     object \n",
      " 3   순위평균    43 non-null     float64\n",
      " 4   사이트     43 non-null     object \n",
      "dtypes: float64(1), object(4)\n",
      "memory usage: 1.8+ KB\n"
     ]
    }
   ],
   "source": [
    "mean_outlier_agency_df.info()"
   ]
  },
  {
   "cell_type": "code",
   "execution_count": 189,
   "metadata": {},
   "outputs": [
    {
     "data": {
      "text/html": [
       "<div>\n",
       "<style scoped>\n",
       "    .dataframe tbody tr th:only-of-type {\n",
       "        vertical-align: middle;\n",
       "    }\n",
       "\n",
       "    .dataframe tbody tr th {\n",
       "        vertical-align: top;\n",
       "    }\n",
       "\n",
       "    .dataframe thead th {\n",
       "        text-align: right;\n",
       "    }\n",
       "</style>\n",
       "<table border=\"1\" class=\"dataframe\">\n",
       "  <thead>\n",
       "    <tr style=\"text-align: right;\">\n",
       "      <th></th>\n",
       "      <th>소속사</th>\n",
       "      <th>곡</th>\n",
       "      <th>가수</th>\n",
       "      <th>순위평균</th>\n",
       "      <th>사이트</th>\n",
       "    </tr>\n",
       "  </thead>\n",
       "  <tbody>\n",
       "    <tr>\n",
       "      <th>0</th>\n",
       "      <td>BLUEVINYL</td>\n",
       "      <td>Antifreeze</td>\n",
       "      <td>백예린 (Yerin Baek)</td>\n",
       "      <td>65.0</td>\n",
       "      <td>Bugs</td>\n",
       "    </tr>\n",
       "    <tr>\n",
       "      <th>1</th>\n",
       "      <td>BLUEVINYL</td>\n",
       "      <td>Square (2017)</td>\n",
       "      <td>백예린 (Yerin Baek)</td>\n",
       "      <td>82.0</td>\n",
       "      <td>Bugs</td>\n",
       "    </tr>\n",
       "    <tr>\n",
       "      <th>2</th>\n",
       "      <td>BLUEVINYL</td>\n",
       "      <td>그게 나였네</td>\n",
       "      <td>백예린 (Yerin Baek)</td>\n",
       "      <td>18.8</td>\n",
       "      <td>Bugs</td>\n",
       "    </tr>\n",
       "    <tr>\n",
       "      <th>3</th>\n",
       "      <td>BLUEVINYL</td>\n",
       "      <td>막내</td>\n",
       "      <td>백예린 (Yerin Baek)</td>\n",
       "      <td>14.7</td>\n",
       "      <td>Bugs</td>\n",
       "    </tr>\n",
       "    <tr>\n",
       "      <th>4</th>\n",
       "      <td>BLUEVINYL</td>\n",
       "      <td>물고기</td>\n",
       "      <td>백예린 (Yerin Baek)</td>\n",
       "      <td>6.6</td>\n",
       "      <td>Bugs</td>\n",
       "    </tr>\n",
       "  </tbody>\n",
       "</table>\n",
       "</div>"
      ],
      "text/plain": [
       "         소속사              곡                가수  순위평균   사이트\n",
       "0  BLUEVINYL     Antifreeze  백예린 (Yerin Baek)  65.0  Bugs\n",
       "1  BLUEVINYL  Square (2017)  백예린 (Yerin Baek)  82.0  Bugs\n",
       "2  BLUEVINYL         그게 나였네  백예린 (Yerin Baek)  18.8  Bugs\n",
       "3  BLUEVINYL             막내  백예린 (Yerin Baek)  14.7  Bugs\n",
       "4  BLUEVINYL            물고기  백예린 (Yerin Baek)   6.6  Bugs"
      ]
     },
     "execution_count": 189,
     "metadata": {},
     "output_type": "execute_result"
    }
   ],
   "source": [
    "mean_outlier_agency_df.head()"
   ]
  },
  {
   "cell_type": "code",
   "execution_count": 190,
   "metadata": {},
   "outputs": [
    {
     "name": "stdout",
     "output_type": "stream",
     "text": [
      "2022-05-23_2022-05-29_mean_outlier_agency.xlsx 출력\n"
     ]
    }
   ],
   "source": [
    "# 이상치 음원 소속사 음원 순위 평균 df 출력\n",
    "# save_folder4 = 'c:/data/Wantreez/Crawling/music/crawled_data/outlier_data/{start_date}_{end_date}'\n",
    "file_name5 = f'{start_date}_{end_date}_mean_outlier_agency.xlsx'\n",
    "save_mean_outlier_agency_path = os.path.join(save_folder4, file_name5)\n",
    "mean_outlier_agency_df.to_excel(save_mean_outlier_agency_path, index=False)\n",
    "print(f'{file_name5} 출력')"
   ]
  },
  {
   "cell_type": "markdown",
   "metadata": {},
   "source": [
    "## 4-1-1. 기획사별 음원차트 진입 요약\n",
    "* 이상치 음원 기획사별 분석"
   ]
  },
  {
   "cell_type": "code",
   "execution_count": 191,
   "metadata": {},
   "outputs": [],
   "source": [
    "agency_music_df = mean_outlier_agency_df.drop_duplicates(['소속사', '곡', '가수']).reset_index(drop=True)"
   ]
  },
  {
   "cell_type": "code",
   "execution_count": 192,
   "metadata": {},
   "outputs": [
    {
     "data": {
      "text/html": [
       "<div>\n",
       "<style scoped>\n",
       "    .dataframe tbody tr th:only-of-type {\n",
       "        vertical-align: middle;\n",
       "    }\n",
       "\n",
       "    .dataframe tbody tr th {\n",
       "        vertical-align: top;\n",
       "    }\n",
       "\n",
       "    .dataframe thead th {\n",
       "        text-align: right;\n",
       "    }\n",
       "</style>\n",
       "<table border=\"1\" class=\"dataframe\">\n",
       "  <thead>\n",
       "    <tr style=\"text-align: right;\">\n",
       "      <th></th>\n",
       "      <th>소속사</th>\n",
       "      <th>곡</th>\n",
       "      <th>가수</th>\n",
       "      <th>순위평균</th>\n",
       "      <th>사이트</th>\n",
       "    </tr>\n",
       "  </thead>\n",
       "  <tbody>\n",
       "    <tr>\n",
       "      <th>0</th>\n",
       "      <td>BLUEVINYL</td>\n",
       "      <td>Antifreeze</td>\n",
       "      <td>백예린 (Yerin Baek)</td>\n",
       "      <td>65.0</td>\n",
       "      <td>Bugs</td>\n",
       "    </tr>\n",
       "    <tr>\n",
       "      <th>1</th>\n",
       "      <td>BLUEVINYL</td>\n",
       "      <td>Square (2017)</td>\n",
       "      <td>백예린 (Yerin Baek)</td>\n",
       "      <td>82.0</td>\n",
       "      <td>Bugs</td>\n",
       "    </tr>\n",
       "    <tr>\n",
       "      <th>2</th>\n",
       "      <td>BLUEVINYL</td>\n",
       "      <td>그게 나였네</td>\n",
       "      <td>백예린 (Yerin Baek)</td>\n",
       "      <td>18.8</td>\n",
       "      <td>Bugs</td>\n",
       "    </tr>\n",
       "    <tr>\n",
       "      <th>3</th>\n",
       "      <td>BLUEVINYL</td>\n",
       "      <td>막내</td>\n",
       "      <td>백예린 (Yerin Baek)</td>\n",
       "      <td>14.7</td>\n",
       "      <td>Bugs</td>\n",
       "    </tr>\n",
       "    <tr>\n",
       "      <th>4</th>\n",
       "      <td>BLUEVINYL</td>\n",
       "      <td>물고기</td>\n",
       "      <td>백예린 (Yerin Baek)</td>\n",
       "      <td>6.6</td>\n",
       "      <td>Bugs</td>\n",
       "    </tr>\n",
       "  </tbody>\n",
       "</table>\n",
       "</div>"
      ],
      "text/plain": [
       "         소속사              곡                가수  순위평균   사이트\n",
       "0  BLUEVINYL     Antifreeze  백예린 (Yerin Baek)  65.0  Bugs\n",
       "1  BLUEVINYL  Square (2017)  백예린 (Yerin Baek)  82.0  Bugs\n",
       "2  BLUEVINYL         그게 나였네  백예린 (Yerin Baek)  18.8  Bugs\n",
       "3  BLUEVINYL             막내  백예린 (Yerin Baek)  14.7  Bugs\n",
       "4  BLUEVINYL            물고기  백예린 (Yerin Baek)   6.6  Bugs"
      ]
     },
     "execution_count": 192,
     "metadata": {},
     "output_type": "execute_result"
    }
   ],
   "source": [
    "agency_music_df.head()"
   ]
  },
  {
   "cell_type": "code",
   "execution_count": 193,
   "metadata": {},
   "outputs": [
    {
     "data": {
      "text/html": [
       "<div>\n",
       "<style scoped>\n",
       "    .dataframe tbody tr th:only-of-type {\n",
       "        vertical-align: middle;\n",
       "    }\n",
       "\n",
       "    .dataframe tbody tr th {\n",
       "        vertical-align: top;\n",
       "    }\n",
       "\n",
       "    .dataframe thead th {\n",
       "        text-align: right;\n",
       "    }\n",
       "</style>\n",
       "<table border=\"1\" class=\"dataframe\">\n",
       "  <thead>\n",
       "    <tr style=\"text-align: right;\">\n",
       "      <th></th>\n",
       "      <th>소속사</th>\n",
       "      <th>0</th>\n",
       "    </tr>\n",
       "  </thead>\n",
       "  <tbody>\n",
       "    <tr>\n",
       "      <th>0</th>\n",
       "      <td>BLUEVINYL</td>\n",
       "      <td>8</td>\n",
       "    </tr>\n",
       "    <tr>\n",
       "      <th>1</th>\n",
       "      <td>MBC</td>\n",
       "      <td>9</td>\n",
       "    </tr>\n",
       "    <tr>\n",
       "      <th>2</th>\n",
       "      <td>MH</td>\n",
       "      <td>2</td>\n",
       "    </tr>\n",
       "    <tr>\n",
       "      <th>3</th>\n",
       "      <td>RBW</td>\n",
       "      <td>9</td>\n",
       "    </tr>\n",
       "    <tr>\n",
       "      <th>4</th>\n",
       "      <td>로맨틱팩토리</td>\n",
       "      <td>2</td>\n",
       "    </tr>\n",
       "  </tbody>\n",
       "</table>\n",
       "</div>"
      ],
      "text/plain": [
       "         소속사  0\n",
       "0  BLUEVINYL  8\n",
       "1        MBC  9\n",
       "2         MH  2\n",
       "3        RBW  9\n",
       "4     로맨틱팩토리  2"
      ]
     },
     "execution_count": 193,
     "metadata": {},
     "output_type": "execute_result"
    }
   ],
   "source": [
    "agency_music_df.groupby(['소속사']).agg('size').reset_index()"
   ]
  },
  {
   "cell_type": "code",
   "execution_count": 194,
   "metadata": {},
   "outputs": [
    {
     "data": {
      "text/html": [
       "<div>\n",
       "<style scoped>\n",
       "    .dataframe tbody tr th:only-of-type {\n",
       "        vertical-align: middle;\n",
       "    }\n",
       "\n",
       "    .dataframe tbody tr th {\n",
       "        vertical-align: top;\n",
       "    }\n",
       "\n",
       "    .dataframe thead th {\n",
       "        text-align: right;\n",
       "    }\n",
       "</style>\n",
       "<table border=\"1\" class=\"dataframe\">\n",
       "  <thead>\n",
       "    <tr style=\"text-align: right;\">\n",
       "      <th></th>\n",
       "      <th>소속사</th>\n",
       "      <th>0</th>\n",
       "    </tr>\n",
       "  </thead>\n",
       "  <tbody>\n",
       "    <tr>\n",
       "      <th>0</th>\n",
       "      <td>BLUEVINYL</td>\n",
       "      <td>11</td>\n",
       "    </tr>\n",
       "    <tr>\n",
       "      <th>1</th>\n",
       "      <td>MBC</td>\n",
       "      <td>17</td>\n",
       "    </tr>\n",
       "    <tr>\n",
       "      <th>2</th>\n",
       "      <td>MH</td>\n",
       "      <td>2</td>\n",
       "    </tr>\n",
       "    <tr>\n",
       "      <th>3</th>\n",
       "      <td>RBW</td>\n",
       "      <td>9</td>\n",
       "    </tr>\n",
       "    <tr>\n",
       "      <th>4</th>\n",
       "      <td>로맨틱팩토리</td>\n",
       "      <td>4</td>\n",
       "    </tr>\n",
       "  </tbody>\n",
       "</table>\n",
       "</div>"
      ],
      "text/plain": [
       "         소속사   0\n",
       "0  BLUEVINYL  11\n",
       "1        MBC  17\n",
       "2         MH   2\n",
       "3        RBW   9\n",
       "4     로맨틱팩토리   4"
      ]
     },
     "execution_count": 194,
     "metadata": {},
     "output_type": "execute_result"
    }
   ],
   "source": [
    "mean_outlier_agency_df.groupby(['소속사']).agg('size').reset_index()"
   ]
  },
  {
   "cell_type": "code",
   "execution_count": 195,
   "metadata": {},
   "outputs": [
    {
     "data": {
      "text/html": [
       "<div>\n",
       "<style scoped>\n",
       "    .dataframe tbody tr th:only-of-type {\n",
       "        vertical-align: middle;\n",
       "    }\n",
       "\n",
       "    .dataframe tbody tr th {\n",
       "        vertical-align: top;\n",
       "    }\n",
       "\n",
       "    .dataframe thead th {\n",
       "        text-align: right;\n",
       "    }\n",
       "</style>\n",
       "<table border=\"1\" class=\"dataframe\">\n",
       "  <thead>\n",
       "    <tr style=\"text-align: right;\">\n",
       "      <th></th>\n",
       "      <th>소속사</th>\n",
       "      <th>음원수량</th>\n",
       "    </tr>\n",
       "  </thead>\n",
       "  <tbody>\n",
       "    <tr>\n",
       "      <th>1</th>\n",
       "      <td>MBC</td>\n",
       "      <td>17</td>\n",
       "    </tr>\n",
       "    <tr>\n",
       "      <th>0</th>\n",
       "      <td>BLUEVINYL</td>\n",
       "      <td>11</td>\n",
       "    </tr>\n",
       "    <tr>\n",
       "      <th>3</th>\n",
       "      <td>RBW</td>\n",
       "      <td>9</td>\n",
       "    </tr>\n",
       "    <tr>\n",
       "      <th>4</th>\n",
       "      <td>로맨틱팩토리</td>\n",
       "      <td>4</td>\n",
       "    </tr>\n",
       "    <tr>\n",
       "      <th>2</th>\n",
       "      <td>MH</td>\n",
       "      <td>2</td>\n",
       "    </tr>\n",
       "  </tbody>\n",
       "</table>\n",
       "</div>"
      ],
      "text/plain": [
       "         소속사  음원수량\n",
       "1        MBC    17\n",
       "0  BLUEVINYL    11\n",
       "3        RBW     9\n",
       "4     로맨틱팩토리     4\n",
       "2         MH     2"
      ]
     },
     "execution_count": 195,
     "metadata": {},
     "output_type": "execute_result"
    }
   ],
   "source": [
    "num_music = mean_outlier_agency_df.groupby(['소속사']).agg('size').reset_index().sort_values(0, ascending=False)\n",
    "num_music.columns = ['소속사', '음원수량']\n",
    "num_music"
   ]
  },
  {
   "cell_type": "code",
   "execution_count": 196,
   "metadata": {},
   "outputs": [
    {
     "data": {
      "text/html": [
       "<div>\n",
       "<style scoped>\n",
       "    .dataframe tbody tr th:only-of-type {\n",
       "        vertical-align: middle;\n",
       "    }\n",
       "\n",
       "    .dataframe tbody tr th {\n",
       "        vertical-align: top;\n",
       "    }\n",
       "\n",
       "    .dataframe thead th {\n",
       "        text-align: right;\n",
       "    }\n",
       "</style>\n",
       "<table border=\"1\" class=\"dataframe\">\n",
       "  <thead>\n",
       "    <tr style=\"text-align: right;\">\n",
       "      <th></th>\n",
       "      <th>소속사</th>\n",
       "      <th>곡</th>\n",
       "      <th>가수</th>\n",
       "      <th>순위평균</th>\n",
       "      <th>사이트</th>\n",
       "      <th>음원수량</th>\n",
       "    </tr>\n",
       "  </thead>\n",
       "  <tbody>\n",
       "    <tr>\n",
       "      <th>0</th>\n",
       "      <td>BLUEVINYL</td>\n",
       "      <td>Antifreeze</td>\n",
       "      <td>백예린 (Yerin Baek)</td>\n",
       "      <td>65.0</td>\n",
       "      <td>Bugs</td>\n",
       "      <td>11</td>\n",
       "    </tr>\n",
       "    <tr>\n",
       "      <th>1</th>\n",
       "      <td>BLUEVINYL</td>\n",
       "      <td>Square (2017)</td>\n",
       "      <td>백예린 (Yerin Baek)</td>\n",
       "      <td>82.0</td>\n",
       "      <td>Bugs</td>\n",
       "      <td>11</td>\n",
       "    </tr>\n",
       "    <tr>\n",
       "      <th>2</th>\n",
       "      <td>BLUEVINYL</td>\n",
       "      <td>그게 나였네</td>\n",
       "      <td>백예린 (Yerin Baek)</td>\n",
       "      <td>18.8</td>\n",
       "      <td>Bugs</td>\n",
       "      <td>11</td>\n",
       "    </tr>\n",
       "    <tr>\n",
       "      <th>3</th>\n",
       "      <td>BLUEVINYL</td>\n",
       "      <td>막내</td>\n",
       "      <td>백예린 (Yerin Baek)</td>\n",
       "      <td>14.7</td>\n",
       "      <td>Bugs</td>\n",
       "      <td>11</td>\n",
       "    </tr>\n",
       "    <tr>\n",
       "      <th>4</th>\n",
       "      <td>BLUEVINYL</td>\n",
       "      <td>물고기</td>\n",
       "      <td>백예린 (Yerin Baek)</td>\n",
       "      <td>6.6</td>\n",
       "      <td>Bugs</td>\n",
       "      <td>11</td>\n",
       "    </tr>\n",
       "  </tbody>\n",
       "</table>\n",
       "</div>"
      ],
      "text/plain": [
       "         소속사              곡                가수  순위평균   사이트  음원수량\n",
       "0  BLUEVINYL     Antifreeze  백예린 (Yerin Baek)  65.0  Bugs    11\n",
       "1  BLUEVINYL  Square (2017)  백예린 (Yerin Baek)  82.0  Bugs    11\n",
       "2  BLUEVINYL         그게 나였네  백예린 (Yerin Baek)  18.8  Bugs    11\n",
       "3  BLUEVINYL             막내  백예린 (Yerin Baek)  14.7  Bugs    11\n",
       "4  BLUEVINYL            물고기  백예린 (Yerin Baek)   6.6  Bugs    11"
      ]
     },
     "execution_count": 196,
     "metadata": {},
     "output_type": "execute_result"
    }
   ],
   "source": [
    "num_music_df = pd.merge(mean_outlier_agency_df, num_music, how='left', on='소속사')\n",
    "num_music_df.head()"
   ]
  },
  {
   "cell_type": "code",
   "execution_count": 197,
   "metadata": {},
   "outputs": [
    {
     "data": {
      "text/html": [
       "<div>\n",
       "<style scoped>\n",
       "    .dataframe tbody tr th:only-of-type {\n",
       "        vertical-align: middle;\n",
       "    }\n",
       "\n",
       "    .dataframe tbody tr th {\n",
       "        vertical-align: top;\n",
       "    }\n",
       "\n",
       "    .dataframe thead th {\n",
       "        text-align: right;\n",
       "    }\n",
       "</style>\n",
       "<table border=\"1\" class=\"dataframe\">\n",
       "  <thead>\n",
       "    <tr style=\"text-align: right;\">\n",
       "      <th></th>\n",
       "      <th>소속사</th>\n",
       "      <th>곡</th>\n",
       "      <th>가수</th>\n",
       "      <th>순위평균</th>\n",
       "      <th>사이트</th>\n",
       "      <th>음원수량</th>\n",
       "    </tr>\n",
       "  </thead>\n",
       "  <tbody>\n",
       "    <tr>\n",
       "      <th>22</th>\n",
       "      <td>MBC</td>\n",
       "      <td>YOU AND I</td>\n",
       "      <td>WSG워너비 조별경연 (대청봉)</td>\n",
       "      <td>98.5</td>\n",
       "      <td>Melon</td>\n",
       "      <td>17</td>\n",
       "    </tr>\n",
       "  </tbody>\n",
       "</table>\n",
       "</div>"
      ],
      "text/plain": [
       "    소속사          곡                 가수  순위평균    사이트  음원수량\n",
       "22  MBC  YOU AND I  WSG워너비 조별경연 (대청봉)  98.5  Melon    17"
      ]
     },
     "execution_count": 197,
     "metadata": {},
     "output_type": "execute_result"
    }
   ],
   "source": [
    "max_num_music = num_music_df.sort_values(['음원수량', '순위평균'], ascending=False).iloc[0:1, :]\n",
    "max_num_music"
   ]
  },
  {
   "cell_type": "code",
   "execution_count": 198,
   "metadata": {},
   "outputs": [
    {
     "data": {
      "text/html": [
       "<div>\n",
       "<style scoped>\n",
       "    .dataframe tbody tr th:only-of-type {\n",
       "        vertical-align: middle;\n",
       "    }\n",
       "\n",
       "    .dataframe tbody tr th {\n",
       "        vertical-align: top;\n",
       "    }\n",
       "\n",
       "    .dataframe thead th {\n",
       "        text-align: right;\n",
       "    }\n",
       "</style>\n",
       "<table border=\"1\" class=\"dataframe\">\n",
       "  <thead>\n",
       "    <tr style=\"text-align: right;\">\n",
       "      <th></th>\n",
       "      <th>소속사</th>\n",
       "      <th>곡</th>\n",
       "      <th>가수</th>\n",
       "      <th>순위평균</th>\n",
       "      <th>사이트</th>\n",
       "      <th>음원수량</th>\n",
       "    </tr>\n",
       "  </thead>\n",
       "  <tbody>\n",
       "    <tr>\n",
       "      <th>4</th>\n",
       "      <td>BLUEVINYL</td>\n",
       "      <td>물고기</td>\n",
       "      <td>백예린 (Yerin Baek)</td>\n",
       "      <td>6.6</td>\n",
       "      <td>Bugs</td>\n",
       "      <td>11</td>\n",
       "    </tr>\n",
       "  </tbody>\n",
       "</table>\n",
       "</div>"
      ],
      "text/plain": [
       "         소속사    곡                가수  순위평균   사이트  음원수량\n",
       "4  BLUEVINYL  물고기  백예린 (Yerin Baek)   6.6  Bugs    11"
      ]
     },
     "execution_count": 198,
     "metadata": {},
     "output_type": "execute_result"
    }
   ],
   "source": [
    "max_rank_music = num_music_df.sort_values('순위평균', ascending=True).iloc[0:1, :]\n",
    "max_rank_music"
   ]
  },
  {
   "cell_type": "code",
   "execution_count": 199,
   "metadata": {},
   "outputs": [
    {
     "data": {
      "text/html": [
       "<div>\n",
       "<style scoped>\n",
       "    .dataframe tbody tr th:only-of-type {\n",
       "        vertical-align: middle;\n",
       "    }\n",
       "\n",
       "    .dataframe tbody tr th {\n",
       "        vertical-align: top;\n",
       "    }\n",
       "\n",
       "    .dataframe thead th {\n",
       "        text-align: right;\n",
       "    }\n",
       "</style>\n",
       "<table border=\"1\" class=\"dataframe\">\n",
       "  <thead>\n",
       "    <tr style=\"text-align: right;\">\n",
       "      <th></th>\n",
       "      <th>소속사</th>\n",
       "      <th>음원수량</th>\n",
       "      <th>순위평균</th>\n",
       "      <th>가수</th>\n",
       "      <th>곡</th>\n",
       "      <th>사이트</th>\n",
       "    </tr>\n",
       "  </thead>\n",
       "  <tbody>\n",
       "    <tr>\n",
       "      <th>0</th>\n",
       "      <td>MBC</td>\n",
       "      <td>17</td>\n",
       "      <td>98.5</td>\n",
       "      <td>WSG워너비 조별경연 (대청봉)</td>\n",
       "      <td>YOU AND I</td>\n",
       "      <td>Melon</td>\n",
       "    </tr>\n",
       "    <tr>\n",
       "      <th>1</th>\n",
       "      <td>BLUEVINYL</td>\n",
       "      <td>11</td>\n",
       "      <td>6.6</td>\n",
       "      <td>백예린 (Yerin Baek)</td>\n",
       "      <td>물고기</td>\n",
       "      <td>Bugs</td>\n",
       "    </tr>\n",
       "  </tbody>\n",
       "</table>\n",
       "</div>"
      ],
      "text/plain": [
       "         소속사  음원수량  순위평균                 가수          곡    사이트\n",
       "0        MBC    17  98.5  WSG워너비 조별경연 (대청봉)  YOU AND I  Melon\n",
       "1  BLUEVINYL    11   6.6   백예린 (Yerin Baek)        물고기   Bugs"
      ]
     },
     "execution_count": 199,
     "metadata": {},
     "output_type": "execute_result"
    }
   ],
   "source": [
    "agency_in_chart = pd.concat([max_num_music, max_rank_music], ignore_index=True)\n",
    "agency_in_chart = agency_in_chart[['소속사', '음원수량', '순위평균', '가수', '곡', '사이트']]\n",
    "agency_in_chart"
   ]
  },
  {
   "cell_type": "code",
   "execution_count": 200,
   "metadata": {},
   "outputs": [
    {
     "name": "stdout",
     "output_type": "stream",
     "text": [
      "2022-05-23_2022-05-29_agency_in_chart.xlsx 출력\n"
     ]
    }
   ],
   "source": [
    "# 이상치 음원 소속사별 음원차트 진입 요약 df 출력\n",
    "# save_folder4 = 'c:/data/Wantreez/Crawling/music/crawled_data/outlier_data/{start_date}_{end_date}'\n",
    "file_name6 = f'{start_date}_{end_date}_agency_in_chart.xlsx'\n",
    "save_agency_in_chart_path = os.path.join(save_folder4, file_name6)\n",
    "agency_in_chart.to_excel(save_agency_in_chart_path, index=False)\n",
    "print(f'{file_name6} 출력')"
   ]
  },
  {
   "cell_type": "markdown",
   "metadata": {},
   "source": [
    "## 4-1-2. 기획사 소셜미디어 관심도 요약"
   ]
  },
  {
   "cell_type": "markdown",
   "metadata": {},
   "source": [
    "### 네이버 데이터 랩"
   ]
  },
  {
   "cell_type": "code",
   "execution_count": 201,
   "metadata": {},
   "outputs": [
    {
     "data": {
      "text/plain": [
       "'c:/data/Wantreez/Crawling/music\\\\crawled_data/outlier_data/2022-05-23_2022-05-29/naver_datalab'"
      ]
     },
     "execution_count": 201,
     "metadata": {},
     "output_type": "execute_result"
    }
   ],
   "source": [
    "# 파일 저장 폴더 생성\n",
    "naver_datalab_path = f'crawled_data/outlier_data/{start_date}_{end_date}/naver_datalab'\n",
    "des2 = os.path.join(code_path, naver_datalab_path)\n",
    "os.makedirs(des2, exist_ok=True)\n",
    "des2"
   ]
  },
  {
   "cell_type": "code",
   "execution_count": 202,
   "metadata": {},
   "outputs": [],
   "source": [
    "ca.install(True)\n",
    "driver = webdriver.Chrome()"
   ]
  },
  {
   "cell_type": "markdown",
   "metadata": {},
   "source": [
    "#### 다운 파일 경로, 이름 설정"
   ]
  },
  {
   "cell_type": "code",
   "execution_count": 203,
   "metadata": {},
   "outputs": [],
   "source": [
    "# 다운 파일 경로, 이름 설정\n",
    "down_folder = 'C:/Users/kbjung/Downloads/'\n",
    "down_xlsx = 'datalab.xlsx'"
   ]
  },
  {
   "cell_type": "code",
   "execution_count": 204,
   "metadata": {},
   "outputs": [
    {
     "name": "stderr",
     "output_type": "stream",
     "text": [
      "C:\\Users\\kbjung\\AppData\\Local\\Temp/ipykernel_20092/1516858410.py:12: DeprecationWarning: find_element_by_xpath is deprecated. Please use find_element(by=By.XPATH, value=xpath) instead\n",
      "  search_box = driver.find_element_by_xpath('/html/body/div[2]/div[2]/div[1]/div/div[2]/div[1]/div/form/fieldset/div/div[1]/div[1]/input')\n",
      "C:\\Users\\kbjung\\AppData\\Local\\Temp/ipykernel_20092/1516858410.py:18: DeprecationWarning: find_element_by_xpath is deprecated. Please use find_element(by=By.XPATH, value=xpath) instead\n",
      "  time_picker = driver.find_element_by_xpath('/html/body/div[2]/div[2]/div[1]/div/div[2]/div[1]/div/form/fieldset/div/div[6]/div[1]/label[2]').click()\n",
      "C:\\Users\\kbjung\\AppData\\Local\\Temp/ipykernel_20092/1516858410.py:22: DeprecationWarning: find_element_by_xpath is deprecated. Please use find_element(by=By.XPATH, value=xpath) instead\n",
      "  week_picker = driver.find_element_by_xpath('/html/body/div[2]/div[2]/div[1]/div/div[2]/div[1]/div/form/fieldset/div/div[6]/div[1]/div').click()\n",
      "C:\\Users\\kbjung\\AppData\\Local\\Temp/ipykernel_20092/1516858410.py:24: DeprecationWarning: find_element_by_xpath is deprecated. Please use find_element(by=By.XPATH, value=xpath) instead\n",
      "  week_button = driver.find_element_by_xpath('/html/body/div[2]/div[2]/div[1]/div/div[2]/div[1]/div/form/fieldset/div/div[6]/div[1]/div/ul/li[2]').click()\n",
      "C:\\Users\\kbjung\\AppData\\Local\\Temp/ipykernel_20092/1516858410.py:28: DeprecationWarning: find_element_by_xpath is deprecated. Please use find_element(by=By.XPATH, value=xpath) instead\n",
      "  search_button = driver.find_element_by_xpath('/html/body/div[2]/div[2]/div[1]/div/div[2]/div[1]/div/form/fieldset/a/span').click()\n",
      "C:\\Users\\kbjung\\AppData\\Local\\Temp/ipykernel_20092/1516858410.py:33: DeprecationWarning: find_element_by_xpath is deprecated. Please use find_element(by=By.XPATH, value=xpath) instead\n",
      "  down_button = driver.find_element_by_xpath('/html/body/div[2]/div[2]/div/div[1]/div[1]/div[1]/div/div/div/div/div/div[1]/div[4]/a').click()\n"
     ]
    },
    {
     "name": "stdout",
     "output_type": "stream",
     "text": [
      "MBC.xlsx 완료.\n",
      "BLUEVINYL.xlsx 완료.\n"
     ]
    }
   ],
   "source": [
    "# 네이버 데이터 랩 검색\n",
    "for i in range(agency_in_chart.shape[0]):\n",
    "    # 네이버 데이터 랩 접속\n",
    "    url = 'https://datalab.naver.com/keyword/trendSearch.naver'\n",
    "    driver.get(url)\n",
    "    driver.implicitly_wait(3)\n",
    "    time.sleep( random.uniform(1, 1.5) )\n",
    "    driver.maximize_window()\n",
    "\n",
    "    # 검색어 입력\n",
    "    word = agency_in_chart['소속사'][i]\n",
    "    search_box = driver.find_element_by_xpath('/html/body/div[2]/div[2]/div[1]/div/div[2]/div[1]/div/form/fieldset/div/div[1]/div[1]/input')\n",
    "    search_box.clear()\n",
    "    time.sleep( random.uniform(1, 1.5) )\n",
    "    search_box.send_keys(word)\n",
    "\n",
    "    # 1개월 picker 클릭\n",
    "    time_picker = driver.find_element_by_xpath('/html/body/div[2]/div[2]/div[1]/div/div[2]/div[1]/div/form/fieldset/div/div[6]/div[1]/label[2]').click()\n",
    "    time.sleep( random.uniform(1, 1.5) )\n",
    "\n",
    "    # 주간 클릭\n",
    "    week_picker = driver.find_element_by_xpath('/html/body/div[2]/div[2]/div[1]/div/div[2]/div[1]/div/form/fieldset/div/div[6]/div[1]/div').click()\n",
    "    time.sleep( random.uniform(0.5, 1) )\n",
    "    week_button = driver.find_element_by_xpath('/html/body/div[2]/div[2]/div[1]/div/div[2]/div[1]/div/form/fieldset/div/div[6]/div[1]/div/ul/li[2]').click()\n",
    "    time.sleep( random.uniform(0.5, 1) )\n",
    "\n",
    "    # 검색 버튼 클릭\n",
    "    search_button = driver.find_element_by_xpath('/html/body/div[2]/div[2]/div[1]/div/div[2]/div[1]/div/form/fieldset/a/span').click()\n",
    "    time.sleep( random.uniform(1, 1.5) )\n",
    "    driver.implicitly_wait(3)\n",
    "\n",
    "    # 다운 버튼 클릭\n",
    "    down_button = driver.find_element_by_xpath('/html/body/div[2]/div[2]/div/div[1]/div[1]/div[1]/div/div/div/div/div/div[1]/div[4]/a').click()\n",
    "    time.sleep( random.uniform(1, 1.5) )\n",
    "\n",
    "    # 다운 파일 이름 변경\n",
    "    new_down_xlsx = f'{word}.xlsx'\n",
    "    os.rename(down_folder + down_xlsx, down_folder + new_down_xlsx)\n",
    "\n",
    "    # 파일 이동\n",
    "    new_down_path = os.path.join(des2, new_down_xlsx)\n",
    "    shutil.move(down_folder + new_down_xlsx, new_down_path)\n",
    "    print(f'{new_down_xlsx} 완료.')"
   ]
  },
  {
   "cell_type": "code",
   "execution_count": 205,
   "metadata": {},
   "outputs": [],
   "source": [
    "driver.quit()"
   ]
  },
  {
   "cell_type": "markdown",
   "metadata": {},
   "source": [
    "### 그래프 x축 설정"
   ]
  },
  {
   "cell_type": "code",
   "execution_count": 206,
   "metadata": {},
   "outputs": [],
   "source": [
    "xticks_names = ['5월2주차', '5월3주차']"
   ]
  },
  {
   "cell_type": "code",
   "execution_count": 207,
   "metadata": {},
   "outputs": [
    {
     "data": {
      "text/plain": [
       "'c:/data/Wantreez/Crawling/music\\\\crawled_data/outlier_data/2022-05-23_2022-05-29/naver_datalab'"
      ]
     },
     "execution_count": 207,
     "metadata": {},
     "output_type": "execute_result"
    }
   ],
   "source": [
    "des2"
   ]
  },
  {
   "cell_type": "code",
   "execution_count": 208,
   "metadata": {},
   "outputs": [
    {
     "name": "stdout",
     "output_type": "stream",
     "text": [
      "소속사_소셜관심도.png 저장 완료.\n"
     ]
    },
    {
     "name": "stderr",
     "output_type": "stream",
     "text": [
      "C:\\Users\\kbjung\\anaconda3\\lib\\site-packages\\openpyxl\\styles\\stylesheet.py:226: UserWarning: Workbook contains no default style, apply openpyxl's default\n",
      "  warn(\"Workbook contains no default style, apply openpyxl's default\")\n",
      "C:\\Users\\kbjung\\anaconda3\\lib\\site-packages\\openpyxl\\styles\\stylesheet.py:226: UserWarning: Workbook contains no default style, apply openpyxl's default\n",
      "  warn(\"Workbook contains no default style, apply openpyxl's default\")\n"
     ]
    },
    {
     "data": {
      "image/png": "[encoded data removed]",
      "text/plain": [
       "<Figure size 864x576 with 1 Axes>"
      ]
     },
     "metadata": {
      "needs_background": "light"
     },
     "output_type": "display_data"
    }
   ],
   "source": [
    "# 그래프 생성\n",
    "file_list = os.listdir(des2)\n",
    "plt.figure( figsize=(12,8) )\n",
    "for one in file_list:\n",
    "    title = one.split('.')[0]\n",
    "    if title in agency_in_chart['소속사'].values:\n",
    "        # print(title)\n",
    "        one_path3 = os.path.join(des2, one)\n",
    "        temp = pd.read_excel(one_path3)\n",
    "        temp = temp.reset_index(drop=True)\n",
    "        temp = temp.iloc[6:, :].reset_index(drop=True)\n",
    "        temp.columns = ['날짜', '검색비율']\n",
    "\n",
    "        date_list = pd.date_range(end=start_date, periods=2, freq='W-MON')\n",
    "        start_week = str(date_list[0]).split(' ')[0]\n",
    "        end_week = str(date_list[-1]).split(' ')[0]\n",
    "        week_temp = temp[ (temp['날짜'] >= start_week) & (temp['날짜'] <= end_week)].reset_index(drop=True)\n",
    "        week_temp['검색비율'] = week_temp['검색비율'].astype(float)\n",
    "        week_temp['검색비율'] = round(week_temp['검색비율'], 1)\n",
    "        \n",
    "        x = xticks_names\n",
    "        y = week_temp['검색비율']\n",
    "\n",
    "        plt.plot(x, y, linewidth=3, label=title)\n",
    "\n",
    "plt.title(f\"네이버 데이터 랩 검색 비율\", fontsize=25)\n",
    "plt.xticks(xticks_names ,fontsize=20)\n",
    "plt.yticks(fontsize=20)\n",
    "plt.legend(framealpha=0.5, fontsize=20, frameon=True, edgecolor='k', shadow=True);\n",
    "save_img_path = os.path.join(des2, '소속사_소셜관심도.png')\n",
    "plt.savefig(save_img_path)\n",
    "print('소속사_소셜관심도.png 저장 완료.')"
   ]
  },
  {
   "cell_type": "markdown",
   "metadata": {},
   "source": [
    "### 카카오 트랜드"
   ]
  },
  {
   "cell_type": "markdown",
   "metadata": {},
   "source": [
    "#### 다운 파일 경로, 이름 설정"
   ]
  },
  {
   "cell_type": "code",
   "execution_count": 209,
   "metadata": {},
   "outputs": [],
   "source": [
    "# 다운로드 폴더, 파일 이름 설정\n",
    "down_folder = 'C:/Users/kbjung/Downloads/'\n",
    "down_xls = 'datatrend.xls'"
   ]
  },
  {
   "cell_type": "code",
   "execution_count": 210,
   "metadata": {},
   "outputs": [
    {
     "data": {
      "text/plain": [
       "'c:/data/Wantreez/Crawling/music\\\\crawled_data/outlier_data/2022-05-23_2022-05-29/kakao_trend'"
      ]
     },
     "execution_count": 210,
     "metadata": {},
     "output_type": "execute_result"
    }
   ],
   "source": [
    "# 파일 저장 폴더 생성\n",
    "kakao_trend_path = f'crawled_data/outlier_data/{start_date}_{end_date}/kakao_trend'\n",
    "des3 = os.path.join(code_path, kakao_trend_path)\n",
    "os.makedirs(des3, exist_ok=True)\n",
    "des3"
   ]
  },
  {
   "cell_type": "code",
   "execution_count": 211,
   "metadata": {},
   "outputs": [],
   "source": [
    "ca.install(True)\n",
    "driver = webdriver.Chrome()"
   ]
  },
  {
   "cell_type": "code",
   "execution_count": null,
   "metadata": {},
   "outputs": [],
   "source": [
    "# 카카오 트랜드 검색\n",
    "for i in range(agency_in_chart.shape[0]):\n",
    "    # 카카오 트랜드 접속\n",
    "    url = 'https://datatrend.kakao.com/'\n",
    "    driver.get(url)\n",
    "    driver.implicitly_wait(3)\n",
    "    time.sleep( random.uniform(1, 1.5) )\n",
    "    driver.maximize_window()\n",
    "\n",
    "    # 검색어 입력\n",
    "    word = agency_in_chart['소속사'][i]\n",
    "    search_box = driver.find_element_by_xpath('/html/body/div/div/div/main/article/div[1]/div/input')\n",
    "    search_box.clear()\n",
    "    time.sleep( random.uniform(1, 1.5) )\n",
    "    search_box.send_keys(word)\n",
    "\n",
    "    # 1개월 picker 클릭\n",
    "    driver.find_element_by_xpath('/html/body/div/div/div/main/article/div[3]/div[2]/div[1]/div[2]/label[2]/span').click()\n",
    "    time.sleep( random.uniform(1, 1.5) )\n",
    "\n",
    "    # 기준 주간 클릭\n",
    "    driver.find_element_by_xpath('/html/body/div/div/div/main/article/div[3]/div[2]/div[2]/div[2]/button').click()\n",
    "    time.sleep( random.uniform(1, 1.5) )\n",
    "    driver.find_element_by_xpath('/html/body/div/div/div/main/article/div[3]/div[2]/div[2]/div[2]/ul/li[2]/label/span').click()\n",
    "    time.sleep( random.uniform(1, 1.5) )\n",
    "\n",
    "\n",
    "    # 검색 버튼 클릭\n",
    "    driver.find_element_by_xpath('/html/body/div/div/div/main/article/div[4]/button[2]').click()\n",
    "    time.sleep( random.uniform(1, 1.5) )\n",
    "    driver.implicitly_wait(3)\n",
    "    \n",
    "    try:\n",
    "        # 다운 버튼 클릭\n",
    "        driver.find_element_by_xpath('/html/body/div/div/header/div/div/a[2]').click()\n",
    "        time.sleep( random.uniform(1, 1.5) )\n",
    "\n",
    "        # 다운 파일 이름 변경\n",
    "        new_down_xls = f'{word}.xls'\n",
    "        os.rename(down_folder + down_xls, down_folder + new_down_xls)\n",
    "\n",
    "        # 파일 이동\n",
    "        new_down_path = os.path.join(des3, new_down_xls)\n",
    "        shutil.move(down_folder + new_down_xls, new_down_path)\n",
    "        print(f'{new_down_xls} 완료.')\n",
    "    except:\n",
    "        pass"
   ]
  },
  {
   "cell_type": "code",
   "execution_count": 213,
   "metadata": {},
   "outputs": [
    {
     "data": {
      "text/plain": [
       "'c:/data/Wantreez/Crawling/music\\\\crawled_data/outlier_data/2022-05-23_2022-05-29/kakao_trend'"
      ]
     },
     "execution_count": 213,
     "metadata": {},
     "output_type": "execute_result"
    }
   ],
   "source": [
    "des3"
   ]
  },
  {
   "cell_type": "code",
   "execution_count": 214,
   "metadata": {},
   "outputs": [
    {
     "name": "stdout",
     "output_type": "stream",
     "text": [
      "소속사_소셜관심도.png 저장 완료.\n"
     ]
    },
    {
     "data": {
      "image/png": "[encoded data removed]",
      "text/plain": [
       "<Figure size 864x576 with 1 Axes>"
      ]
     },
     "metadata": {
      "needs_background": "light"
     },
     "output_type": "display_data"
    }
   ],
   "source": [
    "# 그래프 생성\n",
    "file_list = os.listdir(des3)\n",
    "plt.figure( figsize=(12,8) )\n",
    "for one in file_list:\n",
    "    title = one.split('.')[0]\n",
    "    if title in agency_in_chart['소속사'].values:\n",
    "        # print(title)\n",
    "        one_path4 = os.path.join(des3, one)\n",
    "        temp = pd.read_excel(one_path4).reset_index(drop=True)\n",
    "        temp = temp.iloc[7:38, :].reset_index(drop=True)\n",
    "        temp.columns = ['날짜', '검색비율']\n",
    "        temp['날짜'] = temp['날짜'].astype(str)\n",
    "        temp['날짜'] = temp['날짜'].apply([lambda x: x.split(' ')[0]])\n",
    "        date_list = pd.date_range(end=start_date, periods=2, freq='W-MON')\n",
    "        start_week = str(date_list[0]).split(' ')[0]\n",
    "        end_week = str(date_list[-1]).split(' ')[0]\n",
    "        week_temp = temp[ (temp['날짜'] >= start_week) & (temp['날짜'] <= end_week)].reset_index(drop=True)\n",
    "            \n",
    "        x = xticks_names\n",
    "        y = week_temp['검색비율']\n",
    "        plt.plot(x, y, linewidth=3, label=title)\n",
    "\n",
    "plt.title(f\"카카오 트랜드 검색 비율\", fontsize=25)\n",
    "plt.xticks(xticks_names ,fontsize=20)\n",
    "plt.yticks(fontsize=20)\n",
    "plt.legend(framealpha=0.5, fontsize=20, frameon=True, edgecolor='k', shadow=True);\n",
    "save_img_path = os.path.join(des3, '소속사_소셜관심도.png')\n",
    "plt.savefig(save_img_path)\n",
    "print('소속사_소셜관심도.png 저장 완료.')"
   ]
  },
  {
   "cell_type": "markdown",
   "metadata": {},
   "source": [
    "# 코드 마지막"
   ]
  }
 ],
 "metadata": {
  "interpreter": {
   "hash": "9324a04c706a6b31eba7a0651aa7242016688d8fadcdb700b6e4a7f0e3e7d10a"
  },
  "kernelspec": {
   "display_name": "Python 3.9.7 ('base')",
   "language": "python",
   "name": "python3"
  },
  "language_info": {
   "codemirror_mode": {
    "name": "ipython",
    "version": 3
   },
   "file_extension": ".py",
   "mimetype": "text/x-python",
   "name": "python",
   "nbconvert_exporter": "python",
   "pygments_lexer": "ipython3",
   "version": "3.9.7"
  },
  "orig_nbformat": 4
 },
 "nbformat": 4,
 "nbformat_minor": 2
}
