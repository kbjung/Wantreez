{
 "cells": [
  {
   "cell_type": "markdown",
   "metadata": {},
   "source": [
    "# 새로운 노래\n",
    "* 전 주에 없던 새로운 노래 확인"
   ]
  },
  {
   "cell_type": "markdown",
   "metadata": {},
   "source": [
    "## 라이브러리"
   ]
  },
  {
   "cell_type": "code",
   "execution_count": 212,
   "metadata": {},
   "outputs": [],
   "source": [
    "import pandas as pd\n",
    "import os"
   ]
  },
  {
   "cell_type": "markdown",
   "metadata": {},
   "source": [
    "## 1주일 동안 새로 진입한 곡 평균"
   ]
  },
  {
   "cell_type": "code",
   "execution_count": 214,
   "metadata": {},
   "outputs": [],
   "source": [
    "# f_path = 'c:/data/Wantreez/Crawling/music'\n",
    "# try:\n",
    "#     os.chdir(f_path)\n",
    "# except:\n",
    "#     pass"
   ]
  },
  {
   "cell_type": "code",
   "execution_count": 215,
   "metadata": {},
   "outputs": [
    {
     "data": {
      "text/plain": [
       "'c:/data/Wantreez/Crawling/music'"
      ]
     },
     "execution_count": 215,
     "metadata": {},
     "output_type": "execute_result"
    }
   ],
   "source": [
    "code_path = os.getcwd().replace('\\\\', '/')\n",
    "code_path"
   ]
  },
  {
   "cell_type": "code",
   "execution_count": 216,
   "metadata": {},
   "outputs": [],
   "source": [
    "# 전 주 파일 날짜(일주일)\n",
    "start_date = '2022-04-25'\n",
    "end_date = '2022-05-01'"
   ]
  },
  {
   "cell_type": "code",
   "execution_count": 217,
   "metadata": {},
   "outputs": [],
   "source": [
    "# 비교할 파일 날짜(일주일)\n",
    "new_start_date = '2022-05-02'\n",
    "new_end_date = '2022-05-08'\n",
    "new_dates_df = pd.date_range(new_start_date, new_end_date).astype(str)"
   ]
  },
  {
   "cell_type": "code",
   "execution_count": 224,
   "metadata": {},
   "outputs": [
    {
     "name": "stdout",
     "output_type": "stream",
     "text": [
      "[bugs]2022-05-02_2022-05-08_pop_df.xlsx 출력완료.\n",
      "[genie]2022-05-02_2022-05-08_pop_df.xlsx 출력완료.\n",
      "[melon]2022-05-02_2022-05-08_pop_df.xlsx 출력완료.\n",
      "[vibe]2022-05-02_2022-05-08_pop_df.xlsx 출력완료.\n"
     ]
    }
   ],
   "source": [
    "# 음원 사이트\n",
    "site_list = ['flo', 'bugs', 'genie', 'melon', 'vibe']\n",
    "for site_name in site_list:\n",
    "    try:\n",
    "        folder_path = f'/crawled_data/mod_{site_name}/'\n",
    "        path = code_path + folder_path\n",
    "        try:\n",
    "            os.chdir(path)\n",
    "        except:\n",
    "            pass\n",
    "\n",
    "        # 파일 이름들\n",
    "        file_list = os.listdir()\n",
    "\n",
    "        # 전체 df 생성\n",
    "        total_df = pd.DataFrame()\n",
    "        for one in file_list:\n",
    "            temp = pd.read_excel(one)\n",
    "            total_df = pd.concat([total_df, temp], ignore_index=True)\n",
    "        total_df['날짜'] = total_df['날짜'].astype(str)\n",
    "\n",
    "        # 전주, 이번주 df\n",
    "        before_df = total_df[ (total_df['날짜'] >= start_date) & (total_df['날짜'] <= end_date)].reset_index(drop=True)\n",
    "        new_df = total_df[ (total_df['날짜'] >= new_start_date) & (total_df['날짜'] <= new_end_date)].reset_index(drop=True)\n",
    "\n",
    "        # 전주 노래 목록\n",
    "        title_list = before_df['곡'].unique()\n",
    "        # 이번주 새로 진입한 곡 df\n",
    "        pop_title_list = []\n",
    "        pop_artist_list = []\n",
    "        pop_date_df = pd.DataFrame()\n",
    "        for new_one_date in new_dates_df:\n",
    "            new_date_df = total_df[total_df['날짜'] == new_one_date].reset_index(drop=True)\n",
    "\n",
    "            for i in range(new_date_df.shape[0]):\n",
    "                one_title = new_date_df['곡'][i]\n",
    "                one_artist = new_date_df['가수'][i]\n",
    "                if one_title not in title_list:\n",
    "                    pop_title_list.append(one_title)\n",
    "                    pop_artist_list.append(one_artist)\n",
    "\n",
    "            for two_title, two_artist in zip(pop_title_list, pop_artist_list):\n",
    "                temp = new_df[ (new_df['곡'] == two_title) & (new_df['가수'] == two_artist)]\n",
    "                pop_date_df = pd.concat([pop_date_df, temp], ignore_index=True)\n",
    "                pop_date_df = pop_date_df.drop_duplicates(['날짜', '곡', '가수'], ignore_index=True)\n",
    "\n",
    "        # 새로 진입한 곡의 평균\n",
    "        mean_pop_df = pop_date_df.groupby(['소속사', '곡', '가수']).agg('mean').reset_index()\n",
    "        mean_pop_df.columns = ['소속사', '곡', '가수', '순위평균']\n",
    "        mean_pop_df['순위평균'] = round(mean_pop_df['순위평균'], 1)\n",
    "\n",
    "        # 파일 저장\n",
    "        save_folder = f'/crawled_data/outlier_data/{new_start_date}_{new_end_date}/{site_name}/'\n",
    "        path = code_path + save_folder\n",
    "        file_name = f'[{site_name}]{new_start_date}_{new_end_date}_pop_df.xlsx'\n",
    "        mean_pop_df.to_excel(path + file_name, index=False, encoding='utf-8')\n",
    "        print(f'{file_name} 출력완료.')\n",
    "    except:\n",
    "        pass"
   ]
  },
  {
   "cell_type": "markdown",
   "metadata": {},
   "source": [
    "# 코드 마지막"
   ]
  }
 ],
 "metadata": {
  "interpreter": {
   "hash": "1211d915b9c22983318fbeda606c6449e9f6b5be6ff051b633f29f92a3fc6df4"
  },
  "kernelspec": {
   "display_name": "Python 3.8.8 ('base')",
   "language": "python",
   "name": "python3"
  },
  "language_info": {
   "codemirror_mode": {
    "name": "ipython",
    "version": 3
   },
   "file_extension": ".py",
   "mimetype": "text/x-python",
   "name": "python",
   "nbconvert_exporter": "python",
   "pygments_lexer": "ipython3",
   "version": "3.8.8"
  },
  "orig_nbformat": 4
 },
 "nbformat": 4,
 "nbformat_minor": 2
}
