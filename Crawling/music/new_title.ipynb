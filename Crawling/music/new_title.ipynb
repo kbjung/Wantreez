{
 "cells": [
  {
   "cell_type": "markdown",
   "metadata": {},
   "source": [
    "# 새로운 노래\n",
    "* 전 주에 없던 새로운 노래 확인"
   ]
  },
  {
   "cell_type": "markdown",
   "metadata": {},
   "source": [
    "## 라이브러리"
   ]
  },
  {
   "cell_type": "code",
   "execution_count": 1,
   "metadata": {},
   "outputs": [],
   "source": [
    "import pandas as pd\n",
    "import os"
   ]
  },
  {
   "cell_type": "markdown",
   "metadata": {},
   "source": [
    "## 1주일 동안 새로 진입한 곡 평균"
   ]
  },
  {
   "cell_type": "code",
   "execution_count": 200,
   "metadata": {},
   "outputs": [],
   "source": [
    "f_path = 'c:/data/Wantreez/Crawling/music'\n",
    "try:\n",
    "    os.chdir(f_path)\n",
    "except:\n",
    "    pass"
   ]
  },
  {
   "cell_type": "code",
   "execution_count": 201,
   "metadata": {},
   "outputs": [
    {
     "data": {
      "text/plain": [
       "'c:/data/Wantreez/Crawling/music'"
      ]
     },
     "execution_count": 201,
     "metadata": {},
     "output_type": "execute_result"
    }
   ],
   "source": [
    "code_path = os.getcwd().replace('\\\\', '/')\n",
    "code_path"
   ]
  },
  {
   "cell_type": "code",
   "execution_count": 202,
   "metadata": {},
   "outputs": [],
   "source": [
    "# 전 주 파일 날짜(일주일)\n",
    "start_date = '2022-04-25'\n",
    "end_date = '2022-05-01'"
   ]
  },
  {
   "cell_type": "code",
   "execution_count": 203,
   "metadata": {},
   "outputs": [],
   "source": [
    "# 비교할 파일 날짜(일주일)\n",
    "new_start_date = '2022-05-02'\n",
    "new_end_date = '2022-05-08'\n",
    "new_dates_df = pd.date_range(new_start_date, new_end_date).astype(str)"
   ]
  },
  {
   "cell_type": "code",
   "execution_count": 204,
   "metadata": {},
   "outputs": [
    {
     "name": "stdout",
     "output_type": "stream",
     "text": [
      "[bugs]2022-05-02_2022-05-08_pop_df.xlsx 출력완료.\n",
      "[genie]2022-05-02_2022-05-08_pop_df.xlsx 출력완료.\n",
      "[melon]2022-05-02_2022-05-08_pop_df.xlsx 출력완료.\n",
      "[vibe]2022-05-02_2022-05-08_pop_df.xlsx 출력완료.\n"
     ]
    }
   ],
   "source": [
    "# 음원 사이트\n",
    "site_list = ['flo', 'bugs', 'genie', 'melon', 'vibe']\n",
    "for site_name in site_list:\n",
    "    try:\n",
    "        folder_path = f'/crawled_data/mod_{site_name}/'\n",
    "        path = code_path + folder_path\n",
    "        try:\n",
    "            os.chdir(path)\n",
    "        except:\n",
    "            pass\n",
    "\n",
    "        # 파일 이름들\n",
    "        file_list = os.listdir()\n",
    "\n",
    "        # 전체 df 생성\n",
    "        total_df = pd.DataFrame()\n",
    "        for one in file_list:\n",
    "            temp = pd.read_excel(one)\n",
    "            total_df = pd.concat([total_df, temp], ignore_index=True)\n",
    "        total_df['날짜'] = total_df['날짜'].astype(str)\n",
    "\n",
    "        # 전주, 이번주 df\n",
    "        before_df = total_df[ (total_df['날짜'] >= start_date) & (total_df['날짜'] <= end_date)].reset_index(drop=True)\n",
    "        new_df = total_df[ (total_df['날짜'] >= new_start_date) & (total_df['날짜'] <= new_end_date)].reset_index(drop=True)\n",
    "\n",
    "        # 전주 노래 목록\n",
    "        title_list = before_df['곡'].unique()\n",
    "        # 이번주 새로 진입한 곡 df\n",
    "        pop_title_list = []\n",
    "        pop_artist_list = []\n",
    "        pop_date_df = pd.DataFrame()\n",
    "        for new_one_date in new_dates_df:\n",
    "            new_date_df = total_df[total_df['날짜'] == new_one_date].reset_index(drop=True)\n",
    "\n",
    "            for i in range(new_date_df.shape[0]):\n",
    "                one_title = new_date_df['곡'][i]\n",
    "                one_artist = new_date_df['가수'][i]\n",
    "                if one_title not in title_list:\n",
    "                    pop_title_list.append(one_title)\n",
    "                    pop_artist_list.append(one_artist)\n",
    "\n",
    "            for two_title, two_artist in zip(pop_title_list, pop_artist_list):\n",
    "                temp = new_df[ (new_df['곡'] == two_title) & (new_df['가수'] == two_artist)]\n",
    "                pop_date_df = pd.concat([pop_date_df, temp], ignore_index=True)\n",
    "                pop_date_df = pop_date_df.drop_duplicates(['날짜', '곡', '가수'], ignore_index=True)\n",
    "\n",
    "        # 새로 진입한 곡의 평균\n",
    "        mean_pop_df = pop_date_df.groupby(['소속사', '곡', '가수']).agg('mean').reset_index()\n",
    "        mean_pop_df.columns = ['소속사', '곡', '가수', '순위평균']\n",
    "        mean_pop_df['순위평균'] = round(mean_pop_df['순위평균'], 1)\n",
    "\n",
    "        # 파일 저장\n",
    "        save_folder = f'/crawled_data/outlier_data/{new_start_date}_{new_end_date}/{site_name}/'\n",
    "        path = code_path + save_folder\n",
    "        file_name = f'[{site_name}]{new_start_date}_{new_end_date}_pop_df.xlsx'\n",
    "        mean_pop_df.to_excel(path + file_name, index=False, encoding='utf-8')\n",
    "        print(f'{file_name} 출력완료.')\n",
    "    except:\n",
    "        pass"
   ]
  },
  {
   "cell_type": "markdown",
   "metadata": {},
   "source": [
    "## 10위권 음원의 전주와 이번주 순위 평균 비교"
   ]
  },
  {
   "cell_type": "code",
   "execution_count": 206,
   "metadata": {},
   "outputs": [
    {
     "ename": "ValueError",
     "evalue": "Length mismatch: Expected axis has 5 elements, new values have 4 elements",
     "output_type": "error",
     "traceback": [
      "\u001b[1;31m---------------------------------------------------------------------------\u001b[0m",
      "\u001b[1;31mValueError\u001b[0m                                Traceback (most recent call last)",
      "\u001b[1;32m~\\AppData\\Local\\Temp/ipykernel_5344/3352850468.py\u001b[0m in \u001b[0;36m<module>\u001b[1;34m\u001b[0m\n\u001b[0;32m     29\u001b[0m     \u001b[0mmean_before_top10_df\u001b[0m \u001b[1;33m=\u001b[0m \u001b[0mbefore_top10_df\u001b[0m\u001b[1;33m.\u001b[0m\u001b[0mgroupby\u001b[0m\u001b[1;33m(\u001b[0m\u001b[1;33m[\u001b[0m\u001b[1;34m'사이트'\u001b[0m\u001b[1;33m,\u001b[0m \u001b[1;34m'곡'\u001b[0m\u001b[1;33m,\u001b[0m \u001b[1;34m'가수'\u001b[0m\u001b[1;33m]\u001b[0m\u001b[1;33m)\u001b[0m\u001b[1;33m.\u001b[0m\u001b[0magg\u001b[0m\u001b[1;33m(\u001b[0m\u001b[1;34m'mean'\u001b[0m\u001b[1;33m)\u001b[0m\u001b[1;33m.\u001b[0m\u001b[0mreset_index\u001b[0m\u001b[1;33m(\u001b[0m\u001b[1;33m)\u001b[0m\u001b[1;33m\u001b[0m\u001b[1;33m\u001b[0m\u001b[0m\n\u001b[0;32m     30\u001b[0m     \u001b[0mmean_before_top10_df\u001b[0m\u001b[1;33m[\u001b[0m\u001b[1;34m'순위'\u001b[0m\u001b[1;33m]\u001b[0m \u001b[1;33m=\u001b[0m \u001b[0mround\u001b[0m\u001b[1;33m(\u001b[0m\u001b[0mmean_before_top10_df\u001b[0m\u001b[1;33m[\u001b[0m\u001b[1;34m'순위'\u001b[0m\u001b[1;33m]\u001b[0m\u001b[1;33m,\u001b[0m \u001b[1;36m1\u001b[0m\u001b[1;33m)\u001b[0m\u001b[1;33m\u001b[0m\u001b[1;33m\u001b[0m\u001b[0m\n\u001b[1;32m---> 31\u001b[1;33m     \u001b[0mmean_before_top10_df\u001b[0m\u001b[1;33m.\u001b[0m\u001b[0mcolumns\u001b[0m \u001b[1;33m=\u001b[0m \u001b[1;33m[\u001b[0m\u001b[1;34m'사이트'\u001b[0m\u001b[1;33m,\u001b[0m \u001b[1;34m'곡'\u001b[0m\u001b[1;33m,\u001b[0m \u001b[1;34m'가수'\u001b[0m\u001b[1;33m,\u001b[0m \u001b[1;34m'과거순위평균'\u001b[0m\u001b[1;33m]\u001b[0m\u001b[1;33m\u001b[0m\u001b[1;33m\u001b[0m\u001b[0m\n\u001b[0m\u001b[0;32m     32\u001b[0m \u001b[1;33m\u001b[0m\u001b[0m\n\u001b[0;32m     33\u001b[0m     \u001b[1;31m# 이번주 Top10 음원들의 순위 평균\u001b[0m\u001b[1;33m\u001b[0m\u001b[1;33m\u001b[0m\u001b[0m\n",
      "\u001b[1;32m~\\anaconda3\\lib\\site-packages\\pandas\\core\\generic.py\u001b[0m in \u001b[0;36m__setattr__\u001b[1;34m(self, name, value)\u001b[0m\n\u001b[0;32m   5498\u001b[0m         \u001b[1;32mtry\u001b[0m\u001b[1;33m:\u001b[0m\u001b[1;33m\u001b[0m\u001b[1;33m\u001b[0m\u001b[0m\n\u001b[0;32m   5499\u001b[0m             \u001b[0mobject\u001b[0m\u001b[1;33m.\u001b[0m\u001b[0m__getattribute__\u001b[0m\u001b[1;33m(\u001b[0m\u001b[0mself\u001b[0m\u001b[1;33m,\u001b[0m \u001b[0mname\u001b[0m\u001b[1;33m)\u001b[0m\u001b[1;33m\u001b[0m\u001b[1;33m\u001b[0m\u001b[0m\n\u001b[1;32m-> 5500\u001b[1;33m             \u001b[1;32mreturn\u001b[0m \u001b[0mobject\u001b[0m\u001b[1;33m.\u001b[0m\u001b[0m__setattr__\u001b[0m\u001b[1;33m(\u001b[0m\u001b[0mself\u001b[0m\u001b[1;33m,\u001b[0m \u001b[0mname\u001b[0m\u001b[1;33m,\u001b[0m \u001b[0mvalue\u001b[0m\u001b[1;33m)\u001b[0m\u001b[1;33m\u001b[0m\u001b[1;33m\u001b[0m\u001b[0m\n\u001b[0m\u001b[0;32m   5501\u001b[0m         \u001b[1;32mexcept\u001b[0m \u001b[0mAttributeError\u001b[0m\u001b[1;33m:\u001b[0m\u001b[1;33m\u001b[0m\u001b[1;33m\u001b[0m\u001b[0m\n\u001b[0;32m   5502\u001b[0m             \u001b[1;32mpass\u001b[0m\u001b[1;33m\u001b[0m\u001b[1;33m\u001b[0m\u001b[0m\n",
      "\u001b[1;32m~\\anaconda3\\lib\\site-packages\\pandas\\_libs\\properties.pyx\u001b[0m in \u001b[0;36mpandas._libs.properties.AxisProperty.__set__\u001b[1;34m()\u001b[0m\n",
      "\u001b[1;32m~\\anaconda3\\lib\\site-packages\\pandas\\core\\generic.py\u001b[0m in \u001b[0;36m_set_axis\u001b[1;34m(self, axis, labels)\u001b[0m\n\u001b[0;32m    764\u001b[0m     \u001b[1;32mdef\u001b[0m \u001b[0m_set_axis\u001b[0m\u001b[1;33m(\u001b[0m\u001b[0mself\u001b[0m\u001b[1;33m,\u001b[0m \u001b[0maxis\u001b[0m\u001b[1;33m:\u001b[0m \u001b[0mint\u001b[0m\u001b[1;33m,\u001b[0m \u001b[0mlabels\u001b[0m\u001b[1;33m:\u001b[0m \u001b[0mIndex\u001b[0m\u001b[1;33m)\u001b[0m \u001b[1;33m->\u001b[0m \u001b[1;32mNone\u001b[0m\u001b[1;33m:\u001b[0m\u001b[1;33m\u001b[0m\u001b[1;33m\u001b[0m\u001b[0m\n\u001b[0;32m    765\u001b[0m         \u001b[0mlabels\u001b[0m \u001b[1;33m=\u001b[0m \u001b[0mensure_index\u001b[0m\u001b[1;33m(\u001b[0m\u001b[0mlabels\u001b[0m\u001b[1;33m)\u001b[0m\u001b[1;33m\u001b[0m\u001b[1;33m\u001b[0m\u001b[0m\n\u001b[1;32m--> 766\u001b[1;33m         \u001b[0mself\u001b[0m\u001b[1;33m.\u001b[0m\u001b[0m_mgr\u001b[0m\u001b[1;33m.\u001b[0m\u001b[0mset_axis\u001b[0m\u001b[1;33m(\u001b[0m\u001b[0maxis\u001b[0m\u001b[1;33m,\u001b[0m \u001b[0mlabels\u001b[0m\u001b[1;33m)\u001b[0m\u001b[1;33m\u001b[0m\u001b[1;33m\u001b[0m\u001b[0m\n\u001b[0m\u001b[0;32m    767\u001b[0m         \u001b[0mself\u001b[0m\u001b[1;33m.\u001b[0m\u001b[0m_clear_item_cache\u001b[0m\u001b[1;33m(\u001b[0m\u001b[1;33m)\u001b[0m\u001b[1;33m\u001b[0m\u001b[1;33m\u001b[0m\u001b[0m\n\u001b[0;32m    768\u001b[0m \u001b[1;33m\u001b[0m\u001b[0m\n",
      "\u001b[1;32m~\\anaconda3\\lib\\site-packages\\pandas\\core\\internals\\managers.py\u001b[0m in \u001b[0;36mset_axis\u001b[1;34m(self, axis, new_labels)\u001b[0m\n\u001b[0;32m    214\u001b[0m     \u001b[1;32mdef\u001b[0m \u001b[0mset_axis\u001b[0m\u001b[1;33m(\u001b[0m\u001b[0mself\u001b[0m\u001b[1;33m,\u001b[0m \u001b[0maxis\u001b[0m\u001b[1;33m:\u001b[0m \u001b[0mint\u001b[0m\u001b[1;33m,\u001b[0m \u001b[0mnew_labels\u001b[0m\u001b[1;33m:\u001b[0m \u001b[0mIndex\u001b[0m\u001b[1;33m)\u001b[0m \u001b[1;33m->\u001b[0m \u001b[1;32mNone\u001b[0m\u001b[1;33m:\u001b[0m\u001b[1;33m\u001b[0m\u001b[1;33m\u001b[0m\u001b[0m\n\u001b[0;32m    215\u001b[0m         \u001b[1;31m# Caller is responsible for ensuring we have an Index object.\u001b[0m\u001b[1;33m\u001b[0m\u001b[1;33m\u001b[0m\u001b[0m\n\u001b[1;32m--> 216\u001b[1;33m         \u001b[0mself\u001b[0m\u001b[1;33m.\u001b[0m\u001b[0m_validate_set_axis\u001b[0m\u001b[1;33m(\u001b[0m\u001b[0maxis\u001b[0m\u001b[1;33m,\u001b[0m \u001b[0mnew_labels\u001b[0m\u001b[1;33m)\u001b[0m\u001b[1;33m\u001b[0m\u001b[1;33m\u001b[0m\u001b[0m\n\u001b[0m\u001b[0;32m    217\u001b[0m         \u001b[0mself\u001b[0m\u001b[1;33m.\u001b[0m\u001b[0maxes\u001b[0m\u001b[1;33m[\u001b[0m\u001b[0maxis\u001b[0m\u001b[1;33m]\u001b[0m \u001b[1;33m=\u001b[0m \u001b[0mnew_labels\u001b[0m\u001b[1;33m\u001b[0m\u001b[1;33m\u001b[0m\u001b[0m\n\u001b[0;32m    218\u001b[0m \u001b[1;33m\u001b[0m\u001b[0m\n",
      "\u001b[1;32m~\\anaconda3\\lib\\site-packages\\pandas\\core\\internals\\base.py\u001b[0m in \u001b[0;36m_validate_set_axis\u001b[1;34m(self, axis, new_labels)\u001b[0m\n\u001b[0;32m     55\u001b[0m \u001b[1;33m\u001b[0m\u001b[0m\n\u001b[0;32m     56\u001b[0m         \u001b[1;32melif\u001b[0m \u001b[0mnew_len\u001b[0m \u001b[1;33m!=\u001b[0m \u001b[0mold_len\u001b[0m\u001b[1;33m:\u001b[0m\u001b[1;33m\u001b[0m\u001b[1;33m\u001b[0m\u001b[0m\n\u001b[1;32m---> 57\u001b[1;33m             raise ValueError(\n\u001b[0m\u001b[0;32m     58\u001b[0m                 \u001b[1;34mf\"Length mismatch: Expected axis has {old_len} elements, new \"\u001b[0m\u001b[1;33m\u001b[0m\u001b[1;33m\u001b[0m\u001b[0m\n\u001b[0;32m     59\u001b[0m                 \u001b[1;34mf\"values have {new_len} elements\"\u001b[0m\u001b[1;33m\u001b[0m\u001b[1;33m\u001b[0m\u001b[0m\n",
      "\u001b[1;31mValueError\u001b[0m: Length mismatch: Expected axis has 5 elements, new values have 4 elements"
     ]
    }
   ],
   "source": [
    "# 음원 사이트\n",
    "site_list = ['flo', 'bugs', 'genie', 'melon', 'vibe']\n",
    "for site_name in site_list:\n",
    "    folder_path = f'/crawled_data/mod_{site_name}/'\n",
    "    path = code_path + folder_path\n",
    "    try:\n",
    "        os.chdir(path)\n",
    "    except:\n",
    "        pass\n",
    "\n",
    "    # 파일 이름들\n",
    "    file_list = os.listdir()\n",
    "\n",
    "    # 전체 df 생성\n",
    "    total_df = pd.DataFrame()\n",
    "    for one in file_list:\n",
    "        temp = pd.read_excel(one)\n",
    "        total_df = pd.concat([total_df, temp], ignore_index=True)\n",
    "    total_df['날짜'] = total_df['날짜'].astype(str)\n",
    "\n",
    "    # 전주, 이번주 df\n",
    "    before_df = total_df[ (total_df['날짜'] >= start_date) & (total_df['날짜'] <= end_date)].reset_index(drop=True)\n",
    "    new_df = total_df[ (total_df['날짜'] >= new_start_date) & (total_df['날짜'] <= new_end_date)].reset_index(drop=True)\n",
    "\n",
    "    # 전주, 이번주 Top10 df\n",
    "    before_top10_df = before_df[before_df['순위'] <= 10].reset_index(drop=True)\n",
    "    current_top10_df = new_df[new_df['순위'] <= 10].reset_index(drop=True)\n",
    "    # 전주 Top10 음원들의 순위 평균\n",
    "    mean_before_top10_df = before_top10_df.groupby(['사이트', '곡', '가수']).agg('mean').reset_index()\n",
    "    mean_before_top10_df['순위'] = round(mean_before_top10_df['순위'], 1)\n",
    "    mean_before_top10_df.columns = ['사이트', '곡', '가수', '과거순위평균']\n",
    "\n",
    "    # 이번주 Top10 음원들의 순위 평균\n",
    "    mean_current_top10_df = current_top10_df.groupby(['사이트', '곡', '가수']).agg('mean').reset_index()\n",
    "    mean_current_top10_df['순위'] = round(mean_current_top10_df['순위'], 1)\n",
    "    mean_current_top10_df.columns = ['사이트', '곡', '가수', '현재순위평균']\n",
    "\n",
    "    # 전주, 이번주 Top10 df 병합\n",
    "    bvsc_df = pd.merge(mean_before_top10_df, mean_current_top10_df, on=['곡', '가수'], how='inner')\n",
    "    bvsc_df = bvsc_df.drop('사이트_y', axis=1)\n",
    "    # 전주 대비 상승폭\n",
    "    bvsc_df['전주 대비 상승폭'] = bvsc_df['현재순위평균'] - bvsc_df['과거순위평균']\n",
    "    # 파일 저장\n",
    "    save_folder = f'/crawled_data/outlier_data/{new_start_date}_{new_end_date}/{site_name}/'\n",
    "    path = code_path + save_folder\n",
    "    file_name = f'[{site_name}]{new_start_date}_{new_end_date}_Top10_rank_change_df.xlsx'\n",
    "    bvsc_df.to_excel(path + file_name, index=False, encoding='utf-8')\n",
    "    print(f'{file_name} 출력완료.')\n"
   ]
  },
  {
   "cell_type": "markdown",
   "metadata": {},
   "source": [
    "# 코드 마지막"
   ]
  }
 ],
 "metadata": {
  "interpreter": {
   "hash": "1211d915b9c22983318fbeda606c6449e9f6b5be6ff051b633f29f92a3fc6df4"
  },
  "kernelspec": {
   "display_name": "Python 3.8.8 ('base')",
   "language": "python",
   "name": "python3"
  },
  "language_info": {
   "codemirror_mode": {
    "name": "ipython",
    "version": 3
   },
   "file_extension": ".py",
   "mimetype": "text/x-python",
   "name": "python",
   "nbconvert_exporter": "python",
   "pygments_lexer": "ipython3",
   "version": "3.8.8"
  },
  "orig_nbformat": 4
 },
 "nbformat": 4,
 "nbformat_minor": 2
}
