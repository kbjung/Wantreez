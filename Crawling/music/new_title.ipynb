{
 "cells": [
  {
   "cell_type": "markdown",
   "metadata": {},
   "source": [
    "# 새로운 노래\n",
    "* 전 주에 없던 새로운 노래 확인"
   ]
  },
  {
   "cell_type": "markdown",
   "metadata": {},
   "source": [
    "## 라이브러리"
   ]
  },
  {
   "cell_type": "code",
   "execution_count": 1,
   "metadata": {},
   "outputs": [],
   "source": [
    "import pandas as pd\n",
    "import os"
   ]
  },
  {
   "cell_type": "markdown",
   "metadata": {},
   "source": [
    "## 코드 현재 경로"
   ]
  },
  {
   "cell_type": "code",
   "execution_count": 2,
   "metadata": {},
   "outputs": [
    {
     "data": {
      "text/plain": [
       "'c:/data/Wantreez/Crawling/music'"
      ]
     },
     "execution_count": 2,
     "metadata": {},
     "output_type": "execute_result"
    }
   ],
   "source": [
    "code_path = os.getcwd().replace('\\\\', '/')\n",
    "code_path"
   ]
  },
  {
   "cell_type": "markdown",
   "metadata": {},
   "source": [
    "# Flo"
   ]
  },
  {
   "cell_type": "code",
   "execution_count": 3,
   "metadata": {},
   "outputs": [],
   "source": [
    "# 파일 불러오기\n",
    "folder_path = '/crawled_data/live_flo/'\n",
    "path = code_path + folder_path\n",
    "try:\n",
    "    os.chdir(path)\n",
    "except:\n",
    "    pass"
   ]
  },
  {
   "cell_type": "code",
   "execution_count": 4,
   "metadata": {},
   "outputs": [
    {
     "data": {
      "text/plain": [
       "['live_flo_20220405.xlsx',\n",
       " 'live_flo_20220406.xlsx',\n",
       " 'live_flo_20220407.xlsx',\n",
       " 'live_flo_20220412.xlsx',\n",
       " 'live_flo_20220413.xlsx',\n",
       " 'live_flo_20220414_110035.xlsx',\n",
       " 'live_flo_20220415_110026.xlsx',\n",
       " 'live_flo_20220418_110024.xlsx',\n",
       " 'live_flo_20220419_110028.xlsx',\n",
       " 'live_flo_20220420_110013.xlsx',\n",
       " 'live_flo_20220421_110051.xlsx',\n",
       " 'live_flo_20220422_110026.xlsx',\n",
       " 'live_flo_20220423_110023.xlsx',\n",
       " 'live_flo_20220425_110022.xlsx',\n",
       " 'live_flo_20220426_110029.xlsx',\n",
       " 'live_flo_20220427_110027.xlsx',\n",
       " 'live_flo_20220428_110009.xlsx',\n",
       " 'live_flo_20220429_110008.xlsx']"
      ]
     },
     "execution_count": 4,
     "metadata": {},
     "output_type": "execute_result"
    }
   ],
   "source": [
    "# 파일 이름들\n",
    "file_list = os.listdir()\n",
    "file_list"
   ]
  },
  {
   "cell_type": "code",
   "execution_count": 80,
   "metadata": {},
   "outputs": [],
   "source": [
    "# 전 주 파일 날짜\n",
    "start_date = '2022-04-18'\n",
    "end_date = '2022-04-23'\n",
    "mod_start_date = start_date.replace('-', '')\n",
    "mod_end_date = end_date.replace('-', '')"
   ]
  },
  {
   "cell_type": "markdown",
   "metadata": {},
   "source": [
    "## 새로운 날짜 설정"
   ]
  },
  {
   "cell_type": "code",
   "execution_count": 81,
   "metadata": {},
   "outputs": [],
   "source": [
    "# 비교할 파일 날짜\n",
    "new_date = '2022-04-25'\n",
    "mod_new_date = new_date.replace('-', '')"
   ]
  },
  {
   "cell_type": "code",
   "execution_count": 82,
   "metadata": {},
   "outputs": [
    {
     "data": {
      "text/plain": [
       "['live_vibe_20220418_111004.xlsx',\n",
       " 'live_vibe_20220419_110642.xlsx',\n",
       " 'live_vibe_20220420_110627.xlsx',\n",
       " 'live_vibe_20220421_110704.xlsx',\n",
       " 'live_vibe_20220422_110647.xlsx']"
      ]
     },
     "execution_count": 82,
     "metadata": {},
     "output_type": "execute_result"
    }
   ],
   "source": [
    "for i, one_file in enumerate(file_list):\n",
    "    if mod_start_date == mod_end_date:\n",
    "        start_idx = i\n",
    "        end_idx = i\n",
    "    else:\n",
    "        if mod_start_date in one_file:\n",
    "            start_idx = i\n",
    "        elif mod_end_date in one_file:\n",
    "            end_idx = i\n",
    "mod_file_list = file_list[start_idx:end_idx+1]\n",
    "mod_file_list"
   ]
  },
  {
   "cell_type": "code",
   "execution_count": 83,
   "metadata": {},
   "outputs": [
    {
     "name": "stdout",
     "output_type": "stream",
     "text": [
      "<class 'pandas.core.frame.DataFrame'>\n",
      "RangeIndex: 500 entries, 0 to 499\n",
      "Data columns (total 5 columns):\n",
      " #   Column  Non-Null Count  Dtype \n",
      "---  ------  --------------  ----- \n",
      " 0   날짜      500 non-null    object\n",
      " 1   순위      500 non-null    int64 \n",
      " 2   곡       500 non-null    object\n",
      " 3   가수      500 non-null    object\n",
      " 4   앨범      500 non-null    object\n",
      "dtypes: int64(1), object(4)\n",
      "memory usage: 19.7+ KB\n"
     ]
    }
   ],
   "source": [
    "df = pd.DataFrame()\n",
    "for one in mod_file_list:\n",
    "    temp = pd.read_excel(one)\n",
    "    df = pd.concat([df, temp], ignore_index=True)\n",
    "df.info()"
   ]
  },
  {
   "cell_type": "code",
   "execution_count": 84,
   "metadata": {},
   "outputs": [
    {
     "data": {
      "text/plain": [
       "['봄여름가을겨울 (Still Life)',\n",
       " 'TOMBOY',\n",
       " 'LOVE DIVE',\n",
       " 'Feel My Rhythm',\n",
       " 'GANADARA (Feat. 아이유)']"
      ]
     },
     "execution_count": 84,
     "metadata": {},
     "output_type": "execute_result"
    }
   ],
   "source": [
    "title_list = df['곡'].unique()\n",
    "mod_title_list = [x.strip() for x in title_list]\n",
    "mod_title_list[:5]"
   ]
  },
  {
   "cell_type": "code",
   "execution_count": 85,
   "metadata": {},
   "outputs": [
    {
     "data": {
      "text/plain": [
       "'live_vibe_20220425_110704.xlsx'"
      ]
     },
     "execution_count": 85,
     "metadata": {},
     "output_type": "execute_result"
    }
   ],
   "source": [
    "# 새로운 곡 목록\n",
    "for i, one_file in enumerate(file_list):\n",
    "    if mod_new_date in one_file:\n",
    "        new_idx = i\n",
    "new_file_name = file_list[new_idx]\n",
    "new_file_name"
   ]
  },
  {
   "cell_type": "code",
   "execution_count": 86,
   "metadata": {},
   "outputs": [
    {
     "name": "stdout",
     "output_type": "stream",
     "text": [
      "<class 'pandas.core.frame.DataFrame'>\n",
      "RangeIndex: 100 entries, 0 to 99\n",
      "Data columns (total 5 columns):\n",
      " #   Column  Non-Null Count  Dtype \n",
      "---  ------  --------------  ----- \n",
      " 0   날짜      100 non-null    object\n",
      " 1   순위      100 non-null    int64 \n",
      " 2   곡       100 non-null    object\n",
      " 3   가수      100 non-null    object\n",
      " 4   앨범      100 non-null    object\n",
      "dtypes: int64(1), object(4)\n",
      "memory usage: 4.0+ KB\n"
     ]
    }
   ],
   "source": [
    "new_df = pd.read_excel(new_file_name)\n",
    "new_df.info()"
   ]
  },
  {
   "cell_type": "code",
   "execution_count": 87,
   "metadata": {},
   "outputs": [],
   "source": [
    "new_title_list = new_df['곡'].unique()\n",
    "mod_new_title_list = [x.strip() for x in new_title_list]"
   ]
  },
  {
   "cell_type": "code",
   "execution_count": 88,
   "metadata": {},
   "outputs": [],
   "source": [
    "new_df['곡'] = mod_new_title_list"
   ]
  },
  {
   "cell_type": "code",
   "execution_count": 89,
   "metadata": {},
   "outputs": [
    {
     "data": {
      "text/plain": [
       "1"
      ]
     },
     "execution_count": 89,
     "metadata": {},
     "output_type": "execute_result"
    }
   ],
   "source": [
    "# 새로운 곡\n",
    "new_pop_title_list = []\n",
    "for one in mod_new_title_list:\n",
    "    if one not in mod_title_list:\n",
    "        new_pop_title_list.append(one)\n",
    "len(new_pop_title_list)"
   ]
  },
  {
   "cell_type": "code",
   "execution_count": 90,
   "metadata": {},
   "outputs": [
    {
     "data": {
      "text/plain": [
       "['정이라고 하자 (Feat. 10CM)']"
      ]
     },
     "execution_count": 90,
     "metadata": {},
     "output_type": "execute_result"
    }
   ],
   "source": [
    "new_pop_title_list"
   ]
  },
  {
   "cell_type": "code",
   "execution_count": 91,
   "metadata": {},
   "outputs": [
    {
     "data": {
      "text/html": [
       "<div>\n",
       "<style scoped>\n",
       "    .dataframe tbody tr th:only-of-type {\n",
       "        vertical-align: middle;\n",
       "    }\n",
       "\n",
       "    .dataframe tbody tr th {\n",
       "        vertical-align: top;\n",
       "    }\n",
       "\n",
       "    .dataframe thead th {\n",
       "        text-align: right;\n",
       "    }\n",
       "</style>\n",
       "<table border=\"1\" class=\"dataframe\">\n",
       "  <thead>\n",
       "    <tr style=\"text-align: right;\">\n",
       "      <th></th>\n",
       "      <th>날짜</th>\n",
       "      <th>순위</th>\n",
       "      <th>곡</th>\n",
       "      <th>가수</th>\n",
       "      <th>앨범</th>\n",
       "    </tr>\n",
       "  </thead>\n",
       "  <tbody>\n",
       "    <tr>\n",
       "      <th>0</th>\n",
       "      <td>2022-04-25</td>\n",
       "      <td>41</td>\n",
       "      <td>정이라고 하자 (Feat. 10CM)</td>\n",
       "      <td>BIG Naughty (서동현)</td>\n",
       "      <td>정이라고 하자</td>\n",
       "    </tr>\n",
       "  </tbody>\n",
       "</table>\n",
       "</div>"
      ],
      "text/plain": [
       "           날짜  순위                     곡                 가수       앨범\n",
       "0  2022-04-25  41  정이라고 하자 (Feat. 10CM)  BIG Naughty (서동현)  정이라고 하자"
      ]
     },
     "execution_count": 91,
     "metadata": {},
     "output_type": "execute_result"
    }
   ],
   "source": [
    "new_pop_df = pd.DataFrame()\n",
    "for one in new_pop_title_list:\n",
    "    temp = new_df[new_df['곡'] == one]\n",
    "    new_pop_df = pd.concat([new_pop_df, temp], ignore_index=True)\n",
    "new_pop_df"
   ]
  },
  {
   "cell_type": "markdown",
   "metadata": {},
   "source": [
    "# bugs"
   ]
  },
  {
   "cell_type": "code",
   "execution_count": 17,
   "metadata": {},
   "outputs": [],
   "source": [
    "# 파일 불러오기\n",
    "folder_path = '/crawled_data/live_bugs/'\n",
    "path = code_path + folder_path\n",
    "try:\n",
    "    os.chdir(path)\n",
    "except:\n",
    "    pass"
   ]
  },
  {
   "cell_type": "code",
   "execution_count": 18,
   "metadata": {},
   "outputs": [
    {
     "data": {
      "text/plain": [
       "['live_bugs_20220422_105549.xlsx',\n",
       " 'live_bugs_20220425_110806.xlsx',\n",
       " 'live_bugs_20220426_110837.xlsx',\n",
       " 'live_bugs_20220427_110836.xlsx',\n",
       " 'live_bugs_20220428_110800.xlsx',\n",
       " 'live_bugs_20220429_110800.xlsx']"
      ]
     },
     "execution_count": 18,
     "metadata": {},
     "output_type": "execute_result"
    }
   ],
   "source": [
    "# 파일 이름들\n",
    "file_list = os.listdir()\n",
    "file_list"
   ]
  },
  {
   "cell_type": "code",
   "execution_count": 23,
   "metadata": {},
   "outputs": [],
   "source": [
    "# 전 주 파일 날짜\n",
    "start_date = '2022-04-22'\n",
    "end_date = '2022-04-28'\n",
    "mod_start_date = start_date.replace('-', '')\n",
    "mod_end_date = end_date.replace('-', '')"
   ]
  },
  {
   "cell_type": "markdown",
   "metadata": {},
   "source": [
    "## 새로운 날짜 설정"
   ]
  },
  {
   "cell_type": "code",
   "execution_count": 24,
   "metadata": {},
   "outputs": [],
   "source": [
    "# 비교할 파일 날짜\n",
    "new_date = '2022-04-29'\n",
    "mod_new_date = new_date.replace('-', '')"
   ]
  },
  {
   "cell_type": "code",
   "execution_count": 25,
   "metadata": {},
   "outputs": [
    {
     "data": {
      "text/plain": [
       "['live_bugs_20220422_105549.xlsx',\n",
       " 'live_bugs_20220425_110806.xlsx',\n",
       " 'live_bugs_20220426_110837.xlsx',\n",
       " 'live_bugs_20220427_110836.xlsx',\n",
       " 'live_bugs_20220428_110800.xlsx']"
      ]
     },
     "execution_count": 25,
     "metadata": {},
     "output_type": "execute_result"
    }
   ],
   "source": [
    "for i, one_file in enumerate(file_list):\n",
    "    if mod_start_date == mod_end_date:\n",
    "        start_idx = i\n",
    "        end_idx = i\n",
    "    else:\n",
    "        if mod_start_date in one_file:\n",
    "            start_idx = i\n",
    "        elif mod_end_date in one_file:\n",
    "            end_idx = i\n",
    "mod_file_list = file_list[start_idx:end_idx+1]\n",
    "mod_file_list"
   ]
  },
  {
   "cell_type": "code",
   "execution_count": 26,
   "metadata": {},
   "outputs": [
    {
     "name": "stdout",
     "output_type": "stream",
     "text": [
      "<class 'pandas.core.frame.DataFrame'>\n",
      "RangeIndex: 500 entries, 0 to 499\n",
      "Data columns (total 5 columns):\n",
      " #   Column  Non-Null Count  Dtype \n",
      "---  ------  --------------  ----- \n",
      " 0   날짜      500 non-null    object\n",
      " 1   순위      500 non-null    int64 \n",
      " 2   곡       500 non-null    object\n",
      " 3   가수      500 non-null    object\n",
      " 4   앨범      500 non-null    object\n",
      "dtypes: int64(1), object(4)\n",
      "memory usage: 19.7+ KB\n"
     ]
    }
   ],
   "source": [
    "df = pd.DataFrame()\n",
    "for one in mod_file_list:\n",
    "    temp = pd.read_excel(one)\n",
    "    df = pd.concat([df, temp], ignore_index=True)\n",
    "df.info()"
   ]
  },
  {
   "cell_type": "code",
   "execution_count": 27,
   "metadata": {},
   "outputs": [
    {
     "data": {
      "text/plain": [
       "['LOVE DIVE', 'Seoul', '그대가 있기에', '봄여름가을겨울 (Still Life)', 'Love story']"
      ]
     },
     "execution_count": 27,
     "metadata": {},
     "output_type": "execute_result"
    }
   ],
   "source": [
    "title_list = df['곡'].unique()\n",
    "mod_title_list = [x.strip() for x in title_list]\n",
    "mod_title_list[:5]"
   ]
  },
  {
   "cell_type": "code",
   "execution_count": 28,
   "metadata": {},
   "outputs": [
    {
     "data": {
      "text/plain": [
       "'live_bugs_20220429_110800.xlsx'"
      ]
     },
     "execution_count": 28,
     "metadata": {},
     "output_type": "execute_result"
    }
   ],
   "source": [
    "# 새로운 곡 목록\n",
    "for i, one_file in enumerate(file_list):\n",
    "    if mod_new_date in one_file:\n",
    "        new_idx = i\n",
    "new_file_name = file_list[new_idx]\n",
    "new_file_name"
   ]
  },
  {
   "cell_type": "code",
   "execution_count": 29,
   "metadata": {},
   "outputs": [
    {
     "name": "stdout",
     "output_type": "stream",
     "text": [
      "<class 'pandas.core.frame.DataFrame'>\n",
      "RangeIndex: 100 entries, 0 to 99\n",
      "Data columns (total 5 columns):\n",
      " #   Column  Non-Null Count  Dtype \n",
      "---  ------  --------------  ----- \n",
      " 0   날짜      100 non-null    object\n",
      " 1   순위      100 non-null    int64 \n",
      " 2   곡       100 non-null    object\n",
      " 3   가수      100 non-null    object\n",
      " 4   앨범      100 non-null    object\n",
      "dtypes: int64(1), object(4)\n",
      "memory usage: 4.0+ KB\n"
     ]
    }
   ],
   "source": [
    "new_df = pd.read_excel(new_file_name)\n",
    "new_df.info()"
   ]
  },
  {
   "cell_type": "code",
   "execution_count": 30,
   "metadata": {},
   "outputs": [],
   "source": [
    "new_title_list = new_df['곡'].unique()\n",
    "mod_new_title_list = [x.strip() for x in new_title_list]"
   ]
  },
  {
   "cell_type": "code",
   "execution_count": 31,
   "metadata": {},
   "outputs": [],
   "source": [
    "new_df['곡'] = mod_new_title_list"
   ]
  },
  {
   "cell_type": "code",
   "execution_count": 32,
   "metadata": {},
   "outputs": [
    {
     "data": {
      "text/plain": [
       "32"
      ]
     },
     "execution_count": 32,
     "metadata": {},
     "output_type": "execute_result"
    }
   ],
   "source": [
    "# 새로운 곡\n",
    "new_pop_title_list = []\n",
    "for one in mod_new_title_list:\n",
    "    if one not in mod_title_list:\n",
    "        new_pop_title_list.append(one)\n",
    "len(new_pop_title_list)"
   ]
  },
  {
   "cell_type": "code",
   "execution_count": 33,
   "metadata": {},
   "outputs": [
    {
     "data": {
      "text/plain": [
       "['C.I.T.T (Cheese in the Trap)',\n",
       " 'I Am',\n",
       " '비 오는 날 듣기 좋은 노래 (Feat. Colde)',\n",
       " '선물',\n",
       " 'INVU (ZHU Remix)',\n",
       " 'INDUSTRY BABY',\n",
       " 'How You Like That',\n",
       " '마음 (Feat. 적재)',\n",
       " '우리의 이야기',\n",
       " '그때 그 아인',\n",
       " 'Sisyphus',\n",
       " 'What If',\n",
       " 'Loadstar',\n",
       " '동화',\n",
       " '문어의 꿈',\n",
       " '천년의 사랑',\n",
       " 'Lovers On The Moon',\n",
       " '내 맘대로 (#Self_Trip)',\n",
       " '알았다면',\n",
       " '나를 외치다',\n",
       " '인사',\n",
       " '저녁 하늘',\n",
       " 'BOP BOP! (Yves V Remix)',\n",
       " '오르막길',\n",
       " '반달 (My Moon)',\n",
       " '부끄럼',\n",
       " '좋은 날',\n",
       " '그대가 살아서',\n",
       " '짙어져',\n",
       " '하루가 달리',\n",
       " 'IF I',\n",
       " '찾았다']"
      ]
     },
     "execution_count": 33,
     "metadata": {},
     "output_type": "execute_result"
    }
   ],
   "source": [
    "new_pop_title_list"
   ]
  },
  {
   "cell_type": "code",
   "execution_count": 35,
   "metadata": {},
   "outputs": [
    {
     "data": {
      "text/html": [
       "<div>\n",
       "<style scoped>\n",
       "    .dataframe tbody tr th:only-of-type {\n",
       "        vertical-align: middle;\n",
       "    }\n",
       "\n",
       "    .dataframe tbody tr th {\n",
       "        vertical-align: top;\n",
       "    }\n",
       "\n",
       "    .dataframe thead th {\n",
       "        text-align: right;\n",
       "    }\n",
       "</style>\n",
       "<table border=\"1\" class=\"dataframe\">\n",
       "  <thead>\n",
       "    <tr style=\"text-align: right;\">\n",
       "      <th></th>\n",
       "      <th>날짜</th>\n",
       "      <th>순위</th>\n",
       "      <th>곡</th>\n",
       "      <th>가수</th>\n",
       "      <th>앨범</th>\n",
       "    </tr>\n",
       "  </thead>\n",
       "  <tbody>\n",
       "    <tr>\n",
       "      <th>0</th>\n",
       "      <td>2022-04-29</td>\n",
       "      <td>26</td>\n",
       "      <td>C.I.T.T (Cheese in the Trap)</td>\n",
       "      <td>문별 (마마무)</td>\n",
       "      <td>C.I.T.T (Cheese in the Trap)</td>\n",
       "    </tr>\n",
       "    <tr>\n",
       "      <th>1</th>\n",
       "      <td>2022-04-29</td>\n",
       "      <td>38</td>\n",
       "      <td>I Am</td>\n",
       "      <td>Nicholas Cheung</td>\n",
       "      <td>I Am</td>\n",
       "    </tr>\n",
       "    <tr>\n",
       "      <th>2</th>\n",
       "      <td>2022-04-29</td>\n",
       "      <td>48</td>\n",
       "      <td>비 오는 날 듣기 좋은 노래 (Feat. Colde)</td>\n",
       "      <td>에픽하이 (EPIK HIGH)</td>\n",
       "      <td>비 오는 날 듣기 좋은 노래</td>\n",
       "    </tr>\n",
       "    <tr>\n",
       "      <th>3</th>\n",
       "      <td>2022-04-29</td>\n",
       "      <td>54</td>\n",
       "      <td>선물</td>\n",
       "      <td>멜로망스(MeloMance)</td>\n",
       "      <td>Moonlight</td>\n",
       "    </tr>\n",
       "    <tr>\n",
       "      <th>4</th>\n",
       "      <td>2022-04-29</td>\n",
       "      <td>57</td>\n",
       "      <td>INVU (ZHU Remix)</td>\n",
       "      <td>태연 (TAEYEON)</td>\n",
       "      <td>iScreaM Vol.15 : INVU Remixes</td>\n",
       "    </tr>\n",
       "    <tr>\n",
       "      <th>5</th>\n",
       "      <td>2022-04-29</td>\n",
       "      <td>60</td>\n",
       "      <td>INDUSTRY BABY</td>\n",
       "      <td>Lil Nas X</td>\n",
       "      <td>INDUSTRY BABY</td>\n",
       "    </tr>\n",
       "    <tr>\n",
       "      <th>6</th>\n",
       "      <td>2022-04-29</td>\n",
       "      <td>61</td>\n",
       "      <td>How You Like That</td>\n",
       "      <td>BLACKPINK</td>\n",
       "      <td>How You Like That</td>\n",
       "    </tr>\n",
       "    <tr>\n",
       "      <th>7</th>\n",
       "      <td>2022-04-29</td>\n",
       "      <td>65</td>\n",
       "      <td>마음 (Feat. 적재)</td>\n",
       "      <td>소유 (SOYOU)</td>\n",
       "      <td>The 1st Mini Album 'Day &amp; Night'</td>\n",
       "    </tr>\n",
       "    <tr>\n",
       "      <th>8</th>\n",
       "      <td>2022-04-29</td>\n",
       "      <td>66</td>\n",
       "      <td>우리의 이야기</td>\n",
       "      <td>멜로망스(MeloMance)</td>\n",
       "      <td>유미의 세포들 OST Part 8</td>\n",
       "    </tr>\n",
       "    <tr>\n",
       "      <th>9</th>\n",
       "      <td>2022-04-29</td>\n",
       "      <td>68</td>\n",
       "      <td>그때 그 아인</td>\n",
       "      <td>김필(Kim Feel)</td>\n",
       "      <td>이태원 클라쓰 OST Part.6</td>\n",
       "    </tr>\n",
       "    <tr>\n",
       "      <th>10</th>\n",
       "      <td>2022-04-29</td>\n",
       "      <td>72</td>\n",
       "      <td>Sisyphus</td>\n",
       "      <td>Andrew Bird(앤드류 버드)</td>\n",
       "      <td>My Finest Work Yet</td>\n",
       "    </tr>\n",
       "    <tr>\n",
       "      <th>11</th>\n",
       "      <td>2022-04-29</td>\n",
       "      <td>74</td>\n",
       "      <td>What If</td>\n",
       "      <td>정인</td>\n",
       "      <td>그린마더스클럽 OST Part 3</td>\n",
       "    </tr>\n",
       "    <tr>\n",
       "      <th>12</th>\n",
       "      <td>2022-04-29</td>\n",
       "      <td>75</td>\n",
       "      <td>Loadstar</td>\n",
       "      <td>솔지</td>\n",
       "      <td>엘소드 : Loadstar (Original Game Soundtrack)</td>\n",
       "    </tr>\n",
       "    <tr>\n",
       "      <th>13</th>\n",
       "      <td>2022-04-29</td>\n",
       "      <td>76</td>\n",
       "      <td>동화</td>\n",
       "      <td>멜로망스(MeloMance)</td>\n",
       "      <td>The Fairy Tale</td>\n",
       "    </tr>\n",
       "    <tr>\n",
       "      <th>14</th>\n",
       "      <td>2022-04-29</td>\n",
       "      <td>77</td>\n",
       "      <td>문어의 꿈</td>\n",
       "      <td>안예은</td>\n",
       "      <td>문어의 꿈</td>\n",
       "    </tr>\n",
       "    <tr>\n",
       "      <th>15</th>\n",
       "      <td>2022-04-29</td>\n",
       "      <td>82</td>\n",
       "      <td>천년의 사랑</td>\n",
       "      <td>박완규</td>\n",
       "      <td>천년지애(千年之愛)</td>\n",
       "    </tr>\n",
       "    <tr>\n",
       "      <th>16</th>\n",
       "      <td>2022-04-29</td>\n",
       "      <td>83</td>\n",
       "      <td>Lovers On The Moon</td>\n",
       "      <td>AJ Mitchell(에이제이 미첼)</td>\n",
       "      <td>SKYVIEW</td>\n",
       "    </tr>\n",
       "    <tr>\n",
       "      <th>17</th>\n",
       "      <td>2022-04-29</td>\n",
       "      <td>84</td>\n",
       "      <td>내 맘대로 (#Self_Trip)</td>\n",
       "      <td>민서 (MINSEO)</td>\n",
       "      <td>mOS 2.74</td>\n",
       "    </tr>\n",
       "    <tr>\n",
       "      <th>18</th>\n",
       "      <td>2022-04-29</td>\n",
       "      <td>85</td>\n",
       "      <td>알았다면</td>\n",
       "      <td>소유 (SOYOU)</td>\n",
       "      <td>The 1st Mini Album 'Day &amp; Night'</td>\n",
       "    </tr>\n",
       "    <tr>\n",
       "      <th>19</th>\n",
       "      <td>2022-04-29</td>\n",
       "      <td>86</td>\n",
       "      <td>나를 외치다</td>\n",
       "      <td>마야(Maya)</td>\n",
       "      <td>Road To Myself</td>\n",
       "    </tr>\n",
       "    <tr>\n",
       "      <th>20</th>\n",
       "      <td>2022-04-29</td>\n",
       "      <td>87</td>\n",
       "      <td>인사</td>\n",
       "      <td>멜로망스(MeloMance)</td>\n",
       "      <td>인사</td>\n",
       "    </tr>\n",
       "    <tr>\n",
       "      <th>21</th>\n",
       "      <td>2022-04-29</td>\n",
       "      <td>88</td>\n",
       "      <td>저녁 하늘</td>\n",
       "      <td>에일리(Ailee)</td>\n",
       "      <td>Invitation</td>\n",
       "    </tr>\n",
       "    <tr>\n",
       "      <th>22</th>\n",
       "      <td>2022-04-29</td>\n",
       "      <td>89</td>\n",
       "      <td>BOP BOP! (Yves V Remix)</td>\n",
       "      <td>VIVIZ (비비지)</td>\n",
       "      <td>BOP BOP! (Yves V Remix)</td>\n",
       "    </tr>\n",
       "    <tr>\n",
       "      <th>23</th>\n",
       "      <td>2022-04-29</td>\n",
       "      <td>90</td>\n",
       "      <td>오르막길</td>\n",
       "      <td>윤종신</td>\n",
       "      <td>행보 2015 윤종신 / 작사가 윤종신 Live Part.1</td>\n",
       "    </tr>\n",
       "    <tr>\n",
       "      <th>24</th>\n",
       "      <td>2022-04-29</td>\n",
       "      <td>91</td>\n",
       "      <td>반달 (My Moon)</td>\n",
       "      <td>문별 (마마무)</td>\n",
       "      <td>C.I.T.T (Cheese in the Trap)</td>\n",
       "    </tr>\n",
       "    <tr>\n",
       "      <th>25</th>\n",
       "      <td>2022-04-29</td>\n",
       "      <td>92</td>\n",
       "      <td>부끄럼</td>\n",
       "      <td>멜로망스(MeloMance)</td>\n",
       "      <td>bright #4</td>\n",
       "    </tr>\n",
       "    <tr>\n",
       "      <th>26</th>\n",
       "      <td>2022-04-29</td>\n",
       "      <td>93</td>\n",
       "      <td>좋은 날</td>\n",
       "      <td>멜로망스(MeloMance)</td>\n",
       "      <td>미스터 션샤인 (tvN 주말드라마) OST - Part.5</td>\n",
       "    </tr>\n",
       "    <tr>\n",
       "      <th>27</th>\n",
       "      <td>2022-04-29</td>\n",
       "      <td>95</td>\n",
       "      <td>그대가 살아서</td>\n",
       "      <td>정동원</td>\n",
       "      <td>그대가 살아서</td>\n",
       "    </tr>\n",
       "    <tr>\n",
       "      <th>28</th>\n",
       "      <td>2022-04-29</td>\n",
       "      <td>97</td>\n",
       "      <td>짙어져</td>\n",
       "      <td>멜로망스(MeloMance)</td>\n",
       "      <td>옐로우 (Yellow - 웹드라마) OST - Part.2</td>\n",
       "    </tr>\n",
       "    <tr>\n",
       "      <th>29</th>\n",
       "      <td>2022-04-29</td>\n",
       "      <td>98</td>\n",
       "      <td>하루가 달리</td>\n",
       "      <td>호미들</td>\n",
       "      <td>GENERATION</td>\n",
       "    </tr>\n",
       "    <tr>\n",
       "      <th>30</th>\n",
       "      <td>2022-04-29</td>\n",
       "      <td>99</td>\n",
       "      <td>IF I</td>\n",
       "      <td>백지영</td>\n",
       "      <td>연모 OST Part.3</td>\n",
       "    </tr>\n",
       "    <tr>\n",
       "      <th>31</th>\n",
       "      <td>2022-04-29</td>\n",
       "      <td>100</td>\n",
       "      <td>찾았다</td>\n",
       "      <td>박유천</td>\n",
       "      <td>성균관 스캔들 (KBS 월화드라마)</td>\n",
       "    </tr>\n",
       "  </tbody>\n",
       "</table>\n",
       "</div>"
      ],
      "text/plain": [
       "            날짜   순위                              곡                    가수  \\\n",
       "0   2022-04-29   26   C.I.T.T (Cheese in the Trap)              문별 (마마무)   \n",
       "1   2022-04-29   38                           I Am       Nicholas Cheung   \n",
       "2   2022-04-29   48  비 오는 날 듣기 좋은 노래 (Feat. Colde)      에픽하이 (EPIK HIGH)   \n",
       "3   2022-04-29   54                             선물       멜로망스(MeloMance)   \n",
       "4   2022-04-29   57               INVU (ZHU Remix)          태연 (TAEYEON)   \n",
       "5   2022-04-29   60                  INDUSTRY BABY             Lil Nas X   \n",
       "6   2022-04-29   61              How You Like That             BLACKPINK   \n",
       "7   2022-04-29   65                  마음 (Feat. 적재)            소유 (SOYOU)   \n",
       "8   2022-04-29   66                        우리의 이야기       멜로망스(MeloMance)   \n",
       "9   2022-04-29   68                        그때 그 아인          김필(Kim Feel)   \n",
       "10  2022-04-29   72                       Sisyphus   Andrew Bird(앤드류 버드)   \n",
       "11  2022-04-29   74                        What If                    정인   \n",
       "12  2022-04-29   75                       Loadstar                    솔지   \n",
       "13  2022-04-29   76                             동화       멜로망스(MeloMance)   \n",
       "14  2022-04-29   77                          문어의 꿈                   안예은   \n",
       "15  2022-04-29   82                         천년의 사랑                   박완규   \n",
       "16  2022-04-29   83             Lovers On The Moon  AJ Mitchell(에이제이 미첼)   \n",
       "17  2022-04-29   84             내 맘대로 (#Self_Trip)           민서 (MINSEO)   \n",
       "18  2022-04-29   85                           알았다면            소유 (SOYOU)   \n",
       "19  2022-04-29   86                         나를 외치다              마야(Maya)   \n",
       "20  2022-04-29   87                             인사       멜로망스(MeloMance)   \n",
       "21  2022-04-29   88                          저녁 하늘            에일리(Ailee)   \n",
       "22  2022-04-29   89        BOP BOP! (Yves V Remix)           VIVIZ (비비지)   \n",
       "23  2022-04-29   90                           오르막길                   윤종신   \n",
       "24  2022-04-29   91                   반달 (My Moon)              문별 (마마무)   \n",
       "25  2022-04-29   92                            부끄럼       멜로망스(MeloMance)   \n",
       "26  2022-04-29   93                           좋은 날       멜로망스(MeloMance)   \n",
       "27  2022-04-29   95                        그대가 살아서                   정동원   \n",
       "28  2022-04-29   97                            짙어져       멜로망스(MeloMance)   \n",
       "29  2022-04-29   98                         하루가 달리                   호미들   \n",
       "30  2022-04-29   99                           IF I                   백지영   \n",
       "31  2022-04-29  100                            찾았다                   박유천   \n",
       "\n",
       "                                           앨범  \n",
       "0                C.I.T.T (Cheese in the Trap)  \n",
       "1                                        I Am  \n",
       "2                             비 오는 날 듣기 좋은 노래  \n",
       "3                                   Moonlight  \n",
       "4               iScreaM Vol.15 : INVU Remixes  \n",
       "5                               INDUSTRY BABY  \n",
       "6                           How You Like That  \n",
       "7            The 1st Mini Album 'Day & Night'  \n",
       "8                          유미의 세포들 OST Part 8  \n",
       "9                          이태원 클라쓰 OST Part.6  \n",
       "10                         My Finest Work Yet  \n",
       "11                         그린마더스클럽 OST Part 3  \n",
       "12  엘소드 : Loadstar (Original Game Soundtrack)  \n",
       "13                             The Fairy Tale  \n",
       "14                                      문어의 꿈  \n",
       "15                                 천년지애(千年之愛)  \n",
       "16                                    SKYVIEW  \n",
       "17                                   mOS 2.74  \n",
       "18           The 1st Mini Album 'Day & Night'  \n",
       "19                             Road To Myself  \n",
       "20                                         인사  \n",
       "21                                 Invitation  \n",
       "22                    BOP BOP! (Yves V Remix)  \n",
       "23          행보 2015 윤종신 / 작사가 윤종신 Live Part.1  \n",
       "24               C.I.T.T (Cheese in the Trap)  \n",
       "25                                  bright #4  \n",
       "26           미스터 션샤인 (tvN 주말드라마) OST - Part.5  \n",
       "27                                    그대가 살아서  \n",
       "28           옐로우 (Yellow - 웹드라마) OST - Part.2  \n",
       "29                                 GENERATION  \n",
       "30                              연모 OST Part.3  \n",
       "31                        성균관 스캔들 (KBS 월화드라마)  "
      ]
     },
     "execution_count": 35,
     "metadata": {},
     "output_type": "execute_result"
    }
   ],
   "source": [
    "new_pop_df = pd.DataFrame()\n",
    "for one in new_pop_title_list:\n",
    "    temp = new_df[new_df['곡'] == one]\n",
    "    new_pop_df = pd.concat([new_pop_df, temp], ignore_index=True)\n",
    "new_pop_df"
   ]
  },
  {
   "cell_type": "markdown",
   "metadata": {},
   "source": [
    "# genie"
   ]
  },
  {
   "cell_type": "code",
   "execution_count": 36,
   "metadata": {},
   "outputs": [],
   "source": [
    "# 파일 불러오기\n",
    "folder_path = '/crawled_data/live_genie/'\n",
    "path = code_path + folder_path\n",
    "try:\n",
    "    os.chdir(path)\n",
    "except:\n",
    "    pass"
   ]
  },
  {
   "cell_type": "code",
   "execution_count": 37,
   "metadata": {},
   "outputs": [
    {
     "data": {
      "text/plain": [
       "['live_genie_20220405.xlsx',\n",
       " 'live_genie_20220406.xlsx',\n",
       " 'live_genie_20220407.xlsx',\n",
       " 'live_genie_20220408.xlsx',\n",
       " 'live_genie_20220412.xlsx',\n",
       " 'live_genie_20220413.xlsx',\n",
       " 'live_genie_20220413_152916.xlsx',\n",
       " 'live_genie_20220414_134752.xlsx',\n",
       " 'live_genie_20220415_180602.xlsx',\n",
       " 'live_genie_20220418_110238.xlsx',\n",
       " 'live_genie_20220419_110232.xlsx',\n",
       " 'live_genie_20220420_110217.xlsx',\n",
       " 'live_genie_20220421_110254.xlsx',\n",
       " 'live_genie_20220422_110235.xlsx',\n",
       " 'live_genie_20220425_110255.xlsx',\n",
       " 'live_genie_20220426_110231.xlsx',\n",
       " 'live_genie_20220427_110229.xlsx',\n",
       " 'live_genie_20220428_110201.xlsx',\n",
       " 'live_genie_20220429_110201.xlsx']"
      ]
     },
     "execution_count": 37,
     "metadata": {},
     "output_type": "execute_result"
    }
   ],
   "source": [
    "# 파일 이름들\n",
    "file_list = os.listdir()\n",
    "file_list"
   ]
  },
  {
   "cell_type": "code",
   "execution_count": 38,
   "metadata": {},
   "outputs": [],
   "source": [
    "# 전 주 파일 날짜\n",
    "start_date = '2022-04-18'\n",
    "end_date = '2022-04-22'\n",
    "mod_start_date = start_date.replace('-', '')\n",
    "mod_end_date = end_date.replace('-', '')"
   ]
  },
  {
   "cell_type": "markdown",
   "metadata": {},
   "source": [
    "## 새로운 날짜 설정"
   ]
  },
  {
   "cell_type": "code",
   "execution_count": 39,
   "metadata": {},
   "outputs": [],
   "source": [
    "# 비교할 파일 날짜\n",
    "new_date = '2022-04-25'\n",
    "mod_new_date = new_date.replace('-', '')"
   ]
  },
  {
   "cell_type": "code",
   "execution_count": 40,
   "metadata": {},
   "outputs": [
    {
     "data": {
      "text/plain": [
       "['live_genie_20220418_110238.xlsx',\n",
       " 'live_genie_20220419_110232.xlsx',\n",
       " 'live_genie_20220420_110217.xlsx',\n",
       " 'live_genie_20220421_110254.xlsx',\n",
       " 'live_genie_20220422_110235.xlsx']"
      ]
     },
     "execution_count": 40,
     "metadata": {},
     "output_type": "execute_result"
    }
   ],
   "source": [
    "for i, one_file in enumerate(file_list):\n",
    "    if mod_start_date == mod_end_date:\n",
    "        start_idx = i\n",
    "        end_idx = i\n",
    "    else:\n",
    "        if mod_start_date in one_file:\n",
    "            start_idx = i\n",
    "        elif mod_end_date in one_file:\n",
    "            end_idx = i\n",
    "mod_file_list = file_list[start_idx:end_idx+1]\n",
    "mod_file_list"
   ]
  },
  {
   "cell_type": "code",
   "execution_count": 41,
   "metadata": {},
   "outputs": [
    {
     "name": "stdout",
     "output_type": "stream",
     "text": [
      "<class 'pandas.core.frame.DataFrame'>\n",
      "RangeIndex: 500 entries, 0 to 499\n",
      "Data columns (total 5 columns):\n",
      " #   Column  Non-Null Count  Dtype \n",
      "---  ------  --------------  ----- \n",
      " 0   날짜      500 non-null    object\n",
      " 1   순위      500 non-null    int64 \n",
      " 2   곡       500 non-null    object\n",
      " 3   가수      500 non-null    object\n",
      " 4   앨범      500 non-null    object\n",
      "dtypes: int64(1), object(4)\n",
      "memory usage: 19.7+ KB\n"
     ]
    }
   ],
   "source": [
    "df = pd.DataFrame()\n",
    "for one in mod_file_list:\n",
    "    temp = pd.read_excel(one)\n",
    "    df = pd.concat([df, temp], ignore_index=True)\n",
    "df.info()"
   ]
  },
  {
   "cell_type": "code",
   "execution_count": 42,
   "metadata": {},
   "outputs": [
    {
     "data": {
      "text/plain": [
       "['봄여름가을겨울 (Still Life)', 'LOVE DIVE', 'TOMBOY', 'Feel My Rhythm', '사랑인가 봐']"
      ]
     },
     "execution_count": 42,
     "metadata": {},
     "output_type": "execute_result"
    }
   ],
   "source": [
    "title_list = df['곡'].unique()\n",
    "mod_title_list = [x.strip() for x in title_list]\n",
    "mod_title_list[:5]"
   ]
  },
  {
   "cell_type": "code",
   "execution_count": 43,
   "metadata": {},
   "outputs": [
    {
     "data": {
      "text/plain": [
       "'live_genie_20220425_110255.xlsx'"
      ]
     },
     "execution_count": 43,
     "metadata": {},
     "output_type": "execute_result"
    }
   ],
   "source": [
    "# 새로운 곡 목록\n",
    "for i, one_file in enumerate(file_list):\n",
    "    if mod_new_date in one_file:\n",
    "        new_idx = i\n",
    "new_file_name = file_list[new_idx]\n",
    "new_file_name"
   ]
  },
  {
   "cell_type": "code",
   "execution_count": 44,
   "metadata": {},
   "outputs": [
    {
     "name": "stdout",
     "output_type": "stream",
     "text": [
      "<class 'pandas.core.frame.DataFrame'>\n",
      "RangeIndex: 100 entries, 0 to 99\n",
      "Data columns (total 5 columns):\n",
      " #   Column  Non-Null Count  Dtype \n",
      "---  ------  --------------  ----- \n",
      " 0   날짜      100 non-null    object\n",
      " 1   순위      100 non-null    int64 \n",
      " 2   곡       100 non-null    object\n",
      " 3   가수      100 non-null    object\n",
      " 4   앨범      100 non-null    object\n",
      "dtypes: int64(1), object(4)\n",
      "memory usage: 4.0+ KB\n"
     ]
    }
   ],
   "source": [
    "new_df = pd.read_excel(new_file_name)\n",
    "new_df.info()"
   ]
  },
  {
   "cell_type": "code",
   "execution_count": 45,
   "metadata": {},
   "outputs": [],
   "source": [
    "new_title_list = new_df['곡'].unique()\n",
    "mod_new_title_list = [x.strip() for x in new_title_list]"
   ]
  },
  {
   "cell_type": "code",
   "execution_count": 46,
   "metadata": {},
   "outputs": [],
   "source": [
    "new_df['곡'] = mod_new_title_list"
   ]
  },
  {
   "cell_type": "code",
   "execution_count": 47,
   "metadata": {},
   "outputs": [
    {
     "data": {
      "text/plain": [
       "9"
      ]
     },
     "execution_count": 47,
     "metadata": {},
     "output_type": "execute_result"
    }
   ],
   "source": [
    "# 새로운 곡\n",
    "new_pop_title_list = []\n",
    "for one in mod_new_title_list:\n",
    "    if one not in mod_title_list:\n",
    "        new_pop_title_list.append(one)\n",
    "len(new_pop_title_list)"
   ]
  },
  {
   "cell_type": "code",
   "execution_count": 48,
   "metadata": {},
   "outputs": [
    {
     "data": {
      "text/plain": [
       "['나의 X에게',\n",
       " '살기 위해서',\n",
       " '자가격리 (Feat. Paloalto)',\n",
       " '봄 to 러브',\n",
       " '선물',\n",
       " '정이라고 하자 (Feat. 10CM)',\n",
       " '에잇 (Prod. & Feat. SUGA of BTS)',\n",
       " 'Every Second',\n",
       " \"That's Hilarious\"]"
      ]
     },
     "execution_count": 48,
     "metadata": {},
     "output_type": "execute_result"
    }
   ],
   "source": [
    "new_pop_title_list"
   ]
  },
  {
   "cell_type": "code",
   "execution_count": 49,
   "metadata": {},
   "outputs": [
    {
     "data": {
      "text/html": [
       "<div>\n",
       "<style scoped>\n",
       "    .dataframe tbody tr th:only-of-type {\n",
       "        vertical-align: middle;\n",
       "    }\n",
       "\n",
       "    .dataframe tbody tr th {\n",
       "        vertical-align: top;\n",
       "    }\n",
       "\n",
       "    .dataframe thead th {\n",
       "        text-align: right;\n",
       "    }\n",
       "</style>\n",
       "<table border=\"1\" class=\"dataframe\">\n",
       "  <thead>\n",
       "    <tr style=\"text-align: right;\">\n",
       "      <th></th>\n",
       "      <th>날짜</th>\n",
       "      <th>순위</th>\n",
       "      <th>곡</th>\n",
       "      <th>가수</th>\n",
       "      <th>앨범</th>\n",
       "    </tr>\n",
       "  </thead>\n",
       "  <tbody>\n",
       "    <tr>\n",
       "      <th>0</th>\n",
       "      <td>2022-04-25</td>\n",
       "      <td>14</td>\n",
       "      <td>나의 X에게</td>\n",
       "      <td>경서</td>\n",
       "      <td>나의 X에게</td>\n",
       "    </tr>\n",
       "    <tr>\n",
       "      <th>1</th>\n",
       "      <td>2022-04-25</td>\n",
       "      <td>31</td>\n",
       "      <td>살기 위해서</td>\n",
       "      <td>순순희</td>\n",
       "      <td>살기 위해서</td>\n",
       "    </tr>\n",
       "    <tr>\n",
       "      <th>2</th>\n",
       "      <td>2022-04-25</td>\n",
       "      <td>37</td>\n",
       "      <td>자가격리 (Feat. Paloalto)</td>\n",
       "      <td>릴러말즈 (Leellamarz) &amp; TOIL</td>\n",
       "      <td>자가격리</td>\n",
       "    </tr>\n",
       "    <tr>\n",
       "      <th>3</th>\n",
       "      <td>2022-04-25</td>\n",
       "      <td>72</td>\n",
       "      <td>봄 to 러브</td>\n",
       "      <td>10CM</td>\n",
       "      <td>우리들의 블루스 OST Part 3</td>\n",
       "    </tr>\n",
       "    <tr>\n",
       "      <th>4</th>\n",
       "      <td>2022-04-25</td>\n",
       "      <td>77</td>\n",
       "      <td>선물</td>\n",
       "      <td>멜로망스 (MeloMance)</td>\n",
       "      <td>Moonlight</td>\n",
       "    </tr>\n",
       "    <tr>\n",
       "      <th>5</th>\n",
       "      <td>2022-04-25</td>\n",
       "      <td>78</td>\n",
       "      <td>정이라고 하자 (Feat. 10CM)</td>\n",
       "      <td>BIG Naughty (서동현)</td>\n",
       "      <td>정이라고 하자</td>\n",
       "    </tr>\n",
       "    <tr>\n",
       "      <th>6</th>\n",
       "      <td>2022-04-25</td>\n",
       "      <td>91</td>\n",
       "      <td>에잇 (Prod. &amp; Feat. SUGA of BTS)</td>\n",
       "      <td>아이유 (IU)</td>\n",
       "      <td>에잇</td>\n",
       "    </tr>\n",
       "    <tr>\n",
       "      <th>7</th>\n",
       "      <td>2022-04-25</td>\n",
       "      <td>93</td>\n",
       "      <td>Every Second</td>\n",
       "      <td>Mina Okabe</td>\n",
       "      <td>Every Second</td>\n",
       "    </tr>\n",
       "    <tr>\n",
       "      <th>8</th>\n",
       "      <td>2022-04-25</td>\n",
       "      <td>96</td>\n",
       "      <td>That's Hilarious</td>\n",
       "      <td>Charlie Puth</td>\n",
       "      <td>That's Hilarious</td>\n",
       "    </tr>\n",
       "  </tbody>\n",
       "</table>\n",
       "</div>"
      ],
      "text/plain": [
       "           날짜  순위                               곡                        가수  \\\n",
       "0  2022-04-25  14                          나의 X에게                        경서   \n",
       "1  2022-04-25  31                          살기 위해서                       순순희   \n",
       "2  2022-04-25  37           자가격리 (Feat. Paloalto)  릴러말즈 (Leellamarz) & TOIL   \n",
       "3  2022-04-25  72                         봄 to 러브                      10CM   \n",
       "4  2022-04-25  77                              선물          멜로망스 (MeloMance)   \n",
       "5  2022-04-25  78            정이라고 하자 (Feat. 10CM)         BIG Naughty (서동현)   \n",
       "6  2022-04-25  91  에잇 (Prod. & Feat. SUGA of BTS)                  아이유 (IU)   \n",
       "7  2022-04-25  93                    Every Second                Mina Okabe   \n",
       "8  2022-04-25  96                That's Hilarious              Charlie Puth   \n",
       "\n",
       "                    앨범  \n",
       "0               나의 X에게  \n",
       "1               살기 위해서  \n",
       "2                 자가격리  \n",
       "3  우리들의 블루스 OST Part 3  \n",
       "4            Moonlight  \n",
       "5              정이라고 하자  \n",
       "6                   에잇  \n",
       "7         Every Second  \n",
       "8     That's Hilarious  "
      ]
     },
     "execution_count": 49,
     "metadata": {},
     "output_type": "execute_result"
    }
   ],
   "source": [
    "new_pop_df = pd.DataFrame()\n",
    "for one in new_pop_title_list:\n",
    "    temp = new_df[new_df['곡'] == one]\n",
    "    new_pop_df = pd.concat([new_pop_df, temp], ignore_index=True)\n",
    "new_pop_df"
   ]
  },
  {
   "cell_type": "markdown",
   "metadata": {},
   "source": [
    "# melon"
   ]
  },
  {
   "cell_type": "code",
   "execution_count": 52,
   "metadata": {},
   "outputs": [],
   "source": [
    "# 파일 불러오기\n",
    "folder_path = '/crawled_data/live_melon/'\n",
    "path = code_path + folder_path\n",
    "try:\n",
    "    os.chdir(path)\n",
    "except:\n",
    "    pass"
   ]
  },
  {
   "cell_type": "code",
   "execution_count": 53,
   "metadata": {},
   "outputs": [
    {
     "data": {
      "text/plain": [
       "['live_melon_20220405.xlsx',\n",
       " 'live_melon_20220406.xlsx',\n",
       " 'live_melon_20220407.xlsx',\n",
       " 'live_melon_20220412.xlsx',\n",
       " 'live_melon_20220413.xlsx',\n",
       " 'live_melon_20220413_153438.xlsx',\n",
       " 'live_melon_20220414_134807.xlsx',\n",
       " 'live_melon_20220415_180604.xlsx',\n",
       " 'live_melon_20220418_110427.xlsx',\n",
       " 'live_melon_20220419_110436.xlsx',\n",
       " 'live_melon_20220420_110419.xlsx',\n",
       " 'live_melon_20220421_110456.xlsx',\n",
       " 'live_melon_20220422_110438.xlsx',\n",
       " 'live_melon_20220425_110456.xlsx',\n",
       " 'live_melon_20220426_110432.xlsx',\n",
       " 'live_melon_20220427_110430.xlsx',\n",
       " 'live_melon_20220428_110400.xlsx',\n",
       " 'live_melon_20220429_110400.xlsx']"
      ]
     },
     "execution_count": 53,
     "metadata": {},
     "output_type": "execute_result"
    }
   ],
   "source": [
    "# 파일 이름들\n",
    "file_list = os.listdir()\n",
    "file_list"
   ]
  },
  {
   "cell_type": "code",
   "execution_count": 54,
   "metadata": {},
   "outputs": [],
   "source": [
    "# 전 주 파일 날짜\n",
    "start_date = '2022-04-18'\n",
    "end_date = '2022-04-22'\n",
    "mod_start_date = start_date.replace('-', '')\n",
    "mod_end_date = end_date.replace('-', '')"
   ]
  },
  {
   "cell_type": "markdown",
   "metadata": {},
   "source": [
    "## 새로운 날짜 설정"
   ]
  },
  {
   "cell_type": "code",
   "execution_count": 55,
   "metadata": {},
   "outputs": [],
   "source": [
    "# 비교할 파일 날짜\n",
    "new_date = '2022-04-25'\n",
    "mod_new_date = new_date.replace('-', '')"
   ]
  },
  {
   "cell_type": "code",
   "execution_count": 56,
   "metadata": {},
   "outputs": [
    {
     "data": {
      "text/plain": [
       "['live_melon_20220418_110427.xlsx',\n",
       " 'live_melon_20220419_110436.xlsx',\n",
       " 'live_melon_20220420_110419.xlsx',\n",
       " 'live_melon_20220421_110456.xlsx',\n",
       " 'live_melon_20220422_110438.xlsx']"
      ]
     },
     "execution_count": 56,
     "metadata": {},
     "output_type": "execute_result"
    }
   ],
   "source": [
    "for i, one_file in enumerate(file_list):\n",
    "    if mod_start_date == mod_end_date:\n",
    "        start_idx = i\n",
    "        end_idx = i\n",
    "    else:\n",
    "        if mod_start_date in one_file:\n",
    "            start_idx = i\n",
    "        elif mod_end_date in one_file:\n",
    "            end_idx = i\n",
    "mod_file_list = file_list[start_idx:end_idx+1]\n",
    "mod_file_list"
   ]
  },
  {
   "cell_type": "code",
   "execution_count": 57,
   "metadata": {},
   "outputs": [
    {
     "name": "stdout",
     "output_type": "stream",
     "text": [
      "<class 'pandas.core.frame.DataFrame'>\n",
      "RangeIndex: 500 entries, 0 to 499\n",
      "Data columns (total 5 columns):\n",
      " #   Column  Non-Null Count  Dtype \n",
      "---  ------  --------------  ----- \n",
      " 0   날짜      500 non-null    object\n",
      " 1   순위      500 non-null    int64 \n",
      " 2   곡       500 non-null    object\n",
      " 3   가수      500 non-null    object\n",
      " 4   앨범      500 non-null    object\n",
      "dtypes: int64(1), object(4)\n",
      "memory usage: 19.7+ KB\n"
     ]
    }
   ],
   "source": [
    "df = pd.DataFrame()\n",
    "for one in mod_file_list:\n",
    "    temp = pd.read_excel(one)\n",
    "    df = pd.concat([df, temp], ignore_index=True)\n",
    "df.info()"
   ]
  },
  {
   "cell_type": "code",
   "execution_count": 58,
   "metadata": {},
   "outputs": [
    {
     "data": {
      "text/plain": [
       "['봄여름가을겨울 (Still Life)', 'TOMBOY', 'LOVE DIVE', 'Feel My Rhythm', '사랑인가 봐']"
      ]
     },
     "execution_count": 58,
     "metadata": {},
     "output_type": "execute_result"
    }
   ],
   "source": [
    "title_list = df['곡'].unique()\n",
    "mod_title_list = [x.strip() for x in title_list]\n",
    "mod_title_list[:5]"
   ]
  },
  {
   "cell_type": "code",
   "execution_count": 59,
   "metadata": {},
   "outputs": [
    {
     "data": {
      "text/plain": [
       "'live_melon_20220425_110456.xlsx'"
      ]
     },
     "execution_count": 59,
     "metadata": {},
     "output_type": "execute_result"
    }
   ],
   "source": [
    "# 새로운 곡 목록\n",
    "for i, one_file in enumerate(file_list):\n",
    "    if mod_new_date in one_file:\n",
    "        new_idx = i\n",
    "new_file_name = file_list[new_idx]\n",
    "new_file_name"
   ]
  },
  {
   "cell_type": "code",
   "execution_count": 60,
   "metadata": {},
   "outputs": [
    {
     "name": "stdout",
     "output_type": "stream",
     "text": [
      "<class 'pandas.core.frame.DataFrame'>\n",
      "RangeIndex: 100 entries, 0 to 99\n",
      "Data columns (total 5 columns):\n",
      " #   Column  Non-Null Count  Dtype \n",
      "---  ------  --------------  ----- \n",
      " 0   날짜      100 non-null    object\n",
      " 1   순위      100 non-null    int64 \n",
      " 2   곡       100 non-null    object\n",
      " 3   가수      100 non-null    object\n",
      " 4   앨범      100 non-null    object\n",
      "dtypes: int64(1), object(4)\n",
      "memory usage: 4.0+ KB\n"
     ]
    }
   ],
   "source": [
    "new_df = pd.read_excel(new_file_name)\n",
    "new_df.info()"
   ]
  },
  {
   "cell_type": "code",
   "execution_count": 61,
   "metadata": {},
   "outputs": [],
   "source": [
    "new_title_list = new_df['곡'].unique()\n",
    "mod_new_title_list = [x.strip() for x in new_title_list]"
   ]
  },
  {
   "cell_type": "code",
   "execution_count": 62,
   "metadata": {},
   "outputs": [],
   "source": [
    "new_df['곡'] = mod_new_title_list"
   ]
  },
  {
   "cell_type": "code",
   "execution_count": 63,
   "metadata": {},
   "outputs": [
    {
     "data": {
      "text/plain": [
       "4"
      ]
     },
     "execution_count": 63,
     "metadata": {},
     "output_type": "execute_result"
    }
   ],
   "source": [
    "# 새로운 곡\n",
    "new_pop_title_list = []\n",
    "for one in mod_new_title_list:\n",
    "    if one not in mod_title_list:\n",
    "        new_pop_title_list.append(one)\n",
    "len(new_pop_title_list)"
   ]
  },
  {
   "cell_type": "code",
   "execution_count": 64,
   "metadata": {},
   "outputs": [
    {
     "data": {
      "text/plain": [
       "['나의 X에게', 'With You', '자가격리 (Feat. Paloalto)', '봄 to 러브']"
      ]
     },
     "execution_count": 64,
     "metadata": {},
     "output_type": "execute_result"
    }
   ],
   "source": [
    "new_pop_title_list"
   ]
  },
  {
   "cell_type": "code",
   "execution_count": 65,
   "metadata": {},
   "outputs": [
    {
     "data": {
      "text/html": [
       "<div>\n",
       "<style scoped>\n",
       "    .dataframe tbody tr th:only-of-type {\n",
       "        vertical-align: middle;\n",
       "    }\n",
       "\n",
       "    .dataframe tbody tr th {\n",
       "        vertical-align: top;\n",
       "    }\n",
       "\n",
       "    .dataframe thead th {\n",
       "        text-align: right;\n",
       "    }\n",
       "</style>\n",
       "<table border=\"1\" class=\"dataframe\">\n",
       "  <thead>\n",
       "    <tr style=\"text-align: right;\">\n",
       "      <th></th>\n",
       "      <th>날짜</th>\n",
       "      <th>순위</th>\n",
       "      <th>곡</th>\n",
       "      <th>가수</th>\n",
       "      <th>앨범</th>\n",
       "    </tr>\n",
       "  </thead>\n",
       "  <tbody>\n",
       "    <tr>\n",
       "      <th>0</th>\n",
       "      <td>2022-04-25</td>\n",
       "      <td>40</td>\n",
       "      <td>나의 X에게</td>\n",
       "      <td>경서</td>\n",
       "      <td>나의 X에게</td>\n",
       "    </tr>\n",
       "    <tr>\n",
       "      <th>1</th>\n",
       "      <td>2022-04-25</td>\n",
       "      <td>42</td>\n",
       "      <td>With You</td>\n",
       "      <td>지민</td>\n",
       "      <td>우리들의 블루스 OST Part 4</td>\n",
       "    </tr>\n",
       "    <tr>\n",
       "      <th>2</th>\n",
       "      <td>2022-04-25</td>\n",
       "      <td>77</td>\n",
       "      <td>자가격리 (Feat. Paloalto)</td>\n",
       "      <td>릴러말즈 (Leellamarz)</td>\n",
       "      <td>자가격리</td>\n",
       "    </tr>\n",
       "    <tr>\n",
       "      <th>3</th>\n",
       "      <td>2022-04-25</td>\n",
       "      <td>93</td>\n",
       "      <td>봄 to 러브</td>\n",
       "      <td>10CM</td>\n",
       "      <td>우리들의 블루스 OST Part 3</td>\n",
       "    </tr>\n",
       "  </tbody>\n",
       "</table>\n",
       "</div>"
      ],
      "text/plain": [
       "           날짜  순위                      곡                 가수  \\\n",
       "0  2022-04-25  40                 나의 X에게                 경서   \n",
       "1  2022-04-25  42               With You                 지민   \n",
       "2  2022-04-25  77  자가격리 (Feat. Paloalto)  릴러말즈 (Leellamarz)   \n",
       "3  2022-04-25  93                봄 to 러브               10CM   \n",
       "\n",
       "                    앨범  \n",
       "0               나의 X에게  \n",
       "1  우리들의 블루스 OST Part 4  \n",
       "2                 자가격리  \n",
       "3  우리들의 블루스 OST Part 3  "
      ]
     },
     "execution_count": 65,
     "metadata": {},
     "output_type": "execute_result"
    }
   ],
   "source": [
    "new_pop_df = pd.DataFrame()\n",
    "for one in new_pop_title_list:\n",
    "    temp = new_df[new_df['곡'] == one]\n",
    "    new_pop_df = pd.concat([new_pop_df, temp], ignore_index=True)\n",
    "new_pop_df"
   ]
  },
  {
   "cell_type": "markdown",
   "metadata": {},
   "source": [
    "# vibe"
   ]
  },
  {
   "cell_type": "code",
   "execution_count": 66,
   "metadata": {},
   "outputs": [],
   "source": [
    "# 파일 불러오기\n",
    "folder_path = '/crawled_data/live_vibe/'\n",
    "path = code_path + folder_path\n",
    "try:\n",
    "    os.chdir(path)\n",
    "except:\n",
    "    pass"
   ]
  },
  {
   "cell_type": "code",
   "execution_count": 67,
   "metadata": {},
   "outputs": [
    {
     "data": {
      "text/plain": [
       "['live_vibe_20220405.xlsx',\n",
       " 'live_vibe_20220406.xlsx',\n",
       " 'live_vibe_20220407.xlsx',\n",
       " 'live_vibe_20220412.xlsx',\n",
       " 'live_vibe_20220413.xlsx',\n",
       " 'live_vibe_20220413_154819.xlsx',\n",
       " 'live_vibe_20220414_134945.xlsx',\n",
       " 'live_vibe_20220415_180611.xlsx',\n",
       " 'live_vibe_20220418_111004.xlsx',\n",
       " 'live_vibe_20220419_110642.xlsx',\n",
       " 'live_vibe_20220420_110627.xlsx',\n",
       " 'live_vibe_20220421_110704.xlsx',\n",
       " 'live_vibe_20220422_110647.xlsx',\n",
       " 'live_vibe_20220425_110704.xlsx',\n",
       " 'live_vibe_20220426_110637.xlsx',\n",
       " 'live_vibe_20220427_110635.xlsx',\n",
       " 'live_vibe_20220428_110605.xlsx',\n",
       " 'live_vibe_20220429_110625.xlsx']"
      ]
     },
     "execution_count": 67,
     "metadata": {},
     "output_type": "execute_result"
    }
   ],
   "source": [
    "# 파일 이름들\n",
    "file_list = os.listdir()\n",
    "file_list"
   ]
  },
  {
   "cell_type": "code",
   "execution_count": 68,
   "metadata": {},
   "outputs": [],
   "source": [
    "# 전 주 파일 날짜\n",
    "start_date = '2022-04-18'\n",
    "end_date = '2022-04-22'\n",
    "mod_start_date = start_date.replace('-', '')\n",
    "mod_end_date = end_date.replace('-', '')"
   ]
  },
  {
   "cell_type": "markdown",
   "metadata": {},
   "source": [
    "## 새로운 날짜 설정"
   ]
  },
  {
   "cell_type": "code",
   "execution_count": 69,
   "metadata": {},
   "outputs": [],
   "source": [
    "# 비교할 파일 날짜\n",
    "new_date = '2022-04-25'\n",
    "mod_new_date = new_date.replace('-', '')"
   ]
  },
  {
   "cell_type": "code",
   "execution_count": 70,
   "metadata": {},
   "outputs": [
    {
     "data": {
      "text/plain": [
       "['live_vibe_20220418_111004.xlsx',\n",
       " 'live_vibe_20220419_110642.xlsx',\n",
       " 'live_vibe_20220420_110627.xlsx',\n",
       " 'live_vibe_20220421_110704.xlsx',\n",
       " 'live_vibe_20220422_110647.xlsx']"
      ]
     },
     "execution_count": 70,
     "metadata": {},
     "output_type": "execute_result"
    }
   ],
   "source": [
    "for i, one_file in enumerate(file_list):\n",
    "    if mod_start_date == mod_end_date:\n",
    "        start_idx = i\n",
    "        end_idx = i\n",
    "    else:\n",
    "        if mod_start_date in one_file:\n",
    "            start_idx = i\n",
    "        elif mod_end_date in one_file:\n",
    "            end_idx = i\n",
    "mod_file_list = file_list[start_idx:end_idx+1]\n",
    "mod_file_list"
   ]
  },
  {
   "cell_type": "code",
   "execution_count": 71,
   "metadata": {},
   "outputs": [
    {
     "name": "stdout",
     "output_type": "stream",
     "text": [
      "<class 'pandas.core.frame.DataFrame'>\n",
      "RangeIndex: 500 entries, 0 to 499\n",
      "Data columns (total 5 columns):\n",
      " #   Column  Non-Null Count  Dtype \n",
      "---  ------  --------------  ----- \n",
      " 0   날짜      500 non-null    object\n",
      " 1   순위      500 non-null    int64 \n",
      " 2   곡       500 non-null    object\n",
      " 3   가수      500 non-null    object\n",
      " 4   앨범      500 non-null    object\n",
      "dtypes: int64(1), object(4)\n",
      "memory usage: 19.7+ KB\n"
     ]
    }
   ],
   "source": [
    "df = pd.DataFrame()\n",
    "for one in mod_file_list:\n",
    "    temp = pd.read_excel(one)\n",
    "    df = pd.concat([df, temp], ignore_index=True)\n",
    "df.info()"
   ]
  },
  {
   "cell_type": "code",
   "execution_count": 72,
   "metadata": {},
   "outputs": [
    {
     "data": {
      "text/plain": [
       "['봄여름가을겨울 (Still Life)',\n",
       " 'TOMBOY',\n",
       " 'LOVE DIVE',\n",
       " 'Feel My Rhythm',\n",
       " 'GANADARA (Feat. 아이유)']"
      ]
     },
     "execution_count": 72,
     "metadata": {},
     "output_type": "execute_result"
    }
   ],
   "source": [
    "title_list = df['곡'].unique()\n",
    "mod_title_list = [x.strip() for x in title_list]\n",
    "mod_title_list[:5]"
   ]
  },
  {
   "cell_type": "code",
   "execution_count": 73,
   "metadata": {},
   "outputs": [
    {
     "data": {
      "text/plain": [
       "'live_vibe_20220425_110704.xlsx'"
      ]
     },
     "execution_count": 73,
     "metadata": {},
     "output_type": "execute_result"
    }
   ],
   "source": [
    "# 새로운 곡 목록\n",
    "for i, one_file in enumerate(file_list):\n",
    "    if mod_new_date in one_file:\n",
    "        new_idx = i\n",
    "new_file_name = file_list[new_idx]\n",
    "new_file_name"
   ]
  },
  {
   "cell_type": "code",
   "execution_count": 74,
   "metadata": {},
   "outputs": [
    {
     "name": "stdout",
     "output_type": "stream",
     "text": [
      "<class 'pandas.core.frame.DataFrame'>\n",
      "RangeIndex: 100 entries, 0 to 99\n",
      "Data columns (total 5 columns):\n",
      " #   Column  Non-Null Count  Dtype \n",
      "---  ------  --------------  ----- \n",
      " 0   날짜      100 non-null    object\n",
      " 1   순위      100 non-null    int64 \n",
      " 2   곡       100 non-null    object\n",
      " 3   가수      100 non-null    object\n",
      " 4   앨범      100 non-null    object\n",
      "dtypes: int64(1), object(4)\n",
      "memory usage: 4.0+ KB\n"
     ]
    }
   ],
   "source": [
    "new_df = pd.read_excel(new_file_name)\n",
    "new_df.info()"
   ]
  },
  {
   "cell_type": "code",
   "execution_count": 75,
   "metadata": {},
   "outputs": [],
   "source": [
    "new_title_list = new_df['곡'].unique()\n",
    "mod_new_title_list = [x.strip() for x in new_title_list]"
   ]
  },
  {
   "cell_type": "code",
   "execution_count": 76,
   "metadata": {},
   "outputs": [],
   "source": [
    "new_df['곡'] = mod_new_title_list"
   ]
  },
  {
   "cell_type": "code",
   "execution_count": 77,
   "metadata": {},
   "outputs": [
    {
     "data": {
      "text/plain": [
       "1"
      ]
     },
     "execution_count": 77,
     "metadata": {},
     "output_type": "execute_result"
    }
   ],
   "source": [
    "# 새로운 곡\n",
    "new_pop_title_list = []\n",
    "for one in mod_new_title_list:\n",
    "    if one not in mod_title_list:\n",
    "        new_pop_title_list.append(one)\n",
    "len(new_pop_title_list)"
   ]
  },
  {
   "cell_type": "code",
   "execution_count": 78,
   "metadata": {},
   "outputs": [
    {
     "data": {
      "text/plain": [
       "['정이라고 하자 (Feat. 10CM)']"
      ]
     },
     "execution_count": 78,
     "metadata": {},
     "output_type": "execute_result"
    }
   ],
   "source": [
    "new_pop_title_list"
   ]
  },
  {
   "cell_type": "code",
   "execution_count": 79,
   "metadata": {},
   "outputs": [
    {
     "data": {
      "text/html": [
       "<div>\n",
       "<style scoped>\n",
       "    .dataframe tbody tr th:only-of-type {\n",
       "        vertical-align: middle;\n",
       "    }\n",
       "\n",
       "    .dataframe tbody tr th {\n",
       "        vertical-align: top;\n",
       "    }\n",
       "\n",
       "    .dataframe thead th {\n",
       "        text-align: right;\n",
       "    }\n",
       "</style>\n",
       "<table border=\"1\" class=\"dataframe\">\n",
       "  <thead>\n",
       "    <tr style=\"text-align: right;\">\n",
       "      <th></th>\n",
       "      <th>날짜</th>\n",
       "      <th>순위</th>\n",
       "      <th>곡</th>\n",
       "      <th>가수</th>\n",
       "      <th>앨범</th>\n",
       "    </tr>\n",
       "  </thead>\n",
       "  <tbody>\n",
       "    <tr>\n",
       "      <th>0</th>\n",
       "      <td>2022-04-25</td>\n",
       "      <td>41</td>\n",
       "      <td>정이라고 하자 (Feat. 10CM)</td>\n",
       "      <td>BIG Naughty (서동현)</td>\n",
       "      <td>정이라고 하자</td>\n",
       "    </tr>\n",
       "  </tbody>\n",
       "</table>\n",
       "</div>"
      ],
      "text/plain": [
       "           날짜  순위                     곡                 가수       앨범\n",
       "0  2022-04-25  41  정이라고 하자 (Feat. 10CM)  BIG Naughty (서동현)  정이라고 하자"
      ]
     },
     "execution_count": 79,
     "metadata": {},
     "output_type": "execute_result"
    }
   ],
   "source": [
    "new_pop_df = pd.DataFrame()\n",
    "for one in new_pop_title_list:\n",
    "    temp = new_df[new_df['곡'] == one]\n",
    "    new_pop_df = pd.concat([new_pop_df, temp], ignore_index=True)\n",
    "new_pop_df"
   ]
  },
  {
   "cell_type": "markdown",
   "metadata": {},
   "source": [
    "# 코드 마지막"
   ]
  }
 ],
 "metadata": {
  "interpreter": {
   "hash": "b3ba2566441a7c06988d0923437866b63cedc61552a5af99d1f4fb67d367b25f"
  },
  "kernelspec": {
   "display_name": "Python 3.9.7 ('base')",
   "language": "python",
   "name": "python3"
  },
  "language_info": {
   "codemirror_mode": {
    "name": "ipython",
    "version": 3
   },
   "file_extension": ".py",
   "mimetype": "text/x-python",
   "name": "python",
   "nbconvert_exporter": "python",
   "pygments_lexer": "ipython3",
   "version": "3.9.7"
  },
  "orig_nbformat": 4
 },
 "nbformat": 4,
 "nbformat_minor": 2
}
