{
 "cells": [
  {
   "cell_type": "markdown",
   "metadata": {},
   "source": [
    "# Soribada 1-3월 일간"
   ]
  },
  {
   "cell_type": "markdown",
   "metadata": {},
   "source": [
    "## 라이브러리 로드"
   ]
  },
  {
   "cell_type": "code",
   "execution_count": 14,
   "metadata": {},
   "outputs": [],
   "source": [
    "from bs4 import BeautifulSoup as bs\n",
    "import pandas as pd\n",
    "import os, time, random\n",
    "from selenium import webdriver\n",
    "import chromedriver_autoinstaller as ca"
   ]
  },
  {
   "cell_type": "markdown",
   "metadata": {},
   "source": [
    "## 준비"
   ]
  },
  {
   "cell_type": "markdown",
   "metadata": {},
   "source": [
    "### 현재 경로 확인"
   ]
  },
  {
   "cell_type": "code",
   "execution_count": 3,
   "metadata": {},
   "outputs": [
    {
     "data": {
      "text/plain": [
       "'c:/data/Wantreez/Crawling/music'"
      ]
     },
     "execution_count": 3,
     "metadata": {},
     "output_type": "execute_result"
    }
   ],
   "source": [
    "# 현재 경로 확인\n",
    "code_path = os.getcwd().replace('\\\\', '/')\n",
    "code_path"
   ]
  },
  {
   "cell_type": "markdown",
   "metadata": {},
   "source": [
    "### 폴더 생성"
   ]
  },
  {
   "cell_type": "code",
   "execution_count": 4,
   "metadata": {},
   "outputs": [],
   "source": [
    "# 파일 저장할 폴더 생성\n",
    "crawled_folder_path = code_path + '/crawled_data/day_soribada/'\n",
    "os.makedirs(crawled_folder_path, exist_ok=True)"
   ]
  },
  {
   "cell_type": "markdown",
   "metadata": {},
   "source": [
    "### 크롬 드라이브 버전 확인"
   ]
  },
  {
   "cell_type": "code",
   "execution_count": 5,
   "metadata": {},
   "outputs": [
    {
     "data": {
      "text/plain": [
       "'100'"
      ]
     },
     "execution_count": 5,
     "metadata": {},
     "output_type": "execute_result"
    }
   ],
   "source": [
    "# 현재 크롬 버전 확인\n",
    "chrome_ver = ca.get_chrome_version().split('.')[0]\n",
    "chrome_ver"
   ]
  },
  {
   "cell_type": "code",
   "execution_count": 6,
   "metadata": {},
   "outputs": [
    {
     "name": "stderr",
     "output_type": "stream",
     "text": [
      "C:\\Users\\kbjung\\AppData\\Local\\Temp/ipykernel_1532/231581722.py:3: DeprecationWarning: executable_path has been deprecated, please pass in a Service object\n",
      "  driver = webdriver.Chrome(code_path + f'/{chrome_ver}/' + 'chromedriver.exe')\n"
     ]
    }
   ],
   "source": [
    "# 크롬 드라이버 확인 및 설치\n",
    "try:\n",
    "    driver = webdriver.Chrome(code_path + f'/{chrome_ver}/' + 'chromedriver.exe')\n",
    "except:\n",
    "    ca.install(True)\n",
    "    driver = webdriver.Chrome(code_path + f'/{chrome_ver}/' + 'chromedriver.exe')"
   ]
  },
  {
   "cell_type": "markdown",
   "metadata": {},
   "source": [
    "## 페이지 접속"
   ]
  },
  {
   "cell_type": "code",
   "execution_count": 7,
   "metadata": {},
   "outputs": [],
   "source": [
    "# 페이지 접속\n",
    "url = 'https://www.soribada.com/music/chart/daily'\n",
    "driver.get(url)\n",
    "driver.implicitly_wait(3)\n",
    "driver.maximize_window()"
   ]
  },
  {
   "cell_type": "markdown",
   "metadata": {},
   "source": [
    "### 링크 만들기"
   ]
  },
  {
   "cell_type": "code",
   "execution_count": 12,
   "metadata": {},
   "outputs": [
    {
     "data": {
      "text/plain": [
       "90"
      ]
     },
     "execution_count": 12,
     "metadata": {},
     "output_type": "execute_result"
    }
   ],
   "source": [
    "# 날짜\n",
    "dates = pd.date_range('2022-01-01', '2022-03-31').to_list()\n",
    "# 링크용 날짜\n",
    "link_date_list = []\n",
    "for one in dates:\n",
    "    temp = 'https://www.soribada.com/music/chart/daily/' + str(one).split(' ')[0].replace('-', '')\n",
    "    link_date_list.append(temp)\n",
    "len(link_date_list)"
   ]
  },
  {
   "cell_type": "code",
   "execution_count": 13,
   "metadata": {},
   "outputs": [
    {
     "data": {
      "text/plain": [
       "['https://www.soribada.com/music/chart/daily/20220101',\n",
       " 'https://www.soribada.com/music/chart/daily/20220102',\n",
       " 'https://www.soribada.com/music/chart/daily/20220103',\n",
       " 'https://www.soribada.com/music/chart/daily/20220104',\n",
       " 'https://www.soribada.com/music/chart/daily/20220105']"
      ]
     },
     "execution_count": 13,
     "metadata": {},
     "output_type": "execute_result"
    }
   ],
   "source": [
    "link_date_list[:5]"
   ]
  },
  {
   "cell_type": "code",
   "execution_count": 95,
   "metadata": {},
   "outputs": [
    {
     "data": {
      "text/plain": [
       "90"
      ]
     },
     "execution_count": 95,
     "metadata": {},
     "output_type": "execute_result"
    }
   ],
   "source": [
    "# 일간 랭크용 날짜\n",
    "rank_date_list = []\n",
    "for one in dates:\n",
    "    temp = str(one).split(' ')[0]\n",
    "    rank_date_list.append(temp)\n",
    "len(rank_date_list)"
   ]
  },
  {
   "cell_type": "code",
   "execution_count": 92,
   "metadata": {},
   "outputs": [
    {
     "name": "stdout",
     "output_type": "stream",
     "text": [
      "day_soribada_20220101.xlsx 파일 생성 완료\n",
      "day_soribada_20220102.xlsx 파일 생성 완료\n",
      "day_soribada_20220103.xlsx 파일 생성 완료\n",
      "day_soribada_20220104.xlsx 파일 생성 완료\n",
      "day_soribada_20220105.xlsx 파일 생성 완료\n",
      "day_soribada_20220106.xlsx 파일 생성 완료\n",
      "day_soribada_20220107.xlsx 파일 생성 완료\n",
      "day_soribada_20220108.xlsx 파일 생성 완료\n",
      "day_soribada_20220109.xlsx 파일 생성 완료\n",
      "day_soribada_20220110.xlsx 파일 생성 완료\n",
      "day_soribada_20220111.xlsx 파일 생성 완료\n",
      "day_soribada_20220112.xlsx 파일 생성 완료\n",
      "day_soribada_20220113.xlsx 파일 생성 완료\n",
      "day_soribada_20220114.xlsx 파일 생성 완료\n",
      "day_soribada_20220115.xlsx 파일 생성 완료\n",
      "day_soribada_20220116.xlsx 파일 생성 완료\n",
      "day_soribada_20220117.xlsx 파일 생성 완료\n",
      "day_soribada_20220118.xlsx 파일 생성 완료\n",
      "day_soribada_20220119.xlsx 파일 생성 완료\n",
      "day_soribada_20220120.xlsx 파일 생성 완료\n",
      "day_soribada_20220121.xlsx 파일 생성 완료\n",
      "day_soribada_20220122.xlsx 파일 생성 완료\n",
      "day_soribada_20220123.xlsx 파일 생성 완료\n",
      "day_soribada_20220124.xlsx 파일 생성 완료\n",
      "day_soribada_20220125.xlsx 파일 생성 완료\n",
      "day_soribada_20220126.xlsx 파일 생성 완료\n",
      "day_soribada_20220127.xlsx 파일 생성 완료\n",
      "day_soribada_20220128.xlsx 파일 생성 완료\n",
      "day_soribada_20220129.xlsx 파일 생성 완료\n",
      "day_soribada_20220130.xlsx 파일 생성 완료\n",
      "day_soribada_20220131.xlsx 파일 생성 완료\n",
      "day_soribada_20220201.xlsx 파일 생성 완료\n",
      "day_soribada_20220202.xlsx 파일 생성 완료\n",
      "day_soribada_20220203.xlsx 파일 생성 완료\n",
      "day_soribada_20220204.xlsx 파일 생성 완료\n",
      "day_soribada_20220205.xlsx 파일 생성 완료\n",
      "day_soribada_20220206.xlsx 파일 생성 완료\n",
      "day_soribada_20220207.xlsx 파일 생성 완료\n",
      "day_soribada_20220208.xlsx 파일 생성 완료\n",
      "day_soribada_20220209.xlsx 파일 생성 완료\n",
      "day_soribada_20220210.xlsx 파일 생성 완료\n",
      "day_soribada_20220211.xlsx 파일 생성 완료\n",
      "day_soribada_20220212.xlsx 파일 생성 완료\n",
      "day_soribada_20220213.xlsx 파일 생성 완료\n",
      "day_soribada_20220214.xlsx 파일 생성 완료\n",
      "day_soribada_20220215.xlsx 파일 생성 완료\n",
      "day_soribada_20220217.xlsx 파일 생성 완료\n",
      "day_soribada_20220218.xlsx 파일 생성 완료\n",
      "day_soribada_20220219.xlsx 파일 생성 완료\n",
      "day_soribada_20220220.xlsx 파일 생성 완료\n",
      "day_soribada_20220221.xlsx 파일 생성 완료\n",
      "day_soribada_20220222.xlsx 파일 생성 완료\n",
      "day_soribada_20220223.xlsx 파일 생성 완료\n",
      "day_soribada_20220224.xlsx 파일 생성 완료\n",
      "day_soribada_20220225.xlsx 파일 생성 완료\n",
      "day_soribada_20220226.xlsx 파일 생성 완료\n",
      "day_soribada_20220227.xlsx 파일 생성 완료\n",
      "day_soribada_20220228.xlsx 파일 생성 완료\n",
      "day_soribada_20220301.xlsx 파일 생성 완료\n",
      "day_soribada_20220302.xlsx 파일 생성 완료\n",
      "day_soribada_20220303.xlsx 파일 생성 완료\n",
      "day_soribada_20220304.xlsx 파일 생성 완료\n",
      "day_soribada_20220305.xlsx 파일 생성 완료\n",
      "day_soribada_20220306.xlsx 파일 생성 완료\n",
      "day_soribada_20220307.xlsx 파일 생성 완료\n",
      "day_soribada_20220308.xlsx 파일 생성 완료\n",
      "day_soribada_20220309.xlsx 파일 생성 완료\n",
      "day_soribada_20220310.xlsx 파일 생성 완료\n",
      "day_soribada_20220311.xlsx 파일 생성 완료\n",
      "day_soribada_20220312.xlsx 파일 생성 완료\n",
      "day_soribada_20220313.xlsx 파일 생성 완료\n",
      "day_soribada_20220314.xlsx 파일 생성 완료\n",
      "day_soribada_20220316.xlsx 파일 생성 완료\n",
      "day_soribada_20220317.xlsx 파일 생성 완료\n",
      "day_soribada_20220318.xlsx 파일 생성 완료\n",
      "day_soribada_20220319.xlsx 파일 생성 완료\n",
      "day_soribada_20220320.xlsx 파일 생성 완료\n",
      "day_soribada_20220321.xlsx 파일 생성 완료\n",
      "day_soribada_20220322.xlsx 파일 생성 완료\n",
      "day_soribada_20220323.xlsx 파일 생성 완료\n",
      "day_soribada_20220324.xlsx 파일 생성 완료\n",
      "day_soribada_20220325.xlsx 파일 생성 완료\n",
      "day_soribada_20220326.xlsx 파일 생성 완료\n",
      "day_soribada_20220327.xlsx 파일 생성 완료\n",
      "day_soribada_20220328.xlsx 파일 생성 완료\n",
      "day_soribada_20220331.xlsx 파일 생성 완료\n"
     ]
    }
   ],
   "source": [
    "for i in range(len(link_date_list)):\n",
    "    try:\n",
    "        # 페이지 접속\n",
    "        driver.get(link_date_list[i])\n",
    "        driver.implicitly_wait(3)\n",
    "        time.sleep( random.uniform(1, 1.5) )\n",
    "\n",
    "        # 수프 담기\n",
    "        soup = bs(driver.page_source, 'lxml')\n",
    "\n",
    "        # 리스트\n",
    "        li_soup = soup.find_all('li', 'listen')\n",
    "\n",
    "        # 날짜\n",
    "        repeat_rank_date_list = []\n",
    "        for j in range(100):\n",
    "            repeat_rank_date_list.append(rank_date_list[i])\n",
    "        \n",
    "        # rank\n",
    "        # rank\n",
    "        rank_list = []\n",
    "        for k in range(1, 101):\n",
    "            rank_list.append(k)\n",
    "\n",
    "        song_title_list = []\n",
    "        artist_list = []\n",
    "        album_list = []\n",
    "        for one in li_soup:\n",
    "            # song title\n",
    "            song_title = one.find('span', 'song-title').text\n",
    "            song_title_list.append(song_title)\n",
    "\n",
    "            # artist\n",
    "            artist = one.find('div', 'list-area2').find_all('span')[6].text.strip()\n",
    "            artist_list.append(artist)\n",
    "\n",
    "            # album\n",
    "            album = one.find('span', 'link-type2 album-title').text\n",
    "            album_list.append(album)\n",
    "        \n",
    "        # df\n",
    "        dict = {'날짜':repeat_rank_date_list, '순위':rank_list, '곡':song_title_list, '가수':artist_list, '앨범':album_list}\n",
    "        df = pd.DataFrame(dict)\n",
    "\n",
    "        # make excel\n",
    "        date = str(dates[i]).split(' ')[0].replace('-', '')\n",
    "        file_name = f'day_soribada_{date}.xlsx'\n",
    "        df.to_excel(crawled_folder_path + file_name, index=False)\n",
    "\n",
    "        print(f\"{file_name} 파일 생성 완료\")\n",
    "        \n",
    "    except:\n",
    "        pass"
   ]
  },
  {
   "cell_type": "markdown",
   "metadata": {},
   "source": [
    "# 코드 마지막"
   ]
  }
 ],
 "metadata": {
  "interpreter": {
   "hash": "513dc2e41d739bb2c947903f3c0bbf636d03aa53ab50e61c694a27481c81805e"
  },
  "kernelspec": {
   "display_name": "Python 3.8.8 ('base')",
   "language": "python",
   "name": "python3"
  },
  "language_info": {
   "codemirror_mode": {
    "name": "ipython",
    "version": 3
   },
   "file_extension": ".py",
   "mimetype": "text/x-python",
   "name": "python",
   "nbconvert_exporter": "python",
   "pygments_lexer": "ipython3",
   "version": "3.9.7"
  },
  "orig_nbformat": 4
 },
 "nbformat": 4,
 "nbformat_minor": 2
}
