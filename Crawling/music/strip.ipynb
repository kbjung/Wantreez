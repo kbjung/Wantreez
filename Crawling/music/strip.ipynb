{
 "cells": [
  {
   "cell_type": "markdown",
   "metadata": {},
   "source": [
    "# 실시간 순위 데이터 전처리\n",
    "* 곡, 가수, 앨범 명 앞뒤로 빈칸 없애기\n",
    "* flo"
   ]
  },
  {
   "cell_type": "code",
   "execution_count": 2,
   "metadata": {},
   "outputs": [],
   "source": [
    "import pandas as pd\n",
    "import os"
   ]
  },
  {
   "cell_type": "code",
   "execution_count": 3,
   "metadata": {},
   "outputs": [
    {
     "data": {
      "text/plain": [
       "'c:/data/Wantreez/Crawling/music'"
      ]
     },
     "execution_count": 3,
     "metadata": {},
     "output_type": "execute_result"
    }
   ],
   "source": [
    "path = os.getcwd().replace('\\\\', '/')\n",
    "path"
   ]
  },
  {
   "cell_type": "code",
   "execution_count": 4,
   "metadata": {},
   "outputs": [],
   "source": [
    "folder = '/crawled_data/live_flo/'\n",
    "try:\n",
    "    os.chdir(path + folder)\n",
    "except:\n",
    "    pass"
   ]
  },
  {
   "cell_type": "code",
   "execution_count": 5,
   "metadata": {},
   "outputs": [
    {
     "data": {
      "text/plain": [
       "['live_flo_20220405.xlsx',\n",
       " 'live_flo_20220406.xlsx',\n",
       " 'live_flo_20220407.xlsx',\n",
       " 'live_flo_20220412.xlsx',\n",
       " 'live_flo_20220413.xlsx',\n",
       " 'live_flo_20220414_110035.xlsx',\n",
       " 'live_flo_20220415_110026.xlsx',\n",
       " 'live_flo_20220418_110024.xlsx',\n",
       " 'live_flo_20220419_110028.xlsx',\n",
       " 'live_flo_20220420_110013.xlsx',\n",
       " 'live_flo_20220421_110051.xlsx',\n",
       " 'live_flo_20220422_110026.xlsx',\n",
       " 'live_flo_20220423_110023.xlsx',\n",
       " 'live_flo_20220425_110022.xlsx',\n",
       " 'live_flo_20220426_110029.xlsx',\n",
       " 'live_flo_20220427_110027.xlsx',\n",
       " 'live_flo_20220428_110009.xlsx',\n",
       " 'live_flo_20220429_110008.xlsx',\n",
       " 'live_flo_20220430_110005.xlsx',\n",
       " 'live_flo_20220501_110005.xlsx',\n",
       " 'live_flo_20220502_110110.xlsx',\n",
       " 'live_flo_20220502_154533.xlsx',\n",
       " 'live_flo_20220503_110005.xlsx']"
      ]
     },
     "execution_count": 5,
     "metadata": {},
     "output_type": "execute_result"
    }
   ],
   "source": [
    "file_list = os.listdir()\n",
    "file_list"
   ]
  },
  {
   "cell_type": "code",
   "execution_count": 6,
   "metadata": {},
   "outputs": [],
   "source": [
    "for one in file_list:\n",
    "    temp = pd.read_excel(one)\n",
    "    temp['곡'] = temp['곡'].str.strip()\n",
    "    temp['가수'] = temp['가수'].str.strip()\n",
    "    temp['앨범'] = temp['앨범'].str.strip()\n",
    "    temp.to_excel(one, index=False, encoding='utf-8')"
   ]
  },
  {
   "cell_type": "markdown",
   "metadata": {},
   "source": [
    "# 코드 마지막"
   ]
  }
 ],
 "metadata": {
  "interpreter": {
   "hash": "b3ba2566441a7c06988d0923437866b63cedc61552a5af99d1f4fb67d367b25f"
  },
  "kernelspec": {
   "display_name": "Python 3.9.7 ('base')",
   "language": "python",
   "name": "python3"
  },
  "language_info": {
   "codemirror_mode": {
    "name": "ipython",
    "version": 3
   },
   "file_extension": ".py",
   "mimetype": "text/x-python",
   "name": "python",
   "nbconvert_exporter": "python",
   "pygments_lexer": "ipython3",
   "version": "3.9.7"
  },
  "orig_nbformat": 4
 },
 "nbformat": 4,
 "nbformat_minor": 2
}
