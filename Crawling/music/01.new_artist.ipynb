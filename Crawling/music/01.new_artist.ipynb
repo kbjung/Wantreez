{
 "cells": [
  {
   "cell_type": "markdown",
   "metadata": {},
   "source": [
    "# 새로 집입한 가수 확인\n",
    "* 전 실시간 음원 파일을 가져와 곡을 확인\n",
    "* 해당일 실시간 음원 파일의 곡과 비교하여 새로 생긴 곡만 추출"
   ]
  },
  {
   "cell_type": "markdown",
   "metadata": {},
   "source": [
    "## 라이브러리"
   ]
  },
  {
   "cell_type": "code",
   "execution_count": 19,
   "metadata": {},
   "outputs": [],
   "source": [
    "import pandas as pd\n",
    "import os"
   ]
  },
  {
   "cell_type": "markdown",
   "metadata": {},
   "source": [
    "## 새로운 가수 출력하는 함수"
   ]
  },
  {
   "cell_type": "code",
   "execution_count": 20,
   "metadata": {},
   "outputs": [],
   "source": [
    "def new_artist(start, end, new):\n",
    "    site_list = ['bugs', 'flo', 'genie', 'melon', 'vibe']\n",
    "    for one_site in site_list:\n",
    "        # 음원 사이트 설정\n",
    "        # bugs, flo, genie, melon, vibe 중 택1.\n",
    "        site_name = one_site\n",
    "\n",
    "        # 현재 작업 경로\n",
    "        path = 'c:/data/Wantreez/Crawling/music/'\n",
    "        # 매칭 파일 저장 경로, 폴더 생성\n",
    "        folder_path = f'/crawled_data/match_{site_name}/'\n",
    "        created_folder_path = path + folder_path\n",
    "        os.makedirs(created_folder_path, exist_ok=True)\n",
    "\n",
    "        # 실시간 순위 파일 위치로 작업위치 이동\n",
    "        file_folder_path = f'/crawled_data/live_{site_name}/'\n",
    "        file_path = path + file_folder_path\n",
    "        try:\n",
    "            os.chdir(file_path)\n",
    "        except:\n",
    "            pass\n",
    "\n",
    "        # 파일 이름들\n",
    "        file_list = os.listdir()\n",
    "        \n",
    "        # 가져올 날짜 설정\n",
    "        start_date = start\n",
    "        end_date = end\n",
    "        \n",
    "        # 새 파일 날짜 설정\n",
    "        new_date = new\n",
    "        mod_new_date = new_date.replace('-', '')\n",
    "        # 가져올 날짜 리스트\n",
    "        date_df = [str(x).split(' ')[0].replace('-', '') for x in pd.date_range(start_date, end_date).tolist()]\n",
    "        # 가져올 파일 리스트 \n",
    "        idx_list = []\n",
    "        for i, one_file in enumerate(file_list):\n",
    "            for one in date_df:\n",
    "                if one in one_file:\n",
    "                    idx = i\n",
    "                    idx_list.append(idx)\n",
    "        min_idx = min(idx_list)\n",
    "        max_idx = max(idx_list)\n",
    "        mod_file_list = file_list[min_idx:max_idx+1]\n",
    "        # 시작 날짜와 끝 날짜 사이의 데이터 가져와 df로 만들기\n",
    "        df = pd.DataFrame()\n",
    "        for one in mod_file_list:\n",
    "            temp = pd.read_excel(one)\n",
    "            df = pd.concat([df, temp], ignore_index=True)\n",
    "        # 가수 유니크 값\n",
    "        artist_list = df['가수'].unique()\n",
    "        mod_artist_list = [x.strip() for x in artist_list]\n",
    "        # 시작 날짜와 끝 날짜 사이의 가수 유니크 df로 만들기\n",
    "        dict = {'가수':mod_artist_list}\n",
    "        artist_df = pd.DataFrame(dict)\n",
    "        artist_df.to_excel(f'{created_folder_path}{site_name}_{start_date}_{end_date}.xlsx', index=False)\n",
    "        print(f'{site_name}_{start_date}_{end_date}.xlsx' + ' 출력 완료.')\n",
    "\n",
    "        # 새로운 실시간 음원 파일 불러오기\n",
    "        for i, one_file in enumerate(file_list):\n",
    "            if mod_new_date in one_file:\n",
    "                new_idx = i\n",
    "        new_file_name = file_list[new_idx]\n",
    "        new_df = pd.read_excel(new_file_name)\n",
    "        new_artist_list = new_df['가수'].unique()\n",
    "        mod_new_artist_list = [x.strip() for x in new_artist_list]\n",
    "        # 새로운 가수\n",
    "        new_pop_artist_list = []\n",
    "        for one in mod_new_artist_list:\n",
    "            if one not in mod_artist_list:\n",
    "                new_pop_artist_list.append(one)\n",
    "        # 새로운 가수 df\n",
    "        dict = {'새로운_가수':new_pop_artist_list}\n",
    "        new_in_artist = pd.DataFrame(dict)\n",
    "\n",
    "        # 파일로 출력\n",
    "        file_name = f'{site_name}_new_in_artists_{new_date}.xlsx'\n",
    "        new_in_artist.to_excel(created_folder_path + file_name, index=False)\n",
    "        print(f'{file_name} 출력 완료.')"
   ]
  },
  {
   "cell_type": "markdown",
   "metadata": {},
   "source": [
    "## 새로운 가수 확인\n",
    "* 매일 새로운 날짜만 변경하여 실행"
   ]
  },
  {
   "cell_type": "code",
   "execution_count": 23,
   "metadata": {},
   "outputs": [
    {
     "name": "stdout",
     "output_type": "stream",
     "text": [
      "bugs_2022-04-18_2022-05-16.xlsx 출력 완료.\n",
      "bugs_new_in_artists_2022-05-17.xlsx 출력 완료.\n",
      "flo_2022-04-18_2022-05-16.xlsx 출력 완료.\n",
      "flo_new_in_artists_2022-05-17.xlsx 출력 완료.\n",
      "genie_2022-04-18_2022-05-16.xlsx 출력 완료.\n",
      "genie_new_in_artists_2022-05-17.xlsx 출력 완료.\n",
      "melon_2022-04-18_2022-05-16.xlsx 출력 완료.\n",
      "melon_new_in_artists_2022-05-17.xlsx 출력 완료.\n",
      "vibe_2022-04-18_2022-05-16.xlsx 출력 완료.\n",
      "vibe_new_in_artists_2022-05-17.xlsx 출력 완료.\n"
     ]
    }
   ],
   "source": [
    "# 새로운 날짜 입력\n",
    "new_date = '2022-05-17'\n",
    "year = new_date.split('-')[0]\n",
    "month = new_date.split('-')[1]\n",
    "day = new_date.split('-')[2]\n",
    "day2 = str( int(day) - 1 )\n",
    "# new_artist(시작 날짜, 끝 날짜, 새로운 날짜)\n",
    "start_date = '2022-04-18'\n",
    "end_date = f'{year}-{month}-{day2:0>2}'\n",
    "new_artist(start_date, end_date, new_date)"
   ]
  },
  {
   "cell_type": "markdown",
   "metadata": {},
   "source": [
    "# 코드 마지막"
   ]
  }
 ],
 "metadata": {
  "interpreter": {
   "hash": "b3ba2566441a7c06988d0923437866b63cedc61552a5af99d1f4fb67d367b25f"
  },
  "kernelspec": {
   "display_name": "Python 3.9.7 ('base')",
   "language": "python",
   "name": "python3"
  },
  "language_info": {
   "codemirror_mode": {
    "name": "ipython",
    "version": 3
   },
   "file_extension": ".py",
   "mimetype": "text/x-python",
   "name": "python",
   "nbconvert_exporter": "python",
   "pygments_lexer": "ipython3",
   "version": "3.9.7"
  },
  "orig_nbformat": 4
 },
 "nbformat": 4,
 "nbformat_minor": 2
}
