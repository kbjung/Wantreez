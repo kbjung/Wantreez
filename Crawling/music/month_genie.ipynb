{
 "cells": [
  {
   "cell_type": "markdown",
   "metadata": {},
   "source": [
    "# Genie 월간 Top100 크롤링"
   ]
  },
  {
   "cell_type": "code",
   "execution_count": 2,
   "metadata": {},
   "outputs": [],
   "source": [
    "from bs4 import BeautifulSoup as bs\n",
    "import pandas as pd\n",
    "from tqdm import tqdm\n",
    "import time, random\n",
    "import requests"
   ]
  },
  {
   "cell_type": "markdown",
   "metadata": {},
   "source": [
    "# 크롤링"
   ]
  },
  {
   "cell_type": "markdown",
   "metadata": {},
   "source": [
    "## 크롤링할 링크 생성"
   ]
  },
  {
   "cell_type": "code",
   "execution_count": 4,
   "metadata": {},
   "outputs": [
    {
     "data": {
      "text/plain": [
       "[Timestamp('2022-01-01 00:00:00', freq='MS'),\n",
       " Timestamp('2022-02-01 00:00:00', freq='MS'),\n",
       " Timestamp('2022-03-01 00:00:00', freq='MS')]"
      ]
     },
     "execution_count": 4,
     "metadata": {},
     "output_type": "execute_result"
    }
   ],
   "source": [
    "# 날짜 리스트로 출력\n",
    "start_date ='2022-01-01'\n",
    "end_date = '2022-03-01'\n",
    "dates = pd.date_range(start_date, end_date, freq='MS').to_list()\n",
    "dates"
   ]
  },
  {
   "cell_type": "code",
   "execution_count": 5,
   "metadata": {},
   "outputs": [
    {
     "data": {
      "text/plain": [
       "3"
      ]
     },
     "execution_count": 5,
     "metadata": {},
     "output_type": "execute_result"
    }
   ],
   "source": [
    "# 크롤링할 날짜 생성\n",
    "date_list = []\n",
    "for one in dates:\n",
    "    date = str(one).split(' ')[0].replace('-', '')\n",
    "    date_list.append(date)\n",
    "\n",
    "len(date_list)"
   ]
  },
  {
   "cell_type": "code",
   "execution_count": 6,
   "metadata": {},
   "outputs": [
    {
     "data": {
      "text/plain": [
       "['20220101', '20220201', '20220301']"
      ]
     },
     "execution_count": 6,
     "metadata": {},
     "output_type": "execute_result"
    }
   ],
   "source": [
    "date_list[:5]"
   ]
  },
  {
   "cell_type": "code",
   "execution_count": 7,
   "metadata": {},
   "outputs": [
    {
     "data": {
      "text/plain": [
       "6"
      ]
     },
     "execution_count": 7,
     "metadata": {},
     "output_type": "execute_result"
    }
   ],
   "source": [
    "# 링크 리스트\n",
    "link_list = []\n",
    "for one in date_list:\n",
    "    temp1 = f'https://www.genie.co.kr/chart/top200?ditc=M&ymd={one}&hh=13&rtm=N&pg=1'\n",
    "    temp2 = f'https://www.genie.co.kr/chart/top200?ditc=M&ymd={one}&hh=13&rtm=N&pg=2'\n",
    "    link_list.append(temp1)\n",
    "    link_list.append(temp2)\n",
    "\n",
    "len(link_list)"
   ]
  },
  {
   "cell_type": "code",
   "execution_count": 8,
   "metadata": {},
   "outputs": [
    {
     "data": {
      "text/plain": [
       "['https://www.genie.co.kr/chart/top200?ditc=M&ymd=20220101&hh=13&rtm=N&pg=1',\n",
       " 'https://www.genie.co.kr/chart/top200?ditc=M&ymd=20220101&hh=13&rtm=N&pg=2',\n",
       " 'https://www.genie.co.kr/chart/top200?ditc=M&ymd=20220201&hh=13&rtm=N&pg=1',\n",
       " 'https://www.genie.co.kr/chart/top200?ditc=M&ymd=20220201&hh=13&rtm=N&pg=2',\n",
       " 'https://www.genie.co.kr/chart/top200?ditc=M&ymd=20220301&hh=13&rtm=N&pg=1']"
      ]
     },
     "execution_count": 8,
     "metadata": {},
     "output_type": "execute_result"
    }
   ],
   "source": [
    "link_list[:5]"
   ]
  },
  {
   "cell_type": "code",
   "execution_count": 9,
   "metadata": {},
   "outputs": [
    {
     "data": {
      "text/plain": [
       "3.0"
      ]
     },
     "execution_count": 9,
     "metadata": {},
     "output_type": "execute_result"
    }
   ],
   "source": [
    "len(link_list)/2"
   ]
  },
  {
   "cell_type": "code",
   "execution_count": 10,
   "metadata": {},
   "outputs": [],
   "source": [
    "rank_list = []\n",
    "for i in range(1, 101):\n",
    "    rank_list.append(i)"
   ]
  },
  {
   "cell_type": "code",
   "execution_count": 11,
   "metadata": {},
   "outputs": [
    {
     "data": {
      "text/plain": [
       "'음악, 그리고 설레임 - 지니'"
      ]
     },
     "execution_count": 11,
     "metadata": {},
     "output_type": "execute_result"
    }
   ],
   "source": [
    "# 페이지 접속\n",
    "headers = {'User-Agent' : 'Mozilla/5.0 (Macintosh; Intel Mac OS X 10_14_4) AppleWebKit/537.36 (KHTML, like Gecko) Chrome/79.0.3945.117 Safari/537.36'}\n",
    "# 지니뮤직 url\n",
    "data = requests.get(link_list[0], headers=headers)\n",
    "# soup : html형식\n",
    "soup = bs(data.text, 'lxml')\n",
    "soup.title.text"
   ]
  },
  {
   "cell_type": "code",
   "execution_count": 12,
   "metadata": {},
   "outputs": [
    {
     "data": {
      "text/plain": [
       "'https://www.genie.co.kr/chart/top200?ditc=M&ymd=20220101&hh=13&rtm=N&pg=1'"
      ]
     },
     "execution_count": 12,
     "metadata": {},
     "output_type": "execute_result"
    }
   ],
   "source": [
    "link_list[0]"
   ]
  },
  {
   "cell_type": "code",
   "execution_count": 13,
   "metadata": {},
   "outputs": [
    {
     "data": {
      "text/plain": [
       "<div class=\"date\">\n",
       "<h3><span id=\"inc_date\"></span></h3>\n",
       "<a href=\"#\" onclick=\"FG_calPopup.show($('#calendar_month')); return false;\"><img alt=\"달력 보기\" src=\"//image.genie.co.kr/imageg/web/btn/cal.png\"/></a>\n",
       "</div>"
      ]
     },
     "execution_count": 13,
     "metadata": {},
     "output_type": "execute_result"
    }
   ],
   "source": [
    "# 수집한 주간 제목\n",
    "raw_title = soup.find('div', 'date')\n",
    "raw_title"
   ]
  },
  {
   "cell_type": "markdown",
   "metadata": {},
   "source": [
    "## 파일로 출력"
   ]
  },
  {
   "cell_type": "code",
   "execution_count": 14,
   "metadata": {},
   "outputs": [
    {
     "name": "stderr",
     "output_type": "stream",
     "text": [
      "100%|██████████| 3/3 [00:03<00:00,  1.13s/it]\n"
     ]
    }
   ],
   "source": [
    "num = int(len(link_list)/2)\n",
    "\n",
    "for i in tqdm(range(num)):\n",
    "    first = i*2\n",
    "    second = i*2 + 1\n",
    "\n",
    "    first_link = link_list[first]\n",
    "    second_link = link_list[second]\n",
    "\n",
    "    song_title_list = []\n",
    "    artist_list = []\n",
    "    album_list = []\n",
    "\n",
    "    # 페이지 접속\n",
    "    headers = {'User-Agent' : 'Mozilla/5.0 (Macintosh; Intel Mac OS X 10_14_4) AppleWebKit/537.36 (KHTML, like Gecko) Chrome/79.0.3945.117 Safari/537.36'}\n",
    "    # 지니뮤직 url\n",
    "    data = requests.get(first_link, headers=headers)\n",
    "    # soup : html형식\n",
    "    soup = bs(data.text, 'lxml')\n",
    "\n",
    "    # 곡 제목\n",
    "    song_info = soup.find_all('td', 'info')\n",
    "    for one in song_info:\n",
    "        temp = one.find('a', 'title ellipsis').text.strip()\n",
    "        song_title_list.append(temp)\n",
    "    \n",
    "    # 가수\n",
    "    for one in song_info:\n",
    "        temp = one.find('a', 'artist ellipsis').text\n",
    "        artist_list.append(temp)\n",
    "\n",
    "    # 앨범\n",
    "    for one in song_info:\n",
    "        temp = one.find('a', 'albumtitle ellipsis').text\n",
    "        album_list.append(temp)\n",
    "\n",
    "    # 페이지 접속\n",
    "    headers = {'User-Agent' : 'Mozilla/5.0 (Macintosh; Intel Mac OS X 10_14_4) AppleWebKit/537.36 (KHTML, like Gecko) Chrome/79.0.3945.117 Safari/537.36'}\n",
    "    # 지니뮤직 url\n",
    "    data = requests.get(second_link, headers=headers)\n",
    "    # soup : html형식\n",
    "    soup = bs(data.text, 'lxml')\n",
    "\n",
    "    # 곡 제목\n",
    "    song_info = soup.find_all('td', 'info')\n",
    "    for one in song_info:\n",
    "        temp = one.find('a', 'title ellipsis').text.strip()\n",
    "        song_title_list.append(temp)\n",
    "    \n",
    "    # 가수\n",
    "    for one in song_info:\n",
    "        temp = one.find('a', 'artist ellipsis').text\n",
    "        artist_list.append(temp)\n",
    "\n",
    "    # 앨범\n",
    "    for one in song_info:\n",
    "        temp = one.find('a', 'albumtitle ellipsis').text\n",
    "        album_list.append(temp)\n",
    "\n",
    "    # 데이터 셋으로 만들기\n",
    "    dict = {'순위':rank_list, '곡':song_title_list, '가수':artist_list, '앨범':album_list}\n",
    "    df = pd.DataFrame(dict)\n",
    "\n",
    "    # excel 파일로 출력\n",
    "    date = date_list[i]\n",
    "    df.to_excel(f'../crawling_data/month_genie/month_genie_{date}.xlsx', index=False)\n",
    "    \n",
    "    time.sleep( random.uniform(0.5, 0.9) )"
   ]
  },
  {
   "cell_type": "markdown",
   "metadata": {},
   "source": [
    "# 코드 마지막"
   ]
  }
 ],
 "metadata": {
  "interpreter": {
   "hash": "513dc2e41d739bb2c947903f3c0bbf636d03aa53ab50e61c694a27481c81805e"
  },
  "kernelspec": {
   "display_name": "Python 3.8.8 ('base')",
   "language": "python",
   "name": "python3"
  },
  "language_info": {
   "codemirror_mode": {
    "name": "ipython",
    "version": 3
   },
   "file_extension": ".py",
   "mimetype": "text/x-python",
   "name": "python",
   "nbconvert_exporter": "python",
   "pygments_lexer": "ipython3",
   "version": "3.8.8"
  },
  "orig_nbformat": 4
 },
 "nbformat": 4,
 "nbformat_minor": 2
}
