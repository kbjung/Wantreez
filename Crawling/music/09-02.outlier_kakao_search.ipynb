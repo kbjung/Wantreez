{
 "cells": [
  {
   "cell_type": "markdown",
   "metadata": {},
   "source": [
    "# Outlier Kakao Trend Search\n",
    "* 3-1-2. 급상승 음원 소셜미디어 관심도\n",
    "    * kakao_trend/outlier/{title}_{artist}.xls\n",
    "    * kakao_trend/outlier/{title}_{artist}.png"
   ]
  },
  {
   "cell_type": "markdown",
   "metadata": {},
   "source": [
    "## 필요 라이브러리 로드"
   ]
  },
  {
   "cell_type": "code",
   "execution_count": 1,
   "metadata": {},
   "outputs": [],
   "source": [
    "import pandas as pd\n",
    "import matplotlib.pyplot as plt\n",
    "import seaborn as sns\n",
    "import os, math"
   ]
  },
  {
   "cell_type": "code",
   "execution_count": 2,
   "metadata": {},
   "outputs": [],
   "source": [
    "import platform\n",
    "from matplotlib import font_manager, rc\n",
    "\n",
    "# 한글 폰트 지정\n",
    "path = \"C:/Windows/Fonts/malgun.ttf\"\n",
    "if platform.system() == \"Windows\":\n",
    "    font_name = font_manager.FontProperties(fname=path).get_name()\n",
    "    rc('font', family=font_name)\n",
    "elif platform.system()==\"Darwin\":\n",
    "    rc('font', family='AppleGothic')\n",
    "else:\n",
    "    print(\"Unknown System\")"
   ]
  },
  {
   "cell_type": "code",
   "execution_count": 3,
   "metadata": {},
   "outputs": [],
   "source": [
    "import matplotlib\n",
    "matplotlib.rcParams['axes.unicode_minus'] = False # 그래프에서 음수 표현 가능하도록 설정."
   ]
  },
  {
   "cell_type": "code",
   "execution_count": 4,
   "metadata": {},
   "outputs": [],
   "source": [
    "from selenium import webdriver\n",
    "import chromedriver_autoinstaller as ca\n",
    "import random, time"
   ]
  },
  {
   "cell_type": "code",
   "execution_count": 5,
   "metadata": {},
   "outputs": [],
   "source": [
    "import shutil"
   ]
  },
  {
   "cell_type": "markdown",
   "metadata": {},
   "source": [
    "## 날짜 설정"
   ]
  },
  {
   "cell_type": "code",
   "execution_count": 6,
   "metadata": {},
   "outputs": [],
   "source": [
    "# 기간 설정\n",
    "start_date = '2022-05-23'\n",
    "end_date = '2022-05-29'"
   ]
  },
  {
   "cell_type": "code",
   "execution_count": 7,
   "metadata": {},
   "outputs": [],
   "source": [
    "f_path = 'c:/data/Wantreez/Crawling/music'\n",
    "try:\n",
    "    os.chdir(f_path)\n",
    "except:\n",
    "    pass"
   ]
  },
  {
   "cell_type": "code",
   "execution_count": 8,
   "metadata": {},
   "outputs": [
    {
     "data": {
      "text/plain": [
       "'c:/data/Wantreez/Crawling/music'"
      ]
     },
     "execution_count": 8,
     "metadata": {},
     "output_type": "execute_result"
    }
   ],
   "source": [
    "code_path = os.getcwd().replace('\\\\', '/')\n",
    "code_path"
   ]
  },
  {
   "cell_type": "code",
   "execution_count": 9,
   "metadata": {},
   "outputs": [
    {
     "data": {
      "text/plain": [
       "'c:/data/Wantreez/Crawling/music\\\\crawled_data/outlier_data/2022-05-23_2022-05-29'"
      ]
     },
     "execution_count": 9,
     "metadata": {},
     "output_type": "execute_result"
    }
   ],
   "source": [
    "# 실시간 순위 파일 폴더로 이동\n",
    "save_folder = f'crawled_data/outlier_data/{start_date}_{end_date}'\n",
    "week_outlier_folder = os.path.join(code_path, save_folder)\n",
    "week_outlier_folder"
   ]
  },
  {
   "cell_type": "code",
   "execution_count": 10,
   "metadata": {},
   "outputs": [
    {
     "data": {
      "text/plain": [
       "['2022-05-23_2022-05-29_agency_in_chart.xlsx',\n",
       " '2022-05-23_2022-05-29_mean_outlier_agency.xlsx',\n",
       " '2022-05-23_2022-05-29_Top10_rank_change_df.xlsx',\n",
       " '2022-05-23_2022-05-29_Top50_100_rank_change_df.xlsx',\n",
       " '2022-05-23_2022-05-29_Top50_rank_change_df.xlsx',\n",
       " '2022-05-23_2022-05-29_total_outlier.png',\n",
       " '2022-05-23_2022-05-29_total_outlier.xlsx',\n",
       " '2022-05-23_Top100_ranks.xlsx',\n",
       " '2022-05-24_Top100_ranks.xlsx',\n",
       " '2022-05-25_Top100_ranks.xlsx',\n",
       " '2022-05-26_Top100_ranks.xlsx',\n",
       " '2022-05-27_Top100_ranks.xlsx',\n",
       " '2022-05-28_Top100_ranks.xlsx',\n",
       " '2022-05-29_Top100_ranks.xlsx',\n",
       " 'bugs',\n",
       " 'flo',\n",
       " 'genie',\n",
       " 'google_trend',\n",
       " 'kakao_trend',\n",
       " 'melon',\n",
       " 'naver_datalab',\n",
       " 'vibe',\n",
       " '[bugs]2022-05-23_2022-05-29_pop_df.xlsx',\n",
       " '[flo]2022-05-23_2022-05-29_pop_df.xlsx',\n",
       " '[genie]2022-05-23_2022-05-29_pop_df.xlsx',\n",
       " '[ky]2022-05-23_2022-05-29_pop_df.xlsx',\n",
       " '[melon]2022-05-23_2022-05-29_pop_df.xlsx',\n",
       " '[tj]2022-05-23_2022-05-29_pop_df.xlsx',\n",
       " '[vibe]2022-05-23_2022-05-29_pop_df.xlsx']"
      ]
     },
     "execution_count": 10,
     "metadata": {},
     "output_type": "execute_result"
    }
   ],
   "source": [
    "file_list = os.listdir(week_outlier_folder)\n",
    "file_list"
   ]
  },
  {
   "cell_type": "code",
   "execution_count": 11,
   "metadata": {},
   "outputs": [
    {
     "data": {
      "text/plain": [
       "'2022-05-23_2022-05-29_total_outlier.xlsx'"
      ]
     },
     "execution_count": 11,
     "metadata": {},
     "output_type": "execute_result"
    }
   ],
   "source": [
    "# 이상치 음원 파일 가져오기\n",
    "for one in file_list:\n",
    "    if 'total_outlier' in one:\n",
    "        file_name = one\n",
    "file_name"
   ]
  },
  {
   "cell_type": "code",
   "execution_count": 12,
   "metadata": {},
   "outputs": [
    {
     "data": {
      "text/html": [
       "<div>\n",
       "<style scoped>\n",
       "    .dataframe tbody tr th:only-of-type {\n",
       "        vertical-align: middle;\n",
       "    }\n",
       "\n",
       "    .dataframe tbody tr th {\n",
       "        vertical-align: top;\n",
       "    }\n",
       "\n",
       "    .dataframe thead th {\n",
       "        text-align: right;\n",
       "    }\n",
       "</style>\n",
       "<table border=\"1\" class=\"dataframe\">\n",
       "  <thead>\n",
       "    <tr style=\"text-align: right;\">\n",
       "      <th></th>\n",
       "      <th>날짜</th>\n",
       "      <th>순위변동평균(양수)</th>\n",
       "      <th>곡</th>\n",
       "      <th>가수</th>\n",
       "      <th>소속사</th>\n",
       "      <th>순위</th>\n",
       "      <th>앨범</th>\n",
       "      <th>소속사_분류</th>\n",
       "      <th>순위변동</th>\n",
       "      <th>사이트</th>\n",
       "    </tr>\n",
       "  </thead>\n",
       "  <tbody>\n",
       "    <tr>\n",
       "      <th>0</th>\n",
       "      <td>2022-05-25</td>\n",
       "      <td>99.0</td>\n",
       "      <td>물고기</td>\n",
       "      <td>백예린 (Yerin Baek)</td>\n",
       "      <td>BLUEVINYL</td>\n",
       "      <td>1</td>\n",
       "      <td>물고기</td>\n",
       "      <td>기타</td>\n",
       "      <td>99</td>\n",
       "      <td>Bugs</td>\n",
       "    </tr>\n",
       "    <tr>\n",
       "      <th>1</th>\n",
       "      <td>2022-05-25</td>\n",
       "      <td>98.0</td>\n",
       "      <td>그게 나였네</td>\n",
       "      <td>백예린 (Yerin Baek)</td>\n",
       "      <td>BLUEVINYL</td>\n",
       "      <td>2</td>\n",
       "      <td>물고기</td>\n",
       "      <td>기타</td>\n",
       "      <td>98</td>\n",
       "      <td>Bugs</td>\n",
       "    </tr>\n",
       "    <tr>\n",
       "      <th>2</th>\n",
       "      <td>2022-05-25</td>\n",
       "      <td>96.0</td>\n",
       "      <td>막내</td>\n",
       "      <td>백예린 (Yerin Baek)</td>\n",
       "      <td>BLUEVINYL</td>\n",
       "      <td>4</td>\n",
       "      <td>물고기</td>\n",
       "      <td>기타</td>\n",
       "      <td>96</td>\n",
       "      <td>Bugs</td>\n",
       "    </tr>\n",
       "    <tr>\n",
       "      <th>3</th>\n",
       "      <td>2022-05-29</td>\n",
       "      <td>92.0</td>\n",
       "      <td>Break Away</td>\n",
       "      <td>WSG워너비 조별경연 (할미봉)</td>\n",
       "      <td>MBC</td>\n",
       "      <td>8</td>\n",
       "      <td>WSG워너비 조별경연</td>\n",
       "      <td>기타</td>\n",
       "      <td>92</td>\n",
       "      <td>Bugs</td>\n",
       "    </tr>\n",
       "    <tr>\n",
       "      <th>4</th>\n",
       "      <td>2022-05-26</td>\n",
       "      <td>88.0</td>\n",
       "      <td>지금 난</td>\n",
       "      <td>오반</td>\n",
       "      <td>로맨틱팩토리</td>\n",
       "      <td>12</td>\n",
       "      <td>지금 난</td>\n",
       "      <td>기타</td>\n",
       "      <td>88</td>\n",
       "      <td>Bugs</td>\n",
       "    </tr>\n",
       "    <tr>\n",
       "      <th>5</th>\n",
       "      <td>2022-05-24</td>\n",
       "      <td>83.0</td>\n",
       "      <td>새벽에 핀 별 하나</td>\n",
       "      <td>청하</td>\n",
       "      <td>MH</td>\n",
       "      <td>17</td>\n",
       "      <td>붉은 단심 OST Part 4</td>\n",
       "      <td>기타</td>\n",
       "      <td>83</td>\n",
       "      <td>Bugs</td>\n",
       "    </tr>\n",
       "    <tr>\n",
       "      <th>6</th>\n",
       "      <td>2022-05-24</td>\n",
       "      <td>81.5</td>\n",
       "      <td>사랑의 결말은 모 아니면 도 (Yes Or No)</td>\n",
       "      <td>원어스 (ONEUS)</td>\n",
       "      <td>RBW</td>\n",
       "      <td>11</td>\n",
       "      <td>BLOOD MOON</td>\n",
       "      <td>RBW</td>\n",
       "      <td>89</td>\n",
       "      <td>Bugs</td>\n",
       "    </tr>\n",
       "    <tr>\n",
       "      <th>7</th>\n",
       "      <td>2022-05-26</td>\n",
       "      <td>70.0</td>\n",
       "      <td>지금 난</td>\n",
       "      <td>오반</td>\n",
       "      <td>로맨틱팩토리</td>\n",
       "      <td>30</td>\n",
       "      <td>지금 난</td>\n",
       "      <td>기타</td>\n",
       "      <td>70</td>\n",
       "      <td>Genie</td>\n",
       "    </tr>\n",
       "  </tbody>\n",
       "</table>\n",
       "</div>"
      ],
      "text/plain": [
       "           날짜  순위변동평균(양수)                            곡                 가수  \\\n",
       "0  2022-05-25        99.0                          물고기   백예린 (Yerin Baek)   \n",
       "1  2022-05-25        98.0                       그게 나였네   백예린 (Yerin Baek)   \n",
       "2  2022-05-25        96.0                           막내   백예린 (Yerin Baek)   \n",
       "3  2022-05-29        92.0                   Break Away  WSG워너비 조별경연 (할미봉)   \n",
       "4  2022-05-26        88.0                         지금 난                 오반   \n",
       "5  2022-05-24        83.0                   새벽에 핀 별 하나                 청하   \n",
       "6  2022-05-24        81.5  사랑의 결말은 모 아니면 도 (Yes Or No)        원어스 (ONEUS)   \n",
       "7  2022-05-26        70.0                         지금 난                 오반   \n",
       "\n",
       "         소속사  순위                앨범 소속사_분류  순위변동    사이트  \n",
       "0  BLUEVINYL   1               물고기     기타    99   Bugs  \n",
       "1  BLUEVINYL   2               물고기     기타    98   Bugs  \n",
       "2  BLUEVINYL   4               물고기     기타    96   Bugs  \n",
       "3        MBC   8       WSG워너비 조별경연     기타    92   Bugs  \n",
       "4     로맨틱팩토리  12              지금 난     기타    88   Bugs  \n",
       "5         MH  17  붉은 단심 OST Part 4     기타    83   Bugs  \n",
       "6        RBW  11        BLOOD MOON    RBW    89   Bugs  \n",
       "7     로맨틱팩토리  30              지금 난     기타    70  Genie  "
      ]
     },
     "execution_count": 12,
     "metadata": {},
     "output_type": "execute_result"
    }
   ],
   "source": [
    "outlier_path = os.path.join(week_outlier_folder, file_name)\n",
    "df = pd.read_excel(outlier_path)\n",
    "df"
   ]
  },
  {
   "cell_type": "markdown",
   "metadata": {},
   "source": [
    "## 3-1-2. 급상승 음원 소셜미디어 관심도(엑셀)"
   ]
  },
  {
   "cell_type": "code",
   "execution_count": 13,
   "metadata": {},
   "outputs": [
    {
     "data": {
      "text/plain": [
       "'c:/data/Wantreez/Crawling/music\\\\crawled_data/outlier_data/2022-05-23_2022-05-29/kakao_trend/outliers'"
      ]
     },
     "execution_count": 13,
     "metadata": {},
     "output_type": "execute_result"
    }
   ],
   "source": [
    "kakao_trend_path = f'crawled_data/outlier_data/{start_date}_{end_date}/kakao_trend/outliers'\n",
    "des = os.path.join(code_path, kakao_trend_path)\n",
    "des"
   ]
  },
  {
   "cell_type": "code",
   "execution_count": 14,
   "metadata": {},
   "outputs": [],
   "source": [
    "os.makedirs(des, exist_ok=True)"
   ]
  },
  {
   "cell_type": "markdown",
   "metadata": {},
   "source": [
    "### 다운로드 폴더 설정"
   ]
  },
  {
   "cell_type": "code",
   "execution_count": 15,
   "metadata": {},
   "outputs": [],
   "source": [
    "# 다운로드 폴더, 파일 이름 설정\n",
    "down_folder = 'C:/Users/kbjung/Downloads/'\n",
    "down_xls = 'datatrend.xls'"
   ]
  },
  {
   "cell_type": "code",
   "execution_count": 16,
   "metadata": {},
   "outputs": [],
   "source": [
    "ca.install(True)\n",
    "driver = webdriver.Chrome()"
   ]
  },
  {
   "cell_type": "code",
   "execution_count": 17,
   "metadata": {},
   "outputs": [
    {
     "name": "stderr",
     "output_type": "stream",
     "text": [
      "C:\\Users\\kbjung\\AppData\\Local\\Temp/ipykernel_2672/442834337.py:11: DeprecationWarning: find_element_by_xpath is deprecated. Please use find_element(by=By.XPATH, value=xpath) instead\n",
      "  search_box = driver.find_element_by_xpath('/html/body/div/div/div/main/article/div[1]/div/input')\n",
      "C:\\Users\\kbjung\\AppData\\Local\\Temp/ipykernel_2672/442834337.py:17: DeprecationWarning: find_element_by_xpath is deprecated. Please use find_element(by=By.XPATH, value=xpath) instead\n",
      "  time_picker = driver.find_element_by_xpath('/html/body/div/div/div/main/article/div[3]/div[2]/div[1]/div[2]/label[2]/span').click()\n",
      "C:\\Users\\kbjung\\AppData\\Local\\Temp/ipykernel_2672/442834337.py:21: DeprecationWarning: find_element_by_xpath is deprecated. Please use find_element(by=By.XPATH, value=xpath) instead\n",
      "  search_button = driver.find_element_by_xpath('/html/body/div/div/div/main/article/div[4]/button[2]').click()\n",
      "C:\\Users\\kbjung\\AppData\\Local\\Temp/ipykernel_2672/442834337.py:26: DeprecationWarning: find_element_by_xpath is deprecated. Please use find_element(by=By.XPATH, value=xpath) instead\n",
      "  down_button = driver.find_element_by_xpath('/html/body/div/div/header/div/div/a[2]').click()\n"
     ]
    },
    {
     "name": "stdout",
     "output_type": "stream",
     "text": [
      "물고기_백예린 (Yerin Baek).xls 완료.\n",
      "그게 나였네_백예린 (Yerin Baek).xls 완료.\n",
      "막내_백예린 (Yerin Baek).xls 완료.\n",
      "Break Away_WSG워너비 조별경연 (할미봉).xls 완료.\n",
      "지금 난_오반.xls 완료.\n",
      "새벽에 핀 별 하나_청하.xls 완료.\n",
      "지금 난_오반.xls 완료.\n",
      "수집 완료.\n"
     ]
    }
   ],
   "source": [
    "for i in range(df.shape[0]):\n",
    "    # 카카오 트랜드 접속\n",
    "    url = 'https://datatrend.kakao.com/'\n",
    "    driver.get(url)\n",
    "    driver.implicitly_wait(3)\n",
    "    time.sleep( random.uniform(1, 1.5) )\n",
    "    driver.maximize_window()\n",
    "\n",
    "    # 검색어 입력\n",
    "    word = df['곡'][i]\n",
    "    search_box = driver.find_element_by_xpath('/html/body/div/div/div/main/article/div[1]/div/input')\n",
    "    search_box.clear()\n",
    "    time.sleep( random.uniform(1, 1.5) )\n",
    "    search_box.send_keys(word)\n",
    "\n",
    "    # 1개월 picker 클릭\n",
    "    time_picker = driver.find_element_by_xpath('/html/body/div/div/div/main/article/div[3]/div[2]/div[1]/div[2]/label[2]/span').click()\n",
    "    time.sleep( random.uniform(1, 1.5) )\n",
    "\n",
    "    # 검색 버튼 클릭\n",
    "    search_button = driver.find_element_by_xpath('/html/body/div/div/div/main/article/div[4]/button[2]').click()\n",
    "    time.sleep( random.uniform(1, 1.5) )\n",
    "    driver.implicitly_wait(3)\n",
    "    try:\n",
    "        # 다운 버튼 클릭\n",
    "        down_button = driver.find_element_by_xpath('/html/body/div/div/header/div/div/a[2]').click()\n",
    "        time.sleep( random.uniform(1, 1.5) )\n",
    "\n",
    "        # 파일 이름 변경\n",
    "        title = df['곡'][i]\n",
    "        artist = df['가수'][i]\n",
    "        new_down_xls = f'{title}_{artist}.xls'\n",
    "        os.rename(down_folder + down_xls, down_folder + new_down_xls)\n",
    "\n",
    "        # 파일 이동\n",
    "        new_down_path = os.path.join(des, new_down_xls)\n",
    "        shutil.move(down_folder + new_down_xls, new_down_path)\n",
    "        print(f'{new_down_xls} 완료.')\n",
    "    except:\n",
    "        pass\n",
    "print('수집 완료.')"
   ]
  },
  {
   "cell_type": "code",
   "execution_count": 18,
   "metadata": {},
   "outputs": [],
   "source": [
    "driver.quit()"
   ]
  },
  {
   "cell_type": "markdown",
   "metadata": {},
   "source": [
    "## 이상치 노래 그래프(테스트)"
   ]
  },
  {
   "cell_type": "code",
   "execution_count": 19,
   "metadata": {},
   "outputs": [
    {
     "data": {
      "text/plain": [
       "['Break Away_WSG워너비 조별경연 (할미봉).xls',\n",
       " '그게 나였네_백예린 (Yerin Baek).xls',\n",
       " '막내_백예린 (Yerin Baek).xls',\n",
       " '물고기_백예린 (Yerin Baek).xls',\n",
       " '새벽에 핀 별 하나_청하.xls',\n",
       " '지금 난_오반.xls']"
      ]
     },
     "execution_count": 19,
     "metadata": {},
     "output_type": "execute_result"
    }
   ],
   "source": [
    "outlier_file_list = os.listdir(des)\n",
    "outlier_file_list"
   ]
  },
  {
   "cell_type": "code",
   "execution_count": 20,
   "metadata": {},
   "outputs": [
    {
     "data": {
      "text/html": [
       "<div>\n",
       "<style scoped>\n",
       "    .dataframe tbody tr th:only-of-type {\n",
       "        vertical-align: middle;\n",
       "    }\n",
       "\n",
       "    .dataframe tbody tr th {\n",
       "        vertical-align: top;\n",
       "    }\n",
       "\n",
       "    .dataframe thead th {\n",
       "        text-align: right;\n",
       "    }\n",
       "</style>\n",
       "<table border=\"1\" class=\"dataframe\">\n",
       "  <thead>\n",
       "    <tr style=\"text-align: right;\">\n",
       "      <th></th>\n",
       "      <th>날짜</th>\n",
       "      <th>검색비율</th>\n",
       "    </tr>\n",
       "  </thead>\n",
       "  <tbody>\n",
       "    <tr>\n",
       "      <th>0</th>\n",
       "      <td>2022-04-29 00:00:00</td>\n",
       "      <td>0</td>\n",
       "    </tr>\n",
       "    <tr>\n",
       "      <th>1</th>\n",
       "      <td>2022-04-30 00:00:00</td>\n",
       "      <td>11</td>\n",
       "    </tr>\n",
       "    <tr>\n",
       "      <th>2</th>\n",
       "      <td>2022-05-01 00:00:00</td>\n",
       "      <td>0</td>\n",
       "    </tr>\n",
       "    <tr>\n",
       "      <th>3</th>\n",
       "      <td>2022-05-02 00:00:00</td>\n",
       "      <td>5</td>\n",
       "    </tr>\n",
       "    <tr>\n",
       "      <th>4</th>\n",
       "      <td>2022-05-03 00:00:00</td>\n",
       "      <td>7</td>\n",
       "    </tr>\n",
       "  </tbody>\n",
       "</table>\n",
       "</div>"
      ],
      "text/plain": [
       "                    날짜 검색비율\n",
       "0  2022-04-29 00:00:00    0\n",
       "1  2022-04-30 00:00:00   11\n",
       "2  2022-05-01 00:00:00    0\n",
       "3  2022-05-02 00:00:00    5\n",
       "4  2022-05-03 00:00:00    7"
      ]
     },
     "execution_count": 20,
     "metadata": {},
     "output_type": "execute_result"
    }
   ],
   "source": [
    "one = outlier_file_list[0]\n",
    "title = one.split('_')[0]\n",
    "artist = one.split('_')[1].split('.')[0]\n",
    "one_path = os.path.join(des, one)\n",
    "temp = pd.read_excel(one_path).reset_index(drop=True)\n",
    "temp = temp.iloc[7:38, :].reset_index(drop=True)\n",
    "temp.columns = ['날짜', '검색비율']\n",
    "temp['날짜'] = temp['날짜'].astype(str)\n",
    "temp.head()"
   ]
  },
  {
   "cell_type": "code",
   "execution_count": 21,
   "metadata": {},
   "outputs": [
    {
     "data": {
      "text/html": [
       "<div>\n",
       "<style scoped>\n",
       "    .dataframe tbody tr th:only-of-type {\n",
       "        vertical-align: middle;\n",
       "    }\n",
       "\n",
       "    .dataframe tbody tr th {\n",
       "        vertical-align: top;\n",
       "    }\n",
       "\n",
       "    .dataframe thead th {\n",
       "        text-align: right;\n",
       "    }\n",
       "</style>\n",
       "<table border=\"1\" class=\"dataframe\">\n",
       "  <thead>\n",
       "    <tr style=\"text-align: right;\">\n",
       "      <th></th>\n",
       "      <th>날짜</th>\n",
       "      <th>검색비율</th>\n",
       "    </tr>\n",
       "  </thead>\n",
       "  <tbody>\n",
       "    <tr>\n",
       "      <th>0</th>\n",
       "      <td>2022-04-29</td>\n",
       "      <td>0</td>\n",
       "    </tr>\n",
       "    <tr>\n",
       "      <th>1</th>\n",
       "      <td>2022-04-30</td>\n",
       "      <td>11</td>\n",
       "    </tr>\n",
       "    <tr>\n",
       "      <th>2</th>\n",
       "      <td>2022-05-01</td>\n",
       "      <td>0</td>\n",
       "    </tr>\n",
       "    <tr>\n",
       "      <th>3</th>\n",
       "      <td>2022-05-02</td>\n",
       "      <td>5</td>\n",
       "    </tr>\n",
       "    <tr>\n",
       "      <th>4</th>\n",
       "      <td>2022-05-03</td>\n",
       "      <td>7</td>\n",
       "    </tr>\n",
       "  </tbody>\n",
       "</table>\n",
       "</div>"
      ],
      "text/plain": [
       "           날짜 검색비율\n",
       "0  2022-04-29    0\n",
       "1  2022-04-30   11\n",
       "2  2022-05-01    0\n",
       "3  2022-05-02    5\n",
       "4  2022-05-03    7"
      ]
     },
     "execution_count": 21,
     "metadata": {},
     "output_type": "execute_result"
    }
   ],
   "source": [
    "temp['날짜'] = temp['날짜'].apply([lambda x: x.split(' ')[0]])\n",
    "temp.head()"
   ]
  },
  {
   "cell_type": "code",
   "execution_count": 22,
   "metadata": {},
   "outputs": [
    {
     "data": {
      "text/html": [
       "<div>\n",
       "<style scoped>\n",
       "    .dataframe tbody tr th:only-of-type {\n",
       "        vertical-align: middle;\n",
       "    }\n",
       "\n",
       "    .dataframe tbody tr th {\n",
       "        vertical-align: top;\n",
       "    }\n",
       "\n",
       "    .dataframe thead th {\n",
       "        text-align: right;\n",
       "    }\n",
       "</style>\n",
       "<table border=\"1\" class=\"dataframe\">\n",
       "  <thead>\n",
       "    <tr style=\"text-align: right;\">\n",
       "      <th></th>\n",
       "      <th>날짜</th>\n",
       "      <th>검색비율</th>\n",
       "    </tr>\n",
       "  </thead>\n",
       "  <tbody>\n",
       "    <tr>\n",
       "      <th>26</th>\n",
       "      <td>2022-05-25</td>\n",
       "      <td>6</td>\n",
       "    </tr>\n",
       "    <tr>\n",
       "      <th>27</th>\n",
       "      <td>2022-05-26</td>\n",
       "      <td>5</td>\n",
       "    </tr>\n",
       "    <tr>\n",
       "      <th>28</th>\n",
       "      <td>2022-05-27</td>\n",
       "      <td>5</td>\n",
       "    </tr>\n",
       "    <tr>\n",
       "      <th>29</th>\n",
       "      <td>2022-05-28</td>\n",
       "      <td>100</td>\n",
       "    </tr>\n",
       "    <tr>\n",
       "      <th>30</th>\n",
       "      <td>2022-05-29</td>\n",
       "      <td>75</td>\n",
       "    </tr>\n",
       "  </tbody>\n",
       "</table>\n",
       "</div>"
      ],
      "text/plain": [
       "            날짜 검색비율\n",
       "26  2022-05-25    6\n",
       "27  2022-05-26    5\n",
       "28  2022-05-27    5\n",
       "29  2022-05-28  100\n",
       "30  2022-05-29   75"
      ]
     },
     "execution_count": 22,
     "metadata": {},
     "output_type": "execute_result"
    }
   ],
   "source": [
    "temp.tail()"
   ]
  },
  {
   "cell_type": "code",
   "execution_count": 23,
   "metadata": {},
   "outputs": [
    {
     "name": "stdout",
     "output_type": "stream",
     "text": [
      "<class 'pandas.core.frame.DataFrame'>\n",
      "RangeIndex: 31 entries, 0 to 30\n",
      "Data columns (total 2 columns):\n",
      " #   Column  Non-Null Count  Dtype \n",
      "---  ------  --------------  ----- \n",
      " 0   날짜      31 non-null     object\n",
      " 1   검색비율    31 non-null     object\n",
      "dtypes: object(2)\n",
      "memory usage: 624.0+ bytes\n"
     ]
    }
   ],
   "source": [
    "temp.info()"
   ]
  },
  {
   "cell_type": "code",
   "execution_count": 24,
   "metadata": {},
   "outputs": [
    {
     "data": {
      "text/html": [
       "<div>\n",
       "<style scoped>\n",
       "    .dataframe tbody tr th:only-of-type {\n",
       "        vertical-align: middle;\n",
       "    }\n",
       "\n",
       "    .dataframe tbody tr th {\n",
       "        vertical-align: top;\n",
       "    }\n",
       "\n",
       "    .dataframe thead th {\n",
       "        text-align: right;\n",
       "    }\n",
       "</style>\n",
       "<table border=\"1\" class=\"dataframe\">\n",
       "  <thead>\n",
       "    <tr style=\"text-align: right;\">\n",
       "      <th></th>\n",
       "      <th>날짜</th>\n",
       "      <th>검색비율</th>\n",
       "    </tr>\n",
       "  </thead>\n",
       "  <tbody>\n",
       "    <tr>\n",
       "      <th>0</th>\n",
       "      <td>2022-05-23</td>\n",
       "      <td>6</td>\n",
       "    </tr>\n",
       "    <tr>\n",
       "      <th>1</th>\n",
       "      <td>2022-05-24</td>\n",
       "      <td>6</td>\n",
       "    </tr>\n",
       "    <tr>\n",
       "      <th>2</th>\n",
       "      <td>2022-05-25</td>\n",
       "      <td>6</td>\n",
       "    </tr>\n",
       "    <tr>\n",
       "      <th>3</th>\n",
       "      <td>2022-05-26</td>\n",
       "      <td>5</td>\n",
       "    </tr>\n",
       "    <tr>\n",
       "      <th>4</th>\n",
       "      <td>2022-05-27</td>\n",
       "      <td>5</td>\n",
       "    </tr>\n",
       "    <tr>\n",
       "      <th>5</th>\n",
       "      <td>2022-05-28</td>\n",
       "      <td>100</td>\n",
       "    </tr>\n",
       "    <tr>\n",
       "      <th>6</th>\n",
       "      <td>2022-05-29</td>\n",
       "      <td>75</td>\n",
       "    </tr>\n",
       "  </tbody>\n",
       "</table>\n",
       "</div>"
      ],
      "text/plain": [
       "           날짜 검색비율\n",
       "0  2022-05-23    6\n",
       "1  2022-05-24    6\n",
       "2  2022-05-25    6\n",
       "3  2022-05-26    5\n",
       "4  2022-05-27    5\n",
       "5  2022-05-28  100\n",
       "6  2022-05-29   75"
      ]
     },
     "execution_count": 24,
     "metadata": {},
     "output_type": "execute_result"
    }
   ],
   "source": [
    "week_temp = temp[ (temp['날짜'] >= start_date) & (temp['날짜'] <= end_date)].reset_index(drop=True)\n",
    "week_temp"
   ]
  },
  {
   "cell_type": "code",
   "execution_count": 25,
   "metadata": {},
   "outputs": [
    {
     "data": {
      "image/png": "[encoded data removed]",
      "text/plain": [
       "<Figure size 864x576 with 1 Axes>"
      ]
     },
     "metadata": {
      "needs_background": "light"
     },
     "output_type": "display_data"
    }
   ],
   "source": [
    "colors = sns.color_palette('YlOrRd', week_temp.shape[0])\n",
    "x = week_temp['날짜']\n",
    "y = week_temp['검색비율']\n",
    "try:\n",
    "        interval_ratio = math.ceil( max(y) )*0.05\n",
    "        interval_ratio2 = math.ceil( max(y) )*0.2\n",
    "        plt.figure( figsize=(12,8) )\n",
    "        plt.bar(x, y, color=colors)\n",
    "        plt.title(f\"카카오 트랜드 검색 비율\\n{title}-{artist}\", fontsize=20)\n",
    "        plt.xticks(fontsize=15,rotation=45)\n",
    "        plt.yticks(fontsize=15)\n",
    "        for i in range( len(y) ):\n",
    "                if y[i] <= interval_ratio2:\n",
    "                        plt.text(x[i], y[i]+interval_ratio, round(y[i],1), fontsize=15, color='black',\n",
    "                        horizontalalignment='center',\n",
    "                        verticalalignment='bottom')\n",
    "                else:\n",
    "                        plt.text(x[i], y[i]-interval_ratio, round(y[i],1), fontsize=15, color='black',\n",
    "                        horizontalalignment='center',\n",
    "                        verticalalignment='top')\n",
    "except:\n",
    "        pass"
   ]
  },
  {
   "cell_type": "markdown",
   "metadata": {},
   "source": [
    "## 3-1-2. 급상승 음원 소셜미디어 관심도(그래프)"
   ]
  },
  {
   "cell_type": "code",
   "execution_count": 26,
   "metadata": {},
   "outputs": [
    {
     "name": "stdout",
     "output_type": "stream",
     "text": [
      "Break Away_WSG워너비 조별경연 (할미봉).png 저장 완료.\n",
      "그게 나였네_백예린 (Yerin Baek).png 저장 완료.\n",
      "막내_백예린 (Yerin Baek).png 저장 완료.\n",
      "물고기_백예린 (Yerin Baek).png 저장 완료.\n",
      "새벽에 핀 별 하나_청하.png 저장 완료.\n",
      "지금 난_오반.png 저장 완료.\n"
     ]
    }
   ],
   "source": [
    "for one in outlier_file_list:\n",
    "    title = one.split('_')[0]\n",
    "    artist = one.split('_')[1].split('.')[0]\n",
    "    two = one.split('_')[1].split('.')\n",
    "    if len(two) > 2:\n",
    "        temp = one.split('_')[1].replace('.', '[point]', len(two) - 2)\n",
    "        artist = temp.split('.')[0].replace('[point]', '.')\n",
    "    one_path = os.path.join(des, one)\n",
    "    temp = pd.read_excel(one_path).reset_index(drop=True)\n",
    "    temp = temp.iloc[7:38, :].reset_index(drop=True)\n",
    "    temp.columns = ['날짜', '검색비율']\n",
    "    temp['날짜'] = temp['날짜'].astype(str)\n",
    "    temp['날짜'] = temp['날짜'].apply([lambda x: x.split(' ')[0]])\n",
    "    week_temp = temp[ (temp['날짜'] >= start_date) & (temp['날짜'] <= end_date)].reset_index(drop=True)\n",
    "    \n",
    "    colors = sns.color_palette('YlOrRd', week_temp.shape[0])\n",
    "    x = week_temp['날짜']\n",
    "    y = week_temp['검색비율']\n",
    "    try:\n",
    "        interval_ratio = math.ceil( max(y) )*0.05\n",
    "        interval_ratio2 = math.ceil( max(y) )*0.2\n",
    "        plt.figure( figsize=(12,8) )\n",
    "        plt.bar(x, y, color=colors)\n",
    "        plt.title(f\"카카오 트랜드 검색 비율\\n{title}-{artist}\", fontsize=20)\n",
    "        plt.xticks(fontsize=15,rotation=45)\n",
    "        plt.yticks(fontsize=15)\n",
    "        for i in range( len(y) ):\n",
    "                if y[i] <= interval_ratio2:\n",
    "                        plt.text(x[i], y[i]+interval_ratio, round(y[i],1), fontsize=15, color='black',\n",
    "                        horizontalalignment='center',\n",
    "                        verticalalignment='bottom')\n",
    "                else:\n",
    "                        plt.text(x[i], y[i]-interval_ratio, round(y[i],1), fontsize=15, color='black',\n",
    "                        horizontalalignment='center',\n",
    "                        verticalalignment='top')\n",
    "        file_name2 = f'{title}_{artist}.png'\n",
    "        save_img_path = os.path.join(des, file_name2)\n",
    "        plt.savefig(save_img_path)\n",
    "        plt.close()\n",
    "        print(f'{file_name2} 저장 완료.')\n",
    "    except:\n",
    "        pass"
   ]
  },
  {
   "cell_type": "markdown",
   "metadata": {},
   "source": [
    "# 코드 마지막"
   ]
  }
 ],
 "metadata": {
  "interpreter": {
   "hash": "9324a04c706a6b31eba7a0651aa7242016688d8fadcdb700b6e4a7f0e3e7d10a"
  },
  "kernelspec": {
   "display_name": "Python 3.9.7 ('base')",
   "language": "python",
   "name": "python3"
  },
  "language_info": {
   "codemirror_mode": {
    "name": "ipython",
    "version": 3
   },
   "file_extension": ".py",
   "mimetype": "text/x-python",
   "name": "python",
   "nbconvert_exporter": "python",
   "pygments_lexer": "ipython3",
   "version": "3.9.7"
  },
  "orig_nbformat": 4
 },
 "nbformat": 4,
 "nbformat_minor": 2
}
