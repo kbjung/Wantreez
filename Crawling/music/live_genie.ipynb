{
 "cells": [
  {
   "cell_type": "markdown",
   "metadata": {},
   "source": [
    "# Genie 일간 Top100 크롤링\n",
    "* 전일 낮12부터 12시간동안 기준"
   ]
  },
  {
   "cell_type": "markdown",
   "metadata": {},
   "source": [
    "## 라이브러리 로드"
   ]
  },
  {
   "cell_type": "code",
   "execution_count": 1,
   "metadata": {},
   "outputs": [],
   "source": [
    "from bs4 import BeautifulSoup as bs\n",
    "import pandas as pd\n",
    "import time, random\n",
    "from datetime import datetime\n",
    "import requests, os"
   ]
  },
  {
   "cell_type": "markdown",
   "metadata": {},
   "source": [
    "## 필요한 파일 확인 및 설치"
   ]
  },
  {
   "cell_type": "markdown",
   "metadata": {},
   "source": [
    "### 현재 경로 확인"
   ]
  },
  {
   "cell_type": "code",
   "execution_count": 2,
   "metadata": {},
   "outputs": [
    {
     "data": {
      "text/plain": [
       "'c:/data/Wantreez/Crawling/music'"
      ]
     },
     "execution_count": 2,
     "metadata": {},
     "output_type": "execute_result"
    }
   ],
   "source": [
    "# 현재 경로 확인\n",
    "code_path = os.getcwd().replace('\\\\', '/')\n",
    "code_path"
   ]
  },
  {
   "cell_type": "code",
   "execution_count": 3,
   "metadata": {},
   "outputs": [],
   "source": [
    "# 수집한 파일 저장할 폴더 생성\n",
    "crawled_folder_path = code_path + '/crawled_data/live_genie'\n",
    "os.makedirs(crawled_folder_path, exist_ok=True)"
   ]
  },
  {
   "cell_type": "markdown",
   "metadata": {},
   "source": [
    "## 크롤링할 링크 생성"
   ]
  },
  {
   "cell_type": "code",
   "execution_count": 4,
   "metadata": {},
   "outputs": [
    {
     "data": {
      "text/plain": [
       "'20220415'"
      ]
     },
     "execution_count": 4,
     "metadata": {},
     "output_type": "execute_result"
    }
   ],
   "source": [
    "# make link\n",
    "today_date = str(datetime.today().strftime(\"%Y%m%d\"))\n",
    "today_date"
   ]
  },
  {
   "cell_type": "code",
   "execution_count": 5,
   "metadata": {},
   "outputs": [
    {
     "data": {
      "text/plain": [
       "'18'"
      ]
     },
     "execution_count": 5,
     "metadata": {},
     "output_type": "execute_result"
    }
   ],
   "source": [
    "today_hour = str(datetime.today().strftime(\"%H\"))\n",
    "today_hour"
   ]
  },
  {
   "cell_type": "code",
   "execution_count": 6,
   "metadata": {},
   "outputs": [
    {
     "data": {
      "text/plain": [
       "2"
      ]
     },
     "execution_count": 6,
     "metadata": {},
     "output_type": "execute_result"
    }
   ],
   "source": [
    "link_list = []\n",
    "first_link = f'https://www.genie.co.kr/chart/top200?ditc=D&ymd={today_date}&hh={today_hour}&rtm=Y&pg=1'\n",
    "second_link = f'https://www.genie.co.kr/chart/top200?ditc=D&ymd={today_date}&hh={today_hour}&rtm=Y&pg=2'\n",
    "link_list.append(first_link)\n",
    "link_list.append(second_link)\n",
    "len(link_list)"
   ]
  },
  {
   "cell_type": "markdown",
   "metadata": {},
   "source": [
    "## 순위 날짜"
   ]
  },
  {
   "cell_type": "code",
   "execution_count": 7,
   "metadata": {},
   "outputs": [
    {
     "data": {
      "text/plain": [
       "'2022-04-15'"
      ]
     },
     "execution_count": 7,
     "metadata": {},
     "output_type": "execute_result"
    }
   ],
   "source": [
    "# 순위 날짜\n",
    "today_rank_date = str(datetime.today().strftime(\"%Y-%m-%d\"))\n",
    "today_rank_date"
   ]
  },
  {
   "cell_type": "code",
   "execution_count": 8,
   "metadata": {},
   "outputs": [
    {
     "data": {
      "text/plain": [
       "100"
      ]
     },
     "execution_count": 8,
     "metadata": {},
     "output_type": "execute_result"
    }
   ],
   "source": [
    "repeat_rank_date_list = []\n",
    "for i in range(100):\n",
    "    repeat_rank_date_list.append(today_rank_date)\n",
    "len(repeat_rank_date_list)"
   ]
  },
  {
   "cell_type": "markdown",
   "metadata": {},
   "source": [
    "## 순위"
   ]
  },
  {
   "cell_type": "code",
   "execution_count": 9,
   "metadata": {},
   "outputs": [],
   "source": [
    "# rank\n",
    "rank_list = []\n",
    "for i in range(1, 101):\n",
    "    rank_list.append(i)"
   ]
  },
  {
   "cell_type": "markdown",
   "metadata": {},
   "source": [
    "## 곡 제목, 가수, 앨범"
   ]
  },
  {
   "cell_type": "code",
   "execution_count": 10,
   "metadata": {},
   "outputs": [],
   "source": [
    "title_list = []\n",
    "artist_list = []\n",
    "album_list = []\n",
    "\n",
    "for link in link_list:\n",
    "        \n",
    "    # 페이지 접속\n",
    "    headers = {'User-Agent' : 'Mozilla/5.0 (Macintosh; Intel Mac OS X 10_14_4) AppleWebKit/537.36 (KHTML, like Gecko) Chrome/79.0.3945.117 Safari/537.36'}\n",
    "    # 지니뮤직 url\n",
    "    data = requests.get(link, headers=headers)\n",
    "    # soup : html형식\n",
    "    soup = bs(data.text, 'lxml')\n",
    "\n",
    "    # 곡 제목\n",
    "    song_info = soup.find_all('td', 'info')\n",
    "    for one in song_info:\n",
    "        temp = one.find('a', 'title ellipsis').text.strip()\n",
    "        if '19금' in temp:\n",
    "            temp = temp[3:].strip()\n",
    "        title_list.append(temp)\n",
    "\n",
    "    # 가수\n",
    "    for one in song_info:\n",
    "        temp = one.find('a', 'artist ellipsis').text\n",
    "        artist_list.append(temp)\n",
    "\n",
    "    # 앨범\n",
    "    for one in song_info:\n",
    "        temp = one.find('a', 'albumtitle ellipsis').text\n",
    "        album_list.append(temp)\n",
    "\n",
    "    time.sleep( random.uniform(0.5, 0.9) )"
   ]
  },
  {
   "cell_type": "markdown",
   "metadata": {},
   "source": [
    "## df 만들기"
   ]
  },
  {
   "cell_type": "code",
   "execution_count": 11,
   "metadata": {},
   "outputs": [],
   "source": [
    "# 데이터 셋으로 만들기\n",
    "dict = {'날짜':repeat_rank_date_list, '순위':rank_list, '곡':title_list, '가수':artist_list, '앨범':album_list}\n",
    "df = pd.DataFrame(dict)"
   ]
  },
  {
   "cell_type": "code",
   "execution_count": 12,
   "metadata": {},
   "outputs": [
    {
     "data": {
      "text/html": [
       "<div>\n",
       "<style scoped>\n",
       "    .dataframe tbody tr th:only-of-type {\n",
       "        vertical-align: middle;\n",
       "    }\n",
       "\n",
       "    .dataframe tbody tr th {\n",
       "        vertical-align: top;\n",
       "    }\n",
       "\n",
       "    .dataframe thead th {\n",
       "        text-align: right;\n",
       "    }\n",
       "</style>\n",
       "<table border=\"1\" class=\"dataframe\">\n",
       "  <thead>\n",
       "    <tr style=\"text-align: right;\">\n",
       "      <th></th>\n",
       "      <th>날짜</th>\n",
       "      <th>순위</th>\n",
       "      <th>곡</th>\n",
       "      <th>가수</th>\n",
       "      <th>앨범</th>\n",
       "    </tr>\n",
       "  </thead>\n",
       "  <tbody>\n",
       "    <tr>\n",
       "      <th>0</th>\n",
       "      <td>2022-04-15</td>\n",
       "      <td>1</td>\n",
       "      <td>봄여름가을겨울 (Still Life)</td>\n",
       "      <td>BIGBANG (빅뱅)</td>\n",
       "      <td>봄여름가을겨울 (Still Life)</td>\n",
       "    </tr>\n",
       "    <tr>\n",
       "      <th>1</th>\n",
       "      <td>2022-04-15</td>\n",
       "      <td>2</td>\n",
       "      <td>TOMBOY</td>\n",
       "      <td>(여자)아이들</td>\n",
       "      <td>I NEVER DIE</td>\n",
       "    </tr>\n",
       "    <tr>\n",
       "      <th>2</th>\n",
       "      <td>2022-04-15</td>\n",
       "      <td>3</td>\n",
       "      <td>LOVE DIVE</td>\n",
       "      <td>IVE (아이브)</td>\n",
       "      <td>LOVE DIVE</td>\n",
       "    </tr>\n",
       "    <tr>\n",
       "      <th>3</th>\n",
       "      <td>2022-04-15</td>\n",
       "      <td>4</td>\n",
       "      <td>Feel My Rhythm</td>\n",
       "      <td>Red Velvet (레드벨벳)</td>\n",
       "      <td>'The ReVe Festival 2022 - Feel My Rhythm'</td>\n",
       "    </tr>\n",
       "    <tr>\n",
       "      <th>4</th>\n",
       "      <td>2022-04-15</td>\n",
       "      <td>5</td>\n",
       "      <td>사랑인가 봐</td>\n",
       "      <td>멜로망스 (MeloMance)</td>\n",
       "      <td>사랑인가 봐 (사내맞선 OST 스페셜 트랙)</td>\n",
       "    </tr>\n",
       "    <tr>\n",
       "      <th>...</th>\n",
       "      <td>...</td>\n",
       "      <td>...</td>\n",
       "      <td>...</td>\n",
       "      <td>...</td>\n",
       "      <td>...</td>\n",
       "    </tr>\n",
       "    <tr>\n",
       "      <th>95</th>\n",
       "      <td>2022-04-15</td>\n",
       "      <td>96</td>\n",
       "      <td>12 : 45 (Stripped)</td>\n",
       "      <td>etham</td>\n",
       "      <td>12 : 45 (Stripped)</td>\n",
       "    </tr>\n",
       "    <tr>\n",
       "      <th>96</th>\n",
       "      <td>2022-04-15</td>\n",
       "      <td>97</td>\n",
       "      <td>봄 사랑 벚꽃 말고</td>\n",
       "      <td>HIGH4 &amp; 아이유</td>\n",
       "      <td>봄 사랑 벚꽃 말고</td>\n",
       "    </tr>\n",
       "    <tr>\n",
       "      <th>97</th>\n",
       "      <td>2022-04-15</td>\n",
       "      <td>98</td>\n",
       "      <td>잊을 수 있을까</td>\n",
       "      <td>노을</td>\n",
       "      <td>이별을 말하는</td>\n",
       "    </tr>\n",
       "    <tr>\n",
       "      <th>98</th>\n",
       "      <td>2022-04-15</td>\n",
       "      <td>99</td>\n",
       "      <td>어떻게 이별까지 사랑하겠어, 널 사랑하는 거지</td>\n",
       "      <td>AKMU (악뮤)</td>\n",
       "      <td>항해</td>\n",
       "    </tr>\n",
       "    <tr>\n",
       "      <th>99</th>\n",
       "      <td>2022-04-15</td>\n",
       "      <td>100</td>\n",
       "      <td>노래 (The Song)</td>\n",
       "      <td>비투비</td>\n",
       "      <td>Be Together</td>\n",
       "    </tr>\n",
       "  </tbody>\n",
       "</table>\n",
       "<p>100 rows × 5 columns</p>\n",
       "</div>"
      ],
      "text/plain": [
       "            날짜   순위                          곡                 가수  \\\n",
       "0   2022-04-15    1       봄여름가을겨울 (Still Life)       BIGBANG (빅뱅)   \n",
       "1   2022-04-15    2                     TOMBOY            (여자)아이들   \n",
       "2   2022-04-15    3                  LOVE DIVE          IVE (아이브)   \n",
       "3   2022-04-15    4             Feel My Rhythm  Red Velvet (레드벨벳)   \n",
       "4   2022-04-15    5                     사랑인가 봐   멜로망스 (MeloMance)   \n",
       "..         ...  ...                        ...                ...   \n",
       "95  2022-04-15   96         12 : 45 (Stripped)              etham   \n",
       "96  2022-04-15   97                 봄 사랑 벚꽃 말고        HIGH4 & 아이유   \n",
       "97  2022-04-15   98                   잊을 수 있을까                 노을   \n",
       "98  2022-04-15   99  어떻게 이별까지 사랑하겠어, 널 사랑하는 거지          AKMU (악뮤)   \n",
       "99  2022-04-15  100              노래 (The Song)                비투비   \n",
       "\n",
       "                                           앨범  \n",
       "0                        봄여름가을겨울 (Still Life)  \n",
       "1                                 I NEVER DIE  \n",
       "2                                   LOVE DIVE  \n",
       "3   'The ReVe Festival 2022 - Feel My Rhythm'  \n",
       "4                    사랑인가 봐 (사내맞선 OST 스페셜 트랙)  \n",
       "..                                        ...  \n",
       "95                         12 : 45 (Stripped)  \n",
       "96                                 봄 사랑 벚꽃 말고  \n",
       "97                                    이별을 말하는  \n",
       "98                                         항해  \n",
       "99                                Be Together  \n",
       "\n",
       "[100 rows x 5 columns]"
      ]
     },
     "execution_count": 12,
     "metadata": {},
     "output_type": "execute_result"
    }
   ],
   "source": [
    "df"
   ]
  },
  {
   "cell_type": "markdown",
   "metadata": {},
   "source": [
    "## 파일 생성"
   ]
  },
  {
   "cell_type": "code",
   "execution_count": 13,
   "metadata": {},
   "outputs": [
    {
     "name": "stdout",
     "output_type": "stream",
     "text": [
      "live_genie_20220415_180602.xlsx 파일 생성 완료\n"
     ]
    }
   ],
   "source": [
    "# excel 파일로 출력\n",
    "date = str(datetime.today().strftime(\"%Y%m%d_%H%M%S\"))\n",
    "file_name = 'live_genie_' + date + '.xlsx'\n",
    "path = crawled_folder_path + '/'\n",
    "df.to_excel(path + file_name, index=False, encoding='utf-8')\n",
    "\n",
    "print(f\"{file_name} 파일 생성 완료\")"
   ]
  },
  {
   "cell_type": "code",
   "execution_count": null,
   "metadata": {},
   "outputs": [],
   "source": [
    "df.to_excel(f'\\\\\\\\192.168.100.178/d/용역/2022/2022년 음원사재기 관련 모니터링 위탁용역/음원순위_크롤링/live_genie/{file_name}', index=False, encoding='utf-8')"
   ]
  },
  {
   "cell_type": "markdown",
   "metadata": {},
   "source": [
    "# 코드 마지막"
   ]
  }
 ],
 "metadata": {
  "interpreter": {
   "hash": "513dc2e41d739bb2c947903f3c0bbf636d03aa53ab50e61c694a27481c81805e"
  },
  "kernelspec": {
   "display_name": "Python 3.8.8 ('base')",
   "language": "python",
   "name": "python3"
  },
  "language_info": {
   "codemirror_mode": {
    "name": "ipython",
    "version": 3
   },
   "file_extension": ".py",
   "mimetype": "text/x-python",
   "name": "python",
   "nbconvert_exporter": "python",
   "pygments_lexer": "ipython3",
   "version": "3.9.7"
  },
  "orig_nbformat": 4
 },
 "nbformat": 4,
 "nbformat_minor": 2
}
