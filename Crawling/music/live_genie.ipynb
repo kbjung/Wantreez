{
 "cells": [
  {
   "cell_type": "markdown",
   "metadata": {},
   "source": [
    "# Genie 일간 Top100 크롤링\n",
    "* 전일 낮12부터 12시간동안 기준"
   ]
  },
  {
   "cell_type": "markdown",
   "metadata": {},
   "source": [
    "## 라이브러리 로드"
   ]
  },
  {
   "cell_type": "code",
   "execution_count": 1,
   "metadata": {},
   "outputs": [],
   "source": [
    "from bs4 import BeautifulSoup as bs\n",
    "import pandas as pd\n",
    "import time, random\n",
    "from datetime import datetime\n",
    "import requests"
   ]
  },
  {
   "cell_type": "markdown",
   "metadata": {},
   "source": [
    "## 크롤링할 링크 생성"
   ]
  },
  {
   "cell_type": "code",
   "execution_count": 26,
   "metadata": {},
   "outputs": [
    {
     "data": {
      "text/plain": [
       "'20220406'"
      ]
     },
     "execution_count": 26,
     "metadata": {},
     "output_type": "execute_result"
    }
   ],
   "source": [
    "# make link\n",
    "today_date = str(datetime.today().strftime(\"%Y%m%d\"))\n",
    "today_date"
   ]
  },
  {
   "cell_type": "code",
   "execution_count": 27,
   "metadata": {},
   "outputs": [
    {
     "data": {
      "text/plain": [
       "'10'"
      ]
     },
     "execution_count": 27,
     "metadata": {},
     "output_type": "execute_result"
    }
   ],
   "source": [
    "today_hour = str(datetime.today().strftime(\"%H\"))\n",
    "today_hour"
   ]
  },
  {
   "cell_type": "code",
   "execution_count": 28,
   "metadata": {},
   "outputs": [
    {
     "data": {
      "text/plain": [
       "2"
      ]
     },
     "execution_count": 28,
     "metadata": {},
     "output_type": "execute_result"
    }
   ],
   "source": [
    "link_list = []\n",
    "first_link = f'https://www.genie.co.kr/chart/top200?ditc=D&ymd={today_date}&hh={today_hour}&rtm=Y&pg=1'\n",
    "second_link = f'https://www.genie.co.kr/chart/top200?ditc=D&ymd={today_date}&hh={today_hour}&rtm=Y&pg=2'\n",
    "link_list.append(first_link)\n",
    "link_list.append(second_link)\n",
    "len(link_list)"
   ]
  },
  {
   "cell_type": "markdown",
   "metadata": {},
   "source": [
    "## 순위 날짜"
   ]
  },
  {
   "cell_type": "code",
   "execution_count": 29,
   "metadata": {},
   "outputs": [
    {
     "data": {
      "text/plain": [
       "'2022-04-06'"
      ]
     },
     "execution_count": 29,
     "metadata": {},
     "output_type": "execute_result"
    }
   ],
   "source": [
    "# 순위 날짜\n",
    "today_rank_date = str(datetime.today().strftime(\"%Y-%m-%d\"))\n",
    "today_rank_date"
   ]
  },
  {
   "cell_type": "code",
   "execution_count": 30,
   "metadata": {},
   "outputs": [
    {
     "data": {
      "text/plain": [
       "100"
      ]
     },
     "execution_count": 30,
     "metadata": {},
     "output_type": "execute_result"
    }
   ],
   "source": [
    "repeat_rank_date_list = []\n",
    "for i in range(100):\n",
    "    repeat_rank_date_list.append(today_rank_date)\n",
    "len(repeat_rank_date_list)"
   ]
  },
  {
   "cell_type": "markdown",
   "metadata": {},
   "source": [
    "## 순위"
   ]
  },
  {
   "cell_type": "code",
   "execution_count": 31,
   "metadata": {},
   "outputs": [],
   "source": [
    "# rank\n",
    "rank_list = []\n",
    "for i in range(1, 101):\n",
    "    rank_list.append(i)"
   ]
  },
  {
   "cell_type": "markdown",
   "metadata": {},
   "source": [
    "## 곡 제목, 가수, 앨범"
   ]
  },
  {
   "cell_type": "code",
   "execution_count": 32,
   "metadata": {},
   "outputs": [],
   "source": [
    "title_list = []\n",
    "artist_list = []\n",
    "album_list = []\n",
    "\n",
    "for link in link_list:\n",
    "        \n",
    "    # 페이지 접속\n",
    "    headers = {'User-Agent' : 'Mozilla/5.0 (Macintosh; Intel Mac OS X 10_14_4) AppleWebKit/537.36 (KHTML, like Gecko) Chrome/79.0.3945.117 Safari/537.36'}\n",
    "    # 지니뮤직 url\n",
    "    data = requests.get(link, headers=headers)\n",
    "    # soup : html형식\n",
    "    soup = bs(data.text, 'lxml')\n",
    "\n",
    "    # 곡 제목\n",
    "    song_info = soup.find_all('td', 'info')\n",
    "    for one in song_info:\n",
    "        temp = one.find('a', 'title ellipsis').text.strip()\n",
    "        title_list.append(temp)\n",
    "\n",
    "    # 가수\n",
    "    for one in song_info:\n",
    "        temp = one.find('a', 'artist ellipsis').text\n",
    "        artist_list.append(temp)\n",
    "\n",
    "    # 앨범\n",
    "    for one in song_info:\n",
    "        temp = one.find('a', 'albumtitle ellipsis').text\n",
    "        album_list.append(temp)\n",
    "\n",
    "    time.sleep( random.uniform(0.5, 0.9) )"
   ]
  },
  {
   "cell_type": "markdown",
   "metadata": {},
   "source": [
    "## df 만들기"
   ]
  },
  {
   "cell_type": "code",
   "execution_count": 33,
   "metadata": {},
   "outputs": [],
   "source": [
    "# 데이터 셋으로 만들기\n",
    "dict = {'날짜':repeat_rank_date_list, '순위':rank_list, '곡':title_list, '가수':artist_list, '앨범':album_list}\n",
    "df = pd.DataFrame(dict)"
   ]
  },
  {
   "cell_type": "code",
   "execution_count": 34,
   "metadata": {},
   "outputs": [
    {
     "data": {
      "text/html": [
       "<div>\n",
       "<style scoped>\n",
       "    .dataframe tbody tr th:only-of-type {\n",
       "        vertical-align: middle;\n",
       "    }\n",
       "\n",
       "    .dataframe tbody tr th {\n",
       "        vertical-align: top;\n",
       "    }\n",
       "\n",
       "    .dataframe thead th {\n",
       "        text-align: right;\n",
       "    }\n",
       "</style>\n",
       "<table border=\"1\" class=\"dataframe\">\n",
       "  <thead>\n",
       "    <tr style=\"text-align: right;\">\n",
       "      <th></th>\n",
       "      <th>날짜</th>\n",
       "      <th>순위</th>\n",
       "      <th>곡</th>\n",
       "      <th>가수</th>\n",
       "      <th>앨범</th>\n",
       "    </tr>\n",
       "  </thead>\n",
       "  <tbody>\n",
       "    <tr>\n",
       "      <th>0</th>\n",
       "      <td>2022-04-06</td>\n",
       "      <td>1</td>\n",
       "      <td>봄여름가을겨울 (Still Life)</td>\n",
       "      <td>BIGBANG (빅뱅)</td>\n",
       "      <td>봄여름가을겨울 (Still Life)</td>\n",
       "    </tr>\n",
       "    <tr>\n",
       "      <th>1</th>\n",
       "      <td>2022-04-06</td>\n",
       "      <td>2</td>\n",
       "      <td>TOMBOY</td>\n",
       "      <td>(여자)아이들</td>\n",
       "      <td>I NEVER DIE</td>\n",
       "    </tr>\n",
       "    <tr>\n",
       "      <th>2</th>\n",
       "      <td>2022-04-06</td>\n",
       "      <td>3</td>\n",
       "      <td>Feel My Rhythm</td>\n",
       "      <td>Red Velvet (레드벨벳)</td>\n",
       "      <td>'The ReVe Festival 2022 - Feel My Rhythm'</td>\n",
       "    </tr>\n",
       "    <tr>\n",
       "      <th>3</th>\n",
       "      <td>2022-04-06</td>\n",
       "      <td>4</td>\n",
       "      <td>GANADARA (Feat. 아이유)</td>\n",
       "      <td>박재범</td>\n",
       "      <td>GANADARA</td>\n",
       "    </tr>\n",
       "    <tr>\n",
       "      <th>4</th>\n",
       "      <td>2022-04-06</td>\n",
       "      <td>5</td>\n",
       "      <td>사랑인가 봐</td>\n",
       "      <td>멜로망스 (MeloMance)</td>\n",
       "      <td>사랑인가 봐 (사내맞선 OST 스페셜 트랙)</td>\n",
       "    </tr>\n",
       "    <tr>\n",
       "      <th>...</th>\n",
       "      <td>...</td>\n",
       "      <td>...</td>\n",
       "      <td>...</td>\n",
       "      <td>...</td>\n",
       "      <td>...</td>\n",
       "    </tr>\n",
       "    <tr>\n",
       "      <th>95</th>\n",
       "      <td>2022-04-06</td>\n",
       "      <td>96</td>\n",
       "      <td>어떻게 이별까지 사랑하겠어, 널 사랑하는 거지</td>\n",
       "      <td>AKMU (악뮤)</td>\n",
       "      <td>항해</td>\n",
       "    </tr>\n",
       "    <tr>\n",
       "      <th>96</th>\n",
       "      <td>2022-04-06</td>\n",
       "      <td>97</td>\n",
       "      <td>에잇 (Prod. &amp; Feat. SUGA of BTS)</td>\n",
       "      <td>아이유 (IU)</td>\n",
       "      <td>에잇</td>\n",
       "    </tr>\n",
       "    <tr>\n",
       "      <th>97</th>\n",
       "      <td>2022-04-06</td>\n",
       "      <td>98</td>\n",
       "      <td>그게 더 편할 것 같아 (N번째 연애 X 멜로망스)</td>\n",
       "      <td>멜로망스 (MeloMance)</td>\n",
       "      <td>그게 더 편할 것 같아 (N번째 연애 X 멜로망스)</td>\n",
       "    </tr>\n",
       "    <tr>\n",
       "      <th>98</th>\n",
       "      <td>2022-04-06</td>\n",
       "      <td>99</td>\n",
       "      <td>Dreams Come True</td>\n",
       "      <td>aespa</td>\n",
       "      <td>Dreams Come True - SM STATION</td>\n",
       "    </tr>\n",
       "    <tr>\n",
       "      <th>99</th>\n",
       "      <td>2022-04-06</td>\n",
       "      <td>100</td>\n",
       "      <td>롤린 (Rollin')</td>\n",
       "      <td>브레이브걸스 (Brave girls)</td>\n",
       "      <td>Rollin'</td>\n",
       "    </tr>\n",
       "  </tbody>\n",
       "</table>\n",
       "<p>100 rows × 5 columns</p>\n",
       "</div>"
      ],
      "text/plain": [
       "            날짜   순위                               곡                    가수  \\\n",
       "0   2022-04-06    1            봄여름가을겨울 (Still Life)          BIGBANG (빅뱅)   \n",
       "1   2022-04-06    2                          TOMBOY               (여자)아이들   \n",
       "2   2022-04-06    3                  Feel My Rhythm     Red Velvet (레드벨벳)   \n",
       "3   2022-04-06    4            GANADARA (Feat. 아이유)                   박재범   \n",
       "4   2022-04-06    5                          사랑인가 봐      멜로망스 (MeloMance)   \n",
       "..         ...  ...                             ...                   ...   \n",
       "95  2022-04-06   96       어떻게 이별까지 사랑하겠어, 널 사랑하는 거지             AKMU (악뮤)   \n",
       "96  2022-04-06   97  에잇 (Prod. & Feat. SUGA of BTS)              아이유 (IU)   \n",
       "97  2022-04-06   98    그게 더 편할 것 같아 (N번째 연애 X 멜로망스)      멜로망스 (MeloMance)   \n",
       "98  2022-04-06   99                Dreams Come True                 aespa   \n",
       "99  2022-04-06  100                    롤린 (Rollin')  브레이브걸스 (Brave girls)   \n",
       "\n",
       "                                           앨범  \n",
       "0                        봄여름가을겨울 (Still Life)  \n",
       "1                                 I NEVER DIE  \n",
       "2   'The ReVe Festival 2022 - Feel My Rhythm'  \n",
       "3                                    GANADARA  \n",
       "4                    사랑인가 봐 (사내맞선 OST 스페셜 트랙)  \n",
       "..                                        ...  \n",
       "95                                         항해  \n",
       "96                                         에잇  \n",
       "97               그게 더 편할 것 같아 (N번째 연애 X 멜로망스)  \n",
       "98              Dreams Come True - SM STATION  \n",
       "99                                    Rollin'  \n",
       "\n",
       "[100 rows x 5 columns]"
      ]
     },
     "execution_count": 34,
     "metadata": {},
     "output_type": "execute_result"
    }
   ],
   "source": [
    "df"
   ]
  },
  {
   "cell_type": "markdown",
   "metadata": {},
   "source": [
    "## 파일 생성"
   ]
  },
  {
   "cell_type": "code",
   "execution_count": 35,
   "metadata": {},
   "outputs": [
    {
     "name": "stdout",
     "output_type": "stream",
     "text": [
      "live_genie_20220406.xlsx 파일 생성 완료\n"
     ]
    }
   ],
   "source": [
    "# excel 파일로 출력\n",
    "date = str(datetime.today().strftime(\"%Y%m%d\"))\n",
    "file_name = 'live_genie_' + date + '.xlsx'\n",
    "path = '../crawling_data/live_genie/'\n",
    "df.to_excel(path+file_name, index=False, encoding='utf-8')\n",
    "\n",
    "print(f\"{file_name} 파일 생성 완료\")"
   ]
  },
  {
   "cell_type": "markdown",
   "metadata": {},
   "source": [
    "# 코드 마지막"
   ]
  }
 ],
 "metadata": {
  "interpreter": {
   "hash": "513dc2e41d739bb2c947903f3c0bbf636d03aa53ab50e61c694a27481c81805e"
  },
  "kernelspec": {
   "display_name": "Python 3.8.8 ('base')",
   "language": "python",
   "name": "python3"
  },
  "language_info": {
   "codemirror_mode": {
    "name": "ipython",
    "version": 3
   },
   "file_extension": ".py",
   "mimetype": "text/x-python",
   "name": "python",
   "nbconvert_exporter": "python",
   "pygments_lexer": "ipython3",
   "version": "3.8.8"
  },
  "orig_nbformat": 4
 },
 "nbformat": 4,
 "nbformat_minor": 2
}
