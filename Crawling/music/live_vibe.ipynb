{
 "cells": [
  {
   "cell_type": "markdown",
   "metadata": {},
   "source": [
    "# Vibe 일간 Top100 순위 크롤링"
   ]
  },
  {
   "cell_type": "markdown",
   "metadata": {},
   "source": [
    "## 라이브러리 로드"
   ]
  },
  {
   "cell_type": "code",
   "execution_count": 1,
   "metadata": {},
   "outputs": [],
   "source": [
    "from selenium import webdriver\n",
    "from bs4 import BeautifulSoup as bs\n",
    "import pandas as pd\n",
    "# import requests\n",
    "from datetime import datetime"
   ]
  },
  {
   "cell_type": "markdown",
   "metadata": {},
   "source": [
    "## 페이지 접속"
   ]
  },
  {
   "cell_type": "code",
   "execution_count": 2,
   "metadata": {},
   "outputs": [],
   "source": [
    "url = 'https://vibe.naver.com/chart/total'\n",
    "# # 페이지 접속\n",
    "# headers = {'User-Agent' : 'Mozilla/5.0 (Macintosh; Intel Mac OS X 10_14_4) AppleWebKit/537.36 (KHTML, like Gecko) Chrome/79.0.3945.117 Safari/537.36'}\n",
    "# # 지니뮤직 url\n",
    "# data = requests.get(url, headers=headers)\n",
    "# # soup : html형식\n",
    "# soup = bs(data.text, 'lxml')"
   ]
  },
  {
   "cell_type": "code",
   "execution_count": 3,
   "metadata": {},
   "outputs": [
    {
     "name": "stderr",
     "output_type": "stream",
     "text": [
      "<ipython-input-3-5554760e3e6a>:1: DeprecationWarning: executable_path has been deprecated, please pass in a Service object\n",
      "  driver = webdriver.Chrome('../chromedriver')\n"
     ]
    }
   ],
   "source": [
    "driver = webdriver.Chrome('../chromedriver')\n",
    "driver.get(url)\n",
    "driver.maximize_window()\n",
    "soup = bs(driver.page_source, 'lxml')"
   ]
  },
  {
   "cell_type": "code",
   "execution_count": 4,
   "metadata": {},
   "outputs": [
    {
     "data": {
      "text/plain": [
       "'오늘 Top 100 VIBE(바이브)'"
      ]
     },
     "execution_count": 4,
     "metadata": {},
     "output_type": "execute_result"
    }
   ],
   "source": [
    "soup.title.text"
   ]
  },
  {
   "cell_type": "markdown",
   "metadata": {},
   "source": [
    "## 순위"
   ]
  },
  {
   "cell_type": "code",
   "execution_count": 5,
   "metadata": {},
   "outputs": [],
   "source": [
    "# rank\n",
    "rank_list = []\n",
    "for i in range(1, 101):\n",
    "    rank_list.append(i)"
   ]
  },
  {
   "cell_type": "markdown",
   "metadata": {},
   "source": [
    "## 곡 제목"
   ]
  },
  {
   "cell_type": "code",
   "execution_count": 6,
   "metadata": {},
   "outputs": [
    {
     "data": {
      "text/plain": [
       "100"
      ]
     },
     "execution_count": 6,
     "metadata": {},
     "output_type": "execute_result"
    }
   ],
   "source": [
    "# song_title\n",
    "titles = soup.find_all('div', 'title_badge_wrap')\n",
    "len(titles)"
   ]
  },
  {
   "cell_type": "code",
   "execution_count": 7,
   "metadata": {},
   "outputs": [
    {
     "data": {
      "text/plain": [
       "100"
      ]
     },
     "execution_count": 7,
     "metadata": {},
     "output_type": "execute_result"
    }
   ],
   "source": [
    "title_list = []\n",
    "for one in titles:\n",
    "    temp = one.find('a', 'link_text').text\n",
    "    title_list.append(temp)\n",
    "len(title_list)"
   ]
  },
  {
   "cell_type": "markdown",
   "metadata": {},
   "source": [
    "## 가수"
   ]
  },
  {
   "cell_type": "code",
   "execution_count": 8,
   "metadata": {},
   "outputs": [
    {
     "data": {
      "text/plain": [
       "100"
      ]
     },
     "execution_count": 8,
     "metadata": {},
     "output_type": "execute_result"
    }
   ],
   "source": [
    "# artist\n",
    "artists = soup.find_all('td', 'artist')\n",
    "len(artists)"
   ]
  },
  {
   "cell_type": "code",
   "execution_count": 9,
   "metadata": {},
   "outputs": [
    {
     "data": {
      "text/plain": [
       "100"
      ]
     },
     "execution_count": 9,
     "metadata": {},
     "output_type": "execute_result"
    }
   ],
   "source": [
    "artist_list = []\n",
    "for one in artists:\n",
    "    temp = one.find('a', 'link_artist').text\n",
    "    artist_list.append(temp)\n",
    "len(artist_list)"
   ]
  },
  {
   "cell_type": "markdown",
   "metadata": {},
   "source": [
    "## 앨범"
   ]
  },
  {
   "cell_type": "code",
   "execution_count": 10,
   "metadata": {},
   "outputs": [
    {
     "data": {
      "text/plain": [
       "100"
      ]
     },
     "execution_count": 10,
     "metadata": {},
     "output_type": "execute_result"
    }
   ],
   "source": [
    "# album\n",
    "albums = soup.find_all('td', 'album')\n",
    "len(albums)"
   ]
  },
  {
   "cell_type": "code",
   "execution_count": 11,
   "metadata": {},
   "outputs": [
    {
     "data": {
      "text/plain": [
       "100"
      ]
     },
     "execution_count": 11,
     "metadata": {},
     "output_type": "execute_result"
    }
   ],
   "source": [
    "album_list = []\n",
    "for one in albums:\n",
    "    temp = one.find('a', 'link').text\n",
    "    album_list.append(temp)\n",
    "len(album_list)"
   ]
  },
  {
   "cell_type": "markdown",
   "metadata": {},
   "source": [
    "## df 생성"
   ]
  },
  {
   "cell_type": "code",
   "execution_count": 12,
   "metadata": {},
   "outputs": [],
   "source": [
    "# make df\n",
    "dict = {'순위':rank_list, '곡':title_list, '가수':artist_list, '앨범':album_list}\n",
    "df = pd.DataFrame(dict)"
   ]
  },
  {
   "cell_type": "code",
   "execution_count": 13,
   "metadata": {},
   "outputs": [
    {
     "data": {
      "text/html": [
       "<div>\n",
       "<style scoped>\n",
       "    .dataframe tbody tr th:only-of-type {\n",
       "        vertical-align: middle;\n",
       "    }\n",
       "\n",
       "    .dataframe tbody tr th {\n",
       "        vertical-align: top;\n",
       "    }\n",
       "\n",
       "    .dataframe thead th {\n",
       "        text-align: right;\n",
       "    }\n",
       "</style>\n",
       "<table border=\"1\" class=\"dataframe\">\n",
       "  <thead>\n",
       "    <tr style=\"text-align: right;\">\n",
       "      <th></th>\n",
       "      <th>순위</th>\n",
       "      <th>곡</th>\n",
       "      <th>가수</th>\n",
       "      <th>앨범</th>\n",
       "    </tr>\n",
       "  </thead>\n",
       "  <tbody>\n",
       "    <tr>\n",
       "      <th>0</th>\n",
       "      <td>1</td>\n",
       "      <td>TOMBOY</td>\n",
       "      <td>(여자) 아이들</td>\n",
       "      <td>I NEVER DIE</td>\n",
       "    </tr>\n",
       "    <tr>\n",
       "      <th>1</th>\n",
       "      <td>2</td>\n",
       "      <td>Feel My Rhythm</td>\n",
       "      <td>Red Velvet (레드벨벳)</td>\n",
       "      <td>'The ReVe Festival 2022 - Feel My Rhythm'</td>\n",
       "    </tr>\n",
       "    <tr>\n",
       "      <th>2</th>\n",
       "      <td>3</td>\n",
       "      <td>GANADARA (Feat. 아이유)</td>\n",
       "      <td>박재범</td>\n",
       "      <td>GANADARA</td>\n",
       "    </tr>\n",
       "    <tr>\n",
       "      <th>3</th>\n",
       "      <td>4</td>\n",
       "      <td>INVU</td>\n",
       "      <td>태연 (TAEYEON)</td>\n",
       "      <td>INVU - The 3rd Album</td>\n",
       "    </tr>\n",
       "    <tr>\n",
       "      <th>4</th>\n",
       "      <td>5</td>\n",
       "      <td>RUN2U</td>\n",
       "      <td>STAYC(스테이씨)</td>\n",
       "      <td>YOUNG-LUV.COM</td>\n",
       "    </tr>\n",
       "    <tr>\n",
       "      <th>...</th>\n",
       "      <td>...</td>\n",
       "      <td>...</td>\n",
       "      <td>...</td>\n",
       "      <td>...</td>\n",
       "    </tr>\n",
       "    <tr>\n",
       "      <th>95</th>\n",
       "      <td>96</td>\n",
       "      <td>흰눈</td>\n",
       "      <td>먼데이키즈(Monday Kiz)</td>\n",
       "      <td>흰눈</td>\n",
       "    </tr>\n",
       "    <tr>\n",
       "      <th>96</th>\n",
       "      <td>97</td>\n",
       "      <td>거리에서</td>\n",
       "      <td>성시경</td>\n",
       "      <td>The Ballads</td>\n",
       "    </tr>\n",
       "    <tr>\n",
       "      <th>97</th>\n",
       "      <td>98</td>\n",
       "      <td>꽃 (With 김민석 of 멜로망스)</td>\n",
       "      <td>박봄(Park Bom)</td>\n",
       "      <td>꽃</td>\n",
       "    </tr>\n",
       "    <tr>\n",
       "      <th>98</th>\n",
       "      <td>99</td>\n",
       "      <td>가까운 듯 먼 그대여</td>\n",
       "      <td>카더가든</td>\n",
       "      <td>가까운 듯 먼 그대여</td>\n",
       "    </tr>\n",
       "    <tr>\n",
       "      <th>99</th>\n",
       "      <td>100</td>\n",
       "      <td>아무래도 난</td>\n",
       "      <td>주시크 (Joosiq)</td>\n",
       "      <td>아무래도 난</td>\n",
       "    </tr>\n",
       "  </tbody>\n",
       "</table>\n",
       "<p>100 rows × 4 columns</p>\n",
       "</div>"
      ],
      "text/plain": [
       "     순위                     곡                 가수  \\\n",
       "0     1                TOMBOY           (여자) 아이들   \n",
       "1     2        Feel My Rhythm  Red Velvet (레드벨벳)   \n",
       "2     3  GANADARA (Feat. 아이유)                박재범   \n",
       "3     4                  INVU       태연 (TAEYEON)   \n",
       "4     5                 RUN2U        STAYC(스테이씨)   \n",
       "..  ...                   ...                ...   \n",
       "95   96                    흰눈  먼데이키즈(Monday Kiz)   \n",
       "96   97                  거리에서                성시경   \n",
       "97   98  꽃 (With 김민석 of 멜로망스)       박봄(Park Bom)   \n",
       "98   99           가까운 듯 먼 그대여               카더가든   \n",
       "99  100                아무래도 난       주시크 (Joosiq)   \n",
       "\n",
       "                                           앨범  \n",
       "0                                 I NEVER DIE  \n",
       "1   'The ReVe Festival 2022 - Feel My Rhythm'  \n",
       "2                                    GANADARA  \n",
       "3                        INVU - The 3rd Album  \n",
       "4                               YOUNG-LUV.COM  \n",
       "..                                        ...  \n",
       "95                                         흰눈  \n",
       "96                                The Ballads  \n",
       "97                                          꽃  \n",
       "98                                가까운 듯 먼 그대여  \n",
       "99                                     아무래도 난  \n",
       "\n",
       "[100 rows x 4 columns]"
      ]
     },
     "execution_count": 13,
     "metadata": {},
     "output_type": "execute_result"
    }
   ],
   "source": [
    "df"
   ]
  },
  {
   "cell_type": "markdown",
   "metadata": {},
   "source": [
    "## 파일로 출력"
   ]
  },
  {
   "cell_type": "code",
   "execution_count": 14,
   "metadata": {},
   "outputs": [
    {
     "name": "stdout",
     "output_type": "stream",
     "text": [
      "live_vibe_20220405-154415.xlsx 파일 생성 완료\n"
     ]
    }
   ],
   "source": [
    "# make excel\n",
    "today_date = str(datetime.today().strftime(\"%Y%m%d-%H%M%S\"))\n",
    "file_name = 'live_vibe_' + today_date + '.xlsx'\n",
    "path = '../crawling_data/live_vibe/'\n",
    "df.to_excel(path+file_name, index=False, encoding='utf-8')\n",
    "\n",
    "print(f\"{file_name} 파일 생성 완료\")"
   ]
  },
  {
   "cell_type": "markdown",
   "metadata": {},
   "source": [
    "# 코드 마지막"
   ]
  }
 ],
 "metadata": {
  "interpreter": {
   "hash": "513dc2e41d739bb2c947903f3c0bbf636d03aa53ab50e61c694a27481c81805e"
  },
  "kernelspec": {
   "display_name": "Python 3.8.8 ('base')",
   "language": "python",
   "name": "python3"
  },
  "language_info": {
   "codemirror_mode": {
    "name": "ipython",
    "version": 3
   },
   "file_extension": ".py",
   "mimetype": "text/x-python",
   "name": "python",
   "nbconvert_exporter": "python",
   "pygments_lexer": "ipython3",
   "version": "3.8.8"
  },
  "orig_nbformat": 4
 },
 "nbformat": 4,
 "nbformat_minor": 2
}
