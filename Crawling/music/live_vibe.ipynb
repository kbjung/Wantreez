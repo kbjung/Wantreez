{
 "cells": [
  {
   "cell_type": "markdown",
   "metadata": {},
   "source": [
    "# Vibe 일간 Top100 순위 크롤링\n",
    "* 24시간동안, 오전 7시 업데이트"
   ]
  },
  {
   "cell_type": "markdown",
   "metadata": {},
   "source": [
    "## 라이브러리 로드"
   ]
  },
  {
   "cell_type": "code",
   "execution_count": 1,
   "metadata": {},
   "outputs": [],
   "source": [
    "from selenium import webdriver\n",
    "from bs4 import BeautifulSoup as bs\n",
    "import pandas as pd\n",
    "from datetime import datetime\n",
    "import os\n",
    "import chromedriver_autoinstaller as ca"
   ]
  },
  {
   "cell_type": "markdown",
   "metadata": {},
   "source": [
    "## 파일 경로 확인"
   ]
  },
  {
   "cell_type": "code",
   "execution_count": 2,
   "metadata": {},
   "outputs": [
    {
     "data": {
      "text/plain": [
       "'c:/data/Wantreez/Crawling/music'"
      ]
     },
     "execution_count": 2,
     "metadata": {},
     "output_type": "execute_result"
    }
   ],
   "source": [
    "# 현재 경로 확인\n",
    "code_path = os.getcwd().replace('\\\\', '/')\n",
    "code_path"
   ]
  },
  {
   "cell_type": "code",
   "execution_count": 3,
   "metadata": {},
   "outputs": [],
   "source": [
    "# 수집한 파일 저장할 폴더 생성\n",
    "crawled_folder_path = code_path + '/crawled_data/live_vibe'\n",
    "os.makedirs(crawled_folder_path, exist_ok=True)"
   ]
  },
  {
   "cell_type": "markdown",
   "metadata": {},
   "source": [
    "## 크롬 드라이브 버전 확인"
   ]
  },
  {
   "cell_type": "code",
   "execution_count": 4,
   "metadata": {},
   "outputs": [
    {
     "name": "stderr",
     "output_type": "stream",
     "text": [
      "C:\\Users\\kbjung\\AppData\\Local\\Temp/ipykernel_3900/430984902.py:5: DeprecationWarning: executable_path has been deprecated, please pass in a Service object\n",
      "  driver = webdriver.Chrome(code_path + f'/{chrome_ver}/' +'chromedriver.exe')\n"
     ]
    }
   ],
   "source": [
    "# 현재 크롬 버전 확인\n",
    "chrome_ver = ca.get_chrome_version().split('.')[0]\n",
    "# 크롬 드라이버 확인 및 설치\n",
    "try:\n",
    "    driver = webdriver.Chrome(code_path + f'/{chrome_ver}/' +'chromedriver.exe')\n",
    "except:\n",
    "    ca.install(True)\n",
    "    driver = webdriver.Chrome(code_path + f'/{chrome_ver}/' +'chromedriver.exe')"
   ]
  },
  {
   "cell_type": "markdown",
   "metadata": {},
   "source": [
    "## 페이지 접속"
   ]
  },
  {
   "cell_type": "code",
   "execution_count": 5,
   "metadata": {},
   "outputs": [],
   "source": [
    "url = 'https://vibe.naver.com/chart/total'\n",
    "# # 페이지 접속\n",
    "# headers = {'User-Agent' : 'Mozilla/5.0 (Macintosh; Intel Mac OS X 10_14_4) AppleWebKit/537.36 (KHTML, like Gecko) Chrome/79.0.3945.117 Safari/537.36'}\n",
    "# # 지니뮤직 url\n",
    "# data = requests.get(url, headers=headers)\n",
    "# # soup : html형식\n",
    "# soup = bs(data.text, 'lxml')\n",
    "# 일부만 수집되어 selenium 활용"
   ]
  },
  {
   "cell_type": "code",
   "execution_count": 6,
   "metadata": {},
   "outputs": [],
   "source": [
    "driver.get(url)\n",
    "driver.implicitly_wait(3)\n",
    "driver.maximize_window()\n",
    "soup = bs(driver.page_source, 'lxml')"
   ]
  },
  {
   "cell_type": "code",
   "execution_count": 7,
   "metadata": {},
   "outputs": [
    {
     "data": {
      "text/plain": [
       "'오늘 Top 100 VIBE(바이브)'"
      ]
     },
     "execution_count": 7,
     "metadata": {},
     "output_type": "execute_result"
    }
   ],
   "source": [
    "soup.title.text"
   ]
  },
  {
   "cell_type": "code",
   "execution_count": 8,
   "metadata": {},
   "outputs": [],
   "source": [
    "# driver quit\n",
    "driver.quit()"
   ]
  },
  {
   "cell_type": "markdown",
   "metadata": {},
   "source": [
    "## 순위 날짜"
   ]
  },
  {
   "cell_type": "code",
   "execution_count": 9,
   "metadata": {},
   "outputs": [
    {
     "data": {
      "text/plain": [
       "'2022-04-15'"
      ]
     },
     "execution_count": 9,
     "metadata": {},
     "output_type": "execute_result"
    }
   ],
   "source": [
    "# 순위 날짜\n",
    "rank_date = datetime.today().strftime('%Y-%m-%d')\n",
    "rank_date"
   ]
  },
  {
   "cell_type": "code",
   "execution_count": 10,
   "metadata": {},
   "outputs": [
    {
     "data": {
      "text/plain": [
       "100"
      ]
     },
     "execution_count": 10,
     "metadata": {},
     "output_type": "execute_result"
    }
   ],
   "source": [
    "repeat_rank_date_list = []\n",
    "for i in range(100):\n",
    "    repeat_rank_date_list.append(rank_date)\n",
    "len(repeat_rank_date_list)"
   ]
  },
  {
   "cell_type": "markdown",
   "metadata": {},
   "source": [
    "## 순위"
   ]
  },
  {
   "cell_type": "code",
   "execution_count": 11,
   "metadata": {},
   "outputs": [],
   "source": [
    "# rank\n",
    "rank_list = []\n",
    "for i in range(1, 101):\n",
    "    rank_list.append(i)"
   ]
  },
  {
   "cell_type": "markdown",
   "metadata": {},
   "source": [
    "## 곡 제목"
   ]
  },
  {
   "cell_type": "code",
   "execution_count": 12,
   "metadata": {},
   "outputs": [
    {
     "data": {
      "text/plain": [
       "100"
      ]
     },
     "execution_count": 12,
     "metadata": {},
     "output_type": "execute_result"
    }
   ],
   "source": [
    "# song_title\n",
    "titles = soup.find_all('div', 'title_badge_wrap')\n",
    "len(titles)"
   ]
  },
  {
   "cell_type": "code",
   "execution_count": 13,
   "metadata": {},
   "outputs": [
    {
     "data": {
      "text/plain": [
       "100"
      ]
     },
     "execution_count": 13,
     "metadata": {},
     "output_type": "execute_result"
    }
   ],
   "source": [
    "title_list = []\n",
    "for one in titles:\n",
    "    temp = one.find('a', 'link_text').text\n",
    "    title_list.append(temp)\n",
    "len(title_list)"
   ]
  },
  {
   "cell_type": "markdown",
   "metadata": {},
   "source": [
    "## 가수"
   ]
  },
  {
   "cell_type": "code",
   "execution_count": 14,
   "metadata": {},
   "outputs": [
    {
     "data": {
      "text/plain": [
       "100"
      ]
     },
     "execution_count": 14,
     "metadata": {},
     "output_type": "execute_result"
    }
   ],
   "source": [
    "# artist\n",
    "artists = soup.find_all('td', 'artist')\n",
    "len(artists)"
   ]
  },
  {
   "cell_type": "code",
   "execution_count": 15,
   "metadata": {},
   "outputs": [
    {
     "data": {
      "text/plain": [
       "100"
      ]
     },
     "execution_count": 15,
     "metadata": {},
     "output_type": "execute_result"
    }
   ],
   "source": [
    "artist_list = []\n",
    "for one in artists:\n",
    "    temp = one.find('a', 'link_artist').text\n",
    "    artist_list.append(temp)\n",
    "len(artist_list)"
   ]
  },
  {
   "cell_type": "markdown",
   "metadata": {},
   "source": [
    "## 앨범"
   ]
  },
  {
   "cell_type": "code",
   "execution_count": 16,
   "metadata": {},
   "outputs": [
    {
     "data": {
      "text/plain": [
       "100"
      ]
     },
     "execution_count": 16,
     "metadata": {},
     "output_type": "execute_result"
    }
   ],
   "source": [
    "# album\n",
    "albums = soup.find_all('td', 'album')\n",
    "len(albums)"
   ]
  },
  {
   "cell_type": "code",
   "execution_count": 17,
   "metadata": {},
   "outputs": [
    {
     "data": {
      "text/plain": [
       "100"
      ]
     },
     "execution_count": 17,
     "metadata": {},
     "output_type": "execute_result"
    }
   ],
   "source": [
    "album_list = []\n",
    "for one in albums:\n",
    "    temp = one.find('a', 'link').text\n",
    "    album_list.append(temp)\n",
    "len(album_list)"
   ]
  },
  {
   "cell_type": "markdown",
   "metadata": {},
   "source": [
    "## df 생성"
   ]
  },
  {
   "cell_type": "code",
   "execution_count": 18,
   "metadata": {},
   "outputs": [],
   "source": [
    "# make df\n",
    "dict = {'날짜':repeat_rank_date_list, '순위':rank_list, '곡':title_list, '가수':artist_list, '앨범':album_list}\n",
    "df = pd.DataFrame(dict)"
   ]
  },
  {
   "cell_type": "code",
   "execution_count": 19,
   "metadata": {},
   "outputs": [
    {
     "data": {
      "text/html": [
       "<div>\n",
       "<style scoped>\n",
       "    .dataframe tbody tr th:only-of-type {\n",
       "        vertical-align: middle;\n",
       "    }\n",
       "\n",
       "    .dataframe tbody tr th {\n",
       "        vertical-align: top;\n",
       "    }\n",
       "\n",
       "    .dataframe thead th {\n",
       "        text-align: right;\n",
       "    }\n",
       "</style>\n",
       "<table border=\"1\" class=\"dataframe\">\n",
       "  <thead>\n",
       "    <tr style=\"text-align: right;\">\n",
       "      <th></th>\n",
       "      <th>날짜</th>\n",
       "      <th>순위</th>\n",
       "      <th>곡</th>\n",
       "      <th>가수</th>\n",
       "      <th>앨범</th>\n",
       "    </tr>\n",
       "  </thead>\n",
       "  <tbody>\n",
       "    <tr>\n",
       "      <th>0</th>\n",
       "      <td>2022-04-15</td>\n",
       "      <td>1</td>\n",
       "      <td>봄여름가을겨울 (Still Life)</td>\n",
       "      <td>BIGBANG (빅뱅)</td>\n",
       "      <td>봄여름가을겨울 (Still Life)</td>\n",
       "    </tr>\n",
       "    <tr>\n",
       "      <th>1</th>\n",
       "      <td>2022-04-15</td>\n",
       "      <td>2</td>\n",
       "      <td>TOMBOY</td>\n",
       "      <td>(여자) 아이들</td>\n",
       "      <td>I NEVER DIE</td>\n",
       "    </tr>\n",
       "    <tr>\n",
       "      <th>2</th>\n",
       "      <td>2022-04-15</td>\n",
       "      <td>3</td>\n",
       "      <td>LOVE DIVE</td>\n",
       "      <td>IVE(아이브)</td>\n",
       "      <td>LOVE DIVE</td>\n",
       "    </tr>\n",
       "    <tr>\n",
       "      <th>3</th>\n",
       "      <td>2022-04-15</td>\n",
       "      <td>4</td>\n",
       "      <td>Feel My Rhythm</td>\n",
       "      <td>Red Velvet (레드벨벳)</td>\n",
       "      <td>'The ReVe Festival 2022 - Feel My Rhythm'</td>\n",
       "    </tr>\n",
       "    <tr>\n",
       "      <th>4</th>\n",
       "      <td>2022-04-15</td>\n",
       "      <td>5</td>\n",
       "      <td>GANADARA (Feat. 아이유)</td>\n",
       "      <td>박재범</td>\n",
       "      <td>GANADARA</td>\n",
       "    </tr>\n",
       "    <tr>\n",
       "      <th>...</th>\n",
       "      <td>...</td>\n",
       "      <td>...</td>\n",
       "      <td>...</td>\n",
       "      <td>...</td>\n",
       "      <td>...</td>\n",
       "    </tr>\n",
       "    <tr>\n",
       "      <th>95</th>\n",
       "      <td>2022-04-15</td>\n",
       "      <td>96</td>\n",
       "      <td>Lovesick Girls</td>\n",
       "      <td>BLACKPINK</td>\n",
       "      <td>THE ALBUM</td>\n",
       "    </tr>\n",
       "    <tr>\n",
       "      <th>96</th>\n",
       "      <td>2022-04-15</td>\n",
       "      <td>97</td>\n",
       "      <td>As It Was</td>\n",
       "      <td>Harry Styles</td>\n",
       "      <td>As It Was</td>\n",
       "    </tr>\n",
       "    <tr>\n",
       "      <th>97</th>\n",
       "      <td>2022-04-15</td>\n",
       "      <td>98</td>\n",
       "      <td>내 생에 아름다운</td>\n",
       "      <td>이예준</td>\n",
       "      <td>내 생에 아름다운</td>\n",
       "    </tr>\n",
       "    <tr>\n",
       "      <th>98</th>\n",
       "      <td>2022-04-15</td>\n",
       "      <td>99</td>\n",
       "      <td>DICE</td>\n",
       "      <td>온유 (ONEW)</td>\n",
       "      <td>DICE - The 2nd Mini Album</td>\n",
       "    </tr>\n",
       "    <tr>\n",
       "      <th>99</th>\n",
       "      <td>2022-04-15</td>\n",
       "      <td>100</td>\n",
       "      <td>Love Blossom (러브블러썸)</td>\n",
       "      <td>케이윌</td>\n",
       "      <td>The 3rd Album Part 2 'Love Blossom (러브블러썸)'</td>\n",
       "    </tr>\n",
       "  </tbody>\n",
       "</table>\n",
       "<p>100 rows × 5 columns</p>\n",
       "</div>"
      ],
      "text/plain": [
       "            날짜   순위                     곡                 가수  \\\n",
       "0   2022-04-15    1  봄여름가을겨울 (Still Life)       BIGBANG (빅뱅)   \n",
       "1   2022-04-15    2                TOMBOY           (여자) 아이들   \n",
       "2   2022-04-15    3             LOVE DIVE           IVE(아이브)   \n",
       "3   2022-04-15    4        Feel My Rhythm  Red Velvet (레드벨벳)   \n",
       "4   2022-04-15    5  GANADARA (Feat. 아이유)                박재범   \n",
       "..         ...  ...                   ...                ...   \n",
       "95  2022-04-15   96        Lovesick Girls          BLACKPINK   \n",
       "96  2022-04-15   97             As It Was       Harry Styles   \n",
       "97  2022-04-15   98             내 생에 아름다운                이예준   \n",
       "98  2022-04-15   99                  DICE          온유 (ONEW)   \n",
       "99  2022-04-15  100  Love Blossom (러브블러썸)                케이윌   \n",
       "\n",
       "                                             앨범  \n",
       "0                          봄여름가을겨울 (Still Life)  \n",
       "1                                   I NEVER DIE  \n",
       "2                                     LOVE DIVE  \n",
       "3     'The ReVe Festival 2022 - Feel My Rhythm'  \n",
       "4                                      GANADARA  \n",
       "..                                          ...  \n",
       "95                                    THE ALBUM  \n",
       "96                                    As It Was  \n",
       "97                                    내 생에 아름다운  \n",
       "98                    DICE - The 2nd Mini Album  \n",
       "99  The 3rd Album Part 2 'Love Blossom (러브블러썸)'  \n",
       "\n",
       "[100 rows x 5 columns]"
      ]
     },
     "execution_count": 19,
     "metadata": {},
     "output_type": "execute_result"
    }
   ],
   "source": [
    "df"
   ]
  },
  {
   "cell_type": "markdown",
   "metadata": {},
   "source": [
    "## 파일로 출력"
   ]
  },
  {
   "cell_type": "code",
   "execution_count": 20,
   "metadata": {},
   "outputs": [
    {
     "name": "stdout",
     "output_type": "stream",
     "text": [
      "live_vibe_20220415_180611.xlsx 파일 생성 완료\n"
     ]
    }
   ],
   "source": [
    "# make excel\n",
    "today_date = datetime.today().strftime(\"%Y%m%d_%H%M%S\")\n",
    "file_name = f'live_vibe_{today_date}.xlsx'\n",
    "path = crawled_folder_path + '/'\n",
    "df.to_excel(path + file_name, index=False)\n",
    "\n",
    "print(f\"{file_name} 파일 생성 완료\")"
   ]
  },
  {
   "cell_type": "markdown",
   "metadata": {},
   "source": [
    "# 코드 마지막"
   ]
  }
 ],
 "metadata": {
  "interpreter": {
   "hash": "513dc2e41d739bb2c947903f3c0bbf636d03aa53ab50e61c694a27481c81805e"
  },
  "kernelspec": {
   "display_name": "Python 3.8.8 ('base')",
   "language": "python",
   "name": "python3"
  },
  "language_info": {
   "codemirror_mode": {
    "name": "ipython",
    "version": 3
   },
   "file_extension": ".py",
   "mimetype": "text/x-python",
   "name": "python",
   "nbconvert_exporter": "python",
   "pygments_lexer": "ipython3",
   "version": "3.9.7"
  },
  "orig_nbformat": 4
 },
 "nbformat": 4,
 "nbformat_minor": 2
}
