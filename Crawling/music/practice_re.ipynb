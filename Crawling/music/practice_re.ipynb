{
 "cells": [
  {
   "cell_type": "markdown",
   "metadata": {},
   "source": [
    "# 정규표현식"
   ]
  },
  {
   "cell_type": "code",
   "execution_count": 1,
   "metadata": {},
   "outputs": [],
   "source": [
    "import re"
   ]
  },
  {
   "cell_type": "markdown",
   "metadata": {},
   "source": [
    "### search - 아무곳에서나 일치하는 문자열을 찾고 싶을때"
   ]
  },
  {
   "cell_type": "code",
   "execution_count": 2,
   "metadata": {},
   "outputs": [
    {
     "name": "stdout",
     "output_type": "stream",
     "text": [
      "de\n"
     ]
    }
   ],
   "source": [
    "s = '123def789' \n",
    "m = re.search('[a-f]e', s)\n",
    "print(m.group())"
   ]
  },
  {
   "cell_type": "markdown",
   "metadata": {},
   "source": [
    "### {n, m}  - 일정 갯수인 패턴 찾기"
   ]
  },
  {
   "cell_type": "code",
   "execution_count": 3,
   "metadata": {},
   "outputs": [
    {
     "name": "stdout",
     "output_type": "stream",
     "text": [
      "010-1234-9001\n"
     ]
    }
   ],
   "source": [
    "s1 = '휴대전화에요.010-1234-9001'\n",
    "m1 = re.search('[0-9]{2,3}-[0-9]{4}-[0-9]{4}', s1) \n",
    "print(m1.group()) # 출력결과 : 010-1234-9001"
   ]
  },
  {
   "cell_type": "code",
   "execution_count": 4,
   "metadata": {},
   "outputs": [
    {
     "name": "stdout",
     "output_type": "stream",
     "text": [
      "02-2940-7001\n"
     ]
    }
   ],
   "source": [
    "s2 = '중국집이에요.02-2940-7001'\n",
    "m2 = re.search('[0-9]{2,3}-[0-9]{4}-[0-9]{4}', s2)\n",
    "print(m2.group()) # 출력결과 : 02-2940-7001"
   ]
  },
  {
   "cell_type": "code",
   "execution_count": 5,
   "metadata": {},
   "outputs": [
    {
     "name": "stdout",
     "output_type": "stream",
     "text": [
      "안녕\n"
     ]
    }
   ],
   "source": [
    "s = '안녕하세요. 좋은 아침이에요'\n",
    "m = re.search('^안녕', s)\n",
    "print(m.group()) # 출력결과 : 안녕"
   ]
  },
  {
   "cell_type": "markdown",
   "metadata": {},
   "source": [
    "### ^ - 시작 문자가 일치하는 경우 찾기"
   ]
  },
  {
   "cell_type": "code",
   "execution_count": 6,
   "metadata": {},
   "outputs": [
    {
     "name": "stdout",
     "output_type": "stream",
     "text": [
      "None\n"
     ]
    }
   ],
   "source": [
    "s = '좋은 아침이에요.안녕하세요'\n",
    "m = re.search('^안녕', s)\n",
    "print(m) # 출력결과 : None"
   ]
  },
  {
   "cell_type": "markdown",
   "metadata": {},
   "source": [
    "### $ - 마지막 문자가 일치하는 문자열 찾기"
   ]
  },
  {
   "cell_type": "code",
   "execution_count": 7,
   "metadata": {},
   "outputs": [
    {
     "name": "stdout",
     "output_type": "stream",
     "text": [
      "있어요\n"
     ]
    }
   ],
   "source": [
    "s = '지금은 즐겁게 있어요'\n",
    "m = re.search('[ㄱ-힣]+요$', s) # [ㄱ-힣] 은 한글일때만 일치하는 걸로 본다는 뜻\n",
    "print(m.group()) # 출력 결과 : 있어요"
   ]
  },
  {
   "cell_type": "markdown",
   "metadata": {},
   "source": [
    "### | - 여러개 조건 만족하는 패턴 찾기 (or, 또는)"
   ]
  },
  {
   "cell_type": "code",
   "execution_count": 8,
   "metadata": {},
   "outputs": [
    {
     "name": "stdout",
     "output_type": "stream",
     "text": [
      "['crow', 'bird']\n"
     ]
    }
   ],
   "source": [
    "s = 'There is a crow and bird'\n",
    "m = re.findall('cro*w|bir+d', s) # | 앞뒤로 정규식이 2개 있다\n",
    "print(m) # 출력결과 : ['crow', 'bird']"
   ]
  },
  {
   "cell_type": "markdown",
   "metadata": {},
   "source": [
    "### () - 그룹으로 묶기"
   ]
  },
  {
   "cell_type": "code",
   "execution_count": 9,
   "metadata": {},
   "outputs": [
    {
     "name": "stdout",
     "output_type": "stream",
     "text": [
      "2021-01-06\n"
     ]
    }
   ],
   "source": [
    "s = '안녕하세요. 새해 복 많이 받으세요. 글은 2021-01-06에 썼어요'\n",
    "m = re.search('[0-9]{4}-[0-9]{2}-[0-9]{2}', s) # 날짜를 찾기 위함. \n",
    "print(m.group()) # 출력결과 : 2021-01-06"
   ]
  },
  {
   "cell_type": "code",
   "execution_count": 10,
   "metadata": {},
   "outputs": [
    {
     "name": "stdout",
     "output_type": "stream",
     "text": [
      "2021-01-06\n",
      "2021\n",
      "01\n"
     ]
    }
   ],
   "source": [
    "s = '안녕하세요. 새해 복 많이 받으세요. 글은 2021-01-06에 썼어요'\n",
    "m = re.search('([0-9]{4})-([0-9]{2})-([0-9]{2})', s) # ()로 세번 묶어줌. \n",
    "print(m.group(0)) # 출력결과 : 2021-01-06\n",
    "print(m.group(1)) # 출력결과 : 2021\n",
    "print(m.group(2)) # 출력결과 : 01"
   ]
  },
  {
   "cell_type": "code",
   "execution_count": null,
   "metadata": {},
   "outputs": [],
   "source": []
  }
 ],
 "metadata": {
  "interpreter": {
   "hash": "747a6424a7b8ad24e9f0aefffcedbd2ab794ab79d972802769ba8a34242ef8b4"
  },
  "kernelspec": {
   "display_name": "Python 3.9.7 ('base')",
   "language": "python",
   "name": "python3"
  },
  "language_info": {
   "codemirror_mode": {
    "name": "ipython",
    "version": 3
   },
   "file_extension": ".py",
   "mimetype": "text/x-python",
   "name": "python",
   "nbconvert_exporter": "python",
   "pygments_lexer": "ipython3",
   "version": "3.9.7"
  },
  "orig_nbformat": 4
 },
 "nbformat": 4,
 "nbformat_minor": 2
}
