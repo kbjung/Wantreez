{
 "cells": [
  {
   "cell_type": "markdown",
   "metadata": {},
   "source": [
    "# 월간 Melon Top100 크롤링"
   ]
  },
  {
   "cell_type": "code",
   "execution_count": 53,
   "metadata": {},
   "outputs": [],
   "source": [
    "from selenium import webdriver\n",
    "from bs4 import BeautifulSoup as bs\n",
    "import pandas as pd\n",
    "import time\n",
    "import random"
   ]
  },
  {
   "cell_type": "markdown",
   "metadata": {},
   "source": [
    "# 크롤링\n",
    "* 2022년 1 ~ 3월"
   ]
  },
  {
   "cell_type": "markdown",
   "metadata": {},
   "source": [
    "## 멜론 사이트 접속"
   ]
  },
  {
   "cell_type": "code",
   "execution_count": 54,
   "metadata": {},
   "outputs": [
    {
     "name": "stderr",
     "output_type": "stream",
     "text": [
      "<ipython-input-54-40ce6c51e4f5>:1: DeprecationWarning: executable_path has been deprecated, please pass in a Service object\n",
      "  driver = webdriver.Chrome('../chromedriver')\n"
     ]
    }
   ],
   "source": [
    "driver = webdriver.Chrome('../chromedriver')\n",
    "url = 'https://www.melon.com/chart/index.htm'\n",
    "driver.get(url)\n",
    "driver.maximize_window()"
   ]
  },
  {
   "cell_type": "code",
   "execution_count": 55,
   "metadata": {},
   "outputs": [
    {
     "name": "stderr",
     "output_type": "stream",
     "text": [
      "<ipython-input-55-ea67c79b0967>:2: DeprecationWarning: find_element_by_xpath is deprecated. Please use find_element(by=By.XPATH, value=xpath) instead\n",
      "  chartfinder_button = driver.find_element_by_xpath('//*[@id=\"gnb_menu\"]/ul[1]/li[1]/div/div/button')\n",
      "<ipython-input-55-ea67c79b0967>:7: DeprecationWarning: find_element_by_xpath is deprecated. Please use find_element(by=By.XPATH, value=xpath) instead\n",
      "  monthchart_button = driver.find_element_by_xpath('//*[@id=\"d_chart_search\"]/div/h4[2]/a')\n",
      "<ipython-input-55-ea67c79b0967>:12: DeprecationWarning: find_element_by_xpath is deprecated. Please use find_element(by=By.XPATH, value=xpath) instead\n",
      "  selecttopyear_button = driver.find_element_by_xpath('//*[@id=\"d_chart_search\"]/div/div/div[1]/div[1]/ul/li[1]/span/label')\n",
      "<ipython-input-55-ea67c79b0967>:17: DeprecationWarning: find_element_by_xpath is deprecated. Please use find_element(by=By.XPATH, value=xpath) instead\n",
      "  selectyear_button = driver.find_element_by_xpath('//*[@id=\"d_chart_search\"]/div/div/div[2]/div[1]/ul/li[1]/span/label')\n",
      "<ipython-input-55-ea67c79b0967>:22: DeprecationWarning: find_element_by_xpath is deprecated. Please use find_element(by=By.XPATH, value=xpath) instead\n",
      "  selectmonth = driver.find_element_by_xpath(f'//*[@id=\"d_chart_search\"]/div/div/div[3]/div[1]/ul/li[1]/span/label')\n",
      "<ipython-input-55-ea67c79b0967>:27: DeprecationWarning: find_element_by_xpath is deprecated. Please use find_element(by=By.XPATH, value=xpath) instead\n",
      "  selectgenre_button = driver.find_element_by_xpath('//*[@id=\"d_chart_search\"]/div/div/div[5]/div[1]/ul/li[1]/span/label')\n",
      "<ipython-input-55-ea67c79b0967>:32: DeprecationWarning: find_element_by_xpath is deprecated. Please use find_element(by=By.XPATH, value=xpath) instead\n",
      "  search_button = driver.find_element_by_xpath('//*[@id=\"d_srch_form\"]/div[2]/button/span/span')\n"
     ]
    }
   ],
   "source": [
    "# 차트 파인더로 이동\n",
    "chartfinder_button = driver.find_element_by_xpath('//*[@id=\"gnb_menu\"]/ul[1]/li[1]/div/div/button')\n",
    "chartfinder_button.click()\n",
    "time.sleep( random.uniform(1, 2) )\n",
    "\n",
    "# 주간차트 선택\n",
    "monthchart_button = driver.find_element_by_xpath('//*[@id=\"d_chart_search\"]/div/h4[2]/a')\n",
    "monthchart_button.click()\n",
    "time.sleep( random.uniform(1, 2) )\n",
    "\n",
    "# 연대선택(2020년대)\n",
    "selecttopyear_button = driver.find_element_by_xpath('//*[@id=\"d_chart_search\"]/div/div/div[1]/div[1]/ul/li[1]/span/label')\n",
    "selecttopyear_button.click()\n",
    "time.sleep( random.uniform(1, 2) )\n",
    "\n",
    "# 연도선택(2022년)\n",
    "selectyear_button = driver.find_element_by_xpath('//*[@id=\"d_chart_search\"]/div/div/div[2]/div[1]/ul/li[1]/span/label')\n",
    "selectyear_button.click()\n",
    "time.sleep( random.uniform(1, 2) )\n",
    "\n",
    "# 월간 선택(1월)\n",
    "selectmonth = driver.find_element_by_xpath(f'//*[@id=\"d_chart_search\"]/div/div/div[3]/div[1]/ul/li[1]/span/label')\n",
    "selectmonth.click()\n",
    "time.sleep( random.uniform(1, 2) )\n",
    "\n",
    "# 장르 선택\n",
    "selectgenre_button = driver.find_element_by_xpath('//*[@id=\"d_chart_search\"]/div/div/div[5]/div[1]/ul/li[1]/span/label')\n",
    "selectgenre_button.click()\n",
    "time.sleep( random.uniform(1, 2) )\n",
    "\n",
    "# 검색 버튼 클릭\n",
    "search_button = driver.find_element_by_xpath('//*[@id=\"d_srch_form\"]/div[2]/button/span/span')\n",
    "search_button.click()\n",
    "time.sleep( random.uniform(1, 2) )\n",
    "\n",
    "# 처음 검색 한번 한뒤에 진행해야 정상적으로 첫번째 정보 정상적으로 수집.\n",
    "# 바로 진행하면 2013년 자료 수집이 되는 문제 발생."
   ]
  },
  {
   "cell_type": "markdown",
   "metadata": {},
   "source": [
    "## 월간 크롤링 함수"
   ]
  },
  {
   "cell_type": "code",
   "execution_count": 56,
   "metadata": {},
   "outputs": [],
   "source": [
    "def month_crawl(month):\n",
    "    # 월간 선택\n",
    "    m = month\n",
    "    selectmonth = driver.find_element_by_xpath(f'//*[@id=\"d_chart_search\"]/div/div/div[3]/div[1]/ul/li[{m}]/span/label')\n",
    "    selectmonth.click()\n",
    "    time.sleep( random.uniform(1, 2) )\n",
    "\n",
    "    # 장르 선택\n",
    "    selectgenre_button = driver.find_element_by_xpath('//*[@id=\"d_chart_search\"]/div/div/div[5]/div[1]/ul/li[1]/span/label')\n",
    "    selectgenre_button.click()\n",
    "    time.sleep( random.uniform(1, 2) )\n",
    "\n",
    "    # 검색 버튼 클릭\n",
    "    search_button = driver.find_element_by_xpath('//*[@id=\"d_srch_form\"]/div[2]/button/span/span')\n",
    "    search_button.click()\n",
    "    time.sleep( random.uniform(1, 2) )\n",
    "    \n",
    "    # 정보 수프에 담기\n",
    "    soup = bs(driver.page_source, 'lxml')\n",
    "\n",
    "    # 검색 제목 수집\n",
    "    search_title = soup.find('div', 'serch_cnt')\n",
    "    title = search_title.text[:-8].replace(' ', '')\n",
    "\n",
    "    # 순위 날짜\n",
    "    rank_date = title.replace('년', '-')\n",
    "    rank_date = rank_date.replace('월', '-')\n",
    "    rank_date = rank_date.replace(' ', '') + '01'\n",
    "    \n",
    "    repeat_rank_date_list = []\n",
    "    for i in range(100):\n",
    "        repeat_rank_date_list.append(rank_date)\n",
    "\n",
    "    # 순위 수집\n",
    "    rank_list = []\n",
    "    for i in range(1, 101):\n",
    "        rank_list.append(i)\n",
    "\n",
    "    # 곡정보\n",
    "    song_list = []\n",
    "    song_info = soup.find_all('div', 'wrap_song_info')\n",
    "    for one in song_info:\n",
    "        temp = one.find('div', 'ellipsis rank01').text.strip()\n",
    "        if '19금\\n' in temp:\n",
    "            temp = temp.replace('19금\\n', '')\n",
    "        song_list.append(temp)\n",
    "\n",
    "    # 가수\n",
    "    artist_list = []\n",
    "    for one in song_info:\n",
    "        temp = one.find('span', 'checkEllipsis').text\n",
    "        artist_list.append(temp)\n",
    "\n",
    "    # 앨범\n",
    "    album_list = []\n",
    "    for one in song_info:\n",
    "        temp = one.find('div', 'ellipsis rank03').text.strip()\n",
    "        album_list.append(temp)\n",
    "\n",
    "    # 수집 데이터 확인\n",
    "    print('수집한 기간 : ', title)\n",
    "    print('수집한 순위 날짜 개수 : ', len(repeat_rank_date_list))\n",
    "    print('수집한 순위 개수 : ', len(rank_list))\n",
    "    print('수집한 곡 개수 : ', len(song_list))\n",
    "    print('수집한 가수 개수 : ', len(artist_list))\n",
    "    print('수집한 앨범 개수 : ', len(album_list))\n",
    "\n",
    "    # 데이터 셋 만들기\n",
    "    dict = {'날짜':repeat_rank_date_list,'순위':rank_list, '곡':song_list, '가수':artist_list, '앨범':album_list}\n",
    "    df = pd.DataFrame(dict)\n",
    "\n",
    "    # 파일로 출력\n",
    "    date = rank_date.replace('-','')\n",
    "    file_name = f'month_melon_{date}.xlsx'\n",
    "    path = '../crawling_data/month_melon/'\n",
    "    df.to_excel(path + file_name, index=False)\n",
    "\n",
    "    print(f'{title}')\n",
    "    print(f\"{file_name} 파일 생성 완료\")"
   ]
  },
  {
   "cell_type": "code",
   "execution_count": 57,
   "metadata": {},
   "outputs": [
    {
     "name": "stderr",
     "output_type": "stream",
     "text": [
      "<ipython-input-56-ffcb57c4d813>:4: DeprecationWarning: find_element_by_xpath is deprecated. Please use find_element(by=By.XPATH, value=xpath) instead\n",
      "  selectmonth = driver.find_element_by_xpath(f'//*[@id=\"d_chart_search\"]/div/div/div[3]/div[1]/ul/li[{m}]/span/label')\n",
      "<ipython-input-56-ffcb57c4d813>:9: DeprecationWarning: find_element_by_xpath is deprecated. Please use find_element(by=By.XPATH, value=xpath) instead\n",
      "  selectgenre_button = driver.find_element_by_xpath('//*[@id=\"d_chart_search\"]/div/div/div[5]/div[1]/ul/li[1]/span/label')\n",
      "<ipython-input-56-ffcb57c4d813>:14: DeprecationWarning: find_element_by_xpath is deprecated. Please use find_element(by=By.XPATH, value=xpath) instead\n",
      "  search_button = driver.find_element_by_xpath('//*[@id=\"d_srch_form\"]/div[2]/button/span/span')\n"
     ]
    },
    {
     "name": "stdout",
     "output_type": "stream",
     "text": [
      "수집한 기간 :  2022년01월\n",
      "수집한 순위 날짜 개수 :  100\n",
      "수집한 순위 개수 :  100\n",
      "수집한 곡 개수 :  100\n",
      "수집한 가수 개수 :  100\n",
      "수집한 앨범 개수 :  100\n",
      "2022년01월\n",
      "month_melon_20220101.xlsx 파일 생성 완료\n",
      "\n",
      "수집한 기간 :  2022년02월\n",
      "수집한 순위 날짜 개수 :  100\n",
      "수집한 순위 개수 :  100\n",
      "수집한 곡 개수 :  100\n",
      "수집한 가수 개수 :  100\n",
      "수집한 앨범 개수 :  100\n",
      "2022년02월\n",
      "month_melon_20220201.xlsx 파일 생성 완료\n",
      "\n",
      "수집한 기간 :  2022년03월\n",
      "수집한 순위 날짜 개수 :  100\n",
      "수집한 순위 개수 :  100\n",
      "수집한 곡 개수 :  100\n",
      "수집한 가수 개수 :  100\n",
      "수집한 앨범 개수 :  100\n",
      "2022년03월\n",
      "month_melon_20220301.xlsx 파일 생성 완료\n",
      "\n"
     ]
    }
   ],
   "source": [
    "for i in range(1, 4):\n",
    "    month_crawl(i)\n",
    "    print()"
   ]
  },
  {
   "cell_type": "markdown",
   "metadata": {},
   "source": [
    "# 코드 마지막"
   ]
  }
 ],
 "metadata": {
  "interpreter": {
   "hash": "513dc2e41d739bb2c947903f3c0bbf636d03aa53ab50e61c694a27481c81805e"
  },
  "kernelspec": {
   "display_name": "Python 3.8.8 ('base')",
   "language": "python",
   "name": "python3"
  },
  "language_info": {
   "codemirror_mode": {
    "name": "ipython",
    "version": 3
   },
   "file_extension": ".py",
   "mimetype": "text/x-python",
   "name": "python",
   "nbconvert_exporter": "python",
   "pygments_lexer": "ipython3",
   "version": "3.8.8"
  },
  "orig_nbformat": 4
 },
 "nbformat": 4,
 "nbformat_minor": 2
}
