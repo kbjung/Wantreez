{
 "cells": [
  {
   "cell_type": "markdown",
   "metadata": {},
   "source": [
    "# 월간 Melon Top100 크롤링"
   ]
  },
  {
   "cell_type": "code",
   "execution_count": 1,
   "metadata": {},
   "outputs": [],
   "source": [
    "from selenium import webdriver\n",
    "from bs4 import BeautifulSoup as bs\n",
    "import pandas as pd\n",
    "import time\n",
    "import random"
   ]
  },
  {
   "cell_type": "markdown",
   "metadata": {},
   "source": [
    "# 크롤링\n",
    "* 2022년 1 ~ 3월"
   ]
  },
  {
   "cell_type": "markdown",
   "metadata": {},
   "source": [
    "## 멜론 사이트 접속"
   ]
  },
  {
   "cell_type": "code",
   "execution_count": 2,
   "metadata": {},
   "outputs": [
    {
     "name": "stderr",
     "output_type": "stream",
     "text": [
      "<ipython-input-2-40ce6c51e4f5>:1: DeprecationWarning: executable_path has been deprecated, please pass in a Service object\n",
      "  driver = webdriver.Chrome('../chromedriver')\n"
     ]
    }
   ],
   "source": [
    "driver = webdriver.Chrome('../chromedriver')\n",
    "url = 'https://www.melon.com/chart/index.htm'\n",
    "driver.get(url)\n",
    "driver.maximize_window()"
   ]
  },
  {
   "cell_type": "code",
   "execution_count": 3,
   "metadata": {},
   "outputs": [
    {
     "name": "stderr",
     "output_type": "stream",
     "text": [
      "<ipython-input-3-146a770b08ef>:2: DeprecationWarning: find_element_by_xpath is deprecated. Please use find_element(by=By.XPATH, value=xpath) instead\n",
      "  chartfinder_button = driver.find_element_by_xpath('//*[@id=\"gnb_menu\"]/ul[1]/li[1]/div/div/button')\n",
      "<ipython-input-3-146a770b08ef>:7: DeprecationWarning: find_element_by_xpath is deprecated. Please use find_element(by=By.XPATH, value=xpath) instead\n",
      "  monthchart_button = driver.find_element_by_xpath('//*[@id=\"d_chart_search\"]/div/h4[2]/a')\n",
      "<ipython-input-3-146a770b08ef>:12: DeprecationWarning: find_element_by_xpath is deprecated. Please use find_element(by=By.XPATH, value=xpath) instead\n",
      "  selecttopyear_button = driver.find_element_by_xpath('//*[@id=\"d_chart_search\"]/div/div/div[1]/div[1]/ul/li[1]/span/label')\n",
      "<ipython-input-3-146a770b08ef>:17: DeprecationWarning: find_element_by_xpath is deprecated. Please use find_element(by=By.XPATH, value=xpath) instead\n",
      "  selectyear_button = driver.find_element_by_xpath('//*[@id=\"d_chart_search\"]/div/div/div[2]/div[1]/ul/li[1]/span/label')\n",
      "<ipython-input-3-146a770b08ef>:22: DeprecationWarning: find_element_by_xpath is deprecated. Please use find_element(by=By.XPATH, value=xpath) instead\n",
      "  selectmonth = driver.find_element_by_xpath(f'//*[@id=\"d_chart_search\"]/div/div/div[3]/div[1]/ul/li[1]/span/label')\n",
      "<ipython-input-3-146a770b08ef>:27: DeprecationWarning: find_element_by_xpath is deprecated. Please use find_element(by=By.XPATH, value=xpath) instead\n",
      "  selectgenre_button = driver.find_element_by_xpath('//*[@id=\"d_chart_search\"]/div/div/div[5]/div[1]/ul/li[1]/span/label')\n",
      "<ipython-input-3-146a770b08ef>:32: DeprecationWarning: find_element_by_xpath is deprecated. Please use find_element(by=By.XPATH, value=xpath) instead\n",
      "  search_button = driver.find_element_by_xpath('//*[@id=\"d_srch_form\"]/div[2]/button/span/span')\n"
     ]
    }
   ],
   "source": [
    "# 차트 파인더로 이동\n",
    "chartfinder_button = driver.find_element_by_xpath('//*[@id=\"gnb_menu\"]/ul[1]/li[1]/div/div/button')\n",
    "chartfinder_button.click()\n",
    "time.sleep( random.uniform(1, 2) )\n",
    "\n",
    "# 주간차트 선택\n",
    "monthchart_button = driver.find_element_by_xpath('//*[@id=\"d_chart_search\"]/div/h4[2]/a')\n",
    "monthchart_button.click()\n",
    "time.sleep( random.uniform(1, 2) )\n",
    "\n",
    "# 연대선택(2020년대)\n",
    "selecttopyear_button = driver.find_element_by_xpath('//*[@id=\"d_chart_search\"]/div/div/div[1]/div[1]/ul/li[1]/span/label')\n",
    "selecttopyear_button.click()\n",
    "time.sleep( random.uniform(1, 2) )\n",
    "\n",
    "# 연도선택(2022년)\n",
    "selectyear_button = driver.find_element_by_xpath('//*[@id=\"d_chart_search\"]/div/div/div[2]/div[1]/ul/li[1]/span/label')\n",
    "selectyear_button.click()\n",
    "time.sleep( random.uniform(1, 2) )\n",
    "\n",
    "# 월간 선택(1월)\n",
    "selectmonth = driver.find_element_by_xpath(f'//*[@id=\"d_chart_search\"]/div/div/div[3]/div[1]/ul/li[1]/span/label')\n",
    "selectmonth.click()\n",
    "time.sleep( random.uniform(1, 2) )\n",
    "\n",
    "# 장르 선택\n",
    "selectgenre_button = driver.find_element_by_xpath('//*[@id=\"d_chart_search\"]/div/div/div[5]/div[1]/ul/li[1]/span/label')\n",
    "selectgenre_button.click()\n",
    "time.sleep( random.uniform(1, 2) )\n",
    "\n",
    "# 검색 버튼 클릭\n",
    "search_button = driver.find_element_by_xpath('//*[@id=\"d_srch_form\"]/div[2]/button/span/span')\n",
    "search_button.click()"
   ]
  },
  {
   "cell_type": "markdown",
   "metadata": {},
   "source": [
    "# 월간 선택"
   ]
  },
  {
   "cell_type": "code",
   "execution_count": 4,
   "metadata": {},
   "outputs": [
    {
     "name": "stderr",
     "output_type": "stream",
     "text": [
      "<ipython-input-4-0f99caa57e2c>:3: DeprecationWarning: find_element_by_xpath is deprecated. Please use find_element(by=By.XPATH, value=xpath) instead\n",
      "  selectmonth = driver.find_element_by_xpath(f'//*[@id=\"d_chart_search\"]/div/div/div[3]/div[1]/ul/li[{m}]/span/label')\n"
     ]
    }
   ],
   "source": [
    "# 월간 선택\n",
    "m = 1\n",
    "selectmonth = driver.find_element_by_xpath(f'//*[@id=\"d_chart_search\"]/div/div/div[3]/div[1]/ul/li[{m}]/span/label')\n",
    "selectmonth.click()\n",
    "time.sleep( random.uniform(1, 2) )\n"
   ]
  },
  {
   "cell_type": "code",
   "execution_count": 5,
   "metadata": {},
   "outputs": [
    {
     "name": "stderr",
     "output_type": "stream",
     "text": [
      "<ipython-input-5-b858acf3a92a>:2: DeprecationWarning: find_element_by_xpath is deprecated. Please use find_element(by=By.XPATH, value=xpath) instead\n",
      "  selectgenre_button = driver.find_element_by_xpath('//*[@id=\"d_chart_search\"]/div/div/div[5]/div[1]/ul/li[1]/span/label')\n"
     ]
    }
   ],
   "source": [
    "# 장르 선택\n",
    "selectgenre_button = driver.find_element_by_xpath('//*[@id=\"d_chart_search\"]/div/div/div[5]/div[1]/ul/li[1]/span/label')\n",
    "selectgenre_button.click()\n",
    "time.sleep( random.uniform(1, 2) )"
   ]
  },
  {
   "cell_type": "code",
   "execution_count": 6,
   "metadata": {},
   "outputs": [
    {
     "name": "stderr",
     "output_type": "stream",
     "text": [
      "<ipython-input-6-9a730641f832>:2: DeprecationWarning: find_element_by_xpath is deprecated. Please use find_element(by=By.XPATH, value=xpath) instead\n",
      "  search_button = driver.find_element_by_xpath('//*[@id=\"d_srch_form\"]/div[2]/button/span/span')\n"
     ]
    }
   ],
   "source": [
    "# 검색 버튼 클릭\n",
    "search_button = driver.find_element_by_xpath('//*[@id=\"d_srch_form\"]/div[2]/button/span/span')\n",
    "search_button.click()"
   ]
  },
  {
   "cell_type": "code",
   "execution_count": 35,
   "metadata": {},
   "outputs": [],
   "source": [
    "# 정보 수프에 담기\n",
    "soup = bs(driver.page_source, 'lxml')"
   ]
  },
  {
   "cell_type": "code",
   "execution_count": 36,
   "metadata": {},
   "outputs": [
    {
     "data": {
      "text/plain": [
       "'2022년 02월'"
      ]
     },
     "execution_count": 36,
     "metadata": {},
     "output_type": "execute_result"
    }
   ],
   "source": [
    "# 검색 제목 수집\n",
    "search_title = soup.find('div', 'serch_cnt')\n",
    "title = search_title.text[:-8]\n",
    "title"
   ]
  },
  {
   "cell_type": "code",
   "execution_count": 28,
   "metadata": {},
   "outputs": [
    {
     "data": {
      "text/plain": [
       "'2022년01월'"
      ]
     },
     "execution_count": 28,
     "metadata": {},
     "output_type": "execute_result"
    }
   ],
   "source": [
    "title = title.replace(' ', '')\n",
    "title"
   ]
  },
  {
   "cell_type": "code",
   "execution_count": 14,
   "metadata": {},
   "outputs": [
    {
     "name": "stdout",
     "output_type": "stream",
     "text": [
      "수집한 기간 :  2022년 01월\n"
     ]
    }
   ],
   "source": [
    "print('수집한 기간 : ', title)"
   ]
  },
  {
   "cell_type": "code",
   "execution_count": 15,
   "metadata": {},
   "outputs": [
    {
     "name": "stdout",
     "output_type": "stream",
     "text": [
      "수집한 순위 개수 :  100\n"
     ]
    }
   ],
   "source": [
    "# 순위 수집\n",
    "rank_list = []\n",
    "for i in range(1, 101):\n",
    "    rank_list.append(i)\n",
    "print('수집한 순위 개수 : ', len(rank_list))"
   ]
  },
  {
   "cell_type": "code",
   "execution_count": 17,
   "metadata": {},
   "outputs": [
    {
     "name": "stdout",
     "output_type": "stream",
     "text": [
      "수집한 곡 개수 :  100\n"
     ]
    }
   ],
   "source": [
    "# 곡정보\n",
    "song_list = []\n",
    "song_info = soup.find_all('div', 'wrap_song_info')\n",
    "for one in song_info:\n",
    "    temp = one.find('div', 'ellipsis rank01').text.strip()\n",
    "    if '19금\\n' in temp:\n",
    "        temp = temp.replace('19금\\n', '')\n",
    "    song_list.append(temp)\n",
    "print('수집한 곡 개수 : ', len(song_list))"
   ]
  },
  {
   "cell_type": "code",
   "execution_count": 18,
   "metadata": {},
   "outputs": [
    {
     "data": {
      "text/plain": [
       "['취중고백',\n",
       " '회전목마 (Feat. Zion.T, 원슈타인) (Prod. Slom)',\n",
       " 'Counting Stars (Feat. Beenzino)',\n",
       " '리무진 (Feat. MINO) (Prod. GRAY)',\n",
       " 'ELEVEN']"
      ]
     },
     "execution_count": 18,
     "metadata": {},
     "output_type": "execute_result"
    }
   ],
   "source": [
    "song_list[:5]"
   ]
  },
  {
   "cell_type": "code",
   "execution_count": 19,
   "metadata": {},
   "outputs": [
    {
     "name": "stdout",
     "output_type": "stream",
     "text": [
      "수집한 가수 개수 :  100\n"
     ]
    }
   ],
   "source": [
    "# 가수\n",
    "artist_list = []\n",
    "for one in song_info:\n",
    "    temp = one.find('span', 'checkEllipsis').text\n",
    "    artist_list.append(temp)\n",
    "print('수집한 가수 개수 : ', len(artist_list))"
   ]
  },
  {
   "cell_type": "code",
   "execution_count": 20,
   "metadata": {},
   "outputs": [
    {
     "data": {
      "text/plain": [
       "['김민석 (멜로망스)', 'sokodomo', \"BE'O (비오)\", \"BE'O (비오)\", 'IVE (아이브)']"
      ]
     },
     "execution_count": 20,
     "metadata": {},
     "output_type": "execute_result"
    }
   ],
   "source": [
    "artist_list[:5]"
   ]
  },
  {
   "cell_type": "code",
   "execution_count": 23,
   "metadata": {},
   "outputs": [
    {
     "name": "stdout",
     "output_type": "stream",
     "text": [
      "수집한 앨범 개수 :  100\n"
     ]
    }
   ],
   "source": [
    "# 앨범\n",
    "album_list = []\n",
    "for one in song_info:\n",
    "    temp = one.find('div', 'ellipsis rank03').text.strip()\n",
    "    album_list.append(temp)\n",
    "print('수집한 앨범 개수 : ', len(album_list))"
   ]
  },
  {
   "cell_type": "code",
   "execution_count": 24,
   "metadata": {},
   "outputs": [
    {
     "data": {
      "text/plain": [
       "['취중고백',\n",
       " '쇼미더머니 10 Episode 2',\n",
       " 'Counting Stars',\n",
       " '쇼미더머니 10 Episode 3',\n",
       " 'ELEVEN']"
      ]
     },
     "execution_count": 24,
     "metadata": {},
     "output_type": "execute_result"
    }
   ],
   "source": [
    "album_list[:5]"
   ]
  },
  {
   "cell_type": "code",
   "execution_count": 25,
   "metadata": {},
   "outputs": [
    {
     "name": "stdout",
     "output_type": "stream",
     "text": [
      "수집한 기간 :  2022년 01월\n",
      "수집한 순위 개수 :  100\n",
      "수집한 곡 개수 :  100\n",
      "수집한 가수 개수 :  100\n",
      "수집한 앨범 개수 :  100\n"
     ]
    }
   ],
   "source": [
    "# 수집 데이터 확인\n",
    "print('수집한 기간 : ', title)\n",
    "print('수집한 순위 개수 : ', len(rank_list))\n",
    "print('수집한 곡 개수 : ', len(song_list))\n",
    "print('수집한 가수 개수 : ', len(artist_list))\n",
    "print('수집한 앨범 개수 : ', len(album_list))"
   ]
  },
  {
   "cell_type": "code",
   "execution_count": 26,
   "metadata": {},
   "outputs": [],
   "source": [
    "# 데이터 셋 만들기\n",
    "dict = {'순위':rank_list, '곡':song_list, '가수':artist_list, '앨범':album_list}\n",
    "df = pd.DataFrame(dict)"
   ]
  },
  {
   "cell_type": "code",
   "execution_count": 27,
   "metadata": {},
   "outputs": [
    {
     "data": {
      "text/html": [
       "<div>\n",
       "<style scoped>\n",
       "    .dataframe tbody tr th:only-of-type {\n",
       "        vertical-align: middle;\n",
       "    }\n",
       "\n",
       "    .dataframe tbody tr th {\n",
       "        vertical-align: top;\n",
       "    }\n",
       "\n",
       "    .dataframe thead th {\n",
       "        text-align: right;\n",
       "    }\n",
       "</style>\n",
       "<table border=\"1\" class=\"dataframe\">\n",
       "  <thead>\n",
       "    <tr style=\"text-align: right;\">\n",
       "      <th></th>\n",
       "      <th>순위</th>\n",
       "      <th>곡</th>\n",
       "      <th>가수</th>\n",
       "      <th>앨범</th>\n",
       "    </tr>\n",
       "  </thead>\n",
       "  <tbody>\n",
       "    <tr>\n",
       "      <th>0</th>\n",
       "      <td>1</td>\n",
       "      <td>취중고백</td>\n",
       "      <td>김민석 (멜로망스)</td>\n",
       "      <td>취중고백</td>\n",
       "    </tr>\n",
       "    <tr>\n",
       "      <th>1</th>\n",
       "      <td>2</td>\n",
       "      <td>회전목마 (Feat. Zion.T, 원슈타인) (Prod. Slom)</td>\n",
       "      <td>sokodomo</td>\n",
       "      <td>쇼미더머니 10 Episode 2</td>\n",
       "    </tr>\n",
       "    <tr>\n",
       "      <th>2</th>\n",
       "      <td>3</td>\n",
       "      <td>Counting Stars (Feat. Beenzino)</td>\n",
       "      <td>BE'O (비오)</td>\n",
       "      <td>Counting Stars</td>\n",
       "    </tr>\n",
       "    <tr>\n",
       "      <th>3</th>\n",
       "      <td>4</td>\n",
       "      <td>리무진 (Feat. MINO) (Prod. GRAY)</td>\n",
       "      <td>BE'O (비오)</td>\n",
       "      <td>쇼미더머니 10 Episode 3</td>\n",
       "    </tr>\n",
       "    <tr>\n",
       "      <th>4</th>\n",
       "      <td>5</td>\n",
       "      <td>ELEVEN</td>\n",
       "      <td>IVE (아이브)</td>\n",
       "      <td>ELEVEN</td>\n",
       "    </tr>\n",
       "    <tr>\n",
       "      <th>...</th>\n",
       "      <td>...</td>\n",
       "      <td>...</td>\n",
       "      <td>...</td>\n",
       "      <td>...</td>\n",
       "    </tr>\n",
       "    <tr>\n",
       "      <th>95</th>\n",
       "      <td>96</td>\n",
       "      <td>끝사랑</td>\n",
       "      <td>임영웅</td>\n",
       "      <td>사랑의 콜센타 PART61</td>\n",
       "    </tr>\n",
       "    <tr>\n",
       "      <th>96</th>\n",
       "      <td>97</td>\n",
       "      <td>Life Goes On</td>\n",
       "      <td>방탄소년단</td>\n",
       "      <td>BE</td>\n",
       "    </tr>\n",
       "    <tr>\n",
       "      <th>97</th>\n",
       "      <td>98</td>\n",
       "      <td>깐부 (Feat. 염따, ASH ISLAND) (Prod. TOIL)</td>\n",
       "      <td>KOONTA (쿤타)</td>\n",
       "      <td>쇼미더머니 10 Episode 3</td>\n",
       "    </tr>\n",
       "    <tr>\n",
       "      <th>98</th>\n",
       "      <td>99</td>\n",
       "      <td>Santa Tell Me</td>\n",
       "      <td>Ariana Grande</td>\n",
       "      <td>Santa Tell Me</td>\n",
       "    </tr>\n",
       "    <tr>\n",
       "      <th>99</th>\n",
       "      <td>100</td>\n",
       "      <td>Bk Love</td>\n",
       "      <td>임영웅</td>\n",
       "      <td>뽕숭아학당 PART23</td>\n",
       "    </tr>\n",
       "  </tbody>\n",
       "</table>\n",
       "<p>100 rows × 4 columns</p>\n",
       "</div>"
      ],
      "text/plain": [
       "     순위                                       곡             가수  \\\n",
       "0     1                                    취중고백     김민석 (멜로망스)   \n",
       "1     2  회전목마 (Feat. Zion.T, 원슈타인) (Prod. Slom)       sokodomo   \n",
       "2     3         Counting Stars (Feat. Beenzino)      BE'O (비오)   \n",
       "3     4           리무진 (Feat. MINO) (Prod. GRAY)      BE'O (비오)   \n",
       "4     5                                  ELEVEN      IVE (아이브)   \n",
       "..  ...                                     ...            ...   \n",
       "95   96                                     끝사랑            임영웅   \n",
       "96   97                            Life Goes On          방탄소년단   \n",
       "97   98  깐부 (Feat. 염따, ASH ISLAND) (Prod. TOIL)    KOONTA (쿤타)   \n",
       "98   99                           Santa Tell Me  Ariana Grande   \n",
       "99  100                                 Bk Love            임영웅   \n",
       "\n",
       "                    앨범  \n",
       "0                 취중고백  \n",
       "1   쇼미더머니 10 Episode 2  \n",
       "2       Counting Stars  \n",
       "3   쇼미더머니 10 Episode 3  \n",
       "4               ELEVEN  \n",
       "..                 ...  \n",
       "95      사랑의 콜센타 PART61  \n",
       "96                  BE  \n",
       "97  쇼미더머니 10 Episode 3  \n",
       "98       Santa Tell Me  \n",
       "99        뽕숭아학당 PART23  \n",
       "\n",
       "[100 rows x 4 columns]"
      ]
     },
     "execution_count": 27,
     "metadata": {},
     "output_type": "execute_result"
    }
   ],
   "source": [
    "df"
   ]
  },
  {
   "cell_type": "code",
   "execution_count": 29,
   "metadata": {},
   "outputs": [
    {
     "name": "stdout",
     "output_type": "stream",
     "text": [
      "month_melon_2022년01월.xlsx 파일 생성 완료\n"
     ]
    }
   ],
   "source": [
    "# 파일로 출력\n",
    "file_name = 'month_melon_' + title + '.xlsx'\n",
    "path = '../crawling_data/month_melon/'\n",
    "df.to_excel(path+file_name, index=False, encoding='utf-8')\n",
    "\n",
    "print(f\"{file_name} 파일 생성 완료\")"
   ]
  },
  {
   "cell_type": "code",
   "execution_count": 39,
   "metadata": {},
   "outputs": [],
   "source": [
    "def month_crawl(month):\n",
    "    # 월간 선택\n",
    "    m = month\n",
    "    selectmonth = driver.find_element_by_xpath(f'//*[@id=\"d_chart_search\"]/div/div/div[3]/div[1]/ul/li[{m}]/span/label')\n",
    "    selectmonth.click()\n",
    "    time.sleep( random.uniform(1, 2) )\n",
    "\n",
    "    # 장르 선택\n",
    "    selectgenre_button = driver.find_element_by_xpath('//*[@id=\"d_chart_search\"]/div/div/div[5]/div[1]/ul/li[1]/span/label')\n",
    "    selectgenre_button.click()\n",
    "    time.sleep( random.uniform(1, 2) )\n",
    "\n",
    "    # 검색 버튼 클릭\n",
    "    search_button = driver.find_element_by_xpath('//*[@id=\"d_srch_form\"]/div[2]/button/span/span')\n",
    "    search_button.click()\n",
    "    time.sleep( random.uniform(1, 2) )\n",
    "    \n",
    "    # 정보 수프에 담기\n",
    "    soup = bs(driver.page_source, 'lxml')\n",
    "\n",
    "    # 검색 제목 수집\n",
    "    search_title = soup.find('div', 'serch_cnt')\n",
    "    title = search_title.text[:-8].replace(' ', '')\n",
    "\n",
    "    # 순위 수집\n",
    "    rank_list = []\n",
    "    for i in range(1, 101):\n",
    "        rank_list.append(i)\n",
    "\n",
    "    # 곡정보\n",
    "    song_list = []\n",
    "    song_info = soup.find_all('div', 'wrap_song_info')\n",
    "    for one in song_info:\n",
    "        temp = one.find('div', 'ellipsis rank01').text.strip()\n",
    "        if '19금\\n' in temp:\n",
    "            temp = temp.replace('19금\\n', '')\n",
    "        song_list.append(temp)\n",
    "\n",
    "    # 가수\n",
    "    artist_list = []\n",
    "    for one in song_info:\n",
    "        temp = one.find('span', 'checkEllipsis').text\n",
    "        artist_list.append(temp)\n",
    "\n",
    "    # 앨범\n",
    "    album_list = []\n",
    "    for one in song_info:\n",
    "        temp = one.find('div', 'ellipsis rank03').text.strip()\n",
    "        album_list.append(temp)\n",
    "\n",
    "    # 수집 데이터 확인\n",
    "    print('수집한 기간 : ', title)\n",
    "    print('수집한 순위 개수 : ', len(rank_list))\n",
    "    print('수집한 곡 개수 : ', len(song_list))\n",
    "    print('수집한 가수 개수 : ', len(artist_list))\n",
    "    print('수집한 앨범 개수 : ', len(album_list))\n",
    "\n",
    "    # 데이터 셋 만들기\n",
    "    dict = {'순위':rank_list, '곡':song_list, '가수':artist_list, '앨범':album_list}\n",
    "    df = pd.DataFrame(dict)\n",
    "\n",
    "    # 파일로 출력\n",
    "    file_name = 'month_melon_' + title + '.xlsx'\n",
    "    path = '../crawling_data/month_melon/'\n",
    "    df.to_excel(path+file_name, index=False, encoding='utf-8')\n",
    "\n",
    "    print(f'{title}')\n",
    "    print(f\"{file_name} 파일 생성 완료\")"
   ]
  },
  {
   "cell_type": "code",
   "execution_count": 40,
   "metadata": {},
   "outputs": [
    {
     "name": "stderr",
     "output_type": "stream",
     "text": [
      "<ipython-input-39-ff3637fcb7b0>:4: DeprecationWarning: find_element_by_xpath is deprecated. Please use find_element(by=By.XPATH, value=xpath) instead\n",
      "  selectmonth = driver.find_element_by_xpath(f'//*[@id=\"d_chart_search\"]/div/div/div[3]/div[1]/ul/li[{m}]/span/label')\n",
      "<ipython-input-39-ff3637fcb7b0>:9: DeprecationWarning: find_element_by_xpath is deprecated. Please use find_element(by=By.XPATH, value=xpath) instead\n",
      "  selectgenre_button = driver.find_element_by_xpath('//*[@id=\"d_chart_search\"]/div/div/div[5]/div[1]/ul/li[1]/span/label')\n",
      "<ipython-input-39-ff3637fcb7b0>:14: DeprecationWarning: find_element_by_xpath is deprecated. Please use find_element(by=By.XPATH, value=xpath) instead\n",
      "  search_button = driver.find_element_by_xpath('//*[@id=\"d_srch_form\"]/div[2]/button/span/span')\n"
     ]
    },
    {
     "name": "stdout",
     "output_type": "stream",
     "text": [
      "수집한 기간 :  2022년01월\n",
      "수집한 순위 개수 :  100\n",
      "수집한 곡 개수 :  100\n",
      "수집한 가수 개수 :  100\n",
      "수집한 앨범 개수 :  100\n",
      "2022년01월\n",
      "month_melon_2022년01월.xlsx 파일 생성 완료\n",
      "수집한 기간 :  2022년02월\n",
      "수집한 순위 개수 :  100\n",
      "수집한 곡 개수 :  100\n",
      "수집한 가수 개수 :  100\n",
      "수집한 앨범 개수 :  100\n",
      "2022년02월\n",
      "month_melon_2022년02월.xlsx 파일 생성 완료\n",
      "수집한 기간 :  2022년03월\n",
      "수집한 순위 개수 :  100\n",
      "수집한 곡 개수 :  100\n",
      "수집한 가수 개수 :  100\n",
      "수집한 앨범 개수 :  100\n",
      "2022년03월\n",
      "month_melon_2022년03월.xlsx 파일 생성 완료\n"
     ]
    }
   ],
   "source": [
    "for i in range(1, 4):\n",
    "    month_crawl(i)"
   ]
  },
  {
   "cell_type": "markdown",
   "metadata": {},
   "source": [
    "# 코드 마지막"
   ]
  }
 ],
 "metadata": {
  "interpreter": {
   "hash": "513dc2e41d739bb2c947903f3c0bbf636d03aa53ab50e61c694a27481c81805e"
  },
  "kernelspec": {
   "display_name": "Python 3.8.8 ('base')",
   "language": "python",
   "name": "python3"
  },
  "language_info": {
   "codemirror_mode": {
    "name": "ipython",
    "version": 3
   },
   "file_extension": ".py",
   "mimetype": "text/x-python",
   "name": "python",
   "nbconvert_exporter": "python",
   "pygments_lexer": "ipython3",
   "version": "3.8.8"
  },
  "orig_nbformat": 4
 },
 "nbformat": 4,
 "nbformat_minor": 2
}
