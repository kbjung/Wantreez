{
 "cells": [
  {
   "cell_type": "markdown",
   "metadata": {},
   "source": [
    "# TJ Graph"
   ]
  },
  {
   "cell_type": "markdown",
   "metadata": {},
   "source": [
    "## 필요 라이브러리 로드"
   ]
  },
  {
   "cell_type": "code",
   "execution_count": 1,
   "metadata": {},
   "outputs": [],
   "source": [
    "import pandas as pd\n",
    "import matplotlib.pyplot as plt\n",
    "import os, math"
   ]
  },
  {
   "cell_type": "code",
   "execution_count": 2,
   "metadata": {},
   "outputs": [],
   "source": [
    "import platform\n",
    "from matplotlib import font_manager, rc\n",
    "\n",
    "# 한글 폰트 지정\n",
    "path = \"C:/Windows/Fonts/malgun.ttf\"\n",
    "if platform.system() == \"Windows\":\n",
    "    font_name = font_manager.FontProperties(fname=path).get_name()\n",
    "    rc('font', family=font_name)\n",
    "elif platform.system()==\"Darwin\":\n",
    "    rc('font', family='AppleGothic')\n",
    "else:\n",
    "    print(\"Unknown System\")"
   ]
  },
  {
   "cell_type": "code",
   "execution_count": 3,
   "metadata": {},
   "outputs": [],
   "source": [
    "import matplotlib\n",
    "matplotlib.rcParams['axes.unicode_minus'] = False # 그래프에서 음수 표현 가능하도록 설정."
   ]
  },
  {
   "cell_type": "markdown",
   "metadata": {},
   "source": [
    "## 파일 불러오기"
   ]
  },
  {
   "cell_type": "code",
   "execution_count": 35,
   "metadata": {},
   "outputs": [],
   "source": [
    "site_name = 'tj'"
   ]
  },
  {
   "cell_type": "code",
   "execution_count": 36,
   "metadata": {},
   "outputs": [],
   "source": [
    "# 전 주 파일 날짜\n",
    "start_date = '2022-04-25'\n",
    "end_date = '2022-05-01'"
   ]
  },
  {
   "cell_type": "code",
   "execution_count": 37,
   "metadata": {},
   "outputs": [
    {
     "data": {
      "text/plain": [
       "Index(['2022-05-02', '2022-05-03', '2022-05-04', '2022-05-05', '2022-05-06',\n",
       "       '2022-05-07', '2022-05-08'],\n",
       "      dtype='object')"
      ]
     },
     "execution_count": 37,
     "metadata": {},
     "output_type": "execute_result"
    }
   ],
   "source": [
    "# 비교할 파일 날짜(일주일)\n",
    "new_start_date = '2022-05-02'\n",
    "new_end_date = '2022-05-08'\n",
    "new_dates_df = pd.date_range(new_start_date, new_end_date).astype(str)\n",
    "new_dates_df"
   ]
  },
  {
   "cell_type": "code",
   "execution_count": 38,
   "metadata": {},
   "outputs": [
    {
     "data": {
      "text/plain": [
       "'c:/data/Wantreez/Crawling/music'"
      ]
     },
     "execution_count": 38,
     "metadata": {},
     "output_type": "execute_result"
    }
   ],
   "source": [
    "code_path = 'c:/data/Wantreez/Crawling/music'\n",
    "code_path"
   ]
  },
  {
   "cell_type": "code",
   "execution_count": 39,
   "metadata": {},
   "outputs": [],
   "source": [
    "# 실시간 순위 파일 폴더로 이동\n",
    "live_folder = f'/crawled_data/live_{site_name}/'\n",
    "try:\n",
    "    os.chdir(code_path + live_folder)\n",
    "except:\n",
    "    pass"
   ]
  },
  {
   "cell_type": "code",
   "execution_count": 40,
   "metadata": {},
   "outputs": [
    {
     "name": "stdout",
     "output_type": "stream",
     "text": [
      "0 live_tj_20220425.xlsx\n",
      "1 live_tj_20220426.xlsx\n",
      "2 live_tj_20220427.xlsx\n",
      "3 live_tj_20220428.xlsx\n",
      "4 live_tj_20220429.xlsx\n",
      "5 live_tj_20220430.xlsx\n",
      "6 live_tj_20220501_100024.xlsx\n",
      "7 live_tj_20220502_100124.xlsx\n",
      "8 live_tj_20220503_100146.xlsx\n",
      "9 live_tj_20220504_100159.xlsx\n",
      "10 live_tj_20220505_100213.xlsx\n",
      "11 live_tj_20220506_100225.xlsx\n",
      "12 live_tj_20220507_100236.xlsx\n",
      "13 live_tj_20220508_100245.xlsx\n",
      "14 live_tj_20220509_100256.xlsx\n",
      "15 live_tj_20220510_100307.xlsx\n",
      "16 live_tj_20220511.xlsx\n"
     ]
    }
   ],
   "source": [
    "file_list = os.listdir()\n",
    "for i, s in enumerate(file_list):\n",
    "    print(i, s)"
   ]
  },
  {
   "cell_type": "markdown",
   "metadata": {},
   "source": [
    "## 수집한 파일 모두 합치기"
   ]
  },
  {
   "cell_type": "code",
   "execution_count": 41,
   "metadata": {},
   "outputs": [
    {
     "data": {
      "text/html": [
       "<div>\n",
       "<style scoped>\n",
       "    .dataframe tbody tr th:only-of-type {\n",
       "        vertical-align: middle;\n",
       "    }\n",
       "\n",
       "    .dataframe tbody tr th {\n",
       "        vertical-align: top;\n",
       "    }\n",
       "\n",
       "    .dataframe thead th {\n",
       "        text-align: right;\n",
       "    }\n",
       "</style>\n",
       "<table border=\"1\" class=\"dataframe\">\n",
       "  <thead>\n",
       "    <tr style=\"text-align: right;\">\n",
       "      <th></th>\n",
       "      <th>날짜</th>\n",
       "      <th>순위</th>\n",
       "      <th>곡</th>\n",
       "      <th>가수</th>\n",
       "    </tr>\n",
       "  </thead>\n",
       "  <tbody>\n",
       "    <tr>\n",
       "      <th>0</th>\n",
       "      <td>2022-04-25</td>\n",
       "      <td>1</td>\n",
       "      <td>취중고백</td>\n",
       "      <td>김민석</td>\n",
       "    </tr>\n",
       "    <tr>\n",
       "      <th>1</th>\n",
       "      <td>2022-04-25</td>\n",
       "      <td>2</td>\n",
       "      <td>사랑인가봐(사내맞선OST)</td>\n",
       "      <td>멜로망스</td>\n",
       "    </tr>\n",
       "    <tr>\n",
       "      <th>2</th>\n",
       "      <td>2022-04-25</td>\n",
       "      <td>3</td>\n",
       "      <td>사랑은늘도망가(신사와아가씨OST)</td>\n",
       "      <td>임영웅</td>\n",
       "    </tr>\n",
       "    <tr>\n",
       "      <th>3</th>\n",
       "      <td>2022-04-25</td>\n",
       "      <td>4</td>\n",
       "      <td>호랑수월가</td>\n",
       "      <td>탑현</td>\n",
       "    </tr>\n",
       "    <tr>\n",
       "      <th>4</th>\n",
       "      <td>2022-04-25</td>\n",
       "      <td>5</td>\n",
       "      <td>너의번호를누르고</td>\n",
       "      <td>#안녕(Prod.영화처럼)</td>\n",
       "    </tr>\n",
       "  </tbody>\n",
       "</table>\n",
       "</div>"
      ],
      "text/plain": [
       "           날짜  순위                   곡              가수\n",
       "0  2022-04-25   1                취중고백             김민석\n",
       "1  2022-04-25   2      사랑인가봐(사내맞선OST)            멜로망스\n",
       "2  2022-04-25   3  사랑은늘도망가(신사와아가씨OST)             임영웅\n",
       "3  2022-04-25   4               호랑수월가              탑현\n",
       "4  2022-04-25   5            너의번호를누르고  #안녕(Prod.영화처럼)"
      ]
     },
     "execution_count": 41,
     "metadata": {},
     "output_type": "execute_result"
    }
   ],
   "source": [
    "total_df = pd.DataFrame()\n",
    "for one in file_list:\n",
    "    temp = pd.read_excel(one)\n",
    "    total_df = pd.concat([total_df, temp], ignore_index=True)\n",
    "total_df.head()"
   ]
  },
  {
   "cell_type": "code",
   "execution_count": 42,
   "metadata": {},
   "outputs": [],
   "source": [
    "total_df['날짜'] = total_df['날짜'].astype(str)"
   ]
  },
  {
   "cell_type": "code",
   "execution_count": 43,
   "metadata": {},
   "outputs": [
    {
     "name": "stdout",
     "output_type": "stream",
     "text": [
      "<class 'pandas.core.frame.DataFrame'>\n",
      "RangeIndex: 700 entries, 0 to 699\n",
      "Data columns (total 4 columns):\n",
      " #   Column  Non-Null Count  Dtype \n",
      "---  ------  --------------  ----- \n",
      " 0   날짜      700 non-null    object\n",
      " 1   순위      700 non-null    int64 \n",
      " 2   곡       700 non-null    object\n",
      " 3   가수      700 non-null    object\n",
      "dtypes: int64(1), object(3)\n",
      "memory usage: 22.0+ KB\n"
     ]
    }
   ],
   "source": [
    "before_df = total_df[ (total_df['날짜'] >= start_date) & (total_df['날짜'] <= end_date)].reset_index(drop=True)\n",
    "before_df.info()"
   ]
  },
  {
   "cell_type": "code",
   "execution_count": 44,
   "metadata": {},
   "outputs": [
    {
     "name": "stdout",
     "output_type": "stream",
     "text": [
      "<class 'pandas.core.frame.DataFrame'>\n",
      "RangeIndex: 700 entries, 0 to 699\n",
      "Data columns (total 4 columns):\n",
      " #   Column  Non-Null Count  Dtype \n",
      "---  ------  --------------  ----- \n",
      " 0   날짜      700 non-null    object\n",
      " 1   순위      700 non-null    int64 \n",
      " 2   곡       700 non-null    object\n",
      " 3   가수      700 non-null    object\n",
      "dtypes: int64(1), object(3)\n",
      "memory usage: 22.0+ KB\n"
     ]
    }
   ],
   "source": [
    "new_df = total_df[ (total_df['날짜'] >= new_start_date) & (total_df['날짜'] <= new_end_date)].reset_index(drop=True)\n",
    "new_df.info()"
   ]
  },
  {
   "cell_type": "markdown",
   "metadata": {},
   "source": [
    "## 1주일 동안 새로 진입한 곡 추출"
   ]
  },
  {
   "cell_type": "code",
   "execution_count": 45,
   "metadata": {},
   "outputs": [],
   "source": [
    "title_list = before_df['곡'].unique()"
   ]
  },
  {
   "cell_type": "code",
   "execution_count": 46,
   "metadata": {},
   "outputs": [
    {
     "name": "stdout",
     "output_type": "stream",
     "text": [
      "2022-05-02\n",
      "1 1\n",
      "2022-05-03\n",
      "2 2\n",
      "2022-05-04\n",
      "5 5\n",
      "2022-05-05\n",
      "7 7\n",
      "2022-05-06\n",
      "10 10\n",
      "2022-05-07\n",
      "13 13\n",
      "2022-05-08\n",
      "17 17\n"
     ]
    }
   ],
   "source": [
    "pop_title_list = []\n",
    "pop_artist_list = []\n",
    "pop_date_df = pd.DataFrame()\n",
    "for new_one_date in new_dates_df:\n",
    "    new_date_df = total_df[total_df['날짜'] == new_one_date].reset_index(drop=True)\n",
    "    new_title_list = new_date_df['곡'].unique()\n",
    "\n",
    "    for one_title in new_title_list:\n",
    "        if one_title not in title_list:\n",
    "            pop_title_list.append(one_title)\n",
    "            pop_artist_list.append(new_df[new_df['곡'] == one_title]['가수'].values[0]) # 문제 : 같은 곡명, 다른 가수는 구분이 어려움\n",
    "    print(new_one_date)\n",
    "    print( len(pop_title_list), len(pop_artist_list) )\n",
    "\n",
    "    for two_title, two_artist in zip(pop_title_list, pop_artist_list):\n",
    "        temp = new_df[ (new_df['곡'] == two_title) & (new_df['가수'] == two_artist)]\n",
    "        pop_date_df = pd.concat([pop_date_df, temp], ignore_index=True)\n",
    "        pop_date_df = pop_date_df.drop_duplicates(['날짜', '곡', '가수'], ignore_index=True)"
   ]
  },
  {
   "cell_type": "code",
   "execution_count": 47,
   "metadata": {},
   "outputs": [
    {
     "name": "stdout",
     "output_type": "stream",
     "text": [
      "<class 'pandas.core.frame.DataFrame'>\n",
      "RangeIndex: 17 entries, 0 to 16\n",
      "Data columns (total 4 columns):\n",
      " #   Column  Non-Null Count  Dtype \n",
      "---  ------  --------------  ----- \n",
      " 0   날짜      17 non-null     object\n",
      " 1   순위      17 non-null     int64 \n",
      " 2   곡       17 non-null     object\n",
      " 3   가수      17 non-null     object\n",
      "dtypes: int64(1), object(3)\n",
      "memory usage: 672.0+ bytes\n"
     ]
    }
   ],
   "source": [
    "pop_date_df.info()"
   ]
  },
  {
   "cell_type": "code",
   "execution_count": 49,
   "metadata": {},
   "outputs": [
    {
     "name": "stdout",
     "output_type": "stream",
     "text": [
      "<class 'pandas.core.frame.DataFrame'>\n",
      "RangeIndex: 8 entries, 0 to 7\n",
      "Data columns (total 4 columns):\n",
      " #   Column  Non-Null Count  Dtype \n",
      "---  ------  --------------  ----- \n",
      " 0   날짜      8 non-null      object\n",
      " 1   순위      8 non-null      int64 \n",
      " 2   곡       8 non-null      object\n",
      " 3   가수      8 non-null      object\n",
      "dtypes: int64(1), object(3)\n",
      "memory usage: 384.0+ bytes\n"
     ]
    }
   ],
   "source": [
    "pop_df = pop_date_df.drop_duplicates(['곡', '가수']).reset_index(drop=True)\n",
    "pop_df.info()"
   ]
  },
  {
   "cell_type": "markdown",
   "metadata": {},
   "source": [
    "## 파일로 출력"
   ]
  },
  {
   "cell_type": "code",
   "execution_count": 52,
   "metadata": {},
   "outputs": [],
   "source": [
    "pop_df.to_excel('20220509_new_songs.xlsx', index=False, encoding='utf-8')"
   ]
  },
  {
   "cell_type": "markdown",
   "metadata": {},
   "source": [
    "# 코드 마지막"
   ]
  }
 ],
 "metadata": {
  "interpreter": {
   "hash": "9324a04c706a6b31eba7a0651aa7242016688d8fadcdb700b6e4a7f0e3e7d10a"
  },
  "kernelspec": {
   "display_name": "Python 3.9.7 ('base')",
   "language": "python",
   "name": "python3"
  },
  "language_info": {
   "codemirror_mode": {
    "name": "ipython",
    "version": 3
   },
   "file_extension": ".py",
   "mimetype": "text/x-python",
   "name": "python",
   "nbconvert_exporter": "python",
   "pygments_lexer": "ipython3",
   "version": "3.9.7"
  },
  "orig_nbformat": 4
 },
 "nbformat": 4,
 "nbformat_minor": 2
}
