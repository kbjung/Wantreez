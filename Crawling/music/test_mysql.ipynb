{
 "cells": [
  {
   "cell_type": "code",
   "execution_count": 2,
   "metadata": {},
   "outputs": [
    {
     "name": "stdout",
     "output_type": "stream",
     "text": [
      "Collecting pymysql\n",
      "  Downloading PyMySQL-1.0.2-py3-none-any.whl (43 kB)\n",
      "Installing collected packages: pymysql\n",
      "Successfully installed pymysql-1.0.2\n"
     ]
    }
   ],
   "source": [
    "!pip install pymysql"
   ]
  },
  {
   "cell_type": "code",
   "execution_count": 85,
   "metadata": {},
   "outputs": [],
   "source": [
    "import pandas as pd\n",
    "import pymysql as ps\n",
    "import getpass"
   ]
  },
  {
   "cell_type": "code",
   "execution_count": 86,
   "metadata": {},
   "outputs": [
    {
     "name": "stdout",
     "output_type": "stream",
     "text": [
      "<class 'pandas.core.frame.DataFrame'>\n",
      "RangeIndex: 100 entries, 0 to 99\n",
      "Data columns (total 5 columns):\n",
      " #   Column  Non-Null Count  Dtype \n",
      "---  ------  --------------  ----- \n",
      " 0   날짜      100 non-null    object\n",
      " 1   순위      100 non-null    int64 \n",
      " 2   곡       100 non-null    object\n",
      " 3   가수      100 non-null    object\n",
      " 4   앨범      100 non-null    object\n",
      "dtypes: int64(1), object(4)\n",
      "memory usage: 4.0+ KB\n"
     ]
    }
   ],
   "source": [
    "path = 'crawled_data/day_genie/'\n",
    "file_name = 'day_genie_20220101.xlsx'\n",
    "excel = pd.read_excel(path+file_name)\n",
    "excel.info()"
   ]
  },
  {
   "cell_type": "code",
   "execution_count": 87,
   "metadata": {},
   "outputs": [],
   "source": [
    "password = getpass.getpass('비밀번호')"
   ]
  },
  {
   "cell_type": "code",
   "execution_count": 89,
   "metadata": {},
   "outputs": [],
   "source": [
    "conn = ps.connect(host='127.0.0.1', user='root', password=password, charset='utf8')\n",
    "curs = conn.cursor(ps.cursors.DictCursor)"
   ]
  },
  {
   "cell_type": "code",
   "execution_count": 59,
   "metadata": {},
   "outputs": [],
   "source": [
    "sql = 'CREATE DATABASE developer'\n",
    "curs.execute(sql)\n",
    "conn.commit()"
   ]
  },
  {
   "cell_type": "code",
   "execution_count": 90,
   "metadata": {},
   "outputs": [],
   "source": [
    "developer = ps.connect(host='127.0.0.1', user='root', password=password, charset='utf8', db='developer')\n",
    "curs = developer.cursor(ps.cursors.DictCursor)"
   ]
  },
  {
   "cell_type": "code",
   "execution_count": 92,
   "metadata": {},
   "outputs": [],
   "source": [
    "sql = 'CREATE TABLE test ( 날짜 date , 순위 int(2), 곡 char(100), 가수 char(100), 앨범 char(100) )'\n",
    "curs.execute(sql)\n",
    "developer.commit()"
   ]
  },
  {
   "cell_type": "code",
   "execution_count": 69,
   "metadata": {},
   "outputs": [],
   "source": [
    "date_list = excel['날짜'].values\n",
    "rank_list = excel['순위'].values\n",
    "song_list = excel['곡'].values\n",
    "artist_list = excel['가수'].values\n",
    "album_list = excel['앨범'].values"
   ]
  },
  {
   "cell_type": "code",
   "execution_count": 107,
   "metadata": {},
   "outputs": [],
   "source": [
    "for i in range(5):\n",
    "    date = date_list[i]\n",
    "    rank = rank_list[i]\n",
    "    song = song_list[i]\n",
    "    artist = artist_list[i]\n",
    "    album = album_list[i]\n",
    "    if \"'\" in artist:\n",
    "        artist = artist.replace(\"'\", \"''\")\n",
    "    sql = f\"INSERT INTO test VALUES('{date}', '{rank}', '{song}', '{artist}', '{album}')\"\n",
    "    curs.execute(sql)\n",
    "    conn.commit()"
   ]
  },
  {
   "cell_type": "code",
   "execution_count": 105,
   "metadata": {},
   "outputs": [
    {
     "data": {
      "text/plain": [
       "\"BE'O (비오)\""
      ]
     },
     "execution_count": 105,
     "metadata": {},
     "output_type": "execute_result"
    }
   ],
   "source": [
    "artist = \"BE'O (비오)\"\n",
    "artist"
   ]
  },
  {
   "cell_type": "code",
   "execution_count": 106,
   "metadata": {},
   "outputs": [
    {
     "data": {
      "text/plain": [
       "\"BE''O (비오)\""
      ]
     },
     "execution_count": 106,
     "metadata": {},
     "output_type": "execute_result"
    }
   ],
   "source": [
    "temp = artist.replace(\"'\", \"''\")\n",
    "temp"
   ]
  },
  {
   "cell_type": "code",
   "execution_count": null,
   "metadata": {},
   "outputs": [],
   "source": []
  }
 ],
 "metadata": {
  "interpreter": {
   "hash": "513dc2e41d739bb2c947903f3c0bbf636d03aa53ab50e61c694a27481c81805e"
  },
  "kernelspec": {
   "display_name": "Python 3.8.8 ('base')",
   "language": "python",
   "name": "python3"
  },
  "language_info": {
   "codemirror_mode": {
    "name": "ipython",
    "version": 3
   },
   "file_extension": ".py",
   "mimetype": "text/x-python",
   "name": "python",
   "nbconvert_exporter": "python",
   "pygments_lexer": "ipython3",
   "version": "3.8.8"
  },
  "orig_nbformat": 4
 },
 "nbformat": 4,
 "nbformat_minor": 2
}
