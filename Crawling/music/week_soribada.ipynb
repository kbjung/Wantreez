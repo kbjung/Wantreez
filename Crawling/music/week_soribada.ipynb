{
 "cells": [
  {
   "cell_type": "markdown",
   "metadata": {},
   "source": [
    "# Soribada"
   ]
  },
  {
   "cell_type": "markdown",
   "metadata": {},
   "source": [
    "## 라이브러리 로드"
   ]
  },
  {
   "cell_type": "code",
   "execution_count": 1,
   "metadata": {},
   "outputs": [],
   "source": [
    "from bs4 import BeautifulSoup as bs\n",
    "import pandas as pd\n",
    "import os, time, random\n",
    "from selenium import webdriver\n",
    "import chromedriver_autoinstaller as ca"
   ]
  },
  {
   "cell_type": "markdown",
   "metadata": {},
   "source": [
    "## 준비"
   ]
  },
  {
   "cell_type": "markdown",
   "metadata": {},
   "source": [
    "### 현재 경로 확인"
   ]
  },
  {
   "cell_type": "code",
   "execution_count": 2,
   "metadata": {},
   "outputs": [
    {
     "data": {
      "text/plain": [
       "'c:/data/Wantreez/Crawling/music'"
      ]
     },
     "execution_count": 2,
     "metadata": {},
     "output_type": "execute_result"
    }
   ],
   "source": [
    "# 현재 경로 확인\n",
    "code_path = os.getcwd().replace('\\\\', '/')\n",
    "code_path"
   ]
  },
  {
   "cell_type": "markdown",
   "metadata": {},
   "source": [
    "### 폴더 생성"
   ]
  },
  {
   "cell_type": "code",
   "execution_count": 3,
   "metadata": {},
   "outputs": [],
   "source": [
    "# 파일 저장할 폴더 생성\n",
    "crawled_folder_path = code_path + '/crawled_data/week_soribada/'\n",
    "os.makedirs(crawled_folder_path, exist_ok=True)"
   ]
  },
  {
   "cell_type": "markdown",
   "metadata": {},
   "source": [
    "### 크롬 드라이브 버전 확인"
   ]
  },
  {
   "cell_type": "code",
   "execution_count": 4,
   "metadata": {},
   "outputs": [
    {
     "data": {
      "text/plain": [
       "'100'"
      ]
     },
     "execution_count": 4,
     "metadata": {},
     "output_type": "execute_result"
    }
   ],
   "source": [
    "# 현재 크롬 버전 확인\n",
    "chrome_ver = ca.get_chrome_version().split('.')[0]\n",
    "chrome_ver"
   ]
  },
  {
   "cell_type": "code",
   "execution_count": 5,
   "metadata": {},
   "outputs": [
    {
     "name": "stderr",
     "output_type": "stream",
     "text": [
      "C:\\Users\\kbjung\\AppData\\Local\\Temp/ipykernel_8376/231581722.py:3: DeprecationWarning: executable_path has been deprecated, please pass in a Service object\n",
      "  driver = webdriver.Chrome(code_path + f'/{chrome_ver}/' + 'chromedriver.exe')\n"
     ]
    }
   ],
   "source": [
    "# 크롬 드라이버 확인 및 설치\n",
    "try:\n",
    "    driver = webdriver.Chrome(code_path + f'/{chrome_ver}/' + 'chromedriver.exe')\n",
    "except:\n",
    "    ca.install(True)\n",
    "    driver = webdriver.Chrome(code_path + f'/{chrome_ver}/' + 'chromedriver.exe')"
   ]
  },
  {
   "cell_type": "markdown",
   "metadata": {},
   "source": [
    "## 페이지 접속"
   ]
  },
  {
   "cell_type": "code",
   "execution_count": 7,
   "metadata": {},
   "outputs": [],
   "source": [
    "# 페이지 접속\n",
    "url = 'https://www.soribada.com/music/chart/weekly/'\n",
    "driver.get(url)\n",
    "driver.implicitly_wait(3)\n",
    "driver.maximize_window()"
   ]
  },
  {
   "cell_type": "markdown",
   "metadata": {},
   "source": [
    "### 링크 만들기"
   ]
  },
  {
   "cell_type": "code",
   "execution_count": 8,
   "metadata": {},
   "outputs": [
    {
     "data": {
      "text/plain": [
       "14"
      ]
     },
     "execution_count": 8,
     "metadata": {},
     "output_type": "execute_result"
    }
   ],
   "source": [
    "# 날짜\n",
    "dates = ['2021124', '2022011', '2022012', '2022013', '2022014', '2022015', '2022021', '2022022', '2022023', '2022024', '2022031', '2022032', '2022033', '2022034']\n",
    "# 링크용 날짜\n",
    "link_date_list = []\n",
    "for one in dates:\n",
    "    temp = url + one\n",
    "    link_date_list.append(temp)\n",
    "len(link_date_list)"
   ]
  },
  {
   "cell_type": "code",
   "execution_count": 9,
   "metadata": {},
   "outputs": [
    {
     "data": {
      "text/plain": [
       "['https://www.soribada.com/music/chart/weekly/2021124',\n",
       " 'https://www.soribada.com/music/chart/weekly/2022011',\n",
       " 'https://www.soribada.com/music/chart/weekly/2022012',\n",
       " 'https://www.soribada.com/music/chart/weekly/2022013',\n",
       " 'https://www.soribada.com/music/chart/weekly/2022014']"
      ]
     },
     "execution_count": 9,
     "metadata": {},
     "output_type": "execute_result"
    }
   ],
   "source": [
    "link_date_list[:5]"
   ]
  },
  {
   "cell_type": "code",
   "execution_count": 10,
   "metadata": {},
   "outputs": [
    {
     "data": {
      "text/plain": [
       "'2021년 12월 27일 ~ 2022년 01월 02일'"
      ]
     },
     "execution_count": 10,
     "metadata": {},
     "output_type": "execute_result"
    }
   ],
   "source": [
    "soup = bs(driver.page_source, 'lxml')\n",
    "soup.find('span', 'nowText').text"
   ]
  },
  {
   "cell_type": "code",
   "execution_count": 11,
   "metadata": {},
   "outputs": [
    {
     "data": {
      "text/plain": [
       "'2021-12-27'"
      ]
     },
     "execution_count": 11,
     "metadata": {},
     "output_type": "execute_result"
    }
   ],
   "source": [
    "temp = soup.find('span', 'nowText').text.split(' ~ ')[0]\n",
    "temp = temp.replace('년 ' ,'-')\n",
    "temp = temp.replace('월 ' ,'-')\n",
    "temp = temp.replace('일' ,'')\n",
    "temp"
   ]
  },
  {
   "cell_type": "code",
   "execution_count": 12,
   "metadata": {},
   "outputs": [
    {
     "data": {
      "text/plain": [
       "100"
      ]
     },
     "execution_count": 12,
     "metadata": {},
     "output_type": "execute_result"
    }
   ],
   "source": [
    "# 일간 랭크용 날짜\n",
    "repeat_rank_date_list = []\n",
    "temp = soup.find('span', 'nowText').text.split(' ~ ')[0]\n",
    "temp = temp.replace('년 ' ,'-')\n",
    "temp = temp.replace('월 ' ,'-')\n",
    "temp = temp.replace('일' ,'')\n",
    "for d in range(100):\n",
    "    repeat_rank_date_list.append(temp)\n",
    "len(repeat_rank_date_list)"
   ]
  },
  {
   "cell_type": "code",
   "execution_count": 13,
   "metadata": {},
   "outputs": [
    {
     "name": "stdout",
     "output_type": "stream",
     "text": [
      "week_soribada_2021124.xlsx 파일 생성 완료\n",
      "week_soribada_2022015.xlsx 파일 생성 완료\n",
      "week_soribada_2022021.xlsx 파일 생성 완료\n",
      "week_soribada_2022022.xlsx 파일 생성 완료\n",
      "week_soribada_2022023.xlsx 파일 생성 완료\n",
      "week_soribada_2022024.xlsx 파일 생성 완료\n",
      "week_soribada_2022032.xlsx 파일 생성 완료\n",
      "week_soribada_2022033.xlsx 파일 생성 완료\n",
      "week_soribada_2022034.xlsx 파일 생성 완료\n"
     ]
    }
   ],
   "source": [
    "for i in range(len(link_date_list)):\n",
    "    try:\n",
    "        # 페이지 접속\n",
    "        driver.get(link_date_list[i])\n",
    "        driver.implicitly_wait(3)\n",
    "        time.sleep( random.uniform(1, 1.5) )\n",
    "\n",
    "        # 수프 담기\n",
    "        soup = bs(driver.page_source, 'lxml')\n",
    "\n",
    "        # 리스트\n",
    "        li_soup = soup.find_all('li', 'listen')\n",
    "\n",
    "        # 일간 랭크용 날짜\n",
    "        repeat_rank_date_list = []\n",
    "        temp = soup.find('span', 'nowText').text.split(' ~ ')[0]\n",
    "        temp = temp.replace('년 ' ,'-')\n",
    "        temp = temp.replace('월 ' ,'-')\n",
    "        temp = temp.replace('일' ,'')\n",
    "        for d in range(100):\n",
    "            repeat_rank_date_list.append(temp)\n",
    "\n",
    "        # rank\n",
    "        rank_list = []\n",
    "        for k in range(1, 101):\n",
    "            rank_list.append(k)\n",
    "\n",
    "        song_title_list = []\n",
    "        artist_list = []\n",
    "        album_list = []\n",
    "        for one in li_soup:\n",
    "            # song title\n",
    "            song_title = one.find('span', 'song-title').text\n",
    "            song_title_list.append(song_title)\n",
    "\n",
    "            # artist\n",
    "            artist = one.find('div', 'list-area2').find_all('span')[6].text.strip()\n",
    "            artist_list.append(artist)\n",
    "\n",
    "            # album\n",
    "            album = one.find('span', 'link-type2 album-title').text\n",
    "            album_list.append(album)\n",
    "        \n",
    "        # df\n",
    "        dict = {'날짜':repeat_rank_date_list, '순위':rank_list, '곡':song_title_list, '가수':artist_list, '앨범':album_list}\n",
    "        df = pd.DataFrame(dict)\n",
    "\n",
    "        # make excel\n",
    "        date = dates[i]\n",
    "        file_name = f'week_soribada_{date}.xlsx'\n",
    "        df.to_excel(crawled_folder_path + file_name, index=False)\n",
    "\n",
    "        print(f\"{file_name} 파일 생성 완료\")\n",
    "        \n",
    "    except:\n",
    "        pass"
   ]
  },
  {
   "cell_type": "markdown",
   "metadata": {},
   "source": [
    "# 코드 마지막"
   ]
  }
 ],
 "metadata": {
  "interpreter": {
   "hash": "513dc2e41d739bb2c947903f3c0bbf636d03aa53ab50e61c694a27481c81805e"
  },
  "kernelspec": {
   "display_name": "Python 3.8.8 ('base')",
   "language": "python",
   "name": "python3"
  },
  "language_info": {
   "codemirror_mode": {
    "name": "ipython",
    "version": 3
   },
   "file_extension": ".py",
   "mimetype": "text/x-python",
   "name": "python",
   "nbconvert_exporter": "python",
   "pygments_lexer": "ipython3",
   "version": "3.9.7"
  },
  "orig_nbformat": 4
 },
 "nbformat": 4,
 "nbformat_minor": 2
}
