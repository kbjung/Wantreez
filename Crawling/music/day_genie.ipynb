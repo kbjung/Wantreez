{
 "cells": [
  {
   "cell_type": "markdown",
   "metadata": {},
   "source": [
    "# Genie 일간 Top100 크롤링"
   ]
  },
  {
   "cell_type": "code",
   "execution_count": 56,
   "metadata": {},
   "outputs": [],
   "source": [
    "from bs4 import BeautifulSoup as bs\n",
    "import pandas as pd\n",
    "from tqdm import tqdm\n",
    "import time, random"
   ]
  },
  {
   "cell_type": "code",
   "execution_count": 57,
   "metadata": {},
   "outputs": [],
   "source": [
    "import requests"
   ]
  },
  {
   "cell_type": "markdown",
   "metadata": {},
   "source": [
    "# 크롤링"
   ]
  },
  {
   "cell_type": "markdown",
   "metadata": {},
   "source": [
    "## 크롤링할 링크 생성"
   ]
  },
  {
   "cell_type": "code",
   "execution_count": 58,
   "metadata": {},
   "outputs": [
    {
     "data": {
      "text/plain": [
       "[Timestamp('2022-01-01 00:00:00', freq='D'),\n",
       " Timestamp('2022-01-02 00:00:00', freq='D'),\n",
       " Timestamp('2022-01-03 00:00:00', freq='D'),\n",
       " Timestamp('2022-01-04 00:00:00', freq='D'),\n",
       " Timestamp('2022-01-05 00:00:00', freq='D')]"
      ]
     },
     "execution_count": 58,
     "metadata": {},
     "output_type": "execute_result"
    }
   ],
   "source": [
    "# 날짜 리스트로 출력\n",
    "start_date ='2022-01-01'\n",
    "end_date = '2022-03-31'\n",
    "dates = pd.date_range(start_date, end_date).to_list()\n",
    "dates[:5]"
   ]
  },
  {
   "cell_type": "code",
   "execution_count": 59,
   "metadata": {},
   "outputs": [
    {
     "data": {
      "text/plain": [
       "90"
      ]
     },
     "execution_count": 59,
     "metadata": {},
     "output_type": "execute_result"
    }
   ],
   "source": [
    "# 순위 날짜\n",
    "rank_date_list = []\n",
    "for one in dates:\n",
    "    temp = str(one).split(' ')[0]\n",
    "    rank_date_list.append(temp)\n",
    "\n",
    "len(rank_date_list)"
   ]
  },
  {
   "cell_type": "code",
   "execution_count": 60,
   "metadata": {},
   "outputs": [
    {
     "data": {
      "text/plain": [
       "['2022-01-01', '2022-01-02', '2022-01-03', '2022-01-04', '2022-01-05']"
      ]
     },
     "execution_count": 60,
     "metadata": {},
     "output_type": "execute_result"
    }
   ],
   "source": [
    "rank_date_list[:5]"
   ]
  },
  {
   "cell_type": "code",
   "execution_count": 61,
   "metadata": {},
   "outputs": [
    {
     "data": {
      "text/plain": [
       "90"
      ]
     },
     "execution_count": 61,
     "metadata": {},
     "output_type": "execute_result"
    }
   ],
   "source": [
    "# 크롤링할 날짜 생성\n",
    "date_list = []\n",
    "for one in dates:\n",
    "    temp = str(one).split(' ')[0].replace('-', '')\n",
    "    date_list.append(temp)\n",
    "\n",
    "len(date_list)"
   ]
  },
  {
   "cell_type": "code",
   "execution_count": 62,
   "metadata": {},
   "outputs": [
    {
     "data": {
      "text/plain": [
       "['20220101', '20220102', '20220103', '20220104', '20220105']"
      ]
     },
     "execution_count": 62,
     "metadata": {},
     "output_type": "execute_result"
    }
   ],
   "source": [
    "date_list[:5]"
   ]
  },
  {
   "cell_type": "code",
   "execution_count": 63,
   "metadata": {},
   "outputs": [
    {
     "data": {
      "text/plain": [
       "180"
      ]
     },
     "execution_count": 63,
     "metadata": {},
     "output_type": "execute_result"
    }
   ],
   "source": [
    "# 링크 리스트\n",
    "link_list = []\n",
    "for one in date_list:\n",
    "    temp1 = f'https://www.genie.co.kr/chart/top200?ditc=D&ymd={one}&hh=15&rtm=N&pg=1'\n",
    "    temp2 = f'https://www.genie.co.kr/chart/top200?ditc=D&ymd={one}&hh=15&rtm=N&pg=2'\n",
    "    link_list.append(temp1)\n",
    "    link_list.append(temp2)\n",
    "\n",
    "len(link_list)"
   ]
  },
  {
   "cell_type": "code",
   "execution_count": 64,
   "metadata": {},
   "outputs": [
    {
     "data": {
      "text/plain": [
       "['https://www.genie.co.kr/chart/top200?ditc=D&ymd=20220101&hh=15&rtm=N&pg=1',\n",
       " 'https://www.genie.co.kr/chart/top200?ditc=D&ymd=20220101&hh=15&rtm=N&pg=2',\n",
       " 'https://www.genie.co.kr/chart/top200?ditc=D&ymd=20220102&hh=15&rtm=N&pg=1',\n",
       " 'https://www.genie.co.kr/chart/top200?ditc=D&ymd=20220102&hh=15&rtm=N&pg=2',\n",
       " 'https://www.genie.co.kr/chart/top200?ditc=D&ymd=20220103&hh=15&rtm=N&pg=1']"
      ]
     },
     "execution_count": 64,
     "metadata": {},
     "output_type": "execute_result"
    }
   ],
   "source": [
    "link_list[:5]"
   ]
  },
  {
   "cell_type": "markdown",
   "metadata": {},
   "source": [
    "## 확인"
   ]
  },
  {
   "cell_type": "code",
   "execution_count": 65,
   "metadata": {},
   "outputs": [],
   "source": [
    "# 페이지 접속\n",
    "headers = {'User-Agent' : 'Mozilla/5.0 (Macintosh; Intel Mac OS X 10_14_4) AppleWebKit/537.36 (KHTML, like Gecko) Chrome/79.0.3945.117 Safari/537.36'}\n",
    "# 지니뮤직 url\n",
    "data = requests.get(link_list[1], headers=headers)\n",
    "# soup : html형식\n",
    "soup = bs(data.text, 'lxml')"
   ]
  },
  {
   "cell_type": "code",
   "execution_count": 66,
   "metadata": {},
   "outputs": [
    {
     "data": {
      "text/plain": [
       "'음악, 그리고 설레임 - 지니'"
      ]
     },
     "execution_count": 66,
     "metadata": {},
     "output_type": "execute_result"
    }
   ],
   "source": [
    "soup.title.text"
   ]
  },
  {
   "cell_type": "code",
   "execution_count": 67,
   "metadata": {},
   "outputs": [],
   "source": [
    "# 곡 제목\n",
    "song_title_list = []\n",
    "song_info = soup.find_all('td', 'info')\n",
    "for one in song_info:\n",
    "    temp = one.find('a', 'title ellipsis').text.strip()\n",
    "    song_title_list.append(temp)"
   ]
  },
  {
   "cell_type": "code",
   "execution_count": 73,
   "metadata": {},
   "outputs": [
    {
     "data": {
      "text/plain": [
       "str"
      ]
     },
     "execution_count": 73,
     "metadata": {},
     "output_type": "execute_result"
    }
   ],
   "source": [
    "type(song_title_list[3])"
   ]
  },
  {
   "cell_type": "code",
   "execution_count": 74,
   "metadata": {},
   "outputs": [
    {
     "data": {
      "text/plain": [
       "'19금\\n                                            \\n                                        \\n                                        \\n                                    \\n                                    Peaches (Feat. Daniel Caesar & Giveon)'"
      ]
     },
     "execution_count": 74,
     "metadata": {},
     "output_type": "execute_result"
    }
   ],
   "source": [
    "song_title_list[3]"
   ]
  },
  {
   "cell_type": "code",
   "execution_count": 77,
   "metadata": {},
   "outputs": [
    {
     "data": {
      "text/plain": [
       "'Peaches (Feat. Daniel Caesar & Giveon)'"
      ]
     },
     "execution_count": 77,
     "metadata": {},
     "output_type": "execute_result"
    }
   ],
   "source": [
    "song_title_list[3][3:].strip()"
   ]
  },
  {
   "cell_type": "code",
   "execution_count": 78,
   "metadata": {},
   "outputs": [],
   "source": [
    "# 곡 제목\n",
    "song_title_list = []\n",
    "song_info = soup.find_all('td', 'info')\n",
    "for one in song_info:\n",
    "    temp = one.find('a', 'title ellipsis').text.strip()\n",
    "    if '19금' in temp:\n",
    "        temp = temp[3:].strip()\n",
    "    song_title_list.append(temp)"
   ]
  },
  {
   "cell_type": "code",
   "execution_count": 81,
   "metadata": {},
   "outputs": [
    {
     "data": {
      "text/plain": [
       "'Peaches (Feat. Daniel Caesar & Giveon)'"
      ]
     },
     "execution_count": 81,
     "metadata": {},
     "output_type": "execute_result"
    }
   ],
   "source": [
    "song_title_list[3]"
   ]
  },
  {
   "cell_type": "markdown",
   "metadata": {},
   "source": [
    "## 크롤링 준비"
   ]
  },
  {
   "cell_type": "code",
   "execution_count": 82,
   "metadata": {},
   "outputs": [
    {
     "data": {
      "text/plain": [
       "90.0"
      ]
     },
     "execution_count": 82,
     "metadata": {},
     "output_type": "execute_result"
    }
   ],
   "source": [
    "len(link_list)/2"
   ]
  },
  {
   "cell_type": "code",
   "execution_count": 83,
   "metadata": {},
   "outputs": [],
   "source": [
    "rank_list = []\n",
    "for i in range(1, 101):\n",
    "    rank_list.append(i)"
   ]
  },
  {
   "cell_type": "markdown",
   "metadata": {},
   "source": [
    "## 파일로 출력"
   ]
  },
  {
   "cell_type": "code",
   "execution_count": 85,
   "metadata": {},
   "outputs": [
    {
     "name": "stderr",
     "output_type": "stream",
     "text": [
      "100%|██████████| 90/90 [01:45<00:00,  1.17s/it]\n"
     ]
    }
   ],
   "source": [
    "num = int(len(link_list)/2)\n",
    "\n",
    "for i in tqdm(range(num)):\n",
    "    first = i*2\n",
    "    second = i*2 + 1\n",
    "\n",
    "    first_link = link_list[first]\n",
    "    second_link = link_list[second]\n",
    "\n",
    "    song_title_list = []\n",
    "    artist_list = []\n",
    "    album_list = []\n",
    "\n",
    "    # 페이지 접속\n",
    "    headers = {'User-Agent' : 'Mozilla/5.0 (Macintosh; Intel Mac OS X 10_14_4) AppleWebKit/537.36 (KHTML, like Gecko) Chrome/79.0.3945.117 Safari/537.36'}\n",
    "    # 지니뮤직 url\n",
    "    data = requests.get(first_link, headers=headers)\n",
    "    # soup : html형식\n",
    "    soup = bs(data.text, 'lxml')\n",
    "\n",
    "    # 곡 제목\n",
    "    song_info = soup.find_all('td', 'info')\n",
    "    for one in song_info:\n",
    "        temp = one.find('a', 'title ellipsis').text.strip()\n",
    "        if '19금' in temp:\n",
    "            temp = temp[3:].strip()\n",
    "        song_title_list.append(temp)\n",
    "    \n",
    "    # 가수\n",
    "    for one in song_info:\n",
    "        temp = one.find('a', 'artist ellipsis').text\n",
    "        artist_list.append(temp)\n",
    "\n",
    "    # 앨범\n",
    "    for one in song_info:\n",
    "        temp = one.find('a', 'albumtitle ellipsis').text\n",
    "        album_list.append(temp)\n",
    "\n",
    "    # 페이지 접속\n",
    "    headers = {'User-Agent' : 'Mozilla/5.0 (Macintosh; Intel Mac OS X 10_14_4) AppleWebKit/537.36 (KHTML, like Gecko) Chrome/79.0.3945.117 Safari/537.36'}\n",
    "    # 지니뮤직 url\n",
    "    data = requests.get(second_link, headers=headers)\n",
    "    # soup : html형식\n",
    "    soup = bs(data.text, 'lxml')\n",
    "\n",
    "    # 곡 제목\n",
    "    song_info = soup.find_all('td', 'info')\n",
    "    for one in song_info:\n",
    "        temp = one.find('a', 'title ellipsis').text.strip()\n",
    "        if '19금' in temp:\n",
    "            temp = temp[3:].strip()\n",
    "        song_title_list.append(temp)\n",
    "    \n",
    "    # 가수\n",
    "    for one in song_info:\n",
    "        temp = one.find('a', 'artist ellipsis').text\n",
    "        artist_list.append(temp)\n",
    "\n",
    "    # 앨범\n",
    "    for one in song_info:\n",
    "        temp = one.find('a', 'albumtitle ellipsis').text\n",
    "        album_list.append(temp)\n",
    "\n",
    "    # 날짜\n",
    "    temp = rank_date_list[i]\n",
    "    repeat_rank_date_list = []\n",
    "    for j in range(100):\n",
    "        repeat_rank_date_list.append(temp)\n",
    "\n",
    "    # 데이터 셋으로 만들기\n",
    "    dict = {'날짜':repeat_rank_date_list, '순위':rank_list, '곡':song_title_list, '가수':artist_list, '앨범':album_list}\n",
    "    df = pd.DataFrame(dict)\n",
    "\n",
    "    # excel 파일로 출력\n",
    "    date = date_list[i]\n",
    "    df.to_excel(f'../crawling_data/day_genie/day_genie_{date}.xlsx', index=False)\n",
    "\n",
    "    time.sleep( random.uniform(0.5, 0.9) )"
   ]
  },
  {
   "cell_type": "markdown",
   "metadata": {},
   "source": [
    "# 코드 마지막"
   ]
  }
 ],
 "metadata": {
  "interpreter": {
   "hash": "513dc2e41d739bb2c947903f3c0bbf636d03aa53ab50e61c694a27481c81805e"
  },
  "kernelspec": {
   "display_name": "Python 3.8.8 ('base')",
   "language": "python",
   "name": "python3"
  },
  "language_info": {
   "codemirror_mode": {
    "name": "ipython",
    "version": 3
   },
   "file_extension": ".py",
   "mimetype": "text/x-python",
   "name": "python",
   "nbconvert_exporter": "python",
   "pygments_lexer": "ipython3",
   "version": "3.8.8"
  },
  "orig_nbformat": 4
 },
 "nbformat": 4,
 "nbformat_minor": 2
}
