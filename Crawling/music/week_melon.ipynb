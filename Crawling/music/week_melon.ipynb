{
 "cells": [
  {
   "cell_type": "markdown",
   "metadata": {},
   "source": [
    "# 주간 Melon Top100 크롤링"
   ]
  },
  {
   "cell_type": "code",
   "execution_count": 1,
   "metadata": {},
   "outputs": [],
   "source": [
    "from selenium import webdriver\n",
    "from bs4 import BeautifulSoup as bs\n",
    "import pandas as pd\n",
    "import time\n",
    "import random"
   ]
  },
  {
   "cell_type": "markdown",
   "metadata": {},
   "source": [
    "# 크롤링\n",
    "* 2022년 1 ~ 3월"
   ]
  },
  {
   "cell_type": "markdown",
   "metadata": {},
   "source": [
    "## 멜론 사이트 접속"
   ]
  },
  {
   "cell_type": "code",
   "execution_count": 2,
   "metadata": {},
   "outputs": [
    {
     "name": "stderr",
     "output_type": "stream",
     "text": [
      "<ipython-input-2-40ce6c51e4f5>:1: DeprecationWarning: executable_path has been deprecated, please pass in a Service object\n",
      "  driver = webdriver.Chrome('../chromedriver')\n"
     ]
    }
   ],
   "source": [
    "driver = webdriver.Chrome('../chromedriver')\n",
    "url = 'https://www.melon.com/chart/index.htm'\n",
    "driver.get(url)\n",
    "driver.maximize_window()"
   ]
  },
  {
   "cell_type": "code",
   "execution_count": 3,
   "metadata": {},
   "outputs": [
    {
     "name": "stderr",
     "output_type": "stream",
     "text": [
      "<ipython-input-3-d7eb223d8b03>:2: DeprecationWarning: find_element_by_xpath is deprecated. Please use find_element(by=By.XPATH, value=xpath) instead\n",
      "  chartfinder_button = driver.find_element_by_xpath('//*[@id=\"gnb_menu\"]/ul[1]/li[1]/div/div/button')\n",
      "<ipython-input-3-d7eb223d8b03>:7: DeprecationWarning: find_element_by_xpath is deprecated. Please use find_element(by=By.XPATH, value=xpath) instead\n",
      "  weekchart_button = driver.find_element_by_xpath('//*[@id=\"d_chart_search\"]/div/h4[1]/a')\n",
      "<ipython-input-3-d7eb223d8b03>:12: DeprecationWarning: find_element_by_xpath is deprecated. Please use find_element(by=By.XPATH, value=xpath) instead\n",
      "  selecttopyear_button = driver.find_element_by_xpath('//*[@id=\"d_chart_search\"]/div/div/div[1]/div[1]/ul/li[1]/span/label')\n",
      "<ipython-input-3-d7eb223d8b03>:17: DeprecationWarning: find_element_by_xpath is deprecated. Please use find_element(by=By.XPATH, value=xpath) instead\n",
      "  selectyear_button = driver.find_element_by_xpath('//*[@id=\"d_chart_search\"]/div/div/div[2]/div[1]/ul/li[1]/span/label')\n",
      "<ipython-input-3-d7eb223d8b03>:22: DeprecationWarning: find_element_by_xpath is deprecated. Please use find_element(by=By.XPATH, value=xpath) instead\n",
      "  selectmonth = driver.find_element_by_xpath(f'//*[@id=\"d_chart_search\"]/div/div/div[3]/div[1]/ul/li[1]/span/label')\n",
      "<ipython-input-3-d7eb223d8b03>:27: DeprecationWarning: find_element_by_xpath is deprecated. Please use find_element(by=By.XPATH, value=xpath) instead\n",
      "  selectweek_button = driver.find_element_by_xpath(f'//*[@id=\"d_chart_search\"]/div/div/div[4]/div[1]/ul/li[1]/span/label')\n",
      "<ipython-input-3-d7eb223d8b03>:32: DeprecationWarning: find_element_by_xpath is deprecated. Please use find_element(by=By.XPATH, value=xpath) instead\n",
      "  selectgenre_button = driver.find_element_by_xpath('//*[@id=\"d_chart_search\"]/div/div/div[5]/div[1]/ul/li[1]/span/label')\n",
      "<ipython-input-3-d7eb223d8b03>:37: DeprecationWarning: find_element_by_xpath is deprecated. Please use find_element(by=By.XPATH, value=xpath) instead\n",
      "  search_button = driver.find_element_by_xpath('//*[@id=\"d_srch_form\"]/div[2]/button/span/span')\n"
     ]
    }
   ],
   "source": [
    "# 차트 파인더로 이동\n",
    "chartfinder_button = driver.find_element_by_xpath('//*[@id=\"gnb_menu\"]/ul[1]/li[1]/div/div/button')\n",
    "chartfinder_button.click()\n",
    "time.sleep( random.uniform(1, 2) )\n",
    "\n",
    "# 주간차트 선택\n",
    "weekchart_button = driver.find_element_by_xpath('//*[@id=\"d_chart_search\"]/div/h4[1]/a')\n",
    "weekchart_button.click()\n",
    "time.sleep( random.uniform(1, 2) )\n",
    "\n",
    "# 연대선택(2020년대)\n",
    "selecttopyear_button = driver.find_element_by_xpath('//*[@id=\"d_chart_search\"]/div/div/div[1]/div[1]/ul/li[1]/span/label')\n",
    "selecttopyear_button.click()\n",
    "time.sleep( random.uniform(1, 2) )\n",
    "\n",
    "# 연도선택(2022년)\n",
    "selectyear_button = driver.find_element_by_xpath('//*[@id=\"d_chart_search\"]/div/div/div[2]/div[1]/ul/li[1]/span/label')\n",
    "selectyear_button.click()\n",
    "time.sleep( random.uniform(1, 2) )\n",
    "\n",
    "# 월간 선택(1월)\n",
    "selectmonth = driver.find_element_by_xpath(f'//*[@id=\"d_chart_search\"]/div/div/div[3]/div[1]/ul/li[1]/span/label')\n",
    "selectmonth.click()\n",
    "time.sleep( random.uniform(1, 2) )\n",
    "\n",
    "# 주간 선택(1주)\n",
    "selectweek_button = driver.find_element_by_xpath(f'//*[@id=\"d_chart_search\"]/div/div/div[4]/div[1]/ul/li[1]/span/label')\n",
    "selectweek_button.click()\n",
    "time.sleep( random.uniform(1, 2) )\n",
    "\n",
    "# 장르 선택\n",
    "selectgenre_button = driver.find_element_by_xpath('//*[@id=\"d_chart_search\"]/div/div/div[5]/div[1]/ul/li[1]/span/label')\n",
    "selectgenre_button.click()\n",
    "time.sleep( random.uniform(1, 2) )\n",
    "\n",
    "# 검색 버튼 클릭\n",
    "search_button = driver.find_element_by_xpath('//*[@id=\"d_srch_form\"]/div[2]/button/span/span')\n",
    "search_button.click()"
   ]
  },
  {
   "cell_type": "code",
   "execution_count": 4,
   "metadata": {},
   "outputs": [],
   "source": [
    "def crawl_month(month):\n",
    "    # 월간 선택\n",
    "    m = month\n",
    "    selectmonth = driver.find_element_by_xpath(f'//*[@id=\"d_chart_search\"]/div/div/div[3]/div[1]/ul/li[{m}]/span/label')\n",
    "    selectmonth.click()\n",
    "    time.sleep( random.uniform(1, 2) )\n",
    "\n",
    "    title_list = []\n",
    "    df = pd.DataFrame()\n",
    "\n",
    "    len_week = driver.find_elements_by_xpath(f'//*[@id=\"d_chart_search\"]/div/div/div[4]/div[1]/ul/li')\n",
    "    num = len(len_week) + 1\n",
    "    # 주간 선택\n",
    "    for w in range(1, num):\n",
    "        selectweek_button = driver.find_element_by_xpath(f'//*[@id=\"d_chart_search\"]/div/div/div[4]/div[1]/ul/li[{w}]/span/label')\n",
    "        selectweek_button.click()\n",
    "        time.sleep( random.uniform(1, 2) )\n",
    "\n",
    "        # 장르 선택\n",
    "        selectgenre_button = driver.find_element_by_xpath('//*[@id=\"d_chart_search\"]/div/div/div[5]/div[1]/ul/li[1]/span/label')\n",
    "        selectgenre_button.click()\n",
    "        time.sleep( random.uniform(1, 2) )\n",
    "\n",
    "        # 검색 버튼 클릭\n",
    "        search_button = driver.find_element_by_xpath('//*[@id=\"d_srch_form\"]/div[2]/button/span/span')\n",
    "        search_button.click()\n",
    "        time.sleep( random.uniform(1, 2) )\n",
    "        \n",
    "        # 정보 수프에 담기\n",
    "        soup = bs(driver.page_source, 'lxml')\n",
    "\n",
    "        # 검색 제목 수집\n",
    "        search_title = soup.find('div', 'serch_cnt')\n",
    "        title = search_title.text[:-8]\n",
    "        for i in range(4):\n",
    "            title_list.append(title)\n",
    "\n",
    "        # 순위 수집\n",
    "        rank_list = []\n",
    "        ranks = soup.find_all('span', 'rank')\n",
    "        for one in ranks:\n",
    "            temp = one.text\n",
    "            rank_list.append(temp)\n",
    "        \n",
    "        # 곡정보\n",
    "        song_list = []\n",
    "        song_info = soup.find_all('div', 'wrap_song_info')\n",
    "        for one in song_info:\n",
    "            temp = one.find('div', 'ellipsis rank01').text.strip()\n",
    "            if '19금\\n' in temp:\n",
    "                temp = temp.replace('19금\\n', '')\n",
    "            song_list.append(temp)\n",
    "\n",
    "        # 가수\n",
    "        artist_list = []\n",
    "        for one in song_info:\n",
    "            temp = one.find('span', 'checkEllipsis').text\n",
    "            artist_list.append(temp)\n",
    "        # 앨범\n",
    "        album_list = []\n",
    "        for one in song_info:\n",
    "            temp = one.find('div', 'ellipsis rank03').text\n",
    "            album_list.append(temp)\n",
    "\n",
    "        # 수집 데이터 확인\n",
    "        print('수집한 기간 : ', title)\n",
    "        print('수집한 순위 개수 : ', len(rank_list))\n",
    "        print('수집한 곡 개수 : ', len(song_list))\n",
    "        print('수집한 가수 개수 : ', len(artist_list))\n",
    "        print('수집한 앨범 개수 : ', len(album_list))\n",
    "\n",
    "        # 데이터 셋 만들기\n",
    "        dict = {'순위':rank_list, '곡':song_list, '가수':artist_list, '앨범':album_list}\n",
    "        data = pd.DataFrame(dict)\n",
    "\n",
    "        # 데이터 셋 합치기\n",
    "        df = pd.concat([df, data], axis=1, ignore_index=True)\n",
    "\n",
    "    return df, title_list, num"
   ]
  },
  {
   "cell_type": "code",
   "execution_count": 5,
   "metadata": {},
   "outputs": [],
   "source": [
    "def make_excel(month):\n",
    "    m = month\n",
    "    df, title_list, num = crawl_month(m)\n",
    "    df.columns = [title_list,['순위', '곡', '가수', '앨범'] * (num-1)]\n",
    "\n",
    "    file_name = f'../crawling_data/week_melon/2022년{m:0>2}월_주간.xlsx'\n",
    "    df.to_excel(file_name)\n",
    "    print(f'2022년{m:0>2}월_주간.xlsx 파일 출력 성공')"
   ]
  },
  {
   "cell_type": "code",
   "execution_count": 6,
   "metadata": {},
   "outputs": [
    {
     "name": "stderr",
     "output_type": "stream",
     "text": [
      "<ipython-input-4-6f29d2a5294e>:4: DeprecationWarning: find_element_by_xpath is deprecated. Please use find_element(by=By.XPATH, value=xpath) instead\n",
      "  selectmonth = driver.find_element_by_xpath(f'//*[@id=\"d_chart_search\"]/div/div/div[3]/div[1]/ul/li[{m}]/span/label')\n",
      "<ipython-input-4-6f29d2a5294e>:11: DeprecationWarning: find_elements_by_xpath is deprecated. Please use find_elements(by=By.XPATH, value=xpath) instead\n",
      "  len_week = driver.find_elements_by_xpath(f'//*[@id=\"d_chart_search\"]/div/div/div[4]/div[1]/ul/li')\n",
      "<ipython-input-4-6f29d2a5294e>:15: DeprecationWarning: find_element_by_xpath is deprecated. Please use find_element(by=By.XPATH, value=xpath) instead\n",
      "  selectweek_button = driver.find_element_by_xpath(f'//*[@id=\"d_chart_search\"]/div/div/div[4]/div[1]/ul/li[{w}]/span/label')\n",
      "<ipython-input-4-6f29d2a5294e>:20: DeprecationWarning: find_element_by_xpath is deprecated. Please use find_element(by=By.XPATH, value=xpath) instead\n",
      "  selectgenre_button = driver.find_element_by_xpath('//*[@id=\"d_chart_search\"]/div/div/div[5]/div[1]/ul/li[1]/span/label')\n",
      "<ipython-input-4-6f29d2a5294e>:25: DeprecationWarning: find_element_by_xpath is deprecated. Please use find_element(by=By.XPATH, value=xpath) instead\n",
      "  search_button = driver.find_element_by_xpath('//*[@id=\"d_srch_form\"]/div[2]/button/span/span')\n"
     ]
    },
    {
     "name": "stdout",
     "output_type": "stream",
     "text": [
      "수집한 기간 :  2022.01.03 ~ 2022.01.09\n",
      "수집한 순위 개수 :  100\n",
      "수집한 곡 개수 :  100\n",
      "수집한 가수 개수 :  100\n",
      "수집한 앨범 개수 :  100\n",
      "수집한 기간 :  2022.01.03 ~ 2022.01.09\n",
      "수집한 순위 개수 :  100\n",
      "수집한 곡 개수 :  100\n",
      "수집한 가수 개수 :  100\n",
      "수집한 앨범 개수 :  100\n",
      "수집한 기간 :  2022.01.10 ~ 2022.01.16\n",
      "수집한 순위 개수 :  100\n",
      "수집한 곡 개수 :  100\n",
      "수집한 가수 개수 :  100\n",
      "수집한 앨범 개수 :  100\n",
      "수집한 기간 :  2022.01.17 ~ 2022.01.23\n",
      "수집한 순위 개수 :  100\n",
      "수집한 곡 개수 :  100\n",
      "수집한 가수 개수 :  100\n",
      "수집한 앨범 개수 :  100\n",
      "2022년01월.xlsx 파일 출력 성공\n",
      "수집한 기간 :  2022.01.24 ~ 2022.01.30\n",
      "수집한 순위 개수 :  100\n",
      "수집한 곡 개수 :  100\n",
      "수집한 가수 개수 :  100\n",
      "수집한 앨범 개수 :  100\n",
      "수집한 기간 :  2022.01.31 ~ 2022.02.06\n",
      "수집한 순위 개수 :  100\n",
      "수집한 곡 개수 :  100\n",
      "수집한 가수 개수 :  100\n",
      "수집한 앨범 개수 :  100\n",
      "수집한 기간 :  2022.02.07 ~ 2022.02.13\n",
      "수집한 순위 개수 :  100\n",
      "수집한 곡 개수 :  100\n",
      "수집한 가수 개수 :  100\n",
      "수집한 앨범 개수 :  100\n",
      "수집한 기간 :  2022.02.14 ~ 2022.02.20\n",
      "수집한 순위 개수 :  100\n",
      "수집한 곡 개수 :  100\n",
      "수집한 가수 개수 :  100\n",
      "수집한 앨범 개수 :  100\n",
      "2022년02월.xlsx 파일 출력 성공\n",
      "수집한 기간 :  2022.02.21 ~ 2022.02.27\n",
      "수집한 순위 개수 :  100\n",
      "수집한 곡 개수 :  100\n",
      "수집한 가수 개수 :  100\n",
      "수집한 앨범 개수 :  100\n",
      "수집한 기간 :  2022.02.28 ~ 2022.03.06\n",
      "수집한 순위 개수 :  100\n",
      "수집한 곡 개수 :  100\n",
      "수집한 가수 개수 :  100\n",
      "수집한 앨범 개수 :  100\n",
      "수집한 기간 :  2022.03.07 ~ 2022.03.13\n",
      "수집한 순위 개수 :  100\n",
      "수집한 곡 개수 :  100\n",
      "수집한 가수 개수 :  100\n",
      "수집한 앨범 개수 :  100\n",
      "수집한 기간 :  2022.03.14 ~ 2022.03.20\n",
      "수집한 순위 개수 :  100\n",
      "수집한 곡 개수 :  100\n",
      "수집한 가수 개수 :  100\n",
      "수집한 앨범 개수 :  100\n",
      "수집한 기간 :  2022.03.21 ~ 2022.03.27\n",
      "수집한 순위 개수 :  100\n",
      "수집한 곡 개수 :  100\n",
      "수집한 가수 개수 :  100\n",
      "수집한 앨범 개수 :  100\n",
      "2022년03월.xlsx 파일 출력 성공\n"
     ]
    }
   ],
   "source": [
    "for i in range(1,4):\n",
    "    make_excel(i)"
   ]
  },
  {
   "cell_type": "markdown",
   "metadata": {},
   "source": [
    "# 코드 마지막"
   ]
  }
 ],
 "metadata": {
  "interpreter": {
   "hash": "513dc2e41d739bb2c947903f3c0bbf636d03aa53ab50e61c694a27481c81805e"
  },
  "kernelspec": {
   "display_name": "Python 3.8.8 ('base')",
   "language": "python",
   "name": "python3"
  },
  "language_info": {
   "codemirror_mode": {
    "name": "ipython",
    "version": 3
   },
   "file_extension": ".py",
   "mimetype": "text/x-python",
   "name": "python",
   "nbconvert_exporter": "python",
   "pygments_lexer": "ipython3",
   "version": "3.8.8"
  },
  "orig_nbformat": 4
 },
 "nbformat": 4,
 "nbformat_minor": 2
}
