{
 "cells": [
  {
   "cell_type": "markdown",
   "metadata": {},
   "source": [
    "# 노래방 데이터와 그래프, 음원사재기 관심도\n",
    "* 3-3-2. 신규 진입한 음원 소셜미디어 관심도(주 단위 그래프)\n",
    "    * naver_datalab/{site_name}/{title}_{artist}.xlsx\n",
    "    * naver_datalab/{site_name}/{title}_{artist}.png\n",
    "    * kakao_trend/{site_name}/{title}_{artist}.xls\n",
    "    * kakao_trend/{site_name}/{title}_{artist}.png\n",
    "    * google_trend/{site_name}/{title}_{artist}.csv(일 단위 그래프)\n",
    "    * google_trend/{site_name}/{title}_{artist}.png(일 단위 그래프)\n",
    "* 2-2. 주간 음원 모니터링 결과(음원 사재기 검색 비율)\n",
    "    * naver_datalab/음원 사재기.xlsx\n",
    "    * naver_datalab/음원 사재기.png\n",
    "    * kakao_trend/음원 사재기.xls\n",
    "    * kakao_trend/음원 사재기.png\n",
    "* 5-1-1. 음원사재기 관심도 분석\n",
    "    * naver_datalab/음원 사재기.xlsx\n",
    "    * naver_datalab/음원 사재기.png\n",
    "    * kakao_trend/음원 사재기.xls\n",
    "    * kakao_trend/음원 사재기.png\n",
    "* 이슈\n",
    "    * 그래프 x축 지정해야 함(그래프 x축 설정). 원 데이터에서 날짜로 나오기에 직접 지정."
   ]
  },
  {
   "cell_type": "markdown",
   "metadata": {},
   "source": [
    "## 라이브러리"
   ]
  },
  {
   "cell_type": "code",
   "execution_count": 1,
   "metadata": {},
   "outputs": [],
   "source": [
    "import pandas as pd\n",
    "import matplotlib.pyplot as plt\n",
    "import seaborn as sns\n",
    "import os, math"
   ]
  },
  {
   "cell_type": "code",
   "execution_count": 2,
   "metadata": {},
   "outputs": [],
   "source": [
    "import platform\n",
    "from matplotlib import font_manager, rc\n",
    "\n",
    "# 한글 폰트 지정\n",
    "path = \"C:/Windows/Fonts/malgun.ttf\"\n",
    "if platform.system() == \"Windows\":\n",
    "    font_name = font_manager.FontProperties(fname=path).get_name()\n",
    "    rc('font', family=font_name)\n",
    "elif platform.system()==\"Darwin\":\n",
    "    rc('font', family='AppleGothic')\n",
    "else:\n",
    "    print(\"Unknown System\")"
   ]
  },
  {
   "cell_type": "code",
   "execution_count": 3,
   "metadata": {},
   "outputs": [],
   "source": [
    "import matplotlib\n",
    "matplotlib.rcParams['axes.unicode_minus'] = False # 그래프에서 음수 표현 가능하도록 설정."
   ]
  },
  {
   "cell_type": "code",
   "execution_count": 4,
   "metadata": {},
   "outputs": [],
   "source": [
    "from selenium import webdriver\n",
    "import chromedriver_autoinstaller as ca\n",
    "from selenium.webdriver.common.keys import Keys\n",
    "import random, time"
   ]
  },
  {
   "cell_type": "code",
   "execution_count": 5,
   "metadata": {},
   "outputs": [],
   "source": [
    "import shutil"
   ]
  },
  {
   "cell_type": "markdown",
   "metadata": {},
   "source": [
    "## 이번주 기간 설정"
   ]
  },
  {
   "cell_type": "code",
   "execution_count": 6,
   "metadata": {},
   "outputs": [],
   "source": [
    "# 기간 설정\n",
    "start_date = '2022-05-16'\n",
    "end_date = '2022-05-22'"
   ]
  },
  {
   "cell_type": "markdown",
   "metadata": {},
   "source": [
    "## 3-3-2. 신규 진입한 음원 소셜미디어 관심도"
   ]
  },
  {
   "cell_type": "code",
   "execution_count": 7,
   "metadata": {},
   "outputs": [],
   "source": [
    "f_path = 'c:/data/Wantreez/Crawling/music'\n",
    "try:\n",
    "    os.chdir(f_path)\n",
    "except:\n",
    "    pass"
   ]
  },
  {
   "cell_type": "code",
   "execution_count": 8,
   "metadata": {},
   "outputs": [
    {
     "data": {
      "text/plain": [
       "'c:/data/Wantreez/Crawling/music'"
      ]
     },
     "execution_count": 8,
     "metadata": {},
     "output_type": "execute_result"
    }
   ],
   "source": [
    "code_path = os.getcwd().replace('\\\\', '/')\n",
    "code_path"
   ]
  },
  {
   "cell_type": "markdown",
   "metadata": {},
   "source": [
    "### 그래프 x축 설정"
   ]
  },
  {
   "cell_type": "code",
   "execution_count": 9,
   "metadata": {},
   "outputs": [],
   "source": [
    "# 그래프 x 축 설정\n",
    "xticks_names = ['4월4주차', '5월1주차', '5월2주차', '5월3주차']"
   ]
  },
  {
   "cell_type": "markdown",
   "metadata": {},
   "source": [
    "### 네이버 데이터 랩 데이터, 그래프"
   ]
  },
  {
   "cell_type": "markdown",
   "metadata": {},
   "source": [
    "#### 다운로드 폴더 설정"
   ]
  },
  {
   "cell_type": "code",
   "execution_count": 10,
   "metadata": {},
   "outputs": [],
   "source": [
    "# 다운로드 폴더 설정\n",
    "down_folder = 'C:/Users/kbjung/Downloads/'\n",
    "down_xlsx = 'datalab.xlsx'"
   ]
  },
  {
   "cell_type": "code",
   "execution_count": 19,
   "metadata": {},
   "outputs": [],
   "source": [
    "ca.install(True)\n",
    "driver = webdriver.Chrome()"
   ]
  },
  {
   "cell_type": "code",
   "execution_count": 20,
   "metadata": {},
   "outputs": [
    {
     "name": "stderr",
     "output_type": "stream",
     "text": [
      "C:\\Users\\kbjung\\AppData\\Local\\Temp/ipykernel_2292/73396272.py:24: DeprecationWarning: find_element_by_xpath is deprecated. Please use find_element(by=By.XPATH, value=xpath) instead\n",
      "  search_box = driver.find_element_by_xpath('/html/body/div[2]/div[2]/div[1]/div/div[2]/div[1]/div/form/fieldset/div/div[1]/div[1]/input')\n",
      "C:\\Users\\kbjung\\AppData\\Local\\Temp/ipykernel_2292/73396272.py:30: DeprecationWarning: find_element_by_xpath is deprecated. Please use find_element(by=By.XPATH, value=xpath) instead\n",
      "  time_picker = driver.find_element_by_xpath('/html/body/div[2]/div[2]/div[1]/div/div[2]/div[1]/div/form/fieldset/div/div[6]/div[1]/label[2]').click()\n",
      "C:\\Users\\kbjung\\AppData\\Local\\Temp/ipykernel_2292/73396272.py:34: DeprecationWarning: find_element_by_xpath is deprecated. Please use find_element(by=By.XPATH, value=xpath) instead\n",
      "  week_picker = driver.find_element_by_xpath('/html/body/div[2]/div[2]/div[1]/div/div[2]/div[1]/div/form/fieldset/div/div[6]/div[1]/div').click()\n",
      "C:\\Users\\kbjung\\AppData\\Local\\Temp/ipykernel_2292/73396272.py:36: DeprecationWarning: find_element_by_xpath is deprecated. Please use find_element(by=By.XPATH, value=xpath) instead\n",
      "  week_button = driver.find_element_by_xpath('/html/body/div[2]/div[2]/div[1]/div/div[2]/div[1]/div/form/fieldset/div/div[6]/div[1]/div/ul/li[2]').click()\n",
      "C:\\Users\\kbjung\\AppData\\Local\\Temp/ipykernel_2292/73396272.py:40: DeprecationWarning: find_element_by_xpath is deprecated. Please use find_element(by=By.XPATH, value=xpath) instead\n",
      "  search_button = driver.find_element_by_xpath('/html/body/div[2]/div[2]/div[1]/div/div[2]/div[1]/div/form/fieldset/a/span').click()\n",
      "C:\\Users\\kbjung\\AppData\\Local\\Temp/ipykernel_2292/73396272.py:45: DeprecationWarning: find_element_by_xpath is deprecated. Please use find_element(by=By.XPATH, value=xpath) instead\n",
      "  down_button = driver.find_element_by_xpath('/html/body/div[2]/div[2]/div/div[1]/div[1]/div[1]/div/div/div/div/div/div[1]/div[4]/a').click()\n"
     ]
    },
    {
     "name": "stdout",
     "output_type": "stream",
     "text": [
      "천상 재회_최진희.xlsx 완료.\n",
      "그 집 앞_이재성.xlsx 완료.\n",
      "너무 아픈 사랑은 사랑이 아니었음을_김광석.xlsx 완료.\n",
      "ky 신규 진입 음원 소셜 검색 비율 파일 다운 완료.\n",
      "그 집 앞_이재성.png 저장 완료.\n"
     ]
    },
    {
     "name": "stderr",
     "output_type": "stream",
     "text": [
      "C:\\Users\\kbjung\\anaconda3\\lib\\site-packages\\openpyxl\\styles\\stylesheet.py:226: UserWarning: Workbook contains no default style, apply openpyxl's default\n",
      "  warn(\"Workbook contains no default style, apply openpyxl's default\")\n"
     ]
    },
    {
     "name": "stdout",
     "output_type": "stream",
     "text": [
      "너무 아픈 사랑은 사랑이 아니었음을_김광석.png 저장 완료.\n",
      "천상 재회_최진희.png 저장 완료.\n",
      "ky 데이터, 그래프 저장 완료.\n",
      "\n",
      "나의 X에게_경서.xlsx 완료.\n",
      "좋은날_IU.xlsx 완료.\n",
      "정이라고하자_빅나티(서동현)(Feat.10cm).xlsx 완료.\n",
      "사랑하긴했었나요스쳐가는인연이었나요짧지않은우리함께했던시간들이자꾸내마음을가둬두네_잔나비.xlsx 완료.\n",
      "보여줄게_에일리.xlsx 완료.\n",
      "그런일은_박화요비.xlsx 완료.\n",
      "You And I_박봄.xlsx 완료.\n",
      "그땐미처알지못했지_이적.xlsx 완료.\n",
      "tj 신규 진입 음원 소셜 검색 비율 파일 다운 완료.\n",
      "You And I_박봄.png 저장 완료.\n",
      "그땐미처알지못했지_이적.png 저장 완료.\n",
      "그런일은_박화요비.png 저장 완료.\n",
      "나의 X에게_경서.png 저장 완료.\n",
      "보여줄게_에일리.png 저장 완료.\n",
      "사랑하긴했었나요스쳐가는인연이었나요짧지않은우리함께했던시간들이자꾸내마음을가둬두네_잔나비.png 저장 완료.\n",
      "정이라고하자_빅나티(서동현)(Feat.png 저장 완료.\n",
      "좋은날_IU.png 저장 완료.\n",
      "tj 데이터, 그래프 저장 완료.\n",
      "\n"
     ]
    }
   ],
   "source": [
    "site_list = ['ky', 'tj']\n",
    "for site_name in site_list:\n",
    "    save_folder = f'crawled_data/outlier_data/{start_date}_{end_date}'\n",
    "    save_folder2 = os.path.join(code_path, save_folder)\n",
    "    file_name = f'[{site_name}]{start_date}_{end_date}_pop_df.xlsx'\n",
    "    save_path = os.path.join(save_folder2, file_name)\n",
    "    df = pd.read_excel(save_path)\n",
    "    # 파일 저장 폴더 생성\n",
    "    naver_datalab_path = f'crawled_data/outlier_data/{start_date}_{end_date}/naver_datalab/{site_name}'\n",
    "    des = os.path.join(code_path, naver_datalab_path)\n",
    "    os.makedirs(des, exist_ok=True)\n",
    "\n",
    "    # 네이버 데이터 랩 검색\n",
    "    for i in range(df.shape[0]):\n",
    "        # 네이버 데이터 랩 접속\n",
    "        url = 'https://datalab.naver.com/keyword/trendSearch.naver'\n",
    "        driver.get(url)\n",
    "        driver.implicitly_wait(3)\n",
    "        time.sleep( random.uniform(1, 1.5) )\n",
    "        driver.maximize_window()\n",
    "\n",
    "        # 검색어 입력\n",
    "        word = df['곡'][i]\n",
    "        search_box = driver.find_element_by_xpath('/html/body/div[2]/div[2]/div[1]/div/div[2]/div[1]/div/form/fieldset/div/div[1]/div[1]/input')\n",
    "        search_box.clear()\n",
    "        time.sleep( random.uniform(1, 1.5) )\n",
    "        search_box.send_keys(word)\n",
    "\n",
    "        # 1개월 picker 클릭\n",
    "        time_picker = driver.find_element_by_xpath('/html/body/div[2]/div[2]/div[1]/div/div[2]/div[1]/div/form/fieldset/div/div[6]/div[1]/label[2]').click()\n",
    "        time.sleep( random.uniform(1, 1.5) )\n",
    "\n",
    "        # 주간 클릭\n",
    "        week_picker = driver.find_element_by_xpath('/html/body/div[2]/div[2]/div[1]/div/div[2]/div[1]/div/form/fieldset/div/div[6]/div[1]/div').click()\n",
    "        time.sleep( random.uniform(0.5, 1) )\n",
    "        week_button = driver.find_element_by_xpath('/html/body/div[2]/div[2]/div[1]/div/div[2]/div[1]/div/form/fieldset/div/div[6]/div[1]/div/ul/li[2]').click()\n",
    "        time.sleep( random.uniform(0.5, 1) )\n",
    "\n",
    "        # 검색 버튼 클릭\n",
    "        search_button = driver.find_element_by_xpath('/html/body/div[2]/div[2]/div[1]/div/div[2]/div[1]/div/form/fieldset/a/span').click()\n",
    "        time.sleep( random.uniform(1, 1.5) )\n",
    "        driver.implicitly_wait(3)\n",
    "\n",
    "        # 다운 버튼 클릭\n",
    "        down_button = driver.find_element_by_xpath('/html/body/div[2]/div[2]/div/div[1]/div[1]/div[1]/div/div/div/div/div/div[1]/div[4]/a').click()\n",
    "        time.sleep( random.uniform(1, 1.5) )\n",
    "\n",
    "        # 파일 이름 변경\n",
    "        title = df['곡'][i]\n",
    "        artist = df['가수'][i]\n",
    "        new_down_xlsx = f'{title}_{artist}.xlsx'\n",
    "        os.rename(down_folder + down_xlsx, down_folder + new_down_xlsx)\n",
    "\n",
    "        # 파일 이동\n",
    "        new_down_path = os.path.join(des, new_down_xlsx)\n",
    "        shutil.move(down_folder + new_down_xlsx, new_down_path)\n",
    "        print(f'{new_down_xlsx} 완료.')\n",
    "    print(f'{site_name} 신규 진입 음원 소셜 검색 비율 파일 다운 완료.')\n",
    "\n",
    "    file_list = os.listdir(des)\n",
    "    # 그래프 생성\n",
    "    for one in file_list:\n",
    "        title = one.split('_')[0]\n",
    "        artist = one.split('_')[1].split('.')[0]\n",
    "        one_path = os.path.join(des, one)\n",
    "        temp = pd.read_excel(one_path)\n",
    "        temp = temp.reset_index(drop=True)\n",
    "        temp = temp.iloc[6:, :].reset_index(drop=True)\n",
    "        temp.columns = ['날짜', '검색비율']\n",
    "\n",
    "        date_list = pd.date_range(end=start_date, periods=4, freq='W-MON')\n",
    "        start_week = str(date_list[0]).split(' ')[0]\n",
    "        end_week = str(date_list[-1]).split(' ')[0]\n",
    "        week_temp = temp[ (temp['날짜'] >= start_week) & (temp['날짜'] <= end_week)].reset_index(drop=True)\n",
    "        week_temp['검색비율'] = week_temp['검색비율'].astype(float)\n",
    "        week_temp['검색비율'] = round(week_temp['검색비율'], 1)\n",
    "        \n",
    "        colors = sns.color_palette('YlGn', week_temp.shape[0])\n",
    "        x = xticks_names\n",
    "        y = week_temp['검색비율']\n",
    "        try:\n",
    "            interval_ratio = math.ceil( max(y) )*0.05\n",
    "            interval_ratio2 = math.ceil( max(y) )*0.2\n",
    "            plt.figure( figsize=(12,8) )\n",
    "            plt.grid(axis='y')\n",
    "            plt.bar(x, y, color=colors, width=0.5)\n",
    "            plt.title(f\"네이버 데이터 랩 검색 비율\\n{title}-{artist}\", fontsize=20)\n",
    "            plt.xticks(xticks_names ,fontsize=15)\n",
    "            plt.yticks(fontsize=15)\n",
    "            for i in range( len(y) ):\n",
    "                    if y[i] <= interval_ratio2:\n",
    "                        plt.text(x[i], y[i]+interval_ratio, round(y[i],1), fontsize=15, color='black', horizontalalignment='center', verticalalignment='bottom')\n",
    "                    else:\n",
    "                        plt.text(x[i], y[i]-interval_ratio, round(y[i],1), fontsize=15, color='black', horizontalalignment='center', verticalalignment='top')\n",
    "            file_name = f'{title}_{artist}.png'\n",
    "            save_img_path = os.path.join(des, file_name)\n",
    "            plt.savefig(save_img_path, bbox_inches='tight')\n",
    "            print(f'{file_name} 저장 완료.')\n",
    "            plt.close()\n",
    "        except:\n",
    "            pass\n",
    "    print(f'{site_name} 데이터, 그래프 저장 완료.')\n",
    "    print()"
   ]
  },
  {
   "cell_type": "code",
   "execution_count": 21,
   "metadata": {},
   "outputs": [],
   "source": [
    "# driver.quit()"
   ]
  },
  {
   "cell_type": "markdown",
   "metadata": {},
   "source": [
    "### 카카오 트랜드 데이터, 그래프"
   ]
  },
  {
   "cell_type": "markdown",
   "metadata": {},
   "source": [
    "#### 다운로드 폴더 설정"
   ]
  },
  {
   "cell_type": "code",
   "execution_count": 22,
   "metadata": {},
   "outputs": [],
   "source": [
    "# 다운로드 폴더, 파일 이름 설정\n",
    "down_folder = 'C:/Users/kbjung/Downloads/'\n",
    "down_xls = 'datatrend.xls'"
   ]
  },
  {
   "cell_type": "code",
   "execution_count": 23,
   "metadata": {},
   "outputs": [],
   "source": [
    "# ca.install(True)\n",
    "# driver = webdriver.Chrome()"
   ]
  },
  {
   "cell_type": "code",
   "execution_count": 24,
   "metadata": {},
   "outputs": [
    {
     "name": "stderr",
     "output_type": "stream",
     "text": [
      "C:\\Users\\kbjung\\AppData\\Local\\Temp/ipykernel_2292/2472517228.py:24: DeprecationWarning: find_element_by_xpath is deprecated. Please use find_element(by=By.XPATH, value=xpath) instead\n",
      "  search_box = driver.find_element_by_xpath('/html/body/div/div/div/main/article/div[1]/div/input')\n",
      "C:\\Users\\kbjung\\AppData\\Local\\Temp/ipykernel_2292/2472517228.py:30: DeprecationWarning: find_element_by_xpath is deprecated. Please use find_element(by=By.XPATH, value=xpath) instead\n",
      "  driver.find_element_by_xpath('/html/body/div/div/div/main/article/div[3]/div[2]/div[1]/div[2]/label[2]/span').click()\n",
      "C:\\Users\\kbjung\\AppData\\Local\\Temp/ipykernel_2292/2472517228.py:34: DeprecationWarning: find_element_by_xpath is deprecated. Please use find_element(by=By.XPATH, value=xpath) instead\n",
      "  driver.find_element_by_xpath('/html/body/div/div/div/main/article/div[3]/div[2]/div[2]/div[2]/button').click()\n",
      "C:\\Users\\kbjung\\AppData\\Local\\Temp/ipykernel_2292/2472517228.py:36: DeprecationWarning: find_element_by_xpath is deprecated. Please use find_element(by=By.XPATH, value=xpath) instead\n",
      "  driver.find_element_by_xpath('/html/body/div/div/div/main/article/div[3]/div[2]/div[2]/div[2]/ul/li[2]/label/span').click()\n",
      "C:\\Users\\kbjung\\AppData\\Local\\Temp/ipykernel_2292/2472517228.py:41: DeprecationWarning: find_element_by_xpath is deprecated. Please use find_element(by=By.XPATH, value=xpath) instead\n",
      "  driver.find_element_by_xpath('/html/body/div/div/div/main/article/div[4]/button[2]').click()\n",
      "C:\\Users\\kbjung\\AppData\\Local\\Temp/ipykernel_2292/2472517228.py:46: DeprecationWarning: find_element_by_xpath is deprecated. Please use find_element(by=By.XPATH, value=xpath) instead\n",
      "  driver.find_element_by_xpath('/html/body/div/div/header/div/div/a[2]').click()\n"
     ]
    },
    {
     "name": "stdout",
     "output_type": "stream",
     "text": [
      "천상 재회_최진희.xls 완료.\n",
      "그 집 앞_이재성.xls 완료.\n",
      "너무 아픈 사랑은 사랑이 아니었음을_김광석.xls 완료.\n",
      "수집 완료.\n",
      "그 집 앞_이재성.png 저장 완료.\n",
      "너무 아픈 사랑은 사랑이 아니었음을_김광석.png 저장 완료.\n",
      "천상 재회_최진희.png 저장 완료.\n",
      "ky 데이터, 그래프 저장 완료.\n",
      "\n",
      "나의 X에게_경서.xls 완료.\n",
      "좋은날_IU.xls 완료.\n",
      "정이라고하자_빅나티(서동현)(Feat.10cm).xls 완료.\n",
      "보여줄게_에일리.xls 완료.\n",
      "그런일은_박화요비.xls 완료.\n",
      "You And I_박봄.xls 완료.\n",
      "그땐미처알지못했지_이적.xls 완료.\n",
      "수집 완료.\n",
      "You And I_박봄.png 저장 완료.\n",
      "그땐미처알지못했지_이적.png 저장 완료.\n",
      "그런일은_박화요비.png 저장 완료.\n",
      "나의 X에게_경서.png 저장 완료.\n",
      "보여줄게_에일리.png 저장 완료.\n",
      "정이라고하자_빅나티(서동현)(Feat.png 저장 완료.\n",
      "좋은날_IU.png 저장 완료.\n",
      "tj 데이터, 그래프 저장 완료.\n",
      "\n"
     ]
    }
   ],
   "source": [
    "site_list = ['ky', 'tj']\n",
    "for site_name in site_list:\n",
    "    save_folder = f'crawled_data/outlier_data/{start_date}_{end_date}'\n",
    "    save_folder2 = os.path.join(code_path, save_folder)\n",
    "    file_name = f'[{site_name}]{start_date}_{end_date}_pop_df.xlsx'\n",
    "    save_path = os.path.join(save_folder2, file_name)\n",
    "    df = pd.read_excel(save_path)\n",
    "    # 파일 저장 폴더 생성\n",
    "    kakao_trend_path = f'crawled_data/outlier_data/{start_date}_{end_date}/kakao_trend/{site_name}'\n",
    "    des = os.path.join(code_path, kakao_trend_path)\n",
    "    os.makedirs(des, exist_ok=True)\n",
    "\n",
    "    # 카카오 트랜드 검색\n",
    "    for i in range(df.shape[0]):\n",
    "        # 카카오 트랜드 접속\n",
    "        url = 'https://datatrend.kakao.com/'\n",
    "        driver.get(url)\n",
    "        driver.implicitly_wait(3)\n",
    "        time.sleep( random.uniform(1, 1.5) )\n",
    "        driver.maximize_window()\n",
    "\n",
    "        # 검색어 입력\n",
    "        word = df['곡'][i]\n",
    "        search_box = driver.find_element_by_xpath('/html/body/div/div/div/main/article/div[1]/div/input')\n",
    "        search_box.clear()\n",
    "        time.sleep( random.uniform(1, 1.5) )\n",
    "        search_box.send_keys(word)\n",
    "\n",
    "        # 1개월 picker 클릭\n",
    "        driver.find_element_by_xpath('/html/body/div/div/div/main/article/div[3]/div[2]/div[1]/div[2]/label[2]/span').click()\n",
    "        time.sleep( random.uniform(1, 1.5) )\n",
    "\n",
    "        # 기준 주간 클릭\n",
    "        driver.find_element_by_xpath('/html/body/div/div/div/main/article/div[3]/div[2]/div[2]/div[2]/button').click()\n",
    "        time.sleep( random.uniform(1, 1.5) )\n",
    "        driver.find_element_by_xpath('/html/body/div/div/div/main/article/div[3]/div[2]/div[2]/div[2]/ul/li[2]/label/span').click()\n",
    "        time.sleep( random.uniform(1, 1.5) )\n",
    "\n",
    "\n",
    "        # 검색 버튼 클릭\n",
    "        driver.find_element_by_xpath('/html/body/div/div/div/main/article/div[4]/button[2]').click()\n",
    "        time.sleep( random.uniform(1, 1.5) )\n",
    "        driver.implicitly_wait(3)\n",
    "        try:\n",
    "            # 다운 버튼 클릭\n",
    "            driver.find_element_by_xpath('/html/body/div/div/header/div/div/a[2]').click()\n",
    "            time.sleep( random.uniform(1, 1.5) )\n",
    "\n",
    "            # 파일 이름 변경\n",
    "            title = df['곡'][i]\n",
    "            artist = df['가수'][i]\n",
    "            new_down_xls = f'{title}_{artist}.xls'\n",
    "            os.rename(down_folder + down_xls, down_folder + new_down_xls)\n",
    "\n",
    "            # 파일 이동\n",
    "            new_down_path = os.path.join(des, new_down_xls)\n",
    "            shutil.move(down_folder + new_down_xls, new_down_path)\n",
    "            print(f'{new_down_xls} 완료.')\n",
    "        except:\n",
    "            pass\n",
    "    print('수집 완료.')\n",
    "\n",
    "    outlier_file_list = os.listdir(des)\n",
    "    for one in outlier_file_list:\n",
    "        title = one.split('_')[0]\n",
    "        artist = one.split('_')[1].split('.')[0]\n",
    "        one_path = os.path.join(des, one)\n",
    "        temp = pd.read_excel(one_path).reset_index(drop=True)\n",
    "        temp = temp.iloc[7:38, :].reset_index(drop=True)\n",
    "        temp.columns = ['날짜', '검색비율']\n",
    "        temp['날짜'] = temp['날짜'].astype(str)\n",
    "        temp['날짜'] = temp['날짜'].apply([lambda x: x.split(' ')[0]])\n",
    "        date_list = pd.date_range(end=start_date, periods=4, freq='W-MON')\n",
    "        start_week = str(date_list[0]).split(' ')[0]\n",
    "        end_week = str(date_list[-1]).split(' ')[0]\n",
    "        week_temp = temp[ (temp['날짜'] >= start_week) & (temp['날짜'] <= end_week)].reset_index(drop=True)\n",
    "        week_temp['검색비율'] = week_temp['검색비율'].astype(int)\n",
    "        \n",
    "        colors = sns.color_palette('YlOrRd', week_temp.shape[0])\n",
    "        x = xticks_names\n",
    "        y = week_temp['검색비율']\n",
    "        try:\n",
    "            interval_ratio = math.ceil( max(y) )*0.05\n",
    "            interval_ratio2 = math.ceil( max(y) )*0.2\n",
    "            plt.figure( figsize=(12,8) )\n",
    "            plt.grid(axis='y')\n",
    "            plt.bar(x, y, color=colors, width=0.5)\n",
    "            plt.title(f\"카카오 트랜드 검색 비율\\n{title}-{artist}\", fontsize=20)\n",
    "            plt.xticks(xticks_names, fontsize=15)\n",
    "            plt.yticks(fontsize=15)\n",
    "            for i in range( len(y) ):\n",
    "                    if y[i] <= interval_ratio2:\n",
    "                            plt.text(x[i], y[i]+interval_ratio, round(y[i],1), fontsize=15, color='black', horizontalalignment='center', verticalalignment='bottom')\n",
    "                    else:\n",
    "                            plt.text(x[i], y[i]-interval_ratio, round(y[i],1), fontsize=15, color='black', horizontalalignment='center', verticalalignment='top')\n",
    "            file_name2 = f'{title}_{artist}.png'\n",
    "            save_img_path = os.path.join(des, file_name2)\n",
    "            plt.savefig(save_img_path)\n",
    "            plt.close()\n",
    "            print(f'{file_name2} 저장 완료.')\n",
    "        except:\n",
    "            pass\n",
    "    print(f'{site_name} 데이터, 그래프 저장 완료.')\n",
    "    print()"
   ]
  },
  {
   "cell_type": "code",
   "execution_count": 25,
   "metadata": {},
   "outputs": [],
   "source": [
    "# driver.quit()"
   ]
  },
  {
   "cell_type": "markdown",
   "metadata": {},
   "source": [
    "### 구글 트랜드 데이터, 그래프"
   ]
  },
  {
   "cell_type": "markdown",
   "metadata": {},
   "source": [
    "#### 다운로드 폴더 설정"
   ]
  },
  {
   "cell_type": "code",
   "execution_count": 26,
   "metadata": {},
   "outputs": [],
   "source": [
    "# 다운로드 폴더, 파일 이름 설정\n",
    "down_folder = 'C:/Users/kbjung/Downloads/'\n",
    "down_csv = 'multiTimeline.csv'"
   ]
  },
  {
   "cell_type": "code",
   "execution_count": 27,
   "metadata": {},
   "outputs": [],
   "source": [
    "# ca.install(True)\n",
    "# driver = webdriver.Chrome()"
   ]
  },
  {
   "cell_type": "code",
   "execution_count": 28,
   "metadata": {},
   "outputs": [
    {
     "name": "stderr",
     "output_type": "stream",
     "text": [
      "C:\\Users\\kbjung\\AppData\\Local\\Temp/ipykernel_2292/1789163386.py:23: DeprecationWarning: find_element_by_xpath is deprecated. Please use find_element(by=By.XPATH, value=xpath) instead\n",
      "  search_box = driver.find_element_by_xpath('/html/body/div[3]/div[2]/div/ng-include/div/div[2]/autocomplete/md-autocomplete/md-autocomplete-wrap/input')\n",
      "C:\\Users\\kbjung\\AppData\\Local\\Temp/ipykernel_2292/1789163386.py:34: DeprecationWarning: find_element_by_xpath is deprecated. Please use find_element(by=By.XPATH, value=xpath) instead\n",
      "  time_picker = driver.find_element_by_xpath('/html/body/div[3]/div[2]/div/header/div/div[3]/ng-transclude/div[2]/div/div/custom-date-picker/ng-include/md-select').click()\n",
      "C:\\Users\\kbjung\\AppData\\Local\\Temp/ipykernel_2292/1789163386.py:37: DeprecationWarning: find_element_by_xpath is deprecated. Please use find_element(by=By.XPATH, value=xpath) instead\n",
      "  time_picker_30day = driver.find_element_by_xpath('/html/body/div[7]/md-select-menu/md-content/md-option[6]').click()\n",
      "C:\\Users\\kbjung\\AppData\\Local\\Temp/ipykernel_2292/1789163386.py:40: DeprecationWarning: find_element_by_xpath is deprecated. Please use find_element(by=By.XPATH, value=xpath) instead\n",
      "  down_button = driver.find_element_by_xpath('/html/body/div[3]/div[2]/div/md-content/div/div/div[1]/trends-widget/ng-include/widget/div/div/div/widget-actions/div/button[1]').click()\n"
     ]
    },
    {
     "name": "stdout",
     "output_type": "stream",
     "text": [
      "천상 재회_최진희.csv 완료.\n",
      "그 집 앞_이재성.csv 완료.\n",
      "너무 아픈 사랑은 사랑이 아니었음을_김광석.csv 완료.\n",
      "그 집 앞_이재성.png 저장 완료.\n",
      "너무 아픈 사랑은 사랑이 아니었음을_김광석.png 저장 완료.\n",
      "천상 재회_최진희.png 저장 완료.\n",
      "나의 X에게_경서.csv 완료.\n",
      "좋은날_IU.csv 완료.\n",
      "정이라고하자_빅나티(서동현)(Feat.10cm).csv 완료.\n",
      "사랑하긴했었나요스쳐가는인연이었나요짧지않은우리함께했던시간들이자꾸내마음을가둬두네_잔나비.csv 완료.\n",
      "보여줄게_에일리.csv 완료.\n",
      "그런일은_박화요비.csv 완료.\n",
      "You And I_박봄.csv 완료.\n",
      "그땐미처알지못했지_이적.csv 완료.\n",
      "You And I_박봄.png 저장 완료.\n",
      "그땐미처알지못했지_이적.png 저장 완료.\n",
      "그런일은_박화요비.png 저장 완료.\n",
      "나의 X에게_경서.png 저장 완료.\n",
      "보여줄게_에일리.png 저장 완료.\n",
      "좋은날_IU.png 저장 완료.\n"
     ]
    }
   ],
   "source": [
    "for site_name in site_list:\n",
    "    save_folder = f'crawled_data/outlier_data/{start_date}_{end_date}'\n",
    "    save_folder2 = os.path.join(code_path, save_folder)\n",
    "    file_name = f'[{site_name}]{start_date}_{end_date}_pop_df.xlsx'\n",
    "    save_path = os.path.join(save_folder2, file_name)\n",
    "    df = pd.read_excel(save_path)\n",
    "    # 파일 저장 폴더 생성\n",
    "    google_trend_path = f'crawled_data/outlier_data/{start_date}_{end_date}/google_trend/{site_name}'\n",
    "    des = os.path.join(code_path, google_trend_path)\n",
    "    os.makedirs(des, exist_ok=True)\n",
    "\n",
    "    # 구글 트랜드 검색\n",
    "    for i in range(df.shape[0]):\n",
    "        # 구글 트렌트 접속\n",
    "        url = 'https://trends.google.co.kr/trends/?geo=KR'\n",
    "        driver.get(url)\n",
    "        driver.implicitly_wait(3)\n",
    "        time.sleep( random.uniform(1, 1.5) )\n",
    "        driver.maximize_window()\n",
    "\n",
    "        # 검색어 입력\n",
    "        word = df['곡'][i]\n",
    "        search_box = driver.find_element_by_xpath('/html/body/div[3]/div[2]/div/ng-include/div/div[2]/autocomplete/md-autocomplete/md-autocomplete-wrap/input')\n",
    "        search_box.clear()\n",
    "        time.sleep( random.uniform(1, 1.5) )\n",
    "        search_box.send_keys(word)\n",
    "        time.sleep( random.uniform(1, 1.5) )\n",
    "        search_box.send_keys(Keys.ENTER)\n",
    "        time.sleep( random.uniform(1, 1.5) )\n",
    "        driver.implicitly_wait(3)\n",
    "\n",
    "        # 날짜 picker 클릭\n",
    "        \n",
    "        time_picker = driver.find_element_by_xpath('/html/body/div[3]/div[2]/div/header/div/div[3]/ng-transclude/div[2]/div/div/custom-date-picker/ng-include/md-select').click()\n",
    "        time.sleep( random.uniform(1, 1.5) )\n",
    "        # 30일 날짜 선택\n",
    "        time_picker_30day = driver.find_element_by_xpath('/html/body/div[7]/md-select-menu/md-content/md-option[6]').click()\n",
    "        time.sleep( random.uniform(1, 1.5) )\n",
    "        # 파일 다운 버튼 클릭\n",
    "        down_button = driver.find_element_by_xpath('/html/body/div[3]/div[2]/div/md-content/div/div/div[1]/trends-widget/ng-include/widget/div/div/div/widget-actions/div/button[1]').click()\n",
    "        time.sleep( random.uniform(1, 1.5) )\n",
    "\n",
    "        # 파일 이름 변경\n",
    "        title = df['곡'][i]\n",
    "        artist = df['가수'][i]\n",
    "        new_down_csv = f'{title}_{artist}.csv'\n",
    "        os.rename(down_folder + down_csv, down_folder + new_down_csv)\n",
    "\n",
    "        # 파일 이동\n",
    "        new_down_path = os.path.join(des, new_down_csv)\n",
    "        shutil.move(down_folder + new_down_csv, new_down_path)\n",
    "        print(f'{new_down_csv} 완료.')\n",
    "\n",
    "    outlier_file_list = os.listdir(des)\n",
    "    for one in outlier_file_list:\n",
    "        title = one.split('_')[0]\n",
    "        artist = one.split('_')[1].split('.')[0]\n",
    "        one_path = os.path.join(des, one)\n",
    "        temp = pd.read_csv(one_path).reset_index()\n",
    "        temp = temp.iloc[1:, :].reset_index(drop=True)\n",
    "        temp.columns = ['날짜', '검색비율']\n",
    "\n",
    "        week_temp = temp[ (temp['날짜'] >= start_date) & (temp['날짜'] <= end_date)].reset_index(drop=True)\n",
    "        week_temp['검색비율'] = week_temp['검색비율'].astype(int)\n",
    "\n",
    "        colors = sns.color_palette('RdPu', week_temp.shape[0])\n",
    "        x = week_temp['날짜']\n",
    "        y = week_temp['검색비율']\n",
    "        try:\n",
    "            interval_ratio = math.ceil( max(y) )*0.05\n",
    "            interval_ratio2 = math.ceil( max(y) )*0.2\n",
    "            plt.figure( figsize=(12,8) )\n",
    "            plt.bar(x, y, color=colors)\n",
    "            plt.title(f\"구글 트랜드 검색 비율\\n{title}-{artist}\", fontsize=20)\n",
    "            plt.xticks(fontsize=15, rotation=45)\n",
    "            plt.yticks(fontsize=15)\n",
    "            for i in range( len(y) ):\n",
    "                    if y[i] <= interval_ratio2:\n",
    "                        plt.text(x[i], y[i]+interval_ratio, round(y[i],1), fontsize=15, color='black', horizontalalignment='center', verticalalignment='bottom')\n",
    "                    else:\n",
    "                        plt.text(x[i], y[i]-interval_ratio, round(y[i],1), fontsize=15, color='black', horizontalalignment='center', verticalalignment='top')\n",
    "            \n",
    "            file_name2 = f'{title}_{artist}.png'\n",
    "            save_img_path = os.path.join(des, file_name2)\n",
    "            plt.savefig(save_img_path)\n",
    "            plt.close()\n",
    "            print(f'{file_name2} 저장 완료.')\n",
    "        except:\n",
    "            pass"
   ]
  },
  {
   "cell_type": "code",
   "execution_count": 29,
   "metadata": {},
   "outputs": [],
   "source": [
    "# driver.quit()"
   ]
  },
  {
   "cell_type": "markdown",
   "metadata": {},
   "source": [
    "## 2-2. 주간 음원 모니터링 결과(음원 사재기 검색 비율)\n",
    "## & 5-1-1. 음원사재기 관심도 분석"
   ]
  },
  {
   "cell_type": "code",
   "execution_count": 30,
   "metadata": {},
   "outputs": [],
   "source": [
    "# 다운로드 폴더 설정\n",
    "down_folder = 'C:/Users/kbjung/Downloads/'\n",
    "down_xlsx = 'datalab.xlsx'"
   ]
  },
  {
   "cell_type": "markdown",
   "metadata": {},
   "source": [
    "### 그래프 x축 설정2"
   ]
  },
  {
   "cell_type": "code",
   "execution_count": 31,
   "metadata": {},
   "outputs": [],
   "source": [
    "# 그래프 x축 설정\n",
    "xticks_names2 = ['5월2주차', '5월3주차']"
   ]
  },
  {
   "cell_type": "markdown",
   "metadata": {},
   "source": [
    "### 네이버 데이터 랩"
   ]
  },
  {
   "cell_type": "code",
   "execution_count": 32,
   "metadata": {},
   "outputs": [],
   "source": [
    "# 파일 저장 폴더 생성\n",
    "naver_datalab_path = f'crawled_data/outlier_data/{start_date}_{end_date}/naver_datalab'\n",
    "des2 = os.path.join(code_path, naver_datalab_path)\n",
    "os.makedirs(des2, exist_ok=True)"
   ]
  },
  {
   "cell_type": "code",
   "execution_count": 33,
   "metadata": {},
   "outputs": [],
   "source": [
    "# ca.install(True)\n",
    "# driver = webdriver.Chrome()"
   ]
  },
  {
   "cell_type": "markdown",
   "metadata": {},
   "source": [
    "#### 엑셀 출력"
   ]
  },
  {
   "cell_type": "code",
   "execution_count": 34,
   "metadata": {},
   "outputs": [
    {
     "name": "stderr",
     "output_type": "stream",
     "text": [
      "C:\\Users\\kbjung\\AppData\\Local\\Temp/ipykernel_2292/1249822867.py:10: DeprecationWarning: find_element_by_xpath is deprecated. Please use find_element(by=By.XPATH, value=xpath) instead\n",
      "  search_box = driver.find_element_by_xpath('/html/body/div[2]/div[2]/div[1]/div/div[2]/div[1]/div/form/fieldset/div/div[1]/div[1]/input')\n",
      "C:\\Users\\kbjung\\AppData\\Local\\Temp/ipykernel_2292/1249822867.py:16: DeprecationWarning: find_element_by_xpath is deprecated. Please use find_element(by=By.XPATH, value=xpath) instead\n",
      "  time_picker = driver.find_element_by_xpath('/html/body/div[2]/div[2]/div[1]/div/div[2]/div[1]/div/form/fieldset/div/div[6]/div[1]/label[3]').click()\n",
      "C:\\Users\\kbjung\\AppData\\Local\\Temp/ipykernel_2292/1249822867.py:20: DeprecationWarning: find_element_by_xpath is deprecated. Please use find_element(by=By.XPATH, value=xpath) instead\n",
      "  week_picker = driver.find_element_by_xpath('/html/body/div[2]/div[2]/div[1]/div/div[2]/div[1]/div/form/fieldset/div/div[6]/div[1]/div').click()\n",
      "C:\\Users\\kbjung\\AppData\\Local\\Temp/ipykernel_2292/1249822867.py:22: DeprecationWarning: find_element_by_xpath is deprecated. Please use find_element(by=By.XPATH, value=xpath) instead\n",
      "  week_button = driver.find_element_by_xpath('/html/body/div[2]/div[2]/div[1]/div/div[2]/div[1]/div/form/fieldset/div/div[6]/div[1]/div/ul/li[2]').click()\n",
      "C:\\Users\\kbjung\\AppData\\Local\\Temp/ipykernel_2292/1249822867.py:26: DeprecationWarning: find_element_by_xpath is deprecated. Please use find_element(by=By.XPATH, value=xpath) instead\n",
      "  search_button = driver.find_element_by_xpath('/html/body/div[2]/div[2]/div[1]/div/div[2]/div[1]/div/form/fieldset/a/span').click()\n",
      "C:\\Users\\kbjung\\AppData\\Local\\Temp/ipykernel_2292/1249822867.py:31: DeprecationWarning: find_element_by_xpath is deprecated. Please use find_element(by=By.XPATH, value=xpath) instead\n",
      "  down_button = driver.find_element_by_xpath('/html/body/div[2]/div[2]/div/div[1]/div[1]/div[1]/div/div/div/div/div/div[1]/div[4]/a').click()\n"
     ]
    },
    {
     "name": "stdout",
     "output_type": "stream",
     "text": [
      "음원 사재기.xlsx 완료.\n"
     ]
    }
   ],
   "source": [
    "# 네이버 데이터 랩 검색\n",
    "url = 'https://datalab.naver.com/keyword/trendSearch.naver'\n",
    "driver.get(url)\n",
    "driver.implicitly_wait(3)\n",
    "time.sleep( random.uniform(1, 1.5) )\n",
    "driver.maximize_window()\n",
    "\n",
    "# 검색어 입력\n",
    "word = '음원 사재기'\n",
    "search_box = driver.find_element_by_xpath('/html/body/div[2]/div[2]/div[1]/div/div[2]/div[1]/div/form/fieldset/div/div[1]/div[1]/input')\n",
    "search_box.clear()\n",
    "time.sleep( random.uniform(1, 1.5) )\n",
    "search_box.send_keys(word)\n",
    "\n",
    "# 3개월 picker 클릭\n",
    "time_picker = driver.find_element_by_xpath('/html/body/div[2]/div[2]/div[1]/div/div[2]/div[1]/div/form/fieldset/div/div[6]/div[1]/label[3]').click()\n",
    "time.sleep( random.uniform(1, 1.5) )\n",
    "\n",
    "# 주간 클릭\n",
    "week_picker = driver.find_element_by_xpath('/html/body/div[2]/div[2]/div[1]/div/div[2]/div[1]/div/form/fieldset/div/div[6]/div[1]/div').click()\n",
    "time.sleep( random.uniform(0.5, 1) )\n",
    "week_button = driver.find_element_by_xpath('/html/body/div[2]/div[2]/div[1]/div/div[2]/div[1]/div/form/fieldset/div/div[6]/div[1]/div/ul/li[2]').click()\n",
    "time.sleep( random.uniform(0.5, 1) )\n",
    "\n",
    "# 검색 버튼 클릭\n",
    "search_button = driver.find_element_by_xpath('/html/body/div[2]/div[2]/div[1]/div/div[2]/div[1]/div/form/fieldset/a/span').click()\n",
    "time.sleep( random.uniform(1, 1.5) )\n",
    "driver.implicitly_wait(3)\n",
    "\n",
    "# 다운 버튼 클릭\n",
    "down_button = driver.find_element_by_xpath('/html/body/div[2]/div[2]/div/div[1]/div[1]/div[1]/div/div/div/div/div/div[1]/div[4]/a').click()\n",
    "time.sleep( random.uniform(1, 1.5) )\n",
    "\n",
    "# 파일 이름 변경\n",
    "new_down_xlsx = f'{word}.xlsx'\n",
    "os.rename(down_folder + down_xlsx, down_folder + new_down_xlsx)\n",
    "\n",
    "# 파일 이동\n",
    "new_down_path2 = os.path.join(des2, new_down_xlsx)\n",
    "shutil.move(down_folder + new_down_xlsx, new_down_path2)\n",
    "print(f'{new_down_xlsx} 완료.')"
   ]
  },
  {
   "cell_type": "code",
   "execution_count": 35,
   "metadata": {},
   "outputs": [],
   "source": [
    "# driver.quit()"
   ]
  },
  {
   "cell_type": "markdown",
   "metadata": {},
   "source": [
    "#### 그래프 출력"
   ]
  },
  {
   "cell_type": "code",
   "execution_count": 36,
   "metadata": {},
   "outputs": [
    {
     "name": "stdout",
     "output_type": "stream",
     "text": [
      "음원 사재기.png 저장 완료.\n"
     ]
    },
    {
     "data": {
      "image/png": "[encoded data removed]",
      "text/plain": [
       "<Figure size 864x576 with 1 Axes>"
      ]
     },
     "metadata": {
      "needs_background": "light"
     },
     "output_type": "display_data"
    }
   ],
   "source": [
    "# 그래프 생성\n",
    "file_list = os.listdir(des2)\n",
    "for one in file_list:\n",
    "    if '음원 사재기.xlsx' in one:\n",
    "        one_path2 = os.path.join(des2, one)\n",
    "        temp = pd.read_excel(one_path2)\n",
    "        temp = temp.reset_index(drop=True)\n",
    "        temp = temp.iloc[6:, :]\n",
    "        temp = temp.reset_index(drop=True)\n",
    "        temp.columns = ['날짜', '검색비율']\n",
    "\n",
    "        date_list = pd.date_range(end=start_date, periods=2, freq='W-MON')\n",
    "        start_week = str(date_list[0]).split(' ')[0]\n",
    "        end_week = str(date_list[-1]).split(' ')[0]\n",
    "        week_temp = temp[ (temp['날짜'] >= start_week) & (temp['날짜'] <= end_week)].reset_index(drop=True)\n",
    "        week_temp['검색비율'] = week_temp['검색비율'].astype(float)\n",
    "        week_temp['검색비율'] = round(week_temp['검색비율'], 1)\n",
    "        \n",
    "        colors = sns.color_palette('YlGn', week_temp.shape[0])\n",
    "        x = xticks_names2\n",
    "        y = week_temp['검색비율']\n",
    "        try:\n",
    "            interval_ratio = math.ceil( max(y) )*0.05\n",
    "            interval_ratio2 = math.ceil( max(y) )*0.2\n",
    "            plt.figure( figsize=(12,8) )\n",
    "            plt.grid(axis='y')\n",
    "            plt.bar(x, y, color=colors, width=0.5)\n",
    "            plt.title(f\"네이버 데이터 랩 검색 비율\\n{word}\", fontsize=20)\n",
    "            plt.xticks(xticks_names2 ,fontsize=15)\n",
    "            plt.yticks(fontsize=15)\n",
    "            for i in range( len(y) ):\n",
    "                    if y[i] <= interval_ratio2:\n",
    "                        plt.text(x[i], y[i]+interval_ratio, round(y[i],1), fontsize=15, color='black', horizontalalignment='center', verticalalignment='bottom')\n",
    "                    else:\n",
    "                        plt.text(x[i], y[i]-interval_ratio, round(y[i],1), fontsize=15, color='black', horizontalalignment='center', verticalalignment='top')\n",
    "            file_name2 = f'{word}.png'\n",
    "            save_img_path2 = os.path.join(des2, file_name2)\n",
    "            plt.savefig(save_img_path2)\n",
    "            print(f'{file_name2} 저장 완료.')\n",
    "        except:\n",
    "            pass    "
   ]
  },
  {
   "cell_type": "markdown",
   "metadata": {},
   "source": [
    "### 카카오 트랜드"
   ]
  },
  {
   "cell_type": "code",
   "execution_count": 37,
   "metadata": {},
   "outputs": [],
   "source": [
    "# 다운로드 폴더, 파일 이름 설정\n",
    "down_folder = 'C:/Users/kbjung/Downloads/'\n",
    "down_xlsx = 'datatrend.xls'"
   ]
  },
  {
   "cell_type": "code",
   "execution_count": 38,
   "metadata": {},
   "outputs": [],
   "source": [
    "# 파일 저장 폴더 생성\n",
    "kakao_trend_path = f'crawled_data/outlier_data/{start_date}_{end_date}/kakao_trend'\n",
    "des3 = os.path.join(code_path, kakao_trend_path)\n",
    "os.makedirs(des3, exist_ok=True)"
   ]
  },
  {
   "cell_type": "code",
   "execution_count": null,
   "metadata": {},
   "outputs": [],
   "source": [
    "# ca.install(True)\n",
    "# driver = webdriver.Chrome()"
   ]
  },
  {
   "cell_type": "markdown",
   "metadata": {},
   "source": [
    "#### 엑셀 출력"
   ]
  },
  {
   "cell_type": "code",
   "execution_count": 39,
   "metadata": {},
   "outputs": [
    {
     "name": "stderr",
     "output_type": "stream",
     "text": [
      "C:\\Users\\kbjung\\AppData\\Local\\Temp/ipykernel_2292/2922446342.py:10: DeprecationWarning: find_element_by_xpath is deprecated. Please use find_element(by=By.XPATH, value=xpath) instead\n",
      "  search_box = driver.find_element_by_xpath('/html/body/div/div/div/main/article/div[1]/div/input')\n",
      "C:\\Users\\kbjung\\AppData\\Local\\Temp/ipykernel_2292/2922446342.py:16: DeprecationWarning: find_element_by_xpath is deprecated. Please use find_element(by=By.XPATH, value=xpath) instead\n",
      "  driver.find_element_by_xpath('/html/body/div/div/div/main/article/div[3]/div[2]/div[1]/div[2]/label[2]/span').click()\n",
      "C:\\Users\\kbjung\\AppData\\Local\\Temp/ipykernel_2292/2922446342.py:20: DeprecationWarning: find_element_by_xpath is deprecated. Please use find_element(by=By.XPATH, value=xpath) instead\n",
      "  driver.find_element_by_xpath('/html/body/div/div/div/main/article/div[3]/div[2]/div[2]/div[2]/button').click()\n",
      "C:\\Users\\kbjung\\AppData\\Local\\Temp/ipykernel_2292/2922446342.py:22: DeprecationWarning: find_element_by_xpath is deprecated. Please use find_element(by=By.XPATH, value=xpath) instead\n",
      "  driver.find_element_by_xpath('/html/body/div/div/div/main/article/div[3]/div[2]/div[2]/div[2]/ul/li[2]/label/span').click()\n",
      "C:\\Users\\kbjung\\AppData\\Local\\Temp/ipykernel_2292/2922446342.py:27: DeprecationWarning: find_element_by_xpath is deprecated. Please use find_element(by=By.XPATH, value=xpath) instead\n",
      "  driver.find_element_by_xpath('/html/body/div/div/div/main/article/div[4]/button[2]').click()\n",
      "C:\\Users\\kbjung\\AppData\\Local\\Temp/ipykernel_2292/2922446342.py:32: DeprecationWarning: find_element_by_xpath is deprecated. Please use find_element(by=By.XPATH, value=xpath) instead\n",
      "  driver.find_element_by_xpath('/html/body/div/div/header/div/div/a[2]').click()\n"
     ]
    },
    {
     "name": "stdout",
     "output_type": "stream",
     "text": [
      "음원 사재기.xls 완료.\n"
     ]
    }
   ],
   "source": [
    "# 카카오 트랜드 접속\n",
    "url = 'https://datatrend.kakao.com/'\n",
    "driver.get(url)\n",
    "driver.implicitly_wait(3)\n",
    "time.sleep( random.uniform(1, 1.5) )\n",
    "driver.maximize_window()\n",
    "\n",
    "# 검색어 입력\n",
    "word = '음원 사재기'\n",
    "search_box = driver.find_element_by_xpath('/html/body/div/div/div/main/article/div[1]/div/input')\n",
    "search_box.clear()\n",
    "time.sleep( random.uniform(1, 1.5) )\n",
    "search_box.send_keys(word)\n",
    "\n",
    "# 1개월 picker 클릭\n",
    "driver.find_element_by_xpath('/html/body/div/div/div/main/article/div[3]/div[2]/div[1]/div[2]/label[2]/span').click()\n",
    "time.sleep( random.uniform(1, 1.5) )\n",
    "\n",
    "# 기준 주간 클릭\n",
    "driver.find_element_by_xpath('/html/body/div/div/div/main/article/div[3]/div[2]/div[2]/div[2]/button').click()\n",
    "time.sleep( random.uniform(1, 1.5) )\n",
    "driver.find_element_by_xpath('/html/body/div/div/div/main/article/div[3]/div[2]/div[2]/div[2]/ul/li[2]/label/span').click()\n",
    "time.sleep( random.uniform(1, 1.5) )\n",
    "\n",
    "\n",
    "# 검색 버튼 클릭\n",
    "driver.find_element_by_xpath('/html/body/div/div/div/main/article/div[4]/button[2]').click()\n",
    "time.sleep( random.uniform(1, 1.5) )\n",
    "driver.implicitly_wait(3)\n",
    "\n",
    "# 다운 버튼 클릭\n",
    "driver.find_element_by_xpath('/html/body/div/div/header/div/div/a[2]').click()\n",
    "time.sleep( random.uniform(1, 1.5) )\n",
    "\n",
    "# 파일 이름 변경\n",
    "new_down_xlsx = f'{word}.xls'\n",
    "os.rename(down_folder + down_xlsx, down_folder + new_down_xlsx)\n",
    "\n",
    "# 파일 이동\n",
    "new_down_path2 = os.path.join(des3, new_down_xlsx)\n",
    "shutil.move(down_folder + new_down_xlsx, new_down_path2)\n",
    "print(f'{new_down_xlsx} 완료.')"
   ]
  },
  {
   "cell_type": "code",
   "execution_count": 40,
   "metadata": {},
   "outputs": [],
   "source": [
    "driver.quit()"
   ]
  },
  {
   "cell_type": "markdown",
   "metadata": {},
   "source": [
    "#### 그래프 출력"
   ]
  },
  {
   "cell_type": "code",
   "execution_count": 41,
   "metadata": {},
   "outputs": [
    {
     "name": "stdout",
     "output_type": "stream",
     "text": [
      "음원 사재기.png 저장 완료.\n"
     ]
    },
    {
     "data": {
      "image/png": "[encoded data removed]",
      "text/plain": [
       "<Figure size 864x576 with 1 Axes>"
      ]
     },
     "metadata": {
      "needs_background": "light"
     },
     "output_type": "display_data"
    }
   ],
   "source": [
    "file_list = os.listdir(des3)\n",
    "for one in file_list:\n",
    "    if '음원 사재기.xls' in one:\n",
    "        one_path = os.path.join(des3, one)\n",
    "        temp = pd.read_excel(one_path).reset_index(drop=True)\n",
    "        temp = temp.iloc[7:38, :].reset_index(drop=True)\n",
    "        temp.columns = ['날짜', '검색비율']\n",
    "        temp['날짜'] = temp['날짜'].astype(str)\n",
    "        temp['날짜'] = temp['날짜'].apply([lambda x: x.split(' ')[0]])\n",
    "        date_list = pd.date_range(end=start_date, periods=2, freq='W-MON')\n",
    "        start_week = str(date_list[0]).split(' ')[0]\n",
    "        end_week = str(date_list[-1]).split(' ')[0]\n",
    "        week_temp = temp[ (temp['날짜'] >= start_week) & (temp['날짜'] <= end_week)].reset_index(drop=True)\n",
    "        week_temp['검색비율'] = week_temp['검색비율'].astype(int)\n",
    "        \n",
    "        colors = sns.color_palette('YlOrRd', week_temp.shape[0])\n",
    "        x = xticks_names2\n",
    "        y = week_temp['검색비율']\n",
    "        try:\n",
    "            interval_ratio = math.ceil( max(y) )*0.05\n",
    "            interval_ratio2 = math.ceil( max(y) )*0.2\n",
    "            plt.figure( figsize=(12,8) )\n",
    "            plt.grid(axis='y')\n",
    "            plt.bar(x, y, color=colors, width=0.5)\n",
    "            plt.title(f\"카카오 트랜드 검색 비율\\n{word}\", fontsize=20)\n",
    "            plt.xticks(xticks_names2, fontsize=15)\n",
    "            plt.yticks(fontsize=15)\n",
    "            for i in range( len(y) ):\n",
    "                    if y[i] <= interval_ratio2:\n",
    "                            plt.text(x[i], y[i]+interval_ratio, round(y[i],1), fontsize=15, color='black', horizontalalignment='center', verticalalignment='bottom')\n",
    "                    else:\n",
    "                            plt.text(x[i], y[i]-interval_ratio, round(y[i],1), fontsize=15, color='black', horizontalalignment='center', verticalalignment='top')\n",
    "            file_name2 = f'{word}.png'\n",
    "            save_img_path = os.path.join(des3, file_name2)\n",
    "            plt.savefig(save_img_path)\n",
    "            print(f'{file_name2} 저장 완료.')\n",
    "        except:\n",
    "            pass"
   ]
  },
  {
   "cell_type": "markdown",
   "metadata": {},
   "source": [
    "# 코드 마지막"
   ]
  }
 ],
 "metadata": {
  "interpreter": {
   "hash": "747a6424a7b8ad24e9f0aefffcedbd2ab794ab79d972802769ba8a34242ef8b4"
  },
  "kernelspec": {
   "display_name": "Python 3.9.7 ('base')",
   "language": "python",
   "name": "python3"
  },
  "language_info": {
   "codemirror_mode": {
    "name": "ipython",
    "version": 3
   },
   "file_extension": ".py",
   "mimetype": "text/x-python",
   "name": "python",
   "nbconvert_exporter": "python",
   "pygments_lexer": "ipython3",
   "version": "3.9.7"
  },
  "orig_nbformat": 4
 },
 "nbformat": 4,
 "nbformat_minor": 2
}
