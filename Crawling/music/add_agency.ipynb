{
 "cells": [
  {
   "cell_type": "markdown",
   "metadata": {},
   "source": [
    "# 가수와 소속사 매칭\n",
    "* 순위 데이터에 소속사, 소속사_분류 열 추가"
   ]
  },
  {
   "cell_type": "markdown",
   "metadata": {},
   "source": [
    "## 라이브러리"
   ]
  },
  {
   "cell_type": "code",
   "execution_count": 5,
   "metadata": {},
   "outputs": [],
   "source": [
    "import pandas as pd\n",
    "import os"
   ]
  },
  {
   "cell_type": "markdown",
   "metadata": {},
   "source": [
    "# 정리"
   ]
  },
  {
   "cell_type": "code",
   "execution_count": 41,
   "metadata": {},
   "outputs": [],
   "source": [
    "# 가수, 소속사 매칭 파일 로드\n",
    "match_folder_path = f'/crawled_data/match_artist_agency/'\n",
    "file_path = path + match_folder_path\n",
    "try:\n",
    "    os.chdir(file_path)\n",
    "except:\n",
    "    pass"
   ]
  },
  {
   "cell_type": "code",
   "execution_count": 44,
   "metadata": {},
   "outputs": [
    {
     "data": {
      "text/plain": [
       "['artist_agency_20220428.xlsx', 'artist_agency_20220502.xlsx']"
      ]
     },
     "execution_count": 44,
     "metadata": {},
     "output_type": "execute_result"
    }
   ],
   "source": [
    "match_file_list = os.listdir()\n",
    "match_file_list"
   ]
  },
  {
   "cell_type": "code",
   "execution_count": 46,
   "metadata": {},
   "outputs": [
    {
     "name": "stdout",
     "output_type": "stream",
     "text": [
      "artist_agency_20220502.xlsx\n"
     ]
    },
    {
     "data": {
      "text/html": [
       "<div>\n",
       "<style scoped>\n",
       "    .dataframe tbody tr th:only-of-type {\n",
       "        vertical-align: middle;\n",
       "    }\n",
       "\n",
       "    .dataframe tbody tr th {\n",
       "        vertical-align: top;\n",
       "    }\n",
       "\n",
       "    .dataframe thead th {\n",
       "        text-align: right;\n",
       "    }\n",
       "</style>\n",
       "<table border=\"1\" class=\"dataframe\">\n",
       "  <thead>\n",
       "    <tr style=\"text-align: right;\">\n",
       "      <th></th>\n",
       "      <th>가수</th>\n",
       "      <th>소속사</th>\n",
       "      <th>소속사_분류</th>\n",
       "    </tr>\n",
       "  </thead>\n",
       "  <tbody>\n",
       "    <tr>\n",
       "      <th>0</th>\n",
       "      <td>BIGBANG (빅뱅)</td>\n",
       "      <td>YG</td>\n",
       "      <td>YG</td>\n",
       "    </tr>\n",
       "    <tr>\n",
       "      <th>1</th>\n",
       "      <td>IVE (아이브)</td>\n",
       "      <td>스타쉽</td>\n",
       "      <td>스타쉽</td>\n",
       "    </tr>\n",
       "    <tr>\n",
       "      <th>2</th>\n",
       "      <td>IVE(아이브)</td>\n",
       "      <td>스타쉽</td>\n",
       "      <td>스타쉽</td>\n",
       "    </tr>\n",
       "    <tr>\n",
       "      <th>3</th>\n",
       "      <td>(여자) 아이들</td>\n",
       "      <td>CUBE</td>\n",
       "      <td>기타</td>\n",
       "    </tr>\n",
       "    <tr>\n",
       "      <th>4</th>\n",
       "      <td>(여자)아이들</td>\n",
       "      <td>CUBE</td>\n",
       "      <td>기타</td>\n",
       "    </tr>\n",
       "  </tbody>\n",
       "</table>\n",
       "</div>"
      ],
      "text/plain": [
       "             가수   소속사 소속사_분류\n",
       "0  BIGBANG (빅뱅)    YG     YG\n",
       "1     IVE (아이브)   스타쉽    스타쉽\n",
       "2      IVE(아이브)   스타쉽    스타쉽\n",
       "3      (여자) 아이들  CUBE     기타\n",
       "4       (여자)아이들  CUBE     기타"
      ]
     },
     "execution_count": 46,
     "metadata": {},
     "output_type": "execute_result"
    }
   ],
   "source": [
    "match_file_name = match_file_list[-1]\n",
    "print(match_file_name)\n",
    "match_df = pd.read_excel(match_file_name)\n",
    "mod_match_df = match_df.iloc[:, :3]\n",
    "mod_match_df.head()"
   ]
  },
  {
   "cell_type": "code",
   "execution_count": 51,
   "metadata": {},
   "outputs": [],
   "source": [
    "# 현재 작업 경로\n",
    "path = 'c:/data/Wantreez/Crawling/music/'"
   ]
  },
  {
   "cell_type": "code",
   "execution_count": 52,
   "metadata": {},
   "outputs": [],
   "source": [
    "# 음원 사이트 설정\n",
    "site_list = ['flo', 'bugs', 'genie', 'melon', 'vibe', 'soribada']"
   ]
  },
  {
   "cell_type": "code",
   "execution_count": 53,
   "metadata": {},
   "outputs": [],
   "source": [
    "for one_site in site_list:\n",
    "    # 매칭 파일 저장 경로, 폴더 생성\n",
    "    folder_path = f'/crawled_data/mod_{one_site}/'\n",
    "    created_folder_path = path + folder_path\n",
    "    os.makedirs(created_folder_path, exist_ok=True)\n",
    "    \n",
    "    # 실시간 순위 파일 위치로 작업위치 이동\n",
    "    file_folder_path = f'/crawled_data/live_{one_site}/'\n",
    "    file_path = path + file_folder_path\n",
    "    try:\n",
    "        os.chdir(file_path)\n",
    "    except:\n",
    "        pass\n",
    "\n",
    "    # 파일 이름들\n",
    "    file_list = os.listdir()\n",
    "\n",
    "    for one_live in file_list:\n",
    "        temp = pd.read_excel(one_live)\n",
    "        temp['가수'] = temp['가수'].str.strip()\n",
    "        final_df = pd.merge(temp, mod_match_df, how='left', on='가수')\n",
    "        final_df.to_excel(created_folder_path + one_live, index=False)"
   ]
  },
  {
   "cell_type": "markdown",
   "metadata": {},
   "source": [
    "# 코드 마지막"
   ]
  }
 ],
 "metadata": {
  "interpreter": {
   "hash": "b3ba2566441a7c06988d0923437866b63cedc61552a5af99d1f4fb67d367b25f"
  },
  "kernelspec": {
   "display_name": "Python 3.9.7 ('base')",
   "language": "python",
   "name": "python3"
  },
  "language_info": {
   "codemirror_mode": {
    "name": "ipython",
    "version": 3
   },
   "file_extension": ".py",
   "mimetype": "text/x-python",
   "name": "python",
   "nbconvert_exporter": "python",
   "pygments_lexer": "ipython3",
   "version": "3.9.7"
  },
  "orig_nbformat": 4
 },
 "nbformat": 4,
 "nbformat_minor": 2
}
