{
 "cells": [
  {
   "cell_type": "markdown",
   "metadata": {},
   "source": [
    "# 가수와 소속사 매칭\n",
    "* 순위 데이터에 소속사, 소속사_분류 열 추가"
   ]
  },
  {
   "cell_type": "markdown",
   "metadata": {},
   "source": [
    "## 라이브러리"
   ]
  },
  {
   "cell_type": "code",
   "execution_count": 8,
   "metadata": {},
   "outputs": [],
   "source": [
    "import pandas as pd\n",
    "import os"
   ]
  },
  {
   "cell_type": "markdown",
   "metadata": {},
   "source": [
    "# 정리"
   ]
  },
  {
   "cell_type": "code",
   "execution_count": 9,
   "metadata": {},
   "outputs": [
    {
     "data": {
      "text/plain": [
       "'c:/data/Wantreez/Crawling/music'"
      ]
     },
     "execution_count": 9,
     "metadata": {},
     "output_type": "execute_result"
    }
   ],
   "source": [
    "path = 'c:/data/Wantreez/Crawling/music'\n",
    "path"
   ]
  },
  {
   "cell_type": "code",
   "execution_count": 10,
   "metadata": {},
   "outputs": [],
   "source": [
    "# 가수, 소속사 매칭 파일 로드\n",
    "match_folder_path = f'/crawled_data/match_artist_agency/'\n",
    "file_path = path + match_folder_path\n",
    "try:\n",
    "    os.chdir(file_path)\n",
    "except:\n",
    "    pass"
   ]
  },
  {
   "cell_type": "code",
   "execution_count": 11,
   "metadata": {},
   "outputs": [
    {
     "data": {
      "text/plain": [
       "['artist_agency_20220428.xlsx',\n",
       " 'artist_agency_20220502.xlsx',\n",
       " 'artist_agency_20220503.xlsx',\n",
       " 'artist_agency_20220504.xlsx',\n",
       " 'artist_agency_20220510.xlsx',\n",
       " 'artist_agency_20220513.xlsx']"
      ]
     },
     "execution_count": 11,
     "metadata": {},
     "output_type": "execute_result"
    }
   ],
   "source": [
    "match_file_list = os.listdir()\n",
    "match_file_list"
   ]
  },
  {
   "cell_type": "code",
   "execution_count": 12,
   "metadata": {},
   "outputs": [
    {
     "name": "stdout",
     "output_type": "stream",
     "text": [
      "artist_agency_20220513.xlsx\n"
     ]
    },
    {
     "data": {
      "text/html": [
       "<div>\n",
       "<style scoped>\n",
       "    .dataframe tbody tr th:only-of-type {\n",
       "        vertical-align: middle;\n",
       "    }\n",
       "\n",
       "    .dataframe tbody tr th {\n",
       "        vertical-align: top;\n",
       "    }\n",
       "\n",
       "    .dataframe thead th {\n",
       "        text-align: right;\n",
       "    }\n",
       "</style>\n",
       "<table border=\"1\" class=\"dataframe\">\n",
       "  <thead>\n",
       "    <tr style=\"text-align: right;\">\n",
       "      <th></th>\n",
       "      <th>가수</th>\n",
       "      <th>소속사</th>\n",
       "      <th>소속사_분류</th>\n",
       "    </tr>\n",
       "  </thead>\n",
       "  <tbody>\n",
       "    <tr>\n",
       "      <th>0</th>\n",
       "      <td>BIGBANG (빅뱅)</td>\n",
       "      <td>YG</td>\n",
       "      <td>YG</td>\n",
       "    </tr>\n",
       "    <tr>\n",
       "      <th>1</th>\n",
       "      <td>IVE (아이브)</td>\n",
       "      <td>스타쉽</td>\n",
       "      <td>스타쉽</td>\n",
       "    </tr>\n",
       "    <tr>\n",
       "      <th>2</th>\n",
       "      <td>IVE(아이브)</td>\n",
       "      <td>스타쉽</td>\n",
       "      <td>스타쉽</td>\n",
       "    </tr>\n",
       "    <tr>\n",
       "      <th>3</th>\n",
       "      <td>(여자) 아이들</td>\n",
       "      <td>CUBE</td>\n",
       "      <td>기타</td>\n",
       "    </tr>\n",
       "    <tr>\n",
       "      <th>4</th>\n",
       "      <td>(여자)아이들</td>\n",
       "      <td>CUBE</td>\n",
       "      <td>기타</td>\n",
       "    </tr>\n",
       "  </tbody>\n",
       "</table>\n",
       "</div>"
      ],
      "text/plain": [
       "             가수   소속사 소속사_분류\n",
       "0  BIGBANG (빅뱅)    YG     YG\n",
       "1     IVE (아이브)   스타쉽    스타쉽\n",
       "2      IVE(아이브)   스타쉽    스타쉽\n",
       "3      (여자) 아이들  CUBE     기타\n",
       "4       (여자)아이들  CUBE     기타"
      ]
     },
     "execution_count": 12,
     "metadata": {},
     "output_type": "execute_result"
    }
   ],
   "source": [
    "match_file_name = match_file_list[-1]\n",
    "print(match_file_name)\n",
    "match_df = pd.read_excel(match_file_name)\n",
    "mod_match_df = match_df.iloc[:, :3]\n",
    "mod_match_df.head()"
   ]
  },
  {
   "cell_type": "code",
   "execution_count": 13,
   "metadata": {},
   "outputs": [],
   "source": [
    "# 음원 사이트 설정\n",
    "site_list = ['flo', 'bugs', 'genie', 'melon', 'vibe', 'soribada']"
   ]
  },
  {
   "cell_type": "code",
   "execution_count": 14,
   "metadata": {},
   "outputs": [
    {
     "name": "stdout",
     "output_type": "stream",
     "text": [
      "live_flo_20220405.xlsx 소속사 추가 완료.\n",
      "live_flo_20220406.xlsx 소속사 추가 완료.\n",
      "live_flo_20220407.xlsx 소속사 추가 완료.\n",
      "live_flo_20220412.xlsx 소속사 추가 완료.\n",
      "live_flo_20220413.xlsx 소속사 추가 완료.\n",
      "live_flo_20220414_110035.xlsx 소속사 추가 완료.\n",
      "live_flo_20220415_110026.xlsx 소속사 추가 완료.\n",
      "live_flo_20220418_110024.xlsx 소속사 추가 완료.\n",
      "live_flo_20220419_110028.xlsx 소속사 추가 완료.\n",
      "live_flo_20220420_110013.xlsx 소속사 추가 완료.\n",
      "live_flo_20220421_110051.xlsx 소속사 추가 완료.\n",
      "live_flo_20220422_110026.xlsx 소속사 추가 완료.\n",
      "live_flo_20220423_110023.xlsx 소속사 추가 완료.\n",
      "live_flo_20220425_110022.xlsx 소속사 추가 완료.\n",
      "live_flo_20220426_110029.xlsx 소속사 추가 완료.\n",
      "live_flo_20220427_110027.xlsx 소속사 추가 완료.\n",
      "live_flo_20220428_110009.xlsx 소속사 추가 완료.\n",
      "live_flo_20220429_110008.xlsx 소속사 추가 완료.\n",
      "live_flo_20220430_110005.xlsx 소속사 추가 완료.\n",
      "live_flo_20220501_110005.xlsx 소속사 추가 완료.\n",
      "live_flo_20220502_110110.xlsx 소속사 추가 완료.\n",
      "live_flo_20220503_110005.xlsx 소속사 추가 완료.\n",
      "live_flo_20220504_110005.xlsx 소속사 추가 완료.\n",
      "live_flo_20220505_110006.xlsx 소속사 추가 완료.\n",
      "live_flo_20220506_110005.xlsx 소속사 추가 완료.\n",
      "live_flo_20220507_110006.xlsx 소속사 추가 완료.\n",
      "live_flo_20220508_110005.xlsx 소속사 추가 완료.\n",
      "live_flo_20220509_110006.xlsx 소속사 추가 완료.\n",
      "live_flo_20220510_110006.xlsx 소속사 추가 완료.\n",
      "live_flo_20220511_110006.xlsx 소속사 추가 완료.\n",
      "live_flo_20220512_173140.xlsx 소속사 추가 완료.\n",
      "live_flo_20220513_110006.xlsx 소속사 추가 완료.\n",
      "live_bugs_20220422_105549.xlsx 소속사 추가 완료.\n",
      "live_bugs_20220425_110806.xlsx 소속사 추가 완료.\n",
      "live_bugs_20220426_110837.xlsx 소속사 추가 완료.\n",
      "live_bugs_20220427_110836.xlsx 소속사 추가 완료.\n",
      "live_bugs_20220428_110800.xlsx 소속사 추가 완료.\n",
      "live_bugs_20220429_110800.xlsx 소속사 추가 완료.\n",
      "live_bugs_20220430_110800.xlsx 소속사 추가 완료.\n",
      "live_bugs_20220501_110800.xlsx 소속사 추가 완료.\n",
      "live_bugs_20220502_110800.xlsx 소속사 추가 완료.\n",
      "live_bugs_20220503_110800.xlsx 소속사 추가 완료.\n",
      "live_bugs_20220504_110800.xlsx 소속사 추가 완료.\n",
      "live_bugs_20220505_110800.xlsx 소속사 추가 완료.\n",
      "live_bugs_20220506_110800.xlsx 소속사 추가 완료.\n",
      "live_bugs_20220507_110800.xlsx 소속사 추가 완료.\n",
      "live_bugs_20220508_110800.xlsx 소속사 추가 완료.\n",
      "live_bugs_20220509_110800.xlsx 소속사 추가 완료.\n",
      "live_bugs_20220510_110800.xlsx 소속사 추가 완료.\n",
      "live_bugs_20220511_103008.xlsx 소속사 추가 완료.\n",
      "live_bugs_20220512_173150.xlsx 소속사 추가 완료.\n",
      "live_bugs_20220513_110800.xlsx 소속사 추가 완료.\n",
      "live_genie_20220405.xlsx 소속사 추가 완료.\n",
      "live_genie_20220406.xlsx 소속사 추가 완료.\n",
      "live_genie_20220407.xlsx 소속사 추가 완료.\n",
      "live_genie_20220408.xlsx 소속사 추가 완료.\n",
      "live_genie_20220412.xlsx 소속사 추가 완료.\n",
      "live_genie_20220413.xlsx 소속사 추가 완료.\n",
      "live_genie_20220413_152916.xlsx 소속사 추가 완료.\n",
      "live_genie_20220414_134752.xlsx 소속사 추가 완료.\n",
      "live_genie_20220415_180602.xlsx 소속사 추가 완료.\n",
      "live_genie_20220418_110238.xlsx 소속사 추가 완료.\n",
      "live_genie_20220419_110232.xlsx 소속사 추가 완료.\n",
      "live_genie_20220420_110217.xlsx 소속사 추가 완료.\n",
      "live_genie_20220421_110254.xlsx 소속사 추가 완료.\n",
      "live_genie_20220422_110235.xlsx 소속사 추가 완료.\n",
      "live_genie_20220425_110255.xlsx 소속사 추가 완료.\n",
      "live_genie_20220426_110231.xlsx 소속사 추가 완료.\n",
      "live_genie_20220427_110229.xlsx 소속사 추가 완료.\n",
      "live_genie_20220428_110201.xlsx 소속사 추가 완료.\n",
      "live_genie_20220429_110201.xlsx 소속사 추가 완료.\n",
      "live_genie_20220430_110201.xlsx 소속사 추가 완료.\n",
      "live_genie_20220501_110202.xlsx 소속사 추가 완료.\n",
      "live_genie_20220502_110201.xlsx 소속사 추가 완료.\n",
      "live_genie_20220503_110201.xlsx 소속사 추가 완료.\n",
      "live_genie_20220504_110201.xlsx 소속사 추가 완료.\n",
      "live_genie_20220505_110201.xlsx 소속사 추가 완료.\n",
      "live_genie_20220506_110201.xlsx 소속사 추가 완료.\n",
      "live_genie_20220507_110201.xlsx 소속사 추가 완료.\n",
      "live_genie_20220508_110202.xlsx 소속사 추가 완료.\n",
      "live_genie_20220509_110201.xlsx 소속사 추가 완료.\n",
      "live_genie_20220510_110202.xlsx 소속사 추가 완료.\n",
      "live_genie_20220511_110201.xlsx 소속사 추가 완료.\n",
      "live_genie_20220512_173143.xlsx 소속사 추가 완료.\n",
      "live_genie_20220513_110201.xlsx 소속사 추가 완료.\n",
      "live_melon_20220405.xlsx 소속사 추가 완료.\n",
      "live_melon_20220406.xlsx 소속사 추가 완료.\n",
      "live_melon_20220407.xlsx 소속사 추가 완료.\n",
      "live_melon_20220412.xlsx 소속사 추가 완료.\n",
      "live_melon_20220413.xlsx 소속사 추가 완료.\n",
      "live_melon_20220413_153438.xlsx 소속사 추가 완료.\n",
      "live_melon_20220414_134807.xlsx 소속사 추가 완료.\n",
      "live_melon_20220415_180604.xlsx 소속사 추가 완료.\n",
      "live_melon_20220418_110427.xlsx 소속사 추가 완료.\n",
      "live_melon_20220419_110436.xlsx 소속사 추가 완료.\n",
      "live_melon_20220420_110419.xlsx 소속사 추가 완료.\n",
      "live_melon_20220421_110456.xlsx 소속사 추가 완료.\n",
      "live_melon_20220422_110438.xlsx 소속사 추가 완료.\n",
      "live_melon_20220425_110456.xlsx 소속사 추가 완료.\n",
      "live_melon_20220426_110432.xlsx 소속사 추가 완료.\n",
      "live_melon_20220427_110430.xlsx 소속사 추가 완료.\n",
      "live_melon_20220428_110400.xlsx 소속사 추가 완료.\n",
      "live_melon_20220429_110400.xlsx 소속사 추가 완료.\n",
      "live_melon_20220430_110400.xlsx 소속사 추가 완료.\n",
      "live_melon_20220501_110400.xlsx 소속사 추가 완료.\n",
      "live_melon_20220502_110400.xlsx 소속사 추가 완료.\n",
      "live_melon_20220503_110400.xlsx 소속사 추가 완료.\n",
      "live_melon_20220504_110400.xlsx 소속사 추가 완료.\n",
      "live_melon_20220505_110400.xlsx 소속사 추가 완료.\n",
      "live_melon_20220506_110400.xlsx 소속사 추가 완료.\n",
      "live_melon_20220507_110400.xlsx 소속사 추가 완료.\n",
      "live_melon_20220508_110400.xlsx 소속사 추가 완료.\n",
      "live_melon_20220509_110400.xlsx 소속사 추가 완료.\n",
      "live_melon_20220510_110400.xlsx 소속사 추가 완료.\n",
      "live_melon_20220511_110400.xlsx 소속사 추가 완료.\n",
      "live_melon_20220512_173143.xlsx 소속사 추가 완료.\n",
      "live_melon_20220513_110400.xlsx 소속사 추가 완료.\n",
      "live_vibe_20220405.xlsx 소속사 추가 완료.\n",
      "live_vibe_20220406.xlsx 소속사 추가 완료.\n",
      "live_vibe_20220407.xlsx 소속사 추가 완료.\n",
      "live_vibe_20220412.xlsx 소속사 추가 완료.\n",
      "live_vibe_20220413.xlsx 소속사 추가 완료.\n",
      "live_vibe_20220413_154819.xlsx 소속사 추가 완료.\n",
      "live_vibe_20220414_134945.xlsx 소속사 추가 완료.\n",
      "live_vibe_20220415_180611.xlsx 소속사 추가 완료.\n",
      "live_vibe_20220418_111004.xlsx 소속사 추가 완료.\n",
      "live_vibe_20220419_110642.xlsx 소속사 추가 완료.\n",
      "live_vibe_20220420_110627.xlsx 소속사 추가 완료.\n",
      "live_vibe_20220421_110704.xlsx 소속사 추가 완료.\n",
      "live_vibe_20220422_110647.xlsx 소속사 추가 완료.\n",
      "live_vibe_20220425_110704.xlsx 소속사 추가 완료.\n",
      "live_vibe_20220426_110637.xlsx 소속사 추가 완료.\n",
      "live_vibe_20220427_110635.xlsx 소속사 추가 완료.\n",
      "live_vibe_20220428_110605.xlsx 소속사 추가 완료.\n",
      "live_vibe_20220429_110625.xlsx 소속사 추가 완료.\n",
      "live_vibe_20220430_110605.xlsx 소속사 추가 완료.\n",
      "live_vibe_20220501_110605.xlsx 소속사 추가 완료.\n",
      "live_vibe_20220502_110605.xlsx 소속사 추가 완료.\n",
      "live_vibe_20220503_110605.xlsx 소속사 추가 완료.\n",
      "live_vibe_20220504_110605.xlsx 소속사 추가 완료.\n",
      "live_vibe_20220505_110605.xlsx 소속사 추가 완료.\n",
      "live_vibe_20220506_110605.xlsx 소속사 추가 완료.\n",
      "live_vibe_20220507_110630.xlsx 소속사 추가 완료.\n",
      "live_vibe_20220508_110605.xlsx 소속사 추가 완료.\n",
      "live_vibe_20220509_110605.xlsx 소속사 추가 완료.\n",
      "live_vibe_20220510_110604.xlsx 소속사 추가 완료.\n",
      "live_vibe_20220511_103831.xlsx 소속사 추가 완료.\n",
      "live_vibe_20220512_173149.xlsx 소속사 추가 완료.\n",
      "live_vibe_20220513_110605.xlsx 소속사 추가 완료.\n",
      "live_soribada_20220404_20220422_114105.xlsx 소속사 추가 완료.\n",
      "live_soribada_20220404_20220425_111010.xlsx 소속사 추가 완료.\n",
      "live_soribada_20220404_20220426_111040.xlsx 소속사 추가 완료.\n",
      "live_soribada_20220404_20220427_111039.xlsx 소속사 추가 완료.\n",
      "live_soribada_20220404_20220428_111002.xlsx 소속사 추가 완료.\n",
      "live_soribada_20220404_20220429_111003.xlsx 소속사 추가 완료.\n",
      "live_soribada_20220404_20220430_111003.xlsx 소속사 추가 완료.\n",
      "live_soribada_20220404_20220501_111003.xlsx 소속사 추가 완료.\n",
      "live_soribada_20220404_20220502_111003.xlsx 소속사 추가 완료.\n",
      "live_soribada_20220404_20220503_111003.xlsx 소속사 추가 완료.\n",
      "live_soribada_20220404_20220504_111028.xlsx 소속사 추가 완료.\n",
      "live_soribada_20220404_20220505_111003.xlsx 소속사 추가 완료.\n",
      "live_soribada_20220404_20220506_111003.xlsx 소속사 추가 완료.\n",
      "live_soribada_20220404_20220507_111003.xlsx 소속사 추가 완료.\n",
      "live_soribada_20220404_20220508_111003.xlsx 소속사 추가 완료.\n",
      "live_soribada_20220404_20220509_111003.xlsx 소속사 추가 완료.\n",
      "live_soribada_20220404_20220510_111003.xlsx 소속사 추가 완료.\n",
      "live_soribada_20220404_20220512_173153.xlsx 소속사 추가 완료.\n",
      "live_soribada_20220404_20220513_111040.xlsx 소속사 추가 완료.\n"
     ]
    }
   ],
   "source": [
    "for one_site in site_list:\n",
    "    # 매칭 파일 저장 경로, 폴더 생성\n",
    "    folder_path = f'/crawled_data/mod_{one_site}/'\n",
    "    created_folder_path = path + folder_path\n",
    "    os.makedirs(created_folder_path, exist_ok=True)\n",
    "    \n",
    "    # 실시간 순위 파일 위치로 작업위치 이동\n",
    "    file_folder_path = f'/crawled_data/live_{one_site}/'\n",
    "    file_path = path + file_folder_path\n",
    "    try:\n",
    "        os.chdir(file_path)\n",
    "    except:\n",
    "        pass\n",
    "\n",
    "    # 파일 이름들\n",
    "    file_list = os.listdir()\n",
    "\n",
    "    for one_live in file_list:\n",
    "        temp = pd.read_excel(one_live)\n",
    "        temp['가수'] = temp['가수'].str.strip()\n",
    "        final_df = pd.merge(temp, mod_match_df, how='left', on='가수')\n",
    "        final_df.to_excel(created_folder_path + one_live, index=False)\n",
    "    print(f'{one_site} 소속사 추가 완료.')"
   ]
  },
  {
   "cell_type": "markdown",
   "metadata": {},
   "source": [
    "# 코드 마지막"
   ]
  }
 ],
 "metadata": {
  "interpreter": {
   "hash": "b3ba2566441a7c06988d0923437866b63cedc61552a5af99d1f4fb67d367b25f"
  },
  "kernelspec": {
   "display_name": "Python 3.9.7 ('base')",
   "language": "python",
   "name": "python3"
  },
  "language_info": {
   "codemirror_mode": {
    "name": "ipython",
    "version": 3
   },
   "file_extension": ".py",
   "mimetype": "text/x-python",
   "name": "python",
   "nbconvert_exporter": "python",
   "pygments_lexer": "ipython3",
   "version": "3.9.7"
  },
  "orig_nbformat": 4
 },
 "nbformat": 4,
 "nbformat_minor": 2
}
