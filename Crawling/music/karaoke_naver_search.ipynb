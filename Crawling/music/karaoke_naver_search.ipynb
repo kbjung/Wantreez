{
 "cells": [
  {
   "cell_type": "markdown",
   "metadata": {},
   "source": [
    "# 네이버 데이터랩 데이터와 그래프\n",
    "* 노래방 데이터\n",
    "* 음원 사재기 검색 비율"
   ]
  },
  {
   "cell_type": "code",
   "execution_count": 83,
   "metadata": {},
   "outputs": [],
   "source": [
    "import pandas as pd\n",
    "import matplotlib.pyplot as plt\n",
    "import seaborn as sns\n",
    "import os, math"
   ]
  },
  {
   "cell_type": "code",
   "execution_count": 84,
   "metadata": {},
   "outputs": [],
   "source": [
    "import platform\n",
    "from matplotlib import font_manager, rc\n",
    "\n",
    "# 한글 폰트 지정\n",
    "path = \"C:/Windows/Fonts/malgun.ttf\"\n",
    "if platform.system() == \"Windows\":\n",
    "    font_name = font_manager.FontProperties(fname=path).get_name()\n",
    "    rc('font', family=font_name)\n",
    "elif platform.system()==\"Darwin\":\n",
    "    rc('font', family='AppleGothic')\n",
    "else:\n",
    "    print(\"Unknown System\")"
   ]
  },
  {
   "cell_type": "code",
   "execution_count": 85,
   "metadata": {},
   "outputs": [],
   "source": [
    "import matplotlib\n",
    "matplotlib.rcParams['axes.unicode_minus'] = False # 그래프에서 음수 표현 가능하도록 설정."
   ]
  },
  {
   "cell_type": "code",
   "execution_count": 86,
   "metadata": {},
   "outputs": [],
   "source": [
    "from selenium import webdriver\n",
    "from selenium.webdriver.common.keys import Keys\n",
    "from bs4 import BeautifulSoup as bs\n",
    "import chromedriver_autoinstaller as ca\n",
    "import random, time"
   ]
  },
  {
   "cell_type": "code",
   "execution_count": 87,
   "metadata": {},
   "outputs": [],
   "source": [
    "import glob\n",
    "import shutil"
   ]
  },
  {
   "cell_type": "markdown",
   "metadata": {},
   "source": [
    "# 3-3-2. 신규 진입한 음원 소셜미디어 관심도"
   ]
  },
  {
   "cell_type": "code",
   "execution_count": 155,
   "metadata": {},
   "outputs": [],
   "source": [
    "f_path = 'c:/data/Wantreez/Crawling/music'\n",
    "try:\n",
    "    os.chdir(f_path)\n",
    "except:\n",
    "    pass"
   ]
  },
  {
   "cell_type": "code",
   "execution_count": 156,
   "metadata": {},
   "outputs": [
    {
     "data": {
      "text/plain": [
       "'c:/data/Wantreez/Crawling/music'"
      ]
     },
     "execution_count": 156,
     "metadata": {},
     "output_type": "execute_result"
    }
   ],
   "source": [
    "code_path = os.getcwd().replace('\\\\', '/')\n",
    "code_path"
   ]
  },
  {
   "cell_type": "markdown",
   "metadata": {},
   "source": [
    "## 노래방 사이트 설정"
   ]
  },
  {
   "cell_type": "code",
   "execution_count": null,
   "metadata": {},
   "outputs": [],
   "source": [
    "# 사이트 이름(ky, tj)\n",
    "site_name = 'tj'"
   ]
  },
  {
   "cell_type": "markdown",
   "metadata": {},
   "source": [
    "## 이번주 기간 설정"
   ]
  },
  {
   "cell_type": "code",
   "execution_count": 157,
   "metadata": {},
   "outputs": [],
   "source": [
    "# 기간 설정\n",
    "start_date = '2022-05-09'\n",
    "end_date = '2022-05-15'"
   ]
  },
  {
   "cell_type": "markdown",
   "metadata": {},
   "source": [
    "## 그래프 x축 설정"
   ]
  },
  {
   "cell_type": "code",
   "execution_count": null,
   "metadata": {},
   "outputs": [],
   "source": [
    "# 그래프 x 축 설정\n",
    "xticks_names = ['4월3주차', '4월4주차', '5월1주차', '5월2주차']"
   ]
  },
  {
   "cell_type": "code",
   "execution_count": 128,
   "metadata": {},
   "outputs": [
    {
     "data": {
      "text/html": [
       "<div>\n",
       "<style scoped>\n",
       "    .dataframe tbody tr th:only-of-type {\n",
       "        vertical-align: middle;\n",
       "    }\n",
       "\n",
       "    .dataframe tbody tr th {\n",
       "        vertical-align: top;\n",
       "    }\n",
       "\n",
       "    .dataframe thead th {\n",
       "        text-align: right;\n",
       "    }\n",
       "</style>\n",
       "<table border=\"1\" class=\"dataframe\">\n",
       "  <thead>\n",
       "    <tr style=\"text-align: right;\">\n",
       "      <th></th>\n",
       "      <th>날짜</th>\n",
       "      <th>순위</th>\n",
       "      <th>곡</th>\n",
       "      <th>가수</th>\n",
       "      <th>사이트</th>\n",
       "    </tr>\n",
       "  </thead>\n",
       "  <tbody>\n",
       "    <tr>\n",
       "      <th>0</th>\n",
       "      <td>2022-05-09</td>\n",
       "      <td>99</td>\n",
       "      <td>신촌을못가</td>\n",
       "      <td>포스트맨</td>\n",
       "      <td>Tj</td>\n",
       "    </tr>\n",
       "    <tr>\n",
       "      <th>1</th>\n",
       "      <td>2022-05-11</td>\n",
       "      <td>99</td>\n",
       "      <td>남자를몰라</td>\n",
       "      <td>버즈</td>\n",
       "      <td>Tj</td>\n",
       "    </tr>\n",
       "    <tr>\n",
       "      <th>2</th>\n",
       "      <td>2022-05-14</td>\n",
       "      <td>99</td>\n",
       "      <td>죽일놈(Guilty)</td>\n",
       "      <td>다이나믹듀오</td>\n",
       "      <td>Tj</td>\n",
       "    </tr>\n",
       "    <tr>\n",
       "      <th>3</th>\n",
       "      <td>2022-05-15</td>\n",
       "      <td>85</td>\n",
       "      <td>버스안에서</td>\n",
       "      <td>자자</td>\n",
       "      <td>Tj</td>\n",
       "    </tr>\n",
       "  </tbody>\n",
       "</table>\n",
       "</div>"
      ],
      "text/plain": [
       "           날짜  순위            곡      가수 사이트\n",
       "0  2022-05-09  99        신촌을못가    포스트맨  Tj\n",
       "1  2022-05-11  99        남자를몰라      버즈  Tj\n",
       "2  2022-05-14  99  죽일놈(Guilty)  다이나믹듀오  Tj\n",
       "3  2022-05-15  85        버스안에서      자자  Tj"
      ]
     },
     "execution_count": 128,
     "metadata": {},
     "output_type": "execute_result"
    }
   ],
   "source": [
    "# 신규 진입 음원 파일 읽어 오기\n",
    "folder_path = f'/crawled_data/outlier_data/{start_date}_{end_date}/{site_name}/'\n",
    "path = code_path + folder_path\n",
    "file_name = f'[{site_name}]{start_date}_{end_date}_pop_df.xlsx'\n",
    "df = pd.read_excel(path + file_name)\n",
    "df"
   ]
  },
  {
   "cell_type": "markdown",
   "metadata": {},
   "source": [
    "## 네이버 데이터 랩 검색"
   ]
  },
  {
   "cell_type": "code",
   "execution_count": 129,
   "metadata": {},
   "outputs": [],
   "source": [
    "# 파일 저장 폴더 생성\n",
    "naver_datalab_path = f'/crawled_data/outlier_data/{start_date}_{end_date}/naver_datalab/{site_name}/'\n",
    "des = code_path + naver_datalab_path\n",
    "os.makedirs(des, exist_ok=True)"
   ]
  },
  {
   "cell_type": "code",
   "execution_count": 130,
   "metadata": {},
   "outputs": [],
   "source": [
    "ca.install(True)\n",
    "driver = webdriver.Chrome()"
   ]
  },
  {
   "cell_type": "code",
   "execution_count": 131,
   "metadata": {},
   "outputs": [
    {
     "name": "stderr",
     "output_type": "stream",
     "text": [
      "C:\\Users\\kbjung\\AppData\\Local\\Temp/ipykernel_5356/1764646853.py:12: DeprecationWarning: find_element_by_xpath is deprecated. Please use find_element(by=By.XPATH, value=xpath) instead\n",
      "  search_box = driver.find_element_by_xpath('/html/body/div[2]/div[2]/div[1]/div/div[2]/div[1]/div/form/fieldset/div/div[1]/div[1]/input')\n",
      "C:\\Users\\kbjung\\AppData\\Local\\Temp/ipykernel_5356/1764646853.py:18: DeprecationWarning: find_element_by_xpath is deprecated. Please use find_element(by=By.XPATH, value=xpath) instead\n",
      "  time_picker = driver.find_element_by_xpath('/html/body/div[2]/div[2]/div[1]/div/div[2]/div[1]/div/form/fieldset/div/div[6]/div[1]/label[3]').click()\n",
      "C:\\Users\\kbjung\\AppData\\Local\\Temp/ipykernel_5356/1764646853.py:22: DeprecationWarning: find_element_by_xpath is deprecated. Please use find_element(by=By.XPATH, value=xpath) instead\n",
      "  week_picker = driver.find_element_by_xpath('/html/body/div[2]/div[2]/div[1]/div/div[2]/div[1]/div/form/fieldset/div/div[6]/div[1]/div').click()\n",
      "C:\\Users\\kbjung\\AppData\\Local\\Temp/ipykernel_5356/1764646853.py:24: DeprecationWarning: find_element_by_xpath is deprecated. Please use find_element(by=By.XPATH, value=xpath) instead\n",
      "  week_button = driver.find_element_by_xpath('/html/body/div[2]/div[2]/div[1]/div/div[2]/div[1]/div/form/fieldset/div/div[6]/div[1]/div/ul/li[2]').click()\n",
      "C:\\Users\\kbjung\\AppData\\Local\\Temp/ipykernel_5356/1764646853.py:28: DeprecationWarning: find_element_by_xpath is deprecated. Please use find_element(by=By.XPATH, value=xpath) instead\n",
      "  search_button = driver.find_element_by_xpath('/html/body/div[2]/div[2]/div[1]/div/div[2]/div[1]/div/form/fieldset/a/span').click()\n",
      "C:\\Users\\kbjung\\AppData\\Local\\Temp/ipykernel_5356/1764646853.py:33: DeprecationWarning: find_element_by_xpath is deprecated. Please use find_element(by=By.XPATH, value=xpath) instead\n",
      "  down_button = driver.find_element_by_xpath('/html/body/div[2]/div[2]/div/div[1]/div[1]/div[1]/div/div/div/div/div/div[1]/div[4]/a').click()\n"
     ]
    },
    {
     "name": "stdout",
     "output_type": "stream",
     "text": [
      "신촌을못가_포스트맨.xlsx 완료.\n",
      "남자를몰라_버즈.xlsx 완료.\n",
      "죽일놈(Guilty)_다이나믹듀오.xlsx 완료.\n",
      "버스안에서_자자.xlsx 완료.\n",
      "tj 신규 진입 음원 소셜 검색 비율 파일 다운 완료.\n"
     ]
    }
   ],
   "source": [
    "# 네이버 데이터 랩 검색\n",
    "for i in range(df.shape[0]):\n",
    "    # 네이버 데이터 랩 접속\n",
    "    url = 'https://datalab.naver.com/keyword/trendSearch.naver'\n",
    "    driver.get(url)\n",
    "    driver.implicitly_wait(3)\n",
    "    time.sleep( random.uniform(1, 1.5) )\n",
    "    driver.maximize_window()\n",
    "\n",
    "    # 검색어 입력\n",
    "    word = df['곡'][i]\n",
    "    search_box = driver.find_element_by_xpath('/html/body/div[2]/div[2]/div[1]/div/div[2]/div[1]/div/form/fieldset/div/div[1]/div[1]/input')\n",
    "    search_box.clear()\n",
    "    time.sleep( random.uniform(1, 1.5) )\n",
    "    search_box.send_keys(word)\n",
    "\n",
    "    # 3개월 picker 클릭\n",
    "    time_picker = driver.find_element_by_xpath('/html/body/div[2]/div[2]/div[1]/div/div[2]/div[1]/div/form/fieldset/div/div[6]/div[1]/label[3]').click()\n",
    "    time.sleep( random.uniform(1, 1.5) )\n",
    "\n",
    "    # 주간 클릭\n",
    "    week_picker = driver.find_element_by_xpath('/html/body/div[2]/div[2]/div[1]/div/div[2]/div[1]/div/form/fieldset/div/div[6]/div[1]/div').click()\n",
    "    time.sleep( random.uniform(0.5, 1) )\n",
    "    week_button = driver.find_element_by_xpath('/html/body/div[2]/div[2]/div[1]/div/div[2]/div[1]/div/form/fieldset/div/div[6]/div[1]/div/ul/li[2]').click()\n",
    "    time.sleep( random.uniform(0.5, 1) )\n",
    "\n",
    "    # 검색 버튼 클릭\n",
    "    search_button = driver.find_element_by_xpath('/html/body/div[2]/div[2]/div[1]/div/div[2]/div[1]/div/form/fieldset/a/span').click()\n",
    "    time.sleep( random.uniform(1, 1.5) )\n",
    "    driver.implicitly_wait(3)\n",
    "\n",
    "    # 다운 버튼 클릭\n",
    "    down_button = driver.find_element_by_xpath('/html/body/div[2]/div[2]/div/div[1]/div[1]/div[1]/div/div/div/div/div/div[1]/div[4]/a').click()\n",
    "    time.sleep( random.uniform(1, 1.5) )\n",
    "\n",
    "    # 파일 이름 변경\n",
    "    down_folder = 'C:/Users/kbjung/Downloads/'\n",
    "    down_xlsx = 'datalab.xlsx'\n",
    "    title = df['곡'][i]\n",
    "    artist = df['가수'][i]\n",
    "    new_down_xlsx = f'{title}_{artist}.xlsx'\n",
    "    os.rename(down_folder + down_xlsx, down_folder + new_down_xlsx)\n",
    "\n",
    "    # 파일 이동\n",
    "    shutil.move(down_folder + new_down_xlsx, des + new_down_xlsx)\n",
    "    print(f'{new_down_xlsx} 완료.')\n",
    "print(f'{site_name} 신규 진입 음원 소셜 검색 비율 파일 다운 완료.')"
   ]
  },
  {
   "cell_type": "markdown",
   "metadata": {},
   "source": [
    "## 그래프 그리기"
   ]
  },
  {
   "cell_type": "code",
   "execution_count": 132,
   "metadata": {},
   "outputs": [
    {
     "data": {
      "text/plain": [
       "['남자를몰라_버즈.xlsx',\n",
       " '버스안에서_자자.xlsx',\n",
       " '신촌을못가_포스트맨.xlsx',\n",
       " '죽일놈(Guilty)_다이나믹듀오.xlsx']"
      ]
     },
     "execution_count": 132,
     "metadata": {},
     "output_type": "execute_result"
    }
   ],
   "source": [
    "file_list = os.listdir(des)\n",
    "file_list"
   ]
  },
  {
   "cell_type": "code",
   "execution_count": 134,
   "metadata": {},
   "outputs": [
    {
     "name": "stderr",
     "output_type": "stream",
     "text": [
      "C:\\Users\\kbjung\\anaconda3\\lib\\site-packages\\openpyxl\\styles\\stylesheet.py:226: UserWarning: Workbook contains no default style, apply openpyxl's default\n",
      "  warn(\"Workbook contains no default style, apply openpyxl's default\")\n"
     ]
    },
    {
     "name": "stdout",
     "output_type": "stream",
     "text": [
      "남자를몰라_버즈.png 저장 완료.\n",
      "버스안에서_자자.png 저장 완료.\n",
      "신촌을못가_포스트맨.png 저장 완료.\n",
      "죽일놈(Guilty)_다이나믹듀오.png 저장 완료.\n"
     ]
    },
    {
     "data": {
      "image/png": "[encoded data removed]",
      "text/plain": [
       "<Figure size 864x576 with 1 Axes>"
      ]
     },
     "metadata": {
      "needs_background": "light"
     },
     "output_type": "display_data"
    },
    {
     "data": {
      "image/png": "[encoded data removed]",
      "text/plain": [
       "<Figure size 864x576 with 1 Axes>"
      ]
     },
     "metadata": {
      "needs_background": "light"
     },
     "output_type": "display_data"
    },
    {
     "data": {
      "image/png": "[encoded data removed]",
      "text/plain": [
       "<Figure size 864x576 with 1 Axes>"
      ]
     },
     "metadata": {
      "needs_background": "light"
     },
     "output_type": "display_data"
    },
    {
     "data": {
      "image/png": "[encoded data removed]",
      "text/plain": [
       "<Figure size 864x576 with 1 Axes>"
      ]
     },
     "metadata": {
      "needs_background": "light"
     },
     "output_type": "display_data"
    }
   ],
   "source": [
    "# 그래프 생성\n",
    "file_list = os.listdir(des)\n",
    "for one in file_list:\n",
    "    title = one.split('_')[0]\n",
    "    artist = one.split('_')[1].split('.')[0]\n",
    "    temp = pd.read_excel(des + one)\n",
    "    temp = temp.reset_index(drop=True)\n",
    "    temp = temp.iloc[6:, :].reset_index(drop=True)\n",
    "    temp.columns = ['날짜', '검색비율']\n",
    "\n",
    "    date_list = pd.date_range(end=start_date, periods=4, freq='W-MON')\n",
    "    start_week = str(date_list[0]).split(' ')[0]\n",
    "    end_week = str(date_list[-1]).split(' ')[0]\n",
    "    week_temp = temp[ (temp['날짜'] >= start_week) & (temp['날짜'] <= end_week)].reset_index(drop=True)\n",
    "    week_temp['검색비율'] = week_temp['검색비율'].astype(float)\n",
    "    week_temp['검색비율'] = round(week_temp['검색비율'], 1)\n",
    "    \n",
    "    colors = sns.color_palette('RdBu', week_temp.shape[0])\n",
    "    x = xticks_names\n",
    "    y = week_temp['검색비율']\n",
    "    try:\n",
    "        interval_ratio = math.ceil( max(y) )*0.05\n",
    "        interval_ratio2 = math.ceil( max(y) )*0.2\n",
    "        plt.figure( figsize=(12,8) )\n",
    "        plt.grid(axis='y')\n",
    "        plt.bar(x, y, color=colors, width=0.5)\n",
    "        plt.title(f\"네이버 데이터 랩 검색 비율\\n{title}-{artist}\", fontsize=20)\n",
    "        plt.xticks(xticks_names ,fontsize=15)\n",
    "        plt.yticks(fontsize=15)\n",
    "        for i in range( len(y) ):\n",
    "                if y[i] <= interval_ratio2:\n",
    "                    plt.text(x[i], y[i]+interval_ratio, round(y[i],1), fontsize=15, color='black',\n",
    "                            horizontalalignment='center',\n",
    "                            verticalalignment='bottom')\n",
    "                else:\n",
    "                    plt.text(x[i], y[i]-interval_ratio, round(y[i],1), fontsize=15, color='black',\n",
    "                            horizontalalignment='center',\n",
    "                            verticalalignment='top')\n",
    "        plt.savefig(des + f'{title}_{artist}.png')\n",
    "        print(f'{title}_{artist}.png 저장 완료.')\n",
    "    except:\n",
    "        pass    "
   ]
  },
  {
   "cell_type": "code",
   "execution_count": 160,
   "metadata": {},
   "outputs": [],
   "source": [
    "driver.quit()"
   ]
  },
  {
   "cell_type": "markdown",
   "metadata": {},
   "source": [
    "# 2-2. 주간 음원 모니터링 결과(음원 사재기 검색 비율), 5. 음원사재기에 대한 관심"
   ]
  },
  {
   "cell_type": "code",
   "execution_count": 154,
   "metadata": {},
   "outputs": [],
   "source": [
    "# 그래프 x축 설정\n",
    "xticks_names2 = ['5월1주차', '5월2주차']"
   ]
  },
  {
   "cell_type": "code",
   "execution_count": 136,
   "metadata": {},
   "outputs": [],
   "source": [
    "# 파일 저장 폴더 생성\n",
    "naver_datalab_path = f'/crawled_data/outlier_data/{start_date}_{end_date}/naver_datalab/'\n",
    "des2 = code_path + naver_datalab_path\n",
    "os.makedirs(des2, exist_ok=True)"
   ]
  },
  {
   "cell_type": "code",
   "execution_count": 137,
   "metadata": {},
   "outputs": [],
   "source": [
    "ca.install(True)\n",
    "driver = webdriver.Chrome()"
   ]
  },
  {
   "cell_type": "code",
   "execution_count": 138,
   "metadata": {},
   "outputs": [
    {
     "name": "stderr",
     "output_type": "stream",
     "text": [
      "C:\\Users\\kbjung\\AppData\\Local\\Temp/ipykernel_5356/2256697129.py:11: DeprecationWarning: find_element_by_xpath is deprecated. Please use find_element(by=By.XPATH, value=xpath) instead\n",
      "  search_box = driver.find_element_by_xpath('/html/body/div[2]/div[2]/div[1]/div/div[2]/div[1]/div/form/fieldset/div/div[1]/div[1]/input')\n",
      "C:\\Users\\kbjung\\AppData\\Local\\Temp/ipykernel_5356/2256697129.py:17: DeprecationWarning: find_element_by_xpath is deprecated. Please use find_element(by=By.XPATH, value=xpath) instead\n",
      "  time_picker = driver.find_element_by_xpath('/html/body/div[2]/div[2]/div[1]/div/div[2]/div[1]/div/form/fieldset/div/div[6]/div[1]/label[3]').click()\n",
      "C:\\Users\\kbjung\\AppData\\Local\\Temp/ipykernel_5356/2256697129.py:21: DeprecationWarning: find_element_by_xpath is deprecated. Please use find_element(by=By.XPATH, value=xpath) instead\n",
      "  week_picker = driver.find_element_by_xpath('/html/body/div[2]/div[2]/div[1]/div/div[2]/div[1]/div/form/fieldset/div/div[6]/div[1]/div').click()\n",
      "C:\\Users\\kbjung\\AppData\\Local\\Temp/ipykernel_5356/2256697129.py:23: DeprecationWarning: find_element_by_xpath is deprecated. Please use find_element(by=By.XPATH, value=xpath) instead\n",
      "  week_button = driver.find_element_by_xpath('/html/body/div[2]/div[2]/div[1]/div/div[2]/div[1]/div/form/fieldset/div/div[6]/div[1]/div/ul/li[2]').click()\n",
      "C:\\Users\\kbjung\\AppData\\Local\\Temp/ipykernel_5356/2256697129.py:27: DeprecationWarning: find_element_by_xpath is deprecated. Please use find_element(by=By.XPATH, value=xpath) instead\n",
      "  search_button = driver.find_element_by_xpath('/html/body/div[2]/div[2]/div[1]/div/div[2]/div[1]/div/form/fieldset/a/span').click()\n",
      "C:\\Users\\kbjung\\AppData\\Local\\Temp/ipykernel_5356/2256697129.py:32: DeprecationWarning: find_element_by_xpath is deprecated. Please use find_element(by=By.XPATH, value=xpath) instead\n",
      "  down_button = driver.find_element_by_xpath('/html/body/div[2]/div[2]/div/div[1]/div[1]/div[1]/div/div/div/div/div/div[1]/div[4]/a').click()\n"
     ]
    },
    {
     "name": "stdout",
     "output_type": "stream",
     "text": [
      "음원 사재기.xlsx 완료.\n"
     ]
    }
   ],
   "source": [
    "# 네이버 데이터 랩 검색\n",
    "# 네이버 데이터 랩 접속\n",
    "url = 'https://datalab.naver.com/keyword/trendSearch.naver'\n",
    "driver.get(url)\n",
    "driver.implicitly_wait(3)\n",
    "time.sleep( random.uniform(1, 1.5) )\n",
    "driver.maximize_window()\n",
    "\n",
    "# 검색어 입력\n",
    "word = '음원 사재기'\n",
    "search_box = driver.find_element_by_xpath('/html/body/div[2]/div[2]/div[1]/div/div[2]/div[1]/div/form/fieldset/div/div[1]/div[1]/input')\n",
    "search_box.clear()\n",
    "time.sleep( random.uniform(1, 1.5) )\n",
    "search_box.send_keys(word)\n",
    "\n",
    "# 3개월 picker 클릭\n",
    "time_picker = driver.find_element_by_xpath('/html/body/div[2]/div[2]/div[1]/div/div[2]/div[1]/div/form/fieldset/div/div[6]/div[1]/label[3]').click()\n",
    "time.sleep( random.uniform(1, 1.5) )\n",
    "\n",
    "# 주간 클릭\n",
    "week_picker = driver.find_element_by_xpath('/html/body/div[2]/div[2]/div[1]/div/div[2]/div[1]/div/form/fieldset/div/div[6]/div[1]/div').click()\n",
    "time.sleep( random.uniform(0.5, 1) )\n",
    "week_button = driver.find_element_by_xpath('/html/body/div[2]/div[2]/div[1]/div/div[2]/div[1]/div/form/fieldset/div/div[6]/div[1]/div/ul/li[2]').click()\n",
    "time.sleep( random.uniform(0.5, 1) )\n",
    "\n",
    "# 검색 버튼 클릭\n",
    "search_button = driver.find_element_by_xpath('/html/body/div[2]/div[2]/div[1]/div/div[2]/div[1]/div/form/fieldset/a/span').click()\n",
    "time.sleep( random.uniform(1, 1.5) )\n",
    "driver.implicitly_wait(3)\n",
    "\n",
    "# 다운 버튼 클릭\n",
    "down_button = driver.find_element_by_xpath('/html/body/div[2]/div[2]/div/div[1]/div[1]/div[1]/div/div/div/div/div/div[1]/div[4]/a').click()\n",
    "time.sleep( random.uniform(1, 1.5) )\n",
    "\n",
    "# 파일 이름 변경\n",
    "down_folder = 'C:/Users/kbjung/Downloads/'\n",
    "down_xlsx = 'datalab.xlsx'\n",
    "new_down_xlsx = f'{word}.xlsx'\n",
    "os.rename(down_folder + down_xlsx, down_folder + new_down_xlsx)\n",
    "\n",
    "# 파일 이동\n",
    "shutil.move(down_folder + new_down_xlsx, des2 + new_down_xlsx)\n",
    "print(f'{new_down_xlsx} 완료.')"
   ]
  },
  {
   "cell_type": "code",
   "execution_count": 139,
   "metadata": {},
   "outputs": [],
   "source": [
    "driver.quit()"
   ]
  },
  {
   "cell_type": "markdown",
   "metadata": {},
   "source": [
    "## 그래프"
   ]
  },
  {
   "cell_type": "code",
   "execution_count": 140,
   "metadata": {},
   "outputs": [
    {
     "data": {
      "text/plain": [
       "['ky', 'tj', '음원 사재기.xlsx']"
      ]
     },
     "execution_count": 140,
     "metadata": {},
     "output_type": "execute_result"
    }
   ],
   "source": [
    "file_list = os.listdir(des2)\n",
    "file_list"
   ]
  },
  {
   "cell_type": "code",
   "execution_count": 151,
   "metadata": {},
   "outputs": [
    {
     "data": {
      "text/plain": [
       "'c:/data/Wantreez/Crawling/music/crawled_data/outlier_data/2022-05-09_2022-05-15/naver_datalab/'"
      ]
     },
     "execution_count": 151,
     "metadata": {},
     "output_type": "execute_result"
    }
   ],
   "source": [
    "des2"
   ]
  },
  {
   "cell_type": "code",
   "execution_count": 153,
   "metadata": {},
   "outputs": [
    {
     "name": "stdout",
     "output_type": "stream",
     "text": [
      "음원 사재기.png 저장 완료.\n"
     ]
    },
    {
     "name": "stderr",
     "output_type": "stream",
     "text": [
      "C:\\Users\\kbjung\\anaconda3\\lib\\site-packages\\openpyxl\\styles\\stylesheet.py:226: UserWarning: Workbook contains no default style, apply openpyxl's default\n",
      "  warn(\"Workbook contains no default style, apply openpyxl's default\")\n"
     ]
    },
    {
     "data": {
      "image/png": "[encoded data removed]",
      "text/plain": [
       "<Figure size 864x576 with 1 Axes>"
      ]
     },
     "metadata": {
      "needs_background": "light"
     },
     "output_type": "display_data"
    }
   ],
   "source": [
    "# 그래프 생성\n",
    "file_list = os.listdir(des2)\n",
    "for one in file_list:\n",
    "    if '음원 사재기.xlsx' in one:\n",
    "        temp = pd.read_excel(des2 + one)\n",
    "        temp = temp.reset_index(drop=True)\n",
    "        temp = temp.iloc[6:, :]\n",
    "        temp = temp.reset_index(drop=True)\n",
    "        temp.columns = ['날짜', '검색비율']\n",
    "\n",
    "        date_list = pd.date_range(end=start_date, periods=2, freq='W-MON')\n",
    "        start_week = str(date_list[0]).split(' ')[0]\n",
    "        end_week = str(date_list[-1]).split(' ')[0]\n",
    "        week_temp = temp[ (temp['날짜'] >= start_week) & (temp['날짜'] <= end_week)].reset_index(drop=True)\n",
    "        week_temp['검색비율'] = week_temp['검색비율'].astype(float)\n",
    "        week_temp['검색비율'] = round(week_temp['검색비율'], 1)\n",
    "        \n",
    "        colors = sns.color_palette('RdBu', week_temp.shape[0])\n",
    "        x = xticks_names2\n",
    "        y = week_temp['검색비율']\n",
    "        try:\n",
    "            interval_ratio = math.ceil( max(y) )*0.05\n",
    "            interval_ratio2 = math.ceil( max(y) )*0.2\n",
    "            plt.figure( figsize=(12,8) )\n",
    "            plt.grid(axis='y')\n",
    "            plt.bar(x, y, color=colors, width=0.5)\n",
    "            plt.title(f\"네이버 데이터 랩 검색 비율\\n{word}\", fontsize=20)\n",
    "            plt.xticks(xticks_names2 ,fontsize=15)\n",
    "            plt.yticks(fontsize=15)\n",
    "            for i in range( len(y) ):\n",
    "                    if y[i] <= interval_ratio2:\n",
    "                        plt.text(x[i], y[i]+interval_ratio, round(y[i],1), fontsize=15, color='black',\n",
    "                                horizontalalignment='center',\n",
    "                                verticalalignment='bottom')\n",
    "                    else:\n",
    "                        plt.text(x[i], y[i]-interval_ratio, round(y[i],1), fontsize=15, color='black',\n",
    "                                horizontalalignment='center',\n",
    "                                verticalalignment='top')\n",
    "            plt.savefig(des2 + f'{word}.png')\n",
    "            print(f'{word}.png 저장 완료.')\n",
    "        except:\n",
    "            pass    "
   ]
  },
  {
   "cell_type": "markdown",
   "metadata": {},
   "source": [
    "# 코드 마지막"
   ]
  }
 ],
 "metadata": {
  "interpreter": {
   "hash": "747a6424a7b8ad24e9f0aefffcedbd2ab794ab79d972802769ba8a34242ef8b4"
  },
  "kernelspec": {
   "display_name": "Python 3.9.7 ('base')",
   "language": "python",
   "name": "python3"
  },
  "language_info": {
   "codemirror_mode": {
    "name": "ipython",
    "version": 3
   },
   "file_extension": ".py",
   "mimetype": "text/x-python",
   "name": "python",
   "nbconvert_exporter": "python",
   "pygments_lexer": "ipython3",
   "version": "3.9.7"
  },
  "orig_nbformat": 4
 },
 "nbformat": 4,
 "nbformat_minor": 2
}
