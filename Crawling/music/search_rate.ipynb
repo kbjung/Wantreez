{
 "cells": [
  {
   "cell_type": "code",
   "execution_count": 1,
   "metadata": {},
   "outputs": [],
   "source": [
    "import pandas as pd\n",
    "import matplotlib.pyplot as plt\n",
    "import os"
   ]
  },
  {
   "cell_type": "code",
   "execution_count": 2,
   "metadata": {},
   "outputs": [],
   "source": [
    "import platform\n",
    "from matplotlib import font_manager, rc\n",
    "\n",
    "# 한글 폰트 지정\n",
    "path = \"C:/Windows/Fonts/malgun.ttf\"\n",
    "if platform.system() == \"Windows\":\n",
    "    font_name = font_manager.FontProperties(fname=path).get_name()\n",
    "    rc('font', family=font_name)\n",
    "elif platform.system()==\"Darwin\":\n",
    "    rc('font', family='AppleGothic')\n",
    "else:\n",
    "    print(\"Unknown System\")"
   ]
  },
  {
   "cell_type": "code",
   "execution_count": 3,
   "metadata": {},
   "outputs": [],
   "source": [
    "import matplotlib\n",
    "matplotlib.rcParams['axes.unicode_minus'] = False # 그래프에서 음수 표현 가능하도록 설정."
   ]
  },
  {
   "cell_type": "code",
   "execution_count": 4,
   "metadata": {},
   "outputs": [],
   "source": [
    "import seaborn as sns"
   ]
  },
  {
   "cell_type": "markdown",
   "metadata": {},
   "source": [
    "# 사재기"
   ]
  },
  {
   "cell_type": "code",
   "execution_count": null,
   "metadata": {},
   "outputs": [],
   "source": [
    "first_path = 'c:/data/Wantreez/Crawling/music'\n",
    "try:\n",
    "    os.chdir(first_path)\n",
    "except:\n",
    "    pass"
   ]
  },
  {
   "cell_type": "code",
   "execution_count": 5,
   "metadata": {},
   "outputs": [
    {
     "data": {
      "text/plain": [
       "'c:/data/Wantreez/Crawling/music'"
      ]
     },
     "execution_count": 5,
     "metadata": {},
     "output_type": "execute_result"
    }
   ],
   "source": [
    "code_path = os.getcwd().replace('\\\\', '/')\n",
    "code_path"
   ]
  },
  {
   "cell_type": "code",
   "execution_count": 11,
   "metadata": {},
   "outputs": [
    {
     "name": "stderr",
     "output_type": "stream",
     "text": [
      "C:\\Users\\kbjung\\anaconda3\\lib\\site-packages\\openpyxl\\styles\\stylesheet.py:226: UserWarning: Workbook contains no default style, apply openpyxl's default\n",
      "  warn(\"Workbook contains no default style, apply openpyxl's default\")\n"
     ]
    }
   ],
   "source": [
    "folder_path = '/crawled_data/outlier_data/2022-05-02_2022-05-08/'\n",
    "path = code_path + folder_path\n",
    "df = pd.read_excel(path + '20220508_음원사재기_검색비율.xlsx')"
   ]
  },
  {
   "cell_type": "code",
   "execution_count": 13,
   "metadata": {},
   "outputs": [
    {
     "data": {
      "text/html": [
       "<div>\n",
       "<style scoped>\n",
       "    .dataframe tbody tr th:only-of-type {\n",
       "        vertical-align: middle;\n",
       "    }\n",
       "\n",
       "    .dataframe tbody tr th {\n",
       "        vertical-align: top;\n",
       "    }\n",
       "\n",
       "    .dataframe thead th {\n",
       "        text-align: right;\n",
       "    }\n",
       "</style>\n",
       "<table border=\"1\" class=\"dataframe\">\n",
       "  <thead>\n",
       "    <tr style=\"text-align: right;\">\n",
       "      <th></th>\n",
       "      <th>url</th>\n",
       "      <th>http://datalab.naver.com/keyword/trendResult.naver?hashKey=N_94db590aa3970931424c41943545e518</th>\n",
       "    </tr>\n",
       "  </thead>\n",
       "  <tbody>\n",
       "    <tr>\n",
       "      <th>0</th>\n",
       "      <td>주제</td>\n",
       "      <td>통검</td>\n",
       "    </tr>\n",
       "    <tr>\n",
       "      <th>1</th>\n",
       "      <td>범위</td>\n",
       "      <td>합계</td>\n",
       "    </tr>\n",
       "    <tr>\n",
       "      <th>2</th>\n",
       "      <td>기간</td>\n",
       "      <td>일간 : 2022-02-08 ~ 2022-05-08</td>\n",
       "    </tr>\n",
       "    <tr>\n",
       "      <th>3</th>\n",
       "      <td>성별</td>\n",
       "      <td>전체(여성,남성)</td>\n",
       "    </tr>\n",
       "    <tr>\n",
       "      <th>4</th>\n",
       "      <td>연령대</td>\n",
       "      <td>전체</td>\n",
       "    </tr>\n",
       "    <tr>\n",
       "      <th>5</th>\n",
       "      <td>날짜</td>\n",
       "      <td>음원 사재기</td>\n",
       "    </tr>\n",
       "    <tr>\n",
       "      <th>6</th>\n",
       "      <td>2022-02-08</td>\n",
       "      <td>65.55555</td>\n",
       "    </tr>\n",
       "    <tr>\n",
       "      <th>7</th>\n",
       "      <td>2022-02-09</td>\n",
       "      <td>72.22222</td>\n",
       "    </tr>\n",
       "    <tr>\n",
       "      <th>8</th>\n",
       "      <td>2022-02-10</td>\n",
       "      <td>61.11111</td>\n",
       "    </tr>\n",
       "    <tr>\n",
       "      <th>9</th>\n",
       "      <td>2022-02-11</td>\n",
       "      <td>62.22222</td>\n",
       "    </tr>\n",
       "  </tbody>\n",
       "</table>\n",
       "</div>"
      ],
      "text/plain": [
       "          url  \\\n",
       "0          주제   \n",
       "1          범위   \n",
       "2          기간   \n",
       "3          성별   \n",
       "4         연령대   \n",
       "5          날짜   \n",
       "6  2022-02-08   \n",
       "7  2022-02-09   \n",
       "8  2022-02-10   \n",
       "9  2022-02-11   \n",
       "\n",
       "  http://datalab.naver.com/keyword/trendResult.naver?hashKey=N_94db590aa3970931424c41943545e518  \n",
       "0                                                 통검                                             \n",
       "1                                                 합계                                             \n",
       "2                       일간 : 2022-02-08 ~ 2022-05-08                                             \n",
       "3                                          전체(여성,남성)                                             \n",
       "4                                                 전체                                             \n",
       "5                                             음원 사재기                                             \n",
       "6                                           65.55555                                             \n",
       "7                                           72.22222                                             \n",
       "8                                           61.11111                                             \n",
       "9                                           62.22222                                             "
      ]
     },
     "execution_count": 13,
     "metadata": {},
     "output_type": "execute_result"
    }
   ],
   "source": [
    "df.head(10)"
   ]
  },
  {
   "cell_type": "code",
   "execution_count": 19,
   "metadata": {},
   "outputs": [
    {
     "data": {
      "text/html": [
       "<div>\n",
       "<style scoped>\n",
       "    .dataframe tbody tr th:only-of-type {\n",
       "        vertical-align: middle;\n",
       "    }\n",
       "\n",
       "    .dataframe tbody tr th {\n",
       "        vertical-align: top;\n",
       "    }\n",
       "\n",
       "    .dataframe thead th {\n",
       "        text-align: right;\n",
       "    }\n",
       "</style>\n",
       "<table border=\"1\" class=\"dataframe\">\n",
       "  <thead>\n",
       "    <tr style=\"text-align: right;\">\n",
       "      <th></th>\n",
       "      <th>날짜</th>\n",
       "      <th>검색비율</th>\n",
       "    </tr>\n",
       "  </thead>\n",
       "  <tbody>\n",
       "    <tr>\n",
       "      <th>0</th>\n",
       "      <td>2022-02-08</td>\n",
       "      <td>65.55555</td>\n",
       "    </tr>\n",
       "    <tr>\n",
       "      <th>1</th>\n",
       "      <td>2022-02-09</td>\n",
       "      <td>72.22222</td>\n",
       "    </tr>\n",
       "    <tr>\n",
       "      <th>2</th>\n",
       "      <td>2022-02-10</td>\n",
       "      <td>61.11111</td>\n",
       "    </tr>\n",
       "    <tr>\n",
       "      <th>3</th>\n",
       "      <td>2022-02-11</td>\n",
       "      <td>62.22222</td>\n",
       "    </tr>\n",
       "    <tr>\n",
       "      <th>4</th>\n",
       "      <td>2022-02-12</td>\n",
       "      <td>55.55555</td>\n",
       "    </tr>\n",
       "    <tr>\n",
       "      <th>...</th>\n",
       "      <td>...</td>\n",
       "      <td>...</td>\n",
       "    </tr>\n",
       "    <tr>\n",
       "      <th>85</th>\n",
       "      <td>2022-05-04</td>\n",
       "      <td>55.55555</td>\n",
       "    </tr>\n",
       "    <tr>\n",
       "      <th>86</th>\n",
       "      <td>2022-05-05</td>\n",
       "      <td>68.88888</td>\n",
       "    </tr>\n",
       "    <tr>\n",
       "      <th>87</th>\n",
       "      <td>2022-05-06</td>\n",
       "      <td>58.88888</td>\n",
       "    </tr>\n",
       "    <tr>\n",
       "      <th>88</th>\n",
       "      <td>2022-05-07</td>\n",
       "      <td>86.66666</td>\n",
       "    </tr>\n",
       "    <tr>\n",
       "      <th>89</th>\n",
       "      <td>2022-05-08</td>\n",
       "      <td>74.44444</td>\n",
       "    </tr>\n",
       "  </tbody>\n",
       "</table>\n",
       "<p>90 rows × 2 columns</p>\n",
       "</div>"
      ],
      "text/plain": [
       "            날짜      검색비율\n",
       "0   2022-02-08  65.55555\n",
       "1   2022-02-09  72.22222\n",
       "2   2022-02-10  61.11111\n",
       "3   2022-02-11  62.22222\n",
       "4   2022-02-12  55.55555\n",
       "..         ...       ...\n",
       "85  2022-05-04  55.55555\n",
       "86  2022-05-05  68.88888\n",
       "87  2022-05-06  58.88888\n",
       "88  2022-05-07  86.66666\n",
       "89  2022-05-08  74.44444\n",
       "\n",
       "[90 rows x 2 columns]"
      ]
     },
     "execution_count": 19,
     "metadata": {},
     "output_type": "execute_result"
    }
   ],
   "source": [
    "mod_df = df.iloc[6:, :].reset_index(drop=True)\n",
    "mod_df.columns = ['날짜', '검색비율']\n",
    "mod_df"
   ]
  },
  {
   "cell_type": "code",
   "execution_count": 21,
   "metadata": {},
   "outputs": [
    {
     "name": "stdout",
     "output_type": "stream",
     "text": [
      "<class 'pandas.core.frame.DataFrame'>\n",
      "RangeIndex: 90 entries, 0 to 89\n",
      "Data columns (total 2 columns):\n",
      " #   Column  Non-Null Count  Dtype \n",
      "---  ------  --------------  ----- \n",
      " 0   날짜      90 non-null     object\n",
      " 1   검색비율    90 non-null     object\n",
      "dtypes: object(2)\n",
      "memory usage: 1.5+ KB\n"
     ]
    }
   ],
   "source": [
    "mod_df.info()"
   ]
  },
  {
   "cell_type": "code",
   "execution_count": 29,
   "metadata": {},
   "outputs": [],
   "source": [
    "mod_df['검색비율'] = mod_df['검색비율'].astype(float)"
   ]
  },
  {
   "cell_type": "code",
   "execution_count": 30,
   "metadata": {},
   "outputs": [],
   "source": [
    "start_date = '2022-04-25'\n",
    "end_date = '2022-05-01'\n",
    "new_start_date = '2022-05-02'\n",
    "new_end_date = '2022-05-08'"
   ]
  },
  {
   "cell_type": "code",
   "execution_count": 31,
   "metadata": {},
   "outputs": [],
   "source": [
    "before_df = mod_df[ (mod_df['날짜'] >= start_date) & (mod_df['날짜'] <= end_date)].reset_index(drop=True)\n",
    "current_df = mod_df[ (mod_df['날짜'] >= new_start_date) & (mod_df['날짜'] <= new_end_date)].reset_index(drop=True)"
   ]
  },
  {
   "cell_type": "code",
   "execution_count": 32,
   "metadata": {},
   "outputs": [],
   "source": [
    "before_search = before_df['검색비율'].sum()\n",
    "current_search = current_df['검색비율'].sum()"
   ]
  },
  {
   "cell_type": "code",
   "execution_count": 34,
   "metadata": {},
   "outputs": [],
   "source": [
    "b_search = round(before_search, 1)\n",
    "c_search = round(current_search, 1)"
   ]
  },
  {
   "cell_type": "code",
   "execution_count": 36,
   "metadata": {},
   "outputs": [
    {
     "data": {
      "text/plain": [
       "[387.8, 455.6]"
      ]
     },
     "execution_count": 36,
     "metadata": {},
     "output_type": "execute_result"
    }
   ],
   "source": [
    "search = [b_search, c_search]\n",
    "search"
   ]
  },
  {
   "cell_type": "code",
   "execution_count": 40,
   "metadata": {},
   "outputs": [],
   "source": [
    "colors = sns.color_palette('RdBu', len(search))"
   ]
  },
  {
   "cell_type": "code",
   "execution_count": 56,
   "metadata": {},
   "outputs": [
    {
     "data": {
      "image/png": "[encoded data removed]",
      "text/plain": [
       "<Figure size 720x432 with 1 Axes>"
      ]
     },
     "metadata": {
      "needs_background": "light"
     },
     "output_type": "display_data"
    }
   ],
   "source": [
    "plt.figure( figsize=(10,6) )\n",
    "plt.grid(True, axis='y')\n",
    "plt.bar(['4월4주차', '5월1주차'], search, color=colors, width=0.3)\n",
    "plt.title('[네이버 데이터랩]음원 사재기 검색', fontdict={'size':20})\n",
    "plt.xticks(fontsize=15)\n",
    "plt.yticks(fontsize=15);"
   ]
  },
  {
   "cell_type": "code",
   "execution_count": 59,
   "metadata": {},
   "outputs": [
    {
     "data": {
      "text/html": [
       "<div>\n",
       "<style scoped>\n",
       "    .dataframe tbody tr th:only-of-type {\n",
       "        vertical-align: middle;\n",
       "    }\n",
       "\n",
       "    .dataframe tbody tr th {\n",
       "        vertical-align: top;\n",
       "    }\n",
       "\n",
       "    .dataframe thead th {\n",
       "        text-align: right;\n",
       "    }\n",
       "</style>\n",
       "<table border=\"1\" class=\"dataframe\">\n",
       "  <thead>\n",
       "    <tr style=\"text-align: right;\">\n",
       "      <th></th>\n",
       "      <th>곡</th>\n",
       "      <th>가수</th>\n",
       "      <th>순위변동평균(양수)</th>\n",
       "    </tr>\n",
       "  </thead>\n",
       "  <tbody>\n",
       "    <tr>\n",
       "      <th>0</th>\n",
       "      <td>나의 월요일</td>\n",
       "      <td>싸이 (PSY)</td>\n",
       "      <td>34.0</td>\n",
       "    </tr>\n",
       "    <tr>\n",
       "      <th>1</th>\n",
       "      <td>LOVE</td>\n",
       "      <td>몬스타엑스(Monsta X)</td>\n",
       "      <td>59.0</td>\n",
       "    </tr>\n",
       "    <tr>\n",
       "      <th>2</th>\n",
       "      <td>꽃 길</td>\n",
       "      <td>BIGBANG (빅뱅)</td>\n",
       "      <td>30.5</td>\n",
       "    </tr>\n",
       "    <tr>\n",
       "      <th>3</th>\n",
       "      <td>D-Day</td>\n",
       "      <td>휘인(Whee In)</td>\n",
       "      <td>32.0</td>\n",
       "    </tr>\n",
       "  </tbody>\n",
       "</table>\n",
       "</div>"
      ],
      "text/plain": [
       "        곡               가수  순위변동평균(양수)\n",
       "0  나의 월요일         싸이 (PSY)        34.0\n",
       "1    LOVE  몬스타엑스(Monsta X)        59.0\n",
       "2     꽃 길     BIGBANG (빅뱅)        30.5\n",
       "3   D-Day      휘인(Whee In)        32.0"
      ]
     },
     "execution_count": 59,
     "metadata": {},
     "output_type": "execute_result"
    }
   ],
   "source": [
    "title_list = ['나의 월요일', 'LOVE', '꽃 길', 'D-Day']\n",
    "artist_list = ['싸이 (PSY)', '몬스타엑스(Monsta X)', 'BIGBANG (빅뱅)', '휘인(Whee In)']\n",
    "mean_rank_list = [34, 59, 30.5, 32]\n",
    "dict = {'곡':title_list, '가수':artist_list, '순위변동평균(양수)':mean_rank_list}\n",
    "\n",
    "mean_outlier_df = pd.DataFrame(dict)\n",
    "mean_outlier_df"
   ]
  },
  {
   "cell_type": "code",
   "execution_count": 63,
   "metadata": {},
   "outputs": [
    {
     "data": {
      "image/png": "[encoded data removed]",
      "text/plain": [
       "<Figure size 864x432 with 1 Axes>"
      ]
     },
     "metadata": {
      "needs_background": "light"
     },
     "output_type": "display_data"
    }
   ],
   "source": [
    "plt.figure(figsize=(12, 6))\n",
    "colors = sns.color_palette('YlOrBr', mean_outlier_df.shape[0])\n",
    "plt.bar('곡', '순위변동평균(양수)', data=mean_outlier_df, color=colors)\n",
    "plt.title('이상치 음원 순위변동 평균', fontdict={'size':20})\n",
    "for i in range(mean_outlier_df.shape[0]):\n",
    "    plt.text(i, mean_outlier_df['순위변동평균(양수)'][i] - mean_outlier_df.shape[0]*0.2, round(mean_outlier_df['순위변동평균(양수)'][i], 1), verticalalignment='top', horizontalalignment='center', fontsize=15)\n",
    "plt.xticks(fontsize=15)\n",
    "plt.yticks(fontsize=15);"
   ]
  },
  {
   "cell_type": "markdown",
   "metadata": {},
   "source": [
    "# TJ"
   ]
  },
  {
   "cell_type": "code",
   "execution_count": 6,
   "metadata": {},
   "outputs": [
    {
     "data": {
      "text/plain": [
       "'c:/data/Wantreez/Crawling/music'"
      ]
     },
     "execution_count": 6,
     "metadata": {},
     "output_type": "execute_result"
    }
   ],
   "source": [
    "code_path = os.getcwd().replace('\\\\', '/')\n",
    "code_path"
   ]
  },
  {
   "cell_type": "code",
   "execution_count": 7,
   "metadata": {},
   "outputs": [],
   "source": [
    "folder_path = '/crawled_data/outlier_data/2022-05-02_2022-05-08/tj/'\n",
    "path = code_path + folder_path\n",
    "try:\n",
    "    os.chdir(path)\n",
    "except:\n",
    "    pass"
   ]
  },
  {
   "cell_type": "code",
   "execution_count": 8,
   "metadata": {},
   "outputs": [
    {
     "data": {
      "text/plain": [
       "['나의사춘기에게.xlsx',\n",
       " '미안해.xlsx',\n",
       " '보여줄게.xlsx',\n",
       " '사랑에연습이있었다면.xlsx',\n",
       " '시든꽃에물을주듯.xlsx',\n",
       " '주저하는연인들을위해.xlsx',\n",
       " '질풍가도.xlsx',\n",
       " '취기를빌려(취향저격그녀 X 산들).xlsx']"
      ]
     },
     "execution_count": 8,
     "metadata": {},
     "output_type": "execute_result"
    }
   ],
   "source": [
    "file_list = os.listdir()\n",
    "file_list"
   ]
  },
  {
   "cell_type": "code",
   "execution_count": 11,
   "metadata": {},
   "outputs": [
    {
     "name": "stderr",
     "output_type": "stream",
     "text": [
      "C:\\Users\\kbjung\\anaconda3\\lib\\site-packages\\openpyxl\\styles\\stylesheet.py:226: UserWarning: Workbook contains no default style, apply openpyxl's default\n",
      "  warn(\"Workbook contains no default style, apply openpyxl's default\")\n"
     ]
    },
    {
     "data": {
      "text/html": [
       "<div>\n",
       "<style scoped>\n",
       "    .dataframe tbody tr th:only-of-type {\n",
       "        vertical-align: middle;\n",
       "    }\n",
       "\n",
       "    .dataframe tbody tr th {\n",
       "        vertical-align: top;\n",
       "    }\n",
       "\n",
       "    .dataframe thead th {\n",
       "        text-align: right;\n",
       "    }\n",
       "</style>\n",
       "<table border=\"1\" class=\"dataframe\">\n",
       "  <thead>\n",
       "    <tr style=\"text-align: right;\">\n",
       "      <th></th>\n",
       "      <th>url</th>\n",
       "      <th>http://datalab.naver.com/keyword/trendResult.naver?hashKey=N_c93f3a4cf744318307c1b42eae331d19</th>\n",
       "    </tr>\n",
       "  </thead>\n",
       "  <tbody>\n",
       "    <tr>\n",
       "      <th>0</th>\n",
       "      <td>주제</td>\n",
       "      <td>통검</td>\n",
       "    </tr>\n",
       "    <tr>\n",
       "      <th>1</th>\n",
       "      <td>범위</td>\n",
       "      <td>합계</td>\n",
       "    </tr>\n",
       "    <tr>\n",
       "      <th>2</th>\n",
       "      <td>기간</td>\n",
       "      <td>일간 : 2022-02-08 ~ 2022-05-08</td>\n",
       "    </tr>\n",
       "    <tr>\n",
       "      <th>3</th>\n",
       "      <td>성별</td>\n",
       "      <td>전체(여성,남성)</td>\n",
       "    </tr>\n",
       "    <tr>\n",
       "      <th>4</th>\n",
       "      <td>연령대</td>\n",
       "      <td>전체</td>\n",
       "    </tr>\n",
       "  </tbody>\n",
       "</table>\n",
       "</div>"
      ],
      "text/plain": [
       "   url  \\\n",
       "0   주제   \n",
       "1   범위   \n",
       "2   기간   \n",
       "3   성별   \n",
       "4  연령대   \n",
       "\n",
       "  http://datalab.naver.com/keyword/trendResult.naver?hashKey=N_c93f3a4cf744318307c1b42eae331d19  \n",
       "0                                                 통검                                             \n",
       "1                                                 합계                                             \n",
       "2                       일간 : 2022-02-08 ~ 2022-05-08                                             \n",
       "3                                          전체(여성,남성)                                             \n",
       "4                                                 전체                                             "
      ]
     },
     "execution_count": 11,
     "metadata": {},
     "output_type": "execute_result"
    }
   ],
   "source": [
    "temp_name = file_list[0]\n",
    "temp = pd.read_excel(temp_name)\n",
    "temp.head()"
   ]
  },
  {
   "cell_type": "code",
   "execution_count": 12,
   "metadata": {},
   "outputs": [
    {
     "data": {
      "text/html": [
       "<div>\n",
       "<style scoped>\n",
       "    .dataframe tbody tr th:only-of-type {\n",
       "        vertical-align: middle;\n",
       "    }\n",
       "\n",
       "    .dataframe tbody tr th {\n",
       "        vertical-align: top;\n",
       "    }\n",
       "\n",
       "    .dataframe thead th {\n",
       "        text-align: right;\n",
       "    }\n",
       "</style>\n",
       "<table border=\"1\" class=\"dataframe\">\n",
       "  <thead>\n",
       "    <tr style=\"text-align: right;\">\n",
       "      <th></th>\n",
       "      <th>날짜</th>\n",
       "      <th>검색비율</th>\n",
       "    </tr>\n",
       "  </thead>\n",
       "  <tbody>\n",
       "    <tr>\n",
       "      <th>0</th>\n",
       "      <td>2022-02-08</td>\n",
       "      <td>9.05598</td>\n",
       "    </tr>\n",
       "    <tr>\n",
       "      <th>1</th>\n",
       "      <td>2022-02-09</td>\n",
       "      <td>8.06805</td>\n",
       "    </tr>\n",
       "    <tr>\n",
       "      <th>2</th>\n",
       "      <td>2022-02-10</td>\n",
       "      <td>8.31503</td>\n",
       "    </tr>\n",
       "    <tr>\n",
       "      <th>3</th>\n",
       "      <td>2022-02-11</td>\n",
       "      <td>8.94621</td>\n",
       "    </tr>\n",
       "    <tr>\n",
       "      <th>4</th>\n",
       "      <td>2022-02-12</td>\n",
       "      <td>8.12294</td>\n",
       "    </tr>\n",
       "    <tr>\n",
       "      <th>...</th>\n",
       "      <td>...</td>\n",
       "      <td>...</td>\n",
       "    </tr>\n",
       "    <tr>\n",
       "      <th>85</th>\n",
       "      <td>2022-05-04</td>\n",
       "      <td>28.01866</td>\n",
       "    </tr>\n",
       "    <tr>\n",
       "      <th>86</th>\n",
       "      <td>2022-05-05</td>\n",
       "      <td>67.89242</td>\n",
       "    </tr>\n",
       "    <tr>\n",
       "      <th>87</th>\n",
       "      <td>2022-05-06</td>\n",
       "      <td>100.0</td>\n",
       "    </tr>\n",
       "    <tr>\n",
       "      <th>88</th>\n",
       "      <td>2022-05-07</td>\n",
       "      <td>87.89791</td>\n",
       "    </tr>\n",
       "    <tr>\n",
       "      <th>89</th>\n",
       "      <td>2022-05-08</td>\n",
       "      <td>62.45883</td>\n",
       "    </tr>\n",
       "  </tbody>\n",
       "</table>\n",
       "<p>90 rows × 2 columns</p>\n",
       "</div>"
      ],
      "text/plain": [
       "            날짜      검색비율\n",
       "0   2022-02-08   9.05598\n",
       "1   2022-02-09   8.06805\n",
       "2   2022-02-10   8.31503\n",
       "3   2022-02-11   8.94621\n",
       "4   2022-02-12   8.12294\n",
       "..         ...       ...\n",
       "85  2022-05-04  28.01866\n",
       "86  2022-05-05  67.89242\n",
       "87  2022-05-06     100.0\n",
       "88  2022-05-07  87.89791\n",
       "89  2022-05-08  62.45883\n",
       "\n",
       "[90 rows x 2 columns]"
      ]
     },
     "execution_count": 12,
     "metadata": {},
     "output_type": "execute_result"
    }
   ],
   "source": [
    "mod_df = temp.iloc[6:, :].reset_index(drop=True)\n",
    "mod_df.columns = ['날짜', '검색비율']\n",
    "mod_df"
   ]
  },
  {
   "cell_type": "code",
   "execution_count": 13,
   "metadata": {},
   "outputs": [
    {
     "name": "stdout",
     "output_type": "stream",
     "text": [
      "<class 'pandas.core.frame.DataFrame'>\n",
      "RangeIndex: 90 entries, 0 to 89\n",
      "Data columns (total 2 columns):\n",
      " #   Column  Non-Null Count  Dtype \n",
      "---  ------  --------------  ----- \n",
      " 0   날짜      90 non-null     object\n",
      " 1   검색비율    90 non-null     object\n",
      "dtypes: object(2)\n",
      "memory usage: 1.5+ KB\n"
     ]
    }
   ],
   "source": [
    "mod_df.info()"
   ]
  },
  {
   "cell_type": "code",
   "execution_count": 14,
   "metadata": {},
   "outputs": [],
   "source": [
    "mod_df['검색비율'] = mod_df['검색비율'].astype(float)"
   ]
  },
  {
   "cell_type": "code",
   "execution_count": 18,
   "metadata": {},
   "outputs": [],
   "source": [
    "start_date3 = '2022-04-11'\n",
    "end_date3 = '2022-04-17'\n",
    "start_date2 = '2022-04-18'\n",
    "end_date2 = '2022-04-24'\n",
    "start_date1 = '2022-04-25'\n",
    "end_date1 = '2022-05-01'\n",
    "new_start_date = '2022-05-02'\n",
    "new_end_date = '2022-05-08'"
   ]
  },
  {
   "cell_type": "code",
   "execution_count": 19,
   "metadata": {},
   "outputs": [],
   "source": [
    "before_df3 = mod_df[ (mod_df['날짜'] >= start_date3) & (mod_df['날짜'] <= end_date3)].reset_index(drop=True)\n",
    "before_df2 = mod_df[ (mod_df['날짜'] >= start_date2) & (mod_df['날짜'] <= end_date2)].reset_index(drop=True)\n",
    "before_df1 = mod_df[ (mod_df['날짜'] >= start_date1) & (mod_df['날짜'] <= end_date1)].reset_index(drop=True)\n",
    "current_df = mod_df[ (mod_df['날짜'] >= new_start_date) & (mod_df['날짜'] <= new_end_date)].reset_index(drop=True)"
   ]
  },
  {
   "cell_type": "code",
   "execution_count": 37,
   "metadata": {},
   "outputs": [],
   "source": [
    "before_search3 = before_df3['검색비율'].sum()\n",
    "before_search2 = before_df2['검색비율'].sum()\n",
    "before_search1 = before_df1['검색비율'].sum()\n",
    "current_search = current_df['검색비율'].sum()"
   ]
  },
  {
   "cell_type": "code",
   "execution_count": 38,
   "metadata": {},
   "outputs": [],
   "source": [
    "b_search3 = round(before_search3, 1)\n",
    "b_search2 = round(before_search2, 1)\n",
    "b_search1 = round(before_search1, 1)\n",
    "c_search = round(current_search, 1)"
   ]
  },
  {
   "cell_type": "code",
   "execution_count": 39,
   "metadata": {},
   "outputs": [
    {
     "data": {
      "text/plain": [
       "[82.5, 76.2, 235.4, 404.1]"
      ]
     },
     "execution_count": 39,
     "metadata": {},
     "output_type": "execute_result"
    }
   ],
   "source": [
    "search = [b_search3, b_search2, b_search1, c_search]\n",
    "search"
   ]
  },
  {
   "cell_type": "code",
   "execution_count": 40,
   "metadata": {},
   "outputs": [],
   "source": [
    "colors = sns.color_palette('RdBu', len(search))"
   ]
  },
  {
   "cell_type": "code",
   "execution_count": 41,
   "metadata": {},
   "outputs": [
    {
     "data": {
      "text/plain": [
       "'나의사춘기에게'"
      ]
     },
     "execution_count": 41,
     "metadata": {},
     "output_type": "execute_result"
    }
   ],
   "source": [
    "title = temp_name.split('.')[0]\n",
    "title"
   ]
  },
  {
   "cell_type": "code",
   "execution_count": 43,
   "metadata": {},
   "outputs": [
    {
     "data": {
      "image/png": "[encoded data removed]",
      "text/plain": [
       "<Figure size 720x432 with 1 Axes>"
      ]
     },
     "metadata": {
      "needs_background": "light"
     },
     "output_type": "display_data"
    }
   ],
   "source": [
    "plt.figure( figsize=(10,6) )\n",
    "plt.grid(True, axis='y', zorder=0)\n",
    "plt.bar(['4월2주차', '4월3주차', '4월4주차', '5월1주차'], search, color=colors, width=0.3, zorder=1)\n",
    "plt.title(f'[네이버 데이터랩]{title}', fontdict={'size':20})\n",
    "plt.xticks(fontsize=15)\n",
    "plt.yticks(fontsize=15);"
   ]
  },
  {
   "cell_type": "code",
   "execution_count": 44,
   "metadata": {},
   "outputs": [
    {
     "name": "stderr",
     "output_type": "stream",
     "text": [
      "C:\\Users\\kbjung\\anaconda3\\lib\\site-packages\\openpyxl\\styles\\stylesheet.py:226: UserWarning: Workbook contains no default style, apply openpyxl's default\n",
      "  warn(\"Workbook contains no default style, apply openpyxl's default\")\n"
     ]
    },
    {
     "data": {
      "image/png": "[encoded data removed]",
      "text/plain": [
       "<Figure size 720x432 with 1 Axes>"
      ]
     },
     "metadata": {
      "needs_background": "light"
     },
     "output_type": "display_data"
    },
    {
     "data": {
      "image/png": "[encoded data removed]",
      "text/plain": [
       "<Figure size 720x432 with 1 Axes>"
      ]
     },
     "metadata": {
      "needs_background": "light"
     },
     "output_type": "display_data"
    },
    {
     "data": {
      "image/png": "[encoded data removed]",
      "text/plain": [
       "<Figure size 720x432 with 1 Axes>"
      ]
     },
     "metadata": {
      "needs_background": "light"
     },
     "output_type": "display_data"
    },
    {
     "data": {
      "image/png": "[encoded data removed]",
      "text/plain": [
       "<Figure size 720x432 with 1 Axes>"
      ]
     },
     "metadata": {
      "needs_background": "light"
     },
     "output_type": "display_data"
    },
    {
     "data": {
      "image/png": "[encoded data removed]",
      "text/plain": [
       "<Figure size 720x432 with 1 Axes>"
      ]
     },
     "metadata": {
      "needs_background": "light"
     },
     "output_type": "display_data"
    },
    {
     "data": {
      "image/png": "[encoded data removed]",
      "text/plain": [
       "<Figure size 720x432 with 1 Axes>"
      ]
     },
     "metadata": {
      "needs_background": "light"
     },
     "output_type": "display_data"
    },
    {
     "data": {
      "image/png": "[encoded data removed]",
      "text/plain": [
       "<Figure size 720x432 with 1 Axes>"
      ]
     },
     "metadata": {
      "needs_background": "light"
     },
     "output_type": "display_data"
    },
    {
     "data": {
      "image/png": "[encoded data removed]",
      "text/plain": [
       "<Figure size 720x432 with 1 Axes>"
      ]
     },
     "metadata": {
      "needs_background": "light"
     },
     "output_type": "display_data"
    }
   ],
   "source": [
    "for one_file in file_list:\n",
    "    temp = pd.read_excel(one_file)\n",
    "    mod_df = temp.iloc[6:, :].reset_index(drop=True)\n",
    "    mod_df.columns = ['날짜', '검색비율']\n",
    "    mod_df['검색비율'] = mod_df['검색비율'].astype(float)\n",
    "    start_date3 = '2022-04-11'\n",
    "    end_date3 = '2022-04-17'\n",
    "    start_date2 = '2022-04-18'\n",
    "    end_date2 = '2022-04-24'\n",
    "    start_date1 = '2022-04-25'\n",
    "    end_date1 = '2022-05-01'\n",
    "    new_start_date = '2022-05-02'\n",
    "    new_end_date = '2022-05-08'\n",
    "    before_df3 = mod_df[ (mod_df['날짜'] >= start_date3) & (mod_df['날짜'] <= end_date3)].reset_index(drop=True)\n",
    "    before_df2 = mod_df[ (mod_df['날짜'] >= start_date2) & (mod_df['날짜'] <= end_date2)].reset_index(drop=True)\n",
    "    before_df1 = mod_df[ (mod_df['날짜'] >= start_date1) & (mod_df['날짜'] <= end_date1)].reset_index(drop=True)\n",
    "    current_df = mod_df[ (mod_df['날짜'] >= new_start_date) & (mod_df['날짜'] <= new_end_date)].reset_index(drop=True)\n",
    "    before_search3 = before_df3['검색비율'].sum()\n",
    "    before_search2 = before_df2['검색비율'].sum()\n",
    "    before_search1 = before_df1['검색비율'].sum()\n",
    "    current_search = current_df['검색비율'].sum()\n",
    "    b_search3 = round(before_search3, 1)\n",
    "    b_search2 = round(before_search2, 1)\n",
    "    b_search1 = round(before_search1, 1)\n",
    "    c_search = round(current_search, 1)\n",
    "    search = [b_search3, b_search2, b_search1, c_search]\n",
    "    colors = sns.color_palette('RdBu', len(search))\n",
    "    title = one_file.split('.')[0]\n",
    "    plt.figure( figsize=(10,6) )\n",
    "    plt.grid(True, axis='y', zorder=0)\n",
    "    plt.bar(['4월2주차', '4월3주차', '4월4주차', '5월1주차'], search, color=colors, width=0.3, zorder=1)\n",
    "    plt.title(f'[네이버 데이터랩]{title}', fontdict={'size':20})\n",
    "    plt.xticks(fontsize=15)\n",
    "    plt.yticks(fontsize=15);"
   ]
  },
  {
   "cell_type": "code",
   "execution_count": null,
   "metadata": {},
   "outputs": [],
   "source": []
  }
 ],
 "metadata": {
  "interpreter": {
   "hash": "747a6424a7b8ad24e9f0aefffcedbd2ab794ab79d972802769ba8a34242ef8b4"
  },
  "kernelspec": {
   "display_name": "Python 3.9.7 ('base')",
   "language": "python",
   "name": "python3"
  },
  "language_info": {
   "codemirror_mode": {
    "name": "ipython",
    "version": 3
   },
   "file_extension": ".py",
   "mimetype": "text/x-python",
   "name": "python",
   "nbconvert_exporter": "python",
   "pygments_lexer": "ipython3",
   "version": "3.9.7"
  },
  "orig_nbformat": 4
 },
 "nbformat": 4,
 "nbformat_minor": 2
}
