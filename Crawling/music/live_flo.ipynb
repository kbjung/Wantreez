{
 "cells": [
  {
   "cell_type": "markdown",
   "metadata": {},
   "source": [
    "# FLO Top100 Daily 수집\n",
    "* 매시간"
   ]
  },
  {
   "cell_type": "markdown",
   "metadata": {},
   "source": [
    "## 필요 라이브러리 로드"
   ]
  },
  {
   "cell_type": "code",
   "execution_count": 93,
   "metadata": {},
   "outputs": [],
   "source": [
    "from selenium import webdriver\n",
    "from bs4 import BeautifulSoup as bs\n",
    "import pandas as pd\n",
    "from datetime import datetime\n",
    "from selenium.webdriver import ActionChains\n",
    "import time, os\n",
    "import chromedriver_autoinstaller as ca"
   ]
  },
  {
   "cell_type": "markdown",
   "metadata": {},
   "source": [
    "## 필요한 파일 확인 및 설치"
   ]
  },
  {
   "cell_type": "markdown",
   "metadata": {},
   "source": [
    "### 현재 경로 확인"
   ]
  },
  {
   "cell_type": "code",
   "execution_count": 84,
   "metadata": {},
   "outputs": [
    {
     "data": {
      "text/plain": [
       "'c:/data/Wantreez/Crawling/music'"
      ]
     },
     "execution_count": 84,
     "metadata": {},
     "output_type": "execute_result"
    }
   ],
   "source": [
    "# 현재 경로 확인\n",
    "code_path = os.getcwd().replace('\\\\', '/')\n",
    "code_path"
   ]
  },
  {
   "cell_type": "code",
   "execution_count": 85,
   "metadata": {},
   "outputs": [],
   "source": [
    "# 수집한 파일 저장할 폴더 생성\n",
    "crawled_folder_path = code_path + '/crawled_data/live_flo'\n",
    "os.makedirs(crawled_folder_path, exist_ok=True)"
   ]
  },
  {
   "cell_type": "markdown",
   "metadata": {},
   "source": [
    "### chrome driver 설치 확인"
   ]
  },
  {
   "cell_type": "code",
   "execution_count": 86,
   "metadata": {},
   "outputs": [],
   "source": [
    "# USB error 메세지 발생 해결을 위한 코드\n",
    "options = webdriver.ChromeOptions()\n",
    "options.add_experimental_option(\"excludeSwitches\", [\"enable-logging\"])"
   ]
  },
  {
   "cell_type": "code",
   "execution_count": 87,
   "metadata": {},
   "outputs": [
    {
     "data": {
      "text/plain": [
       "'100'"
      ]
     },
     "execution_count": 87,
     "metadata": {},
     "output_type": "execute_result"
    }
   ],
   "source": [
    "# 현재 크롬 버전 확인\n",
    "chrome_ver = ca.get_chrome_version().split('.')[0]\n",
    "chrome_ver"
   ]
  },
  {
   "cell_type": "code",
   "execution_count": 111,
   "metadata": {},
   "outputs": [],
   "source": [
    "# 크롬 드라이버 확인 및 설치\n",
    "ca.install(True)\n",
    "driver = webdriver.Chrome(options=options)"
   ]
  },
  {
   "cell_type": "markdown",
   "metadata": {},
   "source": [
    "## 페이지 접속"
   ]
  },
  {
   "cell_type": "code",
   "execution_count": 112,
   "metadata": {},
   "outputs": [],
   "source": [
    "url = 'https://www.music-flo.com/browse'\n",
    "# driver = webdriver.Chrome('C:/data/Wantreez/Crawling/chromedriver.exe')\n",
    "driver.get(url)\n",
    "driver.implicitly_wait(3)\n",
    "driver.maximize_window()"
   ]
  },
  {
   "cell_type": "code",
   "execution_count": 113,
   "metadata": {},
   "outputs": [
    {
     "name": "stderr",
     "output_type": "stream",
     "text": [
      "C:\\Users\\kbjung\\AppData\\Local\\Temp/ipykernel_8744/3001446198.py:2: DeprecationWarning: find_element_by_xpath is deprecated. Please use find_element(by=By.XPATH, value=xpath) instead\n",
      "  close_button = driver.find_element_by_xpath('//*[@id=\"app\"]/div[4]/div[2]/button')\n",
      "C:\\Users\\kbjung\\AppData\\Local\\Temp/ipykernel_8744/3001446198.py:5: DeprecationWarning: find_element_by_xpath is deprecated. Please use find_element(by=By.XPATH, value=xpath) instead\n",
      "  more_view_button = driver.find_element_by_xpath('//*[@id=\"browseRank\"]/div[2]/div/button')\n",
      "C:\\Users\\kbjung\\AppData\\Local\\Temp/ipykernel_8744/3001446198.py:11: DeprecationWarning: find_element_by_xpath is deprecated. Please use find_element(by=By.XPATH, value=xpath) instead\n",
      "  ex = driver.find_element_by_xpath('//*[@id=\"browseGenre\"]/div[2]/ul')\n",
      "C:\\Users\\kbjung\\AppData\\Local\\Temp/ipykernel_8744/3001446198.py:12: DeprecationWarning: find_element_by_xpath is deprecated. Please use find_element(by=By.XPATH, value=xpath) instead\n",
      "  more_view_button = driver.find_element_by_xpath('//*[@id=\"browseRank\"]/div[2]/div/button')\n"
     ]
    }
   ],
   "source": [
    "# 더보기 버튼\n",
    "close_button = driver.find_element_by_xpath('//*[@id=\"app\"]/div[4]/div[2]/button')\n",
    "close_button.click()\n",
    "\n",
    "more_view_button = driver.find_element_by_xpath('//*[@id=\"browseRank\"]/div[2]/div/button')\n",
    "ActionChains(driver).move_to_element(more_view_button).perform()\n",
    "try:\n",
    "    more_view_button.click()\n",
    "    time.sleep(3)\n",
    "except:\n",
    "    ex = driver.find_element_by_xpath('//*[@id=\"browseGenre\"]/div[2]/ul')\n",
    "    more_view_button = driver.find_element_by_xpath('//*[@id=\"browseRank\"]/div[2]/div/button')\n",
    "    ActionChains(driver).move_to_element(ex).perform()\n",
    "    more_view_button.click()\n",
    "    time.sleep(3)"
   ]
  },
  {
   "cell_type": "code",
   "execution_count": 64,
   "metadata": {},
   "outputs": [
    {
     "name": "stderr",
     "output_type": "stream",
     "text": [
      "C:\\Users\\kbjung\\AppData\\Local\\Temp/ipykernel_8744/2775501430.py:3: DeprecationWarning: find_element_by_css_selector is deprecated. Please use find_element(by=By.CSS_SELECTOR, value=css_selector) instead\n",
      "  body = driver.find_element_by_css_selector('body')\n"
     ]
    }
   ],
   "source": [
    "# # 페이지 스크롤 다운\n",
    "# # 더보기 버튼 화면상 보여야 클릭 동작 작동함. 화면상에서 페이지 다운으로 더보기 버튼이 보이게 함.\n",
    "# body = driver.find_element_by_css_selector('body')\n",
    "# body.send_keys(Keys.PAGE_DOWN)\n",
    "# driver.implicitly_wait(1)\n",
    "# time.sleep(2)"
   ]
  },
  {
   "cell_type": "code",
   "execution_count": 65,
   "metadata": {},
   "outputs": [
    {
     "name": "stderr",
     "output_type": "stream",
     "text": [
      "C:\\Users\\kbjung\\AppData\\Local\\Temp/ipykernel_8744/3361281071.py:2: DeprecationWarning: find_element_by_xpath is deprecated. Please use find_element(by=By.XPATH, value=xpath) instead\n",
      "  more_view_button = driver.find_element_by_xpath('//*[@id=\"browseRank\"]/div[2]/div/button')\n"
     ]
    }
   ],
   "source": [
    "# 더보기 버튼\n",
    "more_view_button = driver.find_element_by_xpath('//*[@id=\"browseRank\"]/div[2]/div/button')\n",
    "more_view_button.click()\n",
    "time.sleep(3)"
   ]
  },
  {
   "cell_type": "code",
   "execution_count": 66,
   "metadata": {},
   "outputs": [
    {
     "data": {
      "text/plain": [
       "'FLO | 지금 당신의 음악, 플로'"
      ]
     },
     "execution_count": 66,
     "metadata": {},
     "output_type": "execute_result"
    }
   ],
   "source": [
    "# 수프에 담기\n",
    "soup = bs(driver.page_source, 'lxml')\n",
    "soup.title.text"
   ]
  },
  {
   "cell_type": "code",
   "execution_count": 67,
   "metadata": {},
   "outputs": [],
   "source": [
    "# webdriver quit\n",
    "driver.quit()"
   ]
  },
  {
   "cell_type": "markdown",
   "metadata": {},
   "source": [
    "## 순위 날짜 수집"
   ]
  },
  {
   "cell_type": "code",
   "execution_count": 68,
   "metadata": {},
   "outputs": [
    {
     "data": {
      "text/plain": [
       "'2022-04-28'"
      ]
     },
     "execution_count": 68,
     "metadata": {},
     "output_type": "execute_result"
    }
   ],
   "source": [
    "# 순위 날짜\n",
    "rank_date = datetime.today().strftime('%Y-%m-%d')\n",
    "rank_date"
   ]
  },
  {
   "cell_type": "code",
   "execution_count": 69,
   "metadata": {},
   "outputs": [
    {
     "data": {
      "text/plain": [
       "100"
      ]
     },
     "execution_count": 69,
     "metadata": {},
     "output_type": "execute_result"
    }
   ],
   "source": [
    "repeat_rank_date_list = []\n",
    "for i in range(100):\n",
    "    repeat_rank_date_list.append(rank_date)\n",
    "len(repeat_rank_date_list)"
   ]
  },
  {
   "cell_type": "markdown",
   "metadata": {},
   "source": [
    "## 곡 제목 수집"
   ]
  },
  {
   "cell_type": "code",
   "execution_count": 70,
   "metadata": {},
   "outputs": [
    {
     "data": {
      "text/plain": [
       "100"
      ]
     },
     "execution_count": 70,
     "metadata": {},
     "output_type": "execute_result"
    }
   ],
   "source": [
    "# song_title\n",
    "song_titles = soup.find_all('strong', 'tit__text')\n",
    "len(song_titles)"
   ]
  },
  {
   "cell_type": "code",
   "execution_count": 71,
   "metadata": {},
   "outputs": [
    {
     "data": {
      "text/plain": [
       "100"
      ]
     },
     "execution_count": 71,
     "metadata": {},
     "output_type": "execute_result"
    }
   ],
   "source": [
    "title_list = []\n",
    "for one in song_titles:\n",
    "    temp = one.text.strip()\n",
    "    title_list.append(temp)\n",
    "len(title_list)"
   ]
  },
  {
   "cell_type": "code",
   "execution_count": 72,
   "metadata": {},
   "outputs": [
    {
     "data": {
      "text/plain": [
       "['Starlight',\n",
       " 'OHAYO MY NIGHT',\n",
       " '스물다섯, 스물하나',\n",
       " \"Stronger (What Doesn't Kill You)\",\n",
       " '2002',\n",
       " 'Permission to Dance',\n",
       " '추억은 만남보다 이별에 남아',\n",
       " '낙하 (with 아이유)',\n",
       " '비가 오는 날엔 (2021)',\n",
       " \"롤린 (Rollin')\",\n",
       " '그날에 나는 맘이 편했을까',\n",
       " '만남은 쉽고 이별은 어려워 (Feat. Leellamarz) (Prod. TOIL)',\n",
       " '봄 사랑 벚꽃 말고',\n",
       " '밝게 빛나는 별이 되어 비춰줄게',\n",
       " '흰눈',\n",
       " '자가격리 (Feat. Paloalto)',\n",
       " '겨울잠',\n",
       " '흔들리는 꽃들 속에서 네 샴푸향이 느껴진거야',\n",
       " '내가 아니라도',\n",
       " \"Can't Control Myself\"]"
      ]
     },
     "execution_count": 72,
     "metadata": {},
     "output_type": "execute_result"
    }
   ],
   "source": [
    "title_list[80:100]"
   ]
  },
  {
   "cell_type": "markdown",
   "metadata": {},
   "source": [
    "## 가수 수집"
   ]
  },
  {
   "cell_type": "code",
   "execution_count": 73,
   "metadata": {},
   "outputs": [
    {
     "data": {
      "text/plain": [
       "100"
      ]
     },
     "execution_count": 73,
     "metadata": {},
     "output_type": "execute_result"
    }
   ],
   "source": [
    "# artist\n",
    "artists = soup.find_all('a', 'last')\n",
    "len(artists)"
   ]
  },
  {
   "cell_type": "code",
   "execution_count": 74,
   "metadata": {},
   "outputs": [
    {
     "data": {
      "text/plain": [
       "100"
      ]
     },
     "execution_count": 74,
     "metadata": {},
     "output_type": "execute_result"
    }
   ],
   "source": [
    "artist_list = []\n",
    "for one in artists:\n",
    "    # temp = eval(one.attrs['data-rake'])['artistId'] # eval : str -> dict 변환 함수\n",
    "    temp = one.text.strip()\n",
    "    artist_list.append(temp)\n",
    "len(artist_list)"
   ]
  },
  {
   "cell_type": "code",
   "execution_count": 75,
   "metadata": {},
   "outputs": [
    {
     "data": {
      "text/plain": [
       "['태일 (TAEIL)',\n",
       " 'PATEKO (파테코)',\n",
       " '자우림',\n",
       " 'Kelly Clarkson',\n",
       " 'Anne-Marie',\n",
       " '방탄소년단',\n",
       " '정동하',\n",
       " 'AKMU (악뮤)',\n",
       " '헤이즈 (Heize)',\n",
       " '브레이브걸스',\n",
       " '이예준',\n",
       " '베이식 (Basick)',\n",
       " '아이유 (IU)',\n",
       " '송이한',\n",
       " '먼데이 키즈 (Monday Kiz)',\n",
       " 'TOIL',\n",
       " '아이유 (IU)',\n",
       " '장범준',\n",
       " '주호',\n",
       " '태연 (TAEYEON)']"
      ]
     },
     "execution_count": 75,
     "metadata": {},
     "output_type": "execute_result"
    }
   ],
   "source": [
    "artist_list[80:]"
   ]
  },
  {
   "cell_type": "markdown",
   "metadata": {},
   "source": [
    "## 앨범 수집"
   ]
  },
  {
   "cell_type": "code",
   "execution_count": 76,
   "metadata": {},
   "outputs": [
    {
     "data": {
      "text/plain": [
       "100"
      ]
     },
     "execution_count": 76,
     "metadata": {},
     "output_type": "execute_result"
    }
   ],
   "source": [
    "# album\n",
    "albums = soup.find_all('p', 'album')\n",
    "len(albums)"
   ]
  },
  {
   "cell_type": "code",
   "execution_count": 77,
   "metadata": {},
   "outputs": [
    {
     "data": {
      "text/plain": [
       "100"
      ]
     },
     "execution_count": 77,
     "metadata": {},
     "output_type": "execute_result"
    }
   ],
   "source": [
    "album_list = []\n",
    "for one in albums:\n",
    "    temp = one.text.strip()\n",
    "    album_list.append(temp)\n",
    "len(album_list)"
   ]
  },
  {
   "cell_type": "code",
   "execution_count": 78,
   "metadata": {},
   "outputs": [
    {
     "data": {
      "text/plain": [
       "['스물다섯 스물하나 OST Part 1',\n",
       " 'OHAYO MY NIGHT',\n",
       " 'Goodbye, grief.',\n",
       " 'Stronger (Deluxe Version)',\n",
       " 'Speak Your Mind  (Deluxe)',\n",
       " 'Butter / Permission to Dance',\n",
       " '추억은 만남보다 이별에 남아',\n",
       " 'NEXT EPISODE',\n",
       " '비가 오는 날엔 (2021)',\n",
       " \"Rollin'\",\n",
       " '그날에 나는 맘이 편했을까',\n",
       " '쇼미더머니 10 Episode 3',\n",
       " '봄 사랑 벚꽃 말고',\n",
       " '밝게 빛나는 별이 되어 비춰줄게',\n",
       " '흰눈',\n",
       " '자가격리',\n",
       " '조각집',\n",
       " '멜로가 체질 OST Part 3',\n",
       " '내가 아니라도',\n",
       " \"Can't Control Myself\"]"
      ]
     },
     "execution_count": 78,
     "metadata": {},
     "output_type": "execute_result"
    }
   ],
   "source": [
    "album_list[80:]"
   ]
  },
  {
   "cell_type": "markdown",
   "metadata": {},
   "source": [
    "## 순위 생성"
   ]
  },
  {
   "cell_type": "code",
   "execution_count": 79,
   "metadata": {},
   "outputs": [
    {
     "data": {
      "text/plain": [
       "100"
      ]
     },
     "execution_count": 79,
     "metadata": {},
     "output_type": "execute_result"
    }
   ],
   "source": [
    "# rank\n",
    "rank_list = []\n",
    "for i in range(1, 101):\n",
    "    rank_list.append(i)\n",
    "\n",
    "len(rank_list)"
   ]
  },
  {
   "cell_type": "markdown",
   "metadata": {},
   "source": [
    "## df 생성"
   ]
  },
  {
   "cell_type": "code",
   "execution_count": 80,
   "metadata": {},
   "outputs": [],
   "source": [
    "# make df\n",
    "dict = {'날짜':repeat_rank_date_list, '순위':rank_list, '곡':title_list, '가수': artist_list, '앨범':album_list}\n",
    "df = pd.DataFrame(dict)"
   ]
  },
  {
   "cell_type": "code",
   "execution_count": 81,
   "metadata": {},
   "outputs": [
    {
     "data": {
      "text/html": [
       "<div>\n",
       "<style scoped>\n",
       "    .dataframe tbody tr th:only-of-type {\n",
       "        vertical-align: middle;\n",
       "    }\n",
       "\n",
       "    .dataframe tbody tr th {\n",
       "        vertical-align: top;\n",
       "    }\n",
       "\n",
       "    .dataframe thead th {\n",
       "        text-align: right;\n",
       "    }\n",
       "</style>\n",
       "<table border=\"1\" class=\"dataframe\">\n",
       "  <thead>\n",
       "    <tr style=\"text-align: right;\">\n",
       "      <th></th>\n",
       "      <th>날짜</th>\n",
       "      <th>순위</th>\n",
       "      <th>곡</th>\n",
       "      <th>가수</th>\n",
       "      <th>앨범</th>\n",
       "    </tr>\n",
       "  </thead>\n",
       "  <tbody>\n",
       "    <tr>\n",
       "      <th>0</th>\n",
       "      <td>2022-04-28</td>\n",
       "      <td>1</td>\n",
       "      <td>봄여름가을겨울 (Still Life)</td>\n",
       "      <td>BIGBANG (빅뱅)</td>\n",
       "      <td>봄여름가을겨울 (Still Life)</td>\n",
       "    </tr>\n",
       "    <tr>\n",
       "      <th>1</th>\n",
       "      <td>2022-04-28</td>\n",
       "      <td>2</td>\n",
       "      <td>LOVE DIVE</td>\n",
       "      <td>IVE (아이브)</td>\n",
       "      <td>LOVE DIVE</td>\n",
       "    </tr>\n",
       "    <tr>\n",
       "      <th>2</th>\n",
       "      <td>2022-04-28</td>\n",
       "      <td>3</td>\n",
       "      <td>TOMBOY</td>\n",
       "      <td>(여자)아이들</td>\n",
       "      <td>I NEVER DIE</td>\n",
       "    </tr>\n",
       "    <tr>\n",
       "      <th>3</th>\n",
       "      <td>2022-04-28</td>\n",
       "      <td>4</td>\n",
       "      <td>사랑인가 봐</td>\n",
       "      <td>멜로망스</td>\n",
       "      <td>사랑인가 봐 (사내맞선 OST 스페셜 트랙)</td>\n",
       "    </tr>\n",
       "    <tr>\n",
       "      <th>4</th>\n",
       "      <td>2022-04-28</td>\n",
       "      <td>5</td>\n",
       "      <td>Feel My Rhythm</td>\n",
       "      <td>Red Velvet (레드벨벳)</td>\n",
       "      <td>‘The ReVe Festival 2022 - Feel My Rhythm’</td>\n",
       "    </tr>\n",
       "    <tr>\n",
       "      <th>...</th>\n",
       "      <td>...</td>\n",
       "      <td>...</td>\n",
       "      <td>...</td>\n",
       "      <td>...</td>\n",
       "      <td>...</td>\n",
       "    </tr>\n",
       "    <tr>\n",
       "      <th>95</th>\n",
       "      <td>2022-04-28</td>\n",
       "      <td>96</td>\n",
       "      <td>자가격리 (Feat. Paloalto)</td>\n",
       "      <td>TOIL</td>\n",
       "      <td>자가격리</td>\n",
       "    </tr>\n",
       "    <tr>\n",
       "      <th>96</th>\n",
       "      <td>2022-04-28</td>\n",
       "      <td>97</td>\n",
       "      <td>겨울잠</td>\n",
       "      <td>아이유 (IU)</td>\n",
       "      <td>조각집</td>\n",
       "    </tr>\n",
       "    <tr>\n",
       "      <th>97</th>\n",
       "      <td>2022-04-28</td>\n",
       "      <td>98</td>\n",
       "      <td>흔들리는 꽃들 속에서 네 샴푸향이 느껴진거야</td>\n",
       "      <td>장범준</td>\n",
       "      <td>멜로가 체질 OST Part 3</td>\n",
       "    </tr>\n",
       "    <tr>\n",
       "      <th>98</th>\n",
       "      <td>2022-04-28</td>\n",
       "      <td>99</td>\n",
       "      <td>내가 아니라도</td>\n",
       "      <td>주호</td>\n",
       "      <td>내가 아니라도</td>\n",
       "    </tr>\n",
       "    <tr>\n",
       "      <th>99</th>\n",
       "      <td>2022-04-28</td>\n",
       "      <td>100</td>\n",
       "      <td>Can't Control Myself</td>\n",
       "      <td>태연 (TAEYEON)</td>\n",
       "      <td>Can't Control Myself</td>\n",
       "    </tr>\n",
       "  </tbody>\n",
       "</table>\n",
       "<p>100 rows × 5 columns</p>\n",
       "</div>"
      ],
      "text/plain": [
       "            날짜   순위                         곡                 가수  \\\n",
       "0   2022-04-28    1      봄여름가을겨울 (Still Life)       BIGBANG (빅뱅)   \n",
       "1   2022-04-28    2                 LOVE DIVE          IVE (아이브)   \n",
       "2   2022-04-28    3                    TOMBOY            (여자)아이들   \n",
       "3   2022-04-28    4                    사랑인가 봐               멜로망스   \n",
       "4   2022-04-28    5            Feel My Rhythm  Red Velvet (레드벨벳)   \n",
       "..         ...  ...                       ...                ...   \n",
       "95  2022-04-28   96     자가격리 (Feat. Paloalto)               TOIL   \n",
       "96  2022-04-28   97                       겨울잠           아이유 (IU)   \n",
       "97  2022-04-28   98  흔들리는 꽃들 속에서 네 샴푸향이 느껴진거야                장범준   \n",
       "98  2022-04-28   99                   내가 아니라도                 주호   \n",
       "99  2022-04-28  100      Can't Control Myself       태연 (TAEYEON)   \n",
       "\n",
       "                                           앨범  \n",
       "0                        봄여름가을겨울 (Still Life)  \n",
       "1                                   LOVE DIVE  \n",
       "2                                 I NEVER DIE  \n",
       "3                    사랑인가 봐 (사내맞선 OST 스페셜 트랙)  \n",
       "4   ‘The ReVe Festival 2022 - Feel My Rhythm’  \n",
       "..                                        ...  \n",
       "95                                       자가격리  \n",
       "96                                        조각집  \n",
       "97                          멜로가 체질 OST Part 3  \n",
       "98                                    내가 아니라도  \n",
       "99                       Can't Control Myself  \n",
       "\n",
       "[100 rows x 5 columns]"
      ]
     },
     "execution_count": 81,
     "metadata": {},
     "output_type": "execute_result"
    }
   ],
   "source": [
    "df"
   ]
  },
  {
   "cell_type": "markdown",
   "metadata": {},
   "source": [
    "## 파일 생성"
   ]
  },
  {
   "cell_type": "code",
   "execution_count": 82,
   "metadata": {},
   "outputs": [
    {
     "name": "stdout",
     "output_type": "stream",
     "text": [
      "live_flo_20220428_092700.xlsx 파일 생성 완료\n"
     ]
    }
   ],
   "source": [
    "# make excel\n",
    "today_date = datetime.today().strftime(\"%Y%m%d_%H%M%S\")\n",
    "file_name = f'live_flo_{today_date}.xlsx'\n",
    "path = crawled_folder_path + '/'\n",
    "df.to_excel(path + file_name, index=False, encoding='utf-8')\n",
    "\n",
    "print(f\"{file_name} 파일 생성 완료\")"
   ]
  },
  {
   "cell_type": "markdown",
   "metadata": {},
   "source": [
    "# 코드 마지막"
   ]
  }
 ],
 "metadata": {
  "interpreter": {
   "hash": "513dc2e41d739bb2c947903f3c0bbf636d03aa53ab50e61c694a27481c81805e"
  },
  "kernelspec": {
   "display_name": "Python 3.8.8 ('base')",
   "language": "python",
   "name": "python3"
  },
  "language_info": {
   "codemirror_mode": {
    "name": "ipython",
    "version": 3
   },
   "file_extension": ".py",
   "mimetype": "text/x-python",
   "name": "python",
   "nbconvert_exporter": "python",
   "pygments_lexer": "ipython3",
   "version": "3.9.7"
  },
  "orig_nbformat": 4
 },
 "nbformat": 4,
 "nbformat_minor": 2
}
