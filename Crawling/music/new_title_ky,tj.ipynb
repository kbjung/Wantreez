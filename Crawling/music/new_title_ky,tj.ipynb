{
 "cells": [
  {
   "cell_type": "markdown",
   "metadata": {},
   "source": [
    "# 노래방 New Title List"
   ]
  },
  {
   "cell_type": "markdown",
   "metadata": {},
   "source": [
    "## 필요 라이브러리 로드"
   ]
  },
  {
   "cell_type": "code",
   "execution_count": 9,
   "metadata": {},
   "outputs": [],
   "source": [
    "import pandas as pd\n",
    "import matplotlib.pyplot as plt\n",
    "import os, math"
   ]
  },
  {
   "cell_type": "code",
   "execution_count": 10,
   "metadata": {},
   "outputs": [],
   "source": [
    "import platform\n",
    "from matplotlib import font_manager, rc\n",
    "\n",
    "# 한글 폰트 지정\n",
    "path = \"C:/Windows/Fonts/malgun.ttf\"\n",
    "if platform.system() == \"Windows\":\n",
    "    font_name = font_manager.FontProperties(fname=path).get_name()\n",
    "    rc('font', family=font_name)\n",
    "elif platform.system()==\"Darwin\":\n",
    "    rc('font', family='AppleGothic')\n",
    "else:\n",
    "    print(\"Unknown System\")"
   ]
  },
  {
   "cell_type": "code",
   "execution_count": 11,
   "metadata": {},
   "outputs": [],
   "source": [
    "import matplotlib\n",
    "matplotlib.rcParams['axes.unicode_minus'] = False # 그래프에서 음수 표현 가능하도록 설정."
   ]
  },
  {
   "cell_type": "markdown",
   "metadata": {},
   "source": [
    "## 파일 불러오기"
   ]
  },
  {
   "cell_type": "code",
   "execution_count": 31,
   "metadata": {},
   "outputs": [],
   "source": [
    "f_path = 'c:/data/Wantreez/Crawling/music'\n",
    "try:\n",
    "    os.chdir(f_path)\n",
    "except:\n",
    "    pass"
   ]
  },
  {
   "cell_type": "markdown",
   "metadata": {},
   "source": [
    "## 날짜 설정"
   ]
  },
  {
   "cell_type": "code",
   "execution_count": 32,
   "metadata": {},
   "outputs": [],
   "source": [
    "# 전 주 파일 날짜(일주일)\n",
    "start_date = '2022-05-02'\n",
    "end_date = '2022-05-08'\n",
    "# 비교할 파일 날짜(일주일)\n",
    "new_start_date = '2022-05-09'\n",
    "new_end_date = '2022-05-15'\n",
    "new_dates_df = pd.date_range(new_start_date, new_end_date).astype(str)"
   ]
  },
  {
   "cell_type": "code",
   "execution_count": 33,
   "metadata": {},
   "outputs": [
    {
     "data": {
      "text/plain": [
       "'c:/data/Wantreez/Crawling/music'"
      ]
     },
     "execution_count": 33,
     "metadata": {},
     "output_type": "execute_result"
    }
   ],
   "source": [
    "code_path = os.getcwd().replace('\\\\', '/')\n",
    "code_path"
   ]
  },
  {
   "cell_type": "markdown",
   "metadata": {},
   "source": [
    "## 1주일 동안 새로 진입한 곡 추출"
   ]
  },
  {
   "cell_type": "code",
   "execution_count": 34,
   "metadata": {},
   "outputs": [
    {
     "name": "stdout",
     "output_type": "stream",
     "text": [
      "[ky]2022-05-09_2022-05-15_pop_df.xlsx 출력완료.\n",
      "[tj]2022-05-09_2022-05-15_pop_df.xlsx 출력완료.\n"
     ]
    }
   ],
   "source": [
    "site_list = ['ky', 'tj']\n",
    "for site_name in site_list:\n",
    "    # 실시간 순위 파일 폴더로 이동\n",
    "    live_folder = f'/crawled_data/live_{site_name}/'\n",
    "    try:\n",
    "        os.chdir(code_path + live_folder)\n",
    "    except:\n",
    "        pass\n",
    "    file_list = os.listdir()\n",
    "\n",
    "    # 수집한 파일 모두 합치기\n",
    "    total_df = pd.DataFrame()\n",
    "    for one in file_list:\n",
    "        temp = pd.read_excel(one)\n",
    "        total_df = pd.concat([total_df, temp], ignore_index=True)\n",
    "    total_df['날짜'] = total_df['날짜'].astype(str)\n",
    "\n",
    "    before_df = total_df[ (total_df['날짜'] >= start_date) & (total_df['날짜'] <= end_date)].reset_index(drop=True)\n",
    "    new_df = total_df[ (total_df['날짜'] >= new_start_date) & (total_df['날짜'] <= new_end_date)].reset_index(drop=True)\n",
    "    # 전주 노래 목록\n",
    "    title_list = before_df['곡'].unique()\n",
    "    # 이번주 새로 진입한 곡 추출\n",
    "    pop_title_list = []\n",
    "    pop_artist_list = []\n",
    "    pop_date_df = pd.DataFrame()\n",
    "    for new_one_date in new_dates_df:\n",
    "        new_date_df = total_df[total_df['날짜'] == new_one_date].reset_index(drop=True)\n",
    "\n",
    "        for i in range(new_date_df.shape[0]):\n",
    "            one_title = new_date_df['곡'][i]\n",
    "            one_artist = new_date_df['가수'][i]\n",
    "            if one_title not in title_list:\n",
    "                pop_title_list.append(one_title)\n",
    "                pop_artist_list.append(one_artist)\n",
    "\n",
    "        for two_title, two_artist in zip(pop_title_list, pop_artist_list):\n",
    "            temp = new_df[ (new_df['곡'] == two_title) & (new_df['가수'] == two_artist)]\n",
    "            pop_date_df = pd.concat([pop_date_df, temp], ignore_index=True)\n",
    "            pop_date_df = pop_date_df.drop_duplicates(['날짜', '곡', '가수'], ignore_index=True)\n",
    "    \n",
    "    pop_df = pop_date_df.drop_duplicates(['곡', '가수']).reset_index(drop=True)\n",
    "    pop_df = pop_df[['날짜', '순위', '곡', '가수', '사이트']]\n",
    "\n",
    "     # 파일 저장\n",
    "    save_folder = f'/crawled_data/outlier_data/{new_start_date}_{new_end_date}/{site_name}/'\n",
    "    path = code_path + save_folder\n",
    "    os.makedirs(path, exist_ok=True)\n",
    "    file_name = f'[{site_name}]{new_start_date}_{new_end_date}_pop_df.xlsx'\n",
    "    pop_df.to_excel(path + file_name, index=False, encoding='utf-8')\n",
    "    print(f'{file_name} 출력완료.')"
   ]
  },
  {
   "cell_type": "markdown",
   "metadata": {},
   "source": [
    "# 코드 마지막"
   ]
  }
 ],
 "metadata": {
  "interpreter": {
   "hash": "9324a04c706a6b31eba7a0651aa7242016688d8fadcdb700b6e4a7f0e3e7d10a"
  },
  "kernelspec": {
   "display_name": "Python 3.9.7 ('base')",
   "language": "python",
   "name": "python3"
  },
  "language_info": {
   "codemirror_mode": {
    "name": "ipython",
    "version": 3
   },
   "file_extension": ".py",
   "mimetype": "text/x-python",
   "name": "python",
   "nbconvert_exporter": "python",
   "pygments_lexer": "ipython3",
   "version": "3.9.7"
  },
  "orig_nbformat": 4
 },
 "nbformat": 4,
 "nbformat_minor": 2
}
