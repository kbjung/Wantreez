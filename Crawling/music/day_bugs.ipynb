{
 "cells": [
  {
   "cell_type": "markdown",
   "metadata": {},
   "source": [
    "# 1-3월 일간 Bugs"
   ]
  },
  {
   "cell_type": "markdown",
   "metadata": {},
   "source": [
    "## 라이브러리"
   ]
  },
  {
   "cell_type": "code",
   "execution_count": 1,
   "metadata": {},
   "outputs": [],
   "source": [
    "import requests\n",
    "from bs4 import BeautifulSoup as  bs\n",
    "import os, time, random\n",
    "import pandas as pd"
   ]
  },
  {
   "cell_type": "markdown",
   "metadata": {},
   "source": [
    "## 준비"
   ]
  },
  {
   "cell_type": "markdown",
   "metadata": {},
   "source": [
    "### 코드 파일 위치"
   ]
  },
  {
   "cell_type": "code",
   "execution_count": 2,
   "metadata": {},
   "outputs": [
    {
     "data": {
      "text/plain": [
       "'c:/data/Wantreez/Crawling/music'"
      ]
     },
     "execution_count": 2,
     "metadata": {},
     "output_type": "execute_result"
    }
   ],
   "source": [
    "# 코드 파일 위치\n",
    "code_path = os.getcwd().replace('\\\\', '/')\n",
    "code_path"
   ]
  },
  {
   "cell_type": "code",
   "execution_count": 3,
   "metadata": {},
   "outputs": [],
   "source": [
    "# 폴더 생성\n",
    "crawled_folder_path = code_path + '/crawled_data/day_bugs/'\n",
    "os.makedirs(crawled_folder_path, exist_ok=True)"
   ]
  },
  {
   "cell_type": "markdown",
   "metadata": {},
   "source": [
    "## 함수"
   ]
  },
  {
   "cell_type": "code",
   "execution_count": 4,
   "metadata": {},
   "outputs": [],
   "source": [
    "def day_crawling():\n",
    "    # 날짜 생성\n",
    "    dates = pd.date_range('2022-01-01', '2022-03-31').to_list()\n",
    "    date_list = []\n",
    "    for date in dates:\n",
    "        temp = str(date).split(' ')[0].replace('-', '')\n",
    "        date_list.append(temp)\n",
    "\n",
    "    # 링크 생성\n",
    "    link_list = []\n",
    "    for date in date_list:\n",
    "        temp = f'https://music.bugs.co.kr/chart/track/day/total?chartdate={date}'\n",
    "        link_list.append(temp)\n",
    "\n",
    "    # 순위에 기록할 날짜\n",
    "    rank_date_list = []\n",
    "    for date in dates:\n",
    "        temp = str(date).split(' ')[0]\n",
    "        rank_date_list.append(temp)\n",
    "    \n",
    "    for i in range(len(link_list)):\n",
    "        # 페이지 접속\n",
    "        url = link_list[i]\n",
    "        headers = {'User-Agent' : 'Mozilla/5.0 (Macintosh; Intel Mac OS X 10_14_4) AppleWebKit/537.36 (KHTML, like Gecko) Chrome/79.0.3945.117 Safari/537.36'}\n",
    "        data = requests.get(url, headers=headers)\n",
    "        time.sleep( random.uniform(0.5, 1) )\n",
    "        \n",
    "        # 수프에 담기\n",
    "        soup = bs(data.text, 'lxml')\n",
    "        tr_soup = soup.find('tbody').find_all('tr')\n",
    "\n",
    "        # 날짜\n",
    "        repeat_rank_date_list = []\n",
    "        for j in range(100):\n",
    "            repeat_rank_date_list.append(rank_date_list[i])\n",
    "        \n",
    "        # rank\n",
    "        rank_list = []\n",
    "        for k in range(1, 101):\n",
    "            rank_list.append(k)\n",
    "\n",
    "        # song_title\n",
    "        song_title_list = []\n",
    "        for one in tr_soup:\n",
    "            song_title = one.find('p', 'title').text.strip()\n",
    "            song_title_list.append(song_title)\n",
    "\n",
    "        # artist\n",
    "        artist_list = []\n",
    "        for one in tr_soup:\n",
    "            artist = one.find('p', 'artist').text.strip()\n",
    "            artist_list.append(artist)\n",
    "\n",
    "        # album\n",
    "        album_list = []\n",
    "        for one in tr_soup:\n",
    "            album = one.find('a', 'album').text\n",
    "            album_list.append(album)\n",
    "\n",
    "        # df\n",
    "        dict = {'날짜':repeat_rank_date_list, '순위':rank_list, '곡':song_title_list, '가수':artist_list, '앨범':album_list}\n",
    "        df = pd.DataFrame(dict) \n",
    "\n",
    "        # 파일 생성\n",
    "        date = date_list[i]\n",
    "        file_name = 'day_bugs_' + date + '.xlsx'\n",
    "        df.to_excel(crawled_folder_path + file_name, index=False, encoding='utf-8')\n",
    "\n",
    "        print(f\"{file_name} 파일 생성 완료\")"
   ]
  },
  {
   "cell_type": "code",
   "execution_count": 5,
   "metadata": {},
   "outputs": [
    {
     "name": "stdout",
     "output_type": "stream",
     "text": [
      "day_bugs_20220101.xlsx 파일 생성 완료\n",
      "day_bugs_20220102.xlsx 파일 생성 완료\n",
      "day_bugs_20220103.xlsx 파일 생성 완료\n",
      "day_bugs_20220104.xlsx 파일 생성 완료\n",
      "day_bugs_20220105.xlsx 파일 생성 완료\n",
      "day_bugs_20220106.xlsx 파일 생성 완료\n",
      "day_bugs_20220107.xlsx 파일 생성 완료\n",
      "day_bugs_20220108.xlsx 파일 생성 완료\n",
      "day_bugs_20220109.xlsx 파일 생성 완료\n",
      "day_bugs_20220110.xlsx 파일 생성 완료\n",
      "day_bugs_20220111.xlsx 파일 생성 완료\n",
      "day_bugs_20220112.xlsx 파일 생성 완료\n",
      "day_bugs_20220113.xlsx 파일 생성 완료\n",
      "day_bugs_20220114.xlsx 파일 생성 완료\n",
      "day_bugs_20220115.xlsx 파일 생성 완료\n",
      "day_bugs_20220116.xlsx 파일 생성 완료\n",
      "day_bugs_20220117.xlsx 파일 생성 완료\n",
      "day_bugs_20220118.xlsx 파일 생성 완료\n",
      "day_bugs_20220119.xlsx 파일 생성 완료\n",
      "day_bugs_20220120.xlsx 파일 생성 완료\n",
      "day_bugs_20220121.xlsx 파일 생성 완료\n",
      "day_bugs_20220122.xlsx 파일 생성 완료\n",
      "day_bugs_20220123.xlsx 파일 생성 완료\n",
      "day_bugs_20220124.xlsx 파일 생성 완료\n",
      "day_bugs_20220125.xlsx 파일 생성 완료\n",
      "day_bugs_20220126.xlsx 파일 생성 완료\n",
      "day_bugs_20220127.xlsx 파일 생성 완료\n",
      "day_bugs_20220128.xlsx 파일 생성 완료\n",
      "day_bugs_20220129.xlsx 파일 생성 완료\n",
      "day_bugs_20220130.xlsx 파일 생성 완료\n",
      "day_bugs_20220131.xlsx 파일 생성 완료\n",
      "day_bugs_20220201.xlsx 파일 생성 완료\n",
      "day_bugs_20220202.xlsx 파일 생성 완료\n",
      "day_bugs_20220203.xlsx 파일 생성 완료\n",
      "day_bugs_20220204.xlsx 파일 생성 완료\n",
      "day_bugs_20220205.xlsx 파일 생성 완료\n",
      "day_bugs_20220206.xlsx 파일 생성 완료\n",
      "day_bugs_20220207.xlsx 파일 생성 완료\n",
      "day_bugs_20220208.xlsx 파일 생성 완료\n",
      "day_bugs_20220209.xlsx 파일 생성 완료\n",
      "day_bugs_20220210.xlsx 파일 생성 완료\n",
      "day_bugs_20220211.xlsx 파일 생성 완료\n",
      "day_bugs_20220212.xlsx 파일 생성 완료\n",
      "day_bugs_20220213.xlsx 파일 생성 완료\n",
      "day_bugs_20220214.xlsx 파일 생성 완료\n",
      "day_bugs_20220215.xlsx 파일 생성 완료\n",
      "day_bugs_20220216.xlsx 파일 생성 완료\n",
      "day_bugs_20220217.xlsx 파일 생성 완료\n",
      "day_bugs_20220218.xlsx 파일 생성 완료\n",
      "day_bugs_20220219.xlsx 파일 생성 완료\n",
      "day_bugs_20220220.xlsx 파일 생성 완료\n",
      "day_bugs_20220221.xlsx 파일 생성 완료\n",
      "day_bugs_20220222.xlsx 파일 생성 완료\n",
      "day_bugs_20220223.xlsx 파일 생성 완료\n",
      "day_bugs_20220224.xlsx 파일 생성 완료\n",
      "day_bugs_20220225.xlsx 파일 생성 완료\n",
      "day_bugs_20220226.xlsx 파일 생성 완료\n",
      "day_bugs_20220227.xlsx 파일 생성 완료\n",
      "day_bugs_20220228.xlsx 파일 생성 완료\n",
      "day_bugs_20220301.xlsx 파일 생성 완료\n",
      "day_bugs_20220302.xlsx 파일 생성 완료\n",
      "day_bugs_20220303.xlsx 파일 생성 완료\n",
      "day_bugs_20220304.xlsx 파일 생성 완료\n",
      "day_bugs_20220305.xlsx 파일 생성 완료\n",
      "day_bugs_20220306.xlsx 파일 생성 완료\n",
      "day_bugs_20220307.xlsx 파일 생성 완료\n",
      "day_bugs_20220308.xlsx 파일 생성 완료\n",
      "day_bugs_20220309.xlsx 파일 생성 완료\n",
      "day_bugs_20220310.xlsx 파일 생성 완료\n",
      "day_bugs_20220311.xlsx 파일 생성 완료\n",
      "day_bugs_20220312.xlsx 파일 생성 완료\n",
      "day_bugs_20220313.xlsx 파일 생성 완료\n",
      "day_bugs_20220314.xlsx 파일 생성 완료\n",
      "day_bugs_20220315.xlsx 파일 생성 완료\n",
      "day_bugs_20220316.xlsx 파일 생성 완료\n",
      "day_bugs_20220317.xlsx 파일 생성 완료\n",
      "day_bugs_20220318.xlsx 파일 생성 완료\n",
      "day_bugs_20220319.xlsx 파일 생성 완료\n",
      "day_bugs_20220320.xlsx 파일 생성 완료\n",
      "day_bugs_20220321.xlsx 파일 생성 완료\n",
      "day_bugs_20220322.xlsx 파일 생성 완료\n",
      "day_bugs_20220323.xlsx 파일 생성 완료\n",
      "day_bugs_20220324.xlsx 파일 생성 완료\n",
      "day_bugs_20220325.xlsx 파일 생성 완료\n",
      "day_bugs_20220326.xlsx 파일 생성 완료\n",
      "day_bugs_20220327.xlsx 파일 생성 완료\n",
      "day_bugs_20220328.xlsx 파일 생성 완료\n",
      "day_bugs_20220329.xlsx 파일 생성 완료\n",
      "day_bugs_20220330.xlsx 파일 생성 완료\n",
      "day_bugs_20220331.xlsx 파일 생성 완료\n"
     ]
    }
   ],
   "source": [
    "day_crawling()"
   ]
  },
  {
   "cell_type": "markdown",
   "metadata": {},
   "source": [
    "# 코드 마지막"
   ]
  }
 ],
 "metadata": {
  "interpreter": {
   "hash": "b3ba2566441a7c06988d0923437866b63cedc61552a5af99d1f4fb67d367b25f"
  },
  "kernelspec": {
   "display_name": "Python 3.9.7 ('base')",
   "language": "python",
   "name": "python3"
  },
  "language_info": {
   "codemirror_mode": {
    "name": "ipython",
    "version": 3
   },
   "file_extension": ".py",
   "mimetype": "text/x-python",
   "name": "python",
   "nbconvert_exporter": "python",
   "pygments_lexer": "ipython3",
   "version": "3.9.7"
  },
  "orig_nbformat": 4
 },
 "nbformat": 4,
 "nbformat_minor": 2
}
