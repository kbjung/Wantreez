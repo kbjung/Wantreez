{
 "cells": [
  {
   "cell_type": "code",
   "execution_count": 2,
   "metadata": {},
   "outputs": [],
   "source": [
    "import os\n",
    "import numpy as np\n",
    "import pandas as pd\n",
    "import matplotlib.pyplot as plt\n",
    "import matplotlib as mpl\n",
    "import matplotlib\n",
    "import math\n",
    "\n",
    "import platform\n",
    "from matplotlib import font_manager, rc\n",
    "matplotlib.rcParams['axes.unicode_minus'] = False # 그래프에서 음수 표현 가능하도록 설정.\n",
    "\n",
    "from selenium import webdriver\n",
    "from selenium.webdriver.common.keys import Keys\n",
    "from bs4 import BeautifulSoup as bs\n",
    "import time, random, schedule, ctypes, os\n",
    "from datetime import datetime\n",
    "import requests\n",
    "\n",
    "from pathlib import Path\n",
    "import shutil"
   ]
  },
  {
   "cell_type": "code",
   "execution_count": 3,
   "metadata": {},
   "outputs": [],
   "source": [
    "# 한글 폰트 지정\n",
    "path = \"C:/Windows/Fonts/malgun.ttf\"\n",
    "if platform.system() == \"Windows\":\n",
    "    font_name = font_manager.FontProperties(fname=path).get_name()\n",
    "    rc('font', family=font_name)\n",
    "elif platform.system()==\"Darwin\":\n",
    "    rc('font', family='AppleGothic')\n",
    "else:\n",
    "    print(\"Unknown System\")"
   ]
  },
  {
   "cell_type": "code",
   "execution_count": 8,
   "metadata": {},
   "outputs": [],
   "source": [
    "import chromedriver_autoinstaller as ca"
   ]
  },
  {
   "cell_type": "code",
   "execution_count": 6,
   "metadata": {},
   "outputs": [],
   "source": [
    "path = 'C:/data/Wantreez/Crawling/music/crawled_data/outlier_data/2022-05-02_2022-05-08/'\n",
    "file_name = '20220502_20220508_outliers.xlsx'\n",
    "file_path = path + file_name\n",
    "df = pd.read_excel(file_path)"
   ]
  },
  {
   "cell_type": "code",
   "execution_count": 7,
   "metadata": {},
   "outputs": [
    {
     "name": "stdout",
     "output_type": "stream",
     "text": [
      "<class 'pandas.core.frame.DataFrame'>\n",
      "RangeIndex: 60 entries, 0 to 59\n",
      "Data columns (total 10 columns):\n",
      " #   Column      Non-Null Count  Dtype  \n",
      "---  ------      --------------  -----  \n",
      " 0   날짜          60 non-null     object \n",
      " 1   사이트         60 non-null     object \n",
      " 2   순위          43 non-null     float64\n",
      " 3   곡           60 non-null     object \n",
      " 4   가수          60 non-null     object \n",
      " 5   앨범          60 non-null     object \n",
      " 6   소속사         60 non-null     object \n",
      " 7   소속사_분류      60 non-null     object \n",
      " 8   순위변동        43 non-null     float64\n",
      " 9   순위변동평균(양수)  60 non-null     float64\n",
      "dtypes: float64(3), object(7)\n",
      "memory usage: 4.8+ KB\n"
     ]
    }
   ],
   "source": [
    "df.info()"
   ]
  },
  {
   "cell_type": "code",
   "execution_count": 10,
   "metadata": {},
   "outputs": [
    {
     "data": {
      "text/plain": [
       "39"
      ]
     },
     "execution_count": 10,
     "metadata": {},
     "output_type": "execute_result"
    }
   ],
   "source": [
    "len(df['곡'].unique())"
   ]
  },
  {
   "cell_type": "code",
   "execution_count": 11,
   "metadata": {},
   "outputs": [
    {
     "data": {
      "text/plain": [
       "(39, 6)"
      ]
     },
     "execution_count": 11,
     "metadata": {},
     "output_type": "execute_result"
    }
   ],
   "source": [
    "df.shape"
   ]
  },
  {
   "cell_type": "code",
   "execution_count": 12,
   "metadata": {},
   "outputs": [
    {
     "data": {
      "text/plain": [
       "(39, 6)"
      ]
     },
     "execution_count": 12,
     "metadata": {},
     "output_type": "execute_result"
    }
   ],
   "source": [
    "# 곡 중에서 괄호, ? 제거\n",
    "# ?는 파일명으로 할 수 없음\n",
    "df['곡'] = df['곡'].apply(lambda x: x.split('(')[0].strip())\n",
    "df['곡'] = df['곡'].apply(lambda x: x.replace('?', ''))\n",
    "df.shape"
   ]
  },
  {
   "cell_type": "markdown",
   "metadata": {},
   "source": [
    "## 네이버 데이터랩 크롤링 함수 만들기"
   ]
  },
  {
   "cell_type": "code",
   "execution_count": 12,
   "metadata": {},
   "outputs": [
    {
     "name": "stderr",
     "output_type": "stream",
     "text": [
      "C:\\Users\\kbjung\\AppData\\Local\\Temp/ipykernel_11880/1618147306.py:24: DeprecationWarning: find_element_by_xpath is deprecated. Please use find_element(by=By.XPATH, value=xpath) instead\n",
      "  do_click = driver.find_element_by_xpath('//*[@id=\"item_keyword1\"]')\n",
      "C:\\Users\\kbjung\\AppData\\Local\\Temp/ipykernel_11880/1618147306.py:29: DeprecationWarning: find_element_by_xpath is deprecated. Please use find_element(by=By.XPATH, value=xpath) instead\n",
      "  driver.find_element_by_xpath('//*[@id=\"content\"]/div/div[2]/div[1]/div/form/fieldset/div/div[6]/div[1]/label[3]').click()\n",
      "C:\\Users\\kbjung\\AppData\\Local\\Temp/ipykernel_11880/1618147306.py:32: DeprecationWarning: find_element_by_xpath is deprecated. Please use find_element(by=By.XPATH, value=xpath) instead\n",
      "  driver.find_element_by_xpath('//*[@id=\"content\"]/div/div[2]/div[1]/div/form/fieldset/a/span').click()\n",
      "C:\\Users\\kbjung\\AppData\\Local\\Temp/ipykernel_11880/1618147306.py:39: DeprecationWarning: find_element_by_xpath is deprecated. Please use find_element(by=By.XPATH, value=xpath) instead\n",
      "  do_click = driver.find_element_by_xpath('//*[@id=\"item_keyword1\"]')\n",
      "C:\\Users\\kbjung\\AppData\\Local\\Temp/ipykernel_11880/1618147306.py:46: DeprecationWarning: find_element_by_xpath is deprecated. Please use find_element(by=By.XPATH, value=xpath) instead\n",
      "  do_click = driver.find_element_by_xpath('//*[@id=\"item_sub_keyword1_1\"]')\n",
      "C:\\Users\\kbjung\\AppData\\Local\\Temp/ipykernel_11880/1618147306.py:51: DeprecationWarning: find_element_by_xpath is deprecated. Please use find_element(by=By.XPATH, value=xpath) instead\n",
      "  driver.find_element_by_xpath('//*[@id=\"content\"]/div[1]/div[1]/div[2]/div[2]/form/fieldset/div/div[6]/div[1]/label[3]').click()\n",
      "C:\\Users\\kbjung\\AppData\\Local\\Temp/ipykernel_11880/1618147306.py:54: DeprecationWarning: find_element_by_xpath is deprecated. Please use find_element(by=By.XPATH, value=xpath) instead\n",
      "  driver.find_element_by_xpath('//*[@id=\"content\"]/div[1]/div[1]/div[2]/div[2]/form/fieldset/a').click()\n",
      "C:\\Users\\kbjung\\AppData\\Local\\Temp/ipykernel_11880/1618147306.py:59: DeprecationWarning: find_element_by_xpath is deprecated. Please use find_element(by=By.XPATH, value=xpath) instead\n",
      "  driver.find_element_by_xpath('//*[@id=\"content\"]/div[1]/div[1]/div[1]/div/div/div/div/div/div[1]/div[4]/a').click()\n"
     ]
    }
   ],
   "source": [
    "ca.install(True)\n",
    "url = 'https://datalab.naver.com/keyword/trendSearch.naver'\n",
    "driver = webdriver.Chrome()\n",
    "driver.maximize_window()\n",
    "driver.get(url)\n",
    "\n",
    "driver.implicitly_wait(2)\n",
    "time.sleep(random.uniform(1, 2))\n",
    "\n",
    "# 작업 경로 변경\n",
    "try:\n",
    "    os.chdir('C:/Users/kbjung/Downloads')\n",
    "except:\n",
    "    pass\n",
    "# 다운로드 폴더 안에 파일 수집할 폴더 만들기\n",
    "scrapped_date = datetime.now().strftime('%Y%m%d')\n",
    "dir_path = os.getcwd().replace('\\\\', '/')\n",
    "os.makedirs(f'outliers_datalab_{scrapped_date}', exist_ok=True)\n",
    "\n",
    "def datalab_crawling(df):\n",
    "    \n",
    "    # 주제어1 버튼 활성화\n",
    "    bs(driver.page_source, 'lxml')\n",
    "    do_click = driver.find_element_by_xpath('//*[@id=\"item_keyword1\"]')\n",
    "    # 검색어 입력\n",
    "    do_click.send_keys('테스트')\n",
    "\n",
    "    # 기간설정 3개월\n",
    "    driver.find_element_by_xpath('//*[@id=\"content\"]/div/div[2]/div[1]/div/form/fieldset/div/div[6]/div[1]/label[3]').click()\n",
    "\n",
    "    # 검색버튼 클릭 첫번째랑 두번째랑 경로가 다름\n",
    "    driver.find_element_by_xpath('//*[@id=\"content\"]/div/div[2]/div[1]/div/form/fieldset/a/span').click()\n",
    "    driver.implicitly_wait(2)\n",
    "    time.sleep(random.uniform(1, 2))\n",
    "    \n",
    "    for a in range(df.shape[0]):\n",
    "        # 주제어1 버튼 활성화\n",
    "        bs(driver.page_source, 'lxml')\n",
    "        do_click = driver.find_element_by_xpath('//*[@id=\"item_keyword1\"]')\n",
    "        # 텍스트 지우기\n",
    "        do_click.clear()\n",
    "        # 검색어 입력\n",
    "        do_click.send_keys(df['곡'].iloc[a])\n",
    "\n",
    "        # 주제어1 서브키워드 지우기\n",
    "        do_click = driver.find_element_by_xpath('//*[@id=\"item_sub_keyword1_1\"]')\n",
    "        do_click.clear()\n",
    "        driver.implicitly_wait(2)\n",
    "\n",
    "        # 기간설정 3개월\n",
    "        driver.find_element_by_xpath('//*[@id=\"content\"]/div[1]/div[1]/div[2]/div[2]/form/fieldset/div/div[6]/div[1]/label[3]').click()\n",
    "\n",
    "        # 검색버튼 클릭     \n",
    "        driver.find_element_by_xpath('//*[@id=\"content\"]/div[1]/div[1]/div[2]/div[2]/form/fieldset/a').click()\n",
    "        driver.implicitly_wait(2)\n",
    "        time.sleep(random.uniform(1, 2))\n",
    "\n",
    "        # 엑셀 다운로드 버튼 클릭\n",
    "        driver.find_element_by_xpath('//*[@id=\"content\"]/div[1]/div[1]/div[1]/div/div/div/div/div/div[1]/div[4]/a').click()\n",
    "        driver.implicitly_wait(2)\n",
    "        time.sleep(random.uniform(4, 5))\n",
    "        \n",
    "        ## 다운로드한 파일 설정\n",
    "        # 작업 경로 변경\n",
    "        try:\n",
    "            os.chdir('C:/Users/kbjung/Downloads')\n",
    "        except:\n",
    "            pass\n",
    "        # 폴더 만들기\n",
    "        dir_path = os.getcwd().replace('\\\\', '/')\n",
    "\n",
    "        # 똑같은 이름의 파일이 있으면 FileExistsError남\n",
    "        try:\n",
    "            # 파일 이름 바꾸기 datalab -> target_df의 곡 이름\n",
    "            old_name = os.path.join(dir_path, 'datalab.xlsx')\n",
    "            new_name = os.path.join(dir_path, df['곡'].iloc[a]+'.xlsx')\n",
    "            os.rename(old_name, new_name)\n",
    "        except:\n",
    "            pass\n",
    "        \n",
    "        # 이름 바꾼 파일 outliers_datalab 폴더에 넣어주기\n",
    "        file_source = os.path.join(dir_path, f\"{df['곡'].iloc[a]+'.xlsx'}\")\n",
    "        file_destination = os.path.join(dir_path, f'outliers_datalab_{scrapped_date}')\n",
    "        try:\n",
    "            shutil.move(file_source, file_destination)\n",
    "        except:\n",
    "            pass\n",
    "        \n",
    "        time.sleep(random.uniform(10, 11))\n",
    "        \n",
    "    # 다운로드 폴더 파일 엑셀 모여있는 폴더로 옮기기\n",
    "    file_source = os.path.join(dir_path, f\"outliers_datalab_{scrapped_date}\")\n",
    "    file_destination = path\n",
    "    try:\n",
    "        shutil.move(file_source, file_destination)\n",
    "    except:\n",
    "        pass\n",
    "        \n",
    "datalab_crawling(df)"
   ]
  },
  {
   "cell_type": "code",
   "execution_count": null,
   "metadata": {},
   "outputs": [],
   "source": []
  }
 ],
 "metadata": {
  "interpreter": {
   "hash": "b3ba2566441a7c06988d0923437866b63cedc61552a5af99d1f4fb67d367b25f"
  },
  "kernelspec": {
   "display_name": "Python 3.9.7 ('base')",
   "language": "python",
   "name": "python3"
  },
  "language_info": {
   "codemirror_mode": {
    "name": "ipython",
    "version": 3
   },
   "file_extension": ".py",
   "mimetype": "text/x-python",
   "name": "python",
   "nbconvert_exporter": "python",
   "pygments_lexer": "ipython3",
   "version": "3.9.7"
  },
  "orig_nbformat": 4
 },
 "nbformat": 4,
 "nbformat_minor": 2
}
