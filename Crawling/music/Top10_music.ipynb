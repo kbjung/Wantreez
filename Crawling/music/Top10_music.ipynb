{
 "cells": [
  {
   "cell_type": "markdown",
   "metadata": {},
   "source": [
    "# 10위권 음원의 전주와 이번주 순위 평균 비교"
   ]
  },
  {
   "cell_type": "markdown",
   "metadata": {},
   "source": [
    "## 라이브러리"
   ]
  },
  {
   "cell_type": "code",
   "execution_count": 9,
   "metadata": {},
   "outputs": [],
   "source": [
    "import pandas as pd\n",
    "import os"
   ]
  },
  {
   "cell_type": "code",
   "execution_count": 15,
   "metadata": {},
   "outputs": [],
   "source": [
    "# f_path = 'c:/data/Wantreez/Crawling/music'\n",
    "# try:\n",
    "#     os.chdir(f_path)\n",
    "# except:\n",
    "#     pass"
   ]
  },
  {
   "cell_type": "code",
   "execution_count": 16,
   "metadata": {},
   "outputs": [
    {
     "data": {
      "text/plain": [
       "'c:/data/Wantreez/Crawling/music'"
      ]
     },
     "execution_count": 16,
     "metadata": {},
     "output_type": "execute_result"
    }
   ],
   "source": [
    "code_path = os.getcwd().replace('\\\\', '/')\n",
    "code_path"
   ]
  },
  {
   "cell_type": "code",
   "execution_count": 17,
   "metadata": {},
   "outputs": [],
   "source": [
    "# 전 주 파일 날짜(일주일)\n",
    "start_date = '2022-04-25'\n",
    "end_date = '2022-05-01'"
   ]
  },
  {
   "cell_type": "code",
   "execution_count": 18,
   "metadata": {},
   "outputs": [],
   "source": [
    "# 비교할 파일 날짜(일주일)\n",
    "new_start_date = '2022-05-02'\n",
    "new_end_date = '2022-05-08'\n",
    "new_dates_df = pd.date_range(new_start_date, new_end_date).astype(str)"
   ]
  },
  {
   "cell_type": "code",
   "execution_count": 19,
   "metadata": {},
   "outputs": [
    {
     "name": "stdout",
     "output_type": "stream",
     "text": [
      "2022-05-02_2022-05-08_Top10_rank_change_df.xlsx 출력완료.\n"
     ]
    }
   ],
   "source": [
    "# 음원 사이트\n",
    "site_list = ['flo', 'bugs', 'genie', 'melon', 'vibe']\n",
    "top10_df = pd.DataFrame()\n",
    "for site_name in site_list:\n",
    "    folder_path = f'/crawled_data/mod_{site_name}/'\n",
    "    path = code_path + folder_path\n",
    "    try:\n",
    "        os.chdir(path)\n",
    "    except:\n",
    "        pass\n",
    "\n",
    "    # 파일 이름들\n",
    "    file_list = os.listdir()\n",
    "\n",
    "    # 전체 df 생성\n",
    "    total_df = pd.DataFrame()\n",
    "    for one in file_list:\n",
    "        temp = pd.read_excel(one)\n",
    "        total_df = pd.concat([total_df, temp], ignore_index=True)\n",
    "    total_df['날짜'] = total_df['날짜'].astype(str)\n",
    "\n",
    "    # 전주, 이번주 df\n",
    "    before_df = total_df[ (total_df['날짜'] >= start_date) & (total_df['날짜'] <= end_date)].reset_index(drop=True)\n",
    "    new_df = total_df[ (total_df['날짜'] >= new_start_date) & (total_df['날짜'] <= new_end_date)].reset_index(drop=True)\n",
    "\n",
    "    # 전주, 이번주 Top10 df\n",
    "    before_top10_df = before_df[before_df['순위'] <= 10].reset_index(drop=True)\n",
    "    current_top10_df = new_df[new_df['순위'] <= 10].reset_index(drop=True)\n",
    "    # 전주 Top10 음원들의 순위 평균\n",
    "    mean_before_top10_df = before_top10_df.groupby(['사이트', '곡', '가수']).agg('mean').reset_index()\n",
    "    mean_before_top10_df['순위'] = round(mean_before_top10_df['순위'], 1)\n",
    "    mean_before_top10_df.columns = ['사이트', '곡', '가수', '과거순위평균']\n",
    "\n",
    "    # 이번주 Top10 음원들의 순위 평균\n",
    "    mean_current_top10_df = current_top10_df.groupby(['사이트', '곡', '가수']).agg('mean').reset_index()\n",
    "    mean_current_top10_df['순위'] = round(mean_current_top10_df['순위'], 1)\n",
    "    mean_current_top10_df.columns = ['사이트', '곡', '가수', '현재순위평균']\n",
    "\n",
    "    # 전주, 이번주 Top10 df 병합\n",
    "    bvsc_df = pd.merge(mean_before_top10_df, mean_current_top10_df, on=['곡', '가수'], how='inner')\n",
    "    bvsc_df = bvsc_df.drop('사이트_y', axis=1)\n",
    "    bvsc_df = bvsc_df.rename(columns={'사이트_x':'사이트'})\n",
    "    \n",
    "    # 전주 대비 상승폭\n",
    "    bvsc_df['전주 대비 상승폭'] = bvsc_df['현재순위평균'] - bvsc_df['과거순위평균']\n",
    "    bvsc_df = bvsc_df[['현재순위평균', '곡', '가수', '전주 대비 상승폭', '사이트', '과거순위평균']]\n",
    "    top10_df = pd.concat([top10_df, bvsc_df])\n",
    "    \n",
    "# 파일 저장\n",
    "save_folder = f'/crawled_data/outlier_data/{new_start_date}_{new_end_date}/'\n",
    "path = code_path + save_folder\n",
    "file_name = f'{new_start_date}_{new_end_date}_Top10_rank_change_df.xlsx'\n",
    "top10_df.to_excel(path + file_name, index=False, encoding='utf-8')\n",
    "print(f'{file_name} 출력완료.')"
   ]
  },
  {
   "cell_type": "markdown",
   "metadata": {},
   "source": [
    "# 코드 마지막"
   ]
  }
 ],
 "metadata": {
  "interpreter": {
   "hash": "1211d915b9c22983318fbeda606c6449e9f6b5be6ff051b633f29f92a3fc6df4"
  },
  "kernelspec": {
   "display_name": "Python 3.8.8 ('base')",
   "language": "python",
   "name": "python3"
  },
  "language_info": {
   "codemirror_mode": {
    "name": "ipython",
    "version": 3
   },
   "file_extension": ".py",
   "mimetype": "text/x-python",
   "name": "python",
   "nbconvert_exporter": "python",
   "pygments_lexer": "ipython3",
   "version": "3.9.7"
  },
  "orig_nbformat": 4
 },
 "nbformat": 4,
 "nbformat_minor": 2
}
