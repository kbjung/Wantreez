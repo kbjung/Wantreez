{
 "cells": [
  {
   "cell_type": "code",
   "execution_count": 2,
   "metadata": {},
   "outputs": [],
   "source": [
    "from bs4 import BeautifulSoup as bs\n",
    "import time\n",
    "from selenium import webdriver\n",
    "from selenium.webdriver.common.keys import Keys"
   ]
  },
  {
   "cell_type": "code",
   "execution_count": 3,
   "metadata": {},
   "outputs": [],
   "source": [
    "url = 'https://www.instagram.com/gyeonggi_korea/'\n",
    "page_down_num = 3"
   ]
  },
  {
   "cell_type": "code",
   "execution_count": 12,
   "metadata": {},
   "outputs": [
    {
     "data": {
      "text/plain": [
       "<title>gyeonggi_korea(경기도)(@gyeonggi_korea) • Instagram 사진 및 동영상</title>"
      ]
     },
     "execution_count": 12,
     "metadata": {},
     "output_type": "execute_result"
    }
   ],
   "source": [
    "# webdriver 로드\n",
    "driver = webdriver.Chrome('chromedriver')\n",
    "driver.get(url)\n",
    "\n",
    "# 페이지 크롤링\n",
    "soup = bs(driver.page_source, 'lxml')\n",
    "soup.title"
   ]
  },
  {
   "cell_type": "code",
   "execution_count": 17,
   "metadata": {},
   "outputs": [
    {
     "data": {
      "text/plain": [
       "[<li class=\"Y8-fY\"><a href=\"/accounts/login/?next=%2Fgyeonggi_korea%2F&amp;source=profile_posts\" tabindex=\"0\"><div class=\"_7UhW9 vy6Bb MMzan KV-D4 uL8Hv T0kll\">게시물 <span class=\"g47SY\">774</span></div></a></li>,\n",
       " <li class=\"Y8-fY\"><a href=\"/accounts/login/?next=%2Fgyeonggi_korea%2Ffollowers%2F&amp;source=followed_by_list\" tabindex=\"0\"><div class=\"_7UhW9 vy6Bb MMzan KV-D4 uL8Hv T0kll\">팔로워 <span class=\"g47SY\" title=\"9,771\">9,771</span></div></a></li>,\n",
       " <li class=\"Y8-fY\"><a href=\"/accounts/login/?next=%2Fgyeonggi_korea%2Ffollowing%2F&amp;source=follows_list\" tabindex=\"0\"><div class=\"_7UhW9 vy6Bb MMzan KV-D4 uL8Hv T0kll\">팔로우 <span class=\"g47SY\">3,329</span></div></a></li>]"
      ]
     },
     "execution_count": 17,
     "metadata": {},
     "output_type": "execute_result"
    }
   ],
   "source": [
    "# 글 내용 크롤링\n",
    "page = soup.find_all('li', class_='Y8-fY')\n",
    "page"
   ]
  },
  {
   "cell_type": "code",
   "execution_count": 19,
   "metadata": {},
   "outputs": [
    {
     "data": {
      "text/plain": [
       "'팔로워 9,771'"
      ]
     },
     "execution_count": 19,
     "metadata": {},
     "output_type": "execute_result"
    }
   ],
   "source": [
    "page[1].text"
   ]
  },
  {
   "cell_type": "code",
   "execution_count": null,
   "metadata": {},
   "outputs": [],
   "source": []
  }
 ],
 "metadata": {
  "interpreter": {
   "hash": "513dc2e41d739bb2c947903f3c0bbf636d03aa53ab50e61c694a27481c81805e"
  },
  "kernelspec": {
   "display_name": "Python 3.8.8 ('base')",
   "language": "python",
   "name": "python3"
  },
  "language_info": {
   "codemirror_mode": {
    "name": "ipython",
    "version": 3
   },
   "file_extension": ".py",
   "mimetype": "text/x-python",
   "name": "python",
   "nbconvert_exporter": "python",
   "pygments_lexer": "ipython3",
   "version": "3.8.8"
  },
  "orig_nbformat": 4
 },
 "nbformat": 4,
 "nbformat_minor": 2
}
